{
 "cells": [
  {
   "attachments": {},
   "cell_type": "markdown",
   "metadata": {},
   "source": [
    "# Exploratory Data Analysis\n",
    "I am using this notebook to learn how gamblers behaviors are similar to those of investors.\n",
    "\n",
    "## Define Libraries"
   ]
  },
  {
   "cell_type": "code",
   "execution_count": 1,
   "metadata": {},
   "outputs": [],
   "source": [
    "import pandas as pd\n",
    "import os\n",
    "import numpy as np\n",
    "import matplotlib.pyplot as plt\n",
    "import ipywidgets as widgets\n",
    "from ipywidgets import interactive, fixed, IntSlider, HBox, Layout, VBox\n",
    "\n",
    "# Getting rid of the SettingWithCopyWarning: \n",
    "pd.options.mode.chained_assignment = None"
   ]
  },
  {
   "attachments": {},
   "cell_type": "markdown",
   "metadata": {},
   "source": [
    "## Upload Data"
   ]
  },
  {
   "cell_type": "code",
   "execution_count": 2,
   "metadata": {},
   "outputs": [
    {
     "name": "stdout",
     "output_type": "stream",
     "text": [
      "<class 'pandas.core.frame.DataFrame'>\n",
      "RangeIndex: 1520 entries, 0 to 1519\n",
      "Data columns (total 19 columns):\n",
      " #   Column                 Non-Null Count  Dtype  \n",
      "---  ------                 --------------  -----  \n",
      " 0   Treatment (D)          1520 non-null   int64  \n",
      " 1   Condition              1520 non-null   object \n",
      " 2   During/Post            1520 non-null   int64  \n",
      " 3   Subject                1520 non-null   int64  \n",
      " 4   Year                   1520 non-null   int64  \n",
      " 5   Blocks                 1520 non-null   int64  \n",
      " 6   Objective              1520 non-null   float64\n",
      " 7   PerAllo                1520 non-null   float64\n",
      " 8   Belief                 1520 non-null   float64\n",
      " 9   EAB                    1520 non-null   float64\n",
      " 10  Sex                    1520 non-null   object \n",
      " 11  Age                    1520 non-null   int64  \n",
      " 12  Status                 1520 non-null   int64  \n",
      " 13  InvExp                 1520 non-null   float64\n",
      " 14  BPay                   1520 non-null   float64\n",
      " 15  TBPay                  1520 non-null   float64\n",
      " 16  Optimistic Index (20)  1520 non-null   float64\n",
      " 17  Change in Belief       1520 non-null   float64\n",
      " 18  percent_change_EAB     1482 non-null   float64\n",
      "dtypes: float64(10), int64(7), object(2)\n",
      "memory usage: 225.8+ KB\n",
      "None\n"
     ]
    }
   ],
   "source": [
    "# Set working directory\n",
    "path = '/Users/mau/Dropbox/Mac/Documents/Dissertation/Safford2018/Data'\n",
    "os.chdir(path)\n",
    "\n",
    "# Load data into a DataFrame\n",
    "dtf = pd.read_csv('40PerSubjectData.csv', header=0, dtype={'Treatment (D)': int, 'Subject': int, 'Year': int})\n",
    "\n",
    "# Create a columm named 'percent_change' that is the perecent change of the Objective column\n",
    "dtf['percent_change_EAB'] = dtf.groupby(\"Subject\")['EAB'].pct_change()\n",
    "\n",
    "print(dtf.info())"
   ]
  },
  {
   "cell_type": "code",
   "execution_count": 3,
   "metadata": {},
   "outputs": [
    {
     "name": "stdout",
     "output_type": "stream",
     "text": [
      "[ 41  42  43  44  45  46  47  48  49  50  51  52  54  55  56  57  58  59\n",
      "  60 102 103 104 105 106 107 108 109 110 111 112 113 114 115 116 117 118\n",
      " 119 120]\n",
      "Total number of Subjects: 38\n"
     ]
    }
   ],
   "source": [
    "# Print unique values of slotdenominationname\n",
    "print(dtf['Subject'].unique())\n",
    "\n",
    "# Count number of unique players\n",
    "print(\"Total number of Subjects:\", dtf['Subject'].nunique())"
   ]
  },
  {
   "attachments": {},
   "cell_type": "markdown",
   "metadata": {},
   "source": [
    "### Change Recognition\n",
    "It is time to see which subjects increased or decreased their percent allocation in the risky assest.  \n",
    "\n",
    "* Define function to look for our desire chage.\n",
    "* We are going to be using _PerAllo_ to observe the change\n",
    "* Create a column _increase_allocation_ that is 1 everytime _PerAllo_ increases, 0 otherwise for each subject\n",
    "* Create a column _decrease_allocation_ that is 1 everytime _PerAllo_ decreases, 0 otherwise for each subject"
   ]
  },
  {
   "cell_type": "code",
   "execution_count": 4,
   "metadata": {},
   "outputs": [],
   "source": [
    "from ipynb.fs.full.functions import count_increase, count_decrease"
   ]
  },
  {
   "cell_type": "code",
   "execution_count": 5,
   "metadata": {},
   "outputs": [
    {
     "name": "stdout",
     "output_type": "stream",
     "text": [
      "Count of players who increase_allocation : 36\n",
      "Count of times each player increase_allocation : {41: 6, 42: 12, 43: 14, 44: 14, 45: 19, 46: 10, 48: 14, 49: 16, 50: 12, 51: 10, 52: 10, 54: 12, 55: 15, 56: 11, 57: 12, 58: 15, 59: 14, 60: 14, 102: 15, 103: 15, 105: 9, 106: 8, 107: 18, 108: 13, 109: 19, 110: 18, 111: 16, 112: 3, 113: 5, 114: 16, 115: 6, 116: 13, 117: 13, 118: 1, 119: 5, 120: 18}\n",
      "Player who changes the most: 45\n",
      "------------------------------------------------------------------------------------------------------------------\n",
      "Count of players who decrease_allocation : 38\n",
      "Count of times each player decrease_allocation : {41: 6, 42: 9, 43: 15, 44: 17, 45: 19, 46: 8, 47: 1, 48: 17, 49: 20, 50: 10, 51: 9, 52: 9, 54: 11, 55: 16, 56: 14, 57: 17, 58: 14, 59: 10, 60: 14, 102: 13, 103: 14, 104: 3, 105: 8, 106: 10, 107: 18, 108: 10, 109: 17, 110: 16, 111: 12, 112: 2, 113: 8, 114: 22, 115: 8, 116: 9, 117: 11, 118: 1, 119: 5, 120: 20}\n",
      "Player who changes the most: 114\n",
      "------------------------------------------------------------------------------------------------------------------\n"
     ]
    }
   ],
   "source": [
    "players_increase_allocation = count_increase(dtf, \"increase_allocation\", \"Subject\", \"PerAllo\")\n",
    "players_decrease_allocation = count_decrease(dtf, \"decrease_allocation\", \"Subject\", \"PerAllo\")"
   ]
  },
  {
   "attachments": {},
   "cell_type": "markdown",
   "metadata": {},
   "source": [
    "### Change Recognition Part 2\n",
    "\n",
    "In this section we are analazying the change of slot denominantion and maxbet when the previous returns were either positive or negative."
   ]
  },
  {
   "cell_type": "code",
   "execution_count": 6,
   "metadata": {},
   "outputs": [],
   "source": [
    "\n",
    "from ipynb.fs.full.functions import count_subjects_inc_lossing, count_subjects_inc_winning"
   ]
  },
  {
   "attachments": {},
   "cell_type": "markdown",
   "metadata": {},
   "source": [
    "Let's define the palyers who increase their slot denomination while lossing the previous sessions:"
   ]
  },
  {
   "cell_type": "code",
   "execution_count": 7,
   "metadata": {},
   "outputs": [
    {
     "name": "stdout",
     "output_type": "stream",
     "text": [
      "Count of players that increase their allocation when they were losing the previous 2 sessions: 20\n",
      "Count of times each player increases their allocation when they were losing the previous 2 sessions: {41: 1, 44: 1, 45: 2, 46: 1, 49: 1, 50: 3, 54: 1, 57: 2, 58: 2, 59: 1, 60: 1, 103: 1, 105: 2, 109: 2, 111: 2, 113: 1, 114: 4, 117: 3, 119: 1, 120: 2}\n",
      "Player who increases their allocation when they were losing the previous 2 sessions the most: 114\n",
      "------------------------------------------------------------------------------------------------------------------\n",
      "Count of players that increase their allocation when they were losing the previous 3 sessions: 14\n",
      "Count of times each player increases their allocation when they were losing the previous 3 sessions: {45: 1, 46: 1, 49: 1, 50: 1, 54: 1, 57: 1, 58: 2, 59: 1, 103: 1, 105: 1, 111: 1, 113: 1, 114: 3, 117: 2}\n",
      "Player who increases their allocation when they were losing the previous 3 sessions the most: 114\n",
      "------------------------------------------------------------------------------------------------------------------\n",
      "Count of players that increase their allocation when they were losing the previous 4 sessions: 5\n",
      "Count of times each player increases their allocation when they were losing the previous 4 sessions: {46: 1, 49: 1, 54: 1, 57: 1, 114: 1}\n",
      "Player who increases their allocation when they were losing the previous 4 sessions the most: 46\n",
      "------------------------------------------------------------------------------------------------------------------\n"
     ]
    }
   ],
   "source": [
    "players_inc_allo_lossing_2 = count_subjects_inc_lossing(dtf, 2, \"increase_allocation\", \"Objective\") # Look at previous 2 sessions\n",
    "players_inc_allo_lossing_3 = count_subjects_inc_lossing(dtf, 3, \"increase_allocation\", \"Objective\") # Look at previous 3 sessions\n",
    "players_inc_allo_lossing_4 = count_subjects_inc_lossing(dtf, 4, \"increase_allocation\", \"Objective\") # Look at previous 4 sessions\n",
    "\n",
    "# players_inc_allo_lossing_2 = count_subjects_inc_lossing(dtf, 2, \"increase_allocation\", \"percent_change_EAB\") # Look at previous 2 sessions\n",
    "# players_inc_allo_lossing_3 = count_subjects_inc_lossing(dtf, 3, \"increase_allocation\", \"percent_change_EAB\") # Look at previous 3 sessions\n",
    "# players_inc_allo_lossing_4 = count_subjects_inc_lossing(dtf, 4, \"increase_allocation\", \"percent_change_EAB\") # Look at previous 4 sessions"
   ]
  },
  {
   "attachments": {},
   "cell_type": "markdown",
   "metadata": {},
   "source": [
    "Let's define the players who increase their slot denomination while winning their previous sessions:"
   ]
  },
  {
   "cell_type": "code",
   "execution_count": 8,
   "metadata": {},
   "outputs": [
    {
     "name": "stdout",
     "output_type": "stream",
     "text": [
      "Count of players that increase their allocation when they were winning the previous 2 sessions: 35\n",
      "Count of times each player increases their allocation when they were winning the previous 2 sessions: {41: 3, 42: 5, 43: 6, 44: 8, 45: 6, 46: 4, 48: 9, 49: 8, 50: 7, 51: 7, 52: 7, 54: 5, 55: 7, 56: 8, 57: 6, 58: 7, 59: 9, 60: 7, 102: 10, 103: 6, 105: 6, 106: 6, 107: 13, 108: 10, 109: 7, 110: 10, 111: 7, 112: 2, 113: 1, 114: 4, 115: 4, 116: 7, 117: 3, 119: 2, 120: 6}\n",
      "Player who increases their allocation when they were winning the previous 2 sessions the most: 107\n",
      "------------------------------------------------------------------------------------------------------------------\n",
      "Count of players that increase their allocation when they were winning the previous 3 sessions: 34\n",
      "Count of times each player increases their allocation when they were winning the previous 3 sessions: {41: 2, 42: 4, 43: 2, 44: 4, 45: 4, 46: 1, 48: 4, 49: 3, 50: 4, 51: 2, 52: 3, 54: 2, 55: 2, 56: 4, 57: 4, 58: 4, 59: 6, 60: 4, 102: 5, 103: 3, 105: 2, 106: 2, 107: 8, 108: 5, 109: 5, 110: 5, 111: 3, 112: 1, 113: 1, 114: 4, 116: 4, 117: 1, 119: 1, 120: 5}\n",
      "Player who increases their allocation when they were winning the previous 3 sessions the most: 107\n",
      "------------------------------------------------------------------------------------------------------------------\n",
      "Count of players that increase their allocation when they were winning the previous 4 sessions: 30\n",
      "Count of times each player increases their allocation when they were winning the previous 4 sessions: {41: 1, 42: 2, 44: 1, 45: 2, 46: 1, 48: 2, 49: 1, 50: 3, 51: 2, 54: 1, 55: 1, 56: 1, 57: 2, 58: 2, 59: 4, 60: 2, 102: 3, 103: 2, 105: 1, 106: 2, 107: 5, 108: 4, 109: 2, 110: 2, 111: 2, 112: 1, 114: 2, 116: 3, 119: 1, 120: 3}\n",
      "Player who increases their allocation when they were winning the previous 4 sessions the most: 107\n",
      "------------------------------------------------------------------------------------------------------------------\n"
     ]
    }
   ],
   "source": [
    "players_inc_allo_winning_2 = count_subjects_inc_winning(dtf, 2, \"increase_allocation\", \"Objective\") # Look at previous 2 sessions\n",
    "players_inc_allo_winning_3 = count_subjects_inc_winning(dtf, 3, \"increase_allocation\", \"Objective\") # Look at previous 3 sessions\n",
    "players_inc_allo_winning_4 = count_subjects_inc_winning(dtf, 4, \"increase_allocation\", \"Objective\") # Look at previous 4 sessions\n",
    "\n",
    "# players_inc_allo_winning_2 = count_subjects_inc_winning(dtf, 2, \"increase_allocation\", \"percent_change_EAB\") # Look at previous 2 sessions\n",
    "# players_inc_allo_winning_3 = count_subjects_inc_winning(dtf, 3, \"increase_allocation\", \"percent_change_EAB\") # Look at previous 3 sessions\n",
    "# players_inc_allo_winning_4 = count_subjects_inc_winning(dtf, 4, \"increase_allocation\", \"percent_change_EAB\") # Look at previous 4 sessions"
   ]
  },
  {
   "attachments": {},
   "cell_type": "markdown",
   "metadata": {},
   "source": [
    "Let's define the players who decrease their slot denomination while lossing their previous sessions:"
   ]
  },
  {
   "cell_type": "code",
   "execution_count": 9,
   "metadata": {},
   "outputs": [
    {
     "name": "stdout",
     "output_type": "stream",
     "text": [
      "Count of players that increase their allocation when they were losing the previous 2 sessions: 32\n",
      "Count of times each player increases their allocation when they were losing the previous 2 sessions: {42: 3, 43: 3, 44: 3, 45: 3, 47: 1, 48: 4, 49: 3, 50: 2, 51: 2, 52: 1, 54: 2, 55: 5, 56: 3, 57: 1, 58: 2, 59: 2, 60: 3, 102: 3, 103: 3, 105: 1, 106: 3, 107: 5, 108: 1, 109: 3, 110: 4, 111: 2, 112: 1, 113: 1, 114: 1, 116: 4, 119: 1, 120: 3}\n",
      "Player who increases their allocation when they were losing the previous 2 sessions the most: 55\n",
      "------------------------------------------------------------------------------------------------------------------\n",
      "Count of players that increase their allocation when they were losing the previous 3 sessions: 29\n",
      "Count of times each player increases their allocation when they were losing the previous 3 sessions: {42: 3, 43: 2, 44: 2, 45: 2, 48: 3, 49: 1, 50: 2, 51: 2, 52: 1, 54: 1, 55: 3, 56: 1, 57: 1, 59: 2, 60: 2, 102: 2, 103: 1, 105: 1, 106: 3, 107: 3, 108: 1, 109: 3, 110: 2, 111: 2, 112: 1, 113: 1, 116: 2, 119: 1, 120: 3}\n",
      "Player who increases their allocation when they were losing the previous 3 sessions the most: 42\n",
      "------------------------------------------------------------------------------------------------------------------\n",
      "Count of players that increase their allocation when they were losing the previous 4 sessions: 21\n",
      "Count of times each player increases their allocation when they were losing the previous 4 sessions: {42: 1, 43: 1, 44: 1, 45: 1, 48: 1, 50: 1, 55: 1, 59: 1, 60: 1, 102: 1, 105: 1, 106: 1, 107: 1, 109: 1, 110: 1, 111: 1, 112: 1, 113: 1, 116: 1, 119: 1, 120: 1}\n",
      "Player who increases their allocation when they were losing the previous 4 sessions the most: 42\n",
      "------------------------------------------------------------------------------------------------------------------\n"
     ]
    }
   ],
   "source": [
    "players_dec_allo_lossing_2 = count_subjects_inc_lossing(dtf, 2, \"decrease_allocation\", \"Objective\") # Look at previous 2 sessions\n",
    "players_dec_allo_lossing_3 = count_subjects_inc_lossing(dtf, 3, \"decrease_allocation\", \"Objective\") # Look at previous 3 sessions\n",
    "players_dec_allo_lossing_4 = count_subjects_inc_lossing(dtf, 4, \"decrease_allocation\", \"Objective\") # Look at previous 4 sessions\n",
    "\n",
    "# players_dec_allo_lossing_2 = count_subjects_inc_lossing(dtf, 2, \"decrease_allocation\", \"percent_change_EAB\") # Look at previous 2 sessions\n",
    "# players_dec_allo_lossing_3 = count_subjects_inc_lossing(dtf, 3, \"decrease_allocation\", \"percent_change_EAB\") # Look at previous 3 sessions\n",
    "# players_dec_allo_lossing_4 = count_subjects_inc_lossing(dtf, 4, \"decrease_allocation\", \"percent_change_EAB\") # Look at previous 4 sessions"
   ]
  },
  {
   "attachments": {},
   "cell_type": "markdown",
   "metadata": {},
   "source": [
    "Let's define the players who decrease their slot denomination while winning their previous sessions:"
   ]
  },
  {
   "cell_type": "code",
   "execution_count": 10,
   "metadata": {},
   "outputs": [
    {
     "name": "stdout",
     "output_type": "stream",
     "text": [
      "Count of players that increase their allocation when they were winning the previous 2 sessions: 32\n",
      "Count of times each player increases their allocation when they were winning the previous 2 sessions: {41: 2, 42: 1, 43: 5, 44: 4, 45: 9, 46: 6, 48: 4, 49: 6, 50: 1, 51: 1, 52: 2, 54: 3, 55: 5, 56: 2, 57: 6, 58: 4, 59: 1, 60: 3, 102: 2, 103: 5, 104: 3, 105: 3, 107: 1, 109: 7, 110: 3, 111: 4, 113: 4, 114: 10, 117: 6, 118: 1, 119: 2, 120: 8}\n",
      "Player who increases their allocation when they were winning the previous 2 sessions the most: 114\n",
      "------------------------------------------------------------------------------------------------------------------\n",
      "Count of players that increase their allocation when they were winning the previous 3 sessions: 31\n",
      "Count of times each player increases their allocation when they were winning the previous 3 sessions: {41: 1, 42: 1, 43: 5, 44: 4, 45: 6, 46: 6, 48: 4, 49: 6, 51: 1, 52: 2, 54: 2, 55: 5, 56: 2, 57: 5, 58: 3, 59: 1, 60: 2, 102: 2, 103: 5, 104: 2, 105: 3, 107: 1, 109: 5, 110: 3, 111: 4, 113: 2, 114: 5, 117: 5, 118: 1, 119: 2, 120: 5}\n",
      "Player who increases their allocation when they were winning the previous 3 sessions the most: 45\n",
      "------------------------------------------------------------------------------------------------------------------\n",
      "Count of players that increase their allocation when they were winning the previous 4 sessions: 29\n",
      "Count of times each player increases their allocation when they were winning the previous 4 sessions: {42: 1, 43: 3, 44: 4, 45: 4, 46: 4, 48: 3, 49: 4, 51: 1, 52: 2, 54: 2, 55: 3, 56: 2, 57: 3, 58: 2, 60: 1, 102: 2, 103: 4, 104: 1, 105: 1, 107: 1, 109: 4, 110: 3, 111: 1, 113: 1, 114: 3, 117: 5, 118: 1, 119: 2, 120: 3}\n",
      "Player who increases their allocation when they were winning the previous 4 sessions the most: 117\n",
      "------------------------------------------------------------------------------------------------------------------\n"
     ]
    }
   ],
   "source": [
    "players_dec_allo_winning_2 = count_subjects_inc_winning(dtf, 2, \"decrease_allocation\", \"Objective\") # Look at previous 2 sessions\n",
    "players_dec_allo_winning_3 = count_subjects_inc_winning(dtf, 3, \"decrease_allocation\", \"Objective\") # Look at previous 3 sessions\n",
    "players_dec_allo_winning_4 = count_subjects_inc_winning(dtf, 4, \"decrease_allocation\", \"Objective\") # Look at previous 4 sessions\n",
    "\n",
    "# players_dec_allo_winning_2 = count_subjects_inc_winning(dtf, 2, \"decrease_allocation\", \"percent_change_EAB\") # Look at previous 2 sessions\n",
    "# players_dec_allo_winning_3 = count_subjects_inc_winning(dtf, 3, \"decrease_allocation\", \"percent_change_EAB\") # Look at previous 3 sessions\n",
    "# players_dec_allo_winning_4 = count_subjects_inc_winning(dtf, 4, \"decrease_allocation\", \"percent_change_EAB\") # Look at previous 4 sessions"
   ]
  },
  {
   "attachments": {},
   "cell_type": "markdown",
   "metadata": {},
   "source": [
    "## Slicing DataFrames per Matched Players and Visualizing Outcomes\n",
    "\n",
    "Stuff is working perfectly!\n"
   ]
  },
  {
   "cell_type": "code",
   "execution_count": 11,
   "metadata": {},
   "outputs": [],
   "source": [
    "from ipynb.fs.full.functions import filter_sub_match"
   ]
  },
  {
   "cell_type": "code",
   "execution_count": 14,
   "metadata": {},
   "outputs": [],
   "source": [
    "# Create a new DataFrame with only the players that appear in players_increase_slot (17 will set the rolling window to 17, 8 obersevations before and 8 observations after)\n",
    "r_window = 9\n",
    "# Create a new DataFrame with only the players that appear in players_inc_allo_lossing_2\n",
    "dtf_all_inc_allo_lossing_2, dtf_inc_allo_lossing_2 = filter_sub_match(df=dtf, players_match=players_inc_allo_lossing_2, match_column=\"increase_allocation_lossing_2\", rolling_window=r_window, fill_value=False)\n",
    "\n",
    "# Create a new DataFrame with only the players that appear in players_inc_allo_lossing_3\n",
    "dtf_all_inc_allo_lossing_3, dtf_inc_allo_lossing_3 = filter_sub_match(df=dtf, players_match=players_inc_allo_lossing_3, match_column=\"increase_allocation_lossing_3\", rolling_window=r_window, fill_value=False)\n",
    "\n",
    "# Create a new DataFrame with only the players that appear in players_inc_allo_lossing_4\n",
    "dtf_all_inc_allo_lossing_4, dtf_inc_allo_lossing_4 = filter_sub_match(df=dtf, players_match=players_inc_allo_lossing_4, match_column=\"increase_allocation_lossing_4\", rolling_window=r_window, fill_value=False)\n",
    "\n",
    "# Create a list of DataFrames that contains all the DataFrames that we want to plot\n",
    "dtf_list_inc_lossing = [dtf_inc_allo_lossing_2, dtf_inc_allo_lossing_3, dtf_inc_allo_lossing_4]"
   ]
  },
  {
   "cell_type": "code",
   "execution_count": null,
   "metadata": {},
   "outputs": [],
   "source": [
    "# Create a new DataFrame with only the players that appear in players_inc_allo_winning_2\n",
    "dtf_all_inc_allo_winning_2, dtf_inc_allo_winning_2 = filter_sub_match(df=dtf, players_match=players_inc_allo_winning_2, match_column=\"increase_allocation_winning_2\", rolling_window=r_window, fill_value=False)\n",
    "\n",
    "# Create a new DataFrame with only the players that appear in players_inc_allo_winning_3\n",
    "dtf_all_inc_allo_winning_3, dtf_inc_allo_winning_3 = filter_sub_match(df=dtf, players_match=players_inc_allo_winning_3, match_column=\"increase_allocation_winning_3\", rolling_window=r_window, fill_value=False)\n",
    "\n",
    "# Create a new DataFrame with only the players that appear in players_inc_allo_winning_4\n",
    "dtf_all_inc_allo_winning_4, dtf_inc_allo_winning_4 = filter_sub_match(df=dtf, players_match=players_inc_allo_winning_4, match_column=\"increase_allocation_winning_4\", rolling_window=r_window, fill_value=False)\n",
    "\n",
    "# Create a list of DataFrames that contains all the DataFrames that we want to plot\n",
    "dtf_list_inc_winning = [dtf_inc_allo_winning_2, dtf_inc_allo_winning_3, dtf_inc_allo_winning_4]"
   ]
  },
  {
   "cell_type": "code",
   "execution_count": null,
   "metadata": {},
   "outputs": [],
   "source": [
    "# Create a new DataFrame with only the players that appear in players_dec_allo_lossing_2\n",
    "dtf_all_dec_allo_lossing_2, dtf_dec_allo_lossing_2 = filter_sub_match(df=dtf, players_match=players_dec_allo_lossing_2, match_column=\"decrease_allocation_lossing_2\", rolling_window=r_window, fill_value=False)\n",
    "\n",
    "# Create a new DataFrame with only the players that appear in players_dec_allo_lossing_3\n",
    "dtf_all_dec_allo_lossing_3, dtf_dec_allo_lossing_3 = filter_sub_match(df=dtf, players_match=players_dec_allo_lossing_3, match_column=\"decrease_allocation_lossing_3\", rolling_window=r_window, fill_value=False)\n",
    "\n",
    "# Create a new DataFrame with only the players that appear in players_dec_allo_lossing_4\n",
    "dtf_all_dec_allo_lossing_4, dtf_dec_allo_lossing_4 = filter_sub_match(df=dtf, players_match=players_dec_allo_lossing_4, match_column=\"decrease_allocation_lossing_4\", rolling_window=r_window, fill_value=False)\n",
    "\n",
    "# Create a list of DataFrames that contains all the DataFrames that we want to plot\n",
    "dtf_list_dec_lossing = [dtf_dec_allo_lossing_2, dtf_dec_allo_lossing_3, dtf_dec_allo_lossing_4]"
   ]
  },
  {
   "cell_type": "code",
   "execution_count": null,
   "metadata": {},
   "outputs": [],
   "source": [
    "# Create a new DataFrame with only the players that appear in players_dec_allo_winning_2\n",
    "dtf_all_dec_allo_winning_2, dtf_dec_allo_winning_2 = filter_sub_match(df=dtf, players_match=players_dec_allo_winning_2, match_column=\"decrease_allocation_winning_2\", rolling_window=r_window, fill_value=False)\n",
    "\n",
    "# Create a new DataFrame with only the players that appear in players_dec_allo_winning_3\n",
    "dtf_all_dec_allo_winning_3, dtf_dec_allo_winning_3 = filter_sub_match(df=dtf, players_match=players_dec_allo_winning_3, match_column=\"decrease_allocation_winning_3\", rolling_window=r_window, fill_value=False)\n",
    "\n",
    "# Create a new DataFrame with only the players that appear in players_dec_allo_winning_4\n",
    "dtf_all_dec_allo_winning_4, dtf_dec_allo_winning_4 = filter_sub_match(df=dtf, players_match=players_dec_allo_winning_4, match_column=\"decrease_allocation_winning_4\", rolling_window=r_window, fill_value=False)\n",
    "\n",
    "# Create a list of DataFrames that contains all the DataFrames that we want to plot\n",
    "dtf_list_dec_winning = [dtf_dec_allo_winning_2, dtf_dec_allo_winning_3, dtf_dec_allo_winning_4]"
   ]
  },
  {
   "attachments": {},
   "cell_type": "markdown",
   "metadata": {},
   "source": [
    "## Interactive Plots\n",
    "\n",
    "The following section would be used to explore the data in an interactive way. These plots allow for user interaction, such as zooming, panning, and selecting data points. Users can customize the plot by choosing different variables to plot, adjusting axes ranges, and selecting data subsets. The interactive plots provide a dynamic way to visually explore the data and can reveal patterns or relationships that might not be apparent from static plots alone. By using interactive plots, we can gain a deeper understanding of the data and make more informed decisions during the data analysis process."
   ]
  },
  {
   "cell_type": "code",
   "execution_count": 15,
   "metadata": {},
   "outputs": [
    {
     "data": {
      "application/vnd.jupyter.widget-view+json": {
       "model_id": "a7476b8504844a978da0f9a43a207a1b",
       "version_major": 2,
       "version_minor": 0
      },
      "text/plain": [
       "interactive(children=(Dropdown(description='player_ID', options=((41, 0), (44, 1), (45, 2), (46, 3), (49, 4), …"
      ]
     },
     "metadata": {},
     "output_type": "display_data"
    }
   ],
   "source": [
    "import matplotlib.pyplot as plt\n",
    "import ipywidgets as widgets\n",
    "\n",
    "# Make a list of all the dataframes that are match and slice\n",
    "dtf_lists = dtf_list_inc_lossing\n",
    "\n",
    "# Calculate the max and min values for the 'time' column for each DataFrame\n",
    "time_max = max([df[\"Year\"].max() for df in dtf_lists])\n",
    "time_min = min([df[\"Year\"].min() for df in dtf_lists])\n",
    "\n",
    "# Create a scatter plot of the players wins for only player with key 3\n",
    "def plot_scatters(player_ID, df_index, x=\"Year\", y=\"PerAllo\", y_2=None, x_min=None, x_max=None, show_line=False, shade_area=False):\n",
    "    df = dtf_lists[df_index]\n",
    "    players = df[\"Subject\"].unique().tolist()\n",
    "    player_df = df[df[\"Subject\"] == players[player_ID]]\n",
    "    \n",
    "    fig, ax1 = plt.subplots()\n",
    "    ax1.set_xlabel(x)\n",
    "    ax1.set_ylabel(y, color='royalblue')\n",
    "    if x_min is not None and x_max is not None:\n",
    "        player_df = player_df[(player_df[x] >= x_min) & (player_df[x] <= x_max)]\n",
    "    ax1.scatter(x=player_df[x], y=player_df[y], color='royalblue')\n",
    "    \n",
    "    if y_2 is not None:\n",
    "        ax2 = ax1.twinx()\n",
    "        ax2.set_ylabel(y_2, color='r')\n",
    "        if x_min is not None and x_max is not None:\n",
    "            player_df = player_df[(player_df[x] >= x_min) & (player_df[x] <= x_max)]\n",
    "        ax2.scatter(x=player_df[x], y=player_df[y_2], color='orangered', marker='s')\n",
    "        ax2.tick_params(axis='y', labelcolor='orangered')\n",
    "        # Add a line to the plot if show_line is True\n",
    "        if show_line:\n",
    "            ax2.plot(player_df[x], player_df[y_2], color='black', linewidth=0.8, linestyle='--')\n",
    "        if shade_area:\n",
    "            ax2.fill_between(player_df[x], player_df[y_2], color='lightcoral', alpha=0.5)\n",
    "    \n",
    "    if show_line:\n",
    "        ax1.plot(player_df[x], player_df[y], color='black', linewidth=0.8)\n",
    "        \n",
    "    if shade_area:\n",
    "        ax1.fill_between(player_df[x], player_df[y], color='lightblue', alpha=0.5)\n",
    "\n",
    "    ax1.tick_params(axis='y', labelcolor='black')\n",
    "    ax1.grid()\n",
    "    plt.title(f\"Subject {players[player_ID]}\")\n",
    "    plt.show()\n",
    "\n",
    "# Create widgets for playerkey, df_index, x, y, y_2, x_min, and x_max\n",
    "df_index_widget = widgets.Dropdown(options=[(f\"DataFrame {i}\", i) for i in range(len(dtf_lists))])\n",
    "x_widget = widgets.Dropdown(options=list(dtf_lists[0].columns), value=\"Year\")\n",
    "y_widget = widgets.Dropdown(options=list(dtf_lists[0].columns), value=\"PerAllo\")\n",
    "y_2_widget = widgets.Dropdown(options=[None]+list(dtf_lists[0].columns), value=None)\n",
    "x_min_widget = widgets.FloatText(description=\"x_min\", value=time_min)\n",
    "x_max_widget = widgets.FloatText(description=\"x_max\", value=time_max)\n",
    "show_line_widget = widgets.Checkbox(description='Show line', value=False)\n",
    "shade_area_widget = widgets.Checkbox(description='Shade area', value=False)\n",
    "\n",
    "# Create a function to update the players_widget based on the selected df_index\n",
    "def update_players_widget(df_index):\n",
    "    df = dtf_lists[df_index]\n",
    "    players = df[\"Subject\"].unique().tolist()\n",
    "    player_key_widget.options = [(p, i) for i, p in enumerate(players)]\n",
    "\n",
    "# Create a players_widget for the initial df_index value\n",
    "initial_df_index = df_index_widget.value\n",
    "initial_df = dtf_lists[initial_df_index]\n",
    "initial_players = initial_df[\"Subject\"].unique().tolist()\n",
    "player_key_widget = widgets.Dropdown(options=[], value=None)\n",
    "\n",
    "# Call update_players_widget with the initial_df_index value to set the options for player_key_widget\n",
    "update_players_widget(initial_df_index)\n",
    "\n",
    "widgets.interact(plot_scatters, player_ID=player_key_widget, df_index=df_index_widget,\n",
    "                 x=x_widget, y=y_widget, y_2=y_2_widget, x_min=x_min_widget, x_max=x_max_widget,\n",
    "                 show_line=show_line_widget, shade_area=shade_area_widget)\n",
    "\n",
    "# Update the player_key_widget options when df_index changes\n",
    "def on_df_index_change(change):\n",
    "    update_players_widget(change.new)\n",
    "\n",
    "df_index_widget.observe(on_df_index_change, names='value')\n",
    "update_players_widget(initial_df_index)  # update the player_key_widget options initially\n"
   ]
  }
 ],
 "metadata": {
  "kernelspec": {
   "display_name": "Python 3 (ipykernel)",
   "language": "python",
   "name": "python3"
  },
  "language_info": {
   "codemirror_mode": {
    "name": "ipython",
    "version": 3
   },
   "file_extension": ".py",
   "mimetype": "text/x-python",
   "name": "python",
   "nbconvert_exporter": "python",
   "pygments_lexer": "ipython3",
   "version": "3.10.0"
  },
  "orig_nbformat": 4,
  "vscode": {
   "interpreter": {
    "hash": "aee8b7b246df8f9039afb4144a1f6fd8d2ca17a180786b69acc140d282b71a49"
   }
  }
 },
 "nbformat": 4,
 "nbformat_minor": 2
}
