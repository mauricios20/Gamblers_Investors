{
 "cells": [
  {
   "attachments": {},
   "cell_type": "markdown",
   "metadata": {},
   "source": [
    "# Exploratory Data Analysis\n",
    "I am using this notebook to learn how gamblers behaviors are similar to those of investors.\n",
    "\n",
    "## Define Libraries"
   ]
  },
  {
   "cell_type": "code",
   "execution_count": 25,
   "metadata": {},
   "outputs": [],
   "source": [
    "import pandas as pd\n",
    "import os\n",
    "import numpy as np\n",
    "import matplotlib.pyplot as plt\n",
    "import ipywidgets as widgets\n",
    "from ipywidgets import interactive, fixed, IntSlider, HBox, Layout, VBox\n",
    "\n",
    "# Getting rid of the SettingWithCopyWarning: \n",
    "pd.options.mode.chained_assignment = None"
   ]
  },
  {
   "attachments": {},
   "cell_type": "markdown",
   "metadata": {},
   "source": [
    "## Upload Data"
   ]
  },
  {
   "cell_type": "code",
   "execution_count": 26,
   "metadata": {},
   "outputs": [
    {
     "name": "stdout",
     "output_type": "stream",
     "text": [
      "<class 'pandas.core.frame.DataFrame'>\n",
      "RangeIndex: 1520 entries, 0 to 1519\n",
      "Data columns (total 18 columns):\n",
      " #   Column                 Non-Null Count  Dtype  \n",
      "---  ------                 --------------  -----  \n",
      " 0   Treatment (D)          1520 non-null   int64  \n",
      " 1   Condition              1520 non-null   object \n",
      " 2   During/Post            1520 non-null   int64  \n",
      " 3   Subject                1520 non-null   int64  \n",
      " 4   Year                   1520 non-null   int64  \n",
      " 5   Blocks                 1520 non-null   int64  \n",
      " 6   Objective              1520 non-null   float64\n",
      " 7   PerAllo                1520 non-null   float64\n",
      " 8   Belief                 1520 non-null   float64\n",
      " 9   EAB                    1520 non-null   float64\n",
      " 10  Sex                    1520 non-null   object \n",
      " 11  Age                    1520 non-null   int64  \n",
      " 12  Status                 1520 non-null   int64  \n",
      " 13  InvExp                 1520 non-null   float64\n",
      " 14  BPay                   1520 non-null   float64\n",
      " 15  TBPay                  1520 non-null   float64\n",
      " 16  Optimistic Index (20)  1520 non-null   float64\n",
      " 17  Change in Belief       1520 non-null   float64\n",
      "dtypes: float64(9), int64(7), object(2)\n",
      "memory usage: 213.9+ KB\n",
      "None\n"
     ]
    }
   ],
   "source": [
    "# Set working directory\n",
    "path = '/Users/mau/Dropbox/Mac/Documents/Dissertation/Safford2018/Data'\n",
    "os.chdir(path)\n",
    "\n",
    "# Load data into a DataFrame\n",
    "dtf = pd.read_csv('40PerSubjectData.csv', header=0, dtype={'Treatment (D)': int, 'Subject': int, 'Year': int})\n",
    "\n",
    "print(dtf.info())"
   ]
  },
  {
   "cell_type": "code",
   "execution_count": 27,
   "metadata": {},
   "outputs": [
    {
     "name": "stdout",
     "output_type": "stream",
     "text": [
      "[ 41  42  43  44  45  46  47  48  49  50  51  52  54  55  56  57  58  59\n",
      "  60 102 103 104 105 106 107 108 109 110 111 112 113 114 115 116 117 118\n",
      " 119 120]\n",
      "Total number of Subjects: 38\n"
     ]
    }
   ],
   "source": [
    "# Print unique values of slotdenominationname\n",
    "print(dtf['Subject'].unique())\n",
    "\n",
    "# Count number of unique players\n",
    "print(\"Total number of Subjects:\", dtf['Subject'].nunique())"
   ]
  },
  {
   "attachments": {},
   "cell_type": "markdown",
   "metadata": {},
   "source": [
    "### Change Recognition\n",
    "It is time to see which subjects increased or decreased their percent allocation in the risky assest.  \n",
    "\n",
    "* Define function to look for our desire chage.\n",
    "* We are going to be using _PerAllo_ to observe the change\n",
    "* Create a column _increase_allocation_ that is 1 everytime _PerAllo_ increases, 0 otherwise for each subject\n",
    "* Create a column _decrease_allocation_ that is 1 everytime _PerAllo_ decreases, 0 otherwise for each subject"
   ]
  },
  {
   "cell_type": "code",
   "execution_count": null,
   "metadata": {},
   "outputs": [],
   "source": [
    "from ipynb.fs.full.functions import count_increase, count_decrease"
   ]
  },
  {
   "cell_type": "code",
   "execution_count": null,
   "metadata": {},
   "outputs": [],
   "source": [
    "players_increase_allocation = count_increase(dtf, \"increase_allocation\", \"Subject\", \"PerAllo\")\n",
    "players_decrease_allocation = count_decrease(dtf, \"decrease_allocation\", \"Subject\", \"PerAllo\")"
   ]
  },
  {
   "attachments": {},
   "cell_type": "markdown",
   "metadata": {},
   "source": [
    "### Change Recognition Part 2\n",
    "\n",
    "In this section we are analazying the change of slot denominantion and maxbet when the previous returns were either positive or negative."
   ]
  },
  {
   "cell_type": "code",
   "execution_count": null,
   "metadata": {},
   "outputs": [],
   "source": [
    "\n",
    "from ipynb.fs.full.functions import count_subjects_inc_lossing, count_subjects_inc_winning"
   ]
  },
  {
   "attachments": {},
   "cell_type": "markdown",
   "metadata": {},
   "source": [
    "Let's define the palyers who increase their slot denomination while lossing the previous sessions:"
   ]
  },
  {
   "cell_type": "code",
   "execution_count": null,
   "metadata": {},
   "outputs": [],
   "source": [
    "players_inc_allo_lossing_2 = count_subjects_inc_lossing(dtf, 2, \"increase_allocation\") # Look at previous 2 sessions\n",
    "players_inc_allo_lossing_3 = count_subjects_inc_lossing(dtf, 3, \"increase_allocation\") # Look at previous 3 sessions\n",
    "players_inc_allo_lossing_4 = count_subjects_inc_lossing(dtf, 4, \"increase_allocation\") # Look at previous 4 sessions"
   ]
  },
  {
   "attachments": {},
   "cell_type": "markdown",
   "metadata": {},
   "source": [
    "Let's define the players who increase their slot denomination while winning their previous sessions:"
   ]
  },
  {
   "cell_type": "code",
   "execution_count": null,
   "metadata": {},
   "outputs": [],
   "source": [
    "players_inc_allo_winning_2 = count_subjects_inc_winning(dtf, 2, \"increase_allocation\") # Look at previous 2 sessions\n",
    "players_inc_allo_winning_3 = count_subjects_inc_winning(dtf, 3, \"increase_allocation\") # Look at previous 3 sessions\n",
    "players_inc_allo_winning_4 = count_subjects_inc_winning(dtf, 4, \"increase_allocation\") # Look at previous 4 sessions"
   ]
  },
  {
   "attachments": {},
   "cell_type": "markdown",
   "metadata": {},
   "source": [
    "Let's define the players who decrease their slot denomination while lossing their previous sessions:"
   ]
  },
  {
   "cell_type": "code",
   "execution_count": null,
   "metadata": {},
   "outputs": [],
   "source": [
    "players_dec_allo_lossing_2 = count_subjects_inc_lossing(dtf, 2, \"decrease_allocation\") # Look at previous 2 sessions\n",
    "players_dec_allo_lossing_3 = count_subjects_inc_lossing(dtf, 3, \"decrease_allocation\") # Look at previous 3 sessions\n",
    "players_dec_allo_lossing_4 = count_subjects_inc_lossing(dtf, 4, \"decrease_allocation\") # Look at previous 4 sessions"
   ]
  },
  {
   "attachments": {},
   "cell_type": "markdown",
   "metadata": {},
   "source": [
    "Let's define the players who decrease their slot denomination while winning their previous sessions:"
   ]
  },
  {
   "cell_type": "code",
   "execution_count": null,
   "metadata": {},
   "outputs": [],
   "source": [
    "players_dec_allo_winning_2 = count_subjects_inc_winning(dtf, 2, \"decrease_allocation\") # Look at previous 2 sessions\n",
    "players_dec_allo_winning_3 = count_subjects_inc_winning(dtf, 3, \"decrease_allocation\") # Look at previous 3 sessions\n",
    "players_dec_allo_winning_4 = count_subjects_inc_winning(dtf, 4, \"decrease_allocation\") # Look at previous 4 sessions"
   ]
  },
  {
   "attachments": {},
   "cell_type": "markdown",
   "metadata": {},
   "source": [
    "## Slicing DataFrames per Matched Players and Visualizing Outcomes\n",
    "\n",
    "Stuff is working perfectly!\n"
   ]
  },
  {
   "cell_type": "code",
   "execution_count": null,
   "metadata": {},
   "outputs": [],
   "source": [
    "def filter_sub_match(df, players_match, match_column, rolling_window, fill_value):\n",
    "    # Create a new DataFrame with only the players that appear in players_match\n",
    "    df_match_all = df[df[\"Subject\"].isin(players_match)]\n",
    "\n",
    "    # Creaete a new column for called match_rolling that is True for the rows around match_column is True\n",
    "    df_match_all.loc[:, \"match_rolling\"] = df_match_all[match_column].rolling(window=rolling_window, center=True).apply(lambda x: any(x)).fillna(fill_value).astype(int)\n",
    "    \n",
    "    # Slice the DataFrame to only include the rows where match_rolling is True\n",
    "    df_match_slice = df_match_all[df_match_all[\"match_rolling\"] == True]\n",
    "    # Return the new DataFrame\n",
    "    return df_match_all, df_match_slice"
   ]
  },
  {
   "cell_type": "code",
   "execution_count": null,
   "metadata": {},
   "outputs": [],
   "source": [
    "# Create a new DataFrame with only the players that appear in players_increase_slot (17 will set the rolling window to 17, 8 obersevations before and 8 observations after)\n",
    "r_window = 4\n",
    "# Create a new DataFrame with only the players that appear in players_inc_allo_lossing_2\n",
    "dtf_all_inc_allo_lossing_2, dtf_inc_allo_lossing_2 = filter_sub_match(df=dtf, players_match=players_inc_allo_lossing_2, match_column=\"increase_allocation\", rolling_window=r_window, fill_value=False)\n",
    "\n",
    "# Create a new DataFrame with only the players that appear in players_inc_allo_lossing_3\n",
    "dtf_all_inc_allo_lossing_3, dtf_inc_allo_lossing_3 = filter_sub_match(df=dtf, players_match=players_inc_allo_lossing_3, match_column=\"increase_allocation\", rolling_window=r_window, fill_value=False)\n",
    "\n",
    "# Create a new DataFrame with only the players that appear in players_inc_allo_lossing_4\n",
    "dtf_all_inc_allo_lossing_4, dtf_inc_allo_lossing_4 = filter_sub_match(df=dtf, players_match=players_inc_allo_lossing_4, match_column=\"increase_allocation\", rolling_window=r_window, fill_value=False)\n",
    "\n",
    "# Create a list of DataFrames that contains all the DataFrames that we want to plot\n",
    "dtf_list_inc_lossing = [dtf_inc_allo_lossing_2, dtf_inc_allo_lossing_3, dtf_inc_allo_lossing_4]"
   ]
  },
  {
   "cell_type": "code",
   "execution_count": null,
   "metadata": {},
   "outputs": [],
   "source": [
    "# Create a new DataFrame with only the players that appear in players_inc_allo_winning_2\n",
    "dtf_all_inc_allo_winning_2, dtf_inc_allo_winning_2 = filter_sub_match(df=dtf, players_match=players_inc_allo_winning_2, match_column=\"increase_allocation\", rolling_window=r_window, fill_value=False)\n",
    "\n",
    "# Create a new DataFrame with only the players that appear in players_inc_allo_winning_3\n",
    "dtf_all_inc_allo_winning_3, dtf_inc_allo_winning_3 = filter_sub_match(df=dtf, players_match=players_inc_allo_winning_3, match_column=\"increase_allocation\", rolling_window=r_window, fill_value=False)\n",
    "\n",
    "# Create a new DataFrame with only the players that appear in players_inc_allo_winning_4\n",
    "dtf_all_inc_allo_winning_4, dtf_inc_allo_winning_4 = filter_sub_match(df=dtf, players_match=players_inc_allo_winning_4, match_column=\"increase_allocation\", rolling_window=r_window, fill_value=False)\n",
    "\n",
    "# Create a list of DataFrames that contains all the DataFrames that we want to plot\n",
    "dtf_list_inc_winning = [dtf_inc_allo_winning_2, dtf_inc_allo_winning_3, dtf_inc_allo_winning_4]"
   ]
  },
  {
   "cell_type": "code",
   "execution_count": null,
   "metadata": {},
   "outputs": [],
   "source": [
    "# Create a new DataFrame with only the players that appear in players_dec_allo_lossing_2\n",
    "dtf_all_dec_allo_lossing_2, dtf_dec_allo_lossing_2 = filter_sub_match(df=dtf, players_match=players_dec_allo_lossing_2, match_column=\"decrease_allocation\", rolling_window=r_window, fill_value=False)\n",
    "\n",
    "# Create a new DataFrame with only the players that appear in players_dec_allo_lossing_3\n",
    "dtf_all_dec_allo_lossing_3, dtf_dec_allo_lossing_3 = filter_sub_match(df=dtf, players_match=players_dec_allo_lossing_3, match_column=\"decrease_allocation\", rolling_window=r_window, fill_value=False)\n",
    "\n",
    "# Create a new DataFrame with only the players that appear in players_dec_allo_lossing_4\n",
    "dtf_all_dec_allo_lossing_4, dtf_dec_allo_lossing_4 = filter_sub_match(df=dtf, players_match=players_dec_allo_lossing_4, match_column=\"decrease_allocation\", rolling_window=r_window, fill_value=False)\n",
    "\n",
    "# Create a list of DataFrames that contains all the DataFrames that we want to plot\n",
    "dtf_list_dec_lossing = [dtf_dec_allo_lossing_2, dtf_dec_allo_lossing_3, dtf_dec_allo_lossing_4]"
   ]
  },
  {
   "cell_type": "code",
   "execution_count": null,
   "metadata": {},
   "outputs": [],
   "source": [
    "# Create a new DataFrame with only the players that appear in players_dec_allo_winning_2\n",
    "dtf_all_dec_allo_winning_2, dtf_dec_allo_winning_2 = filter_sub_match(df=dtf, players_match=players_dec_allo_winning_2, match_column=\"decrease_allocation\", rolling_window=r_window, fill_value=False)\n",
    "\n",
    "# Create a new DataFrame with only the players that appear in players_dec_allo_winning_3\n",
    "dtf_all_dec_allo_winning_3, dtf_dec_allo_winning_3 = filter_sub_match(df=dtf, players_match=players_dec_allo_winning_3, match_column=\"decrease_allocation\", rolling_window=r_window, fill_value=False)\n",
    "\n",
    "# Create a new DataFrame with only the players that appear in players_dec_allo_winning_4\n",
    "dtf_all_dec_allo_winning_4, dtf_dec_allo_winning_4 = filter_sub_match(df=dtf, players_match=players_dec_allo_winning_4, match_column=\"decrease_allocation\", rolling_window=r_window, fill_value=False)\n",
    "\n",
    "# Create a list of DataFrames that contains all the DataFrames that we want to plot\n",
    "dtf_list_dec_winning = [dtf_dec_allo_winning_2, dtf_dec_allo_winning_3, dtf_dec_allo_winning_4]"
   ]
  },
  {
   "attachments": {},
   "cell_type": "markdown",
   "metadata": {},
   "source": [
    "## Interactive Plots\n",
    "\n",
    "The following section would be used to explore the data in an interactive way. These plots allow for user interaction, such as zooming, panning, and selecting data points. Users can customize the plot by choosing different variables to plot, adjusting axes ranges, and selecting data subsets. The interactive plots provide a dynamic way to visually explore the data and can reveal patterns or relationships that might not be apparent from static plots alone. By using interactive plots, we can gain a deeper understanding of the data and make more informed decisions during the data analysis process."
   ]
  },
  {
   "cell_type": "code",
   "execution_count": 28,
   "metadata": {},
   "outputs": [
    {
     "data": {
      "application/vnd.jupyter.widget-view+json": {
       "model_id": "69b104d1b25f4659b309d7ab328ed2cc",
       "version_major": 2,
       "version_minor": 0
      },
      "text/plain": [
       "interactive(children=(Dropdown(description='player_ID', options=((41, 0), (44, 1), (45, 2), (46, 3), (49, 4), …"
      ]
     },
     "metadata": {},
     "output_type": "display_data"
    }
   ],
   "source": [
    "import matplotlib.pyplot as plt\n",
    "import ipywidgets as widgets\n",
    "\n",
    "# Make a list of all the dataframes that are match and slice\n",
    "dtf_lists = dtf_list_inc_lossing\n",
    "\n",
    "# Calculate the max and min values for the 'time' column for each DataFrame\n",
    "time_max = max([df[\"Year\"].max() for df in dtf_lists])\n",
    "time_min = min([df[\"Year\"].min() for df in dtf_lists])\n",
    "\n",
    "# Create a scatter plot of the players wins for only player with key 3\n",
    "def plot_scatters(player_ID, df_index, x=\"Year\", y=\"PerAllo\", y_2=None, x_min=None, x_max=None, show_line=False, shade_area=False):\n",
    "    df = dtf_lists[df_index]\n",
    "    players = df[\"Subject\"].unique().tolist()\n",
    "    player_df = df[df[\"Subject\"] == players[player_ID]]\n",
    "    \n",
    "    fig, ax1 = plt.subplots()\n",
    "    ax1.set_xlabel(x)\n",
    "    ax1.set_ylabel(y, color='royalblue')\n",
    "    if x_min is not None and x_max is not None:\n",
    "        player_df = player_df[(player_df[x] >= x_min) & (player_df[x] <= x_max)]\n",
    "    ax1.scatter(x=player_df[x], y=player_df[y], color='royalblue')\n",
    "    \n",
    "    if y_2 is not None:\n",
    "        ax2 = ax1.twinx()\n",
    "        ax2.set_ylabel(y_2, color='r')\n",
    "        if x_min is not None and x_max is not None:\n",
    "            player_df = player_df[(player_df[x] >= x_min) & (player_df[x] <= x_max)]\n",
    "        ax2.scatter(x=player_df[x], y=player_df[y_2], color='orangered', marker='s')\n",
    "        ax2.tick_params(axis='y', labelcolor='orangered')\n",
    "        # Add a line to the plot if show_line is True\n",
    "        if show_line:\n",
    "            ax2.plot(player_df[x], player_df[y_2], color='black', linewidth=0.8, linestyle='--')\n",
    "        if shade_area:\n",
    "            ax2.fill_between(player_df[x], player_df[y_2], color='lightcoral', alpha=0.5)\n",
    "    \n",
    "    if show_line:\n",
    "        ax1.plot(player_df[x], player_df[y], color='black', linewidth=0.8)\n",
    "        \n",
    "    if shade_area:\n",
    "        ax1.fill_between(player_df[x], player_df[y], color='lightblue', alpha=0.5)\n",
    "\n",
    "    ax1.tick_params(axis='y', labelcolor='black')\n",
    "    ax1.grid()\n",
    "    plt.title(f\"Subject {players[player_ID]}\")\n",
    "    plt.show()\n",
    "\n",
    "# Create widgets for playerkey, df_index, x, y, y_2, x_min, and x_max\n",
    "df_index_widget = widgets.Dropdown(options=[(f\"DataFrame {i}\", i) for i in range(len(dtf_lists))])\n",
    "x_widget = widgets.Dropdown(options=list(dtf_lists[0].columns), value=\"Year\")\n",
    "y_widget = widgets.Dropdown(options=list(dtf_lists[0].columns), value=\"PerAllo\")\n",
    "y_2_widget = widgets.Dropdown(options=[None]+list(dtf_lists[0].columns), value=None)\n",
    "x_min_widget = widgets.FloatText(description=\"x_min\", value=time_min)\n",
    "x_max_widget = widgets.FloatText(description=\"x_max\", value=time_max)\n",
    "show_line_widget = widgets.Checkbox(description='Show line', value=False)\n",
    "shade_area_widget = widgets.Checkbox(description='Shade area', value=False)\n",
    "\n",
    "# Create a function to update the players_widget based on the selected df_index\n",
    "def update_players_widget(df_index):\n",
    "    df = dtf_lists[df_index]\n",
    "    players = df[\"Subject\"].unique().tolist()\n",
    "    player_key_widget.options = [(p, i) for i, p in enumerate(players)]\n",
    "\n",
    "# Create a players_widget for the initial df_index value\n",
    "initial_df_index = df_index_widget.value\n",
    "initial_df = dtf_lists[initial_df_index]\n",
    "initial_players = initial_df[\"Subject\"].unique().tolist()\n",
    "player_key_widget = widgets.Dropdown(options=[], value=None)\n",
    "\n",
    "# Call update_players_widget with the initial_df_index value to set the options for player_key_widget\n",
    "update_players_widget(initial_df_index)\n",
    "\n",
    "widgets.interact(plot_scatters, player_ID=player_key_widget, df_index=df_index_widget,\n",
    "                 x=x_widget, y=y_widget, y_2=y_2_widget, x_min=x_min_widget, x_max=x_max_widget,\n",
    "                 show_line=show_line_widget, shade_area=shade_area_widget)\n",
    "\n",
    "# Update the player_key_widget options when df_index changes\n",
    "def on_df_index_change(change):\n",
    "    update_players_widget(change.new)\n",
    "\n",
    "df_index_widget.observe(on_df_index_change, names='value')\n",
    "update_players_widget(initial_df_index)  # update the player_key_widget options initially\n"
   ]
  }
 ],
 "metadata": {
  "kernelspec": {
   "display_name": "Python 3 (ipykernel)",
   "language": "python",
   "name": "python3"
  },
  "language_info": {
   "codemirror_mode": {
    "name": "ipython",
    "version": 3
   },
   "file_extension": ".py",
   "mimetype": "text/x-python",
   "name": "python",
   "nbconvert_exporter": "python",
   "pygments_lexer": "ipython3",
   "version": "3.10.0"
  },
  "orig_nbformat": 4,
  "vscode": {
   "interpreter": {
    "hash": "aee8b7b246df8f9039afb4144a1f6fd8d2ca17a180786b69acc140d282b71a49"
   }
  }
 },
 "nbformat": 4,
 "nbformat_minor": 2
}
