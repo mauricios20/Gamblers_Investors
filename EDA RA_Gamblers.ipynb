{
 "cells": [
  {
   "attachments": {},
   "cell_type": "markdown",
   "metadata": {},
   "source": [
    "# Exploratory Data Analysis\n",
    "I am using this notebook to learn how gamblers behaviors are similar to those of investors.\n",
    "\n",
    "## Define Libraries"
   ]
  },
  {
   "cell_type": "code",
   "execution_count": 3,
   "metadata": {},
   "outputs": [],
   "source": [
    "import pandas as pd\n",
    "import os\n",
    "import numpy as np\n",
    "import matplotlib.pyplot as plt\n",
    "import ipywidgets as widgets\n",
    "from ipywidgets import interactive, fixed, IntSlider, HBox, Layout, VBox\n",
    "\n",
    "# Getting rid of the SettingWithCopyWarning: \n",
    "pd.options.mode.chained_assignment = None"
   ]
  },
  {
   "attachments": {},
   "cell_type": "markdown",
   "metadata": {},
   "source": [
    "## Upload Data"
   ]
  },
  {
   "cell_type": "code",
   "execution_count": 4,
   "metadata": {},
   "outputs": [
    {
     "name": "stdout",
     "output_type": "stream",
     "text": [
      "<class 'pandas.core.frame.DataFrame'>\n",
      "Int64Index: 90000 entries, 0 to 90273\n",
      "Data columns (total 14 columns):\n",
      " #   Column                        Non-Null Count  Dtype  \n",
      "---  ------                        --------------  -----  \n",
      " 0   playercashableamt             90000 non-null  float64\n",
      " 1   wageredamt                    90000 non-null  float64\n",
      " 2   casino_grosswin               90000 non-null  float64\n",
      " 3   playerkey                     90000 non-null  int64  \n",
      " 4   age                           90000 non-null  int64  \n",
      " 5   slotdenominationname          90000 non-null  object \n",
      " 6   maxbet                        90000 non-null  int64  \n",
      " 7   assetnumber                   90000 non-null  int64  \n",
      " 8   theoreticalpaybackpercent     90000 non-null  float64\n",
      " 9   player_loss                   90000 non-null  float64\n",
      " 10  player_wins                   90000 non-null  float64\n",
      " 11  percent_return                90000 non-null  float64\n",
      " 12  playercashableamt_pct_change  89823 non-null  float64\n",
      " 13  time                          90000 non-null  int64  \n",
      "dtypes: float64(8), int64(5), object(1)\n",
      "memory usage: 10.3+ MB\n",
      "None\n"
     ]
    }
   ],
   "source": [
    "# Set working directory\n",
    "path = '/Users/mau/Library/CloudStorage/Dropbox/Mac/Documents/Dissertation/Chapter 2/Data'\n",
    "os.chdir(path)\n",
    "\n",
    "# Load data into a DataFrame\n",
    "dtf = pd.read_parquet(\"df40.parquet\")\n",
    "\n",
    "print(dtf.info())"
   ]
  },
  {
   "cell_type": "code",
   "execution_count": 5,
   "metadata": {},
   "outputs": [
    {
     "name": "stdout",
     "output_type": "stream",
     "text": [
      "['$5.00 ' '$10.00 ' '$1.00 ' '$2.00 ' '$0.25 ' '$0.05 ' '$0.01 ' '$0.02 '\n",
      " '$0.10 ' '$0.50 ' '$25.00 ' '$100.00 ' 'Unknown Denomination' '$50.00 ']\n",
      "['$5.00 ' '$10.00 ' '$1.00 ' '$2.00 ' '$0.25 ' '$0.05 ' '$0.01 ' '$0.02 '\n",
      " '$0.10 ' '$0.50 ' '$25.00 ' '$100.00 ' '$50.00 ']\n",
      "['5.00' '10.00' '1.00' '2.00' '0.25' '0.05' '0.01' '0.02' '0.10' '0.50'\n",
      " '25.00' '100.00' '50.00']\n",
      "<class 'pandas.core.frame.DataFrame'>\n",
      "Int64Index: 89996 entries, 0 to 90273\n",
      "Data columns (total 14 columns):\n",
      " #   Column                        Non-Null Count  Dtype  \n",
      "---  ------                        --------------  -----  \n",
      " 0   playercashableamt             89996 non-null  float64\n",
      " 1   wageredamt                    89996 non-null  float64\n",
      " 2   casino_grosswin               89996 non-null  float64\n",
      " 3   playerkey                     89996 non-null  int64  \n",
      " 4   age                           89996 non-null  int64  \n",
      " 5   maxbet                        89996 non-null  int64  \n",
      " 6   assetnumber                   89996 non-null  int64  \n",
      " 7   theoreticalpaybackpercent     89996 non-null  float64\n",
      " 8   player_loss                   89996 non-null  float64\n",
      " 9   player_wins                   89996 non-null  float64\n",
      " 10  percent_return                89996 non-null  float64\n",
      " 11  playercashableamt_pct_change  89819 non-null  float64\n",
      " 12  time                          89996 non-null  int64  \n",
      " 13  slotdenomination              89996 non-null  float64\n",
      "dtypes: float64(9), int64(5)\n",
      "memory usage: 10.3 MB\n",
      "None\n"
     ]
    },
    {
     "name": "stderr",
     "output_type": "stream",
     "text": [
      "/var/folders/vp/1skwx2kd29s4fxnxx7tt9r6w0000gn/T/ipykernel_5708/845957601.py:11: FutureWarning: The default value of regex will change from True to False in a future version. In addition, single character regular expressions will *not* be treated as literal strings when regex=True.\n",
      "  dtf['slotdenomination'] = dtf['slotdenominationname'].str.replace('$', '').str.replace(' ', '')\n"
     ]
    }
   ],
   "source": [
    "# Print unique values of slotdenominationname\n",
    "print(dtf['slotdenominationname'].unique())\n",
    "\n",
    "# Delete rows were slotdenominationname is equal to 'Unknown Denomination'\n",
    "dtf = dtf[dtf['slotdenominationname'] != 'Unknown Denomination']\n",
    "\n",
    "# Print unique values of slotdenominationname\n",
    "print(dtf['slotdenominationname'].unique())\n",
    "\n",
    "# Create a new column called slotdenomination that is equal to the slotdenominationname column that do not have dollar signs and spaces\n",
    "dtf['slotdenomination'] = dtf['slotdenominationname'].str.replace('$', '').str.replace(' ', '')\n",
    "\n",
    "# Print unique values of slotdenomination\n",
    "print(dtf['slotdenomination'].unique())\n",
    "\n",
    "# Convert slotdenomination to float\n",
    "dtf['slotdenomination'] = dtf['slotdenomination'].astype(float)\n",
    "\n",
    "# Drop slotdenominationname column\n",
    "dtf = dtf.drop(columns=['slotdenominationname'])\n",
    "\n",
    "print(dtf.info())"
   ]
  },
  {
   "attachments": {},
   "cell_type": "markdown",
   "metadata": {},
   "source": [
    "### Change Recognition\n",
    "It is time to see which palyers changed machines to either increas or decrease their minimum bets.  \n",
    "\n",
    "* Define function to look for our desire chage.\n",
    "* We are going to be using _slotdenominationname_ to observe the change\n",
    "* Create a variable _change_ that is 1 everytime _slotdenomination_ changes, 0 otherwise for each player"
   ]
  },
  {
   "cell_type": "code",
   "execution_count": 6,
   "metadata": {},
   "outputs": [
    {
     "name": "stdout",
     "output_type": "stream",
     "text": [
      "Total number of Slot Players: 83\n"
     ]
    }
   ],
   "source": [
    "# Count number of unique players\n",
    "print(\"Total number of Slot Players:\", dtf['playerkey'].nunique())"
   ]
  },
  {
   "cell_type": "code",
   "execution_count": 7,
   "metadata": {},
   "outputs": [
    {
     "name": "stdout",
     "output_type": "stream",
     "text": [
      "Count of players who increased their slotdeno: 50\n",
      "Count of times each player increases their slotdeno: {2: 2, 3: 1, 4: 2, 6: 1, 7: 1, 8: 3, 9: 1, 11: 2, 12: 2, 14: 20, 17: 1, 18: 158, 19: 2, 20: 117, 27: 2, 29: 25, 33: 17, 35: 4, 36: 1, 37: 2, 38: 6, 40: 1, 41: 1, 43: 1, 44: 1, 47: 3, 48: 1, 49: 1, 51: 1, 54: 1, 56: 1, 57: 2, 61: 2, 68: 2, 69: 2, 70: 2, 73: 31, 76: 15, 79: 5, 83: 1, 84: 1, 85: 3, 87: 1, 89: 1, 91: 2, 92: 1, 93: 4, 94: 4, 95: 6, 97: 3}\n",
      "Player who changes to a higher slotdenomination the most: 18\n",
      "------------------------------------------------------------------------------------------------------------------\n",
      "Count of players who decreased their slotdeno: 50\n",
      "Count of times each player decreases their slotdeno: {2: 3, 3: 1, 4: 2, 6: 1, 8: 3, 9: 1, 11: 1, 12: 1, 14: 23, 18: 156, 19: 3, 20: 114, 27: 1, 29: 25, 30: 2, 33: 19, 35: 2, 37: 2, 38: 5, 43: 1, 44: 1, 47: 1, 48: 1, 49: 1, 51: 1, 53: 1, 54: 2, 61: 3, 65: 1, 68: 2, 69: 2, 70: 1, 72: 3, 73: 29, 76: 12, 79: 7, 83: 1, 85: 2, 86: 1, 87: 1, 89: 1, 90: 1, 91: 1, 93: 4, 94: 3, 95: 5, 96: 2, 97: 3, 99: 1, 100: 1}\n",
      "Player who changes to a lower slotdenomination the most: 18\n",
      "------------------------------------------------------------------------------------------------------------------\n",
      "Count of players who change machines: 70\n",
      "Count of times each player changes machines: {2: 5, 3: 3, 4: 5, 6: 5, 7: 2, 8: 22, 9: 6, 11: 3, 12: 9, 13: 10, 14: 15, 16: 5, 17: 5, 18: 6, 19: 5, 20: 10, 21: 3, 22: 4, 23: 2, 27: 4, 29: 5, 30: 2, 33: 9, 35: 15, 36: 12, 37: 5, 38: 22, 40: 4, 43: 3, 44: 13, 46: 5, 47: 8, 48: 11, 49: 2, 51: 4, 52: 2, 53: 2, 54: 5, 56: 5, 61: 10, 62: 7, 63: 5, 65: 2, 66: 10, 69: 7, 70: 7, 72: 6, 73: 25, 76: 30, 77: 2, 79: 16, 82: 1, 83: 5, 84: 4, 85: 5, 86: 1, 87: 8, 88: 1, 89: 13, 90: 6, 91: 4, 92: 1, 93: 68, 94: 17, 95: 14, 96: 3, 97: 12, 98: 3, 99: 12, 100: 2}\n",
      "Player who changes machines the most: 93\n"
     ]
    }
   ],
   "source": [
    "# Create a colunm increase_bet that is 1 everytime slotdenomination increases 0 otherwise per player\n",
    "dtf[\"increase_slotdeno\"] = dtf.groupby(\"playerkey\")[\"slotdenomination\"].diff().fillna(0)\n",
    "dtf[\"increase_slotdeno\"] = dtf[\"increase_slotdeno\"].apply(lambda x: 1 if x > 0 else 0)\n",
    "\n",
    "# Create a list of players that change to a higher slotdenomination machine\n",
    "players_increase_slot = dtf[dtf[\"increase_slotdeno\"] == 1][\"playerkey\"].unique().tolist()\n",
    "\n",
    "# Count the number times each player changes to a higher slotdenomination machine, and store it in a dictionary\n",
    "players_increase_slot_count = {}\n",
    "for player in players_increase_slot:\n",
    "    players_increase_slot_count[player] = dtf[(dtf[\"playerkey\"] == player) & (dtf[\"increase_slotdeno\"] == 1)][\"increase_slotdeno\"].count()\n",
    "\n",
    "\n",
    "# Print count of players that change to a higher slotdenomination machine\n",
    "print(\"Count of players who increased their slotdeno:\", len(players_increase_slot))\n",
    "\n",
    "# Print the dictionary that contains the count of times each player changes to a higher slotdenomination machine\n",
    "print(\"Count of times each player increases their slotdeno:\", players_increase_slot_count)\n",
    "\n",
    "# Print the player who changes to a higher slotdenomination machine the most\n",
    "print(\"Player who changes to a higher slotdenomination the most:\", max(players_increase_slot_count, key=players_increase_slot_count.get))\n",
    "\n",
    "# Print speration line\n",
    "print(\"------------------------------------------------------------------------------------------------------------------\")\n",
    "\n",
    "# Create a colunm decrease_bet that is 1 everytime slotdenomination decreases 0 otherwise per player\n",
    "dtf[\"decrease_slot\"] = dtf.groupby(\"playerkey\")[\"slotdenomination\"].diff().fillna(0)\n",
    "dtf[\"decrease_slot\"] = dtf[\"decrease_slot\"].apply(lambda x: 1 if x < 0 else 0)\n",
    "\n",
    "# Create a list of players that decrease their bet\n",
    "players_decrease_slot = dtf[dtf[\"decrease_slot\"] == 1][\"playerkey\"].unique().tolist()\n",
    "\n",
    "# Count the number times a player changes to a lower demonination slot, and store it in a dictionary\n",
    "players_decrease_slot_count = {}\n",
    "for player in players_decrease_slot:\n",
    "    players_decrease_slot_count[player] = dtf[(dtf[\"playerkey\"] == player) & (dtf[\"decrease_slot\"] == 1)][\"decrease_slot\"].count()\n",
    "\n",
    "# Print count of players that change to a lower slotdenomination machine\n",
    "print(\"Count of players who decreased their slotdeno:\", len(players_decrease_slot))\n",
    "\n",
    "# Print the dictionary that contains the count of times each player changes to a lower slotdenomination machine\n",
    "print(\"Count of times each player decreases their slotdeno:\", players_decrease_slot_count)\n",
    "\n",
    "# Print the player who changes to a lower slotdenomination machine the most\n",
    "print(\"Player who changes to a lower slotdenomination the most:\", max(players_decrease_slot_count, key=players_decrease_slot_count.get))\n",
    "\n",
    "# Print speration line\n",
    "print(\"------------------------------------------------------------------------------------------------------------------\")\n",
    "\n",
    "# Create a column called change_machine that is 1 everytime a player changes assetnumber 0 otherwise\n",
    "dtf[\"change_machine\"] = dtf.groupby(\"playerkey\")[\"assetnumber\"].diff().fillna(0)\n",
    "dtf[\"change_machine\"] = dtf[\"change_machine\"].apply(lambda x: 1 if x != 0 else 0)\n",
    "\n",
    "# Create a list of players that change machines\n",
    "players_change_machine = dtf[dtf[\"change_machine\"] == 1][\"playerkey\"].unique().tolist()\n",
    "\n",
    "# Count the number times a player changes machines, and store it in a dictionary\n",
    "players_change_machine_count = {}\n",
    "for player in players_change_machine:\n",
    "    players_change_machine_count[player] = dtf[(dtf[\"playerkey\"] == player) & (dtf[\"change_machine\"] == 1)][\"change_machine\"].count()\n",
    "\n",
    "# Print count of players that change machines\n",
    "print(\"Count of players who change machines:\", len(players_change_machine))\n",
    "\n",
    "# Print the dictionary that contains the count of times each player changes machines\n",
    "print(\"Count of times each player changes machines:\", players_change_machine_count)\n",
    "\n",
    "# Print the player who changes machines the most\n",
    "print(\"Player who changes machines the most:\", max(players_change_machine_count, key=players_change_machine_count.get))\n"
   ]
  },
  {
   "cell_type": "code",
   "execution_count": 8,
   "metadata": {},
   "outputs": [
    {
     "name": "stdout",
     "output_type": "stream",
     "text": [
      "Count of players who increased their bet: 62\n",
      "Players who increased their bet and the number of times they increase their bet: {2: 2, 3: 2, 4: 2, 6: 2, 8: 3, 11: 1, 12: 2, 13: 3, 14: 4, 16: 2, 17: 2, 18: 2, 19: 3, 20: 3, 21: 1, 22: 1, 23: 2, 27: 2, 29: 2, 30: 2, 33: 4, 35: 4, 36: 5, 37: 2, 38: 6, 43: 1, 44: 1, 47: 3, 48: 3, 49: 1, 51: 1, 52: 1, 53: 2, 54: 3, 61: 1, 62: 1, 63: 2, 65: 1, 66: 3, 68: 1, 69: 4, 70: 2, 72: 4, 73: 9, 76: 10, 77: 1, 79: 4, 82: 1, 83: 1, 84: 1, 85: 1, 87: 2, 89: 2, 90: 2, 91: 1, 93: 34, 94: 17, 95: 2, 96: 2, 97: 4, 99: 6, 100: 4}\n",
      "Player who increases their bet the most: 93\n",
      "------------------------------------------------------------------------------------------------------------------\n",
      "Count of players who decreased their bet: 63\n",
      "Players who decrease their bet and the number of times they decrease their bet: {3: 1, 4: 1, 6: 3, 7: 2, 8: 3, 11: 2, 12: 3, 13: 2, 14: 5, 16: 2, 17: 3, 18: 1, 19: 2, 20: 3, 21: 1, 22: 2, 23: 3, 27: 1, 33: 4, 35: 7, 36: 4, 37: 3, 38: 8, 40: 1, 41: 1, 42: 1, 43: 1, 44: 2, 46: 3, 47: 4, 48: 3, 49: 1, 51: 1, 54: 1, 56: 1, 61: 1, 62: 2, 63: 1, 65: 1, 66: 4, 68: 3, 69: 3, 70: 3, 72: 2, 73: 12, 76: 12, 77: 1, 79: 4, 83: 2, 84: 2, 85: 2, 87: 3, 89: 3, 91: 2, 92: 1, 93: 39, 94: 15, 95: 1, 96: 1, 97: 2, 98: 1, 99: 6, 100: 3}\n",
      "Player who decreases their bet the most: 93\n"
     ]
    }
   ],
   "source": [
    "# Create same code as above but for maxbet\n",
    "# Create a colunm increase_bet that is 1 everytime maxbet increases 0 otherwise per player\n",
    "dtf[\"increase_maxbet\"] = dtf.groupby(\"playerkey\")[\"maxbet\"].diff().fillna(0)\n",
    "dtf[\"increase_maxbet\"] = dtf[\"increase_maxbet\"].apply(lambda x: 1 if x > 0 else 0)\n",
    "\n",
    "# Create a list of players that increase their bet\n",
    "players_increase_maxbet = dtf[dtf[\"increase_maxbet\"] == 1][\"playerkey\"].unique().tolist()\n",
    "\n",
    "# Count the number of times each player increases their bet, and store this in a dictionary\n",
    "players_increase_maxbet_count = {}\n",
    "for player in players_increase_maxbet:\n",
    "    players_increase_maxbet_count[player] = dtf[(dtf[\"playerkey\"] == player) & (dtf[\"increase_maxbet\"] == 1)][\"increase_maxbet\"].count()\n",
    "\n",
    "# Print the number of players that increase their bet\n",
    "print(\"Count of players who increased their bet:\", len(players_increase_maxbet))\n",
    "\n",
    "# Print the dictionary that contains the number of times each player increases their bet\n",
    "print(\"Players who increased their bet and the number of times they increase their bet:\", players_increase_maxbet_count)\n",
    "\n",
    "# Print the player that increases their bet the most and the number of times they increase their bet\n",
    "print(\"Player who increases their bet the most:\", max(players_increase_maxbet_count, key=players_increase_maxbet_count.get))\n",
    "\n",
    "# Print speration line\n",
    "print(\"------------------------------------------------------------------------------------------------------------------\")\n",
    "\n",
    "# Create a colunm decrease_bet that is 1 everytime maxbet decreases 0 otherwise per player\n",
    "dtf[\"decrease_maxbet\"] = dtf.groupby(\"playerkey\")[\"maxbet\"].diff().fillna(0)\n",
    "dtf[\"decrease_maxbet\"] = dtf[\"decrease_maxbet\"].apply(lambda x: 1 if x < 0 else 0)\n",
    "\n",
    "# Create a list of players that decrease their bet\n",
    "players_decrease_maxbet = dtf[dtf[\"decrease_maxbet\"] == 1][\"playerkey\"].unique().tolist()\n",
    "\n",
    "# Count the number of times each player decreases their bet, and store this in a dictionary\n",
    "players_decrease_maxbet_count = {}\n",
    "for player in players_decrease_maxbet:\n",
    "    players_decrease_maxbet_count[player] = dtf[(dtf[\"playerkey\"] == player) & (dtf[\"decrease_maxbet\"] == 1)][\"decrease_maxbet\"].count()\n",
    "\n",
    "# Print the number of players that decrease their bet\n",
    "print(\"Count of players who decreased their bet:\", len(players_decrease_maxbet))\n",
    "\n",
    "# Print the dictionary that contains the number of times each player decreases their bet\n",
    "print(\"Players who decrease their bet and the number of times they decrease their bet:\", players_decrease_maxbet_count)\n",
    "\n",
    "# Print the player that decreases their bet the most\n",
    "print(\"Player who decreases their bet the most:\", max(players_decrease_maxbet_count, key=players_decrease_maxbet_count.get))"
   ]
  },
  {
   "attachments": {},
   "cell_type": "markdown",
   "metadata": {},
   "source": [
    "### Change Recognition Part 2\n",
    "\n",
    "In this section we are analazying the change of slot denominantion and maxbet when the previous returns were either positive or negative."
   ]
  },
  {
   "cell_type": "code",
   "execution_count": 18,
   "metadata": {},
   "outputs": [],
   "source": [
    "def count_players_inc_lossing(dtf, n_periods, column):\n",
    "    # Create a column called inc_slot_lossing that is 1 if players_increase_slot is 1 and their percent_return was negative the previous n_periods sessions, 0 otherwise\n",
    "    inc_lossing_col = dtf.groupby(\"playerkey\")[column].shift(1).fillna(0)\n",
    "    inc_lossing_col = inc_lossing_col.apply(lambda x: 1 if x > 0 else 0)\n",
    "    for i in range(1, n_periods+1):\n",
    "        inc_lossing_col &= dtf[\"percent_return\"].shift(i).fillna(0).apply(lambda x: 1 if x < 0 else 0)\n",
    "    col_name = f\"{column}_lossing_{n_periods}\"\n",
    "    dtf[col_name] = inc_lossing_col\n",
    "\n",
    "    # Create a list of players that increase their bet when they were losing the previous n_periods sessions\n",
    "    players_inc_lossing = dtf[dtf[col_name] == 1][\"playerkey\"].unique().tolist()\n",
    "\n",
    "    # Count the number times a player increases their bet when they were losing the previous n_periods sessions, and store it in a dictionary\n",
    "    players_inc_lossing_count = {}\n",
    "    for player in players_inc_lossing:\n",
    "        players_inc_lossing_count[player] = dtf[(dtf[\"playerkey\"] == player) & (dtf[col_name] == 1)][col_name].count()\n",
    "\n",
    "    # Print count of players that increase their slot denomination when they were losing the previous n_periods sessions\n",
    "    print(\"Count of players who increase their bet when they were losing the previous\", n_periods, \"sessions:\", len(players_inc_lossing))\n",
    "\n",
    "    # Print the dictionary that contains the count of times each player increases their slot denomination when they were losing the previous n_periods sessions\n",
    "    print(\"Count of times each player increases their bet when they were losing the previous\", n_periods, \"sessions:\", players_inc_lossing_count)\n",
    "\n",
    "    # Print the player who increases their slot denomination when they were losing the previous n_periods sessions the most\n",
    "    print(\"Player who increases their bet when they were losing the previous\", n_periods, \"sessions the most:\", max(players_inc_lossing_count, key=players_inc_lossing_count.get))\n",
    "\n",
    "    # Print speration line\n",
    "    print(\"------------------------------------------------------------------------------------------------------------------\")\n",
    "    return players_inc_lossing\n",
    "\n",
    "def count_players_inc_winning(dtf, n_periods, column):\n",
    "    # Create a column called inc_slot_winning that is 1 if players_increase_slot is 1 and their percent_return was positive the previous n_periods sessions, 0 otherwise\n",
    "    inc_winning_col = dtf.groupby(\"playerkey\")[column].shift(1).fillna(0)\n",
    "    inc_winning_col = inc_winning_col.apply(lambda x: 1 if x > 0 else 0)\n",
    "    for i in range(1, n_periods+1):\n",
    "        inc_winning_col &= dtf[\"percent_return\"].shift(i).fillna(0).apply(lambda x: 1 if x > 0 else 0)\n",
    "    col_name = f\"{column}_winning_{n_periods}\"\n",
    "    dtf[col_name] = inc_winning_col\n",
    "\n",
    "    # Create a list of players that increase their bet when they were winning the previous n_periods sessions\n",
    "    players_inc_winning = dtf[dtf[col_name] == 1][\"playerkey\"].unique().tolist()\n",
    "\n",
    "    # Count the number times a player increases their bet when they were winning the previous n_periods sessions, and store it in a dictionary\n",
    "    players_inc_winning_count = {}\n",
    "    for player in players_inc_winning:\n",
    "        players_inc_winning_count[player] = dtf[(dtf[\"playerkey\"] == player) & (dtf[col_name] == 1)][col_name].count()\n",
    "    \n",
    "    # Print count of players that increase their slot denomination when they were winning the previous n_periods sessions\n",
    "    print(\"Count of players who increased their bet when they were winning the previous\", n_periods, \"sessions:\", len(players_inc_winning))\n",
    "\n",
    "    # Print the dictionary that contains the count of times each player increases slot denomination when they were winning the previous n_periods sessions\n",
    "    print(\"Count of times each player increases their bet when they were winning the previous\", n_periods, \"sessions:\", players_inc_winning_count)\n",
    "\n",
    "    # Print the player who increases their slot denomination when they were winning the previous n_periods sessions the most\n",
    "    print(\"Player who increases their bet when they were winning the previous\", n_periods, \"sessions the most:\", max(players_inc_winning_count, key=players_inc_winning_count.get))\n",
    "\n",
    "    # Print speration line\n",
    "    print(\"------------------------------------------------------------------------------------------------------------------\")\n",
    "    return players_inc_winning\n",
    "\n",
    "def count_players_change_lossing(dtf, n_periods, column):\n",
    "    # Create a column called inc_slot_lossing that is 1 if players_increase_slot is 1 and their percent_return was negative the previous n_periods sessions, 0 otherwise\n",
    "    inc_lossing_col = dtf.groupby(\"playerkey\")[column].shift(1).fillna(0)\n",
    "    inc_lossing_col = inc_lossing_col.apply(lambda x: 1 if x > 0 else 0)\n",
    "    for i in range(1, n_periods+1):\n",
    "        inc_lossing_col &= dtf[\"percent_return\"].shift(i).fillna(0).apply(lambda x: 1 if x < 0 else 0)\n",
    "    col_name = f\"{column}_lossing_{n_periods}\"\n",
    "    dtf[col_name] = inc_lossing_col\n",
    "\n",
    "    # Create a list of players that increase their bet when they were losing the previous n_periods sessions\n",
    "    players_inc_lossing = dtf[dtf[col_name] == 1][\"playerkey\"].unique().tolist()\n",
    "\n",
    "    # Count the number times a player increases their bet when they were losing the previous n_periods sessions, and store it in a dictionary\n",
    "    players_inc_lossing_count = {}\n",
    "    for player in players_inc_lossing:\n",
    "        players_inc_lossing_count[player] = dtf[(dtf[\"playerkey\"] == player) & (dtf[col_name] == 1)][col_name].count()\n",
    "\n",
    "    # Print count of players that increase their slot denomination when they were losing the previous n_periods sessions\n",
    "    print(\"Count of players who changed machines when they were losing the previous\", n_periods, \"sessions:\", len(players_inc_lossing))\n",
    "\n",
    "    # Print the dictionary that contains the count of times each player increases their slot denomination when they were losing the previous n_periods sessions\n",
    "    print(\"Count of times each player changed machines when they were losing the previous\", n_periods, \"sessions:\", players_inc_lossing_count)\n",
    "\n",
    "    # Print the player who increases their slot denomination when they were losing the previous n_periods sessions the most\n",
    "    print(\"Player who changes machines when they were losing the previous\", n_periods, \"sessions the most:\", max(players_inc_lossing_count, key=players_inc_lossing_count.get))\n",
    "\n",
    "    # Print speration line\n",
    "    print(\"------------------------------------------------------------------------------------------------------------------\")\n",
    "    return players_inc_lossing\n",
    "\n",
    "def count_players_change_winning(dtf, n_periods, column):\n",
    "    # Create a column called inc_slot_winning that is 1 if players_increase_slot is 1 and their percent_return was positive the previous n_periods sessions, 0 otherwise\n",
    "    inc_winning_col = dtf.groupby(\"playerkey\")[column].shift(1).fillna(0)\n",
    "    inc_winning_col = inc_winning_col.apply(lambda x: 1 if x > 0 else 0)\n",
    "    for i in range(1, n_periods+1):\n",
    "        inc_winning_col &= dtf[\"percent_return\"].shift(i).fillna(0).apply(lambda x: 1 if x > 0 else 0)\n",
    "    col_name = f\"{column}_winning_{n_periods}\"\n",
    "    dtf[col_name] = inc_winning_col\n",
    "\n",
    "    # Create a list of players that increase their bet when they were winning the previous n_periods sessions\n",
    "    players_inc_winning = dtf[dtf[col_name] == 1][\"playerkey\"].unique().tolist()\n",
    "\n",
    "    # Count the number times a player increases their bet when they were winning the previous n_periods sessions, and store it in a dictionary\n",
    "    players_inc_winning_count = {}\n",
    "    for player in players_inc_winning:\n",
    "        players_inc_winning_count[player] = dtf[(dtf[\"playerkey\"] == player) & (dtf[col_name] == 1)][col_name].count()\n",
    "    \n",
    "    # Print count of players that increase their slot denomination when they were winning the previous n_periods sessions\n",
    "    print(\"Count of players who changed machines when they were winning the previous\", n_periods, \"sessions:\", len(players_inc_winning))\n",
    "\n",
    "    # Print the dictionary that contains the count of times each player increases slot denomination when they were winning the previous n_periods sessions\n",
    "    print(\"Count of times each player changes machines when they were winning the previous\", n_periods, \"sessions:\", players_inc_winning_count)\n",
    "\n",
    "    # Print the player who increases their slot denomination when they were winning the previous n_periods sessions the most\n",
    "    print(\"Player who changes machines when they were winning the previous\", n_periods, \"sessions the most:\", max(players_inc_winning_count, key=players_inc_winning_count.get))\n",
    "\n",
    "    # Print speration line\n",
    "    print(\"------------------------------------------------------------------------------------------------------------------\")\n",
    "    return players_inc_winning"
   ]
  },
  {
   "attachments": {},
   "cell_type": "markdown",
   "metadata": {},
   "source": [
    "Let's define the palyers who increase their slot denomination while lossing the previous sessions:"
   ]
  },
  {
   "cell_type": "code",
   "execution_count": 10,
   "metadata": {},
   "outputs": [
    {
     "name": "stdout",
     "output_type": "stream",
     "text": [
      "Count of players who increase their bet when they were losing the previous 2 sessions: 42\n",
      "Count of times each player increases their bet when they were losing the previous 2 sessions: {2: 2, 3: 1, 4: 1, 8: 1, 11: 1, 12: 1, 14: 6, 18: 97, 20: 87, 27: 2, 29: 21, 33: 14, 35: 4, 36: 1, 37: 2, 38: 3, 40: 1, 41: 1, 43: 1, 47: 1, 48: 1, 49: 1, 51: 1, 54: 1, 57: 1, 61: 1, 68: 1, 69: 1, 70: 2, 73: 16, 76: 6, 83: 1, 84: 1, 85: 2, 87: 1, 89: 1, 91: 2, 92: 1, 93: 2, 94: 4, 95: 2, 97: 3}\n",
      "Player who increases their bet when they were losing the previous 2 sessions the most: 18\n",
      "------------------------------------------------------------------------------------------------------------------\n",
      "Count of players who increase their bet when they were losing the previous 3 sessions: 39\n",
      "Count of times each player increases their bet when they were losing the previous 3 sessions: {2: 2, 3: 1, 4: 1, 8: 1, 11: 1, 12: 1, 14: 6, 18: 86, 20: 69, 27: 2, 29: 18, 33: 14, 35: 4, 36: 1, 37: 2, 38: 2, 40: 1, 43: 1, 47: 1, 48: 1, 49: 1, 51: 1, 54: 1, 57: 1, 61: 1, 68: 1, 70: 2, 73: 15, 76: 4, 83: 1, 84: 1, 85: 1, 87: 1, 89: 1, 91: 2, 93: 2, 94: 4, 95: 2, 97: 3}\n",
      "Player who increases their bet when they were losing the previous 3 sessions the most: 18\n",
      "------------------------------------------------------------------------------------------------------------------\n",
      "Count of players who increase their bet when they were losing the previous 4 sessions: 37\n",
      "Count of times each player increases their bet when they were losing the previous 4 sessions: {2: 2, 3: 1, 4: 1, 8: 1, 11: 1, 12: 1, 14: 6, 18: 77, 20: 59, 27: 2, 29: 15, 33: 13, 35: 4, 36: 1, 37: 2, 38: 2, 40: 1, 43: 1, 47: 1, 48: 1, 49: 1, 51: 1, 54: 1, 61: 1, 68: 1, 70: 2, 73: 13, 76: 2, 83: 1, 84: 1, 85: 1, 87: 1, 89: 1, 91: 2, 93: 2, 94: 4, 97: 3}\n",
      "Player who increases their bet when they were losing the previous 4 sessions the most: 18\n",
      "------------------------------------------------------------------------------------------------------------------\n"
     ]
    }
   ],
   "source": [
    "players_inc_slot_lossing_2 = count_players_inc_lossing(dtf, 2, \"increase_slotdeno\") # Look at previous 2 sessions\n",
    "players_inc_slot_lossing_3 = count_players_inc_lossing(dtf, 3, \"increase_slotdeno\") # Look at previous 3 sessions\n",
    "players_inc_slot_lossing_4 = count_players_inc_lossing(dtf, 4, \"increase_slotdeno\") # Look at previous 4 sessions"
   ]
  },
  {
   "attachments": {},
   "cell_type": "markdown",
   "metadata": {},
   "source": [
    "Let's define the players who increse their maxbet while loosing the previuos sessions"
   ]
  },
  {
   "cell_type": "code",
   "execution_count": 13,
   "metadata": {},
   "outputs": [
    {
     "name": "stdout",
     "output_type": "stream",
     "text": [
      "Count of players who increase their bet when they were losing the previous 2 sessions: 57\n",
      "Count of times each player increases their bet when they were losing the previous 2 sessions: {2: 1, 3: 1, 4: 2, 6: 2, 8: 1, 11: 1, 12: 2, 13: 3, 14: 2, 16: 2, 17: 1, 18: 2, 19: 1, 20: 2, 21: 1, 22: 1, 23: 2, 27: 2, 29: 2, 30: 1, 33: 1, 35: 2, 36: 2, 37: 1, 38: 2, 43: 1, 47: 2, 48: 2, 49: 1, 51: 1, 52: 1, 53: 1, 54: 3, 62: 1, 63: 1, 66: 2, 69: 2, 70: 1, 72: 3, 73: 4, 76: 5, 77: 1, 79: 2, 82: 1, 83: 1, 84: 1, 85: 1, 87: 1, 89: 2, 90: 1, 91: 1, 93: 27, 94: 16, 96: 2, 97: 1, 99: 5, 100: 4}\n",
      "Player who increases their bet when they were losing the previous 2 sessions the most: 93\n",
      "------------------------------------------------------------------------------------------------------------------\n",
      "Count of players who increase their bet when they were losing the previous 3 sessions: 54\n",
      "Count of times each player increases their bet when they were losing the previous 3 sessions: {2: 1, 3: 1, 4: 2, 6: 2, 8: 1, 11: 1, 12: 2, 13: 3, 14: 2, 16: 2, 17: 1, 18: 2, 19: 1, 20: 1, 21: 1, 23: 2, 27: 2, 29: 1, 30: 1, 33: 1, 35: 2, 36: 2, 37: 1, 38: 2, 43: 1, 47: 2, 48: 1, 49: 1, 51: 1, 52: 1, 53: 1, 54: 3, 62: 1, 63: 1, 66: 2, 69: 2, 72: 2, 73: 4, 76: 4, 77: 1, 79: 2, 82: 1, 83: 1, 84: 1, 85: 1, 87: 1, 89: 2, 90: 1, 93: 24, 94: 13, 96: 2, 97: 1, 99: 5, 100: 4}\n",
      "Player who increases their bet when they were losing the previous 3 sessions the most: 93\n",
      "------------------------------------------------------------------------------------------------------------------\n",
      "Count of players who increase their bet when they were losing the previous 4 sessions: 46\n",
      "Count of times each player increases their bet when they were losing the previous 4 sessions: {2: 1, 3: 1, 4: 2, 8: 1, 11: 1, 12: 2, 13: 3, 14: 2, 16: 2, 17: 1, 18: 1, 19: 1, 20: 1, 21: 1, 23: 2, 27: 2, 29: 1, 35: 2, 36: 2, 38: 2, 43: 1, 47: 2, 48: 1, 49: 1, 51: 1, 54: 3, 62: 1, 63: 1, 66: 2, 69: 2, 72: 1, 73: 3, 76: 4, 77: 1, 79: 2, 82: 1, 83: 1, 84: 1, 87: 1, 89: 2, 90: 1, 93: 22, 94: 11, 96: 2, 99: 5, 100: 4}\n",
      "Player who increases their bet when they were losing the previous 4 sessions the most: 93\n",
      "------------------------------------------------------------------------------------------------------------------\n"
     ]
    }
   ],
   "source": [
    "players_inc_maxbet_lossing_2 = count_players_inc_lossing(dtf, 2, \"increase_maxbet\") # Look at previous 2 sessions\n",
    "players_inc_maxbet_lossing_3 = count_players_inc_lossing(dtf, 3, \"increase_maxbet\") # Look at previous 3 sessions\n",
    "players_inc_maxbet_lossing_4 = count_players_inc_lossing(dtf, 4, \"increase_maxbet\") # Look at previous 4 sessions"
   ]
  },
  {
   "cell_type": "code",
   "execution_count": 20,
   "metadata": {},
   "outputs": [
    {
     "name": "stdout",
     "output_type": "stream",
     "text": [
      "Count of players who changed machines when they were losing the previous 2 sessions: 69\n",
      "Count of times each player changed machines when they were losing the previous 2 sessions: {2: 2, 3: 2, 4: 3, 6: 4, 8: 9, 9: 2, 11: 2, 12: 7, 13: 8, 14: 7, 16: 5, 17: 4, 18: 5, 19: 1, 20: 9, 21: 1, 22: 3, 23: 2, 27: 4, 29: 5, 30: 1, 33: 4, 35: 10, 36: 9, 37: 3, 38: 11, 40: 3, 43: 2, 44: 8, 46: 4, 47: 3, 48: 9, 49: 1, 51: 4, 52: 2, 53: 1, 54: 5, 56: 3, 61: 5, 62: 4, 63: 3, 65: 1, 66: 3, 69: 4, 70: 5, 72: 5, 73: 16, 76: 15, 77: 2, 79: 2, 82: 1, 83: 5, 84: 4, 85: 4, 86: 1, 87: 6, 88: 1, 89: 9, 90: 5, 91: 4, 92: 1, 93: 56, 94: 15, 95: 8, 96: 3, 97: 5, 98: 1, 99: 8, 100: 2}\n",
      "Player who changes machines when they were losing the previous 2 sessions the most: 93\n",
      "------------------------------------------------------------------------------------------------------------------\n",
      "Count of players who changed machines when they were losing the previous 3 sessions: 68\n",
      "Count of times each player changed machines when they were losing the previous 3 sessions: {2: 2, 3: 2, 4: 3, 6: 3, 8: 8, 9: 2, 11: 2, 12: 6, 13: 8, 14: 7, 16: 5, 17: 4, 18: 5, 19: 1, 20: 7, 21: 1, 22: 1, 23: 2, 27: 4, 29: 4, 30: 1, 33: 4, 35: 10, 36: 9, 37: 3, 38: 10, 40: 3, 43: 2, 44: 6, 46: 4, 47: 3, 48: 8, 49: 1, 51: 4, 52: 2, 53: 1, 54: 4, 56: 3, 61: 5, 62: 4, 63: 3, 65: 1, 66: 3, 69: 3, 70: 4, 72: 3, 73: 16, 76: 12, 77: 2, 79: 2, 82: 1, 83: 5, 84: 4, 85: 3, 86: 1, 87: 6, 88: 1, 89: 8, 90: 4, 91: 3, 93: 52, 94: 13, 95: 6, 96: 3, 97: 5, 98: 1, 99: 8, 100: 2}\n",
      "Player who changes machines when they were losing the previous 3 sessions the most: 93\n",
      "------------------------------------------------------------------------------------------------------------------\n",
      "Count of players who changed machines when they were losing the previous 4 sessions: 65\n",
      "Count of times each player changed machines when they were losing the previous 4 sessions: {2: 2, 3: 2, 4: 3, 6: 1, 8: 7, 9: 1, 11: 2, 12: 5, 13: 8, 14: 7, 16: 5, 17: 4, 18: 4, 19: 1, 20: 7, 21: 1, 22: 1, 23: 2, 27: 4, 29: 4, 33: 2, 35: 10, 36: 9, 37: 2, 38: 9, 40: 3, 43: 2, 44: 5, 46: 4, 47: 3, 48: 8, 49: 1, 51: 3, 52: 1, 54: 4, 56: 3, 61: 4, 62: 4, 63: 3, 65: 1, 66: 3, 69: 3, 70: 4, 72: 2, 73: 13, 76: 8, 77: 2, 79: 2, 82: 1, 83: 3, 84: 4, 85: 2, 87: 6, 88: 1, 89: 8, 90: 4, 91: 2, 93: 49, 94: 11, 95: 2, 96: 3, 97: 4, 98: 1, 99: 7, 100: 2}\n",
      "Player who changes machines when they were losing the previous 4 sessions the most: 93\n",
      "------------------------------------------------------------------------------------------------------------------\n"
     ]
    }
   ],
   "source": [
    "players_change_machine_lossing_2 = count_players_change_lossing(dtf, 2, \"change_machine\") # Look at previous 2 sessions\n",
    "players_change_machine_lossing_3 = count_players_change_lossing(dtf, 3, \"change_machine\") # Look at previous 3 sessions\n",
    "players_change_machine_lossing_4 = count_players_change_lossing(dtf, 4, \"change_machine\") # Look at previous 4 sessions"
   ]
  },
  {
   "attachments": {},
   "cell_type": "markdown",
   "metadata": {},
   "source": [
    "Let's define the players who increase their slot denomination while winning their previous sessions:"
   ]
  },
  {
   "cell_type": "code",
   "execution_count": 38,
   "metadata": {},
   "outputs": [
    {
     "name": "stdout",
     "output_type": "stream",
     "text": [
      "Count of players that increase their bet when they were winning the previous 2 sessions: 6\n",
      "Count of times each player increases their bet when they were winning the previous 2 sessions: {6: 1, 14: 1, 18: 1, 19: 1, 57: 1, 73: 1}\n",
      "Player who increases their bet when they were winning the previous 2 sessions the most: 6\n",
      "------------------------------------------------------------------------------------------------------------------\n",
      "Count of players that increase their bet when they were winning the previous 3 sessions: 1\n",
      "Count of times each player increases their bet when they were winning the previous 3 sessions: {57: 1}\n",
      "Player who increases their bet when they were winning the previous 3 sessions the most: 57\n",
      "------------------------------------------------------------------------------------------------------------------\n",
      "Count of players that increase their bet when they were winning the previous 4 sessions: 1\n",
      "Count of times each player increases their bet when they were winning the previous 4 sessions: {57: 1}\n",
      "Player who increases their bet when they were winning the previous 4 sessions the most: 57\n",
      "------------------------------------------------------------------------------------------------------------------\n"
     ]
    }
   ],
   "source": [
    "players_inc_slot_winning_2 = count_players_inc_winning(dtf, 2, \"increase_slotdeno\") # Look at previous 2 sessions\n",
    "players_inc_slot_winning_3 = count_players_inc_winning(dtf, 3, \"increase_slotdeno\") # Look at previous 3 sessions\n",
    "players_inc_slot_winning_4 = count_players_inc_winning(dtf, 4, \"increase_slotdeno\") # Look at previous 4 sessions"
   ]
  },
  {
   "attachments": {},
   "cell_type": "markdown",
   "metadata": {},
   "source": [
    "Let's define the palyers who increase their maxbet while winning the previous sessions:"
   ]
  },
  {
   "cell_type": "code",
   "execution_count": 39,
   "metadata": {},
   "outputs": [
    {
     "name": "stdout",
     "output_type": "stream",
     "text": [
      "Count of players that increase their bet when they were winning the previous 2 sessions: 3\n",
      "Count of times each player increases their bet when they were winning the previous 2 sessions: {19: 1, 69: 1, 76: 1}\n",
      "Player who increases their bet when they were winning the previous 2 sessions the most: 19\n",
      "------------------------------------------------------------------------------------------------------------------\n",
      "Count of players that increase their bet when they were winning the previous 3 sessions: 1\n",
      "Count of times each player increases their bet when they were winning the previous 3 sessions: {69: 1}\n",
      "Player who increases their bet when they were winning the previous 3 sessions the most: 69\n",
      "------------------------------------------------------------------------------------------------------------------\n"
     ]
    }
   ],
   "source": [
    "players_inc_maxbet_winning_2 = count_players_inc_winning(dtf, 2, \"increase_maxbet\") # Look at previous 2 sessions\n",
    "players_inc_maxbet_winning_3 = count_players_inc_winning(dtf, 3, \"increase_maxbet\") # Look at previous 3 sessions\n",
    "# players_inc_maxbet_winning_4 = count_players_inc_winning(dtf, 4, \"increase_maxbet\") # Look at previous 4 sessions"
   ]
  },
  {
   "cell_type": "code",
   "execution_count": 19,
   "metadata": {},
   "outputs": [
    {
     "name": "stdout",
     "output_type": "stream",
     "text": [
      "Count of players who changed machines when they were winning the previous 2 sessions: 13\n",
      "Count of times each player changes machines when they were winning the previous 2 sessions: {6: 1, 14: 2, 19: 1, 21: 1, 38: 1, 43: 1, 62: 1, 66: 1, 69: 1, 73: 1, 76: 1, 85: 1, 93: 1}\n",
      "Player who changes machines when they were winning the previous 2 sessions the most: 14\n",
      "------------------------------------------------------------------------------------------------------------------\n",
      "Count of players who changed machines when they were winning the previous 3 sessions: 1\n",
      "Count of times each player changes machines when they were winning the previous 3 sessions: {69: 1}\n",
      "Player who changes machines when they were winning the previous 3 sessions the most: 69\n",
      "------------------------------------------------------------------------------------------------------------------\n"
     ]
    }
   ],
   "source": [
    "players_change_machine_winning_2 = count_players_change_winning(dtf, 2, \"change_machine\") # Look at previous 2 sessions\n",
    "players_change_machine_winning_3 = count_players_change_winning(dtf, 3, \"change_machine\") # Look at previous 3 sessions\n",
    "# players_change_machine_winning_4 = count_players_inc_winning(dtf, 4, \"change_machine\") # Look at previous 4 sessions"
   ]
  },
  {
   "attachments": {},
   "cell_type": "markdown",
   "metadata": {},
   "source": [
    "## Slicing DataFrames per Matched Players and Visualizing Outcomes\n",
    "\n",
    "By this point we have several lists of individuals who increased or decreased their bet by changing slot denomination or increasing their min bet. \n",
    "\n",
    "The first set of lists are (Generic):\n",
    "* _players_increase_slot_\n",
    "* _players_decrease_slot_\n",
    "* _players_increase_maxbet_\n",
    "* _players_decrease_maxbet_\n",
    "\n",
    "The second set of lists are (While Lossing):\n",
    "* _players_inc_slot_lossing_2_: players who change to a higher denomination slot while lossing their previous 2 sessions.\n",
    "* _players_inc_slot_lossing_3_: players who change to a higher denomination slot while lossing their previous 3 sessions.\n",
    "* _players_inc_slot_lossing_4_: players who change to a higher denomination slot while lossing their previous 4 sessions.\n",
    "* _players_inc_maxbet_lossing_2_: players who increase their maxbet while lossing their previous 2 sessions.\n",
    "* _players_inc_maxbet_lossing_3_: players who increase their maxbet while lossing their previous 3 sessions.\n",
    "* _players_inc_maxbet_lossing_4_: players who increase their maxbet while lossing their previous 4 sessions.\n",
    "\n",
    "The third set of lists are (While winning):\n",
    "* _players_inc_slot_winning_2_: players who change to a higher denomination slot while winning their previous 2 sessions.\n",
    "* _players_inc_slot_winning_3_: players who change to a higher denomination slot while winning their previous 3 sessions.\n",
    "* _players_inc_slot_winning_4_: players who change to a higher denomination slot while winning their previous 4 sessions.\n",
    "* _players_inc_maxbet_winning_2_: players who increase their maxbet while winning their previous 2 sessions.\n",
    "* _players_inc_maxbet_winning_3_: players who increase their maxbet while winning their previous 2 sessions.\n",
    "\n",
    "Let's define a slicing function for our lists to be used in the general dataframe."
   ]
  },
  {
   "cell_type": "code",
   "execution_count": 40,
   "metadata": {},
   "outputs": [],
   "source": [
    "def filter_match(df, players_match, match_column, rolling_window, fill_value):\n",
    "    # Create a new DataFrame with only the players that appear in players_match\n",
    "    df_match_all = df[df[\"playerkey\"].isin(players_match)]\n",
    "\n",
    "    # Creaete a new column for called match_rolling that is True for the rows around match_column is True\n",
    "    df_match_all.loc[:, \"match_rolling\"] = df_match_all[match_column].rolling(window=rolling_window, center=True).apply(lambda x: any(x)).fillna(fill_value).astype(int)\n",
    "    \n",
    "    # Slice the DataFrame to only include the rows where match_rolling is True\n",
    "    df_match_slice = df_match_all[df_match_all[\"match_rolling\"] == True]\n",
    "    # Return the new DataFrame\n",
    "    return df_match_all, df_match_slice"
   ]
  },
  {
   "attachments": {},
   "cell_type": "markdown",
   "metadata": {},
   "source": [
    "First set of dataframes from generic lists"
   ]
  },
  {
   "cell_type": "code",
   "execution_count": 41,
   "metadata": {},
   "outputs": [],
   "source": [
    "# Set rolling window (17 will set the rolling window to 17, 8 obersevations before and 8 observations after):\n",
    "rolling = 17\n",
    "\n",
    "# Create a new DataFrame with only the players that appear in players_increase_slot \n",
    "dtf_all_inc_slot, dtf_inc_slot = filter_match(df=dtf, players_match=players_increase_slot, match_column=\"increase_slotdeno\", rolling_window=rolling, fill_value=False)\n",
    "\n",
    "# Create a new DataFrame with only the players that appear in players_decrease_slot \n",
    "dtf_all_dec_slot, dtf_dec_slot = filter_match(df=dtf, players_match=players_decrease_slot, match_column=\"decrease_slot\", rolling_window=rolling, fill_value=False)\n",
    "\n",
    "# Create a new DataFrame with only the players that appear in players_increase_maxbet \n",
    "dtf_all_inc_maxbet, dtf_inc_maxbet = filter_match(df=dtf, players_match=players_increase_maxbet, match_column=\"increase_maxbet\", rolling_window=rolling, fill_value=False)\n",
    "\n",
    "# Create a new DataFrame with only the players that appear in players_decrease_maxbet \n",
    "dtf_all_dec_maxbet, dtf_dec_maxbet = filter_match(df=dtf, players_match=players_decrease_maxbet, match_column=\"decrease_maxbet\", rolling_window=rolling, fill_value=False)\n",
    "\n",
    "# Create a list of DataFrames that contains all the DataFrames that we want to plot\n",
    "dtf_generic = [dtf_inc_slot, dtf_dec_slot, dtf_inc_maxbet, dtf_dec_maxbet]"
   ]
  },
  {
   "attachments": {},
   "cell_type": "markdown",
   "metadata": {},
   "source": [
    "Second set of dataframes from lossing previous rounds:"
   ]
  },
  {
   "cell_type": "code",
   "execution_count": 42,
   "metadata": {},
   "outputs": [],
   "source": [
    "# Set rolling window (17 will set the rolling window to 17, 8 obersevations before and 8 observations after):\n",
    "rolling = 17\n",
    "\n",
    "# Create a new DataFrame with only the players that appear in players_inc_slot_lossing_2\n",
    "dtf_all_inc_slot_lossing_2, dtf_inc_slot_lossing_2 = filter_match(df=dtf, players_match=players_inc_slot_lossing_2, match_column=\"increase_slotdeno_lossing_2\", rolling_window=rolling, fill_value=False)\n",
    "\n",
    "# Create a new DataFrame with only the players that appear in players_inc_slot_lossing_3\n",
    "dtf_all_inc_slot_lossing_3, dtf_inc_slot_lossing_3 = filter_match(df=dtf, players_match=players_inc_slot_lossing_3, match_column=\"increase_slotdeno_lossing_3\", rolling_window=rolling, fill_value=False)\n",
    "\n",
    "# Create a new DataFrame with only the players that appear in players_inc_slot_lossing_4\n",
    "dtf_all_inc_slot_lossing_4, dtf_inc_slot_lossing_4 = filter_match(df=dtf, players_match=players_inc_slot_lossing_4, match_column=\"increase_slotdeno_lossing_4\", rolling_window=rolling, fill_value=False)\n",
    "\n",
    "# Create a new DataFrame with only the players that appear in players_inc_maxbet_lossing_2\n",
    "dtf_all_inc_maxbet_lossing_2, dtf_inc_maxbet_lossing_2 = filter_match(df=dtf, players_match=players_inc_maxbet_lossing_2, match_column=\"increase_maxbet_lossing_2\", rolling_window=rolling, fill_value=False)\n",
    "\n",
    "# Create a new DataFrame with only the players that appear in players_inc_maxbet_lossing_3\n",
    "dtf_all_inc_maxbet_lossing_3, dtf_inc_maxbet_lossing_3 = filter_match(df=dtf, players_match=players_inc_maxbet_lossing_3, match_column=\"increase_maxbet_lossing_3\", rolling_window=rolling, fill_value=False)\n",
    "\n",
    "# Create a new DataFrame with only the players that appear in players_inc_maxbet_lossing_4\n",
    "dtf_all_inc_maxbet_lossing_4, dtf_inc_maxbet_lossing_4 = filter_match(df=dtf, players_match=players_inc_maxbet_lossing_4, match_column=\"increase_maxbet_lossing_4\", rolling_window=rolling, fill_value=False)\n",
    "\n",
    "# Create a list of DataFrames that contains all the DataFrames that we want to plot\n",
    "dtf_lossing = [dtf_inc_slot_lossing_2, dtf_inc_slot_lossing_3, dtf_inc_slot_lossing_4, dtf_inc_maxbet_lossing_2, dtf_inc_maxbet_lossing_3, dtf_inc_maxbet_lossing_4]"
   ]
  },
  {
   "attachments": {},
   "cell_type": "markdown",
   "metadata": {},
   "source": [
    "Third dataframes from winning previous rounds"
   ]
  },
  {
   "cell_type": "code",
   "execution_count": 43,
   "metadata": {},
   "outputs": [],
   "source": [
    "# Set rolling window (17 will set the rolling window to 17, 8 obersevations before and 8 observations after):\n",
    "rolling = 17\n",
    "\n",
    "# Create a new DataFrame with only the players that appear in players_inc_slot_winning_2\n",
    "dtf_all_inc_slot_winning_2, dtf_inc_slot_winning_2 = filter_match(df=dtf, players_match=players_inc_slot_winning_2, match_column=\"increase_slotdeno_winning_2\", rolling_window=rolling, fill_value=False)\n",
    "\n",
    "# Create a new DataFrame with only the players that appear in players_inc_slot_winning_3\n",
    "dtf_all_inc_slot_winning_3, dtf_inc_slot_winning_3 = filter_match(df=dtf, players_match=players_inc_slot_winning_3, match_column=\"increase_slotdeno_winning_3\", rolling_window=rolling, fill_value=False)\n",
    "\n",
    "# Create a new DataFrame with only the players that appear in players_inc_slot_winning_4\n",
    "dtf_all_inc_slot_winning_4, dtf_inc_slot_winning_4 = filter_match(df=dtf, players_match=players_inc_slot_winning_4, match_column=\"increase_slotdeno_winning_4\", rolling_window=rolling, fill_value=False)\n",
    "\n",
    "# Create a new DataFrame with only the players that appear in players_inc_maxbet_winning_2\n",
    "dtf_all_inc_maxbet_winning_2, dtf_inc_maxbet_winning_2 = filter_match(df=dtf, players_match=players_inc_maxbet_winning_2, match_column=\"increase_maxbet_winning_2\", rolling_window=rolling, fill_value=False)\n",
    "\n",
    "# Create a new DataFrame with only the players that appear in players_inc_maxbet_winning_3\n",
    "dtf_all_inc_maxbet_winning_3, dtf_inc_maxbet_winning_3 = filter_match(df=dtf, players_match=players_inc_maxbet_winning_3, match_column=\"increase_maxbet_winning_3\", rolling_window=rolling, fill_value=False)\n",
    "\n",
    "# Create a list of DataFrames that contains all the DataFrames that we want to plot\n",
    "dtf_winning = [dtf_inc_slot_winning_2, dtf_inc_slot_winning_3, dtf_inc_slot_winning_4, dtf_inc_maxbet_winning_2, dtf_inc_maxbet_winning_3]"
   ]
  },
  {
   "attachments": {},
   "cell_type": "markdown",
   "metadata": {},
   "source": [
    "## Interactive Plots\n",
    "\n",
    "The following section would be used to explore the data in an interactive way. These plots allow for user interaction, such as zooming, panning, and selecting data points. Users can customize the plot by choosing different variables to plot, adjusting axes ranges, and selecting data subsets. The interactive plots provide a dynamic way to visually explore the data and can reveal patterns or relationships that might not be apparent from static plots alone. By using interactive plots, we can gain a deeper understanding of the data and make more informed decisions during the data analysis process."
   ]
  },
  {
   "attachments": {},
   "cell_type": "markdown",
   "metadata": {},
   "source": [
    "### First Plot Generic dataframes:\n",
    "\n",
    "List of DataFrames that contains all generinc dataframes\n",
    "* dtf_generic = [dtf_inc_slot, dtf_dec_slot, dtf_inc_maxbet, dtf_dec_maxbet]"
   ]
  },
  {
   "cell_type": "code",
   "execution_count": 44,
   "metadata": {},
   "outputs": [
    {
     "name": "stdout",
     "output_type": "stream",
     "text": [
      "8468 1\n"
     ]
    },
    {
     "data": {
      "application/vnd.jupyter.widget-view+json": {
       "model_id": "60a09525068044608cab6fc8d81f1019",
       "version_major": 2,
       "version_minor": 0
      },
      "text/plain": [
       "interactive(children=(Dropdown(description='player_ID', options=((2, 0), (3, 1), (4, 2), (6, 3), (7, 4), (8, 5…"
      ]
     },
     "metadata": {},
     "output_type": "display_data"
    }
   ],
   "source": [
    "import matplotlib.pyplot as plt\n",
    "import ipywidgets as widgets\n",
    "\n",
    "# Make a list of all the dataframes that are match and slice\n",
    "dtf_lists = dtf_generic\n",
    "\n",
    "# Calculate the max and min values for the 'time' column for each DataFrame\n",
    "time_max = max([df[\"time\"].max() for df in dtf_lists])\n",
    "time_min = min([df[\"time\"].min() for df in dtf_lists])\n",
    "\n",
    "print(time_max, time_min)\n",
    "\n",
    "# Create a scatter plot of the players wins for only player with key 3\n",
    "def plot_scatters(player_ID, df_index, x=\"time\", y=\"percent_return\", y_2=None, x_min=None, x_max=None, show_line=False, shade_area=False):\n",
    "    df = dtf_lists[df_index]\n",
    "    players = df[\"playerkey\"].unique().tolist()\n",
    "    player_df = df[df[\"playerkey\"] == players[player_ID]]\n",
    "    \n",
    "    fig, ax1 = plt.subplots()\n",
    "    ax1.set_xlabel(x)\n",
    "    ax1.set_ylabel(y, color='royalblue')\n",
    "    if x_min is not None and x_max is not None:\n",
    "        player_df = player_df[(player_df[x] >= x_min) & (player_df[x] <= x_max)]\n",
    "    ax1.scatter(x=player_df[x], y=player_df[y], color='royalblue')\n",
    "    \n",
    "    if y_2 is not None:\n",
    "        ax2 = ax1.twinx()\n",
    "        ax2.set_ylabel(y_2, color='r')\n",
    "        if x_min is not None and x_max is not None:\n",
    "            player_df = player_df[(player_df[x] >= x_min) & (player_df[x] <= x_max)]\n",
    "        ax2.scatter(x=player_df[x], y=player_df[y_2], color='orangered', marker='s')\n",
    "        ax2.tick_params(axis='y', labelcolor='orangered')\n",
    "        # Add a line to the plot if show_line is True\n",
    "        if show_line:\n",
    "            ax2.plot(player_df[x], player_df[y_2], color='black', linewidth=0.8, linestyle='--')\n",
    "        if shade_area:\n",
    "            ax2.fill_between(player_df[x], player_df[y_2], color='lightcoral', alpha=0.5)\n",
    "    \n",
    "    if show_line:\n",
    "        ax1.plot(player_df[x], player_df[y], color='black', linewidth=0.8)\n",
    "        \n",
    "    if shade_area:\n",
    "        ax1.fill_between(player_df[x], player_df[y], color='lightblue', alpha=0.5)\n",
    "\n",
    "    ax1.tick_params(axis='y', labelcolor='black')\n",
    "    ax1.grid()\n",
    "    plt.title(f\"Player {players[player_ID]}\")\n",
    "    plt.show()\n",
    "\n",
    "# Create widgets for playerkey, df_index, x, y, y_2, x_min, and x_max\n",
    "df_index_widget = widgets.Dropdown(options=[(f\"DataFrame {i}\", i) for i in range(len(dtf_lists))])\n",
    "x_widget = widgets.Dropdown(options=list(dtf_lists[0].columns), value=\"time\")\n",
    "y_widget = widgets.Dropdown(options=list(dtf_lists[0].columns), value=\"percent_return\")\n",
    "y_2_widget = widgets.Dropdown(options=[None]+list(dtf_lists[0].columns), value=None)\n",
    "x_min_widget = widgets.FloatText(description=\"x_min\", value=time_min)\n",
    "x_max_widget = widgets.FloatText(description=\"x_max\", value=time_max)\n",
    "show_line_widget = widgets.Checkbox(description='Show line', value=False)\n",
    "shade_area_widget = widgets.Checkbox(description='Shade area', value=False)\n",
    "\n",
    "# Create a function to update the players_widget based on the selected df_index\n",
    "def update_players_widget(df_index):\n",
    "    df = dtf_lists[df_index]\n",
    "    players = df[\"playerkey\"].unique().tolist()\n",
    "    player_key_widget.options = [(p, i) for i, p in enumerate(players)]\n",
    "\n",
    "# Create a players_widget for the initial df_index value\n",
    "initial_df_index = df_index_widget.value\n",
    "initial_df = dtf_lists[initial_df_index]\n",
    "initial_players = initial_df[\"playerkey\"].unique().tolist()\n",
    "player_key_widget = widgets.Dropdown(options=[], value=None)\n",
    "\n",
    "# Call update_players_widget with the initial_df_index value to set the options for player_key_widget\n",
    "update_players_widget(initial_df_index)\n",
    "\n",
    "widgets.interact(plot_scatters, player_ID=player_key_widget, df_index=df_index_widget,\n",
    "                 x=x_widget, y=y_widget, y_2=y_2_widget, x_min=x_min_widget, x_max=x_max_widget,\n",
    "                 show_line=show_line_widget, shade_area=shade_area_widget)\n",
    "\n",
    "# Update the player_key_widget options when df_index changes\n",
    "def on_df_index_change(change):\n",
    "    update_players_widget(change.new)\n",
    "\n",
    "df_index_widget.observe(on_df_index_change, names='value')\n",
    "update_players_widget(initial_df_index)  # update the player_key_widget options initially\n"
   ]
  },
  {
   "attachments": {},
   "cell_type": "markdown",
   "metadata": {},
   "source": [
    "### Second Plot Lossing Dataframes:\n",
    "\n",
    "List of DataFrames that contains all lossing dataframes\n",
    "* dtf_lossing = [dtf_inc_slot_lossing_2, dtf_inc_slot_lossing_3, dtf_inc_slot_lossing_4, dtf_inc_maxbet_lossing_2, dtf_inc_maxbet_lossing_3, dtf_inc_maxbet_lossing_4]"
   ]
  },
  {
   "cell_type": "code",
   "execution_count": null,
   "metadata": {},
   "outputs": [],
   "source": [
    "# Make a list of all the dataframes that are match and slice\n",
    "dtf_lists = dtf_lossing\n",
    "\n",
    "# Calculate the max and min values for the 'time' column for each DataFrame\n",
    "time_max = max([df[\"time\"].max() for df in dtf_lists])\n",
    "time_min = min([df[\"time\"].min() for df in dtf_lists])\n",
    "\n",
    "print(time_max, time_min)\n",
    "\n",
    "# Create a scatter plot of the players wins for only player with key 3\n",
    "def plot_scatters(player_ID, df_index, x=\"time\", y=\"percent_return\", y_2=None, x_min=None, x_max=None, show_line=False, shade_area=False):\n",
    "    df = dtf_lists[df_index]\n",
    "    players = df[\"playerkey\"].unique().tolist()\n",
    "    player_df = df[df[\"playerkey\"] == players[player_ID]]\n",
    "    \n",
    "    fig, ax1 = plt.subplots()\n",
    "    ax1.set_xlabel(x)\n",
    "    ax1.set_ylabel(y, color='royalblue')\n",
    "    if x_min is not None and x_max is not None:\n",
    "        player_df = player_df[(player_df[x] >= x_min) & (player_df[x] <= x_max)]\n",
    "    ax1.scatter(x=player_df[x], y=player_df[y], color='royalblue')\n",
    "    \n",
    "    if y_2 is not None:\n",
    "        ax2 = ax1.twinx()\n",
    "        ax2.set_ylabel(y_2, color='r')\n",
    "        if x_min is not None and x_max is not None:\n",
    "            player_df = player_df[(player_df[x] >= x_min) & (player_df[x] <= x_max)]\n",
    "        ax2.scatter(x=player_df[x], y=player_df[y_2], color='orangered', marker='s')\n",
    "        ax2.tick_params(axis='y', labelcolor='orangered')\n",
    "        # Add a line to the plot if show_line is True\n",
    "        if show_line:\n",
    "            ax2.plot(player_df[x], player_df[y_2], color='black', linewidth=0.8, linestyle='--')\n",
    "        if shade_area:\n",
    "            ax2.fill_between(player_df[x], player_df[y_2], color='lightcoral', alpha=0.5)\n",
    "    \n",
    "    if show_line:\n",
    "        ax1.plot(player_df[x], player_df[y], color='black', linewidth=0.8)\n",
    "        \n",
    "    if shade_area:\n",
    "        ax1.fill_between(player_df[x], player_df[y], color='lightblue', alpha=0.5)\n",
    "\n",
    "    ax1.tick_params(axis='y', labelcolor='black')\n",
    "    ax1.grid()\n",
    "    plt.title(f\"Player {players[player_ID]}\")\n",
    "    plt.show()\n",
    "\n",
    "# Create widgets for playerkey, df_index, x, y, y_2, x_min, and x_max\n",
    "df_index_widget = widgets.Dropdown(options=[(f\"DataFrame {i}\", i) for i in range(len(dtf_lists))])\n",
    "x_widget = widgets.Dropdown(options=list(dtf_lists[0].columns), value=\"time\")\n",
    "y_widget = widgets.Dropdown(options=list(dtf_lists[0].columns), value=\"percent_return\")\n",
    "y_2_widget = widgets.Dropdown(options=[None]+list(dtf_lists[0].columns), value=None)\n",
    "x_min_widget = widgets.FloatText(description=\"x_min\", value=time_min)\n",
    "x_max_widget = widgets.FloatText(description=\"x_max\", value=time_max)\n",
    "show_line_widget = widgets.Checkbox(description='Show line', value=False)\n",
    "shade_area_widget = widgets.Checkbox(description='Shade area', value=False)\n",
    "\n",
    "# Create a function to update the players_widget based on the selected df_index\n",
    "def update_players_widget(df_index):\n",
    "    df = dtf_lists[df_index]\n",
    "    players = df[\"playerkey\"].unique().tolist()\n",
    "    player_key_widget.options = [(p, i) for i, p in enumerate(players)]\n",
    "\n",
    "# Create a players_widget for the initial df_index value\n",
    "initial_df_index = df_index_widget.value\n",
    "initial_df = dtf_lists[initial_df_index]\n",
    "initial_players = initial_df[\"playerkey\"].unique().tolist()\n",
    "player_key_widget = widgets.Dropdown(options=[], value=None)\n",
    "\n",
    "# Call update_players_widget with the initial_df_index value to set the options for player_key_widget\n",
    "update_players_widget(initial_df_index)\n",
    "\n",
    "widgets.interact(plot_scatters, player_ID=player_key_widget, df_index=df_index_widget,\n",
    "                 x=x_widget, y=y_widget, y_2=y_2_widget, x_min=x_min_widget, x_max=x_max_widget,\n",
    "                 show_line=show_line_widget, shade_area=shade_area_widget)\n",
    "\n",
    "# Update the player_key_widget options when df_index changes\n",
    "def on_df_index_change(change):\n",
    "    update_players_widget(change.new)\n",
    "\n",
    "df_index_widget.observe(on_df_index_change, names='value')\n",
    "update_players_widget(initial_df_index)  # update the player_key_widget options initially\n"
   ]
  },
  {
   "attachments": {},
   "cell_type": "markdown",
   "metadata": {},
   "source": [
    "### Third Plot Winning Dataframes:\n",
    "\n",
    "List of DataFrames that contains all winning dataframes:\n",
    "* dtf_winning = [dtf_inc_slot_winning_2, dtf_inc_slot_winning_3, dtf_inc_slot_winning_4, dtf_inc_maxbet_winning_2, dtf_inc_maxbet_winning_3]"
   ]
  },
  {
   "cell_type": "code",
   "execution_count": null,
   "metadata": {},
   "outputs": [],
   "source": [
    "# Make a list of all the dataframes that are match and slice\n",
    "dtf_lists = dtf_winning\n",
    "\n",
    "# Calculate the max and min values for the 'time' column for each DataFrame\n",
    "time_max = max([df[\"time\"].max() for df in dtf_lists])\n",
    "time_min = min([df[\"time\"].min() for df in dtf_lists])\n",
    "\n",
    "print(time_max, time_min)\n",
    "\n",
    "# Create a scatter plot of the players wins for only player with key 3\n",
    "def plot_scatters(player_ID, df_index, x=\"time\", y=\"percent_return\", y_2=None, x_min=None, x_max=None, show_line=False, shade_area=False):\n",
    "    df = dtf_lists[df_index]\n",
    "    players = df[\"playerkey\"].unique().tolist()\n",
    "    player_df = df[df[\"playerkey\"] == players[player_ID]]\n",
    "    \n",
    "    fig, ax1 = plt.subplots()\n",
    "    ax1.set_xlabel(x)\n",
    "    ax1.set_ylabel(y, color='royalblue')\n",
    "    if x_min is not None and x_max is not None:\n",
    "        player_df = player_df[(player_df[x] >= x_min) & (player_df[x] <= x_max)]\n",
    "    ax1.scatter(x=player_df[x], y=player_df[y], color='royalblue')\n",
    "    \n",
    "    if y_2 is not None:\n",
    "        ax2 = ax1.twinx()\n",
    "        ax2.set_ylabel(y_2, color='r')\n",
    "        if x_min is not None and x_max is not None:\n",
    "            player_df = player_df[(player_df[x] >= x_min) & (player_df[x] <= x_max)]\n",
    "        ax2.scatter(x=player_df[x], y=player_df[y_2], color='orangered', marker='s')\n",
    "        ax2.tick_params(axis='y', labelcolor='orangered')\n",
    "        # Add a line to the plot if show_line is True\n",
    "        if show_line:\n",
    "            ax2.plot(player_df[x], player_df[y_2], color='black', linewidth=0.8, linestyle='--')\n",
    "        if shade_area:\n",
    "            ax2.fill_between(player_df[x], player_df[y_2], color='lightcoral', alpha=0.5)\n",
    "    \n",
    "    if show_line:\n",
    "        ax1.plot(player_df[x], player_df[y], color='black', linewidth=0.8)\n",
    "        \n",
    "    if shade_area:\n",
    "        ax1.fill_between(player_df[x], player_df[y], color='lightblue', alpha=0.5)\n",
    "\n",
    "    ax1.tick_params(axis='y', labelcolor='black')\n",
    "    ax1.grid()\n",
    "    plt.title(f\"Player {players[player_ID]}\")\n",
    "    plt.show()\n",
    "\n",
    "# Create widgets for playerkey, df_index, x, y, y_2, x_min, and x_max\n",
    "df_index_widget = widgets.Dropdown(options=[(f\"DataFrame {i}\", i) for i in range(len(dtf_lists))])\n",
    "x_widget = widgets.Dropdown(options=list(dtf_lists[0].columns), value=\"time\")\n",
    "y_widget = widgets.Dropdown(options=list(dtf_lists[0].columns), value=\"percent_return\")\n",
    "y_2_widget = widgets.Dropdown(options=[None]+list(dtf_lists[0].columns), value=None)\n",
    "x_min_widget = widgets.FloatText(description=\"x_min\", value=time_min)\n",
    "x_max_widget = widgets.FloatText(description=\"x_max\", value=time_max)\n",
    "show_line_widget = widgets.Checkbox(description='Show line', value=False)\n",
    "shade_area_widget = widgets.Checkbox(description='Shade area', value=False)\n",
    "\n",
    "# Create a function to update the players_widget based on the selected df_index\n",
    "def update_players_widget(df_index):\n",
    "    df = dtf_lists[df_index]\n",
    "    players = df[\"playerkey\"].unique().tolist()\n",
    "    player_key_widget.options = [(p, i) for i, p in enumerate(players)]\n",
    "\n",
    "# Create a players_widget for the initial df_index value\n",
    "initial_df_index = df_index_widget.value\n",
    "initial_df = dtf_lists[initial_df_index]\n",
    "initial_players = initial_df[\"playerkey\"].unique().tolist()\n",
    "player_key_widget = widgets.Dropdown(options=[], value=None)\n",
    "\n",
    "# Call update_players_widget with the initial_df_index value to set the options for player_key_widget\n",
    "update_players_widget(initial_df_index)\n",
    "\n",
    "widgets.interact(plot_scatters, player_ID=player_key_widget, df_index=df_index_widget,\n",
    "                 x=x_widget, y=y_widget, y_2=y_2_widget, x_min=x_min_widget, x_max=x_max_widget,\n",
    "                 show_line=show_line_widget, shade_area=shade_area_widget)\n",
    "\n",
    "# Update the player_key_widget options when df_index changes\n",
    "def on_df_index_change(change):\n",
    "    update_players_widget(change.new)\n",
    "\n",
    "df_index_widget.observe(on_df_index_change, names='value')\n",
    "update_players_widget(initial_df_index)  # update the player_key_widget options initially\n"
   ]
  }
 ],
 "metadata": {
  "kernelspec": {
   "display_name": "Python 3 (ipykernel)",
   "language": "python",
   "name": "python3"
  },
  "language_info": {
   "codemirror_mode": {
    "name": "ipython",
    "version": 3
   },
   "file_extension": ".py",
   "mimetype": "text/x-python",
   "name": "python",
   "nbconvert_exporter": "python",
   "pygments_lexer": "ipython3",
   "version": "3.10.0"
  },
  "orig_nbformat": 4,
  "vscode": {
   "interpreter": {
    "hash": "aee8b7b246df8f9039afb4144a1f6fd8d2ca17a180786b69acc140d282b71a49"
   }
  }
 },
 "nbformat": 4,
 "nbformat_minor": 2
}
