{
 "cells": [
  {
   "attachments": {},
   "cell_type": "markdown",
   "metadata": {},
   "source": [
    "# Exploratory Data Analysis\n",
    "I am using this notebook to learn how gamblers behaviors are similar to those of investors.\n",
    "\n",
    "## Define Libraries"
   ]
  },
  {
   "cell_type": "code",
   "execution_count": 1,
   "metadata": {},
   "outputs": [],
   "source": [
    "import pandas as pd\n",
    "import os\n",
    "import numpy as np\n",
    "import matplotlib.pyplot as plt\n",
    "import ipywidgets as widgets\n",
    "from ipywidgets import interactive, fixed, IntSlider, HBox, Layout, VBox\n",
    "\n",
    "# Getting rid of the SettingWithCopyWarning: \n",
    "pd.options.mode.chained_assignment = None"
   ]
  },
  {
   "attachments": {},
   "cell_type": "markdown",
   "metadata": {},
   "source": [
    "## Upload Data"
   ]
  },
  {
   "cell_type": "code",
   "execution_count": 2,
   "metadata": {},
   "outputs": [
    {
     "name": "stdout",
     "output_type": "stream",
     "text": [
      "<class 'pandas.core.frame.DataFrame'>\n",
      "Int64Index: 90000 entries, 0 to 90273\n",
      "Data columns (total 12 columns):\n",
      " #   Column                        Non-Null Count  Dtype  \n",
      "---  ------                        --------------  -----  \n",
      " 0   playercashableamt             90000 non-null  float64\n",
      " 1   wageredamt                    90000 non-null  float64\n",
      " 2   casino_grosswin               90000 non-null  float64\n",
      " 3   playerkey                     90000 non-null  int64  \n",
      " 4   slotdenominationname          90000 non-null  object \n",
      " 5   slotthemekey                  90000 non-null  int64  \n",
      " 6   maxbet                        90000 non-null  int64  \n",
      " 7   player_loss                   90000 non-null  float64\n",
      " 8   player_wins                   90000 non-null  float64\n",
      " 9   percent_return                90000 non-null  float64\n",
      " 10  playercashableamt_pct_change  89823 non-null  float64\n",
      " 11  time                          90000 non-null  int64  \n",
      "dtypes: float64(7), int64(4), object(1)\n",
      "memory usage: 8.9+ MB\n",
      "None\n"
     ]
    }
   ],
   "source": [
    "# Set working directory\n",
    "path = '/Users/mau/Library/CloudStorage/Dropbox/Mac/Documents/Dissertation/Chapter 2/Data'\n",
    "os.chdir(path)\n",
    "\n",
    "# Load data into a DataFrame\n",
    "dtf = pd.read_parquet(\"df40.parquet\")\n",
    "\n",
    "print(dtf.info())"
   ]
  },
  {
   "cell_type": "code",
   "execution_count": 3,
   "metadata": {},
   "outputs": [
    {
     "name": "stdout",
     "output_type": "stream",
     "text": [
      "['$5.00 ' '$10.00 ' '$1.00 ' '$2.00 ' '$0.25 ' '$0.05 ' '$0.01 ' '$0.02 '\n",
      " '$0.10 ' '$0.50 ' '$25.00 ' '$100.00 ' 'Unknown Denomination' '$50.00 ']\n",
      "['$5.00 ' '$10.00 ' '$1.00 ' '$2.00 ' '$0.25 ' '$0.05 ' '$0.01 ' '$0.02 '\n",
      " '$0.10 ' '$0.50 ' '$25.00 ' '$100.00 ' '$50.00 ']\n",
      "['5.00' '10.00' '1.00' '2.00' '0.25' '0.05' '0.01' '0.02' '0.10' '0.50'\n",
      " '25.00' '100.00' '50.00']\n",
      "<class 'pandas.core.frame.DataFrame'>\n",
      "Int64Index: 89996 entries, 0 to 90273\n",
      "Data columns (total 12 columns):\n",
      " #   Column                        Non-Null Count  Dtype  \n",
      "---  ------                        --------------  -----  \n",
      " 0   playercashableamt             89996 non-null  float64\n",
      " 1   wageredamt                    89996 non-null  float64\n",
      " 2   casino_grosswin               89996 non-null  float64\n",
      " 3   playerkey                     89996 non-null  int64  \n",
      " 4   slotthemekey                  89996 non-null  int64  \n",
      " 5   maxbet                        89996 non-null  int64  \n",
      " 6   player_loss                   89996 non-null  float64\n",
      " 7   player_wins                   89996 non-null  float64\n",
      " 8   percent_return                89996 non-null  float64\n",
      " 9   playercashableamt_pct_change  89819 non-null  float64\n",
      " 10  time                          89996 non-null  int64  \n",
      " 11  slotdenomination              89996 non-null  float64\n",
      "dtypes: float64(8), int64(4)\n",
      "memory usage: 8.9 MB\n",
      "None\n"
     ]
    },
    {
     "name": "stderr",
     "output_type": "stream",
     "text": [
      "/var/folders/vp/1skwx2kd29s4fxnxx7tt9r6w0000gn/T/ipykernel_1283/845957601.py:11: FutureWarning: The default value of regex will change from True to False in a future version. In addition, single character regular expressions will *not* be treated as literal strings when regex=True.\n",
      "  dtf['slotdenomination'] = dtf['slotdenominationname'].str.replace('$', '').str.replace(' ', '')\n"
     ]
    }
   ],
   "source": [
    "# Print unique values of slotdenominationname\n",
    "print(dtf['slotdenominationname'].unique())\n",
    "\n",
    "# Delete rows were slotdenominationname is equal to 'Unknown Denomination'\n",
    "dtf = dtf[dtf['slotdenominationname'] != 'Unknown Denomination']\n",
    "\n",
    "# Print unique values of slotdenominationname\n",
    "print(dtf['slotdenominationname'].unique())\n",
    "\n",
    "# Create a new column called slotdenomination that is equal to the slotdenominationname column that do not have dollar signs and spaces\n",
    "dtf['slotdenomination'] = dtf['slotdenominationname'].str.replace('$', '').str.replace(' ', '')\n",
    "\n",
    "# Print unique values of slotdenomination\n",
    "print(dtf['slotdenomination'].unique())\n",
    "\n",
    "# Convert slotdenomination to float\n",
    "dtf['slotdenomination'] = dtf['slotdenomination'].astype(float)\n",
    "\n",
    "# Drop slotdenominationname column\n",
    "dtf = dtf.drop(columns=['slotdenominationname'])\n",
    "\n",
    "print(dtf.info())"
   ]
  },
  {
   "attachments": {},
   "cell_type": "markdown",
   "metadata": {},
   "source": [
    "### Change Recognition\n",
    "It is time to see which palyers changed machines to either increas or decrease their minimum bets.  \n",
    "\n",
    "* Define function to look for our desire chage.\n",
    "* We are going to be using _slotdenominationname_ to observe the change\n",
    "* Create a variable _change_ that is 1 everytime _slotdenomination_ changes, 0 otherwise for each player"
   ]
  },
  {
   "cell_type": "code",
   "execution_count": 4,
   "metadata": {},
   "outputs": [
    {
     "name": "stdout",
     "output_type": "stream",
     "text": [
      "Total number of Slot Players: 83\n"
     ]
    }
   ],
   "source": [
    "# Count number of unique players\n",
    "print(\"Total number of Slot Players:\", dtf['playerkey'].nunique())"
   ]
  },
  {
   "cell_type": "code",
   "execution_count": 5,
   "metadata": {},
   "outputs": [
    {
     "name": "stdout",
     "output_type": "stream",
     "text": [
      "Players who change slot for higher min bet: [2, 3, 4, 6, 7, 8, 9, 11, 12, 14, 17, 18, 19, 20, 27, 29, 33, 35, 36, 37, 38, 40, 41, 43, 44, 47, 48, 49, 51, 54, 56, 57, 61, 68, 69, 70, 73, 76, 79, 83, 84, 85, 87, 89, 91, 92, 93, 94, 95, 97]\n",
      "Count of players that increase their slotdeno: 50\n",
      "Players who change slot for lower min bet: [2, 3, 4, 6, 8, 9, 11, 12, 14, 18, 19, 20, 27, 29, 30, 33, 35, 37, 38, 43, 44, 47, 48, 49, 51, 53, 54, 61, 65, 68, 69, 70, 72, 73, 76, 79, 83, 85, 86, 87, 89, 90, 91, 93, 94, 95, 96, 97, 99, 100]\n",
      "Count of players that decrease their slotdeno: 50\n"
     ]
    }
   ],
   "source": [
    "# Create a colunm increase_bet that is 1 everytime slotdenomination increases 0 otherwise per player\n",
    "dtf[\"increase_slotdeno\"] = dtf.groupby(\"playerkey\")[\"slotdenomination\"].diff().fillna(0)\n",
    "dtf[\"increase_slotdeno\"] = dtf[\"increase_slotdeno\"].apply(lambda x: 1 if x > 0 else 0)\n",
    "\n",
    "# Create a list of players that increase their bet\n",
    "players_increase_slot = dtf[dtf[\"increase_slotdeno\"] == 1][\"playerkey\"].unique().tolist()\n",
    "print(\"Players who change slot for higher min bet:\", players_increase_slot)\n",
    "print(\"Count of players that increase their slotdeno:\", len(players_increase_slot))\n",
    "\n",
    "# Create a colunm decrease_bet that is 1 everytime slotdenomination decreases 0 otherwise per player\n",
    "dtf[\"decrease_slot\"] = dtf.groupby(\"playerkey\")[\"slotdenomination\"].diff().fillna(0)\n",
    "dtf[\"decrease_slot\"] = dtf[\"decrease_slot\"].apply(lambda x: 1 if x < 0 else 0)\n",
    "\n",
    "# Create a list of players that decrease their bet\n",
    "players_decrease_slot = dtf[dtf[\"decrease_slot\"] == 1][\"playerkey\"].unique().tolist()\n",
    "print(\"Players who change slot for lower min bet:\", players_decrease_slot)\n",
    "print(\"Count of players that decrease their slotdeno:\", len(players_decrease_slot))"
   ]
  },
  {
   "cell_type": "code",
   "execution_count": 6,
   "metadata": {},
   "outputs": [
    {
     "name": "stdout",
     "output_type": "stream",
     "text": [
      "Players that increase their bet: [2, 3, 4, 6, 8, 11, 12, 13, 14, 16, 17, 18, 19, 20, 21, 22, 23, 27, 29, 30, 33, 35, 36, 37, 38, 43, 44, 47, 48, 49, 51, 52, 53, 54, 61, 62, 63, 65, 66, 68, 69, 70, 72, 73, 76, 77, 79, 82, 83, 84, 85, 87, 89, 90, 91, 93, 94, 95, 96, 97, 99, 100]\n",
      "Count of players that increase their bet: 62\n",
      "Players that decrease their bet: [3, 4, 6, 7, 8, 11, 12, 13, 14, 16, 17, 18, 19, 20, 21, 22, 23, 27, 33, 35, 36, 37, 38, 40, 41, 42, 43, 44, 46, 47, 48, 49, 51, 54, 56, 61, 62, 63, 65, 66, 68, 69, 70, 72, 73, 76, 77, 79, 83, 84, 85, 87, 89, 91, 92, 93, 94, 95, 96, 97, 98, 99, 100]\n",
      "Count of players that decrease their bet: 63\n"
     ]
    }
   ],
   "source": [
    "# Create same code as above but for maxbet\n",
    "# Create a colunm increase_bet that is 1 everytime maxbet increases 0 otherwise per player\n",
    "dtf[\"increase_maxbet\"] = dtf.groupby(\"playerkey\")[\"maxbet\"].diff().fillna(0)\n",
    "dtf[\"increase_maxbet\"] = dtf[\"increase_maxbet\"].apply(lambda x: 1 if x > 0 else 0)\n",
    "\n",
    "# Create a list of players that increase their bet\n",
    "players_increase_maxbet = dtf[dtf[\"increase_maxbet\"] == 1][\"playerkey\"].unique().tolist()\n",
    "print(\"Players that increase their bet:\", players_increase_maxbet)\n",
    "print(\"Count of players that increase their bet:\", len(players_increase_maxbet))\n",
    "\n",
    "# Create a colunm decrease_bet that is 1 everytime maxbet decreases 0 otherwise per player\n",
    "dtf[\"decrease_maxbet\"] = dtf.groupby(\"playerkey\")[\"maxbet\"].diff().fillna(0)\n",
    "dtf[\"decrease_maxbet\"] = dtf[\"decrease_maxbet\"].apply(lambda x: 1 if x < 0 else 0)\n",
    "\n",
    "# Create a list of players that decrease their bet\n",
    "players_decrease_maxbet = dtf[dtf[\"decrease_maxbet\"] == 1][\"playerkey\"].unique().tolist()\n",
    "print(\"Players that decrease their bet:\", players_decrease_maxbet)\n",
    "print(\"Count of players that decrease their bet:\", len(players_decrease_maxbet))"
   ]
  },
  {
   "attachments": {},
   "cell_type": "markdown",
   "metadata": {},
   "source": [
    "## Slicing DataFrames per Matched Players and Visualizing Outcomes\n",
    "\n",
    "Stuff is working perfectly!\n"
   ]
  },
  {
   "cell_type": "code",
   "execution_count": null,
   "metadata": {},
   "outputs": [],
   "source": [
    "def filter_match(df, players_match, match_column, rolling_window, fill_value):\n",
    "    # Create a new DataFrame with only the players that appear in players_match\n",
    "    df_match_all = df[df[\"playerkey\"].isin(players_match)]\n",
    "\n",
    "    # Creaete a new column for called match_minus10_0 that is True for the rows around match_column is True\n",
    "    df_match_all.loc[:, \"match_rolling\"] = df_match_all[match_column].rolling(window=rolling_window, center=True).apply(lambda x: any(x)).fillna(fill_value).astype(int)\n",
    "    \n",
    "    # Slice the DataFrame to only include the rows where match_rolling is True\n",
    "    df_match_slice = df_match_all[df_match_all[\"match_rolling\"] == True]\n",
    "    # Return the new DataFrame\n",
    "    return df_match_all, df_match_slice"
   ]
  },
  {
   "cell_type": "code",
   "execution_count": null,
   "metadata": {},
   "outputs": [],
   "source": [
    "# Create a new DataFrame with only the players that appear in players_match8 []\n",
    "df40_match8_10_all, dtf40_match8_10_slice = filter_match(df=df40, players_match=players_match8, match_column=\"match_0_8\", rolling_window=21, fill_value=False)\n",
    "\n",
    "# Save the DataFrame to a parquet file\n",
    "df40_match8_10_all.to_parquet(\"df40_match8_10_all.parquet\")\n",
    "print(df40_match8_10_all.shape)\n",
    "\n",
    "# Save the DataFrame to a parquet file\n",
    "dtf40_match8_10_slice.to_parquet(\"dtf40_match8_10_slice.parquet\")\n",
    "print(dtf40_match8_10_slice.shape)"
   ]
  },
  {
   "cell_type": "code",
   "execution_count": null,
   "metadata": {},
   "outputs": [],
   "source": [
    "\n",
    "# Create a new DataFrame with only the players that appear in players_match4_11\n",
    "df40_match4_10_all, dtf40_match4_10_slice = filter_match(df=df40, players_match=players_match4_11, match_column=\"match_4_11\", rolling_window=21, fill_value=False)\n",
    "\n",
    "# Save the DataFrame to a parquet file\n",
    "df40_match4_10_all.to_parquet(\"df40_match4_10_all.parquet\")\n",
    "print(df40_match4_10_all.shape)\n",
    "\n",
    "# Save the DataFrame to a parquet file\n",
    "dtf40_match4_10_slice.to_parquet(\"dtf40_match4_10_slice.parquet\")\n",
    "print(dtf40_match4_10_slice.shape)"
   ]
  },
  {
   "attachments": {},
   "cell_type": "markdown",
   "metadata": {},
   "source": [
    "## Interactive Plots\n",
    "\n",
    "The following section would be used to explore the data in an interactive way. These plots allow for user interaction, such as zooming, panning, and selecting data points. Users can customize the plot by choosing different variables to plot, adjusting axes ranges, and selecting data subsets. The interactive plots provide a dynamic way to visually explore the data and can reveal patterns or relationships that might not be apparent from static plots alone. By using interactive plots, we can gain a deeper understanding of the data and make more informed decisions during the data analysis process."
   ]
  },
  {
   "cell_type": "code",
   "execution_count": null,
   "metadata": {},
   "outputs": [],
   "source": [
    "import matplotlib.pyplot as plt\n",
    "import ipywidgets as widgets\n",
    "\n",
    "# Make a list of all the dataframes that are match and slice\n",
    "dtf_lists = [dtf40_match8_10_slice, dtf40_match4_10_slice]\n",
    "\n",
    "# Calculate the max and min values for the 'time' column for each DataFrame\n",
    "time_max = max([df[\"time\"].max() for df in dtf_lists])\n",
    "time_min = min([df[\"time\"].min() for df in dtf_lists])\n",
    "\n",
    "print(time_max, time_min)\n",
    "\n",
    "# Create a scatter plot of the players wins for only player with key 3\n",
    "def plot_scatters(player_ID, df_index, x=\"time\", y=\"percent_return\", y_2=None, x_min=None, x_max=None, show_line=False, shade_area=False):\n",
    "    df = dtf_lists[df_index]\n",
    "    players = df[\"playerkey\"].unique().tolist()\n",
    "    player_df = df[df[\"playerkey\"] == players[player_ID]]\n",
    "    \n",
    "    fig, ax1 = plt.subplots()\n",
    "    ax1.set_xlabel(x)\n",
    "    ax1.set_ylabel(y, color='royalblue')\n",
    "    if x_min is not None and x_max is not None:\n",
    "        player_df = player_df[(player_df[x] >= x_min) & (player_df[x] <= x_max)]\n",
    "    ax1.scatter(x=player_df[x], y=player_df[y], color='royalblue')\n",
    "    \n",
    "    if y_2 is not None:\n",
    "        ax2 = ax1.twinx()\n",
    "        ax2.set_ylabel(y_2, color='r')\n",
    "        if x_min is not None and x_max is not None:\n",
    "            player_df = player_df[(player_df[x] >= x_min) & (player_df[x] <= x_max)]\n",
    "        ax2.scatter(x=player_df[x], y=player_df[y_2], color='orangered', marker='s')\n",
    "        ax2.tick_params(axis='y', labelcolor='orangered')\n",
    "        # Add a line to the plot if show_line is True\n",
    "        if show_line:\n",
    "            ax2.plot(player_df[x], player_df[y_2], color='black', linewidth=0.8, linestyle='--')\n",
    "        if shade_area:\n",
    "            ax2.fill_between(player_df[x], player_df[y_2], color='lightcoral', alpha=0.5)\n",
    "    \n",
    "    if show_line:\n",
    "        ax1.plot(player_df[x], player_df[y], color='black', linewidth=0.8)\n",
    "        \n",
    "    if shade_area:\n",
    "        ax1.fill_between(player_df[x], player_df[y], color='lightblue', alpha=0.5)\n",
    "\n",
    "    ax1.tick_params(axis='y', labelcolor='black')\n",
    "    ax1.grid()\n",
    "    plt.title(f\"Player {players[player_ID]}\")\n",
    "    plt.show()\n",
    "\n",
    "# Create widgets for playerkey, df_index, x, y, y_2, x_min, and x_max\n",
    "df_index_widget = widgets.Dropdown(options=[(f\"DataFrame {i}\", i) for i in range(len(dtf_lists))])\n",
    "x_widget = widgets.Dropdown(options=list(dtf_lists[0].columns), value=\"time\")\n",
    "y_widget = widgets.Dropdown(options=list(dtf_lists[0].columns), value=\"percent_return\")\n",
    "y_2_widget = widgets.Dropdown(options=[None]+list(dtf_lists[0].columns), value=None)\n",
    "x_min_widget = widgets.FloatText(description=\"x_min\", value=time_min)\n",
    "x_max_widget = widgets.FloatText(description=\"x_max\", value=time_max)\n",
    "show_line_widget = widgets.Checkbox(description='Show line', value=False)\n",
    "shade_area_widget = widgets.Checkbox(description='Shade area', value=False)\n",
    "\n",
    "# Create a function to update the players_widget based on the selected df_index\n",
    "def update_players_widget(df_index):\n",
    "    df = dtf_lists[df_index]\n",
    "    players = df[\"playerkey\"].unique().tolist()\n",
    "    player_key_widget.options = [(p, i) for i, p in enumerate(players)]\n",
    "\n",
    "# Create a players_widget for the initial df_index value\n",
    "initial_df_index = df_index_widget.value\n",
    "initial_df = dtf_lists[initial_df_index]\n",
    "initial_players = initial_df[\"playerkey\"].unique().tolist()\n",
    "player_key_widget = widgets.Dropdown(options=[], value=None)\n",
    "\n",
    "# Call update_players_widget with the initial_df_index value to set the options for player_key_widget\n",
    "update_players_widget(initial_df_index)\n",
    "\n",
    "widgets.interact(plot_scatters, player_ID=player_key_widget, df_index=df_index_widget,\n",
    "                 x=x_widget, y=y_widget, y_2=y_2_widget, x_min=x_min_widget, x_max=x_max_widget,\n",
    "                 show_line=show_line_widget, shade_area=shade_area_widget)\n",
    "\n",
    "# Update the player_key_widget options when df_index changes\n",
    "def on_df_index_change(change):\n",
    "    update_players_widget(change.new)\n",
    "\n",
    "df_index_widget.observe(on_df_index_change, names='value')\n",
    "update_players_widget(initial_df_index)  # update the player_key_widget options initially\n"
   ]
  }
 ],
 "metadata": {
  "kernelspec": {
   "display_name": "Python 3 (ipykernel)",
   "language": "python",
   "name": "python3"
  },
  "language_info": {
   "codemirror_mode": {
    "name": "ipython",
    "version": 3
   },
   "file_extension": ".py",
   "mimetype": "text/x-python",
   "name": "python",
   "nbconvert_exporter": "python",
   "pygments_lexer": "ipython3",
   "version": "3.10.0"
  },
  "orig_nbformat": 4,
  "vscode": {
   "interpreter": {
    "hash": "aee8b7b246df8f9039afb4144a1f6fd8d2ca17a180786b69acc140d282b71a49"
   }
  }
 },
 "nbformat": 4,
 "nbformat_minor": 2
}
