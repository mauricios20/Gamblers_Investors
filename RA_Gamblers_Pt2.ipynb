{
 "cells": [
  {
   "attachments": {},
   "cell_type": "markdown",
   "metadata": {},
   "source": [
    "# Exploratory Data Analysis\n",
    "I am using this notebook to learn how gamblers behaviors are similar to those of investors.\n",
    "\n",
    "## Define Libraries"
   ]
  },
  {
   "cell_type": "code",
   "execution_count": 1,
   "metadata": {
    "vscode": {
     "languageId": "python"
    }
   },
   "outputs": [],
   "source": [
    "import pandas as pd\n",
    "import os\n",
    "import numpy as np\n",
    "import matplotlib.pyplot as plt\n",
    "import ipywidgets as widgets\n",
    "from ipywidgets import interactive, fixed, IntSlider, HBox, Layout, VBox\n",
    "\n",
    "\n",
    "# Getting rid of the SettingWithCopyWarning: \n",
    "pd.options.mode.chained_assignment = None"
   ]
  },
  {
   "attachments": {},
   "cell_type": "markdown",
   "metadata": {},
   "source": [
    "## Upload Data"
   ]
  },
  {
   "cell_type": "code",
   "execution_count": 2,
   "metadata": {
    "vscode": {
     "languageId": "python"
    }
   },
   "outputs": [
    {
     "name": "stdout",
     "output_type": "stream",
     "text": [
      "<class 'pandas.core.frame.DataFrame'>\n",
      "Int64Index: 89996 entries, 0 to 90273\n",
      "Data columns (total 35 columns):\n",
      " #   Column                        Non-Null Count  Dtype  \n",
      "---  ------                        --------------  -----  \n",
      " 0   playercashableamt             89996 non-null  float64\n",
      " 1   wageredamt                    89996 non-null  float64\n",
      " 2   casino_grosswin               89996 non-null  float64\n",
      " 3   playerkey                     89996 non-null  int64  \n",
      " 4   age                           89996 non-null  int64  \n",
      " 5   maxbet                        89996 non-null  int64  \n",
      " 6   assetnumber                   89996 non-null  int64  \n",
      " 7   theoreticalpaybackpercent     89996 non-null  float64\n",
      " 8   player_loss                   89996 non-null  float64\n",
      " 9   player_wins                   89996 non-null  float64\n",
      " 10  percent_return                89996 non-null  float64\n",
      " 11  playercashableamt_pct_change  89819 non-null  float64\n",
      " 12  time                          89996 non-null  int64  \n",
      " 13  slotdenomination              89996 non-null  float64\n",
      " 14  increase_slotdeno             89996 non-null  int64  \n",
      " 15  decrease_slotdeno             89996 non-null  int64  \n",
      " 16  change_machine                89996 non-null  int64  \n",
      " 17  increase_maxbet               89996 non-null  int64  \n",
      " 18  decrease_maxbet               89996 non-null  int64  \n",
      " 19  increase_slotdeno_lossing_2   89996 non-null  int64  \n",
      " 20  increase_slotdeno_lossing_3   89996 non-null  int64  \n",
      " 21  increase_slotdeno_lossing_4   89996 non-null  int64  \n",
      " 22  increase_maxbet_lossing_2     89996 non-null  int64  \n",
      " 23  increase_maxbet_lossing_3     89996 non-null  int64  \n",
      " 24  increase_maxbet_lossing_4     89996 non-null  int64  \n",
      " 25  change_machine_lossing_2      89996 non-null  int64  \n",
      " 26  change_machine_lossing_3      89996 non-null  int64  \n",
      " 27  change_machine_lossing_4      89996 non-null  int64  \n",
      " 28  increase_slotdeno_winning_2   89996 non-null  int64  \n",
      " 29  increase_slotdeno_winning_3   89996 non-null  int64  \n",
      " 30  increase_slotdeno_winning_4   89996 non-null  int64  \n",
      " 31  increase_maxbet_winning_2     89996 non-null  int64  \n",
      " 32  increase_maxbet_winning_3     89996 non-null  int64  \n",
      " 33  change_machine_winning_2      89996 non-null  int64  \n",
      " 34  change_machine_winning_3      89996 non-null  int64  \n",
      "dtypes: float64(9), int64(26)\n",
      "memory usage: 24.7 MB\n",
      "None\n"
     ]
    }
   ],
   "source": [
    "# Set working directory\n",
    "path = '/Users/mau/Library/CloudStorage/Dropbox/Mac/Documents/Dissertation/Chapter 2/Data'\n",
    "os.chdir(path)\n",
    "\n",
    "# Load data into a DataFrame\n",
    "dtf = pd.read_parquet(\"dtf_with_change_col.parquet\")\n",
    "\n",
    "print(dtf.info())"
   ]
  },
  {
   "cell_type": "code",
   "execution_count": null,
   "metadata": {
    "vscode": {
     "languageId": "python"
    }
   },
   "outputs": [],
   "source": [
    "# Count how many players increase_slotdeno_lossing_2 in their first 20 sessions \n",
    "\n",
    "# Create a new column with the number of sessions\n",
    "\n",
    "\n",
    "\n",
    "# Count how many players increase_slotdeno_lossing_2 in their first 20 gabling sessions\n",
    "\n"
   ]
  },
  {
   "attachments": {},
   "cell_type": "markdown",
   "metadata": {},
   "source": [
    "## Slicing DataFrames per Matched Players and Visualizing Outcomes\n",
    "\n",
    "By this point we have several lists of individuals who increased or decreased their bet by changing slot denomination or increasing their min bet. \n",
    "\n",
    "The first set of lists are (Generic):\n",
    "* _players_increase_slot_\n",
    "* _players_decrease_slot_\n",
    "* _players_increase_maxbet_\n",
    "* _players_decrease_maxbet_\n",
    "\n",
    "The second set of lists are (While Lossing):\n",
    "* _players_inc_slot_lossing_2_: players who change to a higher denomination slot while lossing their previous 2 sessions.\n",
    "* _players_inc_slot_lossing_3_: players who change to a higher denomination slot while lossing their previous 3 sessions.\n",
    "* _players_inc_slot_lossing_4_: players who change to a higher denomination slot while lossing their previous 4 sessions.\n",
    "* _players_inc_maxbet_lossing_2_: players who increase their maxbet while lossing their previous 2 sessions.\n",
    "* _players_inc_maxbet_lossing_3_: players who increase their maxbet while lossing their previous 3 sessions.\n",
    "* _players_inc_maxbet_lossing_4_: players who increase their maxbet while lossing their previous 4 sessions.\n",
    "\n",
    "The third set of lists are (While winning):\n",
    "* _players_inc_slot_winning_2_: players who change to a higher denomination slot while winning their previous 2 sessions.\n",
    "* _players_inc_slot_winning_3_: players who change to a higher denomination slot while winning their previous 3 sessions.\n",
    "* _players_inc_slot_winning_4_: players who change to a higher denomination slot while winning their previous 4 sessions.\n",
    "* _players_inc_maxbet_winning_2_: players who increase their maxbet while winning their previous 2 sessions.\n",
    "* _players_inc_maxbet_winning_3_: players who increase their maxbet while winning their previous 2 sessions.\n",
    "\n",
    "Let's define a slicing function for our lists to be used in the general dataframe."
   ]
  },
  {
   "cell_type": "code",
   "execution_count": 16,
   "metadata": {
    "vscode": {
     "languageId": "python"
    }
   },
   "outputs": [],
   "source": [
    "from ipynb.fs.full.functions import filter_match"
   ]
  },
  {
   "attachments": {},
   "cell_type": "markdown",
   "metadata": {},
   "source": [
    "First set of dataframes from generic lists"
   ]
  },
  {
   "cell_type": "code",
   "execution_count": 18,
   "metadata": {
    "vscode": {
     "languageId": "python"
    }
   },
   "outputs": [],
   "source": [
    "# Set rolling window (17 will set the rolling window to 17, 8 obersevations before and 8 observations after):\n",
    "rolling = 17\n",
    "\n",
    "# Create a new DataFrame with only the players that appear in players_increase_slot \n",
    "dtf_all_inc_slot, dtf_inc_slot = filter_match(df=dtf, players_match=players_increase_slot, match_column=\"increase_slotdeno\", rolling_window=rolling, fill_value=False)\n",
    "\n",
    "# Create a new DataFrame with only the players that appear in players_decrease_slot \n",
    "dtf_all_dec_slot, dtf_dec_slot = filter_match(df=dtf, players_match=players_decrease_slot, match_column=\"decrease_slotdeno\", rolling_window=rolling, fill_value=False)\n",
    "\n",
    "# Create a new DataFrame with only the players that appear in players_increase_maxbet \n",
    "dtf_all_inc_maxbet, dtf_inc_maxbet = filter_match(df=dtf, players_match=players_increase_maxbet, match_column=\"increase_maxbet\", rolling_window=rolling, fill_value=False)\n",
    "\n",
    "# Create a new DataFrame with only the players that appear in players_decrease_maxbet \n",
    "dtf_all_dec_maxbet, dtf_dec_maxbet = filter_match(df=dtf, players_match=players_decrease_maxbet, match_column=\"decrease_maxbet\", rolling_window=rolling, fill_value=False)\n",
    "\n",
    "# Create a list of DataFrames that contains all the DataFrames that we want to plot\n",
    "dtf_generic = [dtf_inc_slot, dtf_dec_slot, dtf_inc_maxbet, dtf_dec_maxbet]"
   ]
  },
  {
   "attachments": {},
   "cell_type": "markdown",
   "metadata": {},
   "source": [
    "Second set of dataframes from lossing previous rounds:"
   ]
  },
  {
   "cell_type": "code",
   "execution_count": 19,
   "metadata": {
    "vscode": {
     "languageId": "python"
    }
   },
   "outputs": [],
   "source": [
    "# Set rolling window (17 will set the rolling window to 17, 8 obersevations before and 8 observations after):\n",
    "rolling = 17\n",
    "\n",
    "# Create a new DataFrame with only the players that appear in players_inc_slot_lossing_2\n",
    "dtf_all_inc_slot_lossing_2, dtf_inc_slot_lossing_2 = filter_match(df=dtf, players_match=players_inc_slot_lossing_2, match_column=\"increase_slotdeno_lossing_2\", rolling_window=rolling, fill_value=False)\n",
    "\n",
    "# Create a new DataFrame with only the players that appear in players_inc_slot_lossing_3\n",
    "dtf_all_inc_slot_lossing_3, dtf_inc_slot_lossing_3 = filter_match(df=dtf, players_match=players_inc_slot_lossing_3, match_column=\"increase_slotdeno_lossing_3\", rolling_window=rolling, fill_value=False)\n",
    "\n",
    "# Create a new DataFrame with only the players that appear in players_inc_slot_lossing_4\n",
    "dtf_all_inc_slot_lossing_4, dtf_inc_slot_lossing_4 = filter_match(df=dtf, players_match=players_inc_slot_lossing_4, match_column=\"increase_slotdeno_lossing_4\", rolling_window=rolling, fill_value=False)\n",
    "\n",
    "# Create a new DataFrame with only the players that appear in players_inc_maxbet_lossing_2\n",
    "dtf_all_inc_maxbet_lossing_2, dtf_inc_maxbet_lossing_2 = filter_match(df=dtf, players_match=players_inc_maxbet_lossing_2, match_column=\"increase_maxbet_lossing_2\", rolling_window=rolling, fill_value=False)\n",
    "\n",
    "# Create a new DataFrame with only the players that appear in players_inc_maxbet_lossing_3\n",
    "dtf_all_inc_maxbet_lossing_3, dtf_inc_maxbet_lossing_3 = filter_match(df=dtf, players_match=players_inc_maxbet_lossing_3, match_column=\"increase_maxbet_lossing_3\", rolling_window=rolling, fill_value=False)\n",
    "\n",
    "# Create a new DataFrame with only the players that appear in players_inc_maxbet_lossing_4\n",
    "dtf_all_inc_maxbet_lossing_4, dtf_inc_maxbet_lossing_4 = filter_match(df=dtf, players_match=players_inc_maxbet_lossing_4, match_column=\"increase_maxbet_lossing_4\", rolling_window=rolling, fill_value=False)\n",
    "\n",
    "# Create a list of DataFrames that contains all the DataFrames that we want to plot\n",
    "dtf_lossing = [dtf_inc_slot_lossing_2, dtf_inc_slot_lossing_3, dtf_inc_slot_lossing_4, dtf_inc_maxbet_lossing_2, dtf_inc_maxbet_lossing_3, dtf_inc_maxbet_lossing_4]"
   ]
  },
  {
   "attachments": {},
   "cell_type": "markdown",
   "metadata": {},
   "source": [
    "Third dataframes from winning previous rounds"
   ]
  },
  {
   "cell_type": "code",
   "execution_count": 20,
   "metadata": {
    "vscode": {
     "languageId": "python"
    }
   },
   "outputs": [],
   "source": [
    "# Set rolling window (17 will set the rolling window to 17, 8 obersevations before and 8 observations after):\n",
    "rolling = 17\n",
    "\n",
    "# Create a new DataFrame with only the players that appear in players_inc_slot_winning_2\n",
    "dtf_all_inc_slot_winning_2, dtf_inc_slot_winning_2 = filter_match(df=dtf, players_match=players_inc_slot_winning_2, match_column=\"increase_slotdeno_winning_2\", rolling_window=rolling, fill_value=False)\n",
    "\n",
    "# Create a new DataFrame with only the players that appear in players_inc_slot_winning_3\n",
    "dtf_all_inc_slot_winning_3, dtf_inc_slot_winning_3 = filter_match(df=dtf, players_match=players_inc_slot_winning_3, match_column=\"increase_slotdeno_winning_3\", rolling_window=rolling, fill_value=False)\n",
    "\n",
    "# Create a new DataFrame with only the players that appear in players_inc_slot_winning_4\n",
    "dtf_all_inc_slot_winning_4, dtf_inc_slot_winning_4 = filter_match(df=dtf, players_match=players_inc_slot_winning_4, match_column=\"increase_slotdeno_winning_4\", rolling_window=rolling, fill_value=False)\n",
    "\n",
    "# Create a new DataFrame with only the players that appear in players_inc_maxbet_winning_2\n",
    "dtf_all_inc_maxbet_winning_2, dtf_inc_maxbet_winning_2 = filter_match(df=dtf, players_match=players_inc_maxbet_winning_2, match_column=\"increase_maxbet_winning_2\", rolling_window=rolling, fill_value=False)\n",
    "\n",
    "# Create a new DataFrame with only the players that appear in players_inc_maxbet_winning_3\n",
    "dtf_all_inc_maxbet_winning_3, dtf_inc_maxbet_winning_3 = filter_match(df=dtf, players_match=players_inc_maxbet_winning_3, match_column=\"increase_maxbet_winning_3\", rolling_window=rolling, fill_value=False)\n",
    "\n",
    "# Create a list of DataFrames that contains all the DataFrames that we want to plot\n",
    "dtf_winning = [dtf_inc_slot_winning_2, dtf_inc_slot_winning_3, dtf_inc_slot_winning_4, dtf_inc_maxbet_winning_2, dtf_inc_maxbet_winning_3]"
   ]
  },
  {
   "attachments": {},
   "cell_type": "markdown",
   "metadata": {},
   "source": [
    "## Interactive Plots\n",
    "\n",
    "The following section would be used to explore the data in an interactive way. These plots allow for user interaction, such as zooming, panning, and selecting data points. Users can customize the plot by choosing different variables to plot, adjusting axes ranges, and selecting data subsets. The interactive plots provide a dynamic way to visually explore the data and can reveal patterns or relationships that might not be apparent from static plots alone. By using interactive plots, we can gain a deeper understanding of the data and make more informed decisions during the data analysis process."
   ]
  },
  {
   "attachments": {},
   "cell_type": "markdown",
   "metadata": {},
   "source": [
    "### First Plot Generic dataframes:\n",
    "\n",
    "List of DataFrames that contains all generinc dataframes\n",
    "* dtf_generic = [dtf_inc_slot, dtf_dec_slot, dtf_inc_maxbet, dtf_dec_maxbet]"
   ]
  },
  {
   "cell_type": "code",
   "execution_count": 21,
   "metadata": {
    "vscode": {
     "languageId": "python"
    }
   },
   "outputs": [
    {
     "name": "stdout",
     "output_type": "stream",
     "text": [
      "8468 1\n"
     ]
    },
    {
     "data": {
      "application/vnd.jupyter.widget-view+json": {
       "model_id": "94be33b069e8475cb8226c395235cdaf",
       "version_major": 2,
       "version_minor": 0
      },
      "text/plain": [
       "interactive(children=(Dropdown(description='player_ID', options=((2, 0), (3, 1), (4, 2), (6, 3), (7, 4), (8, 5…"
      ]
     },
     "metadata": {},
     "output_type": "display_data"
    }
   ],
   "source": [
    "import matplotlib.pyplot as plt\n",
    "import ipywidgets as widgets\n",
    "\n",
    "# Make a list of all the dataframes that are match and slice\n",
    "dtf_lists = dtf_generic\n",
    "\n",
    "# Calculate the max and min values for the 'time' column for each DataFrame\n",
    "time_max = max([df[\"time\"].max() for df in dtf_lists])\n",
    "time_min = min([df[\"time\"].min() for df in dtf_lists])\n",
    "\n",
    "print(time_max, time_min)\n",
    "\n",
    "# Create a scatter plot of the players wins for only player with key 3\n",
    "def plot_scatters(player_ID, df_index, x=\"time\", y=\"percent_return\", y_2=None, x_min=None, x_max=None, show_line=False, shade_area=False):\n",
    "    df = dtf_lists[df_index]\n",
    "    players = df[\"playerkey\"].unique().tolist()\n",
    "    player_df = df[df[\"playerkey\"] == players[player_ID]]\n",
    "    \n",
    "    fig, ax1 = plt.subplots()\n",
    "    ax1.set_xlabel(x)\n",
    "    ax1.set_ylabel(y, color='royalblue')\n",
    "    if x_min is not None and x_max is not None:\n",
    "        player_df = player_df[(player_df[x] >= x_min) & (player_df[x] <= x_max)]\n",
    "    ax1.scatter(x=player_df[x], y=player_df[y], color='royalblue')\n",
    "    \n",
    "    if y_2 is not None:\n",
    "        ax2 = ax1.twinx()\n",
    "        ax2.set_ylabel(y_2, color='r')\n",
    "        if x_min is not None and x_max is not None:\n",
    "            player_df = player_df[(player_df[x] >= x_min) & (player_df[x] <= x_max)]\n",
    "        ax2.scatter(x=player_df[x], y=player_df[y_2], color='orangered', marker='s')\n",
    "        ax2.tick_params(axis='y', labelcolor='orangered')\n",
    "        # Add a line to the plot if show_line is True\n",
    "        if show_line:\n",
    "            ax2.plot(player_df[x], player_df[y_2], color='black', linewidth=0.8, linestyle='--')\n",
    "        if shade_area:\n",
    "            ax2.fill_between(player_df[x], player_df[y_2], color='lightcoral', alpha=0.5)\n",
    "    \n",
    "    if show_line:\n",
    "        ax1.plot(player_df[x], player_df[y], color='black', linewidth=0.8)\n",
    "        \n",
    "    if shade_area:\n",
    "        ax1.fill_between(player_df[x], player_df[y], color='lightblue', alpha=0.5)\n",
    "\n",
    "    ax1.tick_params(axis='y', labelcolor='black')\n",
    "    ax1.grid()\n",
    "    plt.title(f\"Player {players[player_ID]}\")\n",
    "    plt.show()\n",
    "\n",
    "# Create widgets for playerkey, df_index, x, y, y_2, x_min, and x_max\n",
    "df_index_widget = widgets.Dropdown(options=[(f\"DataFrame {i}\", i) for i in range(len(dtf_lists))])\n",
    "x_widget = widgets.Dropdown(options=list(dtf_lists[0].columns), value=\"time\")\n",
    "y_widget = widgets.Dropdown(options=list(dtf_lists[0].columns), value=\"percent_return\")\n",
    "y_2_widget = widgets.Dropdown(options=[None]+list(dtf_lists[0].columns), value=None)\n",
    "x_min_widget = widgets.FloatText(description=\"x_min\", value=time_min)\n",
    "x_max_widget = widgets.FloatText(description=\"x_max\", value=time_max)\n",
    "show_line_widget = widgets.Checkbox(description='Show line', value=False)\n",
    "shade_area_widget = widgets.Checkbox(description='Shade area', value=False)\n",
    "\n",
    "# Create a function to update the players_widget based on the selected df_index\n",
    "def update_players_widget(df_index):\n",
    "    df = dtf_lists[df_index]\n",
    "    players = df[\"playerkey\"].unique().tolist()\n",
    "    player_key_widget.options = [(p, i) for i, p in enumerate(players)]\n",
    "\n",
    "# Create a players_widget for the initial df_index value\n",
    "initial_df_index = df_index_widget.value\n",
    "initial_df = dtf_lists[initial_df_index]\n",
    "initial_players = initial_df[\"playerkey\"].unique().tolist()\n",
    "player_key_widget = widgets.Dropdown(options=[], value=None)\n",
    "\n",
    "# Call update_players_widget with the initial_df_index value to set the options for player_key_widget\n",
    "update_players_widget(initial_df_index)\n",
    "\n",
    "widgets.interact(plot_scatters, player_ID=player_key_widget, df_index=df_index_widget,\n",
    "                 x=x_widget, y=y_widget, y_2=y_2_widget, x_min=x_min_widget, x_max=x_max_widget,\n",
    "                 show_line=show_line_widget, shade_area=shade_area_widget)\n",
    "\n",
    "# Update the player_key_widget options when df_index changes\n",
    "def on_df_index_change(change):\n",
    "    update_players_widget(change.new)\n",
    "\n",
    "df_index_widget.observe(on_df_index_change, names='value')\n",
    "update_players_widget(initial_df_index)  # update the player_key_widget options initially\n"
   ]
  },
  {
   "attachments": {},
   "cell_type": "markdown",
   "metadata": {},
   "source": [
    "### Second Plot Lossing Dataframes:\n",
    "\n",
    "List of DataFrames that contains all lossing dataframes\n",
    "* dtf_lossing = [dtf_inc_slot_lossing_2, dtf_inc_slot_lossing_3, dtf_inc_slot_lossing_4, dtf_inc_maxbet_lossing_2, dtf_inc_maxbet_lossing_3, dtf_inc_maxbet_lossing_4]"
   ]
  },
  {
   "cell_type": "code",
   "execution_count": 22,
   "metadata": {
    "vscode": {
     "languageId": "python"
    }
   },
   "outputs": [
    {
     "name": "stdout",
     "output_type": "stream",
     "text": [
      "8005 1\n"
     ]
    },
    {
     "data": {
      "application/vnd.jupyter.widget-view+json": {
       "model_id": "a1fa4d0e936442bbb7604b0d6338c3d7",
       "version_major": 2,
       "version_minor": 0
      },
      "text/plain": [
       "interactive(children=(Dropdown(description='player_ID', options=((2, 0), (3, 1), (4, 2), (8, 3), (11, 4), (12,…"
      ]
     },
     "metadata": {},
     "output_type": "display_data"
    }
   ],
   "source": [
    "# Make a list of all the dataframes that are match and slice\n",
    "dtf_lists = dtf_lossing\n",
    "\n",
    "# Calculate the max and min values for the 'time' column for each DataFrame\n",
    "time_max = max([df[\"time\"].max() for df in dtf_lists])\n",
    "time_min = min([df[\"time\"].min() for df in dtf_lists])\n",
    "\n",
    "print(time_max, time_min)\n",
    "\n",
    "# Create a scatter plot of the players wins for only player with key 3\n",
    "def plot_scatters(player_ID, df_index, x=\"time\", y=\"percent_return\", y_2=None, x_min=None, x_max=None, show_line=False, shade_area=False):\n",
    "    df = dtf_lists[df_index]\n",
    "    players = df[\"playerkey\"].unique().tolist()\n",
    "    player_df = df[df[\"playerkey\"] == players[player_ID]]\n",
    "    \n",
    "    fig, ax1 = plt.subplots()\n",
    "    ax1.set_xlabel(x)\n",
    "    ax1.set_ylabel(y, color='royalblue')\n",
    "    if x_min is not None and x_max is not None:\n",
    "        player_df = player_df[(player_df[x] >= x_min) & (player_df[x] <= x_max)]\n",
    "    ax1.scatter(x=player_df[x], y=player_df[y], color='royalblue')\n",
    "    \n",
    "    if y_2 is not None:\n",
    "        ax2 = ax1.twinx()\n",
    "        ax2.set_ylabel(y_2, color='r')\n",
    "        if x_min is not None and x_max is not None:\n",
    "            player_df = player_df[(player_df[x] >= x_min) & (player_df[x] <= x_max)]\n",
    "        ax2.scatter(x=player_df[x], y=player_df[y_2], color='orangered', marker='s')\n",
    "        ax2.tick_params(axis='y', labelcolor='orangered')\n",
    "        # Add a line to the plot if show_line is True\n",
    "        if show_line:\n",
    "            ax2.plot(player_df[x], player_df[y_2], color='black', linewidth=0.8, linestyle='--')\n",
    "        if shade_area:\n",
    "            ax2.fill_between(player_df[x], player_df[y_2], color='lightcoral', alpha=0.5)\n",
    "    \n",
    "    if show_line:\n",
    "        ax1.plot(player_df[x], player_df[y], color='black', linewidth=0.8)\n",
    "        \n",
    "    if shade_area:\n",
    "        ax1.fill_between(player_df[x], player_df[y], color='lightblue', alpha=0.5)\n",
    "\n",
    "    ax1.tick_params(axis='y', labelcolor='black')\n",
    "    ax1.grid()\n",
    "    plt.title(f\"Player {players[player_ID]}\")\n",
    "    plt.show()\n",
    "\n",
    "# Create widgets for playerkey, df_index, x, y, y_2, x_min, and x_max\n",
    "df_index_widget = widgets.Dropdown(options=[(f\"DataFrame {i}\", i) for i in range(len(dtf_lists))])\n",
    "x_widget = widgets.Dropdown(options=list(dtf_lists[0].columns), value=\"time\")\n",
    "y_widget = widgets.Dropdown(options=list(dtf_lists[0].columns), value=\"percent_return\")\n",
    "y_2_widget = widgets.Dropdown(options=[None]+list(dtf_lists[0].columns), value=None)\n",
    "x_min_widget = widgets.FloatText(description=\"x_min\", value=time_min)\n",
    "x_max_widget = widgets.FloatText(description=\"x_max\", value=time_max)\n",
    "show_line_widget = widgets.Checkbox(description='Show line', value=False)\n",
    "shade_area_widget = widgets.Checkbox(description='Shade area', value=False)\n",
    "\n",
    "# Create a function to update the players_widget based on the selected df_index\n",
    "def update_players_widget(df_index):\n",
    "    df = dtf_lists[df_index]\n",
    "    players = df[\"playerkey\"].unique().tolist()\n",
    "    player_key_widget.options = [(p, i) for i, p in enumerate(players)]\n",
    "\n",
    "# Create a players_widget for the initial df_index value\n",
    "initial_df_index = df_index_widget.value\n",
    "initial_df = dtf_lists[initial_df_index]\n",
    "initial_players = initial_df[\"playerkey\"].unique().tolist()\n",
    "player_key_widget = widgets.Dropdown(options=[], value=None)\n",
    "\n",
    "# Call update_players_widget with the initial_df_index value to set the options for player_key_widget\n",
    "update_players_widget(initial_df_index)\n",
    "\n",
    "widgets.interact(plot_scatters, player_ID=player_key_widget, df_index=df_index_widget,\n",
    "                 x=x_widget, y=y_widget, y_2=y_2_widget, x_min=x_min_widget, x_max=x_max_widget,\n",
    "                 show_line=show_line_widget, shade_area=shade_area_widget)\n",
    "\n",
    "# Update the player_key_widget options when df_index changes\n",
    "def on_df_index_change(change):\n",
    "    update_players_widget(change.new)\n",
    "\n",
    "df_index_widget.observe(on_df_index_change, names='value')\n",
    "update_players_widget(initial_df_index)  # update the player_key_widget options initially\n"
   ]
  },
  {
   "attachments": {},
   "cell_type": "markdown",
   "metadata": {},
   "source": [
    "### Third Plot Winning Dataframes:\n",
    "\n",
    "List of DataFrames that contains all winning dataframes:\n",
    "* dtf_winning = [dtf_inc_slot_winning_2, dtf_inc_slot_winning_3, dtf_inc_slot_winning_4, dtf_inc_maxbet_winning_2, dtf_inc_maxbet_winning_3]"
   ]
  },
  {
   "cell_type": "code",
   "execution_count": 23,
   "metadata": {
    "vscode": {
     "languageId": "python"
    }
   },
   "outputs": [
    {
     "name": "stdout",
     "output_type": "stream",
     "text": [
      "2136 3\n"
     ]
    },
    {
     "data": {
      "application/vnd.jupyter.widget-view+json": {
       "model_id": "5ae392273453472f8b4d05e9d0a78588",
       "version_major": 2,
       "version_minor": 0
      },
      "text/plain": [
       "interactive(children=(Dropdown(description='player_ID', options=((6, 0), (14, 1), (18, 2), (19, 3), (57, 4), (…"
      ]
     },
     "metadata": {},
     "output_type": "display_data"
    }
   ],
   "source": [
    "# Make a list of all the dataframes that are match and slice\n",
    "dtf_lists = dtf_winning\n",
    "\n",
    "# Calculate the max and min values for the 'time' column for each DataFrame\n",
    "time_max = max([df[\"time\"].max() for df in dtf_lists])\n",
    "time_min = min([df[\"time\"].min() for df in dtf_lists])\n",
    "\n",
    "print(time_max, time_min)\n",
    "\n",
    "# Create a scatter plot of the players wins for only player with key 3\n",
    "def plot_scatters(player_ID, df_index, x=\"time\", y=\"percent_return\", y_2=None, x_min=None, x_max=None, show_line=False, shade_area=False):\n",
    "    df = dtf_lists[df_index]\n",
    "    players = df[\"playerkey\"].unique().tolist()\n",
    "    player_df = df[df[\"playerkey\"] == players[player_ID]]\n",
    "    \n",
    "    fig, ax1 = plt.subplots()\n",
    "    ax1.set_xlabel(x)\n",
    "    ax1.set_ylabel(y, color='royalblue')\n",
    "    if x_min is not None and x_max is not None:\n",
    "        player_df = player_df[(player_df[x] >= x_min) & (player_df[x] <= x_max)]\n",
    "    ax1.scatter(x=player_df[x], y=player_df[y], color='royalblue')\n",
    "    \n",
    "    if y_2 is not None:\n",
    "        ax2 = ax1.twinx()\n",
    "        ax2.set_ylabel(y_2, color='r')\n",
    "        if x_min is not None and x_max is not None:\n",
    "            player_df = player_df[(player_df[x] >= x_min) & (player_df[x] <= x_max)]\n",
    "        ax2.scatter(x=player_df[x], y=player_df[y_2], color='orangered', marker='s')\n",
    "        ax2.tick_params(axis='y', labelcolor='orangered')\n",
    "        # Add a line to the plot if show_line is True\n",
    "        if show_line:\n",
    "            ax2.plot(player_df[x], player_df[y_2], color='black', linewidth=0.8, linestyle='--')\n",
    "        if shade_area:\n",
    "            ax2.fill_between(player_df[x], player_df[y_2], color='lightcoral', alpha=0.5)\n",
    "    \n",
    "    if show_line:\n",
    "        ax1.plot(player_df[x], player_df[y], color='black', linewidth=0.8)\n",
    "        \n",
    "    if shade_area:\n",
    "        ax1.fill_between(player_df[x], player_df[y], color='lightblue', alpha=0.5)\n",
    "\n",
    "    ax1.tick_params(axis='y', labelcolor='black')\n",
    "    ax1.grid()\n",
    "    plt.title(f\"Player {players[player_ID]}\")\n",
    "    plt.show()\n",
    "\n",
    "# Create widgets for playerkey, df_index, x, y, y_2, x_min, and x_max\n",
    "df_index_widget = widgets.Dropdown(options=[(f\"DataFrame {i}\", i) for i in range(len(dtf_lists))])\n",
    "x_widget = widgets.Dropdown(options=list(dtf_lists[0].columns), value=\"time\")\n",
    "y_widget = widgets.Dropdown(options=list(dtf_lists[0].columns), value=\"percent_return\")\n",
    "y_2_widget = widgets.Dropdown(options=[None]+list(dtf_lists[0].columns), value=None)\n",
    "x_min_widget = widgets.FloatText(description=\"x_min\", value=time_min)\n",
    "x_max_widget = widgets.FloatText(description=\"x_max\", value=time_max)\n",
    "show_line_widget = widgets.Checkbox(description='Show line', value=False)\n",
    "shade_area_widget = widgets.Checkbox(description='Shade area', value=False)\n",
    "\n",
    "# Create a function to update the players_widget based on the selected df_index\n",
    "def update_players_widget(df_index):\n",
    "    df = dtf_lists[df_index]\n",
    "    players = df[\"playerkey\"].unique().tolist()\n",
    "    player_key_widget.options = [(p, i) for i, p in enumerate(players)]\n",
    "\n",
    "# Create a players_widget for the initial df_index value\n",
    "initial_df_index = df_index_widget.value\n",
    "initial_df = dtf_lists[initial_df_index]\n",
    "initial_players = initial_df[\"playerkey\"].unique().tolist()\n",
    "player_key_widget = widgets.Dropdown(options=[], value=None)\n",
    "\n",
    "# Call update_players_widget with the initial_df_index value to set the options for player_key_widget\n",
    "update_players_widget(initial_df_index)\n",
    "\n",
    "widgets.interact(plot_scatters, player_ID=player_key_widget, df_index=df_index_widget,\n",
    "                 x=x_widget, y=y_widget, y_2=y_2_widget, x_min=x_min_widget, x_max=x_max_widget,\n",
    "                 show_line=show_line_widget, shade_area=shade_area_widget)\n",
    "\n",
    "# Update the player_key_widget options when df_index changes\n",
    "def on_df_index_change(change):\n",
    "    update_players_widget(change.new)\n",
    "\n",
    "df_index_widget.observe(on_df_index_change, names='value')\n",
    "update_players_widget(initial_df_index)  # update the player_key_widget options initially\n"
   ]
  }
 ],
 "metadata": {
  "kernelspec": {
   "display_name": "Python 3 (ipykernel)",
   "language": "python",
   "name": "python3"
  },
  "orig_nbformat": 4,
  "vscode": {
   "interpreter": {
    "hash": "aee8b7b246df8f9039afb4144a1f6fd8d2ca17a180786b69acc140d282b71a49"
   }
  }
 },
 "nbformat": 4,
 "nbformat_minor": 2
}
