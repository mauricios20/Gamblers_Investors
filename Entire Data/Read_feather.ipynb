{
 "cells": [
  {
   "cell_type": "code",
   "execution_count": 2,
   "metadata": {},
   "outputs": [],
   "source": [
    "import pandas as pd\n",
    "import os\n",
    "import numpy as np\n",
    "\n",
    "# Set working directory\n",
    "path = \"/Users/mau/Library/CloudStorage/Dropbox/Mac/Documents/Dissertation/Chapter 2/Entire_Data\"\n",
    "os.chdir(path)\n",
    "\n",
    "# # Filter\n",
    "filter = ['starteventdatetime', 'endeventdatetime', 'playercashableamt', 'wageredamt', 'grosswin', 'theoreticalwin', \n",
    "       'currencyinamt', 'maxbet', 'slotdenominationname', 'assetnumber', \n",
    "       'theoreticalpaybackpercent', 'playerkey', 'age', 'rank', 'gender']\n",
    "# Load data into a DataFrame\n",
    "dtf = pd.read_feather(\"compressed_data.feather\", columns=filter)\n"
   ]
  },
  {
   "cell_type": "code",
   "execution_count": 19,
   "metadata": {},
   "outputs": [
    {
     "name": "stdout",
     "output_type": "stream",
     "text": [
      "47231\n",
      "32085956\n",
      "478\n",
      "306\n",
      "<class 'pandas.core.frame.DataFrame'>\n",
      "RangeIndex: 56269928 entries, 0 to 56269927\n",
      "Data columns (total 13 columns):\n",
      " #   Column                     Dtype  \n",
      "---  ------                     -----  \n",
      " 0   playercashableamt          float32\n",
      " 1   wageredamt                 float16\n",
      " 2   grosswin                   float32\n",
      " 3   theoreticalwin             float16\n",
      " 4   currencyinamt              float64\n",
      " 5   maxbet                     float32\n",
      " 6   slotdenominationname       object \n",
      " 7   assetnumber                float64\n",
      " 8   theoreticalpaybackpercent  float16\n",
      " 9   playerkey                  int32  \n",
      " 10  age                        float16\n",
      " 11  rank                       float16\n",
      " 12  gender                     object \n",
      "dtypes: float16(5), float32(3), float64(2), int32(1), object(2)\n",
      "memory usage: 3.0+ GB\n",
      "None\n",
      "['' 'M' 'F' ' ' 'U' 'NULL']\n",
      "          playercashableamt  wageredamt  grosswin  theoreticalwin  \\\n",
      "56269925                NaN         NaN       NaN             NaN   \n",
      "56269926                NaN         NaN       NaN             NaN   \n",
      "56269927                NaN         NaN       NaN             NaN   \n",
      "\n",
      "          currencyinamt  maxbet slotdenominationname  assetnumber  \\\n",
      "56269925            NaN     NaN                               NaN   \n",
      "56269926            NaN     NaN                               NaN   \n",
      "56269927            NaN     NaN                               NaN   \n",
      "\n",
      "          theoreticalpaybackpercent  playerkey  age  rank gender  \n",
      "56269925                        NaN      47973  NaN   NaN      F  \n",
      "56269926                        NaN      47990  NaN   NaN      F  \n",
      "56269927                        NaN      48030  NaN   NaN      M  \n"
     ]
    }
   ],
   "source": [
    "# Print how many unique players in dataset\n",
    "print(len(dtf['playerkey'].unique()))\n",
    "# Count how many times does the player with the playerkey==1 appear in the dataset\n",
    "print(dtf['playerkey'].value_counts()[1])\n",
    "\n",
    "# Count how many times does the player with the playerkey==2 appear in the dataset\n",
    "print(dtf['playerkey'].value_counts()[2])\n",
    "\n",
    "# Count how many times does the player with the playerkey==3 appear in the dataset\n",
    "print(dtf['playerkey'].value_counts()[3])\n",
    "\n",
    "print(dtf.info())\n",
    "\n",
    "# Pint gender unique values\n",
    "print(dtf['gender'].unique())\n",
    "\n",
    "# Print tail\n",
    "print(dtf.tail(3))\n"
   ]
  },
  {
   "cell_type": "code",
   "execution_count": 18,
   "metadata": {},
   "outputs": [],
   "source": [
    "# Function to reduce memory usage of a dataframe\n",
    "def reduce_mem_usage(df):\n",
    "    start_mem = df.memory_usage().sum() / 1024 ** 2\n",
    "    print('Memory usage of dataframe is {:.2f} MB'.format(start_mem))\n",
    "    \n",
    "    # Iterate through each column of the dataframe\n",
    "    for col in df.columns:\n",
    "        col_type = df[col].dtype\n",
    "        \n",
    "        # If the column is not an object type, a category type or a datetime type\n",
    "        if col_type != object and col_type.name != 'category' and 'datetime' not in col_type.name:\n",
    "            c_min = df[col].min()\n",
    "            c_max = df[col].max()\n",
    "            if str(col_type)[:3] == 'int':\n",
    "                if c_min > np.iinfo(np.int8).min and c_max < np.iinfo(np.int8).max:\n",
    "                    df[col] = df[col].astype(np.int8)\n",
    "                elif c_min > np.iinfo(np.int16).min and c_max < np.iinfo(np.int16).max:\n",
    "                    df[col] = df[col].astype(np.int16)\n",
    "                elif c_min > np.iinfo(np.int32).min and c_max < np.iinfo(np.int32).max:\n",
    "                    df[col] = df[col].astype(np.int32)\n",
    "                elif c_min > np.iinfo(np.int64).min and c_max < np.iinfo(np.int64).max:\n",
    "                    df[col] = df[col].astype(np.int64)  \n",
    "            else:\n",
    "                if c_min > np.finfo(np.float16).min and c_max < np.finfo(np.float16).max:\n",
    "                    df[col] = df[col].astype(np.float32)\n",
    "                elif c_min > np.finfo(np.float32).min and c_max < np.finfo(np.float32).max:\n",
    "                    df[col] = df[col].astype(np.float32)\n",
    "                else:\n",
    "                    df[col] = df[col].astype(np.float64)\n",
    "\n",
    "    end_mem = df.memory_usage().sum() / 1024 ** 2\n",
    "    print('Memory usage after optimization is: {:.2f} MB'.format(end_mem))\n",
    "    print('Decreased by {:.1f}%'.format(100 * (start_mem - end_mem) / start_mem))\n",
    "    \n",
    "    return df"
   ]
  },
  {
   "cell_type": "code",
   "execution_count": 27,
   "metadata": {},
   "outputs": [
    {
     "name": "stdout",
     "output_type": "stream",
     "text": [
      "Number of unique players: 46489\n",
      "<class 'pandas.core.frame.DataFrame'>\n",
      "Int64Index: 24116564 entries, 32085956 to 56269201\n",
      "Data columns (total 13 columns):\n",
      " #   Column                     Dtype  \n",
      "---  ------                     -----  \n",
      " 0   playercashableamt          float32\n",
      " 1   wageredamt                 float16\n",
      " 2   grosswin                   float32\n",
      " 3   theoreticalwin             float16\n",
      " 4   currencyinamt              float64\n",
      " 5   maxbet                     float32\n",
      " 6   slotdenominationname       object \n",
      " 7   assetnumber                float64\n",
      " 8   theoreticalpaybackpercent  float16\n",
      " 9   playerkey                  int32  \n",
      " 10  age                        float16\n",
      " 11  rank                       float16\n",
      " 12  gender                     object \n",
      "dtypes: float16(5), float32(3), float64(2), int32(1), object(2)\n",
      "memory usage: 1.5+ GB\n",
      "None\n",
      "Memory usage of dataframe is 1517.96 MB\n"
     ]
    },
    {
     "name": "stderr",
     "output_type": "stream",
     "text": [
      "/var/folders/vp/1skwx2kd29s4fxnxx7tt9r6w0000gn/T/ipykernel_7355/724186002.py:27: SettingWithCopyWarning: \n",
      "A value is trying to be set on a copy of a slice from a DataFrame.\n",
      "Try using .loc[row_indexer,col_indexer] = value instead\n",
      "\n",
      "See the caveats in the documentation: https://pandas.pydata.org/pandas-docs/stable/user_guide/indexing.html#returning-a-view-versus-a-copy\n",
      "  df[col] = df[col].astype(np.float32)\n",
      "/var/folders/vp/1skwx2kd29s4fxnxx7tt9r6w0000gn/T/ipykernel_7355/724186002.py:25: SettingWithCopyWarning: \n",
      "A value is trying to be set on a copy of a slice from a DataFrame.\n",
      "Try using .loc[row_indexer,col_indexer] = value instead\n",
      "\n",
      "See the caveats in the documentation: https://pandas.pydata.org/pandas-docs/stable/user_guide/indexing.html#returning-a-view-versus-a-copy\n",
      "  df[col] = df[col].astype(np.float32)\n",
      "/var/folders/vp/1skwx2kd29s4fxnxx7tt9r6w0000gn/T/ipykernel_7355/724186002.py:20: SettingWithCopyWarning: \n",
      "A value is trying to be set on a copy of a slice from a DataFrame.\n",
      "Try using .loc[row_indexer,col_indexer] = value instead\n",
      "\n",
      "See the caveats in the documentation: https://pandas.pydata.org/pandas-docs/stable/user_guide/indexing.html#returning-a-view-versus-a-copy\n",
      "  df[col] = df[col].astype(np.int32)\n"
     ]
    },
    {
     "name": "stdout",
     "output_type": "stream",
     "text": [
      "Memory usage after optimization is: 1563.96 MB\n",
      "Decreased by -3.0%\n"
     ]
    }
   ],
   "source": [
    "# Create new dataframe that containxs only observations where age is not null and not zero\n",
    "dtf_age = dtf[dtf['age'].notnull() & (dtf['age'] != 0)]\n",
    "\n",
    "# Print how many players are in dataframe\n",
    "print('Number of unique players:', len(dtf_age['playerkey'].unique()))\n",
    "\n",
    "# Info of dataframe without reduction\n",
    "print(dtf_age.info())\n",
    "\n",
    "# # Info of dataframe with reduction \n",
    "dtf_age = reduce_mem_usage(dtf_age)\n",
    "\n",
    "dtf_age.to_parquet(\"dtf_age.parquet\", engine='pyarrow', compression='snappy')\n"
   ]
  },
  {
   "cell_type": "code",
   "execution_count": 28,
   "metadata": {},
   "outputs": [
    {
     "name": "stdout",
     "output_type": "stream",
     "text": [
      "Number of unique players: 42319\n",
      "<class 'pandas.core.frame.DataFrame'>\n",
      "Int64Index: 19805971 entries, 32086434 to 56269927\n",
      "Data columns (total 13 columns):\n",
      " #   Column                     Dtype  \n",
      "---  ------                     -----  \n",
      " 0   playercashableamt          float32\n",
      " 1   wageredamt                 float16\n",
      " 2   grosswin                   float32\n",
      " 3   theoreticalwin             float16\n",
      " 4   currencyinamt              float64\n",
      " 5   maxbet                     float32\n",
      " 6   slotdenominationname       object \n",
      " 7   assetnumber                float64\n",
      " 8   theoreticalpaybackpercent  float16\n",
      " 9   playerkey                  int32  \n",
      " 10  age                        float16\n",
      " 11  rank                       float16\n",
      " 12  gender                     object \n",
      "dtypes: float16(5), float32(3), float64(2), int32(1), object(2)\n",
      "memory usage: 1.2+ GB\n",
      "None\n",
      "Memory usage of dataframe is 1246.64 MB\n"
     ]
    },
    {
     "name": "stderr",
     "output_type": "stream",
     "text": [
      "/var/folders/vp/1skwx2kd29s4fxnxx7tt9r6w0000gn/T/ipykernel_7355/724186002.py:27: SettingWithCopyWarning: \n",
      "A value is trying to be set on a copy of a slice from a DataFrame.\n",
      "Try using .loc[row_indexer,col_indexer] = value instead\n",
      "\n",
      "See the caveats in the documentation: https://pandas.pydata.org/pandas-docs/stable/user_guide/indexing.html#returning-a-view-versus-a-copy\n",
      "  df[col] = df[col].astype(np.float32)\n",
      "/var/folders/vp/1skwx2kd29s4fxnxx7tt9r6w0000gn/T/ipykernel_7355/724186002.py:25: SettingWithCopyWarning: \n",
      "A value is trying to be set on a copy of a slice from a DataFrame.\n",
      "Try using .loc[row_indexer,col_indexer] = value instead\n",
      "\n",
      "See the caveats in the documentation: https://pandas.pydata.org/pandas-docs/stable/user_guide/indexing.html#returning-a-view-versus-a-copy\n",
      "  df[col] = df[col].astype(np.float32)\n",
      "/var/folders/vp/1skwx2kd29s4fxnxx7tt9r6w0000gn/T/ipykernel_7355/724186002.py:20: SettingWithCopyWarning: \n",
      "A value is trying to be set on a copy of a slice from a DataFrame.\n",
      "Try using .loc[row_indexer,col_indexer] = value instead\n",
      "\n",
      "See the caveats in the documentation: https://pandas.pydata.org/pandas-docs/stable/user_guide/indexing.html#returning-a-view-versus-a-copy\n",
      "  df[col] = df[col].astype(np.int32)\n"
     ]
    },
    {
     "name": "stdout",
     "output_type": "stream",
     "text": [
      "Memory usage after optimization is: 1284.41 MB\n",
      "Decreased by -3.0%\n"
     ]
    }
   ],
   "source": [
    "# Create a new dataframe that contains only observations where gender is equal to 'M' or 'F'\n",
    "dtf_gender = dtf[(dtf['gender'] == 'M') | (dtf['gender'] == 'F')]\n",
    "\n",
    "# Print how many players are in dataframe\n",
    "print('Number of unique players:', len(dtf_gender['playerkey'].unique()))\n",
    "\n",
    "# Info of dataframe without reduction\n",
    "print(dtf_gender.info())\n",
    "\n",
    "# # Info of dataframe with reduction \n",
    "dtf_gender = reduce_mem_usage(dtf_gender)\n",
    "\n",
    "dtf_gender.to_parquet(\"dtf_gender.parquet\", engine='pyarrow', compression='snappy')\n"
   ]
  },
  {
   "cell_type": "code",
   "execution_count": 29,
   "metadata": {},
   "outputs": [
    {
     "name": "stdout",
     "output_type": "stream",
     "text": [
      "Number of unique players: 41587\n",
      "<class 'pandas.core.frame.DataFrame'>\n",
      "Int64Index: 19804359 entries, 32086434 to 56269185\n",
      "Data columns (total 13 columns):\n",
      " #   Column                     Dtype  \n",
      "---  ------                     -----  \n",
      " 0   playercashableamt          float32\n",
      " 1   wageredamt                 float32\n",
      " 2   grosswin                   float32\n",
      " 3   theoreticalwin             float32\n",
      " 4   currencyinamt              float32\n",
      " 5   maxbet                     float32\n",
      " 6   slotdenominationname       object \n",
      " 7   assetnumber                float32\n",
      " 8   theoreticalpaybackpercent  float32\n",
      " 9   playerkey                  int32  \n",
      " 10  age                        float32\n",
      " 11  rank                       float32\n",
      " 12  gender                     object \n",
      "dtypes: float32(10), int32(1), object(2)\n",
      "memory usage: 1.3+ GB\n",
      "None\n",
      "Memory usage of dataframe is 1284.31 MB\n"
     ]
    },
    {
     "name": "stderr",
     "output_type": "stream",
     "text": [
      "/var/folders/vp/1skwx2kd29s4fxnxx7tt9r6w0000gn/T/ipykernel_7355/724186002.py:27: SettingWithCopyWarning: \n",
      "A value is trying to be set on a copy of a slice from a DataFrame.\n",
      "Try using .loc[row_indexer,col_indexer] = value instead\n",
      "\n",
      "See the caveats in the documentation: https://pandas.pydata.org/pandas-docs/stable/user_guide/indexing.html#returning-a-view-versus-a-copy\n",
      "  df[col] = df[col].astype(np.float32)\n",
      "/var/folders/vp/1skwx2kd29s4fxnxx7tt9r6w0000gn/T/ipykernel_7355/724186002.py:25: SettingWithCopyWarning: \n",
      "A value is trying to be set on a copy of a slice from a DataFrame.\n",
      "Try using .loc[row_indexer,col_indexer] = value instead\n",
      "\n",
      "See the caveats in the documentation: https://pandas.pydata.org/pandas-docs/stable/user_guide/indexing.html#returning-a-view-versus-a-copy\n",
      "  df[col] = df[col].astype(np.float32)\n",
      "/var/folders/vp/1skwx2kd29s4fxnxx7tt9r6w0000gn/T/ipykernel_7355/724186002.py:20: SettingWithCopyWarning: \n",
      "A value is trying to be set on a copy of a slice from a DataFrame.\n",
      "Try using .loc[row_indexer,col_indexer] = value instead\n",
      "\n",
      "See the caveats in the documentation: https://pandas.pydata.org/pandas-docs/stable/user_guide/indexing.html#returning-a-view-versus-a-copy\n",
      "  df[col] = df[col].astype(np.int32)\n"
     ]
    },
    {
     "name": "stdout",
     "output_type": "stream",
     "text": [
      "Memory usage after optimization is: 1284.31 MB\n",
      "Decreased by 0.0%\n"
     ]
    }
   ],
   "source": [
    "# # Create new dataframe that containxs only observations where age is not null and not zero\n",
    "dtf_age_gender = dtf_gender[dtf_gender['age'].notnull() & (dtf_gender['age'] != 0)]\n",
    "\n",
    "# Print how many players are in dataframe\n",
    "print('Number of unique players:', len(dtf_age_gender['playerkey'].unique()))\n",
    "\n",
    "# Info of dataframe without reduction\n",
    "print(dtf_age_gender.info())\n",
    "\n",
    "# # Info of dataframe with reduction \n",
    "dtf_age_gender = reduce_mem_usage(dtf_age_gender)\n",
    "\n",
    "dtf_age_gender.to_parquet(\"dtf_age_gender.parquet\", engine='pyarrow', compression='snappy')"
   ]
  }
 ],
 "metadata": {
  "kernelspec": {
   "display_name": "Python 3",
   "language": "python",
   "name": "python3"
  },
  "language_info": {
   "codemirror_mode": {
    "name": "ipython",
    "version": 3
   },
   "file_extension": ".py",
   "mimetype": "text/x-python",
   "name": "python",
   "nbconvert_exporter": "python",
   "pygments_lexer": "ipython3",
   "version": "3.10.0"
  },
  "orig_nbformat": 4
 },
 "nbformat": 4,
 "nbformat_minor": 2
}
