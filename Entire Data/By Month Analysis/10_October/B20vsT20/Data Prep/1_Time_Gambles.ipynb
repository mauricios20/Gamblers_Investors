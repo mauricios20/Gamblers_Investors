{
 "cells": [
  {
   "attachments": {},
   "cell_type": "markdown",
   "metadata": {},
   "source": [
    "# Exploratory Data Analysis (Time & Gambles)\n",
    "\n",
    "We are going to be looking for patterns in players who only played in the month of June. This is with the purpose to distinguish players between short and long positions, and the reasons why they hold this positions. "
   ]
  },
  {
   "cell_type": "code",
   "execution_count": 1,
   "metadata": {},
   "outputs": [],
   "source": [
    "# import all necesary libraries for the project\n",
    "import pandas as pd\n",
    "import os\n",
    "import numpy as np\n",
    "import matplotlib.pyplot as plt\n",
    "import seaborn as sns\n",
    "import datetime as dt\n",
    "import warnings\n",
    "warnings.filterwarnings('ignore')\n"
   ]
  },
  {
   "cell_type": "code",
   "execution_count": 2,
   "metadata": {},
   "outputs": [],
   "source": [
    "# Define working directory\n",
    "path = \"/Users/mau/Library/CloudStorage/Dropbox/Mac/Documents/Dissertation/Chapter 2/Entire_Data/By month/1_Generic\"\n",
    "os.chdir(path)\n",
    "\n",
    "# Filter Columns\n",
    "filter = ['playerkey', 'playercashableamt', 'wageredamt', 'maxbet', 'grosswin',\n",
    "       'currencyinamt', 'assetnumber', 'theoreticalpaybackpercent', \n",
    "       'age', 'rank', 'gender', 'date', 'start_time', 'end_time', 'duration',\n",
    "       'slotdenomination']\n",
    "# Import data\n",
    "dtf = pd.read_parquet('month_10_year_2015.parquet', columns=filter)\n",
    "\n",
    "# Check data\n",
    "dtf.columns\n",
    "\n",
    "# Select only the rows where duration is greater than or equal to zero\n",
    "dtf = dtf[dtf['duration'] >= pd.Timedelta(0)]"
   ]
  },
  {
   "cell_type": "code",
   "execution_count": 3,
   "metadata": {},
   "outputs": [],
   "source": [
    "# Sort data by start_time and playerkey\n",
    "dtf = dtf.sort_values(by=['playerkey', 'date', 'start_time'])"
   ]
  },
  {
   "attachments": {},
   "cell_type": "markdown",
   "metadata": {},
   "source": [
    "## Calculate Foundamental Variables\n",
    "\n",
    "The following variables were calculated using existing data:\n",
    "* _player_loss_: how much money each player has lost in each gamble.\n",
    "* _player_wins_: equals the amount of money they bet plus how much they won.\n",
    "* _percent_return_: the return in player's bets for each gamble played. \n",
    "\n",
    "$$\\text{percent return} = (\\frac{df[wins] - df[wageredamt]}{df[wageredamt]})*100$$\n",
    "\n",
    "* _playercashableamt_pct_change_: calculates the rate of change of player's outstanding gambling amount. \n",
    "\n",
    "$$\\text{playercashableamt \\% change} = (\\frac{df[playercashableamt_{t+1}] - df[playercashableamt_{t}]}{df[playercashableamt_{t}]})*100$$"
   ]
  },
  {
   "cell_type": "code",
   "execution_count": 4,
   "metadata": {},
   "outputs": [],
   "source": [
    "# Crate a new colum that is the inverse of casino_grosswin, named \"player_loss\"\n",
    "dtf['ops'] = dtf['grosswin']*-1\n",
    "\n",
    "# Create a new column that is the inverse of casino_grosswin, named \"player_loss\" that includes all negative values of 'ops'\n",
    "dtf['player_loss'] = np.where(dtf['ops'] < 0, dtf['ops'], 0)\n",
    "\n",
    "# Create a new column that is the inverse of casino_grosswin, named \"player_wins\" that includes all positive values of 'ops'\n",
    "dtf['player_wins'] = np.where(dtf['ops'] > 0, dtf['ops'], 0)\n",
    "\n",
    "# Create total_amt_won column\n",
    "dtf['total_amt_won'] = dtf[\"wageredamt\"]+dtf[\"ops\"]\n",
    "\n",
    "# Create colum profit\n",
    "dtf['profit'] = dtf['total_amt_won'] - dtf['wageredamt']\n",
    "\n",
    "# # Calculate percentage return for each gamble and add it as a new column\n",
    "dtf[\"percent_return\"] = ((dtf[\"wageredamt\"]+dtf[\"ops\"]) - dtf[\"wageredamt\"]) / dtf[\"wageredamt\"] * 100\n",
    "\n",
    "# # Create a time series variable for each player that starts at 1 and increases by 1 for each row\n",
    "draw_condition = dtf['grosswin'] == 0\n",
    "\n",
    "for i, row in dtf.iterrows():\n",
    "    if draw_condition[i]:\n",
    "        dtf.loc[i, 'profit'] = 0\n",
    "\n",
    "# Drop 'ops' column\n",
    "dtf = dtf.drop(columns=['ops'])\n",
    "\n",
    "# Create a time series variable for each player that starts at 1 and increases by 1 for each row\n",
    "dtf[\"gambles\"] = dtf.groupby(\"playerkey\").cumcount() + 1\n"
   ]
  },
  {
   "attachments": {},
   "cell_type": "markdown",
   "metadata": {},
   "source": [
    "### Calulates Number of Visits"
   ]
  },
  {
   "cell_type": "code",
   "execution_count": 5,
   "metadata": {},
   "outputs": [],
   "source": [
    "# Group the DataFrame by playerkey\n",
    "groups = dtf.groupby('playerkey')\n",
    "\n",
    "# Initialize the visit column to 1 for the first visit of each player\n",
    "dtf['visit'] = groups['date'].transform(lambda x: (x.diff().dt.days >= 1).cumsum() + 1)\n",
    "\n",
    "# Reset the visit count for each new player\n",
    "dtf['visit'] = dtf.groupby('playerkey')['visit'].apply(lambda x: x - x.iloc[0] + 1)\n"
   ]
  },
  {
   "attachments": {},
   "cell_type": "markdown",
   "metadata": {},
   "source": [
    "### Calculate Sessions based on Time\n",
    "\n",
    "If there is a pause of 30 minutes or more between gambles it is considered the end of a session, and the start of a new one."
   ]
  },
  {
   "cell_type": "code",
   "execution_count": 6,
   "metadata": {},
   "outputs": [],
   "source": [
    "# Convert the start_time column to datetime\n",
    "dtf[\"start_time\"] = pd.to_datetime(dtf[\"start_time\"])\n",
    "\n",
    "# Sort data by start_time and playerkey\n",
    "dtf = dtf.sort_values(by=['playerkey', 'date', 'start_time'])\n",
    "\n",
    "# Compute the time difference between consecutive gambles for each player\n",
    "dtf['time_diff'] = dtf.groupby('playerkey')['start_time'].diff()\n",
    "\n",
    "# Initialize the session_time column to 1 for the first gamble of each player\n",
    "dtf['session_time'] = dtf.groupby('playerkey').ngroup() + 1\n",
    "\n",
    "# Update the session_time column based on the time difference\n",
    "dtf['session_time'] += (dtf['time_diff'] > pd.Timedelta(minutes=30)).cumsum()\n",
    "\n",
    "# Reset the session_time count for each new visit\n",
    "dtf['session_time'] = dtf.groupby(['playerkey', 'visit'])['session_time'].apply(lambda x: x - x.iloc[0] + 1)\n",
    "\n",
    "# Remove the temporary time_diff column\n",
    "dtf = dtf.drop('time_diff', axis=1)"
   ]
  },
  {
   "attachments": {},
   "cell_type": "markdown",
   "metadata": {},
   "source": [
    "### Calculate Sessions based on Machine Change\n",
    "\n",
    "Everytime a player switches machine a new sessions begins."
   ]
  },
  {
   "cell_type": "code",
   "execution_count": 7,
   "metadata": {},
   "outputs": [],
   "source": [
    "# Initialize the session_machine column to 1 for the first machine of each player\n",
    "dtf['session_machine'] = (dtf.groupby(\"playerkey\")[\"assetnumber\"].diff() != 0).cumsum()\n",
    "\n",
    "# Reset the session_machine count for each new visit\n",
    "dtf['session_machine'] = dtf.groupby(['playerkey', 'visit'])['session_machine'].apply(lambda x: x - x.iloc[0] + 1)\n"
   ]
  },
  {
   "attachments": {},
   "cell_type": "markdown",
   "metadata": {},
   "source": [
    "### Calculate the number of gambles per Visit"
   ]
  },
  {
   "cell_type": "code",
   "execution_count": 8,
   "metadata": {},
   "outputs": [],
   "source": [
    "# Create a column named \"gambles_visit\" that is the number of gambles per visit\n",
    "dtf[\"gambles_visit\"] = dtf.groupby([\"playerkey\", \"visit\"])[\"gambles\"].cumcount() + 1\n",
    "\n",
    "# Reset the gambles_visit count for each new visit\n",
    "dtf['gambles_visit'] = dtf.groupby(['playerkey', 'visit'])['gambles_visit'].apply(lambda x: x - x.iloc[0] + 1)\n"
   ]
  },
  {
   "attachments": {},
   "cell_type": "markdown",
   "metadata": {},
   "source": [
    "### Calculate the number of gambles per Session Time"
   ]
  },
  {
   "cell_type": "code",
   "execution_count": 9,
   "metadata": {},
   "outputs": [],
   "source": [
    "# Create a column named \"gambles_session\" that is the number of gambles per session\n",
    "dtf[\"gambles_session\"] = dtf.groupby([\"playerkey\", \"session_time\"])[\"gambles\"].cumcount() + 1\n",
    "\n",
    "# Reset the gambles_session count for each new session\n",
    "dtf['gambles_session'] = dtf.groupby(['playerkey', 'session_time'])['gambles_session'].apply(lambda x: x - x.iloc[0] + 1)\n"
   ]
  },
  {
   "attachments": {},
   "cell_type": "markdown",
   "metadata": {},
   "source": [
    "### Calculate the number of gambles per Session Machine"
   ]
  },
  {
   "cell_type": "code",
   "execution_count": 10,
   "metadata": {},
   "outputs": [],
   "source": [
    "# Create a column named \"gambles_machine\" that is the number of gambles per session_machine\n",
    "dtf[\"gambles_machine\"] = dtf.groupby([\"playerkey\", \"session_machine\"])[\"gambles\"].cumcount() + 1\n",
    "\n",
    "# Reset the gambles_machine count for each new session_machine\n",
    "dtf['gambles_machine'] = dtf.groupby(['playerkey', 'session_machine'])['gambles_machine'].apply(lambda x: x - x.iloc[0] + 1)"
   ]
  },
  {
   "attachments": {},
   "cell_type": "markdown",
   "metadata": {},
   "source": [
    "### Calculate the number of Machine Changes\n"
   ]
  },
  {
   "cell_type": "code",
   "execution_count": 11,
   "metadata": {},
   "outputs": [],
   "source": [
    "# Create a column called change_machine that is 1 everytime a player changes assetnumber 0 otherwise, grouped by playerkey and session_time\n",
    "dtf['machines_played'] = (dtf.groupby(['playerkey', 'session_time'])['assetnumber'].diff() != 0).astype(int)"
   ]
  },
  {
   "attachments": {},
   "cell_type": "markdown",
   "metadata": {},
   "source": [
    "## Frequencies of Gambles\n",
    "\n",
    "### General\n",
    "\n",
    "Let's see who plays the most, the least, and the min, max, average, and median number of gambles withouth making a distictions between visits, sessions per time or machine."
   ]
  },
  {
   "cell_type": "code",
   "execution_count": 12,
   "metadata": {},
   "outputs": [
    {
     "name": "stdout",
     "output_type": "stream",
     "text": [
      "Total number of players: 5875\n",
      "Total number of gambles: 2505108\n",
      "--------------------------------------------\n",
      "Maximimum # of gambles of a single player: 21325\n",
      "Player who gambled the most: 6255\n",
      "--------------------------------------------\n",
      "Minimum # of gambles of a single player: 1\n",
      "Player who gambled the least: 39711\n",
      "--------------------------------------------\n",
      "Median # of gambles of all players: 153.0\n",
      "Number of players who played exactly the median: 9\n",
      "Number of players who gambled less than median: 2907\n",
      "Number of players who gambled more than median: 2959\n",
      "--------------------------------------------\n",
      "Most common # of gambles: [11]\n",
      "Average # of gambles of all players: 426.4\n",
      "Number of players who gambled at least the mode: 2021\n"
     ]
    }
   ],
   "source": [
    "# Total number of players\n",
    "print(\"Total number of players:\", dtf[\"playerkey\"].nunique())\n",
    "\n",
    "# Total number of gambles\n",
    "print(\"Total number of gambles:\", dtf.groupby('playerkey')['gambles'].max().sum())\n",
    "\n",
    "print(\"--------------------------------------------\")\n",
    "# What is the maximum number of periods played by each player?\n",
    "print(\"Maximimum # of gambles of a single player:\", dtf.groupby('playerkey')['gambles'].max().max())\n",
    "\n",
    "#Who is the player with the maximum number of periods played?\n",
    "print(\"Player who gambled the most:\", dtf.groupby('playerkey')['gambles'].max().idxmax())\n",
    "\n",
    "print(\"--------------------------------------------\")\n",
    "\n",
    "# What is the minimum number of periods played by each player?\n",
    "print(\"Minimum # of gambles of a single player:\", dtf.groupby('playerkey')['gambles'].max().min())\n",
    "\n",
    "#Who is the player with the minimum number of periods played?\n",
    "print(\"Player who gambled the least:\", dtf.groupby('playerkey')['gambles'].max().idxmin())\n",
    "\n",
    "print(\"--------------------------------------------\")\n",
    "\n",
    "# What is the median number of periods played by each player?\n",
    "print(\"Median # of gambles of all players:\", round(dtf.groupby('playerkey')['gambles'].max().median(), 2))\n",
    "\n",
    "# How many players played at least the median # gambles?\n",
    "print(\"Number of players who played exactly the median:\", dtf.groupby('playerkey')['gambles'].max()[dtf.groupby('playerkey')['gambles'].max() == 150].count())\n",
    "print(\"Number of players who gambled less than median:\", dtf.groupby('playerkey')['gambles'].max()[dtf.groupby('playerkey')['gambles'].max() < 150].count())\n",
    "print(\"Number of players who gambled more than median:\", dtf.groupby('playerkey')['gambles'].max()[dtf.groupby('playerkey')['gambles'].max() > 150].count())\n",
    "print(\"--------------------------------------------\")\n",
    "\n",
    "# Most common # of gambles per person\n",
    "print(\"Most common # of gambles:\", dtf.groupby('playerkey')['gambles'].max().mode().tolist())\n",
    "\n",
    "# What is the average number of periods played by each player?\n",
    "print(\"Average # of gambles of all players:\", round(dtf.groupby('playerkey')['gambles'].max().mean(), 2))\n",
    "\n",
    "# How many players played at least 278 gambles?\n",
    "print(\"Number of players who gambled at least the mode:\", dtf.groupby('playerkey')['gambles'].max()[dtf.groupby('playerkey')['gambles'].max() >= 278].count())"
   ]
  },
  {
   "attachments": {},
   "cell_type": "markdown",
   "metadata": {},
   "source": [
    "#### Visits and Sessions"
   ]
  },
  {
   "cell_type": "code",
   "execution_count": 13,
   "metadata": {},
   "outputs": [
    {
     "name": "stdout",
     "output_type": "stream",
     "text": [
      "Average # of visits per player: 1.52\n",
      "Median # of visits per player: 1.0\n",
      "Most common # of visits per player: [1]\n",
      "--------------------------------------------\n",
      "Average # of gambles per visit: 279.71\n",
      "Median # of gambles per visit: 127.0\n",
      "Most common # of gambles per visit: [10]\n",
      "--------------------------------------------\n",
      "Average # of gambles per session: 278.93\n",
      "Median # of gambles per session: 123.0\n",
      "Most common # of gambles per session: [10]\n",
      "--------------------------------------------\n",
      "Average # of gambles per session_machine: 20.83\n",
      "Median # of gambles per session_machine: 2.0\n",
      "Most common # of gambles per session_machine: [1]\n"
     ]
    }
   ],
   "source": [
    "# Calculate the average number of visitis per player\n",
    "print(\"Average # of visits per player:\", round(dtf.groupby('playerkey')['visit'].max().mean(), 2))\n",
    "\n",
    "# Calculate median number of visits per player\n",
    "print(\"Median # of visits per player:\", round(dtf.groupby('playerkey')['visit'].max().median(), 2))\n",
    "\n",
    "# Calculate the most common number of visits per player\n",
    "print(\"Most common # of visits per player:\", dtf.groupby('playerkey')['visit'].max().mode().tolist())\n",
    "\n",
    "# Seperation line\n",
    "print(\"--------------------------------------------\")\n",
    "\n",
    "# Calculate the average number of gambles per visit\n",
    "print(\"Average # of gambles per visit:\", round(dtf.groupby(['playerkey', 'visit'])['gambles_visit'].max().mean(), 2))\n",
    "\n",
    "# Calculate the median number of gambles per visit\n",
    "print(\"Median # of gambles per visit:\", round(dtf.groupby(['playerkey', 'visit'])['gambles_visit'].max().median(), 2))\n",
    "\n",
    "# Calculate the most common number of gambles per visit\n",
    "print(\"Most common # of gambles per visit:\", dtf.groupby(['playerkey', 'visit'])['gambles_visit'].max().mode().tolist())\n",
    "\n",
    "# Seperation line\n",
    "print(\"--------------------------------------------\")\n",
    "\n",
    "# Calculate the average number of gambles per session\n",
    "print(\"Average # of gambles per session:\", round(dtf.groupby(['playerkey', 'session_time'])['gambles_session'].max().mean(), 2))\n",
    "\n",
    "# Calculate the median number of gambles per session\n",
    "print(\"Median # of gambles per session:\", round(dtf.groupby(['playerkey', 'session_time'])['gambles_session'].max().median(), 2))\n",
    "\n",
    "# Calculate the most common number of gambles per session\n",
    "print(\"Most common # of gambles per session:\", dtf.groupby(['playerkey', 'session_time'])['gambles_session'].max().mode().tolist())\n",
    "\n",
    "# Seperation line\n",
    "print(\"--------------------------------------------\")\n",
    "\n",
    "# Calculate the average number of gambles per session_machine\n",
    "print(\"Average # of gambles per session_machine:\", round(dtf.groupby(['playerkey', 'session_machine'])['gambles_machine'].max().mean(), 2))\n",
    "\n",
    "# Calculate the median number of gambles per session_machine\n",
    "print(\"Median # of gambles per session_machine:\", round(dtf.groupby(['playerkey', 'session_machine'])['gambles_machine'].max().median(), 2))\n",
    "\n",
    "# Calculate the most common number of gambles per session_machine\n",
    "print(\"Most common # of gambles per session_machine:\", dtf.groupby(['playerkey', 'session_machine'])['gambles_machine'].max().mode().tolist())\n"
   ]
  },
  {
   "attachments": {},
   "cell_type": "markdown",
   "metadata": {},
   "source": [
    "### Breakdown"
   ]
  },
  {
   "attachments": {},
   "cell_type": "markdown",
   "metadata": {},
   "source": [
    "#### Per Visit Analysis"
   ]
  },
  {
   "cell_type": "code",
   "execution_count": 14,
   "metadata": {},
   "outputs": [
    {
     "name": "stdout",
     "output_type": "stream",
     "text": [
      "Total visits:  [1, 2, 3, 4, 5, 6, 7, 8, 9, 10, 11]\n",
      "Visit: 1\n",
      " a) # of Players: 5875\n",
      " b) Total # of gambles: 1372541\n",
      " c) Average # of sessions: 1.35\n",
      " d) Max # of sessions: 9\n",
      "--------------------------------------------\n",
      "Visit: 2\n",
      " a) # of Players: 1980\n",
      " b) Total # of gambles: 657962\n",
      " c) Average # of sessions: 1.65\n",
      " d) Max # of sessions: 10\n",
      "--------------------------------------------\n",
      "Visit: 3\n",
      " a) # of Players: 733\n",
      " b) Total # of gambles: 288058\n",
      " c) Average # of sessions: 1.74\n",
      " d) Max # of sessions: 8\n",
      "--------------------------------------------\n",
      "Visit: 4\n",
      " a) # of Players: 249\n",
      " b) Total # of gambles: 112005\n",
      " c) Average # of sessions: 1.79\n",
      " d) Max # of sessions: 8\n",
      "--------------------------------------------\n",
      "Visit: 5\n",
      " a) # of Players: 74\n",
      " b) Total # of gambles: 45396\n",
      " c) Average # of sessions: 1.96\n",
      " d) Max # of sessions: 9\n",
      "--------------------------------------------\n",
      "Visit: 6\n",
      " a) # of Players: 28\n",
      " b) Total # of gambles: 17826\n",
      " c) Average # of sessions: 1.61\n",
      " d) Max # of sessions: 4\n",
      "--------------------------------------------\n",
      "Visit: 7\n",
      " a) # of Players: 8\n",
      " b) Total # of gambles: 3641\n",
      " c) Average # of sessions: 1.88\n",
      " d) Max # of sessions: 5\n",
      "--------------------------------------------\n",
      "Visit: 8\n",
      " a) # of Players: 4\n",
      " b) Total # of gambles: 3099\n",
      " c) Average # of sessions: 2.5\n",
      " d) Max # of sessions: 6\n",
      "--------------------------------------------\n",
      "Visit: 9\n",
      " a) # of Players: 2\n",
      " b) Total # of gambles: 793\n",
      " c) Average # of sessions: 1.5\n",
      " d) Max # of sessions: 2\n",
      "--------------------------------------------\n",
      "Visit: 10\n",
      " a) # of Players: 2\n",
      " b) Total # of gambles: 3454\n",
      " c) Average # of sessions: 2.5\n",
      " d) Max # of sessions: 4\n",
      "--------------------------------------------\n",
      "Visit: 11\n",
      " a) # of Players: 1\n",
      " b) Total # of gambles: 333\n",
      " c) Average # of sessions: 1.0\n",
      " d) Max # of sessions: 1\n",
      "--------------------------------------------\n"
     ]
    }
   ],
   "source": [
    "# What were the unique number of visits per player?\n",
    "print(\"Total visits: \", dtf[\"visit\"].unique().tolist())\n",
    "\n",
    "# How many players played in each visit?\n",
    "for i in dtf[\"visit\"].unique().tolist():\n",
    "    n_players = len(dtf[dtf[\"visit\"] == i][\"playerkey\"].unique())\n",
    "    gambles_data = dtf[dtf[\"visit\"] == i]\n",
    "    total_gambles = gambles_data.groupby('playerkey')['gambles_visit'].max().sum()\n",
    "    print(\"Visit:\", i)\n",
    "    print(\" a) # of Players:\", n_players)\n",
    "    print(\" b) Total # of gambles:\", total_gambles)\n",
    "    print(\" c) Average # of sessions:\", round(gambles_data.groupby('playerkey')['session_time'].max().mean(), 2))\n",
    "    print(\" d) Max # of sessions:\", gambles_data.groupby('playerkey')['session_time'].max().max())\n",
    "    print(\"--------------------------------------------\")"
   ]
  },
  {
   "cell_type": "code",
   "execution_count": 15,
   "metadata": {},
   "outputs": [
    {
     "name": "stdout",
     "output_type": "stream",
     "text": [
      "Visit: 1\n",
      " a) Average # of gambles per player: 233.62\n",
      " b) Median # of gambles per player: 111.0\n",
      " c) Maximum # of gambles per player: 8706\n",
      "--------------------------------------------\n",
      "Visit: 2\n",
      " a) Average # of gambles per player: 332.3\n",
      " b) Median # of gambles per player: 156.0\n",
      " c) Maximum # of gambles per player: 6137\n",
      "--------------------------------------------\n",
      "Visit: 3\n",
      " a) Average # of gambles per player: 392.98\n",
      " b) Median # of gambles per player: 174.0\n",
      " c) Maximum # of gambles per player: 7414\n",
      "--------------------------------------------\n",
      "Visit: 4\n",
      " a) Average # of gambles per player: 449.82\n",
      " b) Median # of gambles per player: 191.0\n",
      " c) Maximum # of gambles per player: 6114\n",
      "--------------------------------------------\n",
      "Visit: 5\n",
      " a) Average # of gambles per player: 613.46\n",
      " b) Median # of gambles per player: 254.0\n",
      " c) Maximum # of gambles per player: 5378\n",
      "--------------------------------------------\n",
      "Visit: 6\n",
      " a) Average # of gambles per player: 636.64\n",
      " b) Median # of gambles per player: 258.0\n",
      " c) Maximum # of gambles per player: 4282\n",
      "--------------------------------------------\n",
      "Visit: 7\n",
      " a) Average # of gambles per player: 455.12\n",
      " b) Median # of gambles per player: 168.5\n",
      " c) Maximum # of gambles per player: 1939\n",
      "--------------------------------------------\n",
      "Visit: 8\n",
      " a) Average # of gambles per player: 774.75\n",
      " b) Median # of gambles per player: 818.5\n",
      " c) Maximum # of gambles per player: 1441\n",
      "--------------------------------------------\n",
      "Visit: 9\n",
      " a) Average # of gambles per player: 396.5\n",
      " b) Median # of gambles per player: 396.5\n",
      " c) Maximum # of gambles per player: 647\n",
      "--------------------------------------------\n",
      "Visit: 10\n",
      " a) Average # of gambles per player: 1727.0\n",
      " b) Median # of gambles per player: 1727.0\n",
      " c) Maximum # of gambles per player: 2157\n",
      "--------------------------------------------\n",
      "Visit: 11\n",
      " a) Average # of gambles per player: 333.0\n",
      " b) Median # of gambles per player: 333.0\n",
      " c) Maximum # of gambles per player: 333\n",
      "--------------------------------------------\n"
     ]
    }
   ],
   "source": [
    "# How many gambles played in each visit?\n",
    "for i in dtf[\"visit\"].unique().tolist():\n",
    "    n_players = len(dtf[dtf[\"visit\"] == i][\"playerkey\"].unique())\n",
    "    gambles_data = dtf[dtf[\"visit\"] == i]\n",
    "    total_gambles = gambles_data.groupby('playerkey')['gambles_visit'].max().sum()\n",
    "    print(\"Visit:\", i)\n",
    "    print(\" a) Average # of gambles per player:\", round(total_gambles / n_players, 2))\n",
    "    print(\" b) Median # of gambles per player:\", round(gambles_data.groupby('playerkey')['gambles_visit'].max().median(), 2))\n",
    "    print(\" c) Maximum # of gambles per player:\", gambles_data.groupby('playerkey')['gambles_visit'].max().max())\n",
    "    print(\"--------------------------------------------\")\n"
   ]
  },
  {
   "attachments": {},
   "cell_type": "markdown",
   "metadata": {},
   "source": [
    "#### Per Session Analysis "
   ]
  },
  {
   "cell_type": "code",
   "execution_count": 16,
   "metadata": {},
   "outputs": [
    {
     "name": "stdout",
     "output_type": "stream",
     "text": [
      "Unique sessions per player:  [1, 2, 3, 4, 5, 6, 7, 8, 9, 10]\n",
      "Session: 1\n",
      " a) # of Players: 5875\n",
      " b) Total # of gambles: 1620298\n",
      "--------------------------------------------\n",
      "Session: 2\n",
      " a) # of Players: 1923\n",
      " b) Total # of gambles: 535396\n",
      "--------------------------------------------\n",
      "Session: 3\n",
      " a) # of Players: 722\n",
      " b) Total # of gambles: 219232\n",
      "--------------------------------------------\n",
      "Session: 4\n",
      " a) # of Players: 269\n",
      " b) Total # of gambles: 78705\n",
      "--------------------------------------------\n",
      "Session: 5\n",
      " a) # of Players: 109\n",
      " b) Total # of gambles: 29438\n",
      "--------------------------------------------\n",
      "Session: 6\n",
      " a) # of Players: 52\n",
      " b) Total # of gambles: 16507\n",
      "--------------------------------------------\n",
      "Session: 7\n",
      " a) # of Players: 19\n",
      " b) Total # of gambles: 2012\n",
      "--------------------------------------------\n",
      "Session: 8\n",
      " a) # of Players: 7\n",
      " b) Total # of gambles: 1800\n",
      "--------------------------------------------\n",
      "Session: 9\n",
      " a) # of Players: 4\n",
      " b) Total # of gambles: 1307\n",
      "--------------------------------------------\n",
      "Session: 10\n",
      " a) # of Players: 1\n",
      " b) Total # of gambles: 413\n",
      "--------------------------------------------\n"
     ]
    }
   ],
   "source": [
    "# What were the unique number of visits per player?\n",
    "print(\"Unique sessions per player: \", dtf[\"session_time\"].unique().tolist())\n",
    "\n",
    "# How many players and gambles per session?\n",
    "for i in dtf[\"session_time\"].unique().tolist():\n",
    "    n_players = len(dtf[dtf[\"session_time\"] == i][\"playerkey\"].unique())\n",
    "    gambles_data = dtf[dtf[\"session_time\"] == i]\n",
    "    total_gambles = gambles_data.groupby('playerkey')['gambles_session'].max().sum()\n",
    "    print(\"Session:\", i)\n",
    "    print(\" a) # of Players:\", n_players)\n",
    "    print(\" b) Total # of gambles:\", total_gambles)\n",
    "    print(\"--------------------------------------------\")"
   ]
  },
  {
   "cell_type": "code",
   "execution_count": 17,
   "metadata": {},
   "outputs": [
    {
     "name": "stdout",
     "output_type": "stream",
     "text": [
      "Session: 1\n",
      " a) Average # of gambles per player: 276.0\n",
      " b) Median # of gambles per player: 122.0\n",
      " c) Maximum # of gambles per player: 8897\n",
      "--------------------------------------------\n",
      "Session: 2\n",
      " a) Average # of gambles per player: 278.0\n",
      " b) Median # of gambles per player: 123.0\n",
      " c) Maximum # of gambles per player: 9194\n",
      "--------------------------------------------\n",
      "Session: 3\n",
      " a) Average # of gambles per player: 304.0\n",
      " b) Median # of gambles per player: 132.0\n",
      " c) Maximum # of gambles per player: 7314\n",
      "--------------------------------------------\n",
      "Session: 4\n",
      " a) Average # of gambles per player: 293.0\n",
      " b) Median # of gambles per player: 140.0\n",
      " c) Maximum # of gambles per player: 3272\n",
      "--------------------------------------------\n",
      "Session: 5\n",
      " a) Average # of gambles per player: 270.0\n",
      " b) Median # of gambles per player: 114.0\n",
      " c) Maximum # of gambles per player: 2855\n",
      "--------------------------------------------\n",
      "Session: 6\n",
      " a) Average # of gambles per player: 317.0\n",
      " b) Median # of gambles per player: 144.0\n",
      " c) Maximum # of gambles per player: 1738\n",
      "--------------------------------------------\n",
      "Session: 7\n",
      " a) Average # of gambles per player: 106.0\n",
      " b) Median # of gambles per player: 71.0\n",
      " c) Maximum # of gambles per player: 281\n",
      "--------------------------------------------\n",
      "Session: 8\n",
      " a) Average # of gambles per player: 257.0\n",
      " b) Median # of gambles per player: 172.0\n",
      " c) Maximum # of gambles per player: 718\n",
      "--------------------------------------------\n",
      "Session: 9\n",
      " a) Average # of gambles per player: 327.0\n",
      " b) Median # of gambles per player: 198.0\n",
      " c) Maximum # of gambles per player: 908\n",
      "--------------------------------------------\n",
      "Session: 10\n",
      " a) Average # of gambles per player: 413.0\n",
      " b) Median # of gambles per player: 413.0\n",
      " c) Maximum # of gambles per player: 413\n",
      "--------------------------------------------\n"
     ]
    }
   ],
   "source": [
    "# What is the max, min, and average number of gambles per session?\n",
    "for i in dtf[\"session_time\"].unique().tolist():\n",
    "    n_players = len(dtf[dtf[\"session_time\"] == i][\"playerkey\"].unique())\n",
    "    gambles_data = dtf[dtf[\"session_time\"] == i]\n",
    "    total_gambles = gambles_data.groupby('playerkey')['gambles_session'].max().sum()\n",
    "    print(\"Session:\", i)\n",
    "    print(\" a) Average # of gambles per player:\", round(total_gambles / n_players, 0))\n",
    "    print(\" b) Median # of gambles per player:\", round(gambles_data.groupby('playerkey')['gambles_session'].max().median(), 0))\n",
    "    print(\" c) Maximum # of gambles per player:\", gambles_data.groupby('playerkey')['gambles_session'].max().max())\n",
    "    print(\"--------------------------------------------\")\n"
   ]
  },
  {
   "attachments": {},
   "cell_type": "markdown",
   "metadata": {},
   "source": [
    "## Durations\n",
    "\n",
    "### General\n",
    "\n",
    "Let's calculate avergae durtion of gambles."
   ]
  },
  {
   "cell_type": "code",
   "execution_count": 18,
   "metadata": {},
   "outputs": [
    {
     "name": "stdout",
     "output_type": "stream",
     "text": [
      "Total duration played: 146 days 00:23:16.652000\n",
      "Average duration played per player: 0 days 00:35:47.369642893\n",
      "Number of players who played more than the average duration: 1488\n",
      "Number of players who played less than the average duration: 4387\n",
      "--------------------------------------------\n",
      "Median duration played per player: 0 days 00:13:35.917000\n",
      "Number of players who played more than the median duration: 2937\n",
      "Number of players who played less than the median duration: 2937\n",
      "--------------------------------------------\n",
      "Minimum duration played per player: 0 days 00:00:01.656000\n",
      "Player with the minimum duration played: 44246\n",
      "--------------------------------------------\n",
      "Maximum duration played per player: 1 days 00:29:09.658000\n",
      "Player with the maximum duration played: 46310\n",
      "Number of visits played by the player with the maximum duration played: 6\n"
     ]
    }
   ],
   "source": [
    "# Calculate the total duration played\n",
    "print('Total duration played:', dtf['duration'].sum())\n",
    "\n",
    "# Calculate the average duration played per player\n",
    "print('Average duration played per player:', dtf.groupby('playerkey')['duration'].sum().mean())\n",
    "\n",
    "# How many players played for more than the average duration?\n",
    "print('Number of players who played more than the average duration:', dtf.groupby('playerkey')['duration'].sum()[dtf.groupby('playerkey')['duration'].sum() > dtf.groupby('playerkey')['duration'].sum().mean()].count())\n",
    "\n",
    "# How many players played for less than the average duration?\n",
    "print('Number of players who played less than the average duration:', dtf.groupby('playerkey')['duration'].sum()[dtf.groupby('playerkey')['duration'].sum() < dtf.groupby('playerkey')['duration'].sum().mean()].count())\n",
    "\n",
    "# Seperation line\n",
    "print(\"--------------------------------------------\")\n",
    "\n",
    "# Calculate the median duration played per player\n",
    "print('Median duration played per player:', dtf.groupby('playerkey')['duration'].sum().median())\n",
    "\n",
    "# How many players played for more than the median duration?\n",
    "print('Number of players who played more than the median duration:', dtf.groupby('playerkey')['duration'].sum()[dtf.groupby('playerkey')['duration'].sum() > dtf.groupby('playerkey')['duration'].sum().median()].count())\n",
    "\n",
    "# How many players played for less than the median duration?\n",
    "print('Number of players who played less than the median duration:', dtf.groupby('playerkey')['duration'].sum()[dtf.groupby('playerkey')['duration'].sum() < dtf.groupby('playerkey')['duration'].sum().median()].count())\n",
    "\n",
    "# sEperation line\n",
    "print(\"--------------------------------------------\")\n",
    "\n",
    "# Calcualte the minimum duration played per player\n",
    "print('Minimum duration played per player:', dtf.groupby('playerkey')['duration'].sum().min())\n",
    "# Who is the player with the minimum duration played?\n",
    "print('Player with the minimum duration played:', dtf.groupby('playerkey')['duration'].sum().idxmin())\n",
    "print(\"--------------------------------------------\")\n",
    "# Calcualte the maximum duration played per player\n",
    "print('Maximum duration played per player:', dtf.groupby('playerkey')['duration'].sum().max())\n",
    "# Who is the player with the maximum duration played?\n",
    "print('Player with the maximum duration played:', dtf.groupby('playerkey')['duration'].sum().idxmax())\n",
    "# Number of visits played by the player with the maximum duration played?\n",
    "print('Number of visits played by the player with the maximum duration played:', len(dtf[dtf['playerkey'] == dtf.groupby('playerkey')['duration'].sum().idxmax()]['visit'].unique().tolist()))\n"
   ]
  },
  {
   "attachments": {},
   "cell_type": "markdown",
   "metadata": {},
   "source": [
    "#### Vists and Sessions"
   ]
  },
  {
   "cell_type": "code",
   "execution_count": 19,
   "metadata": {},
   "outputs": [
    {
     "name": "stdout",
     "output_type": "stream",
     "text": [
      "Average duration played per visit: 0 days 00:23:28.641877177\n",
      "Median duration played per visit: 0 days 00:11:04.059500\n",
      "--------------------------------------------\n",
      "Average duration played per session: 0 days 00:23:24.720705043\n",
      "Median duration played per session: 0 days 00:10:47.995000\n",
      "--------------------------------------------\n",
      "Average duration played per session_machine: 0 days 00:01:44.887774690\n",
      "Median duration played per session_machine: 0 days 00:00:07.563000\n",
      "--------------------------------------------\n"
     ]
    }
   ],
   "source": [
    "# What is the average duration played per visit?\n",
    "# average duration played per visit for each player\n",
    "print('Average duration played per visit:', dtf.groupby(['playerkey', 'visit'])['duration'].sum().mean())\n",
    "\n",
    "# What is the median duration played per visit?\n",
    "print('Median duration played per visit:', dtf.groupby(['playerkey', 'visit'])['duration'].sum().median())\n",
    "\n",
    "# Seperation line\n",
    "print(\"--------------------------------------------\")\n",
    "\n",
    "# What is the average duration played per session?\n",
    "print('Average duration played per session:', dtf.groupby(['playerkey', 'session_time'])['duration'].sum().mean())\n",
    "\n",
    "# What is the median duration played per session?\n",
    "print('Median duration played per session:', dtf.groupby(['playerkey', 'session_time'])['duration'].sum().median())\n",
    "\n",
    "# Seperation line\n",
    "print(\"--------------------------------------------\")\n",
    "\n",
    "# What is the average duration played per session_machine?\n",
    "print('Average duration played per session_machine:', dtf.groupby(['playerkey', 'session_machine'])['duration'].sum().mean())\n",
    "\n",
    "# What is the median duration played per session_machine?\n",
    "print('Median duration played per session_machine:', dtf.groupby(['playerkey', 'session_machine'])['duration'].sum().median())\n",
    "\n",
    "# Seperation line\n",
    "print(\"--------------------------------------------\")"
   ]
  },
  {
   "attachments": {},
   "cell_type": "markdown",
   "metadata": {},
   "source": [
    "### Breakdown"
   ]
  },
  {
   "attachments": {},
   "cell_type": "markdown",
   "metadata": {},
   "source": [
    "#### Per Visit Analysis"
   ]
  },
  {
   "cell_type": "code",
   "execution_count": 20,
   "metadata": {},
   "outputs": [
    {
     "name": "stdout",
     "output_type": "stream",
     "text": [
      "Visit: 1\n",
      " a) Total duration played: 80 days 18:01:31.244000\n",
      "--------------------------------------------------\n",
      "Visit: 2\n",
      " a) Total duration played: 38 days 10:50:11.892000\n",
      "--------------------------------------------------\n",
      "Visit: 3\n",
      " a) Total duration played: 16 days 10:36:05.904000\n",
      "--------------------------------------------------\n",
      "Visit: 4\n",
      " a) Total duration played: 6 days 04:53:44.101000\n",
      "--------------------------------------------------\n",
      "Visit: 5\n",
      " a) Total duration played: 2 days 11:40:07.431000\n",
      "--------------------------------------------------\n",
      "Visit: 6\n",
      " a) Total duration played: 0 days 22:35:18.779000\n",
      "--------------------------------------------------\n",
      "Visit: 7\n",
      " a) Total duration played: 0 days 04:34:26.614000\n",
      "--------------------------------------------------\n",
      "Visit: 8\n",
      " a) Total duration played: 0 days 05:14:57.072000\n",
      "--------------------------------------------------\n",
      "Visit: 9\n",
      " a) Total duration played: 0 days 01:18:16.620000\n",
      "--------------------------------------------------\n",
      "Visit: 10\n",
      " a) Total duration played: 0 days 06:20:54.168000\n",
      "--------------------------------------------------\n",
      "Visit: 11\n",
      " a) Total duration played: 0 days 00:17:42.827000\n",
      "--------------------------------------------------\n"
     ]
    }
   ],
   "source": [
    "# Total duration per visit\n",
    "for i in dtf[\"visit\"].unique().tolist():\n",
    "    total_duration = dtf[dtf[\"visit\"] == i][\"duration\"].sum()\n",
    "    print(\"Visit:\", i)\n",
    "    print(\" a) Total duration played:\", total_duration)\n",
    "    print(\"--------------------------------------------------\")"
   ]
  },
  {
   "cell_type": "code",
   "execution_count": 21,
   "metadata": {},
   "outputs": [
    {
     "name": "stdout",
     "output_type": "stream",
     "text": [
      "Visit: 1\n",
      " a) Average duration played: 0 days 00:19:47.555956425\n",
      " b) Max duration played: 0 days 08:42:23.819000\n",
      " c) Min duration played: 0 days 00:00:01.230000\n",
      "------------------------------------------------------------\n",
      "Visit: 2\n",
      " a) Average duration played: 0 days 00:27:57.884793939\n",
      " b) Max duration played: 0 days 07:48:00.209000\n",
      " c) Min duration played: 0 days 00:00:05.213000\n",
      "------------------------------------------------------------\n",
      "Visit: 3\n",
      " a) Average duration played: 0 days 00:32:18.016240109\n",
      " b) Max duration played: 0 days 07:03:31.296000\n",
      " c) Min duration played: 0 days 00:00:02.716000\n",
      "------------------------------------------------------------\n",
      "Visit: 4\n",
      " a) Average duration played: 0 days 00:35:52.707232931\n",
      " b) Max duration played: 0 days 06:17:20.558000\n",
      " c) Min duration played: 0 days 00:00:02.660000\n",
      "------------------------------------------------------------\n",
      "Visit: 5\n",
      " a) Average duration played: 0 days 00:48:22.803121621\n",
      " b) Max duration played: 0 days 05:32:34.385000\n",
      " c) Min duration played: 0 days 00:00:17.573000\n",
      "------------------------------------------------------------\n",
      "Visit: 6\n",
      " a) Average duration played: 0 days 00:48:24.242107142\n",
      " b) Max duration played: 0 days 04:52:12.640000\n",
      " c) Min duration played: 0 days 00:01:16.836000\n",
      "------------------------------------------------------------\n",
      "Visit: 7\n",
      " a) Average duration played: 0 days 00:34:18.326750\n",
      " b) Max duration played: 0 days 01:41:31.775000\n",
      " c) Min duration played: 0 days 00:00:42.752000\n",
      "------------------------------------------------------------\n",
      "Visit: 8\n",
      " a) Average duration played: 0 days 01:18:44.268000\n",
      " b) Max duration played: 0 days 02:25:17.530000\n",
      " c) Min duration played: 0 days 00:00:54.587000\n",
      "------------------------------------------------------------\n",
      "Visit: 9\n",
      " a) Average duration played: 0 days 00:39:08.310000\n",
      " b) Max duration played: 0 days 00:45:21.962000\n",
      " c) Min duration played: 0 days 00:32:54.658000\n",
      "------------------------------------------------------------\n",
      "Visit: 10\n",
      " a) Average duration played: 0 days 03:10:27.084000\n",
      " b) Max duration played: 0 days 03:49:50.073000\n",
      " c) Min duration played: 0 days 02:31:04.095000\n",
      "------------------------------------------------------------\n",
      "Visit: 11\n",
      " a) Average duration played: 0 days 00:17:42.827000\n",
      " b) Max duration played: 0 days 00:17:42.827000\n",
      " c) Min duration played: 0 days 00:17:42.827000\n",
      "------------------------------------------------------------\n"
     ]
    }
   ],
   "source": [
    "\n",
    "# What is the max, min, and average duration played per visit?\n",
    "for i in dtf[\"visit\"].unique().tolist():\n",
    "    n_players = len(dtf[dtf[\"visit\"] == i][\"playerkey\"].unique())\n",
    "    total_duration = dtf[dtf[\"visit\"] == i][\"duration\"].sum()\n",
    "    visit_data = dtf[dtf[\"visit\"] == i]\n",
    "    print(\"Visit:\", i)\n",
    "    print(\" a) Average duration played:\", total_duration / n_players)\n",
    "    print(\" b) Max duration played:\", visit_data.groupby(\"playerkey\")[\"duration\"].sum().max())\n",
    "    print(\" c) Min duration played:\", visit_data.groupby(\"playerkey\")[\"duration\"].sum().min())\n",
    "    print(\"------------------------------------------------------------\")\n",
    "    \n",
    "\n",
    "#Overall average duration played per visit across all players"
   ]
  },
  {
   "attachments": {},
   "cell_type": "markdown",
   "metadata": {},
   "source": [
    "#### Per Session Analysis"
   ]
  },
  {
   "cell_type": "code",
   "execution_count": 22,
   "metadata": {},
   "outputs": [
    {
     "name": "stdout",
     "output_type": "stream",
     "text": [
      "Session: 1\n",
      " a) Total duration played: 95 days 14:10:45.961000\n",
      "--------------------------------------------------\n",
      "Session: 2\n",
      " a) Total duration played: 30 days 23:09:01.470000\n",
      "--------------------------------------------------\n",
      "Session: 3\n",
      " a) Total duration played: 12 days 06:52:27.864000\n",
      "--------------------------------------------------\n",
      "Session: 4\n",
      " a) Total duration played: 4 days 09:58:19.582000\n",
      "--------------------------------------------------\n",
      "Session: 5\n",
      " a) Total duration played: 1 days 15:39:23.568000\n",
      "--------------------------------------------------\n",
      "Session: 6\n",
      " a) Total duration played: 0 days 19:45:27.278000\n",
      "--------------------------------------------------\n",
      "Session: 7\n",
      " a) Total duration played: 0 days 02:21:09.768000\n",
      "--------------------------------------------------\n",
      "Session: 8\n",
      " a) Total duration played: 0 days 02:18:27.873000\n",
      "--------------------------------------------------\n",
      "Session: 9\n",
      " a) Total duration played: 0 days 01:38:28.943000\n",
      "--------------------------------------------------\n",
      "Session: 10\n",
      " a) Total duration played: 0 days 00:29:44.345000\n",
      "--------------------------------------------------\n"
     ]
    }
   ],
   "source": [
    "# Total duration per session\n",
    "for i in dtf[\"session_time\"].unique().tolist():\n",
    "    total_duration = dtf[dtf[\"session_time\"] == i][\"duration\"].sum()\n",
    "    print(\"Session:\", i)\n",
    "    print(\" a) Total duration played:\", total_duration)\n",
    "    print(\"--------------------------------------------------\")"
   ]
  },
  {
   "cell_type": "code",
   "execution_count": 23,
   "metadata": {},
   "outputs": [
    {
     "name": "stdout",
     "output_type": "stream",
     "text": [
      "Session: 1\n",
      " a) Average duration played: 0 days 00:23:25.795057191\n",
      " b) Max duration played: 0 days 17:33:59.173000\n",
      " c) Min duration played: 0 days 00:00:01.656000\n",
      "--------------------------------------------------\n",
      "Session: 2\n",
      " a) Average duration played: 0 days 00:23:11.233213728\n",
      " b) Max duration played: 0 days 09:03:34.187000\n",
      " c) Min duration played: 0 days 00:00:03.367000\n",
      "--------------------------------------------------\n",
      "Session: 3\n",
      " a) Average duration played: 0 days 00:24:30.287900277\n",
      " b) Max duration played: 0 days 07:07:51.476000\n",
      " c) Min duration played: 0 days 00:00:02.864000\n",
      "--------------------------------------------------\n",
      "Session: 4\n",
      " a) Average duration played: 0 days 00:23:38.214059479\n",
      " b) Max duration played: 0 days 04:45:33.008000\n",
      " c) Min duration played: 0 days 00:00:02.620000\n",
      "--------------------------------------------------\n",
      "Session: 5\n",
      " a) Average duration played: 0 days 00:21:49.757504587\n",
      " b) Max duration played: 0 days 03:47:38.155000\n",
      " c) Min duration played: 0 days 00:00:25.047000\n",
      "--------------------------------------------------\n",
      "Session: 6\n",
      " a) Average duration played: 0 days 00:22:47.832269230\n",
      " b) Max duration played: 0 days 02:13:31.641000\n",
      " c) Min duration played: 0 days 00:00:23.010000\n",
      "--------------------------------------------------\n",
      "Session: 7\n",
      " a) Average duration played: 0 days 00:07:25.777263157\n",
      " b) Max duration played: 0 days 00:27:40.721000\n",
      " c) Min duration played: 0 days 00:01:15.503000\n",
      "--------------------------------------------------\n",
      "Session: 8\n",
      " a) Average duration played: 0 days 00:19:46.839000\n",
      " b) Max duration played: 0 days 00:57:41.220000\n",
      " c) Min duration played: 0 days 00:01:52.626000\n",
      "--------------------------------------------------\n",
      "Session: 9\n",
      " a) Average duration played: 0 days 00:24:37.235750\n",
      " b) Max duration played: 0 days 01:12:56.865000\n",
      " c) Min duration played: 0 days 00:00:03.184000\n",
      "--------------------------------------------------\n",
      "Session: 10\n",
      " a) Average duration played: 0 days 00:29:44.345000\n",
      " b) Max duration played: 0 days 00:29:44.345000\n",
      " c) Min duration played: 0 days 00:29:44.345000\n",
      "--------------------------------------------------\n"
     ]
    }
   ],
   "source": [
    "# What is the max, min, ave duration of each session?\n",
    "for i in dtf[\"session_time\"].unique().tolist():\n",
    "    n_players = len(dtf[dtf[\"session_time\"] == i][\"playerkey\"].unique())\n",
    "    total_duration = dtf[dtf[\"session_time\"] == i][\"duration\"].sum()\n",
    "    session_data = dtf[dtf[\"session_time\"] == i]\n",
    "    print(\"Session:\", i)\n",
    "    print(\" a) Average duration played:\", total_duration / n_players)\n",
    "    print(\" b) Max duration played:\", session_data.groupby(\"playerkey\")[\"duration\"].sum().max())\n",
    "    print(\" c) Min duration played:\", session_data.groupby(\"playerkey\")[\"duration\"].sum().min())\n",
    "    # Separation line:\n",
    "    print(\"--------------------------------------------------\")"
   ]
  },
  {
   "attachments": {},
   "cell_type": "markdown",
   "metadata": {},
   "source": [
    "# Percentiles"
   ]
  },
  {
   "attachments": {},
   "cell_type": "markdown",
   "metadata": {},
   "source": [
    "## Overall Gambles"
   ]
  },
  {
   "cell_type": "code",
   "execution_count": 24,
   "metadata": {},
   "outputs": [
    {
     "name": "stdout",
     "output_type": "stream",
     "text": [
      "20th percentile of the number of gambles per player: 42.0\n",
      "80th percentile of the number of gambles per player: 520.1999999999998\n",
      "------------------------------------------------------------------\n",
      "10th percentile of the number of gambles per player: 20.0\n",
      "90th percentile of the number of gambles per player: 979.6000000000004\n"
     ]
    }
   ],
   "source": [
    "# Calculate the number of gambles per each player, and store it in a list\n",
    "gambles_per_player = []\n",
    "for i in dtf[\"playerkey\"].unique().tolist():\n",
    "    gambles_per_player.append(dtf[dtf[\"playerkey\"] == i][\"gambles\"].max())\n",
    "\n",
    "# Calculate the 20th percentile of the number of gambles per player and store is as percentile_20\n",
    "percentile_20 = np.percentile(gambles_per_player, 20)\n",
    "print(\"20th percentile of the number of gambles per player:\", percentile_20)\n",
    "\n",
    "# Calculate the 80th percentile of the number of gambles per player and store is as percentile_80\n",
    "percentile_80 = np.percentile(gambles_per_player, 80)\n",
    "print(\"80th percentile of the number of gambles per player:\", percentile_80)\n",
    "\n",
    "# Seperation line\n",
    "print(\"------------------------------------------------------------------\")\n",
    "\n",
    "# Calculate the 10th percentile of the number of gambles per player and store is as percentile_10\n",
    "percentile_10 = np.percentile(gambles_per_player, 10)\n",
    "print(\"10th percentile of the number of gambles per player:\", percentile_10)\n",
    "# Calculate the 90th percentile of the number of gambles per player and store is as percentile_90\n",
    "percentile_90 = np.percentile(gambles_per_player, 90)\n",
    "print(\"90th percentile of the number of gambles per player:\", percentile_90)\n"
   ]
  },
  {
   "cell_type": "code",
   "execution_count": 25,
   "metadata": {},
   "outputs": [
    {
     "name": "stdout",
     "output_type": "stream",
     "text": [
      "Number of players in the top 20%: 1175\n",
      "Number of players in the bottom 20%: 1178\n"
     ]
    }
   ],
   "source": [
    "# Let's create two separarte dataframes for the top 20% and bottom 20% of players by creating a list of player for each percentile\n",
    "top_20 = dtf.groupby(\"playerkey\")[\"gambles\"].max()[dtf.groupby(\"playerkey\")[\"gambles\"].max() >= percentile_80].index.tolist()\n",
    "bottom_20 = dtf.groupby(\"playerkey\")[\"gambles\"].max()[dtf.groupby(\"playerkey\")[\"gambles\"].max() <= percentile_20].index.tolist()\n",
    "\n",
    "# How many players are in the top 20%?\n",
    "print(\"Number of players in the top 20%:\", len(top_20))\n",
    "\n",
    "# How many players are in the bottom 20%?\n",
    "print(\"Number of players in the bottom 20%:\", len(bottom_20))\n",
    "\n",
    "# Create a dataframe for the top 20% of players\n",
    "dtf_top_20 = dtf[dtf['playerkey'].isin(top_20)]\n",
    "dtf_top_20['percentile'] = 'top_20'\n",
    "\n",
    "# Create a dataframe for the bottom 20% of players\n",
    "dtf_bottom_20 = dtf[dtf['playerkey'].isin(bottom_20)]\n",
    "dtf_bottom_20['percentile'] = 'bottom_20'\n",
    "\n",
    "# Concatenate the two dataframes\n",
    "dtf_20_gambles = pd.concat([dtf_top_20, dtf_bottom_20])"
   ]
  },
  {
   "cell_type": "code",
   "execution_count": 26,
   "metadata": {},
   "outputs": [
    {
     "name": "stdout",
     "output_type": "stream",
     "text": [
      "Number of players in the top 10%: 588\n",
      "Number of players in the bottom 10%: 595\n"
     ]
    }
   ],
   "source": [
    "# Let's create two separarte dataframes for the top 10% and bottom 10% of players by creating a list of player for each percentile\n",
    "top_10 = dtf.groupby(\"playerkey\")[\"gambles\"].max()[dtf.groupby(\"playerkey\")[\"gambles\"].max() >= percentile_90].index.tolist()\n",
    "bottom_10 = dtf.groupby(\"playerkey\")[\"gambles\"].max()[dtf.groupby(\"playerkey\")[\"gambles\"].max() <= percentile_10].index.tolist()\n",
    "\n",
    "# How many players are in the top 10%?\n",
    "print(\"Number of players in the top 10%:\", len(top_10))\n",
    "\n",
    "# How many players are in the bottom 10%?\n",
    "print(\"Number of players in the bottom 10%:\", len(bottom_10))\n",
    "\n",
    "# Create a dataframe for the top 10% of players\n",
    "dtf_top_10 = dtf[dtf['playerkey'].isin(top_10)]\n",
    "dtf_top_10['percentile'] = 'top_10'\n",
    "\n",
    "# Create a dataframe for the bottom 10% of players\n",
    "dtf_bottom_10 = dtf[dtf['playerkey'].isin(bottom_10)]\n",
    "dtf_bottom_10['percentile'] = 'bottom_10'\n",
    "\n",
    "# Concatenate the two dataframes\n",
    "dtf_10_gambles = pd.concat([dtf_top_10, dtf_bottom_10])"
   ]
  },
  {
   "attachments": {},
   "cell_type": "markdown",
   "metadata": {},
   "source": [
    "## Duration"
   ]
  },
  {
   "cell_type": "code",
   "execution_count": 27,
   "metadata": {},
   "outputs": [
    {
     "name": "stdout",
     "output_type": "stream",
     "text": [
      "20th percentile of the duration per player: 0 days 00:03:34.293000\n",
      "80th percentile of the duration per player: 0 days 00:46:10.556799999\n",
      "------------------------------------------------------------------\n",
      "10th percentile of the duration per player: 0 days 00:01:35.619599999\n",
      "90th percentile of the duration per player: 0 days 01:23:21.196600001\n"
     ]
    }
   ],
   "source": [
    "# Calculate the duration per player and store it in a list\n",
    "duration_per_player = []\n",
    "for i in dtf[\"playerkey\"].unique().tolist():\n",
    "    duration_per_player.append(dtf[dtf[\"playerkey\"] == i][\"duration\"].sum())\n",
    "\n",
    "# Calculate the 20th percentile of the duration per player and store is as percentile_20_duration\n",
    "percentile_20_duration = np.percentile(duration_per_player, 20)\n",
    "print(\"20th percentile of the duration per player:\", percentile_20_duration)\n",
    "\n",
    "# Calculate the 80th percentile of the duration per player and store is as percentile_80_duration\n",
    "percentile_80_duration = np.percentile(duration_per_player, 80)\n",
    "print(\"80th percentile of the duration per player:\", percentile_80_duration)\n",
    "\n",
    "# Seperation line\n",
    "print(\"------------------------------------------------------------------\")\n",
    "\n",
    "# Calculate the 10th percentile of the duration per player and store is as percentile_10_duration\n",
    "percentile_10_duration = np.percentile(duration_per_player, 10)\n",
    "print(\"10th percentile of the duration per player:\", percentile_10_duration)\n",
    "\n",
    "# Calculate the 90th percentile of the duration per player and store is as percentile_90_duration\n",
    "percentile_90_duration = np.percentile(duration_per_player, 90)\n",
    "print(\"90th percentile of the duration per player:\", percentile_90_duration)"
   ]
  },
  {
   "cell_type": "code",
   "execution_count": 28,
   "metadata": {},
   "outputs": [
    {
     "name": "stdout",
     "output_type": "stream",
     "text": [
      "Number of players in the top 20%: 1175\n",
      "Number of players in the bottom 20%: 1175\n"
     ]
    }
   ],
   "source": [
    "# Let's create two separarte dataframes for the top 20% and bottom 20% of players by creating a list of player for each percentile\n",
    "top_20_duration = dtf.groupby(\"playerkey\")[\"duration\"].sum()[dtf.groupby(\"playerkey\")[\"duration\"].sum() >= percentile_80_duration].index.tolist()\n",
    "bottom_20_duration = dtf.groupby(\"playerkey\")[\"duration\"].sum()[dtf.groupby(\"playerkey\")[\"duration\"].sum() <= percentile_20_duration].index.tolist()\n",
    "\n",
    "# How many players are in the top 20%?\n",
    "print(\"Number of players in the top 20%:\", len(top_20_duration))\n",
    "\n",
    "# How many players are in the bottom 20%?\n",
    "print(\"Number of players in the bottom 20%:\", len(bottom_20_duration))\n",
    "\n",
    "# Create a dataframe for the top 20% of players\n",
    "dtf_top_20_duration = dtf[dtf['playerkey'].isin(top_20_duration)]\n",
    "dtf_top_20_duration['percentile'] = 'top_20'\n",
    "\n",
    "# Create a dataframe for the bottom 20% of players\n",
    "dtf_bottom_20_duration = dtf[dtf['playerkey'].isin(bottom_20_duration)]\n",
    "dtf_bottom_20_duration['percentile'] = 'bottom_20'\n",
    "\n",
    "# Concatenate the two dataframes\n",
    "dtf_20_duration = pd.concat([dtf_top_20_duration, dtf_bottom_20_duration])"
   ]
  },
  {
   "cell_type": "code",
   "execution_count": 29,
   "metadata": {},
   "outputs": [
    {
     "name": "stdout",
     "output_type": "stream",
     "text": [
      "Number of players in the top 10%: 588\n",
      "Number of players in the bottom 10%: 588\n"
     ]
    }
   ],
   "source": [
    "# Let's create two separarte dataframes for the top 10% and bottom 10% of players by creating a list of player for each percentile\n",
    "top_10_duration = dtf.groupby(\"playerkey\")[\"duration\"].sum()[dtf.groupby(\"playerkey\")[\"duration\"].sum() >= percentile_90_duration].index.tolist()\n",
    "bottom_10_duration = dtf.groupby(\"playerkey\")[\"duration\"].sum()[dtf.groupby(\"playerkey\")[\"duration\"].sum() <= percentile_10_duration].index.tolist()\n",
    "\n",
    "# How many players are in the top 10%?\n",
    "print(\"Number of players in the top 10%:\", len(top_10_duration))\n",
    "\n",
    "# How many players are in the bottom 10%?\n",
    "print(\"Number of players in the bottom 10%:\", len(bottom_10_duration))\n",
    "\n",
    "# Create a dataframe for the top 10% of players\n",
    "dtf_top_10_duration = dtf[dtf['playerkey'].isin(top_10_duration)]\n",
    "dtf_top_10_duration['percentile'] = 'top_10'\n",
    "\n",
    "# Create a dataframe for the bottom 10% of players\n",
    "dtf_bottom_10_duration = dtf[dtf['playerkey'].isin(bottom_10_duration)]\n",
    "dtf_bottom_10_duration['percentile'] = 'bottom_10'\n",
    "\n",
    "# Concatenate the two dataframes\n",
    "dtf_10_duration = pd.concat([dtf_top_10_duration, dtf_bottom_10_duration])\n"
   ]
  },
  {
   "attachments": {},
   "cell_type": "markdown",
   "metadata": {},
   "source": [
    "## Safety Check"
   ]
  },
  {
   "cell_type": "code",
   "execution_count": 30,
   "metadata": {},
   "outputs": [
    {
     "name": "stdout",
     "output_type": "stream",
     "text": [
      "Are the lists top_20_gambles and top_20_duration players the same? False\n",
      "# of Players in the top 20% of gambles but not in the top 20% of duration: 139\n",
      "------------------------------------------------------------------\n",
      "Are the lists bottom_20_gambles and bottom_20_duration players the same? False\n",
      "# of Players in the bottom 20% of gambles but not in the bottom 20% of duration: 148\n",
      "------------------------------------------------------------------\n",
      "Are the lists top_10_gambles and top_10_duration players the same? False\n",
      "# of Players in the top 10% of gambles but not in the top 10% of duration: 82\n",
      "------------------------------------------------------------------\n",
      "Are the lists bottom_10_gambles and bottom_10_duration players the same? False\n",
      "# of Players in the bottom 10% of gambles but not in the bottom 10% of duration: 92\n"
     ]
    }
   ],
   "source": [
    "# Are the lists top_20_gambles and top_20_duration players the same?\n",
    "print(\"Are the lists top_20_gambles and top_20_duration players the same?\", top_20 == top_20_duration)\n",
    "# Which players are in the top 20% of gambles but not in the top 20% of duration?\n",
    "print(\"# of Players in the top 20% of gambles but not in the top 20% of duration:\", len(set(top_20) - set(top_20_duration)))\n",
    "\n",
    "# Seperation line\n",
    "print(\"------------------------------------------------------------------\")\n",
    "# Are the lists bottom_20_gambles and bottom_20_duration players the same?\n",
    "print(\"Are the lists bottom_20_gambles and bottom_20_duration players the same?\", bottom_20 == bottom_20_duration)\n",
    "\n",
    "# Which players are in the bottom 20% of gambles but not in the bottom 20% of duration?\n",
    "print(\"# of Players in the bottom 20% of gambles but not in the bottom 20% of duration:\", len(set(bottom_20) - set(bottom_20_duration)))\n",
    "\n",
    "# Seperation line\n",
    "print(\"------------------------------------------------------------------\")\n",
    "# Are the lists top_10_gambles and top_10_duration players the same?\n",
    "print(\"Are the lists top_10_gambles and top_10_duration players the same?\", top_10 == top_10_duration)\n",
    "\n",
    "# Which players are in the top 10% of gambles but not in the top 10% of duration?\n",
    "print(\"# of Players in the top 10% of gambles but not in the top 10% of duration:\", len(set(top_10) - set(top_10_duration)))\n",
    "\n",
    "# Seperation line\n",
    "print(\"------------------------------------------------------------------\")\n",
    "# Are the lists bottom_10_gambles and bottom_10_duration players the same?\n",
    "print(\"Are the lists bottom_10_gambles and bottom_10_duration players the same?\", bottom_10 == bottom_10_duration)\n",
    "\n",
    "# Which players are in the bottom 10% of gambles but not in the bottom 10% of duration?\n",
    "print(\"# of Players in the bottom 10% of gambles but not in the bottom 10% of duration:\", len(set(bottom_10) - set(bottom_10_duration)))\n"
   ]
  },
  {
   "attachments": {},
   "cell_type": "markdown",
   "metadata": {},
   "source": [
    "# Save Dataframes"
   ]
  },
  {
   "cell_type": "code",
   "execution_count": 31,
   "metadata": {},
   "outputs": [],
   "source": [
    "# Define saving path\n",
    "path = \"/Users/mau/Library/CloudStorage/Dropbox/Mac/Documents/Dissertation/Chapter 2/Entire_Data/By month/6_October\"\n",
    "os.chdir(path)\n",
    "\n",
    "# General Dataframe to parquet\n",
    "dtf.to_parquet(\"General.parquet\")\n",
    "\n",
    "# Save the dataframes for the top 20% and bottom 20% of players\n",
    "dtf_20_gambles.to_parquet(\"Combine_20_gambles.parquet\")\n",
    "dtf_20_duration.to_parquet(\"Combine_20_duration.parquet\")\n",
    "\n",
    "# Save the dataframes for the top 10% and bottom 10% of players\n",
    "dtf_10_gambles.to_parquet(\"Combine_10_gambles.parquet\")\n",
    "dtf_10_duration.to_parquet(\"Combine_10_duration.parquet\")\n",
    "\n",
    "# Save bottom 20% of players\n",
    "dtf_bottom_20_duration.to_parquet(\"Bottom_20_duration.parquet\")\n",
    "\n",
    "# Save top 20% of players\n",
    "dtf_top_20_duration.to_parquet(\"Top_20_duration.parquet\")\n",
    "\n",
    "# Save bottom 10% of players\n",
    "dtf_bottom_10_duration.to_parquet(\"Bottom_10_duration.parquet\")\n",
    "\n",
    "# Save top 10% of players\n",
    "dtf_top_10_duration.to_parquet(\"Top_10_duration.parquet\")\n",
    "\n",
    "# Save bottom 20% of players\n",
    "dtf_bottom_20.to_parquet(\"Bottom_20_gambles.parquet\")\n",
    "\n",
    "# Save top 20% of players\n",
    "dtf_top_20.to_parquet(\"Top_20_gambles.parquet\")\n",
    "\n",
    "# Save bottom 10% of players\n",
    "dtf_bottom_10.to_parquet(\"Bottom_10_gambles.parquet\")\n",
    "\n",
    "# Save top 10% of players\n",
    "dtf_top_10.to_parquet(\"Top_10_gambles.parquet\")\n"
   ]
  }
 ],
 "metadata": {
  "kernelspec": {
   "display_name": "Python 3",
   "language": "python",
   "name": "python3"
  },
  "language_info": {
   "codemirror_mode": {
    "name": "ipython",
    "version": 3
   },
   "file_extension": ".py",
   "mimetype": "text/x-python",
   "name": "python",
   "nbconvert_exporter": "python",
   "pygments_lexer": "ipython3",
   "version": "3.10.0"
  },
  "orig_nbformat": 4
 },
 "nbformat": 4,
 "nbformat_minor": 2
}
