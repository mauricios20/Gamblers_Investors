{
 "cells": [
  {
   "attachments": {},
   "cell_type": "markdown",
   "metadata": {},
   "source": [
    "# Similarities and Differences of Top vs. Bottom 20% (Pt.1 - Age, Gender, Won/Lost Amount)"
   ]
  },
  {
   "cell_type": "code",
   "execution_count": 2,
   "metadata": {},
   "outputs": [],
   "source": [
    "# Define libraries\n",
    "import pandas as pd\n",
    "import numpy as np\n",
    "import matplotlib.pyplot as plt\n",
    "import seaborn as sns\n",
    "import matplotlib.dates as mdates\n",
    "import os\n",
    "import plotting_fn as pf\n",
    "import counting_fns as cf\n",
    "\n",
    "month_file = '6_October'\n",
    "cut_off = 10000\n",
    "# Set working directory\n",
    "os.chdir(\"/Users/mau/Library/CloudStorage/Dropbox/Mac/Documents/Dissertation/Chapter 2/Entire_Data/By month/\"+month_file)\n"
   ]
  },
  {
   "cell_type": "code",
   "execution_count": 3,
   "metadata": {},
   "outputs": [],
   "source": [
    "# Read in data\n",
    "df_bottom_20 = pd.read_parquet(\"top_players.parquet\")\n",
    "\n",
    "\n",
    "# Eliminate players who maximum number of gambles is 1\n",
    "df_bottom_20 = df_bottom_20.groupby('playerkey').filter(lambda x: x['gambles'].nunique() > 1)\n",
    "\n",
    "# Reset index\n",
    "df_bottom_20.index = np.arange(1, len(df_bottom_20) + 1)\n",
    "\n",
    "# Round wageredamt and profit to 2 decimal places\n",
    "df_bottom_20['wageredamt'] = df_bottom_20['wageredamt'].round(1)\n",
    "df_bottom_20['profit'] = df_bottom_20['profit'].round(1)\n",
    "df_bottom_20['percent_return'] = df_bottom_20['percent_return'].round(1)\n"
   ]
  },
  {
   "cell_type": "code",
   "execution_count": 4,
   "metadata": {},
   "outputs": [],
   "source": [
    "# Create a new column 'result_type' that is a categorical variable which takes the value 'loss' if the change is negative and 'gain' if the change is positive, and 'draw' of change is 0\n",
    "df_bottom_20['result_type'] = df_bottom_20['percent_return'].apply(lambda x: 'loss' if x == -100 else 'near-hit' if x < 0 else 'gain' if x > 0 else 'draw')\n",
    "\n",
    "# Create dummy variables from 'result_type'\n",
    "dummy_variables = pd.get_dummies(df_bottom_20['result_type']).rename(columns=lambda x: '#' + str(x[0].capitalize()))\n",
    "\n",
    "# Add the dummy variables to the original DataFrame\n",
    "df_bottom_20 = pd.concat([df_bottom_20, dummy_variables], axis=1).reset_index(drop=True)\n",
    "\n",
    "# Convert starttime to delte format for operations\n",
    "df_bottom_20['start_time'] = pd.to_datetime(df_bottom_20['start_time'])\n",
    "\n",
    "# Create new column called 'time_diff' which is the difference between the start time of the gamble and the start time of the previous gamble\n",
    "df_bottom_20['time_diff'] = df_bottom_20.groupby(['playerkey', 'session_time'])['start_time'].diff()\n",
    "\n",
    "# Convert time_diff to seconds\n",
    "df_bottom_20['time_diff'] = df_bottom_20['time_diff'].dt.total_seconds().fillna(0)"
   ]
  },
  {
   "cell_type": "markdown",
   "metadata": {},
   "source": [
    "### Filter visit 1"
   ]
  },
  {
   "cell_type": "code",
   "execution_count": 5,
   "metadata": {},
   "outputs": [],
   "source": [
    "# Filter data frame by visit == 1\n",
    "df_bottom_20 = df_bottom_20[df_bottom_20['visit'] == 1]"
   ]
  },
  {
   "cell_type": "code",
   "execution_count": 6,
   "metadata": {},
   "outputs": [],
   "source": [
    "# Ude consecutive functions to find 2ws, 3ws, 4ws in a row in each dataset per visit per player\n",
    "df_bottom_20 = pf.consecutive_wins(df_bottom_20, 'visit')\n",
    "\n"
   ]
  },
  {
   "cell_type": "code",
   "execution_count": 7,
   "metadata": {},
   "outputs": [],
   "source": [
    "# Ude consecutive functions to find 2ws, 3ws, 4ws in a row in each dataset per session_time per player\n",
    "df_bottom_20_s = pf.consecutive_wins(df_bottom_20, 'session_time')\n"
   ]
  },
  {
   "cell_type": "code",
   "execution_count": 8,
   "metadata": {},
   "outputs": [],
   "source": [
    "# Create age ranges \n",
    "bins = [0, 24, 40, 55, 75, 150]\n",
    "labels = ['18-24', '25-40', '41-55', '56-75', '76+']\n",
    "generations = ['Gen Z', 'Millenials', 'Gen X', 'Baby Boomers', 'Silent']\n",
    "\n",
    "# Use cut function to create age ranges for bottom 20% and top 20%\n",
    "df_bottom_20['age_range'] = pd.cut(df_bottom_20['age'], bins=bins, labels=labels, right=False)\n",
    "df_bottom_20['age_gen'] = pd.cut(df_bottom_20['age'], bins=bins, labels=generations, right=False)\n"
   ]
  },
  {
   "cell_type": "code",
   "execution_count": 9,
   "metadata": {},
   "outputs": [
    {
     "name": "stdout",
     "output_type": "stream",
     "text": [
      "Count of players who increase_slotdeno : 297\n",
      "Count of times each player increase_slotdeno : {20: 106, 1166: 1, 1233: 4, 1959: 2, 6695: 2, 7967: 2, 8978: 1, 9510: 4, 10738: 41, 11584: 2, 15736: 4, 18082: 1, 23267: 1, 23321: 5, 32477: 6, 41839: 42, 42589: 1, 42613: 35, 42764: 1, 42955: 10, 42956: 3, 43364: 367, 43526: 1, 43781: 3, 43820: 2, 44309: 5, 44327: 2, 44603: 3, 44641: 2, 45449: 1, 45604: 1, 45630: 1, 45680: 4, 45790: 1, 46207: 5, 46281: 1, 46901: 3, 47275: 17, 47918: 1, 2073: 1, 3127: 1, 3634: 14, 4252: 1, 4265: 1, 5147: 1, 5969: 4, 6271: 3, 6365: 12, 6829: 1, 7195: 1, 7695: 5, 7933: 3, 8233: 262, 8465: 2, 10248: 1, 10348: 1, 10349: 2, 12192: 1, 13910: 3, 14778: 1, 15389: 31, 17497: 4, 18617: 1, 23045: 3, 23311: 2, 27510: 1, 31032: 1, 32887: 2, 34520: 1, 37278: 4, 40628: 3, 41690: 3, 41716: 2, 41872: 2, 42103: 1, 42244: 4, 42477: 3, 42502: 1, 42593: 1, 42656: 2, 42684: 1, 42722: 1, 42726: 2, 42731: 1, 42758: 1, 42833: 2, 42911: 1, 43063: 7, 43182: 1, 43287: 1, 43346: 147, 43387: 1, 43416: 1, 43438: 1, 43511: 6, 43573: 1, 43576: 1, 43652: 2, 43735: 1, 43747: 22, 43866: 1, 43916: 1, 43919: 1, 43962: 2, 44052: 5, 44056: 1, 44169: 2, 44170: 1, 44196: 2, 44222: 1, 44252: 1, 44261: 1, 44268: 1, 44273: 2, 44275: 2, 44303: 1, 44326: 1, 44420: 1, 44459: 1, 44488: 1, 44502: 2, 44570: 18, 44640: 1, 44791: 3, 44804: 2, 44807: 2, 44858: 1, 44920: 1, 45003: 1, 45042: 2, 45051: 1, 45078: 1, 45157: 1, 45224: 3, 45243: 5, 45275: 6, 45283: 1, 45288: 6, 45532: 1, 45570: 16, 45605: 10, 45691: 1, 45739: 1, 45793: 4, 45810: 1, 45811: 1, 45820: 190, 45873: 2, 46070: 6, 46139: 26, 46199: 1, 46206: 10, 46468: 5, 46522: 5, 46609: 10, 46639: 1, 46710: 1, 46720: 1, 46750: 1, 46797: 87, 46828: 1, 46829: 1, 46961: 12, 47055: 2, 47224: 6, 47304: 2, 47388: 1, 47412: 4, 47471: 20, 47485: 3, 47530: 4, 47643: 13, 47704: 2, 47737: 11, 47760: 5, 47788: 1, 47819: 5, 47841: 2, 2029: 2, 2070: 1, 6234: 3, 10119: 1, 14868: 2, 15612: 5, 16192: 1, 19351: 1, 19415: 1, 23779: 1, 25362: 4, 28671: 1, 41606: 3, 41665: 8, 41726: 2, 41840: 3, 41848: 2, 42029: 5, 42073: 1, 42145: 1, 42269: 2, 42302: 2, 42334: 1, 42478: 1, 42497: 5, 42540: 1, 42548: 1, 42564: 1, 42657: 2, 42709: 3, 42829: 1, 42835: 2, 42908: 9, 43098: 1, 43123: 2, 43131: 1, 43282: 2, 43291: 1, 43309: 2, 43376: 1, 43437: 2, 43462: 1, 43570: 3, 43613: 1, 43724: 2, 43772: 1, 43784: 1, 43798: 1, 43821: 313, 43888: 1, 43895: 1, 43988: 10, 43991: 1, 43992: 1, 44033: 1, 44097: 1, 44107: 2, 44157: 1, 44259: 6, 44265: 2, 44373: 4, 44402: 2, 44414: 2, 44466: 2, 44526: 2, 44533: 1, 44593: 1, 44650: 1, 44656: 2, 44843: 1, 44963: 1, 44986: 8, 45044: 1, 45058: 2, 45076: 1, 45147: 1, 45175: 1, 45194: 1, 45277: 3, 45285: 1, 45347: 1, 45500: 1, 45617: 4, 45618: 1, 45623: 3, 45686: 3, 45703: 1, 45782: 12, 45792: 2, 45824: 1, 45827: 4, 45874: 1, 46024: 2, 46034: 1, 46112: 3, 46115: 2, 46162: 1, 46195: 2, 46215: 2, 46237: 2, 46298: 2, 46666: 6, 46729: 3, 46736: 2, 46761: 1, 46785: 2, 46787: 6, 46788: 2, 46992: 1, 47081: 1, 47110: 132, 47211: 48, 47260: 1, 47336: 2, 47400: 28, 47410: 1, 47484: 4, 47667: 1, 47778: 3}\n",
      "Player who changes the most: 43364\n",
      "------------------------------------------------------------------------------------------------------------------\n",
      "Count of players who decrease_slotdeno : 286\n",
      "Count of times each player decrease_slotdeno : {20: 105, 1166: 1, 1233: 4, 1959: 2, 6695: 2, 7967: 1, 8978: 2, 9510: 5, 10738: 43, 15736: 7, 18082: 1, 23321: 2, 32477: 6, 41839: 41, 42204: 1, 42589: 2, 42613: 34, 42764: 1, 42955: 10, 42956: 3, 43364: 365, 43526: 1, 43754: 2, 43781: 4, 43820: 2, 44309: 7, 44327: 3, 44603: 3, 44641: 1, 45449: 2, 45630: 2, 45680: 3, 45719: 1, 45790: 1, 46207: 3, 46281: 1, 46697: 1, 46901: 2, 47275: 16, 47918: 3, 2073: 1, 3127: 3, 3634: 14, 4252: 1, 4265: 1, 5969: 2, 6271: 3, 6365: 8, 6829: 2, 7695: 5, 7933: 1, 8233: 262, 10248: 1, 10349: 1, 13910: 4, 14778: 1, 15389: 31, 17497: 2, 20557: 1, 23045: 1, 23311: 2, 27510: 1, 31032: 1, 32887: 2, 37278: 4, 40628: 3, 41690: 4, 41716: 3, 41872: 2, 42244: 3, 42477: 4, 42502: 1, 42593: 2, 42656: 2, 42726: 2, 42731: 1, 42758: 2, 42833: 3, 42911: 1, 43063: 5, 43182: 1, 43184: 1, 43346: 148, 43387: 2, 43416: 2, 43438: 2, 43511: 6, 43573: 1, 43576: 1, 43652: 1, 43670: 1, 43735: 2, 43747: 22, 43866: 1, 43916: 1, 43962: 2, 44052: 2, 44142: 1, 44169: 2, 44170: 1, 44196: 1, 44222: 2, 44261: 2, 44273: 2, 44275: 2, 44303: 1, 44326: 1, 44393: 1, 44394: 1, 44420: 1, 44488: 1, 44570: 19, 44791: 4, 44804: 3, 44807: 2, 44858: 1, 44920: 1, 45003: 2, 45042: 1, 45051: 1, 45157: 1, 45224: 3, 45243: 5, 45275: 7, 45283: 1, 45288: 4, 45570: 17, 45605: 7, 45691: 1, 45793: 4, 45810: 2, 45811: 1, 45820: 190, 45873: 3, 46070: 7, 46139: 27, 46199: 1, 46206: 8, 46376: 1, 46468: 3, 46522: 5, 46609: 9, 46639: 1, 46710: 1, 46720: 1, 46750: 1, 46797: 87, 46961: 15, 47055: 1, 47224: 4, 47304: 1, 47388: 1, 47412: 4, 47471: 20, 47485: 2, 47530: 2, 47640: 1, 47643: 16, 47704: 2, 47737: 9, 47760: 5, 47788: 1, 47819: 3, 47841: 2, 2015: 1, 2070: 3, 2099: 1, 6234: 2, 10119: 2, 14868: 2, 15612: 4, 19351: 1, 19415: 1, 23164: 1, 23779: 2, 24171: 1, 25362: 3, 28671: 1, 31058: 1, 41606: 2, 41665: 4, 41726: 2, 41840: 2, 41848: 2, 42029: 4, 42073: 1, 42102: 1, 42145: 1, 42254: 1, 42269: 1, 42334: 1, 42428: 1, 42478: 3, 42497: 4, 42564: 1, 42657: 2, 42709: 2, 42829: 2, 42835: 2, 42908: 8, 43123: 1, 43124: 1, 43282: 2, 43291: 1, 43309: 2, 43376: 2, 43431: 1, 43437: 3, 43462: 1, 43570: 2, 43613: 1, 43724: 2, 43744: 1, 43772: 1, 43798: 1, 43821: 312, 43888: 2, 43988: 9, 43991: 1, 43992: 2, 44021: 1, 44033: 2, 44107: 2, 44259: 4, 44265: 1, 44373: 2, 44402: 1, 44414: 2, 44466: 2, 44515: 1, 44533: 1, 44650: 1, 44656: 1, 44963: 1, 44986: 7, 45044: 2, 45058: 3, 45147: 2, 45175: 1, 45194: 2, 45229: 1, 45277: 2, 45285: 1, 45347: 1, 45500: 1, 45617: 3, 45618: 1, 45623: 2, 45686: 4, 45703: 1, 45734: 1, 45782: 12, 45792: 3, 45827: 3, 45874: 2, 45922: 1, 46024: 3, 46034: 1, 46112: 4, 46115: 3, 46195: 1, 46215: 1, 46237: 2, 46298: 2, 46666: 4, 46679: 1, 46728: 1, 46729: 3, 46736: 1, 46761: 1, 46785: 3, 46787: 5, 46788: 1, 46945: 1, 46992: 1, 47081: 1, 47110: 132, 47198: 1, 47211: 48, 47260: 1, 47317: 2, 47400: 27, 47410: 1, 47484: 3, 47667: 1, 47778: 4}\n",
      "Player who changes the most: 43364\n",
      "------------------------------------------------------------------------------------------------------------------\n",
      "Count of players who increase_maxbet : 325\n",
      "Count of times each player increase_maxbet : {20: 1, 1233: 1, 1959: 2, 6695: 1, 7967: 1, 9510: 6, 11334: 8, 12277: 2, 15736: 5, 23321: 6, 32477: 61, 41839: 95, 41939: 1, 42204: 1, 42589: 3, 42613: 1, 42955: 2, 42956: 8, 43364: 351, 43421: 1, 43526: 1, 43754: 4, 43781: 6, 43820: 3, 44309: 14, 44327: 5, 44641: 3, 45162: 1, 45449: 2, 45630: 4, 45680: 3, 45719: 3, 45790: 3, 46207: 1, 46281: 1, 46697: 2, 47275: 9, 47918: 10, 865: 1, 3634: 23, 4252: 1, 4265: 1, 6271: 1, 6365: 11, 6829: 3, 7195: 262, 7689: 1, 7695: 7, 7933: 1, 8233: 263, 8464: 2, 10248: 2, 10922: 2, 13910: 3, 14778: 4, 15389: 35, 17472: 2, 18617: 1, 20496: 2, 23045: 2, 23311: 3, 27510: 2, 28705: 3, 31032: 1, 32887: 2, 40628: 2, 41690: 5, 41716: 2, 41833: 2, 41872: 3, 42244: 5, 42430: 61, 42477: 5, 42502: 3, 42560: 1, 42593: 3, 42632: 7, 42656: 3, 42684: 1, 42722: 1, 42726: 2, 42758: 1, 42833: 2, 42911: 2, 43018: 2, 43063: 9, 43146: 1, 43153: 1, 43184: 1, 43346: 150, 43387: 2, 43416: 4, 43438: 1, 43511: 11, 43553: 1, 43573: 2, 43576: 1, 43652: 2, 43670: 1, 43716: 1, 43735: 2, 43747: 21, 43866: 1, 43916: 1, 43962: 3, 44052: 4, 44113: 1, 44142: 1, 44169: 4, 44170: 3, 44196: 3, 44222: 2, 44252: 1, 44261: 1, 44268: 1, 44273: 2, 44303: 6, 44326: 2, 44393: 1, 44394: 1, 44420: 3, 44488: 2, 44502: 2, 44570: 6, 44686: 1, 44791: 4, 44804: 4, 44807: 3, 44858: 2, 44920: 3, 45003: 2, 45042: 2, 45051: 2, 45224: 4, 45243: 7, 45275: 6, 45283: 1, 45288: 5, 45310: 3, 45330: 3, 45570: 10, 45605: 6, 45691: 3, 45793: 6, 45810: 2, 45811: 1, 45820: 207, 45873: 2, 45953: 1, 46070: 10, 46139: 102, 46199: 2, 46206: 2, 46376: 1, 46468: 4, 46522: 37, 46609: 9, 46639: 4, 46707: 8, 46710: 4, 46720: 1, 46746: 1, 46750: 2, 46961: 10, 47052: 5, 47084: 2, 47136: 1, 47224: 6, 47304: 1, 47388: 1, 47412: 7, 47471: 20, 47485: 3, 47530: 2, 47555: 1, 47643: 18, 47704: 4, 47737: 3, 47760: 7, 47788: 1, 47819: 2, 1922: 1, 2015: 2, 2070: 2, 2099: 3, 6234: 2, 9361: 1, 10119: 3, 11474: 1, 14868: 1, 15612: 4, 19351: 1, 23164: 1, 23779: 1, 24171: 1, 26433: 2, 28595: 1, 28671: 1, 31058: 1, 33004: 1, 38603: 1, 40693: 287, 41665: 2, 41726: 3, 41840: 3, 41848: 3, 42029: 10, 42073: 2, 42102: 3, 42145: 4, 42156: 3, 42269: 1, 42334: 1, 42478: 2, 42539: 3, 42540: 1, 42545: 2, 42564: 2, 42571: 1, 42590: 2, 42657: 2, 42709: 2, 42829: 1, 42835: 3, 42908: 1, 42931: 1, 43095: 12, 43123: 2, 43124: 1, 43282: 1, 43291: 1, 43309: 3, 43376: 4, 43431: 2, 43437: 1, 43570: 3, 43574: 1, 43613: 1, 43717: 2, 43718: 1, 43724: 5, 43772: 1, 43784: 1, 43807: 2, 43821: 312, 43822: 1, 43888: 1, 43988: 9, 43991: 1, 43992: 2, 44019: 1, 44021: 2, 44033: 3, 44097: 2, 44107: 1, 44147: 98, 44259: 2, 44265: 3, 44342: 1, 44402: 2, 44414: 2, 44466: 1, 44618: 2, 44650: 1, 44656: 1, 44679: 1, 44939: 2, 44963: 1, 44986: 7, 45044: 1, 45058: 4, 45147: 2, 45153: 3, 45175: 2, 45194: 2, 45229: 2, 45277: 2, 45285: 2, 45347: 1, 45500: 2, 45617: 4, 45618: 1, 45623: 1, 45686: 4, 45703: 1, 45734: 1, 45792: 3, 45824: 1, 45827: 5, 45866: 1, 45874: 2, 45922: 1, 45966: 1, 45968: 1, 46024: 8, 46034: 2, 46080: 4, 46112: 5, 46115: 6, 46208: 1, 46256: 3, 46298: 2, 46679: 1, 46729: 4, 46736: 1, 46761: 1, 46785: 2, 46787: 2, 46826: 1, 46945: 1, 46992: 2, 47081: 2, 47092: 2, 47110: 42, 47198: 3, 47211: 105, 47260: 3, 47317: 1, 47400: 28, 47410: 1, 47484: 3, 47534: 1, 47667: 2, 47708: 1, 47778: 5}\n",
      "Player who changes the most: 43364\n",
      "------------------------------------------------------------------------------------------------------------------\n",
      "Count of players who decrease_maxbet : 334\n",
      "Count of times each player decrease_maxbet : {20: 1, 1233: 1, 1959: 2, 6695: 1, 7967: 2, 8978: 1, 9510: 9, 11334: 7, 11584: 2, 12277: 1, 15736: 4, 23267: 1, 23321: 9, 32477: 61, 41839: 96, 41939: 2, 42613: 2, 42832: 3, 42955: 1, 42956: 8, 43364: 350, 43526: 1, 43754: 2, 43781: 5, 43820: 3, 44309: 13, 44327: 2, 44641: 3, 45162: 1, 45449: 1, 45630: 3, 45680: 4, 45719: 1, 45790: 3, 46207: 3, 46281: 1, 46901: 1, 47275: 7, 47918: 11, 865: 2, 2073: 1, 3634: 24, 4265: 1, 5147: 1, 5969: 1, 6271: 1, 6365: 10, 6829: 2, 7195: 262, 7689: 1, 7695: 8, 7933: 1, 8233: 263, 8412: 1, 8464: 1, 10248: 1, 10922: 2, 12192: 1, 13910: 3, 14778: 3, 15389: 34, 17472: 3, 18617: 2, 20496: 2, 23045: 3, 23311: 2, 27510: 3, 28705: 3, 31032: 1, 32887: 3, 34520: 1, 40628: 2, 41690: 3, 41716: 2, 41833: 1, 41872: 3, 42103: 1, 42244: 5, 42430: 62, 42477: 4, 42502: 2, 42518: 1, 42593: 1, 42632: 6, 42656: 3, 42684: 3, 42722: 1, 42726: 2, 42833: 1, 42911: 1, 43063: 7, 43146: 1, 43182: 1, 43287: 1, 43346: 149, 43387: 2, 43416: 2, 43459: 1, 43511: 10, 43553: 1, 43573: 4, 43576: 1, 43652: 2, 43735: 1, 43747: 22, 43866: 1, 43916: 2, 43962: 1, 44052: 5, 44056: 1, 44169: 4, 44170: 4, 44196: 2, 44222: 3, 44252: 2, 44261: 2, 44268: 1, 44275: 1, 44303: 6, 44326: 1, 44420: 2, 44459: 1, 44488: 2, 44502: 5, 44570: 3, 44640: 1, 44686: 3, 44791: 3, 44804: 2, 44807: 3, 44858: 4, 44920: 1, 45003: 1, 45042: 2, 45051: 2, 45078: 1, 45113: 1, 45224: 3, 45243: 5, 45275: 7, 45283: 1, 45288: 8, 45299: 1, 45310: 2, 45330: 1, 45532: 2, 45570: 10, 45605: 9, 45691: 3, 45739: 1, 45793: 3, 45810: 3, 45811: 2, 45820: 210, 45873: 1, 45953: 1, 46070: 8, 46139: 102, 46199: 1, 46206: 3, 46468: 6, 46522: 39, 46609: 12, 46639: 4, 46707: 7, 46710: 2, 46720: 2, 46750: 2, 46794: 1, 46829: 1, 46961: 10, 47052: 7, 47084: 1, 47136: 1, 47224: 7, 47304: 2, 47388: 2, 47412: 9, 47471: 20, 47485: 3, 47530: 1, 47555: 1, 47640: 1, 47643: 18, 47704: 5, 47737: 2, 47760: 6, 47788: 1, 47819: 3, 1922: 2, 2070: 2, 2099: 4, 6234: 3, 9361: 1, 10119: 1, 15612: 3, 19351: 1, 19415: 1, 23779: 1, 26433: 1, 28595: 1, 28671: 1, 33004: 1, 38603: 1, 40693: 287, 41665: 2, 41726: 2, 41840: 3, 41848: 3, 42029: 11, 42073: 4, 42102: 1, 42145: 5, 42156: 3, 42269: 2, 42302: 1, 42334: 1, 42446: 1, 42478: 1, 42539: 3, 42540: 2, 42548: 1, 42564: 3, 42657: 2, 42709: 5, 42829: 2, 42835: 2, 42908: 2, 42931: 3, 43095: 11, 43098: 1, 43123: 1, 43124: 1, 43131: 1, 43282: 2, 43291: 1, 43309: 3, 43329: 1, 43376: 1, 43437: 1, 43552: 1, 43570: 5, 43574: 1, 43613: 1, 43717: 1, 43724: 6, 43772: 1, 43784: 2, 43807: 1, 43821: 313, 43822: 1, 43888: 1, 43895: 2, 43988: 9, 43991: 1, 43992: 1, 44019: 2, 44021: 1, 44033: 1, 44097: 3, 44107: 1, 44147: 97, 44157: 2, 44259: 2, 44265: 5, 44342: 2, 44384: 2, 44402: 3, 44414: 3, 44466: 2, 44526: 3, 44569: 1, 44593: 1, 44618: 1, 44650: 1, 44656: 4, 44683: 1, 44939: 1, 44986: 8, 45044: 2, 45058: 2, 45076: 1, 45147: 2, 45153: 3, 45175: 2, 45194: 1, 45229: 2, 45277: 2, 45285: 2, 45347: 1, 45500: 1, 45617: 8, 45618: 1, 45623: 2, 45686: 3, 45792: 4, 45824: 2, 45827: 7, 45866: 1, 45874: 1, 45968: 1, 46011: 1, 46024: 8, 46034: 2, 46080: 2, 46112: 3, 46115: 6, 46162: 1, 46195: 2, 46208: 1, 46215: 3, 46256: 2, 46298: 4, 46728: 1, 46729: 5, 46736: 1, 46785: 1, 46787: 2, 46788: 1, 46826: 1, 46992: 1, 47081: 2, 47092: 1, 47110: 43, 47198: 1, 47211: 106, 47260: 2, 47336: 1, 47400: 28, 47410: 1, 47484: 5, 47667: 2, 47708: 1, 47778: 8}\n",
      "Player who changes the most: 43364\n",
      "------------------------------------------------------------------------------------------------------------------\n"
     ]
    }
   ],
   "source": [
    "# Lets do the same but for bottom 20%\n",
    "players_increase_slot_b20 = cf.count_increase(df_bottom_20, \"increase_slotdeno\", \"playerkey\", \"slotdenomination\")\n",
    "players_decrease_slot_b20 = cf.count_decrease(df_bottom_20, \"decrease_slotdeno\", \"playerkey\", \"slotdenomination\")\n",
    "players_increase_maxbet_b20 = cf.count_increase(df_bottom_20, \"increase_maxbet\", \"playerkey\", \"maxbet\")\n",
    "players_decrease_maxbet_b20 = cf.count_decrease(df_bottom_20, \"decrease_maxbet\", \"playerkey\", \"maxbet\")"
   ]
  },
  {
   "cell_type": "code",
   "execution_count": 10,
   "metadata": {},
   "outputs": [],
   "source": [
    "# Lets crate a column called 'depletion_slope' which is the difference of 'playercashableamt' between the current gamble and the previous gamble\n",
    "df_bottom_20['depletion_rate'] = df_bottom_20.groupby(['playerkey', 'session_time'])['playercashableamt'].diff().fillna(0)\n"
   ]
  },
  {
   "attachments": {},
   "cell_type": "markdown",
   "metadata": {},
   "source": [
    "# Separate by time"
   ]
  },
  {
   "cell_type": "code",
   "execution_count": 11,
   "metadata": {},
   "outputs": [],
   "source": [
    "# Create df_bottom_1min for 1 minute duration\n",
    "df_bottom_1min = pf.filter_dataframe_by_time(df_bottom_20, pd.Timedelta(minutes=1))\n",
    "\n",
    "# Create df_bottom_2min for 2 minutes duration\n",
    "df_bottom_2min = pf.filter_dataframe_by_time(df_bottom_20, pd.Timedelta(minutes=2))\n",
    "\n",
    "# Create df_bottom_3min for 3 minutes duration\n",
    "df_bottom_3min = pf.filter_dataframe_by_time(df_bottom_20, pd.Timedelta(minutes=3))\n",
    "\n",
    "# Create df_bottom_4min for 4 minutes duration\n",
    "df_bottom_4min = pf.filter_dataframe_by_time(df_bottom_20, pd.Timedelta(minutes=4))\n",
    "\n",
    "# Create df_bottom_5min for 5 minutes duration\n",
    "df_bottom_5min = pf.filter_dataframe_by_time(df_bottom_20, pd.Timedelta(minutes=5))\n",
    "\n",
    "# Create df_bottom_10min for 10 minutes duration\n",
    "df_bottom_10min = pf.filter_dataframe_by_time(df_bottom_20, pd.Timedelta(minutes=10))\n",
    "\n",
    "# Create df_bottom_15min for 15 minutes duration\n",
    "df_bottom_15min = pf.filter_dataframe_by_time(df_bottom_20, pd.Timedelta(minutes=15))"
   ]
  },
  {
   "cell_type": "code",
   "execution_count": 12,
   "metadata": {},
   "outputs": [
    {
     "name": "stdout",
     "output_type": "stream",
     "text": [
      "Number of players in bottom 1min:  557\n",
      "Number of players in bottom 2min:  557\n",
      "Number of players in bottom 3min:  557\n",
      "Number of players in bottom 4min:  557\n",
      "Number of players in bottom 5min:  557\n"
     ]
    }
   ],
   "source": [
    "# Print the unique number of players in each dataset\n",
    "print(\"Number of players in bottom 1min: \", df_bottom_1min['playerkey'].nunique())\n",
    "print(\"Number of players in bottom 2min: \", df_bottom_2min['playerkey'].nunique())\n",
    "print(\"Number of players in bottom 3min: \", df_bottom_3min['playerkey'].nunique())\n",
    "print(\"Number of players in bottom 4min: \", df_bottom_4min['playerkey'].nunique())\n",
    "print(\"Number of players in bottom 5min: \", df_bottom_5min['playerkey'].nunique())"
   ]
  },
  {
   "attachments": {},
   "cell_type": "markdown",
   "metadata": {},
   "source": [
    "#### First 1 minute"
   ]
  },
  {
   "cell_type": "code",
   "execution_count": 13,
   "metadata": {},
   "outputs": [
    {
     "name": "stdout",
     "output_type": "stream",
     "text": [
      "Number of unique players in df_all_1min:  557\n",
      "[ 5969  7967 43735 43754 44019 44420 44450 44858 45044 45194 45299 45811\n",
      " 45839 45922 46750 46797 46992 47530 47534 47918]\n",
      "Number of unique players w/o discrepancies df_all_1min:  537\n"
     ]
    }
   ],
   "source": [
    "# Create dataframe\n",
    "df_all_1min = pf.transform_ml(data_b=df_bottom_1min, grouping='session_time')\n",
    "\n",
    "# Print number of unique players\n",
    "print(\"Number of unique players in df_all_1min: \", df_all_1min['playerkey'].nunique())\n",
    "\n",
    "# Get the IDs of players who have NaN values in any of the columns\n",
    "list_discrepancy = df_all_1min[df_all_1min.isna().any(axis=1)]['playerkey'].unique()\n",
    "\n",
    "# print list of players with NaN values\n",
    "print(list_discrepancy)\n",
    "\n",
    "# Eliminate list_discrepancy  from df_all_1min\n",
    "df_all_1min = df_all_1min[~df_all_1min['playerkey'].isin(list_discrepancy)]\n",
    "\n",
    "# Print number of unique players\n",
    "print(\"Number of unique players w/o discrepancies df_all_1min: \", df_all_1min['playerkey'].nunique())\n",
    "\n",
    "# # # Reorder Columns\n",
    "desired_order = ['playerkey', 'session_time', 'gender', 'age_range', 'age_gen',\n",
    "                'beginning_amt', 'ending_amt', 'ending_balance', 'ave_slotdenom',\n",
    "                'std_slotdenom', 'min_slotdenom', 'max_slotdenom', 'ave_theo_payback',\n",
    "                'min_theo_payback', 'max_theo_payback', 'ave_wageramt', 'std_wageramt',\n",
    "                'min_wager', 'max_wager', 'ave_p/b', 'std_p/b', 'max_p/b', 'max_profit', 'depletion_slope',\n",
    "                '#inc_maxbet', '#dec_maxbet', 'first_wager', 'first_outcome', 'first_p/b', 'last_wager',\n",
    "                'last_outcome', 'last_p/b', '#W', '#L', '#NH', '#D', 'w/min', 'l/min', 'nh/min', 'd/min', \n",
    "                'w/g', 'l/g', 'nh/g', 'd/g', '#2ws', '2ws_profit', '2ws_wgramt', '#3ws', \n",
    "                '3ws_profit','3ws_wgramt', '#4ws', '4ws_profit', '4ws_wgramt', '2ws/min', '3ws/min', '4ws/min',\n",
    "                'ave_time_per_gamble', 'min_time_per_gamble', 'max_time_per_gamble',\n",
    "                'total_duration', 'total_gambles', 'machines_changes', '#inc_slotdenom', '#dec_slotdenom',\n",
    "                'unique_machines', 'ave_time_per_machine','classification']\n",
    "\n",
    "df_all_1min = df_all_1min.reindex(columns=desired_order)"
   ]
  },
  {
   "cell_type": "markdown",
   "metadata": {},
   "source": [
    "#### First 2 minutes"
   ]
  },
  {
   "cell_type": "code",
   "execution_count": 14,
   "metadata": {},
   "outputs": [
    {
     "name": "stdout",
     "output_type": "stream",
     "text": [
      "Number of unique players in df_all_2min:  557\n",
      "[ 7967 43754 44019 44450 44858 45194 45299 45922 46750 46797 46992 47530\n",
      " 47918]\n",
      "Number of unique players w/o discrepancies df_all_2min:  544\n"
     ]
    }
   ],
   "source": [
    "# Create dataframe\n",
    "df_all_2min = pf.transform_ml(data_b=df_bottom_2min, grouping='session_time')\n",
    "\n",
    "# Print number of unique players\n",
    "print(\"Number of unique players in df_all_2min: \", df_all_2min['playerkey'].nunique())\n",
    "\n",
    "# Get the IDs of players who have NaN values in any of the columns\n",
    "list_discrepancy_2 = df_all_2min[df_all_2min.isna().any(axis=1)]['playerkey'].unique()\n",
    "\n",
    "# print list of players with NaN values\n",
    "print(list_discrepancy_2)\n",
    "\n",
    "# Eliminate list_discrepancy  from df_all_2min\n",
    "df_all_2min = df_all_2min[~df_all_2min['playerkey'].isin(list_discrepancy_2)]\n",
    "\n",
    "# Print number of unique players\n",
    "print(\"Number of unique players w/o discrepancies df_all_2min: \", df_all_2min['playerkey'].nunique())\n",
    "\n",
    "# Reorder Columns\n",
    "df_all_2min = df_all_2min.reindex(columns=desired_order)"
   ]
  },
  {
   "cell_type": "markdown",
   "metadata": {},
   "source": [
    "#### First 3 minutes"
   ]
  },
  {
   "cell_type": "code",
   "execution_count": 15,
   "metadata": {},
   "outputs": [
    {
     "name": "stdout",
     "output_type": "stream",
     "text": [
      "Number of unique players in df_all_3min:  557\n",
      "[ 7967 43718 43754 44019 44450 44858 45194 45299 46750 46797 46992 47918]\n",
      "Number of unique players w/o discrepancies df_all_3min:  545\n"
     ]
    }
   ],
   "source": [
    "# Create dataframe\n",
    "df_all_3min = pf.transform_ml(data_b=df_bottom_3min, grouping='session_time')\n",
    "\n",
    "# Print number of unique players\n",
    "print(\"Number of unique players in df_all_3min: \", df_all_3min['playerkey'].nunique())\n",
    "\n",
    "# Get the IDs of players who have NaN values in any of the columns\n",
    "list_discrepancy_3 = df_all_3min[df_all_3min.isna().any(axis=1)]['playerkey'].unique()\n",
    "\n",
    "# print list of players with NaN values\n",
    "print(list_discrepancy_3)\n",
    "\n",
    "# Eliminate list_discrepancy  from df_all_3min\n",
    "df_all_3min = df_all_3min[~df_all_3min['playerkey'].isin(list_discrepancy_3)]\n",
    "\n",
    "# Print number of unique players\n",
    "print(\"Number of unique players w/o discrepancies df_all_3min: \", df_all_3min['playerkey'].nunique())\n",
    "\n",
    "# Reorder Columns\n",
    "df_all_3min = df_all_3min.reindex(columns=desired_order)"
   ]
  },
  {
   "cell_type": "markdown",
   "metadata": {},
   "source": [
    "#### First 4 minutes"
   ]
  },
  {
   "cell_type": "code",
   "execution_count": 16,
   "metadata": {},
   "outputs": [
    {
     "name": "stdout",
     "output_type": "stream",
     "text": [
      "Number of unique players in df_all_4min:  557\n",
      "[ 7967 43718 43754 45194 45299 46750 46992 47918]\n",
      "Number of unique players w/o discrepancies df_all_4min:  549\n"
     ]
    }
   ],
   "source": [
    "# Create dataframe\n",
    "df_all_4min = pf.transform_ml(data_b=df_bottom_4min, grouping='session_time')\n",
    "\n",
    "# Print number of unique players\n",
    "print(\"Number of unique players in df_all_4min: \", df_all_4min['playerkey'].nunique())\n",
    "\n",
    "# Get the IDs of players who have NaN values in any of the columns\n",
    "list_discrepancy_4 = df_all_4min[df_all_4min.isna().any(axis=1)]['playerkey'].unique()\n",
    "\n",
    "# print list of players with NaN values\n",
    "print(list_discrepancy_4)\n",
    "\n",
    "# Eliminate list_discrepancy  from df_all_4min\n",
    "df_all_4min = df_all_4min[~df_all_4min['playerkey'].isin(list_discrepancy_4)]\n",
    "\n",
    "# Print number of unique players\n",
    "print(\"Number of unique players w/o discrepancies df_all_4min: \", df_all_4min['playerkey'].nunique())\n",
    "\n",
    "# Reorder Columns\n",
    "df_all_4min = df_all_4min.reindex(columns=desired_order)"
   ]
  },
  {
   "attachments": {},
   "cell_type": "markdown",
   "metadata": {},
   "source": [
    "#### First 5 minutes"
   ]
  },
  {
   "cell_type": "code",
   "execution_count": 17,
   "metadata": {},
   "outputs": [
    {
     "name": "stdout",
     "output_type": "stream",
     "text": [
      "Number of unique players in df_all_5min:  557\n",
      "[ 7967 43718 43754 45194 46750 47918]\n",
      "Number of unique players w/o discrepancies df_all_5min:  551\n"
     ]
    }
   ],
   "source": [
    "# Create dataframe\n",
    "df_all_5min = pf.transform_ml(data_b=df_bottom_5min, grouping='session_time')\n",
    "\n",
    "# Print number of unique players\n",
    "print(\"Number of unique players in df_all_5min: \", df_all_5min['playerkey'].nunique())\n",
    "\n",
    "# Get the IDs of players who have NaN values in any of the columns\n",
    "list_discrepancy_5 = df_all_5min[df_all_5min.isna().any(axis=1)]['playerkey'].unique()\n",
    "\n",
    "# print list of players with NaN values\n",
    "print(list_discrepancy_5)\n",
    "\n",
    "# Eliminate list_discrepancy  from df_all_5min\n",
    "df_all_5min = df_all_5min[~df_all_5min['playerkey'].isin(list_discrepancy_5)]\n",
    "\n",
    "# Print number of unique players\n",
    "print(\"Number of unique players w/o discrepancies df_all_5min: \", df_all_5min['playerkey'].nunique())\n",
    "\n",
    "# Reorder Columns\n",
    "df_all_5min = df_all_5min.reindex(columns=desired_order)"
   ]
  },
  {
   "cell_type": "markdown",
   "metadata": {},
   "source": [
    "#### First 10 minutes"
   ]
  },
  {
   "cell_type": "code",
   "execution_count": 18,
   "metadata": {},
   "outputs": [
    {
     "name": "stdout",
     "output_type": "stream",
     "text": [
      "Number of unique players in df_all_10min:  557\n",
      "[ 7967 43718 45194 47918]\n",
      "Number of unique players w/o discrepancies df_all_10min:  553\n"
     ]
    }
   ],
   "source": [
    "# Create dataframe\n",
    "df_all_10min = pf.transform_ml(data_b=df_bottom_10min, grouping='session_time')\n",
    "\n",
    "# Print number of unique players\n",
    "print(\"Number of unique players in df_all_10min: \", df_all_10min['playerkey'].nunique())\n",
    "\n",
    "# Get the IDs of players who have NaN values in any of the columns\n",
    "list_discrepancy_10 = df_all_10min[df_all_10min.isna().any(axis=1)]['playerkey'].unique()\n",
    "\n",
    "# print list of players with NaN values\n",
    "print(list_discrepancy_10)\n",
    "\n",
    "# Eliminate list_discrepancy  from df_all_10min\n",
    "df_all_10min = df_all_10min[~df_all_10min['playerkey'].isin(list_discrepancy_10)]\n",
    "\n",
    "# Print number of unique players\n",
    "print(\"Number of unique players w/o discrepancies df_all_10min: \", df_all_10min['playerkey'].nunique())\n",
    "\n",
    "df_all_10min = df_all_10min.reindex(columns=desired_order)"
   ]
  },
  {
   "cell_type": "markdown",
   "metadata": {},
   "source": [
    "#### First 15 minutes"
   ]
  },
  {
   "cell_type": "code",
   "execution_count": 19,
   "metadata": {},
   "outputs": [
    {
     "name": "stdout",
     "output_type": "stream",
     "text": [
      "Number of unique players in df_all_15min:  557\n",
      "[ 7967 43718 45194]\n",
      "Number of unique players w/o discrepancies df_all_15min:  554\n"
     ]
    }
   ],
   "source": [
    "# Create dataframe\n",
    "df_all_15min = pf.transform_ml(data_b=df_bottom_15min, grouping='session_time')\n",
    "\n",
    "# Print number of unique players\n",
    "print(\"Number of unique players in df_all_15min: \", df_all_15min['playerkey'].nunique())\n",
    "\n",
    "# Get the IDs of players who have NaN values in any of the columns\n",
    "list_discrepancy_15 = df_all_15min[df_all_15min.isna().any(axis=1)]['playerkey'].unique()\n",
    "\n",
    "# print list of players with NaN values\n",
    "print(list_discrepancy_15)\n",
    "\n",
    "# Eliminate list_discrepancy  from df_all_10min\n",
    "df_all_15min = df_all_15min[~df_all_15min['playerkey'].isin(list_discrepancy_15)]\n",
    "\n",
    "# Print number of unique players\n",
    "print(\"Number of unique players w/o discrepancies df_all_15min: \", df_all_15min['playerkey'].nunique())\n",
    "\n",
    "# Reorder Columns\n",
    "df_all_15min = df_all_15min.reindex(columns=desired_order)"
   ]
  },
  {
   "cell_type": "markdown",
   "metadata": {},
   "source": [
    "## Eliminate Discrepancies"
   ]
  },
  {
   "cell_type": "code",
   "execution_count": 20,
   "metadata": {},
   "outputs": [
    {
     "name": "stdout",
     "output_type": "stream",
     "text": [
      "Number of unique players in total_discrepancies:  66\n",
      "Number of unique players in total_unique_discrepancies:  21\n"
     ]
    }
   ],
   "source": [
    "# add the ndarrays together to get the total number of player\n",
    "total_discrepancies = np.concatenate((list_discrepancy, list_discrepancy_2, list_discrepancy_3, list_discrepancy_4, list_discrepancy_5, list_discrepancy_10, list_discrepancy_15), axis=0)\n",
    "\n",
    "# Print number of unique players\n",
    "print(\"Number of unique players in total_discrepancies: \", len(total_discrepancies))\n",
    "\n",
    "# Transform into a set to get unique values\n",
    "total_unique_discrepancies = list(set(total_discrepancies))\n",
    "\n",
    "# Print number of unique players\n",
    "print(\"Number of unique players in total_unique_discrepancies: \", len(total_unique_discrepancies))"
   ]
  },
  {
   "cell_type": "code",
   "execution_count": 21,
   "metadata": {},
   "outputs": [
    {
     "name": "stdout",
     "output_type": "stream",
     "text": [
      "Number of unique players in df_all_1min:  536\n",
      "Number of unique players in df_all_2min:  536\n",
      "Number of unique players in df_all_3min:  536\n",
      "Number of unique players in df_all_4min:  536\n",
      "Number of unique players in df_all_5min:  536\n",
      "Number of unique players in df_all_10min:  536\n",
      "Number of unique players in df_all_15min:  536\n"
     ]
    }
   ],
   "source": [
    "# Eliminate total_unique_discrepancies from all the dataframes\n",
    "df_all_1min = df_all_1min[~df_all_1min['playerkey'].isin(total_unique_discrepancies)]\n",
    "df_all_2min = df_all_2min[~df_all_2min['playerkey'].isin(total_unique_discrepancies)]\n",
    "df_all_3min = df_all_3min[~df_all_3min['playerkey'].isin(total_unique_discrepancies)]\n",
    "df_all_4min = df_all_4min[~df_all_4min['playerkey'].isin(total_unique_discrepancies)]\n",
    "df_all_5min = df_all_5min[~df_all_5min['playerkey'].isin(total_unique_discrepancies)]\n",
    "df_all_10min = df_all_10min[~df_all_10min['playerkey'].isin(total_unique_discrepancies)]\n",
    "df_all_15min = df_all_15min[~df_all_15min['playerkey'].isin(total_unique_discrepancies)]\n",
    "\n",
    "# Print number of unique players\n",
    "print(\"Number of unique players in df_all_1min: \", df_all_1min['playerkey'].nunique())\n",
    "print(\"Number of unique players in df_all_2min: \", df_all_2min['playerkey'].nunique())\n",
    "print(\"Number of unique players in df_all_3min: \", df_all_3min['playerkey'].nunique())\n",
    "print(\"Number of unique players in df_all_4min: \", df_all_4min['playerkey'].nunique())\n",
    "print(\"Number of unique players in df_all_5min: \", df_all_5min['playerkey'].nunique())\n",
    "print(\"Number of unique players in df_all_10min: \", df_all_10min['playerkey'].nunique())\n",
    "print(\"Number of unique players in df_all_15min: \", df_all_15min['playerkey'].nunique())\n"
   ]
  },
  {
   "cell_type": "code",
   "execution_count": 22,
   "metadata": {},
   "outputs": [],
   "source": [
    "# Save the dataframes to parquet\n",
    "df_all_1min.to_parquet('/Users/mau/Library/CloudStorage/Dropbox/Mac/Documents/Dissertation/Chapter 2/Entire_Data/By month/'+month_file+'/Ending Balances/Per_Player/df_1min_top_players.parquet')\n",
    "df_all_2min.to_parquet('/Users/mau/Library/CloudStorage/Dropbox/Mac/Documents/Dissertation/Chapter 2/Entire_Data/By month/'+month_file+'/Ending Balances/Per_Player/df_2min_top_players.parquet')\n",
    "df_all_3min.to_parquet('/Users/mau/Library/CloudStorage/Dropbox/Mac/Documents/Dissertation/Chapter 2/Entire_Data/By month/'+month_file+'/Ending Balances/Per_Player/df_3min_top_players.parquet')\n",
    "df_all_4min.to_parquet('/Users/mau/Library/CloudStorage/Dropbox/Mac/Documents/Dissertation/Chapter 2/Entire_Data/By month/'+month_file+'/Ending Balances/Per_Player/df_4min_top_players.parquet')\n",
    "df_all_5min.to_parquet('/Users/mau/Library/CloudStorage/Dropbox/Mac/Documents/Dissertation/Chapter 2/Entire_Data/By month/'+month_file+'/Ending Balances/Per_Player/df_5min_top_players.parquet')\n",
    "df_all_10min.to_parquet('/Users/mau/Library/CloudStorage/Dropbox/Mac/Documents/Dissertation/Chapter 2/Entire_Data/By month/'+month_file+'/Ending Balances/Per_Player/df_10min_top_players.parquet')\n",
    "df_all_15min.to_parquet('/Users/mau/Library/CloudStorage/Dropbox/Mac/Documents/Dissertation/Chapter 2/Entire_Data/By month/'+month_file+'/Ending Balances/Per_Player/df_15min_top_players.parquet')"
   ]
  }
 ],
 "metadata": {
  "kernelspec": {
   "display_name": "Python 3",
   "language": "python",
   "name": "python3"
  },
  "language_info": {
   "codemirror_mode": {
    "name": "ipython",
    "version": 3
   },
   "file_extension": ".py",
   "mimetype": "text/x-python",
   "name": "python",
   "nbconvert_exporter": "python",
   "pygments_lexer": "ipython3",
   "version": "3.10.0"
  },
  "orig_nbformat": 4
 },
 "nbformat": 4,
 "nbformat_minor": 2
}
