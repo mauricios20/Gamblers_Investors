{
 "cells": [
  {
   "attachments": {},
   "cell_type": "markdown",
   "metadata": {},
   "source": [
    "# Similarities and Differences between Categories (Pt.1 - Age, Gender, Won/Lost Amount)"
   ]
  },
  {
   "cell_type": "code",
   "execution_count": 2,
   "metadata": {},
   "outputs": [],
   "source": [
    "# Define libraries\n",
    "import pandas as pd\n",
    "import numpy as np\n",
    "import matplotlib.pyplot as plt\n",
    "import seaborn as sns\n",
    "import matplotlib.dates as mdates\n",
    "import os\n",
    "import plotting_fn as pf\n",
    "import counting_fns as cf\n",
    "\n",
    "month_file = '6_October'\n",
    "cut_off = 10000\n",
    "# Set working directory\n",
    "os.chdir(\"/Users/mau/Library/CloudStorage/Dropbox/Mac/Documents/Dissertation/Chapter 2/Entire_Data/By month/\"+month_file)\n"
   ]
  },
  {
   "cell_type": "code",
   "execution_count": 3,
   "metadata": {},
   "outputs": [],
   "source": [
    "# Read in data\n",
    "df = pd.read_parquet(\"top_players.parquet\")\n",
    "\n",
    "# Round wageredamt and profit to 2 decimal places\n",
    "df['wageredamt'] = df['wageredamt'].round(1)\n",
    "df['profit'] = df['profit'].round(1)\n",
    "df['percent_return'] = df['percent_return'].round(1)\n"
   ]
  },
  {
   "cell_type": "code",
   "execution_count": 4,
   "metadata": {},
   "outputs": [],
   "source": [
    "# Create a new column 'result_type' that is a categorical variable which takes the value 'loss' if the change is negative and 'gain' if the change is positive, and 'draw' of change is 0\n",
    "df['result_type'] = df['percent_return'].apply(lambda x: 'loss' if x == -100 else 'near-hit' if x < 0 else 'gain' if x > 0 else 'draw')\n",
    "\n",
    "# Create dummy variables from 'result_type'\n",
    "dummy_variables = pd.get_dummies(df['result_type']).rename(columns=lambda x: '#' + str(x[0].capitalize()))\n",
    "\n",
    "# Add the dummy variables to the original DataFrame\n",
    "df = pd.concat([df, dummy_variables], axis=1).reset_index(drop=True)\n",
    "\n",
    "# Convert starttime to delte format for operations\n",
    "df['start_time'] = pd.to_datetime(df['start_time'])"
   ]
  },
  {
   "cell_type": "code",
   "execution_count": 5,
   "metadata": {},
   "outputs": [],
   "source": [
    "# Create new column called 'time_diff' which is the difference between the start time of the gamble and the start time of the previous gamble\n",
    "df['time_diff'] = df.groupby(['playerkey', 'session_time'])['start_time'].diff()\n",
    "\n",
    "# Convert time_diff to seconds\n",
    "df['time_diff'] = df['time_diff'].dt.total_seconds().fillna(0)"
   ]
  },
  {
   "attachments": {},
   "cell_type": "markdown",
   "metadata": {},
   "source": [
    "## General Overview\n",
    "\n",
    "### Players, Visits, Sessions of Each Group"
   ]
  },
  {
   "cell_type": "code",
   "execution_count": 6,
   "metadata": {},
   "outputs": [
    {
     "name": "stdout",
     "output_type": "stream",
     "text": [
      "Number of gamblers in dataframe: 557\n",
      "--------------------------------------------------\n",
      "Number of unique visits in dtf: 10\n",
      "--------------------------------------------------\n",
      "Number of unique sessions in dtf: 10\n",
      "--------------------------------------------------\n"
     ]
    }
   ],
   "source": [
    "# Number of gamblers\n",
    "print(\"Number of gamblers in dataframe:\", len(df['playerkey'].unique()))\n",
    "print('--------------------------------------------------')\n",
    "\n",
    "# Print number of unique visits\n",
    "print(\"Number of unique visits in dtf:\", len(df['visit'].unique()))\n",
    "print('--------------------------------------------------')\n",
    "\n",
    "# Print number of unique sessions\n",
    "print(\"Number of unique sessions in dtf:\", len(df['session_time'].unique()))\n",
    "print('--------------------------------------------------')"
   ]
  },
  {
   "attachments": {},
   "cell_type": "markdown",
   "metadata": {},
   "source": [
    "### Wins in a row"
   ]
  },
  {
   "cell_type": "code",
   "execution_count": 7,
   "metadata": {},
   "outputs": [],
   "source": [
    "# Ude consecutive functions to find 2ws, 3ws, 4ws in a row in each dataset per visit per player\n",
    "df_s = pf.consecutive_wins(df, 'session_time')"
   ]
  },
  {
   "cell_type": "code",
   "execution_count": 8,
   "metadata": {},
   "outputs": [
    {
     "name": "stdout",
     "output_type": "stream",
     "text": [
      "Categories of wins in a row per session:\n",
      "                              #2ws   #3ws   #4ws\n",
      "clasification session_time                      \n",
      "top_1         1             2828.0  559.0  226.0\n",
      "              2             1522.0  279.0  103.0\n",
      "              3              874.0  146.0   62.0\n",
      "              4              298.0   84.0   34.0\n",
      "              5              104.0   17.0    5.0\n",
      "              6               64.0   14.0    2.0\n",
      "              7                5.0    2.0    0.0\n",
      "              8                6.0    1.0    0.0\n",
      "              9                6.0    1.0    0.0\n",
      "              10               3.0    1.0    0.0\n",
      "top_10        1             3113.0  551.0  194.0\n",
      "              2             1139.0  211.0   60.0\n",
      "              3              328.0   64.0   18.0\n",
      "              4              110.0   14.0    8.0\n",
      "              5               39.0   12.0    2.0\n",
      "              6               12.0    3.0    2.0\n",
      "              7                2.0    1.0    0.0\n",
      "              8                0.0    0.0    0.0\n",
      "top_5         1             4125.0  812.0  271.0\n",
      "              2             1727.0  310.0   96.0\n",
      "              3              956.0  170.0   41.0\n",
      "              4              355.0   52.0   19.0\n",
      "              5              117.0   23.0   10.0\n",
      "              6               47.0    7.0    5.0\n",
      "              7               10.0    3.0    0.0\n",
      "              8                7.0    4.0    1.0\n",
      "              9                1.0    1.0    0.0\n",
      "--------------------------------------------------\n"
     ]
    }
   ],
   "source": [
    "# Print the numner of total number of 2 wins, 3 wins, 4 wins in a row in each dataset\n",
    "print('Categories of wins in a row per session:')\n",
    "print(df_s.groupby(['clasification', 'session_time'])[['#2ws', '#3ws', '#4ws']].sum())\n",
    "print('--------------------------------------------------')"
   ]
  },
  {
   "cell_type": "code",
   "execution_count": 9,
   "metadata": {},
   "outputs": [],
   "source": [
    "# Ude consecutive functions to find 2ws, 3ws, 4ws in a row in each dataset per session_time per player\n",
    "df = pf.consecutive_wins(df, 'visit')"
   ]
  },
  {
   "cell_type": "code",
   "execution_count": 10,
   "metadata": {},
   "outputs": [
    {
     "name": "stdout",
     "output_type": "stream",
     "text": [
      "Categories of wins in a row per visit:\n",
      "                       #2ws   #3ws   #4ws\n",
      "clasification visit                      \n",
      "top_1         1      1746.0  360.0  109.0\n",
      "              2      1512.0  286.0  110.0\n",
      "              3      1230.0  220.0   76.0\n",
      "              4       684.0  123.0   70.0\n",
      "              5       309.0   52.0   23.0\n",
      "              6       101.0   23.0   15.0\n",
      "              7        38.0   19.0   15.0\n",
      "              8        67.0   20.0   14.0\n",
      "              9         2.0    0.0    0.0\n",
      "              10       17.0    2.0    0.0\n",
      "top_10        1      2569.0  488.0  139.0\n",
      "              2      1425.0  229.0   86.0\n",
      "              3       570.0  107.0   43.0\n",
      "              4       149.0   31.0   15.0\n",
      "              5        24.0    3.0    1.0\n",
      "              6         9.0    1.0    0.0\n",
      "              7         0.0    0.0    0.0\n",
      "top_5         1      3229.0  609.0  192.0\n",
      "              2      2588.0  468.0  159.0\n",
      "              3      1029.0  222.0   63.0\n",
      "              4       390.0   66.0   25.0\n",
      "              5        91.0   13.0    4.0\n",
      "              6        17.0    3.0    0.0\n",
      "              7         1.0    0.0    0.0\n",
      "--------------------------------------------------\n"
     ]
    }
   ],
   "source": [
    "# Print the numner of total number of 2 wins, 3 wins, 4 wins in a row in each dataset\n",
    "print('Categories of wins in a row per visit:')\n",
    "print(df.groupby(['clasification', 'visit'])[['#2ws', '#3ws', '#4ws']].sum())\n",
    "print('--------------------------------------------------')\n"
   ]
  },
  {
   "attachments": {},
   "cell_type": "markdown",
   "metadata": {},
   "source": [
    "### Gender Differences"
   ]
  },
  {
   "cell_type": "code",
   "execution_count": 11,
   "metadata": {},
   "outputs": [
    {
     "name": "stdout",
     "output_type": "stream",
     "text": [
      "Number of unique players in dtf:\n",
      "clasification  gender\n",
      "top_1          F          34\n",
      "               M          22\n",
      "top_10         F         129\n",
      "               M         149\n",
      "top_5          F         106\n",
      "               M         117\n",
      "Name: playerkey, dtype: int64\n",
      "--------------------------------------------------\n"
     ]
    }
   ],
   "source": [
    "# Gender differences\n",
    "print(\"Number of unique players in dtf:\")\n",
    "print(df.groupby(['clasification', 'gender'])['playerkey'].nunique())\n",
    "print('--------------------------------------------------')"
   ]
  },
  {
   "attachments": {},
   "cell_type": "markdown",
   "metadata": {},
   "source": [
    "### Age Differences"
   ]
  },
  {
   "cell_type": "code",
   "execution_count": 12,
   "metadata": {},
   "outputs": [],
   "source": [
    "# Create age ranges \n",
    "bins = [0, 24, 40, 55, 75, 150]\n",
    "labels = ['18-24', '25-40', '41-55', '56-75', '76+']\n",
    "generations = ['Gen Z', 'Millenials', 'Gen X', 'Baby Boomers', 'Silent']\n",
    "\n",
    "# Use cut function to create age ranges for dtf and top 20%\n",
    "df['age_range'] = pd.cut(df['age'], bins=bins, labels=labels, right=False)\n",
    "df['age_gen'] = pd.cut(df['age'], bins=bins, labels=generations, right=False)\n",
    "\n",
    "df_s['age_range'] = pd.cut(df_s['age'], bins=bins, labels=labels, right=False)\n",
    "df_s['age_gen'] = pd.cut(df_s['age'], bins=bins, labels=generations, right=False)"
   ]
  },
  {
   "cell_type": "code",
   "execution_count": 13,
   "metadata": {},
   "outputs": [
    {
     "name": "stdout",
     "output_type": "stream",
     "text": [
      "Number of unique players in dtf:\n"
     ]
    },
    {
     "name": "stdout",
     "output_type": "stream",
     "text": [
      "clasification  age_range\n",
      "top_1          18-24          0\n",
      "               25-40          2\n",
      "               41-55         25\n",
      "               56-75         27\n",
      "               76+            2\n",
      "top_10         18-24          1\n",
      "               25-40         57\n",
      "               41-55         89\n",
      "               56-75        123\n",
      "               76+            8\n",
      "top_5          18-24          1\n",
      "               25-40         27\n",
      "               41-55         81\n",
      "               56-75        107\n",
      "               76+            7\n",
      "Name: playerkey, dtype: int64\n",
      "--------------------------------------------------\n"
     ]
    }
   ],
   "source": [
    "# Age range differences\n",
    "print(\"Number of unique players in dtf:\")\n",
    "print(df.groupby(['clasification', 'age_range'])['playerkey'].nunique())\n",
    "print('--------------------------------------------------')\n"
   ]
  },
  {
   "cell_type": "code",
   "execution_count": 14,
   "metadata": {},
   "outputs": [
    {
     "name": "stdout",
     "output_type": "stream",
     "text": [
      "Number of unique players in dtf:\n",
      "clasification  age_gen     \n",
      "top_1          Gen Z             0\n",
      "               Millenials        2\n",
      "               Gen X            25\n",
      "               Baby Boomers     27\n",
      "               Silent            2\n",
      "top_10         Gen Z             1\n",
      "               Millenials       57\n",
      "               Gen X            89\n",
      "               Baby Boomers    123\n",
      "               Silent            8\n",
      "top_5          Gen Z             1\n",
      "               Millenials       27\n",
      "               Gen X            81\n",
      "               Baby Boomers    107\n",
      "               Silent            7\n",
      "Name: playerkey, dtype: int64\n"
     ]
    }
   ],
   "source": [
    "# Age range differences\n",
    "print(\"Number of unique players in dtf:\")\n",
    "print(df_s.groupby(['clasification', 'age_gen'])['playerkey'].nunique())"
   ]
  },
  {
   "cell_type": "code",
   "execution_count": 15,
   "metadata": {},
   "outputs": [
    {
     "name": "stdout",
     "output_type": "stream",
     "text": [
      "Number of unique players in dtf:\n",
      "clasification  age_gen     \n",
      "top_1          Gen Z             0\n",
      "               Millenials        2\n",
      "               Gen X            25\n",
      "               Baby Boomers     27\n",
      "               Silent            2\n",
      "top_10         Gen Z             1\n",
      "               Millenials       57\n",
      "               Gen X            89\n",
      "               Baby Boomers    123\n",
      "               Silent            8\n",
      "top_5          Gen Z             1\n",
      "               Millenials       27\n",
      "               Gen X            81\n",
      "               Baby Boomers    107\n",
      "               Silent            7\n",
      "Name: playerkey, dtype: int64\n",
      "--------------------------------------------------\n"
     ]
    }
   ],
   "source": [
    "# Age generation differences\n",
    "print(\"Number of unique players in dtf:\")\n",
    "print(df.groupby(['clasification', 'age_gen'])['playerkey'].nunique())\n",
    "print('--------------------------------------------------')"
   ]
  },
  {
   "cell_type": "code",
   "execution_count": 16,
   "metadata": {},
   "outputs": [
    {
     "name": "stdout",
     "output_type": "stream",
     "text": [
      "Male age differences in dtf:\n",
      "age_range\n",
      "18-24      1\n",
      "25-40     55\n",
      "41-55    113\n",
      "56-75    113\n",
      "76+        6\n",
      "Name: playerkey, dtype: int64\n",
      "--------------------------------------------------\n",
      "Female age differences in dtf:\n",
      "age_range\n",
      "18-24      1\n",
      "25-40     31\n",
      "41-55     82\n",
      "56-75    144\n",
      "76+       11\n",
      "Name: playerkey, dtype: int64\n"
     ]
    },
    {
     "data": {
      "image/png": "[encoded data removed]",
      "text/plain": [
       "<Figure size 1000x500 with 2 Axes>"
      ]
     },
     "metadata": {},
     "output_type": "display_data"
    }
   ],
   "source": [
    "# Age range of male gamblers in dtf\n",
    "print(\"Male age differences in dtf:\")\n",
    "print(df[df['gender'] == 'M'].groupby('age_range')['playerkey'].nunique())\n",
    "print('--------------------------------------------------')\n",
    "# Age range of Female gamblers in dtf\n",
    "print('Female age differences in dtf:')\n",
    "print(df[df['gender'] == 'F'].groupby('age_range')['playerkey'].nunique())\n",
    "\n",
    "pf.plot_gender_diff(df, 'dtf', figsize=(10, 5))\n"
   ]
  },
  {
   "attachments": {},
   "cell_type": "markdown",
   "metadata": {},
   "source": [
    "### Increse and Decrease of SlotDenomination and Bet"
   ]
  },
  {
   "cell_type": "code",
   "execution_count": 17,
   "metadata": {},
   "outputs": [
    {
     "name": "stdout",
     "output_type": "stream",
     "text": [
      "Count of players who increase_slotdeno : 436\n",
      "Count of times each player increase_slotdeno : {20: 189, 224: 15, 1069: 1, 1166: 11, 1233: 42, 1959: 7, 6695: 4, 7967: 4, 8978: 19, 9510: 9, 10738: 249, 11584: 2, 12277: 22, 15736: 4, 18082: 1, 23267: 3, 23321: 19, 28710: 2, 32477: 70, 41839: 42, 41939: 2, 42204: 2, 42589: 4, 42613: 308, 42727: 11, 42764: 1, 42832: 2, 42955: 19, 42956: 35, 43364: 751, 43421: 8, 43447: 2, 43526: 5, 43754: 7, 43781: 6, 43820: 2, 44309: 7, 44327: 6, 44603: 19, 44641: 36, 45449: 20, 45604: 5, 45630: 8, 45680: 5, 45719: 1, 45790: 7, 46207: 5, 46281: 3, 46697: 26, 46901: 11, 47275: 42, 47295: 2, 47918: 5, 865: 2, 1442: 3, 2073: 1, 3127: 18, 3634: 25, 4252: 1, 4265: 5, 5147: 4, 5879: 28, 5969: 13, 6271: 13, 6365: 21, 6829: 1, 7195: 1, 7689: 5, 7695: 6, 7933: 3, 8233: 262, 8412: 3, 8465: 2, 10248: 5, 10348: 1, 10349: 2, 12192: 2, 13910: 7, 14778: 1, 15389: 36, 17472: 194, 17497: 7, 18617: 1, 19166: 2, 20496: 2, 23045: 8, 23311: 2, 26502: 2, 27510: 1, 28705: 3, 31032: 2, 32887: 6, 34520: 2, 37278: 4, 38493: 1, 40628: 8, 41690: 7, 41716: 9, 41872: 2, 42103: 1, 42244: 7, 42477: 16, 42502: 1, 42518: 5, 42560: 5, 42593: 3, 42596: 4, 42632: 8, 42651: 3, 42656: 2, 42684: 4, 42722: 3, 42723: 5, 42726: 8, 42731: 2, 42752: 5, 42758: 4, 42763: 1, 42833: 2, 42911: 2, 43004: 2, 43018: 1, 43063: 15, 43146: 1, 43153: 1, 43182: 3, 43184: 1, 43287: 8, 43341: 1, 43346: 147, 43387: 11, 43416: 4, 43438: 18, 43441: 1, 43511: 13, 43512: 2, 43573: 4, 43576: 3, 43652: 4, 43670: 1, 43673: 2, 43735: 94, 43747: 37, 43790: 2, 43866: 1, 43916: 2, 43919: 28, 43962: 6, 44052: 6, 44056: 2, 44163: 1, 44169: 3, 44170: 3, 44196: 3, 44222: 98, 44252: 1, 44261: 6, 44268: 1, 44273: 4, 44275: 3, 44303: 5, 44326: 6, 44393: 5, 44394: 7, 44420: 3, 44441: 6, 44459: 3, 44488: 3, 44502: 3, 44570: 18, 44640: 5, 44651: 2, 44731: 2, 44766: 6, 44791: 3, 44804: 2, 44807: 4, 44858: 4, 44920: 2, 45003: 1, 45042: 4, 45051: 5, 45078: 2, 45113: 1, 45157: 3, 45224: 5, 45243: 5, 45260: 2, 45275: 11, 45283: 8, 45288: 12, 45299: 1, 45310: 1, 45531: 8, 45532: 2, 45570: 17, 45580: 1, 45605: 18, 45691: 2, 45739: 1, 45793: 7, 45810: 1, 45811: 1, 45820: 194, 45873: 5, 45923: 1, 45953: 4, 46008: 132, 46012: 4, 46062: 3, 46070: 7, 46139: 28, 46199: 7, 46206: 23, 46376: 2, 46468: 15, 46522: 5, 46609: 24, 46639: 2, 46707: 5, 46710: 1, 46720: 7, 46746: 4, 46750: 2, 46794: 1, 46797: 130, 46828: 4, 46829: 6, 46961: 95, 47055: 3, 47084: 1, 47136: 4, 47224: 11, 47304: 3, 47388: 2, 47412: 4, 47471: 73, 47485: 3, 47530: 5, 47643: 13, 47704: 2, 47737: 11, 47760: 5, 47788: 1, 47819: 5, 47841: 2, 2029: 2, 2070: 1, 2099: 1, 2710: 2, 6234: 3, 8005: 3, 9011: 4, 9031: 4, 10119: 2, 11474: 1, 12692: 2, 14128: 1, 14868: 6, 15612: 5, 16192: 1, 19285: 6, 19351: 1, 19415: 2, 20149: 1, 23779: 1, 24171: 3, 25362: 4, 28671: 1, 31058: 1, 37000: 1, 38229: 3, 38494: 2, 38603: 2, 41267: 1, 41606: 3, 41665: 8, 41726: 3, 41840: 3, 41848: 2, 42029: 5, 42073: 5, 42145: 2, 42254: 3, 42269: 2, 42302: 3, 42334: 2, 42414: 1, 42428: 1, 42446: 1, 42478: 4, 42497: 9, 42540: 2, 42545: 5, 42548: 1, 42564: 1, 42626: 1, 42657: 3, 42709: 11, 42740: 1, 42829: 1, 42835: 2, 42908: 9, 42931: 1, 43024: 1, 43095: 1, 43098: 1, 43113: 1, 43123: 3, 43124: 1, 43131: 1, 43282: 4, 43291: 122, 43309: 2, 43357: 12, 43376: 8, 43431: 2, 43437: 5, 43454: 1, 43462: 1, 43506: 8, 43570: 3, 43613: 1, 43724: 2, 43772: 13, 43784: 4, 43798: 3, 43800: 1, 43821: 313, 43822: 1, 43828: 2, 43888: 2, 43895: 1, 43988: 10, 43991: 1, 43992: 2, 44019: 1, 44033: 1, 44097: 1, 44107: 4, 44147: 1, 44157: 1, 44245: 1, 44259: 9, 44265: 2, 44373: 4, 44402: 2, 44414: 4, 44450: 1, 44466: 2, 44515: 1, 44526: 2, 44533: 1, 44569: 1, 44593: 1, 44618: 2, 44650: 1, 44656: 5, 44679: 3, 44803: 1, 44843: 1, 44853: 1, 44939: 3, 44963: 2, 44972: 4, 44986: 12, 45044: 1, 45058: 6, 45063: 1, 45070: 2, 45076: 4, 45147: 2, 45153: 1, 45175: 2, 45194: 2, 45229: 1, 45277: 3, 45285: 3, 45311: 1, 45347: 5, 45359: 3, 45423: 1, 45456: 3, 45492: 3, 45500: 2, 45561: 1, 45579: 4, 45617: 4, 45618: 1, 45623: 4, 45686: 5, 45703: 1, 45734: 5, 45782: 13, 45792: 4, 45824: 1, 45827: 8, 45874: 5, 45922: 1, 45956: 126, 45968: 2, 46024: 3, 46034: 2, 46104: 2, 46112: 3, 46115: 2, 46162: 1, 46195: 3, 46215: 2, 46237: 2, 46298: 2, 46666: 7, 46728: 1, 46729: 5, 46736: 3, 46761: 4, 46785: 3, 46787: 6, 46788: 2, 46826: 1, 46945: 2, 46992: 1, 47054: 1, 47081: 1, 47092: 3, 47110: 132, 47211: 48, 47260: 1, 47317: 5, 47336: 4, 47400: 28, 47410: 4, 47484: 4, 47667: 1, 47778: 3, 47979: 1}\n",
      "Player who changes the most: 43364\n",
      "------------------------------------------------------------------------------------------------------------------\n",
      "Count of players who decrease_slotdeno : 439\n",
      "Count of times each player decrease_slotdeno : {20: 185, 224: 16, 1069: 1, 1166: 10, 1233: 32, 1959: 8, 6695: 4, 7967: 3, 8978: 21, 9510: 8, 10738: 251, 12277: 22, 15736: 7, 18082: 2, 23267: 4, 23321: 16, 28710: 1, 32477: 69, 41839: 41, 41939: 2, 42204: 3, 42589: 5, 42613: 300, 42727: 7, 42764: 1, 42832: 3, 42955: 19, 42956: 35, 43364: 750, 43421: 9, 43447: 1, 43526: 3, 43754: 10, 43781: 9, 43820: 2, 44309: 9, 44327: 7, 44603: 19, 44641: 36, 45449: 16, 45604: 3, 45630: 9, 45680: 4, 45719: 2, 45790: 7, 46207: 4, 46281: 4, 46697: 25, 46901: 10, 47275: 39, 47295: 1, 47918: 8, 865: 1, 1442: 2, 2073: 1, 3127: 21, 3634: 27, 4252: 1, 4265: 4, 5147: 3, 5879: 26, 5969: 16, 6271: 15, 6365: 19, 6829: 2, 7689: 4, 7695: 5, 7933: 1, 8233: 262, 8412: 1, 10248: 6, 10349: 1, 12192: 2, 13910: 7, 14778: 1, 15389: 36, 17472: 194, 17497: 5, 18617: 1, 19166: 1, 20496: 1, 20557: 1, 23045: 8, 23311: 2, 27510: 1, 28705: 3, 31032: 2, 32887: 5, 34520: 1, 36654: 1, 37278: 4, 38493: 1, 40628: 6, 41690: 8, 41716: 8, 41872: 2, 42103: 1, 42244: 6, 42477: 17, 42502: 1, 42518: 8, 42560: 6, 42593: 4, 42596: 4, 42632: 6, 42651: 4, 42656: 2, 42684: 2, 42722: 2, 42723: 4, 42726: 7, 42731: 1, 42752: 6, 42758: 4, 42763: 1, 42833: 4, 42911: 2, 43004: 2, 43018: 1, 43063: 15, 43146: 1, 43153: 1, 43182: 5, 43184: 2, 43287: 6, 43341: 3, 43346: 148, 43387: 13, 43416: 3, 43438: 17, 43511: 11, 43512: 2, 43573: 5, 43576: 2, 43652: 4, 43670: 2, 43673: 2, 43735: 94, 43747: 36, 43790: 1, 43866: 2, 43916: 2, 43919: 27, 43962: 5, 44052: 4, 44056: 2, 44142: 1, 44163: 1, 44169: 4, 44170: 3, 44196: 2, 44222: 99, 44261: 6, 44273: 4, 44275: 5, 44303: 4, 44326: 3, 44393: 3, 44394: 4, 44420: 2, 44441: 6, 44459: 3, 44488: 5, 44502: 1, 44570: 20, 44640: 3, 44651: 3, 44731: 1, 44766: 7, 44791: 4, 44804: 4, 44807: 5, 44858: 4, 44920: 1, 45003: 2, 45042: 2, 45051: 5, 45078: 2, 45157: 3, 45224: 5, 45243: 5, 45260: 1, 45275: 11, 45283: 7, 45288: 7, 45299: 2, 45310: 1, 45490: 1, 45531: 10, 45532: 3, 45570: 17, 45605: 14, 45691: 2, 45739: 1, 45793: 7, 45810: 2, 45811: 1, 45820: 193, 45873: 6, 45923: 1, 45953: 5, 46008: 132, 46012: 3, 46062: 1, 46070: 8, 46139: 29, 46199: 6, 46206: 18, 46376: 3, 46468: 12, 46522: 5, 46609: 27, 46639: 2, 46707: 5, 46710: 1, 46720: 5, 46746: 4, 46750: 2, 46794: 1, 46797: 131, 46828: 2, 46829: 4, 46961: 98, 47055: 2, 47084: 1, 47136: 4, 47224: 10, 47304: 3, 47388: 2, 47412: 4, 47471: 73, 47485: 2, 47530: 2, 47640: 1, 47643: 16, 47704: 2, 47737: 9, 47760: 5, 47788: 1, 47819: 4, 47841: 2, 2015: 1, 2070: 3, 2099: 2, 2710: 2, 3825: 1, 6234: 2, 8005: 2, 9011: 5, 9031: 4, 9191: 1, 10119: 4, 11474: 1, 12692: 2, 14128: 2, 14868: 6, 15612: 4, 16192: 1, 19285: 4, 19351: 1, 19415: 1, 20149: 1, 23164: 1, 23779: 4, 24171: 4, 25362: 3, 28671: 2, 31058: 1, 37000: 1, 38229: 2, 38494: 2, 38603: 1, 41267: 1, 41606: 2, 41665: 4, 41726: 4, 41840: 2, 41848: 2, 41953: 1, 42029: 4, 42073: 5, 42102: 1, 42145: 2, 42254: 4, 42269: 1, 42302: 4, 42334: 1, 42414: 2, 42428: 2, 42446: 1, 42478: 5, 42497: 8, 42540: 2, 42545: 6, 42548: 1, 42564: 1, 42626: 1, 42657: 3, 42709: 12, 42740: 1, 42829: 2, 42835: 2, 42908: 8, 42931: 1, 43024: 2, 43095: 1, 43098: 1, 43113: 2, 43123: 2, 43124: 3, 43282: 3, 43291: 122, 43309: 2, 43357: 9, 43376: 9, 43431: 2, 43437: 6, 43454: 1, 43462: 1, 43506: 7, 43570: 2, 43613: 2, 43629: 1, 43724: 2, 43744: 1, 43772: 12, 43784: 2, 43798: 2, 43800: 1, 43821: 312, 43822: 1, 43828: 2, 43888: 2, 43895: 1, 43960: 1, 43988: 9, 43991: 2, 43992: 2, 44019: 1, 44021: 1, 44033: 2, 44097: 2, 44107: 3, 44245: 2, 44259: 6, 44265: 1, 44373: 3, 44384: 1, 44402: 1, 44414: 3, 44431: 1, 44466: 2, 44515: 2, 44526: 1, 44533: 1, 44569: 1, 44593: 1, 44618: 1, 44650: 2, 44656: 4, 44679: 3, 44803: 2, 44939: 3, 44963: 1, 44972: 4, 44986: 11, 45044: 3, 45058: 5, 45070: 2, 45076: 4, 45147: 2, 45153: 1, 45175: 5, 45194: 2, 45229: 1, 45277: 2, 45285: 2, 45311: 2, 45347: 6, 45359: 2, 45423: 1, 45456: 3, 45492: 2, 45500: 3, 45519: 1, 45543: 1, 45560: 1, 45579: 4, 45617: 3, 45618: 1, 45623: 4, 45686: 7, 45690: 1, 45703: 1, 45734: 3, 45782: 13, 45792: 5, 45827: 7, 45839: 3, 45874: 5, 45922: 2, 45956: 124, 45968: 1, 46017: 1, 46024: 3, 46034: 2, 46104: 3, 46112: 4, 46115: 3, 46195: 2, 46215: 2, 46237: 2, 46298: 2, 46666: 6, 46679: 1, 46728: 2, 46729: 4, 46736: 2, 46761: 3, 46785: 3, 46787: 5, 46788: 3, 46945: 2, 46992: 1, 47054: 1, 47081: 1, 47092: 3, 47110: 132, 47198: 1, 47211: 48, 47260: 1, 47317: 4, 47336: 1, 47400: 27, 47410: 2, 47484: 3, 47667: 1, 47778: 4, 47979: 1}\n",
      "Player who changes the most: 43364\n",
      "------------------------------------------------------------------------------------------------------------------\n",
      "Count of players who increase_maxbet : 465\n",
      "Count of times each player increase_maxbet : {20: 3, 224: 20, 1233: 6, 1959: 11, 6695: 3, 7967: 3, 8978: 9, 9510: 8, 10738: 204, 11334: 8, 12277: 47, 15736: 5, 23267: 5, 23321: 28, 28710: 4, 32477: 677, 41839: 96, 41939: 4, 42204: 12, 42589: 6, 42613: 20, 42727: 5, 42832: 3, 42955: 4, 42956: 26, 43364: 637, 43421: 18, 43526: 5, 43754: 7, 43781: 14, 43820: 3, 44309: 48, 44327: 11, 44641: 20, 45162: 1, 45449: 64, 45604: 4, 45630: 15, 45680: 4, 45719: 6, 45790: 14, 46207: 2, 46281: 6, 46697: 20, 46901: 22, 47275: 26, 47295: 1, 47918: 40, 865: 5, 1026: 1, 3127: 2, 3634: 33, 4252: 1, 4265: 2, 5147: 2, 5879: 26, 5969: 16, 6271: 12, 6365: 22, 6829: 3, 7195: 263, 7689: 7, 7695: 7, 7933: 1, 8233: 263, 8412: 3, 8464: 5, 10248: 8, 10922: 6, 12192: 2, 13910: 6, 14778: 6, 15389: 43, 17472: 236, 18617: 3, 19166: 76, 20496: 3, 23045: 7, 23311: 3, 27510: 2, 28705: 3, 31032: 2, 32887: 6, 34520: 1, 36654: 2, 38493: 1, 40628: 4, 41690: 8, 41716: 6, 41833: 16, 41872: 3, 42103: 3, 42244: 11, 42430: 63, 42477: 27, 42502: 7, 42518: 7, 42560: 11, 42593: 5, 42596: 4, 42632: 12, 42651: 10, 42656: 3, 42684: 6, 42722: 3, 42723: 3, 42726: 11, 42758: 48, 42763: 1, 42833: 2, 42911: 5, 43004: 2, 43018: 8, 43063: 20, 43146: 11, 43153: 5, 43182: 1, 43184: 3, 43287: 6, 43341: 5, 43346: 150, 43387: 16, 43416: 7, 43438: 15, 43441: 2, 43459: 1, 43511: 15, 43512: 3, 43553: 15, 43573: 10, 43576: 6, 43652: 10, 43670: 2, 43673: 6, 43716: 1, 43735: 98, 43747: 35, 43790: 7, 43866: 2, 43916: 2, 43919: 27, 43962: 10, 44052: 8, 44056: 1, 44113: 1, 44142: 1, 44163: 3, 44169: 6, 44170: 6, 44196: 4, 44222: 4, 44252: 4, 44261: 3, 44268: 1, 44273: 6, 44275: 2, 44303: 9, 44326: 6, 44393: 5, 44394: 4, 44420: 6, 44441: 7, 44459: 2, 44488: 7, 44502: 202, 44570: 8, 44640: 4, 44686: 13, 44731: 3, 44766: 9, 44791: 4, 44804: 4, 44807: 5, 44858: 7, 44920: 3, 45003: 2, 45042: 3, 45051: 7, 45078: 3, 45113: 1, 45157: 1, 45224: 7, 45243: 7, 45260: 2, 45275: 10, 45283: 6, 45288: 11, 45310: 16, 45324: 2, 45330: 5, 45490: 3, 45531: 4, 45532: 5, 45570: 10, 45580: 2, 45605: 10, 45691: 10, 45739: 1, 45793: 10, 45810: 2, 45811: 1, 45820: 284, 45873: 8, 45923: 1, 45953: 5, 46008: 177, 46012: 1, 46070: 11, 46139: 103, 46199: 9, 46206: 14, 46376: 4, 46468: 19, 46486: 1, 46522: 37, 46609: 24, 46639: 12, 46707: 33, 46710: 4, 46720: 7, 46746: 6, 46750: 5, 46794: 1, 46828: 4, 46829: 3, 46961: 85, 47052: 5, 47084: 2, 47136: 5, 47224: 11, 47304: 3, 47388: 4, 47412: 7, 47471: 73, 47485: 4, 47530: 2, 47555: 3, 47643: 18, 47704: 4, 47737: 3, 47760: 7, 47788: 1, 47819: 3, 1922: 2, 2015: 2, 2070: 2, 2099: 4, 3825: 1, 6234: 2, 8005: 1, 9011: 6, 9031: 5, 9361: 1, 10119: 5, 11474: 3, 12692: 8, 14128: 2, 14868: 2, 15612: 4, 19285: 1, 19351: 1, 19774: 1, 20149: 2, 22942: 2, 23164: 1, 23779: 1, 24171: 5, 26433: 4, 28595: 1, 28671: 3, 31058: 2, 33004: 3, 36285: 2, 37000: 1, 38229: 2, 38494: 1, 38603: 2, 40693: 287, 41267: 22, 41665: 2, 41726: 4, 41840: 3, 41848: 3, 42029: 10, 42073: 5, 42102: 5, 42145: 6, 42156: 4, 42254: 1, 42269: 1, 42302: 4, 42334: 1, 42414: 3, 42428: 3, 42446: 1, 42478: 17, 42497: 4, 42520: 1, 42539: 3, 42540: 4, 42545: 11, 42548: 1, 42564: 2, 42571: 2, 42590: 2, 42626: 1, 42657: 7, 42709: 20, 42729: 11, 42740: 2, 42829: 1, 42835: 3, 42908: 1, 42931: 3, 43095: 16, 43098: 5, 43113: 1, 43123: 5, 43124: 3, 43282: 4, 43291: 123, 43309: 3, 43329: 2, 43357: 6, 43376: 11, 43431: 2, 43437: 7, 43454: 2, 43506: 10, 43552: 6, 43570: 3, 43574: 1, 43613: 2, 43717: 2, 43718: 1, 43724: 5, 43772: 15, 43784: 1, 43798: 2, 43807: 4, 43821: 312, 43822: 2, 43828: 2, 43888: 2, 43895: 1, 43960: 2, 43988: 9, 43991: 2, 43992: 2, 44019: 3, 44021: 2, 44033: 3, 44097: 4, 44107: 2, 44147: 99, 44245: 2, 44259: 5, 44265: 3, 44342: 1, 44373: 1, 44384: 3, 44402: 6, 44414: 5, 44431: 1, 44466: 1, 44515: 1, 44526: 2, 44569: 2, 44593: 2, 44618: 3, 44650: 3, 44656: 4, 44679: 10, 44803: 2, 44853: 2, 44939: 7, 44963: 1, 44972: 4, 44986: 15, 45044: 2, 45058: 6, 45070: 2, 45076: 6, 45147: 2, 45153: 6, 45175: 6, 45194: 3, 45229: 3, 45277: 2, 45285: 3, 45311: 2, 45347: 4, 45359: 1, 45423: 1, 45456: 5, 45492: 1, 45500: 10, 45519: 1, 45543: 1, 45560: 1, 45561: 1, 45579: 1, 45617: 4, 45618: 1, 45623: 2, 45686: 6, 45690: 1, 45703: 1, 45734: 3, 45782: 1, 45792: 5, 45824: 1, 45827: 15, 45839: 3, 45866: 1, 45874: 6, 45922: 2, 45966: 1, 45968: 3, 46007: 1, 46011: 2, 46017: 1, 46024: 10, 46034: 3, 46058: 2, 46080: 4, 46104: 3, 46112: 5, 46115: 6, 46162: 1, 46195: 6, 46208: 1, 46215: 3, 46256: 3, 46298: 2, 46666: 2, 46679: 1, 46728: 1, 46729: 6, 46736: 2, 46761: 8, 46785: 4, 46787: 2, 46788: 3, 46826: 12, 46859: 1, 46945: 2, 46992: 2, 47054: 1, 47081: 2, 47092: 12, 47110: 42, 47198: 3, 47211: 105, 47260: 6, 47317: 2, 47400: 28, 47410: 2, 47484: 4, 47534: 1, 47579: 2, 47667: 2, 47708: 1, 47778: 5, 47979: 3}\n",
      "Player who changes the most: 32477\n",
      "------------------------------------------------------------------------------------------------------------------\n",
      "Count of players who decrease_maxbet : 462\n",
      "Count of times each player decrease_maxbet : {20: 3, 224: 18, 1233: 6, 1959: 8, 6695: 3, 7967: 4, 8978: 9, 9510: 13, 10738: 202, 11334: 7, 11584: 2, 12277: 42, 15736: 4, 23267: 4, 23321: 24, 28710: 3, 32477: 682, 41839: 98, 41939: 5, 42204: 9, 42589: 4, 42613: 24, 42727: 8, 42832: 4, 42955: 4, 42956: 26, 43364: 635, 43421: 19, 43526: 4, 43754: 7, 43781: 14, 43820: 3, 44309: 50, 44327: 8, 44641: 21, 45162: 1, 45449: 64, 45604: 5, 45630: 16, 45680: 5, 45719: 3, 45790: 17, 46207: 3, 46281: 4, 46697: 19, 46901: 22, 47275: 27, 47295: 2, 47918: 37, 865: 6, 1442: 2, 2073: 1, 3127: 2, 3634: 33, 4252: 1, 4265: 2, 5147: 3, 5879: 28, 5969: 20, 6271: 10, 6365: 19, 6829: 2, 7195: 263, 7689: 8, 7695: 9, 7933: 1, 8233: 263, 8412: 4, 8464: 4, 10248: 6, 10348: 1, 10922: 5, 12192: 2, 13910: 8, 14778: 4, 15389: 42, 17472: 235, 18617: 3, 19166: 78, 20496: 4, 23045: 8, 23311: 2, 26502: 2, 27510: 3, 28705: 3, 31032: 2, 32887: 7, 34520: 2, 36654: 1, 38493: 1, 40628: 4, 41690: 6, 41716: 6, 41833: 15, 41872: 3, 42103: 3, 42244: 10, 42430: 62, 42477: 26, 42502: 5, 42518: 6, 42560: 12, 42593: 4, 42596: 4, 42632: 14, 42651: 9, 42656: 3, 42684: 13, 42722: 3, 42723: 3, 42726: 11, 42758: 47, 42763: 1, 42833: 2, 42911: 5, 43004: 2, 43018: 5, 43063: 16, 43146: 8, 43153: 1, 43182: 1, 43184: 2, 43287: 10, 43341: 5, 43346: 149, 43387: 12, 43416: 10, 43438: 17, 43441: 4, 43459: 1, 43511: 21, 43512: 3, 43553: 9, 43573: 11, 43576: 6, 43652: 7, 43670: 2, 43673: 5, 43735: 94, 43747: 38, 43790: 4, 43866: 2, 43916: 4, 43919: 28, 43962: 8, 44052: 11, 44056: 1, 44163: 2, 44169: 7, 44170: 6, 44196: 4, 44222: 5, 44252: 5, 44261: 3, 44268: 1, 44273: 4, 44275: 3, 44303: 10, 44326: 5, 44393: 10, 44394: 6, 44420: 6, 44441: 8, 44459: 1, 44488: 6, 44502: 204, 44570: 4, 44640: 8, 44686: 11, 44731: 5, 44766: 6, 44791: 3, 44804: 3, 44807: 4, 44858: 10, 44920: 2, 45003: 1, 45042: 4, 45051: 7, 45078: 3, 45113: 3, 45157: 1, 45224: 7, 45243: 5, 45260: 1, 45275: 11, 45283: 7, 45288: 16, 45299: 1, 45310: 15, 45324: 1, 45330: 3, 45490: 4, 45531: 4, 45532: 4, 45570: 11, 45580: 3, 45605: 12, 45691: 7, 45739: 1, 45793: 6, 45810: 3, 45811: 2, 45820: 287, 45873: 8, 45923: 1, 45953: 5, 46008: 176, 46012: 2, 46070: 10, 46139: 103, 46199: 7, 46206: 15, 46376: 2, 46468: 24, 46522: 39, 46609: 29, 46639: 10, 46707: 30, 46710: 2, 46720: 12, 46746: 5, 46750: 5, 46794: 2, 46828: 4, 46829: 5, 46961: 83, 47052: 7, 47084: 1, 47136: 4, 47224: 13, 47304: 3, 47388: 5, 47412: 9, 47471: 73, 47485: 3, 47530: 2, 47555: 2, 47640: 1, 47643: 18, 47704: 5, 47737: 2, 47760: 6, 47788: 1, 47819: 3, 1922: 4, 2015: 1, 2070: 2, 2099: 5, 6234: 3, 6862: 1, 8005: 2, 9011: 5, 9031: 3, 9361: 1, 10119: 5, 11474: 3, 12692: 7, 14128: 1, 14868: 2, 15612: 3, 19285: 2, 19351: 1, 19415: 2, 19774: 1, 20149: 2, 22942: 3, 23779: 1, 24171: 3, 26433: 3, 28595: 2, 28671: 2, 31058: 2, 33004: 2, 36285: 3, 37000: 1, 38229: 3, 38494: 2, 38603: 3, 40693: 287, 41267: 23, 41665: 2, 41726: 3, 41840: 3, 41848: 3, 41953: 1, 42029: 11, 42073: 6, 42102: 4, 42145: 6, 42156: 5, 42254: 1, 42269: 2, 42302: 3, 42334: 2, 42414: 2, 42428: 2, 42446: 2, 42478: 16, 42497: 3, 42520: 1, 42539: 3, 42540: 3, 42545: 9, 42548: 1, 42564: 3, 42571: 1, 42590: 2, 42626: 2, 42657: 6, 42709: 15, 42729: 9, 42740: 3, 42829: 2, 42835: 2, 42908: 2, 42931: 6, 43095: 16, 43098: 2, 43123: 3, 43124: 4, 43131: 1, 43282: 4, 43291: 122, 43309: 3, 43329: 1, 43357: 7, 43376: 8, 43431: 1, 43437: 6, 43454: 1, 43506: 10, 43552: 5, 43570: 5, 43574: 1, 43613: 1, 43717: 1, 43724: 6, 43772: 16, 43784: 2, 43798: 2, 43807: 3, 43821: 313, 43822: 3, 43828: 4, 43888: 4, 43895: 2, 43988: 9, 43991: 1, 43992: 1, 44019: 3, 44021: 1, 44033: 2, 44097: 5, 44107: 2, 44147: 97, 44157: 2, 44245: 1, 44259: 5, 44265: 5, 44342: 2, 44373: 1, 44384: 3, 44402: 7, 44414: 5, 44450: 1, 44466: 2, 44526: 4, 44569: 3, 44593: 2, 44618: 4, 44650: 3, 44656: 8, 44679: 13, 44683: 1, 44803: 2, 44853: 2, 44939: 5, 44963: 1, 44972: 4, 44986: 16, 45044: 2, 45058: 6, 45070: 2, 45076: 6, 45147: 5, 45153: 6, 45175: 5, 45194: 3, 45229: 3, 45277: 2, 45285: 4, 45311: 1, 45347: 6, 45359: 2, 45423: 2, 45456: 5, 45492: 2, 45500: 10, 45519: 1, 45561: 2, 45579: 2, 45617: 8, 45618: 1, 45623: 3, 45686: 5, 45734: 3, 45782: 1, 45792: 7, 45824: 2, 45827: 15, 45839: 1, 45866: 1, 45874: 7, 45922: 2, 45956: 1, 45966: 1, 45968: 5, 46007: 1, 46011: 3, 46024: 9, 46034: 3, 46058: 2, 46080: 3, 46104: 1, 46112: 3, 46115: 6, 46162: 2, 46195: 7, 46208: 1, 46215: 4, 46256: 3, 46298: 4, 46666: 3, 46728: 1, 46729: 8, 46736: 2, 46761: 8, 46785: 3, 46787: 2, 46788: 1, 46826: 12, 46859: 1, 46945: 3, 46992: 2, 47054: 1, 47081: 2, 47092: 11, 47110: 43, 47198: 1, 47211: 106, 47260: 5, 47317: 3, 47336: 2, 47400: 28, 47410: 3, 47484: 6, 47579: 2, 47667: 2, 47708: 1, 47778: 9, 47979: 3}\n",
      "Player who changes the most: 32477\n",
      "------------------------------------------------------------------------------------------------------------------\n"
     ]
    }
   ],
   "source": [
    "# Lets do the same but for bottom 20%\n",
    "players_increase_slot = cf.count_increase(df, \"increase_slotdeno\", \"playerkey\", \"slotdenomination\")\n",
    "players_decrease_slot = cf.count_decrease(df, \"decrease_slotdeno\", \"playerkey\", \"slotdenomination\")\n",
    "players_increase_maxbet = cf.count_increase(df, \"increase_maxbet\", \"playerkey\", \"maxbet\")\n",
    "players_decrease_maxbet = cf.count_decrease(df, \"decrease_maxbet\", \"playerkey\", \"maxbet\")\n"
   ]
  },
  {
   "cell_type": "code",
   "execution_count": 18,
   "metadata": {},
   "outputs": [
    {
     "name": "stdout",
     "output_type": "stream",
     "text": [
      "Count of players who increase_slotdeno : 436\n",
      "Count of times each player increase_slotdeno : {20: 189, 224: 15, 1069: 1, 1166: 11, 1233: 42, 1959: 7, 6695: 4, 7967: 4, 8978: 19, 9510: 9, 10738: 249, 11584: 2, 12277: 22, 15736: 4, 18082: 1, 23267: 3, 23321: 19, 28710: 2, 32477: 70, 41839: 42, 41939: 2, 42204: 2, 42589: 4, 42613: 308, 42727: 11, 42764: 1, 42832: 2, 42955: 19, 42956: 35, 43364: 751, 43421: 8, 43447: 2, 43526: 5, 43754: 7, 43781: 6, 43820: 2, 44309: 7, 44327: 6, 44603: 19, 44641: 36, 45449: 20, 45604: 5, 45630: 8, 45680: 5, 45719: 1, 45790: 7, 46207: 5, 46281: 3, 46697: 26, 46901: 11, 47275: 42, 47295: 2, 47918: 5, 865: 2, 1442: 3, 2073: 1, 3127: 18, 3634: 25, 4252: 1, 4265: 5, 5147: 4, 5879: 28, 5969: 13, 6271: 13, 6365: 21, 6829: 1, 7195: 1, 7689: 5, 7695: 6, 7933: 3, 8233: 262, 8412: 3, 8465: 2, 10248: 5, 10348: 1, 10349: 2, 12192: 2, 13910: 7, 14778: 1, 15389: 36, 17472: 194, 17497: 7, 18617: 1, 19166: 2, 20496: 2, 23045: 8, 23311: 2, 26502: 2, 27510: 1, 28705: 3, 31032: 2, 32887: 6, 34520: 2, 37278: 4, 38493: 1, 40628: 8, 41690: 7, 41716: 9, 41872: 2, 42103: 1, 42244: 7, 42477: 16, 42502: 1, 42518: 5, 42560: 5, 42593: 3, 42596: 4, 42632: 8, 42651: 3, 42656: 2, 42684: 4, 42722: 3, 42723: 5, 42726: 8, 42731: 2, 42752: 5, 42758: 4, 42763: 1, 42833: 2, 42911: 2, 43004: 2, 43018: 1, 43063: 15, 43146: 1, 43153: 1, 43182: 3, 43184: 1, 43287: 8, 43341: 1, 43346: 147, 43387: 11, 43416: 4, 43438: 18, 43441: 1, 43511: 13, 43512: 2, 43573: 4, 43576: 3, 43652: 4, 43670: 1, 43673: 2, 43735: 94, 43747: 37, 43790: 2, 43866: 1, 43916: 2, 43919: 28, 43962: 6, 44052: 6, 44056: 2, 44163: 1, 44169: 3, 44170: 3, 44196: 3, 44222: 98, 44252: 1, 44261: 6, 44268: 1, 44273: 4, 44275: 3, 44303: 5, 44326: 6, 44393: 5, 44394: 7, 44420: 3, 44441: 6, 44459: 3, 44488: 3, 44502: 3, 44570: 18, 44640: 5, 44651: 2, 44731: 2, 44766: 6, 44791: 3, 44804: 2, 44807: 4, 44858: 4, 44920: 2, 45003: 1, 45042: 4, 45051: 5, 45078: 2, 45113: 1, 45157: 3, 45224: 5, 45243: 5, 45260: 2, 45275: 11, 45283: 8, 45288: 12, 45299: 1, 45310: 1, 45531: 8, 45532: 2, 45570: 17, 45580: 1, 45605: 18, 45691: 2, 45739: 1, 45793: 7, 45810: 1, 45811: 1, 45820: 194, 45873: 5, 45923: 1, 45953: 4, 46008: 132, 46012: 4, 46062: 3, 46070: 7, 46139: 28, 46199: 7, 46206: 23, 46376: 2, 46468: 15, 46522: 5, 46609: 24, 46639: 2, 46707: 5, 46710: 1, 46720: 7, 46746: 4, 46750: 2, 46794: 1, 46797: 130, 46828: 4, 46829: 6, 46961: 95, 47055: 3, 47084: 1, 47136: 4, 47224: 11, 47304: 3, 47388: 2, 47412: 4, 47471: 73, 47485: 3, 47530: 5, 47643: 13, 47704: 2, 47737: 11, 47760: 5, 47788: 1, 47819: 5, 47841: 2, 2029: 2, 2070: 1, 2099: 1, 2710: 2, 6234: 3, 8005: 3, 9011: 4, 9031: 4, 10119: 2, 11474: 1, 12692: 2, 14128: 1, 14868: 6, 15612: 5, 16192: 1, 19285: 6, 19351: 1, 19415: 2, 20149: 1, 23779: 1, 24171: 3, 25362: 4, 28671: 1, 31058: 1, 37000: 1, 38229: 3, 38494: 2, 38603: 2, 41267: 1, 41606: 3, 41665: 8, 41726: 3, 41840: 3, 41848: 2, 42029: 5, 42073: 5, 42145: 2, 42254: 3, 42269: 2, 42302: 3, 42334: 2, 42414: 1, 42428: 1, 42446: 1, 42478: 4, 42497: 9, 42540: 2, 42545: 5, 42548: 1, 42564: 1, 42626: 1, 42657: 3, 42709: 11, 42740: 1, 42829: 1, 42835: 2, 42908: 9, 42931: 1, 43024: 1, 43095: 1, 43098: 1, 43113: 1, 43123: 3, 43124: 1, 43131: 1, 43282: 4, 43291: 122, 43309: 2, 43357: 12, 43376: 8, 43431: 2, 43437: 5, 43454: 1, 43462: 1, 43506: 8, 43570: 3, 43613: 1, 43724: 2, 43772: 13, 43784: 4, 43798: 3, 43800: 1, 43821: 313, 43822: 1, 43828: 2, 43888: 2, 43895: 1, 43988: 10, 43991: 1, 43992: 2, 44019: 1, 44033: 1, 44097: 1, 44107: 4, 44147: 1, 44157: 1, 44245: 1, 44259: 9, 44265: 2, 44373: 4, 44402: 2, 44414: 4, 44450: 1, 44466: 2, 44515: 1, 44526: 2, 44533: 1, 44569: 1, 44593: 1, 44618: 2, 44650: 1, 44656: 5, 44679: 3, 44803: 1, 44843: 1, 44853: 1, 44939: 3, 44963: 2, 44972: 4, 44986: 12, 45044: 1, 45058: 6, 45063: 1, 45070: 2, 45076: 4, 45147: 2, 45153: 1, 45175: 2, 45194: 2, 45229: 1, 45277: 3, 45285: 3, 45311: 1, 45347: 5, 45359: 3, 45423: 1, 45456: 3, 45492: 3, 45500: 2, 45561: 1, 45579: 4, 45617: 4, 45618: 1, 45623: 4, 45686: 5, 45703: 1, 45734: 5, 45782: 13, 45792: 4, 45824: 1, 45827: 8, 45874: 5, 45922: 1, 45956: 126, 45968: 2, 46024: 3, 46034: 2, 46104: 2, 46112: 3, 46115: 2, 46162: 1, 46195: 3, 46215: 2, 46237: 2, 46298: 2, 46666: 7, 46728: 1, 46729: 5, 46736: 3, 46761: 4, 46785: 3, 46787: 6, 46788: 2, 46826: 1, 46945: 2, 46992: 1, 47054: 1, 47081: 1, 47092: 3, 47110: 132, 47211: 48, 47260: 1, 47317: 5, 47336: 4, 47400: 28, 47410: 4, 47484: 4, 47667: 1, 47778: 3, 47979: 1}\n",
      "Player who changes the most: 43364\n",
      "------------------------------------------------------------------------------------------------------------------\n",
      "Count of players who decrease_slotdeno : 439\n",
      "Count of times each player decrease_slotdeno : {20: 185, 224: 16, 1069: 1, 1166: 10, 1233: 32, 1959: 8, 6695: 4, 7967: 3, 8978: 21, 9510: 8, 10738: 251, 12277: 22, 15736: 7, 18082: 2, 23267: 4, 23321: 16, 28710: 1, 32477: 69, 41839: 41, 41939: 2, 42204: 3, 42589: 5, 42613: 300, 42727: 7, 42764: 1, 42832: 3, 42955: 19, 42956: 35, 43364: 750, 43421: 9, 43447: 1, 43526: 3, 43754: 10, 43781: 9, 43820: 2, 44309: 9, 44327: 7, 44603: 19, 44641: 36, 45449: 16, 45604: 3, 45630: 9, 45680: 4, 45719: 2, 45790: 7, 46207: 4, 46281: 4, 46697: 25, 46901: 10, 47275: 39, 47295: 1, 47918: 8, 865: 1, 1442: 2, 2073: 1, 3127: 21, 3634: 27, 4252: 1, 4265: 4, 5147: 3, 5879: 26, 5969: 16, 6271: 15, 6365: 19, 6829: 2, 7689: 4, 7695: 5, 7933: 1, 8233: 262, 8412: 1, 10248: 6, 10349: 1, 12192: 2, 13910: 7, 14778: 1, 15389: 36, 17472: 194, 17497: 5, 18617: 1, 19166: 1, 20496: 1, 20557: 1, 23045: 8, 23311: 2, 27510: 1, 28705: 3, 31032: 2, 32887: 5, 34520: 1, 36654: 1, 37278: 4, 38493: 1, 40628: 6, 41690: 8, 41716: 8, 41872: 2, 42103: 1, 42244: 6, 42477: 17, 42502: 1, 42518: 8, 42560: 6, 42593: 4, 42596: 4, 42632: 6, 42651: 4, 42656: 2, 42684: 2, 42722: 2, 42723: 4, 42726: 7, 42731: 1, 42752: 6, 42758: 4, 42763: 1, 42833: 4, 42911: 2, 43004: 2, 43018: 1, 43063: 15, 43146: 1, 43153: 1, 43182: 5, 43184: 2, 43287: 6, 43341: 3, 43346: 148, 43387: 13, 43416: 3, 43438: 17, 43511: 11, 43512: 2, 43573: 5, 43576: 2, 43652: 4, 43670: 2, 43673: 2, 43735: 94, 43747: 36, 43790: 1, 43866: 2, 43916: 2, 43919: 27, 43962: 5, 44052: 4, 44056: 2, 44142: 1, 44163: 1, 44169: 4, 44170: 3, 44196: 2, 44222: 99, 44261: 6, 44273: 4, 44275: 5, 44303: 4, 44326: 3, 44393: 3, 44394: 4, 44420: 2, 44441: 6, 44459: 3, 44488: 5, 44502: 1, 44570: 20, 44640: 3, 44651: 3, 44731: 1, 44766: 7, 44791: 4, 44804: 4, 44807: 5, 44858: 4, 44920: 1, 45003: 2, 45042: 2, 45051: 5, 45078: 2, 45157: 3, 45224: 5, 45243: 5, 45260: 1, 45275: 11, 45283: 7, 45288: 7, 45299: 2, 45310: 1, 45490: 1, 45531: 10, 45532: 3, 45570: 17, 45605: 14, 45691: 2, 45739: 1, 45793: 7, 45810: 2, 45811: 1, 45820: 193, 45873: 6, 45923: 1, 45953: 5, 46008: 132, 46012: 3, 46062: 1, 46070: 8, 46139: 29, 46199: 6, 46206: 18, 46376: 3, 46468: 12, 46522: 5, 46609: 27, 46639: 2, 46707: 5, 46710: 1, 46720: 5, 46746: 4, 46750: 2, 46794: 1, 46797: 131, 46828: 2, 46829: 4, 46961: 98, 47055: 2, 47084: 1, 47136: 4, 47224: 10, 47304: 3, 47388: 2, 47412: 4, 47471: 73, 47485: 2, 47530: 2, 47640: 1, 47643: 16, 47704: 2, 47737: 9, 47760: 5, 47788: 1, 47819: 4, 47841: 2, 2015: 1, 2070: 3, 2099: 2, 2710: 2, 3825: 1, 6234: 2, 8005: 2, 9011: 5, 9031: 4, 9191: 1, 10119: 4, 11474: 1, 12692: 2, 14128: 2, 14868: 6, 15612: 4, 16192: 1, 19285: 4, 19351: 1, 19415: 1, 20149: 1, 23164: 1, 23779: 4, 24171: 4, 25362: 3, 28671: 2, 31058: 1, 37000: 1, 38229: 2, 38494: 2, 38603: 1, 41267: 1, 41606: 2, 41665: 4, 41726: 4, 41840: 2, 41848: 2, 41953: 1, 42029: 4, 42073: 5, 42102: 1, 42145: 2, 42254: 4, 42269: 1, 42302: 4, 42334: 1, 42414: 2, 42428: 2, 42446: 1, 42478: 5, 42497: 8, 42540: 2, 42545: 6, 42548: 1, 42564: 1, 42626: 1, 42657: 3, 42709: 12, 42740: 1, 42829: 2, 42835: 2, 42908: 8, 42931: 1, 43024: 2, 43095: 1, 43098: 1, 43113: 2, 43123: 2, 43124: 3, 43282: 3, 43291: 122, 43309: 2, 43357: 9, 43376: 9, 43431: 2, 43437: 6, 43454: 1, 43462: 1, 43506: 7, 43570: 2, 43613: 2, 43629: 1, 43724: 2, 43744: 1, 43772: 12, 43784: 2, 43798: 2, 43800: 1, 43821: 312, 43822: 1, 43828: 2, 43888: 2, 43895: 1, 43960: 1, 43988: 9, 43991: 2, 43992: 2, 44019: 1, 44021: 1, 44033: 2, 44097: 2, 44107: 3, 44245: 2, 44259: 6, 44265: 1, 44373: 3, 44384: 1, 44402: 1, 44414: 3, 44431: 1, 44466: 2, 44515: 2, 44526: 1, 44533: 1, 44569: 1, 44593: 1, 44618: 1, 44650: 2, 44656: 4, 44679: 3, 44803: 2, 44939: 3, 44963: 1, 44972: 4, 44986: 11, 45044: 3, 45058: 5, 45070: 2, 45076: 4, 45147: 2, 45153: 1, 45175: 5, 45194: 2, 45229: 1, 45277: 2, 45285: 2, 45311: 2, 45347: 6, 45359: 2, 45423: 1, 45456: 3, 45492: 2, 45500: 3, 45519: 1, 45543: 1, 45560: 1, 45579: 4, 45617: 3, 45618: 1, 45623: 4, 45686: 7, 45690: 1, 45703: 1, 45734: 3, 45782: 13, 45792: 5, 45827: 7, 45839: 3, 45874: 5, 45922: 2, 45956: 124, 45968: 1, 46017: 1, 46024: 3, 46034: 2, 46104: 3, 46112: 4, 46115: 3, 46195: 2, 46215: 2, 46237: 2, 46298: 2, 46666: 6, 46679: 1, 46728: 2, 46729: 4, 46736: 2, 46761: 3, 46785: 3, 46787: 5, 46788: 3, 46945: 2, 46992: 1, 47054: 1, 47081: 1, 47092: 3, 47110: 132, 47198: 1, 47211: 48, 47260: 1, 47317: 4, 47336: 1, 47400: 27, 47410: 2, 47484: 3, 47667: 1, 47778: 4, 47979: 1}\n",
      "Player who changes the most: 43364\n",
      "------------------------------------------------------------------------------------------------------------------\n",
      "Count of players who increase_maxbet : 465\n",
      "Count of times each player increase_maxbet : {20: 3, 224: 20, 1233: 6, 1959: 11, 6695: 3, 7967: 3, 8978: 9, 9510: 8, 10738: 204, 11334: 8, 12277: 47, 15736: 5, 23267: 5, 23321: 28, 28710: 4, 32477: 677, 41839: 96, 41939: 4, 42204: 12, 42589: 6, 42613: 20, 42727: 5, 42832: 3, 42955: 4, 42956: 26, 43364: 637, 43421: 18, 43526: 5, 43754: 7, 43781: 14, 43820: 3, 44309: 48, 44327: 11, 44641: 20, 45162: 1, 45449: 64, 45604: 4, 45630: 15, 45680: 4, 45719: 6, 45790: 14, 46207: 2, 46281: 6, 46697: 20, 46901: 22, 47275: 26, 47295: 1, 47918: 40, 865: 5, 1026: 1, 3127: 2, 3634: 33, 4252: 1, 4265: 2, 5147: 2, 5879: 26, 5969: 16, 6271: 12, 6365: 22, 6829: 3, 7195: 263, 7689: 7, 7695: 7, 7933: 1, 8233: 263, 8412: 3, 8464: 5, 10248: 8, 10922: 6, 12192: 2, 13910: 6, 14778: 6, 15389: 43, 17472: 236, 18617: 3, 19166: 76, 20496: 3, 23045: 7, 23311: 3, 27510: 2, 28705: 3, 31032: 2, 32887: 6, 34520: 1, 36654: 2, 38493: 1, 40628: 4, 41690: 8, 41716: 6, 41833: 16, 41872: 3, 42103: 3, 42244: 11, 42430: 63, 42477: 27, 42502: 7, 42518: 7, 42560: 11, 42593: 5, 42596: 4, 42632: 12, 42651: 10, 42656: 3, 42684: 6, 42722: 3, 42723: 3, 42726: 11, 42758: 48, 42763: 1, 42833: 2, 42911: 5, 43004: 2, 43018: 8, 43063: 20, 43146: 11, 43153: 5, 43182: 1, 43184: 3, 43287: 6, 43341: 5, 43346: 150, 43387: 16, 43416: 7, 43438: 15, 43441: 2, 43459: 1, 43511: 15, 43512: 3, 43553: 15, 43573: 10, 43576: 6, 43652: 10, 43670: 2, 43673: 6, 43716: 1, 43735: 98, 43747: 35, 43790: 7, 43866: 2, 43916: 2, 43919: 27, 43962: 10, 44052: 8, 44056: 1, 44113: 1, 44142: 1, 44163: 3, 44169: 6, 44170: 6, 44196: 4, 44222: 4, 44252: 4, 44261: 3, 44268: 1, 44273: 6, 44275: 2, 44303: 9, 44326: 6, 44393: 5, 44394: 4, 44420: 6, 44441: 7, 44459: 2, 44488: 7, 44502: 202, 44570: 8, 44640: 4, 44686: 13, 44731: 3, 44766: 9, 44791: 4, 44804: 4, 44807: 5, 44858: 7, 44920: 3, 45003: 2, 45042: 3, 45051: 7, 45078: 3, 45113: 1, 45157: 1, 45224: 7, 45243: 7, 45260: 2, 45275: 10, 45283: 6, 45288: 11, 45310: 16, 45324: 2, 45330: 5, 45490: 3, 45531: 4, 45532: 5, 45570: 10, 45580: 2, 45605: 10, 45691: 10, 45739: 1, 45793: 10, 45810: 2, 45811: 1, 45820: 284, 45873: 8, 45923: 1, 45953: 5, 46008: 177, 46012: 1, 46070: 11, 46139: 103, 46199: 9, 46206: 14, 46376: 4, 46468: 19, 46486: 1, 46522: 37, 46609: 24, 46639: 12, 46707: 33, 46710: 4, 46720: 7, 46746: 6, 46750: 5, 46794: 1, 46828: 4, 46829: 3, 46961: 85, 47052: 5, 47084: 2, 47136: 5, 47224: 11, 47304: 3, 47388: 4, 47412: 7, 47471: 73, 47485: 4, 47530: 2, 47555: 3, 47643: 18, 47704: 4, 47737: 3, 47760: 7, 47788: 1, 47819: 3, 1922: 2, 2015: 2, 2070: 2, 2099: 4, 3825: 1, 6234: 2, 8005: 1, 9011: 6, 9031: 5, 9361: 1, 10119: 5, 11474: 3, 12692: 8, 14128: 2, 14868: 2, 15612: 4, 19285: 1, 19351: 1, 19774: 1, 20149: 2, 22942: 2, 23164: 1, 23779: 1, 24171: 5, 26433: 4, 28595: 1, 28671: 3, 31058: 2, 33004: 3, 36285: 2, 37000: 1, 38229: 2, 38494: 1, 38603: 2, 40693: 287, 41267: 22, 41665: 2, 41726: 4, 41840: 3, 41848: 3, 42029: 10, 42073: 5, 42102: 5, 42145: 6, 42156: 4, 42254: 1, 42269: 1, 42302: 4, 42334: 1, 42414: 3, 42428: 3, 42446: 1, 42478: 17, 42497: 4, 42520: 1, 42539: 3, 42540: 4, 42545: 11, 42548: 1, 42564: 2, 42571: 2, 42590: 2, 42626: 1, 42657: 7, 42709: 20, 42729: 11, 42740: 2, 42829: 1, 42835: 3, 42908: 1, 42931: 3, 43095: 16, 43098: 5, 43113: 1, 43123: 5, 43124: 3, 43282: 4, 43291: 123, 43309: 3, 43329: 2, 43357: 6, 43376: 11, 43431: 2, 43437: 7, 43454: 2, 43506: 10, 43552: 6, 43570: 3, 43574: 1, 43613: 2, 43717: 2, 43718: 1, 43724: 5, 43772: 15, 43784: 1, 43798: 2, 43807: 4, 43821: 312, 43822: 2, 43828: 2, 43888: 2, 43895: 1, 43960: 2, 43988: 9, 43991: 2, 43992: 2, 44019: 3, 44021: 2, 44033: 3, 44097: 4, 44107: 2, 44147: 99, 44245: 2, 44259: 5, 44265: 3, 44342: 1, 44373: 1, 44384: 3, 44402: 6, 44414: 5, 44431: 1, 44466: 1, 44515: 1, 44526: 2, 44569: 2, 44593: 2, 44618: 3, 44650: 3, 44656: 4, 44679: 10, 44803: 2, 44853: 2, 44939: 7, 44963: 1, 44972: 4, 44986: 15, 45044: 2, 45058: 6, 45070: 2, 45076: 6, 45147: 2, 45153: 6, 45175: 6, 45194: 3, 45229: 3, 45277: 2, 45285: 3, 45311: 2, 45347: 4, 45359: 1, 45423: 1, 45456: 5, 45492: 1, 45500: 10, 45519: 1, 45543: 1, 45560: 1, 45561: 1, 45579: 1, 45617: 4, 45618: 1, 45623: 2, 45686: 6, 45690: 1, 45703: 1, 45734: 3, 45782: 1, 45792: 5, 45824: 1, 45827: 15, 45839: 3, 45866: 1, 45874: 6, 45922: 2, 45966: 1, 45968: 3, 46007: 1, 46011: 2, 46017: 1, 46024: 10, 46034: 3, 46058: 2, 46080: 4, 46104: 3, 46112: 5, 46115: 6, 46162: 1, 46195: 6, 46208: 1, 46215: 3, 46256: 3, 46298: 2, 46666: 2, 46679: 1, 46728: 1, 46729: 6, 46736: 2, 46761: 8, 46785: 4, 46787: 2, 46788: 3, 46826: 12, 46859: 1, 46945: 2, 46992: 2, 47054: 1, 47081: 2, 47092: 12, 47110: 42, 47198: 3, 47211: 105, 47260: 6, 47317: 2, 47400: 28, 47410: 2, 47484: 4, 47534: 1, 47579: 2, 47667: 2, 47708: 1, 47778: 5, 47979: 3}\n",
      "Player who changes the most: 32477\n",
      "------------------------------------------------------------------------------------------------------------------\n",
      "Count of players who decrease_maxbet : 462\n",
      "Count of times each player decrease_maxbet : {20: 3, 224: 18, 1233: 6, 1959: 8, 6695: 3, 7967: 4, 8978: 9, 9510: 13, 10738: 202, 11334: 7, 11584: 2, 12277: 42, 15736: 4, 23267: 4, 23321: 24, 28710: 3, 32477: 682, 41839: 98, 41939: 5, 42204: 9, 42589: 4, 42613: 24, 42727: 8, 42832: 4, 42955: 4, 42956: 26, 43364: 635, 43421: 19, 43526: 4, 43754: 7, 43781: 14, 43820: 3, 44309: 50, 44327: 8, 44641: 21, 45162: 1, 45449: 64, 45604: 5, 45630: 16, 45680: 5, 45719: 3, 45790: 17, 46207: 3, 46281: 4, 46697: 19, 46901: 22, 47275: 27, 47295: 2, 47918: 37, 865: 6, 1442: 2, 2073: 1, 3127: 2, 3634: 33, 4252: 1, 4265: 2, 5147: 3, 5879: 28, 5969: 20, 6271: 10, 6365: 19, 6829: 2, 7195: 263, 7689: 8, 7695: 9, 7933: 1, 8233: 263, 8412: 4, 8464: 4, 10248: 6, 10348: 1, 10922: 5, 12192: 2, 13910: 8, 14778: 4, 15389: 42, 17472: 235, 18617: 3, 19166: 78, 20496: 4, 23045: 8, 23311: 2, 26502: 2, 27510: 3, 28705: 3, 31032: 2, 32887: 7, 34520: 2, 36654: 1, 38493: 1, 40628: 4, 41690: 6, 41716: 6, 41833: 15, 41872: 3, 42103: 3, 42244: 10, 42430: 62, 42477: 26, 42502: 5, 42518: 6, 42560: 12, 42593: 4, 42596: 4, 42632: 14, 42651: 9, 42656: 3, 42684: 13, 42722: 3, 42723: 3, 42726: 11, 42758: 47, 42763: 1, 42833: 2, 42911: 5, 43004: 2, 43018: 5, 43063: 16, 43146: 8, 43153: 1, 43182: 1, 43184: 2, 43287: 10, 43341: 5, 43346: 149, 43387: 12, 43416: 10, 43438: 17, 43441: 4, 43459: 1, 43511: 21, 43512: 3, 43553: 9, 43573: 11, 43576: 6, 43652: 7, 43670: 2, 43673: 5, 43735: 94, 43747: 38, 43790: 4, 43866: 2, 43916: 4, 43919: 28, 43962: 8, 44052: 11, 44056: 1, 44163: 2, 44169: 7, 44170: 6, 44196: 4, 44222: 5, 44252: 5, 44261: 3, 44268: 1, 44273: 4, 44275: 3, 44303: 10, 44326: 5, 44393: 10, 44394: 6, 44420: 6, 44441: 8, 44459: 1, 44488: 6, 44502: 204, 44570: 4, 44640: 8, 44686: 11, 44731: 5, 44766: 6, 44791: 3, 44804: 3, 44807: 4, 44858: 10, 44920: 2, 45003: 1, 45042: 4, 45051: 7, 45078: 3, 45113: 3, 45157: 1, 45224: 7, 45243: 5, 45260: 1, 45275: 11, 45283: 7, 45288: 16, 45299: 1, 45310: 15, 45324: 1, 45330: 3, 45490: 4, 45531: 4, 45532: 4, 45570: 11, 45580: 3, 45605: 12, 45691: 7, 45739: 1, 45793: 6, 45810: 3, 45811: 2, 45820: 287, 45873: 8, 45923: 1, 45953: 5, 46008: 176, 46012: 2, 46070: 10, 46139: 103, 46199: 7, 46206: 15, 46376: 2, 46468: 24, 46522: 39, 46609: 29, 46639: 10, 46707: 30, 46710: 2, 46720: 12, 46746: 5, 46750: 5, 46794: 2, 46828: 4, 46829: 5, 46961: 83, 47052: 7, 47084: 1, 47136: 4, 47224: 13, 47304: 3, 47388: 5, 47412: 9, 47471: 73, 47485: 3, 47530: 2, 47555: 2, 47640: 1, 47643: 18, 47704: 5, 47737: 2, 47760: 6, 47788: 1, 47819: 3, 1922: 4, 2015: 1, 2070: 2, 2099: 5, 6234: 3, 6862: 1, 8005: 2, 9011: 5, 9031: 3, 9361: 1, 10119: 5, 11474: 3, 12692: 7, 14128: 1, 14868: 2, 15612: 3, 19285: 2, 19351: 1, 19415: 2, 19774: 1, 20149: 2, 22942: 3, 23779: 1, 24171: 3, 26433: 3, 28595: 2, 28671: 2, 31058: 2, 33004: 2, 36285: 3, 37000: 1, 38229: 3, 38494: 2, 38603: 3, 40693: 287, 41267: 23, 41665: 2, 41726: 3, 41840: 3, 41848: 3, 41953: 1, 42029: 11, 42073: 6, 42102: 4, 42145: 6, 42156: 5, 42254: 1, 42269: 2, 42302: 3, 42334: 2, 42414: 2, 42428: 2, 42446: 2, 42478: 16, 42497: 3, 42520: 1, 42539: 3, 42540: 3, 42545: 9, 42548: 1, 42564: 3, 42571: 1, 42590: 2, 42626: 2, 42657: 6, 42709: 15, 42729: 9, 42740: 3, 42829: 2, 42835: 2, 42908: 2, 42931: 6, 43095: 16, 43098: 2, 43123: 3, 43124: 4, 43131: 1, 43282: 4, 43291: 122, 43309: 3, 43329: 1, 43357: 7, 43376: 8, 43431: 1, 43437: 6, 43454: 1, 43506: 10, 43552: 5, 43570: 5, 43574: 1, 43613: 1, 43717: 1, 43724: 6, 43772: 16, 43784: 2, 43798: 2, 43807: 3, 43821: 313, 43822: 3, 43828: 4, 43888: 4, 43895: 2, 43988: 9, 43991: 1, 43992: 1, 44019: 3, 44021: 1, 44033: 2, 44097: 5, 44107: 2, 44147: 97, 44157: 2, 44245: 1, 44259: 5, 44265: 5, 44342: 2, 44373: 1, 44384: 3, 44402: 7, 44414: 5, 44450: 1, 44466: 2, 44526: 4, 44569: 3, 44593: 2, 44618: 4, 44650: 3, 44656: 8, 44679: 13, 44683: 1, 44803: 2, 44853: 2, 44939: 5, 44963: 1, 44972: 4, 44986: 16, 45044: 2, 45058: 6, 45070: 2, 45076: 6, 45147: 5, 45153: 6, 45175: 5, 45194: 3, 45229: 3, 45277: 2, 45285: 4, 45311: 1, 45347: 6, 45359: 2, 45423: 2, 45456: 5, 45492: 2, 45500: 10, 45519: 1, 45561: 2, 45579: 2, 45617: 8, 45618: 1, 45623: 3, 45686: 5, 45734: 3, 45782: 1, 45792: 7, 45824: 2, 45827: 15, 45839: 1, 45866: 1, 45874: 7, 45922: 2, 45956: 1, 45966: 1, 45968: 5, 46007: 1, 46011: 3, 46024: 9, 46034: 3, 46058: 2, 46080: 3, 46104: 1, 46112: 3, 46115: 6, 46162: 2, 46195: 7, 46208: 1, 46215: 4, 46256: 3, 46298: 4, 46666: 3, 46728: 1, 46729: 8, 46736: 2, 46761: 8, 46785: 3, 46787: 2, 46788: 1, 46826: 12, 46859: 1, 46945: 3, 46992: 2, 47054: 1, 47081: 2, 47092: 11, 47110: 43, 47198: 1, 47211: 106, 47260: 5, 47317: 3, 47336: 2, 47400: 28, 47410: 3, 47484: 6, 47579: 2, 47667: 2, 47708: 1, 47778: 9, 47979: 3}\n",
      "Player who changes the most: 32477\n",
      "------------------------------------------------------------------------------------------------------------------\n"
     ]
    }
   ],
   "source": [
    "# Lets do the same but for df_s\n",
    "players_increase_slot_s = cf.count_increase(df_s, \"increase_slotdeno\", \"playerkey\", \"slotdenomination\")\n",
    "players_decrease_slot_s = cf.count_decrease(df_s, \"decrease_slotdeno\", \"playerkey\", \"slotdenomination\")\n",
    "players_increase_maxbet_s = cf.count_increase(df_s, \"increase_maxbet\", \"playerkey\", \"maxbet\")\n",
    "players_decrease_maxbet_s = cf.count_decrease(df_s, \"decrease_maxbet\", \"playerkey\", \"maxbet\")"
   ]
  },
  {
   "attachments": {},
   "cell_type": "markdown",
   "metadata": {},
   "source": [
    "### Wealth Differences\n",
    "#### General"
   ]
  },
  {
   "cell_type": "code",
   "execution_count": 19,
   "metadata": {},
   "outputs": [],
   "source": [
    "# Lets crate a column called 'depletion_slope' which is the difference of 'playercashableamt' between the current gamble and the previous gamble\n",
    "df['depletion_rate'] = df.groupby(['playerkey', 'session_time'])['playercashableamt'].diff().fillna(0)\n",
    "\n",
    "# Lets crate a column called 'depletion_slope' which is the difference of 'playercashableamt' between the current gamble and the previous gamble\n",
    "df_s['depletion_rate'] = df_s.groupby(['playerkey', 'session_time'])['playercashableamt'].diff().fillna(0)\n"
   ]
  },
  {
   "attachments": {},
   "cell_type": "markdown",
   "metadata": {},
   "source": [
    "#### Per Visit"
   ]
  },
  {
   "cell_type": "code",
   "execution_count": 20,
   "metadata": {},
   "outputs": [],
   "source": [
    "# Create dataframe for Machine Learning model\n",
    "df_ML_v = pf.transform_ml(data_b=df, grouping='visit')"
   ]
  },
  {
   "cell_type": "code",
   "execution_count": 21,
   "metadata": {},
   "outputs": [
    {
     "name": "stdout",
     "output_type": "stream",
     "text": [
      "Number of unique players in df_ML_v:  557\n",
      "Number of discrepancies: 18\n",
      "Number of unique players w/o discrepancies:  539\n"
     ]
    }
   ],
   "source": [
    "# Print number of unique players\n",
    "print(\"Number of unique players in df_ML_v: \", df_ML_v['playerkey'].nunique())\n",
    "\n",
    "# Get the IDs of players who have NaN values in any of the columns\n",
    "list_discrepancy_v = df_ML_v[df_ML_v.isna().any(axis=1)]['playerkey'].unique()\n",
    "\n",
    "# print number of discrepancies\n",
    "print(\"Number of discrepancies:\", len(list_discrepancy_v))\n",
    "\n",
    "# Remove players with NaN values\n",
    "df_ML_v = df_ML_v[~df_ML_v['playerkey'].isin(list_discrepancy_v)]\n",
    "\n",
    "# Print number of unique players with no NaN values\n",
    "print(\"Number of unique players w/o discrepancies: \", df_ML_v['playerkey'].nunique())"
   ]
  },
  {
   "cell_type": "code",
   "execution_count": 22,
   "metadata": {},
   "outputs": [
    {
     "name": "stdout",
     "output_type": "stream",
     "text": [
      "Index(['playerkey', 'visit', 'gender', 'age_range', 'age_gen', 'beginning_amt',\n",
      "       'ending_amt', 'ending_balance', 'ave_slotdenom', 'std_slotdenom',\n",
      "       'min_slotdenom', 'max_slotdenom', 'ave_theo_payback',\n",
      "       'min_theo_payback', 'max_theo_payback', 'ave_wageramt', 'std_wageramt',\n",
      "       'min_wager', 'max_wager', 'ave_p/b', 'std_p/b', 'max_p/b', 'max_profit',\n",
      "       'depletion_slope', '#inc_slotdenom', '#dec_slotdenom', '#inc_maxbet',\n",
      "       '#dec_maxbet', 'first_wager', 'first_outcome', 'first_p/b',\n",
      "       'last_wager', 'last_outcome', 'last_p/b', 'machines_changes', '#W',\n",
      "       '#L', '#NH', '#D', 'w/g', 'l/g', 'nh/g', 'd/g', '#2ws', '2ws_profit',\n",
      "       '2ws_wgramt', '#3ws', '3ws_profit', '3ws_wgramt', '#4ws', '4ws_profit',\n",
      "       '4ws_wgramt', 'ave_time_per_gamble', 'min_time_per_gamble',\n",
      "       'max_time_per_gamble', 'total_duration', 'total_gambles',\n",
      "       'classification', 'unique_machines', 'ave_time_per_machine', 'w/min',\n",
      "       'l/min', 'nh/min', 'd/min', '2ws/min', '3ws/min', '4ws/min'],\n",
      "      dtype='object')\n"
     ]
    }
   ],
   "source": [
    "print(df_ML_v.columns)\n",
    "\n",
    "# # # Reorder Columns\n",
    "desired_order = ['playerkey', 'visit', 'gender', 'age_range', 'age_gen',\n",
    "                'beginning_amt', 'ending_amt', 'ending_balance', 'ave_slotdenom',\n",
    "                'std_slotdenom', 'min_slotdenom', 'max_slotdenom', 'ave_theo_payback',\n",
    "                'min_theo_payback', 'max_theo_payback', 'ave_wageramt', 'std_wageramt',\n",
    "                'min_wager', 'max_wager', 'ave_p/b', 'std_p/b', 'max_p/b', 'max_profit', 'depletion_slope',\n",
    "                '#inc_maxbet', '#dec_maxbet', 'first_wager', 'first_outcome', 'first_p/b', 'last_wager',\n",
    "                'last_outcome', 'last_p/b', '#W', '#L', '#NH', '#D', 'w/min', 'l/min', 'nh/min', 'd/min', \n",
    "                'w/g', 'l/g', 'nh/g', 'd/g', '#2ws', '2ws_profit', '2ws_wgramt', '#3ws', \n",
    "                '3ws_profit','3ws_wgramt', '#4ws', '4ws_profit', '4ws_wgramt', '2ws/min', '3ws/min', '4ws/min',\n",
    "                'ave_time_per_gamble', 'min_time_per_gamble', 'max_time_per_gamble',\n",
    "                'total_duration', 'total_gambles', 'machines_changes', '#inc_slotdenom', '#dec_slotdenom',\n",
    "                'unique_machines', 'ave_time_per_machine','classification']\n",
    "\n",
    "\n",
    "df_ML_v = df_ML_v.reindex(columns=desired_order)\n",
    "\n",
    "# Save dataframe to paquet file\n",
    "df_ML_v.to_parquet('/Users/mau/Library/CloudStorage/Dropbox/Mac/Documents/Dissertation/Chapter 2/Entire_Data/By month/'+month_file+'/Ending Balances/Per_Player/top_players_ending_balance_by_visit.parquet')"
   ]
  },
  {
   "attachments": {},
   "cell_type": "markdown",
   "metadata": {},
   "source": [
    "#### Per Session"
   ]
  },
  {
   "cell_type": "code",
   "execution_count": 23,
   "metadata": {},
   "outputs": [],
   "source": [
    "df_ML_s = pf.transform_ml(data_b=df_s, grouping='session_time')"
   ]
  },
  {
   "cell_type": "code",
   "execution_count": 24,
   "metadata": {},
   "outputs": [
    {
     "name": "stdout",
     "output_type": "stream",
     "text": [
      "Number of unique players in df_ML_v:  557\n",
      "Number of discrepancies: 21\n",
      "Number of unique players w/o discrepancies:  536\n"
     ]
    }
   ],
   "source": [
    "# Print number of unique players\n",
    "print(\"Number of unique players in df_ML_v: \", df_ML_s['playerkey'].nunique())\n",
    "\n",
    "# Get the IDs of players who have NaN values in any of the columns\n",
    "list_discrepancy_s = df_ML_s[df_ML_s.isna().any(axis=1)]['playerkey'].unique()\n",
    "\n",
    "# print number of discrepancies\n",
    "print(\"Number of discrepancies:\", len(list_discrepancy_s))\n",
    "\n",
    "# Remove players with NaN values\n",
    "df_ML_s = df_ML_s[~df_ML_s['playerkey'].isin(list_discrepancy_s)]\n",
    "\n",
    "# Print number of unique players with no NaN values\n",
    "print(\"Number of unique players w/o discrepancies: \", df_ML_s['playerkey'].nunique())"
   ]
  },
  {
   "cell_type": "code",
   "execution_count": 25,
   "metadata": {},
   "outputs": [
    {
     "name": "stdout",
     "output_type": "stream",
     "text": [
      "Index(['playerkey', 'session_time', 'gender', 'age_range', 'age_gen',\n",
      "       'beginning_amt', 'ending_amt', 'ending_balance', 'ave_slotdenom',\n",
      "       'std_slotdenom', 'min_slotdenom', 'max_slotdenom', 'ave_theo_payback',\n",
      "       'min_theo_payback', 'max_theo_payback', 'ave_wageramt', 'std_wageramt',\n",
      "       'min_wager', 'max_wager', 'ave_p/b', 'std_p/b', 'max_p/b', 'max_profit',\n",
      "       'depletion_slope', '#inc_slotdenom', '#dec_slotdenom', '#inc_maxbet',\n",
      "       '#dec_maxbet', 'first_wager', 'first_outcome', 'first_p/b',\n",
      "       'last_wager', 'last_outcome', 'last_p/b', 'machines_changes', '#W',\n",
      "       '#L', '#NH', '#D', 'w/g', 'l/g', 'nh/g', 'd/g', '#2ws', '2ws_profit',\n",
      "       '2ws_wgramt', '#3ws', '3ws_profit', '3ws_wgramt', '#4ws', '4ws_profit',\n",
      "       '4ws_wgramt', 'ave_time_per_gamble', 'min_time_per_gamble',\n",
      "       'max_time_per_gamble', 'total_duration', 'total_gambles',\n",
      "       'classification', 'unique_machines', 'ave_time_per_machine', 'w/min',\n",
      "       'l/min', 'nh/min', 'd/min', '2ws/min', '3ws/min', '4ws/min'],\n",
      "      dtype='object')\n"
     ]
    }
   ],
   "source": [
    "print(df_ML_s.columns)\n",
    "\n",
    "# # # Reorder Columns\n",
    "desired_order = ['playerkey', 'session_time', 'gender', 'age_range', 'age_gen',\n",
    "                'beginning_amt', 'ending_amt', 'ending_balance', 'ave_slotdenom',\n",
    "                'std_slotdenom', 'min_slotdenom', 'max_slotdenom', 'ave_theo_payback',\n",
    "                'min_theo_payback', 'max_theo_payback', 'ave_wageramt', 'std_wageramt',\n",
    "                'min_wager', 'max_wager', 'ave_p/b', 'std_p/b', 'max_p/b', 'max_profit', 'depletion_slope',\n",
    "                '#inc_maxbet', '#dec_maxbet', 'first_wager', 'first_outcome', 'first_p/b', 'last_wager',\n",
    "                'last_outcome', 'last_p/b', '#W', '#L', '#NH', '#D', 'w/min', 'l/min', 'nh/min', 'd/min', \n",
    "                'w/g', 'l/g', 'nh/g', 'd/g', '#2ws', '2ws_profit', '2ws_wgramt', '#3ws', \n",
    "                '3ws_profit','3ws_wgramt', '#4ws', '4ws_profit', '4ws_wgramt', '2ws/min', '3ws/min', '4ws/min',\n",
    "                'ave_time_per_gamble', 'min_time_per_gamble', 'max_time_per_gamble',\n",
    "                'total_duration', 'total_gambles', 'machines_changes', '#inc_slotdenom', '#dec_slotdenom',\n",
    "                'unique_machines', 'ave_time_per_machine','classification']\n",
    "\n",
    "df_ML_s = df_ML_s.reindex(columns=desired_order)\n",
    "\n",
    "# Save dataframe to paquet file\n",
    "df_ML_s.to_parquet('/Users/mau/Library/CloudStorage/Dropbox/Mac/Documents/Dissertation/Chapter 2/Entire_Data/By month/'+month_file+'/Ending Balances/Per_Player/top_player_ending_balance_by_session.parquet')\n"
   ]
  }
 ],
 "metadata": {
  "kernelspec": {
   "display_name": "Python 3",
   "language": "python",
   "name": "python3"
  },
  "language_info": {
   "codemirror_mode": {
    "name": "ipython",
    "version": 3
   },
   "file_extension": ".py",
   "mimetype": "text/x-python",
   "name": "python",
   "nbconvert_exporter": "python",
   "pygments_lexer": "ipython3",
   "version": "3.10.0"
  },
  "orig_nbformat": 4
 },
 "nbformat": 4,
 "nbformat_minor": 2
}
