{
 "cells": [
  {
   "attachments": {},
   "cell_type": "markdown",
   "metadata": {},
   "source": [
    "# Kernel Support Vector Machine (SVM) Model"
   ]
  },
  {
   "attachments": {},
   "cell_type": "markdown",
   "metadata": {},
   "source": [
    "## Data Preprocessing"
   ]
  },
  {
   "cell_type": "code",
   "execution_count": 1,
   "metadata": {},
   "outputs": [],
   "source": [
    "# Importing the libraries\n",
    "import numpy as np\n",
    "import matplotlib.pyplot as plt\n",
    "import pandas as pd\n",
    "import os\n",
    "\n",
    "# Set working directory\n",
    "month_file = '6_October'\n",
    "\n",
    "# Set working directory\n",
    "os.chdir(\"/Users/mau/Library/CloudStorage/Dropbox/Mac/Documents/Dissertation/Chapter 2/Entire_Data/By month/\"+month_file+\"/Ending Balances/Per_Player\")"
   ]
  },
  {
   "cell_type": "code",
   "execution_count": 2,
   "metadata": {},
   "outputs": [
    {
     "name": "stdout",
     "output_type": "stream",
     "text": [
      "Index(['playerkey', 'session_time', 'gender', 'age_range', 'age_gen',\n",
      "       'beginning_amt', 'ending_amt', 'ending_balance', 'ave_slotdenom',\n",
      "       'std_slotdenom', 'min_slotdenom', 'max_slotdenom', 'ave_theo_payback',\n",
      "       'min_theo_payback', 'max_theo_payback', 'ave_wageramt', 'std_wageramt',\n",
      "       'min_wager', 'max_wager', 'ave_p/b', 'std_p/b', 'max_p/b', 'max_profit',\n",
      "       'depletion_slope', '#inc_maxbet', '#dec_maxbet', 'first_wager',\n",
      "       'first_outcome', 'first_p/b', 'last_wager', 'last_outcome', 'last_p/b',\n",
      "       '#W', '#L', '#NH', '#D', 'w/min', 'l/min', 'nh/min', 'd/min', 'w/g',\n",
      "       'l/g', 'nh/g', 'd/g', '#2ws', '2ws_profit', '2ws_wgramt', '#3ws',\n",
      "       '3ws_profit', '3ws_wgramt', '#4ws', '4ws_profit', '4ws_wgramt',\n",
      "       '2ws/min', '3ws/min', '4ws/min', 'ave_time_per_gamble',\n",
      "       'min_time_per_gamble', 'max_time_per_gamble', 'total_duration',\n",
      "       'total_gambles', 'machines_changes', '#inc_slotdenom', '#dec_slotdenom',\n",
      "       'unique_machines', 'ave_time_per_machine', 'classification'],\n",
      "      dtype='object')\n"
     ]
    }
   ],
   "source": [
    "# Load original dataset\n",
    "dataset = pd.read_parquet('top_player_ending_balance_by_session.parquet')\n",
    "\n",
    "print(dataset.columns)"
   ]
  },
  {
   "cell_type": "markdown",
   "metadata": {},
   "source": [
    "## Column Mapping"
   ]
  },
  {
   "cell_type": "code",
   "execution_count": 3,
   "metadata": {},
   "outputs": [
    {
     "name": "stdout",
     "output_type": "stream",
     "text": [
      "{0: 'playerkey', 1: 'session_time', 2: 'gender', 3: 'age_range', 4: 'age_gen', 5: 'beginning_amt', 6: 'ending_amt', 7: 'ending_balance', 8: 'ave_slotdenom', 9: 'std_slotdenom', 10: 'min_slotdenom', 11: 'max_slotdenom', 12: 'ave_theo_payback', 13: 'min_theo_payback', 14: 'max_theo_payback', 15: 'ave_wageramt', 16: 'std_wageramt', 17: 'min_wager', 18: 'max_wager', 19: 'ave_p/b', 20: 'std_p/b', 21: 'max_p/b', 22: 'max_profit', 23: 'depletion_slope', 24: '#inc_maxbet', 25: '#dec_maxbet', 26: 'first_wager', 27: 'first_outcome', 28: 'first_p/b', 29: 'last_wager', 30: 'last_outcome', 31: 'last_p/b', 32: '#W', 33: '#L', 34: '#NH', 35: '#D', 36: 'w/min', 37: 'l/min', 38: 'nh/min', 39: 'd/min', 40: 'w/g', 41: 'l/g', 42: 'nh/g', 43: 'd/g', 44: '#2ws', 45: '2ws_profit', 46: '2ws_wgramt', 47: '#3ws', 48: '3ws_profit', 49: '3ws_wgramt', 50: '#4ws', 51: '4ws_profit', 52: '4ws_wgramt', 53: '2ws/min', 54: '3ws/min', 55: '4ws/min', 56: 'ave_time_per_gamble', 57: 'min_time_per_gamble', 58: 'max_time_per_gamble', 59: 'total_duration', 60: 'total_gambles', 61: 'machines_changes', 62: '#inc_slotdenom', 63: '#dec_slotdenom', 64: 'unique_machines', 65: 'ave_time_per_machine', 66: 'classification'}\n"
     ]
    }
   ],
   "source": [
    "# Create a dictionary mapping column names to their index positions\n",
    "column_index_mapping = {index: column_name for index, column_name in enumerate(dataset.columns)}\n",
    "\n",
    "# Print the dictionary\n",
    "print(column_index_mapping)"
   ]
  },
  {
   "attachments": {},
   "cell_type": "markdown",
   "metadata": {},
   "source": [
    "## Load Dataframes"
   ]
  },
  {
   "cell_type": "code",
   "execution_count": 4,
   "metadata": {},
   "outputs": [],
   "source": [
    "# Filter Columns\n",
    "filter = ['session_time', 'gender', 'age_gen', 'first_outcome',\n",
    "        'first_wager','first_p/b', 'last_outcome', 'last_wager', 'last_p/b',\n",
    "        'beginning_amt', 'ending_amt', 'ending_balance', 'ave_slotdenom', \n",
    "        'std_slotdenom', 'min_slotdenom', 'max_slotdenom', 'ave_theo_payback',\n",
    "        'min_theo_payback', 'max_theo_payback', 'ave_wageramt', 'std_wageramt',\n",
    "        'min_wager', 'max_wager', 'ave_p/b', 'std_p/b', 'max_p/b', 'max_profit', 'depletion_slope', \n",
    "        '#inc_slotdenom', '#dec_slotdenom', '#inc_maxbet', '#dec_maxbet', '#W', '#L', '#NH', '#D',\n",
    "        'w/min', 'l/min', '#2ws', '2ws_profit', '2ws_wgramt','2ws/min', \n",
    "        '#3ws', '3ws_profit', '3ws_wgramt', '3ws/min', '#4ws', '4ws_profit', '4ws_wgramt', '4ws/min', \n",
    "        'w/g', 'l/g', 'nh/g', 'd/g', 'ave_time_per_gamble', \n",
    "        'min_time_per_gamble', 'max_time_per_gamble', 'total_gambles', 'total_duration',\n",
    "        'machines_changes', 'unique_machines', 'ave_time_per_machine', 'classification']\n",
    "\n",
    "# Columns NOT INCLUDED\n",
    "# 'playerkey', 'rank', 'age_range', '#W', '#L', '#NH', '#D', #2ws, #3ws, #4ws, 2ws_profit, 3ws_profit, 4ws_profit,\n",
    "# 2ws_wgramt, 3ws_wgramt, 4ws_wgramt, ave_time_per_machine, 'total_duration', 'total_gambles'\n",
    "\n",
    "# Load dataset\n",
    "dataset = pd.read_parquet('top_player_ending_balance_by_session.parquet', columns=filter)\n",
    "\n",
    "# Keep only session_time 1\n",
    "dataset = dataset[dataset['session_time'] == 1]\n",
    "# Drop age_range and playerkey\n",
    "dataset = dataset.drop(['session_time'], axis=1)\n",
    "\n",
    "# Covert 'total_duration' and  to seconds\n",
    "dataset['total_duration'] = dataset['total_duration'].dt.total_seconds()\n",
    "\n",
    "# Convert 'ave_time_per_machine' to seconds\n",
    "dataset['ave_time_per_machine'] = dataset['ave_time_per_machine'].dt.total_seconds()\n",
    "\n",
    "# # Seperate dependent and independent variables\n",
    "X = dataset.iloc[:, :-1].values\n",
    "y = dataset.iloc[:, -1].values"
   ]
  },
  {
   "attachments": {},
   "cell_type": "markdown",
   "metadata": {},
   "source": [
    "## Taking Care of Missing Data\n",
    "\n",
    "X[:, 3:31] it covers from beggining account balance to 4ws_wgramt column\n",
    "\n",
    "We do not need this step since we do not have missing data!"
   ]
  },
  {
   "cell_type": "code",
   "execution_count": 5,
   "metadata": {},
   "outputs": [],
   "source": [
    "# from sklearn.impute import SimpleImputer\n",
    "# imputer = SimpleImputer(missing_values=np.nan, strategy='mean')\n",
    "# imputer.fit(X[:, 3:31])\n",
    "# X[:, 3:31] = imputer.transform(X[:, 3:31])"
   ]
  },
  {
   "attachments": {},
   "cell_type": "markdown",
   "metadata": {},
   "source": [
    "## Encoding Categorical Data\n",
    "\n",
    "### Encoding the Independent Variable"
   ]
  },
  {
   "cell_type": "code",
   "execution_count": 6,
   "metadata": {},
   "outputs": [],
   "source": [
    "from sklearn.compose import ColumnTransformer\n",
    "from sklearn.preprocessing import OneHotEncoder\n",
    "from sklearn.preprocessing import LabelEncoder\n",
    "\n",
    "# Econde gender column (Binary)\n",
    "le = LabelEncoder()\n",
    "\n",
    "# Binary Encode gender\n",
    "X[:, 0] = le.fit_transform(X[:, 0])"
   ]
  },
  {
   "cell_type": "code",
   "execution_count": 7,
   "metadata": {},
   "outputs": [],
   "source": [
    "# # Encode age_generartion, first_outoce, last_outcome columns\n",
    "ct = ColumnTransformer(transformers=[('encoder', OneHotEncoder(), [1, 2, 5])], remainder='passthrough')\n",
    "X = np.array(ct.fit_transform(X))"
   ]
  },
  {
   "attachments": {},
   "cell_type": "markdown",
   "metadata": {},
   "source": [
    "### Encoding the Dependent Variable"
   ]
  },
  {
   "cell_type": "code",
   "execution_count": 8,
   "metadata": {},
   "outputs": [],
   "source": [
    "y = le.fit_transform(y)"
   ]
  },
  {
   "attachments": {},
   "cell_type": "markdown",
   "metadata": {},
   "source": [
    "## Splitting the dataset into the Training set and Test set"
   ]
  },
  {
   "cell_type": "code",
   "execution_count": 9,
   "metadata": {},
   "outputs": [],
   "source": [
    "from sklearn.model_selection import train_test_split\n",
    "X_train, X_test, y_train, y_test = train_test_split(X, y, test_size = 0.2, random_state = 1)"
   ]
  },
  {
   "attachments": {},
   "cell_type": "markdown",
   "metadata": {},
   "source": [
    "## Feature Scaling"
   ]
  },
  {
   "cell_type": "code",
   "execution_count": 10,
   "metadata": {},
   "outputs": [],
   "source": [
    "from sklearn.preprocessing import StandardScaler\n",
    "sc = StandardScaler()\n",
    "\n",
    "# Scale all columns except the encoded ones\n",
    "X_train[:, 14:] = sc.fit_transform(X_train[:, 14:])\n",
    "X_test[:, 14:] = sc.transform(X_test[:, 14:])"
   ]
  },
  {
   "attachments": {},
   "cell_type": "markdown",
   "metadata": {},
   "source": [
    "## Training the Logistic Regression model on \n",
    "\n",
    "1.   X_train\n",
    "2.   y_train\n",
    "\n",
    "the Training set"
   ]
  },
  {
   "cell_type": "code",
   "execution_count": 11,
   "metadata": {},
   "outputs": [
    {
     "data": {
      "text/html": [
       "<style>#sk-container-id-1 {color: black;background-color: white;}#sk-container-id-1 pre{padding: 0;}#sk-container-id-1 div.sk-toggleable {background-color: white;}#sk-container-id-1 label.sk-toggleable__label {cursor: pointer;display: block;width: 100%;margin-bottom: 0;padding: 0.3em;box-sizing: border-box;text-align: center;}#sk-container-id-1 label.sk-toggleable__label-arrow:before {content: \"▸\";float: left;margin-right: 0.25em;color: #696969;}#sk-container-id-1 label.sk-toggleable__label-arrow:hover:before {color: black;}#sk-container-id-1 div.sk-estimator:hover label.sk-toggleable__label-arrow:before {color: black;}#sk-container-id-1 div.sk-toggleable__content {max-height: 0;max-width: 0;overflow: hidden;text-align: left;background-color: #f0f8ff;}#sk-container-id-1 div.sk-toggleable__content pre {margin: 0.2em;color: black;border-radius: 0.25em;background-color: #f0f8ff;}#sk-container-id-1 input.sk-toggleable__control:checked~div.sk-toggleable__content {max-height: 200px;max-width: 100%;overflow: auto;}#sk-container-id-1 input.sk-toggleable__control:checked~label.sk-toggleable__label-arrow:before {content: \"▾\";}#sk-container-id-1 div.sk-estimator input.sk-toggleable__control:checked~label.sk-toggleable__label {background-color: #d4ebff;}#sk-container-id-1 div.sk-label input.sk-toggleable__control:checked~label.sk-toggleable__label {background-color: #d4ebff;}#sk-container-id-1 input.sk-hidden--visually {border: 0;clip: rect(1px 1px 1px 1px);clip: rect(1px, 1px, 1px, 1px);height: 1px;margin: -1px;overflow: hidden;padding: 0;position: absolute;width: 1px;}#sk-container-id-1 div.sk-estimator {font-family: monospace;background-color: #f0f8ff;border: 1px dotted black;border-radius: 0.25em;box-sizing: border-box;margin-bottom: 0.5em;}#sk-container-id-1 div.sk-estimator:hover {background-color: #d4ebff;}#sk-container-id-1 div.sk-parallel-item::after {content: \"\";width: 100%;border-bottom: 1px solid gray;flex-grow: 1;}#sk-container-id-1 div.sk-label:hover label.sk-toggleable__label {background-color: #d4ebff;}#sk-container-id-1 div.sk-serial::before {content: \"\";position: absolute;border-left: 1px solid gray;box-sizing: border-box;top: 0;bottom: 0;left: 50%;z-index: 0;}#sk-container-id-1 div.sk-serial {display: flex;flex-direction: column;align-items: center;background-color: white;padding-right: 0.2em;padding-left: 0.2em;position: relative;}#sk-container-id-1 div.sk-item {position: relative;z-index: 1;}#sk-container-id-1 div.sk-parallel {display: flex;align-items: stretch;justify-content: center;background-color: white;position: relative;}#sk-container-id-1 div.sk-item::before, #sk-container-id-1 div.sk-parallel-item::before {content: \"\";position: absolute;border-left: 1px solid gray;box-sizing: border-box;top: 0;bottom: 0;left: 50%;z-index: -1;}#sk-container-id-1 div.sk-parallel-item {display: flex;flex-direction: column;z-index: 1;position: relative;background-color: white;}#sk-container-id-1 div.sk-parallel-item:first-child::after {align-self: flex-end;width: 50%;}#sk-container-id-1 div.sk-parallel-item:last-child::after {align-self: flex-start;width: 50%;}#sk-container-id-1 div.sk-parallel-item:only-child::after {width: 0;}#sk-container-id-1 div.sk-dashed-wrapped {border: 1px dashed gray;margin: 0 0.4em 0.5em 0.4em;box-sizing: border-box;padding-bottom: 0.4em;background-color: white;}#sk-container-id-1 div.sk-label label {font-family: monospace;font-weight: bold;display: inline-block;line-height: 1.2em;}#sk-container-id-1 div.sk-label-container {text-align: center;}#sk-container-id-1 div.sk-container {/* jupyter's `normalize.less` sets `[hidden] { display: none; }` but bootstrap.min.css set `[hidden] { display: none !important; }` so we also need the `!important` here to be able to override the default hidden behavior on the sphinx rendered scikit-learn.org. See: https://github.com/scikit-learn/scikit-learn/issues/21755 */display: inline-block !important;position: relative;}#sk-container-id-1 div.sk-text-repr-fallback {display: none;}</style><div id=\"sk-container-id-1\" class=\"sk-top-container\"><div class=\"sk-text-repr-fallback\"><pre>SVC(random_state=0)</pre><b>In a Jupyter environment, please rerun this cell to show the HTML representation or trust the notebook. <br />On GitHub, the HTML representation is unable to render, please try loading this page with nbviewer.org.</b></div><div class=\"sk-container\" hidden><div class=\"sk-item\"><div class=\"sk-estimator sk-toggleable\"><input class=\"sk-toggleable__control sk-hidden--visually\" id=\"sk-estimator-id-1\" type=\"checkbox\" checked><label for=\"sk-estimator-id-1\" class=\"sk-toggleable__label sk-toggleable__label-arrow\">SVC</label><div class=\"sk-toggleable__content\"><pre>SVC(random_state=0)</pre></div></div></div></div></div>"
      ],
      "text/plain": [
       "SVC(random_state=0)"
      ]
     },
     "execution_count": 11,
     "metadata": {},
     "output_type": "execute_result"
    }
   ],
   "source": [
    "from sklearn.svm import SVC\n",
    "classifier = SVC(kernel = 'rbf', random_state = 0)\n",
    "classifier.fit(X_train, y_train)"
   ]
  },
  {
   "attachments": {},
   "cell_type": "markdown",
   "metadata": {},
   "source": [
    "### Which IDVs have the most weight in the model"
   ]
  },
  {
   "cell_type": "code",
   "execution_count": 12,
   "metadata": {},
   "outputs": [
    {
     "name": "stdout",
     "output_type": "stream",
     "text": [
      "remainder__x56: 0.021261682242990666\n",
      "remainder__x32: 0.01331775700934581\n",
      "remainder__x31: 0.012616822429906582\n",
      "remainder__x24: 0.012149532710280376\n",
      "remainder__x34: 0.011915887850467311\n",
      "remainder__x23: 0.010981308411214974\n",
      "remainder__x37: 0.00841121495327104\n",
      "remainder__x60: 0.0074766355140186815\n",
      "remainder__x4: 0.007242990654205616\n",
      "remainder__x18: 0.007242990654205616\n",
      "remainder__x33: 0.007009345794392552\n",
      "remainder__x57: 0.006775700934579465\n",
      "remainder__x42: 0.006775700934579454\n",
      "remainder__x20: 0.006775700934579442\n",
      "remainder__x36: 0.006074766355140204\n",
      "remainder__x48: 0.006074766355140204\n",
      "remainder__x47: 0.005841121495327129\n",
      "remainder__x39: 0.005841121495327117\n",
      "remainder__x28: 0.00560747663551403\n",
      "remainder__x27: 0.0053738317757009435\n",
      "remainder__x16: 0.004906542056074781\n",
      "remainder__x25: 0.004205607476635553\n",
      "remainder__x38: 0.004205607476635553\n",
      "remainder__x22: 0.0039719626168224775\n",
      "remainder__x10: 0.003971962616822455\n",
      "remainder__x12: 0.003971962616822455\n",
      "remainder__x9: 0.0037383177570093793\n",
      "remainder__x19: 0.0037383177570093685\n",
      "remainder__x45: 0.0037383177570093685\n",
      "encoder__x1_Millenials: 0.0037383177570093572\n",
      "remainder__x26: 0.0035046728971963037\n",
      "remainder__x8: 0.0035046728971962924\n",
      "remainder__x49: 0.0035046728971962816\n",
      "remainder__x55: 0.0035046728971962816\n",
      "remainder__x6: 0.00303738317757013\n",
      "remainder__x35: 0.00303738317757013\n",
      "encoder__x2_near-hit: 0.0030373831775701186\n",
      "remainder__x43: 0.0030373831775701186\n",
      "remainder__x44: 0.0030373831775701186\n",
      "encoder__x5_gain: 0.0030373831775701078\n",
      "remainder__x21: 0.002803738317757043\n",
      "remainder__x17: 0.002803738317757021\n",
      "remainder__x3: 0.0025700934579439673\n",
      "remainder__x41: 0.0025700934579439673\n",
      "remainder__x40: 0.0023364485981308804\n",
      "remainder__x58: 0.002336448598130869\n",
      "remainder__x52: 0.002336448598130858\n",
      "encoder__x2_gain: 0.0021028037383178043\n",
      "encoder__x1_Gen X: 0.0021028037383177935\n",
      "encoder__x1_Silent: 0.0021028037383177822\n",
      "remainder__x59: 0.0021028037383177822\n",
      "remainder__x46: 0.0018691588785047174\n",
      "remainder__x13: 0.0018691588785047064\n",
      "remainder__x7: 0.0018691588785046953\n",
      "remainder__x54: 0.0016355140186916084\n",
      "remainder__x50: 0.0014018691588785436\n",
      "remainder__x14: 0.0014018691588785215\n",
      "remainder__x0: 0.0011682242990654346\n",
      "remainder__x11: 0.0011682242990654346\n",
      "remainder__x15: 0.0009345794392523699\n",
      "encoder__x2_draw: 0.00046728971962618494\n",
      "encoder__x5_draw: 0.00023364485981308691\n",
      "remainder__x51: 4.4408920985006264e-17\n",
      "encoder__x1_Gen Z: 0.0\n",
      "remainder__x29: -0.0016355140186915529\n",
      "remainder__x53: -0.0016355140186915529\n",
      "remainder__x30: -0.0018691588785046398\n",
      "encoder__x2_loss: -0.003504672897196215\n",
      "encoder__x5_near-hit: -0.004672897196261627\n",
      "encoder__x5_loss: -0.005607476635513975\n",
      "encoder__x1_Baby Boomers: -0.005841121495327062\n"
     ]
    }
   ],
   "source": [
    "from sklearn.inspection import permutation_importance\n",
    "\n",
    "# Assuming you have a trained classifier named 'classifier' and encoded data named 'X_encoded'\n",
    "# Calculate permutation importances\n",
    "result = permutation_importance(classifier, X_train, y_train, n_repeats=10, random_state=42)\n",
    "\n",
    "# Get feature importances and feature names\n",
    "importances = result.importances_mean\n",
    "feature_names = ct.get_feature_names_out()\n",
    "\n",
    "# Sort feature importances\n",
    "feature_importance = list(zip(feature_names, importances))\n",
    "feature_importance.sort(key=lambda x: x[1], reverse=True)\n",
    "\n",
    "# Print feature importances\n",
    "for feature, importance in feature_importance:\n",
    "    print(f\"{feature}: {importance}\")\n"
   ]
  },
  {
   "attachments": {},
   "cell_type": "markdown",
   "metadata": {},
   "source": [
    "### Predicting the Test set results"
   ]
  },
  {
   "cell_type": "code",
   "execution_count": 13,
   "metadata": {},
   "outputs": [
    {
     "name": "stdout",
     "output_type": "stream",
     "text": [
      "[[1 1]\n",
      " [1 1]\n",
      " [1 1]\n",
      " [1 2]\n",
      " [1 0]\n",
      " [1 1]\n",
      " [1 2]\n",
      " [1 1]\n",
      " [2 1]\n",
      " [2 2]\n",
      " [1 1]\n",
      " [1 2]\n",
      " [2 2]\n",
      " [2 2]\n",
      " [1 2]\n",
      " [1 2]\n",
      " [1 1]\n",
      " [2 2]\n",
      " [2 2]\n",
      " [1 1]\n",
      " [1 1]\n",
      " [1 2]\n",
      " [1 1]\n",
      " [2 2]\n",
      " [2 2]\n",
      " [1 2]\n",
      " [2 2]\n",
      " [1 2]\n",
      " [1 2]\n",
      " [2 0]\n",
      " [1 1]\n",
      " [1 2]\n",
      " [2 2]\n",
      " [1 1]\n",
      " [2 1]\n",
      " [2 1]\n",
      " [2 0]\n",
      " [1 1]\n",
      " [1 2]\n",
      " [2 1]\n",
      " [2 0]\n",
      " [2 1]\n",
      " [1 2]\n",
      " [2 0]\n",
      " [2 0]\n",
      " [2 2]\n",
      " [1 2]\n",
      " [1 2]\n",
      " [2 0]\n",
      " [1 1]\n",
      " [1 2]\n",
      " [1 1]\n",
      " [1 0]\n",
      " [2 2]\n",
      " [2 0]\n",
      " [2 2]\n",
      " [1 1]\n",
      " [2 2]\n",
      " [1 2]\n",
      " [1 1]\n",
      " [1 2]\n",
      " [1 1]\n",
      " [1 1]\n",
      " [1 1]\n",
      " [2 0]\n",
      " [1 1]\n",
      " [2 2]\n",
      " [1 1]\n",
      " [1 2]\n",
      " [1 1]\n",
      " [2 2]\n",
      " [1 1]\n",
      " [1 1]\n",
      " [2 1]\n",
      " [2 0]\n",
      " [1 1]\n",
      " [2 0]\n",
      " [1 1]\n",
      " [2 0]\n",
      " [1 1]\n",
      " [2 2]\n",
      " [2 2]\n",
      " [1 1]\n",
      " [1 1]\n",
      " [1 2]\n",
      " [1 2]\n",
      " [1 1]\n",
      " [2 1]\n",
      " [1 1]\n",
      " [2 1]\n",
      " [2 2]\n",
      " [1 1]\n",
      " [1 1]\n",
      " [1 1]\n",
      " [2 2]\n",
      " [1 1]\n",
      " [2 2]\n",
      " [1 1]\n",
      " [2 0]\n",
      " [2 2]\n",
      " [2 0]\n",
      " [1 1]\n",
      " [2 2]\n",
      " [1 0]\n",
      " [1 2]\n",
      " [1 1]\n",
      " [1 1]\n",
      " [1 1]]\n"
     ]
    }
   ],
   "source": [
    "y_pred = classifier.predict(X_test)\n",
    "\n",
    "print(np.concatenate((y_pred.reshape(len(y_pred),1), y_test.reshape(len(y_test),1)),1))"
   ]
  },
  {
   "attachments": {},
   "cell_type": "markdown",
   "metadata": {},
   "source": [
    "### Making the Confusion Matrix and Accuracy Score"
   ]
  },
  {
   "cell_type": "code",
   "execution_count": 14,
   "metadata": {},
   "outputs": [
    {
     "name": "stdout",
     "output_type": "stream",
     "text": [
      "[[ 0  3 13]\n",
      " [ 0 41  8]\n",
      " [ 0 21 22]]\n",
      "Accuracy:  0.5833333333333334\n",
      "Precision:  0.7141323792486584\n",
      "Recall:  0.44945420028476507\n",
      "F1 Score:  0.41030871753025977\n"
     ]
    }
   ],
   "source": [
    "from sklearn.metrics import confusion_matrix, accuracy_score, precision_score, recall_score, f1_score\n",
    "cm = confusion_matrix(y_test, y_pred)\n",
    "print(cm)\n",
    "print('Accuracy: ', accuracy_score(y_test, y_pred))\n",
    "print('Precision: ', precision_score(y_test, y_pred, average='macro', zero_division=1))\n",
    "print('Recall: ', recall_score(y_test, y_pred, average='macro'))\n",
    "print('F1 Score: ', f1_score(y_test, y_pred, average='macro'))"
   ]
  },
  {
   "attachments": {},
   "cell_type": "markdown",
   "metadata": {},
   "source": [
    "## Cumulative Accuracy Profile (CAP) Graph"
   ]
  },
  {
   "cell_type": "code",
   "execution_count": 15,
   "metadata": {},
   "outputs": [
    {
     "data": {
      "image/png": "[encoded data removed]",
      "text/plain": [
       "<Figure size 640x480 with 1 Axes>"
      ]
     },
     "metadata": {},
     "output_type": "display_data"
    }
   ],
   "source": [
    "import numpy as np\n",
    "import matplotlib.pyplot as plt\n",
    "\n",
    "# Assuming you have the predicted probabilities or scores named 'predicted_scores' and true labels named 'true_labels'\n",
    "\n",
    "# Sort the scores and corresponding true labels\n",
    "sorted_indices = np.argsort(y_pred)[::-1]\n",
    "sorted_true_labels = y_test[sorted_indices]\n",
    "\n",
    "# Calculate cumulative metrics\n",
    "total_positive = np.sum(y_test)\n",
    "cumulative_positives = np.cumsum(sorted_true_labels)\n",
    "cumulative_accuracy = cumulative_positives / total_positive\n",
    "cumulative_fraction = np.arange(1, len(sorted_true_labels) + 1) / len(sorted_true_labels)\n",
    "\n",
    "# Create the CAP curve plot\n",
    "plt.plot(cumulative_fraction, cumulative_accuracy, label='Model')\n",
    "plt.plot([0, 1], [0, 1], 'k--', label='Baseline')\n",
    "plt.xlabel('Cumulative Fraction')\n",
    "plt.ylabel('Cumulative Accuracy')\n",
    "plt.title('Cumulative Accuracy Profile (CAP) Curve')\n",
    "plt.legend()\n",
    "plt.show()"
   ]
  }
 ],
 "metadata": {
  "kernelspec": {
   "display_name": "Python 3",
   "language": "python",
   "name": "python3"
  },
  "language_info": {
   "codemirror_mode": {
    "name": "ipython",
    "version": 3
   },
   "file_extension": ".py",
   "mimetype": "text/x-python",
   "name": "python",
   "nbconvert_exporter": "python",
   "pygments_lexer": "ipython3",
   "version": "3.10.0"
  },
  "orig_nbformat": 4
 },
 "nbformat": 4,
 "nbformat_minor": 2
}
