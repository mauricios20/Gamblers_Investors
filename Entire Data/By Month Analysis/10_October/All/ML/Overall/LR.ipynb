{
 "cells": [
  {
   "attachments": {},
   "cell_type": "markdown",
   "metadata": {},
   "source": [
    "# Logistic Regression"
   ]
  },
  {
   "attachments": {},
   "cell_type": "markdown",
   "metadata": {},
   "source": [
    "## Data Preprocessing"
   ]
  },
  {
   "cell_type": "code",
   "execution_count": 1,
   "metadata": {},
   "outputs": [],
   "source": [
    "# Importing the libraries\n",
    "import numpy as np\n",
    "import matplotlib.pyplot as plt\n",
    "import pandas as pd\n",
    "import os\n",
    "\n",
    "# Set working directory\n",
    "month_file = '6_October'\n",
    "# Set working directory\n",
    "os.chdir(\"/Users/mau/Library/CloudStorage/Dropbox/Mac/Documents/Dissertation/Chapter 2/Entire_Data/By month/\"+month_file+\"/Ending Balances/Per_Player\")"
   ]
  },
  {
   "cell_type": "code",
   "execution_count": 2,
   "metadata": {},
   "outputs": [
    {
     "name": "stdout",
     "output_type": "stream",
     "text": [
      "Index(['playerkey', 'session_time', 'gender', 'age_range', 'age_gen',\n",
      "       'beginning_amt', 'ending_amt', 'ending_balance', 'ave_slotdenom',\n",
      "       'std_slotdenom', 'min_slotdenom', 'max_slotdenom', 'ave_theo_payback',\n",
      "       'min_theo_payback', 'max_theo_payback', 'ave_wageramt', 'std_wageramt',\n",
      "       'min_wager', 'max_wager', 'ave_p/b', 'std_p/b', 'max_p/b', 'max_profit',\n",
      "       'depletion_slope', '#inc_maxbet', '#dec_maxbet', 'first_wager',\n",
      "       'first_outcome', 'first_p/b', 'last_wager', 'last_outcome', 'last_p/b',\n",
      "       '#W', '#L', '#NH', '#D', 'w/min', 'l/min', 'nh/min', 'd/min', 'w/g',\n",
      "       'l/g', 'nh/g', 'd/g', '#2ws', '2ws_profit', '2ws_wgramt', '#3ws',\n",
      "       '3ws_profit', '3ws_wgramt', '#4ws', '4ws_profit', '4ws_wgramt',\n",
      "       '2ws/min', '3ws/min', '4ws/min', 'ave_time_per_gamble',\n",
      "       'min_time_per_gamble', 'max_time_per_gamble', 'total_duration',\n",
      "       'total_gambles', 'machines_changes', '#inc_slotdenom', '#dec_slotdenom',\n",
      "       'unique_machines', 'ave_time_per_machine', 'classification'],\n",
      "      dtype='object')\n"
     ]
    }
   ],
   "source": [
    "# Load original dataset\n",
    "dataset = pd.read_parquet('per_player_ending_balance_by_session_ALL.parquet')\n",
    "\n",
    "print(dataset.columns)"
   ]
  },
  {
   "attachments": {},
   "cell_type": "markdown",
   "metadata": {},
   "source": [
    "## Load Dataframes"
   ]
  },
  {
   "cell_type": "code",
   "execution_count": 3,
   "metadata": {},
   "outputs": [],
   "source": [
    "# Filter Columns\n",
    "filter = ['session_time', 'gender', 'age_gen', 'first_outcome',\n",
    "        'first_wager','first_p/b', 'last_outcome', 'last_wager', 'last_p/b',\n",
    "        'beginning_amt', 'ending_amt', 'ending_balance', 'ave_slotdenom', \n",
    "        'std_slotdenom', 'min_slotdenom', 'max_slotdenom', 'ave_theo_payback',\n",
    "        'min_theo_payback', 'max_theo_payback', 'ave_wageramt', 'std_wageramt',\n",
    "        'min_wager', 'max_wager', 'ave_p/b', 'std_p/b', 'max_p/b', 'max_profit', 'depletion_slope', \n",
    "        '#inc_slotdenom', '#dec_slotdenom', '#inc_maxbet', '#dec_maxbet', \n",
    "        'w/min', 'l/min', '2ws/min', '3ws/min', '4ws/min',\n",
    "        'nh/min', 'd/min', 'w/g', 'l/g', 'nh/g', 'd/g', 'ave_time_per_gamble', \n",
    "        'min_time_per_gamble', 'max_time_per_gamble',\n",
    "        'machines_changes', 'unique_machines', 'classification']\n",
    "\n",
    "# Columns NOT INCLUDED\n",
    "# 'playerkey', 'rank', 'age_range', '#W', '#L', '#NH', '#D', #2ws, #3ws, #4ws, 2ws_profit, 3ws_profit, 4ws_profit,\n",
    "# 2ws_wgramt, 3ws_wgramt, 4ws_wgramt, ave_time_per_machine, 'total_duration', 'total_gambles'\n",
    "\n",
    "# Load dataset\n",
    "dataset = pd.read_parquet('per_player_ending_balance_by_session_ALL.parquet', columns=filter)\n",
    "\n",
    "# Keep only session_time 1\n",
    "dataset = dataset[dataset['session_time'] == 1]\n",
    "# Drop age_range and playerkey\n",
    "dataset = dataset.drop(['session_time'], axis=1)\n",
    "\n",
    "\n",
    "# # Seperate dependent and independent variables\n",
    "X = dataset.iloc[:, :-1].values\n",
    "y = dataset.iloc[:, -1].values"
   ]
  },
  {
   "attachments": {},
   "cell_type": "markdown",
   "metadata": {},
   "source": [
    "## Taking Care of Missing Data\n",
    "\n",
    "X[:, 3:31] it covers from beggining account balance to 4ws_wgramt column\n",
    "\n",
    "We do not need this step since we do not have missing data!"
   ]
  },
  {
   "cell_type": "code",
   "execution_count": 4,
   "metadata": {},
   "outputs": [],
   "source": [
    "# from sklearn.impute import SimpleImputer\n",
    "# imputer = SimpleImputer(missing_values=np.nan, strategy='mean')\n",
    "# imputer.fit(X[:, 3:31])\n",
    "# X[:, 3:31] = imputer.transform(X[:, 3:31])"
   ]
  },
  {
   "attachments": {},
   "cell_type": "markdown",
   "metadata": {},
   "source": [
    "## Encoding Categorical Data\n",
    "\n",
    "### Encoding the Independent Variable"
   ]
  },
  {
   "cell_type": "code",
   "execution_count": 5,
   "metadata": {},
   "outputs": [],
   "source": [
    "from sklearn.compose import ColumnTransformer\n",
    "from sklearn.preprocessing import OneHotEncoder\n",
    "from sklearn.preprocessing import LabelEncoder\n",
    "\n",
    "# Econde gender column (Binary)\n",
    "le = LabelEncoder()\n",
    "\n",
    "# Binary Encode gender and simplay\n",
    "X[:, 0] = le.fit_transform(X[:, 0])"
   ]
  },
  {
   "cell_type": "code",
   "execution_count": 6,
   "metadata": {},
   "outputs": [],
   "source": [
    "# # Encode age_generartion, first_outoce, last_outcome columns\n",
    "ct = ColumnTransformer(transformers=[('encoder', OneHotEncoder(), [1, 2, 5])], remainder='passthrough')\n",
    "X = np.array(ct.fit_transform(X))"
   ]
  },
  {
   "attachments": {},
   "cell_type": "markdown",
   "metadata": {},
   "source": [
    "### Encoding the Dependent Variable"
   ]
  },
  {
   "cell_type": "code",
   "execution_count": 7,
   "metadata": {},
   "outputs": [],
   "source": [
    "y = le.fit_transform(y)"
   ]
  },
  {
   "attachments": {},
   "cell_type": "markdown",
   "metadata": {},
   "source": [
    "## Splitting the dataset into the Training set and Test set"
   ]
  },
  {
   "cell_type": "code",
   "execution_count": 8,
   "metadata": {},
   "outputs": [],
   "source": [
    "from sklearn.model_selection import train_test_split\n",
    "X_train, X_test, y_train, y_test = train_test_split(X, y, test_size = 0.2, random_state = 1)"
   ]
  },
  {
   "attachments": {},
   "cell_type": "markdown",
   "metadata": {},
   "source": [
    "## Feature Scaling"
   ]
  },
  {
   "cell_type": "code",
   "execution_count": 9,
   "metadata": {},
   "outputs": [],
   "source": [
    "from sklearn.preprocessing import StandardScaler\n",
    "sc = StandardScaler()\n",
    "\n",
    "# Scale all columns except the encoded ones\n",
    "X_train[:, 14:] = sc.fit_transform(X_train[:, 14:])\n",
    "X_test[:, 14:] = sc.transform(X_test[:, 14:])"
   ]
  },
  {
   "attachments": {},
   "cell_type": "markdown",
   "metadata": {},
   "source": [
    "## Training the Logistic Regression model on \n",
    "\n",
    "1.   X_train\n",
    "2.   y_train\n",
    "\n",
    "the Training set"
   ]
  },
  {
   "cell_type": "code",
   "execution_count": 10,
   "metadata": {},
   "outputs": [
    {
     "data": {
      "text/html": [
       "<style>#sk-container-id-1 {color: black;background-color: white;}#sk-container-id-1 pre{padding: 0;}#sk-container-id-1 div.sk-toggleable {background-color: white;}#sk-container-id-1 label.sk-toggleable__label {cursor: pointer;display: block;width: 100%;margin-bottom: 0;padding: 0.3em;box-sizing: border-box;text-align: center;}#sk-container-id-1 label.sk-toggleable__label-arrow:before {content: \"▸\";float: left;margin-right: 0.25em;color: #696969;}#sk-container-id-1 label.sk-toggleable__label-arrow:hover:before {color: black;}#sk-container-id-1 div.sk-estimator:hover label.sk-toggleable__label-arrow:before {color: black;}#sk-container-id-1 div.sk-toggleable__content {max-height: 0;max-width: 0;overflow: hidden;text-align: left;background-color: #f0f8ff;}#sk-container-id-1 div.sk-toggleable__content pre {margin: 0.2em;color: black;border-radius: 0.25em;background-color: #f0f8ff;}#sk-container-id-1 input.sk-toggleable__control:checked~div.sk-toggleable__content {max-height: 200px;max-width: 100%;overflow: auto;}#sk-container-id-1 input.sk-toggleable__control:checked~label.sk-toggleable__label-arrow:before {content: \"▾\";}#sk-container-id-1 div.sk-estimator input.sk-toggleable__control:checked~label.sk-toggleable__label {background-color: #d4ebff;}#sk-container-id-1 div.sk-label input.sk-toggleable__control:checked~label.sk-toggleable__label {background-color: #d4ebff;}#sk-container-id-1 input.sk-hidden--visually {border: 0;clip: rect(1px 1px 1px 1px);clip: rect(1px, 1px, 1px, 1px);height: 1px;margin: -1px;overflow: hidden;padding: 0;position: absolute;width: 1px;}#sk-container-id-1 div.sk-estimator {font-family: monospace;background-color: #f0f8ff;border: 1px dotted black;border-radius: 0.25em;box-sizing: border-box;margin-bottom: 0.5em;}#sk-container-id-1 div.sk-estimator:hover {background-color: #d4ebff;}#sk-container-id-1 div.sk-parallel-item::after {content: \"\";width: 100%;border-bottom: 1px solid gray;flex-grow: 1;}#sk-container-id-1 div.sk-label:hover label.sk-toggleable__label {background-color: #d4ebff;}#sk-container-id-1 div.sk-serial::before {content: \"\";position: absolute;border-left: 1px solid gray;box-sizing: border-box;top: 0;bottom: 0;left: 50%;z-index: 0;}#sk-container-id-1 div.sk-serial {display: flex;flex-direction: column;align-items: center;background-color: white;padding-right: 0.2em;padding-left: 0.2em;position: relative;}#sk-container-id-1 div.sk-item {position: relative;z-index: 1;}#sk-container-id-1 div.sk-parallel {display: flex;align-items: stretch;justify-content: center;background-color: white;position: relative;}#sk-container-id-1 div.sk-item::before, #sk-container-id-1 div.sk-parallel-item::before {content: \"\";position: absolute;border-left: 1px solid gray;box-sizing: border-box;top: 0;bottom: 0;left: 50%;z-index: -1;}#sk-container-id-1 div.sk-parallel-item {display: flex;flex-direction: column;z-index: 1;position: relative;background-color: white;}#sk-container-id-1 div.sk-parallel-item:first-child::after {align-self: flex-end;width: 50%;}#sk-container-id-1 div.sk-parallel-item:last-child::after {align-self: flex-start;width: 50%;}#sk-container-id-1 div.sk-parallel-item:only-child::after {width: 0;}#sk-container-id-1 div.sk-dashed-wrapped {border: 1px dashed gray;margin: 0 0.4em 0.5em 0.4em;box-sizing: border-box;padding-bottom: 0.4em;background-color: white;}#sk-container-id-1 div.sk-label label {font-family: monospace;font-weight: bold;display: inline-block;line-height: 1.2em;}#sk-container-id-1 div.sk-label-container {text-align: center;}#sk-container-id-1 div.sk-container {/* jupyter's `normalize.less` sets `[hidden] { display: none; }` but bootstrap.min.css set `[hidden] { display: none !important; }` so we also need the `!important` here to be able to override the default hidden behavior on the sphinx rendered scikit-learn.org. See: https://github.com/scikit-learn/scikit-learn/issues/21755 */display: inline-block !important;position: relative;}#sk-container-id-1 div.sk-text-repr-fallback {display: none;}</style><div id=\"sk-container-id-1\" class=\"sk-top-container\"><div class=\"sk-text-repr-fallback\"><pre>LogisticRegression(max_iter=1000, random_state=0)</pre><b>In a Jupyter environment, please rerun this cell to show the HTML representation or trust the notebook. <br />On GitHub, the HTML representation is unable to render, please try loading this page with nbviewer.org.</b></div><div class=\"sk-container\" hidden><div class=\"sk-item\"><div class=\"sk-estimator sk-toggleable\"><input class=\"sk-toggleable__control sk-hidden--visually\" id=\"sk-estimator-id-1\" type=\"checkbox\" checked><label for=\"sk-estimator-id-1\" class=\"sk-toggleable__label sk-toggleable__label-arrow\">LogisticRegression</label><div class=\"sk-toggleable__content\"><pre>LogisticRegression(max_iter=1000, random_state=0)</pre></div></div></div></div></div>"
      ],
      "text/plain": [
       "LogisticRegression(max_iter=1000, random_state=0)"
      ]
     },
     "execution_count": 10,
     "metadata": {},
     "output_type": "execute_result"
    }
   ],
   "source": [
    "from sklearn.linear_model import LogisticRegression\n",
    "classifier = LogisticRegression(random_state = 0, max_iter=1000)\n",
    "classifier.fit(X_train, y_train)"
   ]
  },
  {
   "attachments": {},
   "cell_type": "markdown",
   "metadata": {},
   "source": [
    "### Which IDVs have the most weight in the model"
   ]
  },
  {
   "cell_type": "code",
   "execution_count": 11,
   "metadata": {},
   "outputs": [
    {
     "name": "stdout",
     "output_type": "stream",
     "text": [
      "{0: 'gender', 1: 'age_gen', 2: 'first_outcome', 3: 'first_wager', 4: 'first_p/b', 5: 'last_outcome', 6: 'last_wager', 7: 'last_p/b', 8: 'beginning_amt', 9: 'ending_amt', 10: 'ending_balance', 11: 'ave_slotdenom', 12: 'std_slotdenom', 13: 'min_slotdenom', 14: 'max_slotdenom', 15: 'ave_theo_payback', 16: 'min_theo_payback', 17: 'max_theo_payback', 18: 'ave_wageramt', 19: 'std_wageramt', 20: 'min_wager', 21: 'max_wager', 22: 'ave_p/b', 23: 'std_p/b', 24: 'max_p/b', 25: 'max_profit', 26: 'depletion_slope', 27: '#inc_slotdenom', 28: '#dec_slotdenom', 29: '#inc_maxbet', 30: '#dec_maxbet', 31: 'w/min', 32: 'l/min', 33: '2ws/min', 34: '3ws/min', 35: '4ws/min', 36: 'nh/min', 37: 'd/min', 38: 'w/g', 39: 'l/g', 40: 'nh/g', 41: 'd/g', 42: 'ave_time_per_gamble', 43: 'min_time_per_gamble', 44: 'max_time_per_gamble', 45: 'machines_changes', 46: 'unique_machines', 47: 'classification'}\n"
     ]
    }
   ],
   "source": [
    "# Create a dictionary mapping column names to their index positions\n",
    "column_index_mapping = {index: column_name for index, column_name in enumerate(dataset.columns)}\n",
    "\n",
    "# Print the dictionary\n",
    "print(column_index_mapping)\n"
   ]
  },
  {
   "cell_type": "code",
   "execution_count": 12,
   "metadata": {},
   "outputs": [
    {
     "name": "stdout",
     "output_type": "stream",
     "text": [
      "remainder__x24: 8.432884377870357\n",
      "remainder__x23: -5.1435036696892125\n",
      "remainder__x42: -1.664875580715071\n",
      "remainder__x44: 1.4640845123961483\n",
      "remainder__x43: -1.1014231515211104\n",
      "remainder__x22: 1.0043819301773622\n",
      "remainder__x25: 0.9709598316727082\n",
      "remainder__x46: 0.8797414384385431\n",
      "remainder__x39: -0.8146271428863695\n",
      "remainder__x40: -0.7855401848177255\n",
      "remainder__x37: -0.7388770737277873\n",
      "remainder__x8: 0.6546350488502358\n",
      "remainder__x32: -0.5847519333178403\n",
      "remainder__x45: 0.5339018031246324\n",
      "remainder__x19: -0.497041264697623\n",
      "encoder__x1_Silent: 0.4653715140146721\n",
      "remainder__x30: 0.44490432975747884\n",
      "remainder__x28: 0.4005919016863371\n",
      "remainder__x36: 0.3783574579809735\n",
      "remainder__x41: -0.3672790728573902\n",
      "encoder__x1_Gen Z: -0.36072719050854135\n",
      "remainder__x27: 0.34054773140755323\n",
      "encoder__x1_Millenials: -0.2761968094825245\n",
      "remainder__x14: -0.2489447998424191\n",
      "remainder__x21: 0.24216675952720967\n",
      "remainder__x38: -0.24099639167775744\n",
      "remainder__x10: -0.2341126663213465\n",
      "remainder__x18: 0.22515644421993744\n",
      "remainder__x9: 0.20766836569066946\n",
      "encoder__x5_gain: -0.18978346067263024\n",
      "encoder__x1_Baby Boomers: 0.17917109372952394\n",
      "remainder__x12: 0.17868089559618622\n",
      "encoder__x2_near-hit: 0.16053645546807763\n",
      "remainder__x11: -0.15400125408479515\n",
      "remainder__x17: 0.15164600224307132\n",
      "remainder__x7: 0.15128213239208732\n",
      "encoder__x2_draw: -0.14758546165719164\n",
      "remainder__x26: 0.14334745521023984\n",
      "encoder__x5_loss: 0.14010242470973583\n",
      "remainder__x31: -0.13332064697409005\n",
      "remainder__x20: -0.12788418054302705\n",
      "remainder__x13: -0.12722069121408114\n",
      "remainder__x3: -0.12614154222125645\n",
      "remainder__x0: -0.10473229609619736\n",
      "remainder__x15: 0.09292903456652561\n",
      "remainder__x34: 0.0926875776320759\n",
      "remainder__x16: 0.06508077848775826\n",
      "remainder__x6: 0.05779236103190305\n",
      "remainder__x35: -0.04120749494913026\n",
      "remainder__x33: -0.03771328923624646\n",
      "encoder__x2_gain: -0.03735432882308616\n",
      "encoder__x5_draw: 0.03469856608299535\n",
      "encoder__x2_loss: 0.029080327029368587\n",
      "encoder__x5_near-hit: 0.019659461897066636\n",
      "remainder__x4: -0.018546884163193486\n",
      "remainder__x29: -0.014618230777148732\n",
      "encoder__x1_Gen X: -0.0029416157359618386\n"
     ]
    }
   ],
   "source": [
    "# Get the feature names after one-hot encoding\n",
    "feature_names = ct.get_feature_names_out()\n",
    "\n",
    "# Get the coefficients and feature importance\n",
    "coefficients = classifier.coef_[0]\n",
    "feature_importance = list(zip(feature_names, coefficients))\n",
    "\n",
    "# Sort the feature importance by absolute coefficient values\n",
    "feature_importance.sort(key=lambda x: abs(x[1]), reverse=True)\n",
    "\n",
    "# Print the feature importance\n",
    "for feature, importance in feature_importance:\n",
    "    print(f\"{feature}: {importance}\")"
   ]
  },
  {
   "cell_type": "code",
   "execution_count": 13,
   "metadata": {},
   "outputs": [
    {
     "name": "stdout",
     "output_type": "stream",
     "text": [
      "remainder__x24: 0.23747458775694605\n",
      "remainder__x39: 0.10063248249378816\n",
      "remainder__x23: 0.08958662751298849\n",
      "remainder__x40: 0.07540094872374072\n",
      "remainder__x46: 0.07451999096453583\n",
      "remainder__x44: 0.0536254800090355\n",
      "remainder__x22: 0.040365936299977465\n",
      "remainder__x43: 0.03008809577592053\n",
      "remainder__x41: 0.024983058504630708\n",
      "remainder__x42: 0.021707702733227963\n",
      "remainder__x8: 0.01063925909193587\n",
      "remainder__x25: 0.009871244635193155\n",
      "remainder__x19: 0.009216173480912615\n",
      "remainder__x20: 0.007747910548904502\n",
      "remainder__x38: 0.0072283713575785336\n",
      "remainder__x10: 0.006279647616896334\n",
      "remainder__x30: 0.006008583690987157\n",
      "remainder__x15: 0.005985995030494695\n",
      "remainder__x26: 0.005353512536706595\n",
      "remainder__x7: 0.005127625931782276\n",
      "encoder__x5_gain: 0.004065958888637944\n",
      "encoder__x1_Baby Boomers: 0.0034334763948498104\n",
      "remainder__x14: 0.0030720578269708976\n",
      "remainder__x21: 0.0027784052405692592\n",
      "remainder__x45: 0.0025751072961373578\n",
      "remainder__x27: 0.0024169866726903577\n",
      "remainder__x29: 0.0023492206912130277\n",
      "remainder__x4: 0.0023040433702281706\n",
      "encoder__x1_Silent: 0.0019426248023492465\n",
      "remainder__x16: 0.0019426248023492465\n",
      "remainder__x33: 0.001626383555455213\n",
      "remainder__x17: 0.0016263835554551909\n",
      "remainder__x12: 0.0015360289134854765\n",
      "remainder__x11: 0.0013553196295460034\n",
      "remainder__x28: 0.0009939010616670575\n",
      "remainder__x6: 0.0009487237406822114\n",
      "remainder__x18: 0.0009487237406822114\n",
      "remainder__x34: 0.0008357804382200351\n",
      "encoder__x1_Gen Z: 0.0007906031172351891\n",
      "encoder__x2_draw: 0.0006776598147730129\n",
      "remainder__x36: 0.0005195391913259906\n",
      "encoder__x5_draw: 0.0004969505308335398\n",
      "remainder__x37: 0.00018070928393951747\n",
      "remainder__x3: 0.00011294330246218731\n",
      "remainder__x13: -2.258866049237307e-05\n",
      "remainder__x35: -4.5177320984834955e-05\n",
      "encoder__x1_Millenials: -0.00013553196295457148\n",
      "remainder__x0: -0.00042918454935618743\n",
      "encoder__x1_Gen X: -0.0004517732098486049\n",
      "remainder__x31: -0.0007454257962502209\n",
      "remainder__x32: -0.0008131917777275399\n",
      "remainder__x9: -0.0008357804382199796\n",
      "encoder__x5_loss: -0.0009261350801897161\n",
      "encoder__x2_near-hit: -0.0010164897221594416\n",
      "encoder__x2_loss: -0.001106844364129156\n",
      "encoder__x5_near-hit: -0.0011294330246215956\n",
      "encoder__x2_gain: -0.0013327309690534862\n"
     ]
    }
   ],
   "source": [
    "from sklearn.inspection import permutation_importance\n",
    "\n",
    "result = permutation_importance(classifier, X_train, y_train, n_repeats=10, random_state=42)\n",
    "\n",
    "# Get feature importances and feature names\n",
    "importances = result.importances_mean\n",
    "feature_names = ct.get_feature_names_out()\n",
    "\n",
    "# Sort feature importances\n",
    "feature_importance = list(zip(feature_names, importances))\n",
    "feature_importance.sort(key=lambda x: x[1], reverse=True)\n",
    "\n",
    "# Print feature importances\n",
    "for feature, importance in feature_importance:\n",
    "    print(f\"{feature}: {importance}\")"
   ]
  },
  {
   "attachments": {},
   "cell_type": "markdown",
   "metadata": {},
   "source": [
    "### Predicting the Test set results"
   ]
  },
  {
   "cell_type": "code",
   "execution_count": 14,
   "metadata": {},
   "outputs": [
    {
     "name": "stdout",
     "output_type": "stream",
     "text": [
      "[[3 3]\n",
      " [3 2]\n",
      " [0 1]\n",
      " ...\n",
      " [2 1]\n",
      " [2 1]\n",
      " [0 0]]\n"
     ]
    }
   ],
   "source": [
    "y_pred = classifier.predict(X_test)\n",
    "\n",
    "print(np.concatenate((y_pred.reshape(len(y_pred),1), y_test.reshape(len(y_test),1)),1))"
   ]
  },
  {
   "attachments": {},
   "cell_type": "markdown",
   "metadata": {},
   "source": [
    "### Making the Confusion Matrix and Accuracy Score"
   ]
  },
  {
   "cell_type": "code",
   "execution_count": 15,
   "metadata": {},
   "outputs": [
    {
     "name": "stdout",
     "output_type": "stream",
     "text": [
      "[[184  71  19  17]\n",
      " [ 58 107  77  34]\n",
      " [  6  67 124  82]\n",
      " [  1   4  46 210]]\n",
      "Accuracy:  0.5645889792231256\n",
      "Precision:  0.5617712525720497\n",
      "Recall:  0.5672564276281103\n",
      "F1 Score:  0.5598776597676896\n",
      "True Positive (B20):  184\n",
      "True Negative (T20):  107\n",
      "False Positive:  71\n",
      "False Negative:  58\n"
     ]
    }
   ],
   "source": [
    "from sklearn.metrics import confusion_matrix, accuracy_score, precision_score, recall_score, f1_score\n",
    "cm = confusion_matrix(y_test, y_pred)\n",
    "print(cm)\n",
    "print('Accuracy: ', accuracy_score(y_test, y_pred))\n",
    "print('Precision: ', precision_score(y_test, y_pred, average='macro'))\n",
    "print('Recall: ', recall_score(y_test, y_pred, average='macro'))\n",
    "print('F1 Score: ', f1_score(y_test, y_pred, average='macro'))\n",
    "\n",
    "# Interpretation of confusion matrix\n",
    "print('True Positive (B20): ', cm[0][0])\n",
    "print('True Negative (T20): ', cm[1][1])\n",
    "print('False Positive: ', cm[0][1])\n",
    "print('False Negative: ', cm[1][0])"
   ]
  },
  {
   "attachments": {},
   "cell_type": "markdown",
   "metadata": {},
   "source": [
    "## Cumulative Accuracy Profile (CAP) Graph"
   ]
  },
  {
   "cell_type": "code",
   "execution_count": 16,
   "metadata": {},
   "outputs": [
    {
     "data": {
      "image/png": "[encoded data removed]",
      "text/plain": [
       "<Figure size 640x480 with 1 Axes>"
      ]
     },
     "metadata": {},
     "output_type": "display_data"
    }
   ],
   "source": [
    "import numpy as np\n",
    "import matplotlib.pyplot as plt\n",
    "\n",
    "# Assuming you have the predicted probabilities or scores named 'predicted_scores' and true labels named 'true_labels'\n",
    "\n",
    "# Sort the scores and corresponding true labels\n",
    "sorted_indices = np.argsort(y_pred)[::-1]\n",
    "sorted_true_labels = y_test[sorted_indices]\n",
    "\n",
    "# Calculate cumulative metrics\n",
    "total_positive = np.sum(y_test)\n",
    "cumulative_positives = np.cumsum(sorted_true_labels)\n",
    "cumulative_accuracy = cumulative_positives / total_positive\n",
    "cumulative_fraction = np.arange(1, len(sorted_true_labels) + 1) / len(sorted_true_labels)\n",
    "\n",
    "# Create the CAP curve plot\n",
    "plt.plot(cumulative_fraction, cumulative_accuracy, label='Model')\n",
    "plt.plot([0, 1], [0, 1], 'k--', label='Baseline')\n",
    "plt.xlabel('Cumulative Fraction')\n",
    "plt.ylabel('Cumulative Accuracy')\n",
    "plt.title('Cumulative Accuracy Profile (CAP) Curve')\n",
    "plt.legend()\n",
    "plt.show()"
   ]
  }
 ],
 "metadata": {
  "kernelspec": {
   "display_name": "Python 3",
   "language": "python",
   "name": "python3"
  },
  "language_info": {
   "codemirror_mode": {
    "name": "ipython",
    "version": 3
   },
   "file_extension": ".py",
   "mimetype": "text/x-python",
   "name": "python",
   "nbconvert_exporter": "python",
   "pygments_lexer": "ipython3",
   "version": "3.10.0"
  },
  "orig_nbformat": 4
 },
 "nbformat": 4,
 "nbformat_minor": 2
}
