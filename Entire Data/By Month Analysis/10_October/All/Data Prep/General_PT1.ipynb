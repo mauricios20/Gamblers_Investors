{
 "cells": [
  {
   "attachments": {},
   "cell_type": "markdown",
   "metadata": {},
   "source": [
    "# Similarities and Differences between Categories (Pt.1 - Age, Gender, Won/Lost Amount)"
   ]
  },
  {
   "cell_type": "code",
   "execution_count": 1,
   "metadata": {},
   "outputs": [],
   "source": [
    "# Define libraries\n",
    "import pandas as pd\n",
    "import numpy as np\n",
    "import matplotlib.pyplot as plt\n",
    "import seaborn as sns\n",
    "import matplotlib.dates as mdates\n",
    "import os\n",
    "import plotting_fn as pf\n",
    "import counting_fns as cf\n",
    "\n",
    "month_file = '6_October'\n",
    "cut_off = 10000\n",
    "# Set working directory\n",
    "os.chdir(\"/Users/mau/Library/CloudStorage/Dropbox/Mac/Documents/Dissertation/Chapter 2/Entire_Data/By month/\"+month_file)\n"
   ]
  },
  {
   "cell_type": "code",
   "execution_count": 2,
   "metadata": {},
   "outputs": [],
   "source": [
    "# Read in data\n",
    "df = pd.read_parquet(\"classification.parquet\")\n",
    "\n",
    "\n",
    "# Eliminate players who maximum number of gambles is 1\n",
    "df = df.groupby('playerkey').filter(lambda x: x['gambles'].nunique() > 1)\n",
    "\n",
    "\n",
    "# Reset index\n",
    "df.index = np.arange(1, len(df) + 1)\n",
    "\n",
    "\n",
    "# Round wageredamt and profit to 2 decimal places\n",
    "df['wageredamt'] = df['wageredamt'].round(1)\n",
    "df['profit'] = df['profit'].round(1)\n",
    "df['percent_return'] = df['percent_return'].round(1)\n"
   ]
  },
  {
   "cell_type": "code",
   "execution_count": 3,
   "metadata": {},
   "outputs": [],
   "source": [
    "# Create a new column 'result_type' that is a categorical variable which takes the value 'loss' if the change is negative and 'gain' if the change is positive, and 'draw' of change is 0\n",
    "df['result_type'] = df['percent_return'].apply(lambda x: 'loss' if x == -100 else 'near-hit' if x < 0 else 'gain' if x > 0 else 'draw')\n",
    "\n",
    "# Create dummy variables from 'result_type'\n",
    "dummy_variables = pd.get_dummies(df['result_type']).rename(columns=lambda x: '#' + str(x[0].capitalize()))\n",
    "\n",
    "# Add the dummy variables to the original DataFrame\n",
    "df = pd.concat([df, dummy_variables], axis=1).reset_index(drop=True)\n",
    "\n",
    "# Convert starttime to delte format for operations\n",
    "df['start_time'] = pd.to_datetime(df['start_time'])"
   ]
  },
  {
   "cell_type": "code",
   "execution_count": 4,
   "metadata": {},
   "outputs": [],
   "source": [
    "# Create new column called 'time_diff' which is the difference between the start time of the gamble and the start time of the previous gamble\n",
    "df['time_diff'] = df.groupby(['playerkey', 'session_time'])['start_time'].diff()\n",
    "\n",
    "# Convert time_diff to seconds\n",
    "df['time_diff'] = df['time_diff'].dt.total_seconds().fillna(0)"
   ]
  },
  {
   "attachments": {},
   "cell_type": "markdown",
   "metadata": {},
   "source": [
    "## General Overview\n",
    "\n",
    "### Players, Visits, Sessions of Each Group"
   ]
  },
  {
   "cell_type": "code",
   "execution_count": 5,
   "metadata": {},
   "outputs": [
    {
     "name": "stdout",
     "output_type": "stream",
     "text": [
      "Number of gamblers in dataframe: 5548\n",
      "--------------------------------------------------\n",
      "Number of unique visits in dtf: 10\n",
      "--------------------------------------------------\n",
      "Number of unique sessions in dtf: 10\n",
      "--------------------------------------------------\n"
     ]
    }
   ],
   "source": [
    "# Number of gamblers\n",
    "print(\"Number of gamblers in dataframe:\", len(df['playerkey'].unique()))\n",
    "print('--------------------------------------------------')\n",
    "\n",
    "# Print number of unique visits\n",
    "print(\"Number of unique visits in dtf:\", len(df['visit'].unique()))\n",
    "print('--------------------------------------------------')\n",
    "\n",
    "# Print number of unique sessions\n",
    "print(\"Number of unique sessions in dtf:\", len(df['session_time'].unique()))\n",
    "print('--------------------------------------------------')"
   ]
  },
  {
   "attachments": {},
   "cell_type": "markdown",
   "metadata": {},
   "source": [
    "### Wins in a row"
   ]
  },
  {
   "cell_type": "code",
   "execution_count": 6,
   "metadata": {},
   "outputs": [],
   "source": [
    "# Ude consecutive functions to find 2ws, 3ws, 4ws in a row in each dataset per session_time per player\n",
    "df = pf.consecutive_wins(df, 'visit')"
   ]
  },
  {
   "cell_type": "code",
   "execution_count": 7,
   "metadata": {},
   "outputs": [
    {
     "name": "stdout",
     "output_type": "stream",
     "text": [
      "Categories of wins in a row per visit:\n",
      "                        #2ws    #3ws   #4ws\n",
      "clasification visit                        \n",
      "extreme_r     1      12806.0  2444.0  757.0\n",
      "              2       7417.0  1353.0  483.0\n",
      "              3       3385.0   647.0  205.0\n",
      "              4       1301.0   228.0  115.0\n",
      "              5        450.0    72.0   28.0\n",
      "              6        131.0    27.0   15.0\n",
      "              7         39.0    19.0   15.0\n",
      "              8         67.0    20.0   14.0\n",
      "              9          2.0     0.0    0.0\n",
      "              10        17.0     2.0    0.0\n",
      "high_r        1       4065.0   711.0  217.0\n",
      "              2        854.0   153.0   56.0\n",
      "              3        161.0    31.0    4.0\n",
      "              4         16.0     2.0    0.0\n",
      "              5         10.0     3.0    1.0\n",
      "low_r         1       1800.0   294.0   85.0\n",
      "              2        161.0    32.0   13.0\n",
      "              3         20.0     3.0    0.0\n",
      "              4          4.0     0.0    0.0\n",
      "minimum_r     1        423.0    77.0   31.0\n",
      "              2         12.0     2.0    0.0\n",
      "              3          1.0     0.0    0.0\n",
      "--------------------------------------------------\n"
     ]
    }
   ],
   "source": [
    "# Print the numner of total number of 2 wins, 3 wins, 4 wins in a row in each dataset\n",
    "print('Categories of wins in a row per visit:')\n",
    "print(df.groupby(['clasification', 'visit'])[['#2ws', '#3ws', '#4ws']].sum())\n",
    "print('--------------------------------------------------')\n"
   ]
  },
  {
   "attachments": {},
   "cell_type": "markdown",
   "metadata": {},
   "source": [
    "### Gender Differences"
   ]
  },
  {
   "cell_type": "code",
   "execution_count": 8,
   "metadata": {},
   "outputs": [
    {
     "name": "stdout",
     "output_type": "stream",
     "text": [
      "Number of unique players in dtf:\n",
      "clasification  gender\n",
      "extreme_r      F         691\n",
      "               M         703\n",
      "high_r         F         659\n",
      "               M         741\n",
      "low_r          F         682\n",
      "               M         713\n",
      "minimum_r      F         670\n",
      "               M         689\n",
      "Name: playerkey, dtype: int64\n",
      "--------------------------------------------------\n"
     ]
    }
   ],
   "source": [
    "# Gender differences\n",
    "print(\"Number of unique players in dtf:\")\n",
    "print(df.groupby(['clasification', 'gender'])['playerkey'].nunique())\n",
    "print('--------------------------------------------------')"
   ]
  },
  {
   "attachments": {},
   "cell_type": "markdown",
   "metadata": {},
   "source": [
    "### Age Differences"
   ]
  },
  {
   "cell_type": "code",
   "execution_count": 9,
   "metadata": {},
   "outputs": [],
   "source": [
    "# Create age ranges \n",
    "bins = [0, 24, 40, 55, 75, 150]\n",
    "labels = ['18-24', '25-40', '41-55', '56-75', '76+']\n",
    "generations = ['Gen Z', 'Millenials', 'Gen X', 'Baby Boomers', 'Silent']\n",
    "\n",
    "# Use cut function to create age ranges for dtf and top 20%\n",
    "df['age_range'] = pd.cut(df['age'], bins=bins, labels=labels, right=False)\n",
    "df['age_gen'] = pd.cut(df['age'], bins=bins, labels=generations, right=False)"
   ]
  },
  {
   "cell_type": "code",
   "execution_count": 10,
   "metadata": {},
   "outputs": [
    {
     "name": "stdout",
     "output_type": "stream",
     "text": [
      "Number of unique players in dtf:\n",
      "clasification  age_range\n",
      "extreme_r      18-24         14\n",
      "               25-40        259\n",
      "               41-55        490\n",
      "               56-75        581\n",
      "               76+           50\n",
      "high_r         18-24         20\n",
      "               25-40        353\n",
      "               41-55        489\n",
      "               56-75        509\n",
      "               76+           29\n",
      "low_r          18-24         19\n",
      "               25-40        370\n",
      "               41-55        465\n",
      "               56-75        506\n",
      "               76+           35\n",
      "minimum_r      18-24         35\n",
      "               25-40        472\n",
      "               41-55        453\n",
      "               56-75        372\n",
      "               76+           27\n",
      "Name: playerkey, dtype: int64\n",
      "--------------------------------------------------\n"
     ]
    }
   ],
   "source": [
    "# Age range differences\n",
    "print(\"Number of unique players in dtf:\")\n",
    "print(df.groupby(['clasification', 'age_range'])['playerkey'].nunique())\n",
    "print('--------------------------------------------------')\n"
   ]
  },
  {
   "cell_type": "code",
   "execution_count": 11,
   "metadata": {},
   "outputs": [
    {
     "name": "stdout",
     "output_type": "stream",
     "text": [
      "Number of unique players in dtf:\n",
      "clasification  age_gen     \n",
      "extreme_r      Gen Z            14\n",
      "               Millenials      259\n",
      "               Gen X           490\n",
      "               Baby Boomers    581\n",
      "               Silent           50\n",
      "high_r         Gen Z            20\n",
      "               Millenials      353\n",
      "               Gen X           489\n",
      "               Baby Boomers    509\n",
      "               Silent           29\n",
      "low_r          Gen Z            19\n",
      "               Millenials      370\n",
      "               Gen X           465\n",
      "               Baby Boomers    506\n",
      "               Silent           35\n",
      "minimum_r      Gen Z            35\n",
      "               Millenials      472\n",
      "               Gen X           453\n",
      "               Baby Boomers    372\n",
      "               Silent           27\n",
      "Name: playerkey, dtype: int64\n",
      "--------------------------------------------------\n"
     ]
    }
   ],
   "source": [
    "# Age generation differences\n",
    "print(\"Number of unique players in dtf:\")\n",
    "print(df.groupby(['clasification', 'age_gen'])['playerkey'].nunique())\n",
    "print('--------------------------------------------------')"
   ]
  },
  {
   "cell_type": "code",
   "execution_count": 12,
   "metadata": {},
   "outputs": [
    {
     "name": "stdout",
     "output_type": "stream",
     "text": [
      "Male age differences in dtf:\n",
      "age_range\n",
      "18-24      42\n",
      "25-40     812\n",
      "41-55    1018\n",
      "56-75     898\n",
      "76+        76\n",
      "Name: playerkey, dtype: int64\n",
      "--------------------------------------------------\n",
      "Female age differences in dtf:\n",
      "age_range\n",
      "18-24      46\n",
      "25-40     642\n",
      "41-55     879\n",
      "56-75    1070\n",
      "76+        65\n",
      "Name: playerkey, dtype: int64\n"
     ]
    },
    {
     "data": {
      "image/png": "[encoded data removed]",
      "text/plain": [
       "<Figure size 1000x500 with 2 Axes>"
      ]
     },
     "metadata": {},
     "output_type": "display_data"
    }
   ],
   "source": [
    "# Age range of male gamblers in dtf\n",
    "print(\"Male age differences in dtf:\")\n",
    "print(df[df['gender'] == 'M'].groupby('age_range')['playerkey'].nunique())\n",
    "print('--------------------------------------------------')\n",
    "# Age range of Female gamblers in dtf\n",
    "print('Female age differences in dtf:')\n",
    "print(df[df['gender'] == 'F'].groupby('age_range')['playerkey'].nunique())\n",
    "\n",
    "pf.plot_gender_diff(df, 'dtf', figsize=(10, 5))\n"
   ]
  },
  {
   "attachments": {},
   "cell_type": "markdown",
   "metadata": {},
   "source": [
    "### Increse and Decrease of SlotDenomination and Bet"
   ]
  },
  {
   "cell_type": "code",
   "execution_count": 13,
   "metadata": {},
   "outputs": [
    {
     "name": "stdout",
     "output_type": "stream",
     "text": [
      "Count of players who increase_slotdeno : 2052\n",
      "Count of times each player increase_slotdeno : {20: 189, 73: 8, 156: 5, 224: 15, 646: 2, 719: 1, 865: 2, 1069: 1, 1166: 11, 1233: 42, 1371: 2, 1408: 2, 1442: 3, 1959: 7, 2029: 2, 2070: 1, 2073: 1, 2099: 1, 2331: 4, 2710: 2, 3127: 18, 3260: 2, 3385: 4, 3634: 25, 3653: 6, 3677: 3, 3726: 1, 3955: 1, 4252: 1, 4265: 5, 4860: 2, 4970: 5, 5113: 10, 5147: 4, 5443: 1, 5879: 28, 5969: 13, 6234: 3, 6271: 13, 6292: 4, 6365: 21, 6695: 4, 6829: 1, 6954: 2, 7195: 1, 7337: 2, 7420: 1, 7689: 5, 7695: 6, 7774: 1, 7933: 3, 7967: 4, 8005: 3, 8233: 262, 8288: 1, 8412: 3, 8446: 12, 8465: 2, 8613: 1, 8827: 3, 8978: 19, 9011: 4, 9031: 4, 9222: 2, 9310: 1, 9510: 9, 10119: 2, 10248: 5, 10348: 1, 10349: 2, 10598: 1, 10738: 249, 11308: 2, 11309: 3, 11427: 6, 11474: 1, 11526: 1, 11584: 2, 11589: 2, 11821: 2, 11868: 2, 11947: 1, 12192: 2, 12277: 22, 12356: 7, 12437: 1, 12562: 1, 12692: 2, 13312: 3, 13910: 7, 14128: 1, 14443: 2, 14778: 1, 14868: 6, 15389: 36, 15612: 5, 15714: 1, 15736: 4, 16192: 1, 16207: 2, 17472: 194, 17497: 7, 17709: 1, 18082: 1, 18191: 1, 18617: 1, 18915: 2, 19166: 2, 19285: 6, 19351: 1, 19415: 2, 19496: 4, 19628: 1, 19977: 3, 20149: 1, 20496: 2, 20799: 1, 22989: 1, 23045: 8, 23202: 2, 23267: 3, 23278: 2, 23311: 2, 23321: 19, 23432: 1, 23434: 2, 23502: 1, 23585: 3, 23779: 1, 24117: 3, 24133: 3, 24171: 3, 25312: 2, 25362: 4, 26012: 1, 26502: 2, 26850: 3, 27510: 1, 27742: 2, 28671: 1, 28705: 3, 28710: 2, 28880: 91, 29216: 5, 29325: 5, 31032: 2, 31058: 1, 31561: 1, 31562: 1, 32477: 70, 32887: 6, 33899: 1, 34520: 2, 35356: 1, 37000: 1, 37278: 4, 37409: 8, 38229: 3, 38281: 3, 38358: 3, 38493: 1, 38494: 2, 38603: 2, 39139: 1, 39329: 1, 40386: 1, 40512: 2, 40628: 8, 41267: 1, 41307: 1, 41370: 1, 41606: 3, 41665: 8, 41690: 7, 41713: 2, 41716: 9, 41726: 3, 41839: 42, 41840: 3, 41848: 2, 41872: 2, 41875: 4, 41893: 1, 41939: 2, 41961: 2, 41970: 1, 42029: 5, 42055: 3, 42073: 5, 42086: 2, 42098: 2, 42103: 1, 42107: 2, 42145: 2, 42187: 2, 42204: 2, 42219: 3, 42244: 7, 42254: 3, 42269: 2, 42302: 3, 42304: 2, 42334: 2, 42387: 3, 42389: 1, 42390: 6, 42394: 1, 42414: 1, 42425: 3, 42426: 3, 42428: 1, 42429: 1, 42431: 2, 42440: 1, 42442: 2, 42445: 1, 42446: 1, 42451: 1, 42457: 3, 42467: 3, 42476: 1, 42477: 16, 42478: 4, 42481: 1, 42488: 1, 42494: 3, 42496: 2, 42497: 9, 42502: 1, 42509: 1, 42518: 5, 42526: 3, 42532: 3, 42540: 2, 42545: 5, 42548: 1, 42560: 5, 42564: 1, 42568: 2, 42589: 4, 42593: 3, 42596: 4, 42600: 7, 42608: 2, 42613: 308, 42626: 1, 42632: 8, 42644: 3, 42651: 3, 42656: 2, 42657: 3, 42684: 4, 42690: 2, 42693: 1, 42709: 11, 42714: 5, 42722: 3, 42723: 5, 42726: 8, 42727: 11, 42731: 2, 42732: 14, 42740: 1, 42744: 1, 42746: 1, 42752: 5, 42754: 2, 42758: 4, 42761: 2, 42763: 1, 42764: 1, 42806: 1, 42814: 6, 42826: 1, 42829: 1, 42832: 2, 42833: 2, 42835: 2, 42878: 21, 42883: 3, 42888: 1, 42889: 2, 42895: 1, 42908: 9, 42911: 2, 42929: 2, 42930: 2, 42931: 1, 42932: 1, 42943: 1, 42945: 1, 42952: 1, 42955: 19, 42956: 35, 42958: 4, 42975: 9, 42986: 1, 42992: 1, 43004: 2, 43014: 2, 43018: 1, 43019: 2, 43024: 1, 43025: 3, 43045: 1, 43063: 15, 43082: 3, 43093: 5, 43094: 2, 43095: 1, 43098: 1, 43101: 2, 43113: 1, 43117: 1, 43123: 3, 43124: 1, 43131: 1, 43132: 6, 43146: 1, 43152: 3, 43153: 1, 43166: 1, 43168: 1, 43175: 1, 43182: 3, 43183: 1, 43184: 1, 43187: 3, 43191: 7, 43200: 4, 43223: 4, 43235: 1, 43262: 9, 43282: 4, 43287: 8, 43291: 122, 43292: 5, 43309: 2, 43341: 1, 43346: 147, 43357: 12, 43359: 2, 43360: 2, 43364: 751, 43371: 108, 43373: 5, 43376: 8, 43385: 2, 43387: 11, 43400: 4, 43405: 1, 43416: 4, 43421: 8, 43424: 1, 43431: 2, 43434: 3, 43437: 5, 43438: 18, 43441: 1, 43447: 2, 43453: 2, 43454: 1, 43462: 1, 43493: 1, 43506: 8, 43511: 13, 43512: 2, 43526: 5, 43528: 3, 43568: 7, 43570: 3, 43573: 4, 43576: 3, 43592: 1, 43613: 1, 43616: 2, 43633: 109, 43644: 4, 43652: 4, 43653: 10, 43658: 1, 43661: 1, 43670: 1, 43673: 2, 43675: 1, 43699: 2, 43707: 2, 43724: 2, 43734: 2, 43735: 94, 43747: 37, 43749: 3, 43751: 4, 43752: 2, 43754: 7, 43761: 5, 43769: 2, 43770: 2, 43772: 13, 43773: 10, 43779: 2, 43781: 6, 43783: 4, 43784: 4, 43788: 1, 43790: 2, 43797: 1, 43798: 3, 43800: 1, 43802: 3, 43813: 1, 43820: 2, 43821: 313, 43822: 1, 43828: 2, 43842: 2, 43859: 2, 43866: 1, 43880: 5, 43888: 2, 43895: 1, 43899: 2, 43916: 2, 43919: 28, 43926: 4, 43934: 3, 43955: 8, 43962: 6, 43988: 10, 43991: 1, 43992: 2, 44005: 3, 44013: 3, 44019: 1, 44033: 1, 44040: 1, 44043: 42, 44045: 1, 44052: 6, 44056: 2, 44071: 3, 44081: 2, 44097: 1, 44101: 1, 44107: 4, 44118: 2, 44136: 1, 44147: 1, 44156: 4, 44157: 1, 44163: 1, 44169: 3, 44170: 3, 44174: 1, 44176: 5, 44187: 2, 44194: 3, 44196: 3, 44209: 9, 44222: 98, 44228: 2, 44231: 2, 44245: 1, 44252: 1, 44259: 9, 44260: 1, 44261: 6, 44265: 2, 44268: 1, 44269: 2, 44270: 1, 44273: 4, 44275: 3, 44289: 1, 44303: 5, 44309: 7, 44326: 6, 44327: 6, 44331: 1, 44334: 1, 44367: 1, 44373: 4, 44381: 21, 44383: 1, 44390: 3, 44393: 5, 44394: 7, 44400: 6, 44401: 3, 44402: 2, 44403: 2, 44404: 2, 44411: 2, 44413: 4, 44414: 4, 44418: 3, 44420: 3, 44421: 2, 44441: 6, 44446: 3, 44450: 1, 44459: 3, 44466: 2, 44479: 1, 44483: 1, 44488: 3, 44490: 3, 44491: 1, 44500: 188, 44502: 3, 44515: 1, 44519: 2, 44520: 1, 44526: 2, 44529: 1, 44533: 1, 44537: 3, 44562: 1, 44569: 1, 44570: 18, 44577: 4, 44583: 6, 44589: 10, 44593: 1, 44603: 19, 44615: 2, 44618: 2, 44619: 1, 44621: 2, 44622: 1, 44623: 4, 44630: 2, 44632: 2, 44635: 5, 44640: 5, 44641: 36, 44650: 1, 44651: 2, 44652: 3, 44656: 5, 44672: 4, 44679: 3, 44680: 2, 44691: 1, 44704: 1, 44710: 2, 44716: 2, 44718: 2, 44731: 2, 44764: 2, 44766: 6, 44769: 1, 44791: 3, 44803: 1, 44804: 2, 44807: 4, 44809: 1, 44811: 1, 44816: 2, 44827: 1, 44828: 3, 44836: 2, 44840: 1, 44843: 1, 44844: 4, 44845: 1, 44853: 1, 44856: 1, 44858: 4, 44863: 4, 44910: 1, 44917: 2, 44919: 1, 44920: 2, 44933: 1, 44936: 3, 44939: 3, 44943: 5, 44948: 3, 44953: 2, 44959: 9, 44963: 2, 44969: 1, 44972: 4, 44973: 5, 44974: 4, 44979: 3, 44986: 12, 44998: 4, 45003: 1, 45023: 1, 45024: 15, 45031: 63, 45032: 1, 45042: 4, 45043: 4, 45044: 1, 45051: 5, 45058: 6, 45063: 1, 45070: 2, 45076: 4, 45078: 2, 45101: 1, 45102: 2, 45103: 1, 45104: 3, 45113: 1, 45118: 2, 45129: 1, 45141: 2, 45147: 2, 45153: 1, 45157: 3, 45158: 2, 45175: 2, 45186: 1, 45194: 2, 45197: 1, 45224: 5, 45225: 4, 45229: 1, 45238: 2, 45240: 1, 45243: 5, 45260: 2, 45262: 1, 45269: 5, 45275: 11, 45277: 3, 45283: 8, 45284: 2, 45285: 3, 45286: 1, 45288: 12, 45291: 1, 45299: 1, 45307: 2, 45310: 1, 45311: 1, 45347: 5, 45359: 3, 45365: 1, 45374: 1, 45377: 2, 45393: 1, 45397: 3, 45398: 3, 45416: 1, 45421: 4, 45423: 1, 45426: 3, 45431: 4, 45433: 2, 45449: 20, 45456: 3, 45466: 13, 45489: 5, 45492: 3, 45494: 4, 45500: 2, 45501: 5, 45504: 2, 45513: 1, 45528: 2, 45531: 8, 45532: 2, 45542: 2, 45561: 1, 45570: 17, 45573: 4, 45579: 4, 45580: 1, 45604: 5, 45605: 18, 45611: 1, 45614: 4, 45617: 4, 45618: 1, 45623: 4, 45627: 4, 45630: 8, 45634: 2, 45639: 2, 45640: 4, 45649: 1, 45654: 2, 45668: 1, 45680: 5, 45686: 5, 45689: 5, 45691: 2, 45703: 1, 45706: 3, 45711: 1, 45719: 1, 45734: 5, 45737: 3, 45738: 1, 45739: 1, 45782: 13, 45790: 7, 45791: 1, 45792: 4, 45793: 7, 45804: 2, 45810: 1, 45811: 1, 45812: 1, 45820: 194, 45824: 1, 45827: 8, 45838: 2, 45840: 5, 45841: 3, 45873: 5, 45874: 5, 45882: 2, 45883: 1, 45889: 1, 45915: 2, 45922: 1, 45923: 1, 45936: 1, 45953: 4, 45956: 126, 45968: 2, 45979: 5, 45987: 3, 46000: 1, 46004: 2, 46008: 132, 46012: 4, 46013: 4, 46018: 1, 46021: 2, 46024: 3, 46034: 2, 46037: 1, 46045: 4, 46062: 3, 46064: 2, 46070: 7, 46071: 1, 46097: 1, 46104: 2, 46112: 3, 46115: 2, 46126: 1, 46133: 2, 46139: 28, 46155: 1, 46160: 1, 46162: 1, 46188: 2, 46195: 3, 46197: 1, 46199: 7, 46206: 23, 46207: 5, 46215: 2, 46236: 1, 46237: 2, 46252: 1, 46255: 1, 46263: 1, 46281: 3, 46289: 3, 46298: 2, 46302: 9, 46303: 14, 46312: 1, 46325: 1, 46336: 1, 46355: 9, 46356: 4, 46368: 1, 46376: 2, 46378: 2, 46383: 2, 46393: 4, 46433: 2, 46443: 7, 46468: 15, 46508: 3, 46522: 5, 46527: 1, 46529: 2, 46581: 2, 46598: 2, 46604: 1, 46606: 1, 46607: 164, 46609: 24, 46614: 3, 46633: 1, 46639: 2, 46644: 4, 46663: 1, 46666: 7, 46667: 1, 46668: 1, 46687: 1, 46697: 26, 46700: 1, 46707: 5, 46710: 1, 46719: 1, 46720: 7, 46728: 1, 46729: 5, 46736: 3, 46746: 4, 46750: 2, 46756: 3, 46761: 4, 46762: 11, 46773: 1, 46785: 3, 46787: 6, 46788: 2, 46793: 1, 46794: 1, 46797: 130, 46803: 1, 46820: 2, 46826: 1, 46828: 4, 46829: 6, 46838: 22, 46847: 5, 46848: 1, 46858: 2, 46865: 2, 46875: 2, 46891: 2, 46901: 11, 46904: 1, 46908: 1, 46920: 3, 46923: 1, 46936: 3, 46945: 2, 46961: 95, 46962: 1, 46966: 1, 46982: 11, 46992: 1, 47007: 4, 47017: 1, 47050: 8, 47054: 1, 47055: 3, 47073: 4, 47076: 1, 47081: 1, 47084: 1, 47092: 3, 47110: 132, 47116: 1, 47136: 4, 47162: 1, 47183: 3, 47201: 2, 47208: 1, 47211: 48, 47224: 11, 47232: 1, 47243: 1, 47250: 4, 47255: 1, 47256: 2, 47260: 1, 47275: 42, 47284: 1, 47295: 2, 47304: 3, 47317: 5, 47328: 1, 47336: 4, 47353: 3, 47360: 1, 47388: 2, 47399: 1, 47400: 28, 47410: 4, 47412: 4, 47435: 1, 47439: 2, 47463: 1, 47471: 73, 47475: 2, 47477: 1, 47478: 1, 47484: 4, 47485: 3, 47503: 1, 47530: 5, 47540: 4, 47551: 3, 47569: 4, 47570: 1, 47595: 1, 47611: 1, 47618: 5, 47643: 13, 47647: 2, 47667: 1, 47694: 5, 47704: 2, 47735: 1, 47737: 11, 47743: 1, 47760: 5, 47771: 6, 47778: 3, 47780: 1, 47788: 1, 47792: 1, 47797: 1, 47800: 1, 47805: 2, 47819: 5, 47831: 1, 47841: 2, 47842: 1, 47850: 1, 47854: 39, 47855: 2, 47861: 3, 47878: 1, 47890: 4, 47909: 2, 47918: 5, 47948: 3, 47964: 2, 47974: 1, 47979: 1, 450: 1, 499: 1, 613: 1, 677: 9, 988: 1, 1068: 1, 1136: 2, 1504: 1, 1933: 1, 2031: 1, 2155: 2, 2287: 1, 2819: 1, 3319: 1, 4180: 2, 4190: 2, 5859: 1, 5970: 1, 6056: 2, 6988: 1, 7167: 1, 7437: 1, 7960: 11, 8003: 1, 8114: 1, 8345: 1, 8538: 2, 8694: 1, 8932: 1, 9201: 2, 9478: 1, 9608: 6, 9866: 1, 10803: 1, 10817: 1, 11218: 1, 11722: 1, 11857: 1, 11912: 2, 12191: 1, 12226: 1, 12314: 5, 13517: 1, 13832: 3, 15324: 1, 15579: 1, 15853: 3, 16119: 1, 16538: 2, 17072: 1, 17344: 1, 17376: 1, 17524: 1, 17981: 2, 18762: 1, 18817: 2, 20069: 1, 21450: 1, 21495: 1, 22704: 1, 22968: 1, 23699: 1, 23744: 3, 24492: 1, 24607: 1, 24817: 2, 24833: 2, 24903: 1, 25404: 1, 25759: 10, 25923: 1, 27611: 1, 28390: 1, 28745: 1, 29117: 1, 30827: 10, 31691: 1, 32137: 1, 33297: 1, 36383: 1, 36482: 2, 36560: 2, 36561: 2, 36688: 7, 37678: 1, 38167: 1, 38276: 1, 39261: 4, 39712: 1, 39826: 2, 40750: 1, 40777: 2, 40810: 1, 41214: 1, 41326: 2, 41682: 1, 41706: 1, 41756: 2, 41778: 1, 41804: 3, 41908: 4, 41927: 2, 41938: 1, 41960: 1, 42023: 1, 42036: 3, 42037: 1, 42090: 1, 42165: 2, 42182: 2, 42184: 1, 42349: 2, 42360: 1, 42362: 1, 42393: 1, 42395: 1, 42406: 1, 42415: 3, 42424: 1, 42447: 2, 42454: 1, 42468: 1, 42472: 2, 42490: 1, 42492: 1, 42506: 1, 42508: 3, 42516: 7, 42561: 2, 42597: 1, 42601: 2, 42609: 3, 42611: 1, 42616: 1, 42622: 1, 42625: 2, 42637: 1, 42640: 2, 42641: 2, 42660: 1, 42663: 1, 42691: 2, 42705: 1, 42712: 1, 42743: 1, 42767: 1, 42772: 1, 42776: 1, 42777: 1, 42786: 1, 42788: 1, 42793: 2, 42798: 3, 42811: 3, 42812: 1, 42817: 1, 42834: 1, 42849: 1, 42851: 1, 42858: 1, 42859: 3, 42874: 2, 42879: 1, 42894: 5, 42917: 2, 42934: 3, 42946: 1, 42947: 1, 42959: 3, 42961: 3, 42964: 1, 42970: 1, 42976: 1, 42977: 1, 42982: 2, 42994: 1, 42995: 2, 43001: 5, 43003: 1, 43020: 2, 43031: 1, 43036: 1, 43040: 1, 43041: 2, 43060: 2, 43064: 5, 43072: 1, 43080: 1, 43085: 2, 43097: 2, 43102: 2, 43107: 1, 43114: 1, 43121: 2, 43127: 2, 43129: 1, 43144: 1, 43174: 1, 43176: 2, 43192: 3, 43204: 1, 43210: 1, 43217: 3, 43224: 2, 43239: 1, 43254: 1, 43255: 3, 43261: 1, 43272: 1, 43283: 1, 43298: 1, 43299: 3, 43301: 2, 43306: 2, 43334: 1, 43374: 1, 43401: 1, 43406: 1, 43415: 3, 43423: 2, 43455: 2, 43471: 1, 43472: 1, 43490: 2, 43492: 1, 43524: 1, 43555: 1, 43571: 1, 43582: 1, 43589: 1, 43595: 1, 43599: 1, 43609: 5, 43610: 1, 43627: 1, 43635: 2, 43645: 1, 43649: 1, 43684: 1, 43715: 1, 43743: 1, 43748: 2, 43760: 1, 43771: 3, 43794: 3, 43819: 1, 43829: 1, 43833: 4, 43835: 2, 43836: 2, 43853: 1, 43856: 4, 43862: 1, 43871: 1, 43873: 1, 43874: 1, 43884: 2, 43903: 16, 43908: 1, 43917: 1, 43943: 1, 43952: 2, 43967: 1, 43970: 2, 43973: 6, 43980: 1, 43984: 8, 44000: 5, 44004: 8, 44006: 3, 44042: 2, 44055: 1, 44063: 1, 44075: 1, 44077: 1, 44078: 1, 44098: 1, 44099: 1, 44137: 2, 44141: 2, 44152: 1, 44171: 1, 44178: 4, 44184: 4, 44195: 1, 44199: 1, 44200: 61, 44207: 2, 44217: 2, 44220: 1, 44238: 1, 44322: 1, 44333: 1, 44348: 1, 44371: 1, 44379: 2, 44391: 2, 44406: 1, 44437: 1, 44448: 1, 44458: 3, 44477: 1, 44492: 3, 44511: 1, 44516: 2, 44538: 1, 44541: 1, 44552: 1, 44553: 4, 44561: 1, 44565: 1, 44566: 1, 44573: 1, 44579: 2, 44586: 1, 44599: 1, 44600: 2, 44604: 3, 44605: 1, 44642: 1, 44661: 14, 44696: 1, 44699: 4, 44711: 3, 44717: 1, 44721: 3, 44730: 3, 44737: 1, 44741: 3, 44768: 1, 44773: 2, 44780: 1, 44786: 1, 44789: 1, 44802: 2, 44813: 2, 44820: 1, 44829: 1, 44830: 1, 44832: 1, 44833: 3, 44841: 1, 44852: 2, 44855: 1, 44860: 2, 44868: 1, 44891: 2, 44893: 6, 44902: 1, 44923: 2, 44924: 2, 44927: 2, 44932: 2, 44965: 1, 44977: 2, 44985: 5, 44987: 4, 44992: 1, 44996: 1, 44997: 3, 45005: 1, 45017: 1, 45018: 1, 45050: 1, 45069: 1, 45087: 1, 45092: 1, 45120: 1, 45130: 2, 45131: 1, 45146: 1, 45159: 1, 45160: 1, 45166: 1, 45174: 1, 45181: 1, 45182: 1, 45185: 1, 45191: 1, 45201: 1, 45203: 4, 45204: 2, 45216: 1, 45227: 1, 45231: 1, 45232: 2, 45248: 5, 45252: 2, 45253: 1, 45254: 3, 45287: 3, 45321: 2, 45339: 1, 45378: 1, 45425: 3, 45427: 5, 45436: 2, 45439: 2, 45468: 1, 45496: 1, 45502: 1, 45557: 5, 45599: 1, 45606: 1, 45644: 1, 45648: 1, 45656: 1, 45671: 2, 45682: 4, 45688: 3, 45693: 1, 45702: 1, 45707: 1, 45708: 1, 45712: 2, 45722: 1, 45733: 4, 45743: 1, 45755: 1, 45773: 3, 45780: 4, 45786: 1, 45807: 3, 45808: 2, 45833: 2, 45855: 2, 45869: 1, 45872: 2, 45880: 1, 45897: 2, 45901: 1, 45908: 1, 45909: 2, 45945: 1, 45983: 2, 45988: 1, 45991: 1, 46023: 6, 46026: 1, 46061: 1, 46063: 2, 46068: 1, 46073: 3, 46078: 4, 46082: 1, 46088: 1, 46093: 1, 46110: 2, 46128: 3, 46137: 1, 46146: 2, 46152: 2, 46153: 1, 46156: 1, 46157: 2, 46159: 2, 46161: 1, 46163: 3, 46168: 4, 46176: 6, 46178: 2, 46182: 62, 46196: 1, 46200: 1, 46205: 12, 46212: 10, 46213: 17, 46222: 1, 46226: 2, 46235: 1, 46238: 5, 46246: 1, 46265: 1, 46267: 1, 46269: 1, 46296: 1, 46299: 1, 46301: 1, 46314: 2, 46329: 1, 46331: 1, 46353: 1, 46365: 1, 46379: 3, 46387: 1, 46414: 2, 46448: 2, 46452: 1, 46453: 1, 46469: 3, 46473: 2, 46475: 1, 46531: 22, 46537: 2, 46539: 1, 46547: 2, 46548: 1, 46552: 1, 46560: 1, 46579: 3, 46596: 2, 46615: 2, 46617: 4, 46619: 2, 46635: 2, 46647: 2, 46654: 2, 46670: 1, 46675: 1, 46681: 2, 46688: 1, 46694: 1, 46698: 2, 46699: 1, 46709: 1, 46723: 1, 46740: 1, 46747: 1, 46759: 3, 46781: 2, 46786: 1, 46835: 5, 46836: 2, 46849: 1, 46877: 1, 46880: 2, 46889: 1, 46894: 2, 46918: 1, 46922: 1, 46935: 1, 46942: 1, 46943: 2, 46947: 1, 46989: 1, 47018: 1, 47022: 1, 47042: 1, 47062: 1, 47072: 4, 47107: 1, 47128: 4, 47131: 1, 47148: 1, 47156: 1, 47163: 1, 47171: 2, 47196: 1, 47203: 1, 47210: 1, 47225: 2, 47277: 2, 47289: 1, 47300: 3, 47302: 2, 47312: 1, 47322: 1, 47335: 1, 47340: 5, 47343: 3, 47371: 1, 47375: 6, 47381: 1, 47382: 1, 47391: 1, 47397: 1, 47404: 2, 47407: 1, 47415: 3, 47416: 1, 47420: 1, 47421: 1, 47436: 2, 47437: 1, 47438: 2, 47443: 3, 47445: 1, 47446: 1, 47453: 1, 47459: 2, 47472: 2, 47479: 3, 47480: 3, 47560: 1, 47574: 2, 47581: 1, 47621: 2, 47639: 1, 47651: 2, 47663: 1, 47665: 1, 47666: 1, 47695: 1, 47709: 1, 47738: 6, 47759: 2, 47768: 4, 47770: 3, 47785: 1, 47802: 2, 47809: 1, 47843: 1, 47849: 1, 47872: 1, 47873: 1, 47889: 3, 47897: 2, 47910: 2, 47913: 1, 47924: 2, 47943: 1, 47960: 1, 47968: 1, 47972: 1, 47978: 1, 47989: 1, 48008: 1, 48025: 2, 48035: 1, 79: 2, 754: 1, 777: 2, 1122: 2, 1376: 2, 2222: 1, 2338: 1, 2341: 2, 2791: 1, 3644: 2, 4045: 1, 4155: 1, 4508: 4, 5243: 1, 5254: 1, 5958: 1, 6050: 2, 6081: 1, 6314: 2, 6515: 1, 6794: 1, 7632: 1, 7786: 1, 8390: 1, 8553: 2, 8554: 1, 9946: 2, 10122: 1, 15387: 2, 16260: 1, 16420: 1, 20058: 2, 23808: 3, 23880: 1, 27001: 1, 30280: 1, 30666: 1, 31340: 1, 34084: 1, 38136: 1, 40491: 1, 40744: 2, 41144: 1, 41534: 1, 41788: 1, 41860: 1, 42089: 1, 42116: 1, 42301: 3, 42320: 2, 42359: 1, 42400: 1, 42436: 1, 42493: 1, 42500: 8, 42538: 1, 42570: 1, 42612: 1, 42623: 1, 42630: 1, 42634: 1, 42669: 1, 42685: 1, 42750: 1, 42766: 2, 42783: 1, 42819: 1, 42847: 1, 42857: 1, 42864: 1, 42887: 1, 42903: 1, 42904: 3, 42922: 1, 42923: 1, 42949: 1, 42950: 3, 42960: 1, 42963: 1, 42973: 1, 43065: 1, 43079: 6, 43092: 1, 43103: 2, 43108: 1, 43122: 1, 43151: 2, 43170: 1, 43173: 1, 43214: 1, 43225: 1, 43267: 1, 43304: 1, 43316: 2, 43333: 1, 43344: 2, 43349: 2, 43375: 2, 43377: 1, 43413: 1, 43433: 1, 43457: 1, 43502: 1, 43510: 1, 43523: 1, 43544: 1, 43569: 1, 43572: 1, 43587: 1, 43594: 1, 43611: 1, 43614: 1, 43624: 2, 43641: 1, 43650: 1, 43714: 1, 43745: 1, 43759: 1, 43799: 1, 43808: 1, 43809: 1, 43849: 1, 43850: 1, 43855: 1, 43886: 2, 43892: 1, 43893: 2, 43914: 1, 43938: 1, 43939: 1, 43941: 1, 43981: 1, 44016: 1, 44048: 1, 44051: 2, 44064: 1, 44082: 1, 44087: 1, 44121: 2, 44122: 1, 44153: 1, 44185: 2, 44204: 1, 44206: 3, 44227: 1, 44267: 1, 44319: 1, 44320: 1, 44324: 2, 44347: 2, 44382: 1, 44405: 1, 44423: 1, 44465: 4, 44482: 1, 44487: 2, 44507: 1, 44523: 1, 44524: 1, 44525: 2, 44530: 3, 44540: 1, 44556: 1, 44567: 1, 44576: 2, 44625: 1, 44633: 1, 44636: 1, 44659: 1, 44663: 2, 44670: 1, 44676: 1, 44678: 1, 44682: 1, 44692: 1, 44701: 1, 44719: 2, 44732: 3, 44736: 1, 44742: 3, 44757: 1, 44873: 2, 44883: 1, 44892: 2, 44900: 1, 44911: 1, 44942: 1, 44951: 1, 44994: 1, 45015: 1, 45022: 1, 45079: 1, 45081: 1, 45083: 1, 45112: 1, 45119: 1, 45123: 1, 45132: 1, 45133: 1, 45137: 1, 45140: 1, 45205: 1, 45234: 1, 45237: 2, 45247: 1, 45293: 1, 45294: 2, 45300: 2, 45301: 2, 45304: 1, 45331: 2, 45348: 1, 45361: 1, 45376: 1, 45414: 1, 45422: 1, 45455: 1, 45541: 1, 45544: 1, 45558: 1, 45588: 1, 45609: 1, 45610: 1, 45612: 1, 45636: 1, 45646: 1, 45670: 1, 45697: 3, 45735: 1, 45745: 1, 45746: 1, 45753: 1, 45758: 1, 45765: 1, 45850: 1, 45852: 1, 45881: 1, 45947: 1, 45964: 1, 45970: 1, 45974: 1, 45981: 1, 45989: 1, 45999: 1, 46042: 1, 46074: 3, 46079: 1, 46103: 1, 46129: 1, 46131: 1, 46190: 2, 46203: 1, 46223: 1, 46243: 1, 46248: 2, 46254: 1, 46285: 1, 46286: 2, 46287: 1, 46335: 2, 46374: 1, 46391: 1, 46392: 2, 46396: 1, 46444: 1, 46447: 2, 46457: 2, 46512: 1, 46516: 1, 46517: 1, 46565: 1, 46625: 1, 46653: 2, 46661: 1, 46686: 1, 46706: 1, 46715: 1, 46733: 1, 46744: 1, 46754: 1, 46778: 1, 46784: 1, 46805: 1, 46806: 2, 46824: 1, 46825: 1, 46874: 1, 46884: 1, 46902: 1, 46958: 2, 46975: 1, 47012: 1, 47020: 1, 47071: 1, 47078: 1, 47082: 1, 47114: 1, 47119: 1, 47124: 1, 47132: 1, 47147: 1, 47160: 1, 47164: 1, 47188: 1, 47204: 1, 47242: 1, 47248: 2, 47282: 1, 47292: 2, 47303: 1, 47315: 1, 47362: 1, 47387: 1, 47405: 1, 47418: 2, 47424: 1, 47427: 1, 47441: 1, 47495: 2, 47507: 2, 47514: 1, 47520: 1, 47542: 1, 47580: 1, 47582: 2, 47585: 8, 47592: 1, 47604: 1, 47631: 1, 47642: 1, 47653: 1, 47658: 1, 47659: 1, 47686: 1, 47705: 3, 47729: 1, 47747: 1, 47753: 1, 47775: 1, 47828: 1, 47845: 1, 47847: 1, 47860: 1, 47863: 1, 47870: 1, 47874: 2, 47894: 1, 47940: 1, 47957: 1, 47962: 1, 47985: 1, 48007: 1, 48017: 1, 48026: 1, 683: 1, 2082: 1, 5088: 2, 9141: 1, 11125: 2, 13364: 1, 15868: 1, 20116: 1, 23443: 1, 23929: 2, 34540: 1, 35343: 1, 35447: 1, 38989: 1, 39281: 1, 41546: 1, 41743: 1, 41997: 2, 42279: 1, 42499: 1, 42527: 1, 42553: 1, 42599: 1, 42680: 1, 42751: 1, 42809: 1, 42818: 1, 42972: 1, 42998: 1, 43000: 1, 43042: 1, 43155: 1, 43241: 1, 43274: 1, 43322: 1, 43342: 2, 43343: 1, 43399: 1, 43450: 1, 43451: 1, 43475: 1, 43590: 1, 43647: 1, 43691: 1, 43706: 1, 43732: 1, 43865: 1, 43982: 1, 44014: 3, 44073: 1, 44216: 1, 44247: 1, 44280: 1, 44434: 1, 44454: 1, 44499: 2, 44532: 1, 44574: 1, 44602: 2, 44673: 1, 44724: 1, 44747: 1, 44756: 1, 44767: 1, 44864: 1, 44870: 1, 44880: 1, 44881: 1, 44897: 1, 44947: 1, 44962: 1, 45100: 1, 45126: 3, 45128: 1, 45142: 1, 45187: 1, 45264: 2, 45295: 1, 45309: 1, 45333: 1, 45354: 1, 45385: 1, 45418: 1, 45441: 1, 45467: 1, 45472: 1, 45484: 1, 45556: 1, 45601: 1, 45615: 1, 45681: 3, 45760: 1, 45821: 1, 45871: 1, 45917: 1, 45935: 1, 46031: 1, 46044: 1, 46075: 1, 46125: 1, 46147: 1, 46148: 1, 46193: 1, 46250: 2, 46280: 1, 46291: 1, 46349: 2, 46357: 1, 46461: 1, 46479: 1, 46595: 1, 46638: 1, 46693: 1, 46705: 3, 46743: 1, 46789: 1, 46853: 1, 46860: 2, 46924: 1, 46953: 1, 46968: 1, 47024: 1, 47056: 1, 47139: 1, 47200: 1, 47337: 1, 47403: 1, 47498: 1, 47584: 1, 47630: 1, 47685: 1, 47690: 1, 47710: 1, 47736: 1, 47826: 1, 47886: 1, 47911: 1, 47932: 2, 47944: 1, 47961: 1, 48012: 1}\n",
      "Player who changes the most: 43364\n",
      "------------------------------------------------------------------------------------------------------------------\n",
      "Count of players who decrease_slotdeno : 2099\n",
      "Count of times each player decrease_slotdeno : {20: 185, 73: 8, 94: 1, 156: 5, 224: 16, 226: 1, 244: 1, 646: 1, 719: 2, 865: 1, 1069: 1, 1166: 10, 1233: 32, 1263: 1, 1371: 1, 1408: 1, 1442: 2, 1519: 1, 1959: 8, 2015: 1, 2070: 3, 2073: 1, 2099: 2, 2331: 3, 2710: 2, 3127: 21, 3260: 2, 3385: 4, 3634: 27, 3653: 5, 3677: 2, 3726: 1, 3825: 1, 3955: 1, 4252: 1, 4265: 4, 4860: 1, 4970: 6, 5113: 16, 5147: 3, 5443: 1, 5879: 26, 5969: 16, 6234: 2, 6271: 15, 6292: 2, 6365: 19, 6695: 4, 6829: 2, 6954: 4, 7337: 2, 7420: 1, 7689: 4, 7695: 5, 7933: 1, 7940: 1, 7967: 3, 8005: 2, 8233: 262, 8288: 1, 8412: 1, 8446: 13, 8568: 1, 8570: 1, 8613: 1, 8827: 5, 8978: 21, 9011: 5, 9031: 4, 9191: 1, 9222: 1, 9310: 1, 9510: 8, 10119: 4, 10248: 6, 10349: 1, 10738: 251, 10905: 1, 11308: 4, 11309: 3, 11427: 3, 11474: 1, 11526: 1, 11589: 4, 11821: 1, 11868: 2, 11947: 1, 12192: 2, 12277: 22, 12356: 6, 12562: 4, 12692: 2, 13312: 2, 13588: 1, 13910: 7, 14128: 2, 14443: 1, 14778: 1, 14868: 6, 15389: 36, 15612: 4, 15714: 1, 15736: 7, 16192: 1, 16207: 3, 17239: 1, 17472: 194, 17497: 5, 17709: 1, 18082: 2, 18617: 1, 18915: 2, 19166: 1, 19285: 4, 19351: 1, 19415: 1, 19496: 2, 19628: 1, 19977: 3, 20149: 1, 20496: 1, 20553: 1, 20557: 1, 22989: 1, 23045: 8, 23164: 1, 23202: 3, 23267: 4, 23278: 1, 23311: 2, 23321: 16, 23432: 1, 23434: 2, 23502: 1, 23585: 2, 23779: 4, 24117: 2, 24133: 2, 24171: 4, 25141: 1, 25312: 1, 25362: 3, 26012: 3, 26850: 3, 27510: 1, 28671: 2, 28705: 3, 28710: 1, 28880: 90, 29102: 1, 29216: 5, 29325: 3, 31032: 2, 31058: 1, 31562: 1, 32477: 69, 32887: 5, 34520: 1, 35035: 1, 36654: 1, 37000: 1, 37278: 4, 37409: 10, 38229: 2, 38281: 1, 38358: 5, 38493: 1, 38494: 2, 38603: 1, 39139: 1, 39329: 1, 40512: 1, 40628: 6, 41267: 1, 41346: 1, 41370: 2, 41606: 2, 41664: 2, 41665: 4, 41690: 8, 41713: 5, 41716: 8, 41726: 4, 41839: 41, 41840: 2, 41848: 2, 41872: 2, 41875: 2, 41893: 1, 41939: 2, 41953: 1, 41961: 1, 41970: 1, 42017: 2, 42029: 4, 42045: 1, 42055: 2, 42073: 5, 42086: 2, 42098: 4, 42102: 1, 42103: 1, 42107: 2, 42145: 2, 42187: 3, 42204: 3, 42219: 1, 42244: 6, 42254: 4, 42269: 1, 42302: 4, 42304: 1, 42334: 1, 42387: 1, 42389: 1, 42390: 6, 42414: 2, 42416: 1, 42425: 3, 42426: 2, 42428: 2, 42429: 1, 42431: 2, 42442: 2, 42445: 1, 42446: 1, 42451: 2, 42457: 2, 42467: 5, 42470: 1, 42476: 1, 42477: 17, 42478: 5, 42481: 2, 42488: 2, 42494: 2, 42496: 2, 42497: 8, 42502: 1, 42509: 1, 42518: 8, 42526: 6, 42532: 1, 42540: 2, 42545: 6, 42548: 1, 42560: 6, 42564: 1, 42568: 2, 42589: 5, 42593: 4, 42596: 4, 42600: 6, 42608: 2, 42613: 300, 42626: 1, 42632: 6, 42644: 3, 42651: 4, 42656: 2, 42657: 3, 42684: 2, 42690: 2, 42693: 2, 42709: 12, 42714: 4, 42722: 2, 42723: 4, 42726: 7, 42727: 7, 42731: 1, 42732: 14, 42740: 1, 42744: 1, 42746: 1, 42752: 6, 42754: 2, 42758: 4, 42761: 3, 42763: 1, 42764: 1, 42789: 1, 42794: 2, 42806: 1, 42814: 4, 42829: 2, 42832: 3, 42833: 4, 42835: 2, 42878: 20, 42883: 3, 42889: 2, 42895: 1, 42908: 8, 42911: 2, 42919: 1, 42928: 1, 42929: 2, 42930: 2, 42931: 1, 42932: 1, 42943: 1, 42945: 1, 42955: 19, 42956: 35, 42958: 5, 42975: 8, 42986: 1, 42992: 1, 43004: 2, 43018: 1, 43019: 2, 43024: 2, 43025: 2, 43045: 1, 43063: 15, 43067: 1, 43082: 3, 43093: 6, 43094: 3, 43095: 1, 43098: 1, 43101: 2, 43113: 2, 43115: 1, 43123: 2, 43124: 3, 43132: 6, 43146: 1, 43152: 5, 43153: 1, 43165: 1, 43168: 1, 43182: 5, 43183: 2, 43184: 2, 43187: 2, 43191: 7, 43200: 3, 43221: 1, 43223: 3, 43235: 1, 43262: 9, 43282: 3, 43287: 6, 43291: 122, 43292: 4, 43309: 2, 43341: 3, 43346: 148, 43357: 9, 43359: 2, 43360: 2, 43364: 750, 43371: 108, 43373: 7, 43376: 9, 43385: 3, 43387: 13, 43400: 4, 43405: 1, 43416: 3, 43421: 9, 43424: 2, 43431: 2, 43434: 4, 43437: 6, 43438: 17, 43447: 1, 43453: 1, 43454: 1, 43462: 1, 43493: 2, 43506: 7, 43511: 11, 43512: 2, 43513: 1, 43526: 3, 43528: 5, 43568: 7, 43570: 2, 43573: 5, 43576: 2, 43583: 1, 43592: 1, 43613: 2, 43616: 3, 43629: 1, 43633: 110, 43644: 3, 43652: 4, 43653: 10, 43658: 2, 43661: 1, 43670: 2, 43673: 2, 43675: 1, 43699: 1, 43707: 2, 43724: 2, 43734: 2, 43735: 94, 43744: 1, 43747: 36, 43749: 1, 43751: 4, 43752: 2, 43754: 10, 43761: 4, 43769: 2, 43770: 2, 43772: 12, 43773: 9, 43779: 1, 43781: 9, 43783: 3, 43784: 2, 43788: 1, 43790: 1, 43797: 1, 43798: 2, 43800: 1, 43802: 3, 43813: 1, 43820: 2, 43821: 312, 43822: 1, 43828: 2, 43842: 1, 43848: 1, 43859: 2, 43866: 2, 43880: 4, 43881: 1, 43888: 2, 43895: 1, 43899: 2, 43916: 2, 43919: 27, 43921: 1, 43926: 2, 43934: 1, 43955: 7, 43960: 1, 43962: 5, 43988: 9, 43991: 2, 43992: 2, 44005: 3, 44013: 2, 44019: 1, 44021: 1, 44032: 1, 44033: 2, 44040: 2, 44043: 43, 44045: 1, 44052: 4, 44056: 2, 44071: 2, 44081: 2, 44097: 2, 44101: 1, 44107: 3, 44111: 1, 44118: 3, 44136: 2, 44142: 1, 44156: 3, 44163: 1, 44169: 4, 44170: 3, 44176: 3, 44187: 2, 44189: 1, 44194: 4, 44196: 2, 44209: 11, 44222: 99, 44228: 2, 44231: 2, 44245: 2, 44259: 6, 44260: 1, 44261: 6, 44262: 1, 44265: 1, 44269: 5, 44270: 2, 44273: 4, 44275: 5, 44303: 4, 44309: 9, 44326: 3, 44327: 7, 44331: 1, 44350: 1, 44373: 3, 44381: 23, 44383: 1, 44384: 1, 44390: 2, 44393: 3, 44394: 4, 44400: 8, 44401: 2, 44402: 1, 44404: 2, 44411: 3, 44413: 5, 44414: 3, 44418: 2, 44420: 2, 44421: 3, 44431: 1, 44441: 6, 44446: 3, 44459: 3, 44466: 2, 44479: 1, 44483: 2, 44488: 5, 44490: 2, 44500: 188, 44502: 1, 44510: 1, 44515: 2, 44519: 2, 44520: 2, 44526: 1, 44529: 1, 44533: 1, 44537: 3, 44543: 1, 44562: 2, 44569: 1, 44570: 20, 44577: 5, 44583: 6, 44589: 9, 44593: 1, 44603: 19, 44609: 1, 44615: 2, 44618: 1, 44619: 1, 44621: 4, 44622: 3, 44623: 4, 44630: 3, 44632: 1, 44635: 3, 44640: 3, 44641: 36, 44650: 2, 44651: 3, 44652: 2, 44656: 4, 44672: 5, 44679: 3, 44680: 1, 44691: 1, 44704: 1, 44710: 1, 44716: 2, 44718: 1, 44731: 1, 44764: 1, 44766: 7, 44769: 1, 44791: 4, 44803: 2, 44804: 4, 44807: 5, 44809: 1, 44811: 1, 44816: 1, 44827: 2, 44828: 4, 44836: 4, 44840: 1, 44844: 5, 44845: 2, 44856: 1, 44858: 4, 44863: 2, 44910: 1, 44917: 1, 44920: 1, 44933: 2, 44936: 3, 44939: 3, 44943: 4, 44948: 2, 44953: 1, 44959: 8, 44963: 1, 44969: 2, 44972: 4, 44973: 4, 44974: 4, 44979: 2, 44986: 11, 44998: 4, 45003: 2, 45023: 1, 45024: 13, 45031: 64, 45032: 1, 45042: 2, 45043: 2, 45044: 3, 45051: 5, 45058: 5, 45070: 2, 45076: 4, 45078: 2, 45101: 2, 45102: 1, 45103: 1, 45104: 3, 45118: 6, 45141: 1, 45147: 2, 45153: 1, 45157: 3, 45158: 1, 45175: 5, 45194: 2, 45197: 1, 45224: 5, 45225: 3, 45229: 1, 45233: 1, 45238: 2, 45240: 2, 45242: 1, 45243: 5, 45260: 1, 45262: 1, 45269: 7, 45275: 11, 45277: 2, 45283: 7, 45284: 2, 45285: 2, 45286: 1, 45288: 7, 45291: 3, 45299: 2, 45307: 2, 45310: 1, 45311: 2, 45347: 6, 45359: 2, 45362: 1, 45363: 1, 45365: 1, 45374: 1, 45377: 2, 45393: 2, 45397: 3, 45398: 3, 45421: 4, 45423: 1, 45426: 4, 45428: 1, 45431: 4, 45433: 3, 45437: 1, 45449: 16, 45456: 3, 45466: 8, 45489: 4, 45490: 1, 45492: 2, 45494: 2, 45500: 3, 45501: 5, 45504: 2, 45513: 1, 45519: 1, 45531: 10, 45532: 3, 45542: 1, 45543: 1, 45560: 1, 45570: 17, 45571: 1, 45573: 2, 45579: 4, 45589: 1, 45604: 3, 45605: 14, 45611: 1, 45614: 3, 45617: 3, 45618: 1, 45623: 4, 45627: 2, 45630: 9, 45634: 2, 45639: 1, 45640: 4, 45649: 1, 45654: 1, 45680: 4, 45686: 7, 45689: 3, 45690: 1, 45691: 2, 45703: 1, 45706: 5, 45711: 1, 45719: 2, 45734: 3, 45737: 3, 45739: 1, 45782: 13, 45790: 7, 45791: 1, 45792: 5, 45793: 7, 45803: 1, 45804: 2, 45810: 2, 45811: 1, 45820: 193, 45827: 7, 45838: 1, 45839: 3, 45840: 4, 45841: 2, 45870: 1, 45873: 6, 45874: 5, 45878: 1, 45882: 3, 45883: 1, 45889: 1, 45907: 1, 45915: 1, 45922: 2, 45923: 1, 45936: 1, 45953: 5, 45954: 2, 45956: 124, 45968: 1, 45979: 4, 45987: 4, 45994: 1, 46004: 1, 46008: 132, 46012: 3, 46013: 4, 46017: 1, 46018: 1, 46021: 2, 46024: 3, 46034: 2, 46045: 3, 46062: 1, 46064: 3, 46070: 8, 46071: 1, 46097: 1, 46104: 3, 46112: 4, 46115: 3, 46126: 1, 46133: 1, 46139: 29, 46155: 1, 46160: 1, 46188: 2, 46195: 2, 46197: 1, 46199: 6, 46206: 18, 46207: 4, 46215: 2, 46236: 2, 46237: 2, 46252: 1, 46255: 1, 46263: 2, 46279: 2, 46281: 4, 46289: 3, 46298: 2, 46302: 9, 46303: 9, 46312: 1, 46325: 2, 46336: 1, 46355: 10, 46356: 5, 46363: 2, 46368: 2, 46376: 3, 46378: 2, 46383: 1, 46393: 2, 46422: 1, 46433: 1, 46443: 5, 46450: 1, 46468: 12, 46508: 3, 46522: 5, 46527: 1, 46529: 2, 46570: 1, 46581: 1, 46598: 1, 46604: 1, 46606: 2, 46607: 164, 46609: 27, 46614: 4, 46633: 1, 46639: 2, 46644: 5, 46663: 1, 46666: 6, 46667: 2, 46668: 1, 46671: 1, 46679: 1, 46687: 1, 46697: 25, 46700: 1, 46707: 5, 46710: 1, 46720: 5, 46728: 2, 46729: 4, 46736: 2, 46746: 4, 46750: 2, 46756: 2, 46761: 3, 46762: 8, 46773: 1, 46785: 3, 46787: 5, 46788: 3, 46793: 1, 46794: 1, 46797: 131, 46803: 3, 46820: 1, 46828: 2, 46829: 4, 46838: 23, 46847: 4, 46848: 2, 46858: 1, 46865: 3, 46875: 1, 46891: 3, 46901: 10, 46904: 1, 46908: 2, 46920: 2, 46923: 1, 46936: 2, 46945: 2, 46961: 98, 46962: 1, 46966: 2, 46982: 9, 46992: 1, 47007: 4, 47017: 1, 47050: 8, 47054: 1, 47055: 2, 47065: 1, 47073: 4, 47076: 3, 47081: 1, 47084: 1, 47092: 3, 47110: 132, 47121: 1, 47136: 4, 47162: 1, 47178: 1, 47183: 2, 47198: 1, 47201: 4, 47208: 1, 47211: 48, 47224: 10, 47232: 1, 47250: 2, 47255: 1, 47256: 3, 47260: 1, 47275: 39, 47284: 1, 47295: 1, 47304: 3, 47317: 4, 47328: 2, 47336: 1, 47353: 2, 47360: 1, 47388: 2, 47399: 2, 47400: 27, 47410: 2, 47412: 4, 47435: 1, 47439: 2, 47471: 73, 47475: 2, 47477: 2, 47484: 3, 47485: 2, 47503: 1, 47530: 2, 47540: 3, 47551: 2, 47569: 5, 47570: 2, 47595: 2, 47611: 1, 47618: 3, 47627: 2, 47640: 1, 47643: 16, 47667: 1, 47669: 1, 47694: 4, 47704: 2, 47735: 1, 47737: 9, 47743: 1, 47760: 5, 47771: 3, 47778: 4, 47780: 1, 47788: 1, 47792: 1, 47797: 1, 47800: 1, 47805: 2, 47819: 4, 47831: 1, 47841: 2, 47842: 1, 47850: 2, 47854: 39, 47855: 2, 47861: 3, 47878: 1, 47890: 3, 47909: 2, 47918: 8, 47948: 3, 47964: 1, 47974: 1, 47979: 1, 450: 1, 499: 2, 613: 1, 677: 6, 801: 1, 988: 1, 1068: 2, 1136: 1, 1302: 2, 1933: 1, 1984: 1, 2031: 1, 2155: 1, 2287: 1, 3319: 1, 3489: 1, 3958: 1, 4190: 3, 4527: 1, 5970: 1, 6056: 1, 6675: 1, 6988: 1, 7167: 1, 7437: 2, 7840: 1, 7960: 10, 8003: 1, 8345: 1, 8538: 2, 8694: 3, 8932: 1, 9201: 2, 9478: 1, 9559: 1, 9608: 8, 9681: 1, 9866: 1, 10803: 1, 11857: 2, 11912: 3, 12173: 1, 12191: 1, 12226: 1, 12314: 6, 13449: 1, 13517: 1, 13558: 1, 13746: 2, 13832: 1, 14267: 1, 15579: 2, 15853: 3, 16119: 1, 16538: 1, 17072: 1, 17344: 1, 17981: 1, 18762: 2, 18817: 1, 22968: 1, 23699: 2, 23744: 3, 24492: 1, 24607: 1, 24817: 3, 24833: 3, 25113: 1, 25214: 1, 25759: 5, 25923: 2, 25949: 1, 27611: 1, 28390: 1, 28745: 1, 28906: 2, 29117: 1, 29217: 1, 30244: 1, 30645: 1, 30827: 10, 31691: 2, 32891: 1, 33297: 1, 36383: 2, 36482: 2, 36560: 2, 36561: 2, 36688: 8, 37678: 1, 38167: 1, 38276: 1, 39261: 1, 39712: 1, 39826: 1, 40750: 3, 40777: 2, 40810: 1, 41214: 1, 41326: 1, 41682: 1, 41706: 2, 41756: 2, 41778: 1, 41801: 1, 41804: 3, 41806: 1, 41908: 1, 41938: 1, 42023: 2, 42036: 3, 42037: 2, 42090: 3, 42165: 3, 42182: 1, 42184: 2, 42252: 1, 42349: 1, 42360: 1, 42362: 1, 42395: 2, 42397: 1, 42415: 1, 42441: 1, 42447: 1, 42454: 1, 42472: 1, 42491: 1, 42506: 1, 42508: 3, 42510: 1, 42516: 6, 42550: 1, 42561: 2, 42563: 1, 42569: 1, 42575: 1, 42597: 1, 42601: 1, 42609: 1, 42614: 1, 42616: 1, 42622: 1, 42625: 2, 42628: 1, 42637: 1, 42640: 2, 42641: 2, 42687: 1, 42691: 2, 42705: 1, 42772: 1, 42776: 1, 42777: 1, 42786: 1, 42793: 2, 42798: 4, 42811: 3, 42812: 1, 42834: 2, 42849: 1, 42859: 2, 42874: 2, 42879: 1, 42893: 1, 42894: 7, 42910: 1, 42916: 1, 42917: 1, 42934: 5, 42959: 4, 42961: 3, 42964: 1, 42970: 1, 42976: 1, 42982: 2, 42987: 2, 42994: 1, 42995: 1, 43001: 5, 43010: 1, 43011: 1, 43020: 1, 43022: 1, 43031: 2, 43036: 2, 43040: 1, 43041: 3, 43060: 1, 43064: 5, 43068: 1, 43080: 2, 43085: 2, 43097: 1, 43102: 1, 43114: 1, 43120: 1, 43127: 1, 43129: 1, 43144: 1, 43174: 1, 43176: 2, 43192: 3, 43204: 1, 43217: 4, 43224: 1, 43239: 2, 43255: 2, 43261: 1, 43272: 1, 43299: 3, 43301: 1, 43306: 1, 43334: 2, 43378: 1, 43406: 2, 43415: 5, 43419: 1, 43423: 1, 43436: 1, 43445: 1, 43446: 1, 43455: 2, 43490: 2, 43492: 1, 43524: 1, 43543: 1, 43555: 1, 43582: 1, 43589: 1, 43599: 1, 43609: 4, 43628: 1, 43635: 2, 43649: 2, 43669: 1, 43684: 1, 43715: 1, 43743: 1, 43748: 1, 43760: 2, 43771: 3, 43794: 1, 43819: 2, 43833: 4, 43835: 2, 43836: 1, 43853: 1, 43856: 5, 43862: 1, 43871: 2, 43873: 1, 43884: 3, 43903: 14, 43917: 1, 43918: 2, 43933: 2, 43952: 2, 43965: 1, 43967: 1, 43970: 1, 43973: 4, 43980: 1, 43984: 9, 44000: 6, 44004: 7, 44006: 3, 44042: 2, 44075: 1, 44078: 2, 44098: 1, 44137: 2, 44141: 1, 44152: 1, 44171: 1, 44178: 3, 44184: 7, 44195: 1, 44199: 2, 44200: 58, 44207: 2, 44217: 3, 44220: 3, 44238: 2, 44251: 1, 44253: 1, 44286: 1, 44322: 1, 44341: 2, 44365: 1, 44371: 1, 44379: 2, 44391: 3, 44398: 1, 44406: 1, 44437: 2, 44442: 1, 44448: 1, 44458: 1, 44477: 1, 44492: 2, 44501: 1, 44511: 1, 44516: 3, 44522: 1, 44541: 1, 44552: 1, 44553: 3, 44561: 3, 44565: 2, 44566: 1, 44579: 3, 44586: 1, 44599: 2, 44604: 4, 44605: 1, 44626: 1, 44642: 1, 44661: 16, 44694: 1, 44696: 1, 44699: 2, 44711: 4, 44712: 1, 44717: 1, 44721: 2, 44725: 1, 44730: 2, 44741: 2, 44768: 1, 44773: 1, 44780: 1, 44783: 1, 44784: 1, 44802: 2, 44813: 2, 44820: 1, 44826: 1, 44832: 1, 44833: 2, 44841: 1, 44848: 1, 44852: 1, 44855: 1, 44860: 2, 44891: 2, 44893: 6, 44902: 1, 44905: 1, 44923: 1, 44927: 2, 44930: 1, 44977: 2, 44981: 1, 44985: 4, 44987: 2, 44992: 2, 44997: 4, 45005: 1, 45019: 1, 45035: 1, 45050: 1, 45069: 2, 45071: 1, 45087: 1, 45092: 1, 45120: 2, 45130: 1, 45131: 1, 45146: 1, 45181: 2, 45185: 1, 45191: 1, 45195: 2, 45200: 1, 45201: 1, 45203: 2, 45204: 2, 45227: 1, 45231: 2, 45232: 1, 45248: 3, 45252: 1, 45253: 2, 45254: 2, 45259: 1, 45287: 2, 45290: 1, 45314: 1, 45321: 2, 45328: 1, 45339: 1, 45346: 1, 45349: 1, 45425: 3, 45427: 4, 45438: 2, 45439: 1, 45468: 1, 45502: 1, 45508: 2, 45546: 2, 45557: 3, 45586: 1, 45606: 1, 45629: 1, 45644: 1, 45648: 1, 45671: 1, 45682: 5, 45688: 2, 45693: 1, 45696: 1, 45702: 1, 45712: 2, 45722: 2, 45733: 2, 45752: 1, 45755: 1, 45757: 1, 45773: 3, 45780: 4, 45786: 1, 45807: 3, 45808: 2, 45822: 1, 45832: 2, 45833: 2, 45855: 2, 45869: 2, 45872: 3, 45880: 1, 45893: 1, 45897: 3, 45901: 2, 45908: 2, 45909: 2, 45910: 1, 45938: 1, 45945: 1, 45983: 1, 45988: 2, 46023: 4, 46026: 1, 46041: 2, 46061: 1, 46063: 1, 46073: 3, 46078: 5, 46082: 1, 46093: 1, 46110: 2, 46128: 1, 46132: 1, 46137: 2, 46146: 3, 46153: 1, 46157: 1, 46159: 1, 46163: 2, 46168: 5, 46176: 5, 46178: 1, 46182: 58, 46196: 2, 46205: 13, 46212: 8, 46213: 18, 46226: 1, 46235: 1, 46238: 6, 46242: 1, 46246: 1, 46247: 1, 46267: 1, 46270: 1, 46292: 1, 46296: 1, 46299: 1, 46301: 1, 46306: 1, 46314: 1, 46329: 1, 46331: 1, 46353: 1, 46360: 1, 46365: 1, 46379: 3, 46387: 1, 46446: 1, 46448: 1, 46452: 1, 46469: 2, 46473: 1, 46482: 1, 46492: 1, 46531: 22, 46537: 2, 46547: 2, 46552: 1, 46560: 1, 46579: 2, 46596: 1, 46617: 6, 46619: 4, 46620: 1, 46635: 1, 46647: 1, 46655: 1, 46670: 2, 46675: 1, 46676: 1, 46681: 1, 46688: 1, 46694: 1, 46696: 1, 46698: 2, 46699: 1, 46734: 1, 46740: 2, 46747: 2, 46759: 1, 46781: 1, 46786: 1, 46812: 1, 46835: 2, 46836: 3, 46837: 1, 46849: 1, 46877: 1, 46880: 2, 46894: 1, 46918: 1, 46921: 1, 46933: 1, 46935: 1, 46942: 1, 46943: 3, 46946: 1, 46947: 1, 47000: 1, 47008: 1, 47030: 1, 47042: 1, 47072: 3, 47107: 1, 47128: 3, 47131: 1, 47148: 1, 47163: 1, 47171: 3, 47185: 1, 47196: 1, 47225: 1, 47263: 1, 47264: 1, 47277: 1, 47300: 2, 47302: 1, 47322: 1, 47335: 1, 47340: 5, 47343: 3, 47371: 1, 47375: 6, 47381: 3, 47382: 2, 47391: 2, 47404: 1, 47411: 1, 47415: 1, 47420: 1, 47436: 1, 47437: 2, 47443: 4, 47445: 1, 47446: 1, 47453: 1, 47459: 1, 47460: 1, 47472: 3, 47479: 3, 47480: 3, 47511: 1, 47601: 1, 47621: 1, 47639: 1, 47663: 1, 47665: 1, 47666: 1, 47695: 1, 47709: 1, 47738: 4, 47756: 1, 47757: 1, 47759: 1, 47768: 3, 47770: 3, 47802: 2, 47809: 2, 47843: 1, 47852: 2, 47872: 1, 47873: 2, 47889: 3, 47897: 1, 47908: 1, 47910: 1, 47913: 2, 47924: 2, 47943: 1, 47960: 1, 47978: 1, 47986: 2, 47989: 2, 48008: 1, 48025: 1, 79: 1, 231: 1, 525: 1, 754: 1, 777: 1, 800: 1, 1122: 2, 1376: 1, 2341: 1, 3644: 1, 4033: 1, 4045: 1, 4155: 1, 4508: 5, 5243: 1, 6050: 1, 6314: 2, 6332: 2, 6515: 1, 7435: 1, 7632: 1, 7786: 2, 7911: 1, 8553: 1, 8554: 1, 9946: 1, 16513: 1, 18259: 1, 20058: 2, 21515: 1, 23808: 2, 23880: 1, 27001: 1, 28397: 1, 30523: 1, 30614: 1, 30666: 1, 31340: 2, 31396: 1, 33525: 1, 35097: 1, 36350: 1, 37950: 1, 38136: 2, 39831: 1, 40491: 2, 40744: 2, 40881: 1, 41144: 1, 41519: 1, 41534: 1, 41733: 1, 41780: 1, 41860: 1, 42074: 1, 42089: 1, 42136: 1, 42189: 1, 42301: 1, 42320: 2, 42359: 1, 42400: 1, 42436: 1, 42498: 1, 42500: 8, 42524: 1, 42529: 1, 42546: 1, 42547: 2, 42581: 1, 42623: 2, 42669: 1, 42685: 1, 42766: 2, 42768: 1, 42783: 1, 42819: 1, 42836: 1, 42853: 2, 42857: 1, 42865: 1, 42903: 1, 42904: 2, 42922: 3, 42950: 1, 42973: 2, 43043: 1, 43058: 2, 43065: 2, 43077: 1, 43079: 5, 43084: 1, 43108: 2, 43122: 2, 43151: 1, 43170: 2, 43173: 1, 43225: 1, 43267: 1, 43294: 1, 43316: 2, 43319: 1, 43333: 1, 43344: 1, 43349: 1, 43375: 2, 43433: 1, 43525: 1, 43544: 2, 43569: 1, 43585: 1, 43587: 1, 43596: 1, 43614: 2, 43624: 1, 43650: 1, 43714: 1, 43745: 1, 43759: 1, 43765: 1, 43789: 1, 43799: 1, 43808: 1, 43824: 1, 43855: 2, 43886: 1, 43887: 1, 43893: 1, 43941: 1, 44007: 1, 44025: 2, 44048: 1, 44051: 1, 44083: 1, 44090: 1, 44114: 1, 44117: 1, 44122: 1, 44140: 1, 44153: 1, 44185: 2, 44201: 1, 44204: 1, 44206: 3, 44227: 3, 44250: 1, 44267: 2, 44320: 1, 44324: 2, 44329: 1, 44338: 1, 44340: 1, 44354: 1, 44405: 1, 44410: 1, 44423: 1, 44465: 3, 44489: 1, 44507: 1, 44524: 1, 44525: 1, 44530: 2, 44540: 1, 44567: 1, 44625: 1, 44633: 1, 44636: 1, 44637: 1, 44638: 1, 44659: 1, 44663: 1, 44670: 1, 44678: 1, 44692: 1, 44701: 1, 44719: 2, 44742: 3, 44744: 1, 44754: 1, 44781: 2, 44824: 1, 44834: 1, 44862: 1, 44866: 1, 44873: 1, 44892: 3, 44900: 1, 44942: 2, 44950: 1, 44951: 1, 44967: 1, 44970: 1, 45015: 1, 45052: 1, 45081: 1, 45083: 1, 45112: 1, 45119: 1, 45133: 1, 45134: 1, 45136: 1, 45137: 1, 45140: 1, 45161: 1, 45205: 1, 45237: 1, 45294: 2, 45300: 2, 45301: 1, 45303: 2, 45304: 1, 45327: 1, 45331: 3, 45348: 1, 45361: 1, 45407: 1, 45414: 1, 45422: 1, 45499: 1, 45527: 1, 45544: 1, 45549: 1, 45550: 1, 45569: 1, 45588: 1, 45598: 1, 45610: 3, 45612: 1, 45626: 1, 45636: 1, 45646: 1, 45670: 1, 45675: 1, 45697: 3, 45701: 1, 45724: 1, 45735: 1, 45746: 1, 45753: 1, 45765: 1, 45851: 1, 45957: 1, 45963: 1, 45969: 1, 45970: 1, 46042: 1, 46074: 1, 46103: 1, 46121: 1, 46129: 1, 46164: 1, 46189: 1, 46203: 1, 46211: 1, 46231: 1, 46241: 1, 46243: 1, 46248: 1, 46254: 1, 46264: 1, 46286: 1, 46287: 1, 46338: 3, 46362: 1, 46366: 1, 46374: 1, 46391: 1, 46406: 1, 46451: 1, 46457: 1, 46483: 1, 46512: 1, 46514: 1, 46517: 1, 46518: 1, 46565: 1, 46627: 1, 46636: 1, 46653: 2, 46686: 2, 46695: 1, 46704: 1, 46715: 1, 46744: 1, 46754: 1, 46758: 1, 46768: 1, 46784: 3, 46806: 2, 46824: 1, 46827: 1, 46850: 1, 46869: 1, 46874: 1, 46883: 1, 46884: 2, 46919: 1, 46958: 5, 46975: 1, 47020: 1, 47033: 1, 47071: 1, 47078: 1, 47082: 1, 47088: 1, 47108: 1, 47114: 1, 47119: 1, 47124: 1, 47126: 1, 47160: 1, 47164: 1, 47205: 1, 47216: 2, 47248: 1, 47252: 1, 47282: 1, 47292: 1, 47303: 1, 47341: 1, 47362: 1, 47372: 2, 47387: 2, 47394: 1, 47424: 1, 47441: 1, 47454: 1, 47457: 1, 47486: 1, 47495: 2, 47499: 1, 47501: 1, 47507: 1, 47514: 1, 47520: 1, 47526: 1, 47536: 2, 47543: 1, 47582: 1, 47585: 8, 47641: 1, 47642: 1, 47659: 1, 47672: 1, 47681: 1, 47700: 1, 47705: 2, 47726: 1, 47739: 1, 47745: 1, 47748: 1, 47753: 1, 47775: 1, 47816: 1, 47828: 1, 47845: 1, 47857: 1, 47864: 2, 47870: 1, 47874: 2, 47898: 1, 47933: 1, 47939: 1, 47951: 1, 47962: 1, 47985: 1, 48007: 2, 2082: 1, 5088: 3, 6408: 1, 9141: 1, 11125: 2, 13659: 1, 23929: 2, 25574: 1, 29329: 1, 35352: 1, 35447: 1, 37750: 1, 39279: 1, 41111: 1, 41546: 1, 41743: 1, 41959: 1, 41997: 1, 42133: 1, 42639: 1, 42749: 2, 42818: 1, 42890: 1, 42993: 1, 42998: 1, 43034: 1, 43110: 1, 43118: 1, 43155: 1, 43156: 1, 43205: 1, 43220: 1, 43245: 1, 43250: 1, 43342: 1, 43348: 1, 43354: 1, 43361: 1, 43440: 1, 43450: 1, 43451: 1, 43546: 1, 43647: 1, 43664: 1, 43666: 1, 43691: 1, 43706: 1, 43834: 1, 43865: 1, 43956: 1, 44014: 1, 44131: 1, 44216: 1, 44242: 1, 44247: 2, 44264: 1, 44288: 1, 44343: 1, 44345: 1, 44434: 1, 44440: 1, 44457: 1, 44499: 1, 44542: 1, 44602: 1, 44646: 1, 44756: 1, 44788: 1, 44835: 1, 44864: 1, 44887: 1, 44897: 1, 44904: 1, 44907: 1, 44922: 1, 45072: 1, 45126: 3, 45143: 1, 45172: 1, 45187: 1, 45192: 1, 45249: 1, 45250: 1, 45264: 2, 45295: 1, 45308: 1, 45309: 1, 45354: 1, 45385: 1, 45386: 1, 45441: 1, 45442: 1, 45461: 1, 45472: 1, 45497: 1, 45555: 1, 45601: 1, 45681: 2, 45744: 1, 45764: 1, 45821: 1, 45935: 1, 45949: 1, 46170: 1, 46175: 1, 46193: 1, 46209: 1, 46250: 1, 46257: 2, 46259: 2, 46260: 1, 46262: 1, 46271: 1, 46291: 1, 46407: 1, 46461: 1, 46561: 1, 46602: 1, 46705: 3, 46711: 1, 46789: 1, 46833: 1, 46953: 2, 47024: 1, 47027: 2, 47098: 1, 47117: 1, 47172: 1, 47200: 2, 47367: 1, 47451: 1, 47476: 1, 47498: 1, 47588: 1, 47690: 1, 47691: 1, 47733: 1, 47736: 1, 47746: 1, 47774: 1, 47804: 2, 47810: 1, 47881: 1, 47891: 1, 47905: 1, 47938: 1, 47944: 1, 47961: 1, 48034: 1}\n",
      "Player who changes the most: 43364\n",
      "------------------------------------------------------------------------------------------------------------------\n",
      "Count of players who increase_maxbet : 2603\n",
      "Count of times each player increase_maxbet : {20: 3, 73: 2, 94: 4, 156: 1, 224: 20, 226: 1, 244: 4, 452: 1, 646: 3, 719: 6, 865: 5, 1026: 1, 1233: 6, 1263: 1, 1371: 1, 1408: 1, 1519: 2, 1922: 2, 1932: 5, 1959: 11, 2015: 2, 2070: 2, 2099: 4, 2331: 6, 3127: 2, 3260: 12, 3385: 6, 3634: 33, 3653: 3, 3677: 1, 3825: 1, 4252: 1, 4265: 2, 4860: 2, 4950: 2, 4970: 4, 5045: 2, 5113: 10, 5147: 2, 5443: 2, 5836: 1, 5879: 26, 5969: 16, 6234: 2, 6271: 12, 6292: 1, 6365: 22, 6490: 82, 6695: 3, 6829: 3, 6954: 4, 7195: 263, 7337: 2, 7689: 7, 7695: 7, 7774: 1, 7933: 1, 7940: 1, 7967: 3, 8005: 1, 8233: 263, 8288: 2, 8412: 3, 8446: 9, 8464: 5, 8568: 3, 8570: 3, 8613: 1, 8827: 1, 8978: 9, 9011: 6, 9031: 5, 9153: 1, 9310: 2, 9361: 1, 9510: 8, 9812: 2, 10119: 5, 10248: 8, 10598: 1, 10738: 204, 10905: 1, 10922: 6, 11309: 1, 11334: 8, 11427: 1, 11474: 3, 11526: 2, 11589: 4, 11821: 1, 11868: 3, 11947: 2, 12192: 2, 12277: 47, 12356: 41, 12437: 1, 12562: 3, 12692: 8, 13588: 1, 13753: 2, 13910: 6, 14128: 2, 14443: 3, 14778: 6, 14868: 2, 15389: 43, 15612: 4, 15714: 1, 15736: 5, 16207: 1, 16589: 2, 17239: 1, 17472: 236, 17709: 5, 18191: 1, 18617: 3, 18915: 3, 19166: 76, 19285: 1, 19351: 1, 19496: 3, 19628: 4, 19774: 1, 19977: 5, 20149: 2, 20496: 3, 20530: 1, 20553: 1, 20799: 1, 20926: 1, 22942: 2, 22989: 2, 23045: 7, 23164: 1, 23202: 2, 23267: 5, 23278: 3, 23311: 3, 23321: 28, 23432: 1, 23434: 1, 23502: 1, 23585: 2, 23779: 1, 24103: 1, 24117: 6, 24133: 3, 24171: 5, 25141: 1, 25312: 3, 26012: 2, 26433: 4, 26850: 1, 27510: 2, 27595: 1, 27742: 2, 28595: 1, 28671: 3, 28705: 3, 28710: 4, 28880: 89, 29102: 1, 29216: 6, 31032: 2, 31058: 2, 31224: 1, 31562: 1, 32477: 677, 32887: 6, 33004: 3, 34520: 1, 35035: 3, 36285: 2, 36654: 2, 37000: 1, 37409: 9, 38169: 1, 38229: 2, 38281: 2, 38358: 2, 38493: 1, 38494: 1, 38603: 2, 39139: 1, 39329: 2, 39829: 3, 40512: 1, 40628: 4, 40693: 287, 41267: 22, 41346: 1, 41370: 2, 41664: 1, 41665: 2, 41690: 8, 41713: 6, 41716: 6, 41726: 4, 41833: 16, 41839: 96, 41840: 3, 41848: 3, 41872: 3, 41893: 2, 41939: 4, 41961: 1, 42017: 1, 42029: 10, 42045: 1, 42055: 6, 42057: 2, 42073: 5, 42086: 7, 42098: 1, 42102: 5, 42103: 3, 42107: 4, 42145: 6, 42156: 4, 42187: 5, 42204: 12, 42244: 11, 42254: 1, 42269: 1, 42302: 4, 42304: 2, 42334: 1, 42336: 1, 42353: 1, 42364: 25, 42387: 2, 42389: 2, 42390: 7, 42414: 3, 42416: 2, 42425: 6, 42426: 3, 42428: 3, 42429: 5, 42430: 63, 42431: 2, 42442: 2, 42445: 2, 42446: 1, 42451: 1, 42452: 1, 42453: 3, 42457: 2, 42467: 7, 42470: 1, 42471: 2, 42476: 3, 42477: 27, 42478: 17, 42481: 4, 42488: 2, 42494: 2, 42496: 2, 42497: 4, 42502: 7, 42509: 2, 42517: 3, 42518: 7, 42520: 1, 42526: 3, 42532: 3, 42539: 3, 42540: 4, 42545: 11, 42548: 1, 42560: 11, 42564: 2, 42568: 3, 42571: 2, 42589: 6, 42590: 2, 42593: 5, 42594: 4, 42596: 4, 42600: 8, 42602: 2, 42608: 2, 42613: 20, 42626: 1, 42632: 12, 42644: 6, 42651: 10, 42656: 3, 42657: 7, 42684: 6, 42690: 4, 42693: 4, 42709: 20, 42714: 5, 42722: 3, 42723: 3, 42726: 11, 42727: 5, 42729: 11, 42732: 28, 42740: 2, 42744: 2, 42746: 45, 42754: 1, 42758: 48, 42761: 3, 42763: 1, 42771: 4, 42789: 2, 42794: 1, 42806: 1, 42814: 3, 42826: 1, 42829: 1, 42832: 3, 42833: 2, 42835: 3, 42840: 2, 42878: 24, 42883: 3, 42888: 1, 42889: 4, 42895: 1, 42908: 1, 42911: 5, 42919: 1, 42928: 1, 42929: 3, 42930: 2, 42931: 3, 42943: 1, 42945: 1, 42955: 4, 42956: 26, 42958: 6, 42975: 9, 42986: 3, 42992: 2, 43004: 2, 43018: 8, 43019: 3, 43025: 5, 43044: 3, 43045: 2, 43063: 20, 43067: 3, 43082: 18, 43093: 5, 43094: 3, 43095: 16, 43098: 5, 43101: 2, 43113: 1, 43115: 4, 43123: 5, 43124: 3, 43132: 7, 43146: 11, 43152: 1, 43153: 5, 43165: 1, 43166: 1, 43168: 2, 43182: 1, 43183: 4, 43184: 3, 43187: 2, 43191: 13, 43200: 3, 43221: 2, 43223: 3, 43227: 1, 43235: 9, 43262: 1, 43282: 4, 43287: 6, 43291: 123, 43292: 9, 43309: 3, 43329: 2, 43341: 5, 43346: 150, 43357: 6, 43359: 4, 43360: 5, 43364: 637, 43371: 108, 43372: 1, 43373: 9, 43376: 11, 43379: 1, 43385: 3, 43387: 16, 43400: 4, 43405: 1, 43416: 7, 43421: 18, 43424: 3, 43431: 2, 43434: 5, 43437: 7, 43438: 15, 43441: 2, 43453: 1, 43454: 2, 43459: 1, 43493: 3, 43506: 10, 43511: 15, 43512: 3, 43513: 1, 43515: 2, 43526: 5, 43528: 2, 43552: 6, 43553: 15, 43568: 8, 43570: 3, 43573: 10, 43574: 1, 43576: 6, 43583: 2, 43592: 1, 43613: 2, 43616: 7, 43623: 2, 43625: 2, 43633: 12, 43644: 2, 43652: 10, 43653: 5, 43658: 1, 43661: 1, 43662: 1, 43670: 2, 43673: 6, 43699: 1, 43707: 4, 43716: 1, 43717: 2, 43718: 1, 43724: 5, 43734: 3, 43735: 98, 43747: 35, 43751: 6, 43752: 2, 43754: 7, 43761: 6, 43769: 3, 43770: 2, 43772: 15, 43773: 13, 43781: 14, 43783: 5, 43784: 1, 43790: 7, 43797: 1, 43798: 2, 43802: 3, 43807: 4, 43813: 1, 43820: 3, 43821: 312, 43822: 2, 43828: 2, 43842: 2, 43848: 2, 43859: 5, 43861: 2, 43866: 2, 43880: 5, 43881: 1, 43888: 2, 43895: 1, 43899: 4, 43916: 2, 43919: 27, 43921: 1, 43926: 8, 43955: 10, 43960: 2, 43962: 10, 43963: 5, 43988: 9, 43991: 2, 43992: 2, 44001: 1, 44005: 2, 44010: 3, 44013: 4, 44019: 3, 44021: 2, 44029: 1, 44032: 3, 44033: 3, 44040: 3, 44043: 46, 44045: 1, 44052: 8, 44056: 1, 44067: 5, 44071: 5, 44081: 8, 44097: 4, 44100: 1, 44101: 2, 44107: 2, 44109: 2, 44111: 1, 44113: 1, 44118: 4, 44136: 3, 44142: 1, 44147: 99, 44163: 3, 44169: 6, 44170: 6, 44176: 5, 44187: 3, 44189: 1, 44194: 3, 44196: 4, 44202: 1, 44209: 6, 44222: 4, 44228: 3, 44231: 6, 44245: 2, 44252: 4, 44259: 5, 44260: 1, 44261: 3, 44262: 1, 44265: 3, 44268: 1, 44269: 2, 44273: 6, 44275: 2, 44289: 2, 44291: 2, 44303: 9, 44309: 48, 44326: 6, 44327: 11, 44331: 1, 44342: 1, 44350: 2, 44372: 1, 44373: 1, 44381: 62, 44383: 4, 44384: 3, 44390: 5, 44393: 5, 44394: 4, 44400: 35, 44401: 2, 44402: 6, 44403: 1, 44404: 2, 44411: 5, 44413: 6, 44414: 5, 44418: 3, 44420: 6, 44431: 1, 44433: 194, 44441: 7, 44446: 3, 44459: 2, 44466: 1, 44479: 3, 44483: 1, 44488: 7, 44490: 1, 44491: 2, 44502: 202, 44510: 1, 44515: 1, 44519: 4, 44520: 2, 44526: 2, 44529: 1, 44537: 2, 44543: 2, 44550: 1, 44562: 2, 44569: 2, 44570: 8, 44577: 6, 44583: 9, 44589: 56, 44593: 2, 44594: 3, 44606: 3, 44609: 1, 44615: 4, 44618: 3, 44619: 2, 44621: 10, 44622: 3, 44623: 4, 44630: 3, 44635: 1, 44640: 4, 44641: 20, 44650: 3, 44652: 2, 44656: 4, 44657: 1, 44672: 7, 44679: 10, 44680: 2, 44686: 13, 44691: 1, 44703: 4, 44704: 1, 44710: 1, 44716: 2, 44718: 3, 44731: 3, 44764: 2, 44766: 9, 44769: 68, 44791: 4, 44803: 2, 44804: 4, 44807: 5, 44809: 3, 44811: 1, 44816: 1, 44827: 2, 44828: 6, 44836: 5, 44840: 4, 44844: 6, 44845: 2, 44846: 2, 44853: 2, 44856: 1, 44858: 7, 44863: 4, 44865: 2, 44910: 2, 44912: 2, 44913: 2, 44917: 31, 44920: 3, 44926: 2, 44933: 3, 44939: 7, 44943: 5, 44948: 4, 44959: 7, 44963: 1, 44972: 4, 44973: 4, 44974: 3, 44979: 2, 44986: 15, 44998: 3, 45003: 2, 45006: 2, 45009: 1, 45023: 1, 45024: 8, 45030: 8, 45031: 64, 45032: 2, 45042: 3, 45043: 4, 45044: 2, 45049: 1, 45051: 7, 45058: 6, 45070: 2, 45076: 6, 45078: 3, 45099: 1, 45101: 2, 45102: 1, 45104: 4, 45113: 1, 45118: 6, 45141: 1, 45147: 2, 45153: 6, 45157: 1, 45162: 1, 45175: 6, 45194: 3, 45224: 7, 45225: 5, 45228: 1, 45229: 3, 45233: 1, 45238: 4, 45240: 4, 45242: 2, 45243: 7, 45260: 2, 45262: 3, 45269: 11, 45275: 10, 45277: 2, 45283: 6, 45284: 3, 45285: 3, 45286: 2, 45288: 11, 45291: 3, 45298: 1, 45307: 1, 45310: 16, 45311: 2, 45322: 1, 45324: 2, 45330: 5, 45347: 4, 45359: 1, 45362: 2, 45363: 2, 45365: 27, 45374: 3, 45377: 3, 45393: 4, 45397: 2, 45398: 2, 45402: 1, 45421: 8, 45423: 1, 45426: 4, 45428: 1, 45431: 3, 45433: 5, 45437: 1, 45449: 64, 45451: 3, 45456: 5, 45466: 15, 45489: 2, 45490: 3, 45492: 1, 45494: 4, 45495: 1, 45500: 10, 45501: 6, 45504: 4, 45513: 3, 45519: 1, 45531: 4, 45532: 5, 45543: 1, 45560: 1, 45561: 1, 45570: 10, 45571: 1, 45573: 2, 45575: 8, 45579: 1, 45580: 2, 45589: 2, 45604: 4, 45605: 10, 45607: 4, 45611: 1, 45614: 2, 45617: 4, 45618: 1, 45623: 2, 45627: 3, 45630: 15, 45640: 6, 45649: 1, 45654: 2, 45668: 2, 45680: 4, 45686: 6, 45689: 2, 45690: 1, 45691: 10, 45703: 1, 45706: 5, 45711: 2, 45719: 6, 45734: 3, 45737: 2, 45739: 1, 45770: 1, 45771: 3, 45775: 7, 45782: 1, 45790: 14, 45791: 3, 45792: 5, 45793: 10, 45796: 108, 45801: 1, 45803: 1, 45804: 7, 45810: 2, 45811: 1, 45820: 284, 45823: 2, 45824: 1, 45827: 15, 45838: 2, 45839: 3, 45840: 6, 45841: 2, 45866: 1, 45870: 1, 45873: 8, 45874: 6, 45878: 1, 45882: 3, 45883: 3, 45889: 1, 45907: 2, 45915: 2, 45922: 2, 45923: 1, 45936: 2, 45939: 29, 45953: 5, 45954: 2, 45958: 2, 45966: 1, 45968: 3, 45979: 6, 45987: 2, 45994: 1, 46004: 4, 46007: 1, 46008: 177, 46011: 2, 46012: 1, 46013: 6, 46017: 1, 46018: 5, 46021: 6, 46024: 10, 46034: 3, 46058: 2, 46064: 4, 46070: 11, 46071: 2, 46080: 4, 46097: 1, 46104: 3, 46112: 5, 46115: 6, 46133: 3, 46139: 103, 46141: 4, 46142: 1, 46155: 3, 46160: 1, 46162: 1, 46188: 3, 46195: 6, 46197: 3, 46199: 9, 46206: 14, 46207: 2, 46208: 1, 46210: 1, 46215: 3, 46236: 3, 46239: 5, 46245: 1, 46252: 1, 46255: 3, 46256: 3, 46263: 1, 46279: 1, 46281: 6, 46289: 3, 46298: 2, 46302: 11, 46303: 4, 46312: 5, 46325: 5, 46336: 1, 46355: 10, 46356: 6, 46358: 3, 46363: 2, 46368: 2, 46376: 4, 46378: 4, 46383: 3, 46393: 2, 46410: 2, 46422: 1, 46433: 61, 46443: 6, 46450: 2, 46468: 19, 46486: 1, 46493: 1, 46522: 37, 46570: 1, 46598: 2, 46604: 4, 46606: 2, 46607: 164, 46609: 24, 46614: 7, 46621: 1, 46622: 6, 46633: 1, 46639: 12, 46644: 4, 46646: 1, 46656: 2, 46659: 2, 46662: 3, 46663: 1, 46666: 2, 46668: 2, 46671: 2, 46679: 1, 46687: 1, 46691: 3, 46697: 20, 46700: 1, 46707: 33, 46710: 4, 46719: 1, 46720: 7, 46728: 1, 46729: 6, 46736: 2, 46746: 6, 46750: 5, 46756: 4, 46761: 8, 46762: 11, 46773: 1, 46785: 4, 46787: 2, 46788: 3, 46793: 1, 46794: 1, 46803: 2, 46826: 12, 46828: 4, 46829: 3, 46838: 23, 46840: 2, 46847: 3, 46848: 2, 46858: 2, 46859: 1, 46861: 1, 46865: 3, 46875: 1, 46891: 4, 46901: 22, 46904: 4, 46908: 2, 46920: 2, 46923: 2, 46936: 2, 46945: 2, 46961: 85, 46962: 6, 46966: 2, 46982: 4, 46992: 2, 47007: 2, 47052: 5, 47054: 1, 47065: 1, 47069: 1, 47073: 3, 47076: 4, 47081: 2, 47084: 2, 47092: 12, 47110: 42, 47116: 1, 47121: 2, 47136: 5, 47145: 1, 47162: 1, 47178: 12, 47183: 3, 47198: 3, 47201: 4, 47208: 1, 47211: 105, 47224: 11, 47232: 5, 47240: 1, 47250: 2, 47255: 1, 47256: 5, 47260: 6, 47275: 26, 47295: 1, 47304: 3, 47317: 2, 47328: 2, 47353: 2, 47360: 4, 47388: 4, 47389: 1, 47399: 1, 47400: 28, 47410: 2, 47412: 7, 47413: 2, 47435: 1, 47439: 3, 47463: 1, 47471: 73, 47475: 3, 47477: 2, 47478: 1, 47484: 4, 47485: 4, 47527: 1, 47530: 2, 47534: 1, 47540: 3, 47551: 1, 47555: 3, 47569: 5, 47570: 1, 47579: 2, 47595: 1, 47611: 2, 47618: 4, 47627: 1, 47628: 1, 47643: 18, 47667: 2, 47669: 1, 47687: 2, 47694: 7, 47704: 4, 47708: 1, 47725: 1, 47731: 3, 47735: 1, 47737: 3, 47743: 1, 47760: 7, 47769: 1, 47771: 4, 47777: 2, 47778: 5, 47780: 1, 47788: 1, 47792: 1, 47797: 1, 47800: 1, 47805: 3, 47819: 3, 47831: 2, 47842: 1, 47850: 5, 47854: 39, 47855: 1, 47861: 4, 47878: 2, 47880: 2, 47887: 2, 47890: 4, 47896: 1, 47909: 2, 47915: 1, 47918: 40, 47964: 2, 47974: 3, 47977: 25, 47979: 3, 47994: 1, 434: 1, 450: 2, 499: 3, 611: 2, 613: 1, 677: 2, 801: 4, 1302: 1, 1428: 1, 1434: 3, 1504: 2, 1604: 1, 1984: 2, 2026: 2, 2031: 2, 2155: 1, 2819: 3, 3319: 1, 4190: 2, 4527: 1, 4843: 1, 4872: 1, 4881: 3, 4990: 1, 5859: 2, 5970: 1, 5975: 1, 6056: 1, 6675: 2, 6934: 3, 6988: 1, 7167: 1, 7210: 1, 7437: 1, 7746: 1, 7840: 1, 7901: 1, 7960: 11, 8003: 2, 8114: 2, 8345: 7, 8538: 2, 8694: 4, 8814: 1, 8932: 3, 9201: 2, 9559: 1, 9608: 8, 9866: 1, 10803: 2, 10817: 4, 11146: 4, 11218: 1, 11857: 1, 11912: 2, 12079: 1, 12173: 2, 12226: 1, 13436: 2, 13458: 2, 13558: 1, 13746: 2, 13832: 1, 14267: 2, 15361: 1, 15555: 1, 15579: 1, 15853: 3, 15889: 1, 16119: 1, 16538: 1, 16730: 1, 17072: 1, 17344: 2, 17376: 1, 17524: 2, 17608: 1, 18817: 5, 20399: 1, 20679: 2, 20868: 1, 21495: 1, 22968: 1, 22981: 2, 23699: 1, 23744: 4, 24492: 2, 24607: 2, 24817: 4, 24833: 4, 24903: 1, 25113: 3, 25214: 1, 25923: 2, 25949: 1, 27611: 1, 28336: 1, 28362: 1, 28363: 1, 28390: 1, 28745: 2, 28906: 1, 29217: 1, 29763: 1, 29953: 4, 30645: 1, 30827: 3, 32120: 1, 32137: 1, 32891: 2, 33297: 2, 36383: 1, 36560: 4, 36561: 3, 36688: 8, 37552: 1, 37678: 4, 38167: 1, 38276: 2, 39261: 2, 39712: 1, 39826: 1, 40777: 2, 40784: 1, 40808: 1, 40810: 1, 40826: 1, 41051: 2, 41102: 3, 41110: 1, 41326: 2, 41452: 4, 41682: 1, 41706: 2, 41756: 1, 41778: 1, 41801: 1, 41804: 2, 41806: 4, 41807: 1, 41908: 1, 41927: 1, 41938: 1, 42008: 1, 42023: 1, 42036: 3, 42037: 4, 42054: 2, 42090: 8, 42122: 1, 42165: 4, 42182: 1, 42184: 3, 42211: 1, 42252: 4, 42260: 1, 42284: 1, 42341: 1, 42349: 2, 42357: 1, 42360: 1, 42393: 3, 42395: 2, 42397: 2, 42415: 3, 42424: 2, 42441: 1, 42447: 1, 42454: 1, 42468: 3, 42472: 2, 42482: 7, 42491: 1, 42506: 1, 42508: 4, 42510: 2, 42516: 6, 42521: 2, 42531: 2, 42550: 1, 42561: 1, 42562: 1, 42563: 2, 42569: 2, 42575: 1, 42595: 3, 42601: 1, 42604: 2, 42605: 1, 42614: 1, 42622: 2, 42625: 2, 42628: 1, 42640: 3, 42641: 2, 42653: 1, 42660: 2, 42662: 1, 42687: 1, 42705: 5, 42743: 1, 42767: 2, 42772: 1, 42776: 1, 42777: 2, 42786: 3, 42793: 2, 42798: 2, 42811: 3, 42812: 5, 42834: 3, 42838: 1, 42839: 1, 42848: 1, 42849: 1, 42859: 2, 42874: 2, 42876: 3, 42879: 2, 42894: 3, 42910: 1, 42913: 1, 42917: 1, 42925: 14, 42933: 4, 42934: 1, 42936: 1, 42947: 1, 42959: 8, 42961: 3, 42964: 1, 42970: 1, 42976: 1, 42982: 2, 42987: 2, 42994: 1, 43001: 4, 43010: 1, 43011: 2, 43020: 1, 43022: 1, 43027: 1, 43031: 2, 43033: 1, 43036: 3, 43040: 1, 43041: 5, 43064: 7, 43072: 1, 43080: 2, 43097: 3, 43102: 2, 43107: 1, 43114: 1, 43120: 1, 43121: 1, 43127: 2, 43129: 2, 43136: 1, 43144: 4, 43174: 2, 43176: 2, 43192: 2, 43203: 1, 43204: 2, 43210: 1, 43216: 2, 43217: 3, 43224: 2, 43228: 1, 43239: 1, 43255: 3, 43272: 1, 43283: 1, 43299: 7, 43301: 1, 43306: 1, 43337: 1, 43340: 1, 43374: 1, 43378: 1, 43380: 1, 43390: 1, 43406: 3, 43408: 3, 43415: 2, 43419: 1, 43435: 1, 43436: 1, 43445: 1, 43446: 1, 43455: 2, 43491: 1, 43492: 1, 43555: 2, 43584: 1, 43589: 2, 43599: 4, 43609: 2, 43627: 1, 43628: 1, 43635: 1, 43636: 2, 43649: 3, 43669: 1, 43684: 1, 43686: 1, 43704: 2, 43715: 2, 43739: 1, 43743: 1, 43748: 3, 43760: 7, 43771: 10, 43794: 3, 43815: 2, 43816: 3, 43819: 3, 43833: 4, 43835: 3, 43836: 2, 43853: 1, 43856: 5, 43862: 1, 43871: 2, 43875: 1, 43885: 1, 43903: 10, 43909: 1, 43918: 4, 43933: 2, 43952: 5, 43965: 1, 43967: 1, 43970: 1, 43973: 2, 43980: 2, 44000: 15, 44002: 3, 44004: 6, 44006: 2, 44012: 1, 44015: 1, 44034: 1, 44042: 2, 44044: 1, 44075: 2, 44077: 2, 44078: 2, 44088: 1, 44098: 6, 44137: 4, 44141: 1, 44152: 2, 44171: 2, 44178: 4, 44184: 8, 44188: 1, 44195: 1, 44199: 1, 44207: 1, 44211: 3, 44217: 1, 44220: 2, 44236: 1, 44238: 3, 44239: 1, 44241: 1, 44243: 2, 44253: 1, 44286: 2, 44295: 2, 44296: 1, 44306: 2, 44322: 1, 44341: 1, 44361: 2, 44364: 2, 44365: 1, 44371: 3, 44379: 2, 44391: 5, 44398: 1, 44406: 1, 44437: 2, 44442: 1, 44448: 3, 44464: 2, 44477: 2, 44492: 1, 44501: 1, 44511: 1, 44516: 1, 44522: 2, 44541: 3, 44553: 3, 44561: 2, 44565: 3, 44566: 2, 44573: 1, 44586: 8, 44599: 1, 44600: 2, 44604: 4, 44605: 2, 44626: 1, 44634: 2, 44642: 1, 44661: 29, 44684: 1, 44688: 1, 44689: 3, 44699: 2, 44711: 3, 44712: 1, 44717: 2, 44721: 3, 44725: 1, 44730: 2, 44737: 1, 44741: 2, 44768: 2, 44783: 1, 44784: 2, 44786: 1, 44813: 2, 44820: 1, 44822: 1, 44826: 1, 44832: 1, 44833: 2, 44841: 2, 44848: 1, 44852: 2, 44855: 1, 44860: 2, 44890: 1, 44891: 2, 44905: 1, 44923: 1, 44927: 2, 44930: 1, 44931: 1, 44932: 1, 44935: 1, 44957: 1, 44977: 1, 44981: 1, 44985: 4, 44987: 3, 44992: 1, 44996: 1, 44997: 5, 45004: 2, 45005: 2, 45018: 2, 45019: 2, 45035: 1, 45039: 1, 45050: 3, 45066: 1, 45068: 1, 45069: 1, 45071: 1, 45087: 2, 45092: 1, 45122: 2, 45130: 2, 45131: 1, 45146: 1, 45174: 1, 45176: 1, 45181: 2, 45183: 2, 45184: 1, 45185: 3, 45191: 2, 45195: 3, 45201: 2, 45203: 1, 45204: 5, 45208: 1, 45227: 1, 45232: 1, 45248: 4, 45252: 1, 45253: 8, 45254: 4, 45259: 2, 45287: 2, 45290: 2, 45314: 1, 45321: 2, 45328: 1, 45339: 1, 45349: 3, 45353: 2, 45389: 1, 45401: 2, 45425: 3, 45427: 4, 45429: 2, 45436: 1, 45438: 1, 45439: 2, 45468: 2, 45469: 1, 45475: 1, 45478: 1, 45496: 1, 45502: 2, 45508: 2, 45514: 2, 45554: 1, 45557: 2, 45586: 1, 45606: 3, 45632: 1, 45644: 1, 45648: 2, 45671: 1, 45682: 4, 45688: 1, 45693: 1, 45696: 2, 45702: 1, 45712: 2, 45722: 1, 45733: 2, 45741: 1, 45752: 2, 45755: 1, 45757: 1, 45773: 4, 45780: 22, 45786: 2, 45805: 1, 45806: 1, 45807: 3, 45808: 2, 45822: 2, 45833: 1, 45855: 2, 45867: 1, 45869: 2, 45872: 4, 45880: 1, 45887: 1, 45893: 3, 45895: 1, 45897: 3, 45901: 2, 45908: 2, 45909: 5, 45910: 1, 45938: 3, 45945: 1, 45971: 1, 45983: 2, 45988: 3, 46014: 1, 46026: 2, 46040: 1, 46041: 1, 46061: 1, 46063: 2, 46073: 4, 46078: 1, 46082: 1, 46093: 1, 46107: 1, 46110: 2, 46128: 2, 46130: 2, 46132: 2, 46137: 1, 46146: 2, 46159: 1, 46163: 3, 46168: 2, 46176: 1, 46178: 1, 46182: 58, 46196: 1, 46202: 1, 46205: 25, 46212: 2, 46213: 55, 46222: 3, 46235: 2, 46238: 6, 46242: 1, 46246: 3, 46247: 1, 46265: 1, 46267: 2, 46270: 1, 46273: 1, 46292: 1, 46296: 1, 46299: 1, 46301: 1, 46306: 1, 46314: 1, 46328: 2, 46329: 2, 46331: 3, 46353: 1, 46360: 1, 46365: 1, 46379: 8, 46387: 2, 46390: 1, 46395: 2, 46424: 1, 46446: 1, 46448: 1, 46452: 1, 46469: 2, 46473: 4, 46482: 1, 46492: 1, 46531: 23, 46537: 2, 46539: 1, 46547: 2, 46548: 1, 46552: 2, 46560: 1, 46579: 1, 46580: 1, 46596: 2, 46600: 1, 46608: 1, 46619: 3, 46620: 3, 46660: 1, 46670: 3, 46675: 2, 46676: 2, 46688: 1, 46709: 1, 46734: 1, 46740: 2, 46747: 2, 46759: 4, 46772: 1, 46774: 1, 46781: 3, 46786: 1, 46807: 1, 46812: 3, 46835: 3, 46836: 3, 46837: 1, 46849: 2, 46872: 1, 46877: 1, 46880: 1, 46889: 2, 46894: 3, 46906: 2, 46918: 1, 46921: 1, 46933: 4, 46935: 1, 46939: 2, 46942: 1, 46943: 1, 46946: 1, 46973: 1, 46978: 2, 46995: 2, 47000: 1, 47006: 1, 47008: 1, 47013: 1, 47030: 1, 47036: 2, 47038: 1, 47042: 1, 47044: 1, 47045: 1, 47048: 10, 47062: 1, 47072: 1, 47077: 2, 47093: 1, 47107: 2, 47109: 1, 47128: 8, 47131: 6, 47148: 4, 47161: 1, 47163: 4, 47171: 3, 47182: 1, 47185: 1, 47196: 1, 47210: 1, 47225: 1, 47249: 1, 47261: 3, 47263: 1, 47264: 1, 47277: 2, 47300: 5, 47302: 2, 47306: 1, 47322: 1, 47334: 1, 47335: 2, 47340: 4, 47343: 6, 47371: 4, 47375: 6, 47381: 2, 47382: 1, 47390: 1, 47391: 2, 47397: 1, 47404: 2, 47414: 3, 47415: 3, 47420: 4, 47421: 4, 47422: 5, 47436: 1, 47437: 3, 47443: 4, 47445: 3, 47446: 2, 47452: 1, 47459: 1, 47460: 1, 47472: 4, 47479: 6, 47480: 8, 47481: 1, 47491: 3, 47506: 1, 47522: 1, 47529: 1, 47547: 3, 47554: 4, 47574: 1, 47587: 2, 47601: 1, 47607: 1, 47608: 1, 47639: 1, 47665: 1, 47666: 1, 47688: 1, 47695: 1, 47709: 1, 47716: 1, 47738: 3, 47756: 1, 47757: 3, 47768: 3, 47770: 4, 47785: 1, 47802: 4, 47808: 10, 47809: 3, 47843: 1, 47849: 1, 47852: 3, 47859: 1, 47872: 1, 47873: 2, 47883: 1, 47889: 21, 47903: 2, 47906: 2, 47908: 1, 47910: 1, 47913: 1, 47924: 1, 47928: 1, 47943: 2, 47947: 3, 47950: 1, 47952: 2, 47959: 1, 47960: 1, 47968: 1, 47978: 3, 47986: 2, 47989: 2, 48025: 2, 79: 1, 525: 1, 754: 1, 800: 4, 1122: 2, 1174: 1, 1376: 1, 1553: 1, 2341: 1, 3644: 1, 4045: 2, 4155: 1, 4508: 2, 5243: 1, 5254: 1, 6314: 2, 6332: 2, 6515: 1, 6766: 1, 6792: 1, 7435: 2, 7786: 2, 8554: 2, 9186: 1, 10085: 1, 12491: 1, 13252: 1, 13963: 1, 16420: 1, 16513: 1, 18259: 1, 19575: 1, 21515: 1, 23808: 3, 23880: 1, 24740: 1, 26911: 1, 27001: 1, 27509: 1, 28397: 1, 30280: 1, 30614: 2, 30666: 2, 31340: 2, 31396: 1, 32200: 1, 33525: 1, 34008: 1, 34503: 2, 35097: 2, 36350: 1, 37616: 2, 37950: 1, 38027: 1, 38136: 2, 39831: 3, 40491: 3, 40881: 1, 41144: 1, 41519: 1, 41549: 1, 41646: 1, 41733: 1, 41780: 1, 41788: 1, 41860: 1, 41868: 1, 41933: 1, 42074: 1, 42089: 2, 42189: 1, 42313: 3, 42320: 2, 42359: 1, 42400: 1, 42404: 2, 42427: 1, 42436: 1, 42437: 1, 42474: 1, 42498: 1, 42504: 1, 42524: 1, 42529: 3, 42538: 1, 42552: 1, 42581: 1, 42623: 2, 42624: 1, 42636: 1, 42669: 1, 42685: 1, 42692: 1, 42702: 2, 42745: 1, 42753: 1, 42766: 1, 42768: 1, 42775: 1, 42783: 1, 42819: 1, 42836: 1, 42853: 2, 42857: 1, 42865: 1, 42872: 1, 42886: 1, 42903: 1, 42904: 2, 42922: 4, 42950: 1, 42973: 2, 42979: 1, 43058: 1, 43065: 2, 43077: 1, 43084: 2, 43103: 1, 43122: 1, 43151: 2, 43170: 1, 43173: 1, 43225: 1, 43238: 1, 43252: 1, 43253: 1, 43264: 1, 43267: 1, 43294: 1, 43303: 1, 43316: 1, 43319: 1, 43333: 1, 43344: 1, 43349: 1, 43375: 2, 43388: 2, 43420: 1, 43433: 2, 43484: 1, 43523: 1, 43525: 1, 43544: 1, 43563: 1, 43569: 1, 43572: 1, 43585: 2, 43587: 1, 43596: 1, 43614: 3, 43624: 1, 43650: 1, 43688: 1, 43714: 1, 43745: 1, 43759: 2, 43765: 1, 43789: 1, 43799: 2, 43803: 1, 43808: 2, 43809: 1, 43824: 1, 43847: 1, 43849: 1, 43850: 1, 43855: 2, 43876: 1, 43886: 1, 43893: 1, 43941: 1, 43951: 2, 44007: 1, 44016: 1, 44020: 1, 44025: 1, 44031: 1, 44037: 1, 44048: 1, 44051: 1, 44083: 1, 44085: 1, 44090: 1, 44114: 1, 44117: 1, 44121: 1, 44122: 1, 44134: 1, 44140: 1, 44185: 2, 44201: 1, 44204: 2, 44206: 6, 44227: 4, 44248: 1, 44250: 2, 44255: 1, 44266: 1, 44267: 3, 44292: 1, 44305: 1, 44312: 1, 44320: 1, 44324: 2, 44329: 1, 44335: 1, 44338: 1, 44340: 1, 44347: 1, 44354: 1, 44358: 1, 44359: 1, 44363: 2, 44386: 1, 44405: 1, 44410: 1, 44415: 1, 44423: 2, 44445: 1, 44452: 1, 44487: 1, 44489: 1, 44498: 3, 44503: 1, 44524: 2, 44525: 3, 44530: 2, 44540: 1, 44556: 1, 44567: 2, 44575: 1, 44591: 3, 44592: 1, 44595: 1, 44616: 1, 44625: 2, 44633: 1, 44636: 1, 44637: 3, 44638: 1, 44639: 1, 44663: 2, 44670: 2, 44674: 1, 44678: 1, 44682: 1, 44692: 1, 44701: 1, 44713: 2, 44719: 2, 44742: 2, 44744: 2, 44754: 2, 44781: 2, 44817: 8, 44818: 1, 44834: 2, 44862: 1, 44866: 1, 44867: 1, 44873: 3, 44892: 3, 44900: 1, 44903: 1, 44942: 1, 44945: 1, 44950: 1, 44951: 2, 44955: 2, 44970: 1, 45011: 1, 45015: 1, 45022: 1, 45052: 1, 45079: 2, 45083: 1, 45097: 1, 45112: 1, 45121: 1, 45123: 1, 45132: 1, 45133: 1, 45134: 1, 45136: 1, 45137: 2, 45161: 2, 45169: 5, 45173: 1, 45179: 1, 45205: 1, 45237: 2, 45247: 1, 45251: 1, 45293: 2, 45294: 1, 45296: 1, 45301: 3, 45303: 1, 45304: 1, 45327: 1, 45336: 2, 45348: 1, 45361: 2, 45407: 1, 45414: 1, 45422: 1, 45430: 1, 45453: 1, 45474: 1, 45486: 1, 45499: 1, 45512: 1, 45516: 1, 45523: 1, 45527: 1, 45544: 2, 45549: 1, 45550: 2, 45559: 1, 45569: 1, 45588: 1, 45598: 1, 45602: 1, 45610: 5, 45612: 1, 45616: 1, 45626: 1, 45631: 1, 45636: 1, 45646: 3, 45653: 2, 45663: 1, 45670: 1, 45697: 2, 45700: 1, 45701: 1, 45724: 1, 45735: 1, 45746: 2, 45751: 2, 45753: 1, 45756: 1, 45765: 1, 45813: 1, 45816: 1, 45842: 1, 45850: 1, 45852: 1, 45868: 1, 45957: 1, 45965: 1, 45970: 1, 45989: 1, 46027: 3, 46032: 1, 46042: 2, 46054: 1, 46074: 1, 46103: 2, 46121: 1, 46129: 1, 46164: 1, 46183: 1, 46189: 1, 46194: 1, 46211: 1, 46219: 1, 46225: 1, 46231: 1, 46241: 1, 46243: 1, 46251: 1, 46254: 1, 46286: 1, 46287: 1, 46326: 1, 46338: 3, 46345: 1, 46354: 1, 46366: 1, 46367: 2, 46374: 1, 46391: 1, 46404: 1, 46406: 2, 46418: 1, 46451: 1, 46457: 1, 46483: 1, 46489: 1, 46512: 3, 46514: 1, 46516: 1, 46517: 2, 46518: 1, 46543: 4, 46545: 1, 46559: 2, 46564: 2, 46565: 1, 46589: 1, 46627: 1, 46636: 1, 46640: 1, 46653: 3, 46672: 1, 46686: 1, 46695: 1, 46704: 2, 46715: 1, 46732: 1, 46739: 1, 46744: 3, 46754: 1, 46758: 1, 46768: 1, 46784: 2, 46790: 1, 46806: 1, 46824: 1, 46827: 1, 46842: 1, 46852: 3, 46869: 1, 46874: 1, 46883: 1, 46884: 2, 46958: 2, 46975: 1, 46981: 2, 47012: 1, 47020: 1, 47071: 1, 47078: 1, 47082: 2, 47088: 1, 47090: 1, 47095: 3, 47108: 1, 47111: 3, 47112: 4, 47114: 1, 47119: 1, 47120: 1, 47124: 1, 47126: 2, 47132: 1, 47134: 1, 47160: 1, 47164: 2, 47205: 1, 47209: 1, 47216: 2, 47222: 2, 47223: 2, 47242: 1, 47247: 1, 47248: 2, 47252: 1, 47257: 1, 47274: 1, 47282: 1, 47292: 1, 47299: 1, 47301: 1, 47303: 2, 47362: 1, 47372: 1, 47379: 1, 47384: 1, 47385: 2, 47387: 2, 47394: 1, 47405: 18, 47418: 1, 47423: 1, 47424: 1, 47441: 2, 47454: 1, 47457: 1, 47486: 1, 47494: 2, 47495: 2, 47499: 1, 47507: 2, 47508: 1, 47510: 2, 47513: 1, 47520: 3, 47526: 1, 47536: 2, 47543: 1, 47544: 2, 47559: 1, 47582: 2, 47585: 8, 47641: 1, 47642: 1, 47659: 1, 47672: 2, 47681: 1, 47700: 1, 47726: 2, 47729: 1, 47734: 2, 47739: 1, 47745: 1, 47748: 1, 47753: 1, 47775: 2, 47806: 1, 47816: 1, 47827: 1, 47828: 2, 47845: 3, 47847: 1, 47857: 1, 47862: 1, 47863: 1, 47864: 2, 47870: 2, 47898: 1, 47930: 1, 47933: 1, 47939: 1, 47951: 1, 47962: 2, 47969: 1, 47985: 1, 48000: 1, 48007: 2, 2082: 2, 4587: 1, 5088: 2, 6408: 2, 9141: 2, 9816: 1, 11125: 2, 13659: 1, 20827: 1, 21169: 1, 23112: 1, 26086: 1, 26363: 1, 29329: 1, 34540: 1, 35352: 1, 36306: 1, 39279: 1, 40068: 3, 41111: 1, 41546: 1, 41743: 2, 41798: 1, 41823: 1, 41959: 1, 41997: 1, 42133: 1, 42140: 2, 42402: 2, 42499: 1, 42527: 1, 42639: 1, 42703: 2, 42749: 1, 42818: 1, 42890: 1, 42914: 1, 42972: 1, 42993: 1, 42998: 1, 43096: 1, 43109: 1, 43110: 1, 43118: 1, 43155: 2, 43156: 1, 43172: 1, 43205: 1, 43220: 1, 43245: 1, 43250: 1, 43274: 1, 43342: 1, 43348: 2, 43440: 1, 43450: 1, 43451: 1, 43485: 1, 43533: 1, 43546: 1, 43651: 1, 43664: 1, 43691: 1, 43705: 1, 43726: 1, 43768: 1, 43832: 2, 43834: 1, 43864: 1, 43865: 1, 44008: 1, 44035: 1, 44084: 1, 44131: 1, 44167: 1, 44216: 1, 44242: 1, 44247: 1, 44264: 1, 44288: 1, 44330: 1, 44343: 1, 44360: 1, 44409: 1, 44434: 1, 44435: 1, 44454: 1, 44499: 1, 44532: 1, 44542: 1, 44602: 1, 44646: 1, 44658: 1, 44788: 1, 44835: 2, 44849: 1, 44850: 1, 44864: 1, 44887: 1, 44897: 1, 44904: 1, 44907: 1, 44980: 1, 44993: 1, 45072: 1, 45126: 3, 45142: 1, 45143: 1, 45187: 1, 45192: 2, 45249: 1, 45250: 2, 45295: 1, 45308: 1, 45333: 1, 45354: 1, 45370: 1, 45386: 1, 45461: 1, 45472: 1, 45497: 1, 45505: 1, 45555: 1, 45601: 1, 45615: 1, 45681: 3, 45744: 1, 45761: 1, 45764: 1, 45821: 1, 45935: 1, 45949: 1, 46060: 1, 46075: 1, 46148: 1, 46170: 1, 46193: 1, 46209: 1, 46217: 1, 46250: 1, 46257: 2, 46259: 1, 46260: 1, 46262: 1, 46271: 1, 46291: 1, 46407: 1, 46427: 1, 46461: 1, 46561: 1, 46571: 1, 46638: 1, 46665: 1, 46711: 1, 46731: 1, 46742: 1, 46743: 2, 46789: 2, 46804: 1, 46815: 1, 46833: 1, 46843: 1, 46853: 1, 46857: 1, 46905: 1, 46917: 1, 46953: 3, 47021: 1, 47024: 1, 47027: 2, 47039: 1, 47056: 1, 47098: 1, 47117: 1, 47172: 1, 47200: 1, 47378: 1, 47409: 1, 47451: 1, 47476: 1, 47588: 1, 47629: 1, 47691: 1, 47706: 1, 47733: 1, 47736: 1, 47746: 1, 47750: 1, 47774: 1, 47804: 1, 47810: 1, 47851: 1, 47871: 1, 47886: 1, 47891: 1, 47892: 1, 47914: 1, 47944: 1, 48034: 1}\n",
      "Player who changes the most: 32477\n",
      "------------------------------------------------------------------------------------------------------------------\n",
      "Count of players who decrease_maxbet : 2550\n",
      "Count of times each player decrease_maxbet : {20: 3, 73: 2, 94: 2, 156: 1, 224: 18, 226: 1, 244: 1, 646: 2, 719: 6, 865: 6, 1233: 6, 1371: 2, 1408: 2, 1442: 2, 1519: 1, 1922: 4, 1932: 3, 1959: 8, 2015: 1, 2070: 2, 2073: 1, 2099: 5, 2331: 6, 3127: 2, 3260: 12, 3385: 4, 3634: 33, 3653: 2, 3677: 1, 4252: 1, 4265: 2, 4860: 4, 4950: 3, 4970: 6, 5045: 2, 5113: 7, 5147: 3, 5443: 1, 5836: 1, 5879: 28, 5969: 20, 6234: 3, 6271: 10, 6365: 19, 6490: 82, 6695: 3, 6829: 2, 6862: 1, 6954: 2, 7195: 263, 7337: 4, 7689: 8, 7695: 9, 7933: 1, 7940: 1, 7967: 4, 8005: 2, 8233: 263, 8412: 4, 8446: 11, 8464: 4, 8568: 4, 8570: 2, 8613: 3, 8827: 1, 8978: 9, 9011: 5, 9031: 3, 9153: 1, 9154: 2, 9310: 2, 9361: 1, 9510: 13, 9812: 3, 10119: 5, 10248: 6, 10348: 1, 10598: 1, 10738: 202, 10905: 2, 10922: 5, 11309: 1, 11334: 7, 11427: 6, 11474: 3, 11526: 3, 11584: 2, 11589: 2, 11821: 2, 11868: 2, 11947: 3, 12192: 2, 12277: 42, 12356: 39, 12437: 1, 12562: 2, 12692: 7, 13312: 2, 13753: 1, 13910: 8, 14128: 1, 14443: 4, 14778: 4, 14868: 2, 15389: 42, 15612: 3, 15714: 1, 15736: 4, 16207: 3, 16589: 1, 17472: 235, 17709: 4, 18191: 1, 18617: 3, 18915: 2, 19166: 78, 19285: 2, 19351: 1, 19415: 2, 19496: 4, 19628: 4, 19774: 1, 19977: 4, 20149: 2, 20496: 4, 20530: 1, 20799: 2, 20926: 1, 22942: 3, 22989: 3, 23045: 8, 23202: 2, 23267: 4, 23278: 3, 23311: 2, 23321: 24, 23432: 1, 23502: 1, 23585: 3, 23779: 1, 24103: 2, 24117: 9, 24133: 5, 24171: 3, 25312: 3, 26012: 2, 26433: 3, 26502: 2, 26850: 1, 27510: 3, 27595: 1, 27742: 1, 28595: 2, 28671: 2, 28705: 3, 28710: 3, 28880: 90, 29216: 7, 31032: 2, 31058: 2, 31561: 2, 31562: 1, 32477: 682, 32887: 7, 33004: 2, 33899: 1, 34520: 2, 35013: 1, 35035: 1, 36285: 3, 36654: 1, 37000: 1, 37409: 9, 38169: 2, 38229: 3, 38281: 1, 38358: 2, 38493: 1, 38494: 2, 38603: 3, 39329: 3, 39829: 2, 40142: 1, 40386: 1, 40512: 2, 40628: 4, 40693: 287, 41267: 23, 41307: 2, 41370: 1, 41435: 1, 41664: 4, 41665: 2, 41690: 6, 41713: 3, 41716: 6, 41726: 3, 41833: 15, 41839: 98, 41840: 3, 41848: 3, 41872: 3, 41893: 2, 41939: 5, 41953: 1, 41961: 3, 42029: 11, 42045: 1, 42055: 4, 42057: 5, 42073: 6, 42086: 7, 42098: 2, 42102: 4, 42103: 3, 42107: 6, 42145: 6, 42156: 5, 42187: 2, 42204: 9, 42244: 10, 42254: 1, 42269: 2, 42302: 3, 42304: 4, 42334: 2, 42336: 2, 42353: 1, 42364: 27, 42387: 3, 42389: 4, 42390: 7, 42394: 1, 42414: 2, 42416: 3, 42425: 4, 42426: 3, 42428: 2, 42429: 6, 42430: 62, 42431: 1, 42440: 1, 42445: 2, 42446: 2, 42451: 1, 42452: 1, 42453: 3, 42457: 4, 42467: 4, 42471: 3, 42476: 3, 42477: 26, 42478: 16, 42481: 4, 42488: 5, 42494: 3, 42496: 1, 42497: 3, 42502: 5, 42509: 2, 42517: 1, 42518: 6, 42520: 1, 42526: 3, 42532: 5, 42539: 3, 42540: 3, 42545: 9, 42548: 1, 42560: 12, 42564: 3, 42568: 2, 42571: 1, 42589: 4, 42590: 2, 42593: 4, 42594: 4, 42596: 4, 42600: 8, 42602: 3, 42608: 2, 42613: 24, 42626: 2, 42632: 14, 42644: 5, 42651: 9, 42656: 3, 42657: 6, 42684: 13, 42690: 4, 42693: 2, 42709: 15, 42714: 5, 42722: 3, 42723: 3, 42726: 11, 42727: 8, 42729: 9, 42732: 29, 42740: 3, 42746: 44, 42754: 1, 42758: 47, 42761: 2, 42763: 1, 42771: 3, 42789: 1, 42794: 2, 42806: 1, 42814: 4, 42826: 2, 42829: 2, 42832: 4, 42833: 2, 42835: 2, 42840: 1, 42878: 24, 42883: 5, 42888: 1, 42889: 6, 42895: 1, 42907: 1, 42908: 2, 42911: 5, 42929: 2, 42930: 2, 42931: 6, 42932: 1, 42943: 1, 42945: 1, 42952: 1, 42955: 4, 42956: 26, 42958: 6, 42975: 11, 42986: 3, 42992: 1, 43004: 2, 43018: 5, 43019: 1, 43025: 3, 43044: 4, 43045: 1, 43063: 16, 43067: 3, 43082: 18, 43093: 5, 43094: 3, 43095: 16, 43098: 2, 43101: 1, 43115: 1, 43117: 1, 43123: 3, 43124: 4, 43131: 1, 43132: 7, 43146: 8, 43148: 1, 43153: 1, 43168: 3, 43175: 1, 43182: 1, 43183: 2, 43184: 2, 43187: 3, 43191: 12, 43200: 3, 43223: 6, 43227: 1, 43235: 9, 43262: 1, 43282: 4, 43287: 10, 43291: 122, 43292: 9, 43309: 3, 43329: 1, 43330: 1, 43341: 5, 43346: 149, 43357: 7, 43359: 4, 43360: 4, 43364: 635, 43371: 108, 43372: 1, 43373: 6, 43376: 8, 43379: 1, 43385: 3, 43387: 12, 43400: 5, 43405: 2, 43416: 10, 43421: 19, 43424: 2, 43431: 1, 43434: 3, 43437: 6, 43438: 17, 43441: 4, 43453: 3, 43454: 1, 43459: 1, 43493: 2, 43506: 10, 43511: 21, 43512: 3, 43513: 1, 43526: 4, 43528: 3, 43552: 5, 43553: 9, 43568: 8, 43570: 5, 43573: 11, 43574: 1, 43576: 6, 43592: 2, 43613: 1, 43616: 4, 43623: 2, 43625: 2, 43633: 12, 43644: 2, 43652: 7, 43653: 2, 43658: 2, 43661: 1, 43670: 2, 43673: 5, 43699: 2, 43707: 2, 43717: 1, 43724: 6, 43734: 3, 43735: 94, 43747: 38, 43749: 1, 43751: 5, 43752: 4, 43754: 7, 43761: 6, 43769: 2, 43770: 3, 43772: 16, 43773: 14, 43781: 14, 43783: 7, 43784: 2, 43788: 1, 43790: 4, 43797: 1, 43798: 2, 43802: 4, 43807: 3, 43813: 3, 43820: 3, 43821: 313, 43822: 3, 43828: 4, 43842: 1, 43848: 1, 43859: 7, 43861: 1, 43866: 2, 43880: 5, 43888: 4, 43895: 2, 43899: 2, 43916: 4, 43919: 28, 43921: 1, 43926: 5, 43931: 1, 43934: 1, 43955: 11, 43962: 8, 43963: 5, 43988: 9, 43991: 1, 43992: 1, 44005: 4, 44010: 4, 44013: 6, 44019: 3, 44021: 1, 44029: 1, 44030: 1, 44032: 1, 44033: 2, 44040: 3, 44043: 44, 44045: 1, 44052: 11, 44056: 1, 44067: 5, 44071: 3, 44081: 8, 44097: 5, 44101: 2, 44107: 2, 44109: 2, 44118: 3, 44136: 2, 44143: 1, 44147: 97, 44156: 1, 44157: 2, 44163: 2, 44169: 7, 44170: 6, 44174: 1, 44176: 4, 44187: 2, 44194: 3, 44196: 4, 44202: 3, 44209: 7, 44222: 5, 44228: 3, 44231: 5, 44245: 1, 44252: 5, 44259: 5, 44260: 1, 44261: 3, 44265: 5, 44268: 1, 44269: 3, 44273: 4, 44275: 3, 44289: 1, 44291: 2, 44303: 10, 44309: 50, 44326: 5, 44327: 8, 44331: 1, 44342: 2, 44350: 1, 44372: 1, 44373: 1, 44381: 60, 44383: 6, 44384: 3, 44390: 6, 44393: 10, 44394: 6, 44400: 32, 44401: 1, 44402: 7, 44403: 2, 44404: 1, 44411: 2, 44413: 3, 44414: 5, 44418: 3, 44420: 6, 44421: 1, 44433: 195, 44441: 8, 44446: 3, 44450: 1, 44459: 1, 44466: 2, 44475: 1, 44479: 4, 44488: 6, 44490: 2, 44491: 2, 44502: 204, 44519: 5, 44520: 1, 44526: 4, 44529: 1, 44537: 2, 44543: 1, 44562: 2, 44569: 3, 44570: 4, 44571: 1, 44577: 5, 44583: 12, 44589: 58, 44593: 2, 44594: 3, 44606: 3, 44609: 2, 44615: 5, 44618: 4, 44619: 2, 44621: 6, 44622: 2, 44623: 3, 44630: 3, 44635: 2, 44640: 8, 44641: 21, 44650: 3, 44652: 1, 44655: 1, 44656: 8, 44657: 1, 44672: 7, 44679: 13, 44680: 2, 44683: 1, 44686: 11, 44691: 1, 44703: 3, 44704: 1, 44710: 2, 44716: 3, 44718: 2, 44731: 5, 44745: 1, 44764: 2, 44766: 6, 44769: 69, 44779: 1, 44791: 3, 44803: 2, 44804: 3, 44807: 4, 44809: 2, 44811: 1, 44816: 2, 44827: 2, 44828: 4, 44836: 4, 44840: 4, 44844: 8, 44845: 1, 44846: 2, 44853: 2, 44856: 2, 44858: 10, 44863: 4, 44865: 3, 44872: 2, 44899: 1, 44910: 1, 44912: 2, 44913: 2, 44917: 30, 44919: 1, 44920: 2, 44926: 1, 44933: 2, 44939: 5, 44943: 3, 44948: 6, 44953: 2, 44959: 11, 44963: 1, 44972: 4, 44973: 4, 44974: 2, 44979: 5, 44986: 16, 44998: 4, 45003: 1, 45023: 2, 45024: 7, 45030: 2, 45031: 63, 45032: 2, 45042: 4, 45043: 5, 45044: 2, 45049: 1, 45051: 7, 45058: 6, 45070: 2, 45076: 6, 45078: 3, 45091: 1, 45099: 1, 45101: 1, 45102: 2, 45104: 5, 45113: 3, 45118: 6, 45129: 1, 45141: 2, 45147: 5, 45153: 6, 45157: 1, 45162: 1, 45175: 5, 45186: 1, 45194: 3, 45224: 7, 45225: 7, 45228: 1, 45229: 3, 45238: 3, 45240: 3, 45242: 1, 45243: 5, 45260: 1, 45262: 3, 45269: 10, 45275: 11, 45277: 2, 45283: 7, 45284: 3, 45285: 4, 45286: 3, 45288: 16, 45291: 1, 45299: 1, 45307: 1, 45310: 15, 45311: 1, 45322: 1, 45324: 1, 45330: 3, 45347: 6, 45359: 2, 45362: 1, 45365: 26, 45374: 2, 45377: 1, 45393: 2, 45397: 2, 45398: 3, 45402: 1, 45416: 1, 45421: 8, 45423: 2, 45426: 3, 45431: 2, 45433: 6, 45437: 2, 45449: 64, 45451: 3, 45456: 5, 45466: 15, 45489: 3, 45490: 4, 45492: 2, 45494: 6, 45495: 2, 45500: 10, 45501: 5, 45504: 5, 45513: 2, 45519: 1, 45531: 4, 45532: 4, 45561: 2, 45570: 11, 45573: 2, 45575: 7, 45579: 2, 45580: 3, 45589: 3, 45604: 5, 45605: 12, 45607: 3, 45611: 1, 45614: 6, 45617: 8, 45618: 1, 45623: 3, 45627: 3, 45630: 16, 45640: 7, 45647: 1, 45649: 1, 45654: 2, 45668: 2, 45680: 5, 45686: 5, 45689: 4, 45691: 7, 45706: 5, 45711: 3, 45719: 3, 45734: 3, 45737: 1, 45738: 1, 45739: 1, 45770: 2, 45771: 1, 45775: 8, 45782: 1, 45790: 17, 45791: 3, 45792: 7, 45793: 6, 45796: 108, 45801: 1, 45803: 2, 45804: 3, 45810: 3, 45811: 2, 45812: 2, 45820: 287, 45823: 3, 45824: 2, 45827: 15, 45838: 1, 45839: 1, 45840: 7, 45841: 3, 45866: 1, 45873: 8, 45874: 7, 45882: 4, 45883: 4, 45889: 1, 45915: 1, 45922: 2, 45923: 1, 45936: 1, 45939: 30, 45953: 5, 45956: 1, 45958: 1, 45966: 1, 45968: 5, 45979: 7, 45987: 3, 45994: 2, 46000: 1, 46004: 7, 46007: 1, 46008: 176, 46011: 3, 46012: 2, 46013: 5, 46018: 7, 46021: 5, 46024: 9, 46034: 3, 46058: 2, 46064: 3, 46070: 10, 46080: 3, 46097: 1, 46104: 1, 46112: 3, 46115: 6, 46133: 3, 46139: 103, 46141: 2, 46142: 1, 46155: 3, 46160: 1, 46162: 2, 46188: 5, 46195: 7, 46197: 4, 46199: 7, 46206: 15, 46207: 3, 46208: 1, 46210: 1, 46215: 4, 46236: 1, 46239: 5, 46252: 2, 46255: 3, 46256: 3, 46263: 2, 46279: 1, 46281: 4, 46289: 3, 46298: 4, 46302: 13, 46303: 3, 46312: 3, 46325: 3, 46336: 1, 46355: 10, 46356: 4, 46363: 1, 46368: 1, 46376: 2, 46378: 4, 46383: 3, 46393: 3, 46410: 1, 46422: 1, 46433: 64, 46443: 8, 46450: 2, 46468: 24, 46493: 1, 46522: 39, 46527: 2, 46550: 1, 46598: 4, 46604: 5, 46606: 2, 46607: 164, 46609: 29, 46614: 7, 46621: 1, 46622: 5, 46639: 10, 46644: 2, 46656: 3, 46659: 2, 46662: 3, 46666: 3, 46668: 3, 46671: 1, 46687: 1, 46691: 4, 46697: 19, 46700: 1, 46707: 30, 46710: 2, 46719: 1, 46720: 12, 46728: 1, 46729: 8, 46736: 2, 46746: 5, 46748: 1, 46749: 1, 46750: 5, 46756: 2, 46761: 8, 46762: 12, 46773: 1, 46785: 3, 46787: 2, 46788: 1, 46793: 2, 46794: 2, 46803: 2, 46820: 1, 46826: 12, 46828: 4, 46829: 5, 46838: 24, 46840: 2, 46847: 3, 46848: 1, 46858: 1, 46859: 1, 46861: 1, 46865: 4, 46875: 2, 46891: 3, 46901: 22, 46904: 4, 46908: 1, 46920: 1, 46936: 3, 46945: 3, 46961: 83, 46962: 6, 46966: 1, 46982: 6, 46992: 2, 47007: 4, 47017: 2, 47047: 1, 47052: 7, 47054: 1, 47069: 1, 47073: 3, 47076: 2, 47081: 2, 47084: 1, 47092: 11, 47110: 43, 47116: 2, 47136: 4, 47145: 3, 47162: 1, 47178: 13, 47183: 3, 47198: 1, 47201: 2, 47208: 2, 47211: 106, 47212: 1, 47224: 13, 47232: 6, 47240: 2, 47243: 1, 47250: 3, 47255: 1, 47256: 4, 47260: 5, 47275: 27, 47295: 2, 47304: 3, 47317: 3, 47328: 2, 47336: 2, 47353: 3, 47360: 6, 47388: 5, 47389: 1, 47399: 1, 47400: 28, 47410: 3, 47412: 9, 47413: 2, 47435: 1, 47439: 3, 47463: 2, 47471: 73, 47475: 2, 47477: 1, 47478: 1, 47484: 6, 47485: 3, 47527: 1, 47530: 2, 47540: 3, 47551: 1, 47555: 2, 47569: 5, 47570: 2, 47579: 2, 47595: 2, 47611: 2, 47618: 4, 47628: 3, 47640: 1, 47643: 18, 47647: 1, 47667: 2, 47669: 1, 47687: 1, 47694: 7, 47704: 5, 47708: 1, 47725: 1, 47731: 1, 47735: 2, 47737: 2, 47743: 3, 47760: 6, 47769: 3, 47771: 8, 47777: 1, 47778: 9, 47780: 1, 47788: 1, 47792: 1, 47797: 1, 47800: 1, 47805: 3, 47819: 3, 47831: 3, 47842: 1, 47850: 2, 47854: 39, 47855: 1, 47861: 3, 47878: 2, 47880: 2, 47887: 3, 47890: 6, 47896: 2, 47909: 2, 47918: 37, 47964: 2, 47974: 2, 47977: 25, 47979: 3, 47994: 1, 450: 1, 499: 1, 613: 2, 677: 1, 801: 1, 988: 2, 1434: 1, 1504: 1, 1604: 1, 1984: 3, 2026: 2, 2031: 2, 2155: 1, 2287: 1, 2819: 3, 3319: 1, 3958: 1, 4180: 1, 4190: 1, 4527: 1, 4843: 1, 4872: 1, 4881: 1, 4990: 3, 5859: 1, 5970: 1, 5975: 1, 6056: 2, 6532: 1, 6675: 1, 6934: 4, 6988: 1, 7167: 2, 7210: 1, 7437: 1, 7840: 1, 7901: 2, 7960: 11, 8003: 2, 8114: 2, 8345: 7, 8538: 2, 8694: 4, 8814: 1, 8932: 4, 9201: 3, 9559: 1, 9608: 5, 9866: 2, 10817: 5, 11146: 3, 11218: 1, 11722: 1, 11857: 2, 11869: 2, 11912: 2, 12079: 1, 12173: 1, 12226: 1, 12838: 1, 13436: 2, 13458: 3, 13832: 4, 14169: 1, 15324: 1, 15361: 1, 15579: 2, 15853: 4, 15889: 1, 16119: 1, 16538: 2, 16730: 1, 17072: 1, 17344: 1, 17376: 2, 17524: 4, 17608: 1, 18817: 2, 20069: 1, 20399: 1, 20679: 2, 20868: 2, 21450: 1, 21495: 1, 22704: 2, 22968: 2, 22981: 2, 23699: 2, 23744: 4, 24492: 2, 24607: 1, 24817: 3, 24833: 4, 24903: 2, 25113: 1, 25923: 1, 26408: 1, 28336: 1, 28363: 1, 28390: 2, 28745: 1, 29217: 1, 29763: 1, 29953: 1, 30827: 2, 31691: 1, 32137: 2, 32891: 1, 33297: 1, 36383: 2, 36560: 5, 36561: 2, 36688: 6, 37678: 6, 38167: 1, 38276: 3, 38815: 1, 39261: 5, 39712: 1, 39826: 3, 40777: 2, 40784: 2, 40808: 1, 40810: 2, 40826: 1, 41002: 1, 41102: 1, 41326: 2, 41452: 4, 41576: 1, 41682: 1, 41706: 1, 41756: 1, 41778: 1, 41804: 4, 41806: 1, 41908: 2, 41927: 2, 41938: 1, 41950: 1, 41960: 1, 42023: 1, 42036: 5, 42037: 2, 42054: 2, 42090: 5, 42121: 1, 42165: 4, 42182: 2, 42184: 1, 42218: 1, 42252: 1, 42260: 1, 42284: 1, 42341: 1, 42349: 3, 42360: 1, 42393: 4, 42395: 1, 42397: 1, 42406: 1, 42415: 3, 42424: 1, 42441: 1, 42447: 2, 42454: 1, 42468: 4, 42472: 2, 42482: 7, 42490: 1, 42491: 1, 42492: 1, 42506: 2, 42508: 2, 42510: 1, 42516: 5, 42531: 2, 42550: 1, 42561: 2, 42563: 1, 42569: 3, 42595: 3, 42601: 1, 42605: 1, 42609: 2, 42611: 1, 42622: 1, 42625: 2, 42640: 2, 42641: 2, 42660: 1, 42663: 1, 42705: 5, 42712: 1, 42743: 2, 42767: 1, 42772: 1, 42777: 1, 42786: 2, 42788: 1, 42793: 3, 42798: 2, 42811: 3, 42812: 6, 42817: 1, 42834: 2, 42839: 2, 42841: 1, 42849: 1, 42851: 1, 42852: 1, 42859: 2, 42874: 2, 42876: 3, 42879: 2, 42894: 4, 42910: 1, 42913: 1, 42916: 1, 42917: 1, 42925: 14, 42933: 1, 42936: 1, 42946: 1, 42947: 1, 42959: 7, 42961: 2, 42964: 1, 42970: 1, 42976: 3, 42977: 1, 42982: 2, 42994: 1, 43001: 4, 43003: 1, 43010: 1, 43022: 1, 43031: 1, 43033: 1, 43040: 1, 43041: 5, 43060: 1, 43064: 3, 43072: 1, 43080: 2, 43097: 3, 43102: 2, 43114: 1, 43121: 2, 43127: 3, 43129: 2, 43144: 5, 43174: 2, 43176: 3, 43192: 1, 43193: 1, 43203: 1, 43204: 1, 43210: 2, 43217: 3, 43224: 7, 43254: 1, 43255: 3, 43261: 2, 43272: 1, 43283: 1, 43298: 1, 43299: 5, 43301: 1, 43306: 2, 43337: 2, 43339: 2, 43380: 1, 43401: 1, 43406: 1, 43408: 2, 43415: 2, 43435: 1, 43436: 1, 43446: 1, 43455: 4, 43472: 1, 43491: 3, 43492: 1, 43514: 1, 43524: 1, 43555: 2, 43565: 1, 43584: 1, 43589: 2, 43591: 1, 43599: 2, 43609: 3, 43610: 2, 43627: 1, 43635: 4, 43636: 1, 43645: 1, 43649: 2, 43669: 1, 43684: 1, 43704: 3, 43712: 1, 43715: 1, 43743: 1, 43748: 3, 43760: 3, 43771: 10, 43794: 4, 43815: 2, 43816: 2, 43819: 3, 43829: 1, 43833: 4, 43835: 4, 43836: 1, 43853: 1, 43856: 6, 43857: 1, 43862: 1, 43871: 1, 43873: 1, 43874: 3, 43875: 1, 43885: 2, 43891: 1, 43903: 11, 43908: 1, 43909: 1, 43913: 1, 43933: 2, 43943: 1, 43952: 4, 43967: 1, 43970: 1, 43973: 2, 43980: 3, 43989: 1, 44000: 10, 44002: 2, 44004: 7, 44006: 2, 44012: 2, 44015: 1, 44042: 2, 44044: 1, 44055: 1, 44063: 1, 44075: 1, 44077: 3, 44078: 2, 44088: 2, 44098: 5, 44099: 1, 44137: 3, 44141: 2, 44152: 3, 44171: 2, 44178: 7, 44184: 5, 44195: 1, 44199: 1, 44207: 1, 44211: 1, 44217: 1, 44236: 2, 44239: 1, 44240: 1, 44243: 1, 44251: 1, 44286: 1, 44295: 1, 44296: 1, 44306: 2, 44322: 2, 44333: 1, 44348: 1, 44361: 3, 44364: 2, 44365: 1, 44371: 2, 44379: 3, 44391: 5, 44406: 1, 44437: 1, 44448: 1, 44458: 1, 44477: 2, 44492: 1, 44496: 1, 44508: 1, 44509: 2, 44511: 3, 44516: 1, 44538: 2, 44541: 3, 44553: 4, 44561: 2, 44565: 2, 44566: 1, 44573: 3, 44586: 10, 44599: 2, 44600: 2, 44604: 3, 44605: 1, 44642: 1, 44661: 25, 44684: 2, 44688: 1, 44689: 2, 44694: 1, 44696: 1, 44699: 2, 44711: 2, 44712: 1, 44717: 1, 44721: 4, 44725: 1, 44730: 1, 44737: 1, 44741: 3, 44768: 2, 44773: 2, 44786: 2, 44813: 2, 44820: 2, 44822: 1, 44829: 1, 44833: 4, 44841: 1, 44847: 1, 44848: 1, 44852: 3, 44855: 2, 44860: 3, 44868: 1, 44891: 4, 44923: 1, 44924: 2, 44927: 1, 44931: 1, 44932: 2, 44965: 1, 44977: 2, 44985: 3, 44987: 1, 44992: 1, 44996: 4, 44997: 3, 45004: 3, 45005: 1, 45017: 1, 45018: 1, 45039: 1, 45050: 3, 45068: 1, 45069: 1, 45071: 1, 45087: 2, 45092: 1, 45122: 1, 45130: 1, 45131: 1, 45146: 1, 45159: 1, 45160: 1, 45174: 3, 45176: 1, 45181: 1, 45182: 1, 45183: 2, 45184: 1, 45185: 1, 45191: 2, 45201: 1, 45204: 2, 45216: 1, 45227: 1, 45232: 1, 45245: 1, 45248: 4, 45252: 2, 45253: 4, 45254: 4, 45259: 1, 45270: 1, 45287: 4, 45290: 1, 45314: 1, 45321: 2, 45337: 1, 45339: 1, 45349: 2, 45353: 1, 45378: 1, 45389: 2, 45401: 2, 45425: 3, 45427: 3, 45429: 1, 45436: 2, 45439: 2, 45468: 2, 45478: 2, 45488: 1, 45496: 1, 45502: 4, 45508: 1, 45557: 2, 45599: 1, 45606: 2, 45625: 1, 45644: 1, 45648: 2, 45656: 1, 45671: 1, 45682: 3, 45688: 2, 45693: 2, 45696: 1, 45702: 2, 45707: 1, 45708: 1, 45712: 2, 45722: 2, 45729: 1, 45733: 3, 45752: 1, 45755: 1, 45773: 3, 45780: 21, 45795: 1, 45805: 1, 45806: 3, 45807: 2, 45808: 2, 45833: 1, 45855: 2, 45869: 1, 45872: 3, 45880: 1, 45887: 1, 45893: 3, 45895: 2, 45897: 2, 45901: 3, 45908: 1, 45909: 6, 45913: 1, 45934: 2, 45983: 3, 45988: 5, 45991: 2, 46023: 1, 46026: 2, 46036: 1, 46041: 1, 46056: 1, 46061: 1, 46063: 3, 46073: 4, 46078: 2, 46082: 1, 46088: 1, 46093: 1, 46110: 2, 46128: 3, 46130: 3, 46137: 3, 46146: 1, 46152: 2, 46153: 2, 46156: 1, 46157: 1, 46159: 1, 46163: 2, 46168: 2, 46176: 1, 46178: 2, 46182: 62, 46196: 1, 46200: 1, 46202: 2, 46205: 27, 46212: 5, 46213: 56, 46222: 4, 46226: 1, 46238: 5, 46246: 2, 46249: 1, 46265: 1, 46267: 1, 46269: 1, 46273: 2, 46296: 1, 46299: 1, 46301: 2, 46306: 1, 46314: 2, 46328: 5, 46329: 2, 46331: 1, 46347: 1, 46353: 2, 46365: 1, 46379: 4, 46387: 1, 46395: 1, 46414: 1, 46424: 2, 46446: 2, 46448: 2, 46452: 1, 46453: 1, 46469: 3, 46473: 5, 46482: 1, 46492: 1, 46526: 1, 46531: 23, 46537: 4, 46539: 2, 46547: 2, 46548: 1, 46552: 2, 46560: 1, 46579: 1, 46580: 1, 46596: 2, 46608: 1, 46615: 1, 46619: 4, 46620: 1, 46635: 1, 46645: 1, 46647: 3, 46654: 1, 46660: 1, 46670: 1, 46675: 1, 46681: 1, 46688: 1, 46723: 1, 46740: 1, 46747: 1, 46759: 3, 46772: 1, 46781: 2, 46786: 2, 46807: 1, 46812: 2, 46835: 2, 46836: 4, 46849: 2, 46877: 1, 46879: 1, 46880: 2, 46889: 1, 46894: 2, 46906: 2, 46918: 1, 46922: 1, 46933: 1, 46935: 3, 46939: 1, 46942: 2, 46943: 1, 46947: 1, 46978: 4, 46989: 1, 46995: 2, 47006: 1, 47013: 1, 47018: 1, 47022: 1, 47038: 3, 47042: 1, 47048: 11, 47107: 2, 47109: 1, 47128: 6, 47131: 4, 47148: 4, 47156: 1, 47163: 2, 47171: 4, 47182: 1, 47196: 1, 47203: 1, 47210: 2, 47225: 3, 47249: 1, 47261: 5, 47270: 1, 47277: 2, 47300: 6, 47302: 3, 47306: 1, 47312: 1, 47322: 1, 47334: 1, 47335: 3, 47340: 3, 47343: 5, 47361: 1, 47371: 4, 47375: 5, 47381: 2, 47382: 2, 47390: 1, 47391: 1, 47397: 2, 47404: 2, 47407: 1, 47414: 4, 47415: 4, 47419: 1, 47420: 7, 47421: 5, 47422: 4, 47436: 1, 47437: 2, 47438: 2, 47443: 5, 47445: 2, 47446: 1, 47452: 1, 47459: 1, 47472: 1, 47479: 5, 47480: 9, 47481: 1, 47491: 2, 47506: 2, 47529: 1, 47547: 4, 47554: 4, 47560: 1, 47574: 2, 47581: 2, 47587: 1, 47608: 1, 47610: 1, 47632: 1, 47639: 1, 47651: 2, 47665: 1, 47666: 1, 47695: 1, 47709: 1, 47716: 1, 47727: 1, 47738: 2, 47741: 1, 47757: 1, 47759: 2, 47768: 2, 47770: 2, 47785: 1, 47802: 7, 47808: 8, 47809: 4, 47843: 1, 47849: 1, 47852: 1, 47853: 1, 47872: 1, 47873: 1, 47883: 2, 47889: 23, 47897: 2, 47906: 2, 47910: 2, 47913: 1, 47924: 2, 47943: 1, 47947: 4, 47952: 1, 47960: 1, 47968: 1, 47972: 1, 47978: 2, 47986: 1, 48008: 1, 48010: 1, 48025: 2, 48035: 1, 79: 2, 754: 1, 800: 1, 1122: 1, 1174: 1, 1376: 3, 1553: 2, 2222: 1, 2338: 2, 2341: 4, 2791: 1, 3599: 1, 3644: 1, 4021: 1, 4033: 1, 4045: 1, 4155: 1, 4508: 3, 5243: 1, 5254: 1, 5958: 1, 6050: 2, 6081: 1, 6314: 2, 6515: 2, 6753: 1, 6766: 2, 6794: 1, 7435: 1, 7786: 1, 7911: 1, 8390: 1, 8553: 1, 9090: 1, 10085: 1, 10890: 1, 15387: 1, 16260: 1, 18314: 1, 23808: 2, 23880: 1, 24740: 1, 25064: 1, 27001: 1, 30614: 1, 30666: 1, 31340: 1, 31396: 1, 33525: 1, 34503: 1, 35097: 1, 35181: 2, 37616: 2, 38136: 2, 40491: 2, 40881: 2, 41144: 1, 41519: 1, 41534: 1, 41629: 1, 41733: 1, 41788: 5, 41860: 1, 42089: 1, 42116: 1, 42136: 1, 42189: 1, 42313: 2, 42320: 3, 42337: 1, 42359: 2, 42361: 1, 42400: 1, 42404: 1, 42474: 1, 42493: 1, 42524: 1, 42529: 1, 42538: 1, 42546: 1, 42570: 1, 42612: 1, 42623: 2, 42634: 1, 42669: 1, 42685: 1, 42718: 1, 42745: 1, 42750: 1, 42753: 1, 42766: 2, 42768: 1, 42769: 1, 42775: 1, 42783: 1, 42819: 3, 42847: 1, 42856: 1, 42857: 1, 42864: 2, 42865: 1, 42872: 1, 42887: 1, 42903: 1, 42904: 3, 42922: 1, 42949: 1, 42950: 3, 42960: 1, 42963: 1, 42973: 1, 42997: 1, 43058: 2, 43061: 1, 43065: 1, 43092: 2, 43103: 1, 43122: 3, 43151: 4, 43170: 1, 43173: 1, 43225: 1, 43237: 1, 43252: 2, 43264: 1, 43267: 1, 43303: 1, 43304: 1, 43316: 3, 43333: 1, 43344: 1, 43349: 1, 43375: 3, 43377: 1, 43388: 1, 43413: 1, 43433: 3, 43457: 1, 43464: 1, 43470: 3, 43502: 1, 43510: 1, 43522: 1, 43523: 1, 43532: 1, 43551: 1, 43563: 2, 43572: 1, 43585: 1, 43587: 1, 43594: 1, 43598: 1, 43611: 1, 43614: 1, 43621: 1, 43624: 3, 43626: 2, 43641: 1, 43648: 1, 43650: 1, 43663: 1, 43714: 1, 43745: 1, 43759: 3, 43765: 1, 43799: 2, 43803: 1, 43808: 3, 43809: 1, 43824: 2, 43845: 1, 43847: 1, 43855: 1, 43858: 1, 43876: 1, 43886: 2, 43892: 2, 43893: 2, 43914: 2, 43938: 2, 43939: 1, 43941: 1, 43951: 1, 43981: 1, 43990: 1, 44007: 1, 44037: 1, 44048: 1, 44082: 1, 44085: 1, 44087: 1, 44089: 1, 44121: 1, 44122: 1, 44139: 1, 44153: 2, 44180: 1, 44185: 2, 44203: 1, 44204: 1, 44206: 6, 44227: 2, 44266: 1, 44267: 3, 44292: 1, 44293: 3, 44304: 1, 44305: 3, 44319: 1, 44320: 1, 44324: 2, 44335: 2, 44347: 2, 44358: 1, 44359: 2, 44363: 2, 44380: 1, 44386: 1, 44388: 1, 44395: 1, 44405: 2, 44423: 2, 44429: 1, 44452: 1, 44478: 1, 44482: 1, 44487: 2, 44489: 2, 44523: 1, 44524: 2, 44525: 3, 44530: 3, 44540: 1, 44551: 2, 44556: 1, 44567: 1, 44591: 3, 44592: 1, 44595: 1, 44625: 2, 44636: 2, 44637: 1, 44639: 2, 44663: 1, 44670: 1, 44674: 1, 44676: 1, 44678: 1, 44682: 1, 44692: 2, 44701: 1, 44713: 2, 44719: 2, 44732: 2, 44736: 1, 44742: 3, 44757: 1, 44810: 1, 44817: 8, 44818: 2, 44824: 1, 44831: 1, 44867: 1, 44873: 3, 44883: 1, 44892: 1, 44900: 1, 44911: 1, 44942: 1, 44951: 1, 44991: 1, 44994: 1, 45015: 1, 45022: 2, 45046: 1, 45080: 1, 45081: 1, 45083: 1, 45105: 1, 45107: 1, 45112: 1, 45124: 1, 45132: 1, 45133: 1, 45137: 1, 45169: 4, 45177: 1, 45205: 1, 45234: 1, 45237: 1, 45247: 1, 45251: 1, 45293: 1, 45294: 2, 45301: 2, 45304: 1, 45327: 1, 45331: 1, 45336: 2, 45348: 4, 45361: 2, 45414: 1, 45422: 1, 45453: 2, 45455: 2, 45486: 1, 45499: 2, 45512: 1, 45516: 1, 45523: 1, 45529: 1, 45544: 2, 45558: 1, 45576: 1, 45588: 2, 45609: 1, 45610: 3, 45612: 2, 45641: 1, 45646: 1, 45653: 1, 45670: 2, 45735: 1, 45745: 1, 45746: 2, 45751: 2, 45753: 2, 45754: 1, 45758: 1, 45765: 1, 45783: 1, 45852: 1, 45868: 1, 45881: 1, 45937: 1, 45947: 1, 45963: 1, 45964: 1, 45970: 2, 45974: 1, 45981: 1, 45986: 2, 45989: 1, 45999: 1, 46027: 1, 46030: 1, 46043: 1, 46074: 2, 46079: 1, 46103: 1, 46129: 1, 46131: 1, 46169: 1, 46185: 1, 46190: 1, 46203: 1, 46219: 2, 46221: 1, 46223: 1, 46225: 1, 46243: 2, 46248: 1, 46254: 1, 46264: 3, 46285: 1, 46286: 1, 46287: 2, 46311: 1, 46326: 1, 46335: 1, 46338: 1, 46345: 1, 46362: 2, 46366: 1, 46367: 1, 46374: 1, 46391: 2, 46392: 1, 46398: 1, 46404: 1, 46406: 1, 46408: 1, 46420: 1, 46444: 2, 46447: 1, 46457: 1, 46464: 1, 46512: 1, 46516: 1, 46517: 1, 46518: 1, 46543: 1, 46559: 1, 46625: 1, 46636: 1, 46640: 1, 46641: 1, 46653: 3, 46661: 1, 46692: 1, 46706: 1, 46715: 2, 46732: 1, 46733: 1, 46739: 1, 46744: 1, 46754: 1, 46784: 1, 46805: 1, 46806: 2, 46819: 1, 46824: 2, 46825: 2, 46842: 1, 46850: 1, 46852: 1, 46884: 1, 46902: 2, 46919: 1, 46958: 1, 46975: 1, 46981: 1, 47010: 1, 47012: 1, 47020: 1, 47028: 1, 47071: 1, 47082: 2, 47095: 1, 47096: 1, 47101: 2, 47108: 2, 47112: 1, 47114: 1, 47119: 1, 47124: 3, 47133: 2, 47134: 1, 47160: 1, 47164: 1, 47188: 2, 47204: 1, 47209: 1, 47222: 1, 47238: 1, 47248: 2, 47257: 1, 47282: 1, 47292: 1, 47299: 1, 47301: 2, 47303: 1, 47315: 2, 47320: 1, 47333: 1, 47372: 1, 47387: 1, 47405: 18, 47418: 2, 47423: 1, 47424: 1, 47427: 1, 47430: 1, 47441: 2, 47454: 1, 47455: 1, 47473: 1, 47494: 1, 47495: 2, 47497: 2, 47499: 2, 47502: 1, 47507: 1, 47510: 1, 47513: 1, 47520: 1, 47564: 1, 47580: 1, 47582: 1, 47585: 8, 47592: 2, 47631: 1, 47642: 1, 47653: 1, 47654: 1, 47658: 1, 47659: 1, 47661: 1, 47672: 1, 47678: 1, 47684: 2, 47686: 1, 47700: 2, 47726: 1, 47734: 3, 47747: 1, 47753: 1, 47758: 1, 47772: 1, 47775: 2, 47827: 1, 47828: 2, 47840: 1, 47845: 2, 47847: 2, 47848: 2, 47857: 1, 47860: 1, 47863: 1, 47870: 2, 47877: 2, 47894: 1, 47930: 1, 47933: 1, 47940: 1, 47962: 2, 47985: 1, 48000: 1, 48017: 1, 48026: 1, 1498: 1, 2082: 1, 4587: 1, 5088: 1, 9141: 1, 11125: 2, 11279: 1, 13287: 1, 13364: 1, 20116: 1, 23443: 1, 24734: 1, 25574: 1, 26086: 1, 35343: 1, 35447: 1, 36306: 1, 38989: 2, 39281: 1, 41260: 1, 41427: 1, 41546: 2, 41743: 1, 41997: 2, 42279: 1, 42402: 3, 42473: 1, 42499: 2, 42553: 2, 42599: 1, 42751: 1, 42818: 2, 42914: 1, 42998: 1, 43000: 1, 43042: 1, 43140: 1, 43220: 1, 43241: 1, 43245: 1, 43246: 1, 43247: 1, 43256: 1, 43257: 1, 43308: 1, 43322: 1, 43342: 2, 43361: 2, 43399: 1, 43450: 1, 43451: 1, 43485: 1, 43620: 1, 43732: 1, 43834: 1, 43864: 1, 43865: 2, 43878: 1, 43982: 1, 44028: 1, 44073: 1, 44084: 1, 44216: 1, 44247: 2, 44280: 1, 44330: 1, 44370: 1, 44374: 1, 44427: 1, 44434: 1, 44440: 1, 44499: 2, 44574: 1, 44602: 2, 44724: 1, 44747: 1, 44750: 1, 44767: 1, 44857: 1, 44864: 1, 44870: 1, 44880: 1, 44881: 1, 44897: 1, 44947: 1, 44962: 1, 45100: 1, 45111: 1, 45126: 3, 45128: 1, 45178: 1, 45250: 1, 45354: 1, 45385: 2, 45387: 1, 45409: 1, 45418: 1, 45441: 2, 45442: 1, 45467: 1, 45472: 1, 45484: 1, 45556: 1, 45601: 1, 45615: 1, 45621: 1, 45681: 6, 45726: 1, 45760: 1, 45871: 2, 45917: 1, 45935: 1, 46031: 2, 46044: 1, 46125: 1, 46147: 1, 46148: 1, 46158: 1, 46184: 1, 46193: 1, 46250: 1, 46259: 1, 46291: 1, 46323: 1, 46349: 1, 46357: 1, 46394: 1, 46461: 1, 46479: 1, 46665: 1, 46693: 1, 46716: 1, 46789: 1, 46804: 1, 46853: 1, 46860: 1, 46924: 1, 46953: 2, 46968: 1, 46972: 1, 47024: 1, 47032: 1, 47139: 1, 47172: 1, 47199: 1, 47200: 1, 47337: 2, 47498: 2, 47584: 1, 47629: 1, 47630: 1, 47662: 1, 47685: 1, 47710: 1, 47719: 1, 47730: 1, 47736: 1, 47807: 1, 47817: 1, 47826: 1, 47834: 1, 47871: 1, 47886: 1, 47905: 1, 47911: 1, 47932: 2, 47944: 1, 48012: 1}\n",
      "Player who changes the most: 32477\n",
      "------------------------------------------------------------------------------------------------------------------\n"
     ]
    }
   ],
   "source": [
    "# Lets do the same but for bottom 20%\n",
    "players_increase_slot = cf.count_increase(df, \"increase_slotdeno\", \"playerkey\", \"slotdenomination\")\n",
    "players_decrease_slot = cf.count_decrease(df, \"decrease_slotdeno\", \"playerkey\", \"slotdenomination\")\n",
    "players_increase_maxbet = cf.count_increase(df, \"increase_maxbet\", \"playerkey\", \"maxbet\")\n",
    "players_decrease_maxbet = cf.count_decrease(df, \"decrease_maxbet\", \"playerkey\", \"maxbet\")"
   ]
  },
  {
   "attachments": {},
   "cell_type": "markdown",
   "metadata": {},
   "source": [
    "### Wealth Differences\n",
    "#### General"
   ]
  },
  {
   "cell_type": "code",
   "execution_count": 14,
   "metadata": {},
   "outputs": [],
   "source": [
    "# Lets crate a column called 'depletion_slope' which is the difference of 'playercashableamt' between the current gamble and the previous gamble\n",
    "df['depletion_rate'] = df.groupby(['playerkey', 'session_time'])['playercashableamt'].diff().fillna(0)\n"
   ]
  },
  {
   "cell_type": "markdown",
   "metadata": {},
   "source": [
    "# Observe all the NaN Values"
   ]
  },
  {
   "cell_type": "code",
   "execution_count": 15,
   "metadata": {},
   "outputs": [
    {
     "name": "stdout",
     "output_type": "stream",
     "text": [
      "Number of Nan values in df: 10749\n",
      "Columns with Nan values in df: ['profit/bet']\n"
     ]
    }
   ],
   "source": [
    "# Count how many Nan values are in df\n",
    "print(\"Number of Nan values in df:\", df.isna().sum().sum())\n",
    "\n",
    "# Print the columns with Nan values\n",
    "print(\"Columns with Nan values in df:\", df.columns[df.isna().any()].tolist())"
   ]
  },
  {
   "attachments": {},
   "cell_type": "markdown",
   "metadata": {},
   "source": [
    "#### Per Visit"
   ]
  },
  {
   "cell_type": "code",
   "execution_count": 16,
   "metadata": {},
   "outputs": [
    {
     "name": "stdout",
     "output_type": "stream",
     "text": [
      "Chunk number: 1\n",
      "Chunk number: 2\n",
      "Chunk number: 3\n",
      "Chunk number: 4\n",
      "Chunk number: 5\n",
      "Chunk number: 6\n",
      "Chunk number: 7\n",
      "Chunk number: 8\n",
      "Chunk number: 9\n",
      "Chunk number: 10\n",
      "Chunk number: 11\n",
      "Chunk number: 12\n",
      "Chunk number: 13\n",
      "Chunk number: 14\n",
      "Chunk number: 15\n",
      "Chunk number: 16\n",
      "Chunk number: 17\n",
      "Chunk number: 18\n",
      "Chunk number: 19\n",
      "Chunk number: 20\n",
      "Chunk number: 21\n",
      "Chunk number: 22\n",
      "Chunk number: 23\n",
      "Chunk number: 24\n",
      "Chunk number: 25\n",
      "Chunk number: 26\n",
      "Chunk number: 27\n",
      "Chunk number: 28\n",
      "Chunk number: 29\n",
      "Chunk number: 30\n",
      "Chunk number: 31\n",
      "Chunk number: 32\n",
      "Chunk number: 33\n",
      "Chunk number: 34\n",
      "Chunk number: 35\n",
      "Chunk number: 36\n",
      "Chunk number: 37\n",
      "Chunk number: 38\n",
      "Chunk number: 39\n",
      "Chunk number: 40\n",
      "Chunk number: 41\n",
      "Chunk number: 42\n",
      "Chunk number: 43\n",
      "Chunk number: 44\n",
      "Chunk number: 45\n",
      "Chunk number: 46\n",
      "Chunk number: 47\n",
      "Chunk number: 48\n",
      "Chunk number: 49\n",
      "Chunk number: 50\n",
      "Chunk number: 51\n",
      "Chunk number: 52\n",
      "Chunk number: 53\n",
      "Chunk number: 54\n",
      "Chunk number: 55\n",
      "Chunk number: 56\n",
      "Chunk number: 57\n",
      "Chunk number: 58\n",
      "Chunk number: 59\n",
      "Chunk number: 60\n",
      "Chunk number: 61\n",
      "Chunk number: 62\n",
      "Chunk number: 63\n",
      "Chunk number: 64\n",
      "Chunk number: 65\n",
      "Chunk number: 66\n",
      "Chunk number: 67\n",
      "Chunk number: 68\n",
      "Chunk number: 69\n",
      "Chunk number: 70\n",
      "Chunk number: 71\n",
      "Chunk number: 72\n",
      "Chunk number: 73\n",
      "Chunk number: 74\n",
      "Chunk number: 75\n",
      "Chunk number: 76\n",
      "Chunk number: 77\n",
      "Chunk number: 78\n",
      "Chunk number: 79\n",
      "Chunk number: 80\n",
      "Chunk number: 81\n",
      "Chunk number: 82\n",
      "Chunk number: 83\n",
      "Chunk number: 84\n",
      "Chunk number: 85\n",
      "Chunk number: 86\n",
      "Chunk number: 87\n",
      "Chunk number: 88\n",
      "Chunk number: 89\n",
      "Chunk number: 90\n",
      "Chunk number: 91\n",
      "Chunk number: 92\n",
      "Chunk number: 93\n",
      "Chunk number: 94\n",
      "Chunk number: 95\n",
      "Chunk number: 96\n",
      "Chunk number: 97\n",
      "Chunk number: 98\n",
      "Chunk number: 99\n",
      "Chunk number: 100\n",
      "Chunk number: 101\n",
      "Chunk number: 102\n",
      "Chunk number: 103\n",
      "Chunk number: 104\n",
      "Chunk number: 105\n",
      "Chunk number: 106\n",
      "Chunk number: 107\n",
      "Chunk number: 108\n",
      "Chunk number: 109\n",
      "Chunk number: 110\n",
      "Chunk number: 111\n",
      "Chunk number: 112\n",
      "Chunk number: 113\n",
      "Chunk number: 114\n",
      "Chunk number: 115\n",
      "Chunk number: 116\n",
      "Chunk number: 117\n",
      "Chunk number: 118\n",
      "Chunk number: 119\n",
      "Chunk number: 120\n",
      "Chunk number: 121\n",
      "Chunk number: 122\n",
      "Chunk number: 123\n",
      "Chunk number: 124\n",
      "Chunk number: 125\n",
      "Chunk number: 126\n",
      "Chunk number: 127\n",
      "Chunk number: 128\n",
      "Chunk number: 129\n",
      "Chunk number: 130\n",
      "Chunk number: 131\n",
      "Chunk number: 132\n",
      "Chunk number: 133\n",
      "Chunk number: 134\n"
     ]
    }
   ],
   "source": [
    "# Define the chunk size (number of rows in each chunk)\n",
    "chunk_size = 15000\n",
    "\n",
    "# Split the original DataFrame df into chunks\n",
    "df_chunks = [df[i:i + chunk_size] for i in range(0, df.shape[0], chunk_size)]\n",
    "\n",
    "# Initialize an empty list to store the results from each chunk\n",
    "results = []\n",
    "\n",
    "# Loop through each chunk of the DataFrame\n",
    "for chunk_df in df_chunks:\n",
    "    # Process the chunk using the transform_ml function\n",
    "    df_ML_v_chunk = pf.transform_ml(data_b=chunk_df, grouping='visit')\n",
    "    \n",
    "    # Append the result of this chunk to the results list\n",
    "    results.append(df_ML_v_chunk)\n",
    "\n",
    "    # Print chunk number read\n",
    "    print(\"Chunk number:\", len(results))\n",
    "\n",
    "# Combine the results from all chunks into a final DataFrame\n",
    "df_ML_v = pd.concat(results)\n",
    "\n",
    "# Now 'df_ML_v' contains the results from all chunks combined into a single DataFrame"
   ]
  },
  {
   "cell_type": "code",
   "execution_count": 17,
   "metadata": {},
   "outputs": [
    {
     "name": "stdout",
     "output_type": "stream",
     "text": [
      "Number of unique players in df_ML_v:  5548\n",
      "Number of discrepancies: 120\n",
      "Number of unique players w/o discrepancies:  5428\n"
     ]
    }
   ],
   "source": [
    "# Print number of unique players\n",
    "print(\"Number of unique players in df_ML_v: \", df_ML_v['playerkey'].nunique())\n",
    "\n",
    "# Get the IDs of players who have NaN values in any of the columns\n",
    "list_discrepancy_v = df_ML_v[df_ML_v.isna().any(axis=1)]['playerkey'].unique()\n",
    "\n",
    "# print number of discrepancies\n",
    "print(\"Number of discrepancies:\", len(list_discrepancy_v))\n",
    "\n",
    "# Remove players with NaN values\n",
    "df_ML_v = df_ML_v[~df_ML_v['playerkey'].isin(list_discrepancy_v)]\n",
    "\n",
    "# Print number of unique players with no NaN values\n",
    "print(\"Number of unique players w/o discrepancies: \", df_ML_v['playerkey'].nunique())"
   ]
  },
  {
   "cell_type": "code",
   "execution_count": 18,
   "metadata": {},
   "outputs": [
    {
     "name": "stdout",
     "output_type": "stream",
     "text": [
      "Index(['playerkey', 'visit', 'gender', 'age_range', 'age_gen', 'beginning_amt',\n",
      "       'ending_amt', 'ending_balance', 'ave_slotdenom', 'std_slotdenom',\n",
      "       'min_slotdenom', 'max_slotdenom', 'ave_theo_payback',\n",
      "       'min_theo_payback', 'max_theo_payback', 'ave_wageramt', 'std_wageramt',\n",
      "       'min_wager', 'max_wager', 'ave_p/b', 'std_p/b', 'max_p/b', 'max_profit',\n",
      "       'depletion_slope', '#inc_slotdenom', '#dec_slotdenom', '#inc_maxbet',\n",
      "       '#dec_maxbet', 'first_wager', 'first_outcome', 'first_p/b',\n",
      "       'last_wager', 'last_outcome', 'last_p/b', 'machines_changes', '#W',\n",
      "       '#L', '#NH', '#D', 'w/g', 'l/g', 'nh/g', 'd/g', '#2ws', '2ws_profit',\n",
      "       '2ws_wgramt', '#3ws', '3ws_profit', '3ws_wgramt', '#4ws', '4ws_profit',\n",
      "       '4ws_wgramt', 'ave_time_per_gamble', 'min_time_per_gamble',\n",
      "       'max_time_per_gamble', 'total_duration', 'total_gambles',\n",
      "       'classification', 'unique_machines', 'ave_time_per_machine', 'w/min',\n",
      "       'l/min', 'nh/min', 'd/min', '2ws/min', '3ws/min', '4ws/min'],\n",
      "      dtype='object')\n"
     ]
    }
   ],
   "source": [
    "print(df_ML_v.columns)\n",
    "\n",
    "# # # Reorder Columns\n",
    "desired_order = ['playerkey', 'visit', 'gender', 'age_range', 'age_gen',\n",
    "                'beginning_amt', 'ending_amt', 'ending_balance', 'ave_slotdenom',\n",
    "                'std_slotdenom', 'min_slotdenom', 'max_slotdenom', 'ave_theo_payback',\n",
    "                'min_theo_payback', 'max_theo_payback', 'ave_wageramt', 'std_wageramt',\n",
    "                'min_wager', 'max_wager', 'ave_p/b', 'std_p/b', 'max_p/b', 'max_profit', 'depletion_slope',\n",
    "                '#inc_maxbet', '#dec_maxbet', 'first_wager', 'first_outcome', 'first_p/b', 'last_wager',\n",
    "                'last_outcome', 'last_p/b', '#W', '#L', '#NH', '#D', 'w/min', 'l/min', 'nh/min', 'd/min', \n",
    "                'w/g', 'l/g', 'nh/g', 'd/g', '#2ws', '2ws_profit', '2ws_wgramt', '#3ws', \n",
    "                '3ws_profit','3ws_wgramt', '#4ws', '4ws_profit', '4ws_wgramt', '2ws/min', '3ws/min', '4ws/min',\n",
    "                'ave_time_per_gamble', 'min_time_per_gamble', 'max_time_per_gamble',\n",
    "                'total_duration', 'total_gambles', 'machines_changes', '#inc_slotdenom', '#dec_slotdenom',\n",
    "                'unique_machines', 'ave_time_per_machine','classification']\n",
    "\n",
    "\n",
    "df_ML_v = df_ML_v.reindex(columns=desired_order)\n",
    "\n",
    "# Save dataframe to paquet file\n",
    "df_ML_v.to_parquet('/Users/mau/Library/CloudStorage/Dropbox/Mac/Documents/Dissertation/Chapter 2/Entire_Data/By month/'+month_file+'/Ending Balances/Per_Player/per_player_ending_balance_by_visit_ALL.parquet')"
   ]
  },
  {
   "attachments": {},
   "cell_type": "markdown",
   "metadata": {},
   "source": [
    "#### Per Session"
   ]
  },
  {
   "cell_type": "code",
   "execution_count": 19,
   "metadata": {},
   "outputs": [],
   "source": [
    "# Ude consecutive functions to find 2ws, 3ws, 4ws in a row in each dataset per visit per player\n",
    "df_s = pf.consecutive_wins(df, 'session_time')"
   ]
  },
  {
   "cell_type": "code",
   "execution_count": 20,
   "metadata": {},
   "outputs": [
    {
     "name": "stdout",
     "output_type": "stream",
     "text": [
      "Chunk number: 1\n",
      "Chunk number: 2\n",
      "Chunk number: 3\n",
      "Chunk number: 4\n",
      "Chunk number: 5\n",
      "Chunk number: 6\n",
      "Chunk number: 7\n",
      "Chunk number: 8\n",
      "Chunk number: 9\n",
      "Chunk number: 10\n",
      "Chunk number: 11\n",
      "Chunk number: 12\n",
      "Chunk number: 13\n",
      "Chunk number: 14\n",
      "Chunk number: 15\n",
      "Chunk number: 16\n",
      "Chunk number: 17\n",
      "Chunk number: 18\n",
      "Chunk number: 19\n",
      "Chunk number: 20\n",
      "Chunk number: 21\n",
      "Chunk number: 22\n",
      "Chunk number: 23\n",
      "Chunk number: 24\n",
      "Chunk number: 25\n",
      "Chunk number: 26\n",
      "Chunk number: 27\n",
      "Chunk number: 28\n",
      "Chunk number: 29\n",
      "Chunk number: 30\n",
      "Chunk number: 31\n",
      "Chunk number: 32\n",
      "Chunk number: 33\n",
      "Chunk number: 34\n",
      "Chunk number: 35\n",
      "Chunk number: 36\n",
      "Chunk number: 37\n",
      "Chunk number: 38\n",
      "Chunk number: 39\n",
      "Chunk number: 40\n",
      "Chunk number: 41\n",
      "Chunk number: 42\n",
      "Chunk number: 43\n",
      "Chunk number: 44\n",
      "Chunk number: 45\n",
      "Chunk number: 46\n",
      "Chunk number: 47\n",
      "Chunk number: 48\n",
      "Chunk number: 49\n",
      "Chunk number: 50\n",
      "Chunk number: 51\n",
      "Chunk number: 52\n",
      "Chunk number: 53\n",
      "Chunk number: 54\n",
      "Chunk number: 55\n",
      "Chunk number: 56\n",
      "Chunk number: 57\n",
      "Chunk number: 58\n",
      "Chunk number: 59\n",
      "Chunk number: 60\n",
      "Chunk number: 61\n",
      "Chunk number: 62\n",
      "Chunk number: 63\n",
      "Chunk number: 64\n",
      "Chunk number: 65\n",
      "Chunk number: 66\n",
      "Chunk number: 67\n",
      "Chunk number: 68\n",
      "Chunk number: 69\n",
      "Chunk number: 70\n",
      "Chunk number: 71\n",
      "Chunk number: 72\n",
      "Chunk number: 73\n",
      "Chunk number: 74\n",
      "Chunk number: 75\n",
      "Chunk number: 76\n",
      "Chunk number: 77\n",
      "Chunk number: 78\n",
      "Chunk number: 79\n",
      "Chunk number: 80\n",
      "Chunk number: 81\n",
      "Chunk number: 82\n",
      "Chunk number: 83\n",
      "Chunk number: 84\n",
      "Chunk number: 85\n",
      "Chunk number: 86\n",
      "Chunk number: 87\n",
      "Chunk number: 88\n",
      "Chunk number: 89\n",
      "Chunk number: 90\n",
      "Chunk number: 91\n",
      "Chunk number: 92\n",
      "Chunk number: 93\n",
      "Chunk number: 94\n",
      "Chunk number: 95\n",
      "Chunk number: 96\n",
      "Chunk number: 97\n",
      "Chunk number: 98\n",
      "Chunk number: 99\n",
      "Chunk number: 100\n",
      "Chunk number: 101\n",
      "Chunk number: 102\n",
      "Chunk number: 103\n",
      "Chunk number: 104\n",
      "Chunk number: 105\n",
      "Chunk number: 106\n",
      "Chunk number: 107\n",
      "Chunk number: 108\n",
      "Chunk number: 109\n",
      "Chunk number: 110\n",
      "Chunk number: 111\n",
      "Chunk number: 112\n",
      "Chunk number: 113\n",
      "Chunk number: 114\n",
      "Chunk number: 115\n",
      "Chunk number: 116\n",
      "Chunk number: 117\n",
      "Chunk number: 118\n",
      "Chunk number: 119\n",
      "Chunk number: 120\n",
      "Chunk number: 121\n",
      "Chunk number: 122\n",
      "Chunk number: 123\n",
      "Chunk number: 124\n",
      "Chunk number: 125\n",
      "Chunk number: 126\n",
      "Chunk number: 127\n",
      "Chunk number: 128\n",
      "Chunk number: 129\n",
      "Chunk number: 130\n",
      "Chunk number: 131\n",
      "Chunk number: 132\n",
      "Chunk number: 133\n",
      "Chunk number: 134\n"
     ]
    }
   ],
   "source": [
    "# Define the chunk size (number of rows in each chunk)\n",
    "chunk_size = 15000\n",
    "\n",
    "# Split the original DataFrame df into chunks\n",
    "df_chunks = [df_s[i:i + chunk_size] for i in range(0, df_s.shape[0], chunk_size)]\n",
    "\n",
    "# Initialize an empty list to store the results from each chunk\n",
    "results = []\n",
    "\n",
    "# Loop through each chunk of the DataFrame\n",
    "for chunk_df in df_chunks:\n",
    "    # Process the chunk using the transform_ml function\n",
    "    df_ML_s_chunk = pf.transform_ml(data_b=chunk_df, grouping='session_time')\n",
    "    \n",
    "    # Append the result of this chunk to the results list\n",
    "    results.append(df_ML_s_chunk)\n",
    "\n",
    "    # Print chunk number read\n",
    "    print(\"Chunk number:\", len(results))\n",
    "\n",
    "# Combine the results from all chunks into a final DataFrame\n",
    "df_ML_s = pd.concat(results)\n"
   ]
  },
  {
   "cell_type": "code",
   "execution_count": 21,
   "metadata": {},
   "outputs": [
    {
     "name": "stdout",
     "output_type": "stream",
     "text": [
      "Number of unique players in df_ML_v:  5548\n",
      "Number of discrepancies: 126\n",
      "Number of unique players w/o discrepancies:  5422\n"
     ]
    }
   ],
   "source": [
    "# Print number of unique players\n",
    "print(\"Number of unique players in df_ML_v: \", df_ML_s['playerkey'].nunique())\n",
    "\n",
    "# Get the IDs of players who have NaN values in any of the columns\n",
    "list_discrepancy_s = df_ML_s[df_ML_s.isna().any(axis=1)]['playerkey'].unique()\n",
    "\n",
    "# print number of discrepancies\n",
    "print(\"Number of discrepancies:\", len(list_discrepancy_s))\n",
    "\n",
    "# Remove players with NaN values\n",
    "df_ML_s = df_ML_s[~df_ML_s['playerkey'].isin(list_discrepancy_s)]\n",
    "\n",
    "# Print number of unique players with no NaN values\n",
    "print(\"Number of unique players w/o discrepancies: \", df_ML_s['playerkey'].nunique())"
   ]
  },
  {
   "cell_type": "code",
   "execution_count": 22,
   "metadata": {},
   "outputs": [
    {
     "name": "stdout",
     "output_type": "stream",
     "text": [
      "Index(['playerkey', 'session_time', 'gender', 'age_range', 'age_gen',\n",
      "       'beginning_amt', 'ending_amt', 'ending_balance', 'ave_slotdenom',\n",
      "       'std_slotdenom', 'min_slotdenom', 'max_slotdenom', 'ave_theo_payback',\n",
      "       'min_theo_payback', 'max_theo_payback', 'ave_wageramt', 'std_wageramt',\n",
      "       'min_wager', 'max_wager', 'ave_p/b', 'std_p/b', 'max_p/b', 'max_profit',\n",
      "       'depletion_slope', '#inc_slotdenom', '#dec_slotdenom', '#inc_maxbet',\n",
      "       '#dec_maxbet', 'first_wager', 'first_outcome', 'first_p/b',\n",
      "       'last_wager', 'last_outcome', 'last_p/b', 'machines_changes', '#W',\n",
      "       '#L', '#NH', '#D', 'w/g', 'l/g', 'nh/g', 'd/g', '#2ws', '2ws_profit',\n",
      "       '2ws_wgramt', '#3ws', '3ws_profit', '3ws_wgramt', '#4ws', '4ws_profit',\n",
      "       '4ws_wgramt', 'ave_time_per_gamble', 'min_time_per_gamble',\n",
      "       'max_time_per_gamble', 'total_duration', 'total_gambles',\n",
      "       'classification', 'unique_machines', 'ave_time_per_machine', 'w/min',\n",
      "       'l/min', 'nh/min', 'd/min', '2ws/min', '3ws/min', '4ws/min'],\n",
      "      dtype='object')\n"
     ]
    }
   ],
   "source": [
    "print(df_ML_s.columns)\n",
    "\n",
    "# # # Reorder Columns\n",
    "desired_order = ['playerkey', 'session_time', 'gender', 'age_range', 'age_gen',\n",
    "                'beginning_amt', 'ending_amt', 'ending_balance', 'ave_slotdenom',\n",
    "                'std_slotdenom', 'min_slotdenom', 'max_slotdenom', 'ave_theo_payback',\n",
    "                'min_theo_payback', 'max_theo_payback', 'ave_wageramt', 'std_wageramt',\n",
    "                'min_wager', 'max_wager', 'ave_p/b', 'std_p/b', 'max_p/b', 'max_profit', 'depletion_slope',\n",
    "                '#inc_maxbet', '#dec_maxbet', 'first_wager', 'first_outcome', 'first_p/b', 'last_wager',\n",
    "                'last_outcome', 'last_p/b', '#W', '#L', '#NH', '#D', 'w/min', 'l/min', 'nh/min', 'd/min', \n",
    "                'w/g', 'l/g', 'nh/g', 'd/g', '#2ws', '2ws_profit', '2ws_wgramt', '#3ws', \n",
    "                '3ws_profit','3ws_wgramt', '#4ws', '4ws_profit', '4ws_wgramt', '2ws/min', '3ws/min', '4ws/min',\n",
    "                'ave_time_per_gamble', 'min_time_per_gamble', 'max_time_per_gamble',\n",
    "                'total_duration', 'total_gambles', 'machines_changes', '#inc_slotdenom', '#dec_slotdenom',\n",
    "                'unique_machines', 'ave_time_per_machine','classification']\n",
    "\n",
    "df_ML_s = df_ML_s.reindex(columns=desired_order)\n",
    "\n",
    "# Save dataframe to paquet file\n",
    "df_ML_s.to_parquet('/Users/mau/Library/CloudStorage/Dropbox/Mac/Documents/Dissertation/Chapter 2/Entire_Data/By month/'+month_file+'/Ending Balances/Per_Player/per_player_ending_balance_by_session_ALL.parquet')\n"
   ]
  }
 ],
 "metadata": {
  "kernelspec": {
   "display_name": "Python 3",
   "language": "python",
   "name": "python3"
  },
  "language_info": {
   "codemirror_mode": {
    "name": "ipython",
    "version": 3
   },
   "file_extension": ".py",
   "mimetype": "text/x-python",
   "name": "python",
   "nbconvert_exporter": "python",
   "pygments_lexer": "ipython3",
   "version": "3.10.0"
  },
  "orig_nbformat": 4
 },
 "nbformat": 4,
 "nbformat_minor": 2
}
