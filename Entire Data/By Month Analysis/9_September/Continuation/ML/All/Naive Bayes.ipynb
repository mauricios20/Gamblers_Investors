{
 "cells": [
  {
   "attachments": {},
   "cell_type": "markdown",
   "metadata": {},
   "source": [
    "# Naive Bayes Model"
   ]
  },
  {
   "attachments": {},
   "cell_type": "markdown",
   "metadata": {},
   "source": [
    "## Data Preprocessing"
   ]
  },
  {
   "cell_type": "code",
   "execution_count": 1,
   "metadata": {},
   "outputs": [],
   "source": [
    "# Importing the libraries\n",
    "import numpy as np\n",
    "import matplotlib.pyplot as plt\n",
    "import pandas as pd\n",
    "import os\n",
    "from sklearn.compose import ColumnTransformer\n",
    "from sklearn.preprocessing import OneHotEncoder\n",
    "from sklearn.preprocessing import LabelEncoder\n",
    "from sklearn.model_selection import train_test_split\n",
    "from sklearn.preprocessing import StandardScaler\n",
    "from sklearn.metrics import confusion_matrix, accuracy_score, precision_score, recall_score, f1_score\n",
    "from sklearn.naive_bayes import GaussianNB\n",
    "\n",
    "# Set working directory\n",
    "month_file = '5_September'\n",
    "# Set working directory\n",
    "os.chdir(\"/Users/mau/Library/CloudStorage/Dropbox/Mac/Documents/Dissertation/Chapter 2/Entire_Data/By month/\"+month_file+\"/Ending Balances/Per_Player\")"
   ]
  },
  {
   "cell_type": "code",
   "execution_count": 2,
   "metadata": {},
   "outputs": [
    {
     "name": "stdout",
     "output_type": "stream",
     "text": [
      "Index(['playerkey', 'session_time', 'gender', 'age_range', 'age_gen',\n",
      "       'beginning_amt', 'ending_amt', 'ending_balance', 'ave_slotdenom',\n",
      "       'std_slotdenom', 'min_slotdenom', 'max_slotdenom', 'ave_theo_payback',\n",
      "       'min_theo_payback', 'max_theo_payback', 'ave_wageramt', 'std_wageramt',\n",
      "       'min_wager', 'max_wager', 'ave_p/b', 'std_p/b', 'max_p/b', 'max_profit',\n",
      "       'depletion_slope', '#inc_maxbet', '#dec_maxbet', 'first_wager',\n",
      "       'first_outcome', 'first_p/b', 'last_wager', 'last_outcome', 'last_p/b',\n",
      "       '#W', '#L', '#NH', '#D', 'w/min', 'l/min', 'nh/min', 'd/min', 'w/g',\n",
      "       'l/g', 'nh/g', 'd/g', '#2ws', '2ws_profit', '2ws_wgramt', '#3ws',\n",
      "       '3ws_profit', '3ws_wgramt', '#4ws', '4ws_profit', '4ws_wgramt',\n",
      "       '2ws/min', '3ws/min', '4ws/min', 'ave_time_per_gamble',\n",
      "       'min_time_per_gamble', 'max_time_per_gamble', 'total_duration',\n",
      "       'total_gambles', 'machines_changes', '#inc_slotdenom', '#dec_slotdenom',\n",
      "       'unique_machines', 'ave_time_per_machine', 'continue_playing'],\n",
      "      dtype='object')\n"
     ]
    }
   ],
   "source": [
    "# Load original dataset\n",
    "dataset = pd.read_parquet('continuation_by_session.parquet')\n",
    "\n",
    "print(dataset.columns)"
   ]
  },
  {
   "attachments": {},
   "cell_type": "markdown",
   "metadata": {},
   "source": [
    "## Load Dataframes"
   ]
  },
  {
   "cell_type": "code",
   "execution_count": 3,
   "metadata": {},
   "outputs": [
    {
     "name": "stdout",
     "output_type": "stream",
     "text": [
      "[[2077  188]\n",
      " [ 766  259]]\n",
      "Accuracy:  0.7100303951367781\n",
      "Precision:  0.6549923238599299\n",
      "Recall:  0.5848403596618748\n",
      "F1 Score:  0.5825681582172891\n"
     ]
    }
   ],
   "source": [
    "# Filter Columns\n",
    "filter = ['gender', 'age_gen', 'first_outcome',\n",
    "        'first_wager','first_p/b', 'last_outcome', 'last_wager', 'last_p/b',\n",
    "        'beginning_amt', 'ending_amt', 'ending_balance', 'ave_slotdenom', \n",
    "        'std_slotdenom', 'min_slotdenom', 'max_slotdenom', 'ave_theo_payback',\n",
    "        'min_theo_payback', 'max_theo_payback', 'ave_wageramt', 'std_wageramt',\n",
    "        'min_wager', 'max_wager', 'ave_p/b', 'std_p/b', 'max_p/b', 'max_profit', 'depletion_slope', \n",
    "        '#inc_slotdenom', '#dec_slotdenom', '#inc_maxbet', '#dec_maxbet', \n",
    "        '#W', '#L', '#NH', '#D', '#2ws', '#3ws', '#4ws',\n",
    "        'w/min', 'l/min', '2ws/min', '3ws/min', '4ws/min',\n",
    "        'nh/min', 'd/min', 'w/g', 'l/g', 'nh/g', 'd/g', \n",
    "        'ave_time_per_gamble', 'min_time_per_gamble', 'max_time_per_gamble',\n",
    "        'machines_changes', 'unique_machines', 'ave_time_per_machine',\n",
    "        'total_duration', 'total_gambles', 'continue_playing']\n",
    "\n",
    "# Columns NOT INCLUDED\n",
    "# 'playerkey', 'rank', 'age_range', '#W', '#L', '#NH', '#D', #2ws, #3ws, #4ws, 2ws_profit, 3ws_profit, 4ws_profit,\n",
    "# 2ws_wgramt, 3ws_wgramt, 4ws_wgramt, ave_time_per_machine, 'total_duration', 'total_gambles'\n",
    "\n",
    "# Load dataset\n",
    "dataset = pd.read_parquet('continuation_by_session.parquet', columns=filter)\n",
    "\n",
    "\n",
    "# # Seperate dependent and independent variables\n",
    "X = dataset.iloc[:, :-1].values\n",
    "y = dataset.iloc[:, -1].values\n",
    "\n",
    "# Econde gender column (Binary)\n",
    "le = LabelEncoder()\n",
    "\n",
    "# Binary Encode gender\n",
    "X[:, 0] = le.fit_transform(X[:, 0])\n",
    "\n",
    "# # Encode age_generartion, first_outoce, last_outcome columns\n",
    "ct = ColumnTransformer(transformers=[('encoder', OneHotEncoder(), [1, 2, 5])], remainder='passthrough')\n",
    "X = np.array(ct.fit_transform(X))\n",
    "\n",
    "y = le.fit_transform(y)\n",
    "\n",
    "X_train, X_test, y_train, y_test = train_test_split(X, y, test_size = 0.2, random_state = 1)\n",
    "\n",
    "sc = StandardScaler()\n",
    "\n",
    "# Scale all columns except the encoded ones\n",
    "X_train[:, 14:] = sc.fit_transform(X_train[:, 14:])\n",
    "X_test[:, 14:] = sc.transform(X_test[:, 14:])\n",
    "\n",
    "classifier = GaussianNB()\n",
    "classifier.fit(X_train, y_train)\n",
    "\n",
    "y_pred = classifier.predict(X_test)\n",
    "\n",
    "cm = confusion_matrix(y_test, y_pred)\n",
    "print(cm)\n",
    "print('Accuracy: ', accuracy_score(y_test, y_pred))\n",
    "print('Precision: ', precision_score(y_test, y_pred, average='macro'))\n",
    "print('Recall: ', recall_score(y_test, y_pred, average='macro'))\n",
    "print('F1 Score: ', f1_score(y_test, y_pred, average='macro'))"
   ]
  },
  {
   "attachments": {},
   "cell_type": "markdown",
   "metadata": {},
   "source": [
    "### Which IDVs have the most weight in the model"
   ]
  },
  {
   "cell_type": "code",
   "execution_count": 4,
   "metadata": {},
   "outputs": [
    {
     "name": "stdout",
     "output_type": "stream",
     "text": [
      "{0: 'gender', 1: 'age_gen', 2: 'first_outcome', 3: 'first_wager', 4: 'first_p/b', 5: 'last_outcome', 6: 'last_wager', 7: 'last_p/b', 8: 'beginning_amt', 9: 'ending_amt', 10: 'ending_balance', 11: 'ave_slotdenom', 12: 'std_slotdenom', 13: 'min_slotdenom', 14: 'max_slotdenom', 15: 'ave_theo_payback', 16: 'min_theo_payback', 17: 'max_theo_payback', 18: 'ave_wageramt', 19: 'std_wageramt', 20: 'min_wager', 21: 'max_wager', 22: 'ave_p/b', 23: 'std_p/b', 24: 'max_p/b', 25: 'max_profit', 26: 'depletion_slope', 27: '#inc_slotdenom', 28: '#dec_slotdenom', 29: '#inc_maxbet', 30: '#dec_maxbet', 31: '#W', 32: '#L', 33: '#NH', 34: '#D', 35: '#2ws', 36: '#3ws', 37: '#4ws', 38: 'w/min', 39: 'l/min', 40: '2ws/min', 41: '3ws/min', 42: '4ws/min', 43: 'nh/min', 44: 'd/min', 45: 'w/g', 46: 'l/g', 47: 'nh/g', 48: 'd/g', 49: 'ave_time_per_gamble', 50: 'min_time_per_gamble', 51: 'max_time_per_gamble', 52: 'machines_changes', 53: 'unique_machines', 54: 'ave_time_per_machine', 55: 'total_duration', 56: 'total_gambles', 57: 'continue_playing'}\n"
     ]
    }
   ],
   "source": [
    "# Create a dictionary mapping column names to their index positions\n",
    "column_index_mapping = {index: column_name for index, column_name in enumerate(dataset.columns)}\n",
    "\n",
    "# Print the dictionary\n",
    "print(column_index_mapping)"
   ]
  },
  {
   "cell_type": "code",
   "execution_count": 5,
   "metadata": {},
   "outputs": [
    {
     "name": "stdout",
     "output_type": "stream",
     "text": [
      "remainder__x51: 0.016014288971650036\n",
      "remainder__x53: 0.0051075473132172755\n",
      "remainder__x49: 0.0045451090674165865\n",
      "remainder__x56: 0.004081477540472745\n",
      "remainder__x55: 0.0032150186212662303\n",
      "remainder__x24: 0.0026601808923006898\n",
      "remainder__x36: 0.0026069772744546694\n",
      "remainder__x33: 0.0023713612525651517\n",
      "remainder__x32: 0.0023637607357300137\n",
      "remainder__x37: 0.0023409591852246005\n",
      "remainder__x31: 0.0022345519495325706\n",
      "remainder__x34: 0.0019001292087861832\n",
      "remainder__x35: 0.0018697271414456096\n",
      "remainder__x30: 0.0017177168047427193\n",
      "remainder__x29: 0.0017177168047427082\n",
      "remainder__x43: 0.0013300904461503338\n",
      "remainder__x52: 0.0012996883788097603\n",
      "remainder__x23: 0.0012616857946340266\n",
      "remainder__x25: 0.0009956677054039575\n",
      "remainder__x21: 0.000691647031998166\n",
      "remainder__x39: 0.00051683514478984\n",
      "remainder__x19: 0.0005092346279547022\n",
      "remainder__x10: 0.0004864330774492553\n",
      "remainder__x27: 0.0004788325606141175\n",
      "remainder__x28: 0.0004788325606141175\n",
      "remainder__x6: 0.00047123204377895743\n",
      "remainder__x26: 0.00038002584175722554\n",
      "remainder__x54: 0.0003724253249220988\n",
      "remainder__x46: 0.0003268222239112273\n",
      "remainder__x3: 0.0003116211902409183\n",
      "remainder__x45: 0.00024321653872463322\n",
      "remainder__x17: 0.00019761343771376171\n",
      "remainder__x11: 0.00018241240404346382\n",
      "remainder__x18: 0.00016721137037317702\n",
      "remainder__x40: 0.00015961085353803915\n",
      "encoder__x5_near-hit: 0.00014440981986773015\n",
      "remainder__x38: 0.00012160826936232771\n",
      "encoder__x1_Baby Boomers: 0.00010640723569202982\n",
      "remainder__x13: 0.00010640723569202982\n",
      "encoder__x1_Silent: 6.840465151629616e-05\n",
      "remainder__x15: 6.0804134681147205e-05\n",
      "remainder__x8: 4.5603101010860406e-05\n",
      "remainder__x4: 1.5201033670286801e-05\n",
      "remainder__x50: 7.600516835171156e-06\n",
      "remainder__x41: -7.600516835148951e-06\n",
      "remainder__x9: -1.5201033670286801e-05\n",
      "remainder__x14: -1.5201033670286801e-05\n",
      "remainder__x22: -1.5201033670297903e-05\n",
      "remainder__x44: -2.2801550505435753e-05\n",
      "remainder__x42: -3.0402067340573603e-05\n",
      "encoder__x1_Millenials: -3.0402067340584706e-05\n",
      "encoder__x5_draw: -3.0402067340584706e-05\n",
      "encoder__x1_Gen Z: -3.800258417573366e-05\n",
      "encoder__x5_loss: -3.800258417573366e-05\n",
      "encoder__x5_gain: -4.5603101010871505e-05\n",
      "encoder__x1_Gen X: -6.080413468116941e-05\n",
      "encoder__x2_gain: -6.840465151628506e-05\n",
      "remainder__x48: -6.840465151629616e-05\n",
      "remainder__x20: -6.840465151630726e-05\n",
      "encoder__x2_draw: -8.360568518660516e-05\n",
      "encoder__x2_loss: -9.880671885688086e-05\n",
      "remainder__x0: -0.00010640723569204092\n",
      "remainder__x16: -0.00011400775252717876\n",
      "remainder__x47: -0.00012920878619747666\n",
      "remainder__x7: -0.00015201033670290132\n",
      "remainder__x12: -0.00019761343771377283\n",
      "encoder__x2_near-hit: -0.0001976134377137839\n"
     ]
    }
   ],
   "source": [
    "from sklearn.inspection import permutation_importance\n",
    "\n",
    "# Assuming you have a trained classifier named 'classifier' and encoded data named 'X_encoded'\n",
    "# Calculate permutation importances\n",
    "result = permutation_importance(classifier, X_train, y_train, n_repeats=10, random_state=42)\n",
    "\n",
    "# Get feature importances and feature names\n",
    "importances = result.importances_mean\n",
    "feature_names = ct.get_feature_names_out()\n",
    "\n",
    "# Sort feature importances\n",
    "feature_importance = list(zip(feature_names, importances))\n",
    "feature_importance.sort(key=lambda x: x[1], reverse=True)\n",
    "\n",
    "# Print feature importances\n",
    "for feature, importance in feature_importance:\n",
    "    print(f\"{feature}: {importance}\")\n"
   ]
  },
  {
   "attachments": {},
   "cell_type": "markdown",
   "metadata": {},
   "source": [
    "## Cumulative Accuracy Profile (CAP) Graph"
   ]
  },
  {
   "cell_type": "code",
   "execution_count": 6,
   "metadata": {},
   "outputs": [
    {
     "data": {
      "image/png": "[encoded data removed]",
      "text/plain": [
       "<Figure size 640x480 with 1 Axes>"
      ]
     },
     "metadata": {},
     "output_type": "display_data"
    }
   ],
   "source": [
    "import numpy as np\n",
    "import matplotlib.pyplot as plt\n",
    "\n",
    "# Assuming you have the predicted probabilities or scores named 'predicted_scores' and true labels named 'true_labels'\n",
    "\n",
    "# Sort the scores and corresponding true labels\n",
    "sorted_indices = np.argsort(y_pred)[::-1]\n",
    "sorted_true_labels = y_test[sorted_indices]\n",
    "\n",
    "# Calculate cumulative metrics\n",
    "total_positive = np.sum(y_test)\n",
    "cumulative_positives = np.cumsum(sorted_true_labels)\n",
    "cumulative_accuracy = cumulative_positives / total_positive\n",
    "cumulative_fraction = np.arange(1, len(sorted_true_labels) + 1) / len(sorted_true_labels)\n",
    "\n",
    "# Create the CAP curve plot\n",
    "plt.plot(cumulative_fraction, cumulative_accuracy, label='Model')\n",
    "plt.plot([0, 1], [0, 1], 'k--', label='Baseline')\n",
    "plt.xlabel('Cumulative Fraction')\n",
    "plt.ylabel('Cumulative Accuracy')\n",
    "plt.title('Cumulative Accuracy Profile (CAP) Curve')\n",
    "plt.legend()\n",
    "plt.show()"
   ]
  },
  {
   "cell_type": "markdown",
   "metadata": {},
   "source": [
    "## By Visit"
   ]
  },
  {
   "cell_type": "code",
   "execution_count": 7,
   "metadata": {},
   "outputs": [
    {
     "name": "stdout",
     "output_type": "stream",
     "text": [
      "[[2034  229]\n",
      " [ 863  266]]\n",
      "Accuracy:  0.6780660377358491\n",
      "Precision:  0.6197396819419602\n",
      "Recall:  0.5672068125625507\n",
      "F1 Score:  0.5579791499599037\n"
     ]
    }
   ],
   "source": [
    "# Filter Columns\n",
    "filter = ['gender', 'age_gen', 'first_outcome',\n",
    "        'first_wager','first_p/b', 'last_outcome', 'last_wager', 'last_p/b',\n",
    "        'beginning_amt', 'ending_amt', 'ending_balance', 'ave_slotdenom', \n",
    "        'std_slotdenom', 'min_slotdenom', 'max_slotdenom', 'ave_theo_payback',\n",
    "        'min_theo_payback', 'max_theo_payback', 'ave_wageramt', 'std_wageramt',\n",
    "        'min_wager', 'max_wager', 'ave_p/b', 'std_p/b', 'max_p/b', 'max_profit', 'depletion_slope', \n",
    "        '#inc_slotdenom', '#dec_slotdenom', '#inc_maxbet', '#dec_maxbet', \n",
    "        '#W', '#L', '#NH', '#D', '#2ws', '#3ws', '#4ws',\n",
    "        'w/min', 'l/min', '2ws/min', '3ws/min', '4ws/min',\n",
    "        'nh/min', 'd/min', 'w/g', 'l/g', 'nh/g', 'd/g', \n",
    "        'ave_time_per_gamble', 'min_time_per_gamble', 'max_time_per_gamble',\n",
    "        'machines_changes', 'unique_machines', 'ave_time_per_machine',\n",
    "        'total_duration', 'total_gambles', 'continue_playing']\n",
    "\n",
    "# Columns NOT INCLUDED\n",
    "# 'playerkey', 'rank', 'age_range', '#W', '#L', '#NH', '#D', #2ws, #3ws, #4ws, 2ws_profit, 3ws_profit, 4ws_profit,\n",
    "# 2ws_wgramt, 3ws_wgramt, 4ws_wgramt, ave_time_per_machine, 'total_duration', 'total_gambles'\n",
    "\n",
    "# Load dataset\n",
    "dataset = pd.read_parquet('continuation_by_visit.parquet', columns=filter)\n",
    "\n",
    "\n",
    "# # Seperate dependent and independent variables\n",
    "X = dataset.iloc[:, :-1].values\n",
    "y = dataset.iloc[:, -1].values\n",
    "\n",
    "# Econde gender column (Binary)\n",
    "le = LabelEncoder()\n",
    "\n",
    "# Binary Encode gender\n",
    "X[:, 0] = le.fit_transform(X[:, 0])\n",
    "\n",
    "# # Encode age_generartion, first_outoce, last_outcome columns\n",
    "ct = ColumnTransformer(transformers=[('encoder', OneHotEncoder(), [1, 2, 5])], remainder='passthrough')\n",
    "X = np.array(ct.fit_transform(X))\n",
    "\n",
    "y = le.fit_transform(y)\n",
    "\n",
    "X_train, X_test, y_train, y_test = train_test_split(X, y, test_size = 0.2, random_state = 1)\n",
    "\n",
    "sc = StandardScaler()\n",
    "\n",
    "# Scale all columns except the encoded ones\n",
    "X_train[:, 14:] = sc.fit_transform(X_train[:, 14:])\n",
    "X_test[:, 14:] = sc.transform(X_test[:, 14:])\n",
    "\n",
    "classifier = GaussianNB()\n",
    "classifier.fit(X_train, y_train)\n",
    "\n",
    "y_pred = classifier.predict(X_test)\n",
    "\n",
    "cm = confusion_matrix(y_test, y_pred)\n",
    "print(cm)\n",
    "print('Accuracy: ', accuracy_score(y_test, y_pred))\n",
    "print('Precision: ', precision_score(y_test, y_pred, average='macro'))\n",
    "print('Recall: ', recall_score(y_test, y_pred, average='macro'))\n",
    "print('F1 Score: ', f1_score(y_test, y_pred, average='macro'))"
   ]
  }
 ],
 "metadata": {
  "kernelspec": {
   "display_name": "Python 3",
   "language": "python",
   "name": "python3"
  },
  "language_info": {
   "codemirror_mode": {
    "name": "ipython",
    "version": 3
   },
   "file_extension": ".py",
   "mimetype": "text/x-python",
   "name": "python",
   "nbconvert_exporter": "python",
   "pygments_lexer": "ipython3",
   "version": "3.10.0"
  },
  "orig_nbformat": 4
 },
 "nbformat": 4,
 "nbformat_minor": 2
}
