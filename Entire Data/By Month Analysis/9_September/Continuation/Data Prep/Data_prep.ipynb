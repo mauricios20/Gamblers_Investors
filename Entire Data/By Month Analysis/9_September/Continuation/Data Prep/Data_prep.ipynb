{
 "cells": [
  {
   "cell_type": "markdown",
   "metadata": {},
   "source": [
    "# Data Prep (ALL)"
   ]
  },
  {
   "cell_type": "markdown",
   "metadata": {},
   "source": [
    "## By session"
   ]
  },
  {
   "cell_type": "code",
   "execution_count": 7,
   "metadata": {},
   "outputs": [
    {
     "name": "stdout",
     "output_type": "stream",
     "text": [
      "Index(['playerkey', 'session_time', 'gender', 'age_range', 'age_gen',\n",
      "       'beginning_amt', 'ending_amt', 'ending_balance', 'ave_slotdenom',\n",
      "       'std_slotdenom', 'min_slotdenom', 'max_slotdenom', 'ave_theo_payback',\n",
      "       'min_theo_payback', 'max_theo_payback', 'ave_wageramt', 'std_wageramt',\n",
      "       'min_wager', 'max_wager', 'ave_p/b', 'std_p/b', 'max_p/b', 'max_profit',\n",
      "       'depletion_slope', '#inc_maxbet', '#dec_maxbet', 'first_wager',\n",
      "       'first_outcome', 'first_p/b', 'last_wager', 'last_outcome', 'last_p/b',\n",
      "       '#W', '#L', '#NH', '#D', 'w/min', 'l/min', 'nh/min', 'd/min', 'w/g',\n",
      "       'l/g', 'nh/g', 'd/g', '#2ws', '2ws_profit', '2ws_wgramt', '#3ws',\n",
      "       '3ws_profit', '3ws_wgramt', '#4ws', '4ws_profit', '4ws_wgramt',\n",
      "       '2ws/min', '3ws/min', '4ws/min', 'ave_time_per_gamble',\n",
      "       'min_time_per_gamble', 'max_time_per_gamble', 'total_duration',\n",
      "       'total_gambles', 'machines_changes', '#inc_slotdenom', '#dec_slotdenom',\n",
      "       'unique_machines', 'ave_time_per_machine', 'classification'],\n",
      "      dtype='object')\n"
     ]
    }
   ],
   "source": [
    "# Importing the libraries\n",
    "import numpy as np\n",
    "import matplotlib.pyplot as plt\n",
    "import pandas as pd\n",
    "import os\n",
    "\n",
    "# Set working directory\n",
    "month_file = '5_September'\n",
    "# Set working directory\n",
    "os.chdir(\"/Users/mau/Library/CloudStorage/Dropbox/Mac/Documents/Dissertation/Chapter 2/Entire_Data/By month/\"+month_file+\"/Ending Balances/Per_Player\")\n",
    "\n",
    "# Load original dataset\n",
    "dataset = pd.read_parquet('per_player_ending_balance_by_session_ALL.parquet')\n",
    "\n",
    "print(dataset.columns)\n",
    "\n",
    "# Drop Classification column\n",
    "dataset = dataset.drop(columns=['classification'])"
   ]
  },
  {
   "cell_type": "code",
   "execution_count": 8,
   "metadata": {},
   "outputs": [],
   "source": [
    "# Create a column named 'continue_playing' that is 1 if player played the next session and 0 if not\n",
    "\n",
    "# Sort the DataFrame by playerkey and session_time\n",
    "dataset.sort_values(by=['playerkey', 'session_time'], inplace=True)\n",
    "\n",
    "# Add a new column 'continue_playing'\n",
    "dataset['continue_playing'] = dataset.groupby('playerkey')['session_time'].diff() == 1\n",
    "dataset['continue_playing'] = dataset['continue_playing'].astype(int)\n",
    "dataset['continue_playing'] = dataset['continue_playing'].shift(-1, fill_value=0)\n",
    "\n",
    " # Transfomr 'total_duration' from timedelta to seconds\n",
    "dataset['total_duration'] = dataset['total_duration'].dt.total_seconds()\n",
    "\n",
    "# Transfomr 'ave_time_per_machine' from timedelta to seconds\n",
    "dataset['ave_time_per_machine'] = dataset['ave_time_per_machine'].dt.total_seconds()\n",
    "\n",
    "# Save the DataFrame as a parquet file\n",
    "dataset.to_parquet(\"continuation_by_session.parquet\", engine=\"pyarrow\")\n",
    "\n",
    "# Save the DataFrame as a csv file\n",
    "os.chdir(\"/Users/mau/Library/CloudStorage/Dropbox/Mac/Documents/Dissertation/Chapter 2/Entire_Data/By month/\"+month_file+\"/Ending Balances/Per_Player/csv\")\n",
    "dataset.to_csv(\"continuation_by_session.csv\", index=False)\n"
   ]
  },
  {
   "cell_type": "markdown",
   "metadata": {},
   "source": [
    "## By Visit"
   ]
  },
  {
   "cell_type": "code",
   "execution_count": 9,
   "metadata": {},
   "outputs": [
    {
     "name": "stdout",
     "output_type": "stream",
     "text": [
      "Index(['playerkey', 'visit', 'gender', 'age_range', 'age_gen', 'beginning_amt',\n",
      "       'ending_amt', 'ending_balance', 'ave_slotdenom', 'std_slotdenom',\n",
      "       'min_slotdenom', 'max_slotdenom', 'ave_theo_payback',\n",
      "       'min_theo_payback', 'max_theo_payback', 'ave_wageramt', 'std_wageramt',\n",
      "       'min_wager', 'max_wager', 'ave_p/b', 'std_p/b', 'max_p/b', 'max_profit',\n",
      "       'depletion_slope', '#inc_maxbet', '#dec_maxbet', 'first_wager',\n",
      "       'first_outcome', 'first_p/b', 'last_wager', 'last_outcome', 'last_p/b',\n",
      "       '#W', '#L', '#NH', '#D', 'w/min', 'l/min', 'nh/min', 'd/min', 'w/g',\n",
      "       'l/g', 'nh/g', 'd/g', '#2ws', '2ws_profit', '2ws_wgramt', '#3ws',\n",
      "       '3ws_profit', '3ws_wgramt', '#4ws', '4ws_profit', '4ws_wgramt',\n",
      "       '2ws/min', '3ws/min', '4ws/min', 'ave_time_per_gamble',\n",
      "       'min_time_per_gamble', 'max_time_per_gamble', 'total_duration',\n",
      "       'total_gambles', 'machines_changes', '#inc_slotdenom', '#dec_slotdenom',\n",
      "       'unique_machines', 'ave_time_per_machine', 'classification'],\n",
      "      dtype='object')\n"
     ]
    }
   ],
   "source": [
    "# Set working directory\n",
    "os.chdir(\"/Users/mau/Library/CloudStorage/Dropbox/Mac/Documents/Dissertation/Chapter 2/Entire_Data/By month/\"+month_file+\"/Ending Balances/Per_Player\")\n",
    "\n",
    "# Load original dataset\n",
    "dataset2 = pd.read_parquet('per_player_ending_balance_by_visit_ALL.parquet')\n",
    "\n",
    "print(dataset2.columns)\n",
    "\n",
    "# Drop Classification column\n",
    "dataset2 = dataset2.drop(columns=['classification'])\n"
   ]
  },
  {
   "cell_type": "code",
   "execution_count": 10,
   "metadata": {},
   "outputs": [],
   "source": [
    "# Sort the DataFrame by playerkey and session_time\n",
    "dataset2.sort_values(by=['playerkey', 'visit'], inplace=True)\n",
    "\n",
    "# Add a new column 'continue_playing'\n",
    "dataset2['continue_playing'] = dataset2.groupby('playerkey')['visit'].diff() == 1\n",
    "dataset2['continue_playing'] = dataset2['continue_playing'].astype(int)\n",
    "dataset2['continue_playing'] = dataset2['continue_playing'].shift(-1, fill_value=0)\n",
    "\n",
    " # Transfomr 'total_duration' from timedelta to seconds\n",
    "dataset2['total_duration'] = dataset2['total_duration'].dt.total_seconds()\n",
    "\n",
    "# Transfomr 'ave_time_per_machine' from timedelta to seconds\n",
    "dataset2['ave_time_per_machine'] = dataset2['ave_time_per_machine'].dt.total_seconds()\n",
    "\n",
    "# Save the DataFrame as a parquet file\n",
    "dataset2.to_parquet(\"continuation_by_visit.parquet\", engine=\"pyarrow\")\n",
    "\n",
    "# Save the DataFrame as a csv file\n",
    "os.chdir(\"/Users/mau/Library/CloudStorage/Dropbox/Mac/Documents/Dissertation/Chapter 2/Entire_Data/By month/\"+month_file+\"/Ending Balances/Per_Player/csv\")\n",
    "dataset2.to_csv(\"continuation_by_visit.csv\", index=False)"
   ]
  },
  {
   "cell_type": "markdown",
   "metadata": {},
   "source": [
    "# Data Prep (Top vs Everyone Else)"
   ]
  },
  {
   "cell_type": "markdown",
   "metadata": {},
   "source": [
    "## By Session"
   ]
  },
  {
   "cell_type": "code",
   "execution_count": 11,
   "metadata": {},
   "outputs": [
    {
     "name": "stdout",
     "output_type": "stream",
     "text": [
      "Index(['playerkey', 'session_time', 'gender', 'age_range', 'age_gen',\n",
      "       'beginning_amt', 'ending_amt', 'ending_balance', 'ave_slotdenom',\n",
      "       'std_slotdenom', 'min_slotdenom', 'max_slotdenom', 'ave_theo_payback',\n",
      "       'min_theo_payback', 'max_theo_payback', 'ave_wageramt', 'std_wageramt',\n",
      "       'min_wager', 'max_wager', 'ave_p/b', 'std_p/b', 'max_p/b', 'max_profit',\n",
      "       'depletion_slope', '#inc_maxbet', '#dec_maxbet', 'first_wager',\n",
      "       'first_outcome', 'first_p/b', 'last_wager', 'last_outcome', 'last_p/b',\n",
      "       '#W', '#L', '#NH', '#D', 'w/min', 'l/min', 'nh/min', 'd/min', 'w/g',\n",
      "       'l/g', 'nh/g', 'd/g', '#2ws', '2ws_profit', '2ws_wgramt', '#3ws',\n",
      "       '3ws_profit', '3ws_wgramt', '#4ws', '4ws_profit', '4ws_wgramt',\n",
      "       '2ws/min', '3ws/min', '4ws/min', 'ave_time_per_gamble',\n",
      "       'min_time_per_gamble', 'max_time_per_gamble', 'total_duration',\n",
      "       'total_gambles', 'machines_changes', '#inc_slotdenom', '#dec_slotdenom',\n",
      "       'unique_machines', 'ave_time_per_machine', 'classification'],\n",
      "      dtype='object')\n"
     ]
    }
   ],
   "source": [
    "# Set working directory\n",
    "os.chdir(\"/Users/mau/Library/CloudStorage/Dropbox/Mac/Documents/Dissertation/Chapter 2/Entire_Data/By month/\"+month_file+\"/Ending Balances/Per_Player\")\n",
    "\n",
    "# Load original dataset\n",
    "dataset3 = pd.read_parquet('top_vs_ntop_player_ending_balance_by_session.parquet')\n",
    "\n",
    "print(dataset3.columns)\n",
    "\n",
    " # Transfomr 'total_duration' from timedelta to seconds\n",
    "dataset3['total_duration'] = dataset3['total_duration'].dt.total_seconds()\n",
    "\n",
    "# Transfomr 'ave_time_per_machine' from timedelta to seconds\n",
    "dataset3['ave_time_per_machine'] = dataset3['ave_time_per_machine'].dt.total_seconds()\n",
    "\n",
    "# Add a new column 'continue_playing'\n",
    "dataset3['continue_playing'] = dataset3.groupby('playerkey')['session_time'].diff() == 1\n",
    "dataset3['continue_playing'] = dataset3['continue_playing'].astype(int)\n",
    "dataset3['continue_playing'] = dataset3['continue_playing'].shift(-1, fill_value=0)\n",
    "\n",
    "# Separate dataset into top_10 and ntop players in classification column\n",
    "top_players = dataset3[dataset3['classification'] == 'top_10']\n",
    "ntop_players = dataset3[dataset3['classification'] == 'Ntop']\n",
    "\n",
    "# Drop 'classification' column\n",
    "top_players = top_players.drop(columns=['classification'])\n",
    "ntop_players = ntop_players.drop(columns=['classification'])\n",
    "\n",
    "# Save dataset\n",
    "top_players.to_parquet('top_players_continuation_by_session.parquet')\n",
    "ntop_players.to_parquet('ntop_players_continuation_by_session.parquet')\n",
    "\n",
    "# Save the DataFrame as a csv file\n",
    "os.chdir(\"/Users/mau/Library/CloudStorage/Dropbox/Mac/Documents/Dissertation/Chapter 2/Entire_Data/By month/\"+month_file+\"/Ending Balances/Per_Player/csv\")\n",
    "top_players.to_csv('top_players_continuation_by_session.csv', index=False)\n",
    "ntop_players.to_csv('ntop_players_continuation_by_session.csv', index=False)"
   ]
  },
  {
   "cell_type": "markdown",
   "metadata": {},
   "source": [
    "## By Visit"
   ]
  },
  {
   "cell_type": "code",
   "execution_count": 12,
   "metadata": {},
   "outputs": [
    {
     "name": "stdout",
     "output_type": "stream",
     "text": [
      "Index(['playerkey', 'visit', 'gender', 'age_range', 'age_gen', 'beginning_amt',\n",
      "       'ending_amt', 'ending_balance', 'ave_slotdenom', 'std_slotdenom',\n",
      "       'min_slotdenom', 'max_slotdenom', 'ave_theo_payback',\n",
      "       'min_theo_payback', 'max_theo_payback', 'ave_wageramt', 'std_wageramt',\n",
      "       'min_wager', 'max_wager', 'ave_p/b', 'std_p/b', 'max_p/b', 'max_profit',\n",
      "       'depletion_slope', '#inc_maxbet', '#dec_maxbet', 'first_wager',\n",
      "       'first_outcome', 'first_p/b', 'last_wager', 'last_outcome', 'last_p/b',\n",
      "       '#W', '#L', '#NH', '#D', 'w/min', 'l/min', 'nh/min', 'd/min', 'w/g',\n",
      "       'l/g', 'nh/g', 'd/g', '#2ws', '2ws_profit', '2ws_wgramt', '#3ws',\n",
      "       '3ws_profit', '3ws_wgramt', '#4ws', '4ws_profit', '4ws_wgramt',\n",
      "       '2ws/min', '3ws/min', '4ws/min', 'ave_time_per_gamble',\n",
      "       'min_time_per_gamble', 'max_time_per_gamble', 'total_duration',\n",
      "       'total_gambles', 'machines_changes', '#inc_slotdenom', '#dec_slotdenom',\n",
      "       'unique_machines', 'ave_time_per_machine', 'classification'],\n",
      "      dtype='object')\n"
     ]
    }
   ],
   "source": [
    "# Set working directory\n",
    "os.chdir(\"/Users/mau/Library/CloudStorage/Dropbox/Mac/Documents/Dissertation/Chapter 2/Entire_Data/By month/\"+month_file+\"/Ending Balances/Per_Player\")\n",
    "\n",
    "# Load original dataset\n",
    "dataset4 = pd.read_parquet('top_vs_ntop_players_ending_balance_by_visit.parquet')\n",
    "\n",
    "print(dataset4.columns)\n",
    "\n",
    " # Transfomr 'total_duration' from timedelta to seconds\n",
    "dataset4['total_duration'] = dataset4['total_duration'].dt.total_seconds()\n",
    "\n",
    "# Transfomr 'ave_time_per_machine' from timedelta to seconds\n",
    "dataset4['ave_time_per_machine'] = dataset4['ave_time_per_machine'].dt.total_seconds()\n",
    "\n",
    "# Add a new column 'continue_playing'\n",
    "dataset4['continue_playing'] = dataset4.groupby('playerkey')['visit'].diff() == 1\n",
    "dataset4['continue_playing'] = dataset4['continue_playing'].astype(int)\n",
    "dataset4['continue_playing'] = dataset4['continue_playing'].shift(-1, fill_value=0)\n",
    "\n",
    "# Separate dataset into top_10 and ntop players in classification column\n",
    "top_players = dataset4[dataset4['classification'] == 'top_10']\n",
    "ntop_players = dataset4[dataset4['classification'] == 'Ntop']\n",
    "\n",
    "# Drop 'classification' column\n",
    "top_players = top_players.drop(columns=['classification'])\n",
    "ntop_players = ntop_players.drop(columns=['classification'])\n",
    "\n",
    "# Save dataset\n",
    "top_players.to_parquet('top_players_continuation_by_visit.parquet')\n",
    "ntop_players.to_parquet('ntop_players_continuation_by_visit.parquet')\n",
    "\n",
    "# Save the DataFrame as a csv file\n",
    "os.chdir(\"/Users/mau/Library/CloudStorage/Dropbox/Mac/Documents/Dissertation/Chapter 2/Entire_Data/By month/\"+month_file+\"/Ending Balances/Per_Player/csv\")\n",
    "top_players.to_csv('top_players_continuation_by_visit.csv', index=False)\n",
    "ntop_players.to_csv('ntop_players_continuation_by_visit.csv', index=False)"
   ]
  }
 ],
 "metadata": {
  "kernelspec": {
   "display_name": "Python 3",
   "language": "python",
   "name": "python3"
  },
  "language_info": {
   "codemirror_mode": {
    "name": "ipython",
    "version": 3
   },
   "file_extension": ".py",
   "mimetype": "text/x-python",
   "name": "python",
   "nbconvert_exporter": "python",
   "pygments_lexer": "ipython3",
   "version": "3.10.0"
  },
  "orig_nbformat": 4
 },
 "nbformat": 4,
 "nbformat_minor": 2
}
