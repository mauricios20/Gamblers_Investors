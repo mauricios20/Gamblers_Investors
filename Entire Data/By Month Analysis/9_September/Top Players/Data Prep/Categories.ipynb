{
 "cells": [
  {
   "attachments": {},
   "cell_type": "markdown",
   "metadata": {},
   "source": [
    "# Exploratory Data Analysis (Time & Gambles)\n",
    "\n",
    "We are going to be looking for patterns in players who only played in the month of June. This is with the purpose to distinguish players between short and long positions, and the reasons why they hold this positions. "
   ]
  },
  {
   "cell_type": "code",
   "execution_count": 1,
   "metadata": {},
   "outputs": [],
   "source": [
    "# import all necesary libraries for the project\n",
    "import pandas as pd\n",
    "import os\n",
    "import numpy as np\n",
    "import matplotlib.pyplot as plt\n",
    "import seaborn as sns\n",
    "import datetime as dt\n",
    "import warnings\n",
    "import plotting_fn as pf\n",
    "warnings.filterwarnings('ignore')"
   ]
  },
  {
   "cell_type": "code",
   "execution_count": 2,
   "metadata": {},
   "outputs": [],
   "source": [
    "# Define working directory\n",
    "path = \"/Users/mau/Library/CloudStorage/Dropbox/Mac/Documents/Dissertation/Chapter 2/Entire_Data/By month/1_Generic\"\n",
    "os.chdir(path)\n",
    "\n",
    "# Filter Columns\n",
    "filter = ['playerkey', 'playercashableamt', 'wageredamt', 'maxbet', 'grosswin',\n",
    "       'currencyinamt', 'assetnumber', 'theoreticalpaybackpercent', \n",
    "       'age', 'rank', 'gender', 'date', 'start_time', 'end_time', 'duration',\n",
    "       'slotdenomination']\n",
    "# Import data\n",
    "dtf = pd.read_parquet('month_9_year_2015.parquet', columns=filter)\n",
    "\n",
    "# Check data\n",
    "dtf.columns\n",
    "\n",
    "# Select only the rows where duration is greater than or equal to zero\n",
    "dtf = dtf[dtf['duration'] >= pd.Timedelta(0)]"
   ]
  },
  {
   "cell_type": "code",
   "execution_count": 3,
   "metadata": {},
   "outputs": [],
   "source": [
    "# Sort data by start_time and playerkey\n",
    "dtf = dtf.sort_values(by=['playerkey', 'date', 'start_time'])"
   ]
  },
  {
   "attachments": {},
   "cell_type": "markdown",
   "metadata": {},
   "source": [
    "## Calculate Foundamental Variables\n",
    "\n",
    "The following variables were calculated using existing data:\n",
    "* _player_loss_: how much money each player has lost in each gamble.\n",
    "* _player_wins_: equals the amount of money they bet plus how much they won.\n",
    "* _percent_return_: the return in player's bets for each gamble played. \n",
    "\n",
    "$$\\text{percent return} = (\\frac{df[wins] - df[wageredamt]}{df[wageredamt]})*100$$\n",
    "\n",
    "* _playercashableamt_pct_change_: calculates the rate of change of player's outstanding gambling amount. \n",
    "\n",
    "$$\\text{playercashableamt \\% change} = (\\frac{df[playercashableamt_{t+1}] - df[playercashableamt_{t}]}{df[playercashableamt_{t}]})*100$$"
   ]
  },
  {
   "cell_type": "code",
   "execution_count": 4,
   "metadata": {},
   "outputs": [],
   "source": [
    "# Crate a new colum that is the inverse of casino_grosswin, named \"player_loss\"\n",
    "dtf['ops'] = dtf['grosswin']*-1\n",
    "\n",
    "# Create a new column that is the inverse of casino_grosswin, named \"player_loss\" that includes all negative values of 'ops'\n",
    "dtf['player_loss'] = np.where(dtf['ops'] < 0, dtf['ops'], 0)\n",
    "\n",
    "# Create a new column that is the inverse of casino_grosswin, named \"player_wins\" that includes all positive values of 'ops'\n",
    "dtf['player_wins'] = np.where(dtf['ops'] > 0, dtf['ops'], 0)\n",
    "\n",
    "# Create total_amt_won column\n",
    "dtf['total_amt_won'] = dtf[\"wageredamt\"]+dtf[\"ops\"]\n",
    "\n",
    "# Create colum profit\n",
    "dtf['profit'] = dtf['total_amt_won'] - dtf['wageredamt']\n",
    "\n",
    "# # Calculate percentage return for each gamble and add it as a new column\n",
    "dtf[\"percent_return\"] = ((dtf[\"wageredamt\"]+dtf[\"ops\"]) - dtf[\"wageredamt\"]) / dtf[\"wageredamt\"] * 100\n",
    "\n",
    "# # Create a time series variable for each player that starts at 1 and increases by 1 for each row\n",
    "draw_condition = dtf['grosswin'] == 0\n",
    "\n",
    "for i, row in dtf.iterrows():\n",
    "    if draw_condition[i]:\n",
    "        dtf.loc[i, 'profit'] = 0\n",
    "\n",
    "# Drop 'ops' column\n",
    "dtf = dtf.drop(columns=['ops'])\n",
    "\n",
    "# Create a time series variable for each player that starts at 1 and increases by 1 for each row\n",
    "dtf[\"gambles\"] = dtf.groupby(\"playerkey\").cumcount() + 1"
   ]
  },
  {
   "attachments": {},
   "cell_type": "markdown",
   "metadata": {},
   "source": [
    "### Calulates Number of Visits"
   ]
  },
  {
   "cell_type": "code",
   "execution_count": 5,
   "metadata": {},
   "outputs": [],
   "source": [
    "# Group the DataFrame by playerkey\n",
    "groups = dtf.groupby('playerkey')\n",
    "\n",
    "# Initialize the visit column to 1 for the first visit of each player\n",
    "dtf['visit'] = groups['date'].transform(lambda x: (x.diff().dt.days >= 1).cumsum() + 1)\n",
    "\n",
    "# Reset the visit count for each new player\n",
    "dtf['visit'] = dtf.groupby('playerkey')['visit'].apply(lambda x: x - x.iloc[0] + 1)\n"
   ]
  },
  {
   "attachments": {},
   "cell_type": "markdown",
   "metadata": {},
   "source": [
    "### Calculate Sessions based on Time\n",
    "\n",
    "If there is a pause of 30 minutes or more between gambles it is considered the end of a session, and the start of a new one."
   ]
  },
  {
   "cell_type": "code",
   "execution_count": 6,
   "metadata": {},
   "outputs": [],
   "source": [
    "# Convert the start_time column to datetime\n",
    "dtf[\"start_time\"] = pd.to_datetime(dtf[\"start_time\"])\n",
    "\n",
    "# Sort data by start_time and playerkey\n",
    "dtf = dtf.sort_values(by=['playerkey', 'date', 'start_time'])\n",
    "\n",
    "# Compute the time difference between consecutive gambles for each player\n",
    "dtf['time_diff'] = dtf.groupby('playerkey')['start_time'].diff()\n",
    "\n",
    "# Initialize the session_time column to 1 for the first gamble of each player\n",
    "dtf['session_time'] = dtf.groupby('playerkey').ngroup() + 1\n",
    "\n",
    "# Update the session_time column based on the time difference\n",
    "dtf['session_time'] += (dtf['time_diff'] > pd.Timedelta(minutes=30)).cumsum()\n",
    "\n",
    "# Reset the session_time count for each new visit\n",
    "dtf['session_time'] = dtf.groupby(['playerkey', 'visit'])['session_time'].apply(lambda x: x - x.iloc[0] + 1)\n",
    "\n",
    "# Remove the temporary time_diff column\n",
    "dtf = dtf.drop('time_diff', axis=1)"
   ]
  },
  {
   "cell_type": "markdown",
   "metadata": {},
   "source": [
    "### Drop Players who played simultaneously in two machines"
   ]
  },
  {
   "cell_type": "code",
   "execution_count": 7,
   "metadata": {},
   "outputs": [],
   "source": [
    "# Simultaneous Play\n",
    "df_sim = pf.simultaneous_play(40000, dtf, 'session_time')\n",
    "\n",
    "# Remove repeated instances\n",
    "df_sim_no_repeat_v = df_sim.drop_duplicates(subset=['session_time', 'playerkey'])"
   ]
  },
  {
   "cell_type": "code",
   "execution_count": 8,
   "metadata": {},
   "outputs": [
    {
     "name": "stdout",
     "output_type": "stream",
     "text": [
      "Number of unique players in dtf:  11901\n",
      "Number of players that played simultaneously:  835\n",
      "Number of unique players in dtf:  11220\n"
     ]
    }
   ],
   "source": [
    "# Print unique number of players in dtf\n",
    "print(\"Number of unique players in dtf: \", len(dtf['playerkey'].unique()))\n",
    "# Prnt the number of players that played simultaneously\n",
    "print(\"Number of players that played simultaneously: \", len(df_sim_no_repeat_v))\n",
    "\n",
    "# Eliminate all the players that played simultaneously from the original dataset (dtf)\n",
    "dtf = dtf[~dtf['playerkey'].isin(df_sim_no_repeat_v['playerkey'])]\n",
    "\n",
    "# Print unique number of players in dtf\n",
    "print(\"Number of unique players in dtf: \", len(dtf['playerkey'].unique()))"
   ]
  },
  {
   "attachments": {},
   "cell_type": "markdown",
   "metadata": {},
   "source": [
    "### Calculate Sessions based on Machine Change\n",
    "\n",
    "Everytime a player switches machine a new sessions begins."
   ]
  },
  {
   "cell_type": "code",
   "execution_count": 9,
   "metadata": {},
   "outputs": [],
   "source": [
    "# Initialize the session_machine column to 1 for the first machine of each player\n",
    "dtf['session_machine'] = (dtf.groupby(\"playerkey\")[\"assetnumber\"].diff() != 0).cumsum()\n",
    "\n",
    "# Reset the session_machine count for each new visit\n",
    "dtf['session_machine'] = dtf.groupby(['playerkey', 'visit'])['session_machine'].apply(lambda x: x - x.iloc[0] + 1)\n"
   ]
  },
  {
   "attachments": {},
   "cell_type": "markdown",
   "metadata": {},
   "source": [
    "### Calculate the number of gambles per Visit"
   ]
  },
  {
   "cell_type": "code",
   "execution_count": 10,
   "metadata": {},
   "outputs": [],
   "source": [
    "# Create a column named \"gambles_visit\" that is the number of gambles per visit\n",
    "dtf[\"gambles_visit\"] = dtf.groupby([\"playerkey\", \"visit\"])[\"gambles\"].cumcount() + 1\n",
    "\n",
    "# Reset the gambles_visit count for each new visit\n",
    "dtf['gambles_visit'] = dtf.groupby(['playerkey', 'visit'])['gambles_visit'].apply(lambda x: x - x.iloc[0] + 1)\n"
   ]
  },
  {
   "attachments": {},
   "cell_type": "markdown",
   "metadata": {},
   "source": [
    "### Calculate the number of gambles per Session Time"
   ]
  },
  {
   "cell_type": "code",
   "execution_count": 11,
   "metadata": {},
   "outputs": [],
   "source": [
    "# Create a column named \"gambles_session\" that is the number of gambles per session\n",
    "dtf[\"gambles_session\"] = dtf.groupby([\"playerkey\", \"session_time\"])[\"gambles\"].cumcount() + 1\n",
    "\n",
    "# Reset the gambles_session count for each new session\n",
    "dtf['gambles_session'] = dtf.groupby(['playerkey', 'session_time'])['gambles_session'].apply(lambda x: x - x.iloc[0] + 1)\n"
   ]
  },
  {
   "attachments": {},
   "cell_type": "markdown",
   "metadata": {},
   "source": [
    "### Calculate the number of gambles per Session Machine"
   ]
  },
  {
   "cell_type": "code",
   "execution_count": 12,
   "metadata": {},
   "outputs": [],
   "source": [
    "# Create a column named \"gambles_machine\" that is the number of gambles per session_machine\n",
    "dtf[\"gambles_machine\"] = dtf.groupby([\"playerkey\", \"session_machine\"])[\"gambles\"].cumcount() + 1\n",
    "\n",
    "# Reset the gambles_machine count for each new session_machine\n",
    "dtf['gambles_machine'] = dtf.groupby(['playerkey', 'session_machine'])['gambles_machine'].apply(lambda x: x - x.iloc[0] + 1)"
   ]
  },
  {
   "attachments": {},
   "cell_type": "markdown",
   "metadata": {},
   "source": [
    "### Calculate the number of Machine Changes\n"
   ]
  },
  {
   "cell_type": "code",
   "execution_count": 13,
   "metadata": {},
   "outputs": [],
   "source": [
    "# Create a column called change_machine that is 1 everytime a player changes assetnumber 0 otherwise, grouped by playerkey and session_time\n",
    "dtf['machines_played'] = (dtf.groupby(['playerkey', 'session_time'])['assetnumber'].diff() != 0).astype(int)"
   ]
  },
  {
   "attachments": {},
   "cell_type": "markdown",
   "metadata": {},
   "source": [
    "# Percentiles"
   ]
  },
  {
   "attachments": {},
   "cell_type": "markdown",
   "metadata": {},
   "source": [
    "## Overall Gambles"
   ]
  },
  {
   "cell_type": "code",
   "execution_count": 14,
   "metadata": {},
   "outputs": [
    {
     "name": "stdout",
     "output_type": "stream",
     "text": [
      "Top 20% of the number of gambles per player: 478.0\n",
      "Top 15% of the number of gambles per player: 646.0\n",
      "Top 10% of the number of gambles per player: 900.1000000000004\n",
      "Top 5% of the number of gambles per player: 1498.0\n",
      "Top 1% of the number of gambles per player: 3717.0\n"
     ]
    }
   ],
   "source": [
    "# Calculate the number of gambles per each player, and store it in a list\n",
    "gambles_per_player = []\n",
    "for i in dtf[\"playerkey\"].unique().tolist():\n",
    "    gambles_per_player.append(dtf[dtf[\"playerkey\"] == i][\"gambles\"].max())\n",
    "\n",
    "top_20 = np.percentile(gambles_per_player, 80)\n",
    "print(\"Top 20% of the number of gambles per player:\", top_20)\n",
    "\n",
    "top_15 = np.percentile(gambles_per_player, 85)\n",
    "print(\"Top 15% of the number of gambles per player:\", top_15)\n",
    "\n",
    "top_10 = np.percentile(gambles_per_player, 90)\n",
    "print(\"Top 10% of the number of gambles per player:\", top_10)\n",
    "\n",
    "top_5 = np.percentile(gambles_per_player, 95)\n",
    "print(\"Top 5% of the number of gambles per player:\", top_5)\n",
    "\n",
    "top_1 = np.percentile(gambles_per_player, 99)\n",
    "print(\"Top 1% of the number of gambles per player:\", top_1)\n"
   ]
  },
  {
   "cell_type": "markdown",
   "metadata": {},
   "source": [
    "## Top players Only"
   ]
  },
  {
   "cell_type": "code",
   "execution_count": 15,
   "metadata": {},
   "outputs": [],
   "source": [
    "# Let's create a list of players that are extreme gamblers\n",
    "extreme_r = dtf.groupby(\"playerkey\")[\"gambles\"].max()[dtf.groupby(\"playerkey\")[\"gambles\"].max() >= top_10].index.tolist()\n",
    "\n",
    "# Let's create a dataframe that only includes the extreme gamblers\n",
    "dtf_extreme = dtf[dtf[\"playerkey\"].isin(extreme_r)]\n",
    "\n",
    "# Calculate the number of gambles per each player, and store it in a list\n",
    "gambles_per_top_player = []\n",
    "for i in dtf_extreme[\"playerkey\"].unique().tolist():\n",
    "    gambles_per_top_player.append(dtf_extreme[dtf_extreme[\"playerkey\"] == i][\"gambles\"].max())"
   ]
  },
  {
   "cell_type": "code",
   "execution_count": 16,
   "metadata": {},
   "outputs": [
    {
     "data": {
      "image/png": "[encoded data removed]",
      "text/plain": [
       "<Figure size 640x480 with 1 Axes>"
      ]
     },
     "metadata": {},
     "output_type": "display_data"
    }
   ],
   "source": [
    "# Plot the distribution of the number of gambles per top player\n",
    "plt.hist(gambles_per_top_player, bins=35, log=True)\n",
    "plt.xlabel(\"Number of gambles per top player\")\n",
    "plt.ylabel(\"Frequency\")\n",
    "plt.title(\"Distribution of the number of gambles of top player\")\n",
    "plt.show()"
   ]
  },
  {
   "cell_type": "markdown",
   "metadata": {},
   "source": [
    "# Create Dataframes from total number of Gambles"
   ]
  },
  {
   "cell_type": "code",
   "execution_count": 17,
   "metadata": {},
   "outputs": [
    {
     "name": "stdout",
     "output_type": "stream",
     "text": [
      "# of playes in Top 1: 114\n",
      "# of players in Top 5: 448\n",
      "# of players in Top 10: 560\n"
     ]
    }
   ],
   "source": [
    "# Let's create two separarte dataframes for the top 20% and bottom 20% of players by creating a list of player for each percentile\n",
    "top1 = dtf.groupby(\"playerkey\")[\"gambles\"].max()[dtf.groupby(\"playerkey\")[\"gambles\"].max() >= top_1].index.tolist()\n",
    "top5 = dtf.groupby(\"playerkey\")[\"gambles\"].max()[(dtf.groupby(\"playerkey\")[\"gambles\"].max() < top_1) & (dtf.groupby(\"playerkey\")[\"gambles\"].max() >= top_5)].index.tolist()\n",
    "top10 = dtf.groupby(\"playerkey\")[\"gambles\"].max()[(dtf.groupby(\"playerkey\")[\"gambles\"].max() < top_5) & (dtf.groupby(\"playerkey\")[\"gambles\"].max() >= top_10)].index.tolist()\n",
    "\n",
    "# How many players are in extreme_r?\n",
    "print(\"# of playes in Top 1:\", len(top1))\n",
    "\n",
    "# How many players are in high_r?\n",
    "print(\"# of players in Top 5:\", len(top5))\n",
    "\n",
    "# How many players are in low_r?\n",
    "print(\"# of players in Top 10:\", len(top10))\n",
    "\n",
    "\n",
    "# # Create a dataframe for the top1 players\n",
    "dtf_top1 = dtf[dtf[\"playerkey\"].isin(top1)]\n",
    "dtf_top1['clasification'] = \"top_1\"\n",
    "\n",
    "# # Create a dataframe for the top5 players\n",
    "dtf_top5 = dtf[dtf[\"playerkey\"].isin(top5)]\n",
    "dtf_top5['clasification'] = \"top_5\"\n",
    "\n",
    "# # Create a dataframe for the top10 players\n",
    "dtf_top10 = dtf[dtf[\"playerkey\"].isin(top10)]\n",
    "dtf_top10['clasification'] = \"top_10\"\n",
    "\n",
    "# # Concatenate the four dataframes into one\n",
    "dtf_top = pd.concat([dtf_top1, dtf_top5, dtf_top10])"
   ]
  },
  {
   "attachments": {},
   "cell_type": "markdown",
   "metadata": {},
   "source": [
    "# Save Dataframes"
   ]
  },
  {
   "cell_type": "code",
   "execution_count": 18,
   "metadata": {},
   "outputs": [],
   "source": [
    "# Define saving path\n",
    "path = \"/Users/mau/Library/CloudStorage/Dropbox/Mac/Documents/Dissertation/Chapter 2/Entire_Data/By month/5_September\"\n",
    "os.chdir(path)\n",
    "\n",
    "# General Dataframe to parquet\n",
    "dtf_top.to_parquet(\"top_players.parquet\", engine=\"pyarrow\")\n"
   ]
  }
 ],
 "metadata": {
  "kernelspec": {
   "display_name": "Python 3",
   "language": "python",
   "name": "python3"
  },
  "language_info": {
   "codemirror_mode": {
    "name": "ipython",
    "version": 3
   },
   "file_extension": ".py",
   "mimetype": "text/x-python",
   "name": "python",
   "nbconvert_exporter": "python",
   "pygments_lexer": "ipython3",
   "version": "3.10.0"
  },
  "orig_nbformat": 4
 },
 "nbformat": 4,
 "nbformat_minor": 2
}
