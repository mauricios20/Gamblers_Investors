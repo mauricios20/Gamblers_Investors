{
 "cells": [
  {
   "attachments": {},
   "cell_type": "markdown",
   "metadata": {},
   "source": [
    "# Similarities and Differences between Categories (Pt.1 - Age, Gender, Won/Lost Amount)"
   ]
  },
  {
   "cell_type": "code",
   "execution_count": 1,
   "metadata": {},
   "outputs": [],
   "source": [
    "# Define libraries\n",
    "import pandas as pd\n",
    "import numpy as np\n",
    "import matplotlib.pyplot as plt\n",
    "import seaborn as sns\n",
    "import matplotlib.dates as mdates\n",
    "import os\n",
    "import plotting_fn as pf\n",
    "import counting_fns as cf\n",
    "\n",
    "month_file = '5_September'\n",
    "cut_off = 10000\n",
    "# Set working directory\n",
    "os.chdir(\"/Users/mau/Library/CloudStorage/Dropbox/Mac/Documents/Dissertation/Chapter 2/Entire_Data/By month/\"+month_file)\n"
   ]
  },
  {
   "cell_type": "code",
   "execution_count": 2,
   "metadata": {},
   "outputs": [],
   "source": [
    "# Read in data\n",
    "df = pd.read_parquet(\"top_players.parquet\")\n",
    "\n",
    "# Round wageredamt and profit to 2 decimal places\n",
    "df['wageredamt'] = df['wageredamt'].round(1)\n",
    "df['profit'] = df['profit'].round(1)\n",
    "df['percent_return'] = df['percent_return'].round(1)\n"
   ]
  },
  {
   "cell_type": "code",
   "execution_count": 3,
   "metadata": {},
   "outputs": [],
   "source": [
    "# Create a new column 'result_type' that is a categorical variable which takes the value 'loss' if the change is negative and 'gain' if the change is positive, and 'draw' of change is 0\n",
    "df['result_type'] = df['percent_return'].apply(lambda x: 'loss' if x == -100 else 'near-hit' if x < 0 else 'gain' if x > 0 else 'draw')\n",
    "\n",
    "# Create dummy variables from 'result_type'\n",
    "dummy_variables = pd.get_dummies(df['result_type']).rename(columns=lambda x: '#' + str(x[0].capitalize()))\n",
    "\n",
    "# Add the dummy variables to the original DataFrame\n",
    "df = pd.concat([df, dummy_variables], axis=1).reset_index(drop=True)\n",
    "\n",
    "# Convert starttime to delte format for operations\n",
    "df['start_time'] = pd.to_datetime(df['start_time'])"
   ]
  },
  {
   "cell_type": "code",
   "execution_count": 4,
   "metadata": {},
   "outputs": [],
   "source": [
    "# Create new column called 'time_diff' which is the difference between the start time of the gamble and the start time of the previous gamble\n",
    "df['time_diff'] = df.groupby(['playerkey', 'session_time'])['start_time'].diff()\n",
    "\n",
    "# Convert time_diff to seconds\n",
    "df['time_diff'] = df['time_diff'].dt.total_seconds().fillna(0)"
   ]
  },
  {
   "attachments": {},
   "cell_type": "markdown",
   "metadata": {},
   "source": [
    "## General Overview\n",
    "\n",
    "### Players, Visits, Sessions of Each Group"
   ]
  },
  {
   "cell_type": "code",
   "execution_count": 5,
   "metadata": {},
   "outputs": [
    {
     "name": "stdout",
     "output_type": "stream",
     "text": [
      "Number of gamblers in dataframe: 1122\n",
      "--------------------------------------------------\n",
      "Number of unique visits in dtf: 18\n",
      "--------------------------------------------------\n",
      "Number of unique sessions in dtf: 10\n",
      "--------------------------------------------------\n"
     ]
    }
   ],
   "source": [
    "# Number of gamblers\n",
    "print(\"Number of gamblers in dataframe:\", len(df['playerkey'].unique()))\n",
    "print('--------------------------------------------------')\n",
    "\n",
    "# Print number of unique visits\n",
    "print(\"Number of unique visits in dtf:\", len(df['visit'].unique()))\n",
    "print('--------------------------------------------------')\n",
    "\n",
    "# Print number of unique sessions\n",
    "print(\"Number of unique sessions in dtf:\", len(df['session_time'].unique()))\n",
    "print('--------------------------------------------------')"
   ]
  },
  {
   "attachments": {},
   "cell_type": "markdown",
   "metadata": {},
   "source": [
    "### Wins in a row"
   ]
  },
  {
   "cell_type": "code",
   "execution_count": 6,
   "metadata": {},
   "outputs": [],
   "source": [
    "# Ude consecutive functions to find 2ws, 3ws, 4ws in a row in each dataset per visit per player\n",
    "df_s = pf.consecutive_wins(df, 'session_time')"
   ]
  },
  {
   "cell_type": "code",
   "execution_count": 7,
   "metadata": {},
   "outputs": [
    {
     "name": "stdout",
     "output_type": "stream",
     "text": [
      "Categories of wins in a row per session:\n",
      "                              #2ws    #3ws   #4ws\n",
      "clasification session_time                       \n",
      "top_1         1             4919.0   925.0  289.0\n",
      "              2             2679.0   504.0  164.0\n",
      "              3             1354.0   240.0   78.0\n",
      "              4              626.0    86.0   24.0\n",
      "              5              371.0    85.0   28.0\n",
      "              6               76.0    14.0    2.0\n",
      "              7               32.0     4.0    0.0\n",
      "              8                7.0     1.0    1.0\n",
      "top_10        1             7109.0  1269.0  376.0\n",
      "              2             2351.0   388.0  128.0\n",
      "              3              843.0   176.0   39.0\n",
      "              4              290.0    45.0   10.0\n",
      "              5               42.0     6.0    1.0\n",
      "              6                9.0     1.0    1.0\n",
      "              7                5.0     2.0    0.0\n",
      "              8                3.0     0.0    0.0\n",
      "top_5         1             8915.0  1680.0  488.0\n",
      "              2             3852.0   638.0  191.0\n",
      "              3             1852.0   344.0   98.0\n",
      "              4              668.0   107.0   29.0\n",
      "              5              265.0    56.0   20.0\n",
      "              6              111.0    19.0    6.0\n",
      "              7               13.0     2.0    0.0\n",
      "              8                2.0     0.0    0.0\n",
      "              9                0.0     0.0    0.0\n",
      "              10               0.0     0.0    0.0\n",
      "--------------------------------------------------\n"
     ]
    }
   ],
   "source": [
    "# Print the numner of total number of 2 wins, 3 wins, 4 wins in a row in each dataset\n",
    "print('Categories of wins in a row per session:')\n",
    "print(df_s.groupby(['clasification', 'session_time'])[['#2ws', '#3ws', '#4ws']].sum())\n",
    "print('--------------------------------------------------')"
   ]
  },
  {
   "cell_type": "code",
   "execution_count": 8,
   "metadata": {},
   "outputs": [],
   "source": [
    "# Ude consecutive functions to find 2ws, 3ws, 4ws in a row in each dataset per session_time per player\n",
    "df = pf.consecutive_wins(df, 'visit')"
   ]
  },
  {
   "cell_type": "code",
   "execution_count": 9,
   "metadata": {},
   "outputs": [
    {
     "name": "stdout",
     "output_type": "stream",
     "text": [
      "Categories of wins in a row per visit:\n",
      "                       #2ws    #3ws   #4ws\n",
      "clasification visit                       \n",
      "top_1         1      2513.0   457.0  127.0\n",
      "              2      2968.0   508.0  135.0\n",
      "              3      2065.0   416.0  137.0\n",
      "              4      1357.0   236.0   75.0\n",
      "              5       491.0    79.0   28.0\n",
      "              6       292.0    69.0   37.0\n",
      "              7       125.0    24.0    9.0\n",
      "              8        38.0    12.0    6.0\n",
      "              9        31.0    15.0    8.0\n",
      "              10       54.0    13.0   11.0\n",
      "              11       35.0     8.0    5.0\n",
      "              12       13.0     6.0    2.0\n",
      "              13       39.0    11.0    3.0\n",
      "              14       19.0     3.0    1.0\n",
      "              15        6.0     0.0    0.0\n",
      "              16        5.0     0.0    1.0\n",
      "              17        5.0     1.0    0.0\n",
      "              18        5.0     1.0    0.0\n",
      "top_10        1      5091.0   872.0  261.0\n",
      "              2      3590.0   658.0  191.0\n",
      "              3      1405.0   250.0   72.0\n",
      "              4       405.0    81.0   26.0\n",
      "              5       113.0    18.0    4.0\n",
      "              6        39.0     5.0    0.0\n",
      "              7         2.0     0.0    0.0\n",
      "              8         0.0     0.0    0.0\n",
      "              9         0.0     0.0    0.0\n",
      "              10        1.0     0.0    1.0\n",
      "              11        4.0     0.0    0.0\n",
      "top_5         1      5609.0  1042.0  321.0\n",
      "              2      5326.0   978.0  274.0\n",
      "              3      2793.0   485.0  153.0\n",
      "              4      1293.0   233.0   59.0\n",
      "              5       405.0    72.0   13.0\n",
      "              6       126.0    16.0    7.0\n",
      "              7        71.0    13.0    1.0\n",
      "              8        24.0     5.0    1.0\n",
      "              9        27.0     3.0    0.0\n",
      "              10        2.0     0.0    0.0\n",
      "              11        4.0     0.0    0.0\n",
      "              12        1.0     0.0    0.0\n",
      "--------------------------------------------------\n"
     ]
    }
   ],
   "source": [
    "# Print the numner of total number of 2 wins, 3 wins, 4 wins in a row in each dataset\n",
    "print('Categories of wins in a row per visit:')\n",
    "print(df.groupby(['clasification', 'visit'])[['#2ws', '#3ws', '#4ws']].sum())\n",
    "print('--------------------------------------------------')\n"
   ]
  },
  {
   "attachments": {},
   "cell_type": "markdown",
   "metadata": {},
   "source": [
    "### Gender Differences"
   ]
  },
  {
   "cell_type": "code",
   "execution_count": 10,
   "metadata": {},
   "outputs": [
    {
     "name": "stdout",
     "output_type": "stream",
     "text": [
      "Number of unique players in dtf:\n",
      "clasification  gender\n",
      "top_1          F          52\n",
      "               M          62\n",
      "top_10         F         269\n",
      "               M         291\n",
      "top_5          F         211\n",
      "               M         237\n",
      "Name: playerkey, dtype: int64\n",
      "--------------------------------------------------\n"
     ]
    }
   ],
   "source": [
    "# Gender differences\n",
    "print(\"Number of unique players in dtf:\")\n",
    "print(df.groupby(['clasification', 'gender'])['playerkey'].nunique())\n",
    "print('--------------------------------------------------')"
   ]
  },
  {
   "attachments": {},
   "cell_type": "markdown",
   "metadata": {},
   "source": [
    "### Age Differences"
   ]
  },
  {
   "cell_type": "code",
   "execution_count": 11,
   "metadata": {},
   "outputs": [],
   "source": [
    "# Create age ranges \n",
    "bins = [0, 24, 40, 55, 75, 150]\n",
    "labels = ['18-24', '25-40', '41-55', '56-75', '76+']\n",
    "generations = ['Gen Z', 'Millenials', 'Gen X', 'Baby Boomers', 'Silent']\n",
    "\n",
    "# Use cut function to create age ranges for dtf and top 20%\n",
    "df['age_range'] = pd.cut(df['age'], bins=bins, labels=labels, right=False)\n",
    "df['age_gen'] = pd.cut(df['age'], bins=bins, labels=generations, right=False)\n",
    "\n",
    "df_s['age_range'] = pd.cut(df_s['age'], bins=bins, labels=labels, right=False)\n",
    "df_s['age_gen'] = pd.cut(df_s['age'], bins=bins, labels=generations, right=False)"
   ]
  },
  {
   "cell_type": "code",
   "execution_count": 12,
   "metadata": {},
   "outputs": [
    {
     "name": "stdout",
     "output_type": "stream",
     "text": [
      "Number of unique players in dtf:\n",
      "clasification  age_range\n",
      "top_1          18-24          0\n",
      "               25-40         10\n",
      "               41-55         41\n",
      "               56-75         57\n",
      "               76+            6\n",
      "top_10         18-24          3\n",
      "               25-40        103\n",
      "               41-55        206\n",
      "               56-75        228\n",
      "               76+           20\n",
      "top_5          18-24          0\n",
      "               25-40         52\n",
      "               41-55        170\n",
      "               56-75        207\n",
      "               76+           19\n",
      "Name: playerkey, dtype: int64\n",
      "--------------------------------------------------\n"
     ]
    }
   ],
   "source": [
    "# Age range differences\n",
    "print(\"Number of unique players in dtf:\")\n",
    "print(df.groupby(['clasification', 'age_range'])['playerkey'].nunique())\n",
    "print('--------------------------------------------------')\n"
   ]
  },
  {
   "cell_type": "code",
   "execution_count": 13,
   "metadata": {},
   "outputs": [
    {
     "name": "stdout",
     "output_type": "stream",
     "text": [
      "Number of unique players in dtf:\n",
      "clasification  age_gen     \n",
      "top_1          Gen Z             0\n",
      "               Millenials       10\n",
      "               Gen X            41\n",
      "               Baby Boomers     57\n",
      "               Silent            6\n",
      "top_10         Gen Z             3\n",
      "               Millenials      103\n",
      "               Gen X           206\n",
      "               Baby Boomers    228\n",
      "               Silent           20\n",
      "top_5          Gen Z             0\n",
      "               Millenials       52\n",
      "               Gen X           170\n",
      "               Baby Boomers    207\n",
      "               Silent           19\n",
      "Name: playerkey, dtype: int64\n"
     ]
    }
   ],
   "source": [
    "# Age range differences\n",
    "print(\"Number of unique players in dtf:\")\n",
    "print(df_s.groupby(['clasification', 'age_gen'])['playerkey'].nunique())"
   ]
  },
  {
   "cell_type": "code",
   "execution_count": 14,
   "metadata": {},
   "outputs": [
    {
     "name": "stdout",
     "output_type": "stream",
     "text": [
      "Number of unique players in dtf:\n",
      "clasification  age_gen     \n",
      "top_1          Gen Z             0\n",
      "               Millenials       10\n",
      "               Gen X            41\n",
      "               Baby Boomers     57\n",
      "               Silent            6\n",
      "top_10         Gen Z             3\n",
      "               Millenials      103\n",
      "               Gen X           206\n",
      "               Baby Boomers    228\n",
      "               Silent           20\n",
      "top_5          Gen Z             0\n",
      "               Millenials       52\n",
      "               Gen X           170\n",
      "               Baby Boomers    207\n",
      "               Silent           19\n",
      "Name: playerkey, dtype: int64\n",
      "--------------------------------------------------\n"
     ]
    }
   ],
   "source": [
    "# Age generation differences\n",
    "print(\"Number of unique players in dtf:\")\n",
    "print(df.groupby(['clasification', 'age_gen'])['playerkey'].nunique())\n",
    "print('--------------------------------------------------')"
   ]
  },
  {
   "cell_type": "code",
   "execution_count": 15,
   "metadata": {},
   "outputs": [
    {
     "name": "stdout",
     "output_type": "stream",
     "text": [
      "Male age differences in dtf:\n",
      "age_range\n",
      "18-24      1\n",
      "25-40     99\n",
      "41-55    233\n",
      "56-75    239\n",
      "76+       18\n",
      "Name: playerkey, dtype: int64\n",
      "--------------------------------------------------\n",
      "Female age differences in dtf:\n",
      "age_range\n",
      "18-24      2\n",
      "25-40     66\n",
      "41-55    184\n",
      "56-75    253\n",
      "76+       27\n",
      "Name: playerkey, dtype: int64\n"
     ]
    },
    {
     "data": {
      "image/png": "[encoded data removed]",
      "text/plain": [
       "<Figure size 1000x500 with 2 Axes>"
      ]
     },
     "metadata": {},
     "output_type": "display_data"
    }
   ],
   "source": [
    "# Age range of male gamblers in dtf\n",
    "print(\"Male age differences in dtf:\")\n",
    "print(df[df['gender'] == 'M'].groupby('age_range')['playerkey'].nunique())\n",
    "print('--------------------------------------------------')\n",
    "# Age range of Female gamblers in dtf\n",
    "print('Female age differences in dtf:')\n",
    "print(df[df['gender'] == 'F'].groupby('age_range')['playerkey'].nunique())\n",
    "\n",
    "pf.plot_gender_diff(df, 'dtf', figsize=(10, 5))\n"
   ]
  },
  {
   "attachments": {},
   "cell_type": "markdown",
   "metadata": {},
   "source": [
    "### Increse and Decrease of SlotDenomination and Bet"
   ]
  },
  {
   "cell_type": "code",
   "execution_count": 16,
   "metadata": {},
   "outputs": [
    {
     "name": "stdout",
     "output_type": "stream",
     "text": [
      "Count of players who increase_slotdeno : 931\n",
      "Count of times each player increase_slotdeno : {156: 24, 224: 7, 336: 9, 865: 1, 1069: 3, 1166: 73, 1402: 3, 1438: 1849, 2073: 7, 3840: 3, 4483: 37, 5147: 4, 5179: 3, 5673: 2, 6284: 12, 6695: 4, 8978: 10, 9191: 1, 9197: 7, 9669: 1, 12857: 4, 15956: 43, 19568: 3, 21209: 34, 21722: 1, 23329: 17, 24787: 1, 26097: 6, 30426: 13, 30688: 5, 30903: 3, 30970: 14, 31137: 130, 31226: 7, 31456: 37, 31606: 263, 31688: 6, 31698: 2, 31739: 4, 31959: 1, 31977: 4, 32192: 396, 32280: 1, 33143: 2, 33286: 40, 33351: 3, 33364: 1, 33458: 4, 33920: 366, 34209: 133, 34251: 1, 34252: 1, 34393: 1, 34401: 1, 34677: 2, 34837: 6, 34962: 1, 35252: 2, 35414: 13, 35559: 569, 35649: 1, 35670: 31, 35673: 3, 35677: 6, 35865: 6, 35990: 2, 36119: 214, 36256: 198, 36358: 274, 36499: 5, 36627: 5, 36674: 26, 36691: 6, 36702: 11, 36861: 2, 37008: 48, 37028: 6, 37135: 26, 37509: 32, 37798: 7, 38466: 9, 38683: 2, 38956: 3, 39255: 11, 39286: 381, 39295: 1, 39335: 8, 39419: 6, 39438: 12, 39463: 11, 39619: 9, 39754: 11, 39821: 13, 39848: 28, 39897: 31, 39937: 12, 39981: 2, 40104: 5, 40323: 11, 40344: 17, 40514: 11, 40693: 31, 40718: 8, 40976: 3, 40977: 1, 41319: 7, 41839: 140, 48: 1, 95: 2, 113: 4, 247: 7, 332: 5, 646: 5, 719: 174, 841: 4, 1029: 3, 1136: 5, 1147: 2, 1515: 5, 1715: 12, 2005: 89, 2097: 6, 2332: 2, 2569: 1, 2710: 3, 2736: 7, 3010: 7, 3120: 31, 3127: 15, 3265: 5, 3306: 12, 3677: 23, 3708: 2, 3783: 3, 4269: 1, 4699: 4, 5029: 2, 6894: 17, 6907: 1, 7257: 3, 7390: 1, 8370: 12, 8412: 9, 8481: 26, 8568: 5, 8749: 15, 9031: 3, 9202: 4, 9357: 4, 9410: 1, 9495: 5, 9823: 2, 9946: 2, 9976: 1, 9989: 11, 12148: 3, 12413: 1, 12419: 5, 12692: 1, 12938: 3, 12997: 4, 13021: 38, 13463: 17, 13555: 5, 13716: 47, 13746: 37, 13765: 222, 14041: 7, 15786: 3, 16672: 2, 17380: 2, 17637: 2, 18546: 8, 20134: 346, 20390: 3, 22267: 1, 23225: 6, 23808: 7, 24230: 125, 24572: 5, 24735: 2, 25999: 1, 27413: 9, 28913: 8, 29236: 11, 29587: 2, 29607: 3, 29936: 5, 29942: 7, 29948: 5, 30265: 4, 30308: 15, 30356: 7, 30487: 19, 30502: 14, 30521: 4, 30525: 5, 30563: 3, 30564: 4, 30575: 1, 30581: 2, 30616: 2, 30633: 4, 30805: 22, 30817: 3, 30830: 5, 30878: 6, 30898: 6, 30937: 6, 31032: 1, 31222: 6, 31225: 6, 31258: 2, 31289: 8, 31291: 11, 31322: 3, 31367: 7, 31440: 2, 31449: 20, 31454: 2, 31482: 1, 31523: 4, 31535: 20, 31536: 44, 31537: 432, 31580: 13, 31647: 24, 31685: 4, 31726: 5, 31819: 1, 31981: 2, 32009: 1, 32043: 6, 32052: 11, 32072: 3, 32182: 3, 32221: 2, 32262: 1, 32278: 2, 32283: 1, 32286: 3, 32311: 8, 32343: 4, 32366: 3, 32377: 1, 32382: 1, 32385: 1, 32469: 5, 32499: 15, 32561: 1, 32647: 2, 32656: 2, 32764: 3, 32887: 4, 32918: 1, 33031: 7, 33034: 6, 33052: 8, 33095: 3, 33098: 1, 33115: 8, 33201: 2, 33213: 10, 33360: 1, 33372: 2, 33386: 3, 33389: 2, 33647: 7, 33714: 1, 33732: 2, 33739: 13, 33751: 3, 33759: 57, 33788: 7, 33834: 3, 33838: 1, 33928: 3, 34016: 5, 34020: 15, 34024: 3, 34025: 24, 34047: 8, 34052: 9, 34061: 6, 34104: 1, 34133: 2, 34158: 4, 34165: 3, 34184: 3, 34200: 2, 34208: 5, 34378: 6, 34399: 2, 34415: 178, 34419: 8, 34461: 2, 34501: 1, 34549: 4, 34551: 1, 34599: 3, 34614: 6, 34735: 26, 34740: 3, 34751: 5, 34754: 1, 34911: 8, 35028: 9, 35051: 1, 35085: 175, 35108: 11, 35110: 14, 35128: 135, 35192: 5, 35211: 11, 35265: 1, 35277: 4, 35279: 5, 35313: 4, 35390: 11, 35407: 14, 35408: 4, 35478: 10, 35518: 1, 35595: 2, 35596: 1, 35612: 3, 35615: 3, 35642: 3, 35646: 2, 35683: 2, 35684: 5, 35705: 1, 35715: 5, 35744: 6, 35794: 9, 35814: 1, 35966: 1, 35968: 2, 36066: 6, 36095: 4, 36096: 5, 36167: 5, 36232: 16, 36279: 2, 36317: 3, 36357: 5, 36446: 5, 36462: 3, 36473: 7, 36479: 14, 36543: 6, 36577: 2, 36608: 1, 36619: 1, 36624: 6, 36658: 41, 36677: 2, 36693: 2, 36748: 4, 36778: 1, 36905: 3, 37006: 1, 37039: 15, 37052: 4, 37070: 4, 37095: 1, 37132: 2, 37195: 5, 37209: 1, 37370: 6, 37376: 5, 37404: 15, 37478: 386, 37488: 5, 37510: 3, 37513: 23, 37531: 1, 37549: 3, 37567: 4, 37572: 8, 37720: 4, 37792: 1, 37800: 1, 37864: 7, 37875: 3, 37953: 4, 38136: 2, 38187: 8, 38229: 2, 38253: 2, 38255: 4, 38267: 2, 38281: 2, 38340: 2, 38365: 1, 38391: 28, 38418: 23, 38524: 9, 38533: 8, 38551: 3, 38603: 4, 38669: 13, 38830: 5, 38874: 1, 38935: 10, 38991: 2, 39060: 8, 39085: 6, 39086: 13, 39093: 3, 39094: 1, 39177: 1, 39214: 4, 39267: 3, 39273: 6, 39280: 4, 39288: 2, 39324: 6, 39344: 20, 39352: 4, 39367: 2, 39415: 2, 39425: 4, 39441: 7, 39496: 2, 39620: 3, 39622: 2, 39623: 8, 39644: 4, 39676: 3, 39711: 9, 39713: 1, 39721: 2, 39743: 3, 39772: 4, 39779: 6, 39824: 7, 39843: 1, 39880: 5, 39888: 4, 39924: 6, 39925: 4, 39962: 4, 40053: 3, 40066: 2, 40078: 4, 40103: 2, 40163: 10, 40165: 12, 40187: 2, 40196: 1, 40294: 1, 40305: 1, 40376: 6, 40418: 5, 40430: 12, 40452: 9, 40516: 5, 40557: 73, 40628: 7, 40631: 5, 40664: 37, 40688: 6, 40778: 406, 40928: 2, 40992: 6, 41011: 2, 41038: 20, 41148: 12, 41193: 80, 41258: 5, 41291: 5, 41300: 7, 41308: 1, 41346: 1, 41365: 3, 41449: 9, 41472: 7, 41489: 3, 41518: 2, 41625: 1, 41643: 3, 41690: 2, 41713: 5, 41748: 23, 41796: 1, 41848: 1, 41893: 10, 42067: 2, 42212: 111, 42254: 4, 94: 1, 611: 3, 1213: 3, 1233: 5, 1699: 1, 2067: 4, 2214: 6, 2431: 4, 2459: 8, 2595: 4, 2858: 10, 2993: 37, 3756: 1, 3933: 4, 4270: 1, 4333: 6, 4688: 1, 4874: 2, 5482: 65, 5525: 3, 5745: 2, 5789: 5, 5932: 1, 6138: 1, 6142: 6, 6488: 4, 6502: 3, 6556: 5, 6605: 7, 7119: 1, 7400: 5, 7739: 5, 7746: 71, 8003: 11, 8005: 4, 8383: 23, 8553: 6, 8793: 1, 8827: 2, 9048: 2, 9071: 6, 9205: 5, 9287: 1, 9660: 2, 9755: 1, 9788: 2, 9968: 3, 10092: 1, 10154: 1, 10897: 3, 11643: 18, 12052: 1, 12356: 3, 13204: 4, 13396: 1, 13704: 9, 13918: 5, 14693: 10, 15107: 2, 16126: 1, 16299: 1, 17021: 2, 17072: 1, 17655: 2, 18251: 1, 18472: 1, 18827: 1, 19523: 1, 19741: 1, 19919: 2, 20072: 62, 20155: 4, 21894: 1, 22350: 2, 22968: 1, 23358: 3, 23416: 3, 24373: 3, 24619: 4, 24730: 1, 25508: 4, 25523: 1, 27206: 1, 28663: 6, 29218: 6, 29219: 1, 29303: 7, 29336: 5, 29337: 3, 30011: 1, 30164: 1, 30215: 2, 30232: 71, 30240: 1, 30259: 1, 30304: 2, 30352: 4, 30357: 5, 30365: 3, 30400: 2, 30428: 1, 30438: 1, 30496: 2, 30509: 2, 30511: 2, 30542: 5, 30635: 3, 30653: 14, 30679: 1, 30699: 3, 30831: 4, 30832: 2, 30855: 4, 30862: 5, 30887: 4, 30959: 2, 30968: 4, 31158: 4, 31163: 1, 31205: 1, 31210: 5, 31316: 7, 31356: 1, 31434: 1, 31439: 2, 31465: 1, 31594: 6, 31627: 9, 31639: 4, 31749: 1, 31775: 1, 31818: 1, 31857: 1, 31871: 2, 31891: 5, 31927: 10, 31973: 1, 32003: 1, 32006: 3, 32010: 7, 32023: 5, 32040: 4, 32130: 7, 32137: 2, 32162: 5, 32246: 4, 32274: 1, 32275: 166, 32299: 1, 32435: 8, 32436: 5, 32439: 3, 32479: 8, 32490: 1, 32566: 149, 32588: 3, 32589: 8, 32591: 4, 32636: 2, 32687: 3, 32703: 1, 32746: 9, 32767: 9, 32835: 1, 32863: 2, 32938: 3, 32958: 6, 33027: 1, 33082: 7, 33097: 2, 33114: 7, 33152: 1, 33153: 1, 33184: 14, 33242: 4, 33252: 1, 33265: 15, 33278: 3, 33401: 1, 33426: 14, 33432: 5, 33433: 3, 33500: 1, 33555: 17, 33614: 2, 33631: 3, 33694: 3, 33742: 1, 33750: 2, 33764: 4, 33785: 4, 33805: 1, 33839: 1, 33845: 3, 33855: 1, 34023: 2, 34033: 2, 34042: 1, 34062: 1, 34109: 6, 34136: 4, 34181: 4, 34189: 6, 34227: 2, 34234: 2, 34273: 3, 34281: 1, 34282: 1, 34287: 1, 34351: 2, 34369: 10, 34383: 3, 34417: 1, 34450: 6, 34478: 1, 34488: 2, 34520: 5, 34540: 8, 34553: 2, 34641: 1, 34706: 2, 34833: 1, 34858: 5, 34861: 3, 34868: 3, 34900: 3, 34908: 5, 34923: 8, 34935: 2, 34960: 1, 34967: 4, 35059: 1, 35091: 1, 35151: 2, 35182: 53, 35241: 1, 35360: 6, 35367: 2, 35412: 4, 35415: 11, 35459: 1, 35491: 1, 35515: 2, 35532: 20, 35569: 6, 35570: 1, 35590: 1, 35716: 1, 35858: 4, 35880: 1, 35895: 1, 36077: 2, 36117: 1, 36200: 1, 36234: 3, 36239: 16, 36263: 1, 36273: 2, 36274: 2, 36286: 4, 36349: 2, 36352: 4, 36364: 196, 36437: 2, 36452: 1, 36461: 1, 36482: 6, 36490: 177, 36526: 6, 36530: 3, 36560: 2, 36565: 1, 36617: 3, 36626: 5, 36654: 2, 36670: 1, 36692: 1, 36715: 2, 36719: 2, 36744: 3, 36779: 3, 36785: 1, 36808: 4, 36809: 1, 36816: 3, 36823: 5, 36836: 2, 36903: 3, 36961: 3, 36993: 4, 36994: 4, 37007: 1, 37009: 14, 37021: 2, 37054: 7, 37061: 10, 37071: 2, 37232: 5, 37257: 1, 37332: 2, 37366: 1, 37371: 3, 37401: 1, 37418: 1, 37433: 31, 37442: 6, 37461: 3, 37508: 1, 37559: 19, 37562: 4, 37619: 2, 37654: 5, 37656: 6, 37690: 3, 37763: 2, 37767: 2, 37803: 2, 37814: 1, 37933: 3, 37989: 2, 37997: 1, 38079: 4, 38134: 1, 38200: 1, 38221: 5, 38274: 3, 38303: 2, 38335: 6, 38369: 11, 38383: 68, 38409: 1, 38574: 2, 38608: 1, 38637: 2, 38702: 3, 38723: 4, 38735: 155, 38740: 2, 38747: 8, 38767: 2, 38789: 2, 38831: 1, 38889: 3, 38936: 3, 38952: 1, 38965: 7, 38972: 3, 39005: 2, 39008: 2, 39027: 7, 39030: 1, 39106: 2, 39108: 4, 39155: 7, 39160: 3, 39184: 2, 39311: 21, 39332: 3, 39391: 2, 39401: 7, 39408: 1, 39476: 1, 39481: 2, 39517: 10, 39600: 3, 39634: 4, 39656: 8, 39662: 6, 39666: 3, 39677: 2, 39683: 2, 39703: 1, 39704: 11, 39712: 9, 39722: 2, 39745: 3, 39783: 4, 39784: 1, 39839: 2, 39893: 3, 39933: 6, 39961: 3, 39986: 21, 39996: 10, 39999: 54, 40006: 4, 40012: 25, 40015: 3, 40017: 9, 40035: 5, 40037: 40, 40077: 3, 40109: 2, 40132: 1, 40134: 8, 40195: 4, 40198: 8, 40277: 1, 40307: 1, 40311: 2, 40326: 2, 40351: 8, 40356: 7, 40381: 1, 40385: 2, 40399: 1, 40512: 4, 40572: 1, 40655: 3, 40892: 8, 40907: 204, 40951: 8, 40970: 8, 41026: 8, 41034: 2, 41102: 1, 41127: 3, 41164: 1, 41181: 1, 41226: 12, 41242: 4, 41248: 3, 41332: 2, 41354: 5, 41360: 3, 41374: 2, 41393: 2, 41399: 2, 41466: 1, 41475: 2, 41716: 3, 41726: 4, 41773: 3, 41821: 65, 41835: 2, 41875: 1, 41908: 4, 41974: 1, 42040: 1, 42075: 1}\n",
      "Player who changes the most: 1438\n",
      "------------------------------------------------------------------------------------------------------------------\n",
      "Count of players who decrease_slotdeno : 931\n",
      "Count of times each player decrease_slotdeno : {156: 16, 224: 7, 336: 8, 865: 2, 1069: 3, 1166: 75, 1402: 3, 1438: 1850, 2073: 7, 3840: 2, 4483: 27, 4912: 1, 5147: 4, 5179: 4, 5673: 4, 6284: 12, 6695: 4, 8978: 9, 9191: 1, 9197: 8, 9669: 1, 12857: 5, 15956: 41, 19568: 3, 21209: 35, 21722: 1, 23329: 12, 24787: 1, 26097: 5, 30426: 10, 30688: 7, 30903: 3, 30970: 12, 31137: 130, 31226: 6, 31456: 38, 31606: 263, 31688: 5, 31698: 2, 31739: 6, 31959: 1, 31977: 4, 32192: 402, 32280: 1, 33143: 3, 33286: 40, 33351: 3, 33364: 1, 33458: 6, 33920: 366, 34209: 133, 34251: 1, 34252: 1, 34393: 1, 34401: 2, 34677: 2, 34837: 5, 34962: 1, 35252: 2, 35414: 12, 35559: 566, 35649: 1, 35670: 31, 35673: 3, 35677: 4, 35865: 4, 35990: 1, 36119: 214, 36256: 198, 36358: 274, 36499: 4, 36627: 5, 36674: 28, 36691: 6, 36702: 10, 36861: 2, 37008: 23, 37028: 7, 37135: 25, 37509: 32, 37798: 6, 38466: 8, 38683: 1, 38956: 4, 39255: 11, 39286: 379, 39295: 1, 39335: 6, 39419: 7, 39438: 14, 39463: 11, 39619: 7, 39754: 12, 39821: 12, 39848: 37, 39897: 28, 39937: 14, 39981: 3, 40104: 4, 40323: 11, 40344: 19, 40514: 11, 40693: 31, 40718: 7, 40976: 3, 40977: 1, 41319: 5, 41839: 140, 48: 1, 95: 2, 113: 3, 247: 6, 332: 4, 646: 2, 719: 173, 841: 5, 1029: 3, 1136: 6, 1147: 2, 1515: 5, 1715: 12, 2005: 91, 2097: 6, 2332: 2, 2569: 1, 2710: 2, 2736: 7, 3010: 5, 3120: 33, 3127: 14, 3265: 5, 3306: 12, 3677: 20, 3708: 2, 3783: 4, 4269: 1, 4699: 4, 5029: 1, 6894: 14, 6907: 2, 7257: 2, 8370: 13, 8412: 8, 8481: 18, 8568: 4, 8749: 15, 9031: 2, 9202: 2, 9357: 5, 9410: 1, 9495: 4, 9823: 4, 9946: 1, 9976: 2, 9989: 10, 12148: 4, 12419: 5, 12692: 1, 12938: 4, 12997: 5, 13021: 36, 13463: 15, 13555: 3, 13716: 46, 13746: 36, 13765: 220, 14041: 5, 15786: 2, 16672: 2, 17380: 2, 17637: 2, 18546: 10, 20134: 347, 20390: 3, 22267: 2, 23225: 5, 23808: 7, 24230: 125, 24572: 6, 24735: 2, 25999: 1, 27413: 9, 28704: 1, 28913: 6, 29236: 12, 29587: 2, 29607: 2, 29936: 5, 29942: 8, 29948: 4, 30265: 3, 30308: 16, 30356: 8, 30487: 20, 30502: 11, 30521: 3, 30525: 5, 30563: 2, 30564: 4, 30581: 2, 30616: 2, 30633: 4, 30805: 22, 30817: 3, 30830: 5, 30878: 7, 30898: 6, 30937: 5, 31032: 2, 31222: 7, 31225: 5, 31258: 2, 31289: 8, 31291: 10, 31322: 3, 31367: 6, 31449: 23, 31454: 2, 31482: 1, 31523: 3, 31535: 25, 31536: 44, 31537: 433, 31580: 13, 31647: 22, 31685: 3, 31726: 4, 31819: 1, 31956: 1, 31981: 2, 32009: 1, 32043: 5, 32052: 10, 32072: 2, 32182: 3, 32221: 2, 32259: 1, 32262: 1, 32278: 2, 32286: 4, 32311: 5, 32343: 4, 32366: 2, 32377: 1, 32382: 1, 32385: 1, 32469: 5, 32499: 12, 32561: 1, 32587: 1, 32647: 2, 32656: 1, 32764: 3, 32887: 4, 32918: 2, 33031: 5, 33034: 8, 33052: 7, 33095: 3, 33098: 1, 33115: 10, 33201: 2, 33213: 12, 33360: 1, 33372: 2, 33386: 2, 33389: 2, 33647: 9, 33714: 2, 33732: 2, 33739: 15, 33751: 3, 33759: 59, 33788: 5, 33834: 4, 33838: 1, 33928: 3, 34016: 4, 34020: 19, 34024: 3, 34025: 19, 34047: 10, 34052: 10, 34061: 4, 34104: 1, 34133: 2, 34158: 6, 34165: 2, 34184: 3, 34200: 1, 34208: 4, 34378: 5, 34399: 3, 34415: 179, 34419: 9, 34461: 4, 34549: 5, 34551: 2, 34599: 1, 34614: 6, 34735: 26, 34740: 4, 34751: 2, 34911: 6, 35028: 8, 35051: 3, 35085: 177, 35108: 8, 35110: 12, 35128: 136, 35192: 5, 35211: 11, 35265: 1, 35277: 3, 35279: 4, 35313: 6, 35327: 1, 35390: 12, 35407: 13, 35408: 3, 35478: 7, 35518: 2, 35595: 1, 35596: 2, 35612: 2, 35615: 3, 35642: 2, 35646: 1, 35683: 3, 35684: 4, 35705: 2, 35715: 4, 35744: 6, 35794: 10, 35814: 2, 35966: 2, 35968: 1, 36066: 5, 36095: 3, 36096: 5, 36167: 6, 36232: 15, 36279: 3, 36317: 4, 36357: 5, 36446: 4, 36462: 2, 36473: 5, 36479: 13, 36543: 10, 36577: 3, 36619: 1, 36624: 5, 36658: 39, 36677: 2, 36693: 2, 36748: 5, 36778: 1, 36905: 2, 37006: 1, 37039: 14, 37047: 1, 37052: 3, 37070: 3, 37095: 1, 37132: 2, 37195: 4, 37209: 1, 37370: 9, 37376: 4, 37404: 13, 37478: 385, 37488: 5, 37510: 4, 37513: 21, 37531: 2, 37549: 3, 37567: 5, 37572: 5, 37720: 4, 37800: 1, 37864: 7, 37875: 3, 37953: 6, 38136: 1, 38187: 4, 38229: 2, 38253: 3, 38255: 3, 38267: 2, 38281: 1, 38340: 1, 38365: 1, 38391: 28, 38418: 20, 38524: 7, 38533: 9, 38551: 2, 38603: 5, 38669: 14, 38830: 7, 38874: 1, 38935: 8, 38991: 3, 39060: 9, 39085: 5, 39086: 10, 39093: 4, 39094: 2, 39177: 2, 39214: 2, 39267: 3, 39273: 6, 39280: 4, 39288: 2, 39324: 6, 39344: 21, 39352: 3, 39367: 5, 39415: 2, 39425: 5, 39441: 6, 39496: 1, 39618: 1, 39620: 3, 39622: 3, 39623: 7, 39644: 4, 39676: 5, 39711: 9, 39713: 1, 39721: 2, 39743: 2, 39772: 3, 39779: 6, 39824: 10, 39843: 2, 39880: 5, 39888: 4, 39924: 5, 39925: 2, 39962: 5, 40053: 2, 40066: 2, 40078: 2, 40103: 2, 40163: 8, 40165: 12, 40187: 2, 40196: 1, 40294: 1, 40305: 2, 40376: 6, 40418: 5, 40430: 15, 40452: 12, 40516: 6, 40557: 73, 40628: 6, 40631: 6, 40664: 37, 40688: 6, 40778: 408, 40928: 1, 40992: 6, 41011: 1, 41038: 18, 41148: 13, 41193: 79, 41258: 5, 41291: 6, 41300: 7, 41308: 1, 41346: 1, 41365: 3, 41449: 9, 41472: 6, 41489: 5, 41518: 2, 41625: 3, 41643: 4, 41690: 2, 41713: 7, 41748: 22, 41796: 1, 41848: 1, 41893: 13, 42067: 6, 42212: 112, 42254: 3, 94: 1, 611: 4, 1213: 4, 1233: 5, 1699: 1, 2067: 6, 2214: 6, 2431: 5, 2459: 8, 2595: 3, 2858: 11, 2993: 38, 3756: 1, 3933: 4, 4270: 2, 4333: 7, 4688: 2, 5482: 65, 5525: 4, 5745: 2, 5789: 3, 5932: 1, 6138: 1, 6142: 6, 6488: 5, 6502: 4, 6556: 3, 6605: 9, 7119: 1, 7400: 3, 7739: 7, 7746: 67, 8003: 9, 8005: 5, 8383: 23, 8553: 5, 8793: 2, 8827: 2, 9048: 1, 9071: 7, 9205: 3, 9660: 2, 9755: 1, 9788: 1, 9968: 6, 10092: 1, 10154: 2, 10897: 1, 11643: 20, 12052: 1, 12356: 3, 13204: 4, 13396: 1, 13704: 14, 13918: 4, 14693: 9, 15107: 2, 16126: 1, 16299: 1, 17021: 2, 17072: 1, 17655: 2, 18251: 1, 18472: 4, 19741: 1, 19919: 1, 20072: 63, 20155: 6, 21894: 2, 22350: 2, 22968: 1, 23358: 4, 23416: 2, 24373: 3, 24619: 5, 24730: 1, 25508: 3, 25523: 2, 26433: 1, 27206: 2, 28663: 6, 29218: 7, 29219: 1, 29303: 5, 29336: 6, 29337: 3, 29380: 1, 30011: 1, 30164: 3, 30215: 1, 30232: 71, 30240: 1, 30259: 3, 30304: 3, 30352: 5, 30357: 5, 30365: 3, 30400: 3, 30428: 1, 30438: 1, 30496: 1, 30509: 2, 30511: 2, 30542: 6, 30635: 3, 30653: 10, 30679: 1, 30699: 4, 30831: 4, 30832: 3, 30855: 4, 30862: 6, 30887: 4, 30959: 2, 30968: 3, 31108: 1, 31158: 5, 31163: 2, 31205: 2, 31210: 7, 31316: 9, 31356: 1, 31439: 2, 31465: 2, 31483: 2, 31594: 6, 31627: 4, 31639: 6, 31749: 1, 31775: 1, 31818: 1, 31857: 2, 31871: 3, 31891: 6, 31927: 11, 31973: 1, 32003: 1, 32006: 3, 32010: 7, 32023: 7, 32040: 3, 32064: 2, 32130: 8, 32137: 2, 32162: 5, 32246: 4, 32249: 1, 32274: 1, 32275: 167, 32299: 1, 32435: 9, 32436: 6, 32439: 5, 32479: 6, 32490: 1, 32566: 149, 32588: 2, 32589: 7, 32591: 4, 32636: 2, 32687: 2, 32746: 9, 32767: 15, 32835: 1, 32863: 2, 32938: 3, 32958: 6, 33027: 1, 33082: 5, 33097: 1, 33114: 8, 33152: 2, 33153: 2, 33184: 13, 33242: 2, 33265: 10, 33278: 3, 33339: 2, 33401: 1, 33426: 13, 33432: 5, 33433: 2, 33500: 1, 33555: 17, 33614: 2, 33631: 1, 33660: 1, 33694: 3, 33742: 1, 33750: 1, 33764: 3, 33785: 3, 33805: 1, 33839: 1, 33845: 3, 33855: 1, 34023: 3, 34033: 1, 34062: 1, 34109: 7, 34136: 3, 34181: 4, 34189: 6, 34227: 2, 34234: 3, 34273: 3, 34281: 1, 34282: 1, 34287: 1, 34351: 3, 34369: 9, 34383: 2, 34450: 4, 34478: 1, 34488: 1, 34520: 3, 34540: 9, 34553: 5, 34641: 1, 34706: 1, 34833: 1, 34858: 4, 34861: 3, 34868: 2, 34900: 2, 34908: 5, 34923: 7, 34935: 2, 34943: 1, 34960: 2, 34967: 3, 35059: 1, 35091: 1, 35151: 2, 35182: 52, 35241: 2, 35242: 1, 35360: 5, 35367: 3, 35412: 5, 35415: 8, 35459: 1, 35491: 2, 35515: 2, 35532: 19, 35569: 3, 35570: 1, 35590: 1, 35716: 1, 35858: 8, 35880: 1, 35895: 1, 36077: 2, 36200: 1, 36234: 3, 36239: 16, 36263: 3, 36273: 3, 36274: 2, 36286: 4, 36349: 1, 36352: 3, 36364: 196, 36437: 2, 36482: 5, 36490: 175, 36526: 5, 36530: 4, 36560: 2, 36565: 3, 36617: 4, 36626: 5, 36654: 2, 36670: 2, 36692: 2, 36715: 2, 36719: 2, 36744: 3, 36779: 1, 36785: 1, 36808: 3, 36809: 1, 36816: 4, 36823: 6, 36836: 3, 36903: 3, 36961: 3, 36993: 5, 36994: 2, 37007: 1, 37009: 9, 37021: 3, 37054: 4, 37061: 10, 37071: 2, 37232: 4, 37257: 3, 37332: 3, 37371: 3, 37401: 2, 37433: 31, 37442: 9, 37461: 2, 37462: 1, 37508: 2, 37559: 17, 37562: 3, 37619: 2, 37654: 6, 37656: 6, 37690: 2, 37763: 2, 37767: 2, 37803: 2, 37814: 4, 37933: 4, 37938: 1, 37989: 2, 37997: 1, 38079: 3, 38134: 1, 38175: 1, 38200: 2, 38221: 2, 38274: 2, 38303: 3, 38335: 7, 38369: 10, 38383: 70, 38409: 1, 38574: 2, 38608: 2, 38637: 3, 38675: 1, 38702: 1, 38723: 3, 38735: 154, 38740: 3, 38747: 9, 38767: 1, 38789: 1, 38889: 4, 38936: 5, 38952: 2, 38965: 9, 38972: 3, 39005: 2, 39008: 1, 39027: 7, 39030: 1, 39106: 2, 39108: 4, 39155: 6, 39160: 6, 39184: 2, 39311: 16, 39332: 2, 39334: 1, 39391: 3, 39401: 5, 39408: 1, 39476: 1, 39481: 3, 39517: 9, 39600: 1, 39634: 5, 39656: 8, 39662: 6, 39666: 3, 39677: 1, 39683: 1, 39703: 1, 39704: 10, 39712: 9, 39722: 2, 39745: 2, 39783: 4, 39784: 1, 39839: 1, 39893: 3, 39933: 7, 39961: 2, 39986: 23, 39996: 9, 39999: 53, 40006: 2, 40012: 22, 40015: 2, 40017: 9, 40035: 5, 40037: 40, 40077: 1, 40109: 2, 40132: 2, 40134: 7, 40195: 6, 40198: 10, 40277: 1, 40289: 1, 40307: 1, 40311: 3, 40326: 3, 40351: 8, 40356: 7, 40381: 3, 40385: 2, 40399: 1, 40512: 5, 40572: 1, 40655: 3, 40892: 10, 40907: 210, 40951: 7, 40970: 9, 41026: 10, 41034: 4, 41102: 1, 41127: 3, 41164: 1, 41181: 1, 41226: 11, 41242: 5, 41248: 2, 41332: 2, 41354: 4, 41360: 4, 41374: 3, 41393: 3, 41399: 2, 41466: 1, 41475: 2, 41716: 4, 41726: 3, 41773: 4, 41821: 66, 41835: 2, 41875: 1, 41908: 3, 41974: 1, 42040: 2, 42075: 1}\n",
      "Player who changes the most: 1438\n",
      "------------------------------------------------------------------------------------------------------------------\n",
      "Count of players who increase_maxbet : 973\n",
      "Count of times each player increase_maxbet : {156: 7, 224: 17, 336: 106, 865: 7, 1069: 3, 1166: 30, 1438: 214, 2073: 2, 3840: 9, 4483: 7, 5147: 3, 5179: 18, 5673: 4, 6284: 14, 6695: 3, 8978: 5, 9197: 9, 9669: 2, 12857: 5, 15956: 48, 17585: 13, 19568: 31, 21209: 46, 21722: 2, 23329: 3, 30426: 9, 30688: 7, 30970: 6, 31137: 220, 31226: 4, 31456: 21, 31606: 339, 31688: 7, 31698: 1, 31739: 6, 31959: 4, 31977: 10, 32192: 605, 32280: 3, 33143: 13, 33286: 137, 33351: 2, 33364: 7, 33458: 10, 33920: 367, 34209: 246, 34251: 36, 34252: 37, 34393: 1, 34677: 1, 34837: 9, 35252: 2, 35287: 6, 35414: 7, 35559: 25, 35670: 8, 35673: 5, 35677: 48, 35728: 1, 35865: 5, 36119: 464, 36256: 584, 36358: 276, 36499: 10, 36674: 172, 36691: 10, 36702: 16, 36861: 11, 37008: 21, 37028: 4, 37509: 55, 37798: 7, 38466: 10, 38956: 5, 39255: 6, 39286: 390, 39335: 11, 39419: 16, 39438: 20, 39463: 14, 39619: 7, 39754: 21, 39821: 6, 39848: 45, 39897: 23, 39937: 48, 39981: 10, 40008: 12, 40104: 9, 40323: 8, 40344: 14, 40514: 16, 40693: 512, 40718: 40, 40977: 1, 41319: 5, 41839: 7, 48: 1, 95: 1, 113: 3, 247: 6, 332: 6, 646: 3, 719: 126, 841: 1, 1136: 3, 1147: 2, 1515: 4, 1694: 1, 1715: 24, 2005: 4, 2015: 1, 2070: 4, 2097: 14, 2332: 3, 2569: 1, 2710: 4, 2736: 13, 3010: 2, 3120: 3, 3265: 4, 3306: 18, 3677: 8, 3708: 2, 3757: 42, 3783: 11, 4269: 2, 4699: 6, 5029: 165, 5045: 2, 6894: 13, 6907: 7, 7257: 5, 7390: 4, 8370: 15, 8412: 9, 8481: 6, 8568: 23, 8749: 14, 9031: 2, 9202: 3, 9357: 36, 9495: 6, 9823: 3, 9976: 2, 9989: 23, 12148: 4, 12419: 7, 12692: 5, 12938: 12, 12997: 7, 13021: 34, 13463: 24, 13555: 2, 13746: 8, 13765: 219, 14041: 5, 15039: 9, 15267: 2, 15786: 8, 16672: 2, 17380: 11, 17637: 1, 18546: 13, 20134: 245, 20390: 2, 22267: 5, 23225: 63, 23808: 5, 24230: 135, 24572: 12, 24735: 11, 25999: 5, 27413: 11, 28704: 1, 28913: 3, 29236: 14, 29587: 5, 29607: 3, 29936: 20, 29942: 9, 30265: 4, 30308: 14, 30356: 9, 30487: 4, 30502: 14, 30521: 10, 30525: 7, 30546: 2, 30563: 5, 30564: 4, 30616: 3, 30633: 4, 30805: 22, 30817: 2, 30830: 1, 30878: 7, 30898: 23, 30937: 5, 30961: 6, 31032: 1, 31222: 11, 31225: 9, 31258: 2, 31289: 6, 31291: 10, 31322: 2, 31367: 10, 31449: 19, 31454: 5, 31473: 6, 31482: 2, 31523: 5, 31536: 1, 31537: 563, 31580: 12, 31615: 2, 31647: 14, 31685: 2, 31726: 6, 31819: 97, 31956: 1, 31981: 3, 32009: 7, 32043: 5, 32052: 12, 32072: 3, 32221: 3, 32259: 1, 32262: 3, 32278: 10, 32283: 74, 32286: 4, 32311: 7, 32343: 8, 32366: 1, 32377: 8, 32382: 1, 32385: 2, 32469: 4, 32499: 11, 32587: 1, 32647: 59, 32656: 1, 32705: 4, 32764: 5, 32887: 6, 32918: 5, 32997: 3, 33031: 7, 33034: 9, 33052: 8, 33095: 9, 33098: 1, 33099: 1, 33115: 19, 33201: 2, 33213: 4, 33360: 1, 33386: 2, 33389: 4, 33647: 19, 33714: 4, 33732: 3, 33739: 17, 33751: 6, 33759: 59, 33788: 7, 33834: 8, 33838: 7, 33928: 4, 34020: 7, 34024: 5, 34025: 12, 34047: 5, 34052: 14, 34061: 4, 34104: 2, 34133: 3, 34158: 7, 34165: 8, 34184: 1, 34200: 1, 34208: 3, 34378: 6, 34399: 4, 34415: 166, 34419: 17, 34461: 2, 34549: 12, 34551: 2, 34614: 5, 34696: 355, 34735: 37, 34740: 3, 34751: 15, 34911: 8, 34974: 3, 35028: 15, 35051: 5, 35085: 173, 35108: 23, 35110: 5, 35128: 130, 35159: 1, 35192: 10, 35211: 6, 35265: 1, 35277: 4, 35279: 5, 35294: 1, 35313: 5, 35327: 3, 35390: 10, 35407: 8, 35419: 5, 35478: 5, 35518: 2, 35561: 175, 35595: 5, 35596: 4, 35612: 3, 35615: 4, 35642: 2, 35705: 1, 35715: 9, 35744: 7, 35794: 13, 35814: 3, 35942: 5, 35966: 5, 35968: 3, 36066: 21, 36095: 1, 36148: 168, 36167: 12, 36232: 24, 36279: 1, 36317: 7, 36357: 9, 36446: 6, 36462: 2, 36473: 4, 36479: 13, 36543: 9, 36577: 14, 36619: 3, 36624: 8, 36658: 215, 36693: 2, 36748: 6, 36778: 9, 37039: 18, 37047: 1, 37052: 8, 37070: 3, 37095: 1, 37194: 2, 37195: 2, 37209: 2, 37370: 9, 37376: 10, 37404: 8, 37478: 385, 37488: 5, 37510: 12, 37513: 13, 37531: 1, 37549: 4, 37567: 6, 37572: 2, 37720: 6, 37792: 1, 37800: 4, 37864: 12, 37875: 3, 37953: 5, 38064: 2, 38136: 4, 38169: 7, 38187: 6, 38229: 2, 38253: 4, 38255: 6, 38267: 4, 38281: 1, 38340: 2, 38365: 5, 38391: 86, 38418: 3, 38524: 13, 38533: 11, 38551: 1, 38603: 6, 38669: 26, 38730: 11, 38830: 6, 38874: 1, 38935: 12, 38991: 5, 39060: 9, 39074: 1, 39085: 2, 39086: 3, 39093: 4, 39094: 2, 39177: 2, 39214: 2, 39267: 1, 39273: 4, 39280: 8, 39288: 3, 39324: 9, 39344: 16, 39352: 8, 39367: 1, 39415: 4, 39425: 7, 39441: 9, 39618: 1, 39620: 5, 39622: 3, 39623: 9, 39644: 5, 39676: 5, 39711: 15, 39713: 4, 39721: 1, 39743: 11, 39772: 99, 39779: 8, 39824: 13, 39829: 10, 39843: 6, 39880: 6, 39888: 127, 39924: 3, 39962: 5, 40053: 2, 40066: 7, 40078: 5, 40103: 3, 40163: 20, 40165: 16, 40187: 3, 40196: 6, 40216: 1, 40222: 1, 40294: 3, 40305: 2, 40376: 613, 40418: 5, 40430: 19, 40452: 16, 40516: 6, 40557: 124, 40628: 6, 40631: 1, 40664: 168, 40688: 10, 40928: 4, 40992: 1, 41011: 2, 41148: 18, 41193: 119, 41197: 5, 41258: 8, 41291: 6, 41300: 8, 41304: 1, 41308: 86, 41346: 1, 41365: 1, 41449: 9, 41472: 11, 41489: 11, 41518: 2, 41625: 3, 41643: 19, 41690: 3, 41713: 10, 41748: 72, 41848: 5, 41854: 3, 41893: 16, 42067: 3, 42212: 113, 42254: 3, 94: 4, 611: 4, 1213: 7, 1233: 2, 2067: 12, 2214: 1, 2431: 2, 2459: 9, 2595: 5, 2858: 12, 2993: 2, 3756: 158, 3933: 7, 4270: 3, 4333: 10, 4688: 4, 5042: 61, 5482: 65, 5525: 4, 5745: 12, 5789: 4, 6138: 4, 6142: 6, 6286: 7, 6488: 6, 6502: 6, 6556: 4, 6605: 2, 7119: 1, 7400: 4, 7739: 8, 7746: 62, 7978: 1, 8003: 3, 8005: 4, 8383: 22, 8553: 8, 8793: 4, 9048: 2, 9071: 16, 9205: 4, 9287: 1, 9660: 2, 9755: 6, 9788: 4, 9968: 4, 10092: 1, 10154: 3, 10897: 2, 11643: 20, 12052: 4, 12356: 36, 13204: 7, 13396: 9, 13704: 16, 14693: 8, 15107: 6, 16126: 2, 17021: 4, 17072: 1, 17655: 4, 18198: 1, 18251: 1, 18472: 6, 18827: 4, 19576: 3, 19741: 1, 19919: 1, 20072: 64, 20155: 7, 21894: 3, 22968: 1, 23358: 4, 23416: 2, 24373: 4, 25508: 1, 25523: 2, 26433: 2, 27206: 5, 28663: 3, 29218: 6, 29219: 4, 29303: 5, 29336: 6, 29337: 2, 29380: 1, 30011: 2, 30215: 1, 30232: 156, 30240: 2, 30259: 1, 30304: 6, 30352: 4, 30357: 4, 30365: 3, 30400: 5, 30428: 1, 30438: 1, 30460: 1, 30496: 3, 30509: 2, 30542: 14, 30545: 1, 30635: 4, 30653: 12, 30679: 1, 30699: 10, 30831: 6, 30832: 3, 30855: 3, 30862: 3, 30887: 4, 30959: 4, 30968: 5, 30980: 3, 31082: 152, 31158: 5, 31163: 2, 31205: 6, 31209: 9, 31210: 17, 31316: 11, 31356: 4, 31366: 1, 31434: 2, 31439: 1, 31465: 5, 31483: 1, 31594: 46, 31627: 1, 31639: 7, 31679: 12, 31749: 1, 31775: 1, 31818: 2, 31857: 4, 31871: 5, 31891: 3, 31927: 2, 31961: 2, 31973: 2, 32003: 2, 32006: 4, 32010: 4, 32023: 6, 32040: 6, 32064: 2, 32069: 2, 32095: 3, 32130: 11, 32137: 11, 32162: 4, 32224: 1, 32246: 8, 32249: 1, 32274: 4, 32275: 259, 32299: 2, 32435: 13, 32436: 7, 32439: 10, 32479: 7, 32490: 4, 32497: 3, 32566: 94, 32588: 3, 32589: 11, 32591: 5, 32593: 1, 32614: 2, 32636: 2, 32640: 2, 32703: 5, 32726: 1, 32746: 5, 32767: 13, 32835: 1, 32863: 3, 32938: 2, 32958: 85, 33004: 3, 33027: 1, 33082: 6, 33114: 15, 33152: 4, 33153: 2, 33184: 14, 33242: 4, 33252: 2, 33265: 8, 33278: 5, 33320: 4, 33339: 4, 33401: 1, 33426: 14, 33432: 13, 33433: 4, 33500: 3, 33555: 46, 33614: 1, 33631: 1, 33660: 2, 33684: 1, 33694: 4, 33741: 7, 33742: 8, 33750: 2, 33764: 3, 33785: 5, 33839: 3, 33845: 3, 33855: 1, 33939: 1, 34023: 6, 34033: 7, 34062: 1, 34109: 8, 34136: 2, 34181: 3, 34189: 1, 34227: 3, 34234: 4, 34273: 6, 34279: 2, 34281: 2, 34287: 2, 34351: 4, 34369: 1, 34383: 3, 34417: 1, 34450: 14, 34453: 37, 34478: 1, 34488: 1, 34540: 15, 34553: 7, 34641: 9, 34706: 3, 34833: 1, 34858: 3, 34861: 3, 34868: 2, 34900: 3, 34908: 4, 34923: 4, 34935: 6, 34943: 2, 34960: 2, 34967: 4, 35091: 6, 35178: 9, 35182: 78, 35241: 4, 35242: 3, 35278: 18, 35358: 2, 35360: 3, 35367: 6, 35412: 5, 35415: 8, 35459: 3, 35468: 3, 35491: 2, 35506: 5, 35515: 7, 35532: 24, 35552: 5, 35555: 3, 35569: 6, 35570: 1, 35590: 5, 35716: 5, 35858: 9, 35880: 1, 35895: 2, 36077: 3, 36117: 2, 36200: 2, 36234: 9, 36239: 19, 36263: 1, 36273: 4, 36274: 1, 36286: 1, 36352: 5, 36364: 197, 36437: 4, 36452: 3, 36461: 1, 36482: 2, 36490: 177, 36526: 11, 36530: 6, 36560: 10, 36565: 3, 36617: 8, 36626: 8, 36654: 2, 36670: 2, 36692: 2, 36715: 1, 36779: 4, 36785: 5, 36808: 4, 36809: 1, 36816: 3, 36823: 4, 36836: 50, 36859: 2, 36900: 1, 36903: 2, 36907: 1, 36961: 3, 36993: 5, 36994: 2, 37007: 1, 37009: 6, 37021: 4, 37054: 8, 37061: 13, 37071: 3, 37232: 6, 37233: 3, 37257: 2, 37332: 50, 37366: 2, 37371: 6, 37401: 3, 37433: 4, 37442: 7, 37461: 5, 37462: 5, 37508: 2, 37559: 28, 37562: 1, 37599: 5, 37619: 3, 37654: 7, 37656: 6, 37690: 3, 37763: 3, 37767: 4, 37803: 11, 37814: 6, 37933: 10, 37938: 2, 37989: 2, 38079: 4, 38134: 5, 38175: 5, 38200: 3, 38221: 2, 38274: 4, 38335: 8, 38369: 11, 38383: 70, 38574: 3, 38607: 20, 38608: 2, 38637: 1, 38675: 3, 38702: 11, 38723: 8, 38735: 64, 38740: 6, 38747: 16, 38767: 2, 38789: 7, 38831: 2, 38889: 5, 38897: 1, 38936: 8, 38952: 1, 38965: 8, 38972: 7, 39005: 3, 39027: 12, 39030: 12, 39106: 2, 39108: 2, 39155: 9, 39160: 10, 39184: 21, 39311: 17, 39332: 2, 39334: 3, 39338: 2, 39353: 2, 39391: 2, 39401: 17, 39408: 1, 39476: 4, 39481: 4, 39517: 11, 39600: 2, 39629: 3, 39634: 4, 39656: 2, 39662: 13, 39666: 3, 39677: 1, 39683: 2, 39703: 3, 39704: 9, 39712: 10, 39722: 3, 39745: 3, 39783: 9, 39784: 7, 39791: 1, 39839: 1, 39847: 1, 39893: 5, 39933: 7, 39961: 4, 39986: 17, 39989: 4, 39990: 3, 39996: 5, 39999: 56, 40006: 3, 40012: 11, 40015: 2, 40017: 14, 40035: 6, 40037: 39, 40077: 8, 40109: 2, 40132: 2, 40134: 4, 40195: 7, 40198: 4, 40205: 1, 40220: 1, 40247: 2, 40258: 4, 40276: 25, 40277: 6, 40289: 3, 40311: 43, 40326: 3, 40351: 7, 40356: 15, 40381: 4, 40385: 6, 40399: 1, 40493: 3, 40512: 6, 40527: 1, 40535: 1, 40572: 5, 40655: 3, 40833: 2, 40856: 1, 40892: 8, 40951: 2, 40970: 12, 41025: 2, 41026: 10, 41034: 6, 41102: 6, 41127: 5, 41164: 4, 41181: 1, 41226: 1, 41242: 3, 41248: 5, 41306: 1, 41332: 2, 41340: 1, 41354: 2, 41360: 5, 41393: 4, 41399: 5, 41466: 1, 41475: 11, 41716: 4, 41726: 2, 41773: 7, 41821: 68, 41835: 1, 41908: 5, 41939: 2, 42040: 2, 42075: 1}\n",
      "Player who changes the most: 40376\n",
      "------------------------------------------------------------------------------------------------------------------\n",
      "Count of players who decrease_maxbet : 979\n",
      "Count of times each player decrease_maxbet : {156: 7, 224: 16, 336: 105, 865: 6, 1069: 3, 1166: 30, 1438: 213, 2073: 2, 3840: 7, 4483: 13, 4912: 1, 5147: 3, 5179: 19, 5673: 5, 6284: 13, 6695: 3, 8978: 4, 9197: 8, 9669: 2, 12857: 5, 15956: 46, 17585: 12, 19568: 33, 21209: 44, 21722: 2, 23329: 3, 26097: 1, 30426: 9, 30688: 8, 30970: 6, 31137: 220, 31226: 6, 31456: 21, 31606: 338, 31688: 5, 31698: 1, 31739: 6, 31959: 3, 31977: 8, 32192: 604, 32280: 3, 33143: 15, 33286: 148, 33351: 2, 33364: 8, 33458: 5, 33920: 369, 34209: 246, 34251: 34, 34252: 33, 34393: 1, 34677: 1, 34837: 7, 35252: 2, 35287: 6, 35414: 6, 35559: 27, 35670: 5, 35673: 6, 35677: 47, 35728: 2, 35865: 5, 35990: 1, 36119: 464, 36256: 583, 36358: 277, 36499: 10, 36674: 170, 36691: 9, 36702: 18, 36861: 12, 37008: 21, 37028: 4, 37135: 1, 37509: 54, 37798: 4, 38466: 11, 38683: 1, 38956: 4, 39255: 6, 39286: 389, 39335: 11, 39419: 16, 39438: 21, 39463: 16, 39619: 8, 39754: 20, 39821: 8, 39848: 44, 39897: 17, 39937: 49, 39981: 9, 40008: 10, 40104: 9, 40323: 8, 40344: 14, 40514: 12, 40693: 513, 40718: 33, 40977: 1, 41319: 9, 41839: 8, 48: 1, 95: 1, 113: 3, 247: 9, 332: 4, 646: 5, 719: 127, 1136: 4, 1147: 1, 1515: 5, 1694: 1, 1715: 22, 2005: 3, 2015: 2, 2070: 3, 2097: 10, 2332: 6, 2569: 1, 2710: 5, 2736: 11, 3010: 1, 3120: 3, 3265: 5, 3306: 17, 3677: 10, 3708: 3, 3757: 40, 3783: 12, 4269: 3, 4699: 6, 5029: 163, 5045: 2, 6894: 14, 6907: 7, 7257: 8, 7390: 4, 8370: 15, 8412: 11, 8481: 9, 8568: 26, 8749: 14, 9031: 3, 9202: 5, 9357: 35, 9410: 1, 9495: 9, 9823: 2, 9976: 2, 9989: 19, 12148: 4, 12419: 6, 12692: 6, 12938: 11, 12997: 5, 13021: 36, 13463: 24, 13555: 2, 13746: 15, 13765: 222, 14041: 6, 15039: 13, 15267: 2, 15786: 6, 16672: 2, 17380: 10, 17637: 2, 18546: 14, 20134: 245, 20390: 3, 22267: 4, 23225: 62, 23808: 5, 24230: 135, 24572: 7, 24735: 13, 25999: 4, 27413: 9, 28704: 2, 28913: 4, 29236: 15, 29587: 5, 29607: 4, 29936: 18, 29942: 9, 30265: 5, 30308: 14, 30356: 7, 30487: 5, 30502: 17, 30521: 11, 30525: 5, 30546: 3, 30563: 5, 30564: 4, 30616: 2, 30633: 6, 30805: 21, 30817: 4, 30830: 1, 30878: 7, 30898: 23, 30937: 4, 30961: 5, 31222: 10, 31225: 7, 31258: 1, 31289: 7, 31291: 16, 31322: 4, 31367: 10, 31449: 18, 31454: 4, 31473: 6, 31482: 2, 31523: 6, 31536: 1, 31537: 562, 31580: 11, 31615: 2, 31647: 14, 31685: 4, 31726: 7, 31819: 98, 31981: 3, 32009: 6, 32043: 6, 32052: 14, 32072: 4, 32221: 4, 32262: 3, 32278: 10, 32283: 77, 32286: 6, 32311: 8, 32343: 8, 32366: 1, 32377: 8, 32382: 1, 32385: 1, 32469: 6, 32499: 14, 32587: 1, 32647: 60, 32656: 2, 32705: 3, 32764: 6, 32887: 5, 32918: 3, 32997: 2, 33031: 6, 33034: 7, 33052: 11, 33095: 9, 33098: 1, 33099: 1, 33115: 20, 33201: 2, 33213: 4, 33360: 1, 33386: 3, 33389: 5, 33647: 13, 33714: 1, 33732: 1, 33739: 16, 33751: 5, 33759: 57, 33788: 12, 33799: 1, 33834: 9, 33838: 10, 33928: 5, 34020: 7, 34024: 4, 34025: 11, 34047: 4, 34052: 15, 34061: 7, 34104: 1, 34133: 2, 34158: 5, 34165: 13, 34184: 1, 34200: 2, 34208: 2, 34378: 7, 34399: 4, 34415: 167, 34419: 21, 34461: 2, 34501: 1, 34549: 13, 34551: 3, 34599: 2, 34614: 6, 34696: 356, 34735: 34, 34740: 4, 34751: 17, 34754: 1, 34911: 9, 34974: 3, 35028: 14, 35051: 3, 35085: 172, 35108: 23, 35110: 7, 35128: 130, 35192: 10, 35211: 6, 35265: 1, 35277: 4, 35279: 9, 35294: 1, 35313: 4, 35327: 3, 35390: 12, 35407: 7, 35419: 5, 35478: 6, 35518: 3, 35561: 173, 35595: 5, 35596: 6, 35612: 3, 35615: 6, 35642: 3, 35705: 2, 35715: 7, 35744: 7, 35794: 14, 35814: 1, 35942: 3, 35966: 10, 35968: 5, 36066: 20, 36095: 1, 36148: 169, 36167: 13, 36232: 25, 36279: 1, 36317: 6, 36357: 6, 36446: 9, 36462: 3, 36473: 3, 36479: 12, 36543: 11, 36577: 15, 36608: 2, 36619: 2, 36624: 4, 36658: 219, 36693: 2, 36748: 5, 36778: 9, 37039: 17, 37052: 7, 37070: 3, 37095: 1, 37194: 2, 37195: 2, 37209: 2, 37370: 7, 37376: 8, 37404: 9, 37478: 386, 37488: 6, 37510: 8, 37513: 9, 37549: 4, 37567: 4, 37572: 4, 37720: 7, 37792: 1, 37800: 5, 37864: 6, 37875: 2, 37953: 4, 38064: 2, 38136: 3, 38169: 6, 38187: 8, 38229: 1, 38253: 2, 38255: 4, 38267: 6, 38281: 1, 38340: 2, 38365: 5, 38391: 85, 38418: 5, 38524: 13, 38533: 14, 38551: 1, 38603: 5, 38669: 27, 38730: 10, 38830: 4, 38874: 1, 38935: 10, 38991: 6, 39060: 10, 39074: 1, 39085: 4, 39086: 4, 39093: 3, 39094: 1, 39177: 1, 39214: 3, 39267: 1, 39273: 6, 39280: 5, 39288: 3, 39324: 7, 39344: 19, 39352: 8, 39415: 4, 39425: 8, 39441: 10, 39496: 1, 39618: 1, 39620: 3, 39622: 5, 39623: 8, 39644: 7, 39676: 5, 39711: 17, 39713: 3, 39721: 1, 39743: 10, 39772: 97, 39779: 14, 39824: 12, 39829: 11, 39843: 5, 39880: 7, 39888: 124, 39924: 4, 39962: 5, 40053: 3, 40066: 9, 40078: 5, 40103: 4, 40163: 16, 40165: 20, 40187: 3, 40196: 7, 40216: 1, 40222: 1, 40294: 3, 40305: 2, 40376: 615, 40418: 7, 40430: 17, 40452: 12, 40516: 7, 40557: 121, 40628: 5, 40664: 163, 40688: 12, 40928: 3, 40992: 1, 41011: 3, 41148: 14, 41193: 121, 41197: 5, 41258: 3, 41291: 8, 41300: 5, 41308: 88, 41346: 1, 41365: 2, 41449: 7, 41472: 9, 41489: 8, 41518: 1, 41643: 17, 41690: 3, 41713: 7, 41748: 71, 41848: 4, 41854: 2, 41893: 15, 42067: 1, 42212: 113, 42254: 2, 94: 4, 611: 3, 1213: 4, 1233: 1, 2067: 12, 2214: 4, 2431: 1, 2459: 9, 2595: 4, 2858: 11, 2993: 1, 3756: 159, 3933: 5, 4270: 2, 4333: 6, 4688: 3, 4874: 2, 5042: 61, 5482: 65, 5525: 3, 5745: 10, 5789: 5, 6138: 4, 6142: 8, 6286: 8, 6488: 6, 6502: 6, 6556: 5, 6605: 2, 7119: 1, 7400: 6, 7739: 9, 7746: 60, 7978: 1, 8003: 2, 8005: 4, 8383: 21, 8553: 7, 8793: 5, 9048: 3, 9071: 18, 9205: 6, 9287: 1, 9660: 3, 9755: 7, 9788: 2, 9968: 3, 10092: 2, 10154: 2, 10897: 1, 11643: 18, 12052: 4, 12356: 35, 13204: 8, 13396: 6, 13704: 14, 14693: 6, 15107: 5, 16126: 1, 16299: 1, 17021: 5, 17072: 2, 17655: 7, 18198: 1, 18251: 2, 18472: 2, 18827: 4, 19523: 1, 19576: 4, 19741: 1, 19919: 1, 20072: 64, 20155: 4, 21894: 2, 22350: 1, 22968: 1, 23358: 2, 23416: 4, 24373: 6, 25508: 1, 25523: 2, 26433: 2, 27206: 4, 28663: 4, 29218: 6, 29219: 3, 29303: 7, 29336: 6, 29337: 2, 30011: 3, 30215: 1, 30232: 156, 30240: 2, 30259: 1, 30304: 2, 30352: 4, 30357: 3, 30365: 3, 30400: 2, 30428: 1, 30438: 1, 30460: 2, 30496: 1, 30509: 1, 30542: 12, 30545: 2, 30635: 6, 30653: 9, 30679: 1, 30699: 10, 30831: 4, 30832: 2, 30855: 3, 30862: 3, 30887: 6, 30959: 2, 30968: 6, 30980: 4, 31045: 3, 31082: 153, 31158: 5, 31163: 2, 31205: 5, 31209: 6, 31210: 17, 31316: 9, 31356: 2, 31366: 3, 31434: 2, 31439: 1, 31465: 3, 31483: 1, 31594: 43, 31627: 3, 31639: 7, 31679: 13, 31749: 2, 31775: 2, 31818: 1, 31857: 4, 31871: 5, 31891: 3, 31927: 3, 31961: 3, 31973: 1, 32003: 3, 32006: 5, 32010: 5, 32023: 7, 32040: 10, 32064: 2, 32069: 1, 32095: 4, 32130: 12, 32137: 10, 32162: 5, 32224: 1, 32246: 8, 32274: 2, 32275: 261, 32299: 3, 32435: 8, 32436: 4, 32439: 7, 32479: 7, 32490: 4, 32497: 8, 32566: 94, 32588: 5, 32589: 8, 32591: 3, 32593: 2, 32614: 1, 32636: 2, 32640: 2, 32687: 1, 32703: 6, 32726: 1, 32746: 5, 32767: 13, 32835: 2, 32863: 2, 32938: 2, 32958: 88, 33004: 4, 33027: 1, 33082: 5, 33097: 1, 33114: 12, 33152: 4, 33153: 1, 33184: 16, 33242: 7, 33252: 3, 33265: 7, 33278: 7, 33320: 4, 33339: 1, 33401: 1, 33426: 14, 33432: 10, 33433: 9, 33500: 3, 33555: 46, 33631: 2, 33684: 1, 33694: 2, 33741: 4, 33742: 9, 33750: 2, 33764: 5, 33785: 7, 33839: 5, 33845: 3, 33855: 2, 33939: 1, 34023: 6, 34033: 6, 34042: 1, 34062: 1, 34109: 7, 34136: 4, 34181: 3, 34189: 1, 34227: 4, 34234: 2, 34273: 5, 34279: 4, 34281: 2, 34287: 2, 34351: 2, 34369: 3, 34383: 3, 34417: 2, 34450: 12, 34453: 35, 34478: 1, 34488: 2, 34520: 1, 34540: 15, 34553: 5, 34641: 10, 34706: 4, 34833: 1, 34858: 6, 34861: 3, 34868: 2, 34900: 5, 34908: 3, 34923: 5, 34935: 6, 34943: 1, 34960: 1, 34967: 6, 35091: 7, 35178: 8, 35182: 79, 35241: 3, 35242: 1, 35278: 19, 35358: 1, 35360: 2, 35367: 5, 35412: 8, 35415: 8, 35459: 5, 35468: 1, 35491: 1, 35506: 3, 35515: 6, 35532: 22, 35552: 3, 35555: 2, 35569: 9, 35570: 1, 35590: 5, 35716: 5, 35858: 3, 35880: 1, 35895: 2, 36077: 4, 36117: 3, 36200: 2, 36234: 11, 36239: 16, 36273: 3, 36286: 1, 36349: 1, 36352: 4, 36364: 195, 36437: 3, 36452: 5, 36461: 2, 36482: 1, 36490: 178, 36526: 6, 36530: 5, 36560: 10, 36565: 1, 36617: 5, 36626: 12, 36654: 4, 36670: 1, 36692: 1, 36715: 3, 36719: 2, 36779: 6, 36785: 3, 36808: 4, 36809: 1, 36816: 3, 36823: 6, 36836: 51, 36859: 3, 36900: 1, 36903: 3, 36907: 1, 36961: 4, 36993: 7, 36994: 4, 37007: 1, 37009: 8, 37021: 2, 37054: 7, 37061: 14, 37071: 4, 37232: 6, 37233: 3, 37257: 1, 37332: 47, 37366: 2, 37371: 6, 37401: 4, 37418: 2, 37433: 8, 37442: 7, 37461: 5, 37462: 5, 37508: 1, 37559: 28, 37562: 1, 37599: 2, 37619: 4, 37654: 3, 37656: 7, 37690: 8, 37763: 3, 37767: 6, 37803: 13, 37814: 4, 37933: 8, 37989: 1, 38079: 4, 38134: 3, 38175: 1, 38200: 2, 38221: 2, 38274: 3, 38335: 8, 38369: 7, 38383: 71, 38409: 1, 38574: 3, 38607: 21, 38608: 1, 38637: 1, 38702: 10, 38723: 7, 38735: 65, 38740: 4, 38747: 15, 38767: 2, 38789: 7, 38831: 2, 38889: 8, 38897: 2, 38936: 4, 38952: 2, 38965: 7, 38972: 5, 39005: 3, 39027: 12, 39030: 9, 39106: 3, 39108: 1, 39155: 4, 39160: 9, 39184: 20, 39311: 15, 39332: 4, 39334: 1, 39338: 1, 39353: 2, 39391: 2, 39401: 16, 39407: 1, 39408: 2, 39476: 3, 39481: 2, 39517: 13, 39600: 1, 39629: 2, 39634: 2, 39656: 1, 39662: 16, 39666: 3, 39677: 1, 39683: 2, 39703: 1, 39704: 10, 39712: 9, 39722: 3, 39745: 2, 39783: 7, 39784: 7, 39791: 1, 39839: 1, 39893: 6, 39933: 8, 39961: 4, 39986: 16, 39989: 4, 39990: 2, 39996: 5, 39999: 55, 40006: 8, 40012: 13, 40015: 3, 40017: 11, 40035: 7, 40037: 39, 40077: 8, 40109: 2, 40132: 1, 40134: 3, 40195: 8, 40198: 4, 40205: 1, 40220: 1, 40258: 5, 40276: 25, 40277: 3, 40289: 1, 40307: 2, 40311: 39, 40326: 3, 40351: 7, 40356: 21, 40381: 1, 40385: 9, 40399: 1, 40493: 3, 40512: 7, 40527: 1, 40572: 6, 40655: 5, 40833: 1, 40856: 1, 40892: 12, 40951: 3, 40970: 9, 41025: 1, 41026: 11, 41034: 5, 41102: 6, 41127: 7, 41164: 2, 41181: 1, 41226: 2, 41242: 3, 41248: 4, 41306: 1, 41332: 2, 41340: 1, 41354: 6, 41360: 5, 41393: 1, 41399: 4, 41466: 1, 41475: 11, 41478: 1, 41716: 3, 41726: 6, 41773: 6, 41821: 68, 41835: 2, 41908: 3, 41939: 2, 42040: 3, 42075: 1}\n",
      "Player who changes the most: 40376\n",
      "------------------------------------------------------------------------------------------------------------------\n"
     ]
    }
   ],
   "source": [
    "# Lets do the same but for bottom 20%\n",
    "players_increase_slot = cf.count_increase(df, \"increase_slotdeno\", \"playerkey\", \"slotdenomination\")\n",
    "players_decrease_slot = cf.count_decrease(df, \"decrease_slotdeno\", \"playerkey\", \"slotdenomination\")\n",
    "players_increase_maxbet = cf.count_increase(df, \"increase_maxbet\", \"playerkey\", \"maxbet\")\n",
    "players_decrease_maxbet = cf.count_decrease(df, \"decrease_maxbet\", \"playerkey\", \"maxbet\")\n"
   ]
  },
  {
   "cell_type": "code",
   "execution_count": 17,
   "metadata": {},
   "outputs": [
    {
     "name": "stdout",
     "output_type": "stream",
     "text": [
      "Count of players who increase_slotdeno : 931\n",
      "Count of times each player increase_slotdeno : {156: 24, 224: 7, 336: 9, 865: 1, 1069: 3, 1166: 73, 1402: 3, 1438: 1849, 2073: 7, 3840: 3, 4483: 37, 5147: 4, 5179: 3, 5673: 2, 6284: 12, 6695: 4, 8978: 10, 9191: 1, 9197: 7, 9669: 1, 12857: 4, 15956: 43, 19568: 3, 21209: 34, 21722: 1, 23329: 17, 24787: 1, 26097: 6, 30426: 13, 30688: 5, 30903: 3, 30970: 14, 31137: 130, 31226: 7, 31456: 37, 31606: 263, 31688: 6, 31698: 2, 31739: 4, 31959: 1, 31977: 4, 32192: 396, 32280: 1, 33143: 2, 33286: 40, 33351: 3, 33364: 1, 33458: 4, 33920: 366, 34209: 133, 34251: 1, 34252: 1, 34393: 1, 34401: 1, 34677: 2, 34837: 6, 34962: 1, 35252: 2, 35414: 13, 35559: 569, 35649: 1, 35670: 31, 35673: 3, 35677: 6, 35865: 6, 35990: 2, 36119: 214, 36256: 198, 36358: 274, 36499: 5, 36627: 5, 36674: 26, 36691: 6, 36702: 11, 36861: 2, 37008: 48, 37028: 6, 37135: 26, 37509: 32, 37798: 7, 38466: 9, 38683: 2, 38956: 3, 39255: 11, 39286: 381, 39295: 1, 39335: 8, 39419: 6, 39438: 12, 39463: 11, 39619: 9, 39754: 11, 39821: 13, 39848: 28, 39897: 31, 39937: 12, 39981: 2, 40104: 5, 40323: 11, 40344: 17, 40514: 11, 40693: 31, 40718: 8, 40976: 3, 40977: 1, 41319: 7, 41839: 140, 48: 1, 95: 2, 113: 4, 247: 7, 332: 5, 646: 5, 719: 174, 841: 4, 1029: 3, 1136: 5, 1147: 2, 1515: 5, 1715: 12, 2005: 89, 2097: 6, 2332: 2, 2569: 1, 2710: 3, 2736: 7, 3010: 7, 3120: 31, 3127: 15, 3265: 5, 3306: 12, 3677: 23, 3708: 2, 3783: 3, 4269: 1, 4699: 4, 5029: 2, 6894: 17, 6907: 1, 7257: 3, 7390: 1, 8370: 12, 8412: 9, 8481: 26, 8568: 5, 8749: 15, 9031: 3, 9202: 4, 9357: 4, 9410: 1, 9495: 5, 9823: 2, 9946: 2, 9976: 1, 9989: 11, 12148: 3, 12413: 1, 12419: 5, 12692: 1, 12938: 3, 12997: 4, 13021: 38, 13463: 17, 13555: 5, 13716: 47, 13746: 37, 13765: 222, 14041: 7, 15786: 3, 16672: 2, 17380: 2, 17637: 2, 18546: 8, 20134: 346, 20390: 3, 22267: 1, 23225: 6, 23808: 7, 24230: 125, 24572: 5, 24735: 2, 25999: 1, 27413: 9, 28913: 8, 29236: 11, 29587: 2, 29607: 3, 29936: 5, 29942: 7, 29948: 5, 30265: 4, 30308: 15, 30356: 7, 30487: 19, 30502: 14, 30521: 4, 30525: 5, 30563: 3, 30564: 4, 30575: 1, 30581: 2, 30616: 2, 30633: 4, 30805: 22, 30817: 3, 30830: 5, 30878: 6, 30898: 6, 30937: 6, 31032: 1, 31222: 6, 31225: 6, 31258: 2, 31289: 8, 31291: 11, 31322: 3, 31367: 7, 31440: 2, 31449: 20, 31454: 2, 31482: 1, 31523: 4, 31535: 20, 31536: 44, 31537: 432, 31580: 13, 31647: 24, 31685: 4, 31726: 5, 31819: 1, 31981: 2, 32009: 1, 32043: 6, 32052: 11, 32072: 3, 32182: 3, 32221: 2, 32262: 1, 32278: 2, 32283: 1, 32286: 3, 32311: 8, 32343: 4, 32366: 3, 32377: 1, 32382: 1, 32385: 1, 32469: 5, 32499: 15, 32561: 1, 32647: 2, 32656: 2, 32764: 3, 32887: 4, 32918: 1, 33031: 7, 33034: 6, 33052: 8, 33095: 3, 33098: 1, 33115: 8, 33201: 2, 33213: 10, 33360: 1, 33372: 2, 33386: 3, 33389: 2, 33647: 7, 33714: 1, 33732: 2, 33739: 13, 33751: 3, 33759: 57, 33788: 7, 33834: 3, 33838: 1, 33928: 3, 34016: 5, 34020: 15, 34024: 3, 34025: 24, 34047: 8, 34052: 9, 34061: 6, 34104: 1, 34133: 2, 34158: 4, 34165: 3, 34184: 3, 34200: 2, 34208: 5, 34378: 6, 34399: 2, 34415: 178, 34419: 8, 34461: 2, 34501: 1, 34549: 4, 34551: 1, 34599: 3, 34614: 6, 34735: 26, 34740: 3, 34751: 5, 34754: 1, 34911: 8, 35028: 9, 35051: 1, 35085: 175, 35108: 11, 35110: 14, 35128: 135, 35192: 5, 35211: 11, 35265: 1, 35277: 4, 35279: 5, 35313: 4, 35390: 11, 35407: 14, 35408: 4, 35478: 10, 35518: 1, 35595: 2, 35596: 1, 35612: 3, 35615: 3, 35642: 3, 35646: 2, 35683: 2, 35684: 5, 35705: 1, 35715: 5, 35744: 6, 35794: 9, 35814: 1, 35966: 1, 35968: 2, 36066: 6, 36095: 4, 36096: 5, 36167: 5, 36232: 16, 36279: 2, 36317: 3, 36357: 5, 36446: 5, 36462: 3, 36473: 7, 36479: 14, 36543: 6, 36577: 2, 36608: 1, 36619: 1, 36624: 6, 36658: 41, 36677: 2, 36693: 2, 36748: 4, 36778: 1, 36905: 3, 37006: 1, 37039: 15, 37052: 4, 37070: 4, 37095: 1, 37132: 2, 37195: 5, 37209: 1, 37370: 6, 37376: 5, 37404: 15, 37478: 386, 37488: 5, 37510: 3, 37513: 23, 37531: 1, 37549: 3, 37567: 4, 37572: 8, 37720: 4, 37792: 1, 37800: 1, 37864: 7, 37875: 3, 37953: 4, 38136: 2, 38187: 8, 38229: 2, 38253: 2, 38255: 4, 38267: 2, 38281: 2, 38340: 2, 38365: 1, 38391: 28, 38418: 23, 38524: 9, 38533: 8, 38551: 3, 38603: 4, 38669: 13, 38830: 5, 38874: 1, 38935: 10, 38991: 2, 39060: 8, 39085: 6, 39086: 13, 39093: 3, 39094: 1, 39177: 1, 39214: 4, 39267: 3, 39273: 6, 39280: 4, 39288: 2, 39324: 6, 39344: 20, 39352: 4, 39367: 2, 39415: 2, 39425: 4, 39441: 7, 39496: 2, 39620: 3, 39622: 2, 39623: 8, 39644: 4, 39676: 3, 39711: 9, 39713: 1, 39721: 2, 39743: 3, 39772: 4, 39779: 6, 39824: 7, 39843: 1, 39880: 5, 39888: 4, 39924: 6, 39925: 4, 39962: 4, 40053: 3, 40066: 2, 40078: 4, 40103: 2, 40163: 10, 40165: 12, 40187: 2, 40196: 1, 40294: 1, 40305: 1, 40376: 6, 40418: 5, 40430: 12, 40452: 9, 40516: 5, 40557: 73, 40628: 7, 40631: 5, 40664: 37, 40688: 6, 40778: 406, 40928: 2, 40992: 6, 41011: 2, 41038: 20, 41148: 12, 41193: 80, 41258: 5, 41291: 5, 41300: 7, 41308: 1, 41346: 1, 41365: 3, 41449: 9, 41472: 7, 41489: 3, 41518: 2, 41625: 1, 41643: 3, 41690: 2, 41713: 5, 41748: 23, 41796: 1, 41848: 1, 41893: 10, 42067: 2, 42212: 111, 42254: 4, 94: 1, 611: 3, 1213: 3, 1233: 5, 1699: 1, 2067: 4, 2214: 6, 2431: 4, 2459: 8, 2595: 4, 2858: 10, 2993: 37, 3756: 1, 3933: 4, 4270: 1, 4333: 6, 4688: 1, 4874: 2, 5482: 65, 5525: 3, 5745: 2, 5789: 5, 5932: 1, 6138: 1, 6142: 6, 6488: 4, 6502: 3, 6556: 5, 6605: 7, 7119: 1, 7400: 5, 7739: 5, 7746: 71, 8003: 11, 8005: 4, 8383: 23, 8553: 6, 8793: 1, 8827: 2, 9048: 2, 9071: 6, 9205: 5, 9287: 1, 9660: 2, 9755: 1, 9788: 2, 9968: 3, 10092: 1, 10154: 1, 10897: 3, 11643: 18, 12052: 1, 12356: 3, 13204: 4, 13396: 1, 13704: 9, 13918: 5, 14693: 10, 15107: 2, 16126: 1, 16299: 1, 17021: 2, 17072: 1, 17655: 2, 18251: 1, 18472: 1, 18827: 1, 19523: 1, 19741: 1, 19919: 2, 20072: 62, 20155: 4, 21894: 1, 22350: 2, 22968: 1, 23358: 3, 23416: 3, 24373: 3, 24619: 4, 24730: 1, 25508: 4, 25523: 1, 27206: 1, 28663: 6, 29218: 6, 29219: 1, 29303: 7, 29336: 5, 29337: 3, 30011: 1, 30164: 1, 30215: 2, 30232: 71, 30240: 1, 30259: 1, 30304: 2, 30352: 4, 30357: 5, 30365: 3, 30400: 2, 30428: 1, 30438: 1, 30496: 2, 30509: 2, 30511: 2, 30542: 5, 30635: 3, 30653: 14, 30679: 1, 30699: 3, 30831: 4, 30832: 2, 30855: 4, 30862: 5, 30887: 4, 30959: 2, 30968: 4, 31158: 4, 31163: 1, 31205: 1, 31210: 5, 31316: 7, 31356: 1, 31434: 1, 31439: 2, 31465: 1, 31594: 6, 31627: 9, 31639: 4, 31749: 1, 31775: 1, 31818: 1, 31857: 1, 31871: 2, 31891: 5, 31927: 10, 31973: 1, 32003: 1, 32006: 3, 32010: 7, 32023: 5, 32040: 4, 32130: 7, 32137: 2, 32162: 5, 32246: 4, 32274: 1, 32275: 166, 32299: 1, 32435: 8, 32436: 5, 32439: 3, 32479: 8, 32490: 1, 32566: 149, 32588: 3, 32589: 8, 32591: 4, 32636: 2, 32687: 3, 32703: 1, 32746: 9, 32767: 9, 32835: 1, 32863: 2, 32938: 3, 32958: 6, 33027: 1, 33082: 7, 33097: 2, 33114: 7, 33152: 1, 33153: 1, 33184: 14, 33242: 4, 33252: 1, 33265: 15, 33278: 3, 33401: 1, 33426: 14, 33432: 5, 33433: 3, 33500: 1, 33555: 17, 33614: 2, 33631: 3, 33694: 3, 33742: 1, 33750: 2, 33764: 4, 33785: 4, 33805: 1, 33839: 1, 33845: 3, 33855: 1, 34023: 2, 34033: 2, 34042: 1, 34062: 1, 34109: 6, 34136: 4, 34181: 4, 34189: 6, 34227: 2, 34234: 2, 34273: 3, 34281: 1, 34282: 1, 34287: 1, 34351: 2, 34369: 10, 34383: 3, 34417: 1, 34450: 6, 34478: 1, 34488: 2, 34520: 5, 34540: 8, 34553: 2, 34641: 1, 34706: 2, 34833: 1, 34858: 5, 34861: 3, 34868: 3, 34900: 3, 34908: 5, 34923: 8, 34935: 2, 34960: 1, 34967: 4, 35059: 1, 35091: 1, 35151: 2, 35182: 53, 35241: 1, 35360: 6, 35367: 2, 35412: 4, 35415: 11, 35459: 1, 35491: 1, 35515: 2, 35532: 20, 35569: 6, 35570: 1, 35590: 1, 35716: 1, 35858: 4, 35880: 1, 35895: 1, 36077: 2, 36117: 1, 36200: 1, 36234: 3, 36239: 16, 36263: 1, 36273: 2, 36274: 2, 36286: 4, 36349: 2, 36352: 4, 36364: 196, 36437: 2, 36452: 1, 36461: 1, 36482: 6, 36490: 177, 36526: 6, 36530: 3, 36560: 2, 36565: 1, 36617: 3, 36626: 5, 36654: 2, 36670: 1, 36692: 1, 36715: 2, 36719: 2, 36744: 3, 36779: 3, 36785: 1, 36808: 4, 36809: 1, 36816: 3, 36823: 5, 36836: 2, 36903: 3, 36961: 3, 36993: 4, 36994: 4, 37007: 1, 37009: 14, 37021: 2, 37054: 7, 37061: 10, 37071: 2, 37232: 5, 37257: 1, 37332: 2, 37366: 1, 37371: 3, 37401: 1, 37418: 1, 37433: 31, 37442: 6, 37461: 3, 37508: 1, 37559: 19, 37562: 4, 37619: 2, 37654: 5, 37656: 6, 37690: 3, 37763: 2, 37767: 2, 37803: 2, 37814: 1, 37933: 3, 37989: 2, 37997: 1, 38079: 4, 38134: 1, 38200: 1, 38221: 5, 38274: 3, 38303: 2, 38335: 6, 38369: 11, 38383: 68, 38409: 1, 38574: 2, 38608: 1, 38637: 2, 38702: 3, 38723: 4, 38735: 155, 38740: 2, 38747: 8, 38767: 2, 38789: 2, 38831: 1, 38889: 3, 38936: 3, 38952: 1, 38965: 7, 38972: 3, 39005: 2, 39008: 2, 39027: 7, 39030: 1, 39106: 2, 39108: 4, 39155: 7, 39160: 3, 39184: 2, 39311: 21, 39332: 3, 39391: 2, 39401: 7, 39408: 1, 39476: 1, 39481: 2, 39517: 10, 39600: 3, 39634: 4, 39656: 8, 39662: 6, 39666: 3, 39677: 2, 39683: 2, 39703: 1, 39704: 11, 39712: 9, 39722: 2, 39745: 3, 39783: 4, 39784: 1, 39839: 2, 39893: 3, 39933: 6, 39961: 3, 39986: 21, 39996: 10, 39999: 54, 40006: 4, 40012: 25, 40015: 3, 40017: 9, 40035: 5, 40037: 40, 40077: 3, 40109: 2, 40132: 1, 40134: 8, 40195: 4, 40198: 8, 40277: 1, 40307: 1, 40311: 2, 40326: 2, 40351: 8, 40356: 7, 40381: 1, 40385: 2, 40399: 1, 40512: 4, 40572: 1, 40655: 3, 40892: 8, 40907: 204, 40951: 8, 40970: 8, 41026: 8, 41034: 2, 41102: 1, 41127: 3, 41164: 1, 41181: 1, 41226: 12, 41242: 4, 41248: 3, 41332: 2, 41354: 5, 41360: 3, 41374: 2, 41393: 2, 41399: 2, 41466: 1, 41475: 2, 41716: 3, 41726: 4, 41773: 3, 41821: 65, 41835: 2, 41875: 1, 41908: 4, 41974: 1, 42040: 1, 42075: 1}\n",
      "Player who changes the most: 1438\n",
      "------------------------------------------------------------------------------------------------------------------\n",
      "Count of players who decrease_slotdeno : 931\n",
      "Count of times each player decrease_slotdeno : {156: 16, 224: 7, 336: 8, 865: 2, 1069: 3, 1166: 75, 1402: 3, 1438: 1850, 2073: 7, 3840: 2, 4483: 27, 4912: 1, 5147: 4, 5179: 4, 5673: 4, 6284: 12, 6695: 4, 8978: 9, 9191: 1, 9197: 8, 9669: 1, 12857: 5, 15956: 41, 19568: 3, 21209: 35, 21722: 1, 23329: 12, 24787: 1, 26097: 5, 30426: 10, 30688: 7, 30903: 3, 30970: 12, 31137: 130, 31226: 6, 31456: 38, 31606: 263, 31688: 5, 31698: 2, 31739: 6, 31959: 1, 31977: 4, 32192: 402, 32280: 1, 33143: 3, 33286: 40, 33351: 3, 33364: 1, 33458: 6, 33920: 366, 34209: 133, 34251: 1, 34252: 1, 34393: 1, 34401: 2, 34677: 2, 34837: 5, 34962: 1, 35252: 2, 35414: 12, 35559: 566, 35649: 1, 35670: 31, 35673: 3, 35677: 4, 35865: 4, 35990: 1, 36119: 214, 36256: 198, 36358: 274, 36499: 4, 36627: 5, 36674: 28, 36691: 6, 36702: 10, 36861: 2, 37008: 23, 37028: 7, 37135: 25, 37509: 32, 37798: 6, 38466: 8, 38683: 1, 38956: 4, 39255: 11, 39286: 379, 39295: 1, 39335: 6, 39419: 7, 39438: 14, 39463: 11, 39619: 7, 39754: 12, 39821: 12, 39848: 37, 39897: 28, 39937: 14, 39981: 3, 40104: 4, 40323: 11, 40344: 19, 40514: 11, 40693: 31, 40718: 7, 40976: 3, 40977: 1, 41319: 5, 41839: 140, 48: 1, 95: 2, 113: 3, 247: 6, 332: 4, 646: 2, 719: 173, 841: 5, 1029: 3, 1136: 6, 1147: 2, 1515: 5, 1715: 12, 2005: 91, 2097: 6, 2332: 2, 2569: 1, 2710: 2, 2736: 7, 3010: 5, 3120: 33, 3127: 14, 3265: 5, 3306: 12, 3677: 20, 3708: 2, 3783: 4, 4269: 1, 4699: 4, 5029: 1, 6894: 14, 6907: 2, 7257: 2, 8370: 13, 8412: 8, 8481: 18, 8568: 4, 8749: 15, 9031: 2, 9202: 2, 9357: 5, 9410: 1, 9495: 4, 9823: 4, 9946: 1, 9976: 2, 9989: 10, 12148: 4, 12419: 5, 12692: 1, 12938: 4, 12997: 5, 13021: 36, 13463: 15, 13555: 3, 13716: 46, 13746: 36, 13765: 220, 14041: 5, 15786: 2, 16672: 2, 17380: 2, 17637: 2, 18546: 10, 20134: 347, 20390: 3, 22267: 2, 23225: 5, 23808: 7, 24230: 125, 24572: 6, 24735: 2, 25999: 1, 27413: 9, 28704: 1, 28913: 6, 29236: 12, 29587: 2, 29607: 2, 29936: 5, 29942: 8, 29948: 4, 30265: 3, 30308: 16, 30356: 8, 30487: 20, 30502: 11, 30521: 3, 30525: 5, 30563: 2, 30564: 4, 30581: 2, 30616: 2, 30633: 4, 30805: 22, 30817: 3, 30830: 5, 30878: 7, 30898: 6, 30937: 5, 31032: 2, 31222: 7, 31225: 5, 31258: 2, 31289: 8, 31291: 10, 31322: 3, 31367: 6, 31449: 23, 31454: 2, 31482: 1, 31523: 3, 31535: 25, 31536: 44, 31537: 433, 31580: 13, 31647: 22, 31685: 3, 31726: 4, 31819: 1, 31956: 1, 31981: 2, 32009: 1, 32043: 5, 32052: 10, 32072: 2, 32182: 3, 32221: 2, 32259: 1, 32262: 1, 32278: 2, 32286: 4, 32311: 5, 32343: 4, 32366: 2, 32377: 1, 32382: 1, 32385: 1, 32469: 5, 32499: 12, 32561: 1, 32587: 1, 32647: 2, 32656: 1, 32764: 3, 32887: 4, 32918: 2, 33031: 5, 33034: 8, 33052: 7, 33095: 3, 33098: 1, 33115: 10, 33201: 2, 33213: 12, 33360: 1, 33372: 2, 33386: 2, 33389: 2, 33647: 9, 33714: 2, 33732: 2, 33739: 15, 33751: 3, 33759: 59, 33788: 5, 33834: 4, 33838: 1, 33928: 3, 34016: 4, 34020: 19, 34024: 3, 34025: 19, 34047: 10, 34052: 10, 34061: 4, 34104: 1, 34133: 2, 34158: 6, 34165: 2, 34184: 3, 34200: 1, 34208: 4, 34378: 5, 34399: 3, 34415: 179, 34419: 9, 34461: 4, 34549: 5, 34551: 2, 34599: 1, 34614: 6, 34735: 26, 34740: 4, 34751: 2, 34911: 6, 35028: 8, 35051: 3, 35085: 177, 35108: 8, 35110: 12, 35128: 136, 35192: 5, 35211: 11, 35265: 1, 35277: 3, 35279: 4, 35313: 6, 35327: 1, 35390: 12, 35407: 13, 35408: 3, 35478: 7, 35518: 2, 35595: 1, 35596: 2, 35612: 2, 35615: 3, 35642: 2, 35646: 1, 35683: 3, 35684: 4, 35705: 2, 35715: 4, 35744: 6, 35794: 10, 35814: 2, 35966: 2, 35968: 1, 36066: 5, 36095: 3, 36096: 5, 36167: 6, 36232: 15, 36279: 3, 36317: 4, 36357: 5, 36446: 4, 36462: 2, 36473: 5, 36479: 13, 36543: 10, 36577: 3, 36619: 1, 36624: 5, 36658: 39, 36677: 2, 36693: 2, 36748: 5, 36778: 1, 36905: 2, 37006: 1, 37039: 14, 37047: 1, 37052: 3, 37070: 3, 37095: 1, 37132: 2, 37195: 4, 37209: 1, 37370: 9, 37376: 4, 37404: 13, 37478: 385, 37488: 5, 37510: 4, 37513: 21, 37531: 2, 37549: 3, 37567: 5, 37572: 5, 37720: 4, 37800: 1, 37864: 7, 37875: 3, 37953: 6, 38136: 1, 38187: 4, 38229: 2, 38253: 3, 38255: 3, 38267: 2, 38281: 1, 38340: 1, 38365: 1, 38391: 28, 38418: 20, 38524: 7, 38533: 9, 38551: 2, 38603: 5, 38669: 14, 38830: 7, 38874: 1, 38935: 8, 38991: 3, 39060: 9, 39085: 5, 39086: 10, 39093: 4, 39094: 2, 39177: 2, 39214: 2, 39267: 3, 39273: 6, 39280: 4, 39288: 2, 39324: 6, 39344: 21, 39352: 3, 39367: 5, 39415: 2, 39425: 5, 39441: 6, 39496: 1, 39618: 1, 39620: 3, 39622: 3, 39623: 7, 39644: 4, 39676: 5, 39711: 9, 39713: 1, 39721: 2, 39743: 2, 39772: 3, 39779: 6, 39824: 10, 39843: 2, 39880: 5, 39888: 4, 39924: 5, 39925: 2, 39962: 5, 40053: 2, 40066: 2, 40078: 2, 40103: 2, 40163: 8, 40165: 12, 40187: 2, 40196: 1, 40294: 1, 40305: 2, 40376: 6, 40418: 5, 40430: 15, 40452: 12, 40516: 6, 40557: 73, 40628: 6, 40631: 6, 40664: 37, 40688: 6, 40778: 408, 40928: 1, 40992: 6, 41011: 1, 41038: 18, 41148: 13, 41193: 79, 41258: 5, 41291: 6, 41300: 7, 41308: 1, 41346: 1, 41365: 3, 41449: 9, 41472: 6, 41489: 5, 41518: 2, 41625: 3, 41643: 4, 41690: 2, 41713: 7, 41748: 22, 41796: 1, 41848: 1, 41893: 13, 42067: 6, 42212: 112, 42254: 3, 94: 1, 611: 4, 1213: 4, 1233: 5, 1699: 1, 2067: 6, 2214: 6, 2431: 5, 2459: 8, 2595: 3, 2858: 11, 2993: 38, 3756: 1, 3933: 4, 4270: 2, 4333: 7, 4688: 2, 5482: 65, 5525: 4, 5745: 2, 5789: 3, 5932: 1, 6138: 1, 6142: 6, 6488: 5, 6502: 4, 6556: 3, 6605: 9, 7119: 1, 7400: 3, 7739: 7, 7746: 67, 8003: 9, 8005: 5, 8383: 23, 8553: 5, 8793: 2, 8827: 2, 9048: 1, 9071: 7, 9205: 3, 9660: 2, 9755: 1, 9788: 1, 9968: 6, 10092: 1, 10154: 2, 10897: 1, 11643: 20, 12052: 1, 12356: 3, 13204: 4, 13396: 1, 13704: 14, 13918: 4, 14693: 9, 15107: 2, 16126: 1, 16299: 1, 17021: 2, 17072: 1, 17655: 2, 18251: 1, 18472: 4, 19741: 1, 19919: 1, 20072: 63, 20155: 6, 21894: 2, 22350: 2, 22968: 1, 23358: 4, 23416: 2, 24373: 3, 24619: 5, 24730: 1, 25508: 3, 25523: 2, 26433: 1, 27206: 2, 28663: 6, 29218: 7, 29219: 1, 29303: 5, 29336: 6, 29337: 3, 29380: 1, 30011: 1, 30164: 3, 30215: 1, 30232: 71, 30240: 1, 30259: 3, 30304: 3, 30352: 5, 30357: 5, 30365: 3, 30400: 3, 30428: 1, 30438: 1, 30496: 1, 30509: 2, 30511: 2, 30542: 6, 30635: 3, 30653: 10, 30679: 1, 30699: 4, 30831: 4, 30832: 3, 30855: 4, 30862: 6, 30887: 4, 30959: 2, 30968: 3, 31108: 1, 31158: 5, 31163: 2, 31205: 2, 31210: 7, 31316: 9, 31356: 1, 31439: 2, 31465: 2, 31483: 2, 31594: 6, 31627: 4, 31639: 6, 31749: 1, 31775: 1, 31818: 1, 31857: 2, 31871: 3, 31891: 6, 31927: 11, 31973: 1, 32003: 1, 32006: 3, 32010: 7, 32023: 7, 32040: 3, 32064: 2, 32130: 8, 32137: 2, 32162: 5, 32246: 4, 32249: 1, 32274: 1, 32275: 167, 32299: 1, 32435: 9, 32436: 6, 32439: 5, 32479: 6, 32490: 1, 32566: 149, 32588: 2, 32589: 7, 32591: 4, 32636: 2, 32687: 2, 32746: 9, 32767: 15, 32835: 1, 32863: 2, 32938: 3, 32958: 6, 33027: 1, 33082: 5, 33097: 1, 33114: 8, 33152: 2, 33153: 2, 33184: 13, 33242: 2, 33265: 10, 33278: 3, 33339: 2, 33401: 1, 33426: 13, 33432: 5, 33433: 2, 33500: 1, 33555: 17, 33614: 2, 33631: 1, 33660: 1, 33694: 3, 33742: 1, 33750: 1, 33764: 3, 33785: 3, 33805: 1, 33839: 1, 33845: 3, 33855: 1, 34023: 3, 34033: 1, 34062: 1, 34109: 7, 34136: 3, 34181: 4, 34189: 6, 34227: 2, 34234: 3, 34273: 3, 34281: 1, 34282: 1, 34287: 1, 34351: 3, 34369: 9, 34383: 2, 34450: 4, 34478: 1, 34488: 1, 34520: 3, 34540: 9, 34553: 5, 34641: 1, 34706: 1, 34833: 1, 34858: 4, 34861: 3, 34868: 2, 34900: 2, 34908: 5, 34923: 7, 34935: 2, 34943: 1, 34960: 2, 34967: 3, 35059: 1, 35091: 1, 35151: 2, 35182: 52, 35241: 2, 35242: 1, 35360: 5, 35367: 3, 35412: 5, 35415: 8, 35459: 1, 35491: 2, 35515: 2, 35532: 19, 35569: 3, 35570: 1, 35590: 1, 35716: 1, 35858: 8, 35880: 1, 35895: 1, 36077: 2, 36200: 1, 36234: 3, 36239: 16, 36263: 3, 36273: 3, 36274: 2, 36286: 4, 36349: 1, 36352: 3, 36364: 196, 36437: 2, 36482: 5, 36490: 175, 36526: 5, 36530: 4, 36560: 2, 36565: 3, 36617: 4, 36626: 5, 36654: 2, 36670: 2, 36692: 2, 36715: 2, 36719: 2, 36744: 3, 36779: 1, 36785: 1, 36808: 3, 36809: 1, 36816: 4, 36823: 6, 36836: 3, 36903: 3, 36961: 3, 36993: 5, 36994: 2, 37007: 1, 37009: 9, 37021: 3, 37054: 4, 37061: 10, 37071: 2, 37232: 4, 37257: 3, 37332: 3, 37371: 3, 37401: 2, 37433: 31, 37442: 9, 37461: 2, 37462: 1, 37508: 2, 37559: 17, 37562: 3, 37619: 2, 37654: 6, 37656: 6, 37690: 2, 37763: 2, 37767: 2, 37803: 2, 37814: 4, 37933: 4, 37938: 1, 37989: 2, 37997: 1, 38079: 3, 38134: 1, 38175: 1, 38200: 2, 38221: 2, 38274: 2, 38303: 3, 38335: 7, 38369: 10, 38383: 70, 38409: 1, 38574: 2, 38608: 2, 38637: 3, 38675: 1, 38702: 1, 38723: 3, 38735: 154, 38740: 3, 38747: 9, 38767: 1, 38789: 1, 38889: 4, 38936: 5, 38952: 2, 38965: 9, 38972: 3, 39005: 2, 39008: 1, 39027: 7, 39030: 1, 39106: 2, 39108: 4, 39155: 6, 39160: 6, 39184: 2, 39311: 16, 39332: 2, 39334: 1, 39391: 3, 39401: 5, 39408: 1, 39476: 1, 39481: 3, 39517: 9, 39600: 1, 39634: 5, 39656: 8, 39662: 6, 39666: 3, 39677: 1, 39683: 1, 39703: 1, 39704: 10, 39712: 9, 39722: 2, 39745: 2, 39783: 4, 39784: 1, 39839: 1, 39893: 3, 39933: 7, 39961: 2, 39986: 23, 39996: 9, 39999: 53, 40006: 2, 40012: 22, 40015: 2, 40017: 9, 40035: 5, 40037: 40, 40077: 1, 40109: 2, 40132: 2, 40134: 7, 40195: 6, 40198: 10, 40277: 1, 40289: 1, 40307: 1, 40311: 3, 40326: 3, 40351: 8, 40356: 7, 40381: 3, 40385: 2, 40399: 1, 40512: 5, 40572: 1, 40655: 3, 40892: 10, 40907: 210, 40951: 7, 40970: 9, 41026: 10, 41034: 4, 41102: 1, 41127: 3, 41164: 1, 41181: 1, 41226: 11, 41242: 5, 41248: 2, 41332: 2, 41354: 4, 41360: 4, 41374: 3, 41393: 3, 41399: 2, 41466: 1, 41475: 2, 41716: 4, 41726: 3, 41773: 4, 41821: 66, 41835: 2, 41875: 1, 41908: 3, 41974: 1, 42040: 2, 42075: 1}\n",
      "Player who changes the most: 1438\n",
      "------------------------------------------------------------------------------------------------------------------\n",
      "Count of players who increase_maxbet : 973\n",
      "Count of times each player increase_maxbet : {156: 7, 224: 17, 336: 106, 865: 7, 1069: 3, 1166: 30, 1438: 214, 2073: 2, 3840: 9, 4483: 7, 5147: 3, 5179: 18, 5673: 4, 6284: 14, 6695: 3, 8978: 5, 9197: 9, 9669: 2, 12857: 5, 15956: 48, 17585: 13, 19568: 31, 21209: 46, 21722: 2, 23329: 3, 30426: 9, 30688: 7, 30970: 6, 31137: 220, 31226: 4, 31456: 21, 31606: 339, 31688: 7, 31698: 1, 31739: 6, 31959: 4, 31977: 10, 32192: 605, 32280: 3, 33143: 13, 33286: 137, 33351: 2, 33364: 7, 33458: 10, 33920: 367, 34209: 246, 34251: 36, 34252: 37, 34393: 1, 34677: 1, 34837: 9, 35252: 2, 35287: 6, 35414: 7, 35559: 25, 35670: 8, 35673: 5, 35677: 48, 35728: 1, 35865: 5, 36119: 464, 36256: 584, 36358: 276, 36499: 10, 36674: 172, 36691: 10, 36702: 16, 36861: 11, 37008: 21, 37028: 4, 37509: 55, 37798: 7, 38466: 10, 38956: 5, 39255: 6, 39286: 390, 39335: 11, 39419: 16, 39438: 20, 39463: 14, 39619: 7, 39754: 21, 39821: 6, 39848: 45, 39897: 23, 39937: 48, 39981: 10, 40008: 12, 40104: 9, 40323: 8, 40344: 14, 40514: 16, 40693: 512, 40718: 40, 40977: 1, 41319: 5, 41839: 7, 48: 1, 95: 1, 113: 3, 247: 6, 332: 6, 646: 3, 719: 126, 841: 1, 1136: 3, 1147: 2, 1515: 4, 1694: 1, 1715: 24, 2005: 4, 2015: 1, 2070: 4, 2097: 14, 2332: 3, 2569: 1, 2710: 4, 2736: 13, 3010: 2, 3120: 3, 3265: 4, 3306: 18, 3677: 8, 3708: 2, 3757: 42, 3783: 11, 4269: 2, 4699: 6, 5029: 165, 5045: 2, 6894: 13, 6907: 7, 7257: 5, 7390: 4, 8370: 15, 8412: 9, 8481: 6, 8568: 23, 8749: 14, 9031: 2, 9202: 3, 9357: 36, 9495: 6, 9823: 3, 9976: 2, 9989: 23, 12148: 4, 12419: 7, 12692: 5, 12938: 12, 12997: 7, 13021: 34, 13463: 24, 13555: 2, 13746: 8, 13765: 219, 14041: 5, 15039: 9, 15267: 2, 15786: 8, 16672: 2, 17380: 11, 17637: 1, 18546: 13, 20134: 245, 20390: 2, 22267: 5, 23225: 63, 23808: 5, 24230: 135, 24572: 12, 24735: 11, 25999: 5, 27413: 11, 28704: 1, 28913: 3, 29236: 14, 29587: 5, 29607: 3, 29936: 20, 29942: 9, 30265: 4, 30308: 14, 30356: 9, 30487: 4, 30502: 14, 30521: 10, 30525: 7, 30546: 2, 30563: 5, 30564: 4, 30616: 3, 30633: 4, 30805: 22, 30817: 2, 30830: 1, 30878: 7, 30898: 23, 30937: 5, 30961: 6, 31032: 1, 31222: 11, 31225: 9, 31258: 2, 31289: 6, 31291: 10, 31322: 2, 31367: 10, 31449: 19, 31454: 5, 31473: 6, 31482: 2, 31523: 5, 31536: 1, 31537: 563, 31580: 12, 31615: 2, 31647: 14, 31685: 2, 31726: 6, 31819: 97, 31956: 1, 31981: 3, 32009: 7, 32043: 5, 32052: 12, 32072: 3, 32221: 3, 32259: 1, 32262: 3, 32278: 10, 32283: 74, 32286: 4, 32311: 7, 32343: 8, 32366: 1, 32377: 8, 32382: 1, 32385: 2, 32469: 4, 32499: 11, 32587: 1, 32647: 59, 32656: 1, 32705: 4, 32764: 5, 32887: 6, 32918: 5, 32997: 3, 33031: 7, 33034: 9, 33052: 8, 33095: 9, 33098: 1, 33099: 1, 33115: 19, 33201: 2, 33213: 4, 33360: 1, 33386: 2, 33389: 4, 33647: 19, 33714: 4, 33732: 3, 33739: 17, 33751: 6, 33759: 59, 33788: 7, 33834: 8, 33838: 7, 33928: 4, 34020: 7, 34024: 5, 34025: 12, 34047: 5, 34052: 14, 34061: 4, 34104: 2, 34133: 3, 34158: 7, 34165: 8, 34184: 1, 34200: 1, 34208: 3, 34378: 6, 34399: 4, 34415: 166, 34419: 17, 34461: 2, 34549: 12, 34551: 2, 34614: 5, 34696: 355, 34735: 37, 34740: 3, 34751: 15, 34911: 8, 34974: 3, 35028: 15, 35051: 5, 35085: 173, 35108: 23, 35110: 5, 35128: 130, 35159: 1, 35192: 10, 35211: 6, 35265: 1, 35277: 4, 35279: 5, 35294: 1, 35313: 5, 35327: 3, 35390: 10, 35407: 8, 35419: 5, 35478: 5, 35518: 2, 35561: 175, 35595: 5, 35596: 4, 35612: 3, 35615: 4, 35642: 2, 35705: 1, 35715: 9, 35744: 7, 35794: 13, 35814: 3, 35942: 5, 35966: 5, 35968: 3, 36066: 21, 36095: 1, 36148: 168, 36167: 12, 36232: 24, 36279: 1, 36317: 7, 36357: 9, 36446: 6, 36462: 2, 36473: 4, 36479: 13, 36543: 9, 36577: 14, 36619: 3, 36624: 8, 36658: 215, 36693: 2, 36748: 6, 36778: 9, 37039: 18, 37047: 1, 37052: 8, 37070: 3, 37095: 1, 37194: 2, 37195: 2, 37209: 2, 37370: 9, 37376: 10, 37404: 8, 37478: 385, 37488: 5, 37510: 12, 37513: 13, 37531: 1, 37549: 4, 37567: 6, 37572: 2, 37720: 6, 37792: 1, 37800: 4, 37864: 12, 37875: 3, 37953: 5, 38064: 2, 38136: 4, 38169: 7, 38187: 6, 38229: 2, 38253: 4, 38255: 6, 38267: 4, 38281: 1, 38340: 2, 38365: 5, 38391: 86, 38418: 3, 38524: 13, 38533: 11, 38551: 1, 38603: 6, 38669: 26, 38730: 11, 38830: 6, 38874: 1, 38935: 12, 38991: 5, 39060: 9, 39074: 1, 39085: 2, 39086: 3, 39093: 4, 39094: 2, 39177: 2, 39214: 2, 39267: 1, 39273: 4, 39280: 8, 39288: 3, 39324: 9, 39344: 16, 39352: 8, 39367: 1, 39415: 4, 39425: 7, 39441: 9, 39618: 1, 39620: 5, 39622: 3, 39623: 9, 39644: 5, 39676: 5, 39711: 15, 39713: 4, 39721: 1, 39743: 11, 39772: 99, 39779: 8, 39824: 13, 39829: 10, 39843: 6, 39880: 6, 39888: 127, 39924: 3, 39962: 5, 40053: 2, 40066: 7, 40078: 5, 40103: 3, 40163: 20, 40165: 16, 40187: 3, 40196: 6, 40216: 1, 40222: 1, 40294: 3, 40305: 2, 40376: 613, 40418: 5, 40430: 19, 40452: 16, 40516: 6, 40557: 124, 40628: 6, 40631: 1, 40664: 168, 40688: 10, 40928: 4, 40992: 1, 41011: 2, 41148: 18, 41193: 119, 41197: 5, 41258: 8, 41291: 6, 41300: 8, 41304: 1, 41308: 86, 41346: 1, 41365: 1, 41449: 9, 41472: 11, 41489: 11, 41518: 2, 41625: 3, 41643: 19, 41690: 3, 41713: 10, 41748: 72, 41848: 5, 41854: 3, 41893: 16, 42067: 3, 42212: 113, 42254: 3, 94: 4, 611: 4, 1213: 7, 1233: 2, 2067: 12, 2214: 1, 2431: 2, 2459: 9, 2595: 5, 2858: 12, 2993: 2, 3756: 158, 3933: 7, 4270: 3, 4333: 10, 4688: 4, 5042: 61, 5482: 65, 5525: 4, 5745: 12, 5789: 4, 6138: 4, 6142: 6, 6286: 7, 6488: 6, 6502: 6, 6556: 4, 6605: 2, 7119: 1, 7400: 4, 7739: 8, 7746: 62, 7978: 1, 8003: 3, 8005: 4, 8383: 22, 8553: 8, 8793: 4, 9048: 2, 9071: 16, 9205: 4, 9287: 1, 9660: 2, 9755: 6, 9788: 4, 9968: 4, 10092: 1, 10154: 3, 10897: 2, 11643: 20, 12052: 4, 12356: 36, 13204: 7, 13396: 9, 13704: 16, 14693: 8, 15107: 6, 16126: 2, 17021: 4, 17072: 1, 17655: 4, 18198: 1, 18251: 1, 18472: 6, 18827: 4, 19576: 3, 19741: 1, 19919: 1, 20072: 64, 20155: 7, 21894: 3, 22968: 1, 23358: 4, 23416: 2, 24373: 4, 25508: 1, 25523: 2, 26433: 2, 27206: 5, 28663: 3, 29218: 6, 29219: 4, 29303: 5, 29336: 6, 29337: 2, 29380: 1, 30011: 2, 30215: 1, 30232: 156, 30240: 2, 30259: 1, 30304: 6, 30352: 4, 30357: 4, 30365: 3, 30400: 5, 30428: 1, 30438: 1, 30460: 1, 30496: 3, 30509: 2, 30542: 14, 30545: 1, 30635: 4, 30653: 12, 30679: 1, 30699: 10, 30831: 6, 30832: 3, 30855: 3, 30862: 3, 30887: 4, 30959: 4, 30968: 5, 30980: 3, 31082: 152, 31158: 5, 31163: 2, 31205: 6, 31209: 9, 31210: 17, 31316: 11, 31356: 4, 31366: 1, 31434: 2, 31439: 1, 31465: 5, 31483: 1, 31594: 46, 31627: 1, 31639: 7, 31679: 12, 31749: 1, 31775: 1, 31818: 2, 31857: 4, 31871: 5, 31891: 3, 31927: 2, 31961: 2, 31973: 2, 32003: 2, 32006: 4, 32010: 4, 32023: 6, 32040: 6, 32064: 2, 32069: 2, 32095: 3, 32130: 11, 32137: 11, 32162: 4, 32224: 1, 32246: 8, 32249: 1, 32274: 4, 32275: 259, 32299: 2, 32435: 13, 32436: 7, 32439: 10, 32479: 7, 32490: 4, 32497: 3, 32566: 94, 32588: 3, 32589: 11, 32591: 5, 32593: 1, 32614: 2, 32636: 2, 32640: 2, 32703: 5, 32726: 1, 32746: 5, 32767: 13, 32835: 1, 32863: 3, 32938: 2, 32958: 85, 33004: 3, 33027: 1, 33082: 6, 33114: 15, 33152: 4, 33153: 2, 33184: 14, 33242: 4, 33252: 2, 33265: 8, 33278: 5, 33320: 4, 33339: 4, 33401: 1, 33426: 14, 33432: 13, 33433: 4, 33500: 3, 33555: 46, 33614: 1, 33631: 1, 33660: 2, 33684: 1, 33694: 4, 33741: 7, 33742: 8, 33750: 2, 33764: 3, 33785: 5, 33839: 3, 33845: 3, 33855: 1, 33939: 1, 34023: 6, 34033: 7, 34062: 1, 34109: 8, 34136: 2, 34181: 3, 34189: 1, 34227: 3, 34234: 4, 34273: 6, 34279: 2, 34281: 2, 34287: 2, 34351: 4, 34369: 1, 34383: 3, 34417: 1, 34450: 14, 34453: 37, 34478: 1, 34488: 1, 34540: 15, 34553: 7, 34641: 9, 34706: 3, 34833: 1, 34858: 3, 34861: 3, 34868: 2, 34900: 3, 34908: 4, 34923: 4, 34935: 6, 34943: 2, 34960: 2, 34967: 4, 35091: 6, 35178: 9, 35182: 78, 35241: 4, 35242: 3, 35278: 18, 35358: 2, 35360: 3, 35367: 6, 35412: 5, 35415: 8, 35459: 3, 35468: 3, 35491: 2, 35506: 5, 35515: 7, 35532: 24, 35552: 5, 35555: 3, 35569: 6, 35570: 1, 35590: 5, 35716: 5, 35858: 9, 35880: 1, 35895: 2, 36077: 3, 36117: 2, 36200: 2, 36234: 9, 36239: 19, 36263: 1, 36273: 4, 36274: 1, 36286: 1, 36352: 5, 36364: 197, 36437: 4, 36452: 3, 36461: 1, 36482: 2, 36490: 177, 36526: 11, 36530: 6, 36560: 10, 36565: 3, 36617: 8, 36626: 8, 36654: 2, 36670: 2, 36692: 2, 36715: 1, 36779: 4, 36785: 5, 36808: 4, 36809: 1, 36816: 3, 36823: 4, 36836: 50, 36859: 2, 36900: 1, 36903: 2, 36907: 1, 36961: 3, 36993: 5, 36994: 2, 37007: 1, 37009: 6, 37021: 4, 37054: 8, 37061: 13, 37071: 3, 37232: 6, 37233: 3, 37257: 2, 37332: 50, 37366: 2, 37371: 6, 37401: 3, 37433: 4, 37442: 7, 37461: 5, 37462: 5, 37508: 2, 37559: 28, 37562: 1, 37599: 5, 37619: 3, 37654: 7, 37656: 6, 37690: 3, 37763: 3, 37767: 4, 37803: 11, 37814: 6, 37933: 10, 37938: 2, 37989: 2, 38079: 4, 38134: 5, 38175: 5, 38200: 3, 38221: 2, 38274: 4, 38335: 8, 38369: 11, 38383: 70, 38574: 3, 38607: 20, 38608: 2, 38637: 1, 38675: 3, 38702: 11, 38723: 8, 38735: 64, 38740: 6, 38747: 16, 38767: 2, 38789: 7, 38831: 2, 38889: 5, 38897: 1, 38936: 8, 38952: 1, 38965: 8, 38972: 7, 39005: 3, 39027: 12, 39030: 12, 39106: 2, 39108: 2, 39155: 9, 39160: 10, 39184: 21, 39311: 17, 39332: 2, 39334: 3, 39338: 2, 39353: 2, 39391: 2, 39401: 17, 39408: 1, 39476: 4, 39481: 4, 39517: 11, 39600: 2, 39629: 3, 39634: 4, 39656: 2, 39662: 13, 39666: 3, 39677: 1, 39683: 2, 39703: 3, 39704: 9, 39712: 10, 39722: 3, 39745: 3, 39783: 9, 39784: 7, 39791: 1, 39839: 1, 39847: 1, 39893: 5, 39933: 7, 39961: 4, 39986: 17, 39989: 4, 39990: 3, 39996: 5, 39999: 56, 40006: 3, 40012: 11, 40015: 2, 40017: 14, 40035: 6, 40037: 39, 40077: 8, 40109: 2, 40132: 2, 40134: 4, 40195: 7, 40198: 4, 40205: 1, 40220: 1, 40247: 2, 40258: 4, 40276: 25, 40277: 6, 40289: 3, 40311: 43, 40326: 3, 40351: 7, 40356: 15, 40381: 4, 40385: 6, 40399: 1, 40493: 3, 40512: 6, 40527: 1, 40535: 1, 40572: 5, 40655: 3, 40833: 2, 40856: 1, 40892: 8, 40951: 2, 40970: 12, 41025: 2, 41026: 10, 41034: 6, 41102: 6, 41127: 5, 41164: 4, 41181: 1, 41226: 1, 41242: 3, 41248: 5, 41306: 1, 41332: 2, 41340: 1, 41354: 2, 41360: 5, 41393: 4, 41399: 5, 41466: 1, 41475: 11, 41716: 4, 41726: 2, 41773: 7, 41821: 68, 41835: 1, 41908: 5, 41939: 2, 42040: 2, 42075: 1}\n",
      "Player who changes the most: 40376\n",
      "------------------------------------------------------------------------------------------------------------------\n",
      "Count of players who decrease_maxbet : 979\n",
      "Count of times each player decrease_maxbet : {156: 7, 224: 16, 336: 105, 865: 6, 1069: 3, 1166: 30, 1438: 213, 2073: 2, 3840: 7, 4483: 13, 4912: 1, 5147: 3, 5179: 19, 5673: 5, 6284: 13, 6695: 3, 8978: 4, 9197: 8, 9669: 2, 12857: 5, 15956: 46, 17585: 12, 19568: 33, 21209: 44, 21722: 2, 23329: 3, 26097: 1, 30426: 9, 30688: 8, 30970: 6, 31137: 220, 31226: 6, 31456: 21, 31606: 338, 31688: 5, 31698: 1, 31739: 6, 31959: 3, 31977: 8, 32192: 604, 32280: 3, 33143: 15, 33286: 148, 33351: 2, 33364: 8, 33458: 5, 33920: 369, 34209: 246, 34251: 34, 34252: 33, 34393: 1, 34677: 1, 34837: 7, 35252: 2, 35287: 6, 35414: 6, 35559: 27, 35670: 5, 35673: 6, 35677: 47, 35728: 2, 35865: 5, 35990: 1, 36119: 464, 36256: 583, 36358: 277, 36499: 10, 36674: 170, 36691: 9, 36702: 18, 36861: 12, 37008: 21, 37028: 4, 37135: 1, 37509: 54, 37798: 4, 38466: 11, 38683: 1, 38956: 4, 39255: 6, 39286: 389, 39335: 11, 39419: 16, 39438: 21, 39463: 16, 39619: 8, 39754: 20, 39821: 8, 39848: 44, 39897: 17, 39937: 49, 39981: 9, 40008: 10, 40104: 9, 40323: 8, 40344: 14, 40514: 12, 40693: 513, 40718: 33, 40977: 1, 41319: 9, 41839: 8, 48: 1, 95: 1, 113: 3, 247: 9, 332: 4, 646: 5, 719: 127, 1136: 4, 1147: 1, 1515: 5, 1694: 1, 1715: 22, 2005: 3, 2015: 2, 2070: 3, 2097: 10, 2332: 6, 2569: 1, 2710: 5, 2736: 11, 3010: 1, 3120: 3, 3265: 5, 3306: 17, 3677: 10, 3708: 3, 3757: 40, 3783: 12, 4269: 3, 4699: 6, 5029: 163, 5045: 2, 6894: 14, 6907: 7, 7257: 8, 7390: 4, 8370: 15, 8412: 11, 8481: 9, 8568: 26, 8749: 14, 9031: 3, 9202: 5, 9357: 35, 9410: 1, 9495: 9, 9823: 2, 9976: 2, 9989: 19, 12148: 4, 12419: 6, 12692: 6, 12938: 11, 12997: 5, 13021: 36, 13463: 24, 13555: 2, 13746: 15, 13765: 222, 14041: 6, 15039: 13, 15267: 2, 15786: 6, 16672: 2, 17380: 10, 17637: 2, 18546: 14, 20134: 245, 20390: 3, 22267: 4, 23225: 62, 23808: 5, 24230: 135, 24572: 7, 24735: 13, 25999: 4, 27413: 9, 28704: 2, 28913: 4, 29236: 15, 29587: 5, 29607: 4, 29936: 18, 29942: 9, 30265: 5, 30308: 14, 30356: 7, 30487: 5, 30502: 17, 30521: 11, 30525: 5, 30546: 3, 30563: 5, 30564: 4, 30616: 2, 30633: 6, 30805: 21, 30817: 4, 30830: 1, 30878: 7, 30898: 23, 30937: 4, 30961: 5, 31222: 10, 31225: 7, 31258: 1, 31289: 7, 31291: 16, 31322: 4, 31367: 10, 31449: 18, 31454: 4, 31473: 6, 31482: 2, 31523: 6, 31536: 1, 31537: 562, 31580: 11, 31615: 2, 31647: 14, 31685: 4, 31726: 7, 31819: 98, 31981: 3, 32009: 6, 32043: 6, 32052: 14, 32072: 4, 32221: 4, 32262: 3, 32278: 10, 32283: 77, 32286: 6, 32311: 8, 32343: 8, 32366: 1, 32377: 8, 32382: 1, 32385: 1, 32469: 6, 32499: 14, 32587: 1, 32647: 60, 32656: 2, 32705: 3, 32764: 6, 32887: 5, 32918: 3, 32997: 2, 33031: 6, 33034: 7, 33052: 11, 33095: 9, 33098: 1, 33099: 1, 33115: 20, 33201: 2, 33213: 4, 33360: 1, 33386: 3, 33389: 5, 33647: 13, 33714: 1, 33732: 1, 33739: 16, 33751: 5, 33759: 57, 33788: 12, 33799: 1, 33834: 9, 33838: 10, 33928: 5, 34020: 7, 34024: 4, 34025: 11, 34047: 4, 34052: 15, 34061: 7, 34104: 1, 34133: 2, 34158: 5, 34165: 13, 34184: 1, 34200: 2, 34208: 2, 34378: 7, 34399: 4, 34415: 167, 34419: 21, 34461: 2, 34501: 1, 34549: 13, 34551: 3, 34599: 2, 34614: 6, 34696: 356, 34735: 34, 34740: 4, 34751: 17, 34754: 1, 34911: 9, 34974: 3, 35028: 14, 35051: 3, 35085: 172, 35108: 23, 35110: 7, 35128: 130, 35192: 10, 35211: 6, 35265: 1, 35277: 4, 35279: 9, 35294: 1, 35313: 4, 35327: 3, 35390: 12, 35407: 7, 35419: 5, 35478: 6, 35518: 3, 35561: 173, 35595: 5, 35596: 6, 35612: 3, 35615: 6, 35642: 3, 35705: 2, 35715: 7, 35744: 7, 35794: 14, 35814: 1, 35942: 3, 35966: 10, 35968: 5, 36066: 20, 36095: 1, 36148: 169, 36167: 13, 36232: 25, 36279: 1, 36317: 6, 36357: 6, 36446: 9, 36462: 3, 36473: 3, 36479: 12, 36543: 11, 36577: 15, 36608: 2, 36619: 2, 36624: 4, 36658: 219, 36693: 2, 36748: 5, 36778: 9, 37039: 17, 37052: 7, 37070: 3, 37095: 1, 37194: 2, 37195: 2, 37209: 2, 37370: 7, 37376: 8, 37404: 9, 37478: 386, 37488: 6, 37510: 8, 37513: 9, 37549: 4, 37567: 4, 37572: 4, 37720: 7, 37792: 1, 37800: 5, 37864: 6, 37875: 2, 37953: 4, 38064: 2, 38136: 3, 38169: 6, 38187: 8, 38229: 1, 38253: 2, 38255: 4, 38267: 6, 38281: 1, 38340: 2, 38365: 5, 38391: 85, 38418: 5, 38524: 13, 38533: 14, 38551: 1, 38603: 5, 38669: 27, 38730: 10, 38830: 4, 38874: 1, 38935: 10, 38991: 6, 39060: 10, 39074: 1, 39085: 4, 39086: 4, 39093: 3, 39094: 1, 39177: 1, 39214: 3, 39267: 1, 39273: 6, 39280: 5, 39288: 3, 39324: 7, 39344: 19, 39352: 8, 39415: 4, 39425: 8, 39441: 10, 39496: 1, 39618: 1, 39620: 3, 39622: 5, 39623: 8, 39644: 7, 39676: 5, 39711: 17, 39713: 3, 39721: 1, 39743: 10, 39772: 97, 39779: 14, 39824: 12, 39829: 11, 39843: 5, 39880: 7, 39888: 124, 39924: 4, 39962: 5, 40053: 3, 40066: 9, 40078: 5, 40103: 4, 40163: 16, 40165: 20, 40187: 3, 40196: 7, 40216: 1, 40222: 1, 40294: 3, 40305: 2, 40376: 615, 40418: 7, 40430: 17, 40452: 12, 40516: 7, 40557: 121, 40628: 5, 40664: 163, 40688: 12, 40928: 3, 40992: 1, 41011: 3, 41148: 14, 41193: 121, 41197: 5, 41258: 3, 41291: 8, 41300: 5, 41308: 88, 41346: 1, 41365: 2, 41449: 7, 41472: 9, 41489: 8, 41518: 1, 41643: 17, 41690: 3, 41713: 7, 41748: 71, 41848: 4, 41854: 2, 41893: 15, 42067: 1, 42212: 113, 42254: 2, 94: 4, 611: 3, 1213: 4, 1233: 1, 2067: 12, 2214: 4, 2431: 1, 2459: 9, 2595: 4, 2858: 11, 2993: 1, 3756: 159, 3933: 5, 4270: 2, 4333: 6, 4688: 3, 4874: 2, 5042: 61, 5482: 65, 5525: 3, 5745: 10, 5789: 5, 6138: 4, 6142: 8, 6286: 8, 6488: 6, 6502: 6, 6556: 5, 6605: 2, 7119: 1, 7400: 6, 7739: 9, 7746: 60, 7978: 1, 8003: 2, 8005: 4, 8383: 21, 8553: 7, 8793: 5, 9048: 3, 9071: 18, 9205: 6, 9287: 1, 9660: 3, 9755: 7, 9788: 2, 9968: 3, 10092: 2, 10154: 2, 10897: 1, 11643: 18, 12052: 4, 12356: 35, 13204: 8, 13396: 6, 13704: 14, 14693: 6, 15107: 5, 16126: 1, 16299: 1, 17021: 5, 17072: 2, 17655: 7, 18198: 1, 18251: 2, 18472: 2, 18827: 4, 19523: 1, 19576: 4, 19741: 1, 19919: 1, 20072: 64, 20155: 4, 21894: 2, 22350: 1, 22968: 1, 23358: 2, 23416: 4, 24373: 6, 25508: 1, 25523: 2, 26433: 2, 27206: 4, 28663: 4, 29218: 6, 29219: 3, 29303: 7, 29336: 6, 29337: 2, 30011: 3, 30215: 1, 30232: 156, 30240: 2, 30259: 1, 30304: 2, 30352: 4, 30357: 3, 30365: 3, 30400: 2, 30428: 1, 30438: 1, 30460: 2, 30496: 1, 30509: 1, 30542: 12, 30545: 2, 30635: 6, 30653: 9, 30679: 1, 30699: 10, 30831: 4, 30832: 2, 30855: 3, 30862: 3, 30887: 6, 30959: 2, 30968: 6, 30980: 4, 31045: 3, 31082: 153, 31158: 5, 31163: 2, 31205: 5, 31209: 6, 31210: 17, 31316: 9, 31356: 2, 31366: 3, 31434: 2, 31439: 1, 31465: 3, 31483: 1, 31594: 43, 31627: 3, 31639: 7, 31679: 13, 31749: 2, 31775: 2, 31818: 1, 31857: 4, 31871: 5, 31891: 3, 31927: 3, 31961: 3, 31973: 1, 32003: 3, 32006: 5, 32010: 5, 32023: 7, 32040: 10, 32064: 2, 32069: 1, 32095: 4, 32130: 12, 32137: 10, 32162: 5, 32224: 1, 32246: 8, 32274: 2, 32275: 261, 32299: 3, 32435: 8, 32436: 4, 32439: 7, 32479: 7, 32490: 4, 32497: 8, 32566: 94, 32588: 5, 32589: 8, 32591: 3, 32593: 2, 32614: 1, 32636: 2, 32640: 2, 32687: 1, 32703: 6, 32726: 1, 32746: 5, 32767: 13, 32835: 2, 32863: 2, 32938: 2, 32958: 88, 33004: 4, 33027: 1, 33082: 5, 33097: 1, 33114: 12, 33152: 4, 33153: 1, 33184: 16, 33242: 7, 33252: 3, 33265: 7, 33278: 7, 33320: 4, 33339: 1, 33401: 1, 33426: 14, 33432: 10, 33433: 9, 33500: 3, 33555: 46, 33631: 2, 33684: 1, 33694: 2, 33741: 4, 33742: 9, 33750: 2, 33764: 5, 33785: 7, 33839: 5, 33845: 3, 33855: 2, 33939: 1, 34023: 6, 34033: 6, 34042: 1, 34062: 1, 34109: 7, 34136: 4, 34181: 3, 34189: 1, 34227: 4, 34234: 2, 34273: 5, 34279: 4, 34281: 2, 34287: 2, 34351: 2, 34369: 3, 34383: 3, 34417: 2, 34450: 12, 34453: 35, 34478: 1, 34488: 2, 34520: 1, 34540: 15, 34553: 5, 34641: 10, 34706: 4, 34833: 1, 34858: 6, 34861: 3, 34868: 2, 34900: 5, 34908: 3, 34923: 5, 34935: 6, 34943: 1, 34960: 1, 34967: 6, 35091: 7, 35178: 8, 35182: 79, 35241: 3, 35242: 1, 35278: 19, 35358: 1, 35360: 2, 35367: 5, 35412: 8, 35415: 8, 35459: 5, 35468: 1, 35491: 1, 35506: 3, 35515: 6, 35532: 22, 35552: 3, 35555: 2, 35569: 9, 35570: 1, 35590: 5, 35716: 5, 35858: 3, 35880: 1, 35895: 2, 36077: 4, 36117: 3, 36200: 2, 36234: 11, 36239: 16, 36273: 3, 36286: 1, 36349: 1, 36352: 4, 36364: 195, 36437: 3, 36452: 5, 36461: 2, 36482: 1, 36490: 178, 36526: 6, 36530: 5, 36560: 10, 36565: 1, 36617: 5, 36626: 12, 36654: 4, 36670: 1, 36692: 1, 36715: 3, 36719: 2, 36779: 6, 36785: 3, 36808: 4, 36809: 1, 36816: 3, 36823: 6, 36836: 51, 36859: 3, 36900: 1, 36903: 3, 36907: 1, 36961: 4, 36993: 7, 36994: 4, 37007: 1, 37009: 8, 37021: 2, 37054: 7, 37061: 14, 37071: 4, 37232: 6, 37233: 3, 37257: 1, 37332: 47, 37366: 2, 37371: 6, 37401: 4, 37418: 2, 37433: 8, 37442: 7, 37461: 5, 37462: 5, 37508: 1, 37559: 28, 37562: 1, 37599: 2, 37619: 4, 37654: 3, 37656: 7, 37690: 8, 37763: 3, 37767: 6, 37803: 13, 37814: 4, 37933: 8, 37989: 1, 38079: 4, 38134: 3, 38175: 1, 38200: 2, 38221: 2, 38274: 3, 38335: 8, 38369: 7, 38383: 71, 38409: 1, 38574: 3, 38607: 21, 38608: 1, 38637: 1, 38702: 10, 38723: 7, 38735: 65, 38740: 4, 38747: 15, 38767: 2, 38789: 7, 38831: 2, 38889: 8, 38897: 2, 38936: 4, 38952: 2, 38965: 7, 38972: 5, 39005: 3, 39027: 12, 39030: 9, 39106: 3, 39108: 1, 39155: 4, 39160: 9, 39184: 20, 39311: 15, 39332: 4, 39334: 1, 39338: 1, 39353: 2, 39391: 2, 39401: 16, 39407: 1, 39408: 2, 39476: 3, 39481: 2, 39517: 13, 39600: 1, 39629: 2, 39634: 2, 39656: 1, 39662: 16, 39666: 3, 39677: 1, 39683: 2, 39703: 1, 39704: 10, 39712: 9, 39722: 3, 39745: 2, 39783: 7, 39784: 7, 39791: 1, 39839: 1, 39893: 6, 39933: 8, 39961: 4, 39986: 16, 39989: 4, 39990: 2, 39996: 5, 39999: 55, 40006: 8, 40012: 13, 40015: 3, 40017: 11, 40035: 7, 40037: 39, 40077: 8, 40109: 2, 40132: 1, 40134: 3, 40195: 8, 40198: 4, 40205: 1, 40220: 1, 40258: 5, 40276: 25, 40277: 3, 40289: 1, 40307: 2, 40311: 39, 40326: 3, 40351: 7, 40356: 21, 40381: 1, 40385: 9, 40399: 1, 40493: 3, 40512: 7, 40527: 1, 40572: 6, 40655: 5, 40833: 1, 40856: 1, 40892: 12, 40951: 3, 40970: 9, 41025: 1, 41026: 11, 41034: 5, 41102: 6, 41127: 7, 41164: 2, 41181: 1, 41226: 2, 41242: 3, 41248: 4, 41306: 1, 41332: 2, 41340: 1, 41354: 6, 41360: 5, 41393: 1, 41399: 4, 41466: 1, 41475: 11, 41478: 1, 41716: 3, 41726: 6, 41773: 6, 41821: 68, 41835: 2, 41908: 3, 41939: 2, 42040: 3, 42075: 1}\n",
      "Player who changes the most: 40376\n",
      "------------------------------------------------------------------------------------------------------------------\n"
     ]
    }
   ],
   "source": [
    "# Lets do the same but for df_s\n",
    "players_increase_slot_s = cf.count_increase(df_s, \"increase_slotdeno\", \"playerkey\", \"slotdenomination\")\n",
    "players_decrease_slot_s = cf.count_decrease(df_s, \"decrease_slotdeno\", \"playerkey\", \"slotdenomination\")\n",
    "players_increase_maxbet_s = cf.count_increase(df_s, \"increase_maxbet\", \"playerkey\", \"maxbet\")\n",
    "players_decrease_maxbet_s = cf.count_decrease(df_s, \"decrease_maxbet\", \"playerkey\", \"maxbet\")"
   ]
  },
  {
   "attachments": {},
   "cell_type": "markdown",
   "metadata": {},
   "source": [
    "### Wealth Differences\n",
    "#### General"
   ]
  },
  {
   "cell_type": "code",
   "execution_count": 18,
   "metadata": {},
   "outputs": [],
   "source": [
    "# Lets crate a column called 'depletion_slope' which is the difference of 'playercashableamt' between the current gamble and the previous gamble\n",
    "df['depletion_rate'] = df.groupby(['playerkey', 'session_time'])['playercashableamt'].diff().fillna(0)\n",
    "\n",
    "# Lets crate a column called 'depletion_slope' which is the difference of 'playercashableamt' between the current gamble and the previous gamble\n",
    "df_s['depletion_rate'] = df_s.groupby(['playerkey', 'session_time'])['playercashableamt'].diff().fillna(0)\n"
   ]
  },
  {
   "attachments": {},
   "cell_type": "markdown",
   "metadata": {},
   "source": [
    "#### Per Visit"
   ]
  },
  {
   "cell_type": "code",
   "execution_count": 19,
   "metadata": {},
   "outputs": [],
   "source": [
    "# Create dataframe for Machine Learning model\n",
    "df_ML_v = pf.transform_ml(data_b=df, grouping='visit')"
   ]
  },
  {
   "cell_type": "code",
   "execution_count": 20,
   "metadata": {},
   "outputs": [
    {
     "name": "stdout",
     "output_type": "stream",
     "text": [
      "Number of unique players in df_ML_v:  1122\n",
      "Number of discrepancies: 35\n",
      "Number of unique players w/o discrepancies:  1087\n"
     ]
    }
   ],
   "source": [
    "# Print number of unique players\n",
    "print(\"Number of unique players in df_ML_v: \", df_ML_v['playerkey'].nunique())\n",
    "\n",
    "# Get the IDs of players who have NaN values in any of the columns\n",
    "list_discrepancy_v = df_ML_v[df_ML_v.isna().any(axis=1)]['playerkey'].unique()\n",
    "\n",
    "# print number of discrepancies\n",
    "print(\"Number of discrepancies:\", len(list_discrepancy_v))\n",
    "\n",
    "# Remove players with NaN values\n",
    "df_ML_v = df_ML_v[~df_ML_v['playerkey'].isin(list_discrepancy_v)]\n",
    "\n",
    "# Print number of unique players with no NaN values\n",
    "print(\"Number of unique players w/o discrepancies: \", df_ML_v['playerkey'].nunique())"
   ]
  },
  {
   "cell_type": "code",
   "execution_count": 21,
   "metadata": {},
   "outputs": [
    {
     "name": "stdout",
     "output_type": "stream",
     "text": [
      "Index(['playerkey', 'visit', 'gender', 'age_range', 'age_gen', 'beginning_amt',\n",
      "       'ending_amt', 'ending_balance', 'ave_slotdenom', 'std_slotdenom',\n",
      "       'min_slotdenom', 'max_slotdenom', 'ave_theo_payback',\n",
      "       'min_theo_payback', 'max_theo_payback', 'ave_wageramt', 'std_wageramt',\n",
      "       'min_wager', 'max_wager', 'ave_p/b', 'std_p/b', 'max_p/b', 'max_profit',\n",
      "       'depletion_slope', '#inc_slotdenom', '#dec_slotdenom', '#inc_maxbet',\n",
      "       '#dec_maxbet', 'first_wager', 'first_outcome', 'first_p/b',\n",
      "       'last_wager', 'last_outcome', 'last_p/b', 'machines_changes', '#W',\n",
      "       '#L', '#NH', '#D', 'w/g', 'l/g', 'nh/g', 'd/g', '#2ws', '2ws_profit',\n",
      "       '2ws_wgramt', '#3ws', '3ws_profit', '3ws_wgramt', '#4ws', '4ws_profit',\n",
      "       '4ws_wgramt', 'ave_time_per_gamble', 'min_time_per_gamble',\n",
      "       'max_time_per_gamble', 'total_duration', 'total_gambles',\n",
      "       'classification', 'unique_machines', 'ave_time_per_machine', 'w/min',\n",
      "       'l/min', 'nh/min', 'd/min', '2ws/min', '3ws/min', '4ws/min'],\n",
      "      dtype='object')\n"
     ]
    }
   ],
   "source": [
    "print(df_ML_v.columns)\n",
    "\n",
    "# # # Reorder Columns\n",
    "desired_order = ['playerkey', 'visit', 'gender', 'age_range', 'age_gen',\n",
    "                'beginning_amt', 'ending_amt', 'ending_balance', 'ave_slotdenom',\n",
    "                'std_slotdenom', 'min_slotdenom', 'max_slotdenom', 'ave_theo_payback',\n",
    "                'min_theo_payback', 'max_theo_payback', 'ave_wageramt', 'std_wageramt',\n",
    "                'min_wager', 'max_wager', 'ave_p/b', 'std_p/b', 'max_p/b', 'max_profit', 'depletion_slope',\n",
    "                '#inc_maxbet', '#dec_maxbet', 'first_wager', 'first_outcome', 'first_p/b', 'last_wager',\n",
    "                'last_outcome', 'last_p/b', '#W', '#L', '#NH', '#D', 'w/min', 'l/min', 'nh/min', 'd/min', \n",
    "                'w/g', 'l/g', 'nh/g', 'd/g', '#2ws', '2ws_profit', '2ws_wgramt', '#3ws', \n",
    "                '3ws_profit','3ws_wgramt', '#4ws', '4ws_profit', '4ws_wgramt', '2ws/min', '3ws/min', '4ws/min',\n",
    "                'ave_time_per_gamble', 'min_time_per_gamble', 'max_time_per_gamble',\n",
    "                'total_duration', 'total_gambles', 'machines_changes', '#inc_slotdenom', '#dec_slotdenom',\n",
    "                'unique_machines', 'ave_time_per_machine','classification']\n",
    "\n",
    "\n",
    "df_ML_v = df_ML_v.reindex(columns=desired_order)\n",
    "\n",
    "# Save dataframe to paquet file\n",
    "df_ML_v.to_parquet('/Users/mau/Library/CloudStorage/Dropbox/Mac/Documents/Dissertation/Chapter 2/Entire_Data/By month/'+month_file+'/Ending Balances/Per_Player/top_players_ending_balance_by_visit.parquet')"
   ]
  },
  {
   "attachments": {},
   "cell_type": "markdown",
   "metadata": {},
   "source": [
    "#### Per Session"
   ]
  },
  {
   "cell_type": "code",
   "execution_count": 22,
   "metadata": {},
   "outputs": [],
   "source": [
    "df_ML_s = pf.transform_ml(data_b=df_s, grouping='session_time')"
   ]
  },
  {
   "cell_type": "code",
   "execution_count": 23,
   "metadata": {},
   "outputs": [
    {
     "name": "stdout",
     "output_type": "stream",
     "text": [
      "Number of unique players in df_ML_v:  1122\n",
      "Number of discrepancies: 40\n",
      "Number of unique players w/o discrepancies:  1082\n"
     ]
    }
   ],
   "source": [
    "# Print number of unique players\n",
    "print(\"Number of unique players in df_ML_v: \", df_ML_s['playerkey'].nunique())\n",
    "\n",
    "# Get the IDs of players who have NaN values in any of the columns\n",
    "list_discrepancy_s = df_ML_s[df_ML_s.isna().any(axis=1)]['playerkey'].unique()\n",
    "\n",
    "# print number of discrepancies\n",
    "print(\"Number of discrepancies:\", len(list_discrepancy_s))\n",
    "\n",
    "# Remove players with NaN values\n",
    "df_ML_s = df_ML_s[~df_ML_s['playerkey'].isin(list_discrepancy_s)]\n",
    "\n",
    "# Print number of unique players with no NaN values\n",
    "print(\"Number of unique players w/o discrepancies: \", df_ML_s['playerkey'].nunique())"
   ]
  },
  {
   "cell_type": "code",
   "execution_count": 24,
   "metadata": {},
   "outputs": [
    {
     "name": "stdout",
     "output_type": "stream",
     "text": [
      "Index(['playerkey', 'session_time', 'gender', 'age_range', 'age_gen',\n",
      "       'beginning_amt', 'ending_amt', 'ending_balance', 'ave_slotdenom',\n",
      "       'std_slotdenom', 'min_slotdenom', 'max_slotdenom', 'ave_theo_payback',\n",
      "       'min_theo_payback', 'max_theo_payback', 'ave_wageramt', 'std_wageramt',\n",
      "       'min_wager', 'max_wager', 'ave_p/b', 'std_p/b', 'max_p/b', 'max_profit',\n",
      "       'depletion_slope', '#inc_slotdenom', '#dec_slotdenom', '#inc_maxbet',\n",
      "       '#dec_maxbet', 'first_wager', 'first_outcome', 'first_p/b',\n",
      "       'last_wager', 'last_outcome', 'last_p/b', 'machines_changes', '#W',\n",
      "       '#L', '#NH', '#D', 'w/g', 'l/g', 'nh/g', 'd/g', '#2ws', '2ws_profit',\n",
      "       '2ws_wgramt', '#3ws', '3ws_profit', '3ws_wgramt', '#4ws', '4ws_profit',\n",
      "       '4ws_wgramt', 'ave_time_per_gamble', 'min_time_per_gamble',\n",
      "       'max_time_per_gamble', 'total_duration', 'total_gambles',\n",
      "       'classification', 'unique_machines', 'ave_time_per_machine', 'w/min',\n",
      "       'l/min', 'nh/min', 'd/min', '2ws/min', '3ws/min', '4ws/min'],\n",
      "      dtype='object')\n"
     ]
    }
   ],
   "source": [
    "print(df_ML_s.columns)\n",
    "\n",
    "# # # Reorder Columns\n",
    "desired_order = ['playerkey', 'session_time', 'gender', 'age_range', 'age_gen',\n",
    "                'beginning_amt', 'ending_amt', 'ending_balance', 'ave_slotdenom',\n",
    "                'std_slotdenom', 'min_slotdenom', 'max_slotdenom', 'ave_theo_payback',\n",
    "                'min_theo_payback', 'max_theo_payback', 'ave_wageramt', 'std_wageramt',\n",
    "                'min_wager', 'max_wager', 'ave_p/b', 'std_p/b', 'max_p/b', 'max_profit', 'depletion_slope',\n",
    "                '#inc_maxbet', '#dec_maxbet', 'first_wager', 'first_outcome', 'first_p/b', 'last_wager',\n",
    "                'last_outcome', 'last_p/b', '#W', '#L', '#NH', '#D', 'w/min', 'l/min', 'nh/min', 'd/min', \n",
    "                'w/g', 'l/g', 'nh/g', 'd/g', '#2ws', '2ws_profit', '2ws_wgramt', '#3ws', \n",
    "                '3ws_profit','3ws_wgramt', '#4ws', '4ws_profit', '4ws_wgramt', '2ws/min', '3ws/min', '4ws/min',\n",
    "                'ave_time_per_gamble', 'min_time_per_gamble', 'max_time_per_gamble',\n",
    "                'total_duration', 'total_gambles', 'machines_changes', '#inc_slotdenom', '#dec_slotdenom',\n",
    "                'unique_machines', 'ave_time_per_machine','classification']\n",
    "\n",
    "df_ML_s = df_ML_s.reindex(columns=desired_order)\n",
    "\n",
    "# Save dataframe to paquet file\n",
    "df_ML_s.to_parquet('/Users/mau/Library/CloudStorage/Dropbox/Mac/Documents/Dissertation/Chapter 2/Entire_Data/By month/'+month_file+'/Ending Balances/Per_Player/top_player_ending_balance_by_session.parquet')\n"
   ]
  }
 ],
 "metadata": {
  "kernelspec": {
   "display_name": "Python 3",
   "language": "python",
   "name": "python3"
  },
  "language_info": {
   "codemirror_mode": {
    "name": "ipython",
    "version": 3
   },
   "file_extension": ".py",
   "mimetype": "text/x-python",
   "name": "python",
   "nbconvert_exporter": "python",
   "pygments_lexer": "ipython3",
   "version": "3.10.0"
  },
  "orig_nbformat": 4
 },
 "nbformat": 4,
 "nbformat_minor": 2
}
