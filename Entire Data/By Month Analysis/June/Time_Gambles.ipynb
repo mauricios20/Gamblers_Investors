{
 "cells": [
  {
   "attachments": {},
   "cell_type": "markdown",
   "metadata": {},
   "source": [
    "# Exploratory Data Analysis (Time & Gambles)\n",
    "\n",
    "We are going to be looking for patterns in players who only played in the month of June. This is with the purpose to distinguish players between short and long positions, and the reasons why they hold this positions. "
   ]
  },
  {
   "cell_type": "code",
   "execution_count": 42,
   "metadata": {},
   "outputs": [],
   "source": [
    "# import all necesary libraries for the project\n",
    "import pandas as pd\n",
    "import os\n",
    "import numpy as np\n",
    "import matplotlib.pyplot as plt\n",
    "import seaborn as sns\n",
    "import datetime as dt\n",
    "import warnings\n",
    "warnings.filterwarnings('ignore')\n"
   ]
  },
  {
   "cell_type": "code",
   "execution_count": 43,
   "metadata": {},
   "outputs": [],
   "source": [
    "# Define working directory\n",
    "path = \"/Users/mau/Library/CloudStorage/Dropbox/Mac/Documents/Dissertation/Chapter 2/Entire_Data/By month/1_Generic\"\n",
    "os.chdir(path)\n",
    "\n",
    "# Filter Columns\n",
    "filter = ['playerkey', 'playercashableamt', 'wageredamt', 'maxbet', 'grosswin',\n",
    "       'currencyinamt', 'assetnumber', 'theoreticalpaybackpercent', \n",
    "       'age', 'rank', 'gender', 'date', 'start_time', 'end_time', 'duration',\n",
    "       'slotdenomination']\n",
    "# Import data\n",
    "dtf = pd.read_parquet('month_6_year_2015.parquet', columns=filter)\n",
    "\n",
    "# Check data\n",
    "dtf.columns\n",
    "\n",
    "# Select only the rows where duration is greater than or equal to zero\n",
    "dtf = dtf[dtf['duration'] >= pd.Timedelta(0)]"
   ]
  },
  {
   "cell_type": "code",
   "execution_count": 44,
   "metadata": {},
   "outputs": [],
   "source": [
    "# Sort data by start_time and playerkey\n",
    "dtf = dtf.sort_values(by=['playerkey', 'date', 'start_time'])"
   ]
  },
  {
   "attachments": {},
   "cell_type": "markdown",
   "metadata": {},
   "source": [
    "## Calculate Foundamental Variables\n",
    "\n",
    "The following variables were calculated using existing data:\n",
    "* _player_loss_: how much money each player has lost in each gamble.\n",
    "* _player_wins_: equals the amount of money they bet plus how much they won.\n",
    "* _percent_return_: the return in player's bets for each gamble played. \n",
    "\n",
    "$$\\text{percent return} = (\\frac{df[wins] - df[wageredamt]}{df[wageredamt]})*100$$\n",
    "\n",
    "* _playercashableamt_pct_change_: calculates the rate of change of player's outstanding gambling amount. \n",
    "\n",
    "$$\\text{playercashableamt \\% change} = (\\frac{df[playercashableamt_{t+1}] - df[playercashableamt_{t}]}{df[playercashableamt_{t}]})*100$$"
   ]
  },
  {
   "cell_type": "code",
   "execution_count": 45,
   "metadata": {},
   "outputs": [],
   "source": [
    "# Crate a new colum that is the inverse of casino_grosswin, named \"player_loss\"\n",
    "dtf[\"player_loss\"] = dtf[\"grosswin\"] * -1\n",
    "\n",
    "# how much each player wins\n",
    "dtf['player_wins'] = dtf['wageredamt'] + dtf['player_loss']\n",
    "\n",
    "# Calculate percentage return for each gamble and add it as a new column\n",
    "dtf[\"percent_return\"] = (dtf[\"player_wins\"] - dtf[\"wageredamt\"]) / dtf[\"wageredamt\"] * 100\n",
    "\n",
    "# Calculate the percent rate of change of playerscashableamt per playerkey\n",
    "dtf[\"playercashableamt_pct_change\"] = dtf.groupby(\"playerkey\")[\"playercashableamt\"].pct_change()\n",
    "# Print the first 5 rows of the DataFrame\n",
    "\n",
    "# Create a time series variable for each player that starts at 1 and increases by 1 for each row\n",
    "dtf[\"gambles\"] = dtf.groupby(\"playerkey\").cumcount() + 1\n"
   ]
  },
  {
   "attachments": {},
   "cell_type": "markdown",
   "metadata": {},
   "source": [
    "### Calulates Number of Visits"
   ]
  },
  {
   "cell_type": "code",
   "execution_count": 46,
   "metadata": {},
   "outputs": [],
   "source": [
    "# Group the DataFrame by playerkey\n",
    "groups = dtf.groupby('playerkey')\n",
    "\n",
    "# Initialize the visit column to 1 for the first visit of each player\n",
    "dtf['visit'] = groups['date'].transform(lambda x: (x.diff().dt.days >= 1).cumsum() + 1)\n",
    "\n",
    "# Reset the visit count for each new player\n",
    "dtf['visit'] = dtf.groupby('playerkey')['visit'].apply(lambda x: x - x.iloc[0] + 1)\n"
   ]
  },
  {
   "attachments": {},
   "cell_type": "markdown",
   "metadata": {},
   "source": [
    "### Calculate Sessions based on Time\n",
    "\n",
    "If there is a pause of 30 minutes or more between gambles it is considered the end of a session, and the start of a new one."
   ]
  },
  {
   "cell_type": "code",
   "execution_count": 47,
   "metadata": {},
   "outputs": [],
   "source": [
    "# Convert the start_time column to datetime\n",
    "dtf[\"start_time\"] = pd.to_datetime(dtf[\"start_time\"])\n",
    "\n",
    "# Sort data by start_time and playerkey\n",
    "dtf = dtf.sort_values(by=['playerkey', 'date', 'start_time'])\n",
    "\n",
    "# Compute the time difference between consecutive gambles for each player\n",
    "dtf['time_diff'] = dtf.groupby('playerkey')['start_time'].diff()\n",
    "\n",
    "# Initialize the session_time column to 1 for the first gamble of each player\n",
    "dtf['session_time'] = dtf.groupby('playerkey').ngroup() + 1\n",
    "\n",
    "# Update the session_time column based on the time difference\n",
    "dtf['session_time'] += (dtf['time_diff'] > pd.Timedelta(minutes=30)).cumsum()\n",
    "\n",
    "# Reset the session_time count for each new visit\n",
    "dtf['session_time'] = dtf.groupby(['playerkey', 'visit'])['session_time'].apply(lambda x: x - x.iloc[0] + 1)\n",
    "\n",
    "# Remove the temporary time_diff column\n",
    "dtf = dtf.drop('time_diff', axis=1)"
   ]
  },
  {
   "attachments": {},
   "cell_type": "markdown",
   "metadata": {},
   "source": [
    "### Calculate Sessions based on Machine Change\n",
    "\n",
    "Everytime a player switches machine a new sessions begins."
   ]
  },
  {
   "cell_type": "code",
   "execution_count": 48,
   "metadata": {},
   "outputs": [],
   "source": [
    "# Initialize the session_machine column to 1 for the first machine of each player\n",
    "dtf['session_machine'] = (dtf.groupby(\"playerkey\")[\"assetnumber\"].diff() != 0).cumsum()\n",
    "\n",
    "# Reset the session_machine count for each new visit\n",
    "dtf['session_machine'] = dtf.groupby(['playerkey', 'visit'])['session_machine'].apply(lambda x: x - x.iloc[0] + 1)\n"
   ]
  },
  {
   "attachments": {},
   "cell_type": "markdown",
   "metadata": {},
   "source": [
    "### Calculate the number of gambles per Visit"
   ]
  },
  {
   "cell_type": "code",
   "execution_count": 49,
   "metadata": {},
   "outputs": [],
   "source": [
    "# Create a column named \"gambles_visit\" that is the number of gambles per visit\n",
    "dtf[\"gambles_visit\"] = dtf.groupby([\"playerkey\", \"visit\"])[\"gambles\"].cumcount() + 1\n",
    "\n",
    "# Reset the gambles_visit count for each new visit\n",
    "dtf['gambles_visit'] = dtf.groupby(['playerkey', 'visit'])['gambles_visit'].apply(lambda x: x - x.iloc[0] + 1)\n"
   ]
  },
  {
   "attachments": {},
   "cell_type": "markdown",
   "metadata": {},
   "source": [
    "### Calculate the number of gambles per Session Time"
   ]
  },
  {
   "cell_type": "code",
   "execution_count": 50,
   "metadata": {},
   "outputs": [],
   "source": [
    "# Create a column named \"gambles_session\" that is the number of gambles per session\n",
    "dtf[\"gambles_session\"] = dtf.groupby([\"playerkey\", \"session_time\"])[\"gambles\"].cumcount() + 1\n",
    "\n",
    "# Reset the gambles_session count for each new session\n",
    "dtf['gambles_session'] = dtf.groupby(['playerkey', 'session_time'])['gambles_session'].apply(lambda x: x - x.iloc[0] + 1)\n"
   ]
  },
  {
   "attachments": {},
   "cell_type": "markdown",
   "metadata": {},
   "source": [
    "### Calculate the number of gambles per Session Machine"
   ]
  },
  {
   "cell_type": "code",
   "execution_count": 51,
   "metadata": {},
   "outputs": [],
   "source": [
    "# Create a column named \"gambles_machine\" that is the number of gambles per session_machine\n",
    "dtf[\"gambles_machine\"] = dtf.groupby([\"playerkey\", \"session_machine\"])[\"gambles\"].cumcount() + 1\n",
    "\n",
    "# Reset the gambles_machine count for each new session_machine\n",
    "dtf['gambles_machine'] = dtf.groupby(['playerkey', 'session_machine'])['gambles_machine'].apply(lambda x: x - x.iloc[0] + 1)"
   ]
  },
  {
   "attachments": {},
   "cell_type": "markdown",
   "metadata": {},
   "source": [
    "## Frequencies of Gambles\n",
    "\n",
    "### General\n",
    "\n",
    "Let's see who plays the most, the least, and the min, max, average, and median number of gambles withouth making a distictions between visits, sessions per time or machine."
   ]
  },
  {
   "cell_type": "code",
   "execution_count": 52,
   "metadata": {},
   "outputs": [
    {
     "name": "stdout",
     "output_type": "stream",
     "text": [
      "Total number of players: 282\n",
      "Total number of gambles: 78245\n",
      "--------------------------------------------\n",
      "Maximimum # of gambles of a single player: 3106\n",
      "Player who gambled the most: 33\n",
      "--------------------------------------------\n",
      "Minimum # of gambles of a single player: 1\n",
      "Player who gambled the least: 15\n",
      "--------------------------------------------\n",
      "Median # of gambles of all players: 150.0\n",
      "Number of players who played exactly 150 times: 3\n",
      "Number of players who gambled less than 150 times: 140\n",
      "Number of players who gambled more than 150 times: 139\n",
      "--------------------------------------------\n",
      "Most common # of gambles: [2, 15]\n",
      "Average # of gambles of all players: 277.46\n",
      "Number of players who gambled at least 278 times: 87\n"
     ]
    }
   ],
   "source": [
    "# Total number of players\n",
    "print(\"Total number of players:\", dtf[\"playerkey\"].nunique())\n",
    "\n",
    "# Total number of gambles\n",
    "print(\"Total number of gambles:\", dtf.groupby('playerkey')['gambles'].max().sum())\n",
    "\n",
    "print(\"--------------------------------------------\")\n",
    "# What is the maximum number of periods played by each player?\n",
    "print(\"Maximimum # of gambles of a single player:\", dtf.groupby('playerkey')['gambles'].max().max())\n",
    "\n",
    "#Who is the player with the maximum number of periods played?\n",
    "print(\"Player who gambled the most:\", dtf.groupby('playerkey')['gambles'].max().idxmax())\n",
    "\n",
    "print(\"--------------------------------------------\")\n",
    "\n",
    "# What is the minimum number of periods played by each player?\n",
    "print(\"Minimum # of gambles of a single player:\", dtf.groupby('playerkey')['gambles'].max().min())\n",
    "\n",
    "#Who is the player with the minimum number of periods played?\n",
    "print(\"Player who gambled the least:\", dtf.groupby('playerkey')['gambles'].max().idxmin())\n",
    "\n",
    "print(\"--------------------------------------------\")\n",
    "\n",
    "# What is the median number of periods played by each player?\n",
    "print(\"Median # of gambles of all players:\", round(dtf.groupby('playerkey')['gambles'].max().median(), 2))\n",
    "\n",
    "# How many players played at least 150 gambles?\n",
    "print(\"Number of players who played exactly 150 times:\", dtf.groupby('playerkey')['gambles'].max()[dtf.groupby('playerkey')['gambles'].max() == 150].count())\n",
    "print(\"Number of players who gambled less than 150 times:\", dtf.groupby('playerkey')['gambles'].max()[dtf.groupby('playerkey')['gambles'].max() < 150].count())\n",
    "print(\"Number of players who gambled more than 150 times:\", dtf.groupby('playerkey')['gambles'].max()[dtf.groupby('playerkey')['gambles'].max() > 150].count())\n",
    "print(\"--------------------------------------------\")\n",
    "\n",
    "# Most common # of gambles per person\n",
    "print(\"Most common # of gambles:\", dtf.groupby('playerkey')['gambles'].max().mode().tolist())\n",
    "\n",
    "# What is the average number of periods played by each player?\n",
    "print(\"Average # of gambles of all players:\", round(dtf.groupby('playerkey')['gambles'].max().mean(), 2))\n",
    "\n",
    "# How many players played at least 278 gambles?\n",
    "print(\"Number of players who gambled at least 278 times:\", dtf.groupby('playerkey')['gambles'].max()[dtf.groupby('playerkey')['gambles'].max() >= 278].count())"
   ]
  },
  {
   "attachments": {},
   "cell_type": "markdown",
   "metadata": {},
   "source": [
    "#### Visits and Sessions"
   ]
  },
  {
   "cell_type": "code",
   "execution_count": 53,
   "metadata": {},
   "outputs": [
    {
     "name": "stdout",
     "output_type": "stream",
     "text": [
      "Average # of visits per player: 1.0\n",
      "Median # of visits per player: 1.0\n",
      "Most common # of visits per player: [1]\n",
      "--------------------------------------------\n",
      "Average # of gambles per visit: 277.46\n",
      "Median # of gambles per visit: 150.0\n",
      "Most common # of gambles per visit: [2, 15]\n",
      "--------------------------------------------\n",
      "Average # of gambles per session: 190.84\n",
      "Median # of gambles per session: 111.0\n",
      "Most common # of gambles per session: [23]\n",
      "--------------------------------------------\n",
      "Average # of gambles per session_machine: 25.36\n",
      "Median # of gambles per session_machine: 1.0\n",
      "Most common # of gambles per session_machine: [1]\n"
     ]
    }
   ],
   "source": [
    "# Calculate the average number of visitis per player\n",
    "print(\"Average # of visits per player:\", round(dtf.groupby('playerkey')['visit'].max().mean(), 2))\n",
    "\n",
    "# Calculate median number of visits per player\n",
    "print(\"Median # of visits per player:\", round(dtf.groupby('playerkey')['visit'].max().median(), 2))\n",
    "\n",
    "# Calculate the most common number of visits per player\n",
    "print(\"Most common # of visits per player:\", dtf.groupby('playerkey')['visit'].max().mode().tolist())\n",
    "\n",
    "# Seperation line\n",
    "print(\"--------------------------------------------\")\n",
    "\n",
    "# Calculate the average number of gambles per visit\n",
    "print(\"Average # of gambles per visit:\", round(dtf.groupby(['playerkey', 'visit'])['gambles_visit'].max().mean(), 2))\n",
    "\n",
    "# Calculate the median number of gambles per visit\n",
    "print(\"Median # of gambles per visit:\", round(dtf.groupby(['playerkey', 'visit'])['gambles_visit'].max().median(), 2))\n",
    "\n",
    "# Calculate the most common number of gambles per visit\n",
    "print(\"Most common # of gambles per visit:\", dtf.groupby(['playerkey', 'visit'])['gambles_visit'].max().mode().tolist())\n",
    "\n",
    "# Seperation line\n",
    "print(\"--------------------------------------------\")\n",
    "\n",
    "# Calculate the average number of gambles per session\n",
    "print(\"Average # of gambles per session:\", round(dtf.groupby(['playerkey', 'session_time'])['gambles_session'].max().mean(), 2))\n",
    "\n",
    "# Calculate the median number of gambles per session\n",
    "print(\"Median # of gambles per session:\", round(dtf.groupby(['playerkey', 'session_time'])['gambles_session'].max().median(), 2))\n",
    "\n",
    "# Calculate the most common number of gambles per session\n",
    "print(\"Most common # of gambles per session:\", dtf.groupby(['playerkey', 'session_time'])['gambles_session'].max().mode().tolist())\n",
    "\n",
    "# Seperation line\n",
    "print(\"--------------------------------------------\")\n",
    "\n",
    "# Calculate the average number of gambles per session_machine\n",
    "print(\"Average # of gambles per session_machine:\", round(dtf.groupby(['playerkey', 'session_machine'])['gambles_machine'].max().mean(), 2))\n",
    "\n",
    "# Calculate the median number of gambles per session_machine\n",
    "print(\"Median # of gambles per session_machine:\", round(dtf.groupby(['playerkey', 'session_machine'])['gambles_machine'].max().median(), 2))\n",
    "\n",
    "# Calculate the most common number of gambles per session_machine\n",
    "print(\"Most common # of gambles per session_machine:\", dtf.groupby(['playerkey', 'session_machine'])['gambles_machine'].max().mode().tolist())\n"
   ]
  },
  {
   "attachments": {},
   "cell_type": "markdown",
   "metadata": {},
   "source": [
    "### Breakdown"
   ]
  },
  {
   "attachments": {},
   "cell_type": "markdown",
   "metadata": {},
   "source": [
    "#### Per Visit Analysis"
   ]
  },
  {
   "cell_type": "code",
   "execution_count": 54,
   "metadata": {},
   "outputs": [
    {
     "name": "stdout",
     "output_type": "stream",
     "text": [
      "Total visits:  [1]\n",
      "Visit: 1\n",
      " a) # of Players: 282\n",
      " b) Total # of gambles: 78245\n",
      "--------------------------------------------\n"
     ]
    }
   ],
   "source": [
    "# What were the unique number of visits per player?\n",
    "print(\"Total visits: \", dtf[\"visit\"].unique().tolist())\n",
    "\n",
    "# How many players played in each visit?\n",
    "for i in dtf[\"visit\"].unique().tolist():\n",
    "    n_players = len(dtf[dtf[\"visit\"] == i][\"playerkey\"].unique())\n",
    "    gambles_data = dtf[dtf[\"visit\"] == i]\n",
    "    total_gambles = gambles_data.groupby('playerkey')['gambles_visit'].max().sum()\n",
    "    print(\"Visit:\", i)\n",
    "    print(\" a) # of Players:\", n_players)\n",
    "    print(\" b) Total # of gambles:\", total_gambles)\n",
    "    print(\"--------------------------------------------\")"
   ]
  },
  {
   "cell_type": "code",
   "execution_count": 55,
   "metadata": {},
   "outputs": [
    {
     "name": "stdout",
     "output_type": "stream",
     "text": [
      "Visit: 1\n",
      " a) Average # of gambles per player: 277.46\n",
      " b) Median # of gambles per player: 150.0\n",
      " c) Maximum # of gambles per player: 3106\n",
      "--------------------------------------------\n"
     ]
    }
   ],
   "source": [
    "# How many gambles played in each visit?\n",
    "for i in dtf[\"visit\"].unique().tolist():\n",
    "    n_players = len(dtf[dtf[\"visit\"] == i][\"playerkey\"].unique())\n",
    "    gambles_data = dtf[dtf[\"visit\"] == i]\n",
    "    total_gambles = gambles_data.groupby('playerkey')['gambles_visit'].max().sum()\n",
    "    print(\"Visit:\", i)\n",
    "    print(\" a) Average # of gambles per player:\", round(total_gambles / n_players, 2))\n",
    "    print(\" b) Median # of gambles per player:\", round(gambles_data.groupby('playerkey')['gambles_visit'].max().median(), 2))\n",
    "    print(\" c) Maximum # of gambles per player:\", gambles_data.groupby('playerkey')['gambles_visit'].max().max())\n",
    "    print(\"--------------------------------------------\")\n"
   ]
  },
  {
   "attachments": {},
   "cell_type": "markdown",
   "metadata": {},
   "source": [
    "#### Per Session Analysis "
   ]
  },
  {
   "cell_type": "code",
   "execution_count": 56,
   "metadata": {},
   "outputs": [
    {
     "name": "stdout",
     "output_type": "stream",
     "text": [
      "Unique sessions per player:  [1, 2, 3, 4, 5, 6]\n",
      "Session: 1\n",
      " a) # of Players: 282\n",
      " b) Total # of gambles: 54123\n",
      "--------------------------------------------\n",
      "Session: 2\n",
      " a) # of Players: 85\n",
      " b) Total # of gambles: 14249\n",
      "--------------------------------------------\n",
      "Session: 3\n",
      " a) # of Players: 27\n",
      " b) Total # of gambles: 5895\n",
      "--------------------------------------------\n",
      "Session: 4\n",
      " a) # of Players: 11\n",
      " b) Total # of gambles: 2704\n",
      "--------------------------------------------\n",
      "Session: 5\n",
      " a) # of Players: 3\n",
      " b) Total # of gambles: 751\n",
      "--------------------------------------------\n",
      "Session: 6\n",
      " a) # of Players: 2\n",
      " b) Total # of gambles: 523\n",
      "--------------------------------------------\n"
     ]
    }
   ],
   "source": [
    "# What were the unique number of visits per player?\n",
    "print(\"Unique sessions per player: \", dtf[\"session_time\"].unique().tolist())\n",
    "\n",
    "# How many players and gambles per session?\n",
    "for i in dtf[\"session_time\"].unique().tolist():\n",
    "    n_players = len(dtf[dtf[\"session_time\"] == i][\"playerkey\"].unique())\n",
    "    gambles_data = dtf[dtf[\"session_time\"] == i]\n",
    "    total_gambles = gambles_data.groupby('playerkey')['gambles_session'].max().sum()\n",
    "    print(\"Session:\", i)\n",
    "    print(\" a) # of Players:\", n_players)\n",
    "    print(\" b) Total # of gambles:\", total_gambles)\n",
    "    print(\"--------------------------------------------\")"
   ]
  },
  {
   "cell_type": "code",
   "execution_count": 57,
   "metadata": {},
   "outputs": [
    {
     "name": "stdout",
     "output_type": "stream",
     "text": [
      "Session: 1\n",
      " a) Average # of gambles per player: 192.0\n",
      " b) Median # of gambles per player: 112.0\n",
      " c) Maximum # of gambles per player: 1534\n",
      "--------------------------------------------\n",
      "Session: 2\n",
      " a) Average # of gambles per player: 168.0\n",
      " b) Median # of gambles per player: 92.0\n",
      " c) Maximum # of gambles per player: 906\n",
      "--------------------------------------------\n",
      "Session: 3\n",
      " a) Average # of gambles per player: 218.0\n",
      " b) Median # of gambles per player: 131.0\n",
      " c) Maximum # of gambles per player: 825\n",
      "--------------------------------------------\n",
      "Session: 4\n",
      " a) Average # of gambles per player: 246.0\n",
      " b) Median # of gambles per player: 99.0\n",
      " c) Maximum # of gambles per player: 1414\n",
      "--------------------------------------------\n",
      "Session: 5\n",
      " a) Average # of gambles per player: 250.0\n",
      " b) Median # of gambles per player: 172.0\n",
      " c) Maximum # of gambles per player: 526\n",
      "--------------------------------------------\n",
      "Session: 6\n",
      " a) Average # of gambles per player: 262.0\n",
      " b) Median # of gambles per player: 262.0\n",
      " c) Maximum # of gambles per player: 479\n",
      "--------------------------------------------\n"
     ]
    }
   ],
   "source": [
    "# What is the max, min, and average number of gambles per session?\n",
    "for i in dtf[\"session_time\"].unique().tolist():\n",
    "    n_players = len(dtf[dtf[\"session_time\"] == i][\"playerkey\"].unique())\n",
    "    gambles_data = dtf[dtf[\"session_time\"] == i]\n",
    "    total_gambles = gambles_data.groupby('playerkey')['gambles_session'].max().sum()\n",
    "    print(\"Session:\", i)\n",
    "    print(\" a) Average # of gambles per player:\", round(total_gambles / n_players, 0))\n",
    "    print(\" b) Median # of gambles per player:\", round(gambles_data.groupby('playerkey')['gambles_session'].max().median(), 0))\n",
    "    print(\" c) Maximum # of gambles per player:\", gambles_data.groupby('playerkey')['gambles_session'].max().max())\n",
    "    print(\"--------------------------------------------\")\n"
   ]
  },
  {
   "attachments": {},
   "cell_type": "markdown",
   "metadata": {},
   "source": [
    "## Durations\n",
    "\n",
    "### General\n",
    "\n",
    "Let's calculate avergae durtion of gambles."
   ]
  },
  {
   "cell_type": "code",
   "execution_count": 58,
   "metadata": {},
   "outputs": [
    {
     "name": "stdout",
     "output_type": "stream",
     "text": [
      "Total duration played: 4 days 10:37:28.489000\n",
      "Average duration played per player: 0 days 00:22:41.164854609\n",
      "Number of players who played more than the average duration: 92\n",
      "Number of players who played less than the average duration: 190\n",
      "--------------------------------------------\n",
      "Median duration played per player: 0 days 00:14:13.024500\n",
      "Number of players who played more than the median duration: 141\n",
      "Number of players who played less than the median duration: 141\n",
      "--------------------------------------------\n",
      "Minimum duration played per player: 0 days 00:00:03.970000\n",
      "Player with the minimum duration played: 465\n",
      "Maximum duration played per player: 0 days 02:34:25.731000\n",
      "Player with the maximum duration played: 33\n"
     ]
    }
   ],
   "source": [
    "# Calculate the total duration played\n",
    "print('Total duration played:', dtf['duration'].sum())\n",
    "\n",
    "# Calculate the average duration played per player\n",
    "print('Average duration played per player:', dtf.groupby('playerkey')['duration'].sum().mean())\n",
    "\n",
    "# How many players played for more than the average duration?\n",
    "print('Number of players who played more than the average duration:', dtf.groupby('playerkey')['duration'].sum()[dtf.groupby('playerkey')['duration'].sum() > dtf.groupby('playerkey')['duration'].sum().mean()].count())\n",
    "\n",
    "# How many players played for less than the average duration?\n",
    "print('Number of players who played less than the average duration:', dtf.groupby('playerkey')['duration'].sum()[dtf.groupby('playerkey')['duration'].sum() < dtf.groupby('playerkey')['duration'].sum().mean()].count())\n",
    "\n",
    "# Seperation line\n",
    "print(\"--------------------------------------------\")\n",
    "\n",
    "# Calculate the median duration played per player\n",
    "print('Median duration played per player:', dtf.groupby('playerkey')['duration'].sum().median())\n",
    "\n",
    "# How many players played for more than the median duration?\n",
    "print('Number of players who played more than the median duration:', dtf.groupby('playerkey')['duration'].sum()[dtf.groupby('playerkey')['duration'].sum() > dtf.groupby('playerkey')['duration'].sum().median()].count())\n",
    "\n",
    "# How many players played for less than the median duration?\n",
    "print('Number of players who played less than the median duration:', dtf.groupby('playerkey')['duration'].sum()[dtf.groupby('playerkey')['duration'].sum() < dtf.groupby('playerkey')['duration'].sum().median()].count())\n",
    "\n",
    "# sEperation line\n",
    "print(\"--------------------------------------------\")\n",
    "\n",
    "# Calcualte the minimum duration played per player\n",
    "print('Minimum duration played per player:', dtf.groupby('playerkey')['duration'].sum().min())\n",
    "# Who is the player with the minimum duration played?\n",
    "print('Player with the minimum duration played:', dtf.groupby('playerkey')['duration'].sum().idxmin())\n",
    "\n",
    "# Calcualte the maximum duration played per player\n",
    "print('Maximum duration played per player:', dtf.groupby('playerkey')['duration'].sum().max())\n",
    "# Who is the player with the maximum duration played?\n",
    "print('Player with the maximum duration played:', dtf.groupby('playerkey')['duration'].sum().idxmax())"
   ]
  },
  {
   "attachments": {},
   "cell_type": "markdown",
   "metadata": {},
   "source": [
    "#### Vists and Sessions"
   ]
  },
  {
   "cell_type": "code",
   "execution_count": 59,
   "metadata": {},
   "outputs": [
    {
     "name": "stdout",
     "output_type": "stream",
     "text": [
      "Average duration played per visit: 0 days 00:22:41.164854609\n",
      "Median duration played per visit: 0 days 00:14:13.024500\n",
      "--------------------------------------------\n",
      "Average duration played per session: 0 days 00:15:36.215826829\n",
      "Median duration played per session: 0 days 00:10:01.813000\n",
      "--------------------------------------------\n",
      "Average duration played per session_machine: 0 days 00:02:04.424145542\n",
      "Median duration played per session_machine: 0 days 00:00:06.937000\n",
      "--------------------------------------------\n"
     ]
    }
   ],
   "source": [
    "# What is the average duration played per visit?\n",
    "# average duration played per visit for each player\n",
    "print('Average duration played per visit:', dtf.groupby(['playerkey', 'visit'])['duration'].sum().mean())\n",
    "\n",
    "# What is the median duration played per visit?\n",
    "print('Median duration played per visit:', dtf.groupby(['playerkey', 'visit'])['duration'].sum().median())\n",
    "\n",
    "# Seperation line\n",
    "print(\"--------------------------------------------\")\n",
    "\n",
    "# What is the average duration played per session?\n",
    "print('Average duration played per session:', dtf.groupby(['playerkey', 'session_time'])['duration'].sum().mean())\n",
    "\n",
    "# What is the median duration played per session?\n",
    "print('Median duration played per session:', dtf.groupby(['playerkey', 'session_time'])['duration'].sum().median())\n",
    "\n",
    "# Seperation line\n",
    "print(\"--------------------------------------------\")\n",
    "\n",
    "# What is the average duration played per session_machine?\n",
    "print('Average duration played per session_machine:', dtf.groupby(['playerkey', 'session_machine'])['duration'].sum().mean())\n",
    "\n",
    "# What is the median duration played per session_machine?\n",
    "print('Median duration played per session_machine:', dtf.groupby(['playerkey', 'session_machine'])['duration'].sum().median())\n",
    "\n",
    "# Seperation line\n",
    "print(\"--------------------------------------------\")"
   ]
  },
  {
   "attachments": {},
   "cell_type": "markdown",
   "metadata": {},
   "source": [
    "### Breakdown"
   ]
  },
  {
   "attachments": {},
   "cell_type": "markdown",
   "metadata": {},
   "source": [
    "#### Per Visit Analysis"
   ]
  },
  {
   "cell_type": "code",
   "execution_count": 60,
   "metadata": {},
   "outputs": [
    {
     "name": "stdout",
     "output_type": "stream",
     "text": [
      "Visit: 1\n",
      " a) Total duration played: 4 days 10:37:28.489000\n",
      "--------------------------------------------------\n"
     ]
    }
   ],
   "source": [
    "# Total duration per visit\n",
    "for i in dtf[\"visit\"].unique().tolist():\n",
    "    total_duration = dtf[dtf[\"visit\"] == i][\"duration\"].sum()\n",
    "    print(\"Visit:\", i)\n",
    "    print(\" a) Total duration played:\", total_duration)\n",
    "    print(\"--------------------------------------------------\")"
   ]
  },
  {
   "cell_type": "code",
   "execution_count": 61,
   "metadata": {},
   "outputs": [
    {
     "name": "stdout",
     "output_type": "stream",
     "text": [
      "Visit: 1\n",
      " a) Average duration played: 0 days 00:22:41.164854609\n",
      " b) Max duration played: 0 days 02:34:25.731000\n",
      " c) Min duration played: 0 days 00:00:03.970000\n",
      "------------------------------------------------------------\n"
     ]
    }
   ],
   "source": [
    "\n",
    "\n",
    "# What is the max, min, and average duration played per visit?\n",
    "for i in dtf[\"visit\"].unique().tolist():\n",
    "    n_players = len(dtf[dtf[\"visit\"] == i][\"playerkey\"].unique())\n",
    "    total_duration = dtf[dtf[\"visit\"] == i][\"duration\"].sum()\n",
    "    visit_data = dtf[dtf[\"visit\"] == i]\n",
    "    print(\"Visit:\", i)\n",
    "    print(\" a) Average duration played:\", total_duration / n_players)\n",
    "    print(\" b) Max duration played:\", visit_data.groupby(\"playerkey\")[\"duration\"].sum().max())\n",
    "    print(\" c) Min duration played:\", visit_data.groupby(\"playerkey\")[\"duration\"].sum().min())\n",
    "    print(\"------------------------------------------------------------\")\n",
    "    \n",
    "\n",
    "#Overall average duration played per visit across all players"
   ]
  },
  {
   "attachments": {},
   "cell_type": "markdown",
   "metadata": {},
   "source": [
    "#### Per Session Analysis"
   ]
  },
  {
   "cell_type": "code",
   "execution_count": 62,
   "metadata": {},
   "outputs": [
    {
     "name": "stdout",
     "output_type": "stream",
     "text": [
      "Session: 1\n",
      " a) Total duration played: 3 days 03:29:07.662000\n",
      "--------------------------------------------------\n",
      "Session: 2\n",
      " a) Total duration played: 0 days 18:19:12.338000\n",
      "--------------------------------------------------\n",
      "Session: 3\n",
      " a) Total duration played: 0 days 08:46:30.862000\n",
      "--------------------------------------------------\n",
      "Session: 4\n",
      " a) Total duration played: 0 days 02:40:35.092000\n",
      "--------------------------------------------------\n",
      "Session: 5\n",
      " a) Total duration played: 0 days 00:36:09.919000\n",
      "--------------------------------------------------\n",
      "Session: 6\n",
      " a) Total duration played: 0 days 00:45:52.616000\n",
      "--------------------------------------------------\n"
     ]
    }
   ],
   "source": [
    "# Total duration per session\n",
    "for i in dtf[\"session_time\"].unique().tolist():\n",
    "    total_duration = dtf[dtf[\"session_time\"] == i][\"duration\"].sum()\n",
    "    print(\"Session:\", i)\n",
    "    print(\" a) Total duration played:\", total_duration)\n",
    "    print(\"--------------------------------------------------\")"
   ]
  },
  {
   "cell_type": "code",
   "execution_count": 63,
   "metadata": {},
   "outputs": [
    {
     "name": "stdout",
     "output_type": "stream",
     "text": [
      "Session: 1\n",
      " a) Average duration played: 0 days 00:16:03.644191489\n",
      " b) Max duration played: 0 days 01:43:28.613000\n",
      " c) Min duration played: 0 days 00:00:03.970000\n",
      "--------------------------------------------------\n",
      "Session: 2\n",
      " a) Average duration played: 0 days 00:12:55.909858823\n",
      " b) Max duration played: 0 days 01:11:46.088000\n",
      " c) Min duration played: 0 days 00:00:30.679000\n",
      "--------------------------------------------------\n",
      "Session: 3\n",
      " a) Average duration played: 0 days 00:19:30.031925925\n",
      " b) Max duration played: 0 days 01:24:50.042000\n",
      " c) Min duration played: 0 days 00:00:20.720000\n",
      "--------------------------------------------------\n",
      "Session: 4\n",
      " a) Average duration played: 0 days 00:14:35.917454545\n",
      " b) Max duration played: 0 days 00:54:50.304000\n",
      " c) Min duration played: 0 days 00:00:07.573000\n",
      "--------------------------------------------------\n",
      "Session: 5\n",
      " a) Average duration played: 0 days 00:12:03.306333333\n",
      " b) Max duration played: 0 days 00:18:12.457000\n",
      " c) Min duration played: 0 days 00:03:17.246000\n",
      "--------------------------------------------------\n",
      "Session: 6\n",
      " a) Average duration played: 0 days 00:22:56.308000\n",
      " b) Max duration played: 0 days 00:40:14.499000\n",
      " c) Min duration played: 0 days 00:05:38.117000\n",
      "--------------------------------------------------\n"
     ]
    }
   ],
   "source": [
    "# What is the max, min, ave duration of each session?\n",
    "for i in dtf[\"session_time\"].unique().tolist():\n",
    "    n_players = len(dtf[dtf[\"session_time\"] == i][\"playerkey\"].unique())\n",
    "    total_duration = dtf[dtf[\"session_time\"] == i][\"duration\"].sum()\n",
    "    session_data = dtf[dtf[\"session_time\"] == i]\n",
    "    print(\"Session:\", i)\n",
    "    print(\" a) Average duration played:\", total_duration / n_players)\n",
    "    print(\" b) Max duration played:\", session_data.groupby(\"playerkey\")[\"duration\"].sum().max())\n",
    "    print(\" c) Min duration played:\", session_data.groupby(\"playerkey\")[\"duration\"].sum().min())\n",
    "    # Separation line:\n",
    "    print(\"--------------------------------------------------\")"
   ]
  },
  {
   "attachments": {},
   "cell_type": "markdown",
   "metadata": {},
   "source": [
    "# Percentiles"
   ]
  },
  {
   "attachments": {},
   "cell_type": "markdown",
   "metadata": {},
   "source": [
    "## Overall Gambles"
   ]
  },
  {
   "cell_type": "code",
   "execution_count": 64,
   "metadata": {},
   "outputs": [
    {
     "name": "stdout",
     "output_type": "stream",
     "text": [
      "20th percentile of the number of gambles per player: 43.0\n",
      "80th percentile of the number of gambles per player: 404.60000000000025\n",
      "------------------------------------------------------------------\n",
      "10th percentile of the number of gambles per player: 23.1\n",
      "90th percentile of the number of gambles per player: 688.4000000000003\n"
     ]
    }
   ],
   "source": [
    "# Calculate the number of gambles per each player, and store it in a list\n",
    "gambles_per_player = []\n",
    "for i in dtf[\"playerkey\"].unique().tolist():\n",
    "    gambles_per_player.append(dtf[dtf[\"playerkey\"] == i][\"gambles\"].max())\n",
    "\n",
    "# Calculate the 20th percentile of the number of gambles per player and store is as percentile_20\n",
    "percentile_20 = np.percentile(gambles_per_player, 20)\n",
    "print(\"20th percentile of the number of gambles per player:\", percentile_20)\n",
    "\n",
    "# Calculate the 80th percentile of the number of gambles per player and store is as percentile_80\n",
    "percentile_80 = np.percentile(gambles_per_player, 80)\n",
    "print(\"80th percentile of the number of gambles per player:\", percentile_80)\n",
    "\n",
    "# Seperation line\n",
    "print(\"------------------------------------------------------------------\")\n",
    "\n",
    "# Calculate the 10th percentile of the number of gambles per player and store is as percentile_10\n",
    "percentile_10 = np.percentile(gambles_per_player, 10)\n",
    "print(\"10th percentile of the number of gambles per player:\", percentile_10)\n",
    "# Calculate the 90th percentile of the number of gambles per player and store is as percentile_90\n",
    "percentile_90 = np.percentile(gambles_per_player, 90)\n",
    "print(\"90th percentile of the number of gambles per player:\", percentile_90)\n"
   ]
  },
  {
   "cell_type": "code",
   "execution_count": 65,
   "metadata": {},
   "outputs": [
    {
     "name": "stdout",
     "output_type": "stream",
     "text": [
      "Number of players in the top 20%: 57\n",
      "Number of players in the bottom 20%: 58\n"
     ]
    }
   ],
   "source": [
    "# Let's create two separarte dataframes for the top 20% and bottom 20% of players by creating a list of player for each percentile\n",
    "top_20 = dtf.groupby(\"playerkey\")[\"gambles\"].max()[dtf.groupby(\"playerkey\")[\"gambles\"].max() >= percentile_80].index.tolist()\n",
    "bottom_20 = dtf.groupby(\"playerkey\")[\"gambles\"].max()[dtf.groupby(\"playerkey\")[\"gambles\"].max() <= percentile_20].index.tolist()\n",
    "\n",
    "# How many players are in the top 20%?\n",
    "print(\"Number of players in the top 20%:\", len(top_20))\n",
    "\n",
    "# How many players are in the bottom 20%?\n",
    "print(\"Number of players in the bottom 20%:\", len(bottom_20))\n",
    "\n",
    "# Create a dataframe for the top 20% of players\n",
    "dtf_top_20 = dtf[dtf['playerkey'].isin(top_20)]\n",
    "dtf_top_20['percentile'] = 'top_20'\n",
    "\n",
    "# Create a dataframe for the bottom 20% of players\n",
    "dtf_bottom_20 = dtf[dtf['playerkey'].isin(bottom_20)]\n",
    "dtf_bottom_20['percentile'] = 'bottom_20'\n",
    "\n",
    "# Concatenate the two dataframes\n",
    "dtf_20_gambles = pd.concat([dtf_top_20, dtf_bottom_20])"
   ]
  },
  {
   "cell_type": "code",
   "execution_count": 66,
   "metadata": {},
   "outputs": [
    {
     "name": "stdout",
     "output_type": "stream",
     "text": [
      "Number of players in the top 10%: 29\n",
      "Number of players in the bottom 10%: 29\n"
     ]
    }
   ],
   "source": [
    "# Let's create two separarte dataframes for the top 10% and bottom 10% of players by creating a list of player for each percentile\n",
    "top_10 = dtf.groupby(\"playerkey\")[\"gambles\"].max()[dtf.groupby(\"playerkey\")[\"gambles\"].max() >= percentile_90].index.tolist()\n",
    "bottom_10 = dtf.groupby(\"playerkey\")[\"gambles\"].max()[dtf.groupby(\"playerkey\")[\"gambles\"].max() <= percentile_10].index.tolist()\n",
    "\n",
    "# How many players are in the top 10%?\n",
    "print(\"Number of players in the top 10%:\", len(top_10))\n",
    "\n",
    "# How many players are in the bottom 10%?\n",
    "print(\"Number of players in the bottom 10%:\", len(bottom_10))\n",
    "\n",
    "# Create a dataframe for the top 10% of players\n",
    "dtf_top_10 = dtf[dtf['playerkey'].isin(top_10)]\n",
    "dtf_top_10['percentile'] = 'top_10'\n",
    "\n",
    "# Create a dataframe for the bottom 10% of players\n",
    "dtf_bottom_10 = dtf[dtf['playerkey'].isin(bottom_10)]\n",
    "dtf_bottom_10['percentile'] = 'bottom_10'\n",
    "\n",
    "# Concatenate the two dataframes\n",
    "dtf_10_gambles = pd.concat([dtf_top_10, dtf_bottom_10])"
   ]
  },
  {
   "attachments": {},
   "cell_type": "markdown",
   "metadata": {},
   "source": [
    "## Duration"
   ]
  },
  {
   "cell_type": "code",
   "execution_count": 67,
   "metadata": {},
   "outputs": [
    {
     "name": "stdout",
     "output_type": "stream",
     "text": [
      "20th percentile of the duration per player: 0 days 00:03:48.767800\n",
      "80th percentile of the duration per player: 0 days 00:34:04.384400001\n",
      "------------------------------------------------------------------\n",
      "10th percentile of the duration per player: 0 days 00:01:51.008800\n",
      "90th percentile of the duration per player: 0 days 00:54:35.320600001\n"
     ]
    }
   ],
   "source": [
    "# Calculate the duration per player and store it in a list\n",
    "duration_per_player = []\n",
    "for i in dtf[\"playerkey\"].unique().tolist():\n",
    "    duration_per_player.append(dtf[dtf[\"playerkey\"] == i][\"duration\"].sum())\n",
    "\n",
    "# Calculate the 20th percentile of the duration per player and store is as percentile_20_duration\n",
    "percentile_20_duration = np.percentile(duration_per_player, 20)\n",
    "print(\"20th percentile of the duration per player:\", percentile_20_duration)\n",
    "\n",
    "# Calculate the 80th percentile of the duration per player and store is as percentile_80_duration\n",
    "percentile_80_duration = np.percentile(duration_per_player, 80)\n",
    "print(\"80th percentile of the duration per player:\", percentile_80_duration)\n",
    "\n",
    "# Seperation line\n",
    "print(\"------------------------------------------------------------------\")\n",
    "\n",
    "# Calculate the 10th percentile of the duration per player and store is as percentile_10_duration\n",
    "percentile_10_duration = np.percentile(duration_per_player, 10)\n",
    "print(\"10th percentile of the duration per player:\", percentile_10_duration)\n",
    "\n",
    "# Calculate the 90th percentile of the duration per player and store is as percentile_90_duration\n",
    "percentile_90_duration = np.percentile(duration_per_player, 90)\n",
    "print(\"90th percentile of the duration per player:\", percentile_90_duration)"
   ]
  },
  {
   "cell_type": "code",
   "execution_count": 68,
   "metadata": {},
   "outputs": [
    {
     "name": "stdout",
     "output_type": "stream",
     "text": [
      "Number of players in the top 20%: 57\n",
      "Number of players in the bottom 20%: 57\n"
     ]
    }
   ],
   "source": [
    "# Let's create two separarte dataframes for the top 20% and bottom 20% of players by creating a list of player for each percentile\n",
    "top_20_duration = dtf.groupby(\"playerkey\")[\"duration\"].sum()[dtf.groupby(\"playerkey\")[\"duration\"].sum() >= percentile_80_duration].index.tolist()\n",
    "bottom_20_duration = dtf.groupby(\"playerkey\")[\"duration\"].sum()[dtf.groupby(\"playerkey\")[\"duration\"].sum() <= percentile_20_duration].index.tolist()\n",
    "\n",
    "# How many players are in the top 20%?\n",
    "print(\"Number of players in the top 20%:\", len(top_20_duration))\n",
    "\n",
    "# How many players are in the bottom 20%?\n",
    "print(\"Number of players in the bottom 20%:\", len(bottom_20_duration))\n",
    "\n",
    "# Create a dataframe for the top 20% of players\n",
    "dtf_top_20_duration = dtf[dtf['playerkey'].isin(top_20_duration)]\n",
    "dtf_top_20_duration['percentile'] = 'top_20'\n",
    "\n",
    "# Create a dataframe for the bottom 20% of players\n",
    "dtf_bottom_20_duration = dtf[dtf['playerkey'].isin(bottom_20_duration)]\n",
    "dtf_bottom_20_duration['percentile'] = 'bottom_20'\n",
    "\n",
    "# Concatenate the two dataframes\n",
    "dtf_20_duration = pd.concat([dtf_top_20_duration, dtf_bottom_20_duration])"
   ]
  },
  {
   "cell_type": "code",
   "execution_count": 69,
   "metadata": {},
   "outputs": [
    {
     "name": "stdout",
     "output_type": "stream",
     "text": [
      "Number of players in the top 10%: 29\n",
      "Number of players in the bottom 10%: 29\n"
     ]
    }
   ],
   "source": [
    "# Let's create two separarte dataframes for the top 10% and bottom 10% of players by creating a list of player for each percentile\n",
    "top_10_duration = dtf.groupby(\"playerkey\")[\"duration\"].sum()[dtf.groupby(\"playerkey\")[\"duration\"].sum() >= percentile_90_duration].index.tolist()\n",
    "bottom_10_duration = dtf.groupby(\"playerkey\")[\"duration\"].sum()[dtf.groupby(\"playerkey\")[\"duration\"].sum() <= percentile_10_duration].index.tolist()\n",
    "\n",
    "# How many players are in the top 10%?\n",
    "print(\"Number of players in the top 10%:\", len(top_10_duration))\n",
    "\n",
    "# How many players are in the bottom 10%?\n",
    "print(\"Number of players in the bottom 10%:\", len(bottom_10_duration))\n",
    "\n",
    "# Create a dataframe for the top 10% of players\n",
    "dtf_top_10_duration = dtf[dtf['playerkey'].isin(top_10_duration)]\n",
    "dtf_top_10_duration['percentile'] = 'top_10'\n",
    "\n",
    "# Create a dataframe for the bottom 10% of players\n",
    "dtf_bottom_10_duration = dtf[dtf['playerkey'].isin(bottom_10_duration)]\n",
    "dtf_bottom_10_duration['percentile'] = 'bottom_10'\n",
    "\n",
    "# Concatenate the two dataframes\n",
    "dtf_10_duration = pd.concat([dtf_top_10_duration, dtf_bottom_10_duration])\n"
   ]
  },
  {
   "attachments": {},
   "cell_type": "markdown",
   "metadata": {},
   "source": [
    "## Safety Check"
   ]
  },
  {
   "cell_type": "code",
   "execution_count": 72,
   "metadata": {},
   "outputs": [
    {
     "name": "stdout",
     "output_type": "stream",
     "text": [
      "Are the lists top_20_gambles and top_20_duration players the same? False\n",
      "Players in the top 20% of gambles but not in the top 20% of duration: {224, 6, 238, 529, 20, 507, 92, 94}\n",
      "------------------------------------------------------------------\n",
      "Are the lists bottom_20_gambles and bottom_20_duration players the same? False\n",
      "Players in the bottom 20% of gambles but not in the bottom 20% of duration: {230, 13, 274, 147, 149, 219}\n",
      "------------------------------------------------------------------\n",
      "Are the lists top_10_gambles and top_10_duration players the same? False\n",
      "Players in the top 10% of gambles but not in the top 10% of duration: {194, 196, 23, 135}\n",
      "------------------------------------------------------------------\n",
      "Are the lists bottom_10_gambles and bottom_10_duration players the same? False\n",
      "Players in the bottom 10% of gambles but not in the bottom 10% of duration: {67, 485, 390, 230, 176, 506, 314, 476}\n"
     ]
    }
   ],
   "source": [
    "# Are the lists top_20_gambles and top_20_duration players the same?\n",
    "print(\"Are the lists top_20_gambles and top_20_duration players the same?\", top_20 == top_20_duration)\n",
    "# Which players are in the top 20% of gambles but not in the top 20% of duration?\n",
    "print(\"Players in the top 20% of gambles but not in the top 20% of duration:\", set(top_20) - set(top_20_duration))\n",
    "\n",
    "# Seperation line\n",
    "print(\"------------------------------------------------------------------\")\n",
    "# Are the lists bottom_20_gambles and bottom_20_duration players the same?\n",
    "print(\"Are the lists bottom_20_gambles and bottom_20_duration players the same?\", bottom_20 == bottom_20_duration)\n",
    "\n",
    "# Which players are in the bottom 20% of gambles but not in the bottom 20% of duration?\n",
    "print(\"Players in the bottom 20% of gambles but not in the bottom 20% of duration:\", set(bottom_20) - set(bottom_20_duration))\n",
    "\n",
    "# Seperation line\n",
    "print(\"------------------------------------------------------------------\")\n",
    "# Are the lists top_10_gambles and top_10_duration players the same?\n",
    "print(\"Are the lists top_10_gambles and top_10_duration players the same?\", top_10 == top_10_duration)\n",
    "\n",
    "# Which players are in the top 10% of gambles but not in the top 10% of duration?\n",
    "print(\"Players in the top 10% of gambles but not in the top 10% of duration:\", set(top_10) - set(top_10_duration))\n",
    "\n",
    "# Seperation line\n",
    "print(\"------------------------------------------------------------------\")\n",
    "# Are the lists bottom_10_gambles and bottom_10_duration players the same?\n",
    "print(\"Are the lists bottom_10_gambles and bottom_10_duration players the same?\", bottom_10 == bottom_10_duration)\n",
    "\n",
    "# Which players are in the bottom 10% of gambles but not in the bottom 10% of duration?\n",
    "print(\"Players in the bottom 10% of gambles but not in the bottom 10% of duration:\", set(bottom_10) - set(bottom_10_duration))\n"
   ]
  },
  {
   "attachments": {},
   "cell_type": "markdown",
   "metadata": {},
   "source": [
    "# Save Dataframes"
   ]
  },
  {
   "cell_type": "code",
   "execution_count": 73,
   "metadata": {},
   "outputs": [],
   "source": [
    "# Define saving path\n",
    "path = \"/Users/mau/Library/CloudStorage/Dropbox/Mac/Documents/Dissertation/Chapter 2/Entire_Data/By month/2_June\"\n",
    "os.chdir(path)\n",
    "\n",
    "# General Dataframe to parquet\n",
    "dtf.to_parquet(\"General.parquet\")\n",
    "\n",
    "# Save the dataframes for the top 20% and bottom 20% of players\n",
    "dtf_20_gambles.to_parquet(\"Combine_20_gambles.parquet\")\n",
    "dtf_20_duration.to_parquet(\"Combine_20_duration.parquet\")\n",
    "\n",
    "# Save the dataframes for the top 10% and bottom 10% of players\n",
    "dtf_10_gambles.to_parquet(\"Combine_10_gambles.parquet\")\n",
    "dtf_10_duration.to_parquet(\"Combine_10_duration.parquet\")\n",
    "\n",
    "# Save bottom 20% of players\n",
    "dtf_bottom_20_duration.to_parquet(\"Bottom_20_duration.parquet\")\n",
    "\n",
    "# Save top 20% of players\n",
    "dtf_top_20_duration.to_parquet(\"Top_20_duration.parquet\")\n",
    "\n",
    "# Save bottom 10% of players\n",
    "dtf_bottom_10_duration.to_parquet(\"Bottom_10_duration.parquet\")\n",
    "\n",
    "# Save top 10% of players\n",
    "dtf_top_10_duration.to_parquet(\"Top_10_duration.parquet\")\n",
    "\n",
    "# Save bottom 20% of players\n",
    "dtf_bottom_20.to_parquet(\"Bottom_20_gambles.parquet\")\n",
    "\n",
    "# Save top 20% of players\n",
    "dtf_top_20.to_parquet(\"Top_20_gambles.parquet\")\n",
    "\n",
    "# Save bottom 10% of players\n",
    "dtf_bottom_10.to_parquet(\"Bottom_10_gambles.parquet\")\n",
    "\n",
    "# Save top 10% of players\n",
    "dtf_top_10.to_parquet(\"Top_10_gambles.parquet\")\n"
   ]
  }
 ],
 "metadata": {
  "kernelspec": {
   "display_name": "Python 3",
   "language": "python",
   "name": "python3"
  },
  "language_info": {
   "codemirror_mode": {
    "name": "ipython",
    "version": 3
   },
   "file_extension": ".py",
   "mimetype": "text/x-python",
   "name": "python",
   "nbconvert_exporter": "python",
   "pygments_lexer": "ipython3",
   "version": "3.10.0"
  },
  "orig_nbformat": 4
 },
 "nbformat": 4,
 "nbformat_minor": 2
}
