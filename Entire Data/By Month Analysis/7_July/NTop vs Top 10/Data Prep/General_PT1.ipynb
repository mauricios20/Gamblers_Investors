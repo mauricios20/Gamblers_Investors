{
 "cells": [
  {
   "attachments": {},
   "cell_type": "markdown",
   "metadata": {},
   "source": [
    "# Similarities and Differences between Categories (Pt.1 - Age, Gender, Won/Lost Amount)"
   ]
  },
  {
   "cell_type": "code",
   "execution_count": 8,
   "metadata": {},
   "outputs": [],
   "source": [
    "# Define libraries\n",
    "import pandas as pd\n",
    "import numpy as np\n",
    "import matplotlib.pyplot as plt\n",
    "import seaborn as sns\n",
    "import matplotlib.dates as mdates\n",
    "import os\n",
    "import plotting_fn as pf\n",
    "import counting_fns as cf\n",
    "\n",
    "month_file = '2_June'\n",
    "cut_off = 10000\n",
    "# Set working directory\n",
    "os.chdir(\"/Users/mau/Library/CloudStorage/Dropbox/Mac/Documents/Dissertation/Chapter 2/Entire_Data/By month/\"+month_file)\n"
   ]
  },
  {
   "cell_type": "code",
   "execution_count": 9,
   "metadata": {},
   "outputs": [],
   "source": [
    "# Read in data\n",
    "df = pd.read_parquet(\"top_vs_ntop_players.parquet\")\n",
    "\n",
    "# Round wageredamt and profit to 2 decimal places\n",
    "df['wageredamt'] = df['wageredamt'].round(1)\n",
    "df['profit'] = df['profit'].round(1)\n",
    "df['percent_return'] = df['percent_return'].round(1)\n"
   ]
  },
  {
   "cell_type": "code",
   "execution_count": 10,
   "metadata": {},
   "outputs": [],
   "source": [
    "# Create a new column 'result_type' that is a categorical variable which takes the value 'loss' if the change is negative and 'gain' if the change is positive, and 'draw' of change is 0\n",
    "df['result_type'] = df['percent_return'].apply(lambda x: 'loss' if x == -100 else 'near-hit' if x < 0 else 'gain' if x > 0 else 'draw')\n",
    "\n",
    "# Create dummy variables from 'result_type'\n",
    "dummy_variables = pd.get_dummies(df['result_type']).rename(columns=lambda x: '#' + str(x[0].capitalize()))\n",
    "\n",
    "# Add the dummy variables to the original DataFrame\n",
    "df = pd.concat([df, dummy_variables], axis=1).reset_index(drop=True)\n",
    "\n",
    "# Convert starttime to delte format for operations\n",
    "df['start_time'] = pd.to_datetime(df['start_time'])"
   ]
  },
  {
   "cell_type": "code",
   "execution_count": 11,
   "metadata": {},
   "outputs": [],
   "source": [
    "# Create new column called 'time_diff' which is the difference between the start time of the gamble and the start time of the previous gamble\n",
    "df['time_diff'] = df.groupby(['playerkey', 'session_time'])['start_time'].diff()\n",
    "\n",
    "# Convert time_diff to seconds\n",
    "df['time_diff'] = df['time_diff'].dt.total_seconds().fillna(0)"
   ]
  },
  {
   "attachments": {},
   "cell_type": "markdown",
   "metadata": {},
   "source": [
    "## General Overview\n",
    "\n",
    "### Players, Visits, Sessions of Each Group"
   ]
  },
  {
   "cell_type": "code",
   "execution_count": 12,
   "metadata": {},
   "outputs": [
    {
     "name": "stdout",
     "output_type": "stream",
     "text": [
      "Number of gamblers in dataframe: 274\n",
      "--------------------------------------------------\n",
      "Number of unique visits in dtf: 1\n",
      "--------------------------------------------------\n",
      "Number of unique sessions in dtf: 6\n",
      "--------------------------------------------------\n"
     ]
    }
   ],
   "source": [
    "# Number of gamblers\n",
    "print(\"Number of gamblers in dataframe:\", len(df['playerkey'].unique()))\n",
    "print('--------------------------------------------------')\n",
    "\n",
    "# Print number of unique visits\n",
    "print(\"Number of unique visits in dtf:\", len(df['visit'].unique()))\n",
    "print('--------------------------------------------------')\n",
    "\n",
    "# Print number of unique sessions\n",
    "print(\"Number of unique sessions in dtf:\", len(df['session_time'].unique()))\n",
    "print('--------------------------------------------------')"
   ]
  },
  {
   "attachments": {},
   "cell_type": "markdown",
   "metadata": {},
   "source": [
    "### Wins in a row"
   ]
  },
  {
   "cell_type": "code",
   "execution_count": 13,
   "metadata": {},
   "outputs": [],
   "source": [
    "# Ude consecutive functions to find 2ws, 3ws, 4ws in a row in each dataset per visit per player\n",
    "df_s = pf.consecutive_wins(df, 'session_time')"
   ]
  },
  {
   "cell_type": "code",
   "execution_count": 14,
   "metadata": {},
   "outputs": [
    {
     "name": "stdout",
     "output_type": "stream",
     "text": [
      "Categories of wins in a row per session:\n",
      "                             #2ws  #3ws  #4ws\n",
      "clasification session_time                   \n",
      "Ntop          1             462.0  93.0  27.0\n",
      "              2             115.0  24.0   6.0\n",
      "              3              18.0   5.0   4.0\n",
      "              4               5.0   1.0   0.0\n",
      "              5               1.0   2.0   0.0\n",
      "              6               1.0   1.0   0.0\n",
      "top_10        1             262.0  30.0   9.0\n",
      "              2              78.0  21.0   3.0\n",
      "              3              49.0   6.0   1.0\n",
      "              4              15.0   1.0   1.0\n",
      "              5               4.0   0.0   0.0\n",
      "              6               4.0   1.0   0.0\n",
      "--------------------------------------------------\n"
     ]
    }
   ],
   "source": [
    "# Print the numner of total number of 2 wins, 3 wins, 4 wins in a row in each dataset\n",
    "print('Categories of wins in a row per session:')\n",
    "print(df_s.groupby(['clasification', 'session_time'])[['#2ws', '#3ws', '#4ws']].sum())\n",
    "print('--------------------------------------------------')"
   ]
  },
  {
   "cell_type": "code",
   "execution_count": 15,
   "metadata": {},
   "outputs": [],
   "source": [
    "# Ude consecutive functions to find 2ws, 3ws, 4ws in a row in each dataset per session_time per player\n",
    "df = pf.consecutive_wins(df, 'visit')"
   ]
  },
  {
   "cell_type": "code",
   "execution_count": 16,
   "metadata": {},
   "outputs": [
    {
     "name": "stdout",
     "output_type": "stream",
     "text": [
      "Categories of wins in a row per visit:\n",
      "                      #2ws   #3ws  #4ws\n",
      "clasification visit                    \n",
      "Ntop          1      603.0  126.0  37.0\n",
      "top_10        1      412.0   59.0  14.0\n",
      "--------------------------------------------------\n"
     ]
    }
   ],
   "source": [
    "# Print the numner of total number of 2 wins, 3 wins, 4 wins in a row in each dataset\n",
    "print('Categories of wins in a row per visit:')\n",
    "print(df.groupby(['clasification', 'visit'])[['#2ws', '#3ws', '#4ws']].sum())\n",
    "print('--------------------------------------------------')\n"
   ]
  },
  {
   "attachments": {},
   "cell_type": "markdown",
   "metadata": {},
   "source": [
    "### Gender Differences"
   ]
  },
  {
   "cell_type": "code",
   "execution_count": 17,
   "metadata": {},
   "outputs": [
    {
     "name": "stdout",
     "output_type": "stream",
     "text": [
      "Number of unique players in dtf:\n",
      "clasification  gender\n",
      "Ntop           F         114\n",
      "               M         132\n",
      "top_10         F          13\n",
      "               M          15\n",
      "Name: playerkey, dtype: int64\n",
      "--------------------------------------------------\n"
     ]
    }
   ],
   "source": [
    "# Gender differences\n",
    "print(\"Number of unique players in dtf:\")\n",
    "print(df.groupby(['clasification', 'gender'])['playerkey'].nunique())\n",
    "print('--------------------------------------------------')"
   ]
  },
  {
   "attachments": {},
   "cell_type": "markdown",
   "metadata": {},
   "source": [
    "### Age Differences"
   ]
  },
  {
   "cell_type": "code",
   "execution_count": 18,
   "metadata": {},
   "outputs": [],
   "source": [
    "# Create age ranges \n",
    "bins = [0, 24, 40, 55, 75, 150]\n",
    "labels = ['18-24', '25-40', '41-55', '56-75', '76+']\n",
    "generations = ['Gen Z', 'Millenials', 'Gen X', 'Baby Boomers', 'Silent']\n",
    "\n",
    "# Use cut function to create age ranges for dtf and top 20%\n",
    "df['age_range'] = pd.cut(df['age'], bins=bins, labels=labels, right=False)\n",
    "df['age_gen'] = pd.cut(df['age'], bins=bins, labels=generations, right=False)\n",
    "\n",
    "df_s['age_range'] = pd.cut(df_s['age'], bins=bins, labels=labels, right=False)\n",
    "df_s['age_gen'] = pd.cut(df_s['age'], bins=bins, labels=generations, right=False)"
   ]
  },
  {
   "cell_type": "code",
   "execution_count": 19,
   "metadata": {},
   "outputs": [
    {
     "name": "stdout",
     "output_type": "stream",
     "text": [
      "Number of unique players in dtf:\n",
      "clasification  age_range\n",
      "Ntop           18-24          1\n",
      "               25-40         50\n",
      "               41-55        100\n",
      "               56-75         83\n",
      "               76+           12\n",
      "top_10         18-24          0\n",
      "               25-40          4\n",
      "               41-55         12\n",
      "               56-75         11\n",
      "               76+            1\n",
      "Name: playerkey, dtype: int64\n",
      "--------------------------------------------------\n"
     ]
    }
   ],
   "source": [
    "# Age range differences\n",
    "print(\"Number of unique players in dtf:\")\n",
    "print(df.groupby(['clasification', 'age_range'])['playerkey'].nunique())\n",
    "print('--------------------------------------------------')\n"
   ]
  },
  {
   "cell_type": "code",
   "execution_count": 20,
   "metadata": {},
   "outputs": [
    {
     "name": "stdout",
     "output_type": "stream",
     "text": [
      "Number of unique players in dtf:\n",
      "clasification  age_gen     \n",
      "Ntop           Gen Z             1\n",
      "               Millenials       50\n",
      "               Gen X           100\n",
      "               Baby Boomers     83\n",
      "               Silent           12\n",
      "top_10         Gen Z             0\n",
      "               Millenials        4\n",
      "               Gen X            12\n",
      "               Baby Boomers     11\n",
      "               Silent            1\n",
      "Name: playerkey, dtype: int64\n"
     ]
    }
   ],
   "source": [
    "# Age range differences\n",
    "print(\"Number of unique players in dtf:\")\n",
    "print(df_s.groupby(['clasification', 'age_gen'])['playerkey'].nunique())"
   ]
  },
  {
   "cell_type": "code",
   "execution_count": 22,
   "metadata": {},
   "outputs": [
    {
     "name": "stdout",
     "output_type": "stream",
     "text": [
      "Male age differences in dtf:\n",
      "age_range\n",
      "18-24     1\n",
      "25-40    36\n",
      "41-55    65\n",
      "56-75    38\n",
      "76+       7\n",
      "Name: playerkey, dtype: int64\n",
      "--------------------------------------------------\n",
      "Female age differences in dtf:\n",
      "age_range\n",
      "18-24     0\n",
      "25-40    18\n",
      "41-55    47\n",
      "56-75    56\n",
      "76+       6\n",
      "Name: playerkey, dtype: int64\n"
     ]
    },
    {
     "data": {
      "image/png": "[encoded data removed]",
      "text/plain": [
       "<Figure size 1000x500 with 2 Axes>"
      ]
     },
     "metadata": {},
     "output_type": "display_data"
    }
   ],
   "source": [
    "# Age range of male gamblers in dtf\n",
    "print(\"Male age differences in dtf:\")\n",
    "print(df[df['gender'] == 'M'].groupby('age_range')['playerkey'].nunique())\n",
    "print('--------------------------------------------------')\n",
    "# Age range of Female gamblers in dtf\n",
    "print('Female age differences in dtf:')\n",
    "print(df[df['gender'] == 'F'].groupby('age_range')['playerkey'].nunique())\n",
    "\n",
    "pf.plot_gender_diff(df, 'dtf', figsize=(10, 5))\n"
   ]
  },
  {
   "attachments": {},
   "cell_type": "markdown",
   "metadata": {},
   "source": [
    "### Increse and Decrease of SlotDenomination and Bet"
   ]
  },
  {
   "cell_type": "code",
   "execution_count": 23,
   "metadata": {},
   "outputs": [
    {
     "name": "stdout",
     "output_type": "stream",
     "text": [
      "Count of players who increase_slotdeno : 91\n",
      "Count of times each player increase_slotdeno : {3: 1, 14: 2, 17: 1, 19: 3, 20: 26, 27: 2, 30: 1, 35: 2, 37: 2, 41: 1, 43: 1, 67: 1, 68: 2, 91: 2, 92: 1, 97: 2, 100: 1, 108: 1, 109: 1, 114: 1, 129: 1, 136: 1, 140: 1, 157: 1, 180: 4, 184: 1, 193: 1, 197: 2, 203: 1, 213: 2, 216: 1, 219: 1, 220: 2, 223: 1, 224: 2, 239: 2, 244: 1, 247: 1, 248: 1, 262: 1, 269: 3, 287: 2, 306: 1, 313: 1, 324: 1, 343: 1, 344: 1, 346: 2, 351: 1, 360: 1, 368: 1, 369: 1, 373: 1, 381: 1, 382: 1, 383: 1, 396: 1, 402: 1, 405: 1, 410: 1, 430: 2, 431: 1, 434: 1, 436: 1, 438: 1, 459: 1, 461: 1, 462: 1, 463: 1, 466: 1, 486: 1, 494: 2, 507: 1, 29: 25, 33: 15, 69: 1, 89: 2, 103: 3, 135: 1, 159: 5, 188: 1, 194: 1, 222: 4, 234: 6, 263: 1, 264: 12, 308: 3, 319: 1, 322: 2, 331: 5, 361: 1}\n",
      "Player who changes the most: 20\n",
      "------------------------------------------------------------------------------------------------------------------\n",
      "Count of players who decrease_slotdeno : 86\n",
      "Count of times each player decrease_slotdeno : {3: 1, 14: 3, 17: 1, 19: 2, 20: 24, 27: 1, 30: 1, 35: 2, 37: 2, 43: 1, 56: 1, 68: 2, 79: 1, 87: 1, 91: 1, 97: 2, 99: 1, 108: 1, 129: 1, 136: 1, 156: 1, 157: 2, 172: 1, 180: 3, 184: 1, 197: 1, 203: 1, 213: 1, 224: 3, 233: 1, 239: 1, 244: 1, 258: 1, 262: 1, 266: 1, 269: 3, 270: 1, 280: 1, 287: 1, 289: 1, 324: 1, 327: 1, 343: 1, 344: 1, 346: 1, 351: 1, 368: 1, 369: 1, 383: 1, 396: 1, 402: 1, 406: 1, 407: 1, 410: 1, 429: 1, 430: 1, 434: 1, 436: 1, 450: 1, 454: 1, 461: 1, 463: 1, 466: 1, 494: 1, 503: 1, 505: 1, 507: 1, 509: 1, 518: 1, 521: 1, 29: 25, 33: 14, 69: 2, 89: 2, 103: 4, 135: 1, 159: 7, 188: 1, 222: 4, 234: 5, 263: 1, 264: 13, 308: 2, 322: 2, 331: 4, 361: 1}\n",
      "Player who changes the most: 29\n",
      "------------------------------------------------------------------------------------------------------------------\n",
      "Count of players who increase_maxbet : 111\n",
      "Count of times each player increase_maxbet : {3: 1, 6: 1, 14: 3, 17: 2, 19: 3, 27: 1, 30: 1, 35: 2, 36: 2, 37: 2, 43: 1, 44: 1, 56: 1, 68: 1, 79: 1, 87: 1, 91: 2, 93: 3, 97: 5, 98: 1, 99: 2, 100: 1, 108: 2, 109: 1, 111: 1, 120: 1, 129: 1, 151: 2, 156: 2, 157: 2, 164: 1, 172: 2, 182: 5, 184: 1, 191: 6, 197: 1, 198: 2, 203: 1, 211: 1, 213: 1, 224: 3, 233: 1, 236: 1, 239: 2, 244: 4, 258: 1, 262: 1, 269: 3, 270: 1, 280: 2, 282: 2, 287: 3, 289: 1, 307: 1, 324: 1, 327: 2, 343: 2, 346: 2, 351: 1, 362: 1, 364: 1, 368: 1, 369: 1, 382: 1, 383: 1, 392: 1, 396: 2, 402: 1, 406: 1, 407: 1, 410: 1, 429: 1, 430: 3, 434: 2, 436: 2, 438: 1, 445: 1, 450: 2, 452: 2, 454: 1, 463: 1, 466: 1, 481: 1, 494: 2, 503: 1, 505: 1, 507: 2, 509: 1, 518: 1, 521: 1, 23: 1, 29: 2, 33: 4, 66: 3, 69: 3, 89: 4, 135: 1, 159: 9, 188: 3, 192: 2, 196: 1, 204: 1, 222: 6, 234: 1, 263: 4, 264: 6, 278: 1, 308: 2, 331: 3, 361: 1, 424: 1}\n",
      "Player who changes the most: 159\n",
      "------------------------------------------------------------------------------------------------------------------\n",
      "Count of players who decrease_maxbet : 124\n",
      "Count of times each player decrease_maxbet : {3: 2, 14: 1, 17: 1, 19: 2, 20: 1, 27: 3, 30: 1, 35: 5, 36: 2, 37: 3, 41: 1, 43: 1, 44: 1, 63: 1, 67: 1, 68: 3, 91: 2, 92: 1, 93: 4, 97: 3, 99: 1, 100: 2, 108: 2, 109: 2, 114: 1, 120: 3, 123: 1, 125: 1, 129: 1, 140: 1, 151: 1, 156: 2, 157: 1, 182: 4, 183: 1, 184: 1, 185: 1, 191: 6, 193: 1, 197: 2, 198: 1, 203: 3, 213: 2, 219: 1, 220: 2, 223: 1, 224: 4, 233: 1, 236: 2, 239: 3, 242: 1, 244: 3, 247: 1, 262: 1, 269: 2, 270: 1, 280: 1, 282: 1, 287: 2, 306: 1, 307: 2, 313: 2, 324: 1, 343: 1, 346: 4, 351: 2, 360: 1, 364: 4, 368: 2, 369: 2, 373: 1, 381: 1, 382: 3, 383: 1, 384: 1, 389: 1, 396: 1, 400: 4, 402: 1, 410: 2, 422: 1, 429: 2, 430: 2, 431: 1, 433: 1, 434: 4, 436: 1, 438: 1, 450: 1, 452: 4, 457: 1, 459: 1, 462: 1, 463: 1, 466: 1, 481: 1, 482: 2, 486: 1, 494: 1, 501: 1, 505: 1, 23: 2, 29: 1, 33: 3, 66: 2, 69: 2, 89: 4, 159: 5, 188: 2, 192: 1, 194: 1, 196: 1, 204: 1, 222: 5, 234: 2, 263: 3, 264: 5, 278: 2, 308: 3, 319: 1, 322: 1, 331: 3, 361: 2, 424: 1}\n",
      "Player who changes the most: 191\n",
      "------------------------------------------------------------------------------------------------------------------\n"
     ]
    }
   ],
   "source": [
    "# Lets do the same but for bottom 20%\n",
    "players_increase_slot = cf.count_increase(df, \"increase_slotdeno\", \"playerkey\", \"slotdenomination\")\n",
    "players_decrease_slot = cf.count_decrease(df, \"decrease_slotdeno\", \"playerkey\", \"slotdenomination\")\n",
    "players_increase_maxbet = cf.count_increase(df, \"increase_maxbet\", \"playerkey\", \"maxbet\")\n",
    "players_decrease_maxbet = cf.count_decrease(df, \"decrease_maxbet\", \"playerkey\", \"maxbet\")\n"
   ]
  },
  {
   "cell_type": "code",
   "execution_count": 24,
   "metadata": {},
   "outputs": [
    {
     "name": "stdout",
     "output_type": "stream",
     "text": [
      "Count of players who increase_slotdeno : 91\n",
      "Count of times each player increase_slotdeno : {3: 1, 14: 2, 17: 1, 19: 3, 20: 26, 27: 2, 30: 1, 35: 2, 37: 2, 41: 1, 43: 1, 67: 1, 68: 2, 91: 2, 92: 1, 97: 2, 100: 1, 108: 1, 109: 1, 114: 1, 129: 1, 136: 1, 140: 1, 157: 1, 180: 4, 184: 1, 193: 1, 197: 2, 203: 1, 213: 2, 216: 1, 219: 1, 220: 2, 223: 1, 224: 2, 239: 2, 244: 1, 247: 1, 248: 1, 262: 1, 269: 3, 287: 2, 306: 1, 313: 1, 324: 1, 343: 1, 344: 1, 346: 2, 351: 1, 360: 1, 368: 1, 369: 1, 373: 1, 381: 1, 382: 1, 383: 1, 396: 1, 402: 1, 405: 1, 410: 1, 430: 2, 431: 1, 434: 1, 436: 1, 438: 1, 459: 1, 461: 1, 462: 1, 463: 1, 466: 1, 486: 1, 494: 2, 507: 1, 29: 25, 33: 15, 69: 1, 89: 2, 103: 3, 135: 1, 159: 5, 188: 1, 194: 1, 222: 4, 234: 6, 263: 1, 264: 12, 308: 3, 319: 1, 322: 2, 331: 5, 361: 1}\n",
      "Player who changes the most: 20\n",
      "------------------------------------------------------------------------------------------------------------------\n",
      "Count of players who decrease_slotdeno : 86\n",
      "Count of times each player decrease_slotdeno : {3: 1, 14: 3, 17: 1, 19: 2, 20: 24, 27: 1, 30: 1, 35: 2, 37: 2, 43: 1, 56: 1, 68: 2, 79: 1, 87: 1, 91: 1, 97: 2, 99: 1, 108: 1, 129: 1, 136: 1, 156: 1, 157: 2, 172: 1, 180: 3, 184: 1, 197: 1, 203: 1, 213: 1, 224: 3, 233: 1, 239: 1, 244: 1, 258: 1, 262: 1, 266: 1, 269: 3, 270: 1, 280: 1, 287: 1, 289: 1, 324: 1, 327: 1, 343: 1, 344: 1, 346: 1, 351: 1, 368: 1, 369: 1, 383: 1, 396: 1, 402: 1, 406: 1, 407: 1, 410: 1, 429: 1, 430: 1, 434: 1, 436: 1, 450: 1, 454: 1, 461: 1, 463: 1, 466: 1, 494: 1, 503: 1, 505: 1, 507: 1, 509: 1, 518: 1, 521: 1, 29: 25, 33: 14, 69: 2, 89: 2, 103: 4, 135: 1, 159: 7, 188: 1, 222: 4, 234: 5, 263: 1, 264: 13, 308: 2, 322: 2, 331: 4, 361: 1}\n",
      "Player who changes the most: 29\n",
      "------------------------------------------------------------------------------------------------------------------\n",
      "Count of players who increase_maxbet : 111\n",
      "Count of times each player increase_maxbet : {3: 1, 6: 1, 14: 3, 17: 2, 19: 3, 27: 1, 30: 1, 35: 2, 36: 2, 37: 2, 43: 1, 44: 1, 56: 1, 68: 1, 79: 1, 87: 1, 91: 2, 93: 3, 97: 5, 98: 1, 99: 2, 100: 1, 108: 2, 109: 1, 111: 1, 120: 1, 129: 1, 151: 2, 156: 2, 157: 2, 164: 1, 172: 2, 182: 5, 184: 1, 191: 6, 197: 1, 198: 2, 203: 1, 211: 1, 213: 1, 224: 3, 233: 1, 236: 1, 239: 2, 244: 4, 258: 1, 262: 1, 269: 3, 270: 1, 280: 2, 282: 2, 287: 3, 289: 1, 307: 1, 324: 1, 327: 2, 343: 2, 346: 2, 351: 1, 362: 1, 364: 1, 368: 1, 369: 1, 382: 1, 383: 1, 392: 1, 396: 2, 402: 1, 406: 1, 407: 1, 410: 1, 429: 1, 430: 3, 434: 2, 436: 2, 438: 1, 445: 1, 450: 2, 452: 2, 454: 1, 463: 1, 466: 1, 481: 1, 494: 2, 503: 1, 505: 1, 507: 2, 509: 1, 518: 1, 521: 1, 23: 1, 29: 2, 33: 4, 66: 3, 69: 3, 89: 4, 135: 1, 159: 9, 188: 3, 192: 2, 196: 1, 204: 1, 222: 6, 234: 1, 263: 4, 264: 6, 278: 1, 308: 2, 331: 3, 361: 1, 424: 1}\n",
      "Player who changes the most: 159\n",
      "------------------------------------------------------------------------------------------------------------------\n",
      "Count of players who decrease_maxbet : 124\n",
      "Count of times each player decrease_maxbet : {3: 2, 14: 1, 17: 1, 19: 2, 20: 1, 27: 3, 30: 1, 35: 5, 36: 2, 37: 3, 41: 1, 43: 1, 44: 1, 63: 1, 67: 1, 68: 3, 91: 2, 92: 1, 93: 4, 97: 3, 99: 1, 100: 2, 108: 2, 109: 2, 114: 1, 120: 3, 123: 1, 125: 1, 129: 1, 140: 1, 151: 1, 156: 2, 157: 1, 182: 4, 183: 1, 184: 1, 185: 1, 191: 6, 193: 1, 197: 2, 198: 1, 203: 3, 213: 2, 219: 1, 220: 2, 223: 1, 224: 4, 233: 1, 236: 2, 239: 3, 242: 1, 244: 3, 247: 1, 262: 1, 269: 2, 270: 1, 280: 1, 282: 1, 287: 2, 306: 1, 307: 2, 313: 2, 324: 1, 343: 1, 346: 4, 351: 2, 360: 1, 364: 4, 368: 2, 369: 2, 373: 1, 381: 1, 382: 3, 383: 1, 384: 1, 389: 1, 396: 1, 400: 4, 402: 1, 410: 2, 422: 1, 429: 2, 430: 2, 431: 1, 433: 1, 434: 4, 436: 1, 438: 1, 450: 1, 452: 4, 457: 1, 459: 1, 462: 1, 463: 1, 466: 1, 481: 1, 482: 2, 486: 1, 494: 1, 501: 1, 505: 1, 23: 2, 29: 1, 33: 3, 66: 2, 69: 2, 89: 4, 159: 5, 188: 2, 192: 1, 194: 1, 196: 1, 204: 1, 222: 5, 234: 2, 263: 3, 264: 5, 278: 2, 308: 3, 319: 1, 322: 1, 331: 3, 361: 2, 424: 1}\n",
      "Player who changes the most: 191\n",
      "------------------------------------------------------------------------------------------------------------------\n"
     ]
    }
   ],
   "source": [
    "# Lets do the same but for df_s\n",
    "players_increase_slot_s = cf.count_increase(df_s, \"increase_slotdeno\", \"playerkey\", \"slotdenomination\")\n",
    "players_decrease_slot_s = cf.count_decrease(df_s, \"decrease_slotdeno\", \"playerkey\", \"slotdenomination\")\n",
    "players_increase_maxbet_s = cf.count_increase(df_s, \"increase_maxbet\", \"playerkey\", \"maxbet\")\n",
    "players_decrease_maxbet_s = cf.count_decrease(df_s, \"decrease_maxbet\", \"playerkey\", \"maxbet\")"
   ]
  },
  {
   "attachments": {},
   "cell_type": "markdown",
   "metadata": {},
   "source": [
    "### Wealth Differences\n",
    "#### General"
   ]
  },
  {
   "cell_type": "code",
   "execution_count": 25,
   "metadata": {},
   "outputs": [],
   "source": [
    "# Lets crate a column called 'depletion_slope' which is the difference of 'playercashableamt' between the current gamble and the previous gamble\n",
    "df['depletion_rate'] = df.groupby(['playerkey', 'session_time'])['playercashableamt'].diff().fillna(0)\n",
    "\n",
    "# Lets crate a column called 'depletion_slope' which is the difference of 'playercashableamt' between the current gamble and the previous gamble\n",
    "df_s['depletion_rate'] = df_s.groupby(['playerkey', 'session_time'])['playercashableamt'].diff().fillna(0)\n"
   ]
  },
  {
   "attachments": {},
   "cell_type": "markdown",
   "metadata": {},
   "source": [
    "#### Per Visit"
   ]
  },
  {
   "cell_type": "code",
   "execution_count": 26,
   "metadata": {},
   "outputs": [],
   "source": [
    "# Create dataframe for Machine Learning model\n",
    "df_ML_v = pf.transform_ml(data_b=df, grouping='visit')"
   ]
  },
  {
   "cell_type": "code",
   "execution_count": 28,
   "metadata": {},
   "outputs": [
    {
     "name": "stdout",
     "output_type": "stream",
     "text": [
      "Number of unique players in df_ML_v:  270\n",
      "Number of discrepancies: 0\n",
      "Number of unique players w/o discrepancies:  270\n"
     ]
    }
   ],
   "source": [
    "# Print number of unique players\n",
    "print(\"Number of unique players in df_ML_v: \", df_ML_v['playerkey'].nunique())\n",
    "\n",
    "# Get the IDs of players who have NaN values in any of the columns\n",
    "list_discrepancy_v = df_ML_v[df_ML_v.isna().any(axis=1)]['playerkey'].unique()\n",
    "\n",
    "# print number of discrepancies\n",
    "print(\"Number of discrepancies:\", len(list_discrepancy_v))\n",
    "\n",
    "# Remove players with NaN values\n",
    "df_ML_v = df_ML_v[~df_ML_v['playerkey'].isin(list_discrepancy_v)]\n",
    "\n",
    "# Print number of unique players with no NaN values\n",
    "print(\"Number of unique players w/o discrepancies: \", df_ML_v['playerkey'].nunique())"
   ]
  },
  {
   "cell_type": "code",
   "execution_count": 29,
   "metadata": {},
   "outputs": [
    {
     "name": "stdout",
     "output_type": "stream",
     "text": [
      "Index(['playerkey', 'visit', 'gender', 'age_range', 'age_gen', 'beginning_amt',\n",
      "       'ending_amt', 'ending_balance', 'ave_slotdenom', 'std_slotdenom',\n",
      "       'min_slotdenom', 'max_slotdenom', 'ave_theo_payback',\n",
      "       'min_theo_payback', 'max_theo_payback', 'ave_wageramt', 'std_wageramt',\n",
      "       'min_wager', 'max_wager', 'ave_p/b', 'std_p/b', 'max_p/b', 'max_profit',\n",
      "       'depletion_slope', '#inc_slotdenom', '#dec_slotdenom', '#inc_maxbet',\n",
      "       '#dec_maxbet', 'first_wager', 'first_outcome', 'first_p/b',\n",
      "       'last_wager', 'last_outcome', 'last_p/b', 'machines_changes', '#W',\n",
      "       '#L', '#NH', '#D', 'w/g', 'l/g', 'nh/g', 'd/g', '#2ws', '2ws_profit',\n",
      "       '2ws_wgramt', '#3ws', '3ws_profit', '3ws_wgramt', '#4ws', '4ws_profit',\n",
      "       '4ws_wgramt', 'ave_time_per_gamble', 'min_time_per_gamble',\n",
      "       'max_time_per_gamble', 'total_duration', 'total_gambles',\n",
      "       'classification', 'unique_machines', 'ave_time_per_machine', 'w/min',\n",
      "       'l/min', 'nh/min', 'd/min', '2ws/min', '3ws/min', '4ws/min'],\n",
      "      dtype='object')\n"
     ]
    }
   ],
   "source": [
    "print(df_ML_v.columns)\n",
    "\n",
    "# # # Reorder Columns\n",
    "desired_order = ['playerkey', 'visit', 'gender', 'age_range', 'age_gen',\n",
    "                'beginning_amt', 'ending_amt', 'ending_balance', 'ave_slotdenom',\n",
    "                'std_slotdenom', 'min_slotdenom', 'max_slotdenom', 'ave_theo_payback',\n",
    "                'min_theo_payback', 'max_theo_payback', 'ave_wageramt', 'std_wageramt',\n",
    "                'min_wager', 'max_wager', 'ave_p/b', 'std_p/b', 'max_p/b', 'max_profit', 'depletion_slope',\n",
    "                '#inc_maxbet', '#dec_maxbet', 'first_wager', 'first_outcome', 'first_p/b', 'last_wager',\n",
    "                'last_outcome', 'last_p/b', '#W', '#L', '#NH', '#D', 'w/min', 'l/min', 'nh/min', 'd/min', \n",
    "                'w/g', 'l/g', 'nh/g', 'd/g', '#2ws', '2ws_profit', '2ws_wgramt', '#3ws', \n",
    "                '3ws_profit','3ws_wgramt', '#4ws', '4ws_profit', '4ws_wgramt', '2ws/min', '3ws/min', '4ws/min',\n",
    "                'ave_time_per_gamble', 'min_time_per_gamble', 'max_time_per_gamble',\n",
    "                'total_duration', 'total_gambles', 'machines_changes', '#inc_slotdenom', '#dec_slotdenom',\n",
    "                'unique_machines', 'ave_time_per_machine','classification']\n",
    "\n",
    "\n",
    "df_ML_v = df_ML_v.reindex(columns=desired_order)\n",
    "\n",
    "# Save dataframe to paquet file\n",
    "df_ML_v.to_parquet('/Users/mau/Library/CloudStorage/Dropbox/Mac/Documents/Dissertation/Chapter 2/Entire_Data/By month/'+month_file+'/Ending Balances/Per_Player/top_vs_ntop_players_ending_balance_by_visit.parquet')"
   ]
  },
  {
   "attachments": {},
   "cell_type": "markdown",
   "metadata": {},
   "source": [
    "#### Per Session"
   ]
  },
  {
   "cell_type": "code",
   "execution_count": 30,
   "metadata": {},
   "outputs": [],
   "source": [
    "df_ML_s = pf.transform_ml(data_b=df_s, grouping='session_time')"
   ]
  },
  {
   "cell_type": "code",
   "execution_count": 31,
   "metadata": {},
   "outputs": [
    {
     "name": "stdout",
     "output_type": "stream",
     "text": [
      "Number of unique players in df_ML_v:  274\n",
      "Number of discrepancies: 7\n",
      "Number of unique players w/o discrepancies:  267\n"
     ]
    }
   ],
   "source": [
    "# Print number of unique players\n",
    "print(\"Number of unique players in df_ML_v: \", df_ML_s['playerkey'].nunique())\n",
    "\n",
    "# Get the IDs of players who have NaN values in any of the columns\n",
    "list_discrepancy_s = df_ML_s[df_ML_s.isna().any(axis=1)]['playerkey'].unique()\n",
    "\n",
    "# print number of discrepancies\n",
    "print(\"Number of discrepancies:\", len(list_discrepancy_s))\n",
    "\n",
    "# Remove players with NaN values\n",
    "df_ML_s = df_ML_s[~df_ML_s['playerkey'].isin(list_discrepancy_s)]\n",
    "\n",
    "# Print number of unique players with no NaN values\n",
    "print(\"Number of unique players w/o discrepancies: \", df_ML_s['playerkey'].nunique())"
   ]
  },
  {
   "cell_type": "code",
   "execution_count": 32,
   "metadata": {},
   "outputs": [
    {
     "name": "stdout",
     "output_type": "stream",
     "text": [
      "Index(['playerkey', 'session_time', 'gender', 'age_range', 'age_gen',\n",
      "       'beginning_amt', 'ending_amt', 'ending_balance', 'ave_slotdenom',\n",
      "       'std_slotdenom', 'min_slotdenom', 'max_slotdenom', 'ave_theo_payback',\n",
      "       'min_theo_payback', 'max_theo_payback', 'ave_wageramt', 'std_wageramt',\n",
      "       'min_wager', 'max_wager', 'ave_p/b', 'std_p/b', 'max_p/b', 'max_profit',\n",
      "       'depletion_slope', '#inc_slotdenom', '#dec_slotdenom', '#inc_maxbet',\n",
      "       '#dec_maxbet', 'first_wager', 'first_outcome', 'first_p/b',\n",
      "       'last_wager', 'last_outcome', 'last_p/b', 'machines_changes', '#W',\n",
      "       '#L', '#NH', '#D', 'w/g', 'l/g', 'nh/g', 'd/g', '#2ws', '2ws_profit',\n",
      "       '2ws_wgramt', '#3ws', '3ws_profit', '3ws_wgramt', '#4ws', '4ws_profit',\n",
      "       '4ws_wgramt', 'ave_time_per_gamble', 'min_time_per_gamble',\n",
      "       'max_time_per_gamble', 'total_duration', 'total_gambles',\n",
      "       'classification', 'unique_machines', 'ave_time_per_machine', 'w/min',\n",
      "       'l/min', 'nh/min', 'd/min', '2ws/min', '3ws/min', '4ws/min'],\n",
      "      dtype='object')\n"
     ]
    }
   ],
   "source": [
    "print(df_ML_s.columns)\n",
    "\n",
    "# # # Reorder Columns\n",
    "desired_order = ['playerkey', 'session_time', 'gender', 'age_range', 'age_gen',\n",
    "                'beginning_amt', 'ending_amt', 'ending_balance', 'ave_slotdenom',\n",
    "                'std_slotdenom', 'min_slotdenom', 'max_slotdenom', 'ave_theo_payback',\n",
    "                'min_theo_payback', 'max_theo_payback', 'ave_wageramt', 'std_wageramt',\n",
    "                'min_wager', 'max_wager', 'ave_p/b', 'std_p/b', 'max_p/b', 'max_profit', 'depletion_slope',\n",
    "                '#inc_maxbet', '#dec_maxbet', 'first_wager', 'first_outcome', 'first_p/b', 'last_wager',\n",
    "                'last_outcome', 'last_p/b', '#W', '#L', '#NH', '#D', 'w/min', 'l/min', 'nh/min', 'd/min', \n",
    "                'w/g', 'l/g', 'nh/g', 'd/g', '#2ws', '2ws_profit', '2ws_wgramt', '#3ws', \n",
    "                '3ws_profit','3ws_wgramt', '#4ws', '4ws_profit', '4ws_wgramt', '2ws/min', '3ws/min', '4ws/min',\n",
    "                'ave_time_per_gamble', 'min_time_per_gamble', 'max_time_per_gamble',\n",
    "                'total_duration', 'total_gambles', 'machines_changes', '#inc_slotdenom', '#dec_slotdenom',\n",
    "                'unique_machines', 'ave_time_per_machine','classification']\n",
    "\n",
    "df_ML_s = df_ML_s.reindex(columns=desired_order)\n",
    "\n",
    "# Save dataframe to paquet file\n",
    "df_ML_s.to_parquet('/Users/mau/Library/CloudStorage/Dropbox/Mac/Documents/Dissertation/Chapter 2/Entire_Data/By month/'+month_file+'/Ending Balances/Per_Player/top_vs_ntop_player_ending_balance_by_session.parquet')\n"
   ]
  }
 ],
 "metadata": {
  "kernelspec": {
   "display_name": "Python 3",
   "language": "python",
   "name": "python3"
  },
  "language_info": {
   "codemirror_mode": {
    "name": "ipython",
    "version": 3
   },
   "file_extension": ".py",
   "mimetype": "text/x-python",
   "name": "python",
   "nbconvert_exporter": "python",
   "pygments_lexer": "ipython3",
   "version": "3.10.0"
  },
  "orig_nbformat": 4
 },
 "nbformat": 4,
 "nbformat_minor": 2
}
