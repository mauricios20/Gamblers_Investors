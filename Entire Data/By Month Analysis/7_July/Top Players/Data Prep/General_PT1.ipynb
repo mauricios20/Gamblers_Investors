{
 "cells": [
  {
   "attachments": {},
   "cell_type": "markdown",
   "metadata": {},
   "source": [
    "# Similarities and Differences between Categories (Pt.1 - Age, Gender, Won/Lost Amount)"
   ]
  },
  {
   "cell_type": "code",
   "execution_count": 1,
   "metadata": {},
   "outputs": [],
   "source": [
    "# Define libraries\n",
    "import pandas as pd\n",
    "import numpy as np\n",
    "import matplotlib.pyplot as plt\n",
    "import seaborn as sns\n",
    "import matplotlib.dates as mdates\n",
    "import os\n",
    "import plotting_fn as pf\n",
    "import counting_fns as cf\n",
    "\n",
    "month_file = '2_June'\n",
    "cut_off = 10000\n",
    "# Set working directory\n",
    "os.chdir(\"/Users/mau/Library/CloudStorage/Dropbox/Mac/Documents/Dissertation/Chapter 2/Entire_Data/By month/\"+month_file)\n"
   ]
  },
  {
   "cell_type": "code",
   "execution_count": 2,
   "metadata": {},
   "outputs": [],
   "source": [
    "# Read in data\n",
    "df = pd.read_parquet(\"classification.parquet\")\n",
    "\n",
    "\n",
    "# Eliminate players who maximum number of gambles is 1\n",
    "df = df.groupby('playerkey').filter(lambda x: x['gambles'].nunique() > 1)\n",
    "\n",
    "\n",
    "# Reset index\n",
    "df.index = np.arange(1, len(df) + 1)\n",
    "\n",
    "\n",
    "# Round wageredamt and profit to 2 decimal places\n",
    "df['wageredamt'] = df['wageredamt'].round(1)\n",
    "df['profit'] = df['profit'].round(1)\n",
    "df['percent_return'] = df['percent_return'].round(1)\n"
   ]
  },
  {
   "cell_type": "code",
   "execution_count": 3,
   "metadata": {},
   "outputs": [],
   "source": [
    "# Create a new column 'result_type' that is a categorical variable which takes the value 'loss' if the change is negative and 'gain' if the change is positive, and 'draw' of change is 0\n",
    "df['result_type'] = df['percent_return'].apply(lambda x: 'loss' if x == -100 else 'near-hit' if x < 0 else 'gain' if x > 0 else 'draw')\n",
    "\n",
    "# Create dummy variables from 'result_type'\n",
    "dummy_variables = pd.get_dummies(df['result_type']).rename(columns=lambda x: '#' + str(x[0].capitalize()))\n",
    "\n",
    "# Add the dummy variables to the original DataFrame\n",
    "df = pd.concat([df, dummy_variables], axis=1).reset_index(drop=True)\n",
    "\n",
    "# Convert starttime to delte format for operations\n",
    "df['start_time'] = pd.to_datetime(df['start_time'])"
   ]
  },
  {
   "cell_type": "code",
   "execution_count": 4,
   "metadata": {},
   "outputs": [],
   "source": [
    "# Create new column called 'time_diff' which is the difference between the start time of the gamble and the start time of the previous gamble\n",
    "df['time_diff'] = df.groupby(['playerkey', 'session_time'])['start_time'].diff()\n",
    "\n",
    "# Convert time_diff to seconds\n",
    "df['time_diff'] = df['time_diff'].dt.total_seconds().fillna(0)"
   ]
  },
  {
   "attachments": {},
   "cell_type": "markdown",
   "metadata": {},
   "source": [
    "## General Overview\n",
    "\n",
    "### Players, Visits, Sessions of Each Group"
   ]
  },
  {
   "cell_type": "code",
   "execution_count": 27,
   "metadata": {},
   "outputs": [
    {
     "name": "stdout",
     "output_type": "stream",
     "text": [
      "Number of gamblers in dataframe: 272\n",
      "--------------------------------------------------\n",
      "Number of unique visits in dtf: 1\n",
      "--------------------------------------------------\n",
      "Number of unique sessions in dtf: 6\n",
      "--------------------------------------------------\n"
     ]
    }
   ],
   "source": [
    "# Number of gamblers\n",
    "print(\"Number of gamblers in dataframe:\", len(df['playerkey'].unique()))\n",
    "print('--------------------------------------------------')\n",
    "\n",
    "# Print number of unique visits\n",
    "print(\"Number of unique visits in dtf:\", len(df['visit'].unique()))\n",
    "print('--------------------------------------------------')\n",
    "\n",
    "# Print number of unique sessions\n",
    "print(\"Number of unique sessions in dtf:\", len(df['session_time'].unique()))\n",
    "print('--------------------------------------------------')"
   ]
  },
  {
   "attachments": {},
   "cell_type": "markdown",
   "metadata": {},
   "source": [
    "### Wins in a row"
   ]
  },
  {
   "cell_type": "code",
   "execution_count": 5,
   "metadata": {},
   "outputs": [],
   "source": [
    "# Ude consecutive functions to find 2ws, 3ws, 4ws in a row in each dataset per visit per player\n",
    "df_s = pf.consecutive_wins(df, 'session_time')"
   ]
  },
  {
   "cell_type": "code",
   "execution_count": 6,
   "metadata": {},
   "outputs": [
    {
     "name": "stdout",
     "output_type": "stream",
     "text": [
      "Categories of wins in a row per session:\n",
      "                             #2ws  #3ws  #4ws\n",
      "clasification session_time                   \n",
      "extreme_r     1             421.0  64.0  23.0\n",
      "              2             156.0  35.0   8.0\n",
      "              3              61.0   9.0   4.0\n",
      "              4              18.0   2.0   1.0\n",
      "              5               5.0   2.0   0.0\n",
      "              6               5.0   2.0   0.0\n",
      "high_r        1             185.0  34.0   5.0\n",
      "              2              24.0   4.0   1.0\n",
      "              3               6.0   1.0   1.0\n",
      "              4               2.0   0.0   0.0\n",
      "low_r         1              98.0  21.0   8.0\n",
      "              2              12.0   4.0   0.0\n",
      "              3               0.0   1.0   0.0\n",
      "              4               0.0   0.0   0.0\n",
      "minimum_r     1              20.0   4.0   0.0\n",
      "              2               1.0   2.0   0.0\n",
      "--------------------------------------------------\n"
     ]
    }
   ],
   "source": [
    "# Print the numner of total number of 2 wins, 3 wins, 4 wins in a row in each dataset\n",
    "print('Categories of wins in a row per session:')\n",
    "print(df_s.groupby(['clasification', 'session_time'])[['#2ws', '#3ws', '#4ws']].sum())\n",
    "print('--------------------------------------------------')"
   ]
  },
  {
   "cell_type": "code",
   "execution_count": 7,
   "metadata": {},
   "outputs": [],
   "source": [
    "# Ude consecutive functions to find 2ws, 3ws, 4ws in a row in each dataset per session_time per player\n",
    "df = pf.consecutive_wins(df, 'visit')"
   ]
  },
  {
   "cell_type": "code",
   "execution_count": 8,
   "metadata": {},
   "outputs": [
    {
     "name": "stdout",
     "output_type": "stream",
     "text": [
      "Categories of wins in a row per visit:\n",
      "                      #2ws   #3ws  #4ws\n",
      "clasification visit                    \n",
      "extreme_r     1      667.0  114.0  36.0\n",
      "high_r        1      217.0   39.0   7.0\n",
      "low_r         1      110.0   26.0   8.0\n",
      "minimum_r     1       21.0    6.0   0.0\n",
      "--------------------------------------------------\n"
     ]
    }
   ],
   "source": [
    "# Print the numner of total number of 2 wins, 3 wins, 4 wins in a row in each dataset\n",
    "print('Categories of wins in a row per visit:')\n",
    "print(df.groupby(['clasification', 'visit'])[['#2ws', '#3ws', '#4ws']].sum())\n",
    "print('--------------------------------------------------')\n"
   ]
  },
  {
   "attachments": {},
   "cell_type": "markdown",
   "metadata": {},
   "source": [
    "### Gender Differences"
   ]
  },
  {
   "cell_type": "code",
   "execution_count": 9,
   "metadata": {},
   "outputs": [
    {
     "name": "stdout",
     "output_type": "stream",
     "text": [
      "Number of unique players in dtf:\n",
      "clasification  gender\n",
      "extreme_r      F         32\n",
      "               M         37\n",
      "high_r         F         33\n",
      "               M         35\n",
      "low_r          F         36\n",
      "               M         32\n",
      "minimum_r      F         25\n",
      "               M         42\n",
      "Name: playerkey, dtype: int64\n",
      "--------------------------------------------------\n"
     ]
    }
   ],
   "source": [
    "# Gender differences\n",
    "print(\"Number of unique players in dtf:\")\n",
    "print(df.groupby(['clasification', 'gender'])['playerkey'].nunique())\n",
    "print('--------------------------------------------------')"
   ]
  },
  {
   "attachments": {},
   "cell_type": "markdown",
   "metadata": {},
   "source": [
    "### Age Differences"
   ]
  },
  {
   "cell_type": "code",
   "execution_count": 10,
   "metadata": {},
   "outputs": [],
   "source": [
    "# Create age ranges \n",
    "bins = [0, 24, 40, 55, 75, 150]\n",
    "labels = ['18-24', '25-40', '41-55', '56-75', '76+']\n",
    "generations = ['Gen Z', 'Millenials', 'Gen X', 'Baby Boomers', 'Silent']\n",
    "\n",
    "# Use cut function to create age ranges for dtf and top 20%\n",
    "df['age_range'] = pd.cut(df['age'], bins=bins, labels=labels, right=False)\n",
    "df['age_gen'] = pd.cut(df['age'], bins=bins, labels=generations, right=False)\n",
    "\n",
    "df_s['age_range'] = pd.cut(df_s['age'], bins=bins, labels=labels, right=False)\n",
    "df_s['age_gen'] = pd.cut(df_s['age'], bins=bins, labels=generations, right=False)"
   ]
  },
  {
   "cell_type": "code",
   "execution_count": 11,
   "metadata": {},
   "outputs": [
    {
     "name": "stdout",
     "output_type": "stream",
     "text": [
      "Number of unique players in dtf:\n",
      "clasification  age_range\n",
      "extreme_r      18-24         0\n",
      "               25-40         9\n",
      "               41-55        33\n",
      "               56-75        25\n",
      "               76+           2\n",
      "high_r         18-24         0\n",
      "               25-40        14\n",
      "               41-55        25\n",
      "               56-75        24\n",
      "               76+           5\n",
      "low_r          18-24         1\n",
      "               25-40         9\n",
      "               41-55        31\n",
      "               56-75        26\n",
      "               76+           1\n",
      "minimum_r      18-24         0\n",
      "               25-40        21\n",
      "               41-55        23\n",
      "               56-75        18\n",
      "               76+           5\n",
      "Name: playerkey, dtype: int64\n",
      "--------------------------------------------------\n"
     ]
    }
   ],
   "source": [
    "# Age range differences\n",
    "print(\"Number of unique players in dtf:\")\n",
    "print(df.groupby(['clasification', 'age_range'])['playerkey'].nunique())\n",
    "print('--------------------------------------------------')\n"
   ]
  },
  {
   "cell_type": "code",
   "execution_count": 12,
   "metadata": {},
   "outputs": [
    {
     "name": "stdout",
     "output_type": "stream",
     "text": [
      "Number of unique players in dtf:\n",
      "clasification  age_gen     \n",
      "extreme_r      Gen Z            0\n",
      "               Millenials       9\n",
      "               Gen X           33\n",
      "               Baby Boomers    25\n",
      "               Silent           2\n",
      "high_r         Gen Z            0\n",
      "               Millenials      14\n",
      "               Gen X           25\n",
      "               Baby Boomers    24\n",
      "               Silent           5\n",
      "low_r          Gen Z            1\n",
      "               Millenials       9\n",
      "               Gen X           31\n",
      "               Baby Boomers    26\n",
      "               Silent           1\n",
      "minimum_r      Gen Z            0\n",
      "               Millenials      21\n",
      "               Gen X           23\n",
      "               Baby Boomers    18\n",
      "               Silent           5\n",
      "Name: playerkey, dtype: int64\n"
     ]
    }
   ],
   "source": [
    "# Age range differences\n",
    "print(\"Number of unique players in dtf:\")\n",
    "print(df_s.groupby(['clasification', 'age_gen'])['playerkey'].nunique())"
   ]
  },
  {
   "cell_type": "code",
   "execution_count": 35,
   "metadata": {},
   "outputs": [
    {
     "name": "stdout",
     "output_type": "stream",
     "text": [
      "Number of unique players in dtf:\n",
      "clasification  age_gen     \n",
      "extreme_r      Gen Z            0\n",
      "               Millenials       9\n",
      "               Gen X           33\n",
      "               Baby Boomers    25\n",
      "               Silent           2\n",
      "high_r         Gen Z            0\n",
      "               Millenials      14\n",
      "               Gen X           25\n",
      "               Baby Boomers    24\n",
      "               Silent           5\n",
      "low_r          Gen Z            1\n",
      "               Millenials       9\n",
      "               Gen X           31\n",
      "               Baby Boomers    26\n",
      "               Silent           1\n",
      "minimum_r      Gen Z            0\n",
      "               Millenials      21\n",
      "               Gen X           23\n",
      "               Baby Boomers    18\n",
      "               Silent           5\n",
      "Name: playerkey, dtype: int64\n",
      "--------------------------------------------------\n"
     ]
    }
   ],
   "source": [
    "# Age generation differences\n",
    "print(\"Number of unique players in dtf:\")\n",
    "print(df.groupby(['clasification', 'age_gen'])['playerkey'].nunique())\n",
    "print('--------------------------------------------------')"
   ]
  },
  {
   "cell_type": "code",
   "execution_count": 49,
   "metadata": {},
   "outputs": [
    {
     "name": "stdout",
     "output_type": "stream",
     "text": [
      "Male age differences in dtf:\n",
      "age_range\n",
      "18-24     1\n",
      "25-40    35\n",
      "41-55    65\n",
      "56-75    38\n",
      "76+       7\n",
      "Name: playerkey, dtype: int64\n",
      "--------------------------------------------------\n",
      "Female age differences in dtf:\n",
      "age_range\n",
      "18-24     0\n",
      "25-40    18\n",
      "41-55    47\n",
      "56-75    55\n",
      "76+       6\n",
      "Name: playerkey, dtype: int64\n"
     ]
    },
    {
     "data": {
      "image/png": "[encoded data removed]",
      "text/plain": [
       "<Figure size 1000x500 with 2 Axes>"
      ]
     },
     "metadata": {},
     "output_type": "display_data"
    }
   ],
   "source": [
    "# Age range of male gamblers in dtf\n",
    "print(\"Male age differences in dtf:\")\n",
    "print(df[df['gender'] == 'M'].groupby('age_range')['playerkey'].nunique())\n",
    "print('--------------------------------------------------')\n",
    "# Age range of Female gamblers in dtf\n",
    "print('Female age differences in dtf:')\n",
    "print(df[df['gender'] == 'F'].groupby('age_range')['playerkey'].nunique())\n",
    "\n",
    "pf.plot_gender_diff(df, 'dtf', figsize=(10, 5))\n"
   ]
  },
  {
   "attachments": {},
   "cell_type": "markdown",
   "metadata": {},
   "source": [
    "### Increse and Decrease of SlotDenomination and Bet"
   ]
  },
  {
   "cell_type": "code",
   "execution_count": 13,
   "metadata": {},
   "outputs": [
    {
     "name": "stdout",
     "output_type": "stream",
     "text": [
      "Count of players who increase_slotdeno : 91\n",
      "Count of times each player increase_slotdeno : {17: 1, 19: 3, 20: 26, 29: 25, 33: 15, 43: 1, 69: 1, 89: 2, 91: 2, 92: 1, 97: 2, 103: 3, 108: 1, 129: 1, 135: 1, 136: 1, 159: 5, 180: 4, 188: 1, 194: 1, 220: 2, 222: 4, 224: 2, 234: 6, 244: 1, 263: 1, 264: 12, 308: 3, 313: 1, 319: 1, 322: 2, 331: 5, 351: 1, 361: 1, 381: 1, 410: 1, 434: 1, 436: 1, 461: 1, 462: 1, 507: 1, 3: 1, 27: 2, 30: 1, 37: 2, 68: 2, 100: 1, 114: 1, 157: 1, 197: 2, 203: 1, 216: 1, 239: 2, 247: 1, 262: 1, 287: 2, 324: 1, 344: 1, 360: 1, 368: 1, 373: 1, 382: 1, 402: 1, 405: 1, 430: 2, 466: 1, 494: 2, 14: 2, 35: 2, 41: 1, 109: 1, 213: 2, 269: 3, 306: 1, 343: 1, 346: 2, 369: 1, 383: 1, 396: 1, 431: 1, 438: 1, 459: 1, 463: 1, 486: 1, 67: 1, 140: 1, 184: 1, 193: 1, 219: 1, 223: 1, 248: 1}\n",
      "Player who changes the most: 20\n",
      "------------------------------------------------------------------------------------------------------------------\n",
      "Count of players who decrease_slotdeno : 86\n",
      "Count of times each player decrease_slotdeno : {17: 1, 19: 2, 20: 24, 29: 25, 33: 14, 43: 1, 69: 2, 89: 2, 91: 1, 97: 2, 99: 1, 103: 4, 108: 1, 129: 1, 135: 1, 136: 1, 159: 7, 180: 3, 188: 1, 222: 4, 224: 3, 234: 5, 244: 1, 258: 1, 263: 1, 264: 13, 308: 2, 322: 2, 331: 4, 351: 1, 361: 1, 410: 1, 434: 1, 436: 1, 461: 1, 507: 1, 521: 1, 3: 1, 27: 1, 30: 1, 37: 2, 56: 1, 68: 2, 87: 1, 157: 2, 197: 1, 203: 1, 233: 1, 239: 1, 262: 1, 280: 1, 287: 1, 324: 1, 327: 1, 344: 1, 368: 1, 402: 1, 429: 1, 430: 1, 466: 1, 494: 1, 503: 1, 509: 1, 518: 1, 14: 3, 35: 2, 79: 1, 156: 1, 172: 1, 213: 1, 266: 1, 269: 3, 270: 1, 289: 1, 343: 1, 346: 1, 369: 1, 383: 1, 396: 1, 407: 1, 450: 1, 454: 1, 463: 1, 505: 1, 184: 1, 406: 1}\n",
      "Player who changes the most: 29\n",
      "------------------------------------------------------------------------------------------------------------------\n",
      "Count of players who increase_maxbet : 111\n",
      "Count of times each player increase_maxbet : {6: 1, 17: 2, 19: 3, 23: 1, 29: 2, 33: 4, 43: 1, 44: 1, 66: 3, 69: 3, 89: 4, 91: 2, 93: 3, 97: 5, 98: 1, 99: 2, 108: 2, 120: 1, 129: 1, 135: 1, 159: 9, 188: 3, 191: 6, 192: 2, 196: 1, 198: 2, 204: 1, 222: 6, 224: 3, 234: 1, 244: 4, 258: 1, 263: 4, 264: 6, 278: 1, 308: 2, 331: 3, 351: 1, 361: 1, 362: 1, 410: 1, 424: 1, 434: 2, 436: 2, 452: 2, 507: 2, 521: 1, 3: 1, 27: 1, 30: 1, 36: 2, 37: 2, 56: 1, 68: 1, 87: 1, 100: 1, 111: 1, 151: 2, 157: 2, 182: 5, 197: 1, 203: 1, 233: 1, 239: 2, 262: 1, 280: 2, 287: 3, 307: 1, 324: 1, 327: 2, 364: 1, 368: 1, 382: 1, 402: 1, 429: 1, 430: 3, 445: 1, 466: 1, 494: 2, 503: 1, 509: 1, 518: 1, 14: 3, 35: 2, 79: 1, 109: 1, 156: 2, 172: 2, 211: 1, 213: 1, 269: 3, 270: 1, 289: 1, 343: 2, 346: 2, 369: 1, 383: 1, 392: 1, 396: 2, 407: 1, 438: 1, 450: 2, 454: 1, 463: 1, 481: 1, 505: 1, 164: 1, 184: 1, 236: 1, 282: 2, 406: 1}\n",
      "Player who changes the most: 159\n",
      "------------------------------------------------------------------------------------------------------------------\n",
      "Count of players who decrease_maxbet : 124\n",
      "Count of times each player decrease_maxbet : {17: 1, 19: 2, 20: 1, 23: 2, 29: 1, 33: 3, 43: 1, 44: 1, 66: 2, 69: 2, 89: 4, 91: 2, 92: 1, 93: 4, 97: 3, 99: 1, 108: 2, 120: 3, 129: 1, 159: 5, 188: 2, 191: 6, 192: 1, 194: 1, 196: 1, 198: 1, 204: 1, 220: 2, 222: 5, 224: 4, 234: 2, 244: 3, 263: 3, 264: 5, 278: 2, 308: 3, 313: 2, 319: 1, 322: 1, 331: 3, 351: 2, 361: 2, 381: 1, 410: 2, 424: 1, 434: 4, 436: 1, 452: 4, 462: 1, 3: 2, 27: 3, 30: 1, 36: 2, 37: 3, 63: 1, 68: 3, 100: 2, 114: 1, 125: 1, 151: 1, 157: 1, 182: 4, 183: 1, 197: 2, 203: 3, 233: 1, 239: 3, 242: 1, 247: 1, 262: 1, 280: 1, 287: 2, 307: 2, 324: 1, 360: 1, 364: 4, 368: 2, 373: 1, 382: 3, 384: 1, 400: 4, 402: 1, 429: 2, 430: 2, 466: 1, 482: 2, 494: 1, 501: 1, 14: 1, 35: 5, 41: 1, 109: 2, 123: 1, 156: 2, 213: 2, 269: 2, 270: 1, 306: 1, 343: 1, 346: 4, 369: 2, 383: 1, 396: 1, 422: 1, 431: 1, 433: 1, 438: 1, 450: 1, 459: 1, 463: 1, 481: 1, 486: 1, 505: 1, 67: 1, 140: 1, 184: 1, 185: 1, 193: 1, 219: 1, 223: 1, 236: 2, 282: 1, 389: 1, 457: 1}\n",
      "Player who changes the most: 191\n",
      "------------------------------------------------------------------------------------------------------------------\n"
     ]
    }
   ],
   "source": [
    "# Lets do the same but for bottom 20%\n",
    "players_increase_slot = cf.count_increase(df, \"increase_slotdeno\", \"playerkey\", \"slotdenomination\")\n",
    "players_decrease_slot = cf.count_decrease(df, \"decrease_slotdeno\", \"playerkey\", \"slotdenomination\")\n",
    "players_increase_maxbet = cf.count_increase(df, \"increase_maxbet\", \"playerkey\", \"maxbet\")\n",
    "players_decrease_maxbet = cf.count_decrease(df, \"decrease_maxbet\", \"playerkey\", \"maxbet\")\n"
   ]
  },
  {
   "cell_type": "code",
   "execution_count": 14,
   "metadata": {},
   "outputs": [
    {
     "name": "stdout",
     "output_type": "stream",
     "text": [
      "Count of players who increase_slotdeno : 91\n",
      "Count of times each player increase_slotdeno : {17: 1, 19: 3, 20: 26, 29: 25, 33: 15, 43: 1, 69: 1, 89: 2, 91: 2, 92: 1, 97: 2, 103: 3, 108: 1, 129: 1, 135: 1, 136: 1, 159: 5, 180: 4, 188: 1, 194: 1, 220: 2, 222: 4, 224: 2, 234: 6, 244: 1, 263: 1, 264: 12, 308: 3, 313: 1, 319: 1, 322: 2, 331: 5, 351: 1, 361: 1, 381: 1, 410: 1, 434: 1, 436: 1, 461: 1, 462: 1, 507: 1, 3: 1, 27: 2, 30: 1, 37: 2, 68: 2, 100: 1, 114: 1, 157: 1, 197: 2, 203: 1, 216: 1, 239: 2, 247: 1, 262: 1, 287: 2, 324: 1, 344: 1, 360: 1, 368: 1, 373: 1, 382: 1, 402: 1, 405: 1, 430: 2, 466: 1, 494: 2, 14: 2, 35: 2, 41: 1, 109: 1, 213: 2, 269: 3, 306: 1, 343: 1, 346: 2, 369: 1, 383: 1, 396: 1, 431: 1, 438: 1, 459: 1, 463: 1, 486: 1, 67: 1, 140: 1, 184: 1, 193: 1, 219: 1, 223: 1, 248: 1}\n",
      "Player who changes the most: 20\n",
      "------------------------------------------------------------------------------------------------------------------\n",
      "Count of players who decrease_slotdeno : 86\n",
      "Count of times each player decrease_slotdeno : {17: 1, 19: 2, 20: 24, 29: 25, 33: 14, 43: 1, 69: 2, 89: 2, 91: 1, 97: 2, 99: 1, 103: 4, 108: 1, 129: 1, 135: 1, 136: 1, 159: 7, 180: 3, 188: 1, 222: 4, 224: 3, 234: 5, 244: 1, 258: 1, 263: 1, 264: 13, 308: 2, 322: 2, 331: 4, 351: 1, 361: 1, 410: 1, 434: 1, 436: 1, 461: 1, 507: 1, 521: 1, 3: 1, 27: 1, 30: 1, 37: 2, 56: 1, 68: 2, 87: 1, 157: 2, 197: 1, 203: 1, 233: 1, 239: 1, 262: 1, 280: 1, 287: 1, 324: 1, 327: 1, 344: 1, 368: 1, 402: 1, 429: 1, 430: 1, 466: 1, 494: 1, 503: 1, 509: 1, 518: 1, 14: 3, 35: 2, 79: 1, 156: 1, 172: 1, 213: 1, 266: 1, 269: 3, 270: 1, 289: 1, 343: 1, 346: 1, 369: 1, 383: 1, 396: 1, 407: 1, 450: 1, 454: 1, 463: 1, 505: 1, 184: 1, 406: 1}\n",
      "Player who changes the most: 29\n",
      "------------------------------------------------------------------------------------------------------------------\n",
      "Count of players who increase_maxbet : 111\n",
      "Count of times each player increase_maxbet : {6: 1, 17: 2, 19: 3, 23: 1, 29: 2, 33: 4, 43: 1, 44: 1, 66: 3, 69: 3, 89: 4, 91: 2, 93: 3, 97: 5, 98: 1, 99: 2, 108: 2, 120: 1, 129: 1, 135: 1, 159: 9, 188: 3, 191: 6, 192: 2, 196: 1, 198: 2, 204: 1, 222: 6, 224: 3, 234: 1, 244: 4, 258: 1, 263: 4, 264: 6, 278: 1, 308: 2, 331: 3, 351: 1, 361: 1, 362: 1, 410: 1, 424: 1, 434: 2, 436: 2, 452: 2, 507: 2, 521: 1, 3: 1, 27: 1, 30: 1, 36: 2, 37: 2, 56: 1, 68: 1, 87: 1, 100: 1, 111: 1, 151: 2, 157: 2, 182: 5, 197: 1, 203: 1, 233: 1, 239: 2, 262: 1, 280: 2, 287: 3, 307: 1, 324: 1, 327: 2, 364: 1, 368: 1, 382: 1, 402: 1, 429: 1, 430: 3, 445: 1, 466: 1, 494: 2, 503: 1, 509: 1, 518: 1, 14: 3, 35: 2, 79: 1, 109: 1, 156: 2, 172: 2, 211: 1, 213: 1, 269: 3, 270: 1, 289: 1, 343: 2, 346: 2, 369: 1, 383: 1, 392: 1, 396: 2, 407: 1, 438: 1, 450: 2, 454: 1, 463: 1, 481: 1, 505: 1, 164: 1, 184: 1, 236: 1, 282: 2, 406: 1}\n",
      "Player who changes the most: 159\n",
      "------------------------------------------------------------------------------------------------------------------\n",
      "Count of players who decrease_maxbet : 124\n",
      "Count of times each player decrease_maxbet : {17: 1, 19: 2, 20: 1, 23: 2, 29: 1, 33: 3, 43: 1, 44: 1, 66: 2, 69: 2, 89: 4, 91: 2, 92: 1, 93: 4, 97: 3, 99: 1, 108: 2, 120: 3, 129: 1, 159: 5, 188: 2, 191: 6, 192: 1, 194: 1, 196: 1, 198: 1, 204: 1, 220: 2, 222: 5, 224: 4, 234: 2, 244: 3, 263: 3, 264: 5, 278: 2, 308: 3, 313: 2, 319: 1, 322: 1, 331: 3, 351: 2, 361: 2, 381: 1, 410: 2, 424: 1, 434: 4, 436: 1, 452: 4, 462: 1, 3: 2, 27: 3, 30: 1, 36: 2, 37: 3, 63: 1, 68: 3, 100: 2, 114: 1, 125: 1, 151: 1, 157: 1, 182: 4, 183: 1, 197: 2, 203: 3, 233: 1, 239: 3, 242: 1, 247: 1, 262: 1, 280: 1, 287: 2, 307: 2, 324: 1, 360: 1, 364: 4, 368: 2, 373: 1, 382: 3, 384: 1, 400: 4, 402: 1, 429: 2, 430: 2, 466: 1, 482: 2, 494: 1, 501: 1, 14: 1, 35: 5, 41: 1, 109: 2, 123: 1, 156: 2, 213: 2, 269: 2, 270: 1, 306: 1, 343: 1, 346: 4, 369: 2, 383: 1, 396: 1, 422: 1, 431: 1, 433: 1, 438: 1, 450: 1, 459: 1, 463: 1, 481: 1, 486: 1, 505: 1, 67: 1, 140: 1, 184: 1, 185: 1, 193: 1, 219: 1, 223: 1, 236: 2, 282: 1, 389: 1, 457: 1}\n",
      "Player who changes the most: 191\n",
      "------------------------------------------------------------------------------------------------------------------\n"
     ]
    }
   ],
   "source": [
    "# Lets do the same but for df_s\n",
    "players_increase_slot_s = cf.count_increase(df_s, \"increase_slotdeno\", \"playerkey\", \"slotdenomination\")\n",
    "players_decrease_slot_s = cf.count_decrease(df_s, \"decrease_slotdeno\", \"playerkey\", \"slotdenomination\")\n",
    "players_increase_maxbet_s = cf.count_increase(df_s, \"increase_maxbet\", \"playerkey\", \"maxbet\")\n",
    "players_decrease_maxbet_s = cf.count_decrease(df_s, \"decrease_maxbet\", \"playerkey\", \"maxbet\")"
   ]
  },
  {
   "attachments": {},
   "cell_type": "markdown",
   "metadata": {},
   "source": [
    "### Wealth Differences\n",
    "#### General"
   ]
  },
  {
   "cell_type": "code",
   "execution_count": 15,
   "metadata": {},
   "outputs": [],
   "source": [
    "# Lets crate a column called 'depletion_slope' which is the difference of 'playercashableamt' between the current gamble and the previous gamble\n",
    "df['depletion_rate'] = df.groupby(['playerkey', 'session_time'])['playercashableamt'].diff().fillna(0)\n",
    "\n",
    "# Lets crate a column called 'depletion_slope' which is the difference of 'playercashableamt' between the current gamble and the previous gamble\n",
    "df_s['depletion_rate'] = df_s.groupby(['playerkey', 'session_time'])['playercashableamt'].diff().fillna(0)\n"
   ]
  },
  {
   "attachments": {},
   "cell_type": "markdown",
   "metadata": {},
   "source": [
    "#### Per Visit"
   ]
  },
  {
   "cell_type": "code",
   "execution_count": 16,
   "metadata": {},
   "outputs": [],
   "source": [
    "# Create dataframe for Machine Learning model\n",
    "df_ML_v = pf.transform_ml(data_b=df, grouping='visit')"
   ]
  },
  {
   "cell_type": "code",
   "execution_count": 17,
   "metadata": {},
   "outputs": [
    {
     "name": "stdout",
     "output_type": "stream",
     "text": [
      "Number of unique players in df_ML_v:  272\n",
      "Number of discrepancies: 2\n",
      "Number of unique players w/o discrepancies:  270\n"
     ]
    }
   ],
   "source": [
    "# Print number of unique players\n",
    "print(\"Number of unique players in df_ML_v: \", df_ML_v['playerkey'].nunique())\n",
    "\n",
    "# Get the IDs of players who have NaN values in any of the columns\n",
    "list_discrepancy_v = df_ML_v[df_ML_v.isna().any(axis=1)]['playerkey'].unique()\n",
    "\n",
    "# print number of discrepancies\n",
    "print(\"Number of discrepancies:\", len(list_discrepancy_v))\n",
    "\n",
    "# Remove players with NaN values\n",
    "df_ML_v = df_ML_v[~df_ML_v['playerkey'].isin(list_discrepancy_v)]\n",
    "\n",
    "# Print number of unique players with no NaN values\n",
    "print(\"Number of unique players w/o discrepancies: \", df_ML_v['playerkey'].nunique())"
   ]
  },
  {
   "cell_type": "code",
   "execution_count": 18,
   "metadata": {},
   "outputs": [
    {
     "name": "stdout",
     "output_type": "stream",
     "text": [
      "Index(['playerkey', 'visit', 'gender', 'age_range', 'age_gen', 'beginning_amt',\n",
      "       'ending_amt', 'ending_balance', 'ave_slotdenom', 'std_slotdenom',\n",
      "       'min_slotdenom', 'max_slotdenom', 'ave_theo_payback',\n",
      "       'min_theo_payback', 'max_theo_payback', 'ave_wageramt', 'std_wageramt',\n",
      "       'min_wager', 'max_wager', 'ave_p/b', 'std_p/b', 'max_p/b', 'max_profit',\n",
      "       'depletion_slope', '#inc_slotdenom', '#dec_slotdenom', '#inc_maxbet',\n",
      "       '#dec_maxbet', 'first_wager', 'first_outcome', 'first_p/b',\n",
      "       'last_wager', 'last_outcome', 'last_p/b', 'machines_changes', '#W',\n",
      "       '#L', '#NH', '#D', 'w/g', 'l/g', 'nh/g', 'd/g', '#2ws', '2ws_profit',\n",
      "       '2ws_wgramt', '#3ws', '3ws_profit', '3ws_wgramt', '#4ws', '4ws_profit',\n",
      "       '4ws_wgramt', 'ave_time_per_gamble', 'min_time_per_gamble',\n",
      "       'max_time_per_gamble', 'total_duration', 'total_gambles',\n",
      "       'classification', 'unique_machines', 'ave_time_per_machine', 'w/min',\n",
      "       'l/min', 'nh/min', 'd/min', '2ws/min', '3ws/min', '4ws/min'],\n",
      "      dtype='object')\n"
     ]
    }
   ],
   "source": [
    "print(df_ML_v.columns)\n",
    "\n",
    "# # # Reorder Columns\n",
    "desired_order = ['playerkey', 'visit', 'gender', 'age_range', 'age_gen',\n",
    "                'beginning_amt', 'ending_amt', 'ending_balance', 'ave_slotdenom',\n",
    "                'std_slotdenom', 'min_slotdenom', 'max_slotdenom', 'ave_theo_payback',\n",
    "                'min_theo_payback', 'max_theo_payback', 'ave_wageramt', 'std_wageramt',\n",
    "                'min_wager', 'max_wager', 'ave_p/b', 'std_p/b', 'max_p/b', 'max_profit', 'depletion_slope',\n",
    "                '#inc_maxbet', '#dec_maxbet', 'first_wager', 'first_outcome', 'first_p/b', 'last_wager',\n",
    "                'last_outcome', 'last_p/b', '#W', '#L', '#NH', '#D', 'w/min', 'l/min', 'nh/min', 'd/min', \n",
    "                'w/g', 'l/g', 'nh/g', 'd/g', '#2ws', '2ws_profit', '2ws_wgramt', '#3ws', \n",
    "                '3ws_profit','3ws_wgramt', '#4ws', '4ws_profit', '4ws_wgramt', '2ws/min', '3ws/min', '4ws/min',\n",
    "                'ave_time_per_gamble', 'min_time_per_gamble', 'max_time_per_gamble',\n",
    "                'total_duration', 'total_gambles', 'machines_changes', '#inc_slotdenom', '#dec_slotdenom',\n",
    "                'unique_machines', 'ave_time_per_machine','classification']\n",
    "\n",
    "\n",
    "df_ML_v = df_ML_v.reindex(columns=desired_order)\n",
    "\n",
    "# Save dataframe to paquet file\n",
    "df_ML_v.to_parquet('/Users/mau/Library/CloudStorage/Dropbox/Mac/Documents/Dissertation/Chapter 2/Entire_Data/By month/'+month_file+'/Ending Balances/Per_Player/per_player_ending_balance_by_visit_ALL.parquet')"
   ]
  },
  {
   "attachments": {},
   "cell_type": "markdown",
   "metadata": {},
   "source": [
    "#### Per Session"
   ]
  },
  {
   "cell_type": "code",
   "execution_count": 19,
   "metadata": {},
   "outputs": [],
   "source": [
    "df_ML_s = pf.transform_ml(data_b=df_s, grouping='session_time')"
   ]
  },
  {
   "cell_type": "code",
   "execution_count": 20,
   "metadata": {},
   "outputs": [
    {
     "name": "stdout",
     "output_type": "stream",
     "text": [
      "Number of unique players in df_ML_v:  272\n",
      "Number of discrepancies: 5\n",
      "Number of unique players w/o discrepancies:  267\n"
     ]
    }
   ],
   "source": [
    "# Print number of unique players\n",
    "print(\"Number of unique players in df_ML_v: \", df_ML_s['playerkey'].nunique())\n",
    "\n",
    "# Get the IDs of players who have NaN values in any of the columns\n",
    "list_discrepancy_s = df_ML_s[df_ML_s.isna().any(axis=1)]['playerkey'].unique()\n",
    "\n",
    "# print number of discrepancies\n",
    "print(\"Number of discrepancies:\", len(list_discrepancy_s))\n",
    "\n",
    "# Remove players with NaN values\n",
    "df_ML_s = df_ML_s[~df_ML_s['playerkey'].isin(list_discrepancy_s)]\n",
    "\n",
    "# Print number of unique players with no NaN values\n",
    "print(\"Number of unique players w/o discrepancies: \", df_ML_s['playerkey'].nunique())"
   ]
  },
  {
   "cell_type": "code",
   "execution_count": 21,
   "metadata": {},
   "outputs": [
    {
     "name": "stdout",
     "output_type": "stream",
     "text": [
      "Index(['playerkey', 'session_time', 'gender', 'age_range', 'age_gen',\n",
      "       'beginning_amt', 'ending_amt', 'ending_balance', 'ave_slotdenom',\n",
      "       'std_slotdenom', 'min_slotdenom', 'max_slotdenom', 'ave_theo_payback',\n",
      "       'min_theo_payback', 'max_theo_payback', 'ave_wageramt', 'std_wageramt',\n",
      "       'min_wager', 'max_wager', 'ave_p/b', 'std_p/b', 'max_p/b', 'max_profit',\n",
      "       'depletion_slope', '#inc_slotdenom', '#dec_slotdenom', '#inc_maxbet',\n",
      "       '#dec_maxbet', 'first_wager', 'first_outcome', 'first_p/b',\n",
      "       'last_wager', 'last_outcome', 'last_p/b', 'machines_changes', '#W',\n",
      "       '#L', '#NH', '#D', 'w/g', 'l/g', 'nh/g', 'd/g', '#2ws', '2ws_profit',\n",
      "       '2ws_wgramt', '#3ws', '3ws_profit', '3ws_wgramt', '#4ws', '4ws_profit',\n",
      "       '4ws_wgramt', 'ave_time_per_gamble', 'min_time_per_gamble',\n",
      "       'max_time_per_gamble', 'total_duration', 'total_gambles',\n",
      "       'classification', 'unique_machines', 'ave_time_per_machine', 'w/min',\n",
      "       'l/min', 'nh/min', 'd/min', '2ws/min', '3ws/min', '4ws/min'],\n",
      "      dtype='object')\n"
     ]
    }
   ],
   "source": [
    "print(df_ML_s.columns)\n",
    "\n",
    "# # # Reorder Columns\n",
    "desired_order = ['playerkey', 'session_time', 'gender', 'age_range', 'age_gen',\n",
    "                'beginning_amt', 'ending_amt', 'ending_balance', 'ave_slotdenom',\n",
    "                'std_slotdenom', 'min_slotdenom', 'max_slotdenom', 'ave_theo_payback',\n",
    "                'min_theo_payback', 'max_theo_payback', 'ave_wageramt', 'std_wageramt',\n",
    "                'min_wager', 'max_wager', 'ave_p/b', 'std_p/b', 'max_p/b', 'max_profit', 'depletion_slope',\n",
    "                '#inc_maxbet', '#dec_maxbet', 'first_wager', 'first_outcome', 'first_p/b', 'last_wager',\n",
    "                'last_outcome', 'last_p/b', '#W', '#L', '#NH', '#D', 'w/min', 'l/min', 'nh/min', 'd/min', \n",
    "                'w/g', 'l/g', 'nh/g', 'd/g', '#2ws', '2ws_profit', '2ws_wgramt', '#3ws', \n",
    "                '3ws_profit','3ws_wgramt', '#4ws', '4ws_profit', '4ws_wgramt', '2ws/min', '3ws/min', '4ws/min',\n",
    "                'ave_time_per_gamble', 'min_time_per_gamble', 'max_time_per_gamble',\n",
    "                'total_duration', 'total_gambles', 'machines_changes', '#inc_slotdenom', '#dec_slotdenom',\n",
    "                'unique_machines', 'ave_time_per_machine','classification']\n",
    "\n",
    "df_ML_s = df_ML_s.reindex(columns=desired_order)\n",
    "\n",
    "# Save dataframe to paquet file\n",
    "df_ML_s.to_parquet('/Users/mau/Library/CloudStorage/Dropbox/Mac/Documents/Dissertation/Chapter 2/Entire_Data/By month/'+month_file+'/Ending Balances/Per_Player/per_player_ending_balance_by_session_ALL.parquet')\n"
   ]
  }
 ],
 "metadata": {
  "kernelspec": {
   "display_name": "Python 3",
   "language": "python",
   "name": "python3"
  },
  "language_info": {
   "codemirror_mode": {
    "name": "ipython",
    "version": 3
   },
   "file_extension": ".py",
   "mimetype": "text/x-python",
   "name": "python",
   "nbconvert_exporter": "python",
   "pygments_lexer": "ipython3",
   "version": "3.10.0"
  },
  "orig_nbformat": 4
 },
 "nbformat": 4,
 "nbformat_minor": 2
}
