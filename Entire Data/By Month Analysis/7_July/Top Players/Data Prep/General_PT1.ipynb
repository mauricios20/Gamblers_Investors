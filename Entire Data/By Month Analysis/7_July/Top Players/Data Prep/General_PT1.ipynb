{
 "cells": [
  {
   "attachments": {},
   "cell_type": "markdown",
   "metadata": {},
   "source": [
    "# Similarities and Differences between Categories (Pt.1 - Age, Gender, Won/Lost Amount)"
   ]
  },
  {
   "cell_type": "code",
   "execution_count": 1,
   "metadata": {},
   "outputs": [],
   "source": [
    "# Define libraries\n",
    "import pandas as pd\n",
    "import numpy as np\n",
    "import matplotlib.pyplot as plt\n",
    "import seaborn as sns\n",
    "import matplotlib.dates as mdates\n",
    "import os\n",
    "import plotting_fn as pf\n",
    "import counting_fns as cf\n",
    "\n",
    "month_file = '3_July'\n",
    "cut_off = 10000\n",
    "# Set working directory\n",
    "os.chdir(\"/Users/mau/Library/CloudStorage/Dropbox/Mac/Documents/Dissertation/Chapter 2/Entire_Data/By month/\"+month_file)\n"
   ]
  },
  {
   "cell_type": "code",
   "execution_count": 2,
   "metadata": {},
   "outputs": [],
   "source": [
    "# Read in data\n",
    "df = pd.read_parquet(\"top_players.parquet\")\n",
    "\n",
    "# Round wageredamt and profit to 2 decimal places\n",
    "df['wageredamt'] = df['wageredamt'].round(1)\n",
    "df['profit'] = df['profit'].round(1)\n",
    "df['percent_return'] = df['percent_return'].round(1)\n"
   ]
  },
  {
   "cell_type": "code",
   "execution_count": 3,
   "metadata": {},
   "outputs": [],
   "source": [
    "# Create a new column 'result_type' that is a categorical variable which takes the value 'loss' if the change is negative and 'gain' if the change is positive, and 'draw' of change is 0\n",
    "df['result_type'] = df['percent_return'].apply(lambda x: 'loss' if x == -100 else 'near-hit' if x < 0 else 'gain' if x > 0 else 'draw')\n",
    "\n",
    "# Create dummy variables from 'result_type'\n",
    "dummy_variables = pd.get_dummies(df['result_type']).rename(columns=lambda x: '#' + str(x[0].capitalize()))\n",
    "\n",
    "# Add the dummy variables to the original DataFrame\n",
    "df = pd.concat([df, dummy_variables], axis=1).reset_index(drop=True)\n",
    "\n",
    "# Convert starttime to delte format for operations\n",
    "df['start_time'] = pd.to_datetime(df['start_time'])"
   ]
  },
  {
   "cell_type": "code",
   "execution_count": 4,
   "metadata": {},
   "outputs": [],
   "source": [
    "# Create new column called 'time_diff' which is the difference between the start time of the gamble and the start time of the previous gamble\n",
    "df['time_diff'] = df.groupby(['playerkey', 'session_time'])['start_time'].diff()\n",
    "\n",
    "# Convert time_diff to seconds\n",
    "df['time_diff'] = df['time_diff'].dt.total_seconds().fillna(0)"
   ]
  },
  {
   "attachments": {},
   "cell_type": "markdown",
   "metadata": {},
   "source": [
    "## General Overview\n",
    "\n",
    "### Players, Visits, Sessions of Each Group"
   ]
  },
  {
   "cell_type": "code",
   "execution_count": 5,
   "metadata": {},
   "outputs": [
    {
     "name": "stdout",
     "output_type": "stream",
     "text": [
      "Number of gamblers in dataframe: 1362\n",
      "--------------------------------------------------\n",
      "Number of unique visits in dtf: 25\n",
      "--------------------------------------------------\n",
      "Number of unique sessions in dtf: 9\n",
      "--------------------------------------------------\n"
     ]
    }
   ],
   "source": [
    "# Number of gamblers\n",
    "print(\"Number of gamblers in dataframe:\", len(df['playerkey'].unique()))\n",
    "print('--------------------------------------------------')\n",
    "\n",
    "# Print number of unique visits\n",
    "print(\"Number of unique visits in dtf:\", len(df['visit'].unique()))\n",
    "print('--------------------------------------------------')\n",
    "\n",
    "# Print number of unique sessions\n",
    "print(\"Number of unique sessions in dtf:\", len(df['session_time'].unique()))\n",
    "print('--------------------------------------------------')"
   ]
  },
  {
   "attachments": {},
   "cell_type": "markdown",
   "metadata": {},
   "source": [
    "### Wins in a row"
   ]
  },
  {
   "cell_type": "code",
   "execution_count": 6,
   "metadata": {},
   "outputs": [],
   "source": [
    "# Ude consecutive functions to find 2ws, 3ws, 4ws in a row in each dataset per visit per player\n",
    "df_s = pf.consecutive_wins(df, 'session_time')"
   ]
  },
  {
   "cell_type": "code",
   "execution_count": 7,
   "metadata": {},
   "outputs": [
    {
     "name": "stdout",
     "output_type": "stream",
     "text": [
      "Categories of wins in a row per session:\n",
      "                               #2ws    #3ws   #4ws\n",
      "clasification session_time                        \n",
      "top_1         1              5882.0  1099.0  342.0\n",
      "              2              3395.0   615.0  227.0\n",
      "              3              1514.0   306.0  108.0\n",
      "              4               770.0   174.0   62.0\n",
      "              5               380.0    45.0   16.0\n",
      "              6               192.0    15.0    8.0\n",
      "              7                58.0    18.0    4.0\n",
      "              8                 0.0     1.0    0.0\n",
      "top_10        1              7586.0  1413.0  434.0\n",
      "              2              3042.0   551.0  162.0\n",
      "              3              1015.0   190.0   66.0\n",
      "              4               343.0    51.0   18.0\n",
      "              5                74.0    14.0    4.0\n",
      "              6                15.0     4.0    2.0\n",
      "              7                 7.0     3.0    1.0\n",
      "top_5         1             10962.0  2142.0  638.0\n",
      "              2              4796.0   920.0  348.0\n",
      "              3              2048.0   409.0  120.0\n",
      "              4               622.0   106.0   38.0\n",
      "              5               223.0    42.0   13.0\n",
      "              6                99.0    11.0    6.0\n",
      "              7                 9.0     3.0    1.0\n",
      "              8                13.0     1.0    0.0\n",
      "              9                 5.0     0.0    0.0\n",
      "--------------------------------------------------\n"
     ]
    }
   ],
   "source": [
    "# Print the numner of total number of 2 wins, 3 wins, 4 wins in a row in each dataset\n",
    "print('Categories of wins in a row per session:')\n",
    "print(df_s.groupby(['clasification', 'session_time'])[['#2ws', '#3ws', '#4ws']].sum())\n",
    "print('--------------------------------------------------')"
   ]
  },
  {
   "cell_type": "code",
   "execution_count": 8,
   "metadata": {},
   "outputs": [],
   "source": [
    "# Ude consecutive functions to find 2ws, 3ws, 4ws in a row in each dataset per session_time per player\n",
    "df = pf.consecutive_wins(df, 'visit')"
   ]
  },
  {
   "cell_type": "code",
   "execution_count": 9,
   "metadata": {},
   "outputs": [
    {
     "name": "stdout",
     "output_type": "stream",
     "text": [
      "Categories of wins in a row per visit:\n",
      "                       #2ws    #3ws   #4ws\n",
      "clasification visit                       \n",
      "top_1         1      3391.0   669.0  216.0\n",
      "              2      3773.0   660.0  253.0\n",
      "              3      2399.0   413.0  146.0\n",
      "              4      1137.0   225.0   52.0\n",
      "              5       428.0    84.0   34.0\n",
      "              6       171.0    30.0    5.0\n",
      "              7       148.0    44.0   11.0\n",
      "              8       157.0    32.0   16.0\n",
      "              9       125.0    26.0   12.0\n",
      "              10       70.0    21.0    9.0\n",
      "              11       47.0    11.0    2.0\n",
      "              12       47.0    14.0    3.0\n",
      "              13       27.0     5.0    0.0\n",
      "              14       40.0     0.0    0.0\n",
      "              15       47.0     7.0    3.0\n",
      "              16        7.0     2.0    1.0\n",
      "              17       36.0     3.0    0.0\n",
      "              18       34.0     7.0    0.0\n",
      "              19       40.0    10.0    2.0\n",
      "              20        2.0     0.0    0.0\n",
      "              21        3.0     1.0    0.0\n",
      "              22       48.0     6.0    3.0\n",
      "              23        0.0     0.0    0.0\n",
      "              24        9.0     1.0    0.0\n",
      "              25        0.0     0.0    0.0\n",
      "top_10        1      6153.0  1140.0  319.0\n",
      "              2      3823.0   699.0  247.0\n",
      "              3      1419.0   248.0   63.0\n",
      "              4       442.0    83.0   24.0\n",
      "              5       142.0    29.0   17.0\n",
      "              6        35.0     4.0    6.0\n",
      "              7        26.0     5.0    3.0\n",
      "              8        14.0    11.0    7.0\n",
      "              9         3.0     0.0    0.0\n",
      "              10        3.0     0.0    1.0\n",
      "              11        4.0     2.0    0.0\n",
      "              12        1.0     2.0    0.0\n",
      "              13        9.0     1.0    0.0\n",
      "              14        1.0     0.0    0.0\n",
      "top_5         1      7167.0  1404.0  412.0\n",
      "              2      6571.0  1294.0  440.0\n",
      "              3      3193.0   612.0  181.0\n",
      "              4      1101.0   203.0   85.0\n",
      "              5       474.0    73.0   31.0\n",
      "              6       182.0    36.0    9.0\n",
      "              7        42.0     9.0    3.0\n",
      "              8        18.0     4.0    3.0\n",
      "              9         7.0     1.0    0.0\n",
      "              10        0.0     0.0    0.0\n",
      "              11       12.0     3.0    0.0\n",
      "              12        1.0     0.0    0.0\n",
      "              13        2.0     1.0    0.0\n",
      "--------------------------------------------------\n"
     ]
    }
   ],
   "source": [
    "# Print the numner of total number of 2 wins, 3 wins, 4 wins in a row in each dataset\n",
    "print('Categories of wins in a row per visit:')\n",
    "print(df.groupby(['clasification', 'visit'])[['#2ws', '#3ws', '#4ws']].sum())\n",
    "print('--------------------------------------------------')\n"
   ]
  },
  {
   "attachments": {},
   "cell_type": "markdown",
   "metadata": {},
   "source": [
    "### Gender Differences"
   ]
  },
  {
   "cell_type": "code",
   "execution_count": 10,
   "metadata": {},
   "outputs": [
    {
     "name": "stdout",
     "output_type": "stream",
     "text": [
      "Number of unique players in dtf:\n",
      "clasification  gender\n",
      "top_1          F          66\n",
      "               M          71\n",
      "top_10         F         332\n",
      "               M         349\n",
      "top_5          F         258\n",
      "               M         286\n",
      "Name: playerkey, dtype: int64\n",
      "--------------------------------------------------\n"
     ]
    }
   ],
   "source": [
    "# Gender differences\n",
    "print(\"Number of unique players in dtf:\")\n",
    "print(df.groupby(['clasification', 'gender'])['playerkey'].nunique())\n",
    "print('--------------------------------------------------')"
   ]
  },
  {
   "attachments": {},
   "cell_type": "markdown",
   "metadata": {},
   "source": [
    "### Age Differences"
   ]
  },
  {
   "cell_type": "code",
   "execution_count": 11,
   "metadata": {},
   "outputs": [],
   "source": [
    "# Create age ranges \n",
    "bins = [0, 24, 40, 55, 75, 150]\n",
    "labels = ['18-24', '25-40', '41-55', '56-75', '76+']\n",
    "generations = ['Gen Z', 'Millenials', 'Gen X', 'Baby Boomers', 'Silent']\n",
    "\n",
    "# Use cut function to create age ranges for dtf and top 20%\n",
    "df['age_range'] = pd.cut(df['age'], bins=bins, labels=labels, right=False)\n",
    "df['age_gen'] = pd.cut(df['age'], bins=bins, labels=generations, right=False)\n",
    "\n",
    "df_s['age_range'] = pd.cut(df_s['age'], bins=bins, labels=labels, right=False)\n",
    "df_s['age_gen'] = pd.cut(df_s['age'], bins=bins, labels=generations, right=False)"
   ]
  },
  {
   "cell_type": "code",
   "execution_count": 12,
   "metadata": {},
   "outputs": [
    {
     "name": "stdout",
     "output_type": "stream",
     "text": [
      "Number of unique players in dtf:\n",
      "clasification  age_range\n",
      "top_1          18-24          0\n",
      "               25-40         13\n",
      "               41-55         55\n",
      "               56-75         67\n",
      "               76+            2\n",
      "top_10         18-24          4\n",
      "               25-40        142\n",
      "               41-55        272\n",
      "               56-75        235\n",
      "               76+           28\n",
      "top_5          18-24          2\n",
      "               25-40         89\n",
      "               41-55        229\n",
      "               56-75        208\n",
      "               76+           16\n",
      "Name: playerkey, dtype: int64\n",
      "--------------------------------------------------\n"
     ]
    }
   ],
   "source": [
    "# Age range differences\n",
    "print(\"Number of unique players in dtf:\")\n",
    "print(df.groupby(['clasification', 'age_range'])['playerkey'].nunique())\n",
    "print('--------------------------------------------------')\n"
   ]
  },
  {
   "cell_type": "code",
   "execution_count": 13,
   "metadata": {},
   "outputs": [
    {
     "name": "stdout",
     "output_type": "stream",
     "text": [
      "Number of unique players in dtf:\n",
      "clasification  age_gen     \n",
      "top_1          Gen Z             0\n",
      "               Millenials       13\n",
      "               Gen X            55\n",
      "               Baby Boomers     67\n",
      "               Silent            2\n",
      "top_10         Gen Z             4\n",
      "               Millenials      142\n",
      "               Gen X           272\n",
      "               Baby Boomers    235\n",
      "               Silent           28\n",
      "top_5          Gen Z             2\n",
      "               Millenials       89\n",
      "               Gen X           229\n",
      "               Baby Boomers    208\n",
      "               Silent           16\n",
      "Name: playerkey, dtype: int64\n"
     ]
    }
   ],
   "source": [
    "# Age range differences\n",
    "print(\"Number of unique players in dtf:\")\n",
    "print(df_s.groupby(['clasification', 'age_gen'])['playerkey'].nunique())"
   ]
  },
  {
   "cell_type": "code",
   "execution_count": 14,
   "metadata": {},
   "outputs": [
    {
     "name": "stdout",
     "output_type": "stream",
     "text": [
      "Number of unique players in dtf:\n",
      "clasification  age_gen     \n",
      "top_1          Gen Z             0\n",
      "               Millenials       13\n",
      "               Gen X            55\n",
      "               Baby Boomers     67\n",
      "               Silent            2\n",
      "top_10         Gen Z             4\n",
      "               Millenials      142\n",
      "               Gen X           272\n",
      "               Baby Boomers    235\n",
      "               Silent           28\n",
      "top_5          Gen Z             2\n",
      "               Millenials       89\n",
      "               Gen X           229\n",
      "               Baby Boomers    208\n",
      "               Silent           16\n",
      "Name: playerkey, dtype: int64\n",
      "--------------------------------------------------\n"
     ]
    }
   ],
   "source": [
    "# Age generation differences\n",
    "print(\"Number of unique players in dtf:\")\n",
    "print(df.groupby(['clasification', 'age_gen'])['playerkey'].nunique())\n",
    "print('--------------------------------------------------')"
   ]
  },
  {
   "cell_type": "code",
   "execution_count": 15,
   "metadata": {},
   "outputs": [
    {
     "name": "stdout",
     "output_type": "stream",
     "text": [
      "Male age differences in dtf:\n",
      "age_range\n",
      "18-24      4\n",
      "25-40    150\n",
      "41-55    287\n",
      "56-75    238\n",
      "76+       27\n",
      "Name: playerkey, dtype: int64\n",
      "--------------------------------------------------\n",
      "Female age differences in dtf:\n",
      "age_range\n",
      "18-24      2\n",
      "25-40     94\n",
      "41-55    269\n",
      "56-75    272\n",
      "76+       19\n",
      "Name: playerkey, dtype: int64\n"
     ]
    },
    {
     "data": {
      "image/png": "[encoded data removed]",
      "text/plain": [
       "<Figure size 1000x500 with 2 Axes>"
      ]
     },
     "metadata": {},
     "output_type": "display_data"
    }
   ],
   "source": [
    "# Age range of male gamblers in dtf\n",
    "print(\"Male age differences in dtf:\")\n",
    "print(df[df['gender'] == 'M'].groupby('age_range')['playerkey'].nunique())\n",
    "print('--------------------------------------------------')\n",
    "# Age range of Female gamblers in dtf\n",
    "print('Female age differences in dtf:')\n",
    "print(df[df['gender'] == 'F'].groupby('age_range')['playerkey'].nunique())\n",
    "\n",
    "pf.plot_gender_diff(df, 'dtf', figsize=(10, 5))\n"
   ]
  },
  {
   "attachments": {},
   "cell_type": "markdown",
   "metadata": {},
   "source": [
    "### Increse and Decrease of SlotDenomination and Bet"
   ]
  },
  {
   "cell_type": "code",
   "execution_count": 16,
   "metadata": {},
   "outputs": [
    {
     "name": "stdout",
     "output_type": "stream",
     "text": [
      "Count of players who increase_slotdeno : 1109\n",
      "Count of times each player increase_slotdeno : {33: 66, 199: 1, 224: 10, 795: 14, 865: 1, 982: 17, 1008: 13, 1013: 5, 1035: 16, 1036: 16, 1141: 22, 1166: 28, 1171: 49, 1233: 44, 1331: 12, 1483: 5, 1496: 5, 1513: 8, 2044: 22, 2065: 4, 2070: 1, 2073: 7, 2319: 9, 2368: 3, 2768: 11, 2950: 41, 3283: 3, 3399: 188, 3436: 15, 3546: 19, 3749: 4, 3825: 1, 4067: 12, 4106: 8, 4265: 14, 4333: 16, 4483: 41, 4758: 2, 4819: 17, 4919: 2, 4971: 21, 5046: 29, 5334: 20, 5561: 1, 5563: 96, 5673: 7, 5676: 25, 5692: 22, 5822: 515, 6014: 1, 6018: 4, 6053: 3, 6194: 6, 6232: 2, 6451: 11, 6498: 7, 6708: 6, 6719: 6, 6720: 11, 6760: 9, 6767: 10, 6769: 4, 6838: 4, 6908: 8, 7058: 32, 7100: 9, 7122: 6, 7257: 3, 7695: 10, 7967: 2, 8116: 90, 8220: 21, 8385: 2, 8412: 11, 8467: 1, 8647: 61, 8648: 115, 8968: 25, 8978: 12, 9087: 5, 9138: 25, 9222: 9, 9269: 10, 9372: 13, 9382: 12, 9383: 10, 9396: 32, 9434: 4, 9570: 9, 9640: 127, 9788: 762, 10090: 5, 10106: 169, 10177: 1, 10638: 5, 10643: 6, 10671: 16, 10711: 5, 10747: 6, 10851: 175, 11075: 9, 11197: 9, 11283: 7, 11437: 5, 11704: 14, 12034: 26, 12288: 3, 12559: 21, 12682: 12, 12735: 15, 12854: 6, 12857: 4, 12988: 775, 13254: 7, 13383: 37, 13394: 13, 13425: 18, 13714: 3, 13941: 22, 13942: 8, 14611: 4, 14823: 9, 14965: 13, 14995: 4, 15193: 69, 15307: 16, 15339: 4, 38: 4, 44: 1, 93: 2, 94: 1, 95: 2, 120: 4, 351: 2, 361: 1, 435: 18, 450: 7, 606: 2, 652: 3, 682: 10, 731: 3, 765: 2, 861: 5, 878: 4, 931: 7, 956: 1, 987: 9, 996: 13, 1016: 11, 1017: 149, 1025: 11, 1029: 2, 1123: 44, 1127: 162, 1147: 2, 1177: 1, 1220: 3, 1228: 3, 1243: 1, 1259: 3, 1269: 3, 1275: 16, 1296: 1, 1363: 1, 1486: 2, 1495: 2, 1511: 9, 1512: 6, 1546: 22, 1547: 5, 1583: 1, 1624: 4, 1625: 1, 1642: 1, 1695: 4, 1705: 2, 1729: 10, 1737: 7, 1755: 10, 1757: 10, 1853: 5, 1869: 2, 1888: 5, 1913: 1, 1925: 8, 1931: 12, 1950: 4, 2005: 33, 2020: 4, 2045: 4, 2054: 5, 2132: 23, 2162: 46, 2189: 11, 2208: 4, 2247: 2, 2282: 103, 2290: 2, 2331: 8, 2332: 1, 2389: 1, 2459: 148, 2479: 7, 2569: 2, 2647: 5, 2648: 2, 2681: 1, 2710: 22, 2745: 6, 2809: 10, 2906: 7, 2912: 2, 2943: 2, 2945: 6, 2947: 11, 2948: 13, 2954: 2, 3010: 8, 3012: 3, 3014: 2, 3042: 1, 3058: 5, 3236: 7, 3260: 7, 3303: 74, 3353: 7, 3368: 5, 3370: 1, 3385: 8, 3434: 2, 3467: 3, 3487: 6, 3588: 208, 3613: 2, 3641: 1, 3651: 3, 3677: 38, 3682: 1, 3689: 1, 3708: 8, 3766: 1, 3794: 4, 3819: 2, 3837: 5, 3911: 9, 3935: 35, 3948: 5, 3954: 33, 4029: 110, 4053: 1, 4065: 1, 4069: 12, 4083: 3, 4084: 1, 4094: 4, 4148: 3, 4228: 2, 4285: 5, 4328: 3, 4356: 2, 4503: 11, 4590: 6, 4688: 6, 4717: 1, 4751: 4, 4759: 3, 4848: 2, 4913: 1, 4918: 1, 4961: 6, 5025: 1, 5040: 3, 5074: 10, 5103: 7, 5109: 2, 5136: 3, 5175: 5, 5179: 8, 5231: 2, 5412: 4, 5454: 11, 5455: 8, 5525: 7, 5543: 5, 5700: 6, 5710: 2, 5719: 1, 5801: 2, 5807: 4, 5829: 9, 5855: 3, 5863: 1, 5867: 11, 5932: 1, 5933: 8, 5936: 3, 5969: 13, 6001: 2, 6028: 5, 6042: 1, 6080: 1, 6103: 11, 6116: 2, 6130: 1, 6132: 5, 6137: 4, 6154: 11, 6186: 9, 6189: 10, 6244: 6, 6271: 2, 6280: 2, 6284: 9, 6290: 5, 6335: 1, 6342: 44, 6452: 9, 6502: 25, 6503: 6, 6540: 14, 6596: 26, 6612: 7, 6615: 155, 6687: 2, 6695: 1, 6709: 16, 6828: 1, 6843: 3, 6894: 6, 6897: 2, 6910: 4, 7031: 12, 7060: 5, 7069: 2, 7113: 2, 7120: 1, 7123: 3, 7124: 5, 7127: 1, 7138: 9, 7181: 9, 7216: 4, 7218: 2, 7246: 4, 7322: 3, 7377: 5, 7464: 11, 7472: 1, 7476: 3, 7485: 5, 7512: 2, 7517: 13, 7667: 4, 7693: 5, 7699: 3, 7818: 4, 7828: 1, 7847: 5, 7912: 2, 7966: 1, 8005: 4, 8088: 2, 8103: 9, 8115: 15, 8139: 253, 8172: 2, 8248: 12, 8271: 331, 8278: 5, 8353: 5, 8383: 43, 8468: 5, 8498: 6, 8561: 10, 8614: 11, 8649: 28, 8654: 8, 8716: 2, 8783: 1, 8881: 1, 8896: 3, 8899: 6, 8913: 2, 9091: 2, 9094: 3, 9104: 2, 9120: 3, 9127: 7, 9143: 5, 9144: 22, 9165: 10, 9197: 3, 9225: 18, 9236: 48, 9239: 1, 9256: 2, 9278: 3, 9313: 4, 9319: 3, 9379: 13, 9410: 1, 9468: 18, 9483: 7, 9493: 137, 9508: 2, 9557: 2, 9653: 2, 9663: 4, 9670: 1, 9677: 4, 9725: 3, 9752: 1, 9824: 5, 10069: 3, 10073: 2, 10079: 1, 10112: 2, 10116: 5, 10223: 15, 10236: 47, 10288: 3, 10312: 5, 10325: 20, 10349: 7, 10359: 2, 10396: 6, 10433: 200, 10470: 4, 10528: 2, 10532: 2, 10533: 4, 10566: 6, 10598: 5, 10639: 4, 10656: 2, 10699: 6, 10738: 8, 10802: 6, 10856: 1, 10859: 1, 10883: 2, 10897: 2, 10986: 2, 11001: 2, 11023: 2, 11036: 2, 11041: 4, 11046: 2, 11095: 14, 11135: 2, 11182: 2, 11227: 1, 11297: 5, 11364: 1, 11395: 42, 11405: 1, 11427: 9, 11485: 3, 11506: 4, 11624: 2, 11703: 4, 11796: 2, 11804: 8, 11805: 3, 11821: 46, 11844: 1, 11871: 2, 11875: 2, 12006: 4, 12148: 1, 12169: 1, 12236: 7, 12256: 3, 12257: 1, 12277: 23, 12278: 32, 12384: 6, 12412: 2, 12413: 16, 12417: 32, 12428: 2, 12437: 2, 12441: 4, 12511: 8, 12516: 6, 12564: 9, 12650: 6, 12684: 2, 12695: 1, 12715: 8, 12751: 9, 12758: 5, 12778: 6, 12795: 5, 12800: 32, 12818: 1, 12840: 2, 12895: 3, 12930: 4, 12970: 5, 12979: 2, 12995: 2, 12997: 5, 13021: 13, 13196: 2, 13204: 15, 13222: 2, 13292: 124, 13298: 1, 13311: 4, 13375: 6, 13396: 6, 13424: 2, 13452: 5, 13454: 5, 13455: 2, 13505: 2, 13561: 1, 13569: 5, 13592: 4, 13597: 20, 13639: 10, 13692: 2, 13754: 1, 13765: 6, 13781: 2, 13810: 5, 13835: 1, 13866: 2, 13944: 5, 13948: 5, 13978: 3, 14012: 4, 14013: 6, 14025: 32, 14041: 7, 14123: 3, 14128: 4, 14159: 2, 14228: 2, 14247: 5, 14309: 11, 14387: 4, 14494: 9, 14495: 8, 14541: 1, 14548: 6, 14681: 8, 14694: 1, 14745: 11, 14766: 1, 14778: 3, 14824: 1, 14833: 1, 14888: 3, 14898: 15, 15058: 3, 15121: 13, 15141: 1, 15163: 5, 15168: 66, 15179: 4, 15231: 2, 15249: 5, 15290: 19, 15311: 1, 15319: 4, 15338: 1, 15340: 8, 15455: 2, 15474: 5, 15547: 3, 15584: 2, 15596: 1, 15630: 5, 15639: 3, 15704: 1, 15705: 2, 15736: 6, 15773: 6, 15854: 8, 15926: 1, 16062: 4, 16139: 3, 16176: 4, 16177: 3, 16181: 8, 16354: 3, 16368: 4, 136: 4, 202: 3, 263: 1, 287: 4, 332: 2, 460: 114, 614: 4, 653: 2, 668: 3, 680: 1, 738: 1, 788: 199, 791: 1, 841: 1, 848: 2, 859: 2, 901: 16, 915: 6, 940: 2, 950: 1, 979: 4, 1023: 1, 1068: 9, 1069: 2, 1092: 2, 1122: 2, 1136: 7, 1358: 31, 1387: 2, 1398: 38, 1439: 5, 1448: 5, 1476: 5, 1515: 3, 1533: 1, 1535: 9, 1544: 5, 1609: 1, 1646: 2, 1649: 2, 1711: 1, 1712: 2, 1722: 38, 1776: 2, 1796: 1, 1842: 2, 1877: 11, 1887: 9, 1893: 3, 1909: 2, 1924: 2, 1927: 16, 1932: 4, 1968: 3, 1969: 3, 1982: 1, 2029: 2, 2079: 6, 2088: 27, 2096: 5, 2108: 2, 2109: 14, 2110: 1, 2183: 5, 2261: 2, 2316: 4, 2371: 1, 2381: 3, 2392: 1, 2418: 2, 2464: 1, 2532: 2, 2553: 3, 2599: 2, 2606: 1, 2640: 3, 2655: 4, 2719: 1, 2736: 1, 2806: 1, 2815: 2, 2852: 7, 2879: 1, 2880: 1, 2892: 1, 2898: 1, 2918: 29, 2936: 7, 3059: 1, 3083: 2, 3117: 7, 3128: 5, 3263: 7, 3265: 3, 3272: 5, 3295: 3, 3306: 1, 3342: 5, 3360: 16, 3489: 1, 3519: 1, 3543: 7, 3555: 1, 3566: 2, 3593: 1, 3594: 1, 3754: 2, 3831: 3, 3838: 6, 3844: 1, 3846: 1, 3912: 8, 3930: 3, 3952: 6, 3965: 7, 3989: 2, 4017: 6, 4086: 2, 4099: 9, 4118: 5, 4125: 1, 4197: 2, 4198: 2, 4208: 5, 4223: 2, 4245: 9, 4253: 54, 4256: 2, 4270: 1, 4279: 1, 4280: 1, 4300: 5, 4310: 27, 4313: 1, 4372: 1, 4443: 5, 4488: 2, 4516: 2, 4527: 1, 4532: 3, 4551: 1, 4574: 2, 4596: 3, 4613: 1, 4655: 2, 4680: 1, 4708: 2, 4714: 4, 4743: 1, 4787: 3, 4835: 3, 4837: 2, 4853: 3, 4860: 2, 4877: 3, 4895: 2, 4927: 20, 4932: 5, 4933: 3, 4959: 15, 4993: 1, 5043: 3, 5051: 1, 5066: 4, 5079: 1, 5080: 6, 5081: 5, 5082: 4, 5112: 2, 5125: 2, 5193: 1, 5232: 4, 5301: 1, 5355: 7, 5408: 8, 5443: 3, 5465: 2, 5493: 2, 5494: 2, 5518: 9, 5535: 4, 5560: 1, 5606: 3, 5654: 2, 5705: 1, 5759: 5, 5779: 25, 5788: 9, 5794: 2, 5823: 3, 5825: 5, 5868: 4, 5887: 5, 5918: 4, 5929: 15, 5945: 3, 5946: 3, 5970: 1, 6011: 57, 6016: 7, 6062: 1, 6063: 11, 6064: 27, 6065: 2, 6119: 3, 6155: 4, 6219: 2, 6237: 63, 6276: 1, 6279: 4, 6308: 3, 6323: 4, 6378: 6, 6403: 12, 6413: 7, 6430: 2, 6447: 104, 6479: 1, 6563: 2, 6642: 71, 6645: 1, 6655: 1, 6671: 8, 6752: 1, 6762: 4, 6813: 3, 6875: 8, 6876: 5, 6917: 3, 7009: 2, 7029: 1, 7051: 15, 7056: 4, 7057: 4, 7059: 1, 7070: 2, 7108: 103, 7144: 2, 7171: 5, 7177: 350, 7210: 1, 7240: 4, 7245: 49, 7262: 2, 7282: 1, 7305: 11, 7308: 8, 7313: 3, 7320: 3, 7336: 2, 7352: 3, 7380: 6, 7393: 2, 7470: 1, 7481: 2, 7487: 5, 7501: 8, 7776: 6, 7783: 4, 7807: 4, 7837: 7, 7839: 1, 7868: 3, 8022: 4, 8031: 4, 8179: 3, 8249: 5, 8260: 4, 8294: 6, 8329: 1, 8335: 2, 8358: 2, 8388: 5, 8409: 1, 8426: 4, 8476: 4, 8493: 1, 8497: 5, 8519: 2, 8607: 11, 8629: 2, 8639: 9, 8655: 10, 8702: 2, 8744: 97, 8749: 2, 8754: 6, 8833: 3, 8874: 3, 8889: 3, 8900: 11, 9017: 2, 9031: 2, 9074: 2, 9083: 1, 9108: 2, 9117: 9, 9146: 16, 9169: 11, 9172: 7, 9199: 6, 9202: 3, 9217: 4, 9221: 1, 9230: 2, 9244: 3, 9265: 7, 9294: 2, 9312: 1, 9349: 67, 9367: 1, 9377: 5, 9389: 2, 9390: 21, 9404: 3, 9444: 3, 9448: 2, 9495: 4, 9510: 2, 9555: 3, 9569: 2, 9606: 7, 9668: 19, 9675: 5, 9678: 2, 9680: 1, 9681: 2, 9682: 11, 9699: 103, 9746: 2, 9763: 1, 9792: 12, 9794: 9, 9819: 3, 9823: 3, 9834: 1, 9864: 2, 9885: 1, 9968: 5, 9990: 4, 10054: 1, 10055: 5, 10056: 2, 10063: 1, 10101: 6, 10143: 2, 10193: 4, 10300: 2, 10302: 2, 10321: 1, 10345: 1, 10348: 2, 10383: 36, 10428: 1, 10564: 1, 10623: 1, 10661: 4, 10668: 4, 10691: 3, 10698: 1, 10741: 2, 10774: 8, 10796: 2, 10817: 4, 10841: 2, 10855: 5, 10889: 112, 10909: 3, 10951: 1, 10972: 1, 10981: 4, 11021: 3, 11078: 2, 11130: 2, 11153: 21, 11183: 4, 11195: 6, 11291: 1, 11307: 1, 11400: 1, 11473: 3, 11486: 5, 11584: 2, 11629: 176, 11658: 4, 11730: 2, 11783: 1, 11820: 4, 11856: 2, 11876: 2, 11983: 7, 12030: 7, 12035: 5, 12056: 1, 12115: 2, 12203: 1, 12244: 3, 12289: 69, 12356: 2, 12369: 5, 12371: 2, 12414: 1, 12419: 5, 12472: 2, 12576: 1, 12592: 3, 12609: 3, 12610: 3, 12798: 4, 12815: 49, 12865: 8, 12875: 6, 12898: 2, 12917: 7, 12929: 3, 12954: 12, 12960: 1, 13013: 4, 13026: 4, 13040: 7, 13054: 10, 13083: 1, 13104: 4, 13114: 2, 13124: 4, 13154: 2, 13219: 6, 13284: 11, 13312: 6, 13343: 8, 13367: 20, 13404: 1, 13420: 1, 13433: 1, 13518: 55, 13579: 25, 13594: 1, 13690: 4, 13701: 3, 13718: 8, 13775: 3, 13795: 9, 13822: 5, 13868: 65, 13907: 3, 13908: 5, 13918: 1, 13927: 2, 13934: 2, 13936: 6, 13937: 7, 13938: 2, 13943: 1, 13987: 5, 14010: 127, 14014: 5, 14017: 3, 14046: 2, 14076: 1, 14120: 2, 14213: 3, 14231: 8, 14235: 1, 14236: 2, 14256: 7, 14279: 2, 14330: 1, 14390: 5, 14413: 2, 14454: 39, 14504: 2, 14533: 1, 14536: 3, 14567: 1, 14594: 4, 14752: 1, 14805: 4, 14868: 2, 14878: 3, 14882: 13, 14885: 2, 14890: 2, 14897: 11, 14907: 5, 14914: 2, 14922: 1, 14969: 31, 15043: 4, 15069: 1, 15113: 11, 15142: 2, 15248: 1, 15324: 6, 15333: 3, 15346: 3, 15361: 1, 15428: 5, 15437: 1, 15442: 1, 15451: 2, 15519: 6, 15520: 1, 15545: 2, 15615: 5, 15687: 2, 15717: 4, 15722: 3, 15798: 5, 15832: 4, 16014: 2, 16167: 2, 16182: 5, 16183: 6, 16235: 1, 16246: 2, 16266: 4, 16331: 2, 16379: 3, 16468: 14, 16475: 1}\n",
      "Player who changes the most: 12988\n",
      "------------------------------------------------------------------------------------------------------------------\n",
      "Count of players who decrease_slotdeno : 1120\n",
      "Count of times each player decrease_slotdeno : {33: 63, 199: 2, 224: 11, 795: 15, 865: 1, 982: 10, 1008: 16, 1013: 4, 1035: 15, 1036: 17, 1141: 20, 1166: 30, 1171: 51, 1233: 41, 1331: 11, 1483: 7, 1496: 4, 1513: 5, 2044: 14, 2065: 3, 2070: 1, 2073: 9, 2319: 10, 2368: 4, 2768: 9, 2950: 32, 3283: 3, 3399: 180, 3436: 17, 3546: 15, 3749: 2, 4067: 12, 4106: 9, 4265: 15, 4333: 15, 4483: 36, 4758: 3, 4819: 16, 4919: 3, 4971: 19, 5046: 29, 5334: 23, 5561: 1, 5563: 97, 5673: 8, 5676: 22, 5692: 20, 5822: 515, 6014: 1, 6018: 4, 6053: 3, 6194: 5, 6232: 3, 6451: 9, 6498: 6, 6708: 6, 6719: 5, 6720: 13, 6760: 9, 6767: 9, 6769: 4, 6838: 6, 6908: 9, 7058: 30, 7100: 8, 7122: 6, 7257: 3, 7695: 10, 7967: 2, 8116: 91, 8220: 18, 8385: 2, 8412: 8, 8467: 1, 8647: 46, 8648: 58, 8968: 25, 8978: 15, 9087: 4, 9138: 26, 9222: 7, 9269: 11, 9372: 11, 9382: 9, 9383: 9, 9396: 35, 9434: 7, 9570: 8, 9640: 125, 9788: 759, 10090: 6, 10106: 180, 10177: 1, 10638: 4, 10643: 6, 10671: 14, 10711: 5, 10747: 6, 10851: 175, 11075: 8, 11197: 9, 11283: 9, 11437: 3, 11704: 11, 12034: 28, 12288: 3, 12559: 20, 12682: 11, 12735: 13, 12854: 4, 12857: 4, 12988: 776, 13254: 7, 13383: 40, 13394: 12, 13425: 16, 13714: 3, 13941: 21, 13942: 9, 14611: 6, 14823: 8, 14965: 14, 14995: 3, 15193: 67, 15307: 18, 15339: 6, 38: 3, 44: 1, 93: 2, 94: 1, 95: 3, 120: 4, 351: 2, 361: 1, 435: 11, 450: 8, 652: 4, 682: 8, 731: 4, 765: 1, 861: 5, 878: 5, 931: 6, 956: 3, 987: 9, 996: 12, 1016: 11, 1017: 148, 1025: 11, 1029: 2, 1123: 44, 1127: 162, 1147: 3, 1177: 1, 1220: 3, 1228: 3, 1243: 2, 1259: 5, 1269: 2, 1275: 17, 1296: 1, 1363: 2, 1486: 4, 1495: 2, 1511: 9, 1512: 5, 1546: 20, 1547: 5, 1624: 5, 1695: 4, 1705: 2, 1729: 9, 1737: 7, 1755: 9, 1757: 11, 1853: 5, 1869: 1, 1888: 5, 1913: 3, 1925: 9, 1931: 11, 1950: 3, 2005: 33, 2020: 5, 2045: 6, 2054: 1, 2132: 19, 2162: 45, 2189: 10, 2208: 3, 2247: 5, 2282: 104, 2290: 3, 2331: 8, 2332: 2, 2389: 1, 2459: 148, 2479: 7, 2569: 2, 2647: 3, 2648: 2, 2710: 22, 2745: 4, 2809: 6, 2906: 7, 2912: 2, 2943: 2, 2945: 7, 2947: 11, 2948: 15, 2954: 2, 3010: 5, 3012: 3, 3014: 1, 3042: 1, 3058: 5, 3236: 7, 3260: 6, 3303: 73, 3353: 8, 3368: 4, 3370: 2, 3385: 6, 3434: 2, 3467: 1, 3487: 8, 3514: 1, 3588: 206, 3613: 3, 3635: 1, 3641: 1, 3651: 2, 3677: 31, 3682: 1, 3689: 1, 3708: 9, 3766: 1, 3794: 2, 3819: 1, 3837: 4, 3911: 9, 3935: 35, 3948: 4, 3954: 28, 4029: 110, 4053: 1, 4065: 1, 4069: 12, 4083: 3, 4084: 1, 4094: 3, 4148: 2, 4228: 2, 4285: 4, 4328: 2, 4356: 1, 4503: 10, 4590: 6, 4688: 7, 4717: 1, 4751: 5, 4759: 3, 4848: 5, 4913: 1, 4918: 2, 4961: 9, 5025: 1, 5040: 2, 5074: 12, 5103: 6, 5109: 2, 5136: 3, 5175: 4, 5179: 9, 5231: 2, 5412: 5, 5454: 14, 5455: 12, 5525: 7, 5543: 5, 5700: 5, 5710: 1, 5719: 1, 5801: 2, 5807: 5, 5829: 9, 5855: 4, 5863: 1, 5867: 8, 5932: 1, 5933: 8, 5936: 3, 5969: 17, 6001: 2, 6020: 1, 6028: 5, 6042: 2, 6080: 2, 6103: 10, 6116: 2, 6132: 5, 6137: 5, 6154: 8, 6186: 8, 6189: 8, 6244: 4, 6271: 2, 6280: 1, 6284: 11, 6290: 7, 6335: 1, 6342: 33, 6452: 10, 6502: 25, 6503: 7, 6540: 12, 6596: 26, 6612: 7, 6615: 154, 6687: 1, 6709: 10, 6778: 2, 6828: 1, 6843: 4, 6862: 2, 6894: 4, 6897: 2, 6910: 5, 7031: 10, 7060: 5, 7069: 2, 7113: 3, 7120: 1, 7123: 3, 7124: 8, 7138: 8, 7181: 13, 7216: 3, 7218: 2, 7246: 4, 7322: 2, 7377: 5, 7390: 1, 7396: 1, 7464: 10, 7472: 4, 7476: 3, 7485: 7, 7512: 2, 7517: 15, 7667: 4, 7693: 3, 7699: 3, 7818: 4, 7828: 1, 7847: 5, 7912: 2, 7966: 1, 8005: 4, 8088: 1, 8103: 10, 8115: 15, 8139: 253, 8172: 2, 8248: 10, 8268: 1, 8271: 332, 8278: 7, 8353: 7, 8383: 44, 8468: 8, 8498: 4, 8561: 8, 8614: 11, 8649: 28, 8652: 1, 8654: 6, 8716: 4, 8783: 1, 8896: 2, 8899: 6, 8913: 2, 9091: 2, 9094: 2, 9104: 2, 9120: 3, 9127: 6, 9143: 6, 9144: 16, 9165: 13, 9197: 2, 9225: 17, 9236: 49, 9239: 2, 9256: 2, 9278: 3, 9313: 4, 9319: 3, 9379: 11, 9410: 3, 9468: 12, 9483: 8, 9493: 135, 9507: 1, 9508: 3, 9557: 1, 9653: 3, 9663: 5, 9670: 1, 9677: 1, 9725: 3, 9752: 1, 9824: 5, 10069: 3, 10073: 1, 10079: 1, 10112: 1, 10116: 6, 10223: 15, 10236: 48, 10288: 3, 10312: 4, 10325: 23, 10349: 6, 10359: 1, 10396: 6, 10433: 199, 10470: 4, 10528: 2, 10532: 2, 10533: 3, 10566: 6, 10598: 3, 10639: 3, 10656: 2, 10699: 5, 10738: 8, 10802: 6, 10856: 1, 10883: 2, 10897: 2, 10986: 1, 11001: 1, 11023: 2, 11036: 2, 11041: 4, 11046: 3, 11095: 12, 11135: 2, 11182: 2, 11227: 1, 11297: 4, 11364: 2, 11395: 42, 11427: 8, 11485: 1, 11506: 5, 11533: 2, 11624: 2, 11703: 3, 11796: 2, 11804: 9, 11805: 3, 11821: 46, 11844: 1, 11871: 3, 11875: 2, 12006: 2, 12007: 1, 12148: 2, 12169: 1, 12236: 6, 12256: 3, 12257: 2, 12277: 24, 12278: 29, 12384: 8, 12412: 2, 12413: 15, 12417: 25, 12428: 2, 12437: 1, 12441: 4, 12511: 7, 12516: 4, 12564: 6, 12625: 1, 12650: 7, 12684: 3, 12695: 1, 12715: 6, 12751: 10, 12758: 5, 12778: 7, 12795: 6, 12800: 30, 12818: 1, 12840: 3, 12895: 4, 12930: 2, 12970: 6, 12979: 1, 12995: 1, 12997: 5, 13021: 15, 13196: 3, 13204: 9, 13222: 2, 13292: 126, 13311: 5, 13375: 6, 13396: 4, 13424: 3, 13452: 3, 13454: 6, 13455: 3, 13505: 3, 13561: 1, 13569: 5, 13592: 5, 13597: 16, 13639: 10, 13754: 1, 13765: 8, 13781: 1, 13810: 7, 13866: 3, 13944: 4, 13948: 6, 13968: 1, 13978: 1, 14012: 5, 14013: 5, 14025: 34, 14041: 8, 14123: 4, 14128: 4, 14159: 1, 14228: 2, 14247: 8, 14309: 6, 14387: 5, 14494: 7, 14495: 6, 14541: 1, 14548: 6, 14681: 8, 14694: 1, 14745: 11, 14766: 1, 14778: 3, 14824: 1, 14833: 1, 14888: 3, 14898: 20, 15058: 5, 15121: 11, 15163: 4, 15168: 66, 15179: 4, 15231: 3, 15249: 4, 15290: 17, 15311: 1, 15319: 2, 15338: 1, 15340: 7, 15455: 2, 15474: 4, 15547: 3, 15584: 2, 15596: 1, 15630: 4, 15639: 4, 15705: 2, 15736: 8, 15773: 7, 15854: 7, 15926: 1, 16062: 6, 16139: 1, 16176: 3, 16177: 4, 16181: 6, 16354: 3, 16368: 4, 136: 4, 202: 4, 263: 2, 287: 6, 332: 4, 460: 114, 614: 4, 653: 2, 668: 3, 680: 1, 738: 1, 788: 203, 791: 2, 841: 1, 848: 1, 859: 1, 889: 1, 901: 12, 915: 5, 950: 1, 979: 4, 1023: 2, 1068: 9, 1069: 2, 1092: 3, 1122: 4, 1136: 8, 1358: 33, 1387: 2, 1398: 38, 1439: 7, 1446: 1, 1448: 5, 1476: 4, 1515: 4, 1533: 1, 1535: 6, 1544: 7, 1609: 2, 1646: 1, 1649: 4, 1711: 1, 1712: 2, 1722: 39, 1776: 3, 1796: 1, 1842: 1, 1877: 9, 1887: 8, 1893: 3, 1909: 3, 1924: 2, 1927: 14, 1932: 4, 1968: 2, 1969: 2, 1982: 1, 2029: 2, 2079: 4, 2088: 26, 2096: 6, 2108: 2, 2109: 13, 2110: 1, 2183: 6, 2240: 1, 2261: 2, 2316: 2, 2371: 1, 2381: 3, 2392: 1, 2418: 2, 2464: 1, 2532: 2, 2553: 3, 2590: 1, 2599: 2, 2606: 1, 2640: 2, 2655: 4, 2736: 3, 2802: 1, 2806: 1, 2815: 1, 2852: 5, 2879: 1, 2880: 1, 2892: 3, 2898: 1, 2918: 32, 2936: 4, 3059: 1, 3083: 1, 3117: 8, 3128: 7, 3195: 1, 3263: 5, 3265: 4, 3272: 8, 3295: 3, 3306: 1, 3342: 3, 3360: 17, 3489: 1, 3543: 7, 3555: 1, 3566: 2, 3593: 1, 3594: 2, 3754: 3, 3831: 4, 3838: 7, 3844: 2, 3846: 1, 3912: 10, 3930: 3, 3952: 6, 3965: 7, 3989: 3, 4017: 5, 4099: 9, 4118: 2, 4125: 3, 4175: 1, 4197: 2, 4198: 1, 4208: 2, 4223: 1, 4245: 9, 4253: 54, 4256: 2, 4270: 1, 4279: 1, 4280: 1, 4300: 8, 4310: 26, 4313: 1, 4372: 1, 4443: 4, 4488: 2, 4516: 2, 4527: 2, 4532: 2, 4551: 1, 4574: 2, 4596: 4, 4613: 1, 4655: 2, 4708: 1, 4714: 1, 4743: 1, 4787: 3, 4835: 1, 4837: 2, 4853: 3, 4860: 1, 4877: 3, 4895: 2, 4927: 19, 4932: 5, 4933: 4, 4959: 17, 4993: 1, 5043: 3, 5051: 1, 5066: 4, 5079: 2, 5080: 7, 5081: 6, 5082: 2, 5083: 1, 5112: 3, 5125: 4, 5192: 1, 5193: 3, 5232: 4, 5301: 1, 5355: 6, 5408: 8, 5443: 4, 5465: 2, 5493: 2, 5494: 3, 5518: 10, 5535: 7, 5560: 1, 5606: 3, 5654: 2, 5705: 1, 5759: 7, 5779: 26, 5788: 7, 5794: 1, 5823: 2, 5825: 4, 5868: 2, 5887: 4, 5918: 7, 5929: 16, 5945: 3, 5946: 3, 5970: 1, 6011: 56, 6016: 6, 6063: 9, 6064: 27, 6065: 3, 6119: 3, 6155: 2, 6219: 3, 6237: 64, 6276: 1, 6279: 6, 6308: 3, 6323: 7, 6378: 9, 6403: 10, 6413: 5, 6430: 2, 6447: 104, 6479: 1, 6563: 2, 6642: 72, 6645: 1, 6655: 1, 6671: 8, 6762: 4, 6813: 2, 6875: 8, 6876: 5, 6917: 2, 6930: 1, 7009: 2, 7029: 1, 7051: 13, 7056: 4, 7057: 3, 7059: 2, 7070: 2, 7108: 105, 7144: 1, 7171: 4, 7177: 348, 7210: 1, 7240: 2, 7245: 44, 7262: 2, 7282: 2, 7305: 8, 7308: 10, 7313: 3, 7320: 3, 7336: 2, 7352: 4, 7380: 6, 7393: 1, 7470: 1, 7481: 2, 7487: 3, 7501: 8, 7593: 1, 7712: 1, 7776: 5, 7783: 4, 7807: 4, 7837: 5, 7839: 1, 7868: 5, 8022: 5, 8031: 4, 8091: 1, 8179: 3, 8225: 1, 8232: 1, 8249: 3, 8260: 4, 8294: 4, 8329: 1, 8335: 2, 8358: 2, 8388: 6, 8409: 2, 8426: 3, 8476: 4, 8493: 2, 8497: 4, 8519: 4, 8607: 8, 8629: 2, 8639: 11, 8655: 8, 8702: 1, 8723: 1, 8744: 98, 8749: 3, 8754: 6, 8833: 3, 8874: 3, 8889: 2, 8900: 12, 9017: 2, 9031: 2, 9083: 1, 9108: 2, 9117: 8, 9146: 15, 9169: 9, 9172: 7, 9199: 6, 9202: 4, 9217: 4, 9221: 1, 9230: 3, 9265: 10, 9294: 3, 9312: 2, 9349: 67, 9367: 1, 9377: 3, 9389: 2, 9390: 17, 9404: 5, 9444: 3, 9448: 2, 9495: 3, 9510: 2, 9555: 4, 9569: 2, 9598: 1, 9606: 7, 9668: 19, 9675: 4, 9678: 2, 9680: 2, 9681: 2, 9682: 11, 9699: 102, 9746: 2, 9763: 2, 9792: 9, 9794: 12, 9819: 6, 9823: 1, 9864: 3, 9968: 5, 9990: 4, 10054: 1, 10055: 4, 10056: 3, 10063: 2, 10101: 5, 10143: 2, 10193: 4, 10300: 1, 10302: 3, 10321: 2, 10345: 2, 10348: 2, 10383: 40, 10428: 2, 10564: 3, 10623: 1, 10661: 3, 10668: 5, 10691: 6, 10698: 2, 10741: 2, 10774: 10, 10796: 2, 10817: 5, 10841: 2, 10855: 4, 10889: 115, 10909: 2, 10939: 1, 10951: 2, 10972: 1, 10981: 3, 11021: 2, 11025: 1, 11078: 2, 11130: 1, 11153: 20, 11183: 4, 11195: 4, 11291: 2, 11307: 1, 11360: 1, 11400: 1, 11408: 1, 11473: 4, 11486: 2, 11584: 2, 11629: 174, 11658: 3, 11730: 3, 11783: 2, 11820: 3, 11856: 1, 11876: 2, 11904: 2, 11983: 8, 12030: 8, 12035: 4, 12056: 1, 12115: 1, 12203: 1, 12244: 3, 12289: 67, 12356: 2, 12369: 3, 12371: 2, 12414: 1, 12419: 5, 12462: 1, 12472: 2, 12576: 1, 12584: 1, 12592: 3, 12609: 3, 12610: 4, 12624: 1, 12787: 1, 12798: 3, 12815: 50, 12865: 6, 12875: 6, 12898: 2, 12917: 8, 12929: 3, 12954: 14, 12960: 1, 13013: 4, 13026: 3, 13040: 7, 13054: 8, 13104: 6, 13114: 4, 13124: 3, 13154: 3, 13219: 7, 13255: 2, 13284: 13, 13312: 7, 13343: 6, 13367: 22, 13404: 2, 13433: 1, 13469: 2, 13518: 56, 13579: 17, 13594: 2, 13690: 3, 13701: 3, 13718: 6, 13775: 3, 13795: 9, 13822: 5, 13868: 66, 13907: 3, 13908: 4, 13918: 1, 13927: 2, 13934: 3, 13936: 4, 13937: 6, 13938: 2, 13943: 1, 13987: 4, 14010: 127, 14014: 5, 14017: 2, 14046: 2, 14120: 1, 14213: 2, 14231: 7, 14235: 1, 14236: 3, 14256: 6, 14279: 3, 14390: 4, 14413: 1, 14454: 37, 14504: 2, 14533: 1, 14536: 5, 14567: 1, 14594: 4, 14599: 1, 14752: 1, 14793: 1, 14805: 6, 14868: 3, 14878: 2, 14882: 12, 14890: 1, 14897: 12, 14907: 5, 14914: 2, 14922: 1, 14969: 26, 15043: 7, 15069: 1, 15113: 10, 15118: 1, 15142: 3, 15267: 1, 15324: 6, 15333: 2, 15346: 2, 15361: 1, 15428: 5, 15437: 1, 15442: 1, 15451: 1, 15519: 5, 15520: 1, 15545: 4, 15615: 3, 15687: 3, 15717: 4, 15722: 2, 15798: 6, 15832: 4, 16014: 2, 16167: 2, 16182: 6, 16183: 5, 16246: 2, 16266: 4, 16331: 2, 16379: 3, 16468: 10, 16475: 1}\n",
      "Player who changes the most: 12988\n",
      "------------------------------------------------------------------------------------------------------------------\n",
      "Count of players who increase_maxbet : 1192\n",
      "Count of times each player increase_maxbet : {33: 2, 199: 2, 224: 14, 795: 23, 865: 9, 982: 10, 1008: 382, 1013: 1, 1035: 3, 1036: 4, 1141: 16, 1171: 54, 1233: 6, 1234: 1, 1331: 13, 1483: 8, 1496: 27, 1513: 8, 2044: 9, 2065: 12, 2073: 3, 2319: 52, 2368: 7, 2768: 5, 2950: 89, 3283: 2, 3399: 210, 3436: 23, 3546: 19, 3749: 2, 4067: 10, 4106: 19, 4265: 20, 4333: 10, 4483: 15, 4758: 3, 4819: 10, 4971: 19, 5046: 34, 5334: 147, 5561: 1, 5563: 99, 5673: 9, 5676: 209, 5692: 22, 5822: 441, 6018: 15, 6053: 2, 6194: 4, 6232: 4, 6451: 1, 6498: 21, 6708: 10, 6719: 8, 6720: 13, 6760: 1, 6767: 2, 6769: 5, 6838: 4, 6908: 6, 7058: 39, 7100: 20, 7122: 8, 7257: 7, 7695: 17, 7967: 2, 8116: 209, 8220: 5, 8384: 4, 8385: 6, 8412: 7, 8467: 1, 8647: 13, 8648: 85, 8968: 21, 8978: 11, 9087: 11, 9138: 49, 9269: 18, 9372: 12, 9382: 7, 9383: 7, 9396: 26, 9434: 17, 9570: 18, 9640: 131, 9788: 762, 10106: 16, 10177: 4, 10638: 5, 10671: 2, 10711: 5, 10747: 9, 10851: 174, 11075: 11, 11197: 19, 11283: 15, 11437: 5, 11704: 8, 12034: 541, 12288: 6, 12559: 432, 12682: 13, 12735: 23, 12854: 2, 12857: 4, 12885: 5, 12988: 5, 13254: 11, 13383: 31, 13394: 11, 13425: 35, 13714: 2, 13941: 2, 13942: 11, 14611: 2, 14823: 12, 14965: 3, 14995: 1, 15003: 2, 15193: 80, 15307: 10, 15339: 6, 38: 4, 44: 2, 93: 17, 94: 4, 120: 12, 351: 8, 361: 6, 435: 5, 450: 8, 606: 1, 652: 6, 659: 3, 673: 2, 682: 16, 701: 2, 731: 5, 861: 1, 878: 5, 931: 12, 956: 1, 996: 19, 1016: 12, 1017: 2, 1025: 11, 1123: 189, 1127: 90, 1147: 7, 1177: 5, 1220: 3, 1221: 2, 1228: 1, 1243: 2, 1259: 3, 1269: 3, 1275: 2, 1296: 1, 1363: 1, 1400: 3, 1486: 4, 1495: 3, 1512: 6, 1546: 16, 1583: 1, 1624: 8, 1642: 1, 1695: 4, 1705: 3, 1729: 16, 1737: 8, 1755: 7, 1757: 20, 1853: 6, 1869: 10, 1888: 4, 1913: 8, 1925: 11, 1931: 36, 2020: 8, 2045: 5, 2054: 2, 2132: 11, 2162: 49, 2189: 11, 2208: 1, 2247: 8, 2282: 2, 2290: 4, 2331: 18, 2332: 5, 2459: 148, 2479: 7, 2554: 4, 2569: 4, 2575: 1, 2647: 16, 2648: 2, 2681: 59, 2745: 7, 2809: 4, 2906: 4, 2912: 4, 2943: 1, 2945: 6, 2954: 2, 3010: 3, 3012: 5, 3014: 1, 3058: 5, 3236: 1, 3260: 16, 3303: 72, 3353: 14, 3368: 5, 3370: 3, 3385: 12, 3434: 1, 3487: 13, 3514: 5, 3588: 206, 3613: 4, 3635: 1, 3641: 2, 3651: 3, 3677: 12, 3682: 8, 3689: 2, 3708: 12, 3726: 1, 3766: 6, 3794: 4, 3819: 3, 3837: 5, 3911: 13, 3935: 35, 3948: 6, 3954: 17, 4029: 110, 4053: 1, 4065: 2, 4069: 14, 4083: 5, 4084: 1, 4094: 4, 4148: 17, 4228: 6, 4285: 9, 4328: 7, 4356: 1, 4503: 10, 4590: 8, 4630: 2, 4688: 5, 4717: 2, 4729: 5, 4751: 3, 4759: 4, 4848: 3, 4913: 2, 4918: 1, 4961: 8, 5025: 1, 5040: 2, 5042: 5, 5074: 11, 5103: 9, 5108: 5, 5109: 2, 5136: 3, 5175: 3, 5179: 27, 5231: 2, 5336: 4, 5412: 13, 5437: 1, 5454: 17, 5455: 12, 5525: 6, 5543: 6, 5700: 5, 5710: 2, 5719: 4, 5801: 2, 5807: 2, 5826: 9, 5829: 14, 5863: 1, 5867: 3, 5933: 195, 5936: 268, 5969: 10, 6001: 2, 6020: 3, 6028: 7, 6041: 1, 6042: 2, 6080: 2, 6103: 10, 6116: 9, 6132: 8, 6137: 4, 6154: 4, 6186: 15, 6189: 8, 6244: 3, 6271: 2, 6280: 89, 6284: 16, 6290: 3, 6335: 1, 6342: 6, 6435: 1, 6452: 4, 6456: 1, 6502: 233, 6503: 2, 6540: 18, 6596: 26, 6615: 154, 6617: 1, 6687: 2, 6709: 9, 6828: 56, 6894: 10, 6897: 1, 6909: 2, 6910: 4, 7031: 7, 7060: 9, 7069: 1, 7113: 4, 7123: 12, 7124: 17, 7127: 3, 7181: 10, 7216: 7, 7218: 5, 7219: 8, 7246: 3, 7297: 1, 7322: 4, 7377: 35, 7390: 1, 7396: 2, 7464: 12, 7472: 7, 7476: 4, 7485: 6, 7512: 5, 7517: 15, 7667: 10, 7693: 5, 7699: 5, 7818: 11, 7828: 1, 7847: 5, 7912: 8, 7966: 4, 8005: 1, 8012: 1, 8044: 2, 8088: 5, 8103: 8, 8115: 8, 8139: 253, 8172: 5, 8207: 1, 8248: 7, 8268: 1, 8271: 332, 8278: 16, 8353: 5, 8383: 33, 8468: 8, 8498: 19, 8561: 16, 8614: 14, 8649: 131, 8652: 458, 8654: 4, 8716: 5, 8783: 3, 8881: 3, 8896: 3, 8899: 6, 8913: 34, 9091: 1, 9094: 60, 9104: 8, 9120: 5, 9143: 1, 9144: 11, 9165: 6, 9197: 4, 9225: 17, 9236: 47, 9239: 1, 9278: 17, 9310: 85, 9313: 7, 9319: 4, 9361: 6, 9379: 5, 9468: 13, 9483: 4, 9493: 133, 9496: 4, 9507: 3, 9508: 7, 9557: 3, 9653: 5, 9663: 7, 9669: 1, 9670: 52, 9677: 4, 9725: 7, 9824: 10, 10069: 4, 10073: 6, 10079: 3, 10112: 1, 10116: 19, 10223: 11, 10236: 69, 10288: 4, 10312: 9, 10325: 8, 10359: 5, 10396: 2, 10433: 139, 10470: 6, 10528: 2, 10532: 2, 10533: 3, 10566: 12, 10598: 5, 10639: 3, 10655: 2, 10656: 5, 10699: 2, 10738: 3, 10802: 6, 10883: 9, 10897: 5, 10986: 3, 11023: 8, 11036: 2, 11046: 9, 11095: 4, 11135: 2, 11182: 4, 11221: 1, 11227: 6, 11297: 4, 11364: 3, 11395: 42, 11427: 5, 11447: 4, 11506: 7, 11533: 2, 11614: 20, 11624: 26, 11703: 23, 11796: 3, 11804: 8, 11805: 8, 11821: 46, 11844: 111, 11871: 2, 11875: 4, 12006: 4, 12007: 5, 12043: 4, 12148: 3, 12169: 1, 12236: 7, 12256: 6, 12257: 3, 12277: 32, 12278: 32, 12299: 1, 12384: 20, 12412: 2, 12413: 15, 12417: 1, 12428: 2, 12437: 3, 12441: 6, 12511: 9, 12516: 41, 12564: 9, 12625: 1, 12650: 6, 12684: 4, 12692: 7, 12695: 2, 12715: 6, 12751: 8, 12758: 8, 12778: 9, 12795: 1, 12800: 27, 12818: 3, 12840: 5, 12895: 2, 12930: 4, 12939: 3, 12970: 5, 12979: 9, 12995: 2, 12997: 3, 13014: 1, 13021: 12, 13196: 3, 13204: 6, 13222: 2, 13292: 124, 13298: 4, 13311: 3, 13375: 7, 13396: 9, 13424: 6, 13452: 5, 13454: 5, 13455: 2, 13505: 5, 13561: 6, 13569: 3, 13592: 7, 13597: 2, 13639: 188, 13692: 1, 13754: 3, 13765: 8, 13781: 1, 13810: 10, 13834: 3, 13866: 2, 13944: 8, 13948: 9, 13968: 1, 13978: 1, 14012: 12, 14013: 10, 14025: 34, 14038: 203, 14041: 6, 14123: 2, 14128: 6, 14159: 4, 14228: 2, 14247: 10, 14309: 4, 14387: 19, 14494: 4, 14495: 10, 14548: 8, 14681: 7, 14694: 289, 14745: 244, 14766: 9, 14778: 11, 14824: 2, 14833: 3, 14888: 3, 14898: 24, 15039: 10, 15058: 5, 15121: 14, 15141: 1, 15163: 12, 15168: 158, 15179: 5, 15231: 3, 15249: 5, 15290: 8, 15311: 6, 15319: 4, 15340: 7, 15455: 6, 15474: 4, 15547: 4, 15584: 3, 15596: 3, 15630: 1, 15639: 4, 15736: 3, 15773: 13, 15854: 6, 15926: 3, 16062: 8, 16139: 2, 16176: 1, 16177: 4, 16181: 7, 16350: 4, 16354: 5, 16368: 24, 48: 83, 66: 3, 136: 3, 202: 1, 263: 2, 287: 3, 332: 3, 460: 2, 614: 1, 653: 2, 668: 5, 680: 3, 687: 6, 738: 2, 788: 194, 791: 2, 803: 4, 848: 4, 859: 3, 889: 2, 915: 10, 940: 3, 950: 5, 979: 2, 1018: 1, 1023: 1, 1032: 1, 1068: 2, 1069: 2, 1092: 5, 1122: 4, 1136: 3, 1358: 5, 1387: 1, 1398: 36, 1410: 312, 1446: 2, 1448: 5, 1457: 1, 1476: 4, 1515: 4, 1533: 4, 1535: 10, 1544: 10, 1604: 3, 1609: 3, 1646: 1, 1649: 8, 1697: 2, 1711: 1, 1712: 1, 1722: 40, 1776: 5, 1796: 2, 1842: 1, 1877: 6, 1887: 10, 1890: 1, 1893: 7, 1909: 4, 1924: 2, 1927: 15, 1932: 10, 1968: 4, 1969: 4, 1982: 1, 2079: 2, 2088: 27, 2096: 15, 2108: 7, 2109: 12, 2110: 2, 2183: 13, 2197: 1, 2240: 4, 2261: 4, 2371: 1, 2381: 7, 2392: 5, 2418: 6, 2464: 16, 2553: 4, 2568: 5, 2590: 2, 2599: 4, 2606: 74, 2640: 3, 2655: 5, 2736: 5, 2802: 1, 2806: 14, 2815: 4, 2852: 10, 2879: 3, 2880: 1, 2892: 4, 2898: 2, 2918: 29, 2936: 6, 3059: 3, 3115: 4, 3117: 11, 3128: 8, 3199: 33, 3245: 2, 3263: 3, 3265: 3, 3272: 10, 3295: 5, 3306: 6, 3342: 5, 3360: 13, 3378: 1, 3489: 2, 3519: 2, 3543: 8, 3555: 3, 3566: 4, 3593: 1, 3594: 1, 3754: 4, 3831: 8, 3838: 7, 3844: 2, 3846: 1, 3912: 17, 3930: 10, 3952: 5, 3965: 10, 3989: 4, 4017: 5, 4032: 2, 4050: 5, 4071: 141, 4086: 2, 4099: 14, 4125: 2, 4175: 2, 4197: 5, 4198: 2, 4208: 5, 4216: 1, 4223: 10, 4245: 9, 4253: 54, 4256: 4, 4270: 1, 4300: 8, 4310: 2, 4313: 4, 4372: 2, 4443: 8, 4455: 3, 4488: 2, 4516: 3, 4527: 4, 4532: 3, 4551: 2, 4574: 3, 4582: 2, 4596: 9, 4655: 4, 4708: 2, 4714: 1, 4743: 8, 4787: 4, 4835: 3, 4837: 3, 4853: 1, 4860: 2, 4877: 8, 4895: 5, 4927: 2, 4932: 7, 4933: 6, 4993: 1, 5036: 3, 5043: 5, 5051: 1, 5066: 14, 5079: 2, 5080: 8, 5081: 10, 5082: 3, 5083: 2, 5112: 4, 5124: 8, 5125: 5, 5192: 1, 5193: 2, 5232: 3, 5301: 2, 5307: 63, 5355: 5, 5408: 14, 5443: 5, 5465: 5, 5493: 2, 5494: 2, 5518: 11, 5535: 6, 5606: 12, 5654: 4, 5705: 2, 5748: 2, 5759: 16, 5779: 25, 5788: 1, 5794: 1, 5808: 1, 5823: 2, 5868: 3, 5887: 5, 5918: 9, 5929: 27, 5945: 10, 5946: 5, 5970: 1, 6011: 60, 6016: 9, 6063: 6, 6064: 26, 6065: 4, 6096: 1, 6119: 3, 6155: 2, 6219: 2, 6237: 64, 6256: 1, 6276: 2, 6279: 9, 6323: 6, 6378: 11, 6403: 13, 6413: 2, 6430: 8, 6445: 1, 6479: 1, 6563: 4, 6614: 149, 6642: 72, 6645: 1, 6655: 3, 6671: 1, 6762: 2, 6799: 4, 6813: 3, 6875: 14, 6876: 10, 6916: 1, 6917: 5, 6930: 5, 6938: 6, 7009: 3, 7029: 4, 7051: 3, 7056: 14, 7057: 5, 7059: 1, 7070: 5, 7108: 83, 7144: 2, 7171: 4, 7177: 348, 7210: 3, 7240: 2, 7245: 41, 7262: 5, 7282: 3, 7305: 14, 7308: 10, 7313: 2, 7320: 12, 7336: 2, 7352: 10, 7380: 8, 7393: 2, 7470: 4, 7481: 3, 7487: 50, 7501: 5, 7593: 6, 7600: 1, 7654: 2, 7658: 3, 7683: 5, 7712: 21, 7783: 4, 7807: 9, 7837: 8, 7839: 10, 7868: 8, 7890: 3, 8022: 3, 8031: 6, 8089: 3, 8091: 2, 8179: 3, 8225: 1, 8232: 1, 8249: 6, 8260: 9, 8294: 4, 8329: 3, 8335: 4, 8358: 9, 8388: 3, 8409: 1, 8426: 12, 8464: 4, 8476: 4, 8493: 7, 8497: 2, 8519: 5, 8538: 3, 8607: 5, 8629: 4, 8639: 16, 8655: 13, 8702: 3, 8723: 4, 8744: 101, 8749: 3, 8754: 5, 8773: 1, 8833: 6, 8874: 1, 8889: 20, 8900: 9, 9017: 10, 9028: 1, 9031: 3, 9074: 2, 9083: 2, 9108: 6, 9117: 6, 9123: 2, 9146: 10, 9169: 6, 9172: 6, 9199: 3, 9202: 3, 9217: 7, 9221: 1, 9229: 1, 9230: 10, 9244: 1, 9265: 14, 9273: 3, 9294: 5, 9312: 1, 9349: 75, 9367: 5, 9377: 3, 9389: 7, 9391: 8, 9404: 6, 9424: 2, 9444: 6, 9448: 6, 9495: 5, 9510: 2, 9555: 8, 9569: 7, 9598: 5, 9606: 1, 9668: 19, 9675: 1, 9678: 2, 9680: 5, 9681: 2, 9682: 9, 9699: 92, 9755: 4, 9763: 2, 9792: 5, 9794: 16, 9819: 10, 9823: 1, 9864: 3, 9968: 2, 9990: 8, 10054: 2, 10055: 6, 10056: 5, 10063: 3, 10101: 3, 10143: 2, 10156: 1, 10193: 1, 10283: 1, 10300: 1, 10302: 7, 10321: 1, 10383: 21, 10428: 2, 10503: 1, 10564: 1, 10623: 2, 10661: 3, 10668: 16, 10691: 6, 10698: 2, 10741: 5, 10774: 5, 10793: 7, 10796: 3, 10817: 64, 10841: 4, 10855: 5, 10889: 118, 10909: 3, 10939: 89, 10951: 6, 10972: 2, 10981: 2, 11021: 2, 11025: 10, 11078: 2, 11121: 3, 11130: 9, 11153: 198, 11183: 1, 11195: 11, 11234: 1, 11291: 5, 11307: 2, 11360: 9, 11400: 3, 11408: 2, 11473: 7, 11477: 5, 11486: 2, 11645: 6, 11652: 2, 11658: 60, 11730: 15, 11780: 2, 11783: 3, 11820: 5, 11856: 1, 11876: 3, 11904: 3, 11983: 14, 12030: 5, 12035: 5, 12056: 4, 12115: 4, 12133: 2, 12203: 1, 12244: 10, 12270: 2, 12289: 12, 12356: 173, 12369: 4, 12371: 2, 12419: 7, 12472: 6, 12576: 1, 12584: 5, 12592: 2, 12609: 3, 12610: 3, 12624: 1, 12729: 4, 12787: 2, 12798: 2, 12815: 45, 12865: 8, 12875: 6, 12898: 3, 12917: 5, 12929: 3, 12954: 6, 12960: 7, 13013: 9, 13026: 14, 13040: 13, 13054: 16, 13104: 7, 13114: 4, 13124: 4, 13154: 2, 13219: 20, 13255: 1, 13284: 23, 13312: 4, 13343: 11, 13367: 7, 13404: 2, 13420: 1, 13433: 1, 13518: 99, 13579: 16, 13594: 7, 13655: 143, 13682: 1, 13690: 8, 13701: 4, 13718: 4, 13753: 2, 13775: 5, 13795: 13, 13799: 1, 13822: 6, 13868: 95, 13895: 7, 13907: 2, 13908: 2, 13918: 1, 13927: 3, 13934: 3, 13936: 3, 13937: 2, 13938: 3, 13943: 3, 13987: 8, 14010: 127, 14014: 10, 14017: 2, 14046: 3, 14120: 2, 14213: 8, 14231: 10, 14235: 4, 14236: 4, 14256: 4, 14279: 9, 14362: 1, 14372: 5, 14390: 6, 14445: 1, 14454: 81, 14504: 1, 14533: 2, 14536: 6, 14567: 1, 14594: 6, 14599: 2, 14639: 5, 14752: 2, 14793: 1, 14805: 10, 14878: 14, 14882: 6, 14885: 1, 14890: 5, 14897: 18, 14907: 8, 14914: 4, 14922: 4, 14969: 5, 15043: 4, 15069: 3, 15080: 1, 15113: 25, 15118: 2, 15142: 5, 15324: 9, 15333: 3, 15346: 7, 15361: 3, 15428: 1, 15437: 2, 15442: 2, 15451: 2, 15465: 6, 15484: 1, 15519: 6, 15520: 2, 15540: 2, 15545: 5, 15615: 6, 15687: 4, 15717: 4, 15722: 4, 15777: 6, 15798: 5, 15832: 10, 16014: 5, 16126: 3, 16167: 1, 16182: 10, 16183: 4, 16235: 2, 16243: 54, 16246: 5, 16266: 3, 16331: 3, 16379: 2, 16468: 2, 16475: 1}\n",
      "Player who changes the most: 9788\n",
      "------------------------------------------------------------------------------------------------------------------\n",
      "Count of players who decrease_maxbet : 1183\n",
      "Count of times each player decrease_maxbet : {33: 4, 199: 1, 224: 15, 795: 23, 865: 11, 982: 6, 1008: 382, 1013: 1, 1035: 3, 1036: 4, 1141: 18, 1171: 53, 1233: 6, 1234: 1, 1331: 13, 1483: 5, 1496: 28, 1513: 7, 2044: 13, 2065: 15, 2073: 3, 2319: 50, 2368: 5, 2768: 6, 2950: 99, 3283: 4, 3399: 204, 3436: 29, 3546: 25, 3749: 4, 3825: 1, 4067: 11, 4106: 19, 4265: 16, 4333: 16, 4483: 12, 4758: 2, 4819: 9, 4971: 21, 5046: 32, 5334: 148, 5561: 1, 5563: 96, 5673: 9, 5676: 215, 5692: 21, 5822: 447, 6018: 15, 6053: 2, 6194: 7, 6232: 4, 6451: 1, 6498: 20, 6708: 11, 6719: 8, 6720: 11, 6760: 1, 6767: 2, 6769: 7, 6838: 3, 6908: 5, 7058: 42, 7100: 15, 7122: 5, 7257: 6, 7695: 11, 7967: 2, 8116: 209, 8220: 5, 8384: 3, 8385: 5, 8412: 9, 8467: 1, 8647: 10, 8648: 59, 8968: 22, 8978: 8, 9087: 13, 9138: 41, 9222: 1, 9269: 15, 9372: 14, 9382: 9, 9383: 10, 9396: 27, 9434: 17, 9570: 18, 9640: 130, 9788: 761, 10106: 9, 10177: 4, 10638: 6, 10671: 1, 10711: 4, 10747: 9, 10851: 174, 11075: 11, 11197: 18, 11283: 13, 11437: 6, 11704: 7, 12034: 537, 12288: 6, 12559: 428, 12682: 13, 12735: 30, 12854: 1, 12857: 4, 12885: 5, 12988: 3, 13254: 13, 13383: 31, 13394: 12, 13425: 35, 13714: 3, 13941: 2, 13942: 9, 14611: 3, 14823: 11, 14965: 3, 14995: 1, 15003: 1, 15193: 81, 15307: 8, 15339: 6, 38: 5, 44: 3, 93: 16, 94: 4, 120: 10, 351: 9, 361: 6, 435: 6, 450: 9, 606: 1, 652: 3, 659: 2, 673: 2, 682: 18, 701: 1, 731: 4, 861: 1, 878: 7, 931: 11, 956: 4, 996: 16, 1016: 10, 1017: 1, 1025: 11, 1123: 190, 1127: 89, 1147: 4, 1177: 5, 1220: 4, 1221: 5, 1228: 1, 1243: 1, 1259: 2, 1269: 3, 1275: 2, 1296: 1, 1363: 1, 1400: 1, 1486: 4, 1495: 2, 1512: 7, 1546: 16, 1583: 3, 1624: 10, 1625: 1, 1642: 1, 1695: 5, 1705: 2, 1729: 16, 1737: 7, 1755: 7, 1757: 19, 1853: 5, 1869: 11, 1888: 4, 1913: 7, 1925: 10, 1931: 34, 2020: 10, 2045: 4, 2054: 3, 2132: 19, 2162: 49, 2189: 11, 2208: 1, 2247: 8, 2282: 2, 2290: 3, 2331: 19, 2332: 3, 2459: 148, 2479: 5, 2554: 5, 2569: 3, 2575: 1, 2647: 15, 2648: 2, 2681: 60, 2745: 6, 2809: 7, 2906: 4, 2912: 3, 2943: 2, 2945: 4, 2954: 2, 3010: 2, 3012: 3, 3014: 1, 3058: 6, 3236: 1, 3260: 16, 3303: 74, 3353: 12, 3368: 9, 3370: 5, 3385: 12, 3434: 3, 3467: 2, 3487: 10, 3514: 4, 3588: 206, 3613: 3, 3641: 1, 3651: 3, 3677: 13, 3682: 10, 3689: 4, 3708: 8, 3726: 1, 3766: 7, 3794: 5, 3819: 2, 3837: 5, 3911: 13, 3935: 35, 3948: 7, 3954: 12, 4029: 110, 4053: 1, 4065: 2, 4069: 14, 4083: 4, 4084: 2, 4094: 5, 4148: 17, 4228: 4, 4285: 6, 4328: 4, 4356: 1, 4503: 10, 4590: 7, 4630: 1, 4688: 6, 4717: 1, 4729: 4, 4751: 3, 4759: 3, 4848: 2, 4913: 2, 4918: 1, 4961: 7, 5025: 3, 5040: 2, 5042: 5, 5074: 10, 5103: 9, 5108: 2, 5109: 2, 5136: 4, 5175: 4, 5179: 20, 5231: 2, 5336: 4, 5412: 10, 5437: 1, 5454: 17, 5455: 14, 5525: 5, 5543: 6, 5700: 5, 5710: 4, 5719: 4, 5801: 3, 5807: 2, 5826: 9, 5829: 16, 5863: 1, 5867: 3, 5933: 197, 5936: 265, 5969: 13, 6001: 3, 6020: 1, 6028: 5, 6080: 2, 6103: 13, 6116: 10, 6132: 6, 6137: 3, 6154: 3, 6186: 13, 6189: 5, 6244: 4, 6271: 2, 6280: 89, 6284: 15, 6290: 3, 6335: 2, 6342: 9, 6435: 1, 6452: 7, 6502: 235, 6503: 2, 6540: 20, 6596: 20, 6615: 155, 6617: 1, 6687: 3, 6695: 1, 6709: 5, 6828: 54, 6894: 10, 6897: 2, 6909: 2, 6910: 4, 7031: 5, 7060: 8, 7069: 1, 7113: 2, 7123: 12, 7124: 15, 7127: 3, 7181: 7, 7216: 6, 7218: 6, 7219: 7, 7246: 3, 7322: 5, 7377: 33, 7396: 2, 7464: 12, 7472: 4, 7476: 4, 7485: 4, 7512: 4, 7517: 14, 7667: 10, 7693: 7, 7699: 6, 7818: 15, 7828: 2, 7847: 2, 7912: 8, 7966: 3, 8005: 1, 8012: 1, 8044: 3, 8088: 6, 8103: 10, 8115: 8, 8139: 254, 8172: 4, 8207: 1, 8248: 7, 8271: 331, 8278: 17, 8353: 8, 8383: 30, 8468: 5, 8498: 20, 8561: 15, 8614: 17, 8649: 131, 8652: 458, 8654: 6, 8716: 2, 8783: 4, 8881: 4, 8896: 5, 8899: 7, 8913: 32, 9091: 2, 9094: 61, 9104: 9, 9120: 4, 9143: 1, 9144: 14, 9165: 4, 9197: 4, 9225: 14, 9236: 46, 9239: 2, 9256: 1, 9278: 15, 9310: 83, 9313: 9, 9319: 7, 9361: 6, 9379: 4, 9468: 12, 9483: 4, 9493: 131, 9496: 1, 9507: 2, 9508: 5, 9557: 3, 9653: 4, 9663: 4, 9669: 2, 9670: 51, 9677: 6, 9725: 8, 9824: 10, 10069: 5, 10073: 3, 10079: 3, 10112: 2, 10116: 12, 10175: 1, 10223: 13, 10236: 70, 10288: 4, 10312: 7, 10325: 8, 10359: 5, 10396: 3, 10433: 137, 10470: 7, 10528: 2, 10532: 1, 10533: 3, 10566: 11, 10598: 4, 10639: 4, 10655: 1, 10656: 6, 10699: 2, 10738: 4, 10802: 6, 10859: 1, 10883: 8, 10897: 3, 10986: 4, 11023: 10, 11036: 2, 11046: 11, 11095: 5, 11135: 2, 11182: 5, 11227: 4, 11297: 5, 11364: 2, 11395: 42, 11405: 1, 11427: 8, 11447: 4, 11485: 1, 11506: 8, 11533: 1, 11614: 15, 11624: 20, 11703: 22, 11796: 3, 11804: 5, 11805: 7, 11821: 44, 11844: 105, 11871: 3, 11875: 5, 12006: 4, 12007: 4, 12043: 4, 12148: 2, 12169: 1, 12236: 8, 12256: 4, 12257: 2, 12277: 34, 12278: 30, 12299: 2, 12384: 17, 12412: 2, 12413: 15, 12417: 1, 12428: 5, 12437: 3, 12441: 7, 12511: 7, 12516: 43, 12564: 10, 12650: 4, 12684: 1, 12692: 6, 12695: 1, 12715: 8, 12751: 8, 12758: 10, 12778: 10, 12800: 28, 12818: 3, 12840: 7, 12895: 1, 12930: 3, 12939: 4, 12970: 3, 12979: 12, 12995: 3, 12997: 2, 13014: 1, 13021: 11, 13196: 2, 13204: 8, 13222: 2, 13292: 125, 13298: 4, 13311: 1, 13375: 7, 13396: 13, 13424: 7, 13452: 5, 13454: 3, 13455: 1, 13505: 2, 13561: 4, 13569: 2, 13592: 7, 13597: 2, 13639: 190, 13692: 1, 13754: 3, 13765: 9, 13781: 3, 13810: 7, 13834: 3, 13835: 1, 13866: 2, 13944: 7, 13948: 7, 13978: 1, 14012: 16, 14013: 9, 14025: 32, 14038: 204, 14041: 5, 14123: 6, 14128: 4, 14159: 2, 14228: 2, 14247: 8, 14309: 6, 14387: 18, 14494: 5, 14495: 10, 14548: 7, 14681: 6, 14694: 288, 14745: 244, 14766: 9, 14778: 9, 14824: 2, 14833: 2, 14888: 2, 14898: 22, 15039: 8, 15058: 3, 15121: 14, 15141: 1, 15163: 10, 15168: 156, 15179: 5, 15231: 1, 15249: 10, 15290: 8, 15311: 5, 15319: 5, 15340: 9, 15455: 4, 15474: 3, 15547: 5, 15584: 2, 15596: 3, 15630: 1, 15639: 3, 15736: 1, 15773: 14, 15854: 4, 15926: 2, 16062: 11, 16139: 3, 16176: 2, 16177: 3, 16181: 8, 16354: 8, 16368: 23, 48: 83, 136: 3, 202: 2, 263: 3, 287: 5, 332: 3, 460: 1, 614: 1, 653: 1, 668: 5, 680: 3, 687: 7, 738: 2, 788: 196, 791: 1, 803: 5, 848: 5, 859: 2, 889: 1, 915: 9, 940: 7, 950: 4, 979: 2, 1018: 1, 1023: 2, 1032: 1, 1068: 3, 1069: 2, 1092: 3, 1122: 7, 1136: 2, 1358: 4, 1387: 1, 1398: 36, 1410: 313, 1446: 1, 1448: 4, 1457: 2, 1476: 5, 1515: 4, 1533: 3, 1535: 8, 1544: 11, 1604: 2, 1609: 3, 1646: 2, 1649: 4, 1697: 2, 1711: 2, 1712: 1, 1722: 43, 1776: 6, 1796: 3, 1842: 4, 1877: 7, 1887: 7, 1890: 1, 1893: 7, 1909: 5, 1924: 1, 1927: 14, 1932: 9, 1968: 5, 1969: 5, 1982: 1, 2079: 4, 2088: 26, 2096: 9, 2108: 8, 2109: 10, 2110: 2, 2183: 9, 2197: 1, 2240: 2, 2261: 3, 2371: 1, 2381: 8, 2392: 4, 2418: 7, 2464: 11, 2553: 3, 2568: 5, 2590: 1, 2599: 2, 2606: 74, 2640: 3, 2655: 5, 2736: 3, 2806: 14, 2815: 7, 2852: 9, 2879: 3, 2880: 1, 2892: 2, 2898: 1, 2918: 29, 2936: 8, 3059: 2, 3083: 1, 3115: 4, 3117: 11, 3119: 1, 3128: 7, 3199: 32, 3245: 2, 3263: 4, 3265: 2, 3272: 8, 3295: 5, 3306: 6, 3342: 6, 3360: 16, 3378: 2, 3489: 1, 3519: 2, 3543: 6, 3555: 3, 3566: 3, 3593: 2, 3594: 2, 3754: 3, 3831: 5, 3838: 7, 3844: 4, 3846: 1, 3912: 16, 3930: 7, 3952: 6, 3965: 10, 3989: 3, 4017: 4, 4032: 3, 4050: 3, 4071: 139, 4086: 3, 4099: 10, 4125: 3, 4175: 1, 4197: 5, 4198: 2, 4208: 6, 4216: 2, 4223: 8, 4245: 9, 4253: 54, 4256: 5, 4270: 1, 4300: 7, 4310: 3, 4313: 2, 4372: 3, 4443: 11, 4455: 3, 4488: 2, 4516: 2, 4527: 1, 4532: 3, 4551: 2, 4574: 2, 4582: 3, 4596: 5, 4655: 5, 4708: 2, 4714: 2, 4743: 8, 4787: 6, 4835: 4, 4837: 3, 4853: 2, 4860: 2, 4877: 6, 4895: 6, 4927: 5, 4932: 7, 4933: 6, 4959: 1, 4993: 2, 5036: 4, 5043: 5, 5051: 1, 5066: 15, 5079: 3, 5080: 12, 5081: 7, 5082: 5, 5083: 2, 5112: 4, 5124: 7, 5125: 5, 5192: 2, 5193: 1, 5232: 2, 5301: 5, 5307: 62, 5355: 6, 5408: 11, 5443: 4, 5465: 4, 5493: 1, 5494: 5, 5518: 10, 5535: 6, 5606: 11, 5654: 1, 5705: 2, 5748: 1, 5759: 19, 5779: 24, 5788: 1, 5794: 3, 5808: 1, 5823: 2, 5825: 1, 5868: 4, 5887: 4, 5918: 5, 5929: 23, 5945: 7, 5946: 6, 5970: 1, 6011: 61, 6016: 11, 6063: 7, 6064: 26, 6065: 5, 6096: 1, 6119: 3, 6155: 3, 6219: 1, 6237: 63, 6256: 1, 6276: 2, 6279: 9, 6323: 8, 6378: 8, 6403: 10, 6413: 1, 6430: 8, 6479: 1, 6563: 3, 6614: 149, 6642: 71, 6645: 1, 6655: 3, 6671: 1, 6752: 2, 6762: 3, 6799: 5, 6813: 4, 6875: 8, 6876: 8, 6917: 4, 6930: 3, 6938: 5, 7009: 3, 7029: 3, 7051: 3, 7056: 12, 7057: 6, 7059: 1, 7070: 5, 7108: 83, 7144: 4, 7171: 4, 7177: 348, 7210: 3, 7240: 3, 7245: 39, 7262: 7, 7282: 4, 7305: 15, 7308: 9, 7313: 2, 7320: 10, 7336: 1, 7352: 7, 7380: 9, 7393: 2, 7470: 4, 7481: 3, 7487: 48, 7501: 4, 7593: 4, 7654: 2, 7658: 2, 7683: 4, 7712: 19, 7783: 4, 7807: 12, 7837: 9, 7839: 5, 7868: 6, 7890: 5, 8022: 2, 8031: 3, 8089: 4, 8179: 4, 8225: 1, 8249: 7, 8260: 7, 8294: 4, 8329: 3, 8335: 3, 8358: 7, 8388: 3, 8409: 1, 8426: 9, 8464: 2, 8476: 4, 8493: 7, 8497: 2, 8519: 3, 8538: 3, 8607: 4, 8629: 3, 8639: 16, 8655: 10, 8702: 3, 8723: 3, 8744: 98, 8749: 2, 8754: 8, 8773: 3, 8833: 8, 8874: 1, 8889: 19, 8900: 7, 9017: 11, 9031: 3, 9074: 4, 9083: 3, 9108: 4, 9117: 8, 9123: 1, 9146: 11, 9169: 11, 9172: 6, 9199: 5, 9202: 3, 9217: 5, 9221: 1, 9229: 1, 9230: 10, 9244: 2, 9265: 13, 9273: 3, 9294: 4, 9349: 76, 9367: 4, 9377: 6, 9389: 12, 9390: 1, 9391: 5, 9404: 4, 9424: 3, 9444: 6, 9448: 6, 9495: 10, 9555: 9, 9569: 6, 9598: 2, 9606: 1, 9668: 19, 9678: 3, 9680: 2, 9681: 2, 9682: 11, 9699: 92, 9755: 4, 9763: 2, 9792: 7, 9794: 10, 9819: 6, 9823: 3, 9834: 1, 9864: 2, 9885: 2, 9968: 2, 9990: 10, 10054: 2, 10055: 8, 10056: 3, 10063: 1, 10101: 4, 10143: 3, 10193: 1, 10283: 1, 10300: 4, 10302: 8, 10321: 1, 10383: 20, 10428: 1, 10503: 1, 10623: 1, 10661: 4, 10668: 16, 10691: 5, 10698: 2, 10741: 5, 10774: 5, 10793: 7, 10796: 1, 10817: 63, 10841: 3, 10855: 5, 10889: 114, 10909: 4, 10939: 88, 10951: 6, 10972: 2, 10981: 3, 11021: 3, 11025: 9, 11078: 5, 11121: 1, 11130: 11, 11153: 198, 11195: 9, 11234: 1, 11291: 3, 11307: 2, 11360: 6, 11400: 3, 11408: 1, 11473: 7, 11477: 5, 11486: 3, 11645: 4, 11652: 1, 11658: 61, 11730: 13, 11780: 2, 11783: 2, 11820: 6, 11856: 1, 11876: 5, 11904: 2, 11983: 12, 12030: 5, 12035: 7, 12056: 1, 12115: 3, 12133: 2, 12203: 1, 12244: 10, 12289: 11, 12356: 174, 12369: 4, 12371: 3, 12419: 6, 12472: 8, 12576: 2, 12584: 5, 12592: 5, 12609: 3, 12610: 3, 12729: 5, 12787: 1, 12798: 2, 12815: 44, 12865: 6, 12875: 6, 12898: 4, 12917: 7, 12929: 3, 12954: 3, 12960: 10, 13013: 7, 13026: 12, 13040: 8, 13054: 16, 13104: 3, 13114: 3, 13124: 4, 13154: 2, 13219: 22, 13255: 1, 13284: 26, 13312: 3, 13343: 9, 13367: 7, 13404: 2, 13420: 2, 13433: 1, 13518: 99, 13579: 21, 13594: 3, 13655: 143, 13690: 7, 13701: 5, 13718: 4, 13753: 2, 13775: 5, 13795: 12, 13822: 4, 13868: 92, 13895: 4, 13907: 2, 13908: 3, 13918: 1, 13927: 4, 13934: 2, 13936: 3, 13937: 1, 13938: 4, 13943: 2, 13987: 7, 14010: 127, 14014: 7, 14017: 2, 14046: 3, 14076: 1, 14120: 4, 14213: 7, 14231: 11, 14235: 3, 14236: 3, 14256: 5, 14279: 7, 14330: 1, 14362: 1, 14372: 2, 14390: 6, 14445: 2, 14454: 80, 14504: 1, 14533: 5, 14536: 5, 14567: 1, 14594: 7, 14599: 3, 14639: 2, 14752: 3, 14793: 1, 14805: 12, 14878: 13, 14882: 5, 14885: 4, 14890: 2, 14897: 15, 14907: 5, 14914: 3, 14922: 4, 14969: 6, 15043: 3, 15069: 3, 15080: 1, 15113: 27, 15118: 2, 15142: 5, 15248: 3, 15324: 9, 15333: 2, 15346: 6, 15361: 3, 15428: 1, 15437: 3, 15442: 3, 15451: 3, 15465: 6, 15484: 1, 15519: 6, 15520: 2, 15540: 5, 15545: 3, 15615: 6, 15687: 4, 15717: 5, 15722: 4, 15777: 5, 15798: 6, 15832: 7, 16014: 4, 16126: 3, 16167: 2, 16182: 9, 16183: 3, 16243: 55, 16246: 4, 16266: 2, 16331: 6, 16379: 1, 16468: 2, 16475: 1}\n",
      "Player who changes the most: 9788\n",
      "------------------------------------------------------------------------------------------------------------------\n"
     ]
    }
   ],
   "source": [
    "# Lets do the same but for bottom 20%\n",
    "players_increase_slot = cf.count_increase(df, \"increase_slotdeno\", \"playerkey\", \"slotdenomination\")\n",
    "players_decrease_slot = cf.count_decrease(df, \"decrease_slotdeno\", \"playerkey\", \"slotdenomination\")\n",
    "players_increase_maxbet = cf.count_increase(df, \"increase_maxbet\", \"playerkey\", \"maxbet\")\n",
    "players_decrease_maxbet = cf.count_decrease(df, \"decrease_maxbet\", \"playerkey\", \"maxbet\")\n"
   ]
  },
  {
   "cell_type": "code",
   "execution_count": 17,
   "metadata": {},
   "outputs": [
    {
     "name": "stdout",
     "output_type": "stream",
     "text": [
      "Count of players who increase_slotdeno : 1109\n",
      "Count of times each player increase_slotdeno : {33: 66, 199: 1, 224: 10, 795: 14, 865: 1, 982: 17, 1008: 13, 1013: 5, 1035: 16, 1036: 16, 1141: 22, 1166: 28, 1171: 49, 1233: 44, 1331: 12, 1483: 5, 1496: 5, 1513: 8, 2044: 22, 2065: 4, 2070: 1, 2073: 7, 2319: 9, 2368: 3, 2768: 11, 2950: 41, 3283: 3, 3399: 188, 3436: 15, 3546: 19, 3749: 4, 3825: 1, 4067: 12, 4106: 8, 4265: 14, 4333: 16, 4483: 41, 4758: 2, 4819: 17, 4919: 2, 4971: 21, 5046: 29, 5334: 20, 5561: 1, 5563: 96, 5673: 7, 5676: 25, 5692: 22, 5822: 515, 6014: 1, 6018: 4, 6053: 3, 6194: 6, 6232: 2, 6451: 11, 6498: 7, 6708: 6, 6719: 6, 6720: 11, 6760: 9, 6767: 10, 6769: 4, 6838: 4, 6908: 8, 7058: 32, 7100: 9, 7122: 6, 7257: 3, 7695: 10, 7967: 2, 8116: 90, 8220: 21, 8385: 2, 8412: 11, 8467: 1, 8647: 61, 8648: 115, 8968: 25, 8978: 12, 9087: 5, 9138: 25, 9222: 9, 9269: 10, 9372: 13, 9382: 12, 9383: 10, 9396: 32, 9434: 4, 9570: 9, 9640: 127, 9788: 762, 10090: 5, 10106: 169, 10177: 1, 10638: 5, 10643: 6, 10671: 16, 10711: 5, 10747: 6, 10851: 175, 11075: 9, 11197: 9, 11283: 7, 11437: 5, 11704: 14, 12034: 26, 12288: 3, 12559: 21, 12682: 12, 12735: 15, 12854: 6, 12857: 4, 12988: 775, 13254: 7, 13383: 37, 13394: 13, 13425: 18, 13714: 3, 13941: 22, 13942: 8, 14611: 4, 14823: 9, 14965: 13, 14995: 4, 15193: 69, 15307: 16, 15339: 4, 38: 4, 44: 1, 93: 2, 94: 1, 95: 2, 120: 4, 351: 2, 361: 1, 435: 18, 450: 7, 606: 2, 652: 3, 682: 10, 731: 3, 765: 2, 861: 5, 878: 4, 931: 7, 956: 1, 987: 9, 996: 13, 1016: 11, 1017: 149, 1025: 11, 1029: 2, 1123: 44, 1127: 162, 1147: 2, 1177: 1, 1220: 3, 1228: 3, 1243: 1, 1259: 3, 1269: 3, 1275: 16, 1296: 1, 1363: 1, 1486: 2, 1495: 2, 1511: 9, 1512: 6, 1546: 22, 1547: 5, 1583: 1, 1624: 4, 1625: 1, 1642: 1, 1695: 4, 1705: 2, 1729: 10, 1737: 7, 1755: 10, 1757: 10, 1853: 5, 1869: 2, 1888: 5, 1913: 1, 1925: 8, 1931: 12, 1950: 4, 2005: 33, 2020: 4, 2045: 4, 2054: 5, 2132: 23, 2162: 46, 2189: 11, 2208: 4, 2247: 2, 2282: 103, 2290: 2, 2331: 8, 2332: 1, 2389: 1, 2459: 148, 2479: 7, 2569: 2, 2647: 5, 2648: 2, 2681: 1, 2710: 22, 2745: 6, 2809: 10, 2906: 7, 2912: 2, 2943: 2, 2945: 6, 2947: 11, 2948: 13, 2954: 2, 3010: 8, 3012: 3, 3014: 2, 3042: 1, 3058: 5, 3236: 7, 3260: 7, 3303: 74, 3353: 7, 3368: 5, 3370: 1, 3385: 8, 3434: 2, 3467: 3, 3487: 6, 3588: 208, 3613: 2, 3641: 1, 3651: 3, 3677: 38, 3682: 1, 3689: 1, 3708: 8, 3766: 1, 3794: 4, 3819: 2, 3837: 5, 3911: 9, 3935: 35, 3948: 5, 3954: 33, 4029: 110, 4053: 1, 4065: 1, 4069: 12, 4083: 3, 4084: 1, 4094: 4, 4148: 3, 4228: 2, 4285: 5, 4328: 3, 4356: 2, 4503: 11, 4590: 6, 4688: 6, 4717: 1, 4751: 4, 4759: 3, 4848: 2, 4913: 1, 4918: 1, 4961: 6, 5025: 1, 5040: 3, 5074: 10, 5103: 7, 5109: 2, 5136: 3, 5175: 5, 5179: 8, 5231: 2, 5412: 4, 5454: 11, 5455: 8, 5525: 7, 5543: 5, 5700: 6, 5710: 2, 5719: 1, 5801: 2, 5807: 4, 5829: 9, 5855: 3, 5863: 1, 5867: 11, 5932: 1, 5933: 8, 5936: 3, 5969: 13, 6001: 2, 6028: 5, 6042: 1, 6080: 1, 6103: 11, 6116: 2, 6130: 1, 6132: 5, 6137: 4, 6154: 11, 6186: 9, 6189: 10, 6244: 6, 6271: 2, 6280: 2, 6284: 9, 6290: 5, 6335: 1, 6342: 44, 6452: 9, 6502: 25, 6503: 6, 6540: 14, 6596: 26, 6612: 7, 6615: 155, 6687: 2, 6695: 1, 6709: 16, 6828: 1, 6843: 3, 6894: 6, 6897: 2, 6910: 4, 7031: 12, 7060: 5, 7069: 2, 7113: 2, 7120: 1, 7123: 3, 7124: 5, 7127: 1, 7138: 9, 7181: 9, 7216: 4, 7218: 2, 7246: 4, 7322: 3, 7377: 5, 7464: 11, 7472: 1, 7476: 3, 7485: 5, 7512: 2, 7517: 13, 7667: 4, 7693: 5, 7699: 3, 7818: 4, 7828: 1, 7847: 5, 7912: 2, 7966: 1, 8005: 4, 8088: 2, 8103: 9, 8115: 15, 8139: 253, 8172: 2, 8248: 12, 8271: 331, 8278: 5, 8353: 5, 8383: 43, 8468: 5, 8498: 6, 8561: 10, 8614: 11, 8649: 28, 8654: 8, 8716: 2, 8783: 1, 8881: 1, 8896: 3, 8899: 6, 8913: 2, 9091: 2, 9094: 3, 9104: 2, 9120: 3, 9127: 7, 9143: 5, 9144: 22, 9165: 10, 9197: 3, 9225: 18, 9236: 48, 9239: 1, 9256: 2, 9278: 3, 9313: 4, 9319: 3, 9379: 13, 9410: 1, 9468: 18, 9483: 7, 9493: 137, 9508: 2, 9557: 2, 9653: 2, 9663: 4, 9670: 1, 9677: 4, 9725: 3, 9752: 1, 9824: 5, 10069: 3, 10073: 2, 10079: 1, 10112: 2, 10116: 5, 10223: 15, 10236: 47, 10288: 3, 10312: 5, 10325: 20, 10349: 7, 10359: 2, 10396: 6, 10433: 200, 10470: 4, 10528: 2, 10532: 2, 10533: 4, 10566: 6, 10598: 5, 10639: 4, 10656: 2, 10699: 6, 10738: 8, 10802: 6, 10856: 1, 10859: 1, 10883: 2, 10897: 2, 10986: 2, 11001: 2, 11023: 2, 11036: 2, 11041: 4, 11046: 2, 11095: 14, 11135: 2, 11182: 2, 11227: 1, 11297: 5, 11364: 1, 11395: 42, 11405: 1, 11427: 9, 11485: 3, 11506: 4, 11624: 2, 11703: 4, 11796: 2, 11804: 8, 11805: 3, 11821: 46, 11844: 1, 11871: 2, 11875: 2, 12006: 4, 12148: 1, 12169: 1, 12236: 7, 12256: 3, 12257: 1, 12277: 23, 12278: 32, 12384: 6, 12412: 2, 12413: 16, 12417: 32, 12428: 2, 12437: 2, 12441: 4, 12511: 8, 12516: 6, 12564: 9, 12650: 6, 12684: 2, 12695: 1, 12715: 8, 12751: 9, 12758: 5, 12778: 6, 12795: 5, 12800: 32, 12818: 1, 12840: 2, 12895: 3, 12930: 4, 12970: 5, 12979: 2, 12995: 2, 12997: 5, 13021: 13, 13196: 2, 13204: 15, 13222: 2, 13292: 124, 13298: 1, 13311: 4, 13375: 6, 13396: 6, 13424: 2, 13452: 5, 13454: 5, 13455: 2, 13505: 2, 13561: 1, 13569: 5, 13592: 4, 13597: 20, 13639: 10, 13692: 2, 13754: 1, 13765: 6, 13781: 2, 13810: 5, 13835: 1, 13866: 2, 13944: 5, 13948: 5, 13978: 3, 14012: 4, 14013: 6, 14025: 32, 14041: 7, 14123: 3, 14128: 4, 14159: 2, 14228: 2, 14247: 5, 14309: 11, 14387: 4, 14494: 9, 14495: 8, 14541: 1, 14548: 6, 14681: 8, 14694: 1, 14745: 11, 14766: 1, 14778: 3, 14824: 1, 14833: 1, 14888: 3, 14898: 15, 15058: 3, 15121: 13, 15141: 1, 15163: 5, 15168: 66, 15179: 4, 15231: 2, 15249: 5, 15290: 19, 15311: 1, 15319: 4, 15338: 1, 15340: 8, 15455: 2, 15474: 5, 15547: 3, 15584: 2, 15596: 1, 15630: 5, 15639: 3, 15704: 1, 15705: 2, 15736: 6, 15773: 6, 15854: 8, 15926: 1, 16062: 4, 16139: 3, 16176: 4, 16177: 3, 16181: 8, 16354: 3, 16368: 4, 136: 4, 202: 3, 263: 1, 287: 4, 332: 2, 460: 114, 614: 4, 653: 2, 668: 3, 680: 1, 738: 1, 788: 199, 791: 1, 841: 1, 848: 2, 859: 2, 901: 16, 915: 6, 940: 2, 950: 1, 979: 4, 1023: 1, 1068: 9, 1069: 2, 1092: 2, 1122: 2, 1136: 7, 1358: 31, 1387: 2, 1398: 38, 1439: 5, 1448: 5, 1476: 5, 1515: 3, 1533: 1, 1535: 9, 1544: 5, 1609: 1, 1646: 2, 1649: 2, 1711: 1, 1712: 2, 1722: 38, 1776: 2, 1796: 1, 1842: 2, 1877: 11, 1887: 9, 1893: 3, 1909: 2, 1924: 2, 1927: 16, 1932: 4, 1968: 3, 1969: 3, 1982: 1, 2029: 2, 2079: 6, 2088: 27, 2096: 5, 2108: 2, 2109: 14, 2110: 1, 2183: 5, 2261: 2, 2316: 4, 2371: 1, 2381: 3, 2392: 1, 2418: 2, 2464: 1, 2532: 2, 2553: 3, 2599: 2, 2606: 1, 2640: 3, 2655: 4, 2719: 1, 2736: 1, 2806: 1, 2815: 2, 2852: 7, 2879: 1, 2880: 1, 2892: 1, 2898: 1, 2918: 29, 2936: 7, 3059: 1, 3083: 2, 3117: 7, 3128: 5, 3263: 7, 3265: 3, 3272: 5, 3295: 3, 3306: 1, 3342: 5, 3360: 16, 3489: 1, 3519: 1, 3543: 7, 3555: 1, 3566: 2, 3593: 1, 3594: 1, 3754: 2, 3831: 3, 3838: 6, 3844: 1, 3846: 1, 3912: 8, 3930: 3, 3952: 6, 3965: 7, 3989: 2, 4017: 6, 4086: 2, 4099: 9, 4118: 5, 4125: 1, 4197: 2, 4198: 2, 4208: 5, 4223: 2, 4245: 9, 4253: 54, 4256: 2, 4270: 1, 4279: 1, 4280: 1, 4300: 5, 4310: 27, 4313: 1, 4372: 1, 4443: 5, 4488: 2, 4516: 2, 4527: 1, 4532: 3, 4551: 1, 4574: 2, 4596: 3, 4613: 1, 4655: 2, 4680: 1, 4708: 2, 4714: 4, 4743: 1, 4787: 3, 4835: 3, 4837: 2, 4853: 3, 4860: 2, 4877: 3, 4895: 2, 4927: 20, 4932: 5, 4933: 3, 4959: 15, 4993: 1, 5043: 3, 5051: 1, 5066: 4, 5079: 1, 5080: 6, 5081: 5, 5082: 4, 5112: 2, 5125: 2, 5193: 1, 5232: 4, 5301: 1, 5355: 7, 5408: 8, 5443: 3, 5465: 2, 5493: 2, 5494: 2, 5518: 9, 5535: 4, 5560: 1, 5606: 3, 5654: 2, 5705: 1, 5759: 5, 5779: 25, 5788: 9, 5794: 2, 5823: 3, 5825: 5, 5868: 4, 5887: 5, 5918: 4, 5929: 15, 5945: 3, 5946: 3, 5970: 1, 6011: 57, 6016: 7, 6062: 1, 6063: 11, 6064: 27, 6065: 2, 6119: 3, 6155: 4, 6219: 2, 6237: 63, 6276: 1, 6279: 4, 6308: 3, 6323: 4, 6378: 6, 6403: 12, 6413: 7, 6430: 2, 6447: 104, 6479: 1, 6563: 2, 6642: 71, 6645: 1, 6655: 1, 6671: 8, 6752: 1, 6762: 4, 6813: 3, 6875: 8, 6876: 5, 6917: 3, 7009: 2, 7029: 1, 7051: 15, 7056: 4, 7057: 4, 7059: 1, 7070: 2, 7108: 103, 7144: 2, 7171: 5, 7177: 350, 7210: 1, 7240: 4, 7245: 49, 7262: 2, 7282: 1, 7305: 11, 7308: 8, 7313: 3, 7320: 3, 7336: 2, 7352: 3, 7380: 6, 7393: 2, 7470: 1, 7481: 2, 7487: 5, 7501: 8, 7776: 6, 7783: 4, 7807: 4, 7837: 7, 7839: 1, 7868: 3, 8022: 4, 8031: 4, 8179: 3, 8249: 5, 8260: 4, 8294: 6, 8329: 1, 8335: 2, 8358: 2, 8388: 5, 8409: 1, 8426: 4, 8476: 4, 8493: 1, 8497: 5, 8519: 2, 8607: 11, 8629: 2, 8639: 9, 8655: 10, 8702: 2, 8744: 97, 8749: 2, 8754: 6, 8833: 3, 8874: 3, 8889: 3, 8900: 11, 9017: 2, 9031: 2, 9074: 2, 9083: 1, 9108: 2, 9117: 9, 9146: 16, 9169: 11, 9172: 7, 9199: 6, 9202: 3, 9217: 4, 9221: 1, 9230: 2, 9244: 3, 9265: 7, 9294: 2, 9312: 1, 9349: 67, 9367: 1, 9377: 5, 9389: 2, 9390: 21, 9404: 3, 9444: 3, 9448: 2, 9495: 4, 9510: 2, 9555: 3, 9569: 2, 9606: 7, 9668: 19, 9675: 5, 9678: 2, 9680: 1, 9681: 2, 9682: 11, 9699: 103, 9746: 2, 9763: 1, 9792: 12, 9794: 9, 9819: 3, 9823: 3, 9834: 1, 9864: 2, 9885: 1, 9968: 5, 9990: 4, 10054: 1, 10055: 5, 10056: 2, 10063: 1, 10101: 6, 10143: 2, 10193: 4, 10300: 2, 10302: 2, 10321: 1, 10345: 1, 10348: 2, 10383: 36, 10428: 1, 10564: 1, 10623: 1, 10661: 4, 10668: 4, 10691: 3, 10698: 1, 10741: 2, 10774: 8, 10796: 2, 10817: 4, 10841: 2, 10855: 5, 10889: 112, 10909: 3, 10951: 1, 10972: 1, 10981: 4, 11021: 3, 11078: 2, 11130: 2, 11153: 21, 11183: 4, 11195: 6, 11291: 1, 11307: 1, 11400: 1, 11473: 3, 11486: 5, 11584: 2, 11629: 176, 11658: 4, 11730: 2, 11783: 1, 11820: 4, 11856: 2, 11876: 2, 11983: 7, 12030: 7, 12035: 5, 12056: 1, 12115: 2, 12203: 1, 12244: 3, 12289: 69, 12356: 2, 12369: 5, 12371: 2, 12414: 1, 12419: 5, 12472: 2, 12576: 1, 12592: 3, 12609: 3, 12610: 3, 12798: 4, 12815: 49, 12865: 8, 12875: 6, 12898: 2, 12917: 7, 12929: 3, 12954: 12, 12960: 1, 13013: 4, 13026: 4, 13040: 7, 13054: 10, 13083: 1, 13104: 4, 13114: 2, 13124: 4, 13154: 2, 13219: 6, 13284: 11, 13312: 6, 13343: 8, 13367: 20, 13404: 1, 13420: 1, 13433: 1, 13518: 55, 13579: 25, 13594: 1, 13690: 4, 13701: 3, 13718: 8, 13775: 3, 13795: 9, 13822: 5, 13868: 65, 13907: 3, 13908: 5, 13918: 1, 13927: 2, 13934: 2, 13936: 6, 13937: 7, 13938: 2, 13943: 1, 13987: 5, 14010: 127, 14014: 5, 14017: 3, 14046: 2, 14076: 1, 14120: 2, 14213: 3, 14231: 8, 14235: 1, 14236: 2, 14256: 7, 14279: 2, 14330: 1, 14390: 5, 14413: 2, 14454: 39, 14504: 2, 14533: 1, 14536: 3, 14567: 1, 14594: 4, 14752: 1, 14805: 4, 14868: 2, 14878: 3, 14882: 13, 14885: 2, 14890: 2, 14897: 11, 14907: 5, 14914: 2, 14922: 1, 14969: 31, 15043: 4, 15069: 1, 15113: 11, 15142: 2, 15248: 1, 15324: 6, 15333: 3, 15346: 3, 15361: 1, 15428: 5, 15437: 1, 15442: 1, 15451: 2, 15519: 6, 15520: 1, 15545: 2, 15615: 5, 15687: 2, 15717: 4, 15722: 3, 15798: 5, 15832: 4, 16014: 2, 16167: 2, 16182: 5, 16183: 6, 16235: 1, 16246: 2, 16266: 4, 16331: 2, 16379: 3, 16468: 14, 16475: 1}\n",
      "Player who changes the most: 12988\n",
      "------------------------------------------------------------------------------------------------------------------\n",
      "Count of players who decrease_slotdeno : 1120\n",
      "Count of times each player decrease_slotdeno : {33: 63, 199: 2, 224: 11, 795: 15, 865: 1, 982: 10, 1008: 16, 1013: 4, 1035: 15, 1036: 17, 1141: 20, 1166: 30, 1171: 51, 1233: 41, 1331: 11, 1483: 7, 1496: 4, 1513: 5, 2044: 14, 2065: 3, 2070: 1, 2073: 9, 2319: 10, 2368: 4, 2768: 9, 2950: 32, 3283: 3, 3399: 180, 3436: 17, 3546: 15, 3749: 2, 4067: 12, 4106: 9, 4265: 15, 4333: 15, 4483: 36, 4758: 3, 4819: 16, 4919: 3, 4971: 19, 5046: 29, 5334: 23, 5561: 1, 5563: 97, 5673: 8, 5676: 22, 5692: 20, 5822: 515, 6014: 1, 6018: 4, 6053: 3, 6194: 5, 6232: 3, 6451: 9, 6498: 6, 6708: 6, 6719: 5, 6720: 13, 6760: 9, 6767: 9, 6769: 4, 6838: 6, 6908: 9, 7058: 30, 7100: 8, 7122: 6, 7257: 3, 7695: 10, 7967: 2, 8116: 91, 8220: 18, 8385: 2, 8412: 8, 8467: 1, 8647: 46, 8648: 58, 8968: 25, 8978: 15, 9087: 4, 9138: 26, 9222: 7, 9269: 11, 9372: 11, 9382: 9, 9383: 9, 9396: 35, 9434: 7, 9570: 8, 9640: 125, 9788: 759, 10090: 6, 10106: 180, 10177: 1, 10638: 4, 10643: 6, 10671: 14, 10711: 5, 10747: 6, 10851: 175, 11075: 8, 11197: 9, 11283: 9, 11437: 3, 11704: 11, 12034: 28, 12288: 3, 12559: 20, 12682: 11, 12735: 13, 12854: 4, 12857: 4, 12988: 776, 13254: 7, 13383: 40, 13394: 12, 13425: 16, 13714: 3, 13941: 21, 13942: 9, 14611: 6, 14823: 8, 14965: 14, 14995: 3, 15193: 67, 15307: 18, 15339: 6, 38: 3, 44: 1, 93: 2, 94: 1, 95: 3, 120: 4, 351: 2, 361: 1, 435: 11, 450: 8, 652: 4, 682: 8, 731: 4, 765: 1, 861: 5, 878: 5, 931: 6, 956: 3, 987: 9, 996: 12, 1016: 11, 1017: 148, 1025: 11, 1029: 2, 1123: 44, 1127: 162, 1147: 3, 1177: 1, 1220: 3, 1228: 3, 1243: 2, 1259: 5, 1269: 2, 1275: 17, 1296: 1, 1363: 2, 1486: 4, 1495: 2, 1511: 9, 1512: 5, 1546: 20, 1547: 5, 1624: 5, 1695: 4, 1705: 2, 1729: 9, 1737: 7, 1755: 9, 1757: 11, 1853: 5, 1869: 1, 1888: 5, 1913: 3, 1925: 9, 1931: 11, 1950: 3, 2005: 33, 2020: 5, 2045: 6, 2054: 1, 2132: 19, 2162: 45, 2189: 10, 2208: 3, 2247: 5, 2282: 104, 2290: 3, 2331: 8, 2332: 2, 2389: 1, 2459: 148, 2479: 7, 2569: 2, 2647: 3, 2648: 2, 2710: 22, 2745: 4, 2809: 6, 2906: 7, 2912: 2, 2943: 2, 2945: 7, 2947: 11, 2948: 15, 2954: 2, 3010: 5, 3012: 3, 3014: 1, 3042: 1, 3058: 5, 3236: 7, 3260: 6, 3303: 73, 3353: 8, 3368: 4, 3370: 2, 3385: 6, 3434: 2, 3467: 1, 3487: 8, 3514: 1, 3588: 206, 3613: 3, 3635: 1, 3641: 1, 3651: 2, 3677: 31, 3682: 1, 3689: 1, 3708: 9, 3766: 1, 3794: 2, 3819: 1, 3837: 4, 3911: 9, 3935: 35, 3948: 4, 3954: 28, 4029: 110, 4053: 1, 4065: 1, 4069: 12, 4083: 3, 4084: 1, 4094: 3, 4148: 2, 4228: 2, 4285: 4, 4328: 2, 4356: 1, 4503: 10, 4590: 6, 4688: 7, 4717: 1, 4751: 5, 4759: 3, 4848: 5, 4913: 1, 4918: 2, 4961: 9, 5025: 1, 5040: 2, 5074: 12, 5103: 6, 5109: 2, 5136: 3, 5175: 4, 5179: 9, 5231: 2, 5412: 5, 5454: 14, 5455: 12, 5525: 7, 5543: 5, 5700: 5, 5710: 1, 5719: 1, 5801: 2, 5807: 5, 5829: 9, 5855: 4, 5863: 1, 5867: 8, 5932: 1, 5933: 8, 5936: 3, 5969: 17, 6001: 2, 6020: 1, 6028: 5, 6042: 2, 6080: 2, 6103: 10, 6116: 2, 6132: 5, 6137: 5, 6154: 8, 6186: 8, 6189: 8, 6244: 4, 6271: 2, 6280: 1, 6284: 11, 6290: 7, 6335: 1, 6342: 33, 6452: 10, 6502: 25, 6503: 7, 6540: 12, 6596: 26, 6612: 7, 6615: 154, 6687: 1, 6709: 10, 6778: 2, 6828: 1, 6843: 4, 6862: 2, 6894: 4, 6897: 2, 6910: 5, 7031: 10, 7060: 5, 7069: 2, 7113: 3, 7120: 1, 7123: 3, 7124: 8, 7138: 8, 7181: 13, 7216: 3, 7218: 2, 7246: 4, 7322: 2, 7377: 5, 7390: 1, 7396: 1, 7464: 10, 7472: 4, 7476: 3, 7485: 7, 7512: 2, 7517: 15, 7667: 4, 7693: 3, 7699: 3, 7818: 4, 7828: 1, 7847: 5, 7912: 2, 7966: 1, 8005: 4, 8088: 1, 8103: 10, 8115: 15, 8139: 253, 8172: 2, 8248: 10, 8268: 1, 8271: 332, 8278: 7, 8353: 7, 8383: 44, 8468: 8, 8498: 4, 8561: 8, 8614: 11, 8649: 28, 8652: 1, 8654: 6, 8716: 4, 8783: 1, 8896: 2, 8899: 6, 8913: 2, 9091: 2, 9094: 2, 9104: 2, 9120: 3, 9127: 6, 9143: 6, 9144: 16, 9165: 13, 9197: 2, 9225: 17, 9236: 49, 9239: 2, 9256: 2, 9278: 3, 9313: 4, 9319: 3, 9379: 11, 9410: 3, 9468: 12, 9483: 8, 9493: 135, 9507: 1, 9508: 3, 9557: 1, 9653: 3, 9663: 5, 9670: 1, 9677: 1, 9725: 3, 9752: 1, 9824: 5, 10069: 3, 10073: 1, 10079: 1, 10112: 1, 10116: 6, 10223: 15, 10236: 48, 10288: 3, 10312: 4, 10325: 23, 10349: 6, 10359: 1, 10396: 6, 10433: 199, 10470: 4, 10528: 2, 10532: 2, 10533: 3, 10566: 6, 10598: 3, 10639: 3, 10656: 2, 10699: 5, 10738: 8, 10802: 6, 10856: 1, 10883: 2, 10897: 2, 10986: 1, 11001: 1, 11023: 2, 11036: 2, 11041: 4, 11046: 3, 11095: 12, 11135: 2, 11182: 2, 11227: 1, 11297: 4, 11364: 2, 11395: 42, 11427: 8, 11485: 1, 11506: 5, 11533: 2, 11624: 2, 11703: 3, 11796: 2, 11804: 9, 11805: 3, 11821: 46, 11844: 1, 11871: 3, 11875: 2, 12006: 2, 12007: 1, 12148: 2, 12169: 1, 12236: 6, 12256: 3, 12257: 2, 12277: 24, 12278: 29, 12384: 8, 12412: 2, 12413: 15, 12417: 25, 12428: 2, 12437: 1, 12441: 4, 12511: 7, 12516: 4, 12564: 6, 12625: 1, 12650: 7, 12684: 3, 12695: 1, 12715: 6, 12751: 10, 12758: 5, 12778: 7, 12795: 6, 12800: 30, 12818: 1, 12840: 3, 12895: 4, 12930: 2, 12970: 6, 12979: 1, 12995: 1, 12997: 5, 13021: 15, 13196: 3, 13204: 9, 13222: 2, 13292: 126, 13311: 5, 13375: 6, 13396: 4, 13424: 3, 13452: 3, 13454: 6, 13455: 3, 13505: 3, 13561: 1, 13569: 5, 13592: 5, 13597: 16, 13639: 10, 13754: 1, 13765: 8, 13781: 1, 13810: 7, 13866: 3, 13944: 4, 13948: 6, 13968: 1, 13978: 1, 14012: 5, 14013: 5, 14025: 34, 14041: 8, 14123: 4, 14128: 4, 14159: 1, 14228: 2, 14247: 8, 14309: 6, 14387: 5, 14494: 7, 14495: 6, 14541: 1, 14548: 6, 14681: 8, 14694: 1, 14745: 11, 14766: 1, 14778: 3, 14824: 1, 14833: 1, 14888: 3, 14898: 20, 15058: 5, 15121: 11, 15163: 4, 15168: 66, 15179: 4, 15231: 3, 15249: 4, 15290: 17, 15311: 1, 15319: 2, 15338: 1, 15340: 7, 15455: 2, 15474: 4, 15547: 3, 15584: 2, 15596: 1, 15630: 4, 15639: 4, 15705: 2, 15736: 8, 15773: 7, 15854: 7, 15926: 1, 16062: 6, 16139: 1, 16176: 3, 16177: 4, 16181: 6, 16354: 3, 16368: 4, 136: 4, 202: 4, 263: 2, 287: 6, 332: 4, 460: 114, 614: 4, 653: 2, 668: 3, 680: 1, 738: 1, 788: 203, 791: 2, 841: 1, 848: 1, 859: 1, 889: 1, 901: 12, 915: 5, 950: 1, 979: 4, 1023: 2, 1068: 9, 1069: 2, 1092: 3, 1122: 4, 1136: 8, 1358: 33, 1387: 2, 1398: 38, 1439: 7, 1446: 1, 1448: 5, 1476: 4, 1515: 4, 1533: 1, 1535: 6, 1544: 7, 1609: 2, 1646: 1, 1649: 4, 1711: 1, 1712: 2, 1722: 39, 1776: 3, 1796: 1, 1842: 1, 1877: 9, 1887: 8, 1893: 3, 1909: 3, 1924: 2, 1927: 14, 1932: 4, 1968: 2, 1969: 2, 1982: 1, 2029: 2, 2079: 4, 2088: 26, 2096: 6, 2108: 2, 2109: 13, 2110: 1, 2183: 6, 2240: 1, 2261: 2, 2316: 2, 2371: 1, 2381: 3, 2392: 1, 2418: 2, 2464: 1, 2532: 2, 2553: 3, 2590: 1, 2599: 2, 2606: 1, 2640: 2, 2655: 4, 2736: 3, 2802: 1, 2806: 1, 2815: 1, 2852: 5, 2879: 1, 2880: 1, 2892: 3, 2898: 1, 2918: 32, 2936: 4, 3059: 1, 3083: 1, 3117: 8, 3128: 7, 3195: 1, 3263: 5, 3265: 4, 3272: 8, 3295: 3, 3306: 1, 3342: 3, 3360: 17, 3489: 1, 3543: 7, 3555: 1, 3566: 2, 3593: 1, 3594: 2, 3754: 3, 3831: 4, 3838: 7, 3844: 2, 3846: 1, 3912: 10, 3930: 3, 3952: 6, 3965: 7, 3989: 3, 4017: 5, 4099: 9, 4118: 2, 4125: 3, 4175: 1, 4197: 2, 4198: 1, 4208: 2, 4223: 1, 4245: 9, 4253: 54, 4256: 2, 4270: 1, 4279: 1, 4280: 1, 4300: 8, 4310: 26, 4313: 1, 4372: 1, 4443: 4, 4488: 2, 4516: 2, 4527: 2, 4532: 2, 4551: 1, 4574: 2, 4596: 4, 4613: 1, 4655: 2, 4708: 1, 4714: 1, 4743: 1, 4787: 3, 4835: 1, 4837: 2, 4853: 3, 4860: 1, 4877: 3, 4895: 2, 4927: 19, 4932: 5, 4933: 4, 4959: 17, 4993: 1, 5043: 3, 5051: 1, 5066: 4, 5079: 2, 5080: 7, 5081: 6, 5082: 2, 5083: 1, 5112: 3, 5125: 4, 5192: 1, 5193: 3, 5232: 4, 5301: 1, 5355: 6, 5408: 8, 5443: 4, 5465: 2, 5493: 2, 5494: 3, 5518: 10, 5535: 7, 5560: 1, 5606: 3, 5654: 2, 5705: 1, 5759: 7, 5779: 26, 5788: 7, 5794: 1, 5823: 2, 5825: 4, 5868: 2, 5887: 4, 5918: 7, 5929: 16, 5945: 3, 5946: 3, 5970: 1, 6011: 56, 6016: 6, 6063: 9, 6064: 27, 6065: 3, 6119: 3, 6155: 2, 6219: 3, 6237: 64, 6276: 1, 6279: 6, 6308: 3, 6323: 7, 6378: 9, 6403: 10, 6413: 5, 6430: 2, 6447: 104, 6479: 1, 6563: 2, 6642: 72, 6645: 1, 6655: 1, 6671: 8, 6762: 4, 6813: 2, 6875: 8, 6876: 5, 6917: 2, 6930: 1, 7009: 2, 7029: 1, 7051: 13, 7056: 4, 7057: 3, 7059: 2, 7070: 2, 7108: 105, 7144: 1, 7171: 4, 7177: 348, 7210: 1, 7240: 2, 7245: 44, 7262: 2, 7282: 2, 7305: 8, 7308: 10, 7313: 3, 7320: 3, 7336: 2, 7352: 4, 7380: 6, 7393: 1, 7470: 1, 7481: 2, 7487: 3, 7501: 8, 7593: 1, 7712: 1, 7776: 5, 7783: 4, 7807: 4, 7837: 5, 7839: 1, 7868: 5, 8022: 5, 8031: 4, 8091: 1, 8179: 3, 8225: 1, 8232: 1, 8249: 3, 8260: 4, 8294: 4, 8329: 1, 8335: 2, 8358: 2, 8388: 6, 8409: 2, 8426: 3, 8476: 4, 8493: 2, 8497: 4, 8519: 4, 8607: 8, 8629: 2, 8639: 11, 8655: 8, 8702: 1, 8723: 1, 8744: 98, 8749: 3, 8754: 6, 8833: 3, 8874: 3, 8889: 2, 8900: 12, 9017: 2, 9031: 2, 9083: 1, 9108: 2, 9117: 8, 9146: 15, 9169: 9, 9172: 7, 9199: 6, 9202: 4, 9217: 4, 9221: 1, 9230: 3, 9265: 10, 9294: 3, 9312: 2, 9349: 67, 9367: 1, 9377: 3, 9389: 2, 9390: 17, 9404: 5, 9444: 3, 9448: 2, 9495: 3, 9510: 2, 9555: 4, 9569: 2, 9598: 1, 9606: 7, 9668: 19, 9675: 4, 9678: 2, 9680: 2, 9681: 2, 9682: 11, 9699: 102, 9746: 2, 9763: 2, 9792: 9, 9794: 12, 9819: 6, 9823: 1, 9864: 3, 9968: 5, 9990: 4, 10054: 1, 10055: 4, 10056: 3, 10063: 2, 10101: 5, 10143: 2, 10193: 4, 10300: 1, 10302: 3, 10321: 2, 10345: 2, 10348: 2, 10383: 40, 10428: 2, 10564: 3, 10623: 1, 10661: 3, 10668: 5, 10691: 6, 10698: 2, 10741: 2, 10774: 10, 10796: 2, 10817: 5, 10841: 2, 10855: 4, 10889: 115, 10909: 2, 10939: 1, 10951: 2, 10972: 1, 10981: 3, 11021: 2, 11025: 1, 11078: 2, 11130: 1, 11153: 20, 11183: 4, 11195: 4, 11291: 2, 11307: 1, 11360: 1, 11400: 1, 11408: 1, 11473: 4, 11486: 2, 11584: 2, 11629: 174, 11658: 3, 11730: 3, 11783: 2, 11820: 3, 11856: 1, 11876: 2, 11904: 2, 11983: 8, 12030: 8, 12035: 4, 12056: 1, 12115: 1, 12203: 1, 12244: 3, 12289: 67, 12356: 2, 12369: 3, 12371: 2, 12414: 1, 12419: 5, 12462: 1, 12472: 2, 12576: 1, 12584: 1, 12592: 3, 12609: 3, 12610: 4, 12624: 1, 12787: 1, 12798: 3, 12815: 50, 12865: 6, 12875: 6, 12898: 2, 12917: 8, 12929: 3, 12954: 14, 12960: 1, 13013: 4, 13026: 3, 13040: 7, 13054: 8, 13104: 6, 13114: 4, 13124: 3, 13154: 3, 13219: 7, 13255: 2, 13284: 13, 13312: 7, 13343: 6, 13367: 22, 13404: 2, 13433: 1, 13469: 2, 13518: 56, 13579: 17, 13594: 2, 13690: 3, 13701: 3, 13718: 6, 13775: 3, 13795: 9, 13822: 5, 13868: 66, 13907: 3, 13908: 4, 13918: 1, 13927: 2, 13934: 3, 13936: 4, 13937: 6, 13938: 2, 13943: 1, 13987: 4, 14010: 127, 14014: 5, 14017: 2, 14046: 2, 14120: 1, 14213: 2, 14231: 7, 14235: 1, 14236: 3, 14256: 6, 14279: 3, 14390: 4, 14413: 1, 14454: 37, 14504: 2, 14533: 1, 14536: 5, 14567: 1, 14594: 4, 14599: 1, 14752: 1, 14793: 1, 14805: 6, 14868: 3, 14878: 2, 14882: 12, 14890: 1, 14897: 12, 14907: 5, 14914: 2, 14922: 1, 14969: 26, 15043: 7, 15069: 1, 15113: 10, 15118: 1, 15142: 3, 15267: 1, 15324: 6, 15333: 2, 15346: 2, 15361: 1, 15428: 5, 15437: 1, 15442: 1, 15451: 1, 15519: 5, 15520: 1, 15545: 4, 15615: 3, 15687: 3, 15717: 4, 15722: 2, 15798: 6, 15832: 4, 16014: 2, 16167: 2, 16182: 6, 16183: 5, 16246: 2, 16266: 4, 16331: 2, 16379: 3, 16468: 10, 16475: 1}\n",
      "Player who changes the most: 12988\n",
      "------------------------------------------------------------------------------------------------------------------\n",
      "Count of players who increase_maxbet : 1192\n",
      "Count of times each player increase_maxbet : {33: 2, 199: 2, 224: 14, 795: 23, 865: 9, 982: 10, 1008: 382, 1013: 1, 1035: 3, 1036: 4, 1141: 16, 1171: 54, 1233: 6, 1234: 1, 1331: 13, 1483: 8, 1496: 27, 1513: 8, 2044: 9, 2065: 12, 2073: 3, 2319: 52, 2368: 7, 2768: 5, 2950: 89, 3283: 2, 3399: 210, 3436: 23, 3546: 19, 3749: 2, 4067: 10, 4106: 19, 4265: 20, 4333: 10, 4483: 15, 4758: 3, 4819: 10, 4971: 19, 5046: 34, 5334: 147, 5561: 1, 5563: 99, 5673: 9, 5676: 209, 5692: 22, 5822: 441, 6018: 15, 6053: 2, 6194: 4, 6232: 4, 6451: 1, 6498: 21, 6708: 10, 6719: 8, 6720: 13, 6760: 1, 6767: 2, 6769: 5, 6838: 4, 6908: 6, 7058: 39, 7100: 20, 7122: 8, 7257: 7, 7695: 17, 7967: 2, 8116: 209, 8220: 5, 8384: 4, 8385: 6, 8412: 7, 8467: 1, 8647: 13, 8648: 85, 8968: 21, 8978: 11, 9087: 11, 9138: 49, 9269: 18, 9372: 12, 9382: 7, 9383: 7, 9396: 26, 9434: 17, 9570: 18, 9640: 131, 9788: 762, 10106: 16, 10177: 4, 10638: 5, 10671: 2, 10711: 5, 10747: 9, 10851: 174, 11075: 11, 11197: 19, 11283: 15, 11437: 5, 11704: 8, 12034: 541, 12288: 6, 12559: 432, 12682: 13, 12735: 23, 12854: 2, 12857: 4, 12885: 5, 12988: 5, 13254: 11, 13383: 31, 13394: 11, 13425: 35, 13714: 2, 13941: 2, 13942: 11, 14611: 2, 14823: 12, 14965: 3, 14995: 1, 15003: 2, 15193: 80, 15307: 10, 15339: 6, 38: 4, 44: 2, 93: 17, 94: 4, 120: 12, 351: 8, 361: 6, 435: 5, 450: 8, 606: 1, 652: 6, 659: 3, 673: 2, 682: 16, 701: 2, 731: 5, 861: 1, 878: 5, 931: 12, 956: 1, 996: 19, 1016: 12, 1017: 2, 1025: 11, 1123: 189, 1127: 90, 1147: 7, 1177: 5, 1220: 3, 1221: 2, 1228: 1, 1243: 2, 1259: 3, 1269: 3, 1275: 2, 1296: 1, 1363: 1, 1400: 3, 1486: 4, 1495: 3, 1512: 6, 1546: 16, 1583: 1, 1624: 8, 1642: 1, 1695: 4, 1705: 3, 1729: 16, 1737: 8, 1755: 7, 1757: 20, 1853: 6, 1869: 10, 1888: 4, 1913: 8, 1925: 11, 1931: 36, 2020: 8, 2045: 5, 2054: 2, 2132: 11, 2162: 49, 2189: 11, 2208: 1, 2247: 8, 2282: 2, 2290: 4, 2331: 18, 2332: 5, 2459: 148, 2479: 7, 2554: 4, 2569: 4, 2575: 1, 2647: 16, 2648: 2, 2681: 59, 2745: 7, 2809: 4, 2906: 4, 2912: 4, 2943: 1, 2945: 6, 2954: 2, 3010: 3, 3012: 5, 3014: 1, 3058: 5, 3236: 1, 3260: 16, 3303: 72, 3353: 14, 3368: 5, 3370: 3, 3385: 12, 3434: 1, 3487: 13, 3514: 5, 3588: 206, 3613: 4, 3635: 1, 3641: 2, 3651: 3, 3677: 12, 3682: 8, 3689: 2, 3708: 12, 3726: 1, 3766: 6, 3794: 4, 3819: 3, 3837: 5, 3911: 13, 3935: 35, 3948: 6, 3954: 17, 4029: 110, 4053: 1, 4065: 2, 4069: 14, 4083: 5, 4084: 1, 4094: 4, 4148: 17, 4228: 6, 4285: 9, 4328: 7, 4356: 1, 4503: 10, 4590: 8, 4630: 2, 4688: 5, 4717: 2, 4729: 5, 4751: 3, 4759: 4, 4848: 3, 4913: 2, 4918: 1, 4961: 8, 5025: 1, 5040: 2, 5042: 5, 5074: 11, 5103: 9, 5108: 5, 5109: 2, 5136: 3, 5175: 3, 5179: 27, 5231: 2, 5336: 4, 5412: 13, 5437: 1, 5454: 17, 5455: 12, 5525: 6, 5543: 6, 5700: 5, 5710: 2, 5719: 4, 5801: 2, 5807: 2, 5826: 9, 5829: 14, 5863: 1, 5867: 3, 5933: 195, 5936: 268, 5969: 10, 6001: 2, 6020: 3, 6028: 7, 6041: 1, 6042: 2, 6080: 2, 6103: 10, 6116: 9, 6132: 8, 6137: 4, 6154: 4, 6186: 15, 6189: 8, 6244: 3, 6271: 2, 6280: 89, 6284: 16, 6290: 3, 6335: 1, 6342: 6, 6435: 1, 6452: 4, 6456: 1, 6502: 233, 6503: 2, 6540: 18, 6596: 26, 6615: 154, 6617: 1, 6687: 2, 6709: 9, 6828: 56, 6894: 10, 6897: 1, 6909: 2, 6910: 4, 7031: 7, 7060: 9, 7069: 1, 7113: 4, 7123: 12, 7124: 17, 7127: 3, 7181: 10, 7216: 7, 7218: 5, 7219: 8, 7246: 3, 7297: 1, 7322: 4, 7377: 35, 7390: 1, 7396: 2, 7464: 12, 7472: 7, 7476: 4, 7485: 6, 7512: 5, 7517: 15, 7667: 10, 7693: 5, 7699: 5, 7818: 11, 7828: 1, 7847: 5, 7912: 8, 7966: 4, 8005: 1, 8012: 1, 8044: 2, 8088: 5, 8103: 8, 8115: 8, 8139: 253, 8172: 5, 8207: 1, 8248: 7, 8268: 1, 8271: 332, 8278: 16, 8353: 5, 8383: 33, 8468: 8, 8498: 19, 8561: 16, 8614: 14, 8649: 131, 8652: 458, 8654: 4, 8716: 5, 8783: 3, 8881: 3, 8896: 3, 8899: 6, 8913: 34, 9091: 1, 9094: 60, 9104: 8, 9120: 5, 9143: 1, 9144: 11, 9165: 6, 9197: 4, 9225: 17, 9236: 47, 9239: 1, 9278: 17, 9310: 85, 9313: 7, 9319: 4, 9361: 6, 9379: 5, 9468: 13, 9483: 4, 9493: 133, 9496: 4, 9507: 3, 9508: 7, 9557: 3, 9653: 5, 9663: 7, 9669: 1, 9670: 52, 9677: 4, 9725: 7, 9824: 10, 10069: 4, 10073: 6, 10079: 3, 10112: 1, 10116: 19, 10223: 11, 10236: 69, 10288: 4, 10312: 9, 10325: 8, 10359: 5, 10396: 2, 10433: 139, 10470: 6, 10528: 2, 10532: 2, 10533: 3, 10566: 12, 10598: 5, 10639: 3, 10655: 2, 10656: 5, 10699: 2, 10738: 3, 10802: 6, 10883: 9, 10897: 5, 10986: 3, 11023: 8, 11036: 2, 11046: 9, 11095: 4, 11135: 2, 11182: 4, 11221: 1, 11227: 6, 11297: 4, 11364: 3, 11395: 42, 11427: 5, 11447: 4, 11506: 7, 11533: 2, 11614: 20, 11624: 26, 11703: 23, 11796: 3, 11804: 8, 11805: 8, 11821: 46, 11844: 111, 11871: 2, 11875: 4, 12006: 4, 12007: 5, 12043: 4, 12148: 3, 12169: 1, 12236: 7, 12256: 6, 12257: 3, 12277: 32, 12278: 32, 12299: 1, 12384: 20, 12412: 2, 12413: 15, 12417: 1, 12428: 2, 12437: 3, 12441: 6, 12511: 9, 12516: 41, 12564: 9, 12625: 1, 12650: 6, 12684: 4, 12692: 7, 12695: 2, 12715: 6, 12751: 8, 12758: 8, 12778: 9, 12795: 1, 12800: 27, 12818: 3, 12840: 5, 12895: 2, 12930: 4, 12939: 3, 12970: 5, 12979: 9, 12995: 2, 12997: 3, 13014: 1, 13021: 12, 13196: 3, 13204: 6, 13222: 2, 13292: 124, 13298: 4, 13311: 3, 13375: 7, 13396: 9, 13424: 6, 13452: 5, 13454: 5, 13455: 2, 13505: 5, 13561: 6, 13569: 3, 13592: 7, 13597: 2, 13639: 188, 13692: 1, 13754: 3, 13765: 8, 13781: 1, 13810: 10, 13834: 3, 13866: 2, 13944: 8, 13948: 9, 13968: 1, 13978: 1, 14012: 12, 14013: 10, 14025: 34, 14038: 203, 14041: 6, 14123: 2, 14128: 6, 14159: 4, 14228: 2, 14247: 10, 14309: 4, 14387: 19, 14494: 4, 14495: 10, 14548: 8, 14681: 7, 14694: 289, 14745: 244, 14766: 9, 14778: 11, 14824: 2, 14833: 3, 14888: 3, 14898: 24, 15039: 10, 15058: 5, 15121: 14, 15141: 1, 15163: 12, 15168: 158, 15179: 5, 15231: 3, 15249: 5, 15290: 8, 15311: 6, 15319: 4, 15340: 7, 15455: 6, 15474: 4, 15547: 4, 15584: 3, 15596: 3, 15630: 1, 15639: 4, 15736: 3, 15773: 13, 15854: 6, 15926: 3, 16062: 8, 16139: 2, 16176: 1, 16177: 4, 16181: 7, 16350: 4, 16354: 5, 16368: 24, 48: 83, 66: 3, 136: 3, 202: 1, 263: 2, 287: 3, 332: 3, 460: 2, 614: 1, 653: 2, 668: 5, 680: 3, 687: 6, 738: 2, 788: 194, 791: 2, 803: 4, 848: 4, 859: 3, 889: 2, 915: 10, 940: 3, 950: 5, 979: 2, 1018: 1, 1023: 1, 1032: 1, 1068: 2, 1069: 2, 1092: 5, 1122: 4, 1136: 3, 1358: 5, 1387: 1, 1398: 36, 1410: 312, 1446: 2, 1448: 5, 1457: 1, 1476: 4, 1515: 4, 1533: 4, 1535: 10, 1544: 10, 1604: 3, 1609: 3, 1646: 1, 1649: 8, 1697: 2, 1711: 1, 1712: 1, 1722: 40, 1776: 5, 1796: 2, 1842: 1, 1877: 6, 1887: 10, 1890: 1, 1893: 7, 1909: 4, 1924: 2, 1927: 15, 1932: 10, 1968: 4, 1969: 4, 1982: 1, 2079: 2, 2088: 27, 2096: 15, 2108: 7, 2109: 12, 2110: 2, 2183: 13, 2197: 1, 2240: 4, 2261: 4, 2371: 1, 2381: 7, 2392: 5, 2418: 6, 2464: 16, 2553: 4, 2568: 5, 2590: 2, 2599: 4, 2606: 74, 2640: 3, 2655: 5, 2736: 5, 2802: 1, 2806: 14, 2815: 4, 2852: 10, 2879: 3, 2880: 1, 2892: 4, 2898: 2, 2918: 29, 2936: 6, 3059: 3, 3115: 4, 3117: 11, 3128: 8, 3199: 33, 3245: 2, 3263: 3, 3265: 3, 3272: 10, 3295: 5, 3306: 6, 3342: 5, 3360: 13, 3378: 1, 3489: 2, 3519: 2, 3543: 8, 3555: 3, 3566: 4, 3593: 1, 3594: 1, 3754: 4, 3831: 8, 3838: 7, 3844: 2, 3846: 1, 3912: 17, 3930: 10, 3952: 5, 3965: 10, 3989: 4, 4017: 5, 4032: 2, 4050: 5, 4071: 141, 4086: 2, 4099: 14, 4125: 2, 4175: 2, 4197: 5, 4198: 2, 4208: 5, 4216: 1, 4223: 10, 4245: 9, 4253: 54, 4256: 4, 4270: 1, 4300: 8, 4310: 2, 4313: 4, 4372: 2, 4443: 8, 4455: 3, 4488: 2, 4516: 3, 4527: 4, 4532: 3, 4551: 2, 4574: 3, 4582: 2, 4596: 9, 4655: 4, 4708: 2, 4714: 1, 4743: 8, 4787: 4, 4835: 3, 4837: 3, 4853: 1, 4860: 2, 4877: 8, 4895: 5, 4927: 2, 4932: 7, 4933: 6, 4993: 1, 5036: 3, 5043: 5, 5051: 1, 5066: 14, 5079: 2, 5080: 8, 5081: 10, 5082: 3, 5083: 2, 5112: 4, 5124: 8, 5125: 5, 5192: 1, 5193: 2, 5232: 3, 5301: 2, 5307: 63, 5355: 5, 5408: 14, 5443: 5, 5465: 5, 5493: 2, 5494: 2, 5518: 11, 5535: 6, 5606: 12, 5654: 4, 5705: 2, 5748: 2, 5759: 16, 5779: 25, 5788: 1, 5794: 1, 5808: 1, 5823: 2, 5868: 3, 5887: 5, 5918: 9, 5929: 27, 5945: 10, 5946: 5, 5970: 1, 6011: 60, 6016: 9, 6063: 6, 6064: 26, 6065: 4, 6096: 1, 6119: 3, 6155: 2, 6219: 2, 6237: 64, 6256: 1, 6276: 2, 6279: 9, 6323: 6, 6378: 11, 6403: 13, 6413: 2, 6430: 8, 6445: 1, 6479: 1, 6563: 4, 6614: 149, 6642: 72, 6645: 1, 6655: 3, 6671: 1, 6762: 2, 6799: 4, 6813: 3, 6875: 14, 6876: 10, 6916: 1, 6917: 5, 6930: 5, 6938: 6, 7009: 3, 7029: 4, 7051: 3, 7056: 14, 7057: 5, 7059: 1, 7070: 5, 7108: 83, 7144: 2, 7171: 4, 7177: 348, 7210: 3, 7240: 2, 7245: 41, 7262: 5, 7282: 3, 7305: 14, 7308: 10, 7313: 2, 7320: 12, 7336: 2, 7352: 10, 7380: 8, 7393: 2, 7470: 4, 7481: 3, 7487: 50, 7501: 5, 7593: 6, 7600: 1, 7654: 2, 7658: 3, 7683: 5, 7712: 21, 7783: 4, 7807: 9, 7837: 8, 7839: 10, 7868: 8, 7890: 3, 8022: 3, 8031: 6, 8089: 3, 8091: 2, 8179: 3, 8225: 1, 8232: 1, 8249: 6, 8260: 9, 8294: 4, 8329: 3, 8335: 4, 8358: 9, 8388: 3, 8409: 1, 8426: 12, 8464: 4, 8476: 4, 8493: 7, 8497: 2, 8519: 5, 8538: 3, 8607: 5, 8629: 4, 8639: 16, 8655: 13, 8702: 3, 8723: 4, 8744: 101, 8749: 3, 8754: 5, 8773: 1, 8833: 6, 8874: 1, 8889: 20, 8900: 9, 9017: 10, 9028: 1, 9031: 3, 9074: 2, 9083: 2, 9108: 6, 9117: 6, 9123: 2, 9146: 10, 9169: 6, 9172: 6, 9199: 3, 9202: 3, 9217: 7, 9221: 1, 9229: 1, 9230: 10, 9244: 1, 9265: 14, 9273: 3, 9294: 5, 9312: 1, 9349: 75, 9367: 5, 9377: 3, 9389: 7, 9391: 8, 9404: 6, 9424: 2, 9444: 6, 9448: 6, 9495: 5, 9510: 2, 9555: 8, 9569: 7, 9598: 5, 9606: 1, 9668: 19, 9675: 1, 9678: 2, 9680: 5, 9681: 2, 9682: 9, 9699: 92, 9755: 4, 9763: 2, 9792: 5, 9794: 16, 9819: 10, 9823: 1, 9864: 3, 9968: 2, 9990: 8, 10054: 2, 10055: 6, 10056: 5, 10063: 3, 10101: 3, 10143: 2, 10156: 1, 10193: 1, 10283: 1, 10300: 1, 10302: 7, 10321: 1, 10383: 21, 10428: 2, 10503: 1, 10564: 1, 10623: 2, 10661: 3, 10668: 16, 10691: 6, 10698: 2, 10741: 5, 10774: 5, 10793: 7, 10796: 3, 10817: 64, 10841: 4, 10855: 5, 10889: 118, 10909: 3, 10939: 89, 10951: 6, 10972: 2, 10981: 2, 11021: 2, 11025: 10, 11078: 2, 11121: 3, 11130: 9, 11153: 198, 11183: 1, 11195: 11, 11234: 1, 11291: 5, 11307: 2, 11360: 9, 11400: 3, 11408: 2, 11473: 7, 11477: 5, 11486: 2, 11645: 6, 11652: 2, 11658: 60, 11730: 15, 11780: 2, 11783: 3, 11820: 5, 11856: 1, 11876: 3, 11904: 3, 11983: 14, 12030: 5, 12035: 5, 12056: 4, 12115: 4, 12133: 2, 12203: 1, 12244: 10, 12270: 2, 12289: 12, 12356: 173, 12369: 4, 12371: 2, 12419: 7, 12472: 6, 12576: 1, 12584: 5, 12592: 2, 12609: 3, 12610: 3, 12624: 1, 12729: 4, 12787: 2, 12798: 2, 12815: 45, 12865: 8, 12875: 6, 12898: 3, 12917: 5, 12929: 3, 12954: 6, 12960: 7, 13013: 9, 13026: 14, 13040: 13, 13054: 16, 13104: 7, 13114: 4, 13124: 4, 13154: 2, 13219: 20, 13255: 1, 13284: 23, 13312: 4, 13343: 11, 13367: 7, 13404: 2, 13420: 1, 13433: 1, 13518: 99, 13579: 16, 13594: 7, 13655: 143, 13682: 1, 13690: 8, 13701: 4, 13718: 4, 13753: 2, 13775: 5, 13795: 13, 13799: 1, 13822: 6, 13868: 95, 13895: 7, 13907: 2, 13908: 2, 13918: 1, 13927: 3, 13934: 3, 13936: 3, 13937: 2, 13938: 3, 13943: 3, 13987: 8, 14010: 127, 14014: 10, 14017: 2, 14046: 3, 14120: 2, 14213: 8, 14231: 10, 14235: 4, 14236: 4, 14256: 4, 14279: 9, 14362: 1, 14372: 5, 14390: 6, 14445: 1, 14454: 81, 14504: 1, 14533: 2, 14536: 6, 14567: 1, 14594: 6, 14599: 2, 14639: 5, 14752: 2, 14793: 1, 14805: 10, 14878: 14, 14882: 6, 14885: 1, 14890: 5, 14897: 18, 14907: 8, 14914: 4, 14922: 4, 14969: 5, 15043: 4, 15069: 3, 15080: 1, 15113: 25, 15118: 2, 15142: 5, 15324: 9, 15333: 3, 15346: 7, 15361: 3, 15428: 1, 15437: 2, 15442: 2, 15451: 2, 15465: 6, 15484: 1, 15519: 6, 15520: 2, 15540: 2, 15545: 5, 15615: 6, 15687: 4, 15717: 4, 15722: 4, 15777: 6, 15798: 5, 15832: 10, 16014: 5, 16126: 3, 16167: 1, 16182: 10, 16183: 4, 16235: 2, 16243: 54, 16246: 5, 16266: 3, 16331: 3, 16379: 2, 16468: 2, 16475: 1}\n",
      "Player who changes the most: 9788\n",
      "------------------------------------------------------------------------------------------------------------------\n",
      "Count of players who decrease_maxbet : 1183\n",
      "Count of times each player decrease_maxbet : {33: 4, 199: 1, 224: 15, 795: 23, 865: 11, 982: 6, 1008: 382, 1013: 1, 1035: 3, 1036: 4, 1141: 18, 1171: 53, 1233: 6, 1234: 1, 1331: 13, 1483: 5, 1496: 28, 1513: 7, 2044: 13, 2065: 15, 2073: 3, 2319: 50, 2368: 5, 2768: 6, 2950: 99, 3283: 4, 3399: 204, 3436: 29, 3546: 25, 3749: 4, 3825: 1, 4067: 11, 4106: 19, 4265: 16, 4333: 16, 4483: 12, 4758: 2, 4819: 9, 4971: 21, 5046: 32, 5334: 148, 5561: 1, 5563: 96, 5673: 9, 5676: 215, 5692: 21, 5822: 447, 6018: 15, 6053: 2, 6194: 7, 6232: 4, 6451: 1, 6498: 20, 6708: 11, 6719: 8, 6720: 11, 6760: 1, 6767: 2, 6769: 7, 6838: 3, 6908: 5, 7058: 42, 7100: 15, 7122: 5, 7257: 6, 7695: 11, 7967: 2, 8116: 209, 8220: 5, 8384: 3, 8385: 5, 8412: 9, 8467: 1, 8647: 10, 8648: 59, 8968: 22, 8978: 8, 9087: 13, 9138: 41, 9222: 1, 9269: 15, 9372: 14, 9382: 9, 9383: 10, 9396: 27, 9434: 17, 9570: 18, 9640: 130, 9788: 761, 10106: 9, 10177: 4, 10638: 6, 10671: 1, 10711: 4, 10747: 9, 10851: 174, 11075: 11, 11197: 18, 11283: 13, 11437: 6, 11704: 7, 12034: 537, 12288: 6, 12559: 428, 12682: 13, 12735: 30, 12854: 1, 12857: 4, 12885: 5, 12988: 3, 13254: 13, 13383: 31, 13394: 12, 13425: 35, 13714: 3, 13941: 2, 13942: 9, 14611: 3, 14823: 11, 14965: 3, 14995: 1, 15003: 1, 15193: 81, 15307: 8, 15339: 6, 38: 5, 44: 3, 93: 16, 94: 4, 120: 10, 351: 9, 361: 6, 435: 6, 450: 9, 606: 1, 652: 3, 659: 2, 673: 2, 682: 18, 701: 1, 731: 4, 861: 1, 878: 7, 931: 11, 956: 4, 996: 16, 1016: 10, 1017: 1, 1025: 11, 1123: 190, 1127: 89, 1147: 4, 1177: 5, 1220: 4, 1221: 5, 1228: 1, 1243: 1, 1259: 2, 1269: 3, 1275: 2, 1296: 1, 1363: 1, 1400: 1, 1486: 4, 1495: 2, 1512: 7, 1546: 16, 1583: 3, 1624: 10, 1625: 1, 1642: 1, 1695: 5, 1705: 2, 1729: 16, 1737: 7, 1755: 7, 1757: 19, 1853: 5, 1869: 11, 1888: 4, 1913: 7, 1925: 10, 1931: 34, 2020: 10, 2045: 4, 2054: 3, 2132: 19, 2162: 49, 2189: 11, 2208: 1, 2247: 8, 2282: 2, 2290: 3, 2331: 19, 2332: 3, 2459: 148, 2479: 5, 2554: 5, 2569: 3, 2575: 1, 2647: 15, 2648: 2, 2681: 60, 2745: 6, 2809: 7, 2906: 4, 2912: 3, 2943: 2, 2945: 4, 2954: 2, 3010: 2, 3012: 3, 3014: 1, 3058: 6, 3236: 1, 3260: 16, 3303: 74, 3353: 12, 3368: 9, 3370: 5, 3385: 12, 3434: 3, 3467: 2, 3487: 10, 3514: 4, 3588: 206, 3613: 3, 3641: 1, 3651: 3, 3677: 13, 3682: 10, 3689: 4, 3708: 8, 3726: 1, 3766: 7, 3794: 5, 3819: 2, 3837: 5, 3911: 13, 3935: 35, 3948: 7, 3954: 12, 4029: 110, 4053: 1, 4065: 2, 4069: 14, 4083: 4, 4084: 2, 4094: 5, 4148: 17, 4228: 4, 4285: 6, 4328: 4, 4356: 1, 4503: 10, 4590: 7, 4630: 1, 4688: 6, 4717: 1, 4729: 4, 4751: 3, 4759: 3, 4848: 2, 4913: 2, 4918: 1, 4961: 7, 5025: 3, 5040: 2, 5042: 5, 5074: 10, 5103: 9, 5108: 2, 5109: 2, 5136: 4, 5175: 4, 5179: 20, 5231: 2, 5336: 4, 5412: 10, 5437: 1, 5454: 17, 5455: 14, 5525: 5, 5543: 6, 5700: 5, 5710: 4, 5719: 4, 5801: 3, 5807: 2, 5826: 9, 5829: 16, 5863: 1, 5867: 3, 5933: 197, 5936: 265, 5969: 13, 6001: 3, 6020: 1, 6028: 5, 6080: 2, 6103: 13, 6116: 10, 6132: 6, 6137: 3, 6154: 3, 6186: 13, 6189: 5, 6244: 4, 6271: 2, 6280: 89, 6284: 15, 6290: 3, 6335: 2, 6342: 9, 6435: 1, 6452: 7, 6502: 235, 6503: 2, 6540: 20, 6596: 20, 6615: 155, 6617: 1, 6687: 3, 6695: 1, 6709: 5, 6828: 54, 6894: 10, 6897: 2, 6909: 2, 6910: 4, 7031: 5, 7060: 8, 7069: 1, 7113: 2, 7123: 12, 7124: 15, 7127: 3, 7181: 7, 7216: 6, 7218: 6, 7219: 7, 7246: 3, 7322: 5, 7377: 33, 7396: 2, 7464: 12, 7472: 4, 7476: 4, 7485: 4, 7512: 4, 7517: 14, 7667: 10, 7693: 7, 7699: 6, 7818: 15, 7828: 2, 7847: 2, 7912: 8, 7966: 3, 8005: 1, 8012: 1, 8044: 3, 8088: 6, 8103: 10, 8115: 8, 8139: 254, 8172: 4, 8207: 1, 8248: 7, 8271: 331, 8278: 17, 8353: 8, 8383: 30, 8468: 5, 8498: 20, 8561: 15, 8614: 17, 8649: 131, 8652: 458, 8654: 6, 8716: 2, 8783: 4, 8881: 4, 8896: 5, 8899: 7, 8913: 32, 9091: 2, 9094: 61, 9104: 9, 9120: 4, 9143: 1, 9144: 14, 9165: 4, 9197: 4, 9225: 14, 9236: 46, 9239: 2, 9256: 1, 9278: 15, 9310: 83, 9313: 9, 9319: 7, 9361: 6, 9379: 4, 9468: 12, 9483: 4, 9493: 131, 9496: 1, 9507: 2, 9508: 5, 9557: 3, 9653: 4, 9663: 4, 9669: 2, 9670: 51, 9677: 6, 9725: 8, 9824: 10, 10069: 5, 10073: 3, 10079: 3, 10112: 2, 10116: 12, 10175: 1, 10223: 13, 10236: 70, 10288: 4, 10312: 7, 10325: 8, 10359: 5, 10396: 3, 10433: 137, 10470: 7, 10528: 2, 10532: 1, 10533: 3, 10566: 11, 10598: 4, 10639: 4, 10655: 1, 10656: 6, 10699: 2, 10738: 4, 10802: 6, 10859: 1, 10883: 8, 10897: 3, 10986: 4, 11023: 10, 11036: 2, 11046: 11, 11095: 5, 11135: 2, 11182: 5, 11227: 4, 11297: 5, 11364: 2, 11395: 42, 11405: 1, 11427: 8, 11447: 4, 11485: 1, 11506: 8, 11533: 1, 11614: 15, 11624: 20, 11703: 22, 11796: 3, 11804: 5, 11805: 7, 11821: 44, 11844: 105, 11871: 3, 11875: 5, 12006: 4, 12007: 4, 12043: 4, 12148: 2, 12169: 1, 12236: 8, 12256: 4, 12257: 2, 12277: 34, 12278: 30, 12299: 2, 12384: 17, 12412: 2, 12413: 15, 12417: 1, 12428: 5, 12437: 3, 12441: 7, 12511: 7, 12516: 43, 12564: 10, 12650: 4, 12684: 1, 12692: 6, 12695: 1, 12715: 8, 12751: 8, 12758: 10, 12778: 10, 12800: 28, 12818: 3, 12840: 7, 12895: 1, 12930: 3, 12939: 4, 12970: 3, 12979: 12, 12995: 3, 12997: 2, 13014: 1, 13021: 11, 13196: 2, 13204: 8, 13222: 2, 13292: 125, 13298: 4, 13311: 1, 13375: 7, 13396: 13, 13424: 7, 13452: 5, 13454: 3, 13455: 1, 13505: 2, 13561: 4, 13569: 2, 13592: 7, 13597: 2, 13639: 190, 13692: 1, 13754: 3, 13765: 9, 13781: 3, 13810: 7, 13834: 3, 13835: 1, 13866: 2, 13944: 7, 13948: 7, 13978: 1, 14012: 16, 14013: 9, 14025: 32, 14038: 204, 14041: 5, 14123: 6, 14128: 4, 14159: 2, 14228: 2, 14247: 8, 14309: 6, 14387: 18, 14494: 5, 14495: 10, 14548: 7, 14681: 6, 14694: 288, 14745: 244, 14766: 9, 14778: 9, 14824: 2, 14833: 2, 14888: 2, 14898: 22, 15039: 8, 15058: 3, 15121: 14, 15141: 1, 15163: 10, 15168: 156, 15179: 5, 15231: 1, 15249: 10, 15290: 8, 15311: 5, 15319: 5, 15340: 9, 15455: 4, 15474: 3, 15547: 5, 15584: 2, 15596: 3, 15630: 1, 15639: 3, 15736: 1, 15773: 14, 15854: 4, 15926: 2, 16062: 11, 16139: 3, 16176: 2, 16177: 3, 16181: 8, 16354: 8, 16368: 23, 48: 83, 136: 3, 202: 2, 263: 3, 287: 5, 332: 3, 460: 1, 614: 1, 653: 1, 668: 5, 680: 3, 687: 7, 738: 2, 788: 196, 791: 1, 803: 5, 848: 5, 859: 2, 889: 1, 915: 9, 940: 7, 950: 4, 979: 2, 1018: 1, 1023: 2, 1032: 1, 1068: 3, 1069: 2, 1092: 3, 1122: 7, 1136: 2, 1358: 4, 1387: 1, 1398: 36, 1410: 313, 1446: 1, 1448: 4, 1457: 2, 1476: 5, 1515: 4, 1533: 3, 1535: 8, 1544: 11, 1604: 2, 1609: 3, 1646: 2, 1649: 4, 1697: 2, 1711: 2, 1712: 1, 1722: 43, 1776: 6, 1796: 3, 1842: 4, 1877: 7, 1887: 7, 1890: 1, 1893: 7, 1909: 5, 1924: 1, 1927: 14, 1932: 9, 1968: 5, 1969: 5, 1982: 1, 2079: 4, 2088: 26, 2096: 9, 2108: 8, 2109: 10, 2110: 2, 2183: 9, 2197: 1, 2240: 2, 2261: 3, 2371: 1, 2381: 8, 2392: 4, 2418: 7, 2464: 11, 2553: 3, 2568: 5, 2590: 1, 2599: 2, 2606: 74, 2640: 3, 2655: 5, 2736: 3, 2806: 14, 2815: 7, 2852: 9, 2879: 3, 2880: 1, 2892: 2, 2898: 1, 2918: 29, 2936: 8, 3059: 2, 3083: 1, 3115: 4, 3117: 11, 3119: 1, 3128: 7, 3199: 32, 3245: 2, 3263: 4, 3265: 2, 3272: 8, 3295: 5, 3306: 6, 3342: 6, 3360: 16, 3378: 2, 3489: 1, 3519: 2, 3543: 6, 3555: 3, 3566: 3, 3593: 2, 3594: 2, 3754: 3, 3831: 5, 3838: 7, 3844: 4, 3846: 1, 3912: 16, 3930: 7, 3952: 6, 3965: 10, 3989: 3, 4017: 4, 4032: 3, 4050: 3, 4071: 139, 4086: 3, 4099: 10, 4125: 3, 4175: 1, 4197: 5, 4198: 2, 4208: 6, 4216: 2, 4223: 8, 4245: 9, 4253: 54, 4256: 5, 4270: 1, 4300: 7, 4310: 3, 4313: 2, 4372: 3, 4443: 11, 4455: 3, 4488: 2, 4516: 2, 4527: 1, 4532: 3, 4551: 2, 4574: 2, 4582: 3, 4596: 5, 4655: 5, 4708: 2, 4714: 2, 4743: 8, 4787: 6, 4835: 4, 4837: 3, 4853: 2, 4860: 2, 4877: 6, 4895: 6, 4927: 5, 4932: 7, 4933: 6, 4959: 1, 4993: 2, 5036: 4, 5043: 5, 5051: 1, 5066: 15, 5079: 3, 5080: 12, 5081: 7, 5082: 5, 5083: 2, 5112: 4, 5124: 7, 5125: 5, 5192: 2, 5193: 1, 5232: 2, 5301: 5, 5307: 62, 5355: 6, 5408: 11, 5443: 4, 5465: 4, 5493: 1, 5494: 5, 5518: 10, 5535: 6, 5606: 11, 5654: 1, 5705: 2, 5748: 1, 5759: 19, 5779: 24, 5788: 1, 5794: 3, 5808: 1, 5823: 2, 5825: 1, 5868: 4, 5887: 4, 5918: 5, 5929: 23, 5945: 7, 5946: 6, 5970: 1, 6011: 61, 6016: 11, 6063: 7, 6064: 26, 6065: 5, 6096: 1, 6119: 3, 6155: 3, 6219: 1, 6237: 63, 6256: 1, 6276: 2, 6279: 9, 6323: 8, 6378: 8, 6403: 10, 6413: 1, 6430: 8, 6479: 1, 6563: 3, 6614: 149, 6642: 71, 6645: 1, 6655: 3, 6671: 1, 6752: 2, 6762: 3, 6799: 5, 6813: 4, 6875: 8, 6876: 8, 6917: 4, 6930: 3, 6938: 5, 7009: 3, 7029: 3, 7051: 3, 7056: 12, 7057: 6, 7059: 1, 7070: 5, 7108: 83, 7144: 4, 7171: 4, 7177: 348, 7210: 3, 7240: 3, 7245: 39, 7262: 7, 7282: 4, 7305: 15, 7308: 9, 7313: 2, 7320: 10, 7336: 1, 7352: 7, 7380: 9, 7393: 2, 7470: 4, 7481: 3, 7487: 48, 7501: 4, 7593: 4, 7654: 2, 7658: 2, 7683: 4, 7712: 19, 7783: 4, 7807: 12, 7837: 9, 7839: 5, 7868: 6, 7890: 5, 8022: 2, 8031: 3, 8089: 4, 8179: 4, 8225: 1, 8249: 7, 8260: 7, 8294: 4, 8329: 3, 8335: 3, 8358: 7, 8388: 3, 8409: 1, 8426: 9, 8464: 2, 8476: 4, 8493: 7, 8497: 2, 8519: 3, 8538: 3, 8607: 4, 8629: 3, 8639: 16, 8655: 10, 8702: 3, 8723: 3, 8744: 98, 8749: 2, 8754: 8, 8773: 3, 8833: 8, 8874: 1, 8889: 19, 8900: 7, 9017: 11, 9031: 3, 9074: 4, 9083: 3, 9108: 4, 9117: 8, 9123: 1, 9146: 11, 9169: 11, 9172: 6, 9199: 5, 9202: 3, 9217: 5, 9221: 1, 9229: 1, 9230: 10, 9244: 2, 9265: 13, 9273: 3, 9294: 4, 9349: 76, 9367: 4, 9377: 6, 9389: 12, 9390: 1, 9391: 5, 9404: 4, 9424: 3, 9444: 6, 9448: 6, 9495: 10, 9555: 9, 9569: 6, 9598: 2, 9606: 1, 9668: 19, 9678: 3, 9680: 2, 9681: 2, 9682: 11, 9699: 92, 9755: 4, 9763: 2, 9792: 7, 9794: 10, 9819: 6, 9823: 3, 9834: 1, 9864: 2, 9885: 2, 9968: 2, 9990: 10, 10054: 2, 10055: 8, 10056: 3, 10063: 1, 10101: 4, 10143: 3, 10193: 1, 10283: 1, 10300: 4, 10302: 8, 10321: 1, 10383: 20, 10428: 1, 10503: 1, 10623: 1, 10661: 4, 10668: 16, 10691: 5, 10698: 2, 10741: 5, 10774: 5, 10793: 7, 10796: 1, 10817: 63, 10841: 3, 10855: 5, 10889: 114, 10909: 4, 10939: 88, 10951: 6, 10972: 2, 10981: 3, 11021: 3, 11025: 9, 11078: 5, 11121: 1, 11130: 11, 11153: 198, 11195: 9, 11234: 1, 11291: 3, 11307: 2, 11360: 6, 11400: 3, 11408: 1, 11473: 7, 11477: 5, 11486: 3, 11645: 4, 11652: 1, 11658: 61, 11730: 13, 11780: 2, 11783: 2, 11820: 6, 11856: 1, 11876: 5, 11904: 2, 11983: 12, 12030: 5, 12035: 7, 12056: 1, 12115: 3, 12133: 2, 12203: 1, 12244: 10, 12289: 11, 12356: 174, 12369: 4, 12371: 3, 12419: 6, 12472: 8, 12576: 2, 12584: 5, 12592: 5, 12609: 3, 12610: 3, 12729: 5, 12787: 1, 12798: 2, 12815: 44, 12865: 6, 12875: 6, 12898: 4, 12917: 7, 12929: 3, 12954: 3, 12960: 10, 13013: 7, 13026: 12, 13040: 8, 13054: 16, 13104: 3, 13114: 3, 13124: 4, 13154: 2, 13219: 22, 13255: 1, 13284: 26, 13312: 3, 13343: 9, 13367: 7, 13404: 2, 13420: 2, 13433: 1, 13518: 99, 13579: 21, 13594: 3, 13655: 143, 13690: 7, 13701: 5, 13718: 4, 13753: 2, 13775: 5, 13795: 12, 13822: 4, 13868: 92, 13895: 4, 13907: 2, 13908: 3, 13918: 1, 13927: 4, 13934: 2, 13936: 3, 13937: 1, 13938: 4, 13943: 2, 13987: 7, 14010: 127, 14014: 7, 14017: 2, 14046: 3, 14076: 1, 14120: 4, 14213: 7, 14231: 11, 14235: 3, 14236: 3, 14256: 5, 14279: 7, 14330: 1, 14362: 1, 14372: 2, 14390: 6, 14445: 2, 14454: 80, 14504: 1, 14533: 5, 14536: 5, 14567: 1, 14594: 7, 14599: 3, 14639: 2, 14752: 3, 14793: 1, 14805: 12, 14878: 13, 14882: 5, 14885: 4, 14890: 2, 14897: 15, 14907: 5, 14914: 3, 14922: 4, 14969: 6, 15043: 3, 15069: 3, 15080: 1, 15113: 27, 15118: 2, 15142: 5, 15248: 3, 15324: 9, 15333: 2, 15346: 6, 15361: 3, 15428: 1, 15437: 3, 15442: 3, 15451: 3, 15465: 6, 15484: 1, 15519: 6, 15520: 2, 15540: 5, 15545: 3, 15615: 6, 15687: 4, 15717: 5, 15722: 4, 15777: 5, 15798: 6, 15832: 7, 16014: 4, 16126: 3, 16167: 2, 16182: 9, 16183: 3, 16243: 55, 16246: 4, 16266: 2, 16331: 6, 16379: 1, 16468: 2, 16475: 1}\n",
      "Player who changes the most: 9788\n",
      "------------------------------------------------------------------------------------------------------------------\n"
     ]
    }
   ],
   "source": [
    "# Lets do the same but for df_s\n",
    "players_increase_slot_s = cf.count_increase(df_s, \"increase_slotdeno\", \"playerkey\", \"slotdenomination\")\n",
    "players_decrease_slot_s = cf.count_decrease(df_s, \"decrease_slotdeno\", \"playerkey\", \"slotdenomination\")\n",
    "players_increase_maxbet_s = cf.count_increase(df_s, \"increase_maxbet\", \"playerkey\", \"maxbet\")\n",
    "players_decrease_maxbet_s = cf.count_decrease(df_s, \"decrease_maxbet\", \"playerkey\", \"maxbet\")"
   ]
  },
  {
   "attachments": {},
   "cell_type": "markdown",
   "metadata": {},
   "source": [
    "### Wealth Differences\n",
    "#### General"
   ]
  },
  {
   "cell_type": "code",
   "execution_count": 18,
   "metadata": {},
   "outputs": [],
   "source": [
    "# Lets crate a column called 'depletion_slope' which is the difference of 'playercashableamt' between the current gamble and the previous gamble\n",
    "df['depletion_rate'] = df.groupby(['playerkey', 'session_time'])['playercashableamt'].diff().fillna(0)\n",
    "\n",
    "# Lets crate a column called 'depletion_slope' which is the difference of 'playercashableamt' between the current gamble and the previous gamble\n",
    "df_s['depletion_rate'] = df_s.groupby(['playerkey', 'session_time'])['playercashableamt'].diff().fillna(0)\n"
   ]
  },
  {
   "attachments": {},
   "cell_type": "markdown",
   "metadata": {},
   "source": [
    "#### Per Visit"
   ]
  },
  {
   "cell_type": "code",
   "execution_count": 19,
   "metadata": {},
   "outputs": [],
   "source": [
    "# Create dataframe for Machine Learning model\n",
    "df_ML_v = pf.transform_ml(data_b=df, grouping='visit')"
   ]
  },
  {
   "cell_type": "code",
   "execution_count": 20,
   "metadata": {},
   "outputs": [
    {
     "name": "stdout",
     "output_type": "stream",
     "text": [
      "Number of unique players in df_ML_v:  1362\n",
      "Number of discrepancies: 56\n",
      "Number of unique players w/o discrepancies:  1306\n"
     ]
    }
   ],
   "source": [
    "# Print number of unique players\n",
    "print(\"Number of unique players in df_ML_v: \", df_ML_v['playerkey'].nunique())\n",
    "\n",
    "# Get the IDs of players who have NaN values in any of the columns\n",
    "list_discrepancy_v = df_ML_v[df_ML_v.isna().any(axis=1)]['playerkey'].unique()\n",
    "\n",
    "# print number of discrepancies\n",
    "print(\"Number of discrepancies:\", len(list_discrepancy_v))\n",
    "\n",
    "# Remove players with NaN values\n",
    "df_ML_v = df_ML_v[~df_ML_v['playerkey'].isin(list_discrepancy_v)]\n",
    "\n",
    "# Print number of unique players with no NaN values\n",
    "print(\"Number of unique players w/o discrepancies: \", df_ML_v['playerkey'].nunique())"
   ]
  },
  {
   "cell_type": "code",
   "execution_count": 21,
   "metadata": {},
   "outputs": [
    {
     "name": "stdout",
     "output_type": "stream",
     "text": [
      "Index(['playerkey', 'visit', 'gender', 'age_range', 'age_gen', 'beginning_amt',\n",
      "       'ending_amt', 'ending_balance', 'ave_slotdenom', 'std_slotdenom',\n",
      "       'min_slotdenom', 'max_slotdenom', 'ave_theo_payback',\n",
      "       'min_theo_payback', 'max_theo_payback', 'ave_wageramt', 'std_wageramt',\n",
      "       'min_wager', 'max_wager', 'ave_p/b', 'std_p/b', 'max_p/b', 'max_profit',\n",
      "       'depletion_slope', '#inc_slotdenom', '#dec_slotdenom', '#inc_maxbet',\n",
      "       '#dec_maxbet', 'first_wager', 'first_outcome', 'first_p/b',\n",
      "       'last_wager', 'last_outcome', 'last_p/b', 'machines_changes', '#W',\n",
      "       '#L', '#NH', '#D', 'w/g', 'l/g', 'nh/g', 'd/g', '#2ws', '2ws_profit',\n",
      "       '2ws_wgramt', '#3ws', '3ws_profit', '3ws_wgramt', '#4ws', '4ws_profit',\n",
      "       '4ws_wgramt', 'ave_time_per_gamble', 'min_time_per_gamble',\n",
      "       'max_time_per_gamble', 'total_duration', 'total_gambles',\n",
      "       'classification', 'unique_machines', 'ave_time_per_machine', 'w/min',\n",
      "       'l/min', 'nh/min', 'd/min', '2ws/min', '3ws/min', '4ws/min'],\n",
      "      dtype='object')\n"
     ]
    }
   ],
   "source": [
    "print(df_ML_v.columns)\n",
    "\n",
    "# # # Reorder Columns\n",
    "desired_order = ['playerkey', 'visit', 'gender', 'age_range', 'age_gen',\n",
    "                'beginning_amt', 'ending_amt', 'ending_balance', 'ave_slotdenom',\n",
    "                'std_slotdenom', 'min_slotdenom', 'max_slotdenom', 'ave_theo_payback',\n",
    "                'min_theo_payback', 'max_theo_payback', 'ave_wageramt', 'std_wageramt',\n",
    "                'min_wager', 'max_wager', 'ave_p/b', 'std_p/b', 'max_p/b', 'max_profit', 'depletion_slope',\n",
    "                '#inc_maxbet', '#dec_maxbet', 'first_wager', 'first_outcome', 'first_p/b', 'last_wager',\n",
    "                'last_outcome', 'last_p/b', '#W', '#L', '#NH', '#D', 'w/min', 'l/min', 'nh/min', 'd/min', \n",
    "                'w/g', 'l/g', 'nh/g', 'd/g', '#2ws', '2ws_profit', '2ws_wgramt', '#3ws', \n",
    "                '3ws_profit','3ws_wgramt', '#4ws', '4ws_profit', '4ws_wgramt', '2ws/min', '3ws/min', '4ws/min',\n",
    "                'ave_time_per_gamble', 'min_time_per_gamble', 'max_time_per_gamble',\n",
    "                'total_duration', 'total_gambles', 'machines_changes', '#inc_slotdenom', '#dec_slotdenom',\n",
    "                'unique_machines', 'ave_time_per_machine','classification']\n",
    "\n",
    "\n",
    "df_ML_v = df_ML_v.reindex(columns=desired_order)\n",
    "\n",
    "# Save dataframe to paquet file\n",
    "df_ML_v.to_parquet('/Users/mau/Library/CloudStorage/Dropbox/Mac/Documents/Dissertation/Chapter 2/Entire_Data/By month/'+month_file+'/Ending Balances/Per_Player/top_players_ending_balance_by_visit.parquet')"
   ]
  },
  {
   "attachments": {},
   "cell_type": "markdown",
   "metadata": {},
   "source": [
    "#### Per Session"
   ]
  },
  {
   "cell_type": "code",
   "execution_count": 22,
   "metadata": {},
   "outputs": [],
   "source": [
    "df_ML_s = pf.transform_ml(data_b=df_s, grouping='session_time')"
   ]
  },
  {
   "cell_type": "code",
   "execution_count": 23,
   "metadata": {},
   "outputs": [
    {
     "name": "stdout",
     "output_type": "stream",
     "text": [
      "Number of unique players in df_ML_v:  1362\n",
      "Number of discrepancies: 53\n",
      "Number of unique players w/o discrepancies:  1309\n"
     ]
    }
   ],
   "source": [
    "# Print number of unique players\n",
    "print(\"Number of unique players in df_ML_v: \", df_ML_s['playerkey'].nunique())\n",
    "\n",
    "# Get the IDs of players who have NaN values in any of the columns\n",
    "list_discrepancy_s = df_ML_s[df_ML_s.isna().any(axis=1)]['playerkey'].unique()\n",
    "\n",
    "# print number of discrepancies\n",
    "print(\"Number of discrepancies:\", len(list_discrepancy_s))\n",
    "\n",
    "# Remove players with NaN values\n",
    "df_ML_s = df_ML_s[~df_ML_s['playerkey'].isin(list_discrepancy_s)]\n",
    "\n",
    "# Print number of unique players with no NaN values\n",
    "print(\"Number of unique players w/o discrepancies: \", df_ML_s['playerkey'].nunique())"
   ]
  },
  {
   "cell_type": "code",
   "execution_count": 24,
   "metadata": {},
   "outputs": [
    {
     "name": "stdout",
     "output_type": "stream",
     "text": [
      "Index(['playerkey', 'session_time', 'gender', 'age_range', 'age_gen',\n",
      "       'beginning_amt', 'ending_amt', 'ending_balance', 'ave_slotdenom',\n",
      "       'std_slotdenom', 'min_slotdenom', 'max_slotdenom', 'ave_theo_payback',\n",
      "       'min_theo_payback', 'max_theo_payback', 'ave_wageramt', 'std_wageramt',\n",
      "       'min_wager', 'max_wager', 'ave_p/b', 'std_p/b', 'max_p/b', 'max_profit',\n",
      "       'depletion_slope', '#inc_slotdenom', '#dec_slotdenom', '#inc_maxbet',\n",
      "       '#dec_maxbet', 'first_wager', 'first_outcome', 'first_p/b',\n",
      "       'last_wager', 'last_outcome', 'last_p/b', 'machines_changes', '#W',\n",
      "       '#L', '#NH', '#D', 'w/g', 'l/g', 'nh/g', 'd/g', '#2ws', '2ws_profit',\n",
      "       '2ws_wgramt', '#3ws', '3ws_profit', '3ws_wgramt', '#4ws', '4ws_profit',\n",
      "       '4ws_wgramt', 'ave_time_per_gamble', 'min_time_per_gamble',\n",
      "       'max_time_per_gamble', 'total_duration', 'total_gambles',\n",
      "       'classification', 'unique_machines', 'ave_time_per_machine', 'w/min',\n",
      "       'l/min', 'nh/min', 'd/min', '2ws/min', '3ws/min', '4ws/min'],\n",
      "      dtype='object')\n"
     ]
    }
   ],
   "source": [
    "print(df_ML_s.columns)\n",
    "\n",
    "# # # Reorder Columns\n",
    "desired_order = ['playerkey', 'session_time', 'gender', 'age_range', 'age_gen',\n",
    "                'beginning_amt', 'ending_amt', 'ending_balance', 'ave_slotdenom',\n",
    "                'std_slotdenom', 'min_slotdenom', 'max_slotdenom', 'ave_theo_payback',\n",
    "                'min_theo_payback', 'max_theo_payback', 'ave_wageramt', 'std_wageramt',\n",
    "                'min_wager', 'max_wager', 'ave_p/b', 'std_p/b', 'max_p/b', 'max_profit', 'depletion_slope',\n",
    "                '#inc_maxbet', '#dec_maxbet', 'first_wager', 'first_outcome', 'first_p/b', 'last_wager',\n",
    "                'last_outcome', 'last_p/b', '#W', '#L', '#NH', '#D', 'w/min', 'l/min', 'nh/min', 'd/min', \n",
    "                'w/g', 'l/g', 'nh/g', 'd/g', '#2ws', '2ws_profit', '2ws_wgramt', '#3ws', \n",
    "                '3ws_profit','3ws_wgramt', '#4ws', '4ws_profit', '4ws_wgramt', '2ws/min', '3ws/min', '4ws/min',\n",
    "                'ave_time_per_gamble', 'min_time_per_gamble', 'max_time_per_gamble',\n",
    "                'total_duration', 'total_gambles', 'machines_changes', '#inc_slotdenom', '#dec_slotdenom',\n",
    "                'unique_machines', 'ave_time_per_machine','classification']\n",
    "\n",
    "df_ML_s = df_ML_s.reindex(columns=desired_order)\n",
    "\n",
    "# Save dataframe to paquet file\n",
    "df_ML_s.to_parquet('/Users/mau/Library/CloudStorage/Dropbox/Mac/Documents/Dissertation/Chapter 2/Entire_Data/By month/'+month_file+'/Ending Balances/Per_Player/top_player_ending_balance_by_session.parquet')\n"
   ]
  }
 ],
 "metadata": {
  "kernelspec": {
   "display_name": "Python 3",
   "language": "python",
   "name": "python3"
  },
  "language_info": {
   "codemirror_mode": {
    "name": "ipython",
    "version": 3
   },
   "file_extension": ".py",
   "mimetype": "text/x-python",
   "name": "python",
   "nbconvert_exporter": "python",
   "pygments_lexer": "ipython3",
   "version": "3.10.0"
  },
  "orig_nbformat": 4
 },
 "nbformat": 4,
 "nbformat_minor": 2
}
