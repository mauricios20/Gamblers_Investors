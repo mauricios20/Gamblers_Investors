{
 "cells": [
  {
   "attachments": {},
   "cell_type": "markdown",
   "metadata": {},
   "source": [
    "# Similarities and Differences of Top vs. Bottom 20% (Pt.1 - Age, Gender, Won/Lost Amount)"
   ]
  },
  {
   "cell_type": "code",
   "execution_count": 20,
   "metadata": {},
   "outputs": [],
   "source": [
    "# Define libraries\n",
    "import pandas as pd\n",
    "import numpy as np\n",
    "import matplotlib.pyplot as plt\n",
    "import seaborn as sns\n",
    "import matplotlib.dates as mdates\n",
    "import os\n",
    "import plotting_fn as pf\n",
    "import counting_fns as cf\n",
    "\n",
    "month_file = '2_June'\n",
    "cut_off = 10000\n",
    "# Set working directory\n",
    "os.chdir(\"/Users/mau/Library/CloudStorage/Dropbox/Mac/Documents/Dissertation/Chapter 2/Entire_Data/By month/\"+month_file)\n"
   ]
  },
  {
   "cell_type": "code",
   "execution_count": 21,
   "metadata": {},
   "outputs": [],
   "source": [
    "# Read in data\n",
    "df_bottom_20 = pd.read_parquet(\"classification.parquet\")\n",
    "\n",
    "\n",
    "# Eliminate players who maximum number of gambles is 1\n",
    "df_bottom_20 = df_bottom_20.groupby('playerkey').filter(lambda x: x['gambles'].nunique() > 1)\n",
    "\n",
    "# Reset index\n",
    "df_bottom_20.index = np.arange(1, len(df_bottom_20) + 1)\n",
    "\n",
    "# Round wageredamt and profit to 2 decimal places\n",
    "df_bottom_20['wageredamt'] = df_bottom_20['wageredamt'].round(1)\n",
    "df_bottom_20['profit'] = df_bottom_20['profit'].round(1)\n",
    "df_bottom_20['percent_return'] = df_bottom_20['percent_return'].round(1)\n"
   ]
  },
  {
   "cell_type": "code",
   "execution_count": 22,
   "metadata": {},
   "outputs": [],
   "source": [
    "# Create a new column 'result_type' that is a categorical variable which takes the value 'loss' if the change is negative and 'gain' if the change is positive, and 'draw' of change is 0\n",
    "df_bottom_20['result_type'] = df_bottom_20['percent_return'].apply(lambda x: 'loss' if x == -100 else 'near-hit' if x < 0 else 'gain' if x > 0 else 'draw')\n",
    "\n",
    "# Create dummy variables from 'result_type'\n",
    "dummy_variables = pd.get_dummies(df_bottom_20['result_type']).rename(columns=lambda x: '#' + str(x[0].capitalize()))\n",
    "\n",
    "# Add the dummy variables to the original DataFrame\n",
    "df_bottom_20 = pd.concat([df_bottom_20, dummy_variables], axis=1).reset_index(drop=True)\n",
    "\n",
    "# Convert starttime to delte format for operations\n",
    "df_bottom_20['start_time'] = pd.to_datetime(df_bottom_20['start_time'])\n",
    "\n",
    "# Create new column called 'time_diff' which is the difference between the start time of the gamble and the start time of the previous gamble\n",
    "df_bottom_20['time_diff'] = df_bottom_20.groupby(['playerkey', 'session_time'])['start_time'].diff()\n",
    "\n",
    "# Convert time_diff to seconds\n",
    "df_bottom_20['time_diff'] = df_bottom_20['time_diff'].dt.total_seconds().fillna(0)"
   ]
  },
  {
   "cell_type": "markdown",
   "metadata": {},
   "source": [
    "### Filter visit 1"
   ]
  },
  {
   "cell_type": "code",
   "execution_count": 23,
   "metadata": {},
   "outputs": [],
   "source": [
    "# Filter data frame by visit == 1\n",
    "df_bottom_20 = df_bottom_20[df_bottom_20['visit'] == 1]"
   ]
  },
  {
   "cell_type": "code",
   "execution_count": 24,
   "metadata": {},
   "outputs": [],
   "source": [
    "# Ude consecutive functions to find 2ws, 3ws, 4ws in a row in each dataset per visit per player\n",
    "df_bottom_20 = pf.consecutive_wins(df_bottom_20, 'visit')\n",
    "\n"
   ]
  },
  {
   "cell_type": "code",
   "execution_count": 25,
   "metadata": {},
   "outputs": [],
   "source": [
    "# Ude consecutive functions to find 2ws, 3ws, 4ws in a row in each dataset per session_time per player\n",
    "df_bottom_20_s = pf.consecutive_wins(df_bottom_20, 'session_time')\n"
   ]
  },
  {
   "cell_type": "code",
   "execution_count": 26,
   "metadata": {},
   "outputs": [],
   "source": [
    "# Create age ranges \n",
    "bins = [0, 24, 40, 55, 75, 150]\n",
    "labels = ['18-24', '25-40', '41-55', '56-75', '76+']\n",
    "generations = ['Gen Z', 'Millenials', 'Gen X', 'Baby Boomers', 'Silent']\n",
    "\n",
    "# Use cut function to create age ranges for bottom 20% and top 20%\n",
    "df_bottom_20['age_range'] = pd.cut(df_bottom_20['age'], bins=bins, labels=labels, right=False)\n",
    "df_bottom_20['age_gen'] = pd.cut(df_bottom_20['age'], bins=bins, labels=generations, right=False)\n"
   ]
  },
  {
   "cell_type": "code",
   "execution_count": 27,
   "metadata": {},
   "outputs": [
    {
     "name": "stdout",
     "output_type": "stream",
     "text": [
      "Count of players who increase_slotdeno : 91\n",
      "Count of times each player increase_slotdeno : {17: 1, 19: 3, 20: 26, 29: 25, 33: 15, 43: 1, 69: 1, 89: 2, 91: 2, 92: 1, 97: 2, 103: 3, 108: 1, 129: 1, 135: 1, 136: 1, 159: 5, 180: 4, 188: 1, 194: 1, 220: 2, 222: 4, 224: 2, 234: 6, 244: 1, 263: 1, 264: 12, 308: 3, 313: 1, 319: 1, 322: 2, 331: 5, 351: 1, 361: 1, 381: 1, 410: 1, 434: 1, 436: 1, 461: 1, 462: 1, 507: 1, 3: 1, 27: 2, 30: 1, 37: 2, 68: 2, 100: 1, 114: 1, 157: 1, 197: 2, 203: 1, 216: 1, 239: 2, 247: 1, 262: 1, 287: 2, 324: 1, 344: 1, 360: 1, 368: 1, 373: 1, 382: 1, 402: 1, 405: 1, 430: 2, 466: 1, 494: 2, 14: 2, 35: 2, 41: 1, 109: 1, 213: 2, 269: 3, 306: 1, 343: 1, 346: 2, 369: 1, 383: 1, 396: 1, 431: 1, 438: 1, 459: 1, 463: 1, 486: 1, 67: 1, 140: 1, 184: 1, 193: 1, 219: 1, 223: 1, 248: 1}\n",
      "Player who changes the most: 20\n",
      "------------------------------------------------------------------------------------------------------------------\n",
      "Count of players who decrease_slotdeno : 86\n",
      "Count of times each player decrease_slotdeno : {17: 1, 19: 2, 20: 24, 29: 25, 33: 14, 43: 1, 69: 2, 89: 2, 91: 1, 97: 2, 99: 1, 103: 4, 108: 1, 129: 1, 135: 1, 136: 1, 159: 7, 180: 3, 188: 1, 222: 4, 224: 3, 234: 5, 244: 1, 258: 1, 263: 1, 264: 13, 308: 2, 322: 2, 331: 4, 351: 1, 361: 1, 410: 1, 434: 1, 436: 1, 461: 1, 507: 1, 521: 1, 3: 1, 27: 1, 30: 1, 37: 2, 56: 1, 68: 2, 87: 1, 157: 2, 197: 1, 203: 1, 233: 1, 239: 1, 262: 1, 280: 1, 287: 1, 324: 1, 327: 1, 344: 1, 368: 1, 402: 1, 429: 1, 430: 1, 466: 1, 494: 1, 503: 1, 509: 1, 518: 1, 14: 3, 35: 2, 79: 1, 156: 1, 172: 1, 213: 1, 266: 1, 269: 3, 270: 1, 289: 1, 343: 1, 346: 1, 369: 1, 383: 1, 396: 1, 407: 1, 450: 1, 454: 1, 463: 1, 505: 1, 184: 1, 406: 1}\n",
      "Player who changes the most: 29\n",
      "------------------------------------------------------------------------------------------------------------------\n",
      "Count of players who increase_maxbet : 111\n",
      "Count of times each player increase_maxbet : {6: 1, 17: 2, 19: 3, 23: 1, 29: 2, 33: 4, 43: 1, 44: 1, 66: 3, 69: 3, 89: 4, 91: 2, 93: 3, 97: 5, 98: 1, 99: 2, 108: 2, 120: 1, 129: 1, 135: 1, 159: 9, 188: 3, 191: 6, 192: 2, 196: 1, 198: 2, 204: 1, 222: 6, 224: 3, 234: 1, 244: 4, 258: 1, 263: 4, 264: 6, 278: 1, 308: 2, 331: 3, 351: 1, 361: 1, 362: 1, 410: 1, 424: 1, 434: 2, 436: 2, 452: 2, 507: 2, 521: 1, 3: 1, 27: 1, 30: 1, 36: 2, 37: 2, 56: 1, 68: 1, 87: 1, 100: 1, 111: 1, 151: 2, 157: 2, 182: 5, 197: 1, 203: 1, 233: 1, 239: 2, 262: 1, 280: 2, 287: 3, 307: 1, 324: 1, 327: 2, 364: 1, 368: 1, 382: 1, 402: 1, 429: 1, 430: 3, 445: 1, 466: 1, 494: 2, 503: 1, 509: 1, 518: 1, 14: 3, 35: 2, 79: 1, 109: 1, 156: 2, 172: 2, 211: 1, 213: 1, 269: 3, 270: 1, 289: 1, 343: 2, 346: 2, 369: 1, 383: 1, 392: 1, 396: 2, 407: 1, 438: 1, 450: 2, 454: 1, 463: 1, 481: 1, 505: 1, 164: 1, 184: 1, 236: 1, 282: 2, 406: 1}\n",
      "Player who changes the most: 159\n",
      "------------------------------------------------------------------------------------------------------------------\n",
      "Count of players who decrease_maxbet : 124\n",
      "Count of times each player decrease_maxbet : {17: 1, 19: 2, 20: 1, 23: 2, 29: 1, 33: 3, 43: 1, 44: 1, 66: 2, 69: 2, 89: 4, 91: 2, 92: 1, 93: 4, 97: 3, 99: 1, 108: 2, 120: 3, 129: 1, 159: 5, 188: 2, 191: 6, 192: 1, 194: 1, 196: 1, 198: 1, 204: 1, 220: 2, 222: 5, 224: 4, 234: 2, 244: 3, 263: 3, 264: 5, 278: 2, 308: 3, 313: 2, 319: 1, 322: 1, 331: 3, 351: 2, 361: 2, 381: 1, 410: 2, 424: 1, 434: 4, 436: 1, 452: 4, 462: 1, 3: 2, 27: 3, 30: 1, 36: 2, 37: 3, 63: 1, 68: 3, 100: 2, 114: 1, 125: 1, 151: 1, 157: 1, 182: 4, 183: 1, 197: 2, 203: 3, 233: 1, 239: 3, 242: 1, 247: 1, 262: 1, 280: 1, 287: 2, 307: 2, 324: 1, 360: 1, 364: 4, 368: 2, 373: 1, 382: 3, 384: 1, 400: 4, 402: 1, 429: 2, 430: 2, 466: 1, 482: 2, 494: 1, 501: 1, 14: 1, 35: 5, 41: 1, 109: 2, 123: 1, 156: 2, 213: 2, 269: 2, 270: 1, 306: 1, 343: 1, 346: 4, 369: 2, 383: 1, 396: 1, 422: 1, 431: 1, 433: 1, 438: 1, 450: 1, 459: 1, 463: 1, 481: 1, 486: 1, 505: 1, 67: 1, 140: 1, 184: 1, 185: 1, 193: 1, 219: 1, 223: 1, 236: 2, 282: 1, 389: 1, 457: 1}\n",
      "Player who changes the most: 191\n",
      "------------------------------------------------------------------------------------------------------------------\n"
     ]
    }
   ],
   "source": [
    "# Lets do the same but for bottom 20%\n",
    "players_increase_slot_b20 = cf.count_increase(df_bottom_20, \"increase_slotdeno\", \"playerkey\", \"slotdenomination\")\n",
    "players_decrease_slot_b20 = cf.count_decrease(df_bottom_20, \"decrease_slotdeno\", \"playerkey\", \"slotdenomination\")\n",
    "players_increase_maxbet_b20 = cf.count_increase(df_bottom_20, \"increase_maxbet\", \"playerkey\", \"maxbet\")\n",
    "players_decrease_maxbet_b20 = cf.count_decrease(df_bottom_20, \"decrease_maxbet\", \"playerkey\", \"maxbet\")"
   ]
  },
  {
   "cell_type": "code",
   "execution_count": 28,
   "metadata": {},
   "outputs": [],
   "source": [
    "# Lets crate a column called 'depletion_slope' which is the difference of 'playercashableamt' between the current gamble and the previous gamble\n",
    "df_bottom_20['depletion_rate'] = df_bottom_20.groupby(['playerkey', 'session_time'])['playercashableamt'].diff().fillna(0)\n"
   ]
  },
  {
   "attachments": {},
   "cell_type": "markdown",
   "metadata": {},
   "source": [
    "# Separate by time"
   ]
  },
  {
   "cell_type": "code",
   "execution_count": 29,
   "metadata": {},
   "outputs": [],
   "source": [
    "# Create df_bottom_1min for 1 minute duration\n",
    "df_bottom_1min = pf.filter_dataframe_by_time(df_bottom_20, pd.Timedelta(minutes=1))\n",
    "\n",
    "# Create df_bottom_2min for 2 minutes duration\n",
    "df_bottom_2min = pf.filter_dataframe_by_time(df_bottom_20, pd.Timedelta(minutes=2))\n",
    "\n",
    "# Create df_bottom_3min for 3 minutes duration\n",
    "df_bottom_3min = pf.filter_dataframe_by_time(df_bottom_20, pd.Timedelta(minutes=3))\n",
    "\n",
    "# Create df_bottom_4min for 4 minutes duration\n",
    "df_bottom_4min = pf.filter_dataframe_by_time(df_bottom_20, pd.Timedelta(minutes=4))\n",
    "\n",
    "# Create df_bottom_5min for 5 minutes duration\n",
    "df_bottom_5min = pf.filter_dataframe_by_time(df_bottom_20, pd.Timedelta(minutes=5))\n",
    "\n",
    "# Create df_bottom_10min for 10 minutes duration\n",
    "df_bottom_10min = pf.filter_dataframe_by_time(df_bottom_20, pd.Timedelta(minutes=10))\n",
    "\n",
    "# Create df_bottom_15min for 15 minutes duration\n",
    "df_bottom_15min = pf.filter_dataframe_by_time(df_bottom_20, pd.Timedelta(minutes=15))"
   ]
  },
  {
   "cell_type": "code",
   "execution_count": 30,
   "metadata": {},
   "outputs": [
    {
     "name": "stdout",
     "output_type": "stream",
     "text": [
      "Number of players in bottom 1min:  272\n",
      "Number of players in bottom 2min:  272\n",
      "Number of players in bottom 3min:  272\n",
      "Number of players in bottom 4min:  272\n",
      "Number of players in bottom 5min:  272\n"
     ]
    }
   ],
   "source": [
    "# Print the unique number of players in each dataset\n",
    "print(\"Number of players in bottom 1min: \", df_bottom_1min['playerkey'].nunique())\n",
    "print(\"Number of players in bottom 2min: \", df_bottom_2min['playerkey'].nunique())\n",
    "print(\"Number of players in bottom 3min: \", df_bottom_3min['playerkey'].nunique())\n",
    "print(\"Number of players in bottom 4min: \", df_bottom_4min['playerkey'].nunique())\n",
    "print(\"Number of players in bottom 5min: \", df_bottom_5min['playerkey'].nunique())"
   ]
  },
  {
   "attachments": {},
   "cell_type": "markdown",
   "metadata": {},
   "source": [
    "#### First 1 minute"
   ]
  },
  {
   "cell_type": "code",
   "execution_count": 31,
   "metadata": {},
   "outputs": [
    {
     "name": "stdout",
     "output_type": "stream",
     "text": [
      "Number of unique players in df_all_1min:  272\n",
      "[ 67 118 140 147 178 181 193 226 239 344 405 506]\n",
      "Number of unique players w/o discrepancies df_all_1min:  260\n"
     ]
    }
   ],
   "source": [
    "# Create dataframe\n",
    "df_all_1min = pf.transform_ml(data_b=df_bottom_1min, grouping='session_time')\n",
    "\n",
    "# Print number of unique players\n",
    "print(\"Number of unique players in df_all_1min: \", df_all_1min['playerkey'].nunique())\n",
    "\n",
    "# Get the IDs of players who have NaN values in any of the columns\n",
    "list_discrepancy = df_all_1min[df_all_1min.isna().any(axis=1)]['playerkey'].unique()\n",
    "\n",
    "# print list of players with NaN values\n",
    "print(list_discrepancy)\n",
    "\n",
    "# Eliminate list_discrepancy  from df_all_1min\n",
    "df_all_1min = df_all_1min[~df_all_1min['playerkey'].isin(list_discrepancy)]\n",
    "\n",
    "# Print number of unique players\n",
    "print(\"Number of unique players w/o discrepancies df_all_1min: \", df_all_1min['playerkey'].nunique())\n",
    "\n",
    "# # # Reorder Columns\n",
    "desired_order = ['playerkey', 'session_time', 'gender', 'age_range', 'age_gen',\n",
    "                'beginning_amt', 'ending_amt', 'ending_balance', 'ave_slotdenom',\n",
    "                'std_slotdenom', 'min_slotdenom', 'max_slotdenom', 'ave_theo_payback',\n",
    "                'min_theo_payback', 'max_theo_payback', 'ave_wageramt', 'std_wageramt',\n",
    "                'min_wager', 'max_wager', 'ave_p/b', 'std_p/b', 'max_p/b', 'max_profit', 'depletion_slope',\n",
    "                '#inc_maxbet', '#dec_maxbet', 'first_wager', 'first_outcome', 'first_p/b', 'last_wager',\n",
    "                'last_outcome', 'last_p/b', '#W', '#L', '#NH', '#D', 'w/min', 'l/min', 'nh/min', 'd/min', \n",
    "                'w/g', 'l/g', 'nh/g', 'd/g', '#2ws', '2ws_profit', '2ws_wgramt', '#3ws', \n",
    "                '3ws_profit','3ws_wgramt', '#4ws', '4ws_profit', '4ws_wgramt', '2ws/min', '3ws/min', '4ws/min',\n",
    "                'ave_time_per_gamble', 'min_time_per_gamble', 'max_time_per_gamble',\n",
    "                'total_duration', 'total_gambles', 'machines_changes', '#inc_slotdenom', '#dec_slotdenom',\n",
    "                'unique_machines', 'ave_time_per_machine','classification']\n",
    "\n",
    "df_all_1min = df_all_1min.reindex(columns=desired_order)"
   ]
  },
  {
   "cell_type": "markdown",
   "metadata": {},
   "source": [
    "#### First 2 minutes"
   ]
  },
  {
   "cell_type": "code",
   "execution_count": 32,
   "metadata": {},
   "outputs": [
    {
     "name": "stdout",
     "output_type": "stream",
     "text": [
      "Number of unique players in df_all_2min:  272\n",
      "[ 67 118 140 181 193 226 344]\n",
      "Number of unique players w/o discrepancies df_all_2min:  265\n"
     ]
    }
   ],
   "source": [
    "# Create dataframe\n",
    "df_all_2min = pf.transform_ml(data_b=df_bottom_2min, grouping='session_time')\n",
    "\n",
    "# Print number of unique players\n",
    "print(\"Number of unique players in df_all_2min: \", df_all_2min['playerkey'].nunique())\n",
    "\n",
    "# Get the IDs of players who have NaN values in any of the columns\n",
    "list_discrepancy_2 = df_all_2min[df_all_2min.isna().any(axis=1)]['playerkey'].unique()\n",
    "\n",
    "# print list of players with NaN values\n",
    "print(list_discrepancy_2)\n",
    "\n",
    "# Eliminate list_discrepancy  from df_all_2min\n",
    "df_all_2min = df_all_2min[~df_all_2min['playerkey'].isin(list_discrepancy_2)]\n",
    "\n",
    "# Print number of unique players\n",
    "print(\"Number of unique players w/o discrepancies df_all_2min: \", df_all_2min['playerkey'].nunique())\n",
    "\n",
    "# Reorder Columns\n",
    "df_all_2min = df_all_2min.reindex(columns=desired_order)"
   ]
  },
  {
   "cell_type": "markdown",
   "metadata": {},
   "source": [
    "#### First 3 minutes"
   ]
  },
  {
   "cell_type": "code",
   "execution_count": 33,
   "metadata": {},
   "outputs": [
    {
     "name": "stdout",
     "output_type": "stream",
     "text": [
      "Number of unique players in df_all_3min:  272\n",
      "[ 67 118 140 181 193 226 344]\n",
      "Number of unique players w/o discrepancies df_all_3min:  265\n"
     ]
    }
   ],
   "source": [
    "# Create dataframe\n",
    "df_all_3min = pf.transform_ml(data_b=df_bottom_3min, grouping='session_time')\n",
    "\n",
    "# Print number of unique players\n",
    "print(\"Number of unique players in df_all_3min: \", df_all_3min['playerkey'].nunique())\n",
    "\n",
    "# Get the IDs of players who have NaN values in any of the columns\n",
    "list_discrepancy_3 = df_all_3min[df_all_3min.isna().any(axis=1)]['playerkey'].unique()\n",
    "\n",
    "# print list of players with NaN values\n",
    "print(list_discrepancy_3)\n",
    "\n",
    "# Eliminate list_discrepancy  from df_all_3min\n",
    "df_all_3min = df_all_3min[~df_all_3min['playerkey'].isin(list_discrepancy_3)]\n",
    "\n",
    "# Print number of unique players\n",
    "print(\"Number of unique players w/o discrepancies df_all_3min: \", df_all_3min['playerkey'].nunique())\n",
    "\n",
    "# Reorder Columns\n",
    "df_all_3min = df_all_3min.reindex(columns=desired_order)"
   ]
  },
  {
   "cell_type": "markdown",
   "metadata": {},
   "source": [
    "#### First 4 minutes"
   ]
  },
  {
   "cell_type": "code",
   "execution_count": 34,
   "metadata": {},
   "outputs": [
    {
     "name": "stdout",
     "output_type": "stream",
     "text": [
      "Number of unique players in df_all_4min:  272\n",
      "[ 67 140 181 226 344]\n",
      "Number of unique players w/o discrepancies df_all_4min:  267\n"
     ]
    }
   ],
   "source": [
    "# Create dataframe\n",
    "df_all_4min = pf.transform_ml(data_b=df_bottom_4min, grouping='session_time')\n",
    "\n",
    "# Print number of unique players\n",
    "print(\"Number of unique players in df_all_4min: \", df_all_4min['playerkey'].nunique())\n",
    "\n",
    "# Get the IDs of players who have NaN values in any of the columns\n",
    "list_discrepancy_4 = df_all_4min[df_all_4min.isna().any(axis=1)]['playerkey'].unique()\n",
    "\n",
    "# print list of players with NaN values\n",
    "print(list_discrepancy_4)\n",
    "\n",
    "# Eliminate list_discrepancy  from df_all_4min\n",
    "df_all_4min = df_all_4min[~df_all_4min['playerkey'].isin(list_discrepancy_4)]\n",
    "\n",
    "# Print number of unique players\n",
    "print(\"Number of unique players w/o discrepancies df_all_4min: \", df_all_4min['playerkey'].nunique())\n",
    "\n",
    "# Reorder Columns\n",
    "df_all_4min = df_all_4min.reindex(columns=desired_order)"
   ]
  },
  {
   "attachments": {},
   "cell_type": "markdown",
   "metadata": {},
   "source": [
    "#### First 5 minutes"
   ]
  },
  {
   "cell_type": "code",
   "execution_count": 35,
   "metadata": {},
   "outputs": [
    {
     "name": "stdout",
     "output_type": "stream",
     "text": [
      "Number of unique players in df_all_5min:  272\n",
      "[ 67 140 181 226 344]\n",
      "Number of unique players w/o discrepancies df_all_5min:  267\n"
     ]
    }
   ],
   "source": [
    "# Create dataframe\n",
    "df_all_5min = pf.transform_ml(data_b=df_bottom_5min, grouping='session_time')\n",
    "\n",
    "# Print number of unique players\n",
    "print(\"Number of unique players in df_all_5min: \", df_all_5min['playerkey'].nunique())\n",
    "\n",
    "# Get the IDs of players who have NaN values in any of the columns\n",
    "list_discrepancy_5 = df_all_5min[df_all_5min.isna().any(axis=1)]['playerkey'].unique()\n",
    "\n",
    "# print list of players with NaN values\n",
    "print(list_discrepancy_5)\n",
    "\n",
    "# Eliminate list_discrepancy  from df_all_5min\n",
    "df_all_5min = df_all_5min[~df_all_5min['playerkey'].isin(list_discrepancy_5)]\n",
    "\n",
    "# Print number of unique players\n",
    "print(\"Number of unique players w/o discrepancies df_all_5min: \", df_all_5min['playerkey'].nunique())\n",
    "\n",
    "# Reorder Columns\n",
    "df_all_5min = df_all_5min.reindex(columns=desired_order)"
   ]
  },
  {
   "cell_type": "markdown",
   "metadata": {},
   "source": [
    "## Eliminate Discrepancies"
   ]
  },
  {
   "cell_type": "code",
   "execution_count": 36,
   "metadata": {},
   "outputs": [
    {
     "name": "stdout",
     "output_type": "stream",
     "text": [
      "Number of unique players in total_discrepancies:  36\n",
      "Number of unique players in total_unique_discrepancies:  12\n"
     ]
    }
   ],
   "source": [
    "# add the ndarrays together to get the total number of player\n",
    "total_discrepancies = np.concatenate((list_discrepancy, list_discrepancy_2, list_discrepancy_3, list_discrepancy_4, list_discrepancy_5), axis=0)\n",
    "\n",
    "# Print number of unique players\n",
    "print(\"Number of unique players in total_discrepancies: \", len(total_discrepancies))\n",
    "\n",
    "# Transform into a set to get unique values\n",
    "total_unique_discrepancies = list(set(total_discrepancies))\n",
    "\n",
    "# Print number of unique players\n",
    "print(\"Number of unique players in total_unique_discrepancies: \", len(total_unique_discrepancies))"
   ]
  },
  {
   "cell_type": "code",
   "execution_count": 37,
   "metadata": {},
   "outputs": [
    {
     "name": "stdout",
     "output_type": "stream",
     "text": [
      "Number of unique players in df_all_1min:  260\n",
      "Number of unique players in df_all_2min:  260\n",
      "Number of unique players in df_all_3min:  260\n",
      "Number of unique players in df_all_4min:  260\n",
      "Number of unique players in df_all_5min:  260\n"
     ]
    }
   ],
   "source": [
    "# Eliminate total_unique_discrepancies from all the dataframes\n",
    "df_all_1min = df_all_1min[~df_all_1min['playerkey'].isin(total_unique_discrepancies)]\n",
    "df_all_2min = df_all_2min[~df_all_2min['playerkey'].isin(total_unique_discrepancies)]\n",
    "df_all_3min = df_all_3min[~df_all_3min['playerkey'].isin(total_unique_discrepancies)]\n",
    "df_all_4min = df_all_4min[~df_all_4min['playerkey'].isin(total_unique_discrepancies)]\n",
    "df_all_5min = df_all_5min[~df_all_5min['playerkey'].isin(total_unique_discrepancies)]\n",
    "\n",
    "# Print number of unique players\n",
    "print(\"Number of unique players in df_all_1min: \", df_all_1min['playerkey'].nunique())\n",
    "print(\"Number of unique players in df_all_2min: \", df_all_2min['playerkey'].nunique())\n",
    "print(\"Number of unique players in df_all_3min: \", df_all_3min['playerkey'].nunique())\n",
    "print(\"Number of unique players in df_all_4min: \", df_all_4min['playerkey'].nunique())\n",
    "print(\"Number of unique players in df_all_5min: \", df_all_5min['playerkey'].nunique())\n"
   ]
  },
  {
   "cell_type": "code",
   "execution_count": 38,
   "metadata": {},
   "outputs": [],
   "source": [
    "# Save the dataframes to parquet\n",
    "df_all_1min.to_parquet('/Users/mau/Library/CloudStorage/Dropbox/Mac/Documents/Dissertation/Chapter 2/Entire_Data/By month/'+month_file+'/Ending Balances/Per_Player/df_1min_ALL.parquet')\n",
    "df_all_2min.to_parquet('/Users/mau/Library/CloudStorage/Dropbox/Mac/Documents/Dissertation/Chapter 2/Entire_Data/By month/'+month_file+'/Ending Balances/Per_Player/df_2min_ALL.parquet')\n",
    "df_all_3min.to_parquet('/Users/mau/Library/CloudStorage/Dropbox/Mac/Documents/Dissertation/Chapter 2/Entire_Data/By month/'+month_file+'/Ending Balances/Per_Player/df_3min_ALL.parquet')\n",
    "df_all_4min.to_parquet('/Users/mau/Library/CloudStorage/Dropbox/Mac/Documents/Dissertation/Chapter 2/Entire_Data/By month/'+month_file+'/Ending Balances/Per_Player/df_4min_ALL.parquet')\n",
    "df_all_5min.to_parquet('/Users/mau/Library/CloudStorage/Dropbox/Mac/Documents/Dissertation/Chapter 2/Entire_Data/By month/'+month_file+'/Ending Balances/Per_Player/df_5min_ALL.parquet')"
   ]
  }
 ],
 "metadata": {
  "kernelspec": {
   "display_name": "Python 3",
   "language": "python",
   "name": "python3"
  },
  "language_info": {
   "codemirror_mode": {
    "name": "ipython",
    "version": 3
   },
   "file_extension": ".py",
   "mimetype": "text/x-python",
   "name": "python",
   "nbconvert_exporter": "python",
   "pygments_lexer": "ipython3",
   "version": "3.10.0"
  },
  "orig_nbformat": 4
 },
 "nbformat": 4,
 "nbformat_minor": 2
}
