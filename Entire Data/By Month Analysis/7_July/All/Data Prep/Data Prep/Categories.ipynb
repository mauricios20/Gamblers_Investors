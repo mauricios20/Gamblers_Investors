{
 "cells": [
  {
   "attachments": {},
   "cell_type": "markdown",
   "metadata": {},
   "source": [
    "# Exploratory Data Analysis (Time & Gambles)\n",
    "\n",
    "We are going to be looking for patterns in players who only played in the month of June. This is with the purpose to distinguish players between short and long positions, and the reasons why they hold this positions. "
   ]
  },
  {
   "cell_type": "code",
   "execution_count": 4,
   "metadata": {},
   "outputs": [],
   "source": [
    "# import all necesary libraries for the project\n",
    "import pandas as pd\n",
    "import os\n",
    "import numpy as np\n",
    "import matplotlib.pyplot as plt\n",
    "import seaborn as sns\n",
    "import datetime as dt\n",
    "import warnings\n",
    "import plotting_fn as pf\n",
    "warnings.filterwarnings('ignore')"
   ]
  },
  {
   "cell_type": "code",
   "execution_count": 5,
   "metadata": {},
   "outputs": [],
   "source": [
    "# Define working directory\n",
    "path = \"/Users/mau/Library/CloudStorage/Dropbox/Mac/Documents/Dissertation/Chapter 2/Entire_Data/By month/1_Generic\"\n",
    "os.chdir(path)\n",
    "\n",
    "# Filter Columns\n",
    "filter = ['playerkey', 'playercashableamt', 'wageredamt', 'maxbet', 'grosswin',\n",
    "       'currencyinamt', 'assetnumber', 'theoreticalpaybackpercent', \n",
    "       'age', 'rank', 'gender', 'date', 'start_time', 'end_time', 'duration',\n",
    "       'slotdenomination']\n",
    "# Import data\n",
    "dtf = pd.read_parquet('month_7_year_2015.parquet', columns=filter)\n",
    "\n",
    "# Check data\n",
    "dtf.columns\n",
    "\n",
    "# Select only the rows where duration is greater than or equal to zero\n",
    "dtf = dtf[dtf['duration'] >= pd.Timedelta(0)]"
   ]
  },
  {
   "cell_type": "code",
   "execution_count": 6,
   "metadata": {},
   "outputs": [],
   "source": [
    "# Sort data by start_time and playerkey\n",
    "dtf = dtf.sort_values(by=['playerkey', 'date', 'start_time'])"
   ]
  },
  {
   "attachments": {},
   "cell_type": "markdown",
   "metadata": {},
   "source": [
    "## Calculate Foundamental Variables\n",
    "\n",
    "The following variables were calculated using existing data:\n",
    "* _player_loss_: how much money each player has lost in each gamble.\n",
    "* _player_wins_: equals the amount of money they bet plus how much they won.\n",
    "* _percent_return_: the return in player's bets for each gamble played. \n",
    "\n",
    "$$\\text{percent return} = (\\frac{df[wins] - df[wageredamt]}{df[wageredamt]})*100$$\n",
    "\n",
    "* _playercashableamt_pct_change_: calculates the rate of change of player's outstanding gambling amount. \n",
    "\n",
    "$$\\text{playercashableamt \\% change} = (\\frac{df[playercashableamt_{t+1}] - df[playercashableamt_{t}]}{df[playercashableamt_{t}]})*100$$"
   ]
  },
  {
   "cell_type": "code",
   "execution_count": 7,
   "metadata": {},
   "outputs": [],
   "source": [
    "# Crate a new colum that is the inverse of casino_grosswin, named \"player_loss\"\n",
    "dtf['ops'] = dtf['grosswin']*-1\n",
    "\n",
    "# Create a new column that is the inverse of casino_grosswin, named \"player_loss\" that includes all negative values of 'ops'\n",
    "dtf['player_loss'] = np.where(dtf['ops'] < 0, dtf['ops'], 0)\n",
    "\n",
    "# Create a new column that is the inverse of casino_grosswin, named \"player_wins\" that includes all positive values of 'ops'\n",
    "dtf['player_wins'] = np.where(dtf['ops'] > 0, dtf['ops'], 0)\n",
    "\n",
    "# Create total_amt_won column\n",
    "dtf['total_amt_won'] = dtf[\"wageredamt\"]+dtf[\"ops\"]\n",
    "\n",
    "# Create colum profit\n",
    "dtf['profit'] = dtf['total_amt_won'] - dtf['wageredamt']\n",
    "\n",
    "# # Calculate percentage return for each gamble and add it as a new column\n",
    "dtf[\"percent_return\"] = ((dtf[\"wageredamt\"]+dtf[\"ops\"]) - dtf[\"wageredamt\"]) / dtf[\"wageredamt\"] * 100\n",
    "\n",
    "# # Create a time series variable for each player that starts at 1 and increases by 1 for each row\n",
    "draw_condition = dtf['grosswin'] == 0\n",
    "\n",
    "for i, row in dtf.iterrows():\n",
    "    if draw_condition[i]:\n",
    "        dtf.loc[i, 'profit'] = 0\n",
    "\n",
    "# Drop 'ops' column\n",
    "dtf = dtf.drop(columns=['ops'])\n",
    "\n",
    "# Create a time series variable for each player that starts at 1 and increases by 1 for each row\n",
    "dtf[\"gambles\"] = dtf.groupby(\"playerkey\").cumcount() + 1"
   ]
  },
  {
   "attachments": {},
   "cell_type": "markdown",
   "metadata": {},
   "source": [
    "### Calulates Number of Visits"
   ]
  },
  {
   "cell_type": "code",
   "execution_count": 8,
   "metadata": {},
   "outputs": [],
   "source": [
    "# Group the DataFrame by playerkey\n",
    "groups = dtf.groupby('playerkey')\n",
    "\n",
    "# Initialize the visit column to 1 for the first visit of each player\n",
    "dtf['visit'] = groups['date'].transform(lambda x: (x.diff().dt.days >= 1).cumsum() + 1)\n",
    "\n",
    "# Reset the visit count for each new player\n",
    "dtf['visit'] = dtf.groupby('playerkey')['visit'].apply(lambda x: x - x.iloc[0] + 1)\n"
   ]
  },
  {
   "attachments": {},
   "cell_type": "markdown",
   "metadata": {},
   "source": [
    "### Calculate Sessions based on Time\n",
    "\n",
    "If there is a pause of 30 minutes or more between gambles it is considered the end of a session, and the start of a new one."
   ]
  },
  {
   "cell_type": "code",
   "execution_count": 9,
   "metadata": {},
   "outputs": [],
   "source": [
    "# Convert the start_time column to datetime\n",
    "dtf[\"start_time\"] = pd.to_datetime(dtf[\"start_time\"])\n",
    "\n",
    "# Sort data by start_time and playerkey\n",
    "dtf = dtf.sort_values(by=['playerkey', 'date', 'start_time'])\n",
    "\n",
    "# Compute the time difference between consecutive gambles for each player\n",
    "dtf['time_diff'] = dtf.groupby('playerkey')['start_time'].diff()\n",
    "\n",
    "# Initialize the session_time column to 1 for the first gamble of each player\n",
    "dtf['session_time'] = dtf.groupby('playerkey').ngroup() + 1\n",
    "\n",
    "# Update the session_time column based on the time difference\n",
    "dtf['session_time'] += (dtf['time_diff'] > pd.Timedelta(minutes=30)).cumsum()\n",
    "\n",
    "# Reset the session_time count for each new visit\n",
    "dtf['session_time'] = dtf.groupby(['playerkey', 'visit'])['session_time'].apply(lambda x: x - x.iloc[0] + 1)\n",
    "\n",
    "# Remove the temporary time_diff column\n",
    "dtf = dtf.drop('time_diff', axis=1)"
   ]
  },
  {
   "attachments": {},
   "cell_type": "markdown",
   "metadata": {},
   "source": [
    "### Drop Players who played simultaneously in two machines"
   ]
  },
  {
   "cell_type": "code",
   "execution_count": 10,
   "metadata": {},
   "outputs": [],
   "source": [
    "# Simultaneous Play\n",
    "df_sim = pf.simultaneous_play(40000, dtf, 'session_time')\n",
    "\n",
    "# Remove repeated instances\n",
    "df_sim_no_repeat_v = df_sim.drop_duplicates(subset=['session_time', 'playerkey'])"
   ]
  },
  {
   "cell_type": "code",
   "execution_count": 11,
   "metadata": {},
   "outputs": [
    {
     "name": "stdout",
     "output_type": "stream",
     "text": [
      "Number of unique players in dtf:  282\n",
      "Number of players that played simultaneously:  8\n",
      "Number of unique players in dtf:  274\n"
     ]
    }
   ],
   "source": [
    "# Print unique number of players in dtf\n",
    "print(\"Number of unique players in dtf: \", len(dtf['playerkey'].unique()))\n",
    "# Prnt the number of players that played simultaneously\n",
    "print(\"Number of players that played simultaneously: \", len(df_sim_no_repeat_v))\n",
    "\n",
    "# Eliminate all the players that played simultaneously from the original dataset (dtf)\n",
    "dtf = dtf[~dtf['playerkey'].isin(df_sim_no_repeat_v['playerkey'])]\n",
    "\n",
    "# Print unique number of players in dtf\n",
    "print(\"Number of unique players in dtf: \", len(dtf['playerkey'].unique()))\n"
   ]
  },
  {
   "attachments": {},
   "cell_type": "markdown",
   "metadata": {},
   "source": [
    "### Calculate Sessions based on Machine Change\n",
    "\n",
    "Everytime a player switches machine a new sessions begins."
   ]
  },
  {
   "cell_type": "code",
   "execution_count": 12,
   "metadata": {},
   "outputs": [],
   "source": [
    "# Initialize the session_machine column to 1 for the first machine of each player\n",
    "dtf['session_machine'] = (dtf.groupby(\"playerkey\")[\"assetnumber\"].diff() != 0).cumsum()\n",
    "\n",
    "# Reset the session_machine count for each new visit\n",
    "dtf['session_machine'] = dtf.groupby(['playerkey', 'visit'])['session_machine'].apply(lambda x: x - x.iloc[0] + 1)\n"
   ]
  },
  {
   "attachments": {},
   "cell_type": "markdown",
   "metadata": {},
   "source": [
    "### Calculate the number of gambles per Visit"
   ]
  },
  {
   "cell_type": "code",
   "execution_count": 13,
   "metadata": {},
   "outputs": [],
   "source": [
    "# Create a column named \"gambles_visit\" that is the number of gambles per visit\n",
    "dtf[\"gambles_visit\"] = dtf.groupby([\"playerkey\", \"visit\"])[\"gambles\"].cumcount() + 1\n",
    "\n",
    "# Reset the gambles_visit count for each new visit\n",
    "dtf['gambles_visit'] = dtf.groupby(['playerkey', 'visit'])['gambles_visit'].apply(lambda x: x - x.iloc[0] + 1)\n"
   ]
  },
  {
   "attachments": {},
   "cell_type": "markdown",
   "metadata": {},
   "source": [
    "### Calculate the number of gambles per Session Time"
   ]
  },
  {
   "cell_type": "code",
   "execution_count": 14,
   "metadata": {},
   "outputs": [],
   "source": [
    "# Create a column named \"gambles_session\" that is the number of gambles per session\n",
    "dtf[\"gambles_session\"] = dtf.groupby([\"playerkey\", \"session_time\"])[\"gambles\"].cumcount() + 1\n",
    "\n",
    "# Reset the gambles_session count for each new session\n",
    "dtf['gambles_session'] = dtf.groupby(['playerkey', 'session_time'])['gambles_session'].apply(lambda x: x - x.iloc[0] + 1)\n"
   ]
  },
  {
   "attachments": {},
   "cell_type": "markdown",
   "metadata": {},
   "source": [
    "### Calculate the number of gambles per Session Machine"
   ]
  },
  {
   "cell_type": "code",
   "execution_count": 15,
   "metadata": {},
   "outputs": [],
   "source": [
    "# Create a column named \"gambles_machine\" that is the number of gambles per session_machine\n",
    "dtf[\"gambles_machine\"] = dtf.groupby([\"playerkey\", \"session_machine\"])[\"gambles\"].cumcount() + 1\n",
    "\n",
    "# Reset the gambles_machine count for each new session_machine\n",
    "dtf['gambles_machine'] = dtf.groupby(['playerkey', 'session_machine'])['gambles_machine'].apply(lambda x: x - x.iloc[0] + 1)"
   ]
  },
  {
   "attachments": {},
   "cell_type": "markdown",
   "metadata": {},
   "source": [
    "### Calculate the number of Machine Changes\n"
   ]
  },
  {
   "cell_type": "code",
   "execution_count": 16,
   "metadata": {},
   "outputs": [],
   "source": [
    "# Create a column called change_machine that is 1 everytime a player changes assetnumber 0 otherwise, grouped by playerkey and session_time\n",
    "dtf['machines_played'] = (dtf.groupby(['playerkey', 'session_time'])['assetnumber'].diff() != 0).astype(int)"
   ]
  },
  {
   "attachments": {},
   "cell_type": "markdown",
   "metadata": {},
   "source": [
    "# Percentiles"
   ]
  },
  {
   "attachments": {},
   "cell_type": "markdown",
   "metadata": {},
   "source": [
    "## Overall Gambles"
   ]
  },
  {
   "cell_type": "code",
   "execution_count": 17,
   "metadata": {},
   "outputs": [
    {
     "name": "stdout",
     "output_type": "stream",
     "text": [
      "First quartile of the number of gambles per player: 58.0\n",
      "Second quartile of the number of gambles per player: 144.0\n",
      "Third quartile of the number of gambles per player: 322.25\n",
      "Fourth quartile of the number of gambles per player: 3106.0\n"
     ]
    }
   ],
   "source": [
    "# Calculate the number of gambles per each player, and store it in a list\n",
    "gambles_per_player = []\n",
    "for i in dtf[\"playerkey\"].unique().tolist():\n",
    "    gambles_per_player.append(dtf[dtf[\"playerkey\"] == i][\"gambles\"].max())\n",
    "\n",
    "# Calculate the first quartile of the number of gambles per player and store is as first_quartile\n",
    "first_quartile = np.percentile(gambles_per_player, 25)\n",
    "print(\"First quartile of the number of gambles per player:\", first_quartile)\n",
    "\n",
    "# Calculate the second quartile of the number of gambles per player and store is as second_quartile\n",
    "second_quartile = np.percentile(gambles_per_player, 50)\n",
    "print(\"Second quartile of the number of gambles per player:\", second_quartile)\n",
    "\n",
    "# Calculate the third quartile of the number of gambles per player and store is as third_quartile\n",
    "third_quartile = np.percentile(gambles_per_player, 75)\n",
    "print(\"Third quartile of the number of gambles per player:\", third_quartile)\n",
    "\n",
    "# Calculate the fourth quartile of the number of gambles per player and store is as fourth_quartile\n",
    "fourth_quartile = np.percentile(gambles_per_player, 100)\n",
    "print(\"Fourth quartile of the number of gambles per player:\", fourth_quartile)\n"
   ]
  },
  {
   "cell_type": "code",
   "execution_count": 18,
   "metadata": {},
   "outputs": [
    {
     "data": {
      "image/png": "[encoded data removed]",
      "text/plain": [
       "<Figure size 640x480 with 1 Axes>"
      ]
     },
     "metadata": {},
     "output_type": "display_data"
    }
   ],
   "source": [
    "# Plot the distribution of the number of gambles per player\n",
    "plt.hist(gambles_per_player, bins=15)\n",
    "# Plot the first quartile as a vertical line\n",
    "plt.axvline(first_quartile, color='r', linestyle='solid', linewidth=2)\n",
    "# Plot the second quartile as a vertical line\n",
    "plt.axvline(second_quartile, color='r', linestyle='dashed', linewidth=2)\n",
    "# Plot the third quartile as a vertical line\n",
    "plt.axvline(third_quartile, color='r', linestyle='dashdot', linewidth=2)\n",
    "# Plot the fourth quartile as a vertical line\n",
    "plt.axvline(fourth_quartile, color='r', linestyle='dotted', linewidth=2)\n",
    "plt.xlabel(\"Number of gambles per player\")\n",
    "plt.ylabel(\"Frequency\")\n",
    "plt.title(\"Distribution of the number of gambles per player\")\n",
    "plt.show()\n"
   ]
  },
  {
   "attachments": {},
   "cell_type": "markdown",
   "metadata": {},
   "source": [
    "## Distribution per Visit 1"
   ]
  },
  {
   "cell_type": "code",
   "execution_count": 19,
   "metadata": {},
   "outputs": [
    {
     "name": "stdout",
     "output_type": "stream",
     "text": [
      "First quartile of the number of gambles per player: 58.0\n",
      "Second quartile of the number of gambles per player: 144.0\n",
      "Third quartile of the number of gambles per player: 322.25\n",
      "Fourth quartile of the number of gambles per player: 3106.0\n"
     ]
    }
   ],
   "source": [
    "# Filter dataframe by visit == 1\n",
    "dtf_visit1 = dtf[dtf[\"visit\"] == 1]\n",
    "\n",
    "# Calculate the number of gambles per each player, and store it in a list\n",
    "gambles_per_player_visit1 = []\n",
    "for i in dtf_visit1[\"playerkey\"].unique().tolist():\n",
    "    gambles_per_player_visit1.append(dtf_visit1[dtf_visit1[\"playerkey\"] == i][\"gambles_visit\"].max())\n",
    "\n",
    "# Calculate the first quartile of the number of gambles per player and store is as first_quartile\n",
    "first_quartile_visit1 = np.percentile(gambles_per_player_visit1, 25)\n",
    "print(\"First quartile of the number of gambles per player:\", first_quartile_visit1)\n",
    "\n",
    "# Calculate the second quartile of the number of gambles per player and store is as second_quartile\n",
    "second_quartile_visit1 = np.percentile(gambles_per_player_visit1, 50)\n",
    "print(\"Second quartile of the number of gambles per player:\", second_quartile_visit1)\n",
    "\n",
    "# Calculate the third quartile of the number of gambles per player and store is as third_quartile\n",
    "third_quartile_visit1 = np.percentile(gambles_per_player_visit1, 75)\n",
    "print(\"Third quartile of the number of gambles per player:\", third_quartile_visit1)\n",
    "\n",
    "# Calculate the fourth quartile of the number of gambles per player and store is as fourth_quartile\n",
    "fourth_quartile_visit1 = np.percentile(gambles_per_player_visit1, 100)\n",
    "print(\"Fourth quartile of the number of gambles per player:\", fourth_quartile_visit1)"
   ]
  },
  {
   "cell_type": "code",
   "execution_count": 20,
   "metadata": {},
   "outputs": [
    {
     "data": {
      "image/png": "[encoded data removed]",
      "text/plain": [
       "<Figure size 640x480 with 1 Axes>"
      ]
     },
     "metadata": {},
     "output_type": "display_data"
    }
   ],
   "source": [
    "# Plot the distribution of the number of gambles per player\n",
    "plt.hist(gambles_per_player_visit1, bins=15)\n",
    "# Plot the first quartile as a vertical line\n",
    "plt.axvline(first_quartile_visit1, color='r', linestyle='solid', linewidth=2)\n",
    "# Plot the second quartile as a vertical line\n",
    "plt.axvline(second_quartile_visit1, color='r', linestyle='dashed', linewidth=2)\n",
    "# Plot the third quartile as a vertical line\n",
    "plt.axvline(third_quartile_visit1, color='r', linestyle='dashdot', linewidth=2)\n",
    "# Plot the fourth quartile as a vertical line\n",
    "plt.axvline(fourth_quartile_visit1, color='r', linestyle='dotted', linewidth=2)\n",
    "plt.xlabel(\"Number of gambles per player\")\n",
    "plt.ylabel(\"Frequency\")\n",
    "plt.title(\"Distribution of the number of gambles per player- Visit 1\")\n",
    "plt.show()"
   ]
  },
  {
   "attachments": {},
   "cell_type": "markdown",
   "metadata": {},
   "source": [
    "## Distribution per Session Time"
   ]
  },
  {
   "cell_type": "code",
   "execution_count": 21,
   "metadata": {},
   "outputs": [
    {
     "name": "stdout",
     "output_type": "stream",
     "text": [
      "First quartile of the number of gambles per player: 42.0\n",
      "Second quartile of the number of gambles per player: 111.0\n",
      "Third quartile of the number of gambles per player: 217.0\n",
      "Fourth quartile of the number of gambles per player: 1534.0\n"
     ]
    }
   ],
   "source": [
    "# Filter dataframe by visit == 1 and session == 1\n",
    "dtf_session1 = dtf[(dtf[\"visit\"] == 1) & (dtf[\"session_time\"] == 1)]\n",
    "\n",
    "# Calculate the number of gambles per each player, and store it in a list\n",
    "gambles_per_player_session1 = []\n",
    "for i in dtf_session1[\"playerkey\"].unique().tolist():\n",
    "    gambles_per_player_session1.append(dtf_session1[dtf_session1[\"playerkey\"] == i][\"gambles_session\"].max())\n",
    "\n",
    "# Calculate the first quartile of the number of gambles per player and store is as first_quartile\n",
    "first_quartile_session1 = np.percentile(gambles_per_player_session1, 25)\n",
    "print(\"First quartile of the number of gambles per player:\", first_quartile_session1)\n",
    "\n",
    "# Calculate the second quartile of the number of gambles per player and store is as second_quartile\n",
    "second_quartile_session1 = np.percentile(gambles_per_player_session1, 50)\n",
    "print(\"Second quartile of the number of gambles per player:\", second_quartile_session1)\n",
    "\n",
    "# Calculate the third quartile of the number of gambles per player and store is as third_quartile\n",
    "third_quartile_session1 = np.percentile(gambles_per_player_session1, 75)\n",
    "print(\"Third quartile of the number of gambles per player:\", third_quartile_session1)\n",
    "\n",
    "# Calculate the fourth quartile of the number of gambles per player and store is as fourth_quartile\n",
    "fourth_quartile_session1 = np.percentile(gambles_per_player_session1, 100)\n",
    "print(\"Fourth quartile of the number of gambles per player:\", fourth_quartile_session1)"
   ]
  },
  {
   "cell_type": "code",
   "execution_count": 22,
   "metadata": {},
   "outputs": [
    {
     "data": {
      "image/png": "[encoded data removed]",
      "text/plain": [
       "<Figure size 640x480 with 1 Axes>"
      ]
     },
     "metadata": {},
     "output_type": "display_data"
    }
   ],
   "source": [
    "# Plot the distribution of the number of gambles per player\n",
    "plt.hist(gambles_per_player_session1, bins=15)\n",
    "# Plot the first quartile as a vertical line\n",
    "plt.axvline(first_quartile_session1, color='r', linestyle='solid', linewidth=2)\n",
    "# Plot the second quartile as a vertical line\n",
    "plt.axvline(second_quartile_session1, color='r', linestyle='dashed', linewidth=2)\n",
    "# Plot the third quartile as a vertical line\n",
    "plt.axvline(third_quartile_session1, color='r', linestyle='dashdot', linewidth=2)\n",
    "# Plot the fourth quartile as a vertical line\n",
    "plt.axvline(fourth_quartile_session1, color='r', linestyle='dotted', linewidth=2)\n",
    "plt.xlabel(\"Number of gambles per player\")\n",
    "plt.ylabel(\"Frequency\")\n",
    "plt.title(\"Distribution of the number of gambles per player- Visit 1 - Session 1\")\n",
    "plt.show()"
   ]
  },
  {
   "attachments": {},
   "cell_type": "markdown",
   "metadata": {},
   "source": [
    "# Create Dataframes from total number of Gambles"
   ]
  },
  {
   "cell_type": "code",
   "execution_count": 23,
   "metadata": {},
   "outputs": [
    {
     "name": "stdout",
     "output_type": "stream",
     "text": [
      "# of playes in extreme_r: 69\n",
      "# of players in high_r: 68\n",
      "# of players in low_r: 68\n",
      "# of players in minimum_r: 69\n"
     ]
    }
   ],
   "source": [
    "# Let's create two separarte dataframes for the top 20% and bottom 20% of players by creating a list of player for each percentile\n",
    "extreme_r = dtf.groupby(\"playerkey\")[\"gambles\"].max()[dtf.groupby(\"playerkey\")[\"gambles\"].max() >= third_quartile].index.tolist()\n",
    "high_r = dtf.groupby(\"playerkey\")[\"gambles\"].max()[(dtf.groupby(\"playerkey\")[\"gambles\"].max() < third_quartile) & (dtf.groupby(\"playerkey\")[\"gambles\"].max() >= second_quartile)].index.tolist()\n",
    "low_r = dtf.groupby(\"playerkey\")[\"gambles\"].max()[(dtf.groupby(\"playerkey\")[\"gambles\"].max() < second_quartile) & (dtf.groupby(\"playerkey\")[\"gambles\"].max() >= first_quartile)].index.tolist()\n",
    "minimum_r = dtf.groupby(\"playerkey\")[\"gambles\"].max()[dtf.groupby(\"playerkey\")[\"gambles\"].max() < first_quartile].index.tolist()\n",
    "\n",
    "# How many players are in extreme_r?\n",
    "print(\"# of playes in extreme_r:\", len(extreme_r))\n",
    "\n",
    "# How many players are in high_r?\n",
    "print(\"# of players in high_r:\", len(high_r))\n",
    "\n",
    "# How many players are in low_r?\n",
    "print(\"# of players in low_r:\", len(low_r))\n",
    "\n",
    "# How many players are in minimum_r?\n",
    "print(\"# of players in minimum_r:\", len(minimum_r))\n",
    "\n",
    "# Create a dataframe for the extreme_r players\n",
    "dtf_extreme_r = dtf[dtf[\"playerkey\"].isin(extreme_r)]\n",
    "dtf_extreme_r['clasification'] = \"extreme_r\"\n",
    "\n",
    "# Create a dataframe for the high_r players\n",
    "dtf_high_r = dtf[dtf[\"playerkey\"].isin(high_r)]\n",
    "dtf_high_r['clasification'] = \"high_r\"\n",
    "\n",
    "# Create a dataframe for the low_r players\n",
    "dtf_low_r = dtf[dtf[\"playerkey\"].isin(low_r)]\n",
    "dtf_low_r['clasification'] = \"low_r\"\n",
    "\n",
    "# Create a dataframe for the minimum_r players\n",
    "dtf_minimum_r = dtf[dtf[\"playerkey\"].isin(minimum_r)]\n",
    "dtf_minimum_r['clasification'] = \"minimum_r\"\n",
    "\n",
    "# Concatenate the four dataframes into one\n",
    "dtf_r = pd.concat([dtf_extreme_r, dtf_high_r, dtf_low_r, dtf_minimum_r])"
   ]
  },
  {
   "attachments": {},
   "cell_type": "markdown",
   "metadata": {},
   "source": [
    "# Save Dataframes"
   ]
  },
  {
   "cell_type": "code",
   "execution_count": 24,
   "metadata": {},
   "outputs": [],
   "source": [
    "# Define saving path\n",
    "path = \"/Users/mau/Library/CloudStorage/Dropbox/Mac/Documents/Dissertation/Chapter 2/Entire_Data/By month/2_June\"\n",
    "os.chdir(path)\n",
    "\n",
    "# General Dataframe to parquet\n",
    "dtf_r.to_parquet(\"classification.parquet\", engine=\"pyarrow\")\n"
   ]
  }
 ],
 "metadata": {
  "kernelspec": {
   "display_name": "Python 3",
   "language": "python",
   "name": "python3"
  },
  "language_info": {
   "codemirror_mode": {
    "name": "ipython",
    "version": 3
   },
   "file_extension": ".py",
   "mimetype": "text/x-python",
   "name": "python",
   "nbconvert_exporter": "python",
   "pygments_lexer": "ipython3",
   "version": "3.10.0"
  },
  "orig_nbformat": 4
 },
 "nbformat": 4,
 "nbformat_minor": 2
}
