{
 "cells": [
  {
   "attachments": {},
   "cell_type": "markdown",
   "metadata": {},
   "source": [
    "# Naive Bayes Model"
   ]
  },
  {
   "attachments": {},
   "cell_type": "markdown",
   "metadata": {},
   "source": [
    "## Data Preprocessing"
   ]
  },
  {
   "cell_type": "code",
   "execution_count": 1,
   "metadata": {},
   "outputs": [],
   "source": [
    "# Importing the libraries\n",
    "import numpy as np\n",
    "import matplotlib.pyplot as plt\n",
    "import pandas as pd\n",
    "import os\n",
    "from sklearn.compose import ColumnTransformer\n",
    "from sklearn.preprocessing import OneHotEncoder\n",
    "from sklearn.preprocessing import LabelEncoder\n",
    "from sklearn.preprocessing import StandardScaler\n",
    "from sklearn.model_selection import train_test_split\n",
    "from sklearn.metrics import confusion_matrix, accuracy_score, precision_score, recall_score, f1_score\n",
    "from sklearn.naive_bayes import GaussianNB\n",
    "\n",
    "# Set working directory\n",
    "month_file = '3_July'\n",
    "# Set working directory\n",
    "os.chdir(\"/Users/mau/Library/CloudStorage/Dropbox/Mac/Documents/Dissertation/Chapter 2/Entire_Data/By month/\"+month_file+\"/Ending Balances/Per_Player\")"
   ]
  },
  {
   "cell_type": "markdown",
   "metadata": {},
   "source": [
    "## Top Players"
   ]
  },
  {
   "cell_type": "code",
   "execution_count": 2,
   "metadata": {},
   "outputs": [
    {
     "name": "stdout",
     "output_type": "stream",
     "text": [
      "[[287   9]\n",
      " [447  39]]\n",
      "Accuracy:  0.41687979539641945\n",
      "Precision:  0.6017540871934605\n",
      "Recall:  0.5249207540874208\n",
      "F1 Score:  0.3516744845641977\n"
     ]
    }
   ],
   "source": [
    "# Filter Columns\n",
    "filter = ['gender', 'age_gen', 'first_outcome',\n",
    "        'first_wager','first_p/b', 'last_outcome', 'last_wager', 'last_p/b',\n",
    "        'beginning_amt', 'ending_amt', 'ending_balance', 'ave_slotdenom', \n",
    "        'std_slotdenom', 'min_slotdenom', 'max_slotdenom', 'ave_theo_payback',\n",
    "        'min_theo_payback', 'max_theo_payback', 'ave_wageramt', 'std_wageramt',\n",
    "        'min_wager', 'max_wager', 'ave_p/b', 'std_p/b', 'max_p/b', 'max_profit', 'depletion_slope', \n",
    "        '#inc_slotdenom', '#dec_slotdenom', '#inc_maxbet', '#dec_maxbet', \n",
    "        '#W', '#L', '#NH', '#D', '#2ws', '#3ws', '#4ws',\n",
    "        'w/min', 'l/min', '2ws/min', '3ws/min', '4ws/min',\n",
    "        'nh/min', 'd/min', 'w/g', 'l/g', 'nh/g', 'd/g', \n",
    "        'ave_time_per_gamble', 'min_time_per_gamble', 'max_time_per_gamble',\n",
    "        'machines_changes', 'unique_machines', 'ave_time_per_machine',\n",
    "        'total_duration', 'total_gambles', 'continue_playing']\n",
    "\n",
    "# Load dataset\n",
    "dataset = pd.read_parquet('top_players_continuation_by_session.parquet', columns=filter)\n",
    "\n",
    "# # Seperate dependent and independent variables\n",
    "X = dataset.iloc[:, :-1].values\n",
    "y = dataset.iloc[:, -1].values\n",
    "\n",
    "# Econde gender column (Binary)\n",
    "le = LabelEncoder()\n",
    "\n",
    "# Binary Encode gender\n",
    "X[:, 0] = le.fit_transform(X[:, 0])\n",
    "\n",
    "# # Encode age_generartion, first_outoce, last_outcome columns\n",
    "ct = ColumnTransformer(transformers=[('encoder', OneHotEncoder(), [1, 2, 5])], remainder='passthrough')\n",
    "X = np.array(ct.fit_transform(X))\n",
    "\n",
    "y = le.fit_transform(y)\n",
    "\n",
    "X_train, X_test, y_train, y_test = train_test_split(X, y, test_size = 0.2, random_state = 1)\n",
    "\n",
    "sc = StandardScaler()\n",
    "\n",
    "# Scale all columns except the encoded ones\n",
    "X_train[:, 14:] = sc.fit_transform(X_train[:, 14:])\n",
    "X_test[:, 14:] = sc.transform(X_test[:, 14:])\n",
    "\n",
    "classifier = GaussianNB()\n",
    "classifier.fit(X_train, y_train)\n",
    "\n",
    "y_pred = classifier.predict(X_test)\n",
    "\n",
    "cm = confusion_matrix(y_test, y_pred)\n",
    "print(cm)\n",
    "print('Accuracy: ', accuracy_score(y_test, y_pred))\n",
    "print('Precision: ', precision_score(y_test, y_pred, average='macro'))\n",
    "print('Recall: ', recall_score(y_test, y_pred, average='macro'))\n",
    "print('F1 Score: ', f1_score(y_test, y_pred, average='macro'))"
   ]
  },
  {
   "attachments": {},
   "cell_type": "markdown",
   "metadata": {},
   "source": [
    "### Which IDVs have the most weight in the model"
   ]
  },
  {
   "cell_type": "code",
   "execution_count": 3,
   "metadata": {},
   "outputs": [
    {
     "name": "stdout",
     "output_type": "stream",
     "text": [
      "{0: 'gender', 1: 'age_gen', 2: 'first_outcome', 3: 'first_wager', 4: 'first_p/b', 5: 'last_outcome', 6: 'last_wager', 7: 'last_p/b', 8: 'beginning_amt', 9: 'ending_amt', 10: 'ending_balance', 11: 'ave_slotdenom', 12: 'std_slotdenom', 13: 'min_slotdenom', 14: 'max_slotdenom', 15: 'ave_theo_payback', 16: 'min_theo_payback', 17: 'max_theo_payback', 18: 'ave_wageramt', 19: 'std_wageramt', 20: 'min_wager', 21: 'max_wager', 22: 'ave_p/b', 23: 'std_p/b', 24: 'max_p/b', 25: 'max_profit', 26: 'depletion_slope', 27: '#inc_slotdenom', 28: '#dec_slotdenom', 29: '#inc_maxbet', 30: '#dec_maxbet', 31: '#W', 32: '#L', 33: '#NH', 34: '#D', 35: '#2ws', 36: '#3ws', 37: '#4ws', 38: 'w/min', 39: 'l/min', 40: '2ws/min', 41: '3ws/min', 42: '4ws/min', 43: 'nh/min', 44: 'd/min', 45: 'w/g', 46: 'l/g', 47: 'nh/g', 48: 'd/g', 49: 'ave_time_per_gamble', 50: 'min_time_per_gamble', 51: 'max_time_per_gamble', 52: 'machines_changes', 53: 'unique_machines', 54: 'ave_time_per_machine', 55: 'total_duration', 56: 'total_gambles', 57: 'continue_playing'}\n"
     ]
    }
   ],
   "source": [
    "# Create a dictionary mapping column names to their index positions\n",
    "column_index_mapping = {index: column_name for index, column_name in enumerate(dataset.columns)}\n",
    "\n",
    "# Print the dictionary\n",
    "print(column_index_mapping)"
   ]
  },
  {
   "cell_type": "code",
   "execution_count": 4,
   "metadata": {},
   "outputs": [
    {
     "name": "stdout",
     "output_type": "stream",
     "text": [
      "remainder__x34: 0.03829787234042552\n",
      "remainder__x33: 0.03404255319148934\n",
      "remainder__x32: 0.02978723404255317\n",
      "remainder__x7: 0.02765957446808508\n",
      "remainder__x44: 0.02127659574468087\n",
      "remainder__x54: 0.017021276595744705\n",
      "remainder__x53: 0.01702127659574467\n",
      "remainder__x26: 0.008510638297872353\n",
      "encoder__x1_Silent: 0.008510638297872342\n",
      "remainder__x45: 0.0063829787234042645\n",
      "remainder__x56: 0.0063829787234042645\n",
      "remainder__x36: 0.004255319148936176\n",
      "remainder__x49: 0.004255319148936176\n",
      "encoder__x5_near-hit: 0.002127659574468088\n",
      "remainder__x42: 0.002127659574468088\n",
      "remainder__x52: 0.002127659574468088\n",
      "encoder__x1_Baby Boomers: 0.0\n",
      "encoder__x1_Gen X: 0.0\n",
      "encoder__x1_Millenials: 0.0\n",
      "encoder__x2_draw: 0.0\n",
      "encoder__x2_gain: 0.0\n",
      "encoder__x2_loss: 0.0\n",
      "encoder__x2_near-hit: 0.0\n",
      "encoder__x5_gain: 0.0\n",
      "encoder__x5_loss: 0.0\n",
      "remainder__x0: 0.0\n",
      "remainder__x4: 0.0\n",
      "remainder__x8: 0.0\n",
      "remainder__x9: 0.0\n",
      "remainder__x10: 0.0\n",
      "remainder__x15: 0.0\n",
      "remainder__x16: 0.0\n",
      "remainder__x17: 0.0\n",
      "remainder__x22: 0.0\n",
      "remainder__x23: 0.0\n",
      "remainder__x24: 0.0\n",
      "remainder__x27: 0.0\n",
      "remainder__x28: 0.0\n",
      "remainder__x31: 0.0\n",
      "remainder__x35: 0.0\n",
      "remainder__x37: 0.0\n",
      "remainder__x38: 0.0\n",
      "remainder__x39: 0.0\n",
      "remainder__x41: 0.0\n",
      "remainder__x43: 0.0\n",
      "remainder__x48: 0.0\n",
      "remainder__x50: 0.0\n",
      "remainder__x51: 0.0\n",
      "remainder__x55: 0.0\n",
      "remainder__x3: -0.002127659574468088\n",
      "remainder__x6: -0.002127659574468088\n",
      "remainder__x11: -0.002127659574468088\n",
      "remainder__x12: -0.002127659574468088\n",
      "remainder__x14: -0.002127659574468088\n",
      "remainder__x18: -0.002127659574468088\n",
      "remainder__x19: -0.002127659574468088\n",
      "remainder__x20: -0.002127659574468088\n",
      "remainder__x21: -0.002127659574468088\n",
      "remainder__x30: -0.002127659574468088\n",
      "remainder__x46: -0.002127659574468088\n",
      "remainder__x13: -0.004255319148936176\n",
      "remainder__x47: -0.004255319148936176\n",
      "remainder__x25: -0.006382978723404253\n",
      "remainder__x29: -0.0063829787234042645\n",
      "remainder__x40: -0.019148936170212794\n"
     ]
    }
   ],
   "source": [
    "from sklearn.inspection import permutation_importance\n",
    "\n",
    "# Assuming you have a trained classifier named 'classifier' and encoded data named 'X_encoded'\n",
    "# Calculate permutation importances\n",
    "result = permutation_importance(classifier, X_train, y_train, n_repeats=10, random_state=42)\n",
    "\n",
    "# Get feature importances and feature names\n",
    "importances = result.importances_mean\n",
    "feature_names = ct.get_feature_names_out()\n",
    "\n",
    "# Sort feature importances\n",
    "feature_importance = list(zip(feature_names, importances))\n",
    "feature_importance.sort(key=lambda x: x[1], reverse=True)\n",
    "\n",
    "# Print feature importances\n",
    "for feature, importance in feature_importance:\n",
    "    print(f\"{feature}: {importance}\")\n"
   ]
  },
  {
   "attachments": {},
   "cell_type": "markdown",
   "metadata": {},
   "source": [
    "## Cumulative Accuracy Profile (CAP) Graph"
   ]
  },
  {
   "cell_type": "code",
   "execution_count": 3,
   "metadata": {},
   "outputs": [
    {
     "data": {
      "image/png": "[encoded data removed]",
      "text/plain": [
       "<Figure size 640x480 with 1 Axes>"
      ]
     },
     "metadata": {},
     "output_type": "display_data"
    }
   ],
   "source": [
    "import numpy as np\n",
    "import matplotlib.pyplot as plt\n",
    "\n",
    "# Assuming you have the predicted probabilities or scores named 'predicted_scores' and true labels named 'true_labels'\n",
    "\n",
    "# Sort the scores and corresponding true labels\n",
    "sorted_indices = np.argsort(y_pred)[::-1]\n",
    "sorted_true_labels = y_test[sorted_indices]\n",
    "\n",
    "# Calculate cumulative metrics\n",
    "total_positive = np.sum(y_test)\n",
    "cumulative_positives = np.cumsum(sorted_true_labels)\n",
    "cumulative_accuracy = cumulative_positives / total_positive\n",
    "cumulative_fraction = np.arange(1, len(sorted_true_labels) + 1) / len(sorted_true_labels)\n",
    "\n",
    "# Create the CAP curve plot\n",
    "plt.plot(cumulative_fraction, cumulative_accuracy, label='Model')\n",
    "plt.plot([0, 1], [0, 1], 'k--', label='Baseline')\n",
    "plt.xlabel('Cumulative Fraction')\n",
    "plt.ylabel('Cumulative Accuracy')\n",
    "plt.title('Cumulative Accuracy Profile (CAP) Curve')\n",
    "plt.legend()\n",
    "plt.show()"
   ]
  },
  {
   "cell_type": "markdown",
   "metadata": {},
   "source": [
    "## Bottom Players"
   ]
  },
  {
   "cell_type": "code",
   "execution_count": 4,
   "metadata": {},
   "outputs": [
    {
     "name": "stdout",
     "output_type": "stream",
     "text": [
      "[[ 164 2278]\n",
      " [  51  778]]\n",
      "Accuracy:  0.28798532558850504\n",
      "Precision:  0.5086859247534397\n",
      "Recall:  0.5028190818299383\n",
      "F1 Score:  0.2619811488460341\n"
     ]
    }
   ],
   "source": [
    "# Filter Columns\n",
    "filter = ['gender', 'age_gen', 'first_outcome',\n",
    "        'first_wager','first_p/b', 'last_outcome', 'last_wager', 'last_p/b',\n",
    "        'beginning_amt', 'ending_amt', 'ending_balance', 'ave_slotdenom', \n",
    "        'std_slotdenom', 'min_slotdenom', 'max_slotdenom', 'ave_theo_payback',\n",
    "        'min_theo_payback', 'max_theo_payback', 'ave_wageramt', 'std_wageramt',\n",
    "        'min_wager', 'max_wager', 'ave_p/b', 'std_p/b', 'max_p/b', 'max_profit', 'depletion_slope', \n",
    "        '#inc_slotdenom', '#dec_slotdenom', '#inc_maxbet', '#dec_maxbet', \n",
    "        '#W', '#L', '#NH', '#D', '#2ws', '#3ws', '#4ws',\n",
    "        'w/min', 'l/min', '2ws/min', '3ws/min', '4ws/min',\n",
    "        'nh/min', 'd/min', 'w/g', 'l/g', 'nh/g', 'd/g', \n",
    "        'ave_time_per_gamble', 'min_time_per_gamble', 'max_time_per_gamble',\n",
    "        'machines_changes', 'unique_machines', 'ave_time_per_machine',\n",
    "        'total_duration', 'total_gambles', 'continue_playing']\n",
    "\n",
    "# Load dataset\n",
    "dataset = pd.read_parquet('ntop_players_continuation_by_session.parquet', columns=filter)\n",
    "\n",
    "# # Seperate dependent and independent variables\n",
    "X = dataset.iloc[:, :-1].values\n",
    "y = dataset.iloc[:, -1].values\n",
    "\n",
    "# Econde gender column (Binary)\n",
    "le = LabelEncoder()\n",
    "\n",
    "# Binary Encode gender\n",
    "X[:, 0] = le.fit_transform(X[:, 0])\n",
    "\n",
    "# # Encode age_generartion, first_outoce, last_outcome columns\n",
    "ct = ColumnTransformer(transformers=[('encoder', OneHotEncoder(), [1, 2, 5])], remainder='passthrough')\n",
    "X = np.array(ct.fit_transform(X))\n",
    "\n",
    "y = le.fit_transform(y)\n",
    "\n",
    "X_train, X_test, y_train, y_test = train_test_split(X, y, test_size = 0.2, random_state = 1)\n",
    "\n",
    "sc = StandardScaler()\n",
    "\n",
    "# Scale all columns except the encoded ones\n",
    "X_train[:, 14:] = sc.fit_transform(X_train[:, 14:])\n",
    "X_test[:, 14:] = sc.transform(X_test[:, 14:])\n",
    "\n",
    "classifier = GaussianNB()\n",
    "classifier.fit(X_train, y_train)\n",
    "\n",
    "y_pred = classifier.predict(X_test)\n",
    "\n",
    "cm = confusion_matrix(y_test, y_pred)\n",
    "print(cm)\n",
    "print('Accuracy: ', accuracy_score(y_test, y_pred))\n",
    "print('Precision: ', precision_score(y_test, y_pred, average='macro'))\n",
    "print('Recall: ', recall_score(y_test, y_pred, average='macro'))\n",
    "print('F1 Score: ', f1_score(y_test, y_pred, average='macro'))"
   ]
  },
  {
   "cell_type": "code",
   "execution_count": 7,
   "metadata": {},
   "outputs": [
    {
     "name": "stdout",
     "output_type": "stream",
     "text": [
      "{0: 'gender', 1: 'age_gen', 2: 'first_outcome', 3: 'first_wager', 4: 'first_p/b', 5: 'last_outcome', 6: 'last_wager', 7: 'last_p/b', 8: 'beginning_amt', 9: 'ending_amt', 10: 'ending_balance', 11: 'ave_slotdenom', 12: 'std_slotdenom', 13: 'min_slotdenom', 14: 'max_slotdenom', 15: 'ave_theo_payback', 16: 'min_theo_payback', 17: 'max_theo_payback', 18: 'ave_wageramt', 19: 'std_wageramt', 20: 'min_wager', 21: 'max_wager', 22: 'ave_p/b', 23: 'std_p/b', 24: 'max_p/b', 25: 'max_profit', 26: 'depletion_slope', 27: '#inc_slotdenom', 28: '#dec_slotdenom', 29: '#inc_maxbet', 30: '#dec_maxbet', 31: '#W', 32: '#L', 33: '#NH', 34: '#D', 35: '#2ws', 36: '#3ws', 37: '#4ws', 38: 'w/min', 39: 'l/min', 40: '2ws/min', 41: '3ws/min', 42: '4ws/min', 43: 'nh/min', 44: 'd/min', 45: 'w/g', 46: 'l/g', 47: 'nh/g', 48: 'd/g', 49: 'ave_time_per_gamble', 50: 'min_time_per_gamble', 51: 'max_time_per_gamble', 52: 'machines_changes', 53: 'unique_machines', 54: 'ave_time_per_machine', 55: 'total_duration', 56: 'total_gambles', 57: 'continue_playing'}\n"
     ]
    }
   ],
   "source": [
    "# Create a dictionary mapping column names to their index positions\n",
    "column_index_mapping = {index: column_name for index, column_name in enumerate(dataset.columns)}\n",
    "\n",
    "# Print the dictionary\n",
    "print(column_index_mapping)"
   ]
  },
  {
   "cell_type": "code",
   "execution_count": 8,
   "metadata": {},
   "outputs": [
    {
     "name": "stdout",
     "output_type": "stream",
     "text": [
      "remainder__x43: 0.016078431372549024\n",
      "remainder__x21: 0.008235294117647068\n",
      "remainder__x39: 0.008235294117647058\n",
      "remainder__x19: 0.007843137254901971\n",
      "remainder__x53: 0.007843137254901966\n",
      "remainder__x42: 0.00745098039215687\n",
      "remainder__x40: 0.0070588235294117676\n",
      "remainder__x3: 0.00627450980392158\n",
      "remainder__x22: 0.0054901960784313805\n",
      "remainder__x25: 0.005490196078431375\n",
      "remainder__x24: 0.005098039215686284\n",
      "encoder__x5_draw: 0.004313725490196085\n",
      "remainder__x38: 0.0039215686274509665\n",
      "encoder__x1_Gen Z: 0.0035294117647058864\n",
      "encoder__x2_gain: 0.0035294117647058755\n",
      "remainder__x51: 0.00352941176470587\n",
      "remainder__x44: 0.0031372549019607785\n",
      "remainder__x15: 0.0031372549019607733\n",
      "remainder__x47: 0.002745098039215704\n",
      "encoder__x1_Baby Boomers: 0.002745098039215682\n",
      "remainder__x0: 0.002352941176470591\n",
      "remainder__x23: 0.002352941176470591\n",
      "encoder__x5_gain: 0.0023529411764705854\n",
      "remainder__x16: 0.00235294117647058\n",
      "remainder__x45: 0.00235294117647058\n",
      "remainder__x29: 0.0019607843137254832\n",
      "remainder__x32: 0.0019607843137254832\n",
      "remainder__x46: 0.0015686274509804088\n",
      "remainder__x10: 0.001568627450980392\n",
      "remainder__x18: 0.001568627450980392\n",
      "remainder__x4: 0.0015686274509803867\n",
      "remainder__x54: 0.0011764705882353066\n",
      "remainder__x55: 0.00117647058823529\n",
      "encoder__x1_Millenials: 0.0007843137254901989\n",
      "remainder__x14: 0.0007843137254901989\n",
      "remainder__x8: 0.0007843137254901933\n",
      "remainder__x12: 0.0007843137254901933\n",
      "encoder__x5_near-hit: 0.00039215686274509667\n",
      "remainder__x9: 0.00039215686274509667\n",
      "remainder__x17: 0.00039215686274509667\n",
      "remainder__x20: 1.1102230246251566e-17\n",
      "encoder__x1_Gen X: 0.0\n",
      "encoder__x2_loss: 0.0\n",
      "encoder__x5_loss: 0.0\n",
      "remainder__x6: 0.0\n",
      "remainder__x37: -0.0003921568627450911\n",
      "encoder__x2_near-hit: -0.00039215686274509667\n",
      "remainder__x48: -0.0015686274509803867\n",
      "remainder__x26: -0.0019607843137254832\n",
      "remainder__x30: -0.00235294117647058\n",
      "remainder__x50: -0.002352941176470591\n",
      "encoder__x1_Silent: -0.002745098039215671\n",
      "remainder__x33: -0.0031372549019607785\n",
      "remainder__x7: -0.00352941176470587\n",
      "remainder__x13: -0.004313725490196057\n",
      "encoder__x2_draw: -0.0043137254901960635\n",
      "remainder__x49: -0.004705882352941154\n",
      "remainder__x52: -0.005098039215686257\n",
      "remainder__x56: -0.005490196078431359\n",
      "remainder__x41: -0.00588235294117645\n",
      "remainder__x11: -0.007450980392156836\n",
      "remainder__x28: -0.009019607843137222\n",
      "remainder__x34: -0.009411764705882331\n",
      "remainder__x36: -0.01450980392156861\n",
      "remainder__x27: -0.015294117647058824\n",
      "remainder__x31: -0.01803921568627449\n",
      "remainder__x35: -0.019215686274509803\n"
     ]
    }
   ],
   "source": [
    "from sklearn.inspection import permutation_importance\n",
    "\n",
    "# Assuming you have a trained classifier named 'classifier' and encoded data named 'X_encoded'\n",
    "# Calculate permutation importances\n",
    "result = permutation_importance(classifier, X_train, y_train, n_repeats=10, random_state=42)\n",
    "\n",
    "# Get feature importances and feature names\n",
    "importances = result.importances_mean\n",
    "feature_names = ct.get_feature_names_out()\n",
    "\n",
    "# Sort feature importances\n",
    "feature_importance = list(zip(feature_names, importances))\n",
    "feature_importance.sort(key=lambda x: x[1], reverse=True)\n",
    "\n",
    "# Print feature importances\n",
    "for feature, importance in feature_importance:\n",
    "    print(f\"{feature}: {importance}\")\n"
   ]
  },
  {
   "cell_type": "code",
   "execution_count": 5,
   "metadata": {},
   "outputs": [
    {
     "data": {
      "image/png": "[encoded data removed]",
      "text/plain": [
       "<Figure size 640x480 with 1 Axes>"
      ]
     },
     "metadata": {},
     "output_type": "display_data"
    }
   ],
   "source": [
    "import numpy as np\n",
    "import matplotlib.pyplot as plt\n",
    "\n",
    "# Assuming you have the predicted probabilities or scores named 'predicted_scores' and true labels named 'true_labels'\n",
    "\n",
    "# Sort the scores and corresponding true labels\n",
    "sorted_indices = np.argsort(y_pred)[::-1]\n",
    "sorted_true_labels = y_test[sorted_indices]\n",
    "\n",
    "# Calculate cumulative metrics\n",
    "total_positive = np.sum(y_test)\n",
    "cumulative_positives = np.cumsum(sorted_true_labels)\n",
    "cumulative_accuracy = cumulative_positives / total_positive\n",
    "cumulative_fraction = np.arange(1, len(sorted_true_labels) + 1) / len(sorted_true_labels)\n",
    "\n",
    "# Create the CAP curve plot\n",
    "plt.plot(cumulative_fraction, cumulative_accuracy, label='Model')\n",
    "plt.plot([0, 1], [0, 1], 'k--', label='Baseline')\n",
    "plt.xlabel('Cumulative Fraction')\n",
    "plt.ylabel('Cumulative Accuracy')\n",
    "plt.title('Cumulative Accuracy Profile (CAP) Curve')\n",
    "plt.legend()\n",
    "plt.show()"
   ]
  }
 ],
 "metadata": {
  "kernelspec": {
   "display_name": "Python 3",
   "language": "python",
   "name": "python3"
  },
  "language_info": {
   "codemirror_mode": {
    "name": "ipython",
    "version": 3
   },
   "file_extension": ".py",
   "mimetype": "text/x-python",
   "name": "python",
   "nbconvert_exporter": "python",
   "pygments_lexer": "ipython3",
   "version": "3.10.0"
  },
  "orig_nbformat": 4
 },
 "nbformat": 4,
 "nbformat_minor": 2
}
