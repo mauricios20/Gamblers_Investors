{
 "cells": [
  {
   "attachments": {},
   "cell_type": "markdown",
   "metadata": {},
   "source": [
    "# Similarities and Differences of Top vs. Bottom 20% (Pt.1 - Age, Gender, Won/Lost Amount)"
   ]
  },
  {
   "cell_type": "code",
   "execution_count": 44,
   "metadata": {},
   "outputs": [],
   "source": [
    "# Define libraries\n",
    "import pandas as pd\n",
    "import numpy as np\n",
    "import matplotlib.pyplot as plt\n",
    "import seaborn as sns\n",
    "import matplotlib.dates as mdates\n",
    "import os\n",
    "import plotting_fn as pf\n",
    "import counting_fns as cf\n",
    "\n",
    "month_file = '2_June'\n",
    "cut_off = 10000\n",
    "# Set working directory\n",
    "os.chdir(\"/Users/mau/Library/CloudStorage/Dropbox/Mac/Documents/Dissertation/Chapter 2/Entire_Data/By month/\"+month_file)\n"
   ]
  },
  {
   "cell_type": "code",
   "execution_count": 45,
   "metadata": {},
   "outputs": [],
   "source": [
    "# Read in data\n",
    "df_bottom_20 = pd.read_parquet(\"Bottom_20_gambles.parquet\")\n",
    "df_top_20 = pd.read_parquet(\"Top_20_gambles.parquet\")\n",
    "\n",
    "# Eliminate players who maximum number of gambles is 1\n",
    "df_bottom_20 = df_bottom_20.groupby('playerkey').filter(lambda x: x['gambles'].nunique() > 1)\n",
    "df_top_20 = df_top_20.groupby('playerkey').filter(lambda x: x['gambles'].nunique() > 1)\n",
    "\n",
    "# Reset index\n",
    "df_bottom_20.index = np.arange(1, len(df_bottom_20) + 1)\n",
    "df_top_20.index = np.arange(1, len(df_top_20) + 1)\n",
    "\n",
    "# Round wageredamt and profit to 2 decimal places\n",
    "df_bottom_20['wageredamt'] = df_bottom_20['wageredamt'].round(1)\n",
    "df_bottom_20['profit'] = df_bottom_20['profit'].round(1)\n",
    "df_bottom_20['percent_return'] = df_bottom_20['percent_return'].round(1)\n",
    "df_top_20['wageredamt'] = df_top_20['wageredamt'].round(1)\n",
    "df_top_20['profit'] = df_top_20['profit'].round(1)\n",
    "df_top_20['percent_return'] = df_top_20['percent_return'].round(1)"
   ]
  },
  {
   "cell_type": "code",
   "execution_count": 46,
   "metadata": {},
   "outputs": [],
   "source": [
    "# Create a new column 'result_type' that is a categorical variable which takes the value 'loss' if the change is negative and 'gain' if the change is positive, and 'draw' of change is 0\n",
    "df_bottom_20['result_type'] = df_bottom_20['percent_return'].apply(lambda x: 'loss' if x == -100 else 'near-hit' if x < 0 else 'gain' if x > 0 else 'draw')\n",
    "\n",
    "# Create dummy variables from 'result_type'\n",
    "dummy_variables = pd.get_dummies(df_bottom_20['result_type']).rename(columns=lambda x: '#' + str(x[0].capitalize()))\n",
    "\n",
    "# Add the dummy variables to the original DataFrame\n",
    "df_bottom_20 = pd.concat([df_bottom_20, dummy_variables], axis=1).reset_index(drop=True)\n",
    "\n",
    "# Create a new column 'result_type' that is a categorical variable which takes the value 'loss' if the change is negative and 'gain' if the change is positive, and 'draw' of change is 0\n",
    "df_top_20['result_type'] = df_top_20['percent_return'].apply(lambda x: 'loss' if x == -100 else 'near-hit' if x < 0 else 'gain' if x > 0 else 'draw')\n",
    "\n",
    "# Create dummy variables from 'result_type'\n",
    "dummy_variables = pd.get_dummies(df_top_20['result_type']).rename(columns=lambda x: '#' + str(x[0].capitalize()))\n",
    "\n",
    "# Add the dummy variables to the original DataFrame\n",
    "df_top_20 = pd.concat([df_top_20, dummy_variables], axis=1).reset_index(drop=True)\n",
    "\n",
    "# Convert starttime to delte format for operations\n",
    "df_bottom_20['start_time'] = pd.to_datetime(df_bottom_20['start_time'])\n",
    "\n",
    "df_top_20['start_time'] = pd.to_datetime(df_top_20['start_time'])\n",
    "\n",
    "# Create new column called 'time_diff' which is the difference between the start time of the gamble and the start time of the previous gamble\n",
    "df_bottom_20['time_diff'] = df_bottom_20.groupby(['playerkey', 'session_time'])['start_time'].diff()\n",
    "df_top_20['time_diff'] = df_top_20.groupby(['playerkey', 'session_time'])['start_time'].diff()\n",
    "\n",
    "# Convert time_diff to seconds\n",
    "df_bottom_20['time_diff'] = df_bottom_20['time_diff'].dt.total_seconds().fillna(0)\n",
    "df_top_20['time_diff'] = df_top_20['time_diff'].dt.total_seconds().fillna(0)"
   ]
  },
  {
   "cell_type": "code",
   "execution_count": 47,
   "metadata": {},
   "outputs": [],
   "source": [
    "# Ude consecutive functions to find 2ws, 3ws, 4ws in a row in each dataset per visit per player\n",
    "df_bottom_20 = pf.consecutive_wins(df_bottom_20, 'visit')\n",
    "df_top_20 = pf.consecutive_wins(df_top_20, 'visit')\n"
   ]
  },
  {
   "cell_type": "code",
   "execution_count": 48,
   "metadata": {},
   "outputs": [],
   "source": [
    "# Ude consecutive functions to find 2ws, 3ws, 4ws in a row in each dataset per session_time per player\n",
    "df_bottom_20_s = pf.consecutive_wins(df_bottom_20, 'session_time')\n",
    "df_top_20_s = pf.consecutive_wins(df_top_20, 'session_time')"
   ]
  },
  {
   "cell_type": "code",
   "execution_count": 49,
   "metadata": {},
   "outputs": [],
   "source": [
    "# Create age ranges \n",
    "bins = [0, 24, 40, 55, 75, 150]\n",
    "labels = ['18-24', '25-40', '41-55', '56-75', '76+']\n",
    "generations = ['Gen Z', 'Millenials', 'Gen X', 'Baby Boomers', 'Silent']\n",
    "\n",
    "# Use cut function to create age ranges for bottom 20% and top 20%\n",
    "df_bottom_20['age_range'] = pd.cut(df_bottom_20['age'], bins=bins, labels=labels, right=False)\n",
    "df_bottom_20['age_gen'] = pd.cut(df_bottom_20['age'], bins=bins, labels=generations, right=False)\n",
    "\n",
    "df_top_20['age_range'] = pd.cut(df_top_20['age'], bins=bins, labels=labels, right=False)\n",
    "df_top_20['age_gen'] = pd.cut(df_top_20['age'], bins=bins, labels=generations, right=False)"
   ]
  },
  {
   "cell_type": "code",
   "execution_count": 50,
   "metadata": {},
   "outputs": [
    {
     "name": "stdout",
     "output_type": "stream",
     "text": [
      "Count of players who increase_slotdeno : 34\n",
      "Count of times each player increase_slotdeno : {17: 1, 19: 3, 20: 26, 29: 25, 33: 15, 43: 1, 69: 1, 89: 2, 90: 1, 92: 1, 103: 3, 135: 1, 144: 15, 159: 5, 188: 1, 194: 1, 222: 4, 224: 2, 234: 6, 244: 1, 263: 1, 264: 12, 308: 3, 313: 1, 319: 1, 322: 2, 331: 5, 351: 1, 361: 1, 363: 50, 410: 1, 461: 1, 475: 171, 507: 1}\n",
      "Player who changes the most: 475\n",
      "------------------------------------------------------------------------------------------------------------------\n",
      "Count of players who decrease_slotdeno : 31\n",
      "Count of times each player decrease_slotdeno : {17: 1, 19: 2, 20: 24, 29: 25, 33: 14, 43: 1, 69: 2, 89: 2, 99: 1, 103: 4, 135: 1, 144: 15, 159: 7, 188: 1, 222: 4, 224: 3, 234: 5, 244: 1, 263: 1, 264: 13, 308: 2, 322: 2, 331: 4, 351: 1, 361: 1, 363: 48, 410: 1, 461: 1, 475: 172, 507: 1, 521: 1}\n",
      "Player who changes the most: 475\n",
      "------------------------------------------------------------------------------------------------------------------\n",
      "Count of players who increase_maxbet : 39\n",
      "Count of times each player increase_maxbet : {6: 1, 17: 2, 19: 3, 23: 1, 29: 2, 33: 4, 38: 52, 43: 1, 44: 1, 66: 3, 69: 3, 89: 4, 93: 3, 98: 1, 99: 2, 135: 1, 144: 6, 159: 9, 188: 3, 191: 6, 192: 2, 196: 1, 204: 1, 222: 6, 224: 3, 234: 1, 244: 4, 263: 4, 264: 6, 278: 1, 308: 2, 331: 3, 351: 1, 361: 1, 363: 50, 410: 1, 424: 1, 507: 2, 521: 1}\n",
      "Player who changes the most: 38\n",
      "------------------------------------------------------------------------------------------------------------------\n",
      "Count of players who decrease_maxbet : 41\n",
      "Count of times each player decrease_maxbet : {17: 1, 19: 2, 20: 1, 23: 2, 29: 1, 33: 3, 38: 54, 43: 1, 44: 1, 66: 2, 69: 2, 89: 4, 90: 1, 92: 1, 93: 4, 99: 1, 144: 7, 159: 5, 188: 2, 191: 6, 192: 1, 194: 1, 196: 1, 204: 1, 222: 5, 224: 4, 234: 2, 244: 3, 263: 3, 264: 5, 278: 2, 308: 3, 313: 2, 319: 1, 322: 1, 331: 3, 351: 2, 361: 2, 363: 49, 410: 2, 424: 1}\n",
      "Player who changes the most: 38\n",
      "------------------------------------------------------------------------------------------------------------------\n"
     ]
    }
   ],
   "source": [
    "# Lets cound the number of times a player increase slot denominations\n",
    "players_increase_slot_t20 = cf.count_increase(df_top_20, \"increase_slotdeno\", \"playerkey\", \"slotdenomination\")\n",
    "players_decrease_slot_t20 = cf.count_decrease(df_top_20, \"decrease_slotdeno\", \"playerkey\", \"slotdenomination\")\n",
    "players_increase_maxbet_t20 = cf.count_increase(df_top_20, \"increase_maxbet\", \"playerkey\", \"maxbet\")\n",
    "players_decrease_maxbet_t20 = cf.count_decrease(df_top_20, \"decrease_maxbet\", \"playerkey\", \"maxbet\")"
   ]
  },
  {
   "cell_type": "code",
   "execution_count": 51,
   "metadata": {},
   "outputs": [
    {
     "name": "stdout",
     "output_type": "stream",
     "text": [
      "Count of players who increase_slotdeno : 4\n",
      "Count of times each player increase_slotdeno : {67: 1, 219: 1, 223: 1, 248: 1}\n",
      "Player who changes the most: 67\n",
      "------------------------------------------------------------------------------------------------------------------\n",
      "Count of players who decrease_slotdeno : 1\n",
      "Count of times each player decrease_slotdeno : {406: 1}\n",
      "Player who changes the most: 406\n",
      "------------------------------------------------------------------------------------------------------------------\n",
      "Count of players who increase_maxbet : 3\n",
      "Count of times each player increase_maxbet : {164: 1, 236: 1, 406: 1}\n",
      "Player who changes the most: 164\n",
      "------------------------------------------------------------------------------------------------------------------\n",
      "Count of players who decrease_maxbet : 6\n",
      "Count of times each player decrease_maxbet : {67: 1, 219: 1, 223: 1, 236: 2, 389: 1, 457: 1}\n",
      "Player who changes the most: 236\n",
      "------------------------------------------------------------------------------------------------------------------\n"
     ]
    }
   ],
   "source": [
    "# Lets do the same but for bottom 20%\n",
    "players_increase_slot_b20 = cf.count_increase(df_bottom_20, \"increase_slotdeno\", \"playerkey\", \"slotdenomination\")\n",
    "players_decrease_slot_b20 = cf.count_decrease(df_bottom_20, \"decrease_slotdeno\", \"playerkey\", \"slotdenomination\")\n",
    "players_increase_maxbet_b20 = cf.count_increase(df_bottom_20, \"increase_maxbet\", \"playerkey\", \"maxbet\")\n",
    "players_decrease_maxbet_b20 = cf.count_decrease(df_bottom_20, \"decrease_maxbet\", \"playerkey\", \"maxbet\")"
   ]
  },
  {
   "cell_type": "code",
   "execution_count": 52,
   "metadata": {},
   "outputs": [],
   "source": [
    "# Lets crate a column called 'depletion_slope' which is the difference of 'playercashableamt' between the current gamble and the previous gamble\n",
    "df_bottom_20['depletion_rate'] = df_bottom_20.groupby(['playerkey', 'session_time'])['playercashableamt'].diff().fillna(0)\n",
    "df_top_20['depletion_rate'] = df_top_20.groupby(['playerkey', 'session_time'])['playercashableamt'].diff().fillna(0)\n"
   ]
  },
  {
   "attachments": {},
   "cell_type": "markdown",
   "metadata": {},
   "source": [
    "# Separate by time"
   ]
  },
  {
   "cell_type": "code",
   "execution_count": 53,
   "metadata": {},
   "outputs": [],
   "source": [
    "# Create df_bottom_1min for 1 minute duration\n",
    "df_bottom_1min = pf.filter_dataframe_by_time(df_bottom_20, pd.Timedelta(minutes=1))\n",
    "\n",
    "# Create df_bottom_5min for 5 minutes duration\n",
    "df_bottom_5min = pf.filter_dataframe_by_time(df_bottom_20, pd.Timedelta(minutes=5))\n",
    "\n",
    "# Create df_bottom_10min for 10 minutes duration\n",
    "df_bottom_10min = pf.filter_dataframe_by_time(df_bottom_20, pd.Timedelta(minutes=10))\n",
    "\n",
    "# Create df_bottom_15min for 15 minutes duration\n",
    "df_bottom_15min = pf.filter_dataframe_by_time(df_bottom_20, pd.Timedelta(minutes=15))"
   ]
  },
  {
   "cell_type": "code",
   "execution_count": 54,
   "metadata": {},
   "outputs": [],
   "source": [
    "# Create df_top_1min for 1 minute duration\n",
    "df_top_1min = pf.filter_dataframe_by_time(df_top_20, pd.Timedelta(minutes=1))\n",
    "\n",
    "# Create df_bottom_5min for 5 minutes duration\n",
    "df_top_5min = pf.filter_dataframe_by_time(df_top_20, pd.Timedelta(minutes=5))\n",
    "\n",
    "# Create df_bottom_10min for 10 minutes duration\n",
    "df_top_10min = pf.filter_dataframe_by_time(df_top_20, pd.Timedelta(minutes=10))\n",
    "\n",
    "# Create df_bottom_15min for 15 minutes duration\n",
    "df_top_15min = pf.filter_dataframe_by_time(df_top_20, pd.Timedelta(minutes=15))"
   ]
  },
  {
   "attachments": {},
   "cell_type": "markdown",
   "metadata": {},
   "source": [
    "#### First 1 minute"
   ]
  },
  {
   "cell_type": "code",
   "execution_count": 55,
   "metadata": {},
   "outputs": [],
   "source": [
    "# Create dataframe\n",
    "df_all_1min = pf.merge_dfs_per_player(data_t=df_top_1min, data_b=df_bottom_1min, grouping='session_time', print_results=False)\n"
   ]
  },
  {
   "cell_type": "code",
   "execution_count": 56,
   "metadata": {},
   "outputs": [
    {
     "name": "stdout",
     "output_type": "stream",
     "text": [
      "   index session_time playerkey\n",
      "0      0            1        90\n",
      "1      1            1       475\n",
      "   index session_time playerkey\n",
      "0      0            1        90\n",
      "1      1            1       475\n"
     ]
    }
   ],
   "source": [
    "# Simultaneous Play\n",
    "df_b20_sim_v = pf.simultaneous_play(40000, df_bottom_1min, 'session_time')\n",
    "df_t20_sim_v = pf.simultaneous_play(40000, df_top_1min, 'session_time')\n",
    "\n",
    "# Concat the two dataframes\n",
    "df_sim_v = pd.concat([df_b20_sim_v, df_t20_sim_v]).reset_index()\n",
    "\n",
    "print(df_sim_v)\n",
    "# Remove repeated instances\n",
    "df_sim_no_repeat_v = df_sim_v.drop_duplicates(subset=['session_time', 'playerkey'])\n",
    "\n",
    "print(df_sim_no_repeat_v)"
   ]
  },
  {
   "cell_type": "code",
   "execution_count": 57,
   "metadata": {},
   "outputs": [
    {
     "name": "stdout",
     "output_type": "stream",
     "text": [
      "Index(['index', 'playerkey', 'session_time', 'rank', 'gender', 'age_range',\n",
      "       'age_gen', 'beginning_amt', 'ending_amt', 'ending_balance',\n",
      "       'ave_slotdenom', 'std_slotdenom', 'min_slotdenom', 'max_slotdenom',\n",
      "       'ave_theo_payback', 'min_theo_payback', 'max_theo_payback',\n",
      "       'ave_wageramt', 'std_wageramt', 'min_wager', 'max_wager', 'ave_p/b',\n",
      "       'std_p/b', 'max_p/b', 'max_profit', 'depletion_slope', '#inc_slotdenom',\n",
      "       '#dec_slotdenom', '#inc_maxbet', '#dec_maxbet', 'first_wager',\n",
      "       'first_outcome', 'first_p/b', 'last_wager', 'last_outcome', 'last_p/b',\n",
      "       'machines_changes', '#W', '#L', '#NH', '#D', 'w/g', 'l/g', 'nh/g',\n",
      "       'd/g', '#2ws', '2ws_profit', '2ws_wgramt', '#3ws', '3ws_profit',\n",
      "       '3ws_wgramt', '#4ws', '4ws_profit', '4ws_wgramt', 'ave_time_per_gamble',\n",
      "       'std_time_per_gamble', 'min_time_per_gamble', 'max_time_per_gamble',\n",
      "       'total_duration', 'total_gambles', 'unique_machines',\n",
      "       'ave_time_per_machine', 'w/min', 'l/min', 'nh/min', 'd/min', '2ws/min',\n",
      "       '3ws/min', '4ws/min', 'percentile', 'sim_play'],\n",
      "      dtype='object')\n"
     ]
    }
   ],
   "source": [
    "# Merge Sim play\n",
    "df_all_1min['sim_play'] = df_all_1min[['playerkey', 'session_time']].apply(lambda x: tuple(x) in set(map(tuple, df_sim_no_repeat_v[['playerkey', 'session_time']].values)), axis=1)\n",
    "\n",
    "print(df_all_1min.columns)\n",
    "\n",
    "# # # Reorder Columns\n",
    "desired_order = ['playerkey', 'session_time', 'rank', 'gender', 'age_range', 'age_gen',\n",
    "                'beginning_amt', 'ending_amt', 'ending_balance', 'ave_slotdenom',\n",
    "                'std_slotdenom', 'min_slotdenom', 'max_slotdenom', 'ave_theo_payback',\n",
    "                'min_theo_payback', 'max_theo_payback', 'ave_wageramt', 'std_wageramt',\n",
    "                'min_wager', 'max_wager', 'ave_p/b', 'std_p/b', 'max_p/b', 'max_profit', 'depletion_slope',\n",
    "                '#inc_maxbet', '#dec_maxbet', 'first_wager', 'first_outcome', 'first_p/b', 'last_wager',\n",
    "                'last_outcome', 'last_p/b', '#W', '#L', '#NH', '#D', 'w/min', 'l/min', 'nh/min', 'd/min', \n",
    "                'w/g', 'l/g', 'nh/g', 'd/g', '#2ws', '2ws_profit', '2ws_wgramt', '#3ws', \n",
    "                '3ws_profit','3ws_wgramt', '#4ws', '4ws_profit', '4ws_wgramt', '2ws/min', '3ws/min', '4ws/min',\n",
    "                'ave_time_per_gamble', 'std_time_per_gamble', 'min_time_per_gamble', 'max_time_per_gamble',\n",
    "                'total_duration', 'total_gambles', 'machines_changes', '#inc_slotdenom', '#dec_slotdenom',\n",
    "                'unique_machines', 'ave_time_per_machine', 'sim_play','percentile']\n",
    "\n",
    "df_all_1min = df_all_1min.reindex(columns=desired_order)"
   ]
  },
  {
   "cell_type": "code",
   "execution_count": 58,
   "metadata": {},
   "outputs": [],
   "source": [
    "df_all_1min.to_parquet('/Users/mau/Library/CloudStorage/Dropbox/Mac/Documents/Dissertation/Chapter 2/Entire_Data/By month/'+month_file+'/Ending Balances/Per_Player/df_1min.parquet')"
   ]
  },
  {
   "attachments": {},
   "cell_type": "markdown",
   "metadata": {},
   "source": [
    "#### First 5 minutes"
   ]
  },
  {
   "cell_type": "code",
   "execution_count": 59,
   "metadata": {},
   "outputs": [],
   "source": [
    "# Create dataframe\n",
    "df_all_5min = pf.merge_dfs_per_player(data_t=df_top_5min, data_b=df_bottom_5min, grouping='session_time', print_results=False)\n",
    "\n",
    "# Simultaneous Play\n",
    "df_b20_sim_v = pf.simultaneous_play(40000, df_bottom_5min, 'session_time')\n",
    "df_t20_sim_v = pf.simultaneous_play(40000, df_top_5min, 'session_time')\n",
    "\n",
    "# Concat the two dataframes\n",
    "df_sim_v = pd.concat([df_b20_sim_v, df_t20_sim_v]).reset_index()\n",
    "\n",
    "# Remove repeated instances\n",
    "df_sim_no_repeat_v = df_sim_v.drop_duplicates(subset=['session_time', 'playerkey'])\n",
    "\n",
    "# Merge Sim play\n",
    "df_all_5min['sim_play'] = df_all_5min[['playerkey', 'session_time']].apply(lambda x: tuple(x) in set(map(tuple, df_sim_no_repeat_v[['playerkey', 'session_time']].values)), axis=1)\n",
    "\n",
    "# Reorder Columns\n",
    "\n",
    "df_all_5min = df_all_5min.reindex(columns=desired_order)\n",
    "\n",
    "df_all_5min.to_parquet('/Users/mau/Library/CloudStorage/Dropbox/Mac/Documents/Dissertation/Chapter 2/Entire_Data/By month/'+month_file+'/Ending Balances/Per_Player/df_5min.parquet')"
   ]
  },
  {
   "attachments": {},
   "cell_type": "markdown",
   "metadata": {},
   "source": [
    "#### First 10 minutes"
   ]
  },
  {
   "cell_type": "code",
   "execution_count": 60,
   "metadata": {},
   "outputs": [],
   "source": [
    "\n",
    "# Create dataframe\n",
    "df_all_10min = pf.merge_dfs_per_player(data_t=df_top_10min, data_b=df_bottom_10min, grouping='session_time', print_results=False)\n",
    "\n",
    "# Simultaneous Play\n",
    "df_b20_sim_v = pf.simultaneous_play(40000, df_bottom_10min, 'session_time')\n",
    "df_t20_sim_v = pf.simultaneous_play(40000, df_top_10min, 'session_time')\n",
    "\n",
    "# Concat the two dataframes\n",
    "df_sim_v = pd.concat([df_b20_sim_v, df_t20_sim_v]).reset_index()\n",
    "\n",
    "# Remove repeated instances\n",
    "df_sim_no_repeat_v = df_sim_v.drop_duplicates(subset=['session_time', 'playerkey'])\n",
    "\n",
    "# Merge Sim play\n",
    "df_all_10min['sim_play'] = df_all_10min[['playerkey', 'session_time']].apply(lambda x: tuple(x) in set(map(tuple, df_sim_no_repeat_v[['playerkey', 'session_time']].values)), axis=1)\n",
    "\n",
    "# Reorder Columns\n",
    "\n",
    "df_all_10min = df_all_10min.reindex(columns=desired_order)\n",
    "\n",
    "df_all_10min.to_parquet('/Users/mau/Library/CloudStorage/Dropbox/Mac/Documents/Dissertation/Chapter 2/Entire_Data/By month/'+month_file+'/Ending Balances/Per_Player/df_10min.parquet')"
   ]
  },
  {
   "attachments": {},
   "cell_type": "markdown",
   "metadata": {},
   "source": [
    "#### First 15 minutes"
   ]
  },
  {
   "cell_type": "code",
   "execution_count": 61,
   "metadata": {},
   "outputs": [],
   "source": [
    "\n",
    "# Create dataframe\n",
    "df_all_15min = pf.merge_dfs_per_player(data_t=df_top_15min, data_b=df_bottom_15min, grouping='session_time', print_results=False)\n",
    "\n",
    "# Simultaneous Play\n",
    "df_b20_sim_v = pf.simultaneous_play(40000, df_bottom_15min, 'session_time')\n",
    "df_t20_sim_v = pf.simultaneous_play(40000, df_top_15min, 'session_time')\n",
    "\n",
    "# Concat the two dataframes\n",
    "df_sim_v = pd.concat([df_b20_sim_v, df_t20_sim_v]).reset_index()\n",
    "\n",
    "# Remove repeated instances\n",
    "df_sim_no_repeat_v = df_sim_v.drop_duplicates(subset=['session_time', 'playerkey'])\n",
    "\n",
    "# Merge Sim play\n",
    "df_all_15min['sim_play'] = df_all_15min[['playerkey', 'session_time']].apply(lambda x: tuple(x) in set(map(tuple, df_sim_no_repeat_v[['playerkey', 'session_time']].values)), axis=1)\n",
    "\n",
    "# Reorder Columns\n",
    "\n",
    "df_all_15min = df_all_15min.reindex(columns=desired_order)\n",
    "\n",
    "df_all_15min.to_parquet('/Users/mau/Library/CloudStorage/Dropbox/Mac/Documents/Dissertation/Chapter 2/Entire_Data/By month/'+month_file+'/Ending Balances/Per_Player/df_15min.parquet')"
   ]
  }
 ],
 "metadata": {
  "kernelspec": {
   "display_name": "Python 3",
   "language": "python",
   "name": "python3"
  },
  "language_info": {
   "codemirror_mode": {
    "name": "ipython",
    "version": 3
   },
   "file_extension": ".py",
   "mimetype": "text/x-python",
   "name": "python",
   "nbconvert_exporter": "python",
   "pygments_lexer": "ipython3",
   "version": "3.10.0"
  },
  "orig_nbformat": 4
 },
 "nbformat": 4,
 "nbformat_minor": 2
}
