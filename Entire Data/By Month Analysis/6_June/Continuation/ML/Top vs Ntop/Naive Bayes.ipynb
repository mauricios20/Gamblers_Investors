{
 "cells": [
  {
   "attachments": {},
   "cell_type": "markdown",
   "metadata": {},
   "source": [
    "# Naive Bayes Model"
   ]
  },
  {
   "attachments": {},
   "cell_type": "markdown",
   "metadata": {},
   "source": [
    "## Data Preprocessing"
   ]
  },
  {
   "cell_type": "code",
   "execution_count": 1,
   "metadata": {},
   "outputs": [],
   "source": [
    "# Importing the libraries\n",
    "import numpy as np\n",
    "import matplotlib.pyplot as plt\n",
    "import pandas as pd\n",
    "import os\n",
    "from sklearn.compose import ColumnTransformer\n",
    "from sklearn.preprocessing import OneHotEncoder\n",
    "from sklearn.preprocessing import LabelEncoder\n",
    "from sklearn.preprocessing import StandardScaler\n",
    "from sklearn.model_selection import train_test_split\n",
    "from sklearn.metrics import confusion_matrix, accuracy_score, precision_score, recall_score, f1_score\n",
    "from sklearn.naive_bayes import GaussianNB\n",
    "\n",
    "# Set working directory\n",
    "month_file = '2_June'\n",
    "# Set working directory\n",
    "os.chdir(\"/Users/mau/Library/CloudStorage/Dropbox/Mac/Documents/Dissertation/Chapter 2/Entire_Data/By month/\"+month_file+\"/Ending Balances/Per_Player\")"
   ]
  },
  {
   "cell_type": "markdown",
   "metadata": {},
   "source": [
    "## Top Players"
   ]
  },
  {
   "cell_type": "code",
   "execution_count": 2,
   "metadata": {},
   "outputs": [
    {
     "name": "stdout",
     "output_type": "stream",
     "text": [
      "[[5 1]\n",
      " [1 5]]\n",
      "Accuracy:  0.8333333333333334\n",
      "Precision:  0.8333333333333334\n",
      "Recall:  0.8333333333333334\n",
      "F1 Score:  0.8333333333333334\n"
     ]
    }
   ],
   "source": [
    "# Filter Columns\n",
    "filter = ['gender', 'age_gen', 'day', 'timeofday', 'first_outcome',\n",
    "        'first_wager','first_p/b', 'last_outcome', 'last_wager', 'last_p/b',\n",
    "        'beginning_amt', 'ending_amt', 'ending_balance',  'ave_slotdenom', \n",
    "        'std_slotdenom', 'min_slotdenom', 'max_slotdenom', 'ave_theo_payback',\n",
    "        'min_theo_payback', 'max_theo_payback', 'ave_wageramt', 'std_wageramt',\n",
    "        'min_wager', 'max_wager', 'ave_p/b', 'std_p/b', 'max_p/b', 'max_profit', 'depletion_slope', \n",
    "        '#inc_slotdenom', '#dec_slotdenom', '#inc_maxbet', '#dec_maxbet', \n",
    "        '#W', '#L', '#NH', '#D', '#2ws', '#3ws', '#4ws',\n",
    "        'w/min', 'l/min', '2ws/min', '3ws/min', '4ws/min',\n",
    "        'nh/min', 'd/min', 'w/g', 'l/g', 'nh/g', 'd/g', \n",
    "        'ave_time_per_gamble', 'min_time_per_gamble', 'max_time_per_gamble',\n",
    "        'machines_changes', 'unique_machines', 'ave_time_per_machine',\n",
    "        'total_duration', 'total_gambles', 'continue_playing']\n",
    "\n",
    "\n",
    "# Load dataset\n",
    "dataset = pd.read_parquet('top_players_continuation_by_session.parquet', columns=filter)\n",
    "\n",
    "# # Seperate dependent and independent variables\n",
    "X = dataset.iloc[:, :-1].values\n",
    "y = dataset.iloc[:, -1].values\n",
    "\n",
    "# Econde gender column (Binary)\n",
    "le = LabelEncoder()\n",
    "\n",
    "# Binary Encode gender\n",
    "X[:, 0] = le.fit_transform(X[:, 0])\n",
    "\n",
    "# # Encode age_generartion, first_outoce, last_outcome columns\n",
    "ct = ColumnTransformer(transformers=[('encoder', OneHotEncoder(), [1, 3, 2, 4, 7])], remainder='passthrough')\n",
    "X = np.array(ct.fit_transform(X))\n",
    "\n",
    "y = le.fit_transform(y)\n",
    "\n",
    "X_train, X_test, y_train, y_test = train_test_split(X, y, test_size = 0.2, random_state = 1)\n",
    "\n",
    "sc = StandardScaler()\n",
    "\n",
    "# Scale all columns except the encoded ones\n",
    "X_train[:, 17:] = sc.fit_transform(X_train[:, 17:])\n",
    "X_test[:, 17:] = sc.transform(X_test[:, 17:])\n",
    "\n",
    "classifier = GaussianNB()\n",
    "classifier.fit(X_train, y_train)\n",
    "\n",
    "y_pred = classifier.predict(X_test)\n",
    "\n",
    "cm = confusion_matrix(y_test, y_pred)\n",
    "print(cm)\n",
    "print('Accuracy: ', accuracy_score(y_test, y_pred))\n",
    "print('Precision: ', precision_score(y_test, y_pred, average='macro'))\n",
    "print('Recall: ', recall_score(y_test, y_pred, average='macro'))\n",
    "print('F1 Score: ', f1_score(y_test, y_pred, average='macro'))"
   ]
  },
  {
   "attachments": {},
   "cell_type": "markdown",
   "metadata": {},
   "source": [
    "### Which IDVs have the most weight in the model"
   ]
  },
  {
   "cell_type": "code",
   "execution_count": 3,
   "metadata": {},
   "outputs": [
    {
     "name": "stdout",
     "output_type": "stream",
     "text": [
      "{0: 'gender', 1: 'age_gen', 2: 'day', 3: 'timeofday', 4: 'first_outcome', 5: 'first_wager', 6: 'first_p/b', 7: 'last_outcome', 8: 'last_wager', 9: 'last_p/b', 10: 'beginning_amt', 11: 'ending_amt', 12: 'ending_balance', 13: 'ave_slotdenom', 14: 'std_slotdenom', 15: 'min_slotdenom', 16: 'max_slotdenom', 17: 'ave_theo_payback', 18: 'min_theo_payback', 19: 'max_theo_payback', 20: 'ave_wageramt', 21: 'std_wageramt', 22: 'min_wager', 23: 'max_wager', 24: 'ave_p/b', 25: 'std_p/b', 26: 'max_p/b', 27: 'max_profit', 28: 'depletion_slope', 29: '#inc_slotdenom', 30: '#dec_slotdenom', 31: '#inc_maxbet', 32: '#dec_maxbet', 33: '#W', 34: '#L', 35: '#NH', 36: '#D', 37: '#2ws', 38: '#3ws', 39: '#4ws', 40: 'w/min', 41: 'l/min', 42: '2ws/min', 43: '3ws/min', 44: '4ws/min', 45: 'nh/min', 46: 'd/min', 47: 'w/g', 48: 'l/g', 49: 'nh/g', 50: 'd/g', 51: 'ave_time_per_gamble', 52: 'min_time_per_gamble', 53: 'max_time_per_gamble', 54: 'machines_changes', 55: 'unique_machines', 56: 'ave_time_per_machine', 57: 'total_duration', 58: 'total_gambles', 59: 'continue_playing'}\n"
     ]
    }
   ],
   "source": [
    "# Create a dictionary mapping column names to their index positions\n",
    "column_index_mapping = {index: column_name for index, column_name in enumerate(dataset.columns)}\n",
    "\n",
    "# Print the dictionary\n",
    "print(column_index_mapping)"
   ]
  },
  {
   "cell_type": "code",
   "execution_count": 4,
   "metadata": {},
   "outputs": [
    {
     "name": "stdout",
     "output_type": "stream",
     "text": [
      "encoder__x3_night: 0.1319148936170213\n",
      "remainder__x36: 0.04680851063829794\n",
      "remainder__x35: 0.03191489361702132\n",
      "remainder__x55: 0.027659574468085146\n",
      "remainder__x56: 0.027659574468085146\n",
      "remainder__x58: 0.02340425531914897\n",
      "remainder__x46: 0.021276595744680882\n",
      "remainder__x34: 0.017021276595744705\n",
      "remainder__x33: 0.012765957446808529\n",
      "remainder__x37: 0.012765957446808529\n",
      "remainder__x47: 0.012765957446808529\n",
      "remainder__x57: 0.012765957446808529\n",
      "encoder__x3_morning: 0.010638297872340441\n",
      "remainder__x9: 0.008510638297872375\n",
      "encoder__x1_Silent: 0.008510638297872353\n",
      "remainder__x28: 0.008510638297872353\n",
      "remainder__x24: 0.004255319148936176\n",
      "remainder__x38: 0.004255319148936176\n",
      "remainder__x51: 0.004255319148936176\n",
      "remainder__x5: 0.0021276595744681216\n",
      "remainder__x8: 0.0021276595744681216\n",
      "remainder__x13: 0.0021276595744681216\n",
      "remainder__x14: 0.0021276595744681216\n",
      "remainder__x15: 0.0021276595744681216\n",
      "remainder__x16: 0.0021276595744681216\n",
      "remainder__x20: 0.0021276595744681216\n",
      "remainder__x21: 0.0021276595744681216\n",
      "remainder__x22: 0.0021276595744681216\n",
      "remainder__x23: 0.0021276595744681216\n",
      "encoder__x7_near-hit: 0.002127659574468088\n",
      "remainder__x39: 0.002127659574468088\n",
      "remainder__x44: 0.002127659574468088\n",
      "remainder__x54: 0.002127659574468088\n",
      "remainder__x27: 3.3306690738754695e-17\n",
      "encoder__x1_Baby Boomers: 0.0\n",
      "encoder__x1_Gen X: 0.0\n",
      "encoder__x1_Millenials: 0.0\n",
      "encoder__x3_afternoon: 0.0\n",
      "encoder__x3_evening: 0.0\n",
      "encoder__x2_1.0: 0.0\n",
      "encoder__x4_draw: 0.0\n",
      "encoder__x4_gain: 0.0\n",
      "encoder__x4_loss: 0.0\n",
      "encoder__x4_near-hit: 0.0\n",
      "encoder__x7_gain: 0.0\n",
      "encoder__x7_loss: 0.0\n",
      "remainder__x0: 0.0\n",
      "remainder__x6: 0.0\n",
      "remainder__x10: 0.0\n",
      "remainder__x11: 0.0\n",
      "remainder__x12: 0.0\n",
      "remainder__x17: 0.0\n",
      "remainder__x18: 0.0\n",
      "remainder__x19: 0.0\n",
      "remainder__x25: 0.0\n",
      "remainder__x26: 0.0\n",
      "remainder__x29: 0.0\n",
      "remainder__x30: 0.0\n",
      "remainder__x40: 0.0\n",
      "remainder__x41: 0.0\n",
      "remainder__x43: 0.0\n",
      "remainder__x45: 0.0\n",
      "remainder__x50: 0.0\n",
      "remainder__x52: 0.0\n",
      "remainder__x53: 0.0\n",
      "remainder__x31: -0.002127659574468055\n",
      "remainder__x32: -0.002127659574468077\n",
      "remainder__x48: -0.002127659574468077\n",
      "remainder__x49: -0.002127659574468077\n",
      "remainder__x42: -0.014893617021276529\n"
     ]
    }
   ],
   "source": [
    "from sklearn.inspection import permutation_importance\n",
    "\n",
    "# Assuming you have a trained classifier named 'classifier' and encoded data named 'X_encoded'\n",
    "# Calculate permutation importances\n",
    "result = permutation_importance(classifier, X_train, y_train, n_repeats=10, random_state=42)\n",
    "\n",
    "# Get feature importances and feature names\n",
    "importances = result.importances_mean\n",
    "feature_names = ct.get_feature_names_out()\n",
    "\n",
    "# Sort feature importances\n",
    "feature_importance = list(zip(feature_names, importances))\n",
    "feature_importance.sort(key=lambda x: x[1], reverse=True)\n",
    "\n",
    "# Print feature importances\n",
    "for feature, importance in feature_importance:\n",
    "    print(f\"{feature}: {importance}\")\n"
   ]
  },
  {
   "attachments": {},
   "cell_type": "markdown",
   "metadata": {},
   "source": [
    "## Cumulative Accuracy Profile (CAP) Graph"
   ]
  },
  {
   "cell_type": "code",
   "execution_count": 5,
   "metadata": {},
   "outputs": [
    {
     "data": {
      "image/png": "[encoded data removed]",
      "text/plain": [
       "<Figure size 640x480 with 1 Axes>"
      ]
     },
     "metadata": {},
     "output_type": "display_data"
    }
   ],
   "source": [
    "import numpy as np\n",
    "import matplotlib.pyplot as plt\n",
    "\n",
    "# Assuming you have the predicted probabilities or scores named 'predicted_scores' and true labels named 'true_labels'\n",
    "\n",
    "# Sort the scores and corresponding true labels\n",
    "sorted_indices = np.argsort(y_pred)[::-1]\n",
    "sorted_true_labels = y_test[sorted_indices]\n",
    "\n",
    "# Calculate cumulative metrics\n",
    "total_positive = np.sum(y_test)\n",
    "cumulative_positives = np.cumsum(sorted_true_labels)\n",
    "cumulative_accuracy = cumulative_positives / total_positive\n",
    "cumulative_fraction = np.arange(1, len(sorted_true_labels) + 1) / len(sorted_true_labels)\n",
    "\n",
    "# Create the CAP curve plot\n",
    "plt.plot(cumulative_fraction, cumulative_accuracy, label='Model')\n",
    "plt.plot([0, 1], [0, 1], 'k--', label='Baseline')\n",
    "plt.xlabel('Cumulative Fraction')\n",
    "plt.ylabel('Cumulative Accuracy')\n",
    "plt.title('Cumulative Accuracy Profile (CAP) Curve')\n",
    "plt.legend()\n",
    "plt.show()"
   ]
  },
  {
   "cell_type": "markdown",
   "metadata": {},
   "source": [
    "## Bottom Players"
   ]
  },
  {
   "cell_type": "code",
   "execution_count": 6,
   "metadata": {},
   "outputs": [
    {
     "name": "stdout",
     "output_type": "stream",
     "text": [
      "[[16 30]\n",
      " [ 6 12]]\n",
      "Accuracy:  0.4375\n",
      "Precision:  0.5064935064935066\n",
      "Recall:  0.5072463768115942\n",
      "F1 Score:  0.43529411764705883\n"
     ]
    }
   ],
   "source": [
    "# Filter Columns\n",
    "filter = ['gender', 'age_gen', 'day', 'timeofday', 'first_outcome',\n",
    "        'first_wager','first_p/b', 'last_outcome', 'last_wager', 'last_p/b',\n",
    "        'beginning_amt', 'ending_amt', 'ending_balance',  'ave_slotdenom', \n",
    "        'std_slotdenom', 'min_slotdenom', 'max_slotdenom', 'ave_theo_payback',\n",
    "        'min_theo_payback', 'max_theo_payback', 'ave_wageramt', 'std_wageramt',\n",
    "        'min_wager', 'max_wager', 'ave_p/b', 'std_p/b', 'max_p/b', 'max_profit', 'depletion_slope', \n",
    "        '#inc_slotdenom', '#dec_slotdenom', '#inc_maxbet', '#dec_maxbet', \n",
    "        '#W', '#L', '#NH', '#D', '#2ws', '#3ws', '#4ws',\n",
    "        'w/min', 'l/min', '2ws/min', '3ws/min', '4ws/min',\n",
    "        'nh/min', 'd/min', 'w/g', 'l/g', 'nh/g', 'd/g', \n",
    "        'ave_time_per_gamble', 'min_time_per_gamble', 'max_time_per_gamble',\n",
    "        'machines_changes', 'unique_machines', 'ave_time_per_machine',\n",
    "        'total_duration', 'total_gambles', 'continue_playing']\n",
    "\n",
    "\n",
    "# Load dataset\n",
    "dataset = pd.read_parquet('ntop_players_continuation_by_session.parquet', columns=filter)\n",
    "\n",
    "# # Seperate dependent and independent variables\n",
    "X = dataset.iloc[:, :-1].values\n",
    "y = dataset.iloc[:, -1].values\n",
    "\n",
    "# Econde gender column (Binary)\n",
    "le = LabelEncoder()\n",
    "\n",
    "# Binary Encode gender\n",
    "X[:, 0] = le.fit_transform(X[:, 0])\n",
    "\n",
    "# # Encode age_generartion, first_outoce, last_outcome columns\n",
    "ct = ColumnTransformer(transformers=[('encoder', OneHotEncoder(), [1, 2, 3, 4, 7])], remainder='passthrough')\n",
    "X = np.array(ct.fit_transform(X))\n",
    "\n",
    "y = le.fit_transform(y)\n",
    "\n",
    "X_train, X_test, y_train, y_test = train_test_split(X, y, test_size = 0.2, random_state = 1)\n",
    "\n",
    "sc = StandardScaler()\n",
    "\n",
    "# Scale all columns except the encoded ones\n",
    "X_train[:, 17:] = sc.fit_transform(X_train[:, 17:])\n",
    "X_test[:, 17:] = sc.transform(X_test[:, 17:])\n",
    "\n",
    "classifier = GaussianNB()\n",
    "classifier.fit(X_train, y_train)\n",
    "\n",
    "y_pred = classifier.predict(X_test)\n",
    "\n",
    "cm = confusion_matrix(y_test, y_pred)\n",
    "print(cm)\n",
    "print('Accuracy: ', accuracy_score(y_test, y_pred))\n",
    "print('Precision: ', precision_score(y_test, y_pred, average='macro'))\n",
    "print('Recall: ', recall_score(y_test, y_pred, average='macro'))\n",
    "print('F1 Score: ', f1_score(y_test, y_pred, average='macro'))"
   ]
  },
  {
   "cell_type": "code",
   "execution_count": 7,
   "metadata": {},
   "outputs": [
    {
     "name": "stdout",
     "output_type": "stream",
     "text": [
      "{0: 'gender', 1: 'age_gen', 2: 'day', 3: 'timeofday', 4: 'first_outcome', 5: 'first_wager', 6: 'first_p/b', 7: 'last_outcome', 8: 'last_wager', 9: 'last_p/b', 10: 'beginning_amt', 11: 'ending_amt', 12: 'ending_balance', 13: 'ave_slotdenom', 14: 'std_slotdenom', 15: 'min_slotdenom', 16: 'max_slotdenom', 17: 'ave_theo_payback', 18: 'min_theo_payback', 19: 'max_theo_payback', 20: 'ave_wageramt', 21: 'std_wageramt', 22: 'min_wager', 23: 'max_wager', 24: 'ave_p/b', 25: 'std_p/b', 26: 'max_p/b', 27: 'max_profit', 28: 'depletion_slope', 29: '#inc_slotdenom', 30: '#dec_slotdenom', 31: '#inc_maxbet', 32: '#dec_maxbet', 33: '#W', 34: '#L', 35: '#NH', 36: '#D', 37: '#2ws', 38: '#3ws', 39: '#4ws', 40: 'w/min', 41: 'l/min', 42: '2ws/min', 43: '3ws/min', 44: '4ws/min', 45: 'nh/min', 46: 'd/min', 47: 'w/g', 48: 'l/g', 49: 'nh/g', 50: 'd/g', 51: 'ave_time_per_gamble', 52: 'min_time_per_gamble', 53: 'max_time_per_gamble', 54: 'machines_changes', 55: 'unique_machines', 56: 'ave_time_per_machine', 57: 'total_duration', 58: 'total_gambles', 59: 'continue_playing'}\n"
     ]
    }
   ],
   "source": [
    "# Create a dictionary mapping column names to their index positions\n",
    "column_index_mapping = {index: column_name for index, column_name in enumerate(dataset.columns)}\n",
    "\n",
    "# Print the dictionary\n",
    "print(column_index_mapping)"
   ]
  },
  {
   "cell_type": "code",
   "execution_count": 8,
   "metadata": {},
   "outputs": [
    {
     "name": "stdout",
     "output_type": "stream",
     "text": [
      "encoder__x3_night: 0.058823529411764684\n",
      "remainder__x45: 0.016078431372549006\n",
      "encoder__x1_Millenials: 0.01176470588235291\n",
      "remainder__x27: 0.010196078431372513\n",
      "remainder__x21: 0.009803921568627416\n",
      "remainder__x41: 0.009803921568627416\n",
      "encoder__x3_evening: 0.008627450980392127\n",
      "remainder__x44: 0.008627450980392127\n",
      "remainder__x23: 0.006666666666666643\n",
      "remainder__x26: 0.006666666666666643\n",
      "remainder__x25: 0.006274509803921547\n",
      "remainder__x5: 0.00588235294117645\n",
      "remainder__x49: 0.005490196078431353\n",
      "remainder__x35: 0.005490196078431342\n",
      "remainder__x24: 0.005098039215686257\n",
      "remainder__x42: 0.005098039215686257\n",
      "encoder__x4_draw: 0.0039215686274509665\n",
      "remainder__x20: 0.0039215686274509665\n",
      "remainder__x47: 0.0039215686274509665\n",
      "encoder__x1_Gen Z: 0.00352941176470587\n",
      "remainder__x55: 0.00352941176470587\n",
      "remainder__x9: 0.0031372549019607733\n",
      "remainder__x10: 0.0031372549019607733\n",
      "remainder__x12: 0.0031372549019607733\n",
      "remainder__x46: 0.0031372549019607733\n",
      "remainder__x39: 0.0027450980392156763\n",
      "remainder__x14: 0.00235294117647058\n",
      "remainder__x16: 0.00235294117647058\n",
      "remainder__x22: 0.0023529411764705577\n",
      "encoder__x4_near-hit: 0.0019607843137254832\n",
      "remainder__x28: 0.0019607843137254832\n",
      "encoder__x1_Silent: 0.001960784313725472\n",
      "encoder__x1_Gen X: 0.0015686274509803867\n",
      "encoder__x7_gain: 0.0015686274509803867\n",
      "encoder__x3_afternoon: 0.0015686274509803754\n",
      "encoder__x7_loss: 0.00117647058823529\n",
      "remainder__x0: 0.00117647058823529\n",
      "encoder__x7_near-hit: 0.0007843137254901933\n",
      "remainder__x8: 0.0007843137254901933\n",
      "remainder__x11: 0.0007843137254901933\n",
      "encoder__x7_draw: 0.00039215686274508555\n",
      "encoder__x2_1.0: 0.0\n",
      "encoder__x4_gain: 0.0\n",
      "remainder__x17: 0.0\n",
      "remainder__x18: 0.0\n",
      "encoder__x1_Baby Boomers: -0.00039215686274509667\n",
      "remainder__x19: -0.00039215686274509667\n",
      "remainder__x31: -0.00039215686274509667\n",
      "remainder__x53: -0.00039215686274509667\n",
      "remainder__x57: -0.00039215686274509667\n",
      "remainder__x6: -0.0007843137254901933\n",
      "encoder__x3_morning: -0.00117647058823529\n",
      "remainder__x34: -0.00117647058823529\n",
      "remainder__x29: -0.001176470588235301\n",
      "remainder__x48: -0.0015686274509803867\n",
      "encoder__x4_loss: -0.0019607843137254832\n",
      "remainder__x51: -0.0019607843137255166\n",
      "remainder__x52: -0.002352941176470591\n",
      "remainder__x15: -0.002352941176470602\n",
      "remainder__x32: -0.0027450980392156763\n",
      "remainder__x50: -0.004313725490196074\n",
      "remainder__x36: -0.005098039215686268\n",
      "remainder__x13: -0.005098039215686278\n",
      "remainder__x30: -0.005490196078431375\n",
      "remainder__x40: -0.00588235294117645\n",
      "remainder__x56: -0.005882352941176483\n",
      "remainder__x58: -0.007058823529411773\n",
      "remainder__x38: -0.0074509803921568914\n",
      "remainder__x37: -0.007843137254901978\n",
      "remainder__x54: -0.007843137254901978\n",
      "remainder__x43: -0.008235294117647052\n",
      "remainder__x33: -0.011764705882352965\n"
     ]
    }
   ],
   "source": [
    "from sklearn.inspection import permutation_importance\n",
    "\n",
    "# Assuming you have a trained classifier named 'classifier' and encoded data named 'X_encoded'\n",
    "# Calculate permutation importances\n",
    "result = permutation_importance(classifier, X_train, y_train, n_repeats=10, random_state=42)\n",
    "\n",
    "# Get feature importances and feature names\n",
    "importances = result.importances_mean\n",
    "feature_names = ct.get_feature_names_out()\n",
    "\n",
    "# Sort feature importances\n",
    "feature_importance = list(zip(feature_names, importances))\n",
    "feature_importance.sort(key=lambda x: x[1], reverse=True)\n",
    "\n",
    "# Print feature importances\n",
    "for feature, importance in feature_importance:\n",
    "    print(f\"{feature}: {importance}\")\n"
   ]
  },
  {
   "cell_type": "code",
   "execution_count": 9,
   "metadata": {},
   "outputs": [
    {
     "data": {
      "image/png": "[encoded data removed]",
      "text/plain": [
       "<Figure size 640x480 with 1 Axes>"
      ]
     },
     "metadata": {},
     "output_type": "display_data"
    }
   ],
   "source": [
    "import numpy as np\n",
    "import matplotlib.pyplot as plt\n",
    "\n",
    "# Assuming you have the predicted probabilities or scores named 'predicted_scores' and true labels named 'true_labels'\n",
    "\n",
    "# Sort the scores and corresponding true labels\n",
    "sorted_indices = np.argsort(y_pred)[::-1]\n",
    "sorted_true_labels = y_test[sorted_indices]\n",
    "\n",
    "# Calculate cumulative metrics\n",
    "total_positive = np.sum(y_test)\n",
    "cumulative_positives = np.cumsum(sorted_true_labels)\n",
    "cumulative_accuracy = cumulative_positives / total_positive\n",
    "cumulative_fraction = np.arange(1, len(sorted_true_labels) + 1) / len(sorted_true_labels)\n",
    "\n",
    "# Create the CAP curve plot\n",
    "plt.plot(cumulative_fraction, cumulative_accuracy, label='Model')\n",
    "plt.plot([0, 1], [0, 1], 'k--', label='Baseline')\n",
    "plt.xlabel('Cumulative Fraction')\n",
    "plt.ylabel('Cumulative Accuracy')\n",
    "plt.title('Cumulative Accuracy Profile (CAP) Curve')\n",
    "plt.legend()\n",
    "plt.show()"
   ]
  }
 ],
 "metadata": {
  "kernelspec": {
   "display_name": "Python 3",
   "language": "python",
   "name": "python3"
  },
  "language_info": {
   "codemirror_mode": {
    "name": "ipython",
    "version": 3
   },
   "file_extension": ".py",
   "mimetype": "text/x-python",
   "name": "python",
   "nbconvert_exporter": "python",
   "pygments_lexer": "ipython3",
   "version": "3.10.0"
  },
  "orig_nbformat": 4
 },
 "nbformat": 4,
 "nbformat_minor": 2
}
