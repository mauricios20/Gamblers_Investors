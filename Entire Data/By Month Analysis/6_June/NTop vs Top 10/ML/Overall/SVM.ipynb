{
 "cells": [
  {
   "attachments": {},
   "cell_type": "markdown",
   "metadata": {},
   "source": [
    "# Support Vector Machine (SVM) Model"
   ]
  },
  {
   "attachments": {},
   "cell_type": "markdown",
   "metadata": {},
   "source": [
    "## Data Preprocessing"
   ]
  },
  {
   "cell_type": "code",
   "execution_count": 33,
   "metadata": {},
   "outputs": [],
   "source": [
    "# Importing the libraries\n",
    "import numpy as np\n",
    "import matplotlib.pyplot as plt\n",
    "import pandas as pd\n",
    "import os\n",
    "\n",
    "# Set working directory\n",
    "month_file = '2_June'\n",
    "\n",
    "os.chdir(\"/Users/mau/Library/CloudStorage/Dropbox/Mac/Documents/Dissertation/Chapter 2/Entire_Data/By month/\"+month_file+\"/Ending Balances/Per_Player\")"
   ]
  },
  {
   "cell_type": "code",
   "execution_count": 34,
   "metadata": {},
   "outputs": [
    {
     "name": "stdout",
     "output_type": "stream",
     "text": [
      "Index(['playerkey', 'session_time', 'gender', 'age_range', 'age_gen', 'day',\n",
      "       'timeofday', 'beginning_amt', 'ending_amt', 'ending_balance',\n",
      "       'ave_slotdenom', 'std_slotdenom', 'min_slotdenom', 'max_slotdenom',\n",
      "       'ave_theo_payback', 'min_theo_payback', 'max_theo_payback',\n",
      "       'ave_wageramt', 'std_wageramt', 'min_wager', 'max_wager', 'ave_p/b',\n",
      "       'std_p/b', 'max_p/b', 'max_profit', 'depletion_slope', '#inc_maxbet',\n",
      "       '#dec_maxbet', 'first_wager', 'first_outcome', 'first_p/b',\n",
      "       'last_wager', 'last_outcome', 'last_p/b', '#W', '#L', '#NH', '#D',\n",
      "       'w/min', 'l/min', 'nh/min', 'd/min', 'w/g', 'l/g', 'nh/g', 'd/g',\n",
      "       '#2ws', '2ws_profit', '2ws_wgramt', '#3ws', '3ws_profit', '3ws_wgramt',\n",
      "       '#4ws', '4ws_profit', '4ws_wgramt', '2ws/min', '3ws/min', '4ws/min',\n",
      "       'ave_time_per_gamble', 'min_time_per_gamble', 'max_time_per_gamble',\n",
      "       'total_duration', 'total_gambles', 'machines_changes', '#inc_slotdenom',\n",
      "       '#dec_slotdenom', 'unique_machines', 'ave_time_per_machine',\n",
      "       'classification'],\n",
      "      dtype='object')\n"
     ]
    }
   ],
   "source": [
    "# Load original dataset\n",
    "dataset = pd.read_parquet('top_vs_ntop_player_ending_balance_by_session.parquet')\n",
    "\n",
    "print(dataset.columns)"
   ]
  },
  {
   "attachments": {},
   "cell_type": "markdown",
   "metadata": {},
   "source": [
    "## Load Dataframes"
   ]
  },
  {
   "cell_type": "code",
   "execution_count": 35,
   "metadata": {},
   "outputs": [],
   "source": [
    "# Filter Columns\n",
    "filter = ['session_time', 'gender', 'age_gen', 'day', 'timeofday', 'first_outcome',\n",
    "        'first_wager','first_p/b', 'last_outcome', 'last_wager', 'last_p/b',\n",
    "        'beginning_amt', 'ending_amt', 'ending_balance', 'ave_slotdenom', \n",
    "        'std_slotdenom', 'min_slotdenom', 'max_slotdenom', 'ave_theo_payback',\n",
    "        'min_theo_payback', 'max_theo_payback', 'ave_wageramt', 'std_wageramt',\n",
    "        'min_wager', 'max_wager', 'ave_p/b', 'std_p/b', 'max_p/b', 'max_profit', 'depletion_slope', \n",
    "        '#inc_slotdenom', '#dec_slotdenom', '#inc_maxbet', '#dec_maxbet',\n",
    "        'w/min', 'l/min', 'nh/min', 'd/min', '2ws_profit', '2ws_wgramt','2ws/min', \n",
    "        '3ws_profit', '3ws_wgramt', '3ws/min', '4ws_profit', '4ws_wgramt', '4ws/min', \n",
    "        'w/g', 'l/g', 'nh/g', 'd/g', 'ave_time_per_gamble', \n",
    "        'min_time_per_gamble', 'max_time_per_gamble',\n",
    "        'machines_changes', 'unique_machines', 'ave_time_per_machine', 'classification']\n",
    "\n",
    "# Load dataset\n",
    "dataset = pd.read_parquet('top_vs_ntop_player_ending_balance_by_session.parquet', columns=filter)\n",
    "\n",
    "# Keep only session_time 1\n",
    "dataset = dataset[dataset['session_time'] == 1]\n",
    "# Drop age_range and playerkey\n",
    "dataset = dataset.drop(['session_time'], axis=1)\n",
    "\n",
    "# Convert 'ave_time_per_machine' to seconds\n",
    "dataset['ave_time_per_machine'] = dataset['ave_time_per_machine'].dt.total_seconds()\n",
    "\n",
    "# # Seperate dependent and independent variables\n",
    "X = dataset.iloc[:, :-1].values\n",
    "y = dataset.iloc[:, -1].values"
   ]
  },
  {
   "attachments": {},
   "cell_type": "markdown",
   "metadata": {},
   "source": [
    "## Taking Care of Missing Data\n",
    "\n",
    "X[:, 3:31] it covers from beggining account balance to 4ws_wgramt column\n",
    "\n",
    "We do not need this step since we do not have missing data!"
   ]
  },
  {
   "cell_type": "code",
   "execution_count": 36,
   "metadata": {},
   "outputs": [],
   "source": [
    "# from sklearn.impute import SimpleImputer\n",
    "# imputer = SimpleImputer(missing_values=np.nan, strategy='mean')\n",
    "# imputer.fit(X[:, 3:31])\n",
    "# X[:, 3:31] = imputer.transform(X[:, 3:31])"
   ]
  },
  {
   "attachments": {},
   "cell_type": "markdown",
   "metadata": {},
   "source": [
    "## Encoding Categorical Data\n",
    "\n",
    "### Encoding the Independent Variable"
   ]
  },
  {
   "cell_type": "code",
   "execution_count": 37,
   "metadata": {},
   "outputs": [],
   "source": [
    "from sklearn.compose import ColumnTransformer\n",
    "from sklearn.preprocessing import OneHotEncoder\n",
    "from sklearn.preprocessing import LabelEncoder\n",
    "\n",
    "# Econde gender column (Binary)\n",
    "le = LabelEncoder()\n",
    "\n",
    "# Binary Encode gender\n",
    "X[:, 0] = le.fit_transform(X[:, 0])"
   ]
  },
  {
   "cell_type": "code",
   "execution_count": 38,
   "metadata": {},
   "outputs": [],
   "source": [
    "# # Encode age_generartion, day, time of day,  and time of day columns, first_outcome, and last_outcome.\n",
    "ct = ColumnTransformer(transformers=[('encoder', OneHotEncoder(), [1, 2, 3, 4, 7])], remainder='passthrough')\n",
    "X = np.array(ct.fit_transform(X))"
   ]
  },
  {
   "attachments": {},
   "cell_type": "markdown",
   "metadata": {},
   "source": [
    "### Encoding the Dependent Variable"
   ]
  },
  {
   "cell_type": "code",
   "execution_count": 39,
   "metadata": {},
   "outputs": [],
   "source": [
    "y = le.fit_transform(y)"
   ]
  },
  {
   "attachments": {},
   "cell_type": "markdown",
   "metadata": {},
   "source": [
    "## Splitting the dataset into the Training set and Test set"
   ]
  },
  {
   "cell_type": "code",
   "execution_count": 40,
   "metadata": {},
   "outputs": [],
   "source": [
    "from sklearn.model_selection import train_test_split\n",
    "X_train, X_test, y_train, y_test = train_test_split(X, y, test_size = 0.2, random_state = 1)"
   ]
  },
  {
   "attachments": {},
   "cell_type": "markdown",
   "metadata": {},
   "source": [
    "## Feature Scaling"
   ]
  },
  {
   "cell_type": "code",
   "execution_count": 41,
   "metadata": {},
   "outputs": [],
   "source": [
    "from sklearn.preprocessing import StandardScaler\n",
    "sc = StandardScaler()\n",
    "\n",
    "# Scale all columns except the encoded ones\n",
    "X_train[:, 19:] = sc.fit_transform(X_train[:, 19:])\n",
    "X_test[:, 19:] = sc.transform(X_test[:, 19:])"
   ]
  },
  {
   "attachments": {},
   "cell_type": "markdown",
   "metadata": {},
   "source": [
    "## Training the Logistic Regression model on \n",
    "\n",
    "1.   X_train\n",
    "2.   y_train\n",
    "\n",
    "the Training set"
   ]
  },
  {
   "cell_type": "code",
   "execution_count": 42,
   "metadata": {},
   "outputs": [
    {
     "data": {
      "text/html": [
       "<style>#sk-container-id-3 {color: black;background-color: white;}#sk-container-id-3 pre{padding: 0;}#sk-container-id-3 div.sk-toggleable {background-color: white;}#sk-container-id-3 label.sk-toggleable__label {cursor: pointer;display: block;width: 100%;margin-bottom: 0;padding: 0.3em;box-sizing: border-box;text-align: center;}#sk-container-id-3 label.sk-toggleable__label-arrow:before {content: \"▸\";float: left;margin-right: 0.25em;color: #696969;}#sk-container-id-3 label.sk-toggleable__label-arrow:hover:before {color: black;}#sk-container-id-3 div.sk-estimator:hover label.sk-toggleable__label-arrow:before {color: black;}#sk-container-id-3 div.sk-toggleable__content {max-height: 0;max-width: 0;overflow: hidden;text-align: left;background-color: #f0f8ff;}#sk-container-id-3 div.sk-toggleable__content pre {margin: 0.2em;color: black;border-radius: 0.25em;background-color: #f0f8ff;}#sk-container-id-3 input.sk-toggleable__control:checked~div.sk-toggleable__content {max-height: 200px;max-width: 100%;overflow: auto;}#sk-container-id-3 input.sk-toggleable__control:checked~label.sk-toggleable__label-arrow:before {content: \"▾\";}#sk-container-id-3 div.sk-estimator input.sk-toggleable__control:checked~label.sk-toggleable__label {background-color: #d4ebff;}#sk-container-id-3 div.sk-label input.sk-toggleable__control:checked~label.sk-toggleable__label {background-color: #d4ebff;}#sk-container-id-3 input.sk-hidden--visually {border: 0;clip: rect(1px 1px 1px 1px);clip: rect(1px, 1px, 1px, 1px);height: 1px;margin: -1px;overflow: hidden;padding: 0;position: absolute;width: 1px;}#sk-container-id-3 div.sk-estimator {font-family: monospace;background-color: #f0f8ff;border: 1px dotted black;border-radius: 0.25em;box-sizing: border-box;margin-bottom: 0.5em;}#sk-container-id-3 div.sk-estimator:hover {background-color: #d4ebff;}#sk-container-id-3 div.sk-parallel-item::after {content: \"\";width: 100%;border-bottom: 1px solid gray;flex-grow: 1;}#sk-container-id-3 div.sk-label:hover label.sk-toggleable__label {background-color: #d4ebff;}#sk-container-id-3 div.sk-serial::before {content: \"\";position: absolute;border-left: 1px solid gray;box-sizing: border-box;top: 0;bottom: 0;left: 50%;z-index: 0;}#sk-container-id-3 div.sk-serial {display: flex;flex-direction: column;align-items: center;background-color: white;padding-right: 0.2em;padding-left: 0.2em;position: relative;}#sk-container-id-3 div.sk-item {position: relative;z-index: 1;}#sk-container-id-3 div.sk-parallel {display: flex;align-items: stretch;justify-content: center;background-color: white;position: relative;}#sk-container-id-3 div.sk-item::before, #sk-container-id-3 div.sk-parallel-item::before {content: \"\";position: absolute;border-left: 1px solid gray;box-sizing: border-box;top: 0;bottom: 0;left: 50%;z-index: -1;}#sk-container-id-3 div.sk-parallel-item {display: flex;flex-direction: column;z-index: 1;position: relative;background-color: white;}#sk-container-id-3 div.sk-parallel-item:first-child::after {align-self: flex-end;width: 50%;}#sk-container-id-3 div.sk-parallel-item:last-child::after {align-self: flex-start;width: 50%;}#sk-container-id-3 div.sk-parallel-item:only-child::after {width: 0;}#sk-container-id-3 div.sk-dashed-wrapped {border: 1px dashed gray;margin: 0 0.4em 0.5em 0.4em;box-sizing: border-box;padding-bottom: 0.4em;background-color: white;}#sk-container-id-3 div.sk-label label {font-family: monospace;font-weight: bold;display: inline-block;line-height: 1.2em;}#sk-container-id-3 div.sk-label-container {text-align: center;}#sk-container-id-3 div.sk-container {/* jupyter's `normalize.less` sets `[hidden] { display: none; }` but bootstrap.min.css set `[hidden] { display: none !important; }` so we also need the `!important` here to be able to override the default hidden behavior on the sphinx rendered scikit-learn.org. See: https://github.com/scikit-learn/scikit-learn/issues/21755 */display: inline-block !important;position: relative;}#sk-container-id-3 div.sk-text-repr-fallback {display: none;}</style><div id=\"sk-container-id-3\" class=\"sk-top-container\"><div class=\"sk-text-repr-fallback\"><pre>SVC(kernel=&#x27;linear&#x27;, random_state=0)</pre><b>In a Jupyter environment, please rerun this cell to show the HTML representation or trust the notebook. <br />On GitHub, the HTML representation is unable to render, please try loading this page with nbviewer.org.</b></div><div class=\"sk-container\" hidden><div class=\"sk-item\"><div class=\"sk-estimator sk-toggleable\"><input class=\"sk-toggleable__control sk-hidden--visually\" id=\"sk-estimator-id-3\" type=\"checkbox\" checked><label for=\"sk-estimator-id-3\" class=\"sk-toggleable__label sk-toggleable__label-arrow\">SVC</label><div class=\"sk-toggleable__content\"><pre>SVC(kernel=&#x27;linear&#x27;, random_state=0)</pre></div></div></div></div></div>"
      ],
      "text/plain": [
       "SVC(kernel='linear', random_state=0)"
      ]
     },
     "execution_count": 42,
     "metadata": {},
     "output_type": "execute_result"
    }
   ],
   "source": [
    "from sklearn.svm import SVC\n",
    "classifier = SVC(kernel = 'linear', random_state = 0)\n",
    "classifier.fit(X_train, y_train)"
   ]
  },
  {
   "attachments": {},
   "cell_type": "markdown",
   "metadata": {},
   "source": [
    "### Which IDVs have the most weight in the model"
   ]
  },
  {
   "cell_type": "code",
   "execution_count": 43,
   "metadata": {},
   "outputs": [],
   "source": [
    "# # Get the feature names after one-hot encoding\n",
    "# feature_names = ct.get_feature_names_out()\n",
    "\n",
    "# # Get the coefficients and feature importance\n",
    "# coefficients = classifier.coef_[0]\n",
    "# feature_importance = list(zip(feature_names, coefficients))\n",
    "\n",
    "# # Sort the feature importance by absolute coefficient values\n",
    "# feature_importance.sort(key=lambda x: abs(x[1]), reverse=True)\n",
    "\n",
    "# # Print the feature importance\n",
    "# for feature, importance in feature_importance:\n",
    "#     print(f\"{feature}: {importance}\")"
   ]
  },
  {
   "attachments": {},
   "cell_type": "markdown",
   "metadata": {},
   "source": [
    "### Predicting the Test set results"
   ]
  },
  {
   "cell_type": "code",
   "execution_count": 44,
   "metadata": {},
   "outputs": [
    {
     "name": "stdout",
     "output_type": "stream",
     "text": [
      "[[0 1]\n",
      " [0 0]\n",
      " [1 1]\n",
      " [0 0]\n",
      " [0 0]\n",
      " [0 0]\n",
      " [0 0]\n",
      " [0 0]\n",
      " [0 0]\n",
      " [0 0]\n",
      " [0 0]\n",
      " [0 0]\n",
      " [0 0]\n",
      " [0 0]\n",
      " [0 0]\n",
      " [0 0]\n",
      " [0 0]\n",
      " [0 0]\n",
      " [0 0]\n",
      " [0 0]\n",
      " [0 0]\n",
      " [1 1]\n",
      " [0 0]\n",
      " [0 0]\n",
      " [0 0]\n",
      " [0 0]\n",
      " [0 0]\n",
      " [0 0]\n",
      " [0 0]\n",
      " [0 0]\n",
      " [0 0]\n",
      " [0 0]\n",
      " [0 0]\n",
      " [0 0]\n",
      " [0 1]\n",
      " [0 0]\n",
      " [1 0]\n",
      " [0 0]\n",
      " [0 0]\n",
      " [1 0]\n",
      " [0 0]\n",
      " [0 0]\n",
      " [0 0]\n",
      " [0 0]\n",
      " [0 0]\n",
      " [0 0]\n",
      " [0 0]\n",
      " [0 0]\n",
      " [0 1]\n",
      " [0 0]\n",
      " [0 0]\n",
      " [0 1]\n",
      " [0 0]\n",
      " [0 0]]\n"
     ]
    }
   ],
   "source": [
    "y_pred = classifier.predict(X_test)\n",
    "\n",
    "print(np.concatenate((y_pred.reshape(len(y_pred),1), y_test.reshape(len(y_test),1)),1))"
   ]
  },
  {
   "attachments": {},
   "cell_type": "markdown",
   "metadata": {},
   "source": [
    "### Making the Confusion Matrix and Accuracy Score"
   ]
  },
  {
   "cell_type": "code",
   "execution_count": 45,
   "metadata": {},
   "outputs": [
    {
     "name": "stdout",
     "output_type": "stream",
     "text": [
      "[[46  2]\n",
      " [ 4  2]]\n",
      "Accuracy:  0.8888888888888888\n",
      "Precision:  0.71\n",
      "Recall:  0.6458333333333334\n",
      "F1 Score:  0.6693877551020408\n"
     ]
    }
   ],
   "source": [
    "from sklearn.metrics import confusion_matrix, accuracy_score, precision_score, recall_score, f1_score\n",
    "cm = confusion_matrix(y_test, y_pred)\n",
    "print(cm)\n",
    "print('Accuracy: ', accuracy_score(y_test, y_pred))\n",
    "print('Precision: ', precision_score(y_test, y_pred, average='macro', zero_division=1))\n",
    "print('Recall: ', recall_score(y_test, y_pred, average='macro'))\n",
    "print('F1 Score: ', f1_score(y_test, y_pred, average='macro'))"
   ]
  },
  {
   "cell_type": "code",
   "execution_count": 46,
   "metadata": {},
   "outputs": [
    {
     "name": "stdout",
     "output_type": "stream",
     "text": [
      "{0: 'gender', 1: 'age_gen', 2: 'day', 3: 'timeofday', 4: 'first_outcome', 5: 'first_wager', 6: 'first_p/b', 7: 'last_outcome', 8: 'last_wager', 9: 'last_p/b', 10: 'beginning_amt', 11: 'ending_amt', 12: 'ending_balance', 13: 'ave_slotdenom', 14: 'std_slotdenom', 15: 'min_slotdenom', 16: 'max_slotdenom', 17: 'ave_theo_payback', 18: 'min_theo_payback', 19: 'max_theo_payback', 20: 'ave_wageramt', 21: 'std_wageramt', 22: 'min_wager', 23: 'max_wager', 24: 'ave_p/b', 25: 'std_p/b', 26: 'max_p/b', 27: 'max_profit', 28: 'depletion_slope', 29: '#inc_slotdenom', 30: '#dec_slotdenom', 31: '#inc_maxbet', 32: '#dec_maxbet', 33: 'w/min', 34: 'l/min', 35: 'nh/min', 36: 'd/min', 37: '2ws_profit', 38: '2ws_wgramt', 39: '2ws/min', 40: '3ws_profit', 41: '3ws_wgramt', 42: '3ws/min', 43: '4ws_profit', 44: '4ws_wgramt', 45: '4ws/min', 46: 'w/g', 47: 'l/g', 48: 'nh/g', 49: 'd/g', 50: 'ave_time_per_gamble', 51: 'min_time_per_gamble', 52: 'max_time_per_gamble', 53: 'machines_changes', 54: 'unique_machines', 55: 'ave_time_per_machine', 56: 'classification'}\n"
     ]
    }
   ],
   "source": [
    "# Create a dictionary mapping column names to their index positions\n",
    "column_index_mapping = {index: column_name for index, column_name in enumerate(dataset.columns)}\n",
    "\n",
    "# Print the dictionary\n",
    "print(column_index_mapping)"
   ]
  },
  {
   "cell_type": "code",
   "execution_count": 47,
   "metadata": {},
   "outputs": [
    {
     "name": "stdout",
     "output_type": "stream",
     "text": [
      "remainder__x19: 0.04647887323943665\n",
      "remainder__x26: 0.04131455399061036\n",
      "remainder__x35: 0.03380281690140848\n",
      "remainder__x33: 0.02488262910798127\n",
      "remainder__x52: 0.022065727699530545\n",
      "remainder__x46: 0.020187793427230094\n",
      "remainder__x47: 0.016431924882629158\n",
      "remainder__x37: 0.013145539906103353\n",
      "remainder__x42: 0.01126760563380288\n",
      "remainder__x9: 0.008920187793427282\n",
      "remainder__x25: 0.008920187793427282\n",
      "remainder__x48: 0.008920187793427282\n",
      "remainder__x29: 0.00892018779342727\n",
      "remainder__x13: 0.0065727699530516714\n",
      "remainder__x5: 0.005164319248826354\n",
      "remainder__x6: 0.005164319248826354\n",
      "remainder__x20: 0.005164319248826354\n",
      "encoder__x7_near-hit: 0.005164319248826344\n",
      "remainder__x32: 0.005164319248826344\n",
      "remainder__x55: 0.0051643192488263325\n",
      "remainder__x16: 0.0046948356807512415\n",
      "remainder__x21: 0.0046948356807512415\n",
      "remainder__x23: 0.0046948356807512415\n",
      "remainder__x22: 0.004694835680751219\n",
      "remainder__x31: 0.0042253521126761175\n",
      "remainder__x0: 0.004225352112676084\n",
      "remainder__x50: 0.0037558685446009822\n",
      "remainder__x53: 0.0037558685446009822\n",
      "encoder__x3_afternoon: 0.003755868544600971\n",
      "remainder__x17: 0.003286384976525858\n",
      "remainder__x43: 0.003286384976525858\n",
      "remainder__x10: 0.0028169014084507447\n",
      "remainder__x30: 0.0028169014084507447\n",
      "encoder__x7_loss: 0.0023474178403756207\n",
      "remainder__x8: 0.0023474178403756207\n",
      "remainder__x14: 0.0023474178403756207\n",
      "remainder__x24: 0.0023474178403756095\n",
      "remainder__x40: 0.0018779342723004965\n",
      "encoder__x3_night: 0.0009389671361502483\n",
      "encoder__x4_loss: 0.0009389671361502483\n",
      "remainder__x36: 0.0009389671361502483\n",
      "remainder__x49: 0.00046948356807513525\n",
      "encoder__x1_Millenials: 0.00046948356807512414\n",
      "remainder__x39: 0.00046948356807512414\n",
      "remainder__x45: 0.00046948356807512414\n",
      "encoder__x1_Baby Boomers: 0.0\n",
      "encoder__x1_Gen X: 0.0\n",
      "encoder__x1_Gen Z: 0.0\n",
      "encoder__x1_Silent: 0.0\n",
      "encoder__x2_1.0: 0.0\n",
      "encoder__x3_evening: 0.0\n",
      "encoder__x3_morning: 0.0\n",
      "encoder__x4_draw: 0.0\n",
      "encoder__x4_near-hit: 0.0\n",
      "encoder__x7_draw: 0.0\n",
      "encoder__x7_gain: 0.0\n",
      "remainder__x11: 0.0\n",
      "remainder__x12: 0.0\n",
      "remainder__x15: 0.0\n",
      "remainder__x18: 0.0\n",
      "remainder__x27: 0.0\n",
      "remainder__x28: 0.0\n",
      "remainder__x34: 0.0\n",
      "remainder__x38: 0.0\n",
      "remainder__x41: 0.0\n",
      "remainder__x44: 0.0\n",
      "remainder__x51: 0.0\n",
      "remainder__x54: 0.0\n",
      "encoder__x4_gain: -0.000469483568075113\n"
     ]
    }
   ],
   "source": [
    "from sklearn.inspection import permutation_importance\n",
    "\n",
    "result = permutation_importance(classifier, X_train, y_train, n_repeats=10, random_state=42)\n",
    "\n",
    "# Get feature importances and feature names\n",
    "importances = result.importances_mean\n",
    "feature_names = ct.get_feature_names_out()\n",
    "\n",
    "# Sort feature importances\n",
    "feature_importance = list(zip(feature_names, importances))\n",
    "feature_importance.sort(key=lambda x: x[1], reverse=True)\n",
    "\n",
    "# Print feature importances\n",
    "for feature, importance in feature_importance:\n",
    "    print(f\"{feature}: {importance}\")"
   ]
  },
  {
   "attachments": {},
   "cell_type": "markdown",
   "metadata": {},
   "source": [
    "## Cumulative Accuracy Profile (CAP) Graph"
   ]
  },
  {
   "cell_type": "code",
   "execution_count": 48,
   "metadata": {},
   "outputs": [
    {
     "data": {
      "image/png": "[encoded data removed]",
      "text/plain": [
       "<Figure size 640x480 with 1 Axes>"
      ]
     },
     "metadata": {},
     "output_type": "display_data"
    }
   ],
   "source": [
    "import numpy as np\n",
    "import matplotlib.pyplot as plt\n",
    "\n",
    "# Assuming you have the predicted probabilities or scores named 'predicted_scores' and true labels named 'true_labels'\n",
    "\n",
    "# Sort the scores and corresponding true labels\n",
    "sorted_indices = np.argsort(y_pred)[::-1]\n",
    "sorted_true_labels = y_test[sorted_indices]\n",
    "\n",
    "# Calculate cumulative metrics\n",
    "total_positive = np.sum(y_test)\n",
    "cumulative_positives = np.cumsum(sorted_true_labels)\n",
    "cumulative_accuracy = cumulative_positives / total_positive\n",
    "cumulative_fraction = np.arange(1, len(sorted_true_labels) + 1) / len(sorted_true_labels)\n",
    "\n",
    "# Create the CAP curve plot\n",
    "plt.plot(cumulative_fraction, cumulative_accuracy, label='Model')\n",
    "plt.plot([0, 1], [0, 1], 'k--', label='Baseline')\n",
    "plt.xlabel('Cumulative Fraction')\n",
    "plt.ylabel('Cumulative Accuracy')\n",
    "plt.title('Cumulative Accuracy Profile (CAP) Curve')\n",
    "plt.legend()\n",
    "plt.show()"
   ]
  }
 ],
 "metadata": {
  "kernelspec": {
   "display_name": "Python 3",
   "language": "python",
   "name": "python3"
  },
  "language_info": {
   "codemirror_mode": {
    "name": "ipython",
    "version": 3
   },
   "file_extension": ".py",
   "mimetype": "text/x-python",
   "name": "python",
   "nbconvert_exporter": "python",
   "pygments_lexer": "ipython3",
   "version": "3.10.0"
  },
  "orig_nbformat": 4
 },
 "nbformat": 4,
 "nbformat_minor": 2
}
