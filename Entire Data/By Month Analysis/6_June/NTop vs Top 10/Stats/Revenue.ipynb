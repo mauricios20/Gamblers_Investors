{
 "cells": [
  {
   "cell_type": "code",
   "execution_count": 5,
   "metadata": {},
   "outputs": [],
   "source": [
    "# Importing the libraries\n",
    "import numpy as np\n",
    "import matplotlib.pyplot as plt\n",
    "import pandas as pd\n",
    "import os\n",
    "\n",
    "\n",
    "# Set working directory\n",
    "month_file = '2_June'\n",
    "# Set working directory\n",
    "os.chdir(\"/Users/mau/Library/CloudStorage/Dropbox/Mac/Documents/Dissertation/Chapter 2/Entire_Data/By month/\"+month_file+\"/Ending Balances/Per_Player\")"
   ]
  },
  {
   "cell_type": "code",
   "execution_count": 19,
   "metadata": {},
   "outputs": [],
   "source": [
    "# Filter Columns\n",
    "filter = ['session_time', 'gender', 'age_gen', 'day', 'timeofday', 'first_outcome',\n",
    "        'first_wager','first_p/b', 'last_outcome', 'last_wager', 'last_p/b',\n",
    "        'beginning_amt', 'ending_amt', 'ending_balance', 'ave_slotdenom', \n",
    "        'std_slotdenom', 'min_slotdenom', 'max_slotdenom', 'ave_theo_payback',\n",
    "        'min_theo_payback', 'max_theo_payback', 'ave_wageramt', 'std_wageramt',\n",
    "        'min_wager', 'max_wager', 'ave_p/b', 'std_p/b', 'max_p/b', 'max_profit', 'depletion_slope', \n",
    "        '#inc_slotdenom', '#dec_slotdenom', '#inc_maxbet', '#dec_maxbet',\n",
    "        'w/min', 'l/min', 'nh/min', 'd/min', '2ws_profit', '2ws_wgramt','2ws/min', \n",
    "        '3ws_profit', '3ws_wgramt', '3ws/min', '4ws_profit', '4ws_wgramt', '4ws/min', \n",
    "        'w/g', 'l/g', 'nh/g', 'd/g', 'ave_time_per_gamble',\n",
    "        'min_time_per_gamble', 'machines_changes', 'unique_machines', 'classification']\n",
    "\n",
    "# Taking out ave_time_per_machine and max_time_per_gamble\n",
    "\n",
    "# Load dataset\n",
    "dataset = pd.read_parquet('top_vs_ntop_player_ending_balance_by_session.parquet', columns=filter)"
   ]
  },
  {
   "cell_type": "markdown",
   "metadata": {},
   "source": [
    "## Entire Month"
   ]
  },
  {
   "cell_type": "code",
   "execution_count": 18,
   "metadata": {},
   "outputs": [
    {
     "name": "stdout",
     "output_type": "stream",
     "text": [
      "Negative Balance - What the casino won Overall\n",
      "                ending_balance\n",
      "classification                \n",
      "Ntop             -17624.140625\n",
      "top_10            -1898.239990\n",
      "-------------------\n",
      "Average Negative Balance - What casino won Per Player\n",
      "                ending_balance\n",
      "classification                \n",
      "Ntop                -91.792397\n",
      "top_10              -49.953686\n",
      "-------------------\n",
      "Positive Balance - What the players won overall\n",
      "                ending_balance\n",
      "classification                \n",
      "Ntop              21659.990234\n",
      "top_10            43518.582031\n",
      "-------------------\n",
      "Average Positive Balance - What each player won on average\n",
      "                ending_balance\n",
      "classification                \n",
      "Ntop                176.097488\n",
      "top_10             2072.313477\n",
      "-------------------\n",
      "Overall Balance\n",
      "                ending_balance\n",
      "classification                \n",
      "Ntop               4035.850098\n",
      "top_10            41620.339844\n"
     ]
    }
   ],
   "source": [
    "negative_ending_balance_sum = dataset[dataset['ending_balance'] < 0].groupby('classification')[['ending_balance']].sum()\n",
    "\n",
    "print('Negative Balance - What the casino won Overall')\n",
    "print(negative_ending_balance_sum)\n",
    "print('-------------------')\n",
    "\n",
    "negative_ending_balance_ave = dataset[dataset['ending_balance'] < 0].groupby('classification')[['ending_balance']].mean()\n",
    "print('Average Negative Balance - What casino won Per Player')\n",
    "print(negative_ending_balance_ave)\n",
    "print('-------------------')\n",
    "\n",
    "positive_ending_balance_sum = dataset[dataset['ending_balance'] > 0].groupby('classification')[['ending_balance']].sum()\n",
    "\n",
    "print('Positive Balance - What the players won overall')\n",
    "print(positive_ending_balance_sum)\n",
    "print('-------------------')\n",
    "positive_ending_balance_ave = dataset[dataset['ending_balance'] > 0].groupby('classification')[['ending_balance']].mean()\n",
    "print('Average Positive Balance - What each player won on average')\n",
    "print(positive_ending_balance_ave)\n",
    "print('-------------------')\n",
    "print('Overall Balance')\n",
    "print(dataset.groupby('classification')[['ending_balance']].sum())"
   ]
  }
 ],
 "metadata": {
  "kernelspec": {
   "display_name": "Python 3",
   "language": "python",
   "name": "python3"
  },
  "language_info": {
   "codemirror_mode": {
    "name": "ipython",
    "version": 3
   },
   "file_extension": ".py",
   "mimetype": "text/x-python",
   "name": "python",
   "nbconvert_exporter": "python",
   "pygments_lexer": "ipython3",
   "version": "3.10.0"
  },
  "orig_nbformat": 4
 },
 "nbformat": 4,
 "nbformat_minor": 2
}
