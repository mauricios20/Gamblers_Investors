{
 "cells": [
  {
   "attachments": {},
   "cell_type": "markdown",
   "metadata": {},
   "source": [
    "# Similarities and Differences of Top vs. Bottom 20% (Pt.1 - Age, Gender, Won/Lost Amount)"
   ]
  },
  {
   "cell_type": "code",
   "execution_count": 1,
   "metadata": {},
   "outputs": [],
   "source": [
    "# Define libraries\n",
    "import pandas as pd\n",
    "import numpy as np\n",
    "import matplotlib.pyplot as plt\n",
    "import seaborn as sns\n",
    "import matplotlib.dates as mdates\n",
    "import os\n",
    "import plotting_fn as pf\n",
    "import counting_fns as cf\n",
    "\n",
    "month_file = '2_June'\n",
    "cut_off = 10000\n",
    "# Set working directory\n",
    "os.chdir(\"/Users/mau/Library/CloudStorage/Dropbox/Mac/Documents/Dissertation/Chapter 2/Entire_Data/By month/\"+month_file)\n"
   ]
  },
  {
   "cell_type": "code",
   "execution_count": 2,
   "metadata": {},
   "outputs": [],
   "source": [
    "# Read in data\n",
    "df_bottom_20 = pd.read_parquet(\"top_players.parquet\")\n",
    "\n",
    "\n",
    "# Eliminate players who maximum number of gambles is 1\n",
    "df_bottom_20 = df_bottom_20.groupby('playerkey').filter(lambda x: x['gambles'].nunique() > 1)\n",
    "\n",
    "# Reset index\n",
    "df_bottom_20.index = np.arange(1, len(df_bottom_20) + 1)\n",
    "\n",
    "# Round wageredamt and profit to 2 decimal places\n",
    "df_bottom_20['wageredamt'] = df_bottom_20['wageredamt'].round(1)\n",
    "df_bottom_20['profit'] = df_bottom_20['profit'].round(1)\n",
    "df_bottom_20['percent_return'] = df_bottom_20['percent_return'].round(1)\n"
   ]
  },
  {
   "cell_type": "code",
   "execution_count": 3,
   "metadata": {},
   "outputs": [],
   "source": [
    "# Create a new column 'result_type' that is a categorical variable which takes the value 'loss' if the change is negative and 'gain' if the change is positive, and 'draw' of change is 0\n",
    "df_bottom_20['result_type'] = df_bottom_20['percent_return'].apply(lambda x: 'loss' if x == -100 else 'near-hit' if x < 0 else 'gain' if x > 0 else 'draw')\n",
    "\n",
    "# Create dummy variables from 'result_type'\n",
    "dummy_variables = pd.get_dummies(df_bottom_20['result_type']).rename(columns=lambda x: '#' + str(x[0].capitalize()))\n",
    "\n",
    "# Add the dummy variables to the original DataFrame\n",
    "df_bottom_20 = pd.concat([df_bottom_20, dummy_variables], axis=1).reset_index(drop=True)\n",
    "\n",
    "# Convert starttime to delte format for operations\n",
    "df_bottom_20['start_time'] = pd.to_datetime(df_bottom_20['start_time'])\n",
    "\n",
    "# Create new column called 'time_diff' which is the difference between the start time of the gamble and the start time of the previous gamble\n",
    "df_bottom_20['time_diff'] = df_bottom_20.groupby(['playerkey', 'session_time'])['start_time'].diff()\n",
    "\n",
    "# Convert time_diff to seconds\n",
    "df_bottom_20['time_diff'] = df_bottom_20['time_diff'].dt.total_seconds().fillna(0)"
   ]
  },
  {
   "cell_type": "markdown",
   "metadata": {},
   "source": [
    "### Filter visit 1"
   ]
  },
  {
   "cell_type": "code",
   "execution_count": 4,
   "metadata": {},
   "outputs": [],
   "source": [
    "# Filter data frame by visit == 1\n",
    "df_bottom_20 = df_bottom_20[df_bottom_20['visit'] == 1]"
   ]
  },
  {
   "cell_type": "code",
   "execution_count": 5,
   "metadata": {},
   "outputs": [],
   "source": [
    "# Ude consecutive functions to find 2ws, 3ws, 4ws in a row in each dataset per visit per player\n",
    "df_bottom_20 = pf.consecutive_wins(df_bottom_20, 'visit')\n",
    "\n"
   ]
  },
  {
   "cell_type": "code",
   "execution_count": 6,
   "metadata": {},
   "outputs": [],
   "source": [
    "# Ude consecutive functions to find 2ws, 3ws, 4ws in a row in each dataset per session_time per player\n",
    "df_bottom_20_s = pf.consecutive_wins(df_bottom_20, 'session_time')\n"
   ]
  },
  {
   "cell_type": "code",
   "execution_count": 7,
   "metadata": {},
   "outputs": [],
   "source": [
    "# Create age ranges \n",
    "bins = [0, 24, 40, 55, 75, 150]\n",
    "labels = ['18-24', '25-40', '41-55', '56-75', '76+']\n",
    "generations = ['Gen Z', 'Millenials', 'Gen X', 'Baby Boomers', 'Silent']\n",
    "\n",
    "# Use cut function to create age ranges for bottom 20% and top 20%\n",
    "df_bottom_20['age_range'] = pd.cut(df_bottom_20['age'], bins=bins, labels=labels, right=False)\n",
    "df_bottom_20['age_gen'] = pd.cut(df_bottom_20['age'], bins=bins, labels=generations, right=False)\n"
   ]
  },
  {
   "cell_type": "code",
   "execution_count": 8,
   "metadata": {},
   "outputs": [
    {
     "name": "stdout",
     "output_type": "stream",
     "text": [
      "Count of players who increase_slotdeno : 18\n",
      "Count of times each player increase_slotdeno : {29: 25, 33: 15, 89: 2, 159: 5, 188: 1, 222: 4, 263: 1, 319: 1, 331: 5, 69: 1, 103: 3, 135: 1, 194: 1, 234: 6, 264: 12, 308: 3, 322: 2, 361: 1}\n",
      "Player who changes the most: 29\n",
      "------------------------------------------------------------------------------------------------------------------\n",
      "Count of players who decrease_slotdeno : 16\n",
      "Count of times each player decrease_slotdeno : {29: 25, 33: 14, 89: 2, 159: 7, 188: 1, 222: 4, 263: 1, 331: 4, 69: 2, 103: 4, 135: 1, 234: 5, 264: 13, 308: 2, 322: 2, 361: 1}\n",
      "Player who changes the most: 29\n",
      "------------------------------------------------------------------------------------------------------------------\n",
      "Count of players who increase_maxbet : 21\n",
      "Count of times each player increase_maxbet : {29: 2, 33: 4, 66: 3, 89: 4, 159: 9, 188: 3, 204: 1, 222: 6, 263: 4, 331: 3, 424: 1, 23: 1, 69: 3, 135: 1, 192: 2, 196: 1, 234: 1, 264: 6, 278: 1, 308: 2, 361: 1}\n",
      "Player who changes the most: 159\n",
      "------------------------------------------------------------------------------------------------------------------\n",
      "Count of players who decrease_maxbet : 23\n",
      "Count of times each player decrease_maxbet : {29: 1, 33: 3, 66: 2, 89: 4, 159: 5, 188: 2, 204: 1, 222: 5, 263: 3, 319: 1, 331: 3, 424: 1, 23: 2, 69: 2, 192: 1, 194: 1, 196: 1, 234: 2, 264: 5, 278: 2, 308: 3, 322: 1, 361: 2}\n",
      "Player who changes the most: 159\n",
      "------------------------------------------------------------------------------------------------------------------\n"
     ]
    }
   ],
   "source": [
    "# Lets do the same but for bottom 20%\n",
    "players_increase_slot_b20 = cf.count_increase(df_bottom_20, \"increase_slotdeno\", \"playerkey\", \"slotdenomination\")\n",
    "players_decrease_slot_b20 = cf.count_decrease(df_bottom_20, \"decrease_slotdeno\", \"playerkey\", \"slotdenomination\")\n",
    "players_increase_maxbet_b20 = cf.count_increase(df_bottom_20, \"increase_maxbet\", \"playerkey\", \"maxbet\")\n",
    "players_decrease_maxbet_b20 = cf.count_decrease(df_bottom_20, \"decrease_maxbet\", \"playerkey\", \"maxbet\")"
   ]
  },
  {
   "cell_type": "code",
   "execution_count": 9,
   "metadata": {},
   "outputs": [],
   "source": [
    "# Lets crate a column called 'depletion_slope' which is the difference of 'playercashableamt' between the current gamble and the previous gamble\n",
    "df_bottom_20['depletion_rate'] = df_bottom_20.groupby(['playerkey', 'session_time'])['playercashableamt'].diff().fillna(0)\n"
   ]
  },
  {
   "attachments": {},
   "cell_type": "markdown",
   "metadata": {},
   "source": [
    "# Separate by time"
   ]
  },
  {
   "cell_type": "code",
   "execution_count": 10,
   "metadata": {},
   "outputs": [],
   "source": [
    "# Create df_bottom_1min for 1 minute duration\n",
    "df_bottom_1min = pf.filter_dataframe_by_time(df_bottom_20, pd.Timedelta(minutes=1))\n",
    "\n",
    "# Create df_bottom_2min for 2 minutes duration\n",
    "df_bottom_2min = pf.filter_dataframe_by_time(df_bottom_20, pd.Timedelta(minutes=2))\n",
    "\n",
    "# Create df_bottom_3min for 3 minutes duration\n",
    "df_bottom_3min = pf.filter_dataframe_by_time(df_bottom_20, pd.Timedelta(minutes=3))\n",
    "\n",
    "# Create df_bottom_4min for 4 minutes duration\n",
    "df_bottom_4min = pf.filter_dataframe_by_time(df_bottom_20, pd.Timedelta(minutes=4))\n",
    "\n",
    "# Create df_bottom_5min for 5 minutes duration\n",
    "df_bottom_5min = pf.filter_dataframe_by_time(df_bottom_20, pd.Timedelta(minutes=5))\n",
    "\n",
    "# Create df_bottom_10min for 10 minutes duration\n",
    "df_bottom_10min = pf.filter_dataframe_by_time(df_bottom_20, pd.Timedelta(minutes=10))\n",
    "\n",
    "# Create df_bottom_15min for 15 minutes duration\n",
    "df_bottom_15min = pf.filter_dataframe_by_time(df_bottom_20, pd.Timedelta(minutes=15))"
   ]
  },
  {
   "cell_type": "code",
   "execution_count": 11,
   "metadata": {},
   "outputs": [
    {
     "name": "stdout",
     "output_type": "stream",
     "text": [
      "Number of players in bottom 1min:  28\n",
      "Number of players in bottom 2min:  28\n",
      "Number of players in bottom 3min:  28\n",
      "Number of players in bottom 4min:  28\n",
      "Number of players in bottom 5min:  28\n"
     ]
    }
   ],
   "source": [
    "# Print the unique number of players in each dataset\n",
    "print(\"Number of players in bottom 1min: \", df_bottom_1min['playerkey'].nunique())\n",
    "print(\"Number of players in bottom 2min: \", df_bottom_2min['playerkey'].nunique())\n",
    "print(\"Number of players in bottom 3min: \", df_bottom_3min['playerkey'].nunique())\n",
    "print(\"Number of players in bottom 4min: \", df_bottom_4min['playerkey'].nunique())\n",
    "print(\"Number of players in bottom 5min: \", df_bottom_5min['playerkey'].nunique())"
   ]
  },
  {
   "attachments": {},
   "cell_type": "markdown",
   "metadata": {},
   "source": [
    "#### First 1 minute"
   ]
  },
  {
   "cell_type": "code",
   "execution_count": 12,
   "metadata": {},
   "outputs": [
    {
     "name": "stdout",
     "output_type": "stream",
     "text": [
      "Number of unique players in df_all_1min:  28\n",
      "[]\n",
      "Number of unique players w/o discrepancies df_all_1min:  28\n"
     ]
    }
   ],
   "source": [
    "# Create dataframe\n",
    "df_all_1min = pf.transform_ml(data_b=df_bottom_1min, grouping='session_time')\n",
    "\n",
    "# Print number of unique players\n",
    "print(\"Number of unique players in df_all_1min: \", df_all_1min['playerkey'].nunique())\n",
    "\n",
    "# Get the IDs of players who have NaN values in any of the columns\n",
    "list_discrepancy = df_all_1min[df_all_1min.isna().any(axis=1)]['playerkey'].unique()\n",
    "\n",
    "# print list of players with NaN values\n",
    "print(list_discrepancy)\n",
    "\n",
    "# Eliminate list_discrepancy  from df_all_1min\n",
    "df_all_1min = df_all_1min[~df_all_1min['playerkey'].isin(list_discrepancy)]\n",
    "\n",
    "# Print number of unique players\n",
    "print(\"Number of unique players w/o discrepancies df_all_1min: \", df_all_1min['playerkey'].nunique())\n",
    "\n",
    "# # # Reorder Columns\n",
    "desired_order = ['playerkey', 'session_time', 'gender', 'age_range', 'age_gen',\n",
    "                'beginning_amt', 'ending_amt', 'ending_balance', 'ave_slotdenom',\n",
    "                'std_slotdenom', 'min_slotdenom', 'max_slotdenom', 'ave_theo_payback',\n",
    "                'min_theo_payback', 'max_theo_payback', 'ave_wageramt', 'std_wageramt',\n",
    "                'min_wager', 'max_wager', 'ave_p/b', 'std_p/b', 'max_p/b', 'max_profit', 'depletion_slope',\n",
    "                '#inc_maxbet', '#dec_maxbet', 'first_wager', 'first_outcome', 'first_p/b', 'last_wager',\n",
    "                'last_outcome', 'last_p/b', '#W', '#L', '#NH', '#D', 'w/min', 'l/min', 'nh/min', 'd/min', \n",
    "                'w/g', 'l/g', 'nh/g', 'd/g', '#2ws', '2ws_profit', '2ws_wgramt', '#3ws', \n",
    "                '3ws_profit','3ws_wgramt', '#4ws', '4ws_profit', '4ws_wgramt', '2ws/min', '3ws/min', '4ws/min',\n",
    "                'ave_time_per_gamble', 'min_time_per_gamble', 'max_time_per_gamble',\n",
    "                'total_duration', 'total_gambles', 'machines_changes', '#inc_slotdenom', '#dec_slotdenom',\n",
    "                'unique_machines', 'ave_time_per_machine','classification']\n",
    "\n",
    "df_all_1min = df_all_1min.reindex(columns=desired_order)"
   ]
  },
  {
   "cell_type": "markdown",
   "metadata": {},
   "source": [
    "#### First 2 minutes"
   ]
  },
  {
   "cell_type": "code",
   "execution_count": 13,
   "metadata": {},
   "outputs": [
    {
     "name": "stdout",
     "output_type": "stream",
     "text": [
      "Number of unique players in df_all_2min:  28\n",
      "[]\n",
      "Number of unique players w/o discrepancies df_all_2min:  28\n"
     ]
    }
   ],
   "source": [
    "# Create dataframe\n",
    "df_all_2min = pf.transform_ml(data_b=df_bottom_2min, grouping='session_time')\n",
    "\n",
    "# Print number of unique players\n",
    "print(\"Number of unique players in df_all_2min: \", df_all_2min['playerkey'].nunique())\n",
    "\n",
    "# Get the IDs of players who have NaN values in any of the columns\n",
    "list_discrepancy_2 = df_all_2min[df_all_2min.isna().any(axis=1)]['playerkey'].unique()\n",
    "\n",
    "# print list of players with NaN values\n",
    "print(list_discrepancy_2)\n",
    "\n",
    "# Eliminate list_discrepancy  from df_all_2min\n",
    "df_all_2min = df_all_2min[~df_all_2min['playerkey'].isin(list_discrepancy_2)]\n",
    "\n",
    "# Print number of unique players\n",
    "print(\"Number of unique players w/o discrepancies df_all_2min: \", df_all_2min['playerkey'].nunique())\n",
    "\n",
    "# Reorder Columns\n",
    "df_all_2min = df_all_2min.reindex(columns=desired_order)"
   ]
  },
  {
   "cell_type": "markdown",
   "metadata": {},
   "source": [
    "#### First 3 minutes"
   ]
  },
  {
   "cell_type": "code",
   "execution_count": 14,
   "metadata": {},
   "outputs": [
    {
     "name": "stdout",
     "output_type": "stream",
     "text": [
      "Number of unique players in df_all_3min:  28\n",
      "[]\n",
      "Number of unique players w/o discrepancies df_all_3min:  28\n"
     ]
    }
   ],
   "source": [
    "# Create dataframe\n",
    "df_all_3min = pf.transform_ml(data_b=df_bottom_3min, grouping='session_time')\n",
    "\n",
    "# Print number of unique players\n",
    "print(\"Number of unique players in df_all_3min: \", df_all_3min['playerkey'].nunique())\n",
    "\n",
    "# Get the IDs of players who have NaN values in any of the columns\n",
    "list_discrepancy_3 = df_all_3min[df_all_3min.isna().any(axis=1)]['playerkey'].unique()\n",
    "\n",
    "# print list of players with NaN values\n",
    "print(list_discrepancy_3)\n",
    "\n",
    "# Eliminate list_discrepancy  from df_all_3min\n",
    "df_all_3min = df_all_3min[~df_all_3min['playerkey'].isin(list_discrepancy_3)]\n",
    "\n",
    "# Print number of unique players\n",
    "print(\"Number of unique players w/o discrepancies df_all_3min: \", df_all_3min['playerkey'].nunique())\n",
    "\n",
    "# Reorder Columns\n",
    "df_all_3min = df_all_3min.reindex(columns=desired_order)"
   ]
  },
  {
   "cell_type": "markdown",
   "metadata": {},
   "source": [
    "#### First 4 minutes"
   ]
  },
  {
   "cell_type": "code",
   "execution_count": 15,
   "metadata": {},
   "outputs": [
    {
     "name": "stdout",
     "output_type": "stream",
     "text": [
      "Number of unique players in df_all_4min:  28\n",
      "[]\n",
      "Number of unique players w/o discrepancies df_all_4min:  28\n"
     ]
    }
   ],
   "source": [
    "# Create dataframe\n",
    "df_all_4min = pf.transform_ml(data_b=df_bottom_4min, grouping='session_time')\n",
    "\n",
    "# Print number of unique players\n",
    "print(\"Number of unique players in df_all_4min: \", df_all_4min['playerkey'].nunique())\n",
    "\n",
    "# Get the IDs of players who have NaN values in any of the columns\n",
    "list_discrepancy_4 = df_all_4min[df_all_4min.isna().any(axis=1)]['playerkey'].unique()\n",
    "\n",
    "# print list of players with NaN values\n",
    "print(list_discrepancy_4)\n",
    "\n",
    "# Eliminate list_discrepancy  from df_all_4min\n",
    "df_all_4min = df_all_4min[~df_all_4min['playerkey'].isin(list_discrepancy_4)]\n",
    "\n",
    "# Print number of unique players\n",
    "print(\"Number of unique players w/o discrepancies df_all_4min: \", df_all_4min['playerkey'].nunique())\n",
    "\n",
    "# Reorder Columns\n",
    "df_all_4min = df_all_4min.reindex(columns=desired_order)"
   ]
  },
  {
   "attachments": {},
   "cell_type": "markdown",
   "metadata": {},
   "source": [
    "#### First 5 minutes"
   ]
  },
  {
   "cell_type": "code",
   "execution_count": 16,
   "metadata": {},
   "outputs": [
    {
     "name": "stdout",
     "output_type": "stream",
     "text": [
      "Number of unique players in df_all_5min:  28\n",
      "[]\n",
      "Number of unique players w/o discrepancies df_all_5min:  28\n"
     ]
    }
   ],
   "source": [
    "# Create dataframe\n",
    "df_all_5min = pf.transform_ml(data_b=df_bottom_5min, grouping='session_time')\n",
    "\n",
    "# Print number of unique players\n",
    "print(\"Number of unique players in df_all_5min: \", df_all_5min['playerkey'].nunique())\n",
    "\n",
    "# Get the IDs of players who have NaN values in any of the columns\n",
    "list_discrepancy_5 = df_all_5min[df_all_5min.isna().any(axis=1)]['playerkey'].unique()\n",
    "\n",
    "# print list of players with NaN values\n",
    "print(list_discrepancy_5)\n",
    "\n",
    "# Eliminate list_discrepancy  from df_all_5min\n",
    "df_all_5min = df_all_5min[~df_all_5min['playerkey'].isin(list_discrepancy_5)]\n",
    "\n",
    "# Print number of unique players\n",
    "print(\"Number of unique players w/o discrepancies df_all_5min: \", df_all_5min['playerkey'].nunique())\n",
    "\n",
    "# Reorder Columns\n",
    "df_all_5min = df_all_5min.reindex(columns=desired_order)"
   ]
  },
  {
   "cell_type": "markdown",
   "metadata": {},
   "source": [
    "#### First 10 minutes"
   ]
  },
  {
   "cell_type": "code",
   "execution_count": 17,
   "metadata": {},
   "outputs": [
    {
     "name": "stdout",
     "output_type": "stream",
     "text": [
      "Number of unique players in df_all_10min:  28\n",
      "[]\n",
      "Number of unique players w/o discrepancies df_all_10min:  28\n"
     ]
    }
   ],
   "source": [
    "# Create dataframe\n",
    "df_all_10min = pf.transform_ml(data_b=df_bottom_10min, grouping='session_time')\n",
    "\n",
    "# Print number of unique players\n",
    "print(\"Number of unique players in df_all_10min: \", df_all_10min['playerkey'].nunique())\n",
    "\n",
    "# Get the IDs of players who have NaN values in any of the columns\n",
    "list_discrepancy_10 = df_all_10min[df_all_10min.isna().any(axis=1)]['playerkey'].unique()\n",
    "\n",
    "# print list of players with NaN values\n",
    "print(list_discrepancy_10)\n",
    "\n",
    "# Eliminate list_discrepancy  from df_all_10min\n",
    "df_all_10min = df_all_10min[~df_all_10min['playerkey'].isin(list_discrepancy_10)]\n",
    "\n",
    "# Print number of unique players\n",
    "print(\"Number of unique players w/o discrepancies df_all_10min: \", df_all_10min['playerkey'].nunique())\n",
    "\n",
    "df_all_10min = df_all_10min.reindex(columns=desired_order)"
   ]
  },
  {
   "cell_type": "markdown",
   "metadata": {},
   "source": [
    "#### First 15 minutes"
   ]
  },
  {
   "cell_type": "code",
   "execution_count": 20,
   "metadata": {},
   "outputs": [
    {
     "name": "stdout",
     "output_type": "stream",
     "text": [
      "Number of unique players in df_all_15min:  28\n",
      "[]\n",
      "Number of unique players w/o discrepancies df_all_15min:  28\n"
     ]
    }
   ],
   "source": [
    "# Create dataframe\n",
    "df_all_15min = pf.transform_ml(data_b=df_bottom_15min, grouping='session_time')\n",
    "\n",
    "# Print number of unique players\n",
    "print(\"Number of unique players in df_all_15min: \", df_all_15min['playerkey'].nunique())\n",
    "\n",
    "# Get the IDs of players who have NaN values in any of the columns\n",
    "list_discrepancy_15 = df_all_15min[df_all_15min.isna().any(axis=1)]['playerkey'].unique()\n",
    "\n",
    "# print list of players with NaN values\n",
    "print(list_discrepancy_15)\n",
    "\n",
    "# Eliminate list_discrepancy  from df_all_10min\n",
    "df_all_15min = df_all_15min[~df_all_15min['playerkey'].isin(list_discrepancy_15)]\n",
    "\n",
    "# Print number of unique players\n",
    "print(\"Number of unique players w/o discrepancies df_all_15min: \", df_all_15min['playerkey'].nunique())\n",
    "\n",
    "# Reorder Columns\n",
    "df_all_15min = df_all_15min.reindex(columns=desired_order)"
   ]
  },
  {
   "cell_type": "markdown",
   "metadata": {},
   "source": [
    "## Eliminate Discrepancies"
   ]
  },
  {
   "cell_type": "code",
   "execution_count": 21,
   "metadata": {},
   "outputs": [
    {
     "name": "stdout",
     "output_type": "stream",
     "text": [
      "Number of unique players in total_discrepancies:  0\n",
      "Number of unique players in total_unique_discrepancies:  0\n"
     ]
    }
   ],
   "source": [
    "# add the ndarrays together to get the total number of player\n",
    "total_discrepancies = np.concatenate((list_discrepancy, list_discrepancy_2, list_discrepancy_3, list_discrepancy_4, list_discrepancy_5, list_discrepancy_10, list_discrepancy_15), axis=0)\n",
    "\n",
    "# Print number of unique players\n",
    "print(\"Number of unique players in total_discrepancies: \", len(total_discrepancies))\n",
    "\n",
    "# Transform into a set to get unique values\n",
    "total_unique_discrepancies = list(set(total_discrepancies))\n",
    "\n",
    "# Print number of unique players\n",
    "print(\"Number of unique players in total_unique_discrepancies: \", len(total_unique_discrepancies))"
   ]
  },
  {
   "cell_type": "code",
   "execution_count": 22,
   "metadata": {},
   "outputs": [
    {
     "name": "stdout",
     "output_type": "stream",
     "text": [
      "Number of unique players in df_all_1min:  28\n",
      "Number of unique players in df_all_2min:  28\n",
      "Number of unique players in df_all_3min:  28\n",
      "Number of unique players in df_all_4min:  28\n",
      "Number of unique players in df_all_5min:  28\n",
      "Number of unique players in df_all_10min:  28\n",
      "Number of unique players in df_all_15min:  28\n"
     ]
    }
   ],
   "source": [
    "# Eliminate total_unique_discrepancies from all the dataframes\n",
    "df_all_1min = df_all_1min[~df_all_1min['playerkey'].isin(total_unique_discrepancies)]\n",
    "df_all_2min = df_all_2min[~df_all_2min['playerkey'].isin(total_unique_discrepancies)]\n",
    "df_all_3min = df_all_3min[~df_all_3min['playerkey'].isin(total_unique_discrepancies)]\n",
    "df_all_4min = df_all_4min[~df_all_4min['playerkey'].isin(total_unique_discrepancies)]\n",
    "df_all_5min = df_all_5min[~df_all_5min['playerkey'].isin(total_unique_discrepancies)]\n",
    "df_all_10min = df_all_10min[~df_all_10min['playerkey'].isin(total_unique_discrepancies)]\n",
    "df_all_15min = df_all_15min[~df_all_15min['playerkey'].isin(total_unique_discrepancies)]\n",
    "\n",
    "# Print number of unique players\n",
    "print(\"Number of unique players in df_all_1min: \", df_all_1min['playerkey'].nunique())\n",
    "print(\"Number of unique players in df_all_2min: \", df_all_2min['playerkey'].nunique())\n",
    "print(\"Number of unique players in df_all_3min: \", df_all_3min['playerkey'].nunique())\n",
    "print(\"Number of unique players in df_all_4min: \", df_all_4min['playerkey'].nunique())\n",
    "print(\"Number of unique players in df_all_5min: \", df_all_5min['playerkey'].nunique())\n",
    "print(\"Number of unique players in df_all_10min: \", df_all_10min['playerkey'].nunique())\n",
    "print(\"Number of unique players in df_all_15min: \", df_all_15min['playerkey'].nunique())\n"
   ]
  },
  {
   "cell_type": "code",
   "execution_count": 23,
   "metadata": {},
   "outputs": [],
   "source": [
    "# Save the dataframes to parquet\n",
    "df_all_1min.to_parquet('/Users/mau/Library/CloudStorage/Dropbox/Mac/Documents/Dissertation/Chapter 2/Entire_Data/By month/'+month_file+'/Ending Balances/Per_Player/df_1min_top_players.parquet')\n",
    "df_all_2min.to_parquet('/Users/mau/Library/CloudStorage/Dropbox/Mac/Documents/Dissertation/Chapter 2/Entire_Data/By month/'+month_file+'/Ending Balances/Per_Player/df_2min_top_players.parquet')\n",
    "df_all_3min.to_parquet('/Users/mau/Library/CloudStorage/Dropbox/Mac/Documents/Dissertation/Chapter 2/Entire_Data/By month/'+month_file+'/Ending Balances/Per_Player/df_3min_top_players.parquet')\n",
    "df_all_4min.to_parquet('/Users/mau/Library/CloudStorage/Dropbox/Mac/Documents/Dissertation/Chapter 2/Entire_Data/By month/'+month_file+'/Ending Balances/Per_Player/df_4min_top_players.parquet')\n",
    "df_all_5min.to_parquet('/Users/mau/Library/CloudStorage/Dropbox/Mac/Documents/Dissertation/Chapter 2/Entire_Data/By month/'+month_file+'/Ending Balances/Per_Player/df_5min_top_players.parquet')\n",
    "df_all_10min.to_parquet('/Users/mau/Library/CloudStorage/Dropbox/Mac/Documents/Dissertation/Chapter 2/Entire_Data/By month/'+month_file+'/Ending Balances/Per_Player/df_10min_top_players.parquet')\n",
    "df_all_15min.to_parquet('/Users/mau/Library/CloudStorage/Dropbox/Mac/Documents/Dissertation/Chapter 2/Entire_Data/By month/'+month_file+'/Ending Balances/Per_Player/df_15min_top_players.parquet')"
   ]
  }
 ],
 "metadata": {
  "kernelspec": {
   "display_name": "Python 3",
   "language": "python",
   "name": "python3"
  },
  "language_info": {
   "codemirror_mode": {
    "name": "ipython",
    "version": 3
   },
   "file_extension": ".py",
   "mimetype": "text/x-python",
   "name": "python",
   "nbconvert_exporter": "python",
   "pygments_lexer": "ipython3",
   "version": "3.10.0"
  },
  "orig_nbformat": 4
 },
 "nbformat": 4,
 "nbformat_minor": 2
}
