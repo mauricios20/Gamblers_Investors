{
 "cells": [
  {
   "attachments": {},
   "cell_type": "markdown",
   "metadata": {},
   "source": [
    "# Similarities and Differences between Categories (Pt.1 - Age, Gender, Won/Lost Amount)"
   ]
  },
  {
   "cell_type": "code",
   "execution_count": 1,
   "metadata": {},
   "outputs": [],
   "source": [
    "# Define libraries\n",
    "import pandas as pd\n",
    "import numpy as np\n",
    "import matplotlib.pyplot as plt\n",
    "import seaborn as sns\n",
    "import matplotlib.dates as mdates\n",
    "import os\n",
    "import plotting_fn as pf\n",
    "import counting_fns as cf\n",
    "\n",
    "month_file = '2_June'\n",
    "cut_off = 10000\n",
    "# Set working directory\n",
    "os.chdir(\"/Users/mau/Library/CloudStorage/Dropbox/Mac/Documents/Dissertation/Chapter 2/Entire_Data/By month/\"+month_file)\n"
   ]
  },
  {
   "cell_type": "code",
   "execution_count": 4,
   "metadata": {},
   "outputs": [],
   "source": [
    "# Read in data\n",
    "df = pd.read_parquet(\"top_players.parquet\")\n",
    "\n",
    "# Round wageredamt and profit to 2 decimal places\n",
    "df['wageredamt'] = df['wageredamt'].round(1)\n",
    "df['profit'] = df['profit'].round(1)\n",
    "df['percent_return'] = df['percent_return'].round(1)\n"
   ]
  },
  {
   "cell_type": "code",
   "execution_count": 5,
   "metadata": {},
   "outputs": [],
   "source": [
    "# Create a new column 'result_type' that is a categorical variable which takes the value 'loss' if the change is negative and 'gain' if the change is positive, and 'draw' of change is 0\n",
    "df['result_type'] = df['percent_return'].apply(lambda x: 'loss' if x == -100 else 'near-hit' if x < 0 else 'gain' if x > 0 else 'draw')\n",
    "\n",
    "# Create dummy variables from 'result_type'\n",
    "dummy_variables = pd.get_dummies(df['result_type']).rename(columns=lambda x: '#' + str(x[0].capitalize()))\n",
    "\n",
    "# Add the dummy variables to the original DataFrame\n",
    "df = pd.concat([df, dummy_variables], axis=1).reset_index(drop=True)\n",
    "\n",
    "# Convert starttime to delte format for operations\n",
    "df['start_time'] = pd.to_datetime(df['start_time'])"
   ]
  },
  {
   "cell_type": "code",
   "execution_count": 6,
   "metadata": {},
   "outputs": [],
   "source": [
    "# Create new column called 'time_diff' which is the difference between the start time of the gamble and the start time of the previous gamble\n",
    "df['time_diff'] = df.groupby(['playerkey', 'session_time'])['start_time'].diff()\n",
    "\n",
    "# Convert time_diff to seconds\n",
    "df['time_diff'] = df['time_diff'].dt.total_seconds().fillna(0)"
   ]
  },
  {
   "attachments": {},
   "cell_type": "markdown",
   "metadata": {},
   "source": [
    "## General Overview\n",
    "\n",
    "### Players, Visits, Sessions of Each Group"
   ]
  },
  {
   "cell_type": "code",
   "execution_count": 7,
   "metadata": {},
   "outputs": [
    {
     "name": "stdout",
     "output_type": "stream",
     "text": [
      "Number of gamblers in dataframe: 28\n",
      "--------------------------------------------------\n",
      "Number of unique visits in dtf: 1\n",
      "--------------------------------------------------\n",
      "Number of unique sessions in dtf: 6\n",
      "--------------------------------------------------\n"
     ]
    }
   ],
   "source": [
    "# Number of gamblers\n",
    "print(\"Number of gamblers in dataframe:\", len(df['playerkey'].unique()))\n",
    "print('--------------------------------------------------')\n",
    "\n",
    "# Print number of unique visits\n",
    "print(\"Number of unique visits in dtf:\", len(df['visit'].unique()))\n",
    "print('--------------------------------------------------')\n",
    "\n",
    "# Print number of unique sessions\n",
    "print(\"Number of unique sessions in dtf:\", len(df['session_time'].unique()))\n",
    "print('--------------------------------------------------')"
   ]
  },
  {
   "attachments": {},
   "cell_type": "markdown",
   "metadata": {},
   "source": [
    "### Wins in a row"
   ]
  },
  {
   "cell_type": "code",
   "execution_count": 8,
   "metadata": {},
   "outputs": [],
   "source": [
    "# Ude consecutive functions to find 2ws, 3ws, 4ws in a row in each dataset per visit per player\n",
    "df_s = pf.consecutive_wins(df, 'session_time')"
   ]
  },
  {
   "cell_type": "code",
   "execution_count": 9,
   "metadata": {},
   "outputs": [
    {
     "name": "stdout",
     "output_type": "stream",
     "text": [
      "Categories of wins in a row per session:\n",
      "                             #2ws  #3ws  #4ws\n",
      "clasification session_time                   \n",
      "top_1         1              18.0   1.0   0.0\n",
      "              2               8.0   3.0   0.0\n",
      "              3               7.0   1.0   0.0\n",
      "              4              15.0   1.0   1.0\n",
      "              5               4.0   0.0   0.0\n",
      "              6               4.0   1.0   0.0\n",
      "top_10        1             116.0  12.0   6.0\n",
      "              2              37.0   6.0   1.0\n",
      "              3              20.0   1.0   1.0\n",
      "top_5         1             128.0  17.0   3.0\n",
      "              2              33.0  12.0   2.0\n",
      "              3              22.0   4.0   0.0\n",
      "--------------------------------------------------\n"
     ]
    }
   ],
   "source": [
    "# Print the numner of total number of 2 wins, 3 wins, 4 wins in a row in each dataset\n",
    "print('Categories of wins in a row per session:')\n",
    "print(df_s.groupby(['clasification', 'session_time'])[['#2ws', '#3ws', '#4ws']].sum())\n",
    "print('--------------------------------------------------')"
   ]
  },
  {
   "cell_type": "code",
   "execution_count": 10,
   "metadata": {},
   "outputs": [],
   "source": [
    "# Ude consecutive functions to find 2ws, 3ws, 4ws in a row in each dataset per session_time per player\n",
    "df = pf.consecutive_wins(df, 'visit')"
   ]
  },
  {
   "cell_type": "code",
   "execution_count": 11,
   "metadata": {},
   "outputs": [
    {
     "name": "stdout",
     "output_type": "stream",
     "text": [
      "Categories of wins in a row per visit:\n",
      "                      #2ws  #3ws  #4ws\n",
      "clasification visit                   \n",
      "top_1         1       56.0   7.0   1.0\n",
      "top_10        1      173.0  19.0   8.0\n",
      "top_5         1      183.0  33.0   5.0\n",
      "--------------------------------------------------\n"
     ]
    }
   ],
   "source": [
    "# Print the numner of total number of 2 wins, 3 wins, 4 wins in a row in each dataset\n",
    "print('Categories of wins in a row per visit:')\n",
    "print(df.groupby(['clasification', 'visit'])[['#2ws', '#3ws', '#4ws']].sum())\n",
    "print('--------------------------------------------------')\n"
   ]
  },
  {
   "attachments": {},
   "cell_type": "markdown",
   "metadata": {},
   "source": [
    "### Gender Differences"
   ]
  },
  {
   "cell_type": "code",
   "execution_count": 12,
   "metadata": {},
   "outputs": [
    {
     "name": "stdout",
     "output_type": "stream",
     "text": [
      "Number of unique players in dtf:\n",
      "clasification  gender\n",
      "top_1          F         1\n",
      "               M         2\n",
      "top_10         F         5\n",
      "               M         9\n",
      "top_5          F         7\n",
      "               M         4\n",
      "Name: playerkey, dtype: int64\n",
      "--------------------------------------------------\n"
     ]
    }
   ],
   "source": [
    "# Gender differences\n",
    "print(\"Number of unique players in dtf:\")\n",
    "print(df.groupby(['clasification', 'gender'])['playerkey'].nunique())\n",
    "print('--------------------------------------------------')"
   ]
  },
  {
   "attachments": {},
   "cell_type": "markdown",
   "metadata": {},
   "source": [
    "### Age Differences"
   ]
  },
  {
   "cell_type": "code",
   "execution_count": 13,
   "metadata": {},
   "outputs": [],
   "source": [
    "# Create age ranges \n",
    "bins = [0, 24, 40, 55, 75, 150]\n",
    "labels = ['18-24', '25-40', '41-55', '56-75', '76+']\n",
    "generations = ['Gen Z', 'Millenials', 'Gen X', 'Baby Boomers', 'Silent']\n",
    "\n",
    "# Use cut function to create age ranges for dtf and top 20%\n",
    "df['age_range'] = pd.cut(df['age'], bins=bins, labels=labels, right=False)\n",
    "df['age_gen'] = pd.cut(df['age'], bins=bins, labels=generations, right=False)\n",
    "\n",
    "df_s['age_range'] = pd.cut(df_s['age'], bins=bins, labels=labels, right=False)\n",
    "df_s['age_gen'] = pd.cut(df_s['age'], bins=bins, labels=generations, right=False)"
   ]
  },
  {
   "cell_type": "code",
   "execution_count": 14,
   "metadata": {},
   "outputs": [
    {
     "name": "stdout",
     "output_type": "stream",
     "text": [
      "Number of unique players in dtf:\n",
      "clasification  age_range\n",
      "top_1          18-24        0\n",
      "               25-40        0\n",
      "               41-55        2\n",
      "               56-75        0\n",
      "               76+          1\n",
      "top_10         18-24        0\n",
      "               25-40        2\n",
      "               41-55        6\n",
      "               56-75        6\n",
      "               76+          0\n",
      "top_5          18-24        0\n",
      "               25-40        2\n",
      "               41-55        4\n",
      "               56-75        5\n",
      "               76+          0\n",
      "Name: playerkey, dtype: int64\n",
      "--------------------------------------------------\n"
     ]
    }
   ],
   "source": [
    "# Age range differences\n",
    "print(\"Number of unique players in dtf:\")\n",
    "print(df.groupby(['clasification', 'age_range'])['playerkey'].nunique())\n",
    "print('--------------------------------------------------')\n"
   ]
  },
  {
   "cell_type": "code",
   "execution_count": 15,
   "metadata": {},
   "outputs": [
    {
     "name": "stdout",
     "output_type": "stream",
     "text": [
      "Number of unique players in dtf:\n",
      "clasification  age_gen     \n",
      "top_1          Gen Z           0\n",
      "               Millenials      0\n",
      "               Gen X           2\n",
      "               Baby Boomers    0\n",
      "               Silent          1\n",
      "top_10         Gen Z           0\n",
      "               Millenials      2\n",
      "               Gen X           6\n",
      "               Baby Boomers    6\n",
      "               Silent          0\n",
      "top_5          Gen Z           0\n",
      "               Millenials      2\n",
      "               Gen X           4\n",
      "               Baby Boomers    5\n",
      "               Silent          0\n",
      "Name: playerkey, dtype: int64\n"
     ]
    }
   ],
   "source": [
    "# Age range differences\n",
    "print(\"Number of unique players in dtf:\")\n",
    "print(df_s.groupby(['clasification', 'age_gen'])['playerkey'].nunique())"
   ]
  },
  {
   "cell_type": "code",
   "execution_count": 16,
   "metadata": {},
   "outputs": [
    {
     "name": "stdout",
     "output_type": "stream",
     "text": [
      "Number of unique players in dtf:\n",
      "clasification  age_gen     \n",
      "top_1          Gen Z           0\n",
      "               Millenials      0\n",
      "               Gen X           2\n",
      "               Baby Boomers    0\n",
      "               Silent          1\n",
      "top_10         Gen Z           0\n",
      "               Millenials      2\n",
      "               Gen X           6\n",
      "               Baby Boomers    6\n",
      "               Silent          0\n",
      "top_5          Gen Z           0\n",
      "               Millenials      2\n",
      "               Gen X           4\n",
      "               Baby Boomers    5\n",
      "               Silent          0\n",
      "Name: playerkey, dtype: int64\n",
      "--------------------------------------------------\n"
     ]
    }
   ],
   "source": [
    "# Age generation differences\n",
    "print(\"Number of unique players in dtf:\")\n",
    "print(df.groupby(['clasification', 'age_gen'])['playerkey'].nunique())\n",
    "print('--------------------------------------------------')"
   ]
  },
  {
   "cell_type": "code",
   "execution_count": 17,
   "metadata": {},
   "outputs": [
    {
     "name": "stdout",
     "output_type": "stream",
     "text": [
      "Male age differences in dtf:\n",
      "age_range\n",
      "18-24    0\n",
      "25-40    3\n",
      "41-55    5\n",
      "56-75    6\n",
      "76+      1\n",
      "Name: playerkey, dtype: int64\n",
      "--------------------------------------------------\n",
      "Female age differences in dtf:\n",
      "age_range\n",
      "18-24    0\n",
      "25-40    1\n",
      "41-55    7\n",
      "56-75    5\n",
      "76+      0\n",
      "Name: playerkey, dtype: int64\n"
     ]
    },
    {
     "data": {
      "image/png": "[encoded data removed]",
      "text/plain": [
       "<Figure size 1000x500 with 2 Axes>"
      ]
     },
     "metadata": {},
     "output_type": "display_data"
    }
   ],
   "source": [
    "# Age range of male gamblers in dtf\n",
    "print(\"Male age differences in dtf:\")\n",
    "print(df[df['gender'] == 'M'].groupby('age_range')['playerkey'].nunique())\n",
    "print('--------------------------------------------------')\n",
    "# Age range of Female gamblers in dtf\n",
    "print('Female age differences in dtf:')\n",
    "print(df[df['gender'] == 'F'].groupby('age_range')['playerkey'].nunique())\n",
    "\n",
    "pf.plot_gender_diff(df, 'dtf', figsize=(10, 5))\n"
   ]
  },
  {
   "attachments": {},
   "cell_type": "markdown",
   "metadata": {},
   "source": [
    "### Increse and Decrease of SlotDenomination and Bet"
   ]
  },
  {
   "cell_type": "code",
   "execution_count": 18,
   "metadata": {},
   "outputs": [
    {
     "name": "stdout",
     "output_type": "stream",
     "text": [
      "Count of players who increase_slotdeno : 18\n",
      "Count of times each player increase_slotdeno : {29: 25, 33: 15, 89: 2, 159: 5, 188: 1, 222: 4, 263: 1, 319: 1, 331: 5, 69: 1, 103: 3, 135: 1, 194: 1, 234: 6, 264: 12, 308: 3, 322: 2, 361: 1}\n",
      "Player who changes the most: 29\n",
      "------------------------------------------------------------------------------------------------------------------\n",
      "Count of players who decrease_slotdeno : 16\n",
      "Count of times each player decrease_slotdeno : {29: 25, 33: 14, 89: 2, 159: 7, 188: 1, 222: 4, 263: 1, 331: 4, 69: 2, 103: 4, 135: 1, 234: 5, 264: 13, 308: 2, 322: 2, 361: 1}\n",
      "Player who changes the most: 29\n",
      "------------------------------------------------------------------------------------------------------------------\n",
      "Count of players who increase_maxbet : 21\n",
      "Count of times each player increase_maxbet : {29: 2, 33: 4, 66: 3, 89: 4, 159: 9, 188: 3, 204: 1, 222: 6, 263: 4, 331: 3, 424: 1, 23: 1, 69: 3, 135: 1, 192: 2, 196: 1, 234: 1, 264: 6, 278: 1, 308: 2, 361: 1}\n",
      "Player who changes the most: 159\n",
      "------------------------------------------------------------------------------------------------------------------\n",
      "Count of players who decrease_maxbet : 23\n",
      "Count of times each player decrease_maxbet : {29: 1, 33: 3, 66: 2, 89: 4, 159: 5, 188: 2, 204: 1, 222: 5, 263: 3, 319: 1, 331: 3, 424: 1, 23: 2, 69: 2, 192: 1, 194: 1, 196: 1, 234: 2, 264: 5, 278: 2, 308: 3, 322: 1, 361: 2}\n",
      "Player who changes the most: 159\n",
      "------------------------------------------------------------------------------------------------------------------\n"
     ]
    }
   ],
   "source": [
    "# Lets do the same but for bottom 20%\n",
    "players_increase_slot = cf.count_increase(df, \"increase_slotdeno\", \"playerkey\", \"slotdenomination\")\n",
    "players_decrease_slot = cf.count_decrease(df, \"decrease_slotdeno\", \"playerkey\", \"slotdenomination\")\n",
    "players_increase_maxbet = cf.count_increase(df, \"increase_maxbet\", \"playerkey\", \"maxbet\")\n",
    "players_decrease_maxbet = cf.count_decrease(df, \"decrease_maxbet\", \"playerkey\", \"maxbet\")\n"
   ]
  },
  {
   "cell_type": "code",
   "execution_count": 19,
   "metadata": {},
   "outputs": [
    {
     "name": "stdout",
     "output_type": "stream",
     "text": [
      "Count of players who increase_slotdeno : 18\n",
      "Count of times each player increase_slotdeno : {29: 25, 33: 15, 89: 2, 159: 5, 188: 1, 222: 4, 263: 1, 319: 1, 331: 5, 69: 1, 103: 3, 135: 1, 194: 1, 234: 6, 264: 12, 308: 3, 322: 2, 361: 1}\n",
      "Player who changes the most: 29\n",
      "------------------------------------------------------------------------------------------------------------------\n",
      "Count of players who decrease_slotdeno : 16\n",
      "Count of times each player decrease_slotdeno : {29: 25, 33: 14, 89: 2, 159: 7, 188: 1, 222: 4, 263: 1, 331: 4, 69: 2, 103: 4, 135: 1, 234: 5, 264: 13, 308: 2, 322: 2, 361: 1}\n",
      "Player who changes the most: 29\n",
      "------------------------------------------------------------------------------------------------------------------\n",
      "Count of players who increase_maxbet : 21\n",
      "Count of times each player increase_maxbet : {29: 2, 33: 4, 66: 3, 89: 4, 159: 9, 188: 3, 204: 1, 222: 6, 263: 4, 331: 3, 424: 1, 23: 1, 69: 3, 135: 1, 192: 2, 196: 1, 234: 1, 264: 6, 278: 1, 308: 2, 361: 1}\n",
      "Player who changes the most: 159\n",
      "------------------------------------------------------------------------------------------------------------------\n",
      "Count of players who decrease_maxbet : 23\n",
      "Count of times each player decrease_maxbet : {29: 1, 33: 3, 66: 2, 89: 4, 159: 5, 188: 2, 204: 1, 222: 5, 263: 3, 319: 1, 331: 3, 424: 1, 23: 2, 69: 2, 192: 1, 194: 1, 196: 1, 234: 2, 264: 5, 278: 2, 308: 3, 322: 1, 361: 2}\n",
      "Player who changes the most: 159\n",
      "------------------------------------------------------------------------------------------------------------------\n"
     ]
    }
   ],
   "source": [
    "# Lets do the same but for df_s\n",
    "players_increase_slot_s = cf.count_increase(df_s, \"increase_slotdeno\", \"playerkey\", \"slotdenomination\")\n",
    "players_decrease_slot_s = cf.count_decrease(df_s, \"decrease_slotdeno\", \"playerkey\", \"slotdenomination\")\n",
    "players_increase_maxbet_s = cf.count_increase(df_s, \"increase_maxbet\", \"playerkey\", \"maxbet\")\n",
    "players_decrease_maxbet_s = cf.count_decrease(df_s, \"decrease_maxbet\", \"playerkey\", \"maxbet\")"
   ]
  },
  {
   "attachments": {},
   "cell_type": "markdown",
   "metadata": {},
   "source": [
    "### Wealth Differences\n",
    "#### General"
   ]
  },
  {
   "cell_type": "code",
   "execution_count": 20,
   "metadata": {},
   "outputs": [],
   "source": [
    "# Lets crate a column called 'depletion_slope' which is the difference of 'playercashableamt' between the current gamble and the previous gamble\n",
    "df['depletion_rate'] = df.groupby(['playerkey', 'session_time'])['playercashableamt'].diff().fillna(0)\n",
    "\n",
    "# Lets crate a column called 'depletion_slope' which is the difference of 'playercashableamt' between the current gamble and the previous gamble\n",
    "df_s['depletion_rate'] = df_s.groupby(['playerkey', 'session_time'])['playercashableamt'].diff().fillna(0)\n"
   ]
  },
  {
   "attachments": {},
   "cell_type": "markdown",
   "metadata": {},
   "source": [
    "#### Per Visit"
   ]
  },
  {
   "cell_type": "code",
   "execution_count": 21,
   "metadata": {},
   "outputs": [],
   "source": [
    "# Create dataframe for Machine Learning model\n",
    "df_ML_v = pf.transform_ml(data_b=df, grouping='visit')"
   ]
  },
  {
   "cell_type": "code",
   "execution_count": 22,
   "metadata": {},
   "outputs": [
    {
     "name": "stdout",
     "output_type": "stream",
     "text": [
      "Number of unique players in df_ML_v:  28\n",
      "Number of discrepancies: 0\n",
      "Number of unique players w/o discrepancies:  28\n"
     ]
    }
   ],
   "source": [
    "# Print number of unique players\n",
    "print(\"Number of unique players in df_ML_v: \", df_ML_v['playerkey'].nunique())\n",
    "\n",
    "# Get the IDs of players who have NaN values in any of the columns\n",
    "list_discrepancy_v = df_ML_v[df_ML_v.isna().any(axis=1)]['playerkey'].unique()\n",
    "\n",
    "# print number of discrepancies\n",
    "print(\"Number of discrepancies:\", len(list_discrepancy_v))\n",
    "\n",
    "# Remove players with NaN values\n",
    "df_ML_v = df_ML_v[~df_ML_v['playerkey'].isin(list_discrepancy_v)]\n",
    "\n",
    "# Print number of unique players with no NaN values\n",
    "print(\"Number of unique players w/o discrepancies: \", df_ML_v['playerkey'].nunique())"
   ]
  },
  {
   "cell_type": "code",
   "execution_count": 26,
   "metadata": {},
   "outputs": [
    {
     "name": "stdout",
     "output_type": "stream",
     "text": [
      "Index(['playerkey', 'visit', 'gender', 'age_range', 'age_gen', 'beginning_amt',\n",
      "       'ending_amt', 'ending_balance', 'ave_slotdenom', 'std_slotdenom',\n",
      "       'min_slotdenom', 'max_slotdenom', 'ave_theo_payback',\n",
      "       'min_theo_payback', 'max_theo_payback', 'ave_wageramt', 'std_wageramt',\n",
      "       'min_wager', 'max_wager', 'ave_p/b', 'std_p/b', 'max_p/b', 'max_profit',\n",
      "       'depletion_slope', '#inc_maxbet', '#dec_maxbet', 'first_wager',\n",
      "       'first_outcome', 'first_p/b', 'last_wager', 'last_outcome', 'last_p/b',\n",
      "       '#W', '#L', '#NH', '#D', 'w/min', 'l/min', 'nh/min', 'd/min', 'w/g',\n",
      "       'l/g', 'nh/g', 'd/g', '#2ws', '2ws_profit', '2ws_wgramt', '#3ws',\n",
      "       '3ws_profit', '3ws_wgramt', '#4ws', '4ws_profit', '4ws_wgramt',\n",
      "       '2ws/min', '3ws/min', '4ws/min', 'ave_time_per_gamble',\n",
      "       'min_time_per_gamble', 'max_time_per_gamble', 'total_duration',\n",
      "       'total_gambles', 'machines_changes', '#inc_slotdenom', '#dec_slotdenom',\n",
      "       'unique_machines', 'ave_time_per_machine', 'classification'],\n",
      "      dtype='object')\n"
     ]
    }
   ],
   "source": [
    "print(df_ML_v.columns)\n",
    "\n",
    "# # # Reorder Columns\n",
    "desired_order = ['playerkey', 'visit', 'gender', 'age_range', 'age_gen',\n",
    "                'beginning_amt', 'ending_amt', 'ending_balance', 'ave_slotdenom',\n",
    "                'std_slotdenom', 'min_slotdenom', 'max_slotdenom', 'ave_theo_payback',\n",
    "                'min_theo_payback', 'max_theo_payback', 'ave_wageramt', 'std_wageramt',\n",
    "                'min_wager', 'max_wager', 'ave_p/b', 'std_p/b', 'max_p/b', 'max_profit', 'depletion_slope',\n",
    "                '#inc_maxbet', '#dec_maxbet', 'first_wager', 'first_outcome', 'first_p/b', 'last_wager',\n",
    "                'last_outcome', 'last_p/b', '#W', '#L', '#NH', '#D', 'w/min', 'l/min', 'nh/min', 'd/min', \n",
    "                'w/g', 'l/g', 'nh/g', 'd/g', '#2ws', '2ws_profit', '2ws_wgramt', '#3ws', \n",
    "                '3ws_profit','3ws_wgramt', '#4ws', '4ws_profit', '4ws_wgramt', '2ws/min', '3ws/min', '4ws/min',\n",
    "                'ave_time_per_gamble', 'min_time_per_gamble', 'max_time_per_gamble',\n",
    "                'total_duration', 'total_gambles', 'machines_changes', '#inc_slotdenom', '#dec_slotdenom',\n",
    "                'unique_machines', 'ave_time_per_machine','classification']\n",
    "\n",
    "\n",
    "df_ML_v = df_ML_v.reindex(columns=desired_order)\n",
    "\n",
    "# Save dataframe to paquet file\n",
    "df_ML_v.to_parquet('/Users/mau/Library/CloudStorage/Dropbox/Mac/Documents/Dissertation/Chapter 2/Entire_Data/By month/'+month_file+'/Ending Balances/Per_Player/top_players_ending_balance_by_visit.parquet')"
   ]
  },
  {
   "attachments": {},
   "cell_type": "markdown",
   "metadata": {},
   "source": [
    "#### Per Session"
   ]
  },
  {
   "cell_type": "code",
   "execution_count": 24,
   "metadata": {},
   "outputs": [],
   "source": [
    "df_ML_s = pf.transform_ml(data_b=df_s, grouping='session_time')"
   ]
  },
  {
   "cell_type": "code",
   "execution_count": 25,
   "metadata": {},
   "outputs": [
    {
     "name": "stdout",
     "output_type": "stream",
     "text": [
      "Number of unique players in df_ML_v:  28\n",
      "Number of discrepancies: 0\n",
      "Number of unique players w/o discrepancies:  28\n"
     ]
    }
   ],
   "source": [
    "# Print number of unique players\n",
    "print(\"Number of unique players in df_ML_v: \", df_ML_s['playerkey'].nunique())\n",
    "\n",
    "# Get the IDs of players who have NaN values in any of the columns\n",
    "list_discrepancy_s = df_ML_s[df_ML_s.isna().any(axis=1)]['playerkey'].unique()\n",
    "\n",
    "# print number of discrepancies\n",
    "print(\"Number of discrepancies:\", len(list_discrepancy_s))\n",
    "\n",
    "# Remove players with NaN values\n",
    "df_ML_s = df_ML_s[~df_ML_s['playerkey'].isin(list_discrepancy_s)]\n",
    "\n",
    "# Print number of unique players with no NaN values\n",
    "print(\"Number of unique players w/o discrepancies: \", df_ML_s['playerkey'].nunique())"
   ]
  },
  {
   "cell_type": "code",
   "execution_count": 27,
   "metadata": {},
   "outputs": [
    {
     "name": "stdout",
     "output_type": "stream",
     "text": [
      "Index(['playerkey', 'session_time', 'gender', 'age_range', 'age_gen',\n",
      "       'beginning_amt', 'ending_amt', 'ending_balance', 'ave_slotdenom',\n",
      "       'std_slotdenom', 'min_slotdenom', 'max_slotdenom', 'ave_theo_payback',\n",
      "       'min_theo_payback', 'max_theo_payback', 'ave_wageramt', 'std_wageramt',\n",
      "       'min_wager', 'max_wager', 'ave_p/b', 'std_p/b', 'max_p/b', 'max_profit',\n",
      "       'depletion_slope', '#inc_slotdenom', '#dec_slotdenom', '#inc_maxbet',\n",
      "       '#dec_maxbet', 'first_wager', 'first_outcome', 'first_p/b',\n",
      "       'last_wager', 'last_outcome', 'last_p/b', 'machines_changes', '#W',\n",
      "       '#L', '#NH', '#D', 'w/g', 'l/g', 'nh/g', 'd/g', '#2ws', '2ws_profit',\n",
      "       '2ws_wgramt', '#3ws', '3ws_profit', '3ws_wgramt', '#4ws', '4ws_profit',\n",
      "       '4ws_wgramt', 'ave_time_per_gamble', 'min_time_per_gamble',\n",
      "       'max_time_per_gamble', 'total_duration', 'total_gambles',\n",
      "       'classification', 'unique_machines', 'ave_time_per_machine', 'w/min',\n",
      "       'l/min', 'nh/min', 'd/min', '2ws/min', '3ws/min', '4ws/min'],\n",
      "      dtype='object')\n"
     ]
    }
   ],
   "source": [
    "print(df_ML_s.columns)\n",
    "\n",
    "# # # Reorder Columns\n",
    "desired_order = ['playerkey', 'session_time', 'gender', 'age_range', 'age_gen',\n",
    "                'beginning_amt', 'ending_amt', 'ending_balance', 'ave_slotdenom',\n",
    "                'std_slotdenom', 'min_slotdenom', 'max_slotdenom', 'ave_theo_payback',\n",
    "                'min_theo_payback', 'max_theo_payback', 'ave_wageramt', 'std_wageramt',\n",
    "                'min_wager', 'max_wager', 'ave_p/b', 'std_p/b', 'max_p/b', 'max_profit', 'depletion_slope',\n",
    "                '#inc_maxbet', '#dec_maxbet', 'first_wager', 'first_outcome', 'first_p/b', 'last_wager',\n",
    "                'last_outcome', 'last_p/b', '#W', '#L', '#NH', '#D', 'w/min', 'l/min', 'nh/min', 'd/min', \n",
    "                'w/g', 'l/g', 'nh/g', 'd/g', '#2ws', '2ws_profit', '2ws_wgramt', '#3ws', \n",
    "                '3ws_profit','3ws_wgramt', '#4ws', '4ws_profit', '4ws_wgramt', '2ws/min', '3ws/min', '4ws/min',\n",
    "                'ave_time_per_gamble', 'min_time_per_gamble', 'max_time_per_gamble',\n",
    "                'total_duration', 'total_gambles', 'machines_changes', '#inc_slotdenom', '#dec_slotdenom',\n",
    "                'unique_machines', 'ave_time_per_machine','classification']\n",
    "\n",
    "df_ML_s = df_ML_s.reindex(columns=desired_order)\n",
    "\n",
    "# Save dataframe to paquet file\n",
    "df_ML_s.to_parquet('/Users/mau/Library/CloudStorage/Dropbox/Mac/Documents/Dissertation/Chapter 2/Entire_Data/By month/'+month_file+'/Ending Balances/Per_Player/top_player_ending_balance_by_session.parquet')\n"
   ]
  }
 ],
 "metadata": {
  "kernelspec": {
   "display_name": "Python 3",
   "language": "python",
   "name": "python3"
  },
  "language_info": {
   "codemirror_mode": {
    "name": "ipython",
    "version": 3
   },
   "file_extension": ".py",
   "mimetype": "text/x-python",
   "name": "python",
   "nbconvert_exporter": "python",
   "pygments_lexer": "ipython3",
   "version": "3.10.0"
  },
  "orig_nbformat": 4
 },
 "nbformat": 4,
 "nbformat_minor": 2
}
