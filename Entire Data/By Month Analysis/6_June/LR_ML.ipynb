{
 "cells": [
  {
   "attachments": {},
   "cell_type": "markdown",
   "metadata": {},
   "source": [
    "# Logistic Regression"
   ]
  },
  {
   "attachments": {},
   "cell_type": "markdown",
   "metadata": {},
   "source": [
    "## Data Preprocessing"
   ]
  },
  {
   "cell_type": "code",
   "execution_count": 33,
   "metadata": {},
   "outputs": [],
   "source": [
    "# Importing the libraries\n",
    "import numpy as np\n",
    "import matplotlib.pyplot as plt\n",
    "import pandas as pd\n",
    "import os\n",
    "\n",
    "# Set working directory\n",
    "month_file = '2_June'\n",
    "# Set working directory\n",
    "os.chdir(\"/Users/mau/Library/CloudStorage/Dropbox/Mac/Documents/Dissertation/Chapter 2/Entire_Data/By month/\"+month_file+\"/Ending Balances/Per_Player\")"
   ]
  },
  {
   "attachments": {},
   "cell_type": "markdown",
   "metadata": {},
   "source": [
    "## Load Dataframes"
   ]
  },
  {
   "cell_type": "code",
   "execution_count": 48,
   "metadata": {},
   "outputs": [],
   "source": [
    "# Filter Columns\n",
    "filter = ['session_time', 'gender',  'sim_play', 'age_gen', 'first_outcome', 'last_outcome', \n",
    "        'beginning_amt', 'ending_amt', 'ending_balance', 'ave_slotdenom', \n",
    "        'min_slotdenom', 'max_slotdenom', 'ave_theo_payback', 'min_theo_payback', \n",
    "        'max_theo_payback', 'ave_wageramt', 'min_wager', 'max_wager', \n",
    "        'ave_p/b', 'max_p/b', 'first_p/b', 'last_p/b', 'w/min', 'l/min', \n",
    "        'nh/min', 'd/min', 'w/g', 'l/g', 'nh/g', 'd/g', '#2ws', '2ws_profit', '2ws_wgramt', \n",
    "        '#3ws', '3ws_profit', '3ws_wgramt', '#4ws', '4ws_profit', '4ws_wgramt', \n",
    "        'ave_time_per_gamble','machines_changes', 'unique_machines', \n",
    "        'ave_time_per_machine', 'percentile']\n",
    "\n",
    "# Columns NOT INCLUDED\n",
    "# 'playerkey', 'rank', 'age_range', '#W', '#L', '#NH', '#D','total_duration', 'total_gambles'\n",
    "\n",
    "# Load dataset\n",
    "dataset = pd.read_parquet('per_player_ending_balance_by_session.parquet', columns=filter)\n",
    "\n",
    "# Keep only session_time 1\n",
    "dataset = dataset[dataset['session_time'] == 1]\n",
    "# Drop age_range and playerkey\n",
    "dataset = dataset.drop(['session_time'], axis=1)\n",
    "\n",
    "# Convert time deltas to numeric values\n",
    "dataset['ave_time_per_gamble'] = dataset['ave_time_per_gamble'].dt.total_seconds()\n",
    "dataset['ave_time_per_machine'] = dataset['ave_time_per_machine'].dt.total_seconds()\n",
    "\n",
    "# # Seperate dependent and independent variables\n",
    "X = dataset.iloc[:, :-1].values\n",
    "y = dataset.iloc[:, -1].values"
   ]
  },
  {
   "attachments": {},
   "cell_type": "markdown",
   "metadata": {},
   "source": [
    "## Taking Care of Missing Data\n",
    "\n",
    "X[:, 3:31] it covers from beggining account balance to 4ws_wgramt column\n",
    "\n",
    "We do not need this step since we do not have missing data!"
   ]
  },
  {
   "cell_type": "code",
   "execution_count": 84,
   "metadata": {},
   "outputs": [],
   "source": [
    "# from sklearn.impute import SimpleImputer\n",
    "# imputer = SimpleImputer(missing_values=np.nan, strategy='mean')\n",
    "# imputer.fit(X[:, 3:31])\n",
    "# X[:, 3:31] = imputer.transform(X[:, 3:31])"
   ]
  },
  {
   "attachments": {},
   "cell_type": "markdown",
   "metadata": {},
   "source": [
    "## Encoding Categorical Data\n",
    "\n",
    "### Encoding the Independent Variable"
   ]
  },
  {
   "cell_type": "code",
   "execution_count": 37,
   "metadata": {},
   "outputs": [],
   "source": [
    "from sklearn.compose import ColumnTransformer\n",
    "from sklearn.preprocessing import OneHotEncoder\n",
    "from sklearn.preprocessing import LabelEncoder\n",
    "\n",
    "# Econde gender column (Binary)\n",
    "le = LabelEncoder()\n",
    "\n",
    "# Binary Encode gender and simplay\n",
    "X[:, 0] = le.fit_transform(X[:, 0])\n",
    "X[:, 1] = le.fit_transform(X[:, 1])\n",
    "\n",
    "# # Encode rank and age_generartion columns\n",
    "ct = ColumnTransformer(transformers=[('encoder', OneHotEncoder(), [2, 3, 4])], remainder='passthrough')\n",
    "X = np.array(ct.fit_transform(X))"
   ]
  },
  {
   "attachments": {},
   "cell_type": "markdown",
   "metadata": {},
   "source": [
    "### Encoding the Dependent Variable"
   ]
  },
  {
   "cell_type": "code",
   "execution_count": 38,
   "metadata": {},
   "outputs": [],
   "source": [
    "y = le.fit_transform(y)"
   ]
  },
  {
   "attachments": {},
   "cell_type": "markdown",
   "metadata": {},
   "source": [
    "## Splitting the dataset into the Training set and Test set"
   ]
  },
  {
   "cell_type": "code",
   "execution_count": 39,
   "metadata": {},
   "outputs": [],
   "source": [
    "from sklearn.model_selection import train_test_split\n",
    "X_train, X_test, y_train, y_test = train_test_split(X, y, test_size = 0.2, random_state = 1)"
   ]
  },
  {
   "attachments": {},
   "cell_type": "markdown",
   "metadata": {},
   "source": [
    "## Feature Scaling"
   ]
  },
  {
   "cell_type": "code",
   "execution_count": 43,
   "metadata": {},
   "outputs": [],
   "source": [
    "from sklearn.preprocessing import StandardScaler\n",
    "sc = StandardScaler()\n",
    "\n",
    "# Scale all columns except the encoded ones\n",
    "X_train[:, 14:] = sc.fit_transform(X_train[:, 14:])\n",
    "X_test[:, 14:] = sc.transform(X_test[:, 14:])"
   ]
  },
  {
   "attachments": {},
   "cell_type": "markdown",
   "metadata": {},
   "source": [
    "## Training the Logistic Regression model on \n",
    "\n",
    "1.   X_train\n",
    "2.   y_train\n",
    "\n",
    "the Training set"
   ]
  },
  {
   "cell_type": "code",
   "execution_count": 44,
   "metadata": {},
   "outputs": [
    {
     "data": {
      "text/html": [
       "<style>#sk-container-id-1 {color: black;background-color: white;}#sk-container-id-1 pre{padding: 0;}#sk-container-id-1 div.sk-toggleable {background-color: white;}#sk-container-id-1 label.sk-toggleable__label {cursor: pointer;display: block;width: 100%;margin-bottom: 0;padding: 0.3em;box-sizing: border-box;text-align: center;}#sk-container-id-1 label.sk-toggleable__label-arrow:before {content: \"▸\";float: left;margin-right: 0.25em;color: #696969;}#sk-container-id-1 label.sk-toggleable__label-arrow:hover:before {color: black;}#sk-container-id-1 div.sk-estimator:hover label.sk-toggleable__label-arrow:before {color: black;}#sk-container-id-1 div.sk-toggleable__content {max-height: 0;max-width: 0;overflow: hidden;text-align: left;background-color: #f0f8ff;}#sk-container-id-1 div.sk-toggleable__content pre {margin: 0.2em;color: black;border-radius: 0.25em;background-color: #f0f8ff;}#sk-container-id-1 input.sk-toggleable__control:checked~div.sk-toggleable__content {max-height: 200px;max-width: 100%;overflow: auto;}#sk-container-id-1 input.sk-toggleable__control:checked~label.sk-toggleable__label-arrow:before {content: \"▾\";}#sk-container-id-1 div.sk-estimator input.sk-toggleable__control:checked~label.sk-toggleable__label {background-color: #d4ebff;}#sk-container-id-1 div.sk-label input.sk-toggleable__control:checked~label.sk-toggleable__label {background-color: #d4ebff;}#sk-container-id-1 input.sk-hidden--visually {border: 0;clip: rect(1px 1px 1px 1px);clip: rect(1px, 1px, 1px, 1px);height: 1px;margin: -1px;overflow: hidden;padding: 0;position: absolute;width: 1px;}#sk-container-id-1 div.sk-estimator {font-family: monospace;background-color: #f0f8ff;border: 1px dotted black;border-radius: 0.25em;box-sizing: border-box;margin-bottom: 0.5em;}#sk-container-id-1 div.sk-estimator:hover {background-color: #d4ebff;}#sk-container-id-1 div.sk-parallel-item::after {content: \"\";width: 100%;border-bottom: 1px solid gray;flex-grow: 1;}#sk-container-id-1 div.sk-label:hover label.sk-toggleable__label {background-color: #d4ebff;}#sk-container-id-1 div.sk-serial::before {content: \"\";position: absolute;border-left: 1px solid gray;box-sizing: border-box;top: 0;bottom: 0;left: 50%;z-index: 0;}#sk-container-id-1 div.sk-serial {display: flex;flex-direction: column;align-items: center;background-color: white;padding-right: 0.2em;padding-left: 0.2em;position: relative;}#sk-container-id-1 div.sk-item {position: relative;z-index: 1;}#sk-container-id-1 div.sk-parallel {display: flex;align-items: stretch;justify-content: center;background-color: white;position: relative;}#sk-container-id-1 div.sk-item::before, #sk-container-id-1 div.sk-parallel-item::before {content: \"\";position: absolute;border-left: 1px solid gray;box-sizing: border-box;top: 0;bottom: 0;left: 50%;z-index: -1;}#sk-container-id-1 div.sk-parallel-item {display: flex;flex-direction: column;z-index: 1;position: relative;background-color: white;}#sk-container-id-1 div.sk-parallel-item:first-child::after {align-self: flex-end;width: 50%;}#sk-container-id-1 div.sk-parallel-item:last-child::after {align-self: flex-start;width: 50%;}#sk-container-id-1 div.sk-parallel-item:only-child::after {width: 0;}#sk-container-id-1 div.sk-dashed-wrapped {border: 1px dashed gray;margin: 0 0.4em 0.5em 0.4em;box-sizing: border-box;padding-bottom: 0.4em;background-color: white;}#sk-container-id-1 div.sk-label label {font-family: monospace;font-weight: bold;display: inline-block;line-height: 1.2em;}#sk-container-id-1 div.sk-label-container {text-align: center;}#sk-container-id-1 div.sk-container {/* jupyter's `normalize.less` sets `[hidden] { display: none; }` but bootstrap.min.css set `[hidden] { display: none !important; }` so we also need the `!important` here to be able to override the default hidden behavior on the sphinx rendered scikit-learn.org. See: https://github.com/scikit-learn/scikit-learn/issues/21755 */display: inline-block !important;position: relative;}#sk-container-id-1 div.sk-text-repr-fallback {display: none;}</style><div id=\"sk-container-id-1\" class=\"sk-top-container\"><div class=\"sk-text-repr-fallback\"><pre>LogisticRegression(random_state=0)</pre><b>In a Jupyter environment, please rerun this cell to show the HTML representation or trust the notebook. <br />On GitHub, the HTML representation is unable to render, please try loading this page with nbviewer.org.</b></div><div class=\"sk-container\" hidden><div class=\"sk-item\"><div class=\"sk-estimator sk-toggleable\"><input class=\"sk-toggleable__control sk-hidden--visually\" id=\"sk-estimator-id-1\" type=\"checkbox\" checked><label for=\"sk-estimator-id-1\" class=\"sk-toggleable__label sk-toggleable__label-arrow\">LogisticRegression</label><div class=\"sk-toggleable__content\"><pre>LogisticRegression(random_state=0)</pre></div></div></div></div></div>"
      ],
      "text/plain": [
       "LogisticRegression(random_state=0)"
      ]
     },
     "execution_count": 44,
     "metadata": {},
     "output_type": "execute_result"
    }
   ],
   "source": [
    "from sklearn.linear_model import LogisticRegression\n",
    "classifier = LogisticRegression(random_state = 0)\n",
    "classifier.fit(X_train, y_train)"
   ]
  },
  {
   "attachments": {},
   "cell_type": "markdown",
   "metadata": {},
   "source": [
    "### Which IDVs have the most weight in the model"
   ]
  },
  {
   "cell_type": "code",
   "execution_count": 50,
   "metadata": {},
   "outputs": [
    {
     "name": "stdout",
     "output_type": "stream",
     "text": [
      "remainder__x41: 1.420711755235393\n",
      "remainder__x18: 1.0525626765243217\n",
      "remainder__x40: 1.0442705569264576\n",
      "remainder__x29: 1.0109339038118972\n",
      "remainder__x16: 0.6735446064175719\n",
      "remainder__x32: 0.5941275969650018\n",
      "remainder__x10: 0.5537565584653025\n",
      "remainder__x15: -0.5316484769076729\n",
      "remainder__x35: 0.5243428879840037\n",
      "remainder__x12: -0.480587808830943\n",
      "remainder__x21: 0.4426500967278362\n",
      "remainder__x24: 0.4393659061072288\n",
      "encoder__x3_near-hit: 0.4354229305711972\n",
      "remainder__x14: -0.3974811833515881\n",
      "remainder__x38: -0.35554647571447245\n",
      "remainder__x23: 0.339091916249507\n",
      "remainder__x30: 0.33313874915915\n",
      "remainder__x9: -0.3274131807611045\n",
      "remainder__x20: -0.32704939436760916\n",
      "remainder__x27: -0.3013187659621852\n",
      "remainder__x36: 0.27540762046476647\n",
      "remainder__x26: 0.26420537571006547\n",
      "remainder__x34: 0.23376360140726093\n",
      "remainder__x11: -0.2320116858087338\n",
      "encoder__x3_loss: -0.22856859166907986\n",
      "remainder__x37: 0.2172656480871856\n",
      "remainder__x31: 0.21354143798105646\n",
      "encoder__x4_loss: -0.1907399492750969\n",
      "encoder__x3_gain: -0.17314399426220287\n",
      "encoder__x4_near-hit: 0.16936501457081193\n",
      "remainder__x33: 0.16540791874873323\n",
      "remainder__x17: -0.1618948196208438\n",
      "encoder__x2_Silent: 0.15557341116273654\n",
      "remainder__x25: -0.1424663643244039\n",
      "encoder__x4_gain: 0.1355680105016862\n",
      "remainder__x28: 0.1341373238917411\n",
      "encoder__x4_draw: -0.11411729129308236\n",
      "remainder__x39: 0.10679317248017184\n",
      "remainder__x5: 0.08510192050708218\n",
      "encoder__x2_Millenials: -0.08153631254385298\n",
      "remainder__x22: 0.0786923360564505\n",
      "encoder__x2_Gen X: -0.061105046862899914\n",
      "remainder__x6: 0.05110473026688125\n",
      "remainder__x8: 0.03566318177690109\n",
      "encoder__x3_draw: -0.033634560135595466\n",
      "remainder__x13: -0.028904345333382254\n",
      "remainder__x19: -0.02152771911428907\n",
      "encoder__x2_Baby Boomers: -0.012856267251664541\n",
      "remainder__x1: 0.00695057260294807\n",
      "remainder__x7: 0.00582034217049244\n",
      "remainder__x0: -0.0006616808006655756\n"
     ]
    }
   ],
   "source": [
    "# Get the feature names after one-hot encoding\n",
    "feature_names = ct.get_feature_names_out()\n",
    "\n",
    "# Get the coefficients and feature importance\n",
    "coefficients = classifier.coef_[0]\n",
    "feature_importance = list(zip(feature_names, coefficients))\n",
    "\n",
    "# Sort the feature importance by absolute coefficient values\n",
    "feature_importance.sort(key=lambda x: abs(x[1]), reverse=True)\n",
    "\n",
    "# Print the feature importance\n",
    "for feature, importance in feature_importance:\n",
    "    print(f\"{feature}: {importance}\")"
   ]
  },
  {
   "cell_type": "code",
   "execution_count": 51,
   "metadata": {},
   "outputs": [
    {
     "name": "stdout",
     "output_type": "stream",
     "text": [
      "remainder__x41: 1.420711755235393\n",
      "remainder__x18: 1.0525626765243217\n",
      "remainder__x40: 1.0442705569264576\n",
      "remainder__x29: 1.0109339038118972\n",
      "remainder__x16: 0.6735446064175719\n",
      "remainder__x32: 0.5941275969650018\n",
      "remainder__x10: 0.5537565584653025\n",
      "remainder__x15: -0.5316484769076729\n",
      "remainder__x35: 0.5243428879840037\n",
      "remainder__x12: -0.480587808830943\n",
      "remainder__x21: 0.4426500967278362\n",
      "remainder__x24: 0.4393659061072288\n",
      "encoder__x3_near-hit: 0.4354229305711972\n",
      "remainder__x14: -0.3974811833515881\n",
      "remainder__x38: -0.35554647571447245\n",
      "remainder__x23: 0.339091916249507\n",
      "remainder__x30: 0.33313874915915\n",
      "remainder__x9: -0.3274131807611045\n",
      "remainder__x20: -0.32704939436760916\n",
      "remainder__x27: -0.3013187659621852\n",
      "remainder__x36: 0.27540762046476647\n",
      "remainder__x26: 0.26420537571006547\n",
      "remainder__x34: 0.23376360140726093\n",
      "remainder__x11: -0.2320116858087338\n",
      "encoder__x3_loss: -0.22856859166907986\n",
      "remainder__x37: 0.2172656480871856\n",
      "remainder__x31: 0.21354143798105646\n",
      "encoder__x4_loss: -0.1907399492750969\n",
      "encoder__x3_gain: -0.17314399426220287\n",
      "encoder__x4_near-hit: 0.16936501457081193\n",
      "remainder__x33: 0.16540791874873323\n",
      "remainder__x17: -0.1618948196208438\n",
      "encoder__x2_Silent: 0.15557341116273654\n",
      "remainder__x25: -0.1424663643244039\n",
      "encoder__x4_gain: 0.1355680105016862\n",
      "remainder__x28: 0.1341373238917411\n",
      "encoder__x4_draw: -0.11411729129308236\n",
      "remainder__x39: 0.10679317248017184\n",
      "remainder__x5: 0.08510192050708218\n",
      "encoder__x2_Millenials: -0.08153631254385298\n",
      "remainder__x22: 0.0786923360564505\n",
      "encoder__x2_Gen X: -0.061105046862899914\n",
      "remainder__x6: 0.05110473026688125\n",
      "remainder__x8: 0.03566318177690109\n",
      "encoder__x3_draw: -0.033634560135595466\n",
      "remainder__x13: -0.028904345333382254\n",
      "remainder__x19: -0.02152771911428907\n",
      "encoder__x2_Baby Boomers: -0.012856267251664541\n",
      "remainder__x1: 0.00695057260294807\n",
      "remainder__x7: 0.00582034217049244\n",
      "remainder__x0: -0.0006616808006655756\n"
     ]
    }
   ],
   "source": [
    "# Get the feature names after one-hot encoding\n",
    "feature_names = ct.get_feature_names_out()\n",
    "\n",
    "# Get the coefficients and feature importance\n",
    "coefficients = classifier.coef_[0]\n",
    "feature_importance = list(zip(feature_names, coefficients))\n",
    "\n",
    "# Sort the feature importance by absolute coefficient values\n",
    "feature_importance.sort(key=lambda x: abs(x[1]), reverse=True)\n",
    "\n",
    "# Create a list with feature and importance\n",
    "feature_importance_list = [(feature, importance) for feature, importance in feature_importance]\n",
    "\n",
    "# Sort the list from highest to lowest importance\n",
    "feature_importance_list.sort(key=lambda x: abs(x[1]), reverse=True)\n",
    "\n",
    "# Print the feature importance list\n",
    "for feature, importance in feature_importance_list:\n",
    "    print(f\"{feature}: {importance}\")\n"
   ]
  },
  {
   "attachments": {},
   "cell_type": "markdown",
   "metadata": {},
   "source": [
    "### Predicting the Test set results"
   ]
  },
  {
   "cell_type": "code",
   "execution_count": 45,
   "metadata": {},
   "outputs": [
    {
     "name": "stdout",
     "output_type": "stream",
     "text": [
      "[[1 1]\n",
      " [0 0]\n",
      " [1 1]\n",
      " [1 1]\n",
      " [1 1]\n",
      " [1 1]\n",
      " [1 1]\n",
      " [0 1]\n",
      " [0 0]\n",
      " [0 0]\n",
      " [0 1]\n",
      " [1 1]\n",
      " [0 0]\n",
      " [1 1]\n",
      " [1 1]\n",
      " [0 0]\n",
      " [1 1]\n",
      " [1 1]\n",
      " [1 1]\n",
      " [0 0]\n",
      " [0 1]\n",
      " [0 0]\n",
      " [1 1]]\n"
     ]
    }
   ],
   "source": [
    "y_pred = classifier.predict(X_test)\n",
    "\n",
    "print(np.concatenate((y_pred.reshape(len(y_pred),1), y_test.reshape(len(y_test),1)),1))"
   ]
  },
  {
   "attachments": {},
   "cell_type": "markdown",
   "metadata": {},
   "source": [
    "### Making the Confusion Matrix and Accuracy Score"
   ]
  },
  {
   "cell_type": "code",
   "execution_count": 46,
   "metadata": {},
   "outputs": [
    {
     "name": "stdout",
     "output_type": "stream",
     "text": [
      "[[ 7  0]\n",
      " [ 3 13]]\n",
      "Accuracy:  0.8695652173913043\n",
      "True Positive (B20):  7\n",
      "True Negative (T20):  13\n",
      "False Positive:  0\n",
      "False Negative:  3\n"
     ]
    }
   ],
   "source": [
    "from sklearn.metrics import confusion_matrix, accuracy_score\n",
    "cm = confusion_matrix(y_test, y_pred)\n",
    "print(cm)\n",
    "print('Accuracy: ', accuracy_score(y_test, y_pred))\n",
    "\n",
    "# Interpretation of confusion matrix\n",
    "print('True Positive (B20): ', cm[0][0])\n",
    "print('True Negative (T20): ', cm[1][1])\n",
    "print('False Positive: ', cm[0][1])\n",
    "print('False Negative: ', cm[1][0])"
   ]
  },
  {
   "cell_type": "code",
   "execution_count": null,
   "metadata": {},
   "outputs": [],
   "source": []
  }
 ],
 "metadata": {
  "kernelspec": {
   "display_name": "Python 3",
   "language": "python",
   "name": "python3"
  },
  "language_info": {
   "codemirror_mode": {
    "name": "ipython",
    "version": 3
   },
   "file_extension": ".py",
   "mimetype": "text/x-python",
   "name": "python",
   "nbconvert_exporter": "python",
   "pygments_lexer": "ipython3",
   "version": "3.10.0"
  },
  "orig_nbformat": 4
 },
 "nbformat": 4,
 "nbformat_minor": 2
}
