{
 "cells": [
  {
   "attachments": {},
   "cell_type": "markdown",
   "metadata": {},
   "source": [
    "# Similarities and Differences of Top vs. Bottom 20% (Pt.1 - Age, Gender, Won/Lost Amount)"
   ]
  },
  {
   "cell_type": "code",
   "execution_count": 1,
   "metadata": {},
   "outputs": [],
   "source": [
    "# Define libraries\n",
    "import pandas as pd\n",
    "import numpy as np\n",
    "import matplotlib.pyplot as plt\n",
    "import seaborn as sns\n",
    "import matplotlib.dates as mdates\n",
    "import os\n",
    "import plotting_fn as pf\n",
    "import counting_fns as cf\n",
    "\n",
    "month_file = '2_June'\n",
    "cut_off = 10000\n",
    "# Set working directory\n",
    "os.chdir(\"/Users/mau/Library/CloudStorage/Dropbox/Mac/Documents/Dissertation/Chapter 2/Entire_Data/By month/\"+month_file)\n"
   ]
  },
  {
   "cell_type": "code",
   "execution_count": 2,
   "metadata": {},
   "outputs": [],
   "source": [
    "# Read in data\n",
    "df_bottom_20 = pd.read_parquet(\"Bottom_20_gambles.parquet\")\n",
    "df_top_20 = pd.read_parquet(\"Top_20_gambles.parquet\")\n",
    "\n",
    "# Eliminate players who maximum number of gambles is 1\n",
    "df_bottom_20 = df_bottom_20.groupby('playerkey').filter(lambda x: x['gambles'].nunique() > 1)\n",
    "df_top_20 = df_top_20.groupby('playerkey').filter(lambda x: x['gambles'].nunique() > 1)\n",
    "\n",
    "# Reset index\n",
    "df_bottom_20.index = np.arange(1, len(df_bottom_20) + 1)\n",
    "df_top_20.index = np.arange(1, len(df_top_20) + 1)\n",
    "\n",
    "# Round wageredamt and profit to 2 decimal places\n",
    "df_bottom_20['wageredamt'] = df_bottom_20['wageredamt'].round(1)\n",
    "df_bottom_20['profit'] = df_bottom_20['profit'].round(1)\n",
    "df_bottom_20['percent_return'] = df_bottom_20['percent_return'].round(1)\n",
    "df_top_20['wageredamt'] = df_top_20['wageredamt'].round(1)\n",
    "df_top_20['profit'] = df_top_20['profit'].round(1)\n",
    "df_top_20['percent_return'] = df_top_20['percent_return'].round(1)"
   ]
  },
  {
   "cell_type": "code",
   "execution_count": 3,
   "metadata": {},
   "outputs": [],
   "source": [
    "# Create a new column 'result_type' that is a categorical variable which takes the value 'loss' if the change is negative and 'gain' if the change is positive, and 'draw' of change is 0\n",
    "df_bottom_20['result_type'] = df_bottom_20['percent_return'].apply(lambda x: 'loss' if x == -100 else 'near-hit' if x < 0 else 'gain' if x > 0 else 'draw')\n",
    "\n",
    "# Create dummy variables from 'result_type'\n",
    "dummy_variables = pd.get_dummies(df_bottom_20['result_type']).rename(columns=lambda x: '#' + str(x[0].capitalize()))\n",
    "\n",
    "# Add the dummy variables to the original DataFrame\n",
    "df_bottom_20 = pd.concat([df_bottom_20, dummy_variables], axis=1).reset_index(drop=True)\n",
    "\n",
    "# Create a new column 'result_type' that is a categorical variable which takes the value 'loss' if the change is negative and 'gain' if the change is positive, and 'draw' of change is 0\n",
    "df_top_20['result_type'] = df_top_20['percent_return'].apply(lambda x: 'loss' if x == -100 else 'near-hit' if x < 0 else 'gain' if x > 0 else 'draw')\n",
    "\n",
    "# Create dummy variables from 'result_type'\n",
    "dummy_variables = pd.get_dummies(df_top_20['result_type']).rename(columns=lambda x: '#' + str(x[0].capitalize()))\n",
    "\n",
    "# Add the dummy variables to the original DataFrame\n",
    "df_top_20 = pd.concat([df_top_20, dummy_variables], axis=1).reset_index(drop=True)\n",
    "\n",
    "# Convert starttime to delte format for operations\n",
    "df_bottom_20['start_time'] = pd.to_datetime(df_bottom_20['start_time'])\n",
    "\n",
    "df_top_20['start_time'] = pd.to_datetime(df_top_20['start_time'])\n"
   ]
  },
  {
   "cell_type": "code",
   "execution_count": 4,
   "metadata": {},
   "outputs": [],
   "source": [
    "# Create new column called 'time_diff' which is the difference between the start time of the gamble and the start time of the previous gamble\n",
    "df_bottom_20['time_diff'] = df_bottom_20.groupby(['playerkey', 'session_time'])['start_time'].diff()\n",
    "df_top_20['time_diff'] = df_top_20.groupby(['playerkey', 'session_time'])['start_time'].diff()\n",
    "\n",
    "# Convert time_diff to seconds\n",
    "df_bottom_20['time_diff'] = df_bottom_20['time_diff'].dt.total_seconds().fillna(0)\n",
    "df_top_20['time_diff'] = df_top_20['time_diff'].dt.total_seconds().fillna(0)\n"
   ]
  },
  {
   "attachments": {},
   "cell_type": "markdown",
   "metadata": {},
   "source": [
    "## General Overview\n",
    "\n",
    "### Players, Visits, Sessions of Each Group"
   ]
  },
  {
   "cell_type": "code",
   "execution_count": 5,
   "metadata": {},
   "outputs": [
    {
     "name": "stdout",
     "output_type": "stream",
     "text": [
      "Number of gamblers in bottom 20%: 56\n",
      "Number of gamblers in top 20%: 57\n",
      "--------------------------------------------------\n",
      "Number of unique visits in bottom 20%: 1\n",
      "Number of unique visits in top 20%: 1\n",
      "--------------------------------------------------\n",
      "Number of unique sessions in bottom 20%: 2\n",
      "Number of unique sessions in top 20%: 6\n",
      "--------------------------------------------------\n",
      "Number of unique sessions on session_machine in bottom 20%: 6\n",
      "Number of unique sessions on session_machine in top 20%: 436\n"
     ]
    }
   ],
   "source": [
    "# Number of gamblers\n",
    "print(\"Number of gamblers in bottom 20%:\", len(df_bottom_20['playerkey'].unique()))\n",
    "print(\"Number of gamblers in top 20%:\", len(df_top_20['playerkey'].unique()))\n",
    "print('--------------------------------------------------')\n",
    "\n",
    "# Print number of unique visits\n",
    "print(\"Number of unique visits in bottom 20%:\", len(df_bottom_20['visit'].unique()))\n",
    "print(\"Number of unique visits in top 20%:\", len(df_top_20['visit'].unique()))\n",
    "print('--------------------------------------------------')\n",
    "\n",
    "# Print number of unique sessions\n",
    "print(\"Number of unique sessions in bottom 20%:\", len(df_bottom_20['session_time'].unique()))\n",
    "print(\"Number of unique sessions in top 20%:\", len(df_top_20['session_time'].unique()))\n",
    "print('--------------------------------------------------')\n",
    "\n",
    "# Print number of unique sessions on session_machine\n",
    "print(\"Number of unique sessions on session_machine in bottom 20%:\", len(df_bottom_20['session_machine'].unique()))\n",
    "print(\"Number of unique sessions on session_machine in top 20%:\", len(df_top_20['session_machine'].unique()))\n",
    "\n",
    "\n"
   ]
  },
  {
   "attachments": {},
   "cell_type": "markdown",
   "metadata": {},
   "source": [
    "### Wins in a row"
   ]
  },
  {
   "cell_type": "code",
   "execution_count": 6,
   "metadata": {},
   "outputs": [],
   "source": [
    "# Ude consecutive functions to find 2ws, 3ws, 4ws in a row in each dataset per visit per player\n",
    "df_bottom_20 = pf.consecutive_wins(df_bottom_20, 'visit')\n",
    "df_top_20 = pf.consecutive_wins(df_top_20, 'visit')\n"
   ]
  },
  {
   "cell_type": "code",
   "execution_count": 7,
   "metadata": {},
   "outputs": [
    {
     "name": "stdout",
     "output_type": "stream",
     "text": [
      "Bottom 20\n",
      "       #2ws  #3ws  #4ws\n",
      "visit                  \n",
      "1      11.0   0.0   0.0\n",
      "--------------------------------------------------\n",
      "Top 20\n",
      "        #2ws   #3ws  #4ws\n",
      "visit                    \n",
      "1      640.0  106.0  30.0\n"
     ]
    }
   ],
   "source": [
    "# Print the numner of total number of 2 wins, 3 wins, 4 wins in a row in each dataset\n",
    "print('Bottom 20')\n",
    "print(df_bottom_20.groupby('visit')[['#2ws', '#3ws', '#4ws']].sum())\n",
    "print('--------------------------------------------------')\n",
    "print('Top 20')\n",
    "print(df_top_20.groupby('visit')[['#2ws', '#3ws', '#4ws']].sum())"
   ]
  },
  {
   "cell_type": "code",
   "execution_count": 8,
   "metadata": {},
   "outputs": [],
   "source": [
    "# Ude consecutive functions to find 2ws, 3ws, 4ws in a row in each dataset per session_time per player\n",
    "df_bottom_20_s = pf.consecutive_wins(df_bottom_20, 'session_time')\n",
    "df_top_20_s = pf.consecutive_wins(df_top_20, 'session_time')"
   ]
  },
  {
   "cell_type": "code",
   "execution_count": null,
   "metadata": {},
   "outputs": [],
   "source": [
    "# Print the numner of total number of 2 wins, 3 wins, 4 wins in a row in each dataset\n",
    "print('Bottom 20')\n",
    "print(df_bottom_20_s.groupby('session_time')[['#2ws', '#3ws', '#4ws']].sum())\n",
    "print('--------------------------------------------------')\n",
    "print('Top 20')\n",
    "print(df_top_20_s.groupby('session_time')[['#2ws', '#3ws', '#4ws']].sum())"
   ]
  },
  {
   "attachments": {},
   "cell_type": "markdown",
   "metadata": {},
   "source": [
    "### Rank Differences"
   ]
  },
  {
   "cell_type": "code",
   "execution_count": null,
   "metadata": {},
   "outputs": [],
   "source": [
    "# For every unique rank, print the number of unique players\n",
    "print(\"Number of unique players in bottom 20%:\")\n",
    "print(df_bottom_20.groupby('rank')['playerkey'].nunique())\n",
    "print('--------------------------------------------------')\n",
    "print(\"Number of unique players in top 20%:\")\n",
    "print(df_top_20.groupby('rank')['playerkey'].nunique())\n",
    "print('--------------------------------------------------')\n",
    "\n",
    "# Plot the differences between top and bottom 20% gamblers\n",
    "pf.plot_overall_diff('rank', df_top_20, df_bottom_20, title='Rank', figsize=(10, 7))"
   ]
  },
  {
   "attachments": {},
   "cell_type": "markdown",
   "metadata": {},
   "source": [
    "### Gender Differences"
   ]
  },
  {
   "cell_type": "code",
   "execution_count": null,
   "metadata": {},
   "outputs": [],
   "source": [
    "# Gender differences\n",
    "print(\"Number of unique players in bottom 20%:\")\n",
    "print(df_bottom_20.groupby('gender')['playerkey'].nunique())\n",
    "print('--------------------------------------------------')\n",
    "print(\"Number of unique players in top 20%:\")\n",
    "print(df_top_20.groupby('gender')['playerkey'].nunique())\n",
    "print('--------------------------------------------------')\n",
    "\n",
    "# Plot the differences between top and bottom 20% gamblers\n",
    "pf.plot_overall_diff('gender', df_top_20, df_bottom_20, title='Gender', figsize=(10, 7))"
   ]
  },
  {
   "attachments": {},
   "cell_type": "markdown",
   "metadata": {},
   "source": [
    "### Age Differences"
   ]
  },
  {
   "cell_type": "code",
   "execution_count": 9,
   "metadata": {},
   "outputs": [],
   "source": [
    "# Create age ranges \n",
    "bins = [0, 24, 40, 55, 75, 150]\n",
    "labels = ['18-24', '25-40', '41-55', '56-75', '76+']\n",
    "generations = ['Gen Z', 'Millenials', 'Gen X', 'Baby Boomers', 'Silent']\n",
    "\n",
    "# Use cut function to create age ranges for bottom 20% and top 20%\n",
    "df_bottom_20['age_range'] = pd.cut(df_bottom_20['age'], bins=bins, labels=labels, right=False)\n",
    "df_bottom_20['age_gen'] = pd.cut(df_bottom_20['age'], bins=bins, labels=generations, right=False)\n",
    "\n",
    "df_top_20['age_range'] = pd.cut(df_top_20['age'], bins=bins, labels=labels, right=False)\n",
    "df_top_20['age_gen'] = pd.cut(df_top_20['age'], bins=bins, labels=generations, right=False)"
   ]
  },
  {
   "cell_type": "code",
   "execution_count": null,
   "metadata": {},
   "outputs": [],
   "source": [
    "# Age range differences\n",
    "print(\"Number of unique players in bottom 20%:\")\n",
    "print(df_bottom_20.groupby('age_range')['playerkey'].nunique())\n",
    "print('--------------------------------------------------')\n",
    "print(\"Number of unique players in top 20%:\")\n",
    "print(df_top_20.groupby('age_range')['playerkey'].nunique())\n",
    "print('--------------------------------------------------')\n",
    "\n",
    "# Plot the differences between top and bottom 20% gamblers\n",
    "pf.plot_overall_diff('age_range', df_top_20, df_bottom_20, title='Age Range', figsize=(10, 7))"
   ]
  },
  {
   "cell_type": "code",
   "execution_count": null,
   "metadata": {},
   "outputs": [],
   "source": [
    "# Age generation differences\n",
    "print(\"Number of unique players in bottom 20%:\")\n",
    "print(df_bottom_20.groupby('age_gen')['playerkey'].nunique())\n",
    "print('--------------------------------------------------')\n",
    "print(\"Number of unique players in top 20%:\")\n",
    "print(df_top_20.groupby('age_gen')['playerkey'].nunique())\n",
    "print('--------------------------------------------------')\n",
    "\n",
    "# Plot the differences between top and bottom 20% gamblers\n",
    "pf.plot_overall_diff('age_gen', df_top_20, df_bottom_20, title='Generations', figsize=(12, 7))\n"
   ]
  },
  {
   "cell_type": "code",
   "execution_count": null,
   "metadata": {},
   "outputs": [],
   "source": [
    "# Age range of male gamblers in bottom 20%\n",
    "print(\"Male age differences in bottom 20%:\")\n",
    "print(df_bottom_20[df_bottom_20['gender'] == 'M'].groupby('age_range')['playerkey'].nunique())\n",
    "print('--------------------------------------------------')\n",
    "# Age range of Female gamblers in bottom 20%\n",
    "print('Female age differences in bottom 20%:')\n",
    "print(df_bottom_20[df_bottom_20['gender'] == 'F'].groupby('age_range')['playerkey'].nunique())\n",
    "\n",
    "pf.plot_gender_diff(df_bottom_20, 'Bottom 20%', figsize=(10, 5))\n"
   ]
  },
  {
   "cell_type": "code",
   "execution_count": null,
   "metadata": {},
   "outputs": [],
   "source": [
    "# Age range of male gamblers in top 20%\n",
    "print(\"Male age differences in top 20%:\")\n",
    "print(df_top_20[df_top_20['gender'] == 'M'].groupby('age_range')['playerkey'].nunique())\n",
    "print('--------------------------------------------------')\n",
    "# Age range of female gamblers in top 20%\n",
    "print(\"Female age differences in top 20%:\")\n",
    "print(df_top_20[df_top_20['gender'] == 'F'].groupby('age_range')['playerkey'].nunique())\n",
    "print('--------------------------------------------------')\n",
    "\n",
    "# Plot gender differences\n",
    "pf.plot_gender_diff(df_top_20, 'Top 20%', figsize=(10, 5))"
   ]
  },
  {
   "attachments": {},
   "cell_type": "markdown",
   "metadata": {},
   "source": [
    "### Increse and Decrease of SlotDenomination and Bet"
   ]
  },
  {
   "cell_type": "code",
   "execution_count": 10,
   "metadata": {},
   "outputs": [
    {
     "name": "stdout",
     "output_type": "stream",
     "text": [
      "Count of players who increase_slotdeno : 34\n",
      "Count of times each player increase_slotdeno : {17: 1, 19: 3, 20: 26, 29: 25, 33: 15, 43: 1, 69: 1, 89: 2, 90: 1, 92: 1, 103: 3, 135: 1, 144: 15, 159: 5, 188: 1, 194: 1, 222: 4, 224: 2, 234: 6, 244: 1, 263: 1, 264: 12, 308: 3, 313: 1, 319: 1, 322: 2, 331: 5, 351: 1, 361: 1, 363: 50, 410: 1, 461: 1, 475: 171, 507: 1}\n",
      "Player who changes the most: 475\n",
      "------------------------------------------------------------------------------------------------------------------\n",
      "Count of players who decrease_slotdeno : 31\n",
      "Count of times each player decrease_slotdeno : {17: 1, 19: 2, 20: 24, 29: 25, 33: 14, 43: 1, 69: 2, 89: 2, 99: 1, 103: 4, 135: 1, 144: 15, 159: 7, 188: 1, 222: 4, 224: 3, 234: 5, 244: 1, 263: 1, 264: 13, 308: 2, 322: 2, 331: 4, 351: 1, 361: 1, 363: 48, 410: 1, 461: 1, 475: 172, 507: 1, 521: 1}\n",
      "Player who changes the most: 475\n",
      "------------------------------------------------------------------------------------------------------------------\n",
      "Count of players who increase_maxbet : 39\n",
      "Count of times each player increase_maxbet : {6: 1, 17: 2, 19: 3, 23: 1, 29: 2, 33: 4, 38: 52, 43: 1, 44: 1, 66: 3, 69: 3, 89: 4, 93: 3, 98: 1, 99: 2, 135: 1, 144: 6, 159: 9, 188: 3, 191: 6, 192: 2, 196: 1, 204: 1, 222: 6, 224: 3, 234: 1, 244: 4, 263: 4, 264: 6, 278: 1, 308: 2, 331: 3, 351: 1, 361: 1, 363: 50, 410: 1, 424: 1, 507: 2, 521: 1}\n",
      "Player who changes the most: 38\n",
      "------------------------------------------------------------------------------------------------------------------\n",
      "Count of players who decrease_maxbet : 41\n",
      "Count of times each player decrease_maxbet : {17: 1, 19: 2, 20: 1, 23: 2, 29: 1, 33: 3, 38: 54, 43: 1, 44: 1, 66: 2, 69: 2, 89: 4, 90: 1, 92: 1, 93: 4, 99: 1, 144: 7, 159: 5, 188: 2, 191: 6, 192: 1, 194: 1, 196: 1, 204: 1, 222: 5, 224: 4, 234: 2, 244: 3, 263: 3, 264: 5, 278: 2, 308: 3, 313: 2, 319: 1, 322: 1, 331: 3, 351: 2, 361: 2, 363: 49, 410: 2, 424: 1}\n",
      "Player who changes the most: 38\n",
      "------------------------------------------------------------------------------------------------------------------\n"
     ]
    }
   ],
   "source": [
    "# Lets cound the number of times a player increase slot denominations\n",
    "players_increase_slot_t20 = cf.count_increase(df_top_20, \"increase_slotdeno\", \"playerkey\", \"slotdenomination\")\n",
    "players_decrease_slot_t20 = cf.count_decrease(df_top_20, \"decrease_slotdeno\", \"playerkey\", \"slotdenomination\")\n",
    "players_increase_maxbet_t20 = cf.count_increase(df_top_20, \"increase_maxbet\", \"playerkey\", \"maxbet\")\n",
    "players_decrease_maxbet_t20 = cf.count_decrease(df_top_20, \"decrease_maxbet\", \"playerkey\", \"maxbet\")"
   ]
  },
  {
   "cell_type": "code",
   "execution_count": 11,
   "metadata": {},
   "outputs": [
    {
     "name": "stdout",
     "output_type": "stream",
     "text": [
      "Count of players who increase_slotdeno : 4\n",
      "Count of times each player increase_slotdeno : {67: 1, 219: 1, 223: 1, 248: 1}\n",
      "Player who changes the most: 67\n",
      "------------------------------------------------------------------------------------------------------------------\n",
      "Count of players who decrease_slotdeno : 1\n",
      "Count of times each player decrease_slotdeno : {406: 1}\n",
      "Player who changes the most: 406\n",
      "------------------------------------------------------------------------------------------------------------------\n",
      "Count of players who increase_maxbet : 3\n",
      "Count of times each player increase_maxbet : {164: 1, 236: 1, 406: 1}\n",
      "Player who changes the most: 164\n",
      "------------------------------------------------------------------------------------------------------------------\n",
      "Count of players who decrease_maxbet : 6\n",
      "Count of times each player decrease_maxbet : {67: 1, 219: 1, 223: 1, 236: 2, 389: 1, 457: 1}\n",
      "Player who changes the most: 236\n",
      "------------------------------------------------------------------------------------------------------------------\n"
     ]
    }
   ],
   "source": [
    "# Lets do the same but for bottom 20%\n",
    "players_increase_slot_b20 = cf.count_increase(df_bottom_20, \"increase_slotdeno\", \"playerkey\", \"slotdenomination\")\n",
    "players_decrease_slot_b20 = cf.count_decrease(df_bottom_20, \"decrease_slotdeno\", \"playerkey\", \"slotdenomination\")\n",
    "players_increase_maxbet_b20 = cf.count_increase(df_bottom_20, \"increase_maxbet\", \"playerkey\", \"maxbet\")\n",
    "players_decrease_maxbet_b20 = cf.count_decrease(df_bottom_20, \"decrease_maxbet\", \"playerkey\", \"maxbet\")"
   ]
  },
  {
   "attachments": {},
   "cell_type": "markdown",
   "metadata": {},
   "source": [
    "### Wealth Differences\n",
    "#### General"
   ]
  },
  {
   "cell_type": "code",
   "execution_count": 12,
   "metadata": {},
   "outputs": [],
   "source": [
    "# Lets crate a column called 'depletion_slope' which is the difference of 'playercashableamt' between the current gamble and the previous gamble\n",
    "df_bottom_20['depletion_rate'] = df_bottom_20.groupby(['playerkey', 'session_time'])['playercashableamt'].diff().fillna(0)\n",
    "df_top_20['depletion_rate'] = df_top_20.groupby(['playerkey', 'session_time'])['playercashableamt'].diff().fillna(0)\n"
   ]
  },
  {
   "cell_type": "code",
   "execution_count": null,
   "metadata": {},
   "outputs": [],
   "source": [
    "# Total amoun lost or won by all players in bottom 20%\n",
    "# Group by 'playerkey'\n",
    "grouped_b = df_bottom_20.groupby('playerkey')\n",
    "\n",
    "# Calculate the amount won or lost by each player\n",
    "b_amount_won_lost_each = grouped_b['playercashableamt'].last() - grouped_b['playercashableamt'].first()\n",
    "\n",
    "# Calculate the total amount won or lost by all players\n",
    "b_amount_won_lost_total = grouped_b['playercashableamt'].last().sum() - grouped_b['playercashableamt'].first().sum()\n",
    "\n",
    "# Calculate average amount won or lost by each player\n",
    "b_amount_won_lost_avg = b_amount_won_lost_total / len(grouped_b)\n",
    "\n",
    "# Total amoun lost or won by all players in top 20%\n",
    "# Group by 'playerkey'\n",
    "grouped_t = df_top_20.groupby('playerkey')\n",
    "\n",
    "# Calculate the amount won or lost by each player\n",
    "t_amount_won_lost_each = grouped_t['playercashableamt'].last() - grouped_t['playercashableamt'].first()\n",
    "\n",
    "# Calculate the total amount won or lost by all players\n",
    "t_amount_won_lost_total = grouped_t['playercashableamt'].last().sum() - grouped_t['playercashableamt'].first().sum()\n",
    "\n",
    "# Calculate average amount won or lost by each player\n",
    "t_amount_won_lost_avg = t_amount_won_lost_total / len(grouped_t)\n",
    "\n",
    "# Prin Results\n",
    "print('Total amount won or lost by all players in bottom 20%:')\n",
    "print(b_amount_won_lost_total)\n",
    "print('Average amount won or lost by each player in bottom 20%:')\n",
    "print(round(b_amount_won_lost_avg, 2))\n",
    "print('-------------------------------------------------------')\n",
    "print('Total amount won or lost by all players in top 20%:')\n",
    "print(t_amount_won_lost_total)\n",
    "print('Average amount won or lost by each player in top 20%:')\n",
    "print(round(t_amount_won_lost_avg, 2))\n",
    "\n",
    "# Create figure with 2 subplots\n",
    "fig, ax = plt.subplots(1, 2, figsize=(12, 7))\n",
    "# Set Title\n",
    "fig.suptitle('Distribution of Ending Balances', fontsize=16)\n",
    "# Plot histogram of amount won or lost by all players in bottom 20%\n",
    "sns.histplot(b_amount_won_lost_each, ax=ax[0], bins=15, kde=True, edgecolor=\".2\")\n",
    "ax[0].set_title('Bottom 20%', fontsize=14)\n",
    "ax[0].set_xlabel('Ending Balance')\n",
    "\n",
    "# Plot histogram of amount won or lost by all players in top 20%\n",
    "sns.histplot(t_amount_won_lost_each, ax=ax[1], bins=15, kde=True, edgecolor=\".2\", color='red')\n",
    "ax[1].set_title('Top 20%', fontsize=14)\n",
    "ax[1].set_xlabel('Ending Balance')"
   ]
  },
  {
   "attachments": {},
   "cell_type": "markdown",
   "metadata": {},
   "source": [
    "#### Per Visit"
   ]
  },
  {
   "cell_type": "code",
   "execution_count": 13,
   "metadata": {},
   "outputs": [],
   "source": [
    "# Create dataframe\n",
    "df_all_v = pf.merge_dfs_per_player(data_t=df_top_20, data_b=df_bottom_20, grouping='visit', print_results=False)"
   ]
  },
  {
   "cell_type": "code",
   "execution_count": 14,
   "metadata": {},
   "outputs": [
    {
     "name": "stdout",
     "output_type": "stream",
     "text": [
      "   index visit playerkey\n",
      "0      0     1        38\n",
      "1      1     1        90\n",
      "2      2     1        90\n",
      "3      3     1       144\n",
      "4      4     1       363\n",
      "5      5     1       475\n",
      "   index visit playerkey\n",
      "0      0     1        38\n",
      "1      1     1        90\n",
      "3      3     1       144\n",
      "4      4     1       363\n",
      "5      5     1       475\n"
     ]
    }
   ],
   "source": [
    "# Simultaneous Play\n",
    "df_b20_sim_v = pf.simultaneous_play(40000, df_bottom_20, 'visit')\n",
    "df_t20_sim_v = pf.simultaneous_play(40000, df_top_20, 'visit')\n",
    "\n",
    "# Concat the two dataframes\n",
    "df_sim_v = pd.concat([df_b20_sim_v, df_t20_sim_v]).reset_index()\n",
    "\n",
    "print(df_sim_v)\n",
    "# Remove repeated instances\n",
    "df_sim_no_repeat_v = df_sim_v.drop_duplicates(subset=['visit', 'playerkey'])\n",
    "\n",
    "print(df_sim_no_repeat_v)"
   ]
  },
  {
   "cell_type": "code",
   "execution_count": 15,
   "metadata": {},
   "outputs": [
    {
     "name": "stdout",
     "output_type": "stream",
     "text": [
      "Index(['index', 'playerkey', 'visit', 'rank', 'gender', 'age_range', 'age_gen',\n",
      "       'beginning_amt', 'ending_amt', 'ending_balance', 'ave_slotdenom',\n",
      "       'std_slotdenom', 'min_slotdenom', 'max_slotdenom', 'ave_theo_payback',\n",
      "       'min_theo_payback', 'max_theo_payback', 'ave_wageramt', 'std_wageramt',\n",
      "       'min_wager', 'max_wager', 'ave_p/b', 'std_p/b', 'max_p/b', 'max_profit',\n",
      "       'depletion_slope', '#inc_slotdenom', '#dec_slotdenom', '#inc_maxbet',\n",
      "       '#dec_maxbet', 'first_wager', 'first_outcome', 'first_p/b',\n",
      "       'last_wager', 'last_outcome', 'last_p/b', 'machines_changes', '#W',\n",
      "       '#L', '#NH', '#D', 'w/g', 'l/g', 'nh/g', 'd/g', '#2ws', '2ws_profit',\n",
      "       '2ws_wgramt', '#3ws', '3ws_profit', '3ws_wgramt', '#4ws', '4ws_profit',\n",
      "       '4ws_wgramt', 'ave_time_per_gamble', 'std_time_per_gamble',\n",
      "       'min_time_per_gamble', 'max_time_per_gamble', 'total_duration',\n",
      "       'total_gambles', 'unique_machines', 'ave_time_per_machine', 'w/min',\n",
      "       'l/min', 'nh/min', 'd/min', '2ws/min', '3ws/min', '4ws/min',\n",
      "       'percentile', 'sim_play'],\n",
      "      dtype='object')\n"
     ]
    }
   ],
   "source": [
    "# Merge Sim play\n",
    "df_all_v['sim_play'] = df_all_v[['playerkey', 'visit']].apply(lambda x: tuple(x) in set(map(tuple, df_sim_no_repeat_v[['playerkey', 'visit']].values)), axis=1)\n",
    "\n",
    "print(df_all_v.columns)\n",
    "\n",
    "# # # Reorder Columns\n",
    "desired_order = ['playerkey', 'visit', 'rank', 'gender', 'age_range', 'age_gen',\n",
    "                'beginning_amt', 'ending_amt', 'ending_balance', 'ave_slotdenom',\n",
    "                'std_slotdenom', 'min_slotdenom', 'max_slotdenom', 'ave_theo_payback',\n",
    "                'min_theo_payback', 'max_theo_payback', 'ave_wageramt', 'std_wageramt',\n",
    "                'min_wager', 'max_wager', 'ave_p/b', 'std_p/b', 'max_p/b', 'max_profit', 'depletion_slope',\n",
    "                '#inc_maxbet', '#dec_maxbet', 'first_wager', 'first_outcome', 'first_p/b', 'last_wager',\n",
    "                'last_outcome', 'last_p/b', '#W', '#L', '#NH', '#D', 'w/min', 'l/min', 'nh/min', 'd/min', \n",
    "                'w/g', 'l/g', 'nh/g', 'd/g', '#2ws', '2ws_profit', '2ws_wgramt', '#3ws', \n",
    "                '3ws_profit','3ws_wgramt', '#4ws', '4ws_profit', '4ws_wgramt', '2ws/min', '3ws/min', '4ws/min',\n",
    "                'ave_time_per_gamble', 'std_time_per_gamble', 'min_time_per_gamble', 'max_time_per_gamble',\n",
    "                'total_duration', 'total_gambles', 'machines_changes', '#inc_slotdenom', '#dec_slotdenom',\n",
    "                'unique_machines', 'ave_time_per_machine', 'sim_play','percentile']\n",
    "\n",
    "\n",
    "df_all_v = df_all_v.reindex(columns=desired_order)"
   ]
  },
  {
   "attachments": {},
   "cell_type": "markdown",
   "metadata": {},
   "source": [
    "##### Distribution Ending Balances"
   ]
  },
  {
   "cell_type": "code",
   "execution_count": 16,
   "metadata": {},
   "outputs": [
    {
     "data": {
      "image/png": "[encoded data removed]",
      "text/plain": [
       "<Figure size 1400x900 with 1 Axes>"
      ]
     },
     "metadata": {},
     "output_type": "display_data"
    }
   ],
   "source": [
    "# Save dataframe to paquet file\n",
    "df_all_v.to_parquet('/Users/mau/Library/CloudStorage/Dropbox/Mac/Documents/Dissertation/Chapter 2/Entire_Data/By month/'+month_file+'/Ending Balances/Per_Player/per_player_ending_balance_by_visit.parquet')\n",
    "\n",
    "# print(df_all_v.head(2))\n",
    "\n",
    "# Create scatterplot of ending balance by visit\n",
    "f = sns.FacetGrid(df_all_v, col='visit', col_wrap=3, height=4, aspect=1.5)\n",
    "f.map(sns.stripplot, 'age_range', 'ending_balance', 'percentile', hue_order=['Bottom 20%', 'Top 20%'], order=['18-24', '25-40', '41-55', '56-75', '76+'], palette=\"tab10\")\n",
    "f.add_legend()\n",
    "f.set_titles('{col_name}')\n",
    "f.set_axis_labels('Age Range', '($) Ending Balance')\n",
    "f.fig.suptitle('Ending Balance by Visit', fontsize=12)\n",
    "\n",
    "f.fig.set_size_inches(14, 9)\n"
   ]
  },
  {
   "cell_type": "code",
   "execution_count": 17,
   "metadata": {},
   "outputs": [
    {
     "name": "stdout",
     "output_type": "stream",
     "text": [
      "Outlier Players with gains greater than $10,000:\n",
      "Empty DataFrame\n",
      "Columns: [playerkey, rank, ending_balance, percentile]\n",
      "Index: []\n",
      "Outlier Players with losses greater than $10,000:\n",
      "Empty DataFrame\n",
      "Columns: [playerkey, rank, ending_balance, percentile]\n",
      "Index: []\n"
     ]
    },
    {
     "data": {
      "image/png": "[encoded data removed]",
      "text/plain": [
       "<Figure size 1400x1000 with 1 Axes>"
      ]
     },
     "metadata": {},
     "output_type": "display_data"
    }
   ],
   "source": [
    "# Outliers - Players who make over the cut_off\n",
    "df_no_outliers_v = pf.remove_outliers(df_all_v, cut_off=cut_off)\n",
    "\n",
    "# Save dataframe to paquet file\n",
    "df_no_outliers_v.to_parquet('/Users/mau/Library/CloudStorage/Dropbox/Mac/Documents/Dissertation/Chapter 2/Entire_Data/By month/'+month_file+'/Ending Balances/Per_Player/per_player_ending_balance_by_visit_NO.parquet')\n",
    "\n",
    "# Create scatterplot of ending balance by visit\n",
    "f = sns.FacetGrid(df_no_outliers_v, col='visit', col_wrap=3, height=4, aspect=1.5)\n",
    "f.map(sns.stripplot, 'age_range', 'ending_balance', 'percentile', hue_order=['Bottom 20%', 'Top 20%'], order=['18-24', '25-40', '41-55', '56-75', '76+'], palette=\"tab10\")\n",
    "f.add_legend()\n",
    "f.set_titles('{col_name}')\n",
    "f.set_axis_labels('Age Range', '($) Ending Balance')\n",
    "f.fig.suptitle('Ending Balance by Visit', fontsize=12)\n",
    "f.fig.set_size_inches(14, 10)\n"
   ]
  },
  {
   "attachments": {},
   "cell_type": "markdown",
   "metadata": {},
   "source": [
    "##### Overall Gains/Loses"
   ]
  },
  {
   "cell_type": "code",
   "execution_count": 18,
   "metadata": {},
   "outputs": [
    {
     "name": "stdout",
     "output_type": "stream",
     "text": [
      "With Outliers present:\n",
      "gender  percentile\n",
      "F       Bottom 20%     -59.629997\n",
      "        Top 20%      -1116.820190\n",
      "M       Bottom 20%    -882.929993\n",
      "        Top 20%       1361.430054\n",
      "Name: ending_balance, dtype: float32\n",
      "-------------------------------------------------------\n",
      "visit  gender  percentile\n",
      "1      F       Bottom 20%     -59.629997\n",
      "               Top 20%      -1116.820190\n",
      "       M       Bottom 20%    -882.929993\n",
      "               Top 20%       1361.430054\n",
      "Name: ending_balance, dtype: float32\n",
      "-------------------------------------------------------\n",
      "rank  percentile\n",
      "1.0   Bottom 20%     -68.910004\n",
      "      Top 20%         14.849995\n",
      "2.0   Bottom 20%     -55.349998\n",
      "      Top 20%       1519.310059\n",
      "3.0   Bottom 20%    -691.809998\n",
      "      Top 20%       -867.930115\n",
      "6.0   Bottom 20%    -126.489990\n",
      "      Top 20%       -421.619995\n",
      "Name: ending_balance, dtype: float32\n"
     ]
    }
   ],
   "source": [
    "# With Outliers Present\n",
    "combined_data = pf.merge_dfs_overall(data_t=df_top_20, data_b=df_bottom_20, grouping='visit', cut_off=cut_off, print_results=True, outliers=True)\n",
    "\n",
    "# Save to parquet file\n",
    "combined_data.to_parquet('/Users/mau/Library/CloudStorage/Dropbox/Mac/Documents/Dissertation/Chapter 2/Entire_Data/By month/'+month_file+'/Ending Balances/Overall/overall_ending_balance_by_visit.parquet')"
   ]
  },
  {
   "cell_type": "code",
   "execution_count": 19,
   "metadata": {},
   "outputs": [
    {
     "name": "stdout",
     "output_type": "stream",
     "text": [
      "Bottom 20%\n",
      "Outlier Players with gains greater than $10,000:\n",
      "Empty DataFrame\n",
      "Columns: [playerkey, age_range, gender, ending_balance]\n",
      "Index: []\n",
      "Outlier Players with losses greater than $10,000:\n",
      "Empty DataFrame\n",
      "Columns: [playerkey, age_range, gender, ending_balance]\n",
      "Index: []\n",
      "[]\n",
      "-----------------------------------------------------------------\n",
      "Top 20%\n",
      "Outlier Players with gains greater than $10,000:\n",
      "Empty DataFrame\n",
      "Columns: [playerkey, rank, age_range, gender, ending_balance]\n",
      "Index: []\n",
      "Outlier Players with losses greater than $10,000:\n",
      "Empty DataFrame\n",
      "Columns: [playerkey, rank, age_range, gender, ending_balance]\n",
      "Index: []\n",
      "[]\n",
      "Without Outliers present:\n",
      "                   ending_balance\n",
      "gender percentile                \n",
      "F      Bottom 20%      -59.629997\n",
      "       Top 20%       -1116.820190\n",
      "M      Bottom 20%     -882.929993\n",
      "       Top 20%        1361.430054\n",
      "-------------------------------------------------------\n",
      "                         ending_balance\n",
      "visit gender percentile                \n",
      "1     F      Bottom 20%      -59.629997\n",
      "             Top 20%       -1116.820190\n",
      "      M      Bottom 20%     -882.929993\n",
      "             Top 20%        1361.430054\n",
      "-------------------------------------------------------\n",
      "                 ending_balance\n",
      "rank percentile                \n",
      "1.0  Bottom 20%      -68.910004\n",
      "     Top 20%          14.849995\n",
      "2.0  Bottom 20%      -55.349998\n",
      "     Top 20%        1519.310059\n",
      "3.0  Bottom 20%     -691.809998\n",
      "     Top 20%        -867.930115\n",
      "6.0  Bottom 20%     -126.489990\n",
      "     Top 20%        -421.619995\n",
      "-------------------------------------------------------\n"
     ]
    }
   ],
   "source": [
    "# No Outliers\n",
    "combined_data_NO = pf.merge_dfs_overall(data_t=df_top_20, data_b=df_bottom_20, grouping='visit', cut_off=cut_off, print_results=True, outliers=False)\n",
    "\n",
    "# Save to parquet file\n",
    "combined_data_NO.to_parquet('/Users/mau/Library/CloudStorage/Dropbox/Mac/Documents/Dissertation/Chapter 2/Entire_Data/By month/'+month_file+'/Ending Balances/Overall/overall_ending_balance_by_visit_NO.parquet')"
   ]
  },
  {
   "cell_type": "code",
   "execution_count": null,
   "metadata": {},
   "outputs": [],
   "source": [
    "# Plot Gender divergent plot with outliers\n",
    "# pivot_plot(combined_data, 'gender', 'ending_balance', y_label= 'Gender', x_label='Amount Won/Lost', title= 'Overall Amount Won/Lost by Gender')\n",
    "\n",
    "# Plot Gender with no outliers\n",
    "pf.pivot_plot(combined_data_NO, 'gender', 'ending_balance', y_label= 'Gender', x_label='Amount Won/Lost', title= 'Overall Amount Won/Lost by Gender')\n"
   ]
  },
  {
   "cell_type": "code",
   "execution_count": null,
   "metadata": {},
   "outputs": [],
   "source": [
    "# Plot age_range with no outliers\n",
    "pf.pivot_plot(combined_data_NO, 'age_range', 'ending_balance', y_label= 'Age Range', x_label='Amount Won/Lost', title= 'Overall Amount Won/Lost by Age Range')\n"
   ]
  },
  {
   "cell_type": "code",
   "execution_count": null,
   "metadata": {},
   "outputs": [],
   "source": [
    "# Plot rank with no outliers\n",
    "pf.pivot_plot(combined_data_NO, 'rank', 'ending_balance', y_label= 'Rank', x_label='Amount Won/Lost', title= 'Overall Amount Won/Lost by Rank')\n"
   ]
  },
  {
   "attachments": {},
   "cell_type": "markdown",
   "metadata": {},
   "source": [
    "##### Per Vist Gains/Loses"
   ]
  },
  {
   "cell_type": "code",
   "execution_count": null,
   "metadata": {},
   "outputs": [],
   "source": [
    "# Plot divergent table by visit on 'gender'\n",
    "pf.pivot_plot_grouping(combined_data_NO, grouping='visit', y='gender', x='ending_balance', y_label= 'Gender', x_label= 'Amount Won/Lost', title='Visit', height=6)\n",
    "\n",
    "# See Numbers for each visit\n",
    "# print(combined_data_NO.groupby(['visit', 'percentile', 'gender']).sum(numeric_only=True))"
   ]
  },
  {
   "cell_type": "code",
   "execution_count": null,
   "metadata": {},
   "outputs": [],
   "source": [
    "# Plot divergent table by visit on 'age_range'\n",
    "pf.pivot_plot_grouping(combined_data_NO, grouping='visit', y='age_range', x='ending_balance', y_label= 'Age Range', x_label= 'Amount Won/Lost', title='Visit', height=6)\n",
    "\n",
    "# See Numbers for each visit\n",
    "# print(combined_data_NO.groupby(['visit', 'percentile', 'age_range']).sum(numeric_only=True))"
   ]
  },
  {
   "cell_type": "code",
   "execution_count": null,
   "metadata": {},
   "outputs": [],
   "source": [
    "# Plot divergent table by visit on 'rank'\n",
    "pf.pivot_plot_grouping(combined_data_NO, grouping='visit', y='rank', x='ending_balance', y_label= 'Rank', x_label= 'Amount Won/Lost', title='Visit', height=6)\n",
    "\n",
    "# See Numbers for each visit\n",
    "# print(combined_data_NO.groupby(['visit', 'percentile', 'rank']).sum(numeric_only=True))"
   ]
  },
  {
   "attachments": {},
   "cell_type": "markdown",
   "metadata": {},
   "source": [
    "#### Per Session"
   ]
  },
  {
   "cell_type": "code",
   "execution_count": 20,
   "metadata": {},
   "outputs": [
    {
     "name": "stdout",
     "output_type": "stream",
     "text": [
      "Total amount won or lost in each session_time bottom 20%:\n",
      "session_time\n",
      "1   -1040.050049\n",
      "2      -2.059996\n",
      "Name: playercashableamt, dtype: float32\n",
      "-------------------------------------------------------\n",
      "Total amount won or lost for each gender in bottom 20%:\n",
      "gender\n",
      "F   -159.179993\n",
      "M   -882.929993\n",
      "Name: playercashableamt, dtype: float32\n",
      "-------------------------------------------------------\n",
      "Total amount won or lost for each age range in bottom 20%:\n",
      "age_range\n",
      "18-24      0.000000\n",
      "25-40   -853.780029\n",
      "41-55   -212.580002\n",
      "56-75    -42.149998\n",
      "76+       66.400002\n",
      "Name: playercashableamt, dtype: float32\n",
      "-------------------------------------------------------\n",
      "Total amount won or lost for each rank in bottom 20%:\n",
      "rank\n",
      "1.0   -168.459991\n",
      "2.0    -55.349998\n",
      "3.0   -691.809998\n",
      "6.0   -126.489998\n",
      "Name: playercashableamt, dtype: float32\n",
      "-------------------------------------------------------\n",
      "Total amount won or lost in each session_time top 20%:\n",
      "session_time\n",
      "1    40420.839844\n",
      "2     1756.260010\n",
      "3       74.440025\n",
      "4      319.519989\n",
      "5      313.059998\n",
      "6       -6.680008\n",
      "Name: playercashableamt, dtype: float32\n",
      "-------------------------------------------------------\n",
      "Total amount won or lost for each genter in top 20%:\n",
      "gender\n",
      "F    40506.882812\n",
      "M     2370.560059\n",
      "Name: playercashableamt, dtype: float32\n",
      "-------------------------------------------------------\n",
      "Total amount won or lost for each age range in top 20%:\n",
      "age_range\n",
      "18-24        0.000000\n",
      "25-40     -476.500000\n",
      "41-55    41047.507812\n",
      "56-75     2228.340088\n",
      "76+         78.089996\n",
      "Name: playercashableamt, dtype: float32\n",
      "Total amount won or lost for each rank in top 20%:\n",
      "rank\n",
      "1.0     -180.919968\n",
      "2.0     2021.260010\n",
      "3.0    41401.152344\n",
      "6.0     -364.049988\n",
      "Name: playercashableamt, dtype: float32\n"
     ]
    }
   ],
   "source": [
    "df_all_s = pf.merge_dfs_per_player(data_t=df_top_20_s, data_b=df_bottom_20_s, grouping='session_time', print_results=True)"
   ]
  },
  {
   "cell_type": "code",
   "execution_count": 21,
   "metadata": {},
   "outputs": [
    {
     "name": "stdout",
     "output_type": "stream",
     "text": [
      "   index session_time playerkey\n",
      "0      0            1        90\n",
      "1      1            1        90\n",
      "2      2            1       144\n",
      "3      3            1       363\n",
      "4      4            1       475\n",
      "5      5            2        38\n",
      "   index session_time playerkey\n",
      "0      0            1        90\n",
      "2      2            1       144\n",
      "3      3            1       363\n",
      "4      4            1       475\n",
      "5      5            2        38\n"
     ]
    }
   ],
   "source": [
    "# Simultaneous Play\n",
    "df_b20_sim_s = pf.simultaneous_play(40000, df_bottom_20, 'session_time')\n",
    "df_t20_sim_s = pf.simultaneous_play(40000, df_top_20, 'session_time')\n",
    "\n",
    "# Concat the two dataframes\n",
    "df_sim_s = pd.concat([df_b20_sim_s, df_t20_sim_s]).reset_index()\n",
    "\n",
    "print(df_sim_s)\n",
    "# Remove repeated instances\n",
    "df_sim_no_repeat_s = df_sim_s.drop_duplicates(subset=['session_time', 'playerkey'])\n",
    "\n",
    "print(df_sim_no_repeat_s)"
   ]
  },
  {
   "cell_type": "code",
   "execution_count": 22,
   "metadata": {},
   "outputs": [
    {
     "name": "stdout",
     "output_type": "stream",
     "text": [
      "Index(['index', 'playerkey', 'session_time', 'rank', 'gender', 'age_range',\n",
      "       'age_gen', 'beginning_amt', 'ending_amt', 'ending_balance',\n",
      "       'ave_slotdenom', 'std_slotdenom', 'min_slotdenom', 'max_slotdenom',\n",
      "       'ave_theo_payback', 'min_theo_payback', 'max_theo_payback',\n",
      "       'ave_wageramt', 'std_wageramt', 'min_wager', 'max_wager', 'ave_p/b',\n",
      "       'std_p/b', 'max_p/b', 'max_profit', 'depletion_slope', '#inc_slotdenom',\n",
      "       '#dec_slotdenom', '#inc_maxbet', '#dec_maxbet', 'first_wager',\n",
      "       'first_outcome', 'first_p/b', 'last_wager', 'last_outcome', 'last_p/b',\n",
      "       'machines_changes', '#W', '#L', '#NH', '#D', 'w/g', 'l/g', 'nh/g',\n",
      "       'd/g', '#2ws', '2ws_profit', '2ws_wgramt', '#3ws', '3ws_profit',\n",
      "       '3ws_wgramt', '#4ws', '4ws_profit', '4ws_wgramt', 'ave_time_per_gamble',\n",
      "       'std_time_per_gamble', 'min_time_per_gamble', 'max_time_per_gamble',\n",
      "       'total_duration', 'total_gambles', 'unique_machines',\n",
      "       'ave_time_per_machine', 'w/min', 'l/min', 'nh/min', 'd/min', '2ws/min',\n",
      "       '3ws/min', '4ws/min', 'percentile', 'sim_play'],\n",
      "      dtype='object')\n"
     ]
    }
   ],
   "source": [
    "# Merge Sim play\n",
    "df_all_s['sim_play'] = df_all_s[['playerkey', 'session_time']].apply(lambda x: tuple(x) in set(map(tuple, df_sim_no_repeat_s[['playerkey', 'session_time']].values)), axis=1)\n",
    "\n",
    "print(df_all_s.columns)\n",
    "\n",
    "# # # Reorder Columns\n",
    "desired_order = ['playerkey', 'session_time', 'rank', 'gender', 'age_range', 'age_gen',\n",
    "                'beginning_amt', 'ending_amt', 'ending_balance', 'ave_slotdenom',\n",
    "                'std_slotdenom', 'min_slotdenom', 'max_slotdenom', 'ave_theo_payback',\n",
    "                'min_theo_payback', 'max_theo_payback', 'ave_wageramt', 'std_wageramt',\n",
    "                'min_wager', 'max_wager', 'ave_p/b', 'std_p/b', 'max_p/b', 'max_profit', 'depletion_slope',\n",
    "                '#inc_maxbet', '#dec_maxbet', 'first_wager', 'first_outcome', 'first_p/b', 'last_wager',\n",
    "                'last_outcome', 'last_p/b', '#W', '#L', '#NH', '#D', 'w/min', 'l/min', 'nh/min', 'd/min', \n",
    "                'w/g', 'l/g', 'nh/g', 'd/g', '#2ws', '2ws_profit', '2ws_wgramt', '#3ws', \n",
    "                '3ws_profit','3ws_wgramt', '#4ws', '4ws_profit', '4ws_wgramt', '2ws/min', '3ws/min', '4ws/min',\n",
    "                'ave_time_per_gamble', 'std_time_per_gamble', 'min_time_per_gamble', 'max_time_per_gamble',\n",
    "                'total_duration', 'total_gambles', 'machines_changes', '#inc_slotdenom', '#dec_slotdenom',\n",
    "                'unique_machines', 'ave_time_per_machine', 'sim_play','percentile']\n",
    "\n",
    "df_all_s = df_all_s.reindex(columns=desired_order)"
   ]
  },
  {
   "attachments": {},
   "cell_type": "markdown",
   "metadata": {},
   "source": [
    "##### Distribution Ending Balances"
   ]
  },
  {
   "cell_type": "code",
   "execution_count": 23,
   "metadata": {},
   "outputs": [
    {
     "data": {
      "text/plain": [
       "Text(0.5, 0.98, 'Ending Balance by Visit')"
      ]
     },
     "execution_count": 23,
     "metadata": {},
     "output_type": "execute_result"
    },
    {
     "data": {
      "image/png": "[encoded data removed]",
      "text/plain": [
       "<Figure size 1400x700 with 6 Axes>"
      ]
     },
     "metadata": {},
     "output_type": "display_data"
    }
   ],
   "source": [
    "# Save dataframe to paquet file\n",
    "df_all_s.to_parquet('/Users/mau/Library/CloudStorage/Dropbox/Mac/Documents/Dissertation/Chapter 2/Entire_Data/By month/'+month_file+'/Ending Balances/Per_Player/per_player_ending_balance_by_session.parquet')\n",
    "\n",
    "# Create scatterplot of ending balance by visit\n",
    "f = sns.FacetGrid(df_all_s, col='session_time', col_wrap=3, height=4, aspect=1.5)\n",
    "f.map(sns.stripplot, 'age_range', 'ending_balance', 'percentile', hue_order=['Bottom 20%', 'Top 20%'], order=['18-24', '25-40', '41-55', '56-75', '76+'], palette=\"tab10\")\n",
    "f.add_legend()\n",
    "f.set_titles('{col_name}')\n",
    "f.set_axis_labels('Age Range', '($) Ending Balance')\n",
    "# Set y-axis on a log scale\n",
    "# f.set(yscale='log')\n",
    "f.fig.set_size_inches(14, 7)\n",
    "f.fig.suptitle('Ending Balance by Visit', fontsize=12)\n"
   ]
  },
  {
   "cell_type": "code",
   "execution_count": 24,
   "metadata": {},
   "outputs": [
    {
     "name": "stdout",
     "output_type": "stream",
     "text": [
      "Outlier Players with gains greater than $10,000:\n",
      "     playerkey  rank  ending_balance percentile\n",
      "142        264   3.0    38614.140625    Top 20%\n",
      "Outlier Players with losses greater than $10,000:\n",
      "Empty DataFrame\n",
      "Columns: [playerkey, rank, ending_balance, percentile]\n",
      "Index: []\n"
     ]
    },
    {
     "data": {
      "text/plain": [
       "Text(0.5, 0.98, 'Ending Balance by Session')"
      ]
     },
     "execution_count": 24,
     "metadata": {},
     "output_type": "execute_result"
    },
    {
     "data": {
      "image/png": "[encoded data removed]",
      "text/plain": [
       "<Figure size 1400x700 with 6 Axes>"
      ]
     },
     "metadata": {},
     "output_type": "display_data"
    }
   ],
   "source": [
    "# Outliers - Players who make over the cut_off\n",
    "df_no_outliers_s = pf.remove_outliers(df_all_s, cut_off=cut_off)\n",
    "# Save dataframe to paquet file\n",
    "df_no_outliers_s.to_parquet('/Users/mau/Library/CloudStorage/Dropbox/Mac/Documents/Dissertation/Chapter 2/Entire_Data/By month/'+month_file+'/Ending Balances/Per_Player/per_player_ending_balance_by_session_NO.parquet')\n",
    "\n",
    "# Create scatterplot of ending balance by visit\n",
    "f = sns.FacetGrid(df_no_outliers_s, col='session_time', col_wrap=3, height=4, aspect=1.5)\n",
    "f.map(sns.stripplot, 'age_range', 'ending_balance', 'percentile', hue_order=['Bottom 20%', 'Top 20%'], order=['18-24', '25-40', '41-55', '56-75', '76+'], palette=\"tab10\")\n",
    "f.add_legend()\n",
    "f.set_titles('{col_name}')\n",
    "f.set_axis_labels('Age Range', '($) Ending Balance')\n",
    "# Set y-axis on a log scale\n",
    "# f.set(yscale='log')\n",
    "f.fig.set_size_inches(14, 7)\n",
    "f.fig.suptitle('Ending Balance by Session', fontsize=12)\n"
   ]
  },
  {
   "attachments": {},
   "cell_type": "markdown",
   "metadata": {},
   "source": [
    "##### Overall Gains/Loses"
   ]
  },
  {
   "cell_type": "code",
   "execution_count": 25,
   "metadata": {},
   "outputs": [
    {
     "name": "stdout",
     "output_type": "stream",
     "text": [
      "With Outliers present:\n",
      "gender  percentile\n",
      "F       Bottom 20%     -159.179993\n",
      "        Top 20%       40506.878906\n",
      "M       Bottom 20%     -882.929993\n",
      "        Top 20%        2370.560059\n",
      "Name: ending_balance, dtype: float32\n",
      "-------------------------------------------------------\n",
      "session_time  gender  percentile\n",
      "1             F       Bottom 20%     -157.119995\n",
      "                      Top 20%       39262.929688\n",
      "              M       Bottom 20%     -882.929993\n",
      "                      Top 20%        1157.910034\n",
      "2             F       Bottom 20%       -2.059996\n",
      "                      Top 20%        1343.520020\n",
      "              M       Bottom 20%        0.000000\n",
      "                      Top 20%         412.739929\n",
      "3             F       Top 20%        -199.550003\n",
      "              M       Top 20%         273.990021\n",
      "4             F       Top 20%          39.750000\n",
      "              M       Top 20%         279.769989\n",
      "5             F       Top 20%           4.860000\n",
      "              M       Top 20%         308.200012\n",
      "6             F       Top 20%          55.369995\n",
      "              M       Top 20%         -62.050003\n",
      "Name: ending_balance, dtype: float32\n",
      "-------------------------------------------------------\n",
      "rank  percentile\n",
      "1.0   Bottom 20%     -168.459991\n",
      "      Top 20%        -180.919983\n",
      "2.0   Bottom 20%      -55.349998\n",
      "      Top 20%        2021.260010\n",
      "3.0   Bottom 20%     -691.809998\n",
      "      Top 20%       41401.152344\n",
      "6.0   Bottom 20%     -126.489990\n",
      "      Top 20%        -364.049988\n",
      "Name: ending_balance, dtype: float32\n"
     ]
    }
   ],
   "source": [
    "# With Outliers Present\n",
    "combined_data_s = pf.merge_dfs_overall(data_t=df_top_20_s, data_b=df_bottom_20_s, grouping='session_time', cut_off=cut_off, print_results=True, outliers=True)\n",
    "\n",
    "# Save to parquet file\n",
    "combined_data_s.to_parquet('/Users/mau/Library/CloudStorage/Dropbox/Mac/Documents/Dissertation/Chapter 2/Entire_Data/By month/'+month_file+'/Ending Balances/Overall/overall_ending_balance_by_session.parquet')"
   ]
  },
  {
   "cell_type": "code",
   "execution_count": 26,
   "metadata": {},
   "outputs": [
    {
     "name": "stdout",
     "output_type": "stream",
     "text": [
      "Bottom 20%\n",
      "Outlier Players with gains greater than $10,000:\n",
      "Empty DataFrame\n",
      "Columns: [playerkey, age_range, gender, ending_balance]\n",
      "Index: []\n",
      "Outlier Players with losses greater than $10,000:\n",
      "Empty DataFrame\n",
      "Columns: [playerkey, age_range, gender, ending_balance]\n",
      "Index: []\n",
      "[]\n",
      "-----------------------------------------------------------------\n",
      "Top 20%\n",
      "Outlier Players with gains greater than $10,000:\n",
      "       playerkey  rank age_range gender  ending_balance\n",
      "45072        264   3.0     41-55      F    38614.140625\n",
      "Outlier Players with losses greater than $10,000:\n",
      "Empty DataFrame\n",
      "Columns: [playerkey, rank, age_range, gender, ending_balance]\n",
      "Index: []\n",
      "[264]\n",
      "Without Outliers present:\n",
      "                   ending_balance\n",
      "gender percentile                \n",
      "F      Bottom 20%     -159.179993\n",
      "       Top 20%        1042.739868\n",
      "M      Bottom 20%     -882.929993\n",
      "       Top 20%        2370.560059\n",
      "-------------------------------------------------------\n",
      "                                ending_balance\n",
      "session_time gender percentile                \n",
      "1            F      Bottom 20%     -157.119995\n",
      "                    Top 20%         648.789978\n",
      "             M      Bottom 20%     -882.929993\n",
      "                    Top 20%        1157.910034\n",
      "2            F      Bottom 20%       -2.059996\n",
      "                    Top 20%         493.520020\n",
      "             M      Bottom 20%        0.000000\n",
      "                    Top 20%         412.739929\n",
      "3            F      Top 20%        -199.550003\n",
      "             M      Top 20%         273.990021\n",
      "4            F      Top 20%          39.750000\n",
      "             M      Top 20%         279.769989\n",
      "5            F      Top 20%           4.860000\n",
      "             M      Top 20%         308.200012\n",
      "6            F      Top 20%          55.369995\n",
      "             M      Top 20%         -62.050003\n",
      "-------------------------------------------------------\n",
      "                 ending_balance\n",
      "rank percentile                \n",
      "1.0  Bottom 20%     -168.459991\n",
      "     Top 20%        -180.919983\n",
      "2.0  Bottom 20%      -55.349998\n",
      "     Top 20%        2021.260010\n",
      "3.0  Bottom 20%     -691.809998\n",
      "     Top 20%        1937.010010\n",
      "6.0  Bottom 20%     -126.489990\n",
      "     Top 20%        -364.049988\n",
      "-------------------------------------------------------\n"
     ]
    }
   ],
   "source": [
    "# No Outliers\n",
    "combined_data_s_NO = pf.merge_dfs_overall(data_t=df_top_20_s, data_b=df_bottom_20_s, grouping='session_time', cut_off=cut_off, print_results=True, outliers=False)\n",
    "\n",
    "# Save to parquet file\n",
    "combined_data_s_NO.to_parquet('/Users/mau/Library/CloudStorage/Dropbox/Mac/Documents/Dissertation/Chapter 2/Entire_Data/By month/'+month_file+'/Ending Balances/Overall/overall_ending_balance_by_session_NO.parquet')"
   ]
  },
  {
   "cell_type": "code",
   "execution_count": null,
   "metadata": {},
   "outputs": [],
   "source": [
    "# Plot Gender with no outliers\n",
    "pf.pivot_plot(combined_data_s_NO, 'gender', 'ending_balance', y_label= 'Gender', x_label='Amount Won/Lost', title= 'Overall Amount Won/Lost by Gender')"
   ]
  },
  {
   "cell_type": "code",
   "execution_count": null,
   "metadata": {},
   "outputs": [],
   "source": [
    "# Plot age_range with no outliers\n",
    "pf.pivot_plot(combined_data_s_NO, 'age_range', 'ending_balance', y_label= 'Age Range', x_label='Amount Won/Lost', title= 'Overall Amount Won/Lost by Age Range')"
   ]
  },
  {
   "cell_type": "code",
   "execution_count": null,
   "metadata": {},
   "outputs": [],
   "source": [
    "# Plot rank with no outliers\n",
    "pf.pivot_plot(combined_data_s_NO, 'rank', 'ending_balance', y_label= 'Rank', x_label='Amount Won/Lost', title= 'Overall Amount Won/Lost by Rank')"
   ]
  },
  {
   "attachments": {},
   "cell_type": "markdown",
   "metadata": {},
   "source": [
    "##### Per Sessions Gains/Loses"
   ]
  },
  {
   "cell_type": "code",
   "execution_count": null,
   "metadata": {},
   "outputs": [],
   "source": [
    "# Plot divergent table by visit on 'gender'\n",
    "pf.pivot_plot_grouping(combined_data_s_NO, grouping='session_time', y='gender', x='ending_balance', y_label= 'Gender', x_label= 'Amount Won/Lost', title='Session', height=7)\n",
    "\n",
    "# See Numbers for each visit\n",
    "# print(combined_data_s_NO.groupby(['session_time', 'percentile', 'gender']).sum(numeric_only=True))"
   ]
  },
  {
   "cell_type": "code",
   "execution_count": null,
   "metadata": {},
   "outputs": [],
   "source": [
    "# Plot divergent table by visit on 'age_range'\n",
    "pf.pivot_plot_grouping(combined_data_s_NO, grouping='session_time', y='age_range', x='ending_balance', y_label= 'Age Range', x_label= 'Amount Won/Lost', title='Session', height=7)\n",
    "\n",
    "# See Numbers for each visit\n",
    "# print(combined_data_s_NO.groupby(['session_time', 'percentile', 'age_range']).sum(numeric_only=True))\n"
   ]
  },
  {
   "cell_type": "code",
   "execution_count": null,
   "metadata": {},
   "outputs": [],
   "source": [
    "# Plot divergent table by visit on 'rank'\n",
    "pf.pivot_plot_grouping(combined_data_s_NO, grouping='session_time', y='rank', x='ending_balance', y_label= 'Rank', x_label= 'Amount Won/Lost', title='Session', height=7)\n",
    "\n",
    "# See Numbers for each visit\n",
    "# print(combined_data_s_NO.groupby(['session_time', 'percentile', 'rank']).sum(numeric_only=True))\n"
   ]
  }
 ],
 "metadata": {
  "kernelspec": {
   "display_name": "Python 3",
   "language": "python",
   "name": "python3"
  },
  "language_info": {
   "codemirror_mode": {
    "name": "ipython",
    "version": 3
   },
   "file_extension": ".py",
   "mimetype": "text/x-python",
   "name": "python",
   "nbconvert_exporter": "python",
   "pygments_lexer": "ipython3",
   "version": "3.10.0"
  },
  "orig_nbformat": 4
 },
 "nbformat": 4,
 "nbformat_minor": 2
}
