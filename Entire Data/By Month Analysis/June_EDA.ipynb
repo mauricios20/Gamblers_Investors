{
 "cells": [
  {
   "attachments": {},
   "cell_type": "markdown",
   "metadata": {},
   "source": [
    "# Exploratory Data Analysis\n",
    "\n",
    "We are going to be looking for patterns in players who only played in the month of June. This is with the purpose to distinguish players between short and long positions, and the reasons why they hold this positions. "
   ]
  },
  {
   "cell_type": "code",
   "execution_count": 55,
   "metadata": {},
   "outputs": [],
   "source": [
    "# import all necesary libraries for the project\n",
    "import pandas as pd\n",
    "import os\n",
    "import numpy as np\n",
    "import matplotlib.pyplot as plt\n",
    "import seaborn as sns\n",
    "import datetime as dt\n",
    "import warnings\n",
    "warnings.filterwarnings('ignore')\n"
   ]
  },
  {
   "cell_type": "code",
   "execution_count": 56,
   "metadata": {},
   "outputs": [
    {
     "data": {
      "text/plain": [
       "Index(['playerkey', 'playercashableamt', 'wageredamt', 'maxbet', 'grosswin',\n",
       "       'currencyinamt', 'assetnumber', 'theoreticalpaybackpercent', 'age',\n",
       "       'rank', 'gender', 'date', 'start_time', 'end_time', 'duration',\n",
       "       'slotdenomination'],\n",
       "      dtype='object')"
      ]
     },
     "execution_count": 56,
     "metadata": {},
     "output_type": "execute_result"
    }
   ],
   "source": [
    "# Define working directory\n",
    "path = \"/Users/mau/Library/CloudStorage/Dropbox/Mac/Documents/Dissertation/Chapter 2/Entire_Data/By month\"\n",
    "os.chdir(path)\n",
    "\n",
    "# Filter Columns\n",
    "filter = ['playerkey', 'playercashableamt', 'wageredamt', 'maxbet', 'grosswin',\n",
    "       'currencyinamt', 'assetnumber', 'theoreticalpaybackpercent', \n",
    "       'age', 'rank', 'gender', 'date', 'start_time', 'end_time', 'duration',\n",
    "       'slotdenomination']\n",
    "# Import data\n",
    "dtf = pd.read_parquet('month_6_year_2015.parquet', columns=filter)\n",
    "\n",
    "# Check data\n",
    "dtf.columns"
   ]
  },
  {
   "cell_type": "code",
   "execution_count": 51,
   "metadata": {},
   "outputs": [],
   "source": [
    "# Sort data by start_time and playerkey\n",
    "dtf = dtf.sort_values(by=['playerkey', 'date', 'start_time'])"
   ]
  },
  {
   "attachments": {},
   "cell_type": "markdown",
   "metadata": {},
   "source": [
    "## Calculate Foundamental Variables\n",
    "\n",
    "The following variables were calculated using existing data:\n",
    "* _player_loss_: how much money each player has lost in each gamble.\n",
    "* _player_wins_: equals the amount of money they bet plus how much they won.\n",
    "* _percent_return_: the return in player's bets for each gamble played. \n",
    "\n",
    "$$\\text{percent return} = (\\frac{df[wins] - df[wageredamt]}{df[wageredamt]})*100$$\n",
    "\n",
    "* _playercashableamt_pct_change_: calculates the rate of change of player's outstanding gambling amount. \n",
    "\n",
    "$$\\text{playercashableamt \\% change} = (\\frac{df[playercashableamt_{t+1}] - df[playercashableamt_{t}]}{df[playercashableamt_{t}]})*100$$"
   ]
  },
  {
   "cell_type": "code",
   "execution_count": 57,
   "metadata": {},
   "outputs": [],
   "source": [
    "# Crate a new colum that is the inverse of casino_grosswin, named \"player_loss\"\n",
    "dtf[\"player_loss\"] = dtf[\"grosswin\"] * -1\n",
    "\n",
    "# how much each player wins\n",
    "dtf['player_wins'] = dtf['wageredamt'] + dtf['player_loss']\n",
    "\n",
    "# Calculate percentage return for each gamble and add it as a new column\n",
    "dtf[\"percent_return\"] = (dtf[\"player_wins\"] - dtf[\"wageredamt\"]) / dtf[\"wageredamt\"] * 100\n",
    "\n",
    "# Calculate the percent rate of change of playerscashableamt per playerkey\n",
    "dtf[\"playercashableamt_pct_change\"] = dtf.groupby(\"playerkey\")[\"playercashableamt\"].pct_change()\n",
    "# Print the first 5 rows of the DataFrame\n",
    "\n",
    "# Create a time series variable for each player that starts at 1 and increases by 1 for each row\n",
    "dtf[\"gambles\"] = dtf.groupby(\"playerkey\").cumcount() + 1\n"
   ]
  },
  {
   "cell_type": "code",
   "execution_count": 58,
   "metadata": {},
   "outputs": [],
   "source": [
    "# Group the DataFrame by playerkey\n",
    "groups = dtf.groupby('playerkey')\n",
    "\n",
    "# Initialize the visit column to 1 for the first visit of each player\n",
    "dtf['visit'] = groups['date'].transform(lambda x: (x.diff().dt.days >= 1).cumsum() + 1)\n",
    "\n",
    "# Reset the visit count for each new player\n",
    "dtf['visit'] = dtf.groupby('playerkey')['visit'].apply(lambda x: x - x.iloc[0] + 1)\n"
   ]
  },
  {
   "cell_type": "code",
   "execution_count": 62,
   "metadata": {},
   "outputs": [],
   "source": [
    "# Convert the start_time column to datetime\n",
    "dtf[\"start_time\"] = pd.to_datetime(dtf[\"start_time\"])\n",
    "\n",
    "# Compute the time difference between consecutive gambles for each player\n",
    "dtf['time_diff'] = dtf.groupby('playerkey')['start_time'].diff()\n",
    "\n",
    "# Initialize the session_time column to 1 for the first gamble of each player\n",
    "dtf['session_time'] = dtf.groupby('playerkey').ngroup() + 1\n",
    "\n",
    "# Update the session_time column based on the time difference\n",
    "dtf['session_time'] += (dtf['time_diff'] > pd.Timedelta(minutes=30)).cumsum()\n",
    "\n",
    "# Reset the session_time count for each new visit\n",
    "dtf['session_time'] = dtf.groupby(['playerkey', 'visit'])['session_time'].apply(lambda x: x - x.iloc[0] + 1)\n",
    "\n",
    "# Remove the temporary time_diff column\n",
    "dtf = dtf.drop('time_diff', axis=1)"
   ]
  },
  {
   "cell_type": "code",
   "execution_count": 71,
   "metadata": {},
   "outputs": [],
   "source": [
    "# Initialize the session_machine column to 1 for the first machine of each player\n",
    "dtf['session_machine'] = (dtf.groupby(\"playerkey\")[\"assetnumber\"].diff() != 0).cumsum()\n",
    "\n",
    "# Reset the session_machine count for each new visit\n",
    "dtf['session_machine'] = dtf.groupby(['playerkey', 'visit'])['session_machine'].apply(lambda x: x - x.iloc[0] + 1)\n"
   ]
  },
  {
   "attachments": {},
   "cell_type": "markdown",
   "metadata": {},
   "source": [
    "## Frequency of Gambles\n",
    "\n",
    "Let's see who plays the most, the least, and the min, max, average, and median number of gambles "
   ]
  },
  {
   "cell_type": "code",
   "execution_count": 27,
   "metadata": {},
   "outputs": [
    {
     "name": "stdout",
     "output_type": "stream",
     "text": [
      "Total number of players: 282\n",
      "Total number of gambles: 78246\n",
      "--------------------------------------------\n",
      "Maximimum # of gambles of a single player: 3107\n",
      "Player who gambled the most: 33\n",
      "--------------------------------------------\n",
      "Minimum # of gambles of a single player: 1\n",
      "Player who gambled the least: 15\n",
      "--------------------------------------------\n",
      "Median # of gambles of all players: 150.0\n",
      "Number of players who played exactly 150 times: 3\n",
      "Number of players who gambled less than 150 times: 140\n",
      "Number of players who gambled more than 150 times: 139\n",
      "--------------------------------------------\n",
      "Average # of gambles of all players: 277.47\n",
      "Number of players who gambled at least 278 times: 87\n"
     ]
    }
   ],
   "source": [
    "# Total number of players\n",
    "print(\"Total number of players:\", dtf[\"playerkey\"].nunique())\n",
    "\n",
    "# Total number of gambles\n",
    "print(\"Total number of gambles:\", dtf.groupby('playerkey')['gambles'].max().sum())\n",
    "\n",
    "print(\"--------------------------------------------\")\n",
    "# What is the maximum number of periods played by each player?\n",
    "print(\"Maximimum # of gambles of a single player:\", dtf.groupby('playerkey')['gambles'].max().max())\n",
    "\n",
    "#Who is the player with the maximum number of periods played?\n",
    "print(\"Player who gambled the most:\", dtf.groupby('playerkey')['gambles'].max().idxmax())\n",
    "\n",
    "print(\"--------------------------------------------\")\n",
    "\n",
    "# What is the minimum number of periods played by each player?\n",
    "print(\"Minimum # of gambles of a single player:\", dtf.groupby('playerkey')['gambles'].max().min())\n",
    "\n",
    "#Who is the player with the minimum number of periods played?\n",
    "print(\"Player who gambled the least:\", dtf.groupby('playerkey')['gambles'].max().idxmin())\n",
    "\n",
    "print(\"--------------------------------------------\")\n",
    "\n",
    "# What is the median number of periods played by each player?\n",
    "print(\"Median # of gambles of all players:\", round(dtf.groupby('playerkey')['gambles'].max().median(), 2))\n",
    "\n",
    "# How many players played at least 150 gambles?\n",
    "print(\"Number of players who played exactly 150 times:\", dtf.groupby('playerkey')['gambles'].max()[dtf.groupby('playerkey')['gambles'].max() == 150].count())\n",
    "print(\"Number of players who gambled less than 150 times:\", dtf.groupby('playerkey')['gambles'].max()[dtf.groupby('playerkey')['gambles'].max() < 150].count())\n",
    "print(\"Number of players who gambled more than 150 times:\", dtf.groupby('playerkey')['gambles'].max()[dtf.groupby('playerkey')['gambles'].max() > 150].count())\n",
    "print(\"--------------------------------------------\")\n",
    "\n",
    "# What is the average number of periods played by each player?\n",
    "print(\"Average # of gambles of all players:\", round(dtf.groupby('playerkey')['gambles'].max().mean(), 2))\n",
    "\n",
    "# How many players played at least 278 gambles?\n",
    "print(\"Number of players who gambled at least 278 times:\", dtf.groupby('playerkey')['gambles'].max()[dtf.groupby('playerkey')['gambles'].max() >= 278].count())"
   ]
  }
 ],
 "metadata": {
  "kernelspec": {
   "display_name": "Python 3",
   "language": "python",
   "name": "python3"
  },
  "language_info": {
   "codemirror_mode": {
    "name": "ipython",
    "version": 3
   },
   "file_extension": ".py",
   "mimetype": "text/x-python",
   "name": "python",
   "nbconvert_exporter": "python",
   "pygments_lexer": "ipython3",
   "version": "3.10.0"
  },
  "orig_nbformat": 4
 },
 "nbformat": 4,
 "nbformat_minor": 2
}
