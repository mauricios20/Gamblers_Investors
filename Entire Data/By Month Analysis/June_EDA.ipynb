{
 "cells": [
  {
   "attachments": {},
   "cell_type": "markdown",
   "metadata": {},
   "source": [
    "# Exploratory Data Analysis\n",
    "\n",
    "We are going to be looking for patterns in players who only played in the month of June. This is with the purpose to distinguish players between short and long positions, and the reasons why they hold this positions. "
   ]
  },
  {
   "cell_type": "code",
   "execution_count": 55,
   "metadata": {},
   "outputs": [],
   "source": [
    "# import all necesary libraries for the project\n",
    "import pandas as pd\n",
    "import os\n",
    "import numpy as np\n",
    "import matplotlib.pyplot as plt\n",
    "import seaborn as sns\n",
    "import datetime as dt\n",
    "import warnings\n",
    "warnings.filterwarnings('ignore')\n"
   ]
  },
  {
   "cell_type": "code",
   "execution_count": 56,
   "metadata": {},
   "outputs": [
    {
     "data": {
      "text/plain": [
       "Index(['playerkey', 'playercashableamt', 'wageredamt', 'maxbet', 'grosswin',\n",
       "       'currencyinamt', 'assetnumber', 'theoreticalpaybackpercent', 'age',\n",
       "       'rank', 'gender', 'date', 'start_time', 'end_time', 'duration',\n",
       "       'slotdenomination'],\n",
       "      dtype='object')"
      ]
     },
     "execution_count": 56,
     "metadata": {},
     "output_type": "execute_result"
    }
   ],
   "source": [
    "# Define working directory\n",
    "path = \"/Users/mau/Library/CloudStorage/Dropbox/Mac/Documents/Dissertation/Chapter 2/Entire_Data/By month\"\n",
    "os.chdir(path)\n",
    "\n",
    "# Filter Columns\n",
    "filter = ['playerkey', 'playercashableamt', 'wageredamt', 'maxbet', 'grosswin',\n",
    "       'currencyinamt', 'assetnumber', 'theoreticalpaybackpercent', \n",
    "       'age', 'rank', 'gender', 'date', 'start_time', 'end_time', 'duration',\n",
    "       'slotdenomination']\n",
    "# Import data\n",
    "dtf = pd.read_parquet('month_6_year_2015.parquet', columns=filter)\n",
    "\n",
    "# Check data\n",
    "dtf.columns"
   ]
  },
  {
   "cell_type": "code",
   "execution_count": 51,
   "metadata": {},
   "outputs": [],
   "source": [
    "# Sort data by start_time and playerkey\n",
    "dtf = dtf.sort_values(by=['playerkey', 'date', 'start_time'])"
   ]
  },
  {
   "attachments": {},
   "cell_type": "markdown",
   "metadata": {},
   "source": [
    "## Calculate Foundamental Variables\n",
    "\n",
    "The following variables were calculated using existing data:\n",
    "* _player_loss_: how much money each player has lost in each gamble.\n",
    "* _player_wins_: equals the amount of money they bet plus how much they won.\n",
    "* _percent_return_: the return in player's bets for each gamble played. \n",
    "\n",
    "$$\\text{percent return} = (\\frac{df[wins] - df[wageredamt]}{df[wageredamt]})*100$$\n",
    "\n",
    "* _playercashableamt_pct_change_: calculates the rate of change of player's outstanding gambling amount. \n",
    "\n",
    "$$\\text{playercashableamt \\% change} = (\\frac{df[playercashableamt_{t+1}] - df[playercashableamt_{t}]}{df[playercashableamt_{t}]})*100$$"
   ]
  },
  {
   "cell_type": "code",
   "execution_count": 90,
   "metadata": {},
   "outputs": [],
   "source": [
    "# Crate a new colum that is the inverse of casino_grosswin, named \"player_loss\"\n",
    "dtf[\"player_loss\"] = dtf[\"grosswin\"] * -1\n",
    "\n",
    "# how much each player wins\n",
    "dtf['player_wins'] = dtf['wageredamt'] + dtf['player_loss']\n",
    "\n",
    "# Calculate percentage return for each gamble and add it as a new column\n",
    "dtf[\"percent_return\"] = (dtf[\"player_wins\"] - dtf[\"wageredamt\"]) / dtf[\"wageredamt\"] * 100\n",
    "\n",
    "# Calculate the percent rate of change of playerscashableamt per playerkey\n",
    "dtf[\"playercashableamt_pct_change\"] = dtf.groupby(\"playerkey\")[\"playercashableamt\"].pct_change()\n",
    "# Print the first 5 rows of the DataFrame\n",
    "\n",
    "# Create a time series variable for each player that starts at 1 and increases by 1 for each row\n",
    "dtf[\"gambles\"] = dtf.groupby(\"playerkey\").cumcount() + 1\n"
   ]
  },
  {
   "attachments": {},
   "cell_type": "markdown",
   "metadata": {},
   "source": [
    "### Calulates Number of Visits"
   ]
  },
  {
   "cell_type": "code",
   "execution_count": 58,
   "metadata": {},
   "outputs": [],
   "source": [
    "# Group the DataFrame by playerkey\n",
    "groups = dtf.groupby('playerkey')\n",
    "\n",
    "# Initialize the visit column to 1 for the first visit of each player\n",
    "dtf['visit'] = groups['date'].transform(lambda x: (x.diff().dt.days >= 1).cumsum() + 1)\n",
    "\n",
    "# Reset the visit count for each new player\n",
    "dtf['visit'] = dtf.groupby('playerkey')['visit'].apply(lambda x: x - x.iloc[0] + 1)\n"
   ]
  },
  {
   "attachments": {},
   "cell_type": "markdown",
   "metadata": {},
   "source": [
    "### Calculate Sessions based on Time\n",
    "\n",
    "If there is a pause of 30 minutes or more between gambles it is considered the end of a session, and the start of a new one."
   ]
  },
  {
   "cell_type": "code",
   "execution_count": 89,
   "metadata": {},
   "outputs": [],
   "source": [
    "# Convert the start_time column to datetime\n",
    "dtf[\"start_time\"] = pd.to_datetime(dtf[\"start_time\"])\n",
    "\n",
    "# Sort data by start_time and playerkey\n",
    "dtf = dtf.sort_values(by=['playerkey', 'date', 'start_time'])\n",
    "\n",
    "# Compute the time difference between consecutive gambles for each player\n",
    "dtf['time_diff'] = dtf.groupby('playerkey')['start_time'].diff()\n",
    "\n",
    "# Initialize the session_time column to 1 for the first gamble of each player\n",
    "dtf['session_time'] = dtf.groupby('playerkey').ngroup() + 1\n",
    "\n",
    "# Update the session_time column based on the time difference\n",
    "dtf['session_time'] += (dtf['time_diff'] > pd.Timedelta(minutes=30)).cumsum()\n",
    "\n",
    "# Reset the session_time count for each new visit\n",
    "dtf['session_time'] = dtf.groupby(['playerkey', 'visit'])['session_time'].apply(lambda x: x - x.iloc[0] + 1)\n",
    "\n",
    "# Remove the temporary time_diff column\n",
    "dtf = dtf.drop('time_diff', axis=1)"
   ]
  },
  {
   "attachments": {},
   "cell_type": "markdown",
   "metadata": {},
   "source": [
    "### Calculate Sessions based on Machine Change\n",
    "\n",
    "Everytime a player switches machine a new sessions begins."
   ]
  },
  {
   "cell_type": "code",
   "execution_count": 91,
   "metadata": {},
   "outputs": [],
   "source": [
    "# Initialize the session_machine column to 1 for the first machine of each player\n",
    "dtf['session_machine'] = (dtf.groupby(\"playerkey\")[\"assetnumber\"].diff() != 0).cumsum()\n",
    "\n",
    "# Reset the session_machine count for each new visit\n",
    "dtf['session_machine'] = dtf.groupby(['playerkey', 'visit'])['session_machine'].apply(lambda x: x - x.iloc[0] + 1)\n"
   ]
  },
  {
   "attachments": {},
   "cell_type": "markdown",
   "metadata": {},
   "source": [
    "### Calculate the number of gambles per Visit"
   ]
  },
  {
   "cell_type": "code",
   "execution_count": 93,
   "metadata": {},
   "outputs": [],
   "source": [
    "# Create a column named \"gambles_visit\" that is the number of gambles per visit\n",
    "dtf[\"gambles_visit\"] = dtf.groupby([\"playerkey\", \"visit\"])[\"gambles\"].cumcount() + 1\n",
    "\n",
    "# Reset the gambles_visit count for each new visit\n",
    "dtf['gambles_visit'] = dtf.groupby(['playerkey', 'visit'])['gambles_visit'].apply(lambda x: x - x.iloc[0] + 1)\n"
   ]
  },
  {
   "attachments": {},
   "cell_type": "markdown",
   "metadata": {},
   "source": [
    "### Calculate the number of gambles per Session Time"
   ]
  },
  {
   "cell_type": "code",
   "execution_count": 94,
   "metadata": {},
   "outputs": [],
   "source": [
    "# Create a column named \"gambles_session\" that is the number of gambles per session\n",
    "dtf[\"gambles_session\"] = dtf.groupby([\"playerkey\", \"session_time\"])[\"gambles\"].cumcount() + 1\n",
    "\n",
    "# Reset the gambles_session count for each new session\n",
    "dtf['gambles_session'] = dtf.groupby(['playerkey', 'session_time'])['gambles_session'].apply(lambda x: x - x.iloc[0] + 1)\n"
   ]
  },
  {
   "attachments": {},
   "cell_type": "markdown",
   "metadata": {},
   "source": [
    "### Calculate the number of gambles per Session Machine"
   ]
  },
  {
   "cell_type": "code",
   "execution_count": 95,
   "metadata": {},
   "outputs": [],
   "source": [
    "# Create a column named \"gambles_machine\" that is the number of gambles per session_machine\n",
    "dtf[\"gambles_machine\"] = dtf.groupby([\"playerkey\", \"session_machine\"])[\"gambles\"].cumcount() + 1\n",
    "\n",
    "# Reset the gambles_machine count for each new session_machine\n",
    "dtf['gambles_machine'] = dtf.groupby(['playerkey', 'session_machine'])['gambles_machine'].apply(lambda x: x - x.iloc[0] + 1)"
   ]
  },
  {
   "attachments": {},
   "cell_type": "markdown",
   "metadata": {},
   "source": [
    "## Frequencies of Gambles\n",
    "\n",
    "### General\n",
    "\n",
    "Let's see who plays the most, the least, and the min, max, average, and median number of gambles withouth making a distictions between visits, sessions per time or machine."
   ]
  },
  {
   "cell_type": "code",
   "execution_count": 103,
   "metadata": {},
   "outputs": [
    {
     "name": "stdout",
     "output_type": "stream",
     "text": [
      "Total number of players: 282\n",
      "Total number of gambles: 78246\n",
      "--------------------------------------------\n",
      "Maximimum # of gambles of a single player: 3107\n",
      "Player who gambled the most: 33\n",
      "--------------------------------------------\n",
      "Minimum # of gambles of a single player: 1\n",
      "Player who gambled the least: 15\n",
      "--------------------------------------------\n",
      "Median # of gambles of all players: 150.0\n",
      "Number of players who played exactly 150 times: 3\n",
      "Number of players who gambled less than 150 times: 140\n",
      "Number of players who gambled more than 150 times: 139\n",
      "--------------------------------------------\n",
      "Most common # of gambles: [2, 15]\n",
      "Average # of gambles of all players: 277.47\n",
      "Number of players who gambled at least 278 times: 87\n"
     ]
    }
   ],
   "source": [
    "# Total number of players\n",
    "print(\"Total number of players:\", dtf[\"playerkey\"].nunique())\n",
    "\n",
    "# Total number of gambles\n",
    "print(\"Total number of gambles:\", dtf.groupby('playerkey')['gambles'].max().sum())\n",
    "\n",
    "print(\"--------------------------------------------\")\n",
    "# What is the maximum number of periods played by each player?\n",
    "print(\"Maximimum # of gambles of a single player:\", dtf.groupby('playerkey')['gambles'].max().max())\n",
    "\n",
    "#Who is the player with the maximum number of periods played?\n",
    "print(\"Player who gambled the most:\", dtf.groupby('playerkey')['gambles'].max().idxmax())\n",
    "\n",
    "print(\"--------------------------------------------\")\n",
    "\n",
    "# What is the minimum number of periods played by each player?\n",
    "print(\"Minimum # of gambles of a single player:\", dtf.groupby('playerkey')['gambles'].max().min())\n",
    "\n",
    "#Who is the player with the minimum number of periods played?\n",
    "print(\"Player who gambled the least:\", dtf.groupby('playerkey')['gambles'].max().idxmin())\n",
    "\n",
    "print(\"--------------------------------------------\")\n",
    "\n",
    "# What is the median number of periods played by each player?\n",
    "print(\"Median # of gambles of all players:\", round(dtf.groupby('playerkey')['gambles'].max().median(), 2))\n",
    "\n",
    "# How many players played at least 150 gambles?\n",
    "print(\"Number of players who played exactly 150 times:\", dtf.groupby('playerkey')['gambles'].max()[dtf.groupby('playerkey')['gambles'].max() == 150].count())\n",
    "print(\"Number of players who gambled less than 150 times:\", dtf.groupby('playerkey')['gambles'].max()[dtf.groupby('playerkey')['gambles'].max() < 150].count())\n",
    "print(\"Number of players who gambled more than 150 times:\", dtf.groupby('playerkey')['gambles'].max()[dtf.groupby('playerkey')['gambles'].max() > 150].count())\n",
    "print(\"--------------------------------------------\")\n",
    "\n",
    "# Most common # of gambles per person\n",
    "print(\"Most common # of gambles:\", dtf.groupby('playerkey')['gambles'].max().mode().tolist())\n",
    "\n",
    "# What is the average number of periods played by each player?\n",
    "print(\"Average # of gambles of all players:\", round(dtf.groupby('playerkey')['gambles'].max().mean(), 2))\n",
    "\n",
    "# How many players played at least 278 gambles?\n",
    "print(\"Number of players who gambled at least 278 times:\", dtf.groupby('playerkey')['gambles'].max()[dtf.groupby('playerkey')['gambles'].max() >= 278].count())"
   ]
  },
  {
   "attachments": {},
   "cell_type": "markdown",
   "metadata": {},
   "source": [
    "### Visits and Sessions"
   ]
  },
  {
   "cell_type": "code",
   "execution_count": 106,
   "metadata": {},
   "outputs": [
    {
     "name": "stdout",
     "output_type": "stream",
     "text": [
      "Average # of visits per player: 1.0\n",
      "Median # of visits per player: 1.0\n",
      "Most common # of visits per player: [1]\n",
      "--------------------------------------------\n",
      "Average # of gambles per visit: 277.47\n",
      "Median # of gambles per visit: 150.0\n",
      "Most common # of gambles per visit: [2, 15]\n",
      "--------------------------------------------\n",
      "Average # of gambles per session: 190.84\n",
      "Median # of gambles per session: 111.0\n",
      "Most common # of gambles per session: [23]\n",
      "--------------------------------------------\n",
      "Average # of gambles per session_machine: 25.36\n",
      "Median # of gambles per session_machine: 1.0\n",
      "Most common # of gambles per session_machine: [1]\n"
     ]
    }
   ],
   "source": [
    "# Calculate the average number of visitis per player\n",
    "print(\"Average # of visits per player:\", round(dtf.groupby('playerkey')['visit'].max().mean(), 2))\n",
    "\n",
    "# Calculate median number of visits per player\n",
    "print(\"Median # of visits per player:\", round(dtf.groupby('playerkey')['visit'].max().median(), 2))\n",
    "\n",
    "# Calculate the most common number of visits per player\n",
    "print(\"Most common # of visits per player:\", dtf.groupby('playerkey')['visit'].max().mode().tolist())\n",
    "\n",
    "# Seperation line\n",
    "print(\"--------------------------------------------\")\n",
    "\n",
    "# Calculate the average number of gambles per visit\n",
    "print(\"Average # of gambles per visit:\", round(dtf.groupby(['playerkey', 'visit'])['gambles_visit'].max().mean(), 2))\n",
    "\n",
    "# Calculate the median number of gambles per visit\n",
    "print(\"Median # of gambles per visit:\", round(dtf.groupby(['playerkey', 'visit'])['gambles_visit'].max().median(), 2))\n",
    "\n",
    "# Calculate the most common number of gambles per visit\n",
    "print(\"Most common # of gambles per visit:\", dtf.groupby(['playerkey', 'visit'])['gambles_visit'].max().mode().tolist())\n",
    "\n",
    "# Seperation line\n",
    "print(\"--------------------------------------------\")\n",
    "\n",
    "# Calculate the average number of gambles per session\n",
    "print(\"Average # of gambles per session:\", round(dtf.groupby(['playerkey', 'session_time'])['gambles_session'].max().mean(), 2))\n",
    "\n",
    "# Calculate the median number of gambles per session\n",
    "print(\"Median # of gambles per session:\", round(dtf.groupby(['playerkey', 'session_time'])['gambles_session'].max().median(), 2))\n",
    "\n",
    "# Calculate the most common number of gambles per session\n",
    "print(\"Most common # of gambles per session:\", dtf.groupby(['playerkey', 'session_time'])['gambles_session'].max().mode().tolist())\n",
    "\n",
    "# Seperation line\n",
    "print(\"--------------------------------------------\")\n",
    "\n",
    "# Calculate the average number of gambles per session_machine\n",
    "print(\"Average # of gambles per session_machine:\", round(dtf.groupby(['playerkey', 'session_machine'])['gambles_machine'].max().mean(), 2))\n",
    "\n",
    "# Calculate the median number of gambles per session_machine\n",
    "print(\"Median # of gambles per session_machine:\", round(dtf.groupby(['playerkey', 'session_machine'])['gambles_machine'].max().median(), 2))\n",
    "\n",
    "# Calculate the most common number of gambles per session_machine\n",
    "print(\"Most common # of gambles per session_machine:\", dtf.groupby(['playerkey', 'session_machine'])['gambles_machine'].max().mode().tolist())\n"
   ]
  },
  {
   "attachments": {},
   "cell_type": "markdown",
   "metadata": {},
   "source": [
    "## Durations\n",
    "\n",
    "### General\n",
    "\n",
    "Let's calculate avergae durtion of gambles."
   ]
  },
  {
   "cell_type": "code",
   "execution_count": 121,
   "metadata": {},
   "outputs": [
    {
     "name": "stdout",
     "output_type": "stream",
     "text": [
      "Total duration played: 4 days 10:37:28.306000\n",
      "Average duration played per player: 0 days 00:22:41.164205673\n",
      "Number of players who played more than the average duration: 92\n",
      "Number of players who played less than the average duration: 190\n",
      "--------------------------------------------\n",
      "Median duration played per player: 0 days 00:14:13.024500\n",
      "Number of players who played more than the median duration: 141\n",
      "Number of players who played less than the median duration: 141\n",
      "--------------------------------------------\n",
      "Minimum duration played per player: 0 days 00:00:03.970000\n",
      "Player with the minimum duration played: 465\n",
      "Maximum duration played per player: 0 days 02:34:25.548000\n",
      "Player with the maximum duration played: 33\n"
     ]
    }
   ],
   "source": [
    "# Calculate the total duration played\n",
    "print('Total duration played:', dtf['duration'].sum())\n",
    "\n",
    "# Calculate the average duration played per player\n",
    "print('Average duration played per player:', dtf.groupby('playerkey')['duration'].sum().mean())\n",
    "\n",
    "# How many players played for more than the average duration?\n",
    "print('Number of players who played more than the average duration:', dtf.groupby('playerkey')['duration'].sum()[dtf.groupby('playerkey')['duration'].sum() > dtf.groupby('playerkey')['duration'].sum().mean()].count())\n",
    "\n",
    "# How many players played for less than the average duration?\n",
    "print('Number of players who played less than the average duration:', dtf.groupby('playerkey')['duration'].sum()[dtf.groupby('playerkey')['duration'].sum() < dtf.groupby('playerkey')['duration'].sum().mean()].count())\n",
    "\n",
    "# Seperation line\n",
    "print(\"--------------------------------------------\")\n",
    "\n",
    "# Calculate the median duration played per player\n",
    "print('Median duration played per player:', dtf.groupby('playerkey')['duration'].sum().median())\n",
    "\n",
    "# How many players played for more than the median duration?\n",
    "print('Number of players who played more than the median duration:', dtf.groupby('playerkey')['duration'].sum()[dtf.groupby('playerkey')['duration'].sum() > dtf.groupby('playerkey')['duration'].sum().median()].count())\n",
    "\n",
    "# How many players played for less than the median duration?\n",
    "print('Number of players who played less than the median duration:', dtf.groupby('playerkey')['duration'].sum()[dtf.groupby('playerkey')['duration'].sum() < dtf.groupby('playerkey')['duration'].sum().median()].count())\n",
    "\n",
    "# sEperation line\n",
    "print(\"--------------------------------------------\")\n",
    "\n",
    "# Calcualte the minimum duration played per player\n",
    "print('Minimum duration played per player:', dtf.groupby('playerkey')['duration'].sum().min())\n",
    "# Who is the player with the minimum duration played?\n",
    "print('Player with the minimum duration played:', dtf.groupby('playerkey')['duration'].sum().idxmin())\n",
    "\n",
    "# Calcualte the maximum duration played per player\n",
    "print('Maximum duration played per player:', dtf.groupby('playerkey')['duration'].sum().max())\n",
    "# Who is the player with the maximum duration played?\n",
    "print('Player with the maximum duration played:', dtf.groupby('playerkey')['duration'].sum().idxmax())"
   ]
  },
  {
   "attachments": {},
   "cell_type": "markdown",
   "metadata": {},
   "source": [
    "### Vists and Sessions"
   ]
  },
  {
   "cell_type": "code",
   "execution_count": 123,
   "metadata": {},
   "outputs": [
    {
     "name": "stdout",
     "output_type": "stream",
     "text": [
      "Average duration played per visit: 0 days 00:22:41.164205673\n",
      "Median duration played per visit: 0 days 00:14:13.024500\n",
      "--------------------------------------------\n",
      "Average duration played per session: 0 days 00:15:36.215380487\n",
      "Median duration played per session: 0 days 00:10:01.813000\n",
      "--------------------------------------------\n",
      "Average duration played per session_machine: 0 days 00:02:04.424086223\n",
      "Median duration played per session_machine: 0 days 00:00:06.937000\n",
      "--------------------------------------------\n"
     ]
    }
   ],
   "source": [
    "# What is the average duration played per visit?\n",
    "print('Average duration played per visit:', dtf.groupby(['playerkey', 'visit'])['duration'].sum().mean())\n",
    "\n",
    "# What is the median duration played per visit?\n",
    "print('Median duration played per visit:', dtf.groupby(['playerkey', 'visit'])['duration'].sum().median())\n",
    "\n",
    "# Seperation line\n",
    "print(\"--------------------------------------------\")\n",
    "\n",
    "# What is the average duration played per session?\n",
    "print('Average duration played per session:', dtf.groupby(['playerkey', 'session_time'])['duration'].sum().mean())\n",
    "\n",
    "# What is the median duration played per session?\n",
    "print('Median duration played per session:', dtf.groupby(['playerkey', 'session_time'])['duration'].sum().median())\n",
    "\n",
    "# Seperation line\n",
    "print(\"--------------------------------------------\")\n",
    "\n",
    "# What is the average duration played per session_machine?\n",
    "print('Average duration played per session_machine:', dtf.groupby(['playerkey', 'session_machine'])['duration'].sum().mean())\n",
    "\n",
    "# What is the median duration played per session_machine?\n",
    "print('Median duration played per session_machine:', dtf.groupby(['playerkey', 'session_machine'])['duration'].sum().median())\n",
    "\n",
    "# Seperation line\n",
    "print(\"--------------------------------------------\")"
   ]
  },
  {
   "attachments": {},
   "cell_type": "markdown",
   "metadata": {},
   "source": [
    "## EDA\n",
    "\n",
    "Histograms"
   ]
  }
 ],
 "metadata": {
  "kernelspec": {
   "display_name": "Python 3",
   "language": "python",
   "name": "python3"
  },
  "language_info": {
   "codemirror_mode": {
    "name": "ipython",
    "version": 3
   },
   "file_extension": ".py",
   "mimetype": "text/x-python",
   "name": "python",
   "nbconvert_exporter": "python",
   "pygments_lexer": "ipython3",
   "version": "3.10.0"
  },
  "orig_nbformat": 4
 },
 "nbformat": 4,
 "nbformat_minor": 2
}
