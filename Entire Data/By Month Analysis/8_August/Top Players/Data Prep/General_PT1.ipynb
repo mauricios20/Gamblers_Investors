{
 "cells": [
  {
   "attachments": {},
   "cell_type": "markdown",
   "metadata": {},
   "source": [
    "# Similarities and Differences between Categories (Pt.1 - Age, Gender, Won/Lost Amount)"
   ]
  },
  {
   "cell_type": "code",
   "execution_count": 1,
   "metadata": {},
   "outputs": [],
   "source": [
    "# Define libraries\n",
    "import pandas as pd\n",
    "import numpy as np\n",
    "import matplotlib.pyplot as plt\n",
    "import seaborn as sns\n",
    "import matplotlib.dates as mdates\n",
    "import os\n",
    "import plotting_fn as pf\n",
    "import counting_fns as cf\n",
    "\n",
    "month_file = '4_August'\n",
    "cut_off = 10000\n",
    "# Set working directory\n",
    "os.chdir(\"/Users/mau/Library/CloudStorage/Dropbox/Mac/Documents/Dissertation/Chapter 2/Entire_Data/By month/\"+month_file)\n"
   ]
  },
  {
   "cell_type": "code",
   "execution_count": 2,
   "metadata": {},
   "outputs": [],
   "source": [
    "# Read in data\n",
    "df = pd.read_parquet(\"top_players.parquet\")\n",
    "\n",
    "# Round wageredamt and profit to 2 decimal places\n",
    "df['wageredamt'] = df['wageredamt'].round(1)\n",
    "df['profit'] = df['profit'].round(1)\n",
    "df['percent_return'] = df['percent_return'].round(1)\n"
   ]
  },
  {
   "cell_type": "code",
   "execution_count": 3,
   "metadata": {},
   "outputs": [],
   "source": [
    "# Create a new column 'result_type' that is a categorical variable which takes the value 'loss' if the change is negative and 'gain' if the change is positive, and 'draw' of change is 0\n",
    "df['result_type'] = df['percent_return'].apply(lambda x: 'loss' if x == -100 else 'near-hit' if x < 0 else 'gain' if x > 0 else 'draw')\n",
    "\n",
    "# Create dummy variables from 'result_type'\n",
    "dummy_variables = pd.get_dummies(df['result_type']).rename(columns=lambda x: '#' + str(x[0].capitalize()))\n",
    "\n",
    "# Add the dummy variables to the original DataFrame\n",
    "df = pd.concat([df, dummy_variables], axis=1).reset_index(drop=True)\n",
    "\n",
    "# Convert starttime to delte format for operations\n",
    "df['start_time'] = pd.to_datetime(df['start_time'])"
   ]
  },
  {
   "cell_type": "code",
   "execution_count": 4,
   "metadata": {},
   "outputs": [],
   "source": [
    "# Create new column called 'time_diff' which is the difference between the start time of the gamble and the start time of the previous gamble\n",
    "df['time_diff'] = df.groupby(['playerkey', 'session_time'])['start_time'].diff()\n",
    "\n",
    "# Convert time_diff to seconds\n",
    "df['time_diff'] = df['time_diff'].dt.total_seconds().fillna(0)"
   ]
  },
  {
   "attachments": {},
   "cell_type": "markdown",
   "metadata": {},
   "source": [
    "## General Overview\n",
    "\n",
    "### Players, Visits, Sessions of Each Group"
   ]
  },
  {
   "cell_type": "code",
   "execution_count": 5,
   "metadata": {},
   "outputs": [
    {
     "name": "stdout",
     "output_type": "stream",
     "text": [
      "Number of gamblers in dataframe: 1217\n",
      "--------------------------------------------------\n",
      "Number of unique visits in dtf: 19\n",
      "--------------------------------------------------\n",
      "Number of unique sessions in dtf: 10\n",
      "--------------------------------------------------\n"
     ]
    }
   ],
   "source": [
    "# Number of gamblers\n",
    "print(\"Number of gamblers in dataframe:\", len(df['playerkey'].unique()))\n",
    "print('--------------------------------------------------')\n",
    "\n",
    "# Print number of unique visits\n",
    "print(\"Number of unique visits in dtf:\", len(df['visit'].unique()))\n",
    "print('--------------------------------------------------')\n",
    "\n",
    "# Print number of unique sessions\n",
    "print(\"Number of unique sessions in dtf:\", len(df['session_time'].unique()))\n",
    "print('--------------------------------------------------')"
   ]
  },
  {
   "attachments": {},
   "cell_type": "markdown",
   "metadata": {},
   "source": [
    "### Wins in a row"
   ]
  },
  {
   "cell_type": "code",
   "execution_count": 6,
   "metadata": {},
   "outputs": [],
   "source": [
    "# Ude consecutive functions to find 2ws, 3ws, 4ws in a row in each dataset per visit per player\n",
    "df_s = pf.consecutive_wins(df, 'session_time')"
   ]
  },
  {
   "cell_type": "code",
   "execution_count": 7,
   "metadata": {},
   "outputs": [
    {
     "name": "stdout",
     "output_type": "stream",
     "text": [
      "Categories of wins in a row per session:\n",
      "                              #2ws    #3ws   #4ws\n",
      "clasification session_time                       \n",
      "top_1         1             5908.0  1184.0  359.0\n",
      "              2             2771.0   538.0  182.0\n",
      "              3             1393.0   273.0   80.0\n",
      "              4              558.0    85.0   19.0\n",
      "              5              189.0    31.0    2.0\n",
      "              6              115.0    15.0    3.0\n",
      "              7               30.0     1.0    1.0\n",
      "              8                2.0     0.0    0.0\n",
      "top_10        1             6777.0  1158.0  366.0\n",
      "              2             2131.0   340.0   95.0\n",
      "              3              680.0   166.0   33.0\n",
      "              4              308.0    48.0   12.0\n",
      "              5               58.0    12.0    3.0\n",
      "              6               18.0     6.0    1.0\n",
      "              7                1.0     0.0    0.0\n",
      "              8                3.0     0.0    0.0\n",
      "top_5         1             9062.0  1800.0  592.0\n",
      "              2             4067.0   746.0  226.0\n",
      "              3             1900.0   383.0  130.0\n",
      "              4              598.0   109.0   24.0\n",
      "              5              163.0    30.0    5.0\n",
      "              6               38.0    14.0    0.0\n",
      "              7               20.0     3.0    1.0\n",
      "              8                6.0     1.0    0.0\n",
      "              9                3.0     0.0    0.0\n",
      "              10               3.0     1.0    0.0\n",
      "--------------------------------------------------\n"
     ]
    }
   ],
   "source": [
    "# Print the numner of total number of 2 wins, 3 wins, 4 wins in a row in each dataset\n",
    "print('Categories of wins in a row per session:')\n",
    "print(df_s.groupby(['clasification', 'session_time'])[['#2ws', '#3ws', '#4ws']].sum())\n",
    "print('--------------------------------------------------')"
   ]
  },
  {
   "cell_type": "code",
   "execution_count": 8,
   "metadata": {},
   "outputs": [],
   "source": [
    "# Ude consecutive functions to find 2ws, 3ws, 4ws in a row in each dataset per session_time per player\n",
    "df = pf.consecutive_wins(df, 'visit')"
   ]
  },
  {
   "cell_type": "code",
   "execution_count": 9,
   "metadata": {},
   "outputs": [
    {
     "name": "stdout",
     "output_type": "stream",
     "text": [
      "Categories of wins in a row per visit:\n",
      "                       #2ws    #3ws   #4ws\n",
      "clasification visit                       \n",
      "top_1         1      2984.0   551.0  151.0\n",
      "              2      3220.0   646.0  191.0\n",
      "              3      2130.0   425.0  157.0\n",
      "              4       968.0   183.0   59.0\n",
      "              5       589.0   119.0   27.0\n",
      "              6       268.0    44.0   15.0\n",
      "              7       203.0    44.0    8.0\n",
      "              8       148.0    31.0    9.0\n",
      "              9       179.0    46.0   23.0\n",
      "              10       74.0    13.0    3.0\n",
      "              11       23.0     1.0    1.0\n",
      "              12       40.0     6.0    1.0\n",
      "              13       17.0     1.0    0.0\n",
      "              14       38.0     6.0    2.0\n",
      "              15       37.0     4.0    0.0\n",
      "              16       24.0     3.0    1.0\n",
      "              17       16.0     1.0    0.0\n",
      "              18        1.0     0.0    0.0\n",
      "              19       10.0     1.0    0.0\n",
      "top_10        1      5399.0   882.0  265.0\n",
      "              2      2829.0   498.0  152.0\n",
      "              3      1174.0   233.0   57.0\n",
      "              4       466.0    87.0   30.0\n",
      "              5        81.0    23.0    4.0\n",
      "              6        15.0     3.0    1.0\n",
      "              7        21.0     3.0    2.0\n",
      "              8         0.0     0.0    0.0\n",
      "              9         0.0     0.0    0.0\n",
      "              10        2.0     0.0    0.0\n",
      "top_5         1      5812.0  1141.0  332.0\n",
      "              2      5555.0  1055.0  340.0\n",
      "              3      2936.0   535.0  188.0\n",
      "              4      1035.0   242.0   75.0\n",
      "              5       226.0    50.0   19.0\n",
      "              6       147.0    33.0   14.0\n",
      "              7        74.0    21.0    5.0\n",
      "              8        57.0    10.0    3.0\n",
      "              9         5.0     2.0    2.0\n",
      "              10        1.0     1.0    0.0\n",
      "              11        0.0     0.0    0.0\n",
      "              12        0.0     0.0    0.0\n",
      "              13        1.0     0.0    0.0\n",
      "              14        4.0     0.0    0.0\n",
      "              15        0.0     0.0    0.0\n",
      "              16        2.0     0.0    0.0\n",
      "--------------------------------------------------\n"
     ]
    }
   ],
   "source": [
    "# Print the numner of total number of 2 wins, 3 wins, 4 wins in a row in each dataset\n",
    "print('Categories of wins in a row per visit:')\n",
    "print(df.groupby(['clasification', 'visit'])[['#2ws', '#3ws', '#4ws']].sum())\n",
    "print('--------------------------------------------------')\n"
   ]
  },
  {
   "attachments": {},
   "cell_type": "markdown",
   "metadata": {},
   "source": [
    "### Gender Differences"
   ]
  },
  {
   "cell_type": "code",
   "execution_count": 10,
   "metadata": {},
   "outputs": [
    {
     "name": "stdout",
     "output_type": "stream",
     "text": [
      "Number of unique players in dtf:\n",
      "clasification  gender\n",
      "top_1          F          62\n",
      "               M          60\n",
      "top_10         F         295\n",
      "               M         314\n",
      "top_5          F         211\n",
      "               M         275\n",
      "Name: playerkey, dtype: int64\n",
      "--------------------------------------------------\n"
     ]
    }
   ],
   "source": [
    "# Gender differences\n",
    "print(\"Number of unique players in dtf:\")\n",
    "print(df.groupby(['clasification', 'gender'])['playerkey'].nunique())\n",
    "print('--------------------------------------------------')"
   ]
  },
  {
   "attachments": {},
   "cell_type": "markdown",
   "metadata": {},
   "source": [
    "### Age Differences"
   ]
  },
  {
   "cell_type": "code",
   "execution_count": 11,
   "metadata": {},
   "outputs": [],
   "source": [
    "# Create age ranges \n",
    "bins = [0, 24, 40, 55, 75, 150]\n",
    "labels = ['18-24', '25-40', '41-55', '56-75', '76+']\n",
    "generations = ['Gen Z', 'Millenials', 'Gen X', 'Baby Boomers', 'Silent']\n",
    "\n",
    "# Use cut function to create age ranges for dtf and top 20%\n",
    "df['age_range'] = pd.cut(df['age'], bins=bins, labels=labels, right=False)\n",
    "df['age_gen'] = pd.cut(df['age'], bins=bins, labels=generations, right=False)\n",
    "\n",
    "df_s['age_range'] = pd.cut(df_s['age'], bins=bins, labels=labels, right=False)\n",
    "df_s['age_gen'] = pd.cut(df_s['age'], bins=bins, labels=generations, right=False)"
   ]
  },
  {
   "cell_type": "code",
   "execution_count": 12,
   "metadata": {},
   "outputs": [
    {
     "name": "stdout",
     "output_type": "stream",
     "text": [
      "Number of unique players in dtf:\n",
      "clasification  age_range\n",
      "top_1          18-24          0\n",
      "               25-40         16\n",
      "               41-55         37\n",
      "               56-75         64\n",
      "               76+            5\n",
      "top_10         18-24          8\n",
      "               25-40        114\n",
      "               41-55        226\n",
      "               56-75        243\n",
      "               76+           18\n",
      "top_5          18-24          6\n",
      "               25-40         83\n",
      "               41-55        177\n",
      "               56-75        204\n",
      "               76+           16\n",
      "Name: playerkey, dtype: int64\n",
      "--------------------------------------------------\n"
     ]
    }
   ],
   "source": [
    "# Age range differences\n",
    "print(\"Number of unique players in dtf:\")\n",
    "print(df.groupby(['clasification', 'age_range'])['playerkey'].nunique())\n",
    "print('--------------------------------------------------')\n"
   ]
  },
  {
   "cell_type": "code",
   "execution_count": 13,
   "metadata": {},
   "outputs": [
    {
     "name": "stdout",
     "output_type": "stream",
     "text": [
      "Number of unique players in dtf:\n",
      "clasification  age_gen     \n",
      "top_1          Gen Z             0\n",
      "               Millenials       16\n",
      "               Gen X            37\n",
      "               Baby Boomers     64\n",
      "               Silent            5\n",
      "top_10         Gen Z             8\n",
      "               Millenials      114\n",
      "               Gen X           226\n",
      "               Baby Boomers    243\n",
      "               Silent           18\n",
      "top_5          Gen Z             6\n",
      "               Millenials       83\n",
      "               Gen X           177\n",
      "               Baby Boomers    204\n",
      "               Silent           16\n",
      "Name: playerkey, dtype: int64\n"
     ]
    }
   ],
   "source": [
    "# Age range differences\n",
    "print(\"Number of unique players in dtf:\")\n",
    "print(df_s.groupby(['clasification', 'age_gen'])['playerkey'].nunique())"
   ]
  },
  {
   "cell_type": "code",
   "execution_count": 14,
   "metadata": {},
   "outputs": [
    {
     "name": "stdout",
     "output_type": "stream",
     "text": [
      "Number of unique players in dtf:\n",
      "clasification  age_gen     \n",
      "top_1          Gen Z             0\n",
      "               Millenials       16\n",
      "               Gen X            37\n",
      "               Baby Boomers     64\n",
      "               Silent            5\n",
      "top_10         Gen Z             8\n",
      "               Millenials      114\n",
      "               Gen X           226\n",
      "               Baby Boomers    243\n",
      "               Silent           18\n",
      "top_5          Gen Z             6\n",
      "               Millenials       83\n",
      "               Gen X           177\n",
      "               Baby Boomers    204\n",
      "               Silent           16\n",
      "Name: playerkey, dtype: int64\n",
      "--------------------------------------------------\n"
     ]
    }
   ],
   "source": [
    "# Age generation differences\n",
    "print(\"Number of unique players in dtf:\")\n",
    "print(df.groupby(['clasification', 'age_gen'])['playerkey'].nunique())\n",
    "print('--------------------------------------------------')"
   ]
  },
  {
   "cell_type": "code",
   "execution_count": 15,
   "metadata": {},
   "outputs": [
    {
     "name": "stdout",
     "output_type": "stream",
     "text": [
      "Male age differences in dtf:\n",
      "age_range\n",
      "18-24      9\n",
      "25-40    142\n",
      "41-55    239\n",
      "56-75    239\n",
      "76+       20\n",
      "Name: playerkey, dtype: int64\n",
      "--------------------------------------------------\n",
      "Female age differences in dtf:\n",
      "age_range\n",
      "18-24      5\n",
      "25-40     71\n",
      "41-55    201\n",
      "56-75    272\n",
      "76+       19\n",
      "Name: playerkey, dtype: int64\n"
     ]
    },
    {
     "data": {
      "image/png": "[encoded data removed]",
      "text/plain": [
       "<Figure size 1000x500 with 2 Axes>"
      ]
     },
     "metadata": {},
     "output_type": "display_data"
    }
   ],
   "source": [
    "# Age range of male gamblers in dtf\n",
    "print(\"Male age differences in dtf:\")\n",
    "print(df[df['gender'] == 'M'].groupby('age_range')['playerkey'].nunique())\n",
    "print('--------------------------------------------------')\n",
    "# Age range of Female gamblers in dtf\n",
    "print('Female age differences in dtf:')\n",
    "print(df[df['gender'] == 'F'].groupby('age_range')['playerkey'].nunique())\n",
    "\n",
    "pf.plot_gender_diff(df, 'dtf', figsize=(10, 5))\n"
   ]
  },
  {
   "attachments": {},
   "cell_type": "markdown",
   "metadata": {},
   "source": [
    "### Increse and Decrease of SlotDenomination and Bet"
   ]
  },
  {
   "cell_type": "code",
   "execution_count": 16,
   "metadata": {},
   "outputs": [
    {
     "name": "stdout",
     "output_type": "stream",
     "text": [
      "Count of players who increase_slotdeno : 965\n",
      "Count of times each player increase_slotdeno : {113: 4, 460: 21, 865: 1, 1008: 12, 1069: 4, 1166: 33, 1233: 29, 1402: 3, 2070: 1, 2073: 11, 2157: 58, 2479: 2, 2736: 421, 3010: 10, 3634: 10, 5147: 7, 5560: 1, 5676: 4, 5829: 13, 6894: 13, 7051: 54, 7967: 1, 8412: 241, 8978: 6, 9788: 708, 12148: 1, 12173: 32, 16243: 516, 16275: 22, 16299: 3, 16380: 162, 16468: 22, 16505: 1, 16958: 11, 17170: 63, 17585: 1, 17702: 2, 17717: 1, 18082: 3, 18333: 32, 18397: 5, 18406: 5, 18432: 14, 18465: 2, 19270: 13, 19527: 2, 19568: 9, 20188: 1, 20390: 13, 20458: 11, 20607: 41, 20625: 8, 20689: 4, 20774: 63, 20857: 15, 20968: 1, 21237: 19, 21842: 11, 22058: 6, 22087: 9, 22092: 109, 22208: 236, 22836: 61, 23203: 1, 23329: 132, 23355: 15, 23452: 4, 23519: 19, 23520: 13, 23566: 933, 23611: 4, 23634: 10, 23681: 22, 23700: 4, 23743: 7, 23763: 11, 24735: 4, 24797: 10, 24953: 4, 25231: 5, 25268: 6, 25444: 3, 25624: 1, 25725: 23, 25852: 5, 25858: 2, 25881: 13, 26013: 6, 26041: 1, 26429: 9, 26639: 6, 26738: 5, 26798: 2, 26845: 4, 26885: 7, 26931: 6, 26937: 3, 26994: 4, 27942: 5, 28161: 8, 28186: 17, 28230: 2, 28232: 21, 28487: 34, 28557: 7, 28578: 9, 28890: 39, 28918: 528, 29337: 4, 29374: 123, 94: 1, 198: 6, 224: 6, 1013: 3, 1243: 1, 1371: 4, 1483: 3, 1604: 1, 1890: 1, 2001: 2, 2097: 20, 2198: 5, 2343: 9, 2561: 9, 2806: 6, 2906: 4, 2959: 10, 3058: 1, 3127: 11, 3360: 33, 3385: 18, 3677: 36, 3708: 3, 4015: 2, 4265: 6, 4483: 16, 4680: 1, 5947: 2, 6001: 7, 6256: 1, 6271: 3, 6290: 2, 6532: 3, 6843: 1, 6910: 7, 7119: 2, 8353: 4, 8370: 49, 8568: 5, 8719: 14, 8827: 9, 9049: 11, 9105: 12, 9199: 4, 9236: 6, 9254: 6, 9357: 1, 9410: 1, 9598: 2, 9682: 7, 10248: 18, 10671: 1, 13083: 1, 13204: 6, 13256: 2, 14778: 2, 14823: 5, 15265: 13, 15898: 7, 16140: 1, 16197: 5, 16294: 20, 16465: 1, 16488: 1, 16506: 6, 16538: 13, 16679: 20, 16696: 3, 16697: 11, 16752: 6, 16773: 4, 16804: 6, 16867: 85, 16941: 1, 17018: 1, 17097: 12, 17213: 1, 17256: 16, 17338: 12, 17343: 1, 17363: 1, 17368: 1, 17369: 4, 17374: 4, 17380: 10, 17386: 10, 17390: 2, 17402: 4, 17455: 3, 17501: 2, 17505: 15, 17582: 9, 17655: 2, 17701: 3, 17709: 3, 17711: 1, 17721: 45, 17744: 6, 17757: 75, 17793: 3, 17838: 8, 17866: 33, 17870: 2, 17878: 304, 17962: 10, 17972: 3, 18065: 3, 18068: 1, 18070: 6, 18098: 2, 18109: 6, 18119: 3, 18220: 1, 18260: 8, 18473: 2, 18479: 6, 18499: 9, 18546: 5, 18588: 2, 18624: 1, 18686: 1, 18720: 125, 18751: 9, 18778: 1, 18827: 215, 18845: 4, 18846: 4, 18910: 2, 19041: 2, 19043: 4, 19044: 1, 19045: 1, 19101: 2, 19112: 3, 19236: 1, 19244: 6, 19268: 2, 19384: 3, 19458: 6, 19459: 3, 19487: 2, 19646: 1, 19688: 2, 19713: 22, 19748: 1, 19824: 1, 19969: 1, 20059: 1, 20070: 66, 20072: 69, 20134: 4, 20146: 4, 20152: 4, 20215: 9, 20309: 1, 20349: 18, 20350: 13, 20355: 1, 20367: 10, 20425: 2, 20426: 2, 20451: 3, 20476: 8, 20477: 6, 20538: 12, 20572: 6, 20651: 11, 20671: 2, 20686: 5, 20687: 3, 20698: 9, 20775: 6, 20822: 3, 20870: 6, 20872: 3, 20875: 4, 20883: 9, 20930: 16, 20945: 12, 20972: 7, 20996: 3, 21023: 4, 21032: 2, 21052: 67, 21155: 2, 21388: 5, 21600: 5, 21630: 3, 21719: 1, 21815: 2, 21843: 127, 21855: 3, 21953: 2, 21971: 4, 22006: 3, 22032: 3, 22039: 2, 22040: 1, 22082: 9, 22137: 3, 22147: 11, 22148: 6, 22158: 6, 22209: 6, 22213: 21, 22267: 1, 22316: 3, 22336: 11, 22345: 3, 22409: 7, 22471: 1, 22476: 1, 22532: 1, 22546: 17, 22550: 1, 22568: 1, 22577: 13, 22580: 24, 22602: 15, 22610: 1, 22611: 4, 22615: 1, 22735: 1, 22747: 6, 22758: 11, 22799: 7, 22831: 2, 22903: 6, 22910: 5, 22988: 2, 23061: 4, 23178: 2, 23225: 8, 23238: 9, 23262: 6, 23316: 8, 23348: 4, 23349: 1, 23350: 9, 23351: 12, 23432: 2, 23463: 4, 23509: 13, 23525: 1, 23544: 25, 23593: 1, 23632: 10, 23666: 1, 23759: 13, 23819: 1, 23821: 2, 23826: 1, 23840: 9, 23886: 10, 23900: 5, 23929: 8, 23934: 23, 23941: 2, 23963: 266, 23990: 2, 23997: 2, 24028: 7, 24035: 1, 24099: 4, 24126: 7, 24142: 9, 24158: 3, 24230: 86, 24257: 1, 24270: 1, 24305: 5, 24347: 113, 24506: 3, 24516: 10, 24626: 4, 24686: 1, 24765: 4, 24798: 13, 24833: 7, 24904: 2, 24937: 2, 24995: 3, 25027: 12, 25085: 5, 25103: 1, 25137: 6, 25177: 1, 25206: 356, 25321: 10, 25331: 7, 25395: 1, 25400: 5, 25492: 2, 25559: 4, 25587: 5, 25607: 31, 25668: 2, 25785: 122, 25846: 1, 25877: 6, 25920: 1, 25931: 21, 25970: 18, 26097: 3, 26181: 2, 26184: 4, 26190: 1, 26209: 5, 26304: 13, 26322: 1, 26382: 5, 26427: 4, 26582: 7, 26588: 2, 26606: 3, 26653: 12, 26659: 7, 26687: 4, 26774: 2, 26849: 5, 26913: 1, 26929: 27, 26939: 14, 26957: 4, 26965: 8, 26980: 6, 27000: 15, 27025: 1, 27085: 4, 27096: 8, 27099: 14, 27100: 1, 27120: 5, 27145: 4, 27147: 4, 27164: 5, 27170: 5, 27221: 49, 27282: 19, 27285: 4, 27308: 2, 27352: 4, 27353: 1, 27374: 10, 27394: 13, 27413: 5, 27440: 3, 27451: 1, 27464: 51, 27471: 5, 27530: 3, 27531: 2, 27544: 3, 27708: 11, 27773: 2, 27791: 6, 27809: 9, 27890: 2, 27949: 7, 28001: 16, 28008: 23, 28020: 4, 28028: 1, 28035: 5, 28036: 7, 28052: 3, 28060: 1, 28094: 2, 28095: 3, 28127: 2, 28130: 3, 28162: 6, 28244: 18, 28380: 4, 28403: 27, 28425: 5, 28655: 1, 28663: 9, 28681: 4, 28707: 9, 28739: 4, 28794: 218, 28813: 46, 28861: 3, 28868: 4, 28888: 13, 28919: 1, 28926: 10, 29023: 10, 29168: 1, 29175: 3, 29176: 2, 29303: 6, 29328: 2, 29336: 13, 29358: 398, 29380: 1, 29382: 8, 29449: 6, 29587: 5, 29607: 1, 29719: 3, 29948: 4, 29974: 1, 424: 2, 646: 2, 1136: 3, 1553: 2, 1757: 7, 1909: 3, 1932: 1, 1950: 1, 2197: 1, 2214: 6, 2331: 11, 2710: 2, 2713: 1, 2858: 5, 3155: 2, 3359: 9, 3900: 4, 3955: 3, 4050: 1, 4245: 10, 4912: 1, 5518: 4, 5745: 2, 5789: 3, 5842: 7, 6687: 2, 7369: 3, 7724: 3, 7933: 2, 8247: 1, 8465: 2, 9112: 3, 9632: 4, 9816: 1, 10025: 6, 10244: 5, 11366: 5, 11367: 4, 11446: 1, 13064: 2, 13704: 7, 13716: 1, 13810: 4, 14236: 2, 15039: 1, 15537: 1, 15589: 1, 15947: 9, 15956: 2, 15962: 1, 16168: 2, 16181: 2, 16358: 1, 16428: 2, 16432: 1, 16483: 4, 16501: 2, 16519: 4, 16544: 1, 16580: 4, 16678: 13, 16750: 3, 16756: 1, 16787: 2, 16847: 1, 16901: 1, 16982: 36, 17022: 2, 17090: 5, 17101: 2, 17131: 2, 17149: 4, 17156: 1, 17315: 29, 17346: 122, 17353: 3, 17401: 5, 17404: 3, 17422: 5, 17480: 10, 17530: 7, 17531: 2, 17540: 1, 17548: 3, 17583: 4, 17595: 5, 17599: 1, 17612: 5, 17620: 7, 17665: 1, 17745: 2, 17756: 3, 17772: 3, 17787: 14, 17865: 132, 17985: 53, 18031: 2, 18038: 1, 18045: 7, 18126: 1, 18127: 1, 18206: 63, 18237: 3, 18259: 3, 18326: 2, 18327: 1, 18344: 11, 18472: 4, 18528: 1, 18562: 5, 18580: 8, 18617: 4, 18630: 13, 18687: 3, 18775: 2, 18790: 3, 18830: 1, 18853: 1, 18861: 4, 18876: 1, 19058: 4, 19067: 1, 19087: 4, 19095: 1, 19164: 8, 19167: 1, 19170: 3, 19179: 5, 19183: 1, 19199: 120, 19238: 25, 19273: 5, 19351: 1, 19363: 3, 19461: 3, 19469: 7, 19514: 4, 19516: 9, 19522: 32, 19533: 1, 19539: 2, 19540: 9, 19598: 2, 19703: 2, 19715: 1, 19741: 2, 19784: 7, 19805: 199, 19825: 3, 19827: 2, 19832: 3, 19859: 8, 19879: 2, 19921: 4, 19953: 4, 19975: 1, 20073: 4, 20079: 1, 20243: 2, 20293: 7, 20347: 9, 20375: 2, 20412: 3, 20433: 20, 20441: 1, 20455: 1, 20530: 2, 20565: 6, 20599: 3, 20721: 1, 20796: 4, 20799: 49, 20921: 1, 20922: 4, 20950: 8, 20978: 2, 21004: 1, 21139: 1, 21169: 3, 21183: 1, 21208: 2, 21223: 1, 21254: 6, 21257: 7, 21262: 4, 21269: 3, 21325: 2, 21327: 8, 21386: 1, 21389: 2, 21413: 4, 21420: 123, 21431: 1, 21465: 7, 21466: 11, 21484: 3, 21546: 2, 21593: 3, 21639: 1, 21683: 2, 21710: 3, 21732: 2, 21734: 4, 21747: 2, 21761: 1, 21786: 27, 21799: 1, 21816: 2, 21831: 4, 21836: 1, 21837: 1, 21861: 2, 21894: 4, 21906: 2, 21936: 3, 21939: 1, 21944: 39, 21957: 2, 21972: 3, 21976: 7, 22022: 1, 22119: 4, 22133: 3, 22149: 1, 22188: 1, 22211: 4, 22294: 1, 22301: 4, 22303: 8, 22350: 2, 22521: 27, 22524: 1, 22582: 4, 22588: 3, 22660: 1, 22661: 11, 22805: 1, 22887: 11, 22942: 2, 23068: 5, 23078: 4, 23138: 1, 23144: 4, 23354: 29, 23364: 1, 23388: 2, 23402: 2, 23403: 1, 23450: 1, 23542: 9, 23587: 2, 23590: 4, 23665: 1, 23688: 3, 23708: 2, 23791: 1, 23792: 3, 23794: 1, 23825: 3, 23868: 5, 23888: 2, 23891: 12, 23898: 4, 23904: 1, 23905: 3, 23932: 6, 23949: 1, 23984: 2, 23998: 4, 24183: 3, 24215: 2, 24234: 8, 24263: 1, 24266: 6, 24274: 2, 24326: 3, 24327: 1, 24338: 50, 24412: 1, 24430: 3, 24455: 2, 24457: 1, 24501: 1, 24557: 1, 24572: 3, 24619: 3, 24663: 6, 24692: 2, 24740: 5, 24770: 2, 24806: 13, 24841: 1, 24889: 2, 24896: 57, 25051: 1, 25056: 5, 25061: 2, 25179: 16, 25194: 1, 25213: 31, 25214: 7, 25215: 1, 25220: 6, 25243: 2, 25247: 2, 25248: 2, 25249: 5, 25270: 3, 25274: 1, 25305: 1, 25342: 3, 25353: 1, 25431: 1, 25523: 1, 25538: 3, 25577: 3, 25638: 2, 25657: 2, 25673: 4, 25707: 5, 25723: 3, 25752: 2, 25855: 8, 25915: 4, 25921: 3, 25923: 4, 25930: 1, 25957: 1, 25973: 5, 25996: 6, 26053: 1, 26062: 5, 26091: 2, 26214: 8, 26373: 1, 26392: 177, 26424: 4, 26430: 5, 26443: 2, 26490: 3, 26500: 4, 26528: 25, 26546: 3, 26627: 10, 26660: 2, 26661: 1, 26666: 2, 26667: 3, 26669: 40, 26670: 2, 26699: 18, 26751: 1, 26780: 1, 26814: 2, 26884: 1, 26886: 1, 26892: 5, 26920: 1, 26950: 2, 26959: 2, 26982: 2, 26987: 3, 26995: 1, 26998: 15, 27021: 4, 27047: 9, 27060: 1, 27102: 4, 27121: 6, 27144: 2, 27159: 2, 27187: 2, 27205: 3, 27210: 1, 27218: 4, 27274: 4, 27328: 1, 27373: 1, 27403: 2, 27467: 9, 27499: 1, 27506: 1, 27634: 1, 27649: 4, 27663: 1, 27749: 5, 27812: 2, 27836: 3, 27840: 9, 27845: 1, 27846: 3, 27869: 2, 27888: 2, 27913: 3, 27918: 4, 27931: 59, 27950: 4, 27986: 2, 28002: 3, 28071: 1, 28123: 3, 28146: 4, 28148: 9, 28174: 2, 28177: 3, 28189: 3, 28219: 4, 28318: 4, 28326: 3, 28450: 7, 28451: 3, 28502: 1, 28516: 2, 28535: 6, 28569: 1, 28576: 1, 28616: 1, 28651: 3, 28654: 1, 28671: 1, 28680: 2, 28705: 1, 28735: 48, 28760: 1, 28812: 3, 28878: 2, 28879: 7, 28895: 1, 28915: 4, 28924: 3, 28965: 1, 29016: 2, 29164: 2, 29177: 1, 29195: 1, 29202: 4, 29236: 12, 29255: 2, 29265: 1, 29273: 2, 29314: 7, 29343: 7, 29383: 6, 29384: 2, 29544: 4, 29697: 1, 29726: 2, 29805: 4, 29930: 2, 29936: 1, 29942: 2}\n",
      "Player who changes the most: 23566\n",
      "------------------------------------------------------------------------------------------------------------------\n",
      "Count of players who decrease_slotdeno : 981\n",
      "Count of times each player decrease_slotdeno : {113: 4, 460: 24, 865: 1, 1008: 12, 1069: 4, 1166: 35, 1233: 23, 1402: 4, 2070: 1, 2073: 10, 2157: 49, 2479: 2, 2736: 420, 3010: 8, 3634: 11, 5147: 6, 5560: 1, 5676: 4, 5829: 12, 6894: 10, 7051: 49, 7967: 1, 8412: 241, 8978: 8, 9788: 708, 12148: 1, 12173: 28, 16243: 515, 16275: 22, 16299: 2, 16380: 162, 16468: 17, 16505: 1, 16958: 10, 17170: 64, 17585: 1, 17702: 2, 18082: 4, 18333: 30, 18397: 4, 18406: 5, 18432: 15, 18465: 2, 19270: 13, 19527: 3, 19568: 10, 20390: 12, 20458: 13, 20607: 35, 20625: 8, 20689: 4, 20774: 66, 20857: 13, 20968: 1, 21237: 19, 21722: 1, 21842: 10, 22058: 8, 22087: 7, 22092: 109, 22208: 237, 22836: 52, 23203: 1, 23267: 2, 23329: 126, 23355: 14, 23452: 3, 23519: 15, 23520: 11, 23566: 933, 23611: 4, 23634: 9, 23681: 20, 23700: 3, 23743: 9, 23763: 9, 24735: 4, 24797: 10, 24953: 3, 25231: 4, 25268: 8, 25444: 4, 25624: 2, 25725: 20, 25852: 5, 25858: 2, 25881: 11, 26013: 5, 26041: 1, 26429: 9, 26639: 6, 26738: 3, 26798: 2, 26845: 4, 26885: 6, 26931: 7, 26937: 4, 26994: 4, 27942: 5, 28161: 8, 28186: 17, 28230: 2, 28232: 23, 28487: 31, 28557: 6, 28578: 11, 28890: 39, 28918: 527, 29337: 4, 29374: 119, 94: 2, 198: 4, 224: 7, 1013: 2, 1243: 1, 1371: 5, 1483: 2, 1604: 1, 1890: 1, 2001: 2, 2097: 20, 2198: 3, 2343: 9, 2561: 10, 2806: 5, 2906: 5, 2959: 8, 3058: 1, 3127: 12, 3360: 27, 3385: 18, 3677: 31, 3708: 4, 4015: 2, 4265: 2, 4483: 7, 4680: 1, 5947: 2, 6001: 7, 6256: 1, 6271: 2, 6290: 3, 6532: 2, 6843: 1, 6862: 2, 6910: 5, 7119: 1, 8353: 4, 8370: 48, 8568: 3, 8719: 15, 8827: 7, 9049: 8, 9105: 12, 9199: 3, 9236: 7, 9254: 5, 9357: 1, 9410: 1, 9598: 1, 9682: 7, 10248: 14, 10671: 1, 13204: 4, 13256: 2, 14778: 2, 14823: 6, 15265: 8, 15898: 9, 16140: 1, 16197: 5, 16294: 15, 16438: 1, 16465: 2, 16488: 3, 16506: 5, 16538: 10, 16679: 19, 16696: 3, 16697: 8, 16752: 5, 16773: 3, 16804: 6, 16867: 85, 16941: 1, 17018: 1, 17097: 9, 17213: 2, 17256: 18, 17338: 11, 17343: 1, 17363: 1, 17368: 2, 17369: 3, 17374: 3, 17380: 9, 17386: 13, 17390: 1, 17391: 2, 17402: 3, 17455: 3, 17501: 2, 17505: 13, 17582: 7, 17655: 2, 17701: 2, 17709: 3, 17711: 2, 17721: 45, 17744: 6, 17757: 76, 17793: 3, 17838: 10, 17866: 29, 17870: 1, 17878: 271, 17962: 12, 17972: 5, 18065: 3, 18068: 1, 18070: 6, 18098: 3, 18109: 3, 18119: 4, 18220: 1, 18260: 6, 18473: 3, 18479: 5, 18499: 11, 18546: 5, 18588: 2, 18624: 1, 18686: 1, 18720: 124, 18751: 8, 18778: 2, 18827: 214, 18845: 4, 18846: 3, 18910: 1, 19041: 4, 19043: 3, 19044: 1, 19045: 1, 19101: 2, 19112: 2, 19236: 1, 19244: 4, 19268: 3, 19384: 3, 19458: 6, 19459: 4, 19487: 3, 19646: 1, 19688: 1, 19713: 13, 19740: 1, 19748: 2, 19824: 1, 19969: 1, 20059: 1, 20070: 66, 20072: 68, 20134: 6, 20146: 4, 20152: 5, 20215: 9, 20309: 2, 20349: 16, 20350: 16, 20355: 1, 20367: 7, 20425: 4, 20426: 2, 20451: 3, 20476: 9, 20477: 7, 20538: 11, 20572: 8, 20651: 12, 20671: 3, 20686: 6, 20687: 4, 20698: 8, 20775: 4, 20817: 1, 20822: 4, 20870: 6, 20872: 3, 20875: 4, 20883: 6, 20930: 18, 20945: 12, 20972: 7, 20996: 3, 21023: 4, 21032: 1, 21052: 76, 21155: 2, 21388: 7, 21600: 4, 21630: 3, 21719: 2, 21815: 2, 21843: 127, 21855: 2, 21953: 2, 21971: 4, 22006: 3, 22032: 4, 22039: 2, 22040: 2, 22082: 9, 22137: 4, 22147: 8, 22148: 5, 22158: 5, 22209: 4, 22213: 22, 22267: 1, 22316: 2, 22336: 12, 22345: 3, 22409: 8, 22471: 1, 22476: 2, 22532: 1, 22546: 16, 22550: 1, 22568: 1, 22577: 13, 22580: 14, 22602: 15, 22610: 1, 22611: 4, 22615: 1, 22735: 2, 22747: 5, 22758: 9, 22799: 7, 22831: 4, 22903: 7, 22910: 5, 22988: 3, 23061: 6, 23178: 3, 23225: 9, 23238: 10, 23262: 4, 23316: 4, 23348: 3, 23349: 1, 23350: 12, 23351: 12, 23432: 1, 23463: 6, 23509: 9, 23544: 25, 23593: 1, 23632: 11, 23666: 1, 23759: 10, 23819: 1, 23821: 4, 23826: 1, 23840: 5, 23886: 7, 23900: 6, 23929: 8, 23934: 18, 23941: 2, 23963: 267, 23990: 2, 23997: 4, 24028: 8, 24035: 1, 24099: 2, 24126: 7, 24142: 9, 24158: 2, 24225: 1, 24230: 87, 24257: 2, 24270: 3, 24305: 4, 24347: 114, 24506: 1, 24516: 10, 24574: 2, 24626: 4, 24686: 1, 24765: 4, 24798: 8, 24833: 13, 24904: 2, 24937: 2, 24995: 2, 25027: 12, 25046: 1, 25085: 4, 25103: 2, 25137: 4, 25177: 2, 25206: 357, 25321: 10, 25331: 4, 25395: 1, 25400: 5, 25492: 1, 25559: 4, 25587: 6, 25607: 27, 25668: 2, 25785: 124, 25877: 6, 25920: 1, 25931: 18, 25970: 18, 26068: 1, 26097: 4, 26181: 1, 26184: 3, 26190: 1, 26209: 6, 26304: 14, 26322: 1, 26382: 3, 26427: 4, 26582: 6, 26588: 3, 26606: 5, 26653: 13, 26659: 7, 26687: 4, 26774: 1, 26849: 5, 26913: 2, 26929: 29, 26939: 18, 26957: 4, 26965: 6, 26980: 5, 27000: 16, 27025: 1, 27041: 1, 27085: 5, 27096: 8, 27099: 14, 27100: 1, 27120: 5, 27145: 4, 27147: 3, 27164: 7, 27170: 5, 27221: 49, 27282: 19, 27285: 3, 27308: 3, 27352: 4, 27353: 1, 27359: 1, 27374: 9, 27394: 11, 27413: 5, 27440: 2, 27451: 3, 27464: 51, 27471: 4, 27530: 4, 27531: 3, 27544: 2, 27708: 9, 27773: 2, 27791: 4, 27809: 8, 27890: 1, 27949: 6, 28001: 16, 28008: 22, 28020: 4, 28028: 1, 28035: 2, 28036: 7, 28052: 2, 28060: 1, 28094: 1, 28095: 3, 28127: 2, 28130: 3, 28162: 6, 28244: 18, 28380: 5, 28403: 26, 28425: 6, 28477: 1, 28655: 3, 28663: 8, 28681: 4, 28707: 7, 28739: 2, 28794: 218, 28813: 46, 28861: 5, 28868: 3, 28888: 12, 28919: 1, 28926: 12, 29023: 10, 29168: 3, 29175: 3, 29176: 2, 29303: 6, 29328: 2, 29336: 12, 29358: 399, 29380: 2, 29382: 6, 29449: 6, 29587: 5, 29607: 2, 29719: 1, 29948: 4, 424: 2, 646: 4, 1136: 5, 1553: 3, 1757: 8, 1909: 4, 1932: 1, 2214: 5, 2331: 12, 2710: 3, 2713: 1, 2858: 5, 3155: 2, 3359: 17, 3900: 3, 3955: 2, 4050: 1, 4245: 10, 5518: 2, 5745: 1, 5789: 4, 5842: 6, 6687: 5, 7369: 3, 7724: 5, 7933: 2, 8247: 1, 8465: 2, 9112: 2, 9191: 1, 9632: 2, 9663: 2, 9816: 2, 10025: 9, 10244: 4, 11366: 3, 11367: 3, 11446: 1, 13064: 2, 13704: 10, 13716: 3, 13810: 6, 14236: 2, 15039: 1, 15537: 1, 15589: 1, 15947: 11, 15956: 2, 15962: 1, 16168: 2, 16181: 2, 16212: 1, 16265: 1, 16358: 2, 16428: 3, 16483: 4, 16501: 1, 16519: 5, 16544: 1, 16580: 4, 16678: 12, 16717: 1, 16750: 1, 16756: 1, 16787: 2, 16847: 1, 16901: 1, 16982: 37, 17090: 2, 17101: 2, 17131: 3, 17149: 6, 17156: 1, 17194: 1, 17315: 33, 17346: 121, 17353: 4, 17401: 5, 17404: 1, 17422: 4, 17480: 11, 17530: 7, 17531: 2, 17540: 1, 17548: 4, 17583: 4, 17595: 3, 17612: 6, 17619: 1, 17620: 7, 17637: 1, 17665: 1, 17745: 4, 17756: 2, 17772: 4, 17787: 10, 17865: 132, 17985: 51, 18010: 1, 18031: 3, 18038: 1, 18045: 5, 18126: 1, 18127: 1, 18206: 62, 18237: 4, 18259: 2, 18326: 2, 18327: 3, 18344: 5, 18472: 5, 18528: 1, 18562: 5, 18580: 7, 18617: 3, 18630: 11, 18687: 4, 18775: 3, 18790: 4, 18830: 1, 18853: 3, 18861: 3, 18876: 1, 19058: 2, 19067: 1, 19087: 5, 19095: 2, 19164: 5, 19167: 2, 19170: 2, 19179: 7, 19199: 120, 19238: 20, 19273: 4, 19351: 1, 19363: 2, 19461: 2, 19469: 9, 19514: 2, 19516: 7, 19522: 31, 19533: 1, 19539: 4, 19540: 12, 19598: 2, 19703: 2, 19715: 1, 19741: 1, 19784: 8, 19805: 191, 19825: 2, 19827: 2, 19832: 7, 19859: 6, 19879: 2, 19921: 5, 19953: 4, 19975: 1, 20073: 3, 20079: 1, 20243: 2, 20293: 10, 20347: 11, 20375: 3, 20412: 8, 20433: 20, 20441: 2, 20455: 1, 20530: 2, 20565: 4, 20599: 2, 20721: 1, 20796: 1, 20799: 47, 20921: 1, 20922: 5, 20950: 6, 20978: 1, 21004: 1, 21139: 1, 21169: 3, 21183: 1, 21208: 3, 21223: 1, 21254: 4, 21257: 8, 21262: 4, 21269: 3, 21325: 2, 21327: 7, 21335: 1, 21386: 1, 21389: 1, 21413: 3, 21420: 123, 21431: 1, 21465: 6, 21466: 11, 21484: 3, 21546: 3, 21593: 2, 21683: 1, 21710: 4, 21720: 1, 21732: 2, 21734: 3, 21747: 2, 21761: 1, 21786: 20, 21799: 2, 21816: 3, 21831: 5, 21836: 1, 21837: 2, 21838: 1, 21861: 2, 21894: 3, 21906: 3, 21936: 5, 21944: 39, 21957: 4, 21972: 2, 21976: 7, 21987: 1, 22022: 1, 22119: 5, 22133: 3, 22149: 1, 22188: 1, 22211: 2, 22301: 2, 22303: 7, 22350: 1, 22521: 28, 22524: 1, 22582: 2, 22588: 1, 22660: 1, 22661: 9, 22702: 1, 22887: 11, 22942: 2, 23068: 6, 23078: 4, 23138: 1, 23144: 4, 23354: 27, 23364: 1, 23388: 2, 23391: 1, 23394: 1, 23402: 2, 23403: 1, 23450: 1, 23542: 5, 23568: 1, 23587: 2, 23590: 3, 23688: 5, 23708: 2, 23792: 2, 23794: 1, 23825: 3, 23868: 5, 23881: 1, 23888: 1, 23891: 12, 23898: 3, 23904: 1, 23905: 3, 23932: 7, 23949: 2, 23957: 1, 23981: 1, 23984: 3, 23998: 5, 24183: 4, 24215: 2, 24234: 5, 24263: 1, 24266: 7, 24274: 2, 24326: 2, 24327: 1, 24338: 49, 24430: 4, 24455: 1, 24457: 2, 24501: 1, 24557: 1, 24572: 3, 24619: 3, 24663: 6, 24692: 2, 24740: 4, 24756: 1, 24770: 2, 24806: 12, 24841: 3, 24889: 4, 24896: 41, 24914: 1, 25043: 1, 25051: 1, 25056: 5, 25061: 2, 25179: 14, 25194: 2, 25213: 24, 25214: 4, 25215: 2, 25220: 4, 25243: 2, 25247: 3, 25248: 2, 25249: 5, 25270: 3, 25274: 2, 25305: 1, 25342: 2, 25353: 4, 25431: 1, 25465: 1, 25538: 3, 25577: 2, 25638: 3, 25657: 4, 25672: 1, 25673: 3, 25707: 2, 25723: 4, 25752: 2, 25855: 6, 25915: 4, 25921: 2, 25923: 5, 25930: 1, 25973: 4, 25996: 8, 26062: 3, 26091: 2, 26214: 7, 26233: 1, 26373: 2, 26392: 177, 26424: 4, 26430: 5, 26433: 1, 26443: 1, 26490: 4, 26500: 4, 26526: 1, 26528: 24, 26546: 3, 26627: 11, 26660: 2, 26661: 1, 26666: 3, 26667: 4, 26669: 39, 26670: 1, 26699: 21, 26727: 1, 26751: 1, 26780: 1, 26814: 2, 26884: 1, 26886: 2, 26892: 3, 26920: 2, 26950: 2, 26959: 2, 26982: 2, 26987: 4, 26995: 1, 26998: 15, 27021: 3, 27047: 8, 27060: 1, 27102: 4, 27121: 5, 27144: 3, 27159: 2, 27187: 2, 27205: 4, 27210: 1, 27218: 4, 27274: 4, 27328: 1, 27373: 1, 27403: 2, 27467: 8, 27506: 1, 27634: 3, 27649: 3, 27663: 3, 27749: 4, 27812: 2, 27836: 5, 27840: 11, 27845: 1, 27846: 4, 27869: 4, 27888: 2, 27913: 2, 27918: 5, 27931: 60, 27950: 4, 27986: 2, 28002: 4, 28123: 4, 28146: 7, 28148: 11, 28174: 2, 28177: 3, 28189: 2, 28219: 6, 28318: 3, 28326: 5, 28450: 9, 28451: 4, 28502: 1, 28516: 1, 28535: 8, 28569: 1, 28576: 1, 28616: 1, 28651: 3, 28671: 1, 28680: 2, 28705: 1, 28735: 46, 28760: 1, 28812: 4, 28878: 2, 28879: 7, 28895: 1, 28915: 6, 28924: 2, 29016: 1, 29140: 1, 29177: 2, 29195: 1, 29202: 4, 29236: 8, 29255: 1, 29273: 1, 29314: 8, 29343: 5, 29383: 4, 29384: 3, 29544: 4, 29697: 2, 29726: 3, 29805: 5, 29930: 2, 29936: 1, 29942: 2, 30016: 1}\n",
      "Player who changes the most: 23566\n",
      "------------------------------------------------------------------------------------------------------------------\n",
      "Count of players who increase_maxbet : 1043\n",
      "Count of times each player increase_maxbet : {113: 2, 460: 96, 865: 5, 1008: 134, 1069: 1, 1233: 10, 2070: 4, 2073: 5, 2157: 16, 2479: 5, 2736: 533, 3010: 2, 3634: 74, 5560: 125, 5676: 9, 5829: 18, 6894: 12, 7051: 6, 8412: 165, 8978: 8, 9788: 593, 12148: 7, 12173: 130, 16243: 516, 16275: 50, 16299: 2, 16380: 5, 16468: 8, 16958: 15, 17170: 72, 17375: 1, 17585: 8, 18082: 2, 18333: 46, 18397: 6, 18406: 15, 18432: 16, 18465: 10, 19270: 11, 19527: 3, 19568: 86, 19576: 7, 19987: 12, 20302: 2, 20390: 14, 20458: 14, 20607: 18, 20625: 10, 20689: 3, 20774: 24, 20857: 13, 20968: 348, 21237: 16, 21722: 3, 21842: 21, 22058: 11, 22087: 8, 22092: 4, 22208: 242, 22836: 16, 23203: 1, 23267: 5, 23329: 33, 23355: 17, 23433: 10, 23444: 3, 23452: 3, 23519: 15, 23520: 11, 23566: 1145, 23611: 16, 23634: 21, 23681: 1, 23700: 4, 23743: 7, 23763: 12, 24735: 29, 24797: 2, 25231: 10, 25268: 4, 25444: 4, 25624: 6, 25725: 20, 25858: 2, 25881: 11, 26013: 12, 26041: 2, 26429: 15, 26639: 10, 26738: 5, 26798: 1, 26845: 10, 26885: 1, 26931: 47, 26937: 6, 26994: 4, 27306: 1, 27942: 11, 28161: 8, 28186: 20, 28230: 1, 28232: 15, 28487: 30, 28557: 20, 28578: 1, 28890: 30, 28918: 1018, 29337: 11, 29374: 3, 94: 6, 198: 7, 224: 6, 1013: 1, 1243: 4, 1371: 7, 1483: 2, 1604: 6, 1890: 2, 2001: 5, 2097: 25, 2099: 39, 2198: 7, 2343: 16, 2806: 21, 2906: 3, 2959: 8, 3058: 1, 3360: 27, 3385: 42, 3404: 6, 3677: 15, 3708: 6, 4015: 2, 4265: 4, 4483: 2, 4680: 1, 5947: 10, 6001: 4, 6256: 2, 6271: 2, 6290: 5, 6532: 5, 6862: 1, 6910: 5, 7009: 1, 7119: 1, 8353: 14, 8370: 15, 8464: 5, 8568: 10, 8827: 7, 9049: 8, 9105: 16, 9199: 8, 9236: 9, 9254: 4, 9357: 23, 9434: 1, 9598: 2, 9682: 4, 10248: 15, 10593: 59, 10671: 2, 11358: 1, 12043: 3, 12452: 3, 13204: 2, 13256: 3, 13753: 3, 14778: 9, 14823: 7, 15069: 1, 15265: 5, 15898: 12, 16140: 4, 16197: 6, 16247: 1, 16294: 24, 16438: 1, 16465: 3, 16488: 4, 16506: 6, 16538: 12, 16679: 29, 16696: 9, 16697: 20, 16752: 6, 16804: 12, 16867: 312, 16941: 4, 17018: 2, 17097: 33, 17190: 2, 17213: 3, 17256: 23, 17338: 11, 17343: 2, 17363: 9, 17368: 3, 17369: 2, 17374: 3, 17380: 7, 17386: 17, 17390: 1, 17402: 6, 17455: 3, 17501: 9, 17505: 11, 17582: 3, 17655: 3, 17679: 44, 17701: 2, 17709: 9, 17711: 1, 17721: 135, 17744: 1, 17757: 131, 17793: 7, 17838: 1, 17866: 28, 17870: 4, 17878: 7, 17962: 11, 17972: 10, 17998: 1, 18065: 3, 18098: 4, 18109: 5, 18119: 4, 18260: 7, 18473: 3, 18479: 4, 18493: 1, 18499: 15, 18546: 7, 18588: 3, 18624: 1, 18720: 183, 18751: 4, 18778: 4, 18827: 214, 18845: 4, 18846: 4, 18910: 2, 18914: 357, 19041: 8, 19043: 7, 19101: 3, 19112: 3, 19166: 84, 19236: 2, 19244: 6, 19268: 5, 19384: 7, 19459: 1, 19487: 130, 19646: 3, 19713: 8, 19740: 3, 19748: 2, 19824: 5, 19877: 1, 19969: 14, 20059: 1, 20070: 67, 20072: 70, 20134: 4, 20146: 3, 20152: 5, 20215: 14, 20309: 6, 20349: 25, 20350: 19, 20355: 4, 20365: 26, 20367: 6, 20425: 6, 20426: 3, 20451: 15, 20476: 1, 20538: 13, 20572: 7, 20651: 15, 20671: 5, 20686: 8, 20687: 5, 20698: 105, 20775: 9, 20817: 1, 20870: 6, 20875: 4, 20883: 8, 20930: 38, 20945: 47, 20972: 3, 21007: 59, 21023: 1, 21032: 10, 21052: 101, 21061: 1, 21155: 2, 21249: 1, 21365: 4, 21388: 11, 21600: 9, 21630: 2, 21719: 2, 21815: 2, 21843: 3, 21855: 6, 21874: 138, 21953: 4, 21971: 4, 22006: 2, 22032: 2, 22039: 12, 22040: 6, 22082: 2, 22137: 5, 22147: 2, 22148: 2, 22158: 8, 22209: 2, 22213: 25, 22267: 5, 22316: 24, 22336: 13, 22345: 5, 22409: 9, 22476: 4, 22532: 1, 22546: 12, 22550: 8, 22568: 3, 22577: 48, 22580: 12, 22602: 23, 22610: 8, 22611: 5, 22615: 3, 22735: 3, 22747: 8, 22758: 10, 22799: 5, 22831: 3, 22903: 1, 22910: 8, 22946: 5, 22988: 7, 23061: 6, 23178: 3, 23225: 10, 23238: 6, 23262: 6, 23311: 3, 23316: 8, 23348: 8, 23350: 18, 23351: 15, 23432: 2, 23449: 11, 23463: 10, 23509: 13, 23544: 23, 23593: 3, 23632: 473, 23666: 3, 23759: 11, 23821: 3, 23826: 1, 23840: 3, 23886: 13, 23900: 11, 23929: 8, 23934: 10, 23941: 7, 23963: 267, 23990: 2, 23997: 6, 24028: 13, 24035: 1, 24076: 6, 24099: 1, 24126: 1, 24142: 7, 24158: 1, 24225: 4, 24230: 51, 24257: 9, 24270: 2, 24305: 3, 24347: 12, 24502: 1, 24506: 5, 24516: 6, 24574: 2, 24626: 9, 24765: 11, 24798: 9, 24833: 21, 24904: 2, 24937: 2, 24995: 6, 25027: 1, 25085: 17, 25103: 1, 25137: 4, 25177: 46, 25206: 404, 25321: 11, 25331: 4, 25395: 2, 25400: 9, 25492: 49, 25526: 1, 25559: 2, 25587: 4, 25607: 9, 25668: 7, 25726: 2, 25785: 169, 25846: 2, 25877: 3, 25920: 3, 25931: 3, 25970: 3, 26068: 1, 26097: 1, 26181: 3, 26184: 6, 26190: 5, 26209: 12, 26304: 147, 26322: 1, 26382: 3, 26427: 5, 26447: 1026, 26582: 8, 26588: 3, 26606: 4, 26653: 11, 26659: 16, 26687: 8, 26730: 8, 26774: 5, 26776: 3, 26849: 18, 26913: 7, 26929: 20, 26939: 31, 26956: 1, 26957: 8, 26965: 4, 26980: 1, 27000: 47, 27025: 5, 27040: 4, 27041: 4, 27085: 7, 27096: 5, 27099: 16, 27100: 6, 27120: 3, 27145: 28, 27147: 23, 27164: 7, 27170: 7, 27221: 118, 27247: 1, 27282: 26, 27285: 5, 27308: 8, 27352: 6, 27353: 73, 27359: 5, 27374: 17, 27394: 13, 27413: 5, 27440: 2, 27451: 7, 27464: 81, 27471: 1, 27530: 6, 27531: 7, 27544: 7, 27708: 2, 27773: 5, 27791: 4, 27809: 16, 27890: 3, 27949: 10, 28001: 6, 28008: 5, 28020: 7, 28028: 5, 28035: 4, 28036: 7, 28052: 4, 28057: 5, 28060: 3, 28094: 5, 28095: 7, 28130: 2, 28162: 8, 28244: 44, 28380: 6, 28403: 31, 28425: 9, 28477: 1, 28515: 3, 28655: 4, 28663: 5, 28681: 5, 28707: 15, 28739: 11, 28776: 2, 28794: 258, 28813: 9, 28861: 4, 28868: 3, 28888: 16, 28919: 10, 28926: 11, 29023: 9, 29175: 4, 29176: 2, 29303: 6, 29311: 2, 29328: 39, 29336: 10, 29358: 403, 29380: 2, 29382: 9, 29449: 8, 29587: 8, 29607: 3, 29719: 2, 29948: 2, 13: 5, 424: 1, 646: 4, 1136: 1, 1553: 5, 1757: 16, 1909: 1, 1932: 6, 2114: 7, 2197: 1, 2214: 7, 2331: 15, 2710: 3, 2713: 6, 2858: 4, 3155: 3, 3359: 13, 3900: 6, 4050: 2, 4245: 10, 4912: 1, 4950: 4, 5042: 1, 5518: 3, 5745: 5, 5789: 3, 5842: 12, 6687: 3, 7369: 4, 7724: 6, 9112: 14, 9632: 8, 9663: 3, 9816: 5, 10025: 14, 10244: 3, 10597: 3, 11162: 1, 11366: 2, 11367: 4, 11446: 6, 12885: 1, 13064: 3, 13088: 1, 13252: 2, 13704: 12, 13716: 1, 13810: 4, 14236: 2, 15039: 8, 15537: 1, 15589: 1, 15892: 3, 15947: 6, 15956: 6, 15962: 16, 16168: 3, 16181: 4, 16212: 2, 16265: 1, 16272: 1, 16358: 3, 16428: 5, 16483: 5, 16501: 2, 16519: 9, 16544: 1, 16580: 3, 16678: 11, 16701: 1, 16717: 1, 16750: 2, 16756: 2, 16787: 2, 16847: 1, 16901: 4, 16982: 126, 17022: 1, 17090: 2, 17096: 4, 17101: 1, 17131: 3, 17149: 4, 17156: 1, 17187: 1, 17194: 1, 17315: 24, 17340: 4, 17346: 122, 17353: 5, 17401: 8, 17404: 4, 17422: 6, 17480: 87, 17530: 8, 17540: 3, 17548: 4, 17583: 1, 17595: 3, 17612: 6, 17619: 1, 17620: 10, 17637: 2, 17665: 4, 17738: 2, 17745: 4, 17756: 2, 17772: 3, 17787: 13, 17860: 5, 17865: 155, 17985: 47, 18010: 2, 18038: 1, 18045: 5, 18126: 1, 18127: 3, 18206: 63, 18237: 5, 18249: 1, 18259: 2, 18326: 4, 18327: 5, 18344: 49, 18472: 9, 18528: 2, 18562: 4, 18580: 13, 18617: 3, 18630: 15, 18775: 4, 18790: 1, 18853: 2, 18861: 3, 18864: 4, 18876: 2, 19015: 6, 19058: 3, 19067: 1, 19087: 6, 19095: 1, 19102: 1, 19164: 15, 19167: 5, 19170: 6, 19179: 8, 19199: 2, 19238: 2, 19273: 8, 19315: 2, 19347: 1, 19351: 1, 19363: 2, 19387: 5, 19461: 3, 19469: 9, 19514: 3, 19516: 15, 19522: 32, 19533: 2, 19539: 4, 19540: 16, 19644: 1, 19703: 2, 19715: 1, 19741: 2, 19753: 1, 19784: 7, 19805: 160, 19825: 3, 19827: 4, 19832: 5, 19859: 9, 19879: 1, 19921: 5, 19953: 3, 19975: 5, 19981: 22, 20073: 3, 20079: 1, 20243: 3, 20293: 13, 20296: 4, 20307: 5, 20347: 9, 20373: 3, 20375: 5, 20391: 3, 20412: 8, 20433: 65, 20441: 1, 20455: 3, 20471: 305, 20530: 5, 20544: 34, 20565: 4, 20599: 1, 20796: 3, 20868: 3, 20921: 4, 20922: 8, 20950: 4, 20961: 14, 20971: 1, 21004: 7, 21139: 2, 21169: 7, 21183: 1, 21208: 6, 21223: 3, 21254: 2, 21257: 11, 21262: 7, 21269: 4, 21325: 6, 21335: 8, 21344: 3, 21386: 5, 21389: 2, 21413: 6, 21420: 125, 21431: 8, 21465: 6, 21466: 12, 21484: 3, 21546: 3, 21593: 4, 21639: 1, 21683: 2, 21710: 42, 21720: 1, 21732: 3, 21734: 3, 21747: 3, 21761: 57, 21786: 20, 21799: 2, 21816: 6, 21817: 3, 21831: 7, 21836: 5, 21837: 3, 21840: 5, 21861: 3, 21894: 3, 21906: 4, 21936: 4, 21939: 2, 21957: 4, 21972: 2, 21976: 13, 21987: 4, 22022: 2, 22035: 3, 22119: 5, 22149: 1, 22188: 5, 22211: 3, 22278: 1, 22301: 2, 22350: 1, 22521: 4, 22524: 3, 22582: 2, 22660: 2, 22661: 10, 22702: 2, 22887: 9, 22942: 4, 22998: 58, 23068: 11, 23078: 2, 23144: 2, 23323: 1, 23354: 3, 23363: 12, 23364: 9, 23388: 1, 23391: 5, 23394: 5, 23402: 3, 23403: 6, 23450: 1, 23542: 5, 23568: 1, 23587: 2, 23590: 4, 23688: 6, 23708: 3, 23792: 4, 23794: 2, 23825: 3, 23868: 1, 23881: 1, 23888: 2, 23891: 27, 23898: 4, 23899: 4, 23904: 3, 23905: 4, 23932: 11, 23949: 2, 23957: 3, 23964: 234, 23981: 1, 23984: 9, 23998: 10, 24183: 5, 24215: 3, 24234: 6, 24263: 5, 24266: 2, 24274: 12, 24326: 2, 24327: 3, 24338: 49, 24346: 1, 24430: 17, 24455: 2, 24457: 1, 24488: 2, 24501: 6, 24528: 3, 24557: 145, 24572: 5, 24619: 3, 24692: 8, 24740: 3, 24756: 1, 24770: 2, 24806: 15, 24841: 5, 24887: 4, 24889: 4, 25043: 1, 25051: 1, 25056: 8, 25061: 2, 25179: 16, 25194: 4, 25213: 11, 25214: 4, 25215: 2, 25220: 5, 25243: 3, 25247: 3, 25248: 4, 25249: 6, 25270: 5, 25274: 60, 25305: 1, 25342: 3, 25353: 5, 25358: 1, 25431: 2, 25465: 1, 25523: 2, 25538: 5, 25577: 3, 25638: 3, 25649: 5, 25657: 4, 25672: 4, 25673: 3, 25692: 3, 25707: 3, 25723: 4, 25752: 1, 25758: 2, 25855: 8, 25915: 6, 25921: 2, 25923: 7, 25927: 2, 25930: 7, 25957: 5, 25973: 1, 25996: 2, 26062: 3, 26091: 4, 26214: 13, 26233: 2, 26282: 3, 26373: 4, 26392: 177, 26424: 3, 26430: 7, 26433: 6, 26443: 5, 26490: 1, 26500: 4, 26526: 1, 26546: 3, 26627: 6, 26660: 7, 26661: 7, 26666: 3, 26667: 70, 26669: 184, 26670: 1, 26699: 13, 26751: 1, 26780: 1, 26814: 3, 26884: 10, 26886: 5, 26892: 6, 26920: 3, 26950: 5, 26959: 3, 26982: 2, 26987: 5, 26995: 2, 26998: 22, 27021: 4, 27047: 17, 27060: 3, 27073: 6, 27102: 8, 27121: 8, 27144: 5, 27159: 3, 27187: 5, 27205: 10, 27210: 2, 27218: 11, 27274: 4, 27328: 2, 27403: 1, 27448: 2, 27467: 11, 27500: 1, 27506: 3, 27634: 5, 27649: 4, 27663: 2, 27749: 5, 27812: 3, 27836: 3, 27840: 6, 27845: 1, 27846: 3, 27869: 7, 27888: 5, 27913: 3, 27915: 1, 27918: 7, 27931: 62, 27950: 8, 27986: 1, 27994: 1, 28002: 4, 28112: 6, 28123: 4, 28146: 5, 28148: 2, 28174: 7, 28177: 9, 28189: 4, 28219: 7, 28318: 5, 28326: 7, 28412: 1, 28450: 7, 28451: 7, 28502: 1, 28516: 5, 28535: 8, 28651: 4, 28671: 2, 28680: 4, 28705: 4, 28706: 4, 28714: 2, 28735: 47, 28760: 2, 28812: 12, 28878: 1, 28879: 2, 28895: 3, 28915: 4, 28924: 3, 28981: 1, 29016: 5, 29094: 45, 29140: 1, 29177: 2, 29195: 45, 29202: 16, 29236: 14, 29255: 2, 29265: 2, 29273: 1, 29314: 7, 29343: 8, 29383: 15, 29384: 4, 29544: 5, 29726: 2, 29804: 85, 29805: 8, 29930: 7, 29936: 6, 29942: 4, 30016: 15}\n",
      "Player who changes the most: 23566\n",
      "------------------------------------------------------------------------------------------------------------------\n",
      "Count of players who decrease_maxbet : 1044\n",
      "Count of times each player decrease_maxbet : {113: 2, 460: 94, 865: 4, 1008: 138, 1069: 1, 1233: 9, 2070: 4, 2073: 4, 2157: 16, 2479: 6, 2736: 536, 3010: 2, 3634: 74, 5147: 1, 5560: 125, 5676: 11, 5829: 22, 6894: 12, 7051: 15, 7967: 2, 8412: 167, 8978: 6, 9788: 591, 12148: 8, 12173: 129, 16243: 515, 16275: 50, 16299: 4, 16380: 4, 16468: 7, 16505: 1, 16958: 14, 17170: 70, 17375: 1, 17585: 7, 17717: 1, 18082: 2, 18333: 56, 18397: 6, 18406: 14, 18432: 17, 18465: 9, 19270: 12, 19527: 2, 19568: 86, 19576: 7, 19987: 10, 20302: 3, 20390: 12, 20458: 17, 20607: 19, 20625: 11, 20689: 3, 20774: 21, 20857: 14, 20968: 346, 21237: 15, 21722: 2, 21842: 12, 22058: 8, 22087: 9, 22092: 4, 22208: 241, 22836: 15, 23203: 1, 23267: 3, 23329: 31, 23355: 21, 23433: 7, 23444: 3, 23452: 5, 23519: 18, 23520: 10, 23566: 1144, 23611: 15, 23634: 18, 23681: 2, 23700: 3, 23743: 5, 23763: 13, 24735: 25, 24797: 2, 25231: 9, 25268: 5, 25444: 4, 25624: 3, 25725: 19, 25858: 1, 25881: 10, 26013: 11, 26041: 1, 26429: 12, 26639: 8, 26738: 5, 26798: 1, 26845: 7, 26931: 53, 26937: 7, 26994: 5, 27306: 1, 27942: 12, 28161: 6, 28186: 21, 28230: 2, 28232: 14, 28487: 31, 28557: 22, 28578: 4, 28710: 1, 28890: 30, 28918: 1019, 29337: 11, 29374: 3, 94: 5, 198: 10, 224: 6, 1013: 3, 1243: 2, 1371: 5, 1483: 3, 1604: 5, 1890: 2, 2001: 6, 2097: 22, 2099: 39, 2198: 8, 2343: 14, 2806: 14, 2906: 2, 2959: 8, 3058: 1, 3360: 22, 3385: 36, 3404: 6, 3677: 17, 3708: 4, 4015: 2, 4265: 3, 4483: 3, 5947: 9, 6001: 4, 6256: 3, 6271: 2, 6290: 6, 6532: 5, 6862: 1, 6910: 8, 7119: 2, 8353: 8, 8370: 15, 8464: 4, 8568: 11, 8827: 6, 9049: 8, 9105: 14, 9199: 8, 9236: 7, 9254: 3, 9357: 22, 9434: 2, 9598: 2, 9682: 4, 10248: 20, 10593: 59, 10671: 2, 11358: 1, 12043: 3, 12452: 2, 13204: 4, 13256: 3, 13753: 4, 14778: 8, 14823: 8, 15069: 2, 15265: 4, 15898: 13, 16140: 4, 16197: 5, 16247: 1, 16294: 23, 16465: 1, 16488: 1, 16506: 7, 16538: 12, 16679: 27, 16696: 6, 16697: 25, 16752: 6, 16773: 1, 16804: 11, 16867: 313, 16941: 6, 17018: 2, 17097: 38, 17190: 1, 17213: 2, 17256: 20, 17338: 10, 17343: 4, 17363: 6, 17368: 2, 17369: 2, 17374: 3, 17380: 10, 17386: 16, 17390: 2, 17402: 7, 17455: 2, 17501: 7, 17505: 9, 17582: 6, 17655: 2, 17679: 44, 17701: 2, 17709: 13, 17711: 1, 17721: 136, 17744: 1, 17757: 129, 17793: 16, 17838: 1, 17866: 30, 17870: 4, 17878: 8, 17962: 13, 17972: 7, 17998: 1, 18065: 3, 18098: 3, 18109: 8, 18119: 1, 18260: 11, 18473: 2, 18479: 4, 18493: 1, 18499: 13, 18546: 5, 18588: 3, 18624: 1, 18720: 186, 18751: 4, 18778: 2, 18827: 216, 18845: 1, 18846: 5, 18910: 2, 18914: 358, 19041: 6, 19043: 8, 19044: 1, 19045: 1, 19101: 3, 19112: 2, 19166: 82, 19236: 2, 19244: 9, 19268: 3, 19384: 4, 19459: 2, 19487: 130, 19646: 2, 19713: 10, 19740: 1, 19748: 1, 19824: 6, 19969: 15, 20059: 2, 20070: 66, 20072: 72, 20134: 5, 20146: 4, 20152: 3, 20215: 19, 20309: 3, 20349: 27, 20350: 19, 20355: 4, 20365: 26, 20367: 7, 20425: 5, 20426: 2, 20451: 13, 20476: 1, 20538: 13, 20572: 7, 20651: 13, 20671: 5, 20686: 7, 20687: 3, 20698: 99, 20775: 11, 20870: 7, 20875: 3, 20883: 7, 20930: 37, 20945: 46, 20972: 2, 21007: 59, 21023: 1, 21032: 12, 21052: 109, 21155: 2, 21249: 1, 21365: 4, 21388: 12, 21600: 6, 21630: 2, 21719: 1, 21815: 3, 21843: 4, 21855: 8, 21874: 137, 21953: 5, 21971: 4, 22006: 1, 22032: 1, 22039: 8, 22040: 2, 22082: 3, 22137: 3, 22147: 2, 22148: 2, 22158: 10, 22209: 4, 22213: 27, 22267: 5, 22316: 23, 22336: 12, 22345: 8, 22409: 8, 22476: 3, 22546: 12, 22550: 6, 22568: 5, 22577: 44, 22580: 15, 22602: 23, 22610: 10, 22611: 7, 22615: 2, 22735: 1, 22747: 6, 22758: 12, 22799: 6, 22831: 2, 22903: 2, 22910: 10, 22946: 6, 22988: 6, 23061: 3, 23178: 1, 23225: 8, 23238: 3, 23262: 8, 23311: 2, 23316: 9, 23348: 12, 23350: 18, 23351: 19, 23432: 2, 23449: 11, 23463: 8, 23509: 17, 23525: 1, 23544: 23, 23593: 4, 23632: 472, 23666: 3, 23759: 13, 23821: 2, 23826: 1, 23840: 2, 23886: 16, 23900: 10, 23929: 7, 23934: 14, 23941: 7, 23963: 266, 23990: 2, 23997: 3, 24028: 10, 24035: 1, 24076: 5, 24099: 1, 24142: 7, 24158: 3, 24225: 4, 24230: 51, 24257: 6, 24305: 5, 24347: 10, 24502: 2, 24506: 9, 24516: 5, 24626: 9, 24765: 13, 24798: 8, 24833: 18, 24904: 2, 24937: 4, 24995: 4, 25027: 1, 25085: 17, 25103: 1, 25137: 4, 25177: 48, 25206: 404, 25321: 9, 25331: 6, 25395: 1, 25400: 8, 25492: 49, 25526: 1, 25559: 2, 25587: 3, 25607: 11, 25668: 7, 25726: 2, 25785: 169, 25846: 1, 25877: 2, 25920: 4, 25931: 3, 25970: 2, 26181: 4, 26184: 4, 26190: 6, 26209: 10, 26304: 148, 26322: 1, 26382: 3, 26427: 4, 26447: 1026, 26582: 8, 26588: 3, 26606: 4, 26653: 8, 26659: 15, 26687: 6, 26730: 10, 26774: 8, 26776: 2, 26849: 17, 26913: 7, 26929: 19, 26939: 38, 26956: 1, 26957: 6, 26965: 3, 26980: 1, 27000: 43, 27025: 6, 27040: 5, 27041: 3, 27085: 5, 27096: 7, 27099: 16, 27100: 6, 27120: 3, 27145: 26, 27147: 24, 27164: 4, 27170: 10, 27221: 114, 27247: 1, 27282: 26, 27285: 6, 27308: 3, 27352: 4, 27353: 70, 27359: 7, 27374: 21, 27394: 15, 27413: 4, 27440: 2, 27451: 2, 27464: 82, 27471: 2, 27530: 3, 27531: 6, 27544: 7, 27708: 5, 27773: 4, 27791: 6, 27809: 12, 27890: 2, 27949: 11, 28001: 6, 28008: 5, 28020: 7, 28028: 5, 28035: 7, 28036: 7, 28052: 5, 28057: 5, 28060: 3, 28094: 7, 28095: 6, 28130: 2, 28162: 7, 28244: 46, 28380: 2, 28403: 34, 28425: 10, 28477: 1, 28515: 2, 28655: 2, 28663: 7, 28681: 4, 28707: 12, 28739: 10, 28776: 3, 28794: 257, 28813: 6, 28861: 2, 28868: 5, 28888: 17, 28919: 10, 28926: 12, 29023: 14, 29168: 1, 29175: 4, 29176: 2, 29303: 7, 29311: 3, 29328: 40, 29336: 10, 29358: 403, 29380: 2, 29382: 13, 29449: 7, 29587: 10, 29607: 1, 29719: 2, 29948: 2, 29974: 1, 13: 3, 424: 3, 646: 5, 1136: 4, 1553: 5, 1757: 14, 1909: 1, 1932: 7, 2114: 6, 2197: 2, 2214: 5, 2331: 12, 2710: 2, 2713: 7, 2858: 5, 3155: 3, 3359: 11, 3900: 7, 4050: 2, 4245: 13, 4950: 5, 5042: 1, 5518: 5, 5745: 4, 5789: 3, 5842: 9, 6687: 2, 7369: 5, 7724: 5, 9112: 11, 9632: 11, 9663: 4, 9816: 3, 10025: 16, 10244: 3, 10597: 1, 11366: 2, 11367: 4, 11446: 4, 13064: 2, 13088: 2, 13252: 1, 13704: 8, 13716: 4, 13810: 5, 14236: 3, 15039: 8, 15537: 1, 15589: 1, 15892: 2, 15947: 6, 15956: 4, 15962: 13, 16168: 2, 16181: 2, 16212: 2, 16358: 2, 16428: 5, 16432: 1, 16483: 6, 16501: 3, 16519: 7, 16544: 1, 16580: 3, 16678: 9, 16701: 1, 16750: 1, 16756: 2, 16787: 2, 16847: 1, 16901: 3, 16982: 124, 17022: 1, 17090: 3, 17096: 3, 17101: 2, 17131: 4, 17149: 4, 17156: 1, 17187: 2, 17315: 25, 17324: 1, 17340: 3, 17346: 122, 17353: 4, 17401: 7, 17404: 3, 17422: 10, 17480: 82, 17530: 9, 17540: 4, 17548: 7, 17583: 1, 17595: 4, 17599: 1, 17612: 7, 17620: 9, 17637: 1, 17665: 3, 17745: 2, 17756: 2, 17772: 2, 17787: 15, 17860: 3, 17865: 155, 17882: 1, 17985: 47, 18010: 2, 18038: 2, 18045: 6, 18126: 3, 18127: 4, 18206: 63, 18237: 3, 18249: 4, 18259: 3, 18326: 3, 18327: 5, 18344: 50, 18472: 7, 18528: 4, 18562: 4, 18580: 15, 18617: 3, 18630: 16, 18775: 4, 18853: 1, 18861: 4, 18864: 3, 18876: 2, 19015: 4, 19058: 5, 19067: 1, 19087: 6, 19095: 1, 19102: 2, 19164: 16, 19167: 1, 19170: 4, 19179: 6, 19183: 1, 19199: 1, 19238: 3, 19271: 1, 19273: 11, 19315: 2, 19351: 1, 19363: 3, 19387: 3, 19461: 5, 19469: 7, 19514: 2, 19516: 15, 19522: 31, 19533: 2, 19539: 2, 19540: 14, 19644: 1, 19703: 2, 19741: 4, 19753: 1, 19784: 10, 19805: 158, 19825: 4, 19827: 6, 19832: 5, 19859: 17, 19879: 3, 19921: 6, 19953: 3, 19975: 3, 19981: 22, 20073: 3, 20079: 1, 20243: 3, 20293: 13, 20296: 2, 20307: 2, 20347: 8, 20373: 2, 20375: 6, 20391: 4, 20412: 5, 20433: 66, 20441: 1, 20455: 4, 20471: 304, 20530: 5, 20544: 34, 20565: 7, 20599: 2, 20657: 1, 20721: 1, 20796: 9, 20799: 3, 20868: 2, 20921: 3, 20922: 6, 20950: 3, 20961: 15, 20971: 2, 21004: 11, 21139: 2, 21169: 10, 21183: 4, 21208: 4, 21223: 1, 21254: 5, 21257: 8, 21262: 9, 21269: 5, 21325: 7, 21335: 5, 21344: 1, 21386: 8, 21389: 2, 21413: 6, 21420: 125, 21431: 8, 21465: 6, 21466: 13, 21484: 4, 21546: 1, 21593: 5, 21639: 2, 21683: 4, 21710: 42, 21732: 3, 21734: 5, 21747: 3, 21761: 57, 21786: 21, 21799: 1, 21816: 6, 21817: 4, 21831: 7, 21836: 5, 21837: 1, 21840: 5, 21861: 3, 21894: 5, 21906: 3, 21936: 4, 21939: 3, 21957: 2, 21972: 3, 21976: 13, 21987: 2, 22022: 1, 22035: 1, 22119: 4, 22133: 1, 22166: 1, 22188: 5, 22211: 1, 22301: 1, 22350: 3, 22521: 3, 22524: 3, 22582: 2, 22588: 1, 22660: 1, 22661: 14, 22702: 3, 22805: 1, 22887: 10, 22942: 6, 22998: 57, 23068: 8, 23078: 2, 23144: 1, 23323: 1, 23354: 4, 23363: 10, 23364: 13, 23388: 1, 23391: 4, 23394: 4, 23402: 2, 23403: 10, 23450: 1, 23542: 7, 23587: 5, 23590: 4, 23665: 1, 23688: 4, 23708: 2, 23791: 1, 23792: 7, 23794: 1, 23825: 3, 23868: 1, 23888: 3, 23891: 27, 23898: 5, 23899: 4, 23904: 2, 23905: 4, 23932: 12, 23949: 1, 23964: 234, 23984: 8, 23998: 9, 24183: 7, 24206: 1, 24215: 2, 24234: 5, 24263: 7, 24266: 2, 24274: 12, 24326: 3, 24327: 4, 24338: 50, 24412: 1, 24430: 17, 24455: 4, 24488: 3, 24501: 3, 24528: 2, 24557: 146, 24572: 4, 24619: 3, 24692: 7, 24740: 3, 24770: 2, 24806: 14, 24841: 2, 24887: 2, 24889: 4, 25051: 1, 25056: 7, 25061: 2, 25179: 19, 25194: 2, 25213: 11, 25214: 6, 25215: 1, 25220: 7, 25243: 4, 25247: 2, 25248: 1, 25249: 5, 25270: 5, 25274: 57, 25342: 6, 25353: 1, 25358: 1, 25431: 3, 25465: 1, 25523: 1, 25538: 6, 25577: 3, 25638: 2, 25649: 3, 25657: 4, 25672: 2, 25673: 2, 25692: 1, 25707: 2, 25723: 4, 25752: 1, 25758: 5, 25855: 10, 25915: 10, 25921: 4, 25923: 7, 25927: 2, 25930: 9, 25957: 4, 25973: 1, 25996: 3, 26053: 2, 26062: 4, 26091: 3, 26214: 13, 26282: 3, 26373: 3, 26392: 177, 26424: 1, 26430: 5, 26433: 4, 26443: 5, 26490: 1, 26500: 4, 26546: 6, 26627: 4, 26660: 6, 26661: 6, 26666: 2, 26667: 67, 26669: 187, 26670: 2, 26699: 16, 26751: 3, 26780: 1, 26814: 3, 26831: 1, 26884: 10, 26886: 5, 26892: 8, 26920: 2, 26950: 5, 26959: 1, 26982: 3, 26987: 5, 26995: 2, 26998: 21, 27021: 6, 27047: 17, 27060: 2, 27073: 6, 27102: 7, 27121: 9, 27144: 4, 27159: 2, 27187: 5, 27205: 11, 27210: 3, 27218: 9, 27274: 5, 27328: 1, 27403: 1, 27448: 3, 27467: 11, 27499: 1, 27500: 1, 27506: 3, 27634: 1, 27649: 5, 27663: 2, 27749: 3, 27812: 3, 27836: 3, 27840: 5, 27845: 1, 27846: 3, 27869: 4, 27888: 5, 27913: 3, 27915: 2, 27918: 6, 27931: 62, 27950: 8, 27986: 1, 27994: 1, 27995: 1, 28002: 4, 28071: 2, 28082: 1, 28112: 7, 28123: 3, 28146: 5, 28148: 2, 28174: 6, 28177: 8, 28189: 4, 28219: 6, 28318: 6, 28326: 5, 28412: 1, 28450: 9, 28451: 4, 28502: 1, 28516: 5, 28535: 7, 28569: 2, 28651: 8, 28654: 1, 28671: 1, 28680: 3, 28705: 2, 28706: 2, 28714: 3, 28735: 48, 28760: 5, 28812: 10, 28878: 1, 28879: 2, 28895: 2, 28897: 1, 28915: 4, 28924: 3, 28965: 1, 28981: 1, 29016: 5, 29094: 45, 29164: 2, 29177: 1, 29195: 45, 29202: 10, 29236: 16, 29255: 2, 29265: 3, 29273: 1, 29314: 5, 29343: 8, 29383: 15, 29384: 6, 29544: 4, 29610: 1, 29697: 1, 29726: 3, 29804: 86, 29805: 8, 29930: 9, 29936: 8, 29942: 2, 30016: 15}\n",
      "Player who changes the most: 23566\n",
      "------------------------------------------------------------------------------------------------------------------\n"
     ]
    }
   ],
   "source": [
    "# Lets do the same but for bottom 20%\n",
    "players_increase_slot = cf.count_increase(df, \"increase_slotdeno\", \"playerkey\", \"slotdenomination\")\n",
    "players_decrease_slot = cf.count_decrease(df, \"decrease_slotdeno\", \"playerkey\", \"slotdenomination\")\n",
    "players_increase_maxbet = cf.count_increase(df, \"increase_maxbet\", \"playerkey\", \"maxbet\")\n",
    "players_decrease_maxbet = cf.count_decrease(df, \"decrease_maxbet\", \"playerkey\", \"maxbet\")\n"
   ]
  },
  {
   "cell_type": "code",
   "execution_count": 17,
   "metadata": {},
   "outputs": [
    {
     "name": "stdout",
     "output_type": "stream",
     "text": [
      "Count of players who increase_slotdeno : 965\n",
      "Count of times each player increase_slotdeno : {113: 4, 460: 21, 865: 1, 1008: 12, 1069: 4, 1166: 33, 1233: 29, 1402: 3, 2070: 1, 2073: 11, 2157: 58, 2479: 2, 2736: 421, 3010: 10, 3634: 10, 5147: 7, 5560: 1, 5676: 4, 5829: 13, 6894: 13, 7051: 54, 7967: 1, 8412: 241, 8978: 6, 9788: 708, 12148: 1, 12173: 32, 16243: 516, 16275: 22, 16299: 3, 16380: 162, 16468: 22, 16505: 1, 16958: 11, 17170: 63, 17585: 1, 17702: 2, 17717: 1, 18082: 3, 18333: 32, 18397: 5, 18406: 5, 18432: 14, 18465: 2, 19270: 13, 19527: 2, 19568: 9, 20188: 1, 20390: 13, 20458: 11, 20607: 41, 20625: 8, 20689: 4, 20774: 63, 20857: 15, 20968: 1, 21237: 19, 21842: 11, 22058: 6, 22087: 9, 22092: 109, 22208: 236, 22836: 61, 23203: 1, 23329: 132, 23355: 15, 23452: 4, 23519: 19, 23520: 13, 23566: 933, 23611: 4, 23634: 10, 23681: 22, 23700: 4, 23743: 7, 23763: 11, 24735: 4, 24797: 10, 24953: 4, 25231: 5, 25268: 6, 25444: 3, 25624: 1, 25725: 23, 25852: 5, 25858: 2, 25881: 13, 26013: 6, 26041: 1, 26429: 9, 26639: 6, 26738: 5, 26798: 2, 26845: 4, 26885: 7, 26931: 6, 26937: 3, 26994: 4, 27942: 5, 28161: 8, 28186: 17, 28230: 2, 28232: 21, 28487: 34, 28557: 7, 28578: 9, 28890: 39, 28918: 528, 29337: 4, 29374: 123, 94: 1, 198: 6, 224: 6, 1013: 3, 1243: 1, 1371: 4, 1483: 3, 1604: 1, 1890: 1, 2001: 2, 2097: 20, 2198: 5, 2343: 9, 2561: 9, 2806: 6, 2906: 4, 2959: 10, 3058: 1, 3127: 11, 3360: 33, 3385: 18, 3677: 36, 3708: 3, 4015: 2, 4265: 6, 4483: 16, 4680: 1, 5947: 2, 6001: 7, 6256: 1, 6271: 3, 6290: 2, 6532: 3, 6843: 1, 6910: 7, 7119: 2, 8353: 4, 8370: 49, 8568: 5, 8719: 14, 8827: 9, 9049: 11, 9105: 12, 9199: 4, 9236: 6, 9254: 6, 9357: 1, 9410: 1, 9598: 2, 9682: 7, 10248: 18, 10671: 1, 13083: 1, 13204: 6, 13256: 2, 14778: 2, 14823: 5, 15265: 13, 15898: 7, 16140: 1, 16197: 5, 16294: 20, 16465: 1, 16488: 1, 16506: 6, 16538: 13, 16679: 20, 16696: 3, 16697: 11, 16752: 6, 16773: 4, 16804: 6, 16867: 85, 16941: 1, 17018: 1, 17097: 12, 17213: 1, 17256: 16, 17338: 12, 17343: 1, 17363: 1, 17368: 1, 17369: 4, 17374: 4, 17380: 10, 17386: 10, 17390: 2, 17402: 4, 17455: 3, 17501: 2, 17505: 15, 17582: 9, 17655: 2, 17701: 3, 17709: 3, 17711: 1, 17721: 45, 17744: 6, 17757: 75, 17793: 3, 17838: 8, 17866: 33, 17870: 2, 17878: 304, 17962: 10, 17972: 3, 18065: 3, 18068: 1, 18070: 6, 18098: 2, 18109: 6, 18119: 3, 18220: 1, 18260: 8, 18473: 2, 18479: 6, 18499: 9, 18546: 5, 18588: 2, 18624: 1, 18686: 1, 18720: 125, 18751: 9, 18778: 1, 18827: 215, 18845: 4, 18846: 4, 18910: 2, 19041: 2, 19043: 4, 19044: 1, 19045: 1, 19101: 2, 19112: 3, 19236: 1, 19244: 6, 19268: 2, 19384: 3, 19458: 6, 19459: 3, 19487: 2, 19646: 1, 19688: 2, 19713: 22, 19748: 1, 19824: 1, 19969: 1, 20059: 1, 20070: 66, 20072: 69, 20134: 4, 20146: 4, 20152: 4, 20215: 9, 20309: 1, 20349: 18, 20350: 13, 20355: 1, 20367: 10, 20425: 2, 20426: 2, 20451: 3, 20476: 8, 20477: 6, 20538: 12, 20572: 6, 20651: 11, 20671: 2, 20686: 5, 20687: 3, 20698: 9, 20775: 6, 20822: 3, 20870: 6, 20872: 3, 20875: 4, 20883: 9, 20930: 16, 20945: 12, 20972: 7, 20996: 3, 21023: 4, 21032: 2, 21052: 67, 21155: 2, 21388: 5, 21600: 5, 21630: 3, 21719: 1, 21815: 2, 21843: 127, 21855: 3, 21953: 2, 21971: 4, 22006: 3, 22032: 3, 22039: 2, 22040: 1, 22082: 9, 22137: 3, 22147: 11, 22148: 6, 22158: 6, 22209: 6, 22213: 21, 22267: 1, 22316: 3, 22336: 11, 22345: 3, 22409: 7, 22471: 1, 22476: 1, 22532: 1, 22546: 17, 22550: 1, 22568: 1, 22577: 13, 22580: 24, 22602: 15, 22610: 1, 22611: 4, 22615: 1, 22735: 1, 22747: 6, 22758: 11, 22799: 7, 22831: 2, 22903: 6, 22910: 5, 22988: 2, 23061: 4, 23178: 2, 23225: 8, 23238: 9, 23262: 6, 23316: 8, 23348: 4, 23349: 1, 23350: 9, 23351: 12, 23432: 2, 23463: 4, 23509: 13, 23525: 1, 23544: 25, 23593: 1, 23632: 10, 23666: 1, 23759: 13, 23819: 1, 23821: 2, 23826: 1, 23840: 9, 23886: 10, 23900: 5, 23929: 8, 23934: 23, 23941: 2, 23963: 266, 23990: 2, 23997: 2, 24028: 7, 24035: 1, 24099: 4, 24126: 7, 24142: 9, 24158: 3, 24230: 86, 24257: 1, 24270: 1, 24305: 5, 24347: 113, 24506: 3, 24516: 10, 24626: 4, 24686: 1, 24765: 4, 24798: 13, 24833: 7, 24904: 2, 24937: 2, 24995: 3, 25027: 12, 25085: 5, 25103: 1, 25137: 6, 25177: 1, 25206: 356, 25321: 10, 25331: 7, 25395: 1, 25400: 5, 25492: 2, 25559: 4, 25587: 5, 25607: 31, 25668: 2, 25785: 122, 25846: 1, 25877: 6, 25920: 1, 25931: 21, 25970: 18, 26097: 3, 26181: 2, 26184: 4, 26190: 1, 26209: 5, 26304: 13, 26322: 1, 26382: 5, 26427: 4, 26582: 7, 26588: 2, 26606: 3, 26653: 12, 26659: 7, 26687: 4, 26774: 2, 26849: 5, 26913: 1, 26929: 27, 26939: 14, 26957: 4, 26965: 8, 26980: 6, 27000: 15, 27025: 1, 27085: 4, 27096: 8, 27099: 14, 27100: 1, 27120: 5, 27145: 4, 27147: 4, 27164: 5, 27170: 5, 27221: 49, 27282: 19, 27285: 4, 27308: 2, 27352: 4, 27353: 1, 27374: 10, 27394: 13, 27413: 5, 27440: 3, 27451: 1, 27464: 51, 27471: 5, 27530: 3, 27531: 2, 27544: 3, 27708: 11, 27773: 2, 27791: 6, 27809: 9, 27890: 2, 27949: 7, 28001: 16, 28008: 23, 28020: 4, 28028: 1, 28035: 5, 28036: 7, 28052: 3, 28060: 1, 28094: 2, 28095: 3, 28127: 2, 28130: 3, 28162: 6, 28244: 18, 28380: 4, 28403: 27, 28425: 5, 28655: 1, 28663: 9, 28681: 4, 28707: 9, 28739: 4, 28794: 218, 28813: 46, 28861: 3, 28868: 4, 28888: 13, 28919: 1, 28926: 10, 29023: 10, 29168: 1, 29175: 3, 29176: 2, 29303: 6, 29328: 2, 29336: 13, 29358: 398, 29380: 1, 29382: 8, 29449: 6, 29587: 5, 29607: 1, 29719: 3, 29948: 4, 29974: 1, 424: 2, 646: 2, 1136: 3, 1553: 2, 1757: 7, 1909: 3, 1932: 1, 1950: 1, 2197: 1, 2214: 6, 2331: 11, 2710: 2, 2713: 1, 2858: 5, 3155: 2, 3359: 9, 3900: 4, 3955: 3, 4050: 1, 4245: 10, 4912: 1, 5518: 4, 5745: 2, 5789: 3, 5842: 7, 6687: 2, 7369: 3, 7724: 3, 7933: 2, 8247: 1, 8465: 2, 9112: 3, 9632: 4, 9816: 1, 10025: 6, 10244: 5, 11366: 5, 11367: 4, 11446: 1, 13064: 2, 13704: 7, 13716: 1, 13810: 4, 14236: 2, 15039: 1, 15537: 1, 15589: 1, 15947: 9, 15956: 2, 15962: 1, 16168: 2, 16181: 2, 16358: 1, 16428: 2, 16432: 1, 16483: 4, 16501: 2, 16519: 4, 16544: 1, 16580: 4, 16678: 13, 16750: 3, 16756: 1, 16787: 2, 16847: 1, 16901: 1, 16982: 36, 17022: 2, 17090: 5, 17101: 2, 17131: 2, 17149: 4, 17156: 1, 17315: 29, 17346: 122, 17353: 3, 17401: 5, 17404: 3, 17422: 5, 17480: 10, 17530: 7, 17531: 2, 17540: 1, 17548: 3, 17583: 4, 17595: 5, 17599: 1, 17612: 5, 17620: 7, 17665: 1, 17745: 2, 17756: 3, 17772: 3, 17787: 14, 17865: 132, 17985: 53, 18031: 2, 18038: 1, 18045: 7, 18126: 1, 18127: 1, 18206: 63, 18237: 3, 18259: 3, 18326: 2, 18327: 1, 18344: 11, 18472: 4, 18528: 1, 18562: 5, 18580: 8, 18617: 4, 18630: 13, 18687: 3, 18775: 2, 18790: 3, 18830: 1, 18853: 1, 18861: 4, 18876: 1, 19058: 4, 19067: 1, 19087: 4, 19095: 1, 19164: 8, 19167: 1, 19170: 3, 19179: 5, 19183: 1, 19199: 120, 19238: 25, 19273: 5, 19351: 1, 19363: 3, 19461: 3, 19469: 7, 19514: 4, 19516: 9, 19522: 32, 19533: 1, 19539: 2, 19540: 9, 19598: 2, 19703: 2, 19715: 1, 19741: 2, 19784: 7, 19805: 199, 19825: 3, 19827: 2, 19832: 3, 19859: 8, 19879: 2, 19921: 4, 19953: 4, 19975: 1, 20073: 4, 20079: 1, 20243: 2, 20293: 7, 20347: 9, 20375: 2, 20412: 3, 20433: 20, 20441: 1, 20455: 1, 20530: 2, 20565: 6, 20599: 3, 20721: 1, 20796: 4, 20799: 49, 20921: 1, 20922: 4, 20950: 8, 20978: 2, 21004: 1, 21139: 1, 21169: 3, 21183: 1, 21208: 2, 21223: 1, 21254: 6, 21257: 7, 21262: 4, 21269: 3, 21325: 2, 21327: 8, 21386: 1, 21389: 2, 21413: 4, 21420: 123, 21431: 1, 21465: 7, 21466: 11, 21484: 3, 21546: 2, 21593: 3, 21639: 1, 21683: 2, 21710: 3, 21732: 2, 21734: 4, 21747: 2, 21761: 1, 21786: 27, 21799: 1, 21816: 2, 21831: 4, 21836: 1, 21837: 1, 21861: 2, 21894: 4, 21906: 2, 21936: 3, 21939: 1, 21944: 39, 21957: 2, 21972: 3, 21976: 7, 22022: 1, 22119: 4, 22133: 3, 22149: 1, 22188: 1, 22211: 4, 22294: 1, 22301: 4, 22303: 8, 22350: 2, 22521: 27, 22524: 1, 22582: 4, 22588: 3, 22660: 1, 22661: 11, 22805: 1, 22887: 11, 22942: 2, 23068: 5, 23078: 4, 23138: 1, 23144: 4, 23354: 29, 23364: 1, 23388: 2, 23402: 2, 23403: 1, 23450: 1, 23542: 9, 23587: 2, 23590: 4, 23665: 1, 23688: 3, 23708: 2, 23791: 1, 23792: 3, 23794: 1, 23825: 3, 23868: 5, 23888: 2, 23891: 12, 23898: 4, 23904: 1, 23905: 3, 23932: 6, 23949: 1, 23984: 2, 23998: 4, 24183: 3, 24215: 2, 24234: 8, 24263: 1, 24266: 6, 24274: 2, 24326: 3, 24327: 1, 24338: 50, 24412: 1, 24430: 3, 24455: 2, 24457: 1, 24501: 1, 24557: 1, 24572: 3, 24619: 3, 24663: 6, 24692: 2, 24740: 5, 24770: 2, 24806: 13, 24841: 1, 24889: 2, 24896: 57, 25051: 1, 25056: 5, 25061: 2, 25179: 16, 25194: 1, 25213: 31, 25214: 7, 25215: 1, 25220: 6, 25243: 2, 25247: 2, 25248: 2, 25249: 5, 25270: 3, 25274: 1, 25305: 1, 25342: 3, 25353: 1, 25431: 1, 25523: 1, 25538: 3, 25577: 3, 25638: 2, 25657: 2, 25673: 4, 25707: 5, 25723: 3, 25752: 2, 25855: 8, 25915: 4, 25921: 3, 25923: 4, 25930: 1, 25957: 1, 25973: 5, 25996: 6, 26053: 1, 26062: 5, 26091: 2, 26214: 8, 26373: 1, 26392: 177, 26424: 4, 26430: 5, 26443: 2, 26490: 3, 26500: 4, 26528: 25, 26546: 3, 26627: 10, 26660: 2, 26661: 1, 26666: 2, 26667: 3, 26669: 40, 26670: 2, 26699: 18, 26751: 1, 26780: 1, 26814: 2, 26884: 1, 26886: 1, 26892: 5, 26920: 1, 26950: 2, 26959: 2, 26982: 2, 26987: 3, 26995: 1, 26998: 15, 27021: 4, 27047: 9, 27060: 1, 27102: 4, 27121: 6, 27144: 2, 27159: 2, 27187: 2, 27205: 3, 27210: 1, 27218: 4, 27274: 4, 27328: 1, 27373: 1, 27403: 2, 27467: 9, 27499: 1, 27506: 1, 27634: 1, 27649: 4, 27663: 1, 27749: 5, 27812: 2, 27836: 3, 27840: 9, 27845: 1, 27846: 3, 27869: 2, 27888: 2, 27913: 3, 27918: 4, 27931: 59, 27950: 4, 27986: 2, 28002: 3, 28071: 1, 28123: 3, 28146: 4, 28148: 9, 28174: 2, 28177: 3, 28189: 3, 28219: 4, 28318: 4, 28326: 3, 28450: 7, 28451: 3, 28502: 1, 28516: 2, 28535: 6, 28569: 1, 28576: 1, 28616: 1, 28651: 3, 28654: 1, 28671: 1, 28680: 2, 28705: 1, 28735: 48, 28760: 1, 28812: 3, 28878: 2, 28879: 7, 28895: 1, 28915: 4, 28924: 3, 28965: 1, 29016: 2, 29164: 2, 29177: 1, 29195: 1, 29202: 4, 29236: 12, 29255: 2, 29265: 1, 29273: 2, 29314: 7, 29343: 7, 29383: 6, 29384: 2, 29544: 4, 29697: 1, 29726: 2, 29805: 4, 29930: 2, 29936: 1, 29942: 2}\n",
      "Player who changes the most: 23566\n",
      "------------------------------------------------------------------------------------------------------------------\n",
      "Count of players who decrease_slotdeno : 981\n",
      "Count of times each player decrease_slotdeno : {113: 4, 460: 24, 865: 1, 1008: 12, 1069: 4, 1166: 35, 1233: 23, 1402: 4, 2070: 1, 2073: 10, 2157: 49, 2479: 2, 2736: 420, 3010: 8, 3634: 11, 5147: 6, 5560: 1, 5676: 4, 5829: 12, 6894: 10, 7051: 49, 7967: 1, 8412: 241, 8978: 8, 9788: 708, 12148: 1, 12173: 28, 16243: 515, 16275: 22, 16299: 2, 16380: 162, 16468: 17, 16505: 1, 16958: 10, 17170: 64, 17585: 1, 17702: 2, 18082: 4, 18333: 30, 18397: 4, 18406: 5, 18432: 15, 18465: 2, 19270: 13, 19527: 3, 19568: 10, 20390: 12, 20458: 13, 20607: 35, 20625: 8, 20689: 4, 20774: 66, 20857: 13, 20968: 1, 21237: 19, 21722: 1, 21842: 10, 22058: 8, 22087: 7, 22092: 109, 22208: 237, 22836: 52, 23203: 1, 23267: 2, 23329: 126, 23355: 14, 23452: 3, 23519: 15, 23520: 11, 23566: 933, 23611: 4, 23634: 9, 23681: 20, 23700: 3, 23743: 9, 23763: 9, 24735: 4, 24797: 10, 24953: 3, 25231: 4, 25268: 8, 25444: 4, 25624: 2, 25725: 20, 25852: 5, 25858: 2, 25881: 11, 26013: 5, 26041: 1, 26429: 9, 26639: 6, 26738: 3, 26798: 2, 26845: 4, 26885: 6, 26931: 7, 26937: 4, 26994: 4, 27942: 5, 28161: 8, 28186: 17, 28230: 2, 28232: 23, 28487: 31, 28557: 6, 28578: 11, 28890: 39, 28918: 527, 29337: 4, 29374: 119, 94: 2, 198: 4, 224: 7, 1013: 2, 1243: 1, 1371: 5, 1483: 2, 1604: 1, 1890: 1, 2001: 2, 2097: 20, 2198: 3, 2343: 9, 2561: 10, 2806: 5, 2906: 5, 2959: 8, 3058: 1, 3127: 12, 3360: 27, 3385: 18, 3677: 31, 3708: 4, 4015: 2, 4265: 2, 4483: 7, 4680: 1, 5947: 2, 6001: 7, 6256: 1, 6271: 2, 6290: 3, 6532: 2, 6843: 1, 6862: 2, 6910: 5, 7119: 1, 8353: 4, 8370: 48, 8568: 3, 8719: 15, 8827: 7, 9049: 8, 9105: 12, 9199: 3, 9236: 7, 9254: 5, 9357: 1, 9410: 1, 9598: 1, 9682: 7, 10248: 14, 10671: 1, 13204: 4, 13256: 2, 14778: 2, 14823: 6, 15265: 8, 15898: 9, 16140: 1, 16197: 5, 16294: 15, 16438: 1, 16465: 2, 16488: 3, 16506: 5, 16538: 10, 16679: 19, 16696: 3, 16697: 8, 16752: 5, 16773: 3, 16804: 6, 16867: 85, 16941: 1, 17018: 1, 17097: 9, 17213: 2, 17256: 18, 17338: 11, 17343: 1, 17363: 1, 17368: 2, 17369: 3, 17374: 3, 17380: 9, 17386: 13, 17390: 1, 17391: 2, 17402: 3, 17455: 3, 17501: 2, 17505: 13, 17582: 7, 17655: 2, 17701: 2, 17709: 3, 17711: 2, 17721: 45, 17744: 6, 17757: 76, 17793: 3, 17838: 10, 17866: 29, 17870: 1, 17878: 271, 17962: 12, 17972: 5, 18065: 3, 18068: 1, 18070: 6, 18098: 3, 18109: 3, 18119: 4, 18220: 1, 18260: 6, 18473: 3, 18479: 5, 18499: 11, 18546: 5, 18588: 2, 18624: 1, 18686: 1, 18720: 124, 18751: 8, 18778: 2, 18827: 214, 18845: 4, 18846: 3, 18910: 1, 19041: 4, 19043: 3, 19044: 1, 19045: 1, 19101: 2, 19112: 2, 19236: 1, 19244: 4, 19268: 3, 19384: 3, 19458: 6, 19459: 4, 19487: 3, 19646: 1, 19688: 1, 19713: 13, 19740: 1, 19748: 2, 19824: 1, 19969: 1, 20059: 1, 20070: 66, 20072: 68, 20134: 6, 20146: 4, 20152: 5, 20215: 9, 20309: 2, 20349: 16, 20350: 16, 20355: 1, 20367: 7, 20425: 4, 20426: 2, 20451: 3, 20476: 9, 20477: 7, 20538: 11, 20572: 8, 20651: 12, 20671: 3, 20686: 6, 20687: 4, 20698: 8, 20775: 4, 20817: 1, 20822: 4, 20870: 6, 20872: 3, 20875: 4, 20883: 6, 20930: 18, 20945: 12, 20972: 7, 20996: 3, 21023: 4, 21032: 1, 21052: 76, 21155: 2, 21388: 7, 21600: 4, 21630: 3, 21719: 2, 21815: 2, 21843: 127, 21855: 2, 21953: 2, 21971: 4, 22006: 3, 22032: 4, 22039: 2, 22040: 2, 22082: 9, 22137: 4, 22147: 8, 22148: 5, 22158: 5, 22209: 4, 22213: 22, 22267: 1, 22316: 2, 22336: 12, 22345: 3, 22409: 8, 22471: 1, 22476: 2, 22532: 1, 22546: 16, 22550: 1, 22568: 1, 22577: 13, 22580: 14, 22602: 15, 22610: 1, 22611: 4, 22615: 1, 22735: 2, 22747: 5, 22758: 9, 22799: 7, 22831: 4, 22903: 7, 22910: 5, 22988: 3, 23061: 6, 23178: 3, 23225: 9, 23238: 10, 23262: 4, 23316: 4, 23348: 3, 23349: 1, 23350: 12, 23351: 12, 23432: 1, 23463: 6, 23509: 9, 23544: 25, 23593: 1, 23632: 11, 23666: 1, 23759: 10, 23819: 1, 23821: 4, 23826: 1, 23840: 5, 23886: 7, 23900: 6, 23929: 8, 23934: 18, 23941: 2, 23963: 267, 23990: 2, 23997: 4, 24028: 8, 24035: 1, 24099: 2, 24126: 7, 24142: 9, 24158: 2, 24225: 1, 24230: 87, 24257: 2, 24270: 3, 24305: 4, 24347: 114, 24506: 1, 24516: 10, 24574: 2, 24626: 4, 24686: 1, 24765: 4, 24798: 8, 24833: 13, 24904: 2, 24937: 2, 24995: 2, 25027: 12, 25046: 1, 25085: 4, 25103: 2, 25137: 4, 25177: 2, 25206: 357, 25321: 10, 25331: 4, 25395: 1, 25400: 5, 25492: 1, 25559: 4, 25587: 6, 25607: 27, 25668: 2, 25785: 124, 25877: 6, 25920: 1, 25931: 18, 25970: 18, 26068: 1, 26097: 4, 26181: 1, 26184: 3, 26190: 1, 26209: 6, 26304: 14, 26322: 1, 26382: 3, 26427: 4, 26582: 6, 26588: 3, 26606: 5, 26653: 13, 26659: 7, 26687: 4, 26774: 1, 26849: 5, 26913: 2, 26929: 29, 26939: 18, 26957: 4, 26965: 6, 26980: 5, 27000: 16, 27025: 1, 27041: 1, 27085: 5, 27096: 8, 27099: 14, 27100: 1, 27120: 5, 27145: 4, 27147: 3, 27164: 7, 27170: 5, 27221: 49, 27282: 19, 27285: 3, 27308: 3, 27352: 4, 27353: 1, 27359: 1, 27374: 9, 27394: 11, 27413: 5, 27440: 2, 27451: 3, 27464: 51, 27471: 4, 27530: 4, 27531: 3, 27544: 2, 27708: 9, 27773: 2, 27791: 4, 27809: 8, 27890: 1, 27949: 6, 28001: 16, 28008: 22, 28020: 4, 28028: 1, 28035: 2, 28036: 7, 28052: 2, 28060: 1, 28094: 1, 28095: 3, 28127: 2, 28130: 3, 28162: 6, 28244: 18, 28380: 5, 28403: 26, 28425: 6, 28477: 1, 28655: 3, 28663: 8, 28681: 4, 28707: 7, 28739: 2, 28794: 218, 28813: 46, 28861: 5, 28868: 3, 28888: 12, 28919: 1, 28926: 12, 29023: 10, 29168: 3, 29175: 3, 29176: 2, 29303: 6, 29328: 2, 29336: 12, 29358: 399, 29380: 2, 29382: 6, 29449: 6, 29587: 5, 29607: 2, 29719: 1, 29948: 4, 424: 2, 646: 4, 1136: 5, 1553: 3, 1757: 8, 1909: 4, 1932: 1, 2214: 5, 2331: 12, 2710: 3, 2713: 1, 2858: 5, 3155: 2, 3359: 17, 3900: 3, 3955: 2, 4050: 1, 4245: 10, 5518: 2, 5745: 1, 5789: 4, 5842: 6, 6687: 5, 7369: 3, 7724: 5, 7933: 2, 8247: 1, 8465: 2, 9112: 2, 9191: 1, 9632: 2, 9663: 2, 9816: 2, 10025: 9, 10244: 4, 11366: 3, 11367: 3, 11446: 1, 13064: 2, 13704: 10, 13716: 3, 13810: 6, 14236: 2, 15039: 1, 15537: 1, 15589: 1, 15947: 11, 15956: 2, 15962: 1, 16168: 2, 16181: 2, 16212: 1, 16265: 1, 16358: 2, 16428: 3, 16483: 4, 16501: 1, 16519: 5, 16544: 1, 16580: 4, 16678: 12, 16717: 1, 16750: 1, 16756: 1, 16787: 2, 16847: 1, 16901: 1, 16982: 37, 17090: 2, 17101: 2, 17131: 3, 17149: 6, 17156: 1, 17194: 1, 17315: 33, 17346: 121, 17353: 4, 17401: 5, 17404: 1, 17422: 4, 17480: 11, 17530: 7, 17531: 2, 17540: 1, 17548: 4, 17583: 4, 17595: 3, 17612: 6, 17619: 1, 17620: 7, 17637: 1, 17665: 1, 17745: 4, 17756: 2, 17772: 4, 17787: 10, 17865: 132, 17985: 51, 18010: 1, 18031: 3, 18038: 1, 18045: 5, 18126: 1, 18127: 1, 18206: 62, 18237: 4, 18259: 2, 18326: 2, 18327: 3, 18344: 5, 18472: 5, 18528: 1, 18562: 5, 18580: 7, 18617: 3, 18630: 11, 18687: 4, 18775: 3, 18790: 4, 18830: 1, 18853: 3, 18861: 3, 18876: 1, 19058: 2, 19067: 1, 19087: 5, 19095: 2, 19164: 5, 19167: 2, 19170: 2, 19179: 7, 19199: 120, 19238: 20, 19273: 4, 19351: 1, 19363: 2, 19461: 2, 19469: 9, 19514: 2, 19516: 7, 19522: 31, 19533: 1, 19539: 4, 19540: 12, 19598: 2, 19703: 2, 19715: 1, 19741: 1, 19784: 8, 19805: 191, 19825: 2, 19827: 2, 19832: 7, 19859: 6, 19879: 2, 19921: 5, 19953: 4, 19975: 1, 20073: 3, 20079: 1, 20243: 2, 20293: 10, 20347: 11, 20375: 3, 20412: 8, 20433: 20, 20441: 2, 20455: 1, 20530: 2, 20565: 4, 20599: 2, 20721: 1, 20796: 1, 20799: 47, 20921: 1, 20922: 5, 20950: 6, 20978: 1, 21004: 1, 21139: 1, 21169: 3, 21183: 1, 21208: 3, 21223: 1, 21254: 4, 21257: 8, 21262: 4, 21269: 3, 21325: 2, 21327: 7, 21335: 1, 21386: 1, 21389: 1, 21413: 3, 21420: 123, 21431: 1, 21465: 6, 21466: 11, 21484: 3, 21546: 3, 21593: 2, 21683: 1, 21710: 4, 21720: 1, 21732: 2, 21734: 3, 21747: 2, 21761: 1, 21786: 20, 21799: 2, 21816: 3, 21831: 5, 21836: 1, 21837: 2, 21838: 1, 21861: 2, 21894: 3, 21906: 3, 21936: 5, 21944: 39, 21957: 4, 21972: 2, 21976: 7, 21987: 1, 22022: 1, 22119: 5, 22133: 3, 22149: 1, 22188: 1, 22211: 2, 22301: 2, 22303: 7, 22350: 1, 22521: 28, 22524: 1, 22582: 2, 22588: 1, 22660: 1, 22661: 9, 22702: 1, 22887: 11, 22942: 2, 23068: 6, 23078: 4, 23138: 1, 23144: 4, 23354: 27, 23364: 1, 23388: 2, 23391: 1, 23394: 1, 23402: 2, 23403: 1, 23450: 1, 23542: 5, 23568: 1, 23587: 2, 23590: 3, 23688: 5, 23708: 2, 23792: 2, 23794: 1, 23825: 3, 23868: 5, 23881: 1, 23888: 1, 23891: 12, 23898: 3, 23904: 1, 23905: 3, 23932: 7, 23949: 2, 23957: 1, 23981: 1, 23984: 3, 23998: 5, 24183: 4, 24215: 2, 24234: 5, 24263: 1, 24266: 7, 24274: 2, 24326: 2, 24327: 1, 24338: 49, 24430: 4, 24455: 1, 24457: 2, 24501: 1, 24557: 1, 24572: 3, 24619: 3, 24663: 6, 24692: 2, 24740: 4, 24756: 1, 24770: 2, 24806: 12, 24841: 3, 24889: 4, 24896: 41, 24914: 1, 25043: 1, 25051: 1, 25056: 5, 25061: 2, 25179: 14, 25194: 2, 25213: 24, 25214: 4, 25215: 2, 25220: 4, 25243: 2, 25247: 3, 25248: 2, 25249: 5, 25270: 3, 25274: 2, 25305: 1, 25342: 2, 25353: 4, 25431: 1, 25465: 1, 25538: 3, 25577: 2, 25638: 3, 25657: 4, 25672: 1, 25673: 3, 25707: 2, 25723: 4, 25752: 2, 25855: 6, 25915: 4, 25921: 2, 25923: 5, 25930: 1, 25973: 4, 25996: 8, 26062: 3, 26091: 2, 26214: 7, 26233: 1, 26373: 2, 26392: 177, 26424: 4, 26430: 5, 26433: 1, 26443: 1, 26490: 4, 26500: 4, 26526: 1, 26528: 24, 26546: 3, 26627: 11, 26660: 2, 26661: 1, 26666: 3, 26667: 4, 26669: 39, 26670: 1, 26699: 21, 26727: 1, 26751: 1, 26780: 1, 26814: 2, 26884: 1, 26886: 2, 26892: 3, 26920: 2, 26950: 2, 26959: 2, 26982: 2, 26987: 4, 26995: 1, 26998: 15, 27021: 3, 27047: 8, 27060: 1, 27102: 4, 27121: 5, 27144: 3, 27159: 2, 27187: 2, 27205: 4, 27210: 1, 27218: 4, 27274: 4, 27328: 1, 27373: 1, 27403: 2, 27467: 8, 27506: 1, 27634: 3, 27649: 3, 27663: 3, 27749: 4, 27812: 2, 27836: 5, 27840: 11, 27845: 1, 27846: 4, 27869: 4, 27888: 2, 27913: 2, 27918: 5, 27931: 60, 27950: 4, 27986: 2, 28002: 4, 28123: 4, 28146: 7, 28148: 11, 28174: 2, 28177: 3, 28189: 2, 28219: 6, 28318: 3, 28326: 5, 28450: 9, 28451: 4, 28502: 1, 28516: 1, 28535: 8, 28569: 1, 28576: 1, 28616: 1, 28651: 3, 28671: 1, 28680: 2, 28705: 1, 28735: 46, 28760: 1, 28812: 4, 28878: 2, 28879: 7, 28895: 1, 28915: 6, 28924: 2, 29016: 1, 29140: 1, 29177: 2, 29195: 1, 29202: 4, 29236: 8, 29255: 1, 29273: 1, 29314: 8, 29343: 5, 29383: 4, 29384: 3, 29544: 4, 29697: 2, 29726: 3, 29805: 5, 29930: 2, 29936: 1, 29942: 2, 30016: 1}\n",
      "Player who changes the most: 23566\n",
      "------------------------------------------------------------------------------------------------------------------\n",
      "Count of players who increase_maxbet : 1043\n",
      "Count of times each player increase_maxbet : {113: 2, 460: 96, 865: 5, 1008: 134, 1069: 1, 1233: 10, 2070: 4, 2073: 5, 2157: 16, 2479: 5, 2736: 533, 3010: 2, 3634: 74, 5560: 125, 5676: 9, 5829: 18, 6894: 12, 7051: 6, 8412: 165, 8978: 8, 9788: 593, 12148: 7, 12173: 130, 16243: 516, 16275: 50, 16299: 2, 16380: 5, 16468: 8, 16958: 15, 17170: 72, 17375: 1, 17585: 8, 18082: 2, 18333: 46, 18397: 6, 18406: 15, 18432: 16, 18465: 10, 19270: 11, 19527: 3, 19568: 86, 19576: 7, 19987: 12, 20302: 2, 20390: 14, 20458: 14, 20607: 18, 20625: 10, 20689: 3, 20774: 24, 20857: 13, 20968: 348, 21237: 16, 21722: 3, 21842: 21, 22058: 11, 22087: 8, 22092: 4, 22208: 242, 22836: 16, 23203: 1, 23267: 5, 23329: 33, 23355: 17, 23433: 10, 23444: 3, 23452: 3, 23519: 15, 23520: 11, 23566: 1145, 23611: 16, 23634: 21, 23681: 1, 23700: 4, 23743: 7, 23763: 12, 24735: 29, 24797: 2, 25231: 10, 25268: 4, 25444: 4, 25624: 6, 25725: 20, 25858: 2, 25881: 11, 26013: 12, 26041: 2, 26429: 15, 26639: 10, 26738: 5, 26798: 1, 26845: 10, 26885: 1, 26931: 47, 26937: 6, 26994: 4, 27306: 1, 27942: 11, 28161: 8, 28186: 20, 28230: 1, 28232: 15, 28487: 30, 28557: 20, 28578: 1, 28890: 30, 28918: 1018, 29337: 11, 29374: 3, 94: 6, 198: 7, 224: 6, 1013: 1, 1243: 4, 1371: 7, 1483: 2, 1604: 6, 1890: 2, 2001: 5, 2097: 25, 2099: 39, 2198: 7, 2343: 16, 2806: 21, 2906: 3, 2959: 8, 3058: 1, 3360: 27, 3385: 42, 3404: 6, 3677: 15, 3708: 6, 4015: 2, 4265: 4, 4483: 2, 4680: 1, 5947: 10, 6001: 4, 6256: 2, 6271: 2, 6290: 5, 6532: 5, 6862: 1, 6910: 5, 7009: 1, 7119: 1, 8353: 14, 8370: 15, 8464: 5, 8568: 10, 8827: 7, 9049: 8, 9105: 16, 9199: 8, 9236: 9, 9254: 4, 9357: 23, 9434: 1, 9598: 2, 9682: 4, 10248: 15, 10593: 59, 10671: 2, 11358: 1, 12043: 3, 12452: 3, 13204: 2, 13256: 3, 13753: 3, 14778: 9, 14823: 7, 15069: 1, 15265: 5, 15898: 12, 16140: 4, 16197: 6, 16247: 1, 16294: 24, 16438: 1, 16465: 3, 16488: 4, 16506: 6, 16538: 12, 16679: 29, 16696: 9, 16697: 20, 16752: 6, 16804: 12, 16867: 312, 16941: 4, 17018: 2, 17097: 33, 17190: 2, 17213: 3, 17256: 23, 17338: 11, 17343: 2, 17363: 9, 17368: 3, 17369: 2, 17374: 3, 17380: 7, 17386: 17, 17390: 1, 17402: 6, 17455: 3, 17501: 9, 17505: 11, 17582: 3, 17655: 3, 17679: 44, 17701: 2, 17709: 9, 17711: 1, 17721: 135, 17744: 1, 17757: 131, 17793: 7, 17838: 1, 17866: 28, 17870: 4, 17878: 7, 17962: 11, 17972: 10, 17998: 1, 18065: 3, 18098: 4, 18109: 5, 18119: 4, 18260: 7, 18473: 3, 18479: 4, 18493: 1, 18499: 15, 18546: 7, 18588: 3, 18624: 1, 18720: 183, 18751: 4, 18778: 4, 18827: 214, 18845: 4, 18846: 4, 18910: 2, 18914: 357, 19041: 8, 19043: 7, 19101: 3, 19112: 3, 19166: 84, 19236: 2, 19244: 6, 19268: 5, 19384: 7, 19459: 1, 19487: 130, 19646: 3, 19713: 8, 19740: 3, 19748: 2, 19824: 5, 19877: 1, 19969: 14, 20059: 1, 20070: 67, 20072: 70, 20134: 4, 20146: 3, 20152: 5, 20215: 14, 20309: 6, 20349: 25, 20350: 19, 20355: 4, 20365: 26, 20367: 6, 20425: 6, 20426: 3, 20451: 15, 20476: 1, 20538: 13, 20572: 7, 20651: 15, 20671: 5, 20686: 8, 20687: 5, 20698: 105, 20775: 9, 20817: 1, 20870: 6, 20875: 4, 20883: 8, 20930: 38, 20945: 47, 20972: 3, 21007: 59, 21023: 1, 21032: 10, 21052: 101, 21061: 1, 21155: 2, 21249: 1, 21365: 4, 21388: 11, 21600: 9, 21630: 2, 21719: 2, 21815: 2, 21843: 3, 21855: 6, 21874: 138, 21953: 4, 21971: 4, 22006: 2, 22032: 2, 22039: 12, 22040: 6, 22082: 2, 22137: 5, 22147: 2, 22148: 2, 22158: 8, 22209: 2, 22213: 25, 22267: 5, 22316: 24, 22336: 13, 22345: 5, 22409: 9, 22476: 4, 22532: 1, 22546: 12, 22550: 8, 22568: 3, 22577: 48, 22580: 12, 22602: 23, 22610: 8, 22611: 5, 22615: 3, 22735: 3, 22747: 8, 22758: 10, 22799: 5, 22831: 3, 22903: 1, 22910: 8, 22946: 5, 22988: 7, 23061: 6, 23178: 3, 23225: 10, 23238: 6, 23262: 6, 23311: 3, 23316: 8, 23348: 8, 23350: 18, 23351: 15, 23432: 2, 23449: 11, 23463: 10, 23509: 13, 23544: 23, 23593: 3, 23632: 473, 23666: 3, 23759: 11, 23821: 3, 23826: 1, 23840: 3, 23886: 13, 23900: 11, 23929: 8, 23934: 10, 23941: 7, 23963: 267, 23990: 2, 23997: 6, 24028: 13, 24035: 1, 24076: 6, 24099: 1, 24126: 1, 24142: 7, 24158: 1, 24225: 4, 24230: 51, 24257: 9, 24270: 2, 24305: 3, 24347: 12, 24502: 1, 24506: 5, 24516: 6, 24574: 2, 24626: 9, 24765: 11, 24798: 9, 24833: 21, 24904: 2, 24937: 2, 24995: 6, 25027: 1, 25085: 17, 25103: 1, 25137: 4, 25177: 46, 25206: 404, 25321: 11, 25331: 4, 25395: 2, 25400: 9, 25492: 49, 25526: 1, 25559: 2, 25587: 4, 25607: 9, 25668: 7, 25726: 2, 25785: 169, 25846: 2, 25877: 3, 25920: 3, 25931: 3, 25970: 3, 26068: 1, 26097: 1, 26181: 3, 26184: 6, 26190: 5, 26209: 12, 26304: 147, 26322: 1, 26382: 3, 26427: 5, 26447: 1026, 26582: 8, 26588: 3, 26606: 4, 26653: 11, 26659: 16, 26687: 8, 26730: 8, 26774: 5, 26776: 3, 26849: 18, 26913: 7, 26929: 20, 26939: 31, 26956: 1, 26957: 8, 26965: 4, 26980: 1, 27000: 47, 27025: 5, 27040: 4, 27041: 4, 27085: 7, 27096: 5, 27099: 16, 27100: 6, 27120: 3, 27145: 28, 27147: 23, 27164: 7, 27170: 7, 27221: 118, 27247: 1, 27282: 26, 27285: 5, 27308: 8, 27352: 6, 27353: 73, 27359: 5, 27374: 17, 27394: 13, 27413: 5, 27440: 2, 27451: 7, 27464: 81, 27471: 1, 27530: 6, 27531: 7, 27544: 7, 27708: 2, 27773: 5, 27791: 4, 27809: 16, 27890: 3, 27949: 10, 28001: 6, 28008: 5, 28020: 7, 28028: 5, 28035: 4, 28036: 7, 28052: 4, 28057: 5, 28060: 3, 28094: 5, 28095: 7, 28130: 2, 28162: 8, 28244: 44, 28380: 6, 28403: 31, 28425: 9, 28477: 1, 28515: 3, 28655: 4, 28663: 5, 28681: 5, 28707: 15, 28739: 11, 28776: 2, 28794: 258, 28813: 9, 28861: 4, 28868: 3, 28888: 16, 28919: 10, 28926: 11, 29023: 9, 29175: 4, 29176: 2, 29303: 6, 29311: 2, 29328: 39, 29336: 10, 29358: 403, 29380: 2, 29382: 9, 29449: 8, 29587: 8, 29607: 3, 29719: 2, 29948: 2, 13: 5, 424: 1, 646: 4, 1136: 1, 1553: 5, 1757: 16, 1909: 1, 1932: 6, 2114: 7, 2197: 1, 2214: 7, 2331: 15, 2710: 3, 2713: 6, 2858: 4, 3155: 3, 3359: 13, 3900: 6, 4050: 2, 4245: 10, 4912: 1, 4950: 4, 5042: 1, 5518: 3, 5745: 5, 5789: 3, 5842: 12, 6687: 3, 7369: 4, 7724: 6, 9112: 14, 9632: 8, 9663: 3, 9816: 5, 10025: 14, 10244: 3, 10597: 3, 11162: 1, 11366: 2, 11367: 4, 11446: 6, 12885: 1, 13064: 3, 13088: 1, 13252: 2, 13704: 12, 13716: 1, 13810: 4, 14236: 2, 15039: 8, 15537: 1, 15589: 1, 15892: 3, 15947: 6, 15956: 6, 15962: 16, 16168: 3, 16181: 4, 16212: 2, 16265: 1, 16272: 1, 16358: 3, 16428: 5, 16483: 5, 16501: 2, 16519: 9, 16544: 1, 16580: 3, 16678: 11, 16701: 1, 16717: 1, 16750: 2, 16756: 2, 16787: 2, 16847: 1, 16901: 4, 16982: 126, 17022: 1, 17090: 2, 17096: 4, 17101: 1, 17131: 3, 17149: 4, 17156: 1, 17187: 1, 17194: 1, 17315: 24, 17340: 4, 17346: 122, 17353: 5, 17401: 8, 17404: 4, 17422: 6, 17480: 87, 17530: 8, 17540: 3, 17548: 4, 17583: 1, 17595: 3, 17612: 6, 17619: 1, 17620: 10, 17637: 2, 17665: 4, 17738: 2, 17745: 4, 17756: 2, 17772: 3, 17787: 13, 17860: 5, 17865: 155, 17985: 47, 18010: 2, 18038: 1, 18045: 5, 18126: 1, 18127: 3, 18206: 63, 18237: 5, 18249: 1, 18259: 2, 18326: 4, 18327: 5, 18344: 49, 18472: 9, 18528: 2, 18562: 4, 18580: 13, 18617: 3, 18630: 15, 18775: 4, 18790: 1, 18853: 2, 18861: 3, 18864: 4, 18876: 2, 19015: 6, 19058: 3, 19067: 1, 19087: 6, 19095: 1, 19102: 1, 19164: 15, 19167: 5, 19170: 6, 19179: 8, 19199: 2, 19238: 2, 19273: 8, 19315: 2, 19347: 1, 19351: 1, 19363: 2, 19387: 5, 19461: 3, 19469: 9, 19514: 3, 19516: 15, 19522: 32, 19533: 2, 19539: 4, 19540: 16, 19644: 1, 19703: 2, 19715: 1, 19741: 2, 19753: 1, 19784: 7, 19805: 160, 19825: 3, 19827: 4, 19832: 5, 19859: 9, 19879: 1, 19921: 5, 19953: 3, 19975: 5, 19981: 22, 20073: 3, 20079: 1, 20243: 3, 20293: 13, 20296: 4, 20307: 5, 20347: 9, 20373: 3, 20375: 5, 20391: 3, 20412: 8, 20433: 65, 20441: 1, 20455: 3, 20471: 305, 20530: 5, 20544: 34, 20565: 4, 20599: 1, 20796: 3, 20868: 3, 20921: 4, 20922: 8, 20950: 4, 20961: 14, 20971: 1, 21004: 7, 21139: 2, 21169: 7, 21183: 1, 21208: 6, 21223: 3, 21254: 2, 21257: 11, 21262: 7, 21269: 4, 21325: 6, 21335: 8, 21344: 3, 21386: 5, 21389: 2, 21413: 6, 21420: 125, 21431: 8, 21465: 6, 21466: 12, 21484: 3, 21546: 3, 21593: 4, 21639: 1, 21683: 2, 21710: 42, 21720: 1, 21732: 3, 21734: 3, 21747: 3, 21761: 57, 21786: 20, 21799: 2, 21816: 6, 21817: 3, 21831: 7, 21836: 5, 21837: 3, 21840: 5, 21861: 3, 21894: 3, 21906: 4, 21936: 4, 21939: 2, 21957: 4, 21972: 2, 21976: 13, 21987: 4, 22022: 2, 22035: 3, 22119: 5, 22149: 1, 22188: 5, 22211: 3, 22278: 1, 22301: 2, 22350: 1, 22521: 4, 22524: 3, 22582: 2, 22660: 2, 22661: 10, 22702: 2, 22887: 9, 22942: 4, 22998: 58, 23068: 11, 23078: 2, 23144: 2, 23323: 1, 23354: 3, 23363: 12, 23364: 9, 23388: 1, 23391: 5, 23394: 5, 23402: 3, 23403: 6, 23450: 1, 23542: 5, 23568: 1, 23587: 2, 23590: 4, 23688: 6, 23708: 3, 23792: 4, 23794: 2, 23825: 3, 23868: 1, 23881: 1, 23888: 2, 23891: 27, 23898: 4, 23899: 4, 23904: 3, 23905: 4, 23932: 11, 23949: 2, 23957: 3, 23964: 234, 23981: 1, 23984: 9, 23998: 10, 24183: 5, 24215: 3, 24234: 6, 24263: 5, 24266: 2, 24274: 12, 24326: 2, 24327: 3, 24338: 49, 24346: 1, 24430: 17, 24455: 2, 24457: 1, 24488: 2, 24501: 6, 24528: 3, 24557: 145, 24572: 5, 24619: 3, 24692: 8, 24740: 3, 24756: 1, 24770: 2, 24806: 15, 24841: 5, 24887: 4, 24889: 4, 25043: 1, 25051: 1, 25056: 8, 25061: 2, 25179: 16, 25194: 4, 25213: 11, 25214: 4, 25215: 2, 25220: 5, 25243: 3, 25247: 3, 25248: 4, 25249: 6, 25270: 5, 25274: 60, 25305: 1, 25342: 3, 25353: 5, 25358: 1, 25431: 2, 25465: 1, 25523: 2, 25538: 5, 25577: 3, 25638: 3, 25649: 5, 25657: 4, 25672: 4, 25673: 3, 25692: 3, 25707: 3, 25723: 4, 25752: 1, 25758: 2, 25855: 8, 25915: 6, 25921: 2, 25923: 7, 25927: 2, 25930: 7, 25957: 5, 25973: 1, 25996: 2, 26062: 3, 26091: 4, 26214: 13, 26233: 2, 26282: 3, 26373: 4, 26392: 177, 26424: 3, 26430: 7, 26433: 6, 26443: 5, 26490: 1, 26500: 4, 26526: 1, 26546: 3, 26627: 6, 26660: 7, 26661: 7, 26666: 3, 26667: 70, 26669: 184, 26670: 1, 26699: 13, 26751: 1, 26780: 1, 26814: 3, 26884: 10, 26886: 5, 26892: 6, 26920: 3, 26950: 5, 26959: 3, 26982: 2, 26987: 5, 26995: 2, 26998: 22, 27021: 4, 27047: 17, 27060: 3, 27073: 6, 27102: 8, 27121: 8, 27144: 5, 27159: 3, 27187: 5, 27205: 10, 27210: 2, 27218: 11, 27274: 4, 27328: 2, 27403: 1, 27448: 2, 27467: 11, 27500: 1, 27506: 3, 27634: 5, 27649: 4, 27663: 2, 27749: 5, 27812: 3, 27836: 3, 27840: 6, 27845: 1, 27846: 3, 27869: 7, 27888: 5, 27913: 3, 27915: 1, 27918: 7, 27931: 62, 27950: 8, 27986: 1, 27994: 1, 28002: 4, 28112: 6, 28123: 4, 28146: 5, 28148: 2, 28174: 7, 28177: 9, 28189: 4, 28219: 7, 28318: 5, 28326: 7, 28412: 1, 28450: 7, 28451: 7, 28502: 1, 28516: 5, 28535: 8, 28651: 4, 28671: 2, 28680: 4, 28705: 4, 28706: 4, 28714: 2, 28735: 47, 28760: 2, 28812: 12, 28878: 1, 28879: 2, 28895: 3, 28915: 4, 28924: 3, 28981: 1, 29016: 5, 29094: 45, 29140: 1, 29177: 2, 29195: 45, 29202: 16, 29236: 14, 29255: 2, 29265: 2, 29273: 1, 29314: 7, 29343: 8, 29383: 15, 29384: 4, 29544: 5, 29726: 2, 29804: 85, 29805: 8, 29930: 7, 29936: 6, 29942: 4, 30016: 15}\n",
      "Player who changes the most: 23566\n",
      "------------------------------------------------------------------------------------------------------------------\n",
      "Count of players who decrease_maxbet : 1044\n",
      "Count of times each player decrease_maxbet : {113: 2, 460: 94, 865: 4, 1008: 138, 1069: 1, 1233: 9, 2070: 4, 2073: 4, 2157: 16, 2479: 6, 2736: 536, 3010: 2, 3634: 74, 5147: 1, 5560: 125, 5676: 11, 5829: 22, 6894: 12, 7051: 15, 7967: 2, 8412: 167, 8978: 6, 9788: 591, 12148: 8, 12173: 129, 16243: 515, 16275: 50, 16299: 4, 16380: 4, 16468: 7, 16505: 1, 16958: 14, 17170: 70, 17375: 1, 17585: 7, 17717: 1, 18082: 2, 18333: 56, 18397: 6, 18406: 14, 18432: 17, 18465: 9, 19270: 12, 19527: 2, 19568: 86, 19576: 7, 19987: 10, 20302: 3, 20390: 12, 20458: 17, 20607: 19, 20625: 11, 20689: 3, 20774: 21, 20857: 14, 20968: 346, 21237: 15, 21722: 2, 21842: 12, 22058: 8, 22087: 9, 22092: 4, 22208: 241, 22836: 15, 23203: 1, 23267: 3, 23329: 31, 23355: 21, 23433: 7, 23444: 3, 23452: 5, 23519: 18, 23520: 10, 23566: 1144, 23611: 15, 23634: 18, 23681: 2, 23700: 3, 23743: 5, 23763: 13, 24735: 25, 24797: 2, 25231: 9, 25268: 5, 25444: 4, 25624: 3, 25725: 19, 25858: 1, 25881: 10, 26013: 11, 26041: 1, 26429: 12, 26639: 8, 26738: 5, 26798: 1, 26845: 7, 26931: 53, 26937: 7, 26994: 5, 27306: 1, 27942: 12, 28161: 6, 28186: 21, 28230: 2, 28232: 14, 28487: 31, 28557: 22, 28578: 4, 28710: 1, 28890: 30, 28918: 1019, 29337: 11, 29374: 3, 94: 5, 198: 10, 224: 6, 1013: 3, 1243: 2, 1371: 5, 1483: 3, 1604: 5, 1890: 2, 2001: 6, 2097: 22, 2099: 39, 2198: 8, 2343: 14, 2806: 14, 2906: 2, 2959: 8, 3058: 1, 3360: 22, 3385: 36, 3404: 6, 3677: 17, 3708: 4, 4015: 2, 4265: 3, 4483: 3, 5947: 9, 6001: 4, 6256: 3, 6271: 2, 6290: 6, 6532: 5, 6862: 1, 6910: 8, 7119: 2, 8353: 8, 8370: 15, 8464: 4, 8568: 11, 8827: 6, 9049: 8, 9105: 14, 9199: 8, 9236: 7, 9254: 3, 9357: 22, 9434: 2, 9598: 2, 9682: 4, 10248: 20, 10593: 59, 10671: 2, 11358: 1, 12043: 3, 12452: 2, 13204: 4, 13256: 3, 13753: 4, 14778: 8, 14823: 8, 15069: 2, 15265: 4, 15898: 13, 16140: 4, 16197: 5, 16247: 1, 16294: 23, 16465: 1, 16488: 1, 16506: 7, 16538: 12, 16679: 27, 16696: 6, 16697: 25, 16752: 6, 16773: 1, 16804: 11, 16867: 313, 16941: 6, 17018: 2, 17097: 38, 17190: 1, 17213: 2, 17256: 20, 17338: 10, 17343: 4, 17363: 6, 17368: 2, 17369: 2, 17374: 3, 17380: 10, 17386: 16, 17390: 2, 17402: 7, 17455: 2, 17501: 7, 17505: 9, 17582: 6, 17655: 2, 17679: 44, 17701: 2, 17709: 13, 17711: 1, 17721: 136, 17744: 1, 17757: 129, 17793: 16, 17838: 1, 17866: 30, 17870: 4, 17878: 8, 17962: 13, 17972: 7, 17998: 1, 18065: 3, 18098: 3, 18109: 8, 18119: 1, 18260: 11, 18473: 2, 18479: 4, 18493: 1, 18499: 13, 18546: 5, 18588: 3, 18624: 1, 18720: 186, 18751: 4, 18778: 2, 18827: 216, 18845: 1, 18846: 5, 18910: 2, 18914: 358, 19041: 6, 19043: 8, 19044: 1, 19045: 1, 19101: 3, 19112: 2, 19166: 82, 19236: 2, 19244: 9, 19268: 3, 19384: 4, 19459: 2, 19487: 130, 19646: 2, 19713: 10, 19740: 1, 19748: 1, 19824: 6, 19969: 15, 20059: 2, 20070: 66, 20072: 72, 20134: 5, 20146: 4, 20152: 3, 20215: 19, 20309: 3, 20349: 27, 20350: 19, 20355: 4, 20365: 26, 20367: 7, 20425: 5, 20426: 2, 20451: 13, 20476: 1, 20538: 13, 20572: 7, 20651: 13, 20671: 5, 20686: 7, 20687: 3, 20698: 99, 20775: 11, 20870: 7, 20875: 3, 20883: 7, 20930: 37, 20945: 46, 20972: 2, 21007: 59, 21023: 1, 21032: 12, 21052: 109, 21155: 2, 21249: 1, 21365: 4, 21388: 12, 21600: 6, 21630: 2, 21719: 1, 21815: 3, 21843: 4, 21855: 8, 21874: 137, 21953: 5, 21971: 4, 22006: 1, 22032: 1, 22039: 8, 22040: 2, 22082: 3, 22137: 3, 22147: 2, 22148: 2, 22158: 10, 22209: 4, 22213: 27, 22267: 5, 22316: 23, 22336: 12, 22345: 8, 22409: 8, 22476: 3, 22546: 12, 22550: 6, 22568: 5, 22577: 44, 22580: 15, 22602: 23, 22610: 10, 22611: 7, 22615: 2, 22735: 1, 22747: 6, 22758: 12, 22799: 6, 22831: 2, 22903: 2, 22910: 10, 22946: 6, 22988: 6, 23061: 3, 23178: 1, 23225: 8, 23238: 3, 23262: 8, 23311: 2, 23316: 9, 23348: 12, 23350: 18, 23351: 19, 23432: 2, 23449: 11, 23463: 8, 23509: 17, 23525: 1, 23544: 23, 23593: 4, 23632: 472, 23666: 3, 23759: 13, 23821: 2, 23826: 1, 23840: 2, 23886: 16, 23900: 10, 23929: 7, 23934: 14, 23941: 7, 23963: 266, 23990: 2, 23997: 3, 24028: 10, 24035: 1, 24076: 5, 24099: 1, 24142: 7, 24158: 3, 24225: 4, 24230: 51, 24257: 6, 24305: 5, 24347: 10, 24502: 2, 24506: 9, 24516: 5, 24626: 9, 24765: 13, 24798: 8, 24833: 18, 24904: 2, 24937: 4, 24995: 4, 25027: 1, 25085: 17, 25103: 1, 25137: 4, 25177: 48, 25206: 404, 25321: 9, 25331: 6, 25395: 1, 25400: 8, 25492: 49, 25526: 1, 25559: 2, 25587: 3, 25607: 11, 25668: 7, 25726: 2, 25785: 169, 25846: 1, 25877: 2, 25920: 4, 25931: 3, 25970: 2, 26181: 4, 26184: 4, 26190: 6, 26209: 10, 26304: 148, 26322: 1, 26382: 3, 26427: 4, 26447: 1026, 26582: 8, 26588: 3, 26606: 4, 26653: 8, 26659: 15, 26687: 6, 26730: 10, 26774: 8, 26776: 2, 26849: 17, 26913: 7, 26929: 19, 26939: 38, 26956: 1, 26957: 6, 26965: 3, 26980: 1, 27000: 43, 27025: 6, 27040: 5, 27041: 3, 27085: 5, 27096: 7, 27099: 16, 27100: 6, 27120: 3, 27145: 26, 27147: 24, 27164: 4, 27170: 10, 27221: 114, 27247: 1, 27282: 26, 27285: 6, 27308: 3, 27352: 4, 27353: 70, 27359: 7, 27374: 21, 27394: 15, 27413: 4, 27440: 2, 27451: 2, 27464: 82, 27471: 2, 27530: 3, 27531: 6, 27544: 7, 27708: 5, 27773: 4, 27791: 6, 27809: 12, 27890: 2, 27949: 11, 28001: 6, 28008: 5, 28020: 7, 28028: 5, 28035: 7, 28036: 7, 28052: 5, 28057: 5, 28060: 3, 28094: 7, 28095: 6, 28130: 2, 28162: 7, 28244: 46, 28380: 2, 28403: 34, 28425: 10, 28477: 1, 28515: 2, 28655: 2, 28663: 7, 28681: 4, 28707: 12, 28739: 10, 28776: 3, 28794: 257, 28813: 6, 28861: 2, 28868: 5, 28888: 17, 28919: 10, 28926: 12, 29023: 14, 29168: 1, 29175: 4, 29176: 2, 29303: 7, 29311: 3, 29328: 40, 29336: 10, 29358: 403, 29380: 2, 29382: 13, 29449: 7, 29587: 10, 29607: 1, 29719: 2, 29948: 2, 29974: 1, 13: 3, 424: 3, 646: 5, 1136: 4, 1553: 5, 1757: 14, 1909: 1, 1932: 7, 2114: 6, 2197: 2, 2214: 5, 2331: 12, 2710: 2, 2713: 7, 2858: 5, 3155: 3, 3359: 11, 3900: 7, 4050: 2, 4245: 13, 4950: 5, 5042: 1, 5518: 5, 5745: 4, 5789: 3, 5842: 9, 6687: 2, 7369: 5, 7724: 5, 9112: 11, 9632: 11, 9663: 4, 9816: 3, 10025: 16, 10244: 3, 10597: 1, 11366: 2, 11367: 4, 11446: 4, 13064: 2, 13088: 2, 13252: 1, 13704: 8, 13716: 4, 13810: 5, 14236: 3, 15039: 8, 15537: 1, 15589: 1, 15892: 2, 15947: 6, 15956: 4, 15962: 13, 16168: 2, 16181: 2, 16212: 2, 16358: 2, 16428: 5, 16432: 1, 16483: 6, 16501: 3, 16519: 7, 16544: 1, 16580: 3, 16678: 9, 16701: 1, 16750: 1, 16756: 2, 16787: 2, 16847: 1, 16901: 3, 16982: 124, 17022: 1, 17090: 3, 17096: 3, 17101: 2, 17131: 4, 17149: 4, 17156: 1, 17187: 2, 17315: 25, 17324: 1, 17340: 3, 17346: 122, 17353: 4, 17401: 7, 17404: 3, 17422: 10, 17480: 82, 17530: 9, 17540: 4, 17548: 7, 17583: 1, 17595: 4, 17599: 1, 17612: 7, 17620: 9, 17637: 1, 17665: 3, 17745: 2, 17756: 2, 17772: 2, 17787: 15, 17860: 3, 17865: 155, 17882: 1, 17985: 47, 18010: 2, 18038: 2, 18045: 6, 18126: 3, 18127: 4, 18206: 63, 18237: 3, 18249: 4, 18259: 3, 18326: 3, 18327: 5, 18344: 50, 18472: 7, 18528: 4, 18562: 4, 18580: 15, 18617: 3, 18630: 16, 18775: 4, 18853: 1, 18861: 4, 18864: 3, 18876: 2, 19015: 4, 19058: 5, 19067: 1, 19087: 6, 19095: 1, 19102: 2, 19164: 16, 19167: 1, 19170: 4, 19179: 6, 19183: 1, 19199: 1, 19238: 3, 19271: 1, 19273: 11, 19315: 2, 19351: 1, 19363: 3, 19387: 3, 19461: 5, 19469: 7, 19514: 2, 19516: 15, 19522: 31, 19533: 2, 19539: 2, 19540: 14, 19644: 1, 19703: 2, 19741: 4, 19753: 1, 19784: 10, 19805: 158, 19825: 4, 19827: 6, 19832: 5, 19859: 17, 19879: 3, 19921: 6, 19953: 3, 19975: 3, 19981: 22, 20073: 3, 20079: 1, 20243: 3, 20293: 13, 20296: 2, 20307: 2, 20347: 8, 20373: 2, 20375: 6, 20391: 4, 20412: 5, 20433: 66, 20441: 1, 20455: 4, 20471: 304, 20530: 5, 20544: 34, 20565: 7, 20599: 2, 20657: 1, 20721: 1, 20796: 9, 20799: 3, 20868: 2, 20921: 3, 20922: 6, 20950: 3, 20961: 15, 20971: 2, 21004: 11, 21139: 2, 21169: 10, 21183: 4, 21208: 4, 21223: 1, 21254: 5, 21257: 8, 21262: 9, 21269: 5, 21325: 7, 21335: 5, 21344: 1, 21386: 8, 21389: 2, 21413: 6, 21420: 125, 21431: 8, 21465: 6, 21466: 13, 21484: 4, 21546: 1, 21593: 5, 21639: 2, 21683: 4, 21710: 42, 21732: 3, 21734: 5, 21747: 3, 21761: 57, 21786: 21, 21799: 1, 21816: 6, 21817: 4, 21831: 7, 21836: 5, 21837: 1, 21840: 5, 21861: 3, 21894: 5, 21906: 3, 21936: 4, 21939: 3, 21957: 2, 21972: 3, 21976: 13, 21987: 2, 22022: 1, 22035: 1, 22119: 4, 22133: 1, 22166: 1, 22188: 5, 22211: 1, 22301: 1, 22350: 3, 22521: 3, 22524: 3, 22582: 2, 22588: 1, 22660: 1, 22661: 14, 22702: 3, 22805: 1, 22887: 10, 22942: 6, 22998: 57, 23068: 8, 23078: 2, 23144: 1, 23323: 1, 23354: 4, 23363: 10, 23364: 13, 23388: 1, 23391: 4, 23394: 4, 23402: 2, 23403: 10, 23450: 1, 23542: 7, 23587: 5, 23590: 4, 23665: 1, 23688: 4, 23708: 2, 23791: 1, 23792: 7, 23794: 1, 23825: 3, 23868: 1, 23888: 3, 23891: 27, 23898: 5, 23899: 4, 23904: 2, 23905: 4, 23932: 12, 23949: 1, 23964: 234, 23984: 8, 23998: 9, 24183: 7, 24206: 1, 24215: 2, 24234: 5, 24263: 7, 24266: 2, 24274: 12, 24326: 3, 24327: 4, 24338: 50, 24412: 1, 24430: 17, 24455: 4, 24488: 3, 24501: 3, 24528: 2, 24557: 146, 24572: 4, 24619: 3, 24692: 7, 24740: 3, 24770: 2, 24806: 14, 24841: 2, 24887: 2, 24889: 4, 25051: 1, 25056: 7, 25061: 2, 25179: 19, 25194: 2, 25213: 11, 25214: 6, 25215: 1, 25220: 7, 25243: 4, 25247: 2, 25248: 1, 25249: 5, 25270: 5, 25274: 57, 25342: 6, 25353: 1, 25358: 1, 25431: 3, 25465: 1, 25523: 1, 25538: 6, 25577: 3, 25638: 2, 25649: 3, 25657: 4, 25672: 2, 25673: 2, 25692: 1, 25707: 2, 25723: 4, 25752: 1, 25758: 5, 25855: 10, 25915: 10, 25921: 4, 25923: 7, 25927: 2, 25930: 9, 25957: 4, 25973: 1, 25996: 3, 26053: 2, 26062: 4, 26091: 3, 26214: 13, 26282: 3, 26373: 3, 26392: 177, 26424: 1, 26430: 5, 26433: 4, 26443: 5, 26490: 1, 26500: 4, 26546: 6, 26627: 4, 26660: 6, 26661: 6, 26666: 2, 26667: 67, 26669: 187, 26670: 2, 26699: 16, 26751: 3, 26780: 1, 26814: 3, 26831: 1, 26884: 10, 26886: 5, 26892: 8, 26920: 2, 26950: 5, 26959: 1, 26982: 3, 26987: 5, 26995: 2, 26998: 21, 27021: 6, 27047: 17, 27060: 2, 27073: 6, 27102: 7, 27121: 9, 27144: 4, 27159: 2, 27187: 5, 27205: 11, 27210: 3, 27218: 9, 27274: 5, 27328: 1, 27403: 1, 27448: 3, 27467: 11, 27499: 1, 27500: 1, 27506: 3, 27634: 1, 27649: 5, 27663: 2, 27749: 3, 27812: 3, 27836: 3, 27840: 5, 27845: 1, 27846: 3, 27869: 4, 27888: 5, 27913: 3, 27915: 2, 27918: 6, 27931: 62, 27950: 8, 27986: 1, 27994: 1, 27995: 1, 28002: 4, 28071: 2, 28082: 1, 28112: 7, 28123: 3, 28146: 5, 28148: 2, 28174: 6, 28177: 8, 28189: 4, 28219: 6, 28318: 6, 28326: 5, 28412: 1, 28450: 9, 28451: 4, 28502: 1, 28516: 5, 28535: 7, 28569: 2, 28651: 8, 28654: 1, 28671: 1, 28680: 3, 28705: 2, 28706: 2, 28714: 3, 28735: 48, 28760: 5, 28812: 10, 28878: 1, 28879: 2, 28895: 2, 28897: 1, 28915: 4, 28924: 3, 28965: 1, 28981: 1, 29016: 5, 29094: 45, 29164: 2, 29177: 1, 29195: 45, 29202: 10, 29236: 16, 29255: 2, 29265: 3, 29273: 1, 29314: 5, 29343: 8, 29383: 15, 29384: 6, 29544: 4, 29610: 1, 29697: 1, 29726: 3, 29804: 86, 29805: 8, 29930: 9, 29936: 8, 29942: 2, 30016: 15}\n",
      "Player who changes the most: 23566\n",
      "------------------------------------------------------------------------------------------------------------------\n"
     ]
    }
   ],
   "source": [
    "# Lets do the same but for df_s\n",
    "players_increase_slot_s = cf.count_increase(df_s, \"increase_slotdeno\", \"playerkey\", \"slotdenomination\")\n",
    "players_decrease_slot_s = cf.count_decrease(df_s, \"decrease_slotdeno\", \"playerkey\", \"slotdenomination\")\n",
    "players_increase_maxbet_s = cf.count_increase(df_s, \"increase_maxbet\", \"playerkey\", \"maxbet\")\n",
    "players_decrease_maxbet_s = cf.count_decrease(df_s, \"decrease_maxbet\", \"playerkey\", \"maxbet\")"
   ]
  },
  {
   "attachments": {},
   "cell_type": "markdown",
   "metadata": {},
   "source": [
    "### Wealth Differences\n",
    "#### General"
   ]
  },
  {
   "cell_type": "code",
   "execution_count": 18,
   "metadata": {},
   "outputs": [],
   "source": [
    "# Lets crate a column called 'depletion_slope' which is the difference of 'playercashableamt' between the current gamble and the previous gamble\n",
    "df['depletion_rate'] = df.groupby(['playerkey', 'session_time'])['playercashableamt'].diff().fillna(0)\n",
    "\n",
    "# Lets crate a column called 'depletion_slope' which is the difference of 'playercashableamt' between the current gamble and the previous gamble\n",
    "df_s['depletion_rate'] = df_s.groupby(['playerkey', 'session_time'])['playercashableamt'].diff().fillna(0)\n"
   ]
  },
  {
   "attachments": {},
   "cell_type": "markdown",
   "metadata": {},
   "source": [
    "#### Per Visit"
   ]
  },
  {
   "cell_type": "code",
   "execution_count": 19,
   "metadata": {},
   "outputs": [],
   "source": [
    "# Create dataframe for Machine Learning model\n",
    "df_ML_v = pf.transform_ml(data_b=df, grouping='visit')"
   ]
  },
  {
   "cell_type": "code",
   "execution_count": 20,
   "metadata": {},
   "outputs": [
    {
     "name": "stdout",
     "output_type": "stream",
     "text": [
      "Number of unique players in df_ML_v:  1217\n",
      "Number of discrepancies: 51\n",
      "Number of unique players w/o discrepancies:  1166\n"
     ]
    }
   ],
   "source": [
    "# Print number of unique players\n",
    "print(\"Number of unique players in df_ML_v: \", df_ML_v['playerkey'].nunique())\n",
    "\n",
    "# Get the IDs of players who have NaN values in any of the columns\n",
    "list_discrepancy_v = df_ML_v[df_ML_v.isna().any(axis=1)]['playerkey'].unique()\n",
    "\n",
    "# print number of discrepancies\n",
    "print(\"Number of discrepancies:\", len(list_discrepancy_v))\n",
    "\n",
    "# Remove players with NaN values\n",
    "df_ML_v = df_ML_v[~df_ML_v['playerkey'].isin(list_discrepancy_v)]\n",
    "\n",
    "# Print number of unique players with no NaN values\n",
    "print(\"Number of unique players w/o discrepancies: \", df_ML_v['playerkey'].nunique())"
   ]
  },
  {
   "cell_type": "code",
   "execution_count": 21,
   "metadata": {},
   "outputs": [
    {
     "name": "stdout",
     "output_type": "stream",
     "text": [
      "Index(['playerkey', 'visit', 'gender', 'age_range', 'age_gen', 'beginning_amt',\n",
      "       'ending_amt', 'ending_balance', 'ave_slotdenom', 'std_slotdenom',\n",
      "       'min_slotdenom', 'max_slotdenom', 'ave_theo_payback',\n",
      "       'min_theo_payback', 'max_theo_payback', 'ave_wageramt', 'std_wageramt',\n",
      "       'min_wager', 'max_wager', 'ave_p/b', 'std_p/b', 'max_p/b', 'max_profit',\n",
      "       'depletion_slope', '#inc_slotdenom', '#dec_slotdenom', '#inc_maxbet',\n",
      "       '#dec_maxbet', 'first_wager', 'first_outcome', 'first_p/b',\n",
      "       'last_wager', 'last_outcome', 'last_p/b', 'machines_changes', '#W',\n",
      "       '#L', '#NH', '#D', 'w/g', 'l/g', 'nh/g', 'd/g', '#2ws', '2ws_profit',\n",
      "       '2ws_wgramt', '#3ws', '3ws_profit', '3ws_wgramt', '#4ws', '4ws_profit',\n",
      "       '4ws_wgramt', 'ave_time_per_gamble', 'min_time_per_gamble',\n",
      "       'max_time_per_gamble', 'total_duration', 'total_gambles',\n",
      "       'classification', 'unique_machines', 'ave_time_per_machine', 'w/min',\n",
      "       'l/min', 'nh/min', 'd/min', '2ws/min', '3ws/min', '4ws/min'],\n",
      "      dtype='object')\n"
     ]
    }
   ],
   "source": [
    "print(df_ML_v.columns)\n",
    "\n",
    "# # # Reorder Columns\n",
    "desired_order = ['playerkey', 'visit', 'gender', 'age_range', 'age_gen',\n",
    "                'beginning_amt', 'ending_amt', 'ending_balance', 'ave_slotdenom',\n",
    "                'std_slotdenom', 'min_slotdenom', 'max_slotdenom', 'ave_theo_payback',\n",
    "                'min_theo_payback', 'max_theo_payback', 'ave_wageramt', 'std_wageramt',\n",
    "                'min_wager', 'max_wager', 'ave_p/b', 'std_p/b', 'max_p/b', 'max_profit', 'depletion_slope',\n",
    "                '#inc_maxbet', '#dec_maxbet', 'first_wager', 'first_outcome', 'first_p/b', 'last_wager',\n",
    "                'last_outcome', 'last_p/b', '#W', '#L', '#NH', '#D', 'w/min', 'l/min', 'nh/min', 'd/min', \n",
    "                'w/g', 'l/g', 'nh/g', 'd/g', '#2ws', '2ws_profit', '2ws_wgramt', '#3ws', \n",
    "                '3ws_profit','3ws_wgramt', '#4ws', '4ws_profit', '4ws_wgramt', '2ws/min', '3ws/min', '4ws/min',\n",
    "                'ave_time_per_gamble', 'min_time_per_gamble', 'max_time_per_gamble',\n",
    "                'total_duration', 'total_gambles', 'machines_changes', '#inc_slotdenom', '#dec_slotdenom',\n",
    "                'unique_machines', 'ave_time_per_machine','classification']\n",
    "\n",
    "\n",
    "df_ML_v = df_ML_v.reindex(columns=desired_order)\n",
    "\n",
    "# Save dataframe to paquet file\n",
    "df_ML_v.to_parquet('/Users/mau/Library/CloudStorage/Dropbox/Mac/Documents/Dissertation/Chapter 2/Entire_Data/By month/'+month_file+'/Ending Balances/Per_Player/top_players_ending_balance_by_visit.parquet')"
   ]
  },
  {
   "attachments": {},
   "cell_type": "markdown",
   "metadata": {},
   "source": [
    "#### Per Session"
   ]
  },
  {
   "cell_type": "code",
   "execution_count": 22,
   "metadata": {},
   "outputs": [],
   "source": [
    "df_ML_s = pf.transform_ml(data_b=df_s, grouping='session_time')"
   ]
  },
  {
   "cell_type": "code",
   "execution_count": 23,
   "metadata": {},
   "outputs": [
    {
     "name": "stdout",
     "output_type": "stream",
     "text": [
      "Number of unique players in df_ML_v:  1217\n",
      "Number of discrepancies: 49\n",
      "Number of unique players w/o discrepancies:  1168\n"
     ]
    }
   ],
   "source": [
    "# Print number of unique players\n",
    "print(\"Number of unique players in df_ML_v: \", df_ML_s['playerkey'].nunique())\n",
    "\n",
    "# Get the IDs of players who have NaN values in any of the columns\n",
    "list_discrepancy_s = df_ML_s[df_ML_s.isna().any(axis=1)]['playerkey'].unique()\n",
    "\n",
    "# print number of discrepancies\n",
    "print(\"Number of discrepancies:\", len(list_discrepancy_s))\n",
    "\n",
    "# Remove players with NaN values\n",
    "df_ML_s = df_ML_s[~df_ML_s['playerkey'].isin(list_discrepancy_s)]\n",
    "\n",
    "# Print number of unique players with no NaN values\n",
    "print(\"Number of unique players w/o discrepancies: \", df_ML_s['playerkey'].nunique())"
   ]
  },
  {
   "cell_type": "code",
   "execution_count": 24,
   "metadata": {},
   "outputs": [
    {
     "name": "stdout",
     "output_type": "stream",
     "text": [
      "Index(['playerkey', 'session_time', 'gender', 'age_range', 'age_gen',\n",
      "       'beginning_amt', 'ending_amt', 'ending_balance', 'ave_slotdenom',\n",
      "       'std_slotdenom', 'min_slotdenom', 'max_slotdenom', 'ave_theo_payback',\n",
      "       'min_theo_payback', 'max_theo_payback', 'ave_wageramt', 'std_wageramt',\n",
      "       'min_wager', 'max_wager', 'ave_p/b', 'std_p/b', 'max_p/b', 'max_profit',\n",
      "       'depletion_slope', '#inc_slotdenom', '#dec_slotdenom', '#inc_maxbet',\n",
      "       '#dec_maxbet', 'first_wager', 'first_outcome', 'first_p/b',\n",
      "       'last_wager', 'last_outcome', 'last_p/b', 'machines_changes', '#W',\n",
      "       '#L', '#NH', '#D', 'w/g', 'l/g', 'nh/g', 'd/g', '#2ws', '2ws_profit',\n",
      "       '2ws_wgramt', '#3ws', '3ws_profit', '3ws_wgramt', '#4ws', '4ws_profit',\n",
      "       '4ws_wgramt', 'ave_time_per_gamble', 'min_time_per_gamble',\n",
      "       'max_time_per_gamble', 'total_duration', 'total_gambles',\n",
      "       'classification', 'unique_machines', 'ave_time_per_machine', 'w/min',\n",
      "       'l/min', 'nh/min', 'd/min', '2ws/min', '3ws/min', '4ws/min'],\n",
      "      dtype='object')\n"
     ]
    }
   ],
   "source": [
    "print(df_ML_s.columns)\n",
    "\n",
    "# # # Reorder Columns\n",
    "desired_order = ['playerkey', 'session_time', 'gender', 'age_range', 'age_gen',\n",
    "                'beginning_amt', 'ending_amt', 'ending_balance', 'ave_slotdenom',\n",
    "                'std_slotdenom', 'min_slotdenom', 'max_slotdenom', 'ave_theo_payback',\n",
    "                'min_theo_payback', 'max_theo_payback', 'ave_wageramt', 'std_wageramt',\n",
    "                'min_wager', 'max_wager', 'ave_p/b', 'std_p/b', 'max_p/b', 'max_profit', 'depletion_slope',\n",
    "                '#inc_maxbet', '#dec_maxbet', 'first_wager', 'first_outcome', 'first_p/b', 'last_wager',\n",
    "                'last_outcome', 'last_p/b', '#W', '#L', '#NH', '#D', 'w/min', 'l/min', 'nh/min', 'd/min', \n",
    "                'w/g', 'l/g', 'nh/g', 'd/g', '#2ws', '2ws_profit', '2ws_wgramt', '#3ws', \n",
    "                '3ws_profit','3ws_wgramt', '#4ws', '4ws_profit', '4ws_wgramt', '2ws/min', '3ws/min', '4ws/min',\n",
    "                'ave_time_per_gamble', 'min_time_per_gamble', 'max_time_per_gamble',\n",
    "                'total_duration', 'total_gambles', 'machines_changes', '#inc_slotdenom', '#dec_slotdenom',\n",
    "                'unique_machines', 'ave_time_per_machine','classification']\n",
    "\n",
    "df_ML_s = df_ML_s.reindex(columns=desired_order)\n",
    "\n",
    "# Save dataframe to paquet file\n",
    "df_ML_s.to_parquet('/Users/mau/Library/CloudStorage/Dropbox/Mac/Documents/Dissertation/Chapter 2/Entire_Data/By month/'+month_file+'/Ending Balances/Per_Player/top_player_ending_balance_by_session.parquet')\n"
   ]
  }
 ],
 "metadata": {
  "kernelspec": {
   "display_name": "Python 3",
   "language": "python",
   "name": "python3"
  },
  "language_info": {
   "codemirror_mode": {
    "name": "ipython",
    "version": 3
   },
   "file_extension": ".py",
   "mimetype": "text/x-python",
   "name": "python",
   "nbconvert_exporter": "python",
   "pygments_lexer": "ipython3",
   "version": "3.10.0"
  },
  "orig_nbformat": 4
 },
 "nbformat": 4,
 "nbformat_minor": 2
}
