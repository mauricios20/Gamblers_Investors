{
 "cells": [
  {
   "attachments": {},
   "cell_type": "markdown",
   "metadata": {},
   "source": [
    "# Decision-Tree"
   ]
  },
  {
   "attachments": {},
   "cell_type": "markdown",
   "metadata": {},
   "source": [
    "## Data Preprocessing"
   ]
  },
  {
   "cell_type": "code",
   "execution_count": 25,
   "metadata": {},
   "outputs": [],
   "source": [
    "# Importing the libraries\n",
    "import numpy as np\n",
    "import matplotlib.pyplot as plt\n",
    "import pandas as pd\n",
    "import os\n",
    "import counting_fns as cf\n",
    "from imblearn.over_sampling import SMOTE\n",
    "from sklearn.preprocessing import LabelEncoder\n",
    "\n",
    "\n",
    "# List of all the months\n",
    "months = ['2_June', '3_July', '4_August', '5_September', '6_October']\n",
    "\n",
    "# Define the path to the data directory and columns to keep\n",
    "data_path = \"/Users/mau/Library/CloudStorage/Dropbox/Mac/Documents/Dissertation/Chapter 2/Entire_Data/By month\"\n",
    "\n",
    "# Filter Columns based on Machine Learning Feature Selection\n",
    "filter = ['session_time', 'playerkey', 'std_p/b', 'max_p/b', '2ws_wgramt', '3ws_profit', '3ws_wgramt', 'max_profit', '2ws_profit', 'ave_p/b', 'min_time_per_gamble', 'w/min', 'classification']\n"
   ]
  },
  {
   "attachments": {},
   "cell_type": "markdown",
   "metadata": {},
   "source": [
    "## Load Dataframes"
   ]
  },
  {
   "cell_type": "code",
   "execution_count": 27,
   "metadata": {},
   "outputs": [
    {
     "name": "stdout",
     "output_type": "stream",
     "text": [
      "0    37812\n",
      "1    37812\n",
      "Name: classification, dtype: int64\n"
     ]
    }
   ],
   "source": [
    "datasets = cf.load_and_preprocess_datasets_ntop(months, data_path, 'session', filter)\n",
    "\n",
    "# Concatenate all the datasets\n",
    "dataset = pd.concat(datasets, ignore_index= True)\n",
    "\n",
    "# Apply SMOTE to balance the dataset\n",
    "sm = SMOTE(random_state=42)\n",
    "\n",
    "X = dataset.drop(columns=['classification'])\n",
    "y = dataset['classification']\n",
    "\n",
    "# Encode gender column (Binary)\n",
    "le = LabelEncoder()\n",
    "y = le.fit_transform(y)\n",
    "\n",
    "# Apply SMOTE to resample the minority class\n",
    "sm = SMOTE(random_state=42)\n",
    "X_res, y_res = sm.fit_resample(X, y)\n",
    "\n",
    "# Convert back to dataframe\n",
    "X_res = pd.DataFrame(X_res, columns= X.columns)\n",
    "y_res = pd.DataFrame(y_res, columns= ['classification'])\n",
    "\n",
    "# Concatenate the two dataframes\n",
    "resample_dataset = pd.concat([X_res, y_res], axis=1)\n",
    "\n",
    "# Count the number of each class\n",
    "count = resample_dataset['classification'].value_counts()\n",
    "print(count)"
   ]
  },
  {
   "cell_type": "markdown",
   "metadata": {},
   "source": [
    "## Save dataframe to STATA file"
   ]
  },
  {
   "cell_type": "code",
   "execution_count": 28,
   "metadata": {},
   "outputs": [
    {
     "name": "stderr",
     "output_type": "stream",
     "text": [
      "/var/folders/vp/1skwx2kd29s4fxnxx7tt9r6w0000gn/T/ipykernel_78400/1508396723.py:4: InvalidColumnName: \n",
      "Not all pandas column names were valid Stata variable names.\n",
      "The following replacements have been made:\n",
      "\n",
      "    std_p/b   ->   std_p_b\n",
      "    max_p/b   ->   max_p_b\n",
      "    2ws_wgramt   ->   _2ws_wgramt\n",
      "    3ws_profit   ->   _3ws_profit\n",
      "    3ws_wgramt   ->   _3ws_wgramt\n",
      "    2ws_profit   ->   _2ws_profit\n",
      "    ave_p/b   ->   ave_p_b\n",
      "    w/min   ->   w_min\n",
      "\n",
      "If this is not what you expect, please make sure you have Stata-compliant\n",
      "column names in your DataFrame (strings only, max 32 characters, only\n",
      "alphanumerics and underscores, no Stata reserved words)\n",
      "\n",
      "  resample_dataset.to_stata('Resample_Overall_Dataset.dta')\n"
     ]
    }
   ],
   "source": [
    "# Set saving directory\n",
    "os.chdir(\"/Users/mau/Library/CloudStorage/Dropbox/Mac/Documents/Dissertation/Chapter 2/Entire_Data/Stata_Data\")\n",
    "# Save the dataset to stata file\n",
    "resample_dataset.to_stata('Resample_Overall_Dataset.dta')"
   ]
  }
 ],
 "metadata": {
  "kernelspec": {
   "display_name": "Python 3",
   "language": "python",
   "name": "python3"
  },
  "language_info": {
   "codemirror_mode": {
    "name": "ipython",
    "version": 3
   },
   "file_extension": ".py",
   "mimetype": "text/x-python",
   "name": "python",
   "nbconvert_exporter": "python",
   "pygments_lexer": "ipython3",
   "version": "3.10.0"
  },
  "orig_nbformat": 4
 },
 "nbformat": 4,
 "nbformat_minor": 2
}
