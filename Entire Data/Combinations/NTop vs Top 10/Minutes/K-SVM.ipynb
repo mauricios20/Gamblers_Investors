{
 "cells": [
  {
   "attachments": {},
   "cell_type": "markdown",
   "metadata": {},
   "source": [
    "# Kernel Support Vector Machine (SVM) Model"
   ]
  },
  {
   "attachments": {},
   "cell_type": "markdown",
   "metadata": {},
   "source": [
    "## Data Preprocessing"
   ]
  },
  {
   "cell_type": "code",
   "execution_count": 1,
   "metadata": {},
   "outputs": [],
   "source": [
    "# Importing the libraries\n",
    "import numpy as np\n",
    "import matplotlib.pyplot as plt\n",
    "import pandas as pd\n",
    "import os\n",
    "from sklearn.compose import ColumnTransformer\n",
    "from sklearn.preprocessing import OneHotEncoder\n",
    "from sklearn.preprocessing import LabelEncoder\n",
    "from sklearn.model_selection import train_test_split\n",
    "from sklearn.preprocessing import StandardScaler\n",
    "from sklearn.neighbors import KNeighborsClassifier\n",
    "from sklearn.metrics import confusion_matrix, accuracy_score, precision_score, recall_score, f1_score\n",
    "from sklearn.svm import SVC\n",
    "import random\n",
    "import counting_fns as cf\n",
    "\n",
    "# List of all the months\n",
    "months = ['2_June', '3_July', '4_August', '5_September', '6_October']\n",
    "\n",
    "# Define the path to the data directory and columns to keep\n",
    "data_path = \"/Users/mau/Library/CloudStorage/Dropbox/Mac/Documents/Dissertation/Chapter 2/Entire_Data/By month\"\n",
    "\n",
    "# Filter Columns\n",
    "filter = ['session_time', 'gender', 'age_gen', 'day', 'timeofday', 'first_outcome',\n",
    "        'first_wager','first_p/b', 'last_outcome', 'last_wager', 'last_p/b',\n",
    "        'beginning_amt', 'ending_amt', 'ending_balance', 'ave_slotdenom', \n",
    "        'std_slotdenom', 'min_slotdenom', 'max_slotdenom', 'ave_theo_payback',\n",
    "        'min_theo_payback', 'max_theo_payback', 'ave_wageramt', 'std_wageramt',\n",
    "        'min_wager', 'max_wager', 'ave_p/b', 'std_p/b', 'max_p/b', 'max_profit', 'depletion_slope', \n",
    "        '#inc_slotdenom', '#dec_slotdenom', '#inc_maxbet', '#dec_maxbet', '#W', '#L', '#NH', '#D',\n",
    "        'w/min', 'l/min', '#2ws', '2ws_profit', '2ws_wgramt','2ws/min', \n",
    "        '#3ws', '3ws_profit', '3ws_wgramt', '3ws/min', '#4ws', '4ws_profit', '4ws_wgramt', '4ws/min', \n",
    "        'w/g', 'l/g', 'nh/g', 'd/g', 'ave_time_per_gamble', \n",
    "        'min_time_per_gamble', 'max_time_per_gamble', 'total_gambles',\n",
    "        'machines_changes', 'unique_machines', 'ave_time_per_machine', 'classification']\n"
   ]
  },
  {
   "cell_type": "markdown",
   "metadata": {},
   "source": [
    "## Randomized Months"
   ]
  },
  {
   "cell_type": "code",
   "execution_count": 17,
   "metadata": {},
   "outputs": [
    {
     "name": "stdout",
     "output_type": "stream",
     "text": [
      "Months in training set: ['6_October', '5_September', '2_June', '3_July']\n",
      "Months in test set: ['4_August']\n"
     ]
    }
   ],
   "source": [
    "# Randomly select 3 months for training set\n",
    "# random.seed(350)\n",
    "months_train = random.sample(months, 4)\n",
    "\n",
    "# Print the months in the training set\n",
    "print(\"Months in training set:\", months_train)\n",
    "\n",
    "# Create a list of remaining months for the test set\n",
    "months_test = [month for month in months if month not in months_train]\n",
    "# Print the months in the test set\n",
    "print(\"Months in test set:\", months_test)"
   ]
  },
  {
   "attachments": {},
   "cell_type": "markdown",
   "metadata": {},
   "source": [
    "## Load Dataframes"
   ]
  },
  {
   "attachments": {},
   "cell_type": "markdown",
   "metadata": {},
   "source": [
    "### 1 MIN"
   ]
  },
  {
   "cell_type": "code",
   "execution_count": 3,
   "metadata": {},
   "outputs": [
    {
     "name": "stdout",
     "output_type": "stream",
     "text": [
      "[[10418     1]\n",
      " [ 1176     0]]\n",
      "Accuracy:  0.8984907287623976\n",
      "Precision:  0.44928411247196826\n",
      "Recall:  0.4999520107495921\n",
      "F1 Score:  0.47326579748330533\n"
     ]
    }
   ],
   "source": [
    "# Load the datasets\n",
    "datasets = cf.load_and_preprocess_datasets_min_ntop(months, data_path, '1min', filter)\n",
    "\n",
    "# Create training and test sets\n",
    "dt_train = pd.concat([datasets['dtf'+month[1:]] for month in months_train])\n",
    "dt_test = pd.concat([datasets['dtf'+month[1:]] for month in months_test])\n",
    "\n",
    "# # Seperate dependent and independent variables\n",
    "X_train = dt_train.iloc[:, :-1].values\n",
    "y_train = dt_train.iloc[:, -1].values\n",
    "X_test = dt_test.iloc[:, :-1].values\n",
    "y_test = dt_test.iloc[:, -1].values\n",
    "\n",
    "# Econde gender column (Binary)\n",
    "le = LabelEncoder()\n",
    "\n",
    "# Binary Encode gender\n",
    "X_train[:, 0] = le.fit_transform(X_train[:, 0])\n",
    "X_test[:, 0] = le.fit_transform(X_test[:, 0])\n",
    "\n",
    "\n",
    "# # Encode age_generartion, first_outoce, last_outcome columns\n",
    "ct = ColumnTransformer(transformers=[('encoder', OneHotEncoder(), [1, 2, 5])], remainder='passthrough')\n",
    "X_train = np.array(ct.fit_transform(X_train))\n",
    "X_test = np.array(ct.transform(X_test))\n",
    "\n",
    "y_train = le.fit_transform(y_train)\n",
    "y_test = le.fit_transform(y_test)\n",
    "\n",
    "# # Feature Scaling\n",
    "sc = StandardScaler()\n",
    "\n",
    "# Scale all columns except the encoded ones\n",
    "X_train[:, 14:] = sc.fit_transform(X_train[:, 14:])\n",
    "X_test[:, 14:] = sc.transform(X_test[:, 14:])\n",
    "\n",
    "classifier = SVC(kernel = 'rbf', random_state = 0)\n",
    "classifier.fit(X_train, y_train)\n",
    "\n",
    "y_pred = classifier.predict(X_test)\n",
    "\n",
    "cm = confusion_matrix(y_test, y_pred)\n",
    "print(cm)\n",
    "print('Accuracy: ', accuracy_score(y_test, y_pred))\n",
    "print('Precision: ', precision_score(y_test, y_pred, average='macro', zero_division=1))\n",
    "print('Recall: ', recall_score(y_test, y_pred, average='macro'))\n",
    "print('F1 Score: ', f1_score(y_test, y_pred, average='macro'))"
   ]
  },
  {
   "cell_type": "markdown",
   "metadata": {},
   "source": [
    "### 2 MIN"
   ]
  },
  {
   "cell_type": "code",
   "execution_count": 4,
   "metadata": {},
   "outputs": [
    {
     "name": "stdout",
     "output_type": "stream",
     "text": [
      "[[10419     0]\n",
      " [ 1175     1]]\n",
      "Accuracy:  0.8986632169038379\n",
      "Precision:  0.949327238226669\n",
      "Recall:  0.5004251700680272\n",
      "F1 Score:  0.4741608428571654\n"
     ]
    }
   ],
   "source": [
    "# Load the datasets for 2min, named it datasets_2\n",
    "datasets_2 = cf.load_and_preprocess_datasets_min_ntop(months, data_path, '2min', filter)\n",
    "\n",
    "# Create training and test sets\n",
    "dt_train = pd.concat([datasets_2['dtf'+month[1:]] for month in months_train])\n",
    "dt_test = pd.concat([datasets_2['dtf'+month[1:]] for month in months_test])\n",
    "\n",
    "# # Seperate dependent and independent variables\n",
    "X_train = dt_train.iloc[:, :-1].values\n",
    "y_train = dt_train.iloc[:, -1].values\n",
    "X_test = dt_test.iloc[:, :-1].values\n",
    "y_test = dt_test.iloc[:, -1].values\n",
    "\n",
    "# Econde gender column (Binary)\n",
    "le = LabelEncoder()\n",
    "\n",
    "# Binary Encode gender\n",
    "X_train[:, 0] = le.fit_transform(X_train[:, 0])\n",
    "X_test[:, 0] = le.fit_transform(X_test[:, 0])\n",
    "\n",
    "\n",
    "# # Encode age_generartion, first_outoce, last_outcome columns\n",
    "ct = ColumnTransformer(transformers=[('encoder', OneHotEncoder(), [1, 2, 5])], remainder='passthrough')\n",
    "X_train = np.array(ct.fit_transform(X_train))\n",
    "X_test = np.array(ct.transform(X_test))\n",
    "\n",
    "y_train = le.fit_transform(y_train)\n",
    "y_test = le.fit_transform(y_test)\n",
    "\n",
    "# # Feature Scaling\n",
    "sc = StandardScaler()\n",
    "\n",
    "# Scale all columns except the encoded ones\n",
    "X_train[:, 14:] = sc.fit_transform(X_train[:, 14:])\n",
    "X_test[:, 14:] = sc.transform(X_test[:, 14:])\n",
    "\n",
    "classifier = SVC(kernel = 'rbf', random_state = 0)\n",
    "classifier.fit(X_train, y_train)\n",
    "\n",
    "y_pred = classifier.predict(X_test)\n",
    "\n",
    "cm = confusion_matrix(y_test, y_pred)\n",
    "print(cm)\n",
    "print('Accuracy: ', accuracy_score(y_test, y_pred))\n",
    "print('Precision: ', precision_score(y_test, y_pred, average='macro'))\n",
    "print('Recall: ', recall_score(y_test, y_pred, average='macro'))\n",
    "print('F1 Score: ', f1_score(y_test, y_pred, average='macro'))"
   ]
  },
  {
   "cell_type": "markdown",
   "metadata": {},
   "source": [
    "### 3 MIN"
   ]
  },
  {
   "cell_type": "code",
   "execution_count": 5,
   "metadata": {},
   "outputs": [
    {
     "name": "stdout",
     "output_type": "stream",
     "text": [
      "[[10418     1]\n",
      " [ 1175     1]]\n",
      "Accuracy:  0.8985769728331178\n",
      "Precision:  0.6993228672474769\n",
      "Recall:  0.5003771808176193\n",
      "F1 Score:  0.47413619427217824\n"
     ]
    }
   ],
   "source": [
    "# Load the datasets for 3min, named it datasets_3\n",
    "datasets_3 = cf.load_and_preprocess_datasets_min_ntop(months, data_path, '3min', filter)\n",
    "\n",
    "# Create training and test sets\n",
    "dt_train = pd.concat([datasets_3['dtf'+month[1:]] for month in months_train])\n",
    "dt_test = pd.concat([datasets_3['dtf'+month[1:]] for month in months_test])\n",
    "\n",
    "# # Seperate dependent and independent variables\n",
    "X_train = dt_train.iloc[:, :-1].values\n",
    "y_train = dt_train.iloc[:, -1].values\n",
    "X_test = dt_test.iloc[:, :-1].values\n",
    "y_test = dt_test.iloc[:, -1].values\n",
    "\n",
    "# Econde gender column (Binary)\n",
    "le = LabelEncoder()\n",
    "\n",
    "# Binary Encode gender\n",
    "X_train[:, 0] = le.fit_transform(X_train[:, 0])\n",
    "X_test[:, 0] = le.fit_transform(X_test[:, 0])\n",
    "\n",
    "\n",
    "# # Encode age_generartion, first_outoce, last_outcome columns\n",
    "ct = ColumnTransformer(transformers=[('encoder', OneHotEncoder(), [1, 2, 5])], remainder='passthrough')\n",
    "X_train = np.array(ct.fit_transform(X_train))\n",
    "X_test = np.array(ct.transform(X_test))\n",
    "\n",
    "y_train = le.fit_transform(y_train)\n",
    "y_test = le.fit_transform(y_test)\n",
    "\n",
    "# # Feature Scaling\n",
    "sc = StandardScaler()\n",
    "\n",
    "# Scale all columns except the encoded ones\n",
    "X_train[:, 14:] = sc.fit_transform(X_train[:, 14:])\n",
    "X_test[:, 14:] = sc.transform(X_test[:, 14:])\n",
    "\n",
    "classifier = SVC(kernel = 'rbf', random_state = 0)\n",
    "classifier.fit(X_train, y_train)\n",
    "\n",
    "y_pred = classifier.predict(X_test)\n",
    "\n",
    "cm = confusion_matrix(y_test, y_pred)\n",
    "print(cm)\n",
    "print('Accuracy: ', accuracy_score(y_test, y_pred))\n",
    "print('Precision: ', precision_score(y_test, y_pred, average='macro', zero_division=1))\n",
    "print('Recall: ', recall_score(y_test, y_pred, average='macro'))\n",
    "print('F1 Score: ', f1_score(y_test, y_pred, average='macro'))"
   ]
  },
  {
   "cell_type": "markdown",
   "metadata": {},
   "source": [
    "### 4 MIN"
   ]
  },
  {
   "cell_type": "code",
   "execution_count": 6,
   "metadata": {},
   "outputs": [
    {
     "name": "stdout",
     "output_type": "stream",
     "text": [
      "[[10417     2]\n",
      " [ 1175     1]]\n",
      "Accuracy:  0.8984907287623976\n",
      "Precision:  0.6159851621808143\n",
      "Recall:  0.5003291915672113\n",
      "F1 Score:  0.47411154473653755\n"
     ]
    }
   ],
   "source": [
    "# Load the datasets for 4min, named it datasets_4\n",
    "datasets_4 = cf.load_and_preprocess_datasets_min_ntop(months, data_path, '4min', filter)\n",
    "\n",
    "# Create training and test sets\n",
    "dt_train = pd.concat([datasets_4['dtf'+month[1:]] for month in months_train])\n",
    "dt_test = pd.concat([datasets_4['dtf'+month[1:]] for month in months_test])\n",
    "\n",
    "# # Seperate dependent and independent variables\n",
    "X_train = dt_train.iloc[:, :-1].values\n",
    "y_train = dt_train.iloc[:, -1].values\n",
    "X_test = dt_test.iloc[:, :-1].values\n",
    "y_test = dt_test.iloc[:, -1].values\n",
    "\n",
    "# Econde gender column (Binary)\n",
    "le = LabelEncoder()\n",
    "\n",
    "# Binary Encode gender\n",
    "X_train[:, 0] = le.fit_transform(X_train[:, 0])\n",
    "X_test[:, 0] = le.fit_transform(X_test[:, 0])\n",
    "\n",
    "\n",
    "# # Encode age_generartion, first_outoce, last_outcome columns\n",
    "ct = ColumnTransformer(transformers=[('encoder', OneHotEncoder(), [1, 2, 5])], remainder='passthrough')\n",
    "X_train = np.array(ct.fit_transform(X_train))\n",
    "X_test = np.array(ct.transform(X_test))\n",
    "\n",
    "y_train = le.fit_transform(y_train)\n",
    "y_test = le.fit_transform(y_test)\n",
    "\n",
    "# # Feature Scaling\n",
    "sc = StandardScaler()\n",
    "\n",
    "# Scale all columns except the encoded ones\n",
    "X_train[:, 14:] = sc.fit_transform(X_train[:, 14:])\n",
    "X_test[:, 14:] = sc.transform(X_test[:, 14:])\n",
    "\n",
    "classifier = SVC(kernel = 'rbf', random_state = 0)\n",
    "classifier.fit(X_train, y_train)\n",
    "\n",
    "y_pred = classifier.predict(X_test)\n",
    "\n",
    "cm = confusion_matrix(y_test, y_pred)\n",
    "print(cm)\n",
    "print('Accuracy: ', accuracy_score(y_test, y_pred))\n",
    "print('Precision: ', precision_score(y_test, y_pred, average='macro', zero_division=1))\n",
    "print('Recall: ', recall_score(y_test, y_pred, average='macro'))\n",
    "print('F1 Score: ', f1_score(y_test, y_pred, average='macro'))"
   ]
  },
  {
   "attachments": {},
   "cell_type": "markdown",
   "metadata": {},
   "source": [
    "### 5 MIN"
   ]
  },
  {
   "cell_type": "code",
   "execution_count": 7,
   "metadata": {},
   "outputs": [
    {
     "name": "stdout",
     "output_type": "stream",
     "text": [
      "[[10417     2]\n",
      " [ 1175     1]]\n",
      "Accuracy:  0.8984907287623976\n",
      "Precision:  0.6159851621808143\n",
      "Recall:  0.5003291915672113\n",
      "F1 Score:  0.47411154473653755\n"
     ]
    }
   ],
   "source": [
    "# Load the datasets for 5min, named it datasets_5\n",
    "datasets_5 = cf.load_and_preprocess_datasets_min_ntop(months, data_path, '5min', filter)\n",
    "\n",
    "# Create training and test sets\n",
    "dt_train = pd.concat([datasets_5['dtf'+month[1:]] for month in months_train])\n",
    "dt_test = pd.concat([datasets_5['dtf'+month[1:]] for month in months_test])\n",
    "\n",
    "# # Seperate dependent and independent variables\n",
    "X_train = dt_train.iloc[:, :-1].values\n",
    "y_train = dt_train.iloc[:, -1].values\n",
    "X_test = dt_test.iloc[:, :-1].values\n",
    "y_test = dt_test.iloc[:, -1].values\n",
    "\n",
    "# Econde gender column (Binary)\n",
    "le = LabelEncoder()\n",
    "\n",
    "# Binary Encode gender\n",
    "X_train[:, 0] = le.fit_transform(X_train[:, 0])\n",
    "X_test[:, 0] = le.fit_transform(X_test[:, 0])\n",
    "\n",
    "\n",
    "# # Encode age_generartion, first_outoce, last_outcome columns\n",
    "ct = ColumnTransformer(transformers=[('encoder', OneHotEncoder(), [1, 2, 5])], remainder='passthrough')\n",
    "X_train = np.array(ct.fit_transform(X_train))\n",
    "X_test = np.array(ct.transform(X_test))\n",
    "\n",
    "y_train = le.fit_transform(y_train)\n",
    "y_test = le.fit_transform(y_test)\n",
    "\n",
    "# # Feature Scaling\n",
    "sc = StandardScaler()\n",
    "\n",
    "# Scale all columns except the encoded ones\n",
    "X_train[:, 14:] = sc.fit_transform(X_train[:, 14:])\n",
    "X_test[:, 14:] = sc.transform(X_test[:, 14:])\n",
    "\n",
    "classifier = SVC(kernel = 'rbf', random_state = 0)\n",
    "classifier.fit(X_train, y_train)\n",
    "\n",
    "y_pred = classifier.predict(X_test)\n",
    "\n",
    "cm = confusion_matrix(y_test, y_pred)\n",
    "print(cm)\n",
    "print('Accuracy: ', accuracy_score(y_test, y_pred))\n",
    "print('Precision: ', precision_score(y_test, y_pred, average='macro', zero_division=1))\n",
    "print('Recall: ', recall_score(y_test, y_pred, average='macro'))\n",
    "print('F1 Score: ', f1_score(y_test, y_pred, average='macro'))"
   ]
  },
  {
   "cell_type": "markdown",
   "metadata": {},
   "source": [
    "### 10 Min"
   ]
  },
  {
   "cell_type": "code",
   "execution_count": 8,
   "metadata": {},
   "outputs": [
    {
     "name": "stdout",
     "output_type": "stream",
     "text": [
      "[[10417     2]\n",
      " [ 1175     1]]\n",
      "Accuracy:  0.8984907287623976\n",
      "Precision:  0.6159851621808143\n",
      "Recall:  0.5003291915672113\n",
      "F1 Score:  0.47411154473653755\n"
     ]
    }
   ],
   "source": [
    "# Load the datasets for 5min, named it datasets_5\n",
    "datasets_10 = cf.load_and_preprocess_datasets_min_ntop(months, data_path, '10min', filter)\n",
    "\n",
    "# Create training and test sets\n",
    "dt_train = pd.concat([datasets_5['dtf'+month[1:]] for month in months_train])\n",
    "dt_test = pd.concat([datasets_5['dtf'+month[1:]] for month in months_test])\n",
    "\n",
    "# # Seperate dependent and independent variables\n",
    "X_train = dt_train.iloc[:, :-1].values\n",
    "y_train = dt_train.iloc[:, -1].values\n",
    "X_test = dt_test.iloc[:, :-1].values\n",
    "y_test = dt_test.iloc[:, -1].values\n",
    "\n",
    "# Econde gender column (Binary)\n",
    "le = LabelEncoder()\n",
    "\n",
    "# Binary Encode gender\n",
    "X_train[:, 0] = le.fit_transform(X_train[:, 0])\n",
    "X_test[:, 0] = le.fit_transform(X_test[:, 0])\n",
    "\n",
    "\n",
    "# # Encode age_generartion, first_outoce, last_outcome columns\n",
    "ct = ColumnTransformer(transformers=[('encoder', OneHotEncoder(), [1, 2, 5])], remainder='passthrough')\n",
    "X_train = np.array(ct.fit_transform(X_train))\n",
    "X_test = np.array(ct.transform(X_test))\n",
    "\n",
    "y_train = le.fit_transform(y_train)\n",
    "y_test = le.fit_transform(y_test)\n",
    "\n",
    "# # Feature Scaling\n",
    "sc = StandardScaler()\n",
    "\n",
    "# Scale all columns except the encoded ones\n",
    "X_train[:, 14:] = sc.fit_transform(X_train[:, 14:])\n",
    "X_test[:, 14:] = sc.transform(X_test[:, 14:])\n",
    "\n",
    "classifier = SVC(kernel = 'rbf', random_state = 0)\n",
    "classifier.fit(X_train, y_train)\n",
    "\n",
    "y_pred = classifier.predict(X_test)\n",
    "\n",
    "cm = confusion_matrix(y_test, y_pred)\n",
    "print(cm)\n",
    "print('Accuracy: ', accuracy_score(y_test, y_pred))\n",
    "print('Precision: ', precision_score(y_test, y_pred, average='macro', zero_division=1))\n",
    "print('Recall: ', recall_score(y_test, y_pred, average='macro'))\n",
    "print('F1 Score: ', f1_score(y_test, y_pred, average='macro'))"
   ]
  },
  {
   "cell_type": "markdown",
   "metadata": {},
   "source": [
    "### 15 Min"
   ]
  },
  {
   "cell_type": "code",
   "execution_count": 9,
   "metadata": {},
   "outputs": [
    {
     "name": "stdout",
     "output_type": "stream",
     "text": [
      "[[10417     2]\n",
      " [ 1175     1]]\n",
      "Accuracy:  0.8984907287623976\n",
      "Precision:  0.6159851621808143\n",
      "Recall:  0.5003291915672113\n",
      "F1 Score:  0.47411154473653755\n"
     ]
    }
   ],
   "source": [
    "# Load the datasets for 5min, named it datasets_5\n",
    "datasets_15 = cf.load_and_preprocess_datasets_min_ntop(months, data_path, '15min', filter)\n",
    "\n",
    "# Create training and test sets\n",
    "dt_train = pd.concat([datasets_5['dtf'+month[1:]] for month in months_train])\n",
    "dt_test = pd.concat([datasets_5['dtf'+month[1:]] for month in months_test])\n",
    "\n",
    "# # Seperate dependent and independent variables\n",
    "X_train = dt_train.iloc[:, :-1].values\n",
    "y_train = dt_train.iloc[:, -1].values\n",
    "X_test = dt_test.iloc[:, :-1].values\n",
    "y_test = dt_test.iloc[:, -1].values\n",
    "\n",
    "# Econde gender column (Binary)\n",
    "le = LabelEncoder()\n",
    "\n",
    "# Binary Encode gender\n",
    "X_train[:, 0] = le.fit_transform(X_train[:, 0])\n",
    "X_test[:, 0] = le.fit_transform(X_test[:, 0])\n",
    "\n",
    "\n",
    "# # Encode age_generartion, first_outoce, last_outcome columns\n",
    "ct = ColumnTransformer(transformers=[('encoder', OneHotEncoder(), [1, 2, 5])], remainder='passthrough')\n",
    "X_train = np.array(ct.fit_transform(X_train))\n",
    "X_test = np.array(ct.transform(X_test))\n",
    "\n",
    "y_train = le.fit_transform(y_train)\n",
    "y_test = le.fit_transform(y_test)\n",
    "\n",
    "# # Feature Scaling\n",
    "sc = StandardScaler()\n",
    "\n",
    "# Scale all columns except the encoded ones\n",
    "X_train[:, 14:] = sc.fit_transform(X_train[:, 14:])\n",
    "X_test[:, 14:] = sc.transform(X_test[:, 14:])\n",
    "\n",
    "classifier = SVC(kernel = 'rbf', random_state = 0)\n",
    "classifier.fit(X_train, y_train)\n",
    "\n",
    "y_pred = classifier.predict(X_test)\n",
    "\n",
    "cm = confusion_matrix(y_test, y_pred)\n",
    "print(cm)\n",
    "print('Accuracy: ', accuracy_score(y_test, y_pred))\n",
    "print('Precision: ', precision_score(y_test, y_pred, average='macro', zero_division=1))\n",
    "print('Recall: ', recall_score(y_test, y_pred, average='macro'))\n",
    "print('F1 Score: ', f1_score(y_test, y_pred, average='macro'))"
   ]
  },
  {
   "cell_type": "code",
   "execution_count": 18,
   "metadata": {},
   "outputs": [
    {
     "name": "stdout",
     "output_type": "stream",
     "text": [
      "\\begin{tabular}{lrrrr}\n",
      "\\toprule\n",
      "  Time &  Accuracy &  Precision &  Recall &  F1 Score \\\\\n",
      "\\midrule\n",
      " 1 min &     0.898 &      0.449 &   0.500 &     0.473 \\\\\n",
      " 5 min &     0.898 &      0.616 &   0.500 &     0.474 \\\\\n",
      "10 min &     0.899 &      0.749 &   0.501 &     0.476 \\\\\n",
      "15 min &     0.899 &      0.699 &   0.502 &     0.477 \\\\\n",
      "\\bottomrule\n",
      "\\end{tabular}\n",
      "\n"
     ]
    },
    {
     "name": "stderr",
     "output_type": "stream",
     "text": [
      "/var/folders/vp/1skwx2kd29s4fxnxx7tt9r6w0000gn/T/ipykernel_94927/412228674.py:67: FutureWarning: In future versions `DataFrame.to_latex` is expected to utilise the base implementation of `Styler.to_latex` for formatting and rendering. The arguments signature may therefore change. It is recommended instead to use `DataFrame.style.to_latex` which also contains additional functionality.\n",
      "  latex_table = results_df.to_latex(index=False, escape=False)\n"
     ]
    }
   ],
   "source": [
    "# Table creation \n",
    "# Define time intervals\n",
    "time_intervals = [1, 5, 10, 15]\n",
    "\n",
    "# Initialize lists to store results\n",
    "results = []\n",
    "for time_interval in time_intervals:\n",
    "    # Load dataset for the specific time interval\n",
    "    file_name = f'{time_interval}min'\n",
    "    # Load the datasets\n",
    "    datasets = cf.load_and_preprocess_datasets_min_ntop(months, data_path, file_name, filter)\n",
    "\n",
    "    # Create training and test sets\n",
    "    dt_train = pd.concat([datasets['dtf'+month[1:]] for month in months_train])\n",
    "    dt_test = pd.concat([datasets['dtf'+month[1:]] for month in months_test])\n",
    "\n",
    "    # # Seperate dependent and independent variables\n",
    "    X_train = dt_train.iloc[:, :-1].values\n",
    "    y_train = dt_train.iloc[:, -1].values\n",
    "    X_test = dt_test.iloc[:, :-1].values\n",
    "    y_test = dt_test.iloc[:, -1].values\n",
    "\n",
    "    # Econde gender column (Binary)\n",
    "    le = LabelEncoder()\n",
    "\n",
    "    # Binary Encode gender\n",
    "    X_train[:, 0] = le.fit_transform(X_train[:, 0])\n",
    "    X_test[:, 0] = le.fit_transform(X_test[:, 0])\n",
    "\n",
    "    # # # Encode age_generartion, first_outoce, last_outcome, time of day columns\n",
    "    ct = ColumnTransformer(transformers=[('encoder', OneHotEncoder(), [1, 2, 3, 4, 7])], remainder='passthrough')\n",
    "    X_train = np.array(ct.fit_transform(X_train))\n",
    "    X_test = np.array(ct.transform(X_test))\n",
    "\n",
    "    y_train = le.fit_transform(y_train)\n",
    "    y_test = le.fit_transform(y_test)\n",
    "\n",
    "    sc = StandardScaler()\n",
    "\n",
    "    # Scale all columns except the encoded ones\n",
    "    X_train[:, 25:] = sc.fit_transform(X_train[:, 25:])\n",
    "    X_test[:, 25:] = sc.transform(X_test[:, 25:])\n",
    "\n",
    "    classifier = SVC(kernel = 'rbf', random_state = 0)\n",
    "    classifier.fit(X_train, y_train)\n",
    "\n",
    "    y_pred = classifier.predict(X_test)\n",
    "\n",
    "    cm = confusion_matrix(y_test, y_pred)\n",
    "    # Calculate evaluation metrics\n",
    "    accuracy = accuracy_score(y_test, y_pred)\n",
    "    precision = precision_score(y_test, y_pred, average='macro', zero_division=1)\n",
    "    recall = recall_score(y_test, y_pred, average='macro')\n",
    "    f1 = f1_score(y_test, y_pred, average='macro')\n",
    "\n",
    "    # Append results for this time interval\n",
    "    results.append([f'{time_interval} min', round(accuracy, 3), round(precision, 3), round(recall, 3), round(f1, 3)])\n",
    "\n",
    "# Create a DataFrame for the results\n",
    "columns = ['Time', 'Accuracy', 'Precision', 'Recall', 'F1 Score']\n",
    "results_df = pd.DataFrame(results, columns=columns)\n",
    "\n",
    "# Print the results as a table\n",
    "# print(results_df)\n",
    "\n",
    "# Print the results as a LaTeX table\n",
    "latex_table = results_df.to_latex(index=False, escape=False)\n",
    "print(latex_table)"
   ]
  }
 ],
 "metadata": {
  "kernelspec": {
   "display_name": "Python 3",
   "language": "python",
   "name": "python3"
  },
  "language_info": {
   "codemirror_mode": {
    "name": "ipython",
    "version": 3
   },
   "file_extension": ".py",
   "mimetype": "text/x-python",
   "name": "python",
   "nbconvert_exporter": "python",
   "pygments_lexer": "ipython3",
   "version": "3.10.0"
  },
  "orig_nbformat": 4
 },
 "nbformat": 4,
 "nbformat_minor": 2
}
