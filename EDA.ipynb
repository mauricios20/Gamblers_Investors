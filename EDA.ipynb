{
 "cells": [
  {
   "attachments": {},
   "cell_type": "markdown",
   "metadata": {},
   "source": [
    "# Exploratory Data Analysis\n",
    "I am using this notebook to learn how gamblers behaviors are similar to those of investors.\n",
    "\n",
    "## Define Libraries"
   ]
  },
  {
   "cell_type": "code",
   "execution_count": 2,
   "metadata": {},
   "outputs": [],
   "source": [
    "import pandas as pd\n",
    "import os\n",
    "import seaborn as sns\n",
    "import matplotlib.pyplot as plt\n",
    "import ipywidgets as widgets\n",
    "\n",
    "\n",
    "# Getting rid of the SettingWithCopyWarning: \n",
    "pd.options.mode.chained_assignment = None"
   ]
  },
  {
   "attachments": {},
   "cell_type": "markdown",
   "metadata": {},
   "source": [
    "## Upload Data"
   ]
  },
  {
   "cell_type": "code",
   "execution_count": 3,
   "metadata": {},
   "outputs": [],
   "source": [
    "# Set working directory\n",
    "path = '/Users/mau/Library/CloudStorage/Dropbox/Mac/Documents/Dissertation/Chapter 2/Data'\n",
    "os.chdir(path)\n",
    "\n",
    "# Load data into a DataFrame\n",
    "dtf = pd.read_parquet(\"slot_data_sample.parquet\")"
   ]
  },
  {
   "attachments": {},
   "cell_type": "markdown",
   "metadata": {},
   "source": [
    "### Filter Columns and Inspect"
   ]
  },
  {
   "cell_type": "code",
   "execution_count": 4,
   "metadata": {},
   "outputs": [
    {
     "name": "stdout",
     "output_type": "stream",
     "text": [
      "Index(['playercashableamt', 'wageredamt', 'casino_grosswin', 'playerkey',\n",
      "       'slotdenominationname', 'slotthemekey'],\n",
      "      dtype='object')\n",
      "<class 'pandas.core.frame.DataFrame'>\n",
      "RangeIndex: 90274 entries, 0 to 90273\n",
      "Data columns (total 6 columns):\n",
      " #   Column                Non-Null Count  Dtype  \n",
      "---  ------                --------------  -----  \n",
      " 0   playercashableamt     90274 non-null  float64\n",
      " 1   wageredamt            90274 non-null  float64\n",
      " 2   casino_grosswin       90274 non-null  float64\n",
      " 3   playerkey             90274 non-null  int64  \n",
      " 4   slotdenominationname  90274 non-null  object \n",
      " 5   slotthemekey          90274 non-null  int64  \n",
      "dtypes: float64(3), int64(2), object(1)\n",
      "memory usage: 4.1+ MB\n",
      "None\n",
      "98\n"
     ]
    }
   ],
   "source": [
    "\n",
    "\n",
    "# Select only specific columns\n",
    "filter = ['playercashableamt', 'wageredamt', 'casino_grosswin', 'playerkey',\n",
    "       'slotdenominationname', 'slotthemekey']\n",
    "\n",
    "# Load just specific colums data into a DataFrame\n",
    "df = pd.read_parquet(\"slot_data_sample.parquet\", columns=filter)\n",
    "\n",
    "# Print column names\n",
    "print(df.columns)\n",
    "\n",
    "# Print general information about the DataFrame\n",
    "print(df.info())\n",
    "\n",
    "# Count unique players\n",
    "print(df['playerkey'].nunique())"
   ]
  },
  {
   "attachments": {},
   "cell_type": "markdown",
   "metadata": {},
   "source": [
    "## Calculate Foundamental Variables\n",
    "\n",
    "The following variables were calculated using existing data:\n",
    "* _player_loss_: how much money each player has lost in each gamble.\n",
    "* _player_wins_: equals the amount of money they bet plus how much they won.\n",
    "* _percent_return_: the return in player's bets for each gamble played. \n",
    "\n",
    "$$\\text{percent return} = (\\frac{df[wins] - df[wageredamt]}{df[wageredamt]})*100$$\n",
    "\n",
    "* _playercashableamt_pct_change_: calculates the rate of change of player's outstanding gambling amount. \n",
    "\n",
    "$$\\text{playercashableamt \\% change} = (\\frac{df[playercashableamt_{t+1}] - df[playercashableamt_{t}]}{df[playercashableamt_{t}]})*100$$"
   ]
  },
  {
   "cell_type": "code",
   "execution_count": 5,
   "metadata": {},
   "outputs": [
    {
     "name": "stdout",
     "output_type": "stream",
     "text": [
      "   playercashableamt  wageredamt  casino_grosswin  playerkey  \\\n",
      "0               80.0        10.0             10.0          2   \n",
      "1               70.0        10.0             10.0          2   \n",
      "2               60.0        10.0             10.0          2   \n",
      "3               50.0        10.0            -90.0          2   \n",
      "4              140.0        10.0              0.0          2   \n",
      "\n",
      "  slotdenominationname  slotthemekey  player_loss  player_wins  \\\n",
      "0               $5.00            390        -10.0          0.0   \n",
      "1               $5.00            390        -10.0          0.0   \n",
      "2               $5.00            390        -10.0          0.0   \n",
      "3               $5.00            390         90.0        100.0   \n",
      "4               $5.00            390         -0.0         10.0   \n",
      "\n",
      "   percent_return  playercashableamt_pct_change  time  \n",
      "0          -100.0                           NaN     1  \n",
      "1          -100.0                     -0.125000     2  \n",
      "2          -100.0                     -0.142857     3  \n",
      "3           900.0                     -0.166667     4  \n",
      "4             0.0                      1.800000     5  \n"
     ]
    }
   ],
   "source": [
    "# Crate a new colum that is the inverse of casino_grosswin, named \"player_loss\"\n",
    "df[\"player_loss\"] = df[\"casino_grosswin\"] * -1\n",
    "\n",
    "df['player_wins'] = df['wageredamt'] + df['player_loss']\n",
    "# Calculate percentage return for each gamble and add it as a new column\n",
    "df[\"percent_return\"] = (df[\"player_wins\"] - df[\"wageredamt\"]) / df[\"wageredamt\"] * 100\n",
    "\n",
    "# Calculate the percent rate of change of playerscashableamt per playerkey\n",
    "df[\"playercashableamt_pct_change\"] = df.groupby(\"playerkey\")[\"playercashableamt\"].pct_change()\n",
    "# Print the first 5 rows of the DataFrame\n",
    "\n",
    "# Create a time series variable for each player that starts at 1 and increases by 1 for each row\n",
    "df[\"time\"] = df.groupby(\"playerkey\").cumcount() + 1\n",
    "\n",
    "print(df.head())"
   ]
  },
  {
   "attachments": {},
   "cell_type": "markdown",
   "metadata": {},
   "source": [
    "## Patterns in Return Stream\n",
    "\n",
    "In this section, I am looking for return stream patterns that are similar to the market returns given to subjects in Saffort et.al 2008 experiemnt. These market returns followed historical returns from the DJIA from 1925 to 1964:\n",
    "\n",
    "$$\\text{\\% return DJIA 1925-1964}: [30.0, 0.3, 28.8, 48.2, -17.2, -33.8, -52.7, -23.1, 66.7, 4.1, 38.5, 24.8, -32.8, 28.1, -2.9, -12.7, -15.4, 7.6, 13.8, 12.1, 26.6,\\\\ -8.1, 2.2, -2.1, 12.9, 17.6, 14.4, 8.4, -3.8, 44.0, 20.8, 2.3, -12.8, 34.0, 16.4, -9.3, 18.7, -10.8, 17.0, 14.0]$$\n",
    "\n",
    "$$\\text{pattern of returns: [1, 1, 1, 1, -1, -1, -1, -1, 1, 1, 1, 1, -1, 1, -1, -1, -1, 1, 1, 1, 1, -1, 1, -1, 1, 1, 1, 1, -1, 1, 1, 1, -1, 1, 1, -1, 1, -1, 1, 1]}$$\n",
    "\n",
    "### Filter Data\n",
    "We need to select players who have at least 40 gambles to be able to compare it to the 40 investing periods of Safford's subjects."
   ]
  },
  {
   "cell_type": "code",
   "execution_count": 6,
   "metadata": {},
   "outputs": [
    {
     "name": "stdout",
     "output_type": "stream",
     "text": [
      "[33, 93, 95, 94, 20, 73, 48, 66, 44, 18, 38, 76, 29, 100, 62, 6, 99, 14, 89, 90, 8, 79, 13, 9, 69, 23, 40, 4, 61, 87, 19, 43, 72, 98, 16, 2, 36, 92, 17, 63, 12, 46, 97, 54, 91, 86, 84, 3, 85, 52, 30, 74, 35, 7, 96, 56, 65, 68, 83, 27, 71, 37, 70, 47, 11, 53, 77, 49, 39, 25, 88, 82, 42, 21, 22, 41, 80, 57, 51, 81, 78, 75, 10]\n",
      "83\n",
      "[55, 5, 50, 34, 64, 31, 45, 32, 58, 24, 59, 67, 26, 28, 15]\n",
      "15\n",
      "(90000, 11)\n"
     ]
    }
   ],
   "source": [
    "# Create a list of players that appear at least 40 times\n",
    "players40 = df[\"playerkey\"].value_counts()[df[\"playerkey\"].value_counts() >= 40].index.tolist()\n",
    "print(players40)\n",
    "print(len(players40))\n",
    "\n",
    "# Create a list of players that appear less than 40 times\n",
    "players40less = df[\"playerkey\"].value_counts()[df[\"playerkey\"].value_counts() < 40].index.tolist()\n",
    "print(players40less)\n",
    "print(len(players40less))\n",
    "\n",
    "# Create a new DataFrame with only the players that appear at least 40 times\n",
    "df40 = df[df[\"playerkey\"].isin(players40)]\n",
    "print(df40.shape)"
   ]
  },
  {
   "attachments": {},
   "cell_type": "markdown",
   "metadata": {},
   "source": [
    "### Patter Recognition\n",
    "Now that we have filter the data, we can procede to find a patter similar to those of Safford's experiemnt. \n",
    "\n",
    "* Define function to look for our desire pattern.\n",
    "* Define variable _pattern_ and _sign_\n",
    "* Conduct a hard match.\n",
    "* Conduct a soft match."
   ]
  },
  {
   "cell_type": "code",
   "execution_count": 7,
   "metadata": {},
   "outputs": [],
   "source": [
    "def match_pattern(df, pattern, initial, window_size):\n",
    "    col_name = f\"match_{initial}_{window_size}\"\n",
    "    size = len(pattern[initial:window_size])\n",
    "    df.loc[:,col_name] = df[\"sign\"].rolling(size).apply(lambda x: (x == pattern[initial:window_size]).all(), raw=True)\n",
    "    num_occurrences = df[col_name].sum()\n",
    "    matching_players = df[df[col_name]== True][\"playerkey\"].unique().tolist()\n",
    "    print(f\"Pattern:\", pattern[initial:window_size])\n",
    "    print(f\"Number of occurrences (pattern size {size}):\", num_occurrences)\n",
    "    print(f\"Players matching pattern (pattern size {size}):\", matching_players)\n",
    "    print(f\"Count of players (pattern size {size}):\", len(matching_players))\n",
    "    return matching_players\n"
   ]
  },
  {
   "cell_type": "code",
   "execution_count": 8,
   "metadata": {},
   "outputs": [],
   "source": [
    "# Define pattern to search for\n",
    "pattern = [1, 1, 1, 1, -1, -1, -1, -1, 1, 1, 1, 1, -1, 1, -1, -1, -1, 1, 1, 1, 1, -1, 1, -1, 1, 1, 1, 1, -1, 1, 1, 1, -1, 1, 1, -1, 1, -1, 1, 1]\n",
    "\n",
    "# Create a new column 'sign' that is 1 if the 'percent_return' is positive -1 else.\n",
    "df40.loc[:, \"sign\"] = df40[\"percent_return\"].apply(lambda x: 1 if x > 0 else -1)"
   ]
  },
  {
   "cell_type": "code",
   "execution_count": 9,
   "metadata": {},
   "outputs": [
    {
     "name": "stdout",
     "output_type": "stream",
     "text": [
      "Pattern: [1, 1, 1, 1, -1, -1, -1, -1, 1, 1, 1, 1, -1, 1, -1, -1, -1, 1, 1, 1, 1, -1, 1, -1, 1, 1, 1, 1, -1, 1, 1, 1, -1, 1, 1, -1, 1, -1, 1, 1]\n",
      "Number of occurrences (pattern size 40): 0.0\n",
      "Players matching pattern (pattern size 40): []\n",
      "Count of players (pattern size 40): 0\n"
     ]
    }
   ],
   "source": [
    "## Hard Match\n",
    "# Find players that match the pattern exactly\n",
    "players_match40 = match_pattern(df40, pattern, 0, 40)"
   ]
  },
  {
   "cell_type": "code",
   "execution_count": 10,
   "metadata": {},
   "outputs": [
    {
     "name": "stdout",
     "output_type": "stream",
     "text": [
      "Pattern: [1, 1, 1, 1, -1, -1, -1, -1]\n",
      "Number of occurrences (pattern size 8): 32.0\n",
      "Players matching pattern (pattern size 8): [3, 6, 14, 20, 23, 44, 57, 66, 73, 76, 79, 90, 91, 92, 93, 94, 95]\n",
      "Count of players (pattern size 8): 17\n",
      "Pattern: [1, 1, 1, 1, -1, -1, -1, -1, 1, 1]\n",
      "Number of occurrences (pattern size 10): 2.0\n",
      "Players matching pattern (pattern size 10): [79, 92]\n",
      "Count of players (pattern size 10): 2\n",
      "Pattern: [1, 1, 1, 1, -1, -1, -1, -1, 1, 1, 1, 1, -1, 1, -1, -1, -1, 1, 1, 1]\n",
      "Number of occurrences (pattern size 20): 0.0\n",
      "Players matching pattern (pattern size 20): []\n",
      "Count of players (pattern size 20): 0\n",
      "Pattern: [-1, -1, -1, -1, 1, 1, 1]\n",
      "Number of occurrences (pattern size 7): 149.0\n",
      "Players matching pattern (pattern size 7): [3, 6, 8, 9, 14, 16, 18, 20, 21, 23, 27, 29, 33, 36, 38, 44, 46, 48, 62, 63, 65, 66, 69, 72, 73, 74, 76, 79, 84, 85, 87, 89, 90, 91, 92, 93, 94, 95, 99, 100]\n",
      "Count of players (pattern size 7): 40\n",
      "Pattern: [-1, -1, -1, -1, 1, 1, 1, 1]\n",
      "Number of occurrences (pattern size 8): 27.0\n",
      "Players matching pattern (pattern size 8): [6, 20, 23, 44, 66, 73, 76, 79, 84, 91, 92, 93, 94]\n",
      "Count of players (pattern size 8): 13\n"
     ]
    }
   ],
   "source": [
    "## Soft Match\n",
    "# Let's see how many times a the first 8 elements of the pattern appear in the data\n",
    "players_match8 = match_pattern(df40, pattern, 0, 8)\n",
    "\n",
    "# Let's see how many times a the first 10 elements of the pattern appear in the data\n",
    "players_match10 = match_pattern(df40, pattern, 0, 10)\n",
    "\n",
    "# Let's see how many times a the first 20 elements of the pattern appear in the data\n",
    "players_match20 = match_pattern(df40, pattern, 0, 20)\n",
    "\n",
    "# Let's see how many times a the pattern from 4 to 11 appears in the data\n",
    "players_match4_11 = match_pattern(df40, pattern, 4, 11)\n",
    "\n",
    "# Let's see how many times a the pattern from 4 to 11 appears in the data\n",
    "players_match4_12 = match_pattern(df40, pattern, 4, 12)"
   ]
  },
  {
   "attachments": {},
   "cell_type": "markdown",
   "metadata": {},
   "source": [
    "## Slicing DataFrames per Matched Players and Visualizing Outcomes\n",
    "\n",
    "In this section, we are only inspecting the patterns that have the most subjects. In this section, the code will create a new column called \"match_-10_10\" that is True for the rows 10 before and 10 after match_0_8 is True. The rolling method with the window size of 21 (10 before + 10 after + 1 current row) will take care of checking the 10 rows before and after the match, and the apply method with the lambda function will check if any of the values in the window is True. Finally, the fillna method will replace any NaN values with False, and the astype method will convert the True/False values to 1/0.\n"
   ]
  },
  {
   "cell_type": "code",
   "execution_count": 11,
   "metadata": {},
   "outputs": [],
   "source": [
    "def filter_match(df, players_match, match_column, rolling_window, fill_value):\n",
    "    # Create a new DataFrame with only the players that appear in players_match\n",
    "    df_match_all = df[df[\"playerkey\"].isin(players_match)]\n",
    "\n",
    "    # Creaete a new column for called match_minus10_0 that is True for the rows around match_column is True\n",
    "    df_match_all.loc[:, \"match_rolling\"] = df_match_all[match_column].rolling(window=rolling_window, center=True).apply(lambda x: any(x)).fillna(fill_value).astype(int)\n",
    "    \n",
    "    # Slice the DataFrame to only include the rows where match_rolling is True\n",
    "    df_match_slice = df_match_all[df_match_all[\"match_rolling\"] == True]\n",
    "    # Return the new DataFrame\n",
    "    return df_match_all, df_match_slice"
   ]
  },
  {
   "cell_type": "code",
   "execution_count": 12,
   "metadata": {},
   "outputs": [
    {
     "name": "stdout",
     "output_type": "stream",
     "text": [
      "(44566, 19)\n",
      "(670, 19)\n"
     ]
    }
   ],
   "source": [
    "# Create a new DataFrame with only the players that appear in players_match8\n",
    "df40_match8_10_all, dtf40_match8_10_slice = filter_match(df=df40, players_match=players_match8, match_column=\"match_0_8\", rolling_window=21, fill_value=False)\n",
    "\n",
    "# Save the DataFrame to a parquet file\n",
    "df40_match8_10_all.to_parquet(\"df40_match8_10_all.parquet\")\n",
    "print(df40_match8_10_all.shape)\n",
    "\n",
    "# Save the DataFrame to a parquet file\n",
    "dtf40_match8_10_slice.to_parquet(\"dtf40_match8_10_slice.parquet\")\n",
    "print(dtf40_match8_10_slice.shape)"
   ]
  },
  {
   "cell_type": "code",
   "execution_count": 13,
   "metadata": {},
   "outputs": [
    {
     "name": "stdout",
     "output_type": "stream",
     "text": [
      "(78439, 19)\n",
      "(3060, 19)\n"
     ]
    }
   ],
   "source": [
    "\n",
    "# Create a new DataFrame with only the players that appear in players_match4_11\n",
    "df40_match4_10_all, dtf40_match4_10_slice = filter_match(df=df40, players_match=players_match4_11, match_column=\"match_4_11\", rolling_window=21, fill_value=False)\n",
    "\n",
    "# Save the DataFrame to a parquet file\n",
    "df40_match4_10_all.to_parquet(\"df40_match4_10_all.parquet\")\n",
    "print(df40_match4_10_all.shape)\n",
    "\n",
    "# Save the DataFrame to a parquet file\n",
    "dtf40_match4_10_slice.to_parquet(\"dtf40_match4_10_slice.parquet\")\n",
    "print(dtf40_match4_10_slice.shape)"
   ]
  },
  {
   "attachments": {},
   "cell_type": "markdown",
   "metadata": {},
   "source": [
    "## Interactive Plots\n",
    "\n",
    "The following section would be used to explore the data in an interactive way. These plots allow for user interaction, such as zooming, panning, and selecting data points. Users can customize the plot by choosing different variables to plot, adjusting axes ranges, and selecting data subsets. The interactive plots provide a dynamic way to visually explore the data and can reveal patterns or relationships that might not be apparent from static plots alone. By using interactive plots, we can gain a deeper understanding of the data and make more informed decisions during the data analysis process."
   ]
  },
  {
   "cell_type": "code",
   "execution_count": 18,
   "metadata": {},
   "outputs": [
    {
     "data": {
      "application/vnd.jupyter.widget-view+json": {
       "model_id": "81ec74a16d0946d89b8812463efa0621",
       "version_major": 2,
       "version_minor": 0
      },
      "text/plain": [
       "interactive(children=(Dropdown(description='player_index', options=(0, 1, 2, 3, 4, 5, 6, 7, 8, 9), value=0), D…"
      ]
     },
     "metadata": {},
     "output_type": "display_data"
    }
   ],
   "source": [
    "# Make a list of all the dataframes that are match and slice\n",
    "dtf_lists = [df40_match8_10_all, dtf40_match8_10_slice, df40_match4_10_all, dtf40_match4_10_slice]\n",
    "\n",
    "# Create a scatter plot of the players wins for only player with key 3\n",
    "def plot_scatters(player_index=0, df_index=1, x=\"time\", y=\"percent_return\"):\n",
    "    df = dtf_lists[df_index]\n",
    "    players = dtf_lists[df_index][\"playerkey\"].unique().tolist()\n",
    "    plt.scatter(x=df[df[\"playerkey\"] == players[player_index]][x], y=df[df[\"playerkey\"] == players[player_index]][y])\n",
    "    plt.show()\n",
    "\n",
    "# Create widgets for playerkey, df_index, x, and y\n",
    "playerkey_widget = widgets.Dropdown(options=list(range(10)), value=0)\n",
    "df_index_widget = widgets.Dropdown(options=[(f\"DataFrame {i}\", i) for i in range(len(dtf_lists))], value=1)\n",
    "x_widget = widgets.Dropdown(options=list(dtf_lists[0].columns), value=\"time\")\n",
    "y_widget = widgets.Dropdown(options=list(dtf_lists[0].columns), value=\"percent_return\")\n",
    "\n",
    "# Create a VBox layout widget for the playerkey, x, and y widgets\n",
    "left_box = widgets.VBox([widgets.Label(\"Player Key\"), playerkey_widget, widgets.Label(\"X\"), x_widget, widgets.Label(\"Y\"), y_widget])\n",
    "\n",
    "# Create a VBox layout widget for the df_index widget\n",
    "right_box = widgets.VBox([widgets.Label(\"Data Frame\"), df_index_widget])\n",
    "\n",
    "# Create a new figure and axis object for the plot\n",
    "fig, ax = plt.subplots()\n",
    "\n",
    "output = widgets.Output() # create an Output widget to display the plot\n",
    "with output:\n",
    "    # Display the initial empty plot\n",
    "    ax.set_xlim(0, 100)\n",
    "    ax.set_ylim(0, 100)\n",
    "    ax.set_xlabel(\"X Axis\")\n",
    "    ax.set_ylabel(\"Y Axis\")\n",
    "    plt.show()\n",
    "\n",
    "# Create an HBox layout widget for the plot and the two VBox widgets\n",
    "widgets.HBox([output, left_box, right_box])\n",
    "\n",
    "# Use interact to call the plot_scatters function with the current widget values\n",
    "widgets.interact(plot_scatters, player_index=playerkey_widget, df_index=df_index_widget, x=x_widget, y=y_widget);"
   ]
  },
  {
   "cell_type": "code",
   "execution_count": 15,
   "metadata": {},
   "outputs": [
    {
     "name": "stdout",
     "output_type": "stream",
     "text": [
      "3\n"
     ]
    }
   ],
   "source": [
    "# Make a list of all the dataframes that are match and slice\n",
    "dtf_lists = [df40_match8_10_all, dtf40_match8_10_slice, df40_match4_10_all, dtf40_match4_10_slice]\n",
    "players = dtf_lists[0][\"playerkey\"].unique().tolist()\n",
    "print(players[0])"
   ]
  },
  {
   "attachments": {},
   "cell_type": "markdown",
   "metadata": {},
   "source": [
    "## Statistical Analysis\n"
   ]
  }
 ],
 "metadata": {
  "kernelspec": {
   "display_name": "Python 3 (ipykernel)",
   "language": "python",
   "name": "python3"
  },
  "language_info": {
   "codemirror_mode": {
    "name": "ipython",
    "version": 3
   },
   "file_extension": ".py",
   "mimetype": "text/x-python",
   "name": "python",
   "nbconvert_exporter": "python",
   "pygments_lexer": "ipython3",
   "version": "3.10.0"
  },
  "orig_nbformat": 4,
  "vscode": {
   "interpreter": {
    "hash": "610c699f0cd8c4f129acd9140687fff6866bed0eb8e82f249fc8848b827b628c"
   }
  }
 },
 "nbformat": 4,
 "nbformat_minor": 2
}
