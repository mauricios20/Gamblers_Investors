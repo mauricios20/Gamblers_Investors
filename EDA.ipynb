{
 "cells": [
  {
   "attachments": {},
   "cell_type": "markdown",
   "metadata": {},
   "source": [
    "# Exploratory Data Analysis\n",
    "I am using this notebook to learn how gamblers behaviors are similar to those of investors.\n",
    "\n",
    "## Define Libraries"
   ]
  },
  {
   "cell_type": "code",
   "execution_count": null,
   "metadata": {
    "vscode": {
     "languageId": "python"
    }
   },
   "outputs": [],
   "source": [
    "import pandas as pd\n",
    "import os\n",
    "import numpy as np\n",
    "import matplotlib.pyplot as plt\n",
    "import ipywidgets as widgets\n",
    "from ipywidgets import interactive, fixed, IntSlider, HBox, Layout, VBox\n",
    "\n",
    "# Getting rid of the SettingWithCopyWarning: \n",
    "pd.options.mode.chained_assignment = None"
   ]
  },
  {
   "attachments": {},
   "cell_type": "markdown",
   "metadata": {},
   "source": [
    "## Upload Data"
   ]
  },
  {
   "cell_type": "code",
   "execution_count": null,
   "metadata": {
    "vscode": {
     "languageId": "python"
    }
   },
   "outputs": [],
   "source": [
    "# Set working directory\n",
    "path = '/Users/mau/Library/CloudStorage/Dropbox/Mac/Documents/Dissertation/Chapter 2/Data'\n",
    "os.chdir(path)\n",
    "\n",
    "# Load data into a DataFrame\n",
    "dtf = pd.read_parquet(\"slot_data_sample.parquet\")"
   ]
  },
  {
   "attachments": {},
   "cell_type": "markdown",
   "metadata": {},
   "source": [
    "### Filter Columns and Inspect"
   ]
  },
  {
   "cell_type": "code",
   "execution_count": null,
   "metadata": {
    "vscode": {
     "languageId": "python"
    }
   },
   "outputs": [],
   "source": [
    "\n",
    "\n",
    "# Select only specific columns\n",
    "filter = ['playercashableamt', 'wageredamt', 'casino_grosswin', 'playerkey',\n",
    "       'slotdenominationname', 'slotthemekey']\n",
    "\n",
    "# Load just specific colums data into a DataFrame\n",
    "df = pd.read_parquet(\"slot_data_sample.parquet\", columns=filter)\n",
    "\n",
    "# Print column names\n",
    "print(df.columns)\n",
    "\n",
    "# Print general information about the DataFrame\n",
    "print(df.info())\n",
    "\n",
    "# Count unique players\n",
    "print(df['playerkey'].nunique())"
   ]
  },
  {
   "attachments": {},
   "cell_type": "markdown",
   "metadata": {},
   "source": [
    "## Calculate Foundamental Variables\n",
    "\n",
    "The following variables were calculated using existing data:\n",
    "* _player_loss_: how much money each player has lost in each gamble.\n",
    "* _player_wins_: equals the amount of money they bet plus how much they won.\n",
    "* _percent_return_: the return in player's bets for each gamble played. \n",
    "\n",
    "$$\\text{percent return} = (\\frac{df[wins] - df[wageredamt]}{df[wageredamt]})*100$$\n",
    "\n",
    "* _playercashableamt_pct_change_: calculates the rate of change of player's outstanding gambling amount. \n",
    "\n",
    "$$\\text{playercashableamt \\% change} = (\\frac{df[playercashableamt_{t+1}] - df[playercashableamt_{t}]}{df[playercashableamt_{t}]})*100$$"
   ]
  },
  {
   "cell_type": "code",
   "execution_count": null,
   "metadata": {
    "vscode": {
     "languageId": "python"
    }
   },
   "outputs": [],
   "source": [
    "# Crate a new colum that is the inverse of casino_grosswin, named \"player_loss\"\n",
    "df[\"player_loss\"] = df[\"casino_grosswin\"] * -1\n",
    "\n",
    "df['player_wins'] = df['wageredamt'] + df['player_loss']\n",
    "# Calculate percentage return for each gamble and add it as a new column\n",
    "df[\"percent_return\"] = (df[\"player_wins\"] - df[\"wageredamt\"]) / df[\"wageredamt\"] * 100\n",
    "\n",
    "# Calculate the percent rate of change of playerscashableamt per playerkey\n",
    "df[\"playercashableamt_pct_change\"] = df.groupby(\"playerkey\")[\"playercashableamt\"].pct_change()\n",
    "# Print the first 5 rows of the DataFrame\n",
    "\n",
    "# Create a time series variable for each player that starts at 1 and increases by 1 for each row\n",
    "df[\"time\"] = df.groupby(\"playerkey\").cumcount() + 1\n",
    "\n",
    "print(df.head())"
   ]
  },
  {
   "attachments": {},
   "cell_type": "markdown",
   "metadata": {},
   "source": [
    "## Patterns in Return Stream\n",
    "\n",
    "In this section, I am looking for return stream patterns that are similar to the market returns given to subjects in Saffort et.al 2008 experiemnt. These market returns followed historical returns from the DJIA from 1925 to 1964:\n",
    "\n",
    "$$\\text{\\% return DJIA 1925-1964}: [30.0, 0.3, 28.8, 48.2, -17.2, -33.8, -52.7, -23.1, 66.7, 4.1, 38.5, 24.8, -32.8, 28.1, -2.9, -12.7, -15.4, 7.6, 13.8, 12.1, 26.6,\\\\ -8.1, 2.2, -2.1, 12.9, 17.6, 14.4, 8.4, -3.8, 44.0, 20.8, 2.3, -12.8, 34.0, 16.4, -9.3, 18.7, -10.8, 17.0, 14.0]$$\n",
    "\n",
    "$$\\text{pattern of returns: [1, 1, 1, 1, -1, -1, -1, -1, 1, 1, 1, 1, -1, 1, -1, -1, -1, 1, 1, 1, 1, -1, 1, -1, 1, 1, 1, 1, -1, 1, 1, 1, -1, 1, 1, -1, 1, -1, 1, 1]}$$\n",
    "\n",
    "### Filter Data\n",
    "We need to select players who have at least 40 gambles to be able to compare it to the 40 investing periods of Safford's subjects."
   ]
  },
  {
   "cell_type": "code",
   "execution_count": null,
   "metadata": {
    "vscode": {
     "languageId": "python"
    }
   },
   "outputs": [],
   "source": [
    "# Create a list of players that appear at least 40 times\n",
    "players40 = df[\"playerkey\"].value_counts()[df[\"playerkey\"].value_counts() >= 40].index.tolist()\n",
    "print(players40)\n",
    "print(len(players40))\n",
    "\n",
    "# Create a list of players that appear less than 40 times\n",
    "players40less = df[\"playerkey\"].value_counts()[df[\"playerkey\"].value_counts() < 40].index.tolist()\n",
    "print(players40less)\n",
    "print(len(players40less))\n",
    "\n",
    "# Create a new DataFrame with only the players that appear at least 40 times\n",
    "df40 = df[df[\"playerkey\"].isin(players40)]\n",
    "print(df40.shape)"
   ]
  },
  {
   "attachments": {},
   "cell_type": "markdown",
   "metadata": {},
   "source": [
    "### Patter Recognition\n",
    "Now that we have filter the data, we can procede to find a patter similar to those of Safford's experiemnt. \n",
    "\n",
    "* Define function to look for our desire pattern.\n",
    "* Define variable _pattern_ and _sign_\n",
    "* Conduct a hard match.\n",
    "* Conduct a soft match."
   ]
  },
  {
   "cell_type": "code",
   "execution_count": null,
   "metadata": {
    "vscode": {
     "languageId": "python"
    }
   },
   "outputs": [],
   "source": [
    "def match_pattern(df, pattern, initial, window_size):\n",
    "    col_name = f\"match_{initial}_{window_size}\"\n",
    "    size = len(pattern[initial:window_size])\n",
    "    df.loc[:,col_name] = df[\"sign\"].rolling(size).apply(lambda x: (x == pattern[initial:window_size]).all(), raw=True)\n",
    "    num_occurrences = df[col_name].sum()\n",
    "    matching_players = df[df[col_name]== True][\"playerkey\"].unique().tolist()\n",
    "    print(f\"Pattern:\", pattern[initial:window_size])\n",
    "    print(f\"Number of occurrences (pattern size {size}):\", num_occurrences)\n",
    "    print(f\"Players matching pattern (pattern size {size}):\", matching_players)\n",
    "    print(f\"Count of players (pattern size {size}):\", len(matching_players))\n",
    "    return matching_players\n"
   ]
  },
  {
   "cell_type": "code",
   "execution_count": null,
   "metadata": {
    "vscode": {
     "languageId": "python"
    }
   },
   "outputs": [],
   "source": [
    "# Define pattern to search for\n",
    "pattern = [1, 1, 1, 1, -1, -1, -1, -1, 1, 1, 1, 1, -1, 1, -1, -1, -1, 1, 1, 1, 1, -1, 1, -1, 1, 1, 1, 1, -1, 1, 1, 1, -1, 1, 1, -1, 1, -1, 1, 1]\n",
    "\n",
    "# Create a new column 'sign' that is 1 if the 'percent_return' is positive -1 else.\n",
    "df40.loc[:, \"sign\"] = df40[\"percent_return\"].apply(lambda x: 1 if x > 0 else -1)"
   ]
  },
  {
   "cell_type": "code",
   "execution_count": null,
   "metadata": {
    "vscode": {
     "languageId": "python"
    }
   },
   "outputs": [],
   "source": [
    "## Hard Match\n",
    "# Find players that match the pattern exactly\n",
    "players_match40 = match_pattern(df40, pattern, 0, 40)"
   ]
  },
  {
   "cell_type": "code",
   "execution_count": null,
   "metadata": {
    "vscode": {
     "languageId": "python"
    }
   },
   "outputs": [],
   "source": [
    "## Soft Match\n",
    "# Let's see how many times a the first 8 elements of the pattern appear in the data\n",
    "players_match8 = match_pattern(df40, pattern, 0, 8)\n",
    "\n",
    "# Let's see how many times a the first 10 elements of the pattern appear in the data\n",
    "players_match10 = match_pattern(df40, pattern, 0, 10)\n",
    "\n",
    "# Let's see how many times a the first 20 elements of the pattern appear in the data\n",
    "players_match20 = match_pattern(df40, pattern, 0, 20)\n",
    "\n",
    "# Let's see how many times a the pattern from 4 to 11 appears in the data\n",
    "players_match4_11 = match_pattern(df40, pattern, 4, 11)\n",
    "\n",
    "# Let's see how many times a the pattern from 4 to 11 appears in the data\n",
    "players_match4_12 = match_pattern(df40, pattern, 4, 12)"
   ]
  },
  {
   "attachments": {},
   "cell_type": "markdown",
   "metadata": {},
   "source": [
    "## Slicing DataFrames per Matched Players and Visualizing Outcomes\n",
    "\n",
    "In this section, we are only inspecting the patterns that have the most subjects. In this section, the code will create a new column called \"match_-10_10\" that is True for the rows 10 before and 10 after match_0_8 is True. The rolling method with the window size of 21 (10 before + 10 after + 1 current row) will take care of checking the 10 rows before and after the match, and the apply method with the lambda function will check if any of the values in the window is True. Finally, the fillna method will replace any NaN values with False, and the astype method will convert the True/False values to 1/0.\n"
   ]
  },
  {
   "cell_type": "code",
   "execution_count": null,
   "metadata": {
    "vscode": {
     "languageId": "python"
    }
   },
   "outputs": [],
   "source": [
    "def filter_match(df, players_match, match_column, rolling_window, fill_value):\n",
    "    # Create a new DataFrame with only the players that appear in players_match\n",
    "    df_match_all = df[df[\"playerkey\"].isin(players_match)]\n",
    "\n",
    "    # Creaete a new column for called match_minus10_0 that is True for the rows around match_column is True\n",
    "    df_match_all.loc[:, \"match_rolling\"] = df_match_all[match_column].rolling(window=rolling_window, center=True).apply(lambda x: any(x)).fillna(fill_value).astype(int)\n",
    "    \n",
    "    # Slice the DataFrame to only include the rows where match_rolling is True\n",
    "    df_match_slice = df_match_all[df_match_all[\"match_rolling\"] == True]\n",
    "    # Return the new DataFrame\n",
    "    return df_match_all, df_match_slice"
   ]
  },
  {
   "cell_type": "code",
   "execution_count": null,
   "metadata": {
    "vscode": {
     "languageId": "python"
    }
   },
   "outputs": [],
   "source": [
    "# Create a new DataFrame with only the players that appear in players_match8\n",
    "df40_match8_10_all, dtf40_match8_10_slice = filter_match(df=df40, players_match=players_match8, match_column=\"match_0_8\", rolling_window=21, fill_value=False)\n",
    "\n",
    "# Save the DataFrame to a parquet file\n",
    "df40_match8_10_all.to_parquet(\"df40_match8_10_all.parquet\")\n",
    "print(df40_match8_10_all.shape)\n",
    "\n",
    "# Save the DataFrame to a parquet file\n",
    "dtf40_match8_10_slice.to_parquet(\"dtf40_match8_10_slice.parquet\")\n",
    "print(dtf40_match8_10_slice.shape)"
   ]
  },
  {
   "cell_type": "code",
   "execution_count": null,
   "metadata": {
    "vscode": {
     "languageId": "python"
    }
   },
   "outputs": [],
   "source": [
    "\n",
    "# Create a new DataFrame with only the players that appear in players_match4_11\n",
    "df40_match4_10_all, dtf40_match4_10_slice = filter_match(df=df40, players_match=players_match4_11, match_column=\"match_4_11\", rolling_window=21, fill_value=False)\n",
    "\n",
    "# Save the DataFrame to a parquet file\n",
    "df40_match4_10_all.to_parquet(\"df40_match4_10_all.parquet\")\n",
    "print(df40_match4_10_all.shape)\n",
    "\n",
    "# Save the DataFrame to a parquet file\n",
    "dtf40_match4_10_slice.to_parquet(\"dtf40_match4_10_slice.parquet\")\n",
    "print(dtf40_match4_10_slice.shape)"
   ]
  },
  {
   "attachments": {},
   "cell_type": "markdown",
   "metadata": {},
   "source": [
    "## Interactive Plots\n",
    "\n",
    "The following section would be used to explore the data in an interactive way. These plots allow for user interaction, such as zooming, panning, and selecting data points. Users can customize the plot by choosing different variables to plot, adjusting axes ranges, and selecting data subsets. The interactive plots provide a dynamic way to visually explore the data and can reveal patterns or relationships that might not be apparent from static plots alone. By using interactive plots, we can gain a deeper understanding of the data and make more informed decisions during the data analysis process."
   ]
  },
  {
   "cell_type": "code",
   "execution_count": null,
   "metadata": {
    "vscode": {
     "languageId": "python"
    }
   },
   "outputs": [],
   "source": [
    "# # Make a list of all the dataframes that are match and slice\n",
    "# dtf_lists = [dtf40_match8_10_slice, dtf40_match4_10_slice]\n",
    "\n",
    "# # Create a scatter plot of the players wins for only player with key 3\n",
    "# def plot_scatters(player_ID, df_index, x=\"time\", y=\"percent_return\", y_2=None):\n",
    "#     df = dtf_lists[df_index]\n",
    "#     players = df[\"playerkey\"].unique().tolist()\n",
    "#     player_df = df[df[\"playerkey\"] == players[player_ID]]\n",
    "    \n",
    "#     fig, ax1 = plt.subplots()\n",
    "#     ax1.set_xlabel(x)\n",
    "#     ax1.set_ylabel(y, color='royalblue')\n",
    "#     ax1.scatter(x=player_df[x], y=player_df[y], color='royalblue')\n",
    "    \n",
    "#     if y_2 is not None:\n",
    "#         ax2 = ax1.twinx()\n",
    "#         ax2.set_ylabel(y_2, color='r')\n",
    "#         ax2.scatter(x=player_df[x], y=player_df[y_2], color='orangered')\n",
    "#         ax2.tick_params(axis='y', labelcolor='orangered')\n",
    "\n",
    "#     ax1.tick_params(axis='y', labelcolor='black')\n",
    "#     ax1.grid()\n",
    "#     plt.show()\n",
    "\n",
    "# # Create widgets for playerkey, df_index, x, y, and y_2\n",
    "# df_index_widget = widgets.Dropdown(options=[(f\"DataFrame {i}\", i) for i in range(len(dtf_lists))], value=0)\n",
    "# x_widget = widgets.Dropdown(options=list(dtf_lists[0].columns), value=\"time\")\n",
    "# y_widget = widgets.Dropdown(options=list(dtf_lists[0].columns), value=\"percent_return\")\n",
    "# y_2_widget = widgets.Dropdown(options=list(dtf_lists[0].columns), value=None)\n",
    "\n",
    "\n",
    "# # Create a function to update the players_widget based on the selected df_index\n",
    "# def update_players_widget(df_index):\n",
    "#     df = dtf_lists[df_index]\n",
    "#     players = df[\"playerkey\"].unique().tolist()\n",
    "#     player_key_widget.options = [(p, i) for i, p in enumerate(players)]\n",
    "\n",
    "# # Create a players_widget for the initial df_index value\n",
    "# initial_df_index = df_index_widget.value\n",
    "# initial_df = dtf_lists[initial_df_index]\n",
    "# initial_players = initial_df[\"playerkey\"].unique().tolist()\n",
    "# player_key_widget = widgets.Dropdown(options=[], value=None)\n",
    "\n",
    "# # Call update_players_widget with the initial_df_index value to set the options for player_key_widget\n",
    "# update_players_widget(initial_df_index)\n",
    "\n",
    "# # Use interact to call the plot_scatters function with the current widget values\n",
    "# widgets.interact(plot_scatters, player_ID=player_key_widget, df_index=df_index_widget, x=x_widget, y=y_widget, \n",
    "#                  y_2=y_2_widget, continuous_update=False)\n",
    "\n",
    "# # Observe changes to df_index_widget and update the players_widget accordingly\n",
    "# df_index_widget.observe(lambda change: update_players_widget(change[\"new\"]), names=\"value\")"
   ]
  },
  {
   "cell_type": "code",
   "execution_count": null,
   "metadata": {
    "vscode": {
     "languageId": "python"
    }
   },
   "outputs": [],
   "source": [
    "# import matplotlib.pyplot as plt\n",
    "# import ipywidgets as widgets\n",
    "\n",
    "# # Make a list of all the dataframes that are match and slice\n",
    "# dtf_lists = [dtf40_match8_10_slice, dtf40_match4_10_slice]\n",
    "\n",
    "# # Calculate the max and min values for the 'time' column for each DataFrame\n",
    "# time_max = max([df[\"time\"].max() for df in dtf_lists])\n",
    "# time_min = min([df[\"time\"].min() for df in dtf_lists])\n",
    "\n",
    "# print(time_max, time_min)\n",
    "\n",
    "# # Create a scatter plot of the players wins for only player with key 3\n",
    "# def plot_scatters(player_ID, df_index, x=\"time\", y=\"percent_return\", y_2=None, x_min=None, x_max=None, show_line=False):\n",
    "#     df = dtf_lists[df_index]\n",
    "#     players = df[\"playerkey\"].unique().tolist()\n",
    "#     player_df = df[df[\"playerkey\"] == players[player_ID]]\n",
    "    \n",
    "#     fig, ax1 = plt.subplots()\n",
    "#     ax1.set_xlabel(x)\n",
    "#     ax1.set_ylabel(y, color='royalblue')\n",
    "#     if x_min is not None and x_max is not None:\n",
    "#         player_df = player_df[(player_df[x] >= x_min) & (player_df[x] <= x_max)]\n",
    "#     ax1.scatter(x=player_df[x], y=player_df[y], color='royalblue')\n",
    "    \n",
    "#     if y_2 is not None:\n",
    "#         ax2 = ax1.twinx()\n",
    "#         ax2.set_ylabel(y_2, color='r')\n",
    "#         if x_min is not None and x_max is not None:\n",
    "#             player_df = player_df[(player_df[x] >= x_min) & (player_df[x] <= x_max)]\n",
    "#         ax2.scatter(x=player_df[x], y=player_df[y_2], color='orangered', marker='s')\n",
    "#         ax2.tick_params(axis='y', labelcolor='orangered')\n",
    "#         # Add a line to the plot if show_line is True\n",
    "#         if show_line:\n",
    "#             ax2.plot(player_df[x], player_df[y_2], color='black', linewidth=0.8, linestyle='--')\n",
    "    \n",
    "#     if show_line:\n",
    "#         ax1.plot(player_df[x], player_df[y], color='black', linewidth=0.8)\n",
    "        \n",
    "        \n",
    "#     ax1.tick_params(axis='y', labelcolor='black')\n",
    "#     ax1.grid()\n",
    "#     plt.title(f\"Player {players[player_ID]}\")\n",
    "#     plt.show()\n",
    "\n",
    "# # Create widgets for playerkey, df_index, x, y, y_2, x_min, and x_max\n",
    "# df_index_widget = widgets.Dropdown(options=[(f\"DataFrame {i}\", i) for i in range(len(dtf_lists))], value=0)\n",
    "# x_widget = widgets.Dropdown(options=list(dtf_lists[0].columns), value=\"time\")\n",
    "# y_widget = widgets.Dropdown(options=list(dtf_lists[0].columns), value=\"percent_return\")\n",
    "# y_2_widget = widgets.Dropdown(options=[None]+list(dtf_lists[0].columns), value=None)\n",
    "# x_min_widget = widgets.FloatText(description=\"x_min\", value=time_min)\n",
    "# x_max_widget = widgets.FloatText(description=\"x_max\", value=time_max)\n",
    "# show_line_widget = widgets.Checkbox(description='Show line', value=False)\n",
    "\n",
    "\n",
    "# # Create a function to update the players_widget based on the selected df_index\n",
    "# def update_players_widget(df_index):\n",
    "#     df = dtf_lists[df_index]\n",
    "#     players = df[\"playerkey\"].unique().tolist()\n",
    "#     player_key_widget.options = [(p, i) for i, p in enumerate(players)]\n",
    "\n",
    "# # Create a players_widget for the initial df_index value\n",
    "# initial_df_index = df_index_widget.value\n",
    "# initial_df = dtf_lists[initial_df_index]\n",
    "# initial_players = initial_df[\"playerkey\"].unique().tolist()\n",
    "# player_key_widget = widgets.Dropdown(options=[], value=None)\n",
    "\n",
    "# # Call update_players_widget with the initial_df_index value to set the options for player_key_widget\n",
    "# update_players_widget(initial_df_index)\n",
    "\n",
    "# # Use interact to call the plot_scatters function with the current widget values\n",
    "# widgets.interact(plot_scatters, player_ID=player_key_widget, df_index=df_index_widget,\n",
    "#                  x=x_widget, y=y_widget, y_2=y_2_widget, x_min=x_min_widget, x_max=x_max_widget,\n",
    "#                  show_line=show_line_widget)"
   ]
  },
  {
   "cell_type": "code",
   "execution_count": null,
   "metadata": {
    "vscode": {
     "languageId": "python"
    }
   },
   "outputs": [],
   "source": [
    "import matplotlib.pyplot as plt\n",
    "import ipywidgets as widgets\n",
    "\n",
    "# Make a list of all the dataframes that are match and slice\n",
    "dtf_lists = [dtf40_match8_10_slice, dtf40_match4_10_slice]\n",
    "\n",
    "# Calculate the max and min values for the 'time' column for each DataFrame\n",
    "time_max = max([df[\"time\"].max() for df in dtf_lists])\n",
    "time_min = min([df[\"time\"].min() for df in dtf_lists])\n",
    "\n",
    "print(time_max, time_min)\n",
    "\n",
    "# Create a scatter plot of the players wins for only player with key 3\n",
    "def plot_scatters(player_ID, df_index, x=\"time\", y=\"percent_return\", y_2=None, x_min=None, x_max=None, show_line=False, shade_area=False):\n",
    "    df = dtf_lists[df_index]\n",
    "    players = df[\"playerkey\"].unique().tolist()\n",
    "    player_df = df[df[\"playerkey\"] == players[player_ID]]\n",
    "    \n",
    "    fig, ax1 = plt.subplots()\n",
    "    ax1.set_xlabel(x)\n",
    "    ax1.set_ylabel(y, color='royalblue')\n",
    "    if x_min is not None and x_max is not None:\n",
    "        player_df = player_df[(player_df[x] >= x_min) & (player_df[x] <= x_max)]\n",
    "    ax1.scatter(x=player_df[x], y=player_df[y], color='royalblue')\n",
    "    \n",
    "    if y_2 is not None:\n",
    "        ax2 = ax1.twinx()\n",
    "        ax2.set_ylabel(y_2, color='r')\n",
    "        if x_min is not None and x_max is not None:\n",
    "            player_df = player_df[(player_df[x] >= x_min) & (player_df[x] <= x_max)]\n",
    "        ax2.scatter(x=player_df[x], y=player_df[y_2], color='orangered', marker='s')\n",
    "        ax2.tick_params(axis='y', labelcolor='orangered')\n",
    "        # Add a line to the plot if show_line is True\n",
    "        if show_line:\n",
    "            ax2.plot(player_df[x], player_df[y_2], color='black', linewidth=0.8, linestyle='--')\n",
    "        if shade_area:\n",
    "            ax2.fill_between(player_df[x], player_df[y_2], color='lightcoral', alpha=0.5)\n",
    "    \n",
    "    if show_line:\n",
    "        ax1.plot(player_df[x], player_df[y], color='black', linewidth=0.8)\n",
    "        \n",
    "    if shade_area:\n",
    "        ax1.fill_between(player_df[x], player_df[y], color='lightblue', alpha=0.5)\n",
    "\n",
    "    ax1.tick_params(axis='y', labelcolor='black')\n",
    "    ax1.grid()\n",
    "    plt.title(f\"Player {players[player_ID]}\")\n",
    "    plt.show()\n",
    "\n",
    "# Create widgets for playerkey, df_index, x, y, y_2, x_min, and x_max\n",
    "df_index_widget = widgets.Dropdown(options=[(f\"DataFrame {i}\", i) for i in range(len(dtf_lists))], value=0)\n",
    "x_widget = widgets.Dropdown(options=list(dtf_lists[0].columns), value=\"time\")\n",
    "y_widget = widgets.Dropdown(options=list(dtf_lists[0].columns), value=\"percent_return\")\n",
    "y_2_widget = widgets.Dropdown(options=[None]+list(dtf_lists[0].columns), value=None)\n",
    "x_min_widget = widgets.FloatText(description=\"x_min\", value=time_min)\n",
    "x_max_widget = widgets.FloatText(description=\"x_max\", value=time_max)\n",
    "show_line_widget = widgets.Checkbox(description='Show line', value=False)\n",
    "shade_area_widget = widgets.Checkbox(description='Shade area', value=False)\n",
    "\n",
    "# Create a function to update the players_widget based on the selected df_index\n",
    "def update_players_widget(df_index):\n",
    "    df = dtf_lists[df_index]\n",
    "    players = df[\"playerkey\"].unique().tolist()\n",
    "    player_key_widget.options = [(p, i) for i, p in enumerate(players)]\n",
    "\n",
    "# Create a players_widget for the initial df_index value\n",
    "initial_df_index = df_index_widget.value\n",
    "initial_df = dtf_lists[initial_df_index]\n",
    "initial_players = initial_df[\"playerkey\"].unique().tolist()\n",
    "player_key_widget = widgets.Dropdown(options=[], value=None)\n",
    "\n",
    "# Call update_players_widget with the initial_df_index value to set the options for player_key_widget\n",
    "update_players_widget(initial_df_index)\n",
    "\n",
    "widgets.interact(plot_scatters, player_ID=player_key_widget, df_index=df_index_widget,\n",
    "                 x=x_widget, y=y_widget, y_2=y_2_widget, x_min=x_min_widget, x_max=x_max_widget,\n",
    "                 show_line=show_line_widget, shade_area=shade_area_widget)"
   ]
  }
 ],
 "metadata": {
  "kernelspec": {
   "display_name": "Python 3 (ipykernel)",
   "language": "python",
   "name": "python3"
  },
  "orig_nbformat": 4,
  "vscode": {
   "interpreter": {
    "hash": "610c699f0cd8c4f129acd9140687fff6866bed0eb8e82f249fc8848b827b628c"
   }
  }
 },
 "nbformat": 4,
 "nbformat_minor": 2
}
