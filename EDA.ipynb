{
 "cells": [
  {
   "attachments": {},
   "cell_type": "markdown",
   "metadata": {},
   "source": [
    "# Exploratory Data Analysis\n",
    "I am using this notebook to learn how gamblers behaviors are similar to those of investors."
   ]
  },
  {
   "attachments": {},
   "cell_type": "markdown",
   "metadata": {},
   "source": [
    "## Upload and Transform Data"
   ]
  },
  {
   "attachments": {},
   "cell_type": "markdown",
   "metadata": {},
   "source": [
    "## Filter Columns and Inspect"
   ]
  },
  {
   "cell_type": "code",
   "execution_count": 75,
   "metadata": {},
   "outputs": [
    {
     "name": "stdout",
     "output_type": "stream",
     "text": [
      "Index(['playercashableamt', 'wageredamt', 'casino_grosswin', 'playerkey',\n",
      "       'slotdenominationname', 'slotthemekey'],\n",
      "      dtype='object')\n",
      "<class 'pandas.core.frame.DataFrame'>\n",
      "RangeIndex: 90274 entries, 0 to 90273\n",
      "Data columns (total 6 columns):\n",
      " #   Column                Non-Null Count  Dtype  \n",
      "---  ------                --------------  -----  \n",
      " 0   playercashableamt     90274 non-null  float64\n",
      " 1   wageredamt            90274 non-null  float64\n",
      " 2   casino_grosswin       90274 non-null  float64\n",
      " 3   playerkey             90274 non-null  int64  \n",
      " 4   slotdenominationname  90274 non-null  object \n",
      " 5   slotthemekey          90274 non-null  int64  \n",
      "dtypes: float64(3), int64(2), object(1)\n",
      "memory usage: 4.1+ MB\n",
      "None\n",
      "98\n"
     ]
    }
   ],
   "source": [
    "import pandas as pd\n",
    "import os\n",
    "\n",
    "# Set working directory\n",
    "path = '/Users/mau/Library/CloudStorage/Dropbox/Mac/Documents/Dissertation/Chapter 2/Data'\n",
    "os.chdir(path)\n",
    "\n",
    "# Load data into a DataFrame\n",
    "dtf = pd.read_parquet(\"slot_data_sample.parquet\")\n",
    "\n",
    "# Select only specific columns\n",
    "filter = ['playercashableamt', 'wageredamt', 'casino_grosswin', 'playerkey',\n",
    "       'slotdenominationname', 'slotthemekey']\n",
    "\n",
    "# Load just specific colums data into a DataFrame\n",
    "df = pd.read_parquet(\"slot_data_sample.parquet\", columns=filter)\n",
    "\n",
    "# Print column names\n",
    "print(df.columns)\n",
    "\n",
    "# Print general information about the DataFrame\n",
    "print(df.info())\n",
    "\n",
    "# Count unique players\n",
    "print(df['playerkey'].nunique())"
   ]
  },
  {
   "attachments": {},
   "cell_type": "markdown",
   "metadata": {},
   "source": [
    "## Calculate Foundamental Variables\n",
    "\n",
    "The following variables were calculated using existing data:\n",
    "* _player_loss_: how much money each player has lost in each gamble.\n",
    "* _player_wins_: equals the amount of money they bet plus how much they won.\n",
    "* _percent_return_: the return in player's bets for each gamble played. \n",
    "\n",
    "$$\\text{percent return} = (\\frac{df[wins] - df[wageredamt]}{df[wageredamt]})*100$$\n",
    "\n",
    "* _playercashableamt_pct_change_: calculates the rate of change of player's outstanding gambling amount. \n",
    "\n",
    "$$\\text{playercashableamt \\% change} = (\\frac{df[playercashableamt_{t+1}] - df[playercashableamt_{t}]}{df[playercashableamt_{t}]})*100$$"
   ]
  },
  {
   "cell_type": "code",
   "execution_count": 76,
   "metadata": {},
   "outputs": [
    {
     "name": "stdout",
     "output_type": "stream",
     "text": [
      "   playercashableamt  wageredamt  casino_grosswin  playerkey  \\\n",
      "0               80.0        10.0             10.0          2   \n",
      "1               70.0        10.0             10.0          2   \n",
      "2               60.0        10.0             10.0          2   \n",
      "3               50.0        10.0            -90.0          2   \n",
      "4              140.0        10.0              0.0          2   \n",
      "\n",
      "  slotdenominationname  slotthemekey  player_loss  player_wins  \\\n",
      "0               $5.00            390        -10.0          0.0   \n",
      "1               $5.00            390        -10.0          0.0   \n",
      "2               $5.00            390        -10.0          0.0   \n",
      "3               $5.00            390         90.0        100.0   \n",
      "4               $5.00            390         -0.0         10.0   \n",
      "\n",
      "   percent_return  playercashableamt_pct_change  \n",
      "0          -100.0                           NaN  \n",
      "1          -100.0                     -0.125000  \n",
      "2          -100.0                     -0.142857  \n",
      "3           900.0                     -0.166667  \n",
      "4             0.0                      1.800000  \n"
     ]
    }
   ],
   "source": [
    "# Crate a new colum that is the inverse of casino_grosswin, named \"player_loss\"\n",
    "df[\"player_loss\"] = df[\"casino_grosswin\"] * -1\n",
    "\n",
    "df['player_wins'] = df['wageredamt'] + df['player_loss']\n",
    "# Calculate percentage return for each gamble and add it as a new column\n",
    "df[\"percent_return\"] = (df[\"player_wins\"] - df[\"wageredamt\"]) / df[\"wageredamt\"] * 100\n",
    "\n",
    "# Calculate the percent rate of change of playerscashableamt per playerkey\n",
    "df[\"playercashableamt_pct_change\"] = df.groupby(\"playerkey\")[\"playercashableamt\"].pct_change()\n",
    "# Print the first 5 rows of the DataFrame\n",
    "print(df.head())"
   ]
  },
  {
   "attachments": {},
   "cell_type": "markdown",
   "metadata": {},
   "source": [
    "## Patterns in Return Stream\n",
    "\n",
    "In this section, I am looking for return stream patterns that are similar to the market returns given to subjects in Saffort et.al 2008 experiemnt. These market returns followed historical returns from the DJIA from 1925 to 1964:\n",
    "\n",
    "$$\\text{\\% return DJIA 1925-1964}: [30.0, 0.3, 28.8, 48.2, -17.2, -33.8, -52.7, -23.1, 66.7, 4.1, 38.5, 24.8, -32.8, 28.1, -2.9, -12.7, -15.4, 7.6, 13.8, 12.1, 26.6,\\\\ -8.1, 2.2, -2.1, 12.9, 17.6, 14.4, 8.4, -3.8, 44.0, 20.8, 2.3, -12.8, 34.0, 16.4, -9.3, 18.7, -10.8, 17.0, 14.0]$$\n",
    "\n",
    "$$\\text{pattern of returns: [1, 1, 1, 1, -1, -1, -1, -1, 1, 1, 1, 1, -1, 1, -1, -1, -1, 1, 1, 1, 1, -1, 1, -1, 1, 1, 1, 1, -1, 1, 1, 1, -1, 1, 1, -1, 1, -1, 1, 1]}$$\n",
    "\n",
    "### Filter Data\n",
    "We need to select players who have at least 40 gambles to be able to compare it to the 40 investing periods of Safford's subjects."
   ]
  },
  {
   "cell_type": "code",
   "execution_count": 77,
   "metadata": {},
   "outputs": [
    {
     "name": "stdout",
     "output_type": "stream",
     "text": [
      "[33, 93, 95, 94, 20, 73, 48, 66, 44, 18, 38, 76, 29, 100, 62, 6, 99, 14, 89, 90, 8, 79, 13, 9, 69, 23, 40, 4, 61, 87, 19, 43, 72, 98, 16, 2, 36, 92, 17, 63, 12, 46, 97, 54, 91, 86, 84, 3, 85, 52, 30, 74, 35, 7, 96, 56, 65, 68, 83, 27, 71, 37, 70, 47, 11, 53, 77, 49, 39, 25, 88, 82, 42, 21, 22, 41, 80, 57, 51, 81, 78, 75, 10]\n",
      "83\n",
      "[55, 5, 50, 34, 64, 31, 45, 32, 58, 24, 59, 67, 26, 28, 15]\n",
      "15\n",
      "(90000, 10)\n"
     ]
    }
   ],
   "source": [
    "# Create a list of players that appear at least 40 times\n",
    "players40 = df[\"playerkey\"].value_counts()[df[\"playerkey\"].value_counts() >= 40].index.tolist()\n",
    "print(players40)\n",
    "print(len(players40))\n",
    "\n",
    "# Create a list of players that appear less than 40 times\n",
    "players40less = df[\"playerkey\"].value_counts()[df[\"playerkey\"].value_counts() < 40].index.tolist()\n",
    "print(players40less)\n",
    "print(len(players40less))\n",
    "\n",
    "# Create a new DataFrame with only the players that appear at least 40 times\n",
    "df40 = df[df[\"playerkey\"].isin(players40)]\n",
    "print(df40.shape)"
   ]
  },
  {
   "attachments": {},
   "cell_type": "markdown",
   "metadata": {},
   "source": [
    "### Patter Recognition\n",
    "Now that we have filter the data, we can procede to find a patter similar to those of Safford's experiemnt. \n",
    "\n",
    "* Difine Pattern to look for.\n",
    "* Create patter variable in our dataframe _sign_\n",
    "* Conduct a hard match.\n",
    "* Conduct a rough match."
   ]
  },
  {
   "cell_type": "code",
   "execution_count": 82,
   "metadata": {},
   "outputs": [
    {
     "name": "stderr",
     "output_type": "stream",
     "text": [
      "/var/folders/vp/1skwx2kd29s4fxnxx7tt9r6w0000gn/T/ipykernel_13628/77239811.py:5: SettingWithCopyWarning: \n",
      "A value is trying to be set on a copy of a slice from a DataFrame.\n",
      "Try using .loc[row_indexer,col_indexer] = value instead\n",
      "\n",
      "See the caveats in the documentation: https://pandas.pydata.org/pandas-docs/stable/user_guide/indexing.html#returning-a-view-versus-a-copy\n",
      "  df40.loc[:, \"sign\"] = df40[\"percent_return\"].apply(lambda x: 1 if x >= 0 else -1)\n",
      "/var/folders/vp/1skwx2kd29s4fxnxx7tt9r6w0000gn/T/ipykernel_13628/77239811.py:8: SettingWithCopyWarning: \n",
      "A value is trying to be set on a copy of a slice from a DataFrame.\n",
      "Try using .loc[row_indexer,col_indexer] = value instead\n",
      "\n",
      "See the caveats in the documentation: https://pandas.pydata.org/pandas-docs/stable/user_guide/indexing.html#returning-a-view-versus-a-copy\n",
      "  df40[\"pattern_match\"] = df40[\"sign\"].rolling(len(pattern)).apply(lambda x: (x == pattern).all())\n"
     ]
    }
   ],
   "source": [
    "# Define pattern to search for\n",
    "pattern = [1, 1, 1, 1, -1, -1, -1, -1, 1, 1, 1, 1, -1, 1, -1, -1, -1, 1, 1, 1, 1, -1, 1, -1, 1, 1, 1, 1, -1, 1, 1, 1, -1, 1, 1, -1, 1, -1, 1, 1]\n",
    "\n",
    "# Convert percent_return column to sign column\n",
    "df40.loc[:, \"sign\"] = df40[\"percent_return\"].apply(lambda x: 1 if x >= 0 else -1)\n",
    "\n",
    "# Use rolling function to search for pattern in sign column\n",
    "df40[\"pattern_match\"] = df40[\"sign\"].rolling(len(pattern)).apply(lambda x: (x == pattern).all())"
   ]
  }
 ],
 "metadata": {
  "kernelspec": {
   "display_name": "Python 3 (ipykernel)",
   "language": "python",
   "name": "python3"
  },
  "language_info": {
   "codemirror_mode": {
    "name": "ipython",
    "version": 3
   },
   "file_extension": ".py",
   "mimetype": "text/x-python",
   "name": "python",
   "nbconvert_exporter": "python",
   "pygments_lexer": "ipython3",
   "version": "3.10.0"
  },
  "orig_nbformat": 4,
  "vscode": {
   "interpreter": {
    "hash": "610c699f0cd8c4f129acd9140687fff6866bed0eb8e82f249fc8848b827b628c"
   }
  }
 },
 "nbformat": 4,
 "nbformat_minor": 2
}
